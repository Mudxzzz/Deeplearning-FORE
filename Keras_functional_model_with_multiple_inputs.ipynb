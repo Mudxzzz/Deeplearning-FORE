{
  "nbformat": 4,
  "nbformat_minor": 0,
  "metadata": {
    "kernelspec": {
      "display_name": "Python 3",
      "language": "python",
      "name": "python3"
    },
    "language_info": {
      "codemirror_mode": {
        "name": "ipython",
        "version": 3
      },
      "file_extension": ".py",
      "mimetype": "text/x-python",
      "name": "python",
      "nbconvert_exporter": "python",
      "pygments_lexer": "ipython3",
      "version": "3.7.3"
    },
    "colab": {
      "name": "Keras functional model with multiple inputs.ipynb",
      "provenance": [],
      "collapsed_sections": [],
      "include_colab_link": true
    }
  },
  "cells": [
    {
      "cell_type": "markdown",
      "metadata": {
        "id": "view-in-github",
        "colab_type": "text"
      },
      "source": [
        "<a href=\"https://colab.research.google.com/github/harnalashok/deeplearning/blob/main/Keras_functional_model_with_multiple_inputs.ipynb\" target=\"_parent\"><img src=\"https://colab.research.google.com/assets/colab-badge.svg\" alt=\"Open In Colab\"/></a>"
      ]
    },
    {
      "cell_type": "code",
      "metadata": {
        "id": "-U3kYoa1YCFK"
      },
      "source": [
        "# Last amended: 12th July, 2019\n",
        "# Myfolder: /home/ashok/Documents/mercari_price_challenge\n",
        "# Ref: https://www.kaggle.com/knowledgegrappler/a-simple-nn-solution-with-keras-0-48611-pl\n",
        "# VM: lubuntu_deeplearning_II\n",
        "#\n",
        "#     Objectives:\n",
        "#                1. Learning functional model of keras\n",
        "#                2. Functional model with multiple inputs\n",
        "#                3. Applying deeplearning to structured tables\n",
        "#                4. Vector conversion of categorical variables\n",
        "#                   as also descriptive text\n"
      ],
      "execution_count": null,
      "outputs": []
    },
    {
      "cell_type": "code",
      "metadata": {
        "_cell_guid": "f49a0842-1c3d-4bee-8b3e-3caf6111bb60",
        "_uuid": "e4561cb64722ffd7adb74a8800f89973bc3fe87a",
        "id": "XDTbAXJGYCFQ"
      },
      "source": [
        "# 1.0 Call libraries\n",
        "# 1.1 Data manipulation libraries\n",
        "import numpy as np\n",
        "import pandas as pd\n",
        "\n",
        "# 1.1 sklearn libraries\n",
        "from sklearn.preprocessing import LabelEncoder, MinMaxScaler, StandardScaler\n",
        "from sklearn.model_selection import train_test_split\n",
        "\n",
        "# 1.2 For plotting NN model\n",
        "#  conda install -c anaconda graphviz\n",
        "#  conda install -c anaconda pydot\n",
        "from skimage import io\n",
        "import pydot\n",
        "\n",
        "# 1.3 Keras model components\n",
        "from tensorflow.keras.models import Model\n",
        "from tensorflow.keras.layers import Input, Dropout, Dense, concatenate, GRU, Embedding, Flatten\n",
        "from tensorflow.keras.callbacks import ModelCheckpoint, Callback, EarlyStopping\n",
        "# 1.3.1 For text (word) to integer transformation\n",
        "from tensorflow.keras.preprocessing.text import Tokenizer\n",
        "# 1.3.2 For making all integer sequences of equal length\n",
        "from tensorflow.keras.preprocessing.sequence import pad_sequences\n",
        "# 1.3.3 Import backend to invoke tensorflow commands\n",
        "from tensorflow.keras import backend as K\n",
        "\n",
        "# 1.4 Plotting libraries\n",
        "import matplotlib.pyplot as plt\n",
        "from tensorflow.keras.utils import plot_model\n",
        "%matplotlib inline \n",
        "\n",
        "# 1.5 Misc\n",
        "import math, time, os"
      ],
      "execution_count": 1,
      "outputs": []
    },
    {
      "cell_type": "code",
      "metadata": {
        "_cell_guid": "17b85633-4dae-4a49-9573-5d5c3b1b9699",
        "_uuid": "56874f4a359241631a1f1e4788da09e7b09182b8",
        "id": "Pns2fIoMYCFR"
      },
      "source": [
        "# 2. Write a function to calculate Root Mean Squared Logarithmic Error (RMSLE)\n",
        "#    Why use RMSLE?\n",
        "#    Ref: https://stats.stackexchange.com/a/110610\n",
        "\n",
        "def rmsle(y, y_pred):\n",
        "    # 2.1 Check if lengths are both arrays are same\n",
        "    assert len(y) == len(y_pred)\n",
        "    # 2.2 Get a list of squared differences of logs\n",
        "    to_sum = [(math.log(y_pred[i] + 1) - math.log(y[i] + 1)) ** 2.0 for i,pred in enumerate(y_pred)]\n",
        "    # 2.3 Sum up all squared differences, take a mean and then square root \n",
        "    return (sum(to_sum) * (1.0/len(y))) ** 0.5\n",
        "    \n",
        "#Source: https://www.kaggle.com/marknagelberg/rmsle-function"
      ],
      "execution_count": 2,
      "outputs": []
    },
    {
      "cell_type": "code",
      "metadata": {
        "colab": {
          "base_uri": "https://localhost:8080/"
        },
        "id": "EKEVrHU5YdXj",
        "outputId": "b74fb0d8-32ab-4adf-982b-99415319a228"
      },
      "source": [
        "from google.colab import drive\n",
        "drive.mount('/gdrive')"
      ],
      "execution_count": 4,
      "outputs": [
        {
          "output_type": "stream",
          "name": "stdout",
          "text": [
            "Drive already mounted at /gdrive; to attempt to forcibly remount, call drive.mount(\"/gdrive\", force_remount=True).\n"
          ]
        }
      ]
    },
    {
      "cell_type": "code",
      "metadata": {
        "id": "VSliMMdjccWU"
      },
      "source": [
        "# 3.1 Set path to train and test data\n",
        "path = \"/gdrive/MyDrive/Colab_data_files/mercari/\"\n"
      ],
      "execution_count": 9,
      "outputs": []
    },
    {
      "cell_type": "code",
      "metadata": {
        "id": "vH8NDMHpcnuJ"
      },
      "source": [
        "# 3.1 Set path to train and test data\n",
        "print(\"Loading data...\")\n",
        "path = \"/home/ashok/.keras/datasets/mercari\" \n",
        "os.chdir(path)"
      ],
      "execution_count": null,
      "outputs": []
    },
    {
      "cell_type": "code",
      "metadata": {
        "_cell_guid": "a76efe2c-34bb-458a-8611-1dcabda65b31",
        "_uuid": "80cd3abaf2d32b2c8133719d9a7bbb977adf91cb",
        "colab": {
          "base_uri": "https://localhost:8080/"
        },
        "id": "GA5MMsT-YCFS",
        "outputId": "f4a8ee09-7995-4cc3-e2ec-1683da3ed4ea"
      },
      "source": [
        "# 3.1 Read datasets\n",
        "print(\"Loading data...\")\n",
        "train = pd.read_table(path+\"train.tsv.zip\")\n",
        "test = pd.read_table(path+\"test.tsv.zip\")\n",
        "\n",
        "print(\"---finished reading---\")"
      ],
      "execution_count": 12,
      "outputs": [
        {
          "output_type": "stream",
          "name": "stdout",
          "text": [
            "Loading data...\n",
            "---finished reading---\n"
          ]
        }
      ]
    },
    {
      "cell_type": "code",
      "metadata": {
        "colab": {
          "base_uri": "https://localhost:8080/"
        },
        "id": "aCjr8vQVYCFT",
        "outputId": "a8581f20-c0f2-4686-cfac-18550bb973b8"
      },
      "source": [
        "# 3.2 Print some information about datasets\n",
        "#     In this data target is 'price'\n",
        "print(\"---\")\n",
        "print(train.shape)\n",
        "print(test.shape)\n",
        "print(\"---\")\n",
        "print(\"train Memory Usage\",sum(train.memory_usage())/10**6)   # In MB\n",
        "print(\"test Memory Usage\", sum(test.memory_usage())/10**6)    # In MB\n",
        "print(\"---\")\n",
        "print(\"train Null columns\",train.isnull().sum())\n",
        "print(\"test Null columns\",train.isnull().sum())\n",
        "\n",
        "# 3.3 All columns but 'price' and shipping are categorical\n",
        "train.dtypes\n",
        "test.dtypes\n",
        "train.columns.values"
      ],
      "execution_count": 13,
      "outputs": [
        {
          "output_type": "stream",
          "name": "stdout",
          "text": [
            "---\n",
            "(1482535, 8)\n",
            "(693359, 7)\n",
            "---\n",
            "train Memory Usage 94.882368\n",
            "test Memory Usage 38.828232\n",
            "---\n",
            "train Null columns train_id                  0\n",
            "name                      0\n",
            "item_condition_id         0\n",
            "category_name          6327\n",
            "brand_name           632682\n",
            "price                     0\n",
            "shipping                  0\n",
            "item_description          4\n",
            "dtype: int64\n",
            "test Null columns train_id                  0\n",
            "name                      0\n",
            "item_condition_id         0\n",
            "category_name          6327\n",
            "brand_name           632682\n",
            "price                     0\n",
            "shipping                  0\n",
            "item_description          4\n",
            "dtype: int64\n"
          ]
        },
        {
          "output_type": "execute_result",
          "data": {
            "text/plain": [
              "array(['train_id', 'name', 'item_condition_id', 'category_name',\n",
              "       'brand_name', 'price', 'shipping', 'item_description'],\n",
              "      dtype=object)"
            ]
          },
          "metadata": {},
          "execution_count": 13
        }
      ]
    },
    {
      "cell_type": "code",
      "metadata": {
        "_cell_guid": "4e506bee-5541-4879-aaea-159dee4416b8",
        "_uuid": "967a5f2b26862be11cdae8cb0fb7402fd486135c",
        "colab": {
          "base_uri": "https://localhost:8080/",
          "height": 143
        },
        "id": "Ln5BDHHyYCFU",
        "outputId": "04d8a335-b9c2-4f8e-faa0-ca7a1a209247"
      },
      "source": [
        "# 4.0 Fill missing values\n",
        "#     Define a function to fill missing values\n",
        "#     We use pandas methods df.fillna()\n",
        "#     Variables: category_name, brand_name, item_description\n",
        "def fill_missing(dataset):\n",
        "    dataset.category_name.fillna(value=\"missing\", inplace=True)\n",
        "    dataset.brand_name.fillna(value=\"missing\", inplace=True)\n",
        "    dataset.item_description.fillna(value=\"missing\", inplace=True)\n",
        "    return (dataset)\n",
        "\n",
        "# 4.1 Fill missing values now in train and test\n",
        "train = fill_missing(train)\n",
        "test = fill_missing(test)\n",
        "\n",
        "# 4.2 Check if any value is still missing\n",
        "train.isnull().sum()\n",
        "test.isnull().sum()\n",
        "\n",
        "# 4.3 Look at datasets now\n",
        "train.head(3)\n",
        "test.head(3)"
      ],
      "execution_count": 14,
      "outputs": [
        {
          "output_type": "execute_result",
          "data": {
            "text/html": [
              "<div>\n",
              "<style scoped>\n",
              "    .dataframe tbody tr th:only-of-type {\n",
              "        vertical-align: middle;\n",
              "    }\n",
              "\n",
              "    .dataframe tbody tr th {\n",
              "        vertical-align: top;\n",
              "    }\n",
              "\n",
              "    .dataframe thead th {\n",
              "        text-align: right;\n",
              "    }\n",
              "</style>\n",
              "<table border=\"1\" class=\"dataframe\">\n",
              "  <thead>\n",
              "    <tr style=\"text-align: right;\">\n",
              "      <th></th>\n",
              "      <th>test_id</th>\n",
              "      <th>name</th>\n",
              "      <th>item_condition_id</th>\n",
              "      <th>category_name</th>\n",
              "      <th>brand_name</th>\n",
              "      <th>shipping</th>\n",
              "      <th>item_description</th>\n",
              "    </tr>\n",
              "  </thead>\n",
              "  <tbody>\n",
              "    <tr>\n",
              "      <th>0</th>\n",
              "      <td>0</td>\n",
              "      <td>Breast cancer \"I fight like a girl\" ring</td>\n",
              "      <td>1</td>\n",
              "      <td>Women/Jewelry/Rings</td>\n",
              "      <td>missing</td>\n",
              "      <td>1</td>\n",
              "      <td>Size 7</td>\n",
              "    </tr>\n",
              "    <tr>\n",
              "      <th>1</th>\n",
              "      <td>1</td>\n",
              "      <td>25 pcs NEW 7.5\"x12\" Kraft Bubble Mailers</td>\n",
              "      <td>1</td>\n",
              "      <td>Other/Office supplies/Shipping Supplies</td>\n",
              "      <td>missing</td>\n",
              "      <td>1</td>\n",
              "      <td>25 pcs NEW 7.5\"x12\" Kraft Bubble Mailers Lined...</td>\n",
              "    </tr>\n",
              "    <tr>\n",
              "      <th>2</th>\n",
              "      <td>2</td>\n",
              "      <td>Coach bag</td>\n",
              "      <td>1</td>\n",
              "      <td>Vintage &amp; Collectibles/Bags and Purses/Handbag</td>\n",
              "      <td>Coach</td>\n",
              "      <td>1</td>\n",
              "      <td>Brand new coach bag. Bought for [rm] at a Coac...</td>\n",
              "    </tr>\n",
              "  </tbody>\n",
              "</table>\n",
              "</div>"
            ],
            "text/plain": [
              "   test_id  ...                                   item_description\n",
              "0        0  ...                                             Size 7\n",
              "1        1  ...  25 pcs NEW 7.5\"x12\" Kraft Bubble Mailers Lined...\n",
              "2        2  ...  Brand new coach bag. Bought for [rm] at a Coac...\n",
              "\n",
              "[3 rows x 7 columns]"
            ]
          },
          "metadata": {},
          "execution_count": 14
        }
      ]
    },
    {
      "cell_type": "code",
      "metadata": {
        "colab": {
          "base_uri": "https://localhost:8080/"
        },
        "id": "LSXuIqXZYCFV",
        "outputId": "df9742d3-ed8c-4637-ca05-827e6150114b"
      },
      "source": [
        "# 4.4 Label Encode categorical values\n",
        "#     Two columns: category_name and brand_name\n",
        "\n",
        "# 4.4.1 Look at category_name data\n",
        "train.category_name.values.shape        # 1D (1482535,)\n",
        "test.category_name.values.shape         # 1D (693359,)\n",
        "\n",
        "# 4.4.2 Merge category_name data into one dimensional array\n",
        "catname_array = np.hstack([train.category_name.values, test.category_name.values])\n",
        "# 4.4.3 Also merge brand_name data into one dimensional array\n",
        "brname_array = np.hstack([train.brand_name.values, test.brand_name.values])\n",
        "\n",
        "# 4.4.4 So final shapes:\n",
        "catname_array.shape        # 1D array, (2175894,)\n",
        "brname_array.shape         # 1D array, (2175894,)\n",
        "\n",
        "# 4.4.5 And some values\n",
        "catname_array[:3]\n",
        "brname_array[:3]"
      ],
      "execution_count": 15,
      "outputs": [
        {
          "output_type": "execute_result",
          "data": {
            "text/plain": [
              "array(['missing', 'Razer', 'Target'], dtype=object)"
            ]
          },
          "metadata": {},
          "execution_count": 15
        }
      ]
    },
    {
      "cell_type": "code",
      "metadata": {
        "_cell_guid": "204de9ca-7ea5-481b-9039-743bbab1084f",
        "_uuid": "cf9985161bcd94612b1359177e23124efd3410cb",
        "colab": {
          "base_uri": "https://localhost:8080/",
          "height": 143
        },
        "id": "SKvg6Q6cYCFV",
        "outputId": "cfee27c9-92b6-4bf9-85d6-ef40a6d737b8"
      },
      "source": [
        "# 5.0 Label or integer encode each category and brand name\n",
        "\n",
        "# 5.1 Instantiate object for category name transformation\n",
        "le = LabelEncoder()\n",
        "# 5.2 Training first\n",
        "le.fit(catname_array)\n",
        "# 5.3 Next transformation\n",
        "train.category_name = le.transform(train.category_name.values)\n",
        "test.category_name = le.transform(test.category_name.values)\n",
        "\n",
        "# 5.4 Instantiate another object for brand name transformation\n",
        "le = LabelEncoder()\n",
        "# 5.5 fit and transform\n",
        "le.fit(brname_array)\n",
        "train.brand_name = le.transform(train.brand_name.values)\n",
        "test.brand_name = le.transform(test.brand_name.values)\n",
        "\n",
        "# 5.6 Delete objects not needed\n",
        "del le, catname_array, brname_array\n",
        "\n",
        "# 5.7 Finally look at transformed data\n",
        "train.head(3)\n",
        "test.head(3)\n"
      ],
      "execution_count": 16,
      "outputs": [
        {
          "output_type": "execute_result",
          "data": {
            "text/html": [
              "<div>\n",
              "<style scoped>\n",
              "    .dataframe tbody tr th:only-of-type {\n",
              "        vertical-align: middle;\n",
              "    }\n",
              "\n",
              "    .dataframe tbody tr th {\n",
              "        vertical-align: top;\n",
              "    }\n",
              "\n",
              "    .dataframe thead th {\n",
              "        text-align: right;\n",
              "    }\n",
              "</style>\n",
              "<table border=\"1\" class=\"dataframe\">\n",
              "  <thead>\n",
              "    <tr style=\"text-align: right;\">\n",
              "      <th></th>\n",
              "      <th>test_id</th>\n",
              "      <th>name</th>\n",
              "      <th>item_condition_id</th>\n",
              "      <th>category_name</th>\n",
              "      <th>brand_name</th>\n",
              "      <th>shipping</th>\n",
              "      <th>item_description</th>\n",
              "    </tr>\n",
              "  </thead>\n",
              "  <tbody>\n",
              "    <tr>\n",
              "      <th>0</th>\n",
              "      <td>0</td>\n",
              "      <td>Breast cancer \"I fight like a girl\" ring</td>\n",
              "      <td>1</td>\n",
              "      <td>1205</td>\n",
              "      <td>5265</td>\n",
              "      <td>1</td>\n",
              "      <td>Size 7</td>\n",
              "    </tr>\n",
              "    <tr>\n",
              "      <th>1</th>\n",
              "      <td>1</td>\n",
              "      <td>25 pcs NEW 7.5\"x12\" Kraft Bubble Mailers</td>\n",
              "      <td>1</td>\n",
              "      <td>899</td>\n",
              "      <td>5265</td>\n",
              "      <td>1</td>\n",
              "      <td>25 pcs NEW 7.5\"x12\" Kraft Bubble Mailers Lined...</td>\n",
              "    </tr>\n",
              "    <tr>\n",
              "      <th>2</th>\n",
              "      <td>2</td>\n",
              "      <td>Coach bag</td>\n",
              "      <td>1</td>\n",
              "      <td>1000</td>\n",
              "      <td>1094</td>\n",
              "      <td>1</td>\n",
              "      <td>Brand new coach bag. Bought for [rm] at a Coac...</td>\n",
              "    </tr>\n",
              "  </tbody>\n",
              "</table>\n",
              "</div>"
            ],
            "text/plain": [
              "   test_id  ...                                   item_description\n",
              "0        0  ...                                             Size 7\n",
              "1        1  ...  25 pcs NEW 7.5\"x12\" Kraft Bubble Mailers Lined...\n",
              "2        2  ...  Brand new coach bag. Bought for [rm] at a Coac...\n",
              "\n",
              "[3 rows x 7 columns]"
            ]
          },
          "metadata": {},
          "execution_count": 16
        }
      ]
    },
    {
      "cell_type": "code",
      "metadata": {
        "colab": {
          "base_uri": "https://localhost:8080/"
        },
        "id": "U-MPzSZ6YCFW",
        "outputId": "e96e8d92-fc7a-4001-c9fe-b89163579604"
      },
      "source": [
        "# 6. Vectorize into integers text data\n",
        "#    Two columns: item_description, name\n",
        "\n",
        "# 6.1 We assume that words in 'item_description' and 'name'\n",
        "#     columns are same or iterchangeable\n",
        "\n",
        "# 6.2 Stack two columns, item_Description and name, as arrays, end-to-end in one-dimensional array\n",
        "#     We could also have stacked here: test.item_description.values, test.name.values\n",
        "raw_text = np.hstack([train.item_description.values, train.name.values, test.item_description.values, test.name.values])\n",
        "\n",
        "# 6.3 Train tokenizer\n",
        "start = time.time()\n",
        "tok_raw = Tokenizer()           # Create Tokenizer() object\n",
        "tok_raw.fit_on_texts(raw_text)  # Train on text. No transformation as yet\n",
        "end = time.time()               # Takes 2 minutes\n",
        "print(\"...Tokenization Learning finished...\", (end-start)/60, \"minutes\")"
      ],
      "execution_count": 17,
      "outputs": [
        {
          "output_type": "stream",
          "name": "stdout",
          "text": [
            "...Tokenization Learning finished... 1.685224715868632 minutes\n"
          ]
        }
      ]
    },
    {
      "cell_type": "code",
      "metadata": {
        "colab": {
          "base_uri": "https://localhost:8080/",
          "height": 253
        },
        "id": "Rzf8nTLkYCFW",
        "outputId": "05520e21-2e78-474a-9484-7ae1011fcc0f"
      },
      "source": [
        "# 7. Transform 'item_description' to integer sequences\n",
        "\n",
        "# 7.1\n",
        "print(\"Transforming of text to integer seq...for column, 'seq_item_desc'\")\n",
        "print(\"Transform train first to integer sequences...\")\n",
        "train[\"seq_item_description\"] = tok_raw.texts_to_sequences(train.item_description.values)\n",
        "\n",
        "# 7.2\n",
        "print(\"Transform test, next, to integer sequences...\")\n",
        "test[\"seq_item_description\"] = tok_raw.texts_to_sequences(test.item_description.values)\n",
        "print(\"-----\")\n",
        "\n",
        "# 7.3 Check\n",
        "train.head(3)\n",
        "test.head(3)"
      ],
      "execution_count": 18,
      "outputs": [
        {
          "output_type": "stream",
          "name": "stdout",
          "text": [
            "Transforming of text to integer seq...for column, 'seq_item_desc'\n",
            "Transform train first to integer sequences...\n",
            "Transform test, next, to integer sequences...\n",
            "-----\n"
          ]
        },
        {
          "output_type": "execute_result",
          "data": {
            "text/html": [
              "<div>\n",
              "<style scoped>\n",
              "    .dataframe tbody tr th:only-of-type {\n",
              "        vertical-align: middle;\n",
              "    }\n",
              "\n",
              "    .dataframe tbody tr th {\n",
              "        vertical-align: top;\n",
              "    }\n",
              "\n",
              "    .dataframe thead th {\n",
              "        text-align: right;\n",
              "    }\n",
              "</style>\n",
              "<table border=\"1\" class=\"dataframe\">\n",
              "  <thead>\n",
              "    <tr style=\"text-align: right;\">\n",
              "      <th></th>\n",
              "      <th>test_id</th>\n",
              "      <th>name</th>\n",
              "      <th>item_condition_id</th>\n",
              "      <th>category_name</th>\n",
              "      <th>brand_name</th>\n",
              "      <th>shipping</th>\n",
              "      <th>item_description</th>\n",
              "      <th>seq_item_description</th>\n",
              "    </tr>\n",
              "  </thead>\n",
              "  <tbody>\n",
              "    <tr>\n",
              "      <th>0</th>\n",
              "      <td>0</td>\n",
              "      <td>Breast cancer \"I fight like a girl\" ring</td>\n",
              "      <td>1</td>\n",
              "      <td>1205</td>\n",
              "      <td>5265</td>\n",
              "      <td>1</td>\n",
              "      <td>Size 7</td>\n",
              "      <td>[6, 64]</td>\n",
              "    </tr>\n",
              "    <tr>\n",
              "      <th>1</th>\n",
              "      <td>1</td>\n",
              "      <td>25 pcs NEW 7.5\"x12\" Kraft Bubble Mailers</td>\n",
              "      <td>1</td>\n",
              "      <td>899</td>\n",
              "      <td>5265</td>\n",
              "      <td>1</td>\n",
              "      <td>25 pcs NEW 7.5\"x12\" Kraft Bubble Mailers Lined...</td>\n",
              "      <td>[439, 802, 5, 64, 34, 9040, 5191, 616, 1024, 7...</td>\n",
              "    </tr>\n",
              "    <tr>\n",
              "      <th>2</th>\n",
              "      <td>2</td>\n",
              "      <td>Coach bag</td>\n",
              "      <td>1</td>\n",
              "      <td>1000</td>\n",
              "      <td>1094</td>\n",
              "      <td>1</td>\n",
              "      <td>Brand new coach bag. Bought for [rm] at a Coac...</td>\n",
              "      <td>[16, 5, 315, 101, 201, 3, 21, 107, 4, 315, 3689]</td>\n",
              "    </tr>\n",
              "  </tbody>\n",
              "</table>\n",
              "</div>"
            ],
            "text/plain": [
              "   test_id  ...                               seq_item_description\n",
              "0        0  ...                                            [6, 64]\n",
              "1        1  ...  [439, 802, 5, 64, 34, 9040, 5191, 616, 1024, 7...\n",
              "2        2  ...   [16, 5, 315, 101, 201, 3, 21, 107, 4, 315, 3689]\n",
              "\n",
              "[3 rows x 8 columns]"
            ]
          },
          "metadata": {},
          "execution_count": 18
        }
      ]
    },
    {
      "cell_type": "code",
      "metadata": {
        "_cell_guid": "b122ac7a-c203-463f-aa92-b843b039fce3",
        "_uuid": "ff62bf6d3681b84510026bfa3514963513f2e8f2",
        "colab": {
          "base_uri": "https://localhost:8080/",
          "height": 270
        },
        "id": "lQtKODLBYCFX",
        "outputId": "158ffe47-d9e9-433d-b0dd-1670fdc2ff88"
      },
      "source": [
        "# 8.0 Transform 'name' to integer sequences\n",
        "\n",
        "# 8.1\n",
        "print(\"Transforming of text to integer seq...for column, 'name'\")\n",
        "print(\"Transform train first..\")\n",
        "train[\"seq_name\"] = tok_raw.texts_to_sequences(train.name.values)\n",
        "\n",
        "# 8.2\n",
        "print(\"Transform test next to integer seq..\")\n",
        "test[\"seq_name\"] = tok_raw.texts_to_sequences(test.name.values)\n",
        "print(\"Done... print Ist few rows. Check new columns seq_name\")\n",
        "\n",
        "# 8.3\n",
        "train.head(3)\n",
        "test.head(3)"
      ],
      "execution_count": 19,
      "outputs": [
        {
          "output_type": "stream",
          "name": "stdout",
          "text": [
            "Transforming of text to integer seq...for column, 'name'\n",
            "Transform train first..\n",
            "Transform test next to integer seq..\n",
            "Done... print Ist few rows. Check new columns seq_name\n"
          ]
        },
        {
          "output_type": "execute_result",
          "data": {
            "text/html": [
              "<div>\n",
              "<style scoped>\n",
              "    .dataframe tbody tr th:only-of-type {\n",
              "        vertical-align: middle;\n",
              "    }\n",
              "\n",
              "    .dataframe tbody tr th {\n",
              "        vertical-align: top;\n",
              "    }\n",
              "\n",
              "    .dataframe thead th {\n",
              "        text-align: right;\n",
              "    }\n",
              "</style>\n",
              "<table border=\"1\" class=\"dataframe\">\n",
              "  <thead>\n",
              "    <tr style=\"text-align: right;\">\n",
              "      <th></th>\n",
              "      <th>test_id</th>\n",
              "      <th>name</th>\n",
              "      <th>item_condition_id</th>\n",
              "      <th>category_name</th>\n",
              "      <th>brand_name</th>\n",
              "      <th>shipping</th>\n",
              "      <th>item_description</th>\n",
              "      <th>seq_item_description</th>\n",
              "      <th>seq_name</th>\n",
              "    </tr>\n",
              "  </thead>\n",
              "  <tbody>\n",
              "    <tr>\n",
              "      <th>0</th>\n",
              "      <td>0</td>\n",
              "      <td>Breast cancer \"I fight like a girl\" ring</td>\n",
              "      <td>1</td>\n",
              "      <td>1205</td>\n",
              "      <td>5265</td>\n",
              "      <td>1</td>\n",
              "      <td>Size 7</td>\n",
              "      <td>[6, 64]</td>\n",
              "      <td>[1790, 3476, 15, 5552, 51, 4, 266, 263]</td>\n",
              "    </tr>\n",
              "    <tr>\n",
              "      <th>1</th>\n",
              "      <td>1</td>\n",
              "      <td>25 pcs NEW 7.5\"x12\" Kraft Bubble Mailers</td>\n",
              "      <td>1</td>\n",
              "      <td>899</td>\n",
              "      <td>5265</td>\n",
              "      <td>1</td>\n",
              "      <td>25 pcs NEW 7.5\"x12\" Kraft Bubble Mailers Lined...</td>\n",
              "      <td>[439, 802, 5, 64, 34, 9040, 5191, 616, 1024, 7...</td>\n",
              "      <td>[439, 802, 5, 64, 34, 9040, 5191, 616, 1024]</td>\n",
              "    </tr>\n",
              "    <tr>\n",
              "      <th>2</th>\n",
              "      <td>2</td>\n",
              "      <td>Coach bag</td>\n",
              "      <td>1</td>\n",
              "      <td>1000</td>\n",
              "      <td>1094</td>\n",
              "      <td>1</td>\n",
              "      <td>Brand new coach bag. Bought for [rm] at a Coac...</td>\n",
              "      <td>[16, 5, 315, 101, 201, 3, 21, 107, 4, 315, 3689]</td>\n",
              "      <td>[315, 101]</td>\n",
              "    </tr>\n",
              "  </tbody>\n",
              "</table>\n",
              "</div>"
            ],
            "text/plain": [
              "   test_id  ...                                      seq_name\n",
              "0        0  ...       [1790, 3476, 15, 5552, 51, 4, 266, 263]\n",
              "1        1  ...  [439, 802, 5, 64, 34, 9040, 5191, 616, 1024]\n",
              "2        2  ...                                    [315, 101]\n",
              "\n",
              "[3 rows x 9 columns]"
            ]
          },
          "metadata": {},
          "execution_count": 19
        }
      ]
    },
    {
      "cell_type": "code",
      "metadata": {
        "colab": {
          "base_uri": "https://localhost:8080/"
        },
        "id": "ZYmxwEggYCFY",
        "outputId": "a36e274d-3300-48aa-d7d7-dedafd9bb7e5"
      },
      "source": [
        "# 8.4 Here are data samples of transformed columns\n",
        "train.seq_name[:10]\n",
        "# 8.4.1 See below how max() behaves\n",
        "train.seq_name[:10].max()\n"
      ],
      "execution_count": 20,
      "outputs": [
        {
          "output_type": "execute_result",
          "data": {
            "text/plain": [
              "[11404, 27915, 17355, 2667]"
            ]
          },
          "metadata": {},
          "execution_count": 20
        }
      ]
    },
    {
      "cell_type": "code",
      "metadata": {
        "id": "lXq8b3nkYCFY"
      },
      "source": [
        "# 8.5 Here are data samples of seq_item_desc\n",
        "train.seq_item_description[:10]\n",
        "# 8.5.1 See below how max behaves\n",
        "train.seq_item_description[:10].max()\n"
      ],
      "execution_count": null,
      "outputs": []
    },
    {
      "cell_type": "code",
      "metadata": {
        "colab": {
          "base_uri": "https://localhost:8080/"
        },
        "id": "RCarCk8iYCFZ",
        "outputId": "59920eb6-c44e-4c69-c686-4dd86e376f8e"
      },
      "source": [
        "# 8.6 Behaviour of method: Series.max()\n",
        "#     Create a sample one-column dataframe\n",
        "t = pd.DataFrame({'a' : [[2,2],[2,3],[3,5], [4,0],[3,10]]})\n",
        "t\n",
        "# Returns that row which has first value as maximum\n",
        "#  When for two cases, 1st values are equal then IInd value is seen\n",
        "t.a.max()"
      ],
      "execution_count": 22,
      "outputs": [
        {
          "output_type": "execute_result",
          "data": {
            "text/plain": [
              "[4, 0]"
            ]
          },
          "metadata": {},
          "execution_count": 22
        }
      ]
    },
    {
      "cell_type": "code",
      "metadata": {
        "_cell_guid": "9da5165e-0692-4c1a-a5e7-3fb1c6c1a4fd",
        "_uuid": "335a3d95444a2602598aebbfa6de0a8a3f5a1814",
        "colab": {
          "base_uri": "https://localhost:8080/"
        },
        "id": "nRfgmH0gYCFZ",
        "outputId": "1655ee30-401d-46f6-c274-6866a0200524"
      },
      "source": [
        "# 9   Analysing sequence lengths in word2vec of two columns\n",
        "#    Two columns: item_description, name\n",
        "\n",
        "# 9.1 Get maximum length integer sequences in column, seq_name\n",
        "max_name_seq = np.max([\n",
        "                       np.max(train.seq_name.apply(lambda x: len(x))),\n",
        "                       np.max(test.seq_name.apply(lambda x: len(x)))\n",
        "                       ]\n",
        "                      )\n",
        "\n",
        "# 9.2 Get maximum length of integer sequences in column, seq_item_description\n",
        "max_seq_item_description = np.max([\n",
        "                                   np.max(train.seq_item_description.apply(lambda x: len(x))),\n",
        "                                   np.max(test.seq_item_description.apply(lambda x: len(x)))\n",
        "                                   ]\n",
        "                                  )\n",
        "\n",
        "print(\"max name seq length\"+str(max_name_seq))\n",
        "print(\"max item desc seq length\"+str(max_seq_item_description))"
      ],
      "execution_count": 23,
      "outputs": [
        {
          "output_type": "stream",
          "name": "stdout",
          "text": [
            "max name seq length17\n",
            "max item desc seq length269\n"
          ]
        }
      ]
    },
    {
      "cell_type": "code",
      "metadata": {
        "_cell_guid": "3e87bf13-093e-42a3-bef9-ed10322944df",
        "_uuid": "32ffa5a96deaeb6214469a2594475f7b5a15bc92",
        "colab": {
          "base_uri": "https://localhost:8080/",
          "height": 284
        },
        "id": "V4eAYbFYYCFZ",
        "outputId": "e7e592b7-90ec-4998-d7ea-d1f0b9faaf7d"
      },
      "source": [
        "# 9.3 Get histogram of distribution of seq_name lengths\n",
        "#     Histogram can be used to decide where to cut-off max lengths\n",
        "train.seq_name.apply(lambda x: len(x)).hist()"
      ],
      "execution_count": 24,
      "outputs": [
        {
          "output_type": "execute_result",
          "data": {
            "text/plain": [
              "<matplotlib.axes._subplots.AxesSubplot at 0x7fc93d0e2b50>"
            ]
          },
          "metadata": {},
          "execution_count": 24
        },
        {
          "output_type": "display_data",
          "data": {
            "image/png": "[encoded data removed]",
            "text/plain": [
              "<Figure size 432x288 with 1 Axes>"
            ]
          },
          "metadata": {
            "needs_background": "light"
          }
        }
      ]
    },
    {
      "cell_type": "code",
      "metadata": {
        "_cell_guid": "09349ced-fcac-4406-8876-a00fc269218d",
        "_uuid": "bdfde374cbe6f2edc9c453f91ef90c757c8d8f06",
        "id": "-HuPx7UfYCFa"
      },
      "source": [
        "# 9.3 Get histogram of distribution of seq_item_description \n",
        "#     Histogram can be used to decide where to cut-off max lengths\n",
        "train.seq_item_description.apply(lambda x: len(x)).hist()"
      ],
      "execution_count": null,
      "outputs": []
    },
    {
      "cell_type": "code",
      "metadata": {
        "id": "WICZsGm2YCFa"
      },
      "source": [
        "# 10 EMBEDDINGS MAX VALUES\n",
        "# 10.1 Based on the histograms, we select the max lengths\n",
        "#      OR timesteps in RNN for two integer sequences, as:\n",
        "\n",
        "MAX_NAME_SEQ = 10\n",
        "MAX_ITEM_DESC_SEQ = 75"
      ],
      "execution_count": 25,
      "outputs": []
    },
    {
      "cell_type": "code",
      "metadata": {
        "_cell_guid": "e1b9db3a-63de-4bd9-9bad-2db899176053",
        "_uuid": "4cae7d35e8b44e04df93c9f8084ec67ef40a1828",
        "colab": {
          "base_uri": "https://localhost:8080/"
        },
        "id": "WFEW-ifbYCFb",
        "outputId": "1e217f7e-656f-4ff6-8479-a15a67bd1edf"
      },
      "source": [
        "# 10.2 Vocabulary sizes of all text-sequences and all label-encoded\n",
        "#      caregories\n",
        "#      This would be max integer value used in any column.\n",
        "#      Because conversion to integer sequence starts from 1 \n",
        "\n",
        "\n",
        "# 10.2.1 Columns seq_name and seq_item_description\n",
        "MAX_TEXT = np.max([np.max(train.seq_name.max()),\n",
        "                   np.max(test.seq_name.max()),\n",
        "                   np.max(train.seq_item_description.max()),\n",
        "                   np.max(test.seq_item_description.max())\n",
        "                  ]\n",
        "                 ) + 2\n",
        "\n",
        "print(\"Maximum integer used in MAX_TEXT: \", MAX_TEXT)\n",
        "\n",
        "# 10.2.2 Column category_name (transformed by label encoder)\n",
        "MAX_CATEGORY = np.max([\n",
        "                       train.category_name.max(),\n",
        "                       test.category_name.max()]\n",
        "                     ) + 1\n",
        "\n",
        "\n",
        "print(\"Maximum integer used in MAX_CATEGORY: \", MAX_CATEGORY)\n",
        "\n",
        "# 10.2.3 Column brand_name (transformed by label encoder)\n",
        "MAX_BRAND =   np.max([\n",
        "                      train.brand_name.max(),\n",
        "                      test.brand_name.max()\n",
        "                     ]\n",
        "                    ) + 1\n",
        "\n",
        "print(\"Maximum integer used in MAX_BRAND: \", MAX_BRAND)\n",
        "\n",
        "# 10.2.3 Column, item_condition, already in integer format\n",
        "MAX_CONDITION = np.max([\n",
        "                        train.item_condition_id.max(),\n",
        "                        test.item_condition_id.max()\n",
        "                        ]\n",
        "                       ) + 1\n",
        "\n",
        "print(\"Maximum integer used in MAX_CONDITION: \", MAX_CONDITION)"
      ],
      "execution_count": 26,
      "outputs": [
        {
          "output_type": "stream",
          "name": "stdout",
          "text": [
            "Maximum integer used in MAX_TEXT:  321998\n",
            "Maximum integer used in MAX_CATEGORY:  1311\n",
            "Maximum integer used in MAX_BRAND:  5290\n",
            "Maximum integer used in MAX_CONDITION:  6\n"
          ]
        }
      ]
    },
    {
      "cell_type": "code",
      "metadata": {
        "_cell_guid": "cb88f6b3-44ab-4ab4-831a-6a3ebdd0e10d",
        "_uuid": "53474065f08e5d469e4a65bd272c0b316ae26b1e",
        "colab": {
          "base_uri": "https://localhost:8080/",
          "height": 319
        },
        "id": "C0riZbOeYCFb",
        "outputId": "099849cd-e7f1-4a13-e3e7-c533db65d579"
      },
      "source": [
        "# 11 Scale target variable, 'price': \n",
        "#     First take log and then scale log\n",
        "\n",
        "# 11.1 First take a log of target. Why?\n",
        "#      Make target values symmetric\n",
        "train[\"target\"] = np.log( train.price + 1)   # Add 1 to escape from -ve infinity\n",
        "\n",
        "# 11.2 Then scale log values using min-max scaler between -1 and 1\n",
        "#      Why?\n",
        "#      Scaling between (-1,1) is helpful in NN modeling\n",
        "target_scaler = MinMaxScaler(feature_range=(-1, 1))\n",
        "train[\"target\"] = target_scaler.fit_transform(train.target.values.reshape(-1,1))\n",
        "\n",
        "# 11.3 Display histogram of transformed target\n",
        "#      It is quite symmetric\n",
        "pd.DataFrame(train.target).hist()"
      ],
      "execution_count": 27,
      "outputs": [
        {
          "output_type": "execute_result",
          "data": {
            "text/plain": [
              "array([[<matplotlib.axes._subplots.AxesSubplot object at 0x7fc93c90fb90>]],\n",
              "      dtype=object)"
            ]
          },
          "metadata": {},
          "execution_count": 27
        },
        {
          "output_type": "display_data",
          "data": {
            "image/png": "[encoded data removed]",
            "text/plain": [
              "<Figure size 432x288 with 1 Axes>"
            ]
          },
          "metadata": {
            "needs_background": "light"
          }
        }
      ]
    },
    {
      "cell_type": "code",
      "metadata": {
        "colab": {
          "base_uri": "https://localhost:8080/"
        },
        "id": "Zy_yUOmxYCFb",
        "outputId": "1d048cbc-8a06-458d-d967-8edc210cba61"
      },
      "source": [
        "# 12 Create an arbitrary column. Why?\n",
        "#    We want two numerical columns for better demonstration of our\n",
        "#    proposed architecture. Otherwise, this column is NOT at all needed\n",
        "\n",
        "# 12.1 Add some small random values to shipping column and create a new column\n",
        "train['ship_rand'] = train.shipping + np.random.random(size = train.shipping[0])\n",
        "train.head()\n",
        "\n",
        "# 12.2\n",
        "test['ship_rand'] = test.shipping + np.random.random(size = test.shipping[0])\n",
        "test.head()\n",
        "\n",
        "# 12.3\n",
        "train.shape    # (1482535, 12)\n",
        "test.shape     # (693359, 10)   Missing 'price' and its transformed column 'target'\n"
      ],
      "execution_count": 28,
      "outputs": [
        {
          "output_type": "execute_result",
          "data": {
            "text/plain": [
              "(693359, 10)"
            ]
          },
          "metadata": {},
          "execution_count": 28
        }
      ]
    },
    {
      "cell_type": "code",
      "metadata": {
        "_cell_guid": "abf9cd11-efa2-4a2c-b844-cdf2fc23bbd8",
        "_uuid": "38f7f125582a88eba6410d93306df119e454db82",
        "colab": {
          "base_uri": "https://localhost:8080/"
        },
        "id": "HynLIMN3YCFc",
        "outputId": "a56e88e5-b1a9-4dac-d12b-9ff6b64b8905"
      },
      "source": [
        "# 13. Split into train and test\n",
        "#     Note that we do not have 'y' here. \n",
        "#     Why? Because 'price' is a continuous variable\n",
        "\n",
        "# 13.1 Just 'train' will be split into two parts\n",
        "#      This is permissible in sklearn syntax\n",
        "dtrain, dvalid = train_test_split(train,\n",
        "                                  random_state=123,\n",
        "                                  train_size=0.99    # 99% vs 1%\n",
        "                                 )\n",
        "\n",
        "print(dtrain.shape)     # (1467709, 12)\n",
        "print(dvalid.shape)     # (14826, 12) 1% of above"
      ],
      "execution_count": 29,
      "outputs": [
        {
          "output_type": "stream",
          "name": "stdout",
          "text": [
            "(1467709, 12)\n",
            "(14826, 12)\n"
          ]
        }
      ]
    },
    {
      "cell_type": "code",
      "metadata": {
        "_cell_guid": "22f34be1-bd4a-4ad1-a931-62873816e8ee",
        "_uuid": "2f876f24ae0e5a82bdf9b0568f796cce5e2fed2c",
        "id": "aCJyYZ3kYCFc"
      },
      "source": [
        "# 13.2 Define a function that creates a dictionary of array values \n",
        "#      to help to feed data into keras\n",
        "#      All columns but the last 'num_vars' are categorical\n",
        "#      WE have SIX columns or column-sets here\n",
        "def get_keras_data(dataset):\n",
        "    X = {   \n",
        "        'name':           pad_sequences(dataset.seq_name, maxlen=MAX_NAME_SEQ),                             # 1\n",
        "        'item_desc':      pad_sequences(dataset.seq_item_description, maxlen=MAX_ITEM_DESC_SEQ),            # 2\n",
        "        'brand_name':     np.array(dataset.brand_name),                                                     # 3\n",
        "        'category_name':  np.array(dataset.category_name),                                                  # 4\n",
        "        'item_condition': np.array(dataset.item_condition_id),                                              # 5\n",
        "        'num_vars':       np.array(dataset[[\"shipping\", \"ship_rand\"]])    # Two numeric columns here        # 6\n",
        "    }\n",
        "    return X\n",
        "\n",
        "# 13.3 Get these datasets now\n",
        "X_train = get_keras_data(dtrain)\n",
        "X_valid = get_keras_data(dvalid)\n",
        "X_test = get_keras_data(test)"
      ],
      "execution_count": 30,
      "outputs": []
    },
    {
      "cell_type": "code",
      "metadata": {
        "colab": {
          "base_uri": "https://localhost:8080/"
        },
        "id": "PIiXujlxYCFc",
        "outputId": "f89aad80-1026-4483-ae01-98d262dab77a"
      },
      "source": [
        "# 13.4 Just check shapes. We need these below\n",
        "X_train[\"name\"][:4]\n",
        "X_train[\"item_desc\"][:4]\n",
        "X_train[\"num_vars\"][:4]\n",
        "\n",
        "# 13.5\n",
        "X_train[\"name\"].shape[1]           # 10\n",
        "X_train[\"item_desc\"].shape[1]      # 75\n",
        "X_train[\"num_vars\"].shape[1]       # 2\n"
      ],
      "execution_count": 31,
      "outputs": [
        {
          "output_type": "execute_result",
          "data": {
            "text/plain": [
              "2"
            ]
          },
          "metadata": {},
          "execution_count": 31
        }
      ]
    },
    {
      "cell_type": "markdown",
      "metadata": {
        "id": "raoMGH5sYCFc"
      },
      "source": [
        "## Convert categorical columns to word-vectors\n",
        "### A\n",
        "Consider following sentences:<br><p>\n",
        "1. mango is sweet<br>\n",
        "2. apple is sweet<br>\n",
        "3. mouse moves pointer<br>\n",
        "4. iphone mobile is used for communication<br>\n",
        "\n",
        "An embedding layer will convert word to vectors to discover relationship among words. Or, one can say that conversion of a word to vectors, facilitates finding association between context words. Examples are: <br>\n",
        "\n",
        "(mango, sweet), (apple, sweet), (mouse,pointer), (iphone,mobile) <br>\n",
        "\n",
        "### B\n",
        "Now, consider the following table with three categorical columns: <br>\n",
        "\n",
        "| x1   |   x2    |   x3    |\n",
        "|------|---------|---------|  \n",
        "|mango |  tree   |  sweet  |\n",
        "|apple |  tree   |  sweet  |\n",
        "|mouse | pointer |  moves  |\n",
        "|iphone| mobile  |communication|\n",
        "\n",
        "Conversion of categorical values to word-vectors helps discover better association between mango and sweet OR mango and tree OR mouse and pointer etc than by simply label encoding them and applying machine learning algo to discover patterns."
      ]
    },
    {
      "cell_type": "code",
      "metadata": {
        "_cell_guid": "79428c10-e754-4e0e-a8be-ecbe74ef55ff",
        "_uuid": "8af261410908e6c713ca7de01c3c2c549debf779",
        "colab": {
          "base_uri": "https://localhost:8080/"
        },
        "id": "ofkxWXsOYCFe",
        "outputId": "c2c6f572-52e2-4163-f937-b505e02016d7"
      },
      "source": [
        "# 14.1 Sizes of categorical values AND word to vectors\n",
        "#      Sizes?\n",
        "word2vec_size = 50\n",
        "cat2vec_size = 10\n",
        "cond2vec_size = 5\n",
        "\n",
        "# 14.2 Define callback function for earlystopping and storing weights\n",
        "def get_callbacks(filepath, patience=2):\n",
        "    es = EarlyStopping('val_loss', patience=patience, mode=\"min\")\n",
        "    msave = ModelCheckpoint(filepath, save_best_only=True)\n",
        "    return [es, msave]\n",
        "\n",
        "# 14.3 Forget it in first reading. Another loss function\n",
        "#      Any functions used in the model must use tensors\n",
        "#      and not numpy arrays. Of course, dataset can be numpy\n",
        "def rmsle_cust(y_true, y_pred):\n",
        "    first_log = K.log(K.clip(y_pred, K.epsilon(), None) + 1.)\n",
        "    second_log = K.log(K.clip(y_true, K.epsilon(), None) + 1.)\n",
        "    return K.sqrt(K.mean(K.square(first_log - second_log), axis=-1))\n",
        "\n",
        "# 14.4 Our model\n",
        "def get_model():\n",
        "    \n",
        "    # 14.1 Level of dropouts: 10%\n",
        "    dr_r = 0.1   \n",
        "    \n",
        "    # 14.2 SIX Inputs. At each input specify number of input-features \n",
        "    name =            Input(shape=[X_train[\"name\"].shape[1]],      name=\"name\")\n",
        "    item_desc =       Input(shape=[X_train[\"item_desc\"].shape[1]], name=\"item_desc\")\n",
        "    brand_name =      Input(shape=[1],                             name=\"brand_name\")  # Just 1 feature.Hence shape=[1]\n",
        "    category_name =   Input(shape=[1],                             name=\"category_name\") # Just 1 feature.Hence shape=[1]\n",
        "    item_condition =  Input(shape=[1],                             name=\"item_condition\") # Just 1 feature. Hence shape = [1]\n",
        "    num_vars =        Input(shape=[X_train[\"num_vars\"].shape[1]],  name=\"num_vars\")\n",
        "    \n",
        "    # 14.3 FIVE Embeddings layers.  Embedding vectors of first FIVE of the above\n",
        "    \n",
        "    # 14.3.1 Output of following two also go in RNN.\n",
        "    #        RNN output needs no flattening as this output is received\n",
        "    #        AFTER all timesteps have been fed into RNN\n",
        "    emb_name =           Embedding(MAX_TEXT,      word2vec_size  )(name)               \n",
        "    emb_item_desc =      Embedding(MAX_TEXT,      word2vec_size  )(item_desc)\n",
        "    \n",
        "    # 14.3.2 Output of following three go directly into Dense layer after flattening\n",
        "    #        These need to be flattened as for every timestep there is a vector\n",
        "    emb_brand_name =     Embedding(MAX_BRAND,     cat2vec_size  )(brand_name)\n",
        "    emb_category_name =  Embedding(MAX_CATEGORY,  cat2vec_size  )(category_name)\n",
        "    emb_item_condition = Embedding(MAX_CONDITION, cond2vec_size )(item_condition)\n",
        "    \n",
        "    # 14.4 TWO RNN layers. Both these are independent of each other. \n",
        "    rnn_layer2 = GRU(8) (emb_name)          # Output of GRU is a vector of size 8\n",
        "    rnn_layer1 = GRU(16) (emb_item_desc)    # Output of GRU is a vector of size 16\n",
        "    \n",
        "    # 15. Concatenate all layer-branches \n",
        "    main_l = concatenate([\n",
        "                          Flatten() (emb_brand_name),\n",
        "                          Flatten() (emb_category_name),\n",
        "                          Flatten() (emb_item_condition),\n",
        "                          rnn_layer1,\n",
        "                          rnn_layer2,\n",
        "                          num_vars          # Feed numerical variables as they are\n",
        "                          ]\n",
        "                         )\n",
        "    \n",
        "    # 15.1 Add classification layer\n",
        "    main_l = Dense(128) (main_l)\n",
        "    main_l = Dropout(dr_r)(main_l)\n",
        "    main_l = Dense(64) (main_l)\n",
        "    main_l = Dropout(dr_r) (main_l)\n",
        "    \n",
        "    # 15.2 Output neuron\n",
        "    output = Dense(1, activation=\"linear\") (main_l)\n",
        "    \n",
        "    # 15.3 Formulate Model now\n",
        "    model = Model(\n",
        "                  inputs= [name, item_desc, brand_name,category_name, item_condition, num_vars],\n",
        "                  outputs= output\n",
        "                 )\n",
        "    # 15.4\n",
        "    model.compile(loss=\"mse\",\n",
        "                  optimizer=\"adam\",\n",
        "                  metrics=[\"mae\", rmsle_cust]    # Note two metrics here. First reading confine to 'mae' only\n",
        "                 )\n",
        "    return model\n",
        "\n",
        "\n",
        "# 16 Formulate model and show summary    \n",
        "model = get_model()\n",
        "model.summary()\n",
        "    \n"
      ],
      "execution_count": 32,
      "outputs": [
        {
          "output_type": "stream",
          "name": "stdout",
          "text": [
            "Model: \"model\"\n",
            "__________________________________________________________________________________________________\n",
            "Layer (type)                    Output Shape         Param #     Connected to                     \n",
            "==================================================================================================\n",
            "brand_name (InputLayer)         [(None, 1)]          0                                            \n",
            "__________________________________________________________________________________________________\n",
            "category_name (InputLayer)      [(None, 1)]          0                                            \n",
            "__________________________________________________________________________________________________\n",
            "item_condition (InputLayer)     [(None, 1)]          0                                            \n",
            "__________________________________________________________________________________________________\n",
            "item_desc (InputLayer)          [(None, 75)]         0                                            \n",
            "__________________________________________________________________________________________________\n",
            "name (InputLayer)               [(None, 10)]         0                                            \n",
            "__________________________________________________________________________________________________\n",
            "embedding_2 (Embedding)         (None, 1, 10)        52900       brand_name[0][0]                 \n",
            "__________________________________________________________________________________________________\n",
            "embedding_3 (Embedding)         (None, 1, 10)        13110       category_name[0][0]              \n",
            "__________________________________________________________________________________________________\n",
            "embedding_4 (Embedding)         (None, 1, 5)         30          item_condition[0][0]             \n",
            "__________________________________________________________________________________________________\n",
            "embedding_1 (Embedding)         (None, 75, 50)       16099900    item_desc[0][0]                  \n",
            "__________________________________________________________________________________________________\n",
            "embedding (Embedding)           (None, 10, 50)       16099900    name[0][0]                       \n",
            "__________________________________________________________________________________________________\n",
            "flatten (Flatten)               (None, 10)           0           embedding_2[0][0]                \n",
            "__________________________________________________________________________________________________\n",
            "flatten_1 (Flatten)             (None, 10)           0           embedding_3[0][0]                \n",
            "__________________________________________________________________________________________________\n",
            "flatten_2 (Flatten)             (None, 5)            0           embedding_4[0][0]                \n",
            "__________________________________________________________________________________________________\n",
            "gru_1 (GRU)                     (None, 16)           3264        embedding_1[0][0]                \n",
            "__________________________________________________________________________________________________\n",
            "gru (GRU)                       (None, 8)            1440        embedding[0][0]                  \n",
            "__________________________________________________________________________________________________\n",
            "num_vars (InputLayer)           [(None, 2)]          0                                            \n",
            "__________________________________________________________________________________________________\n",
            "concatenate (Concatenate)       (None, 51)           0           flatten[0][0]                    \n",
            "                                                                 flatten_1[0][0]                  \n",
            "                                                                 flatten_2[0][0]                  \n",
            "                                                                 gru_1[0][0]                      \n",
            "                                                                 gru[0][0]                        \n",
            "                                                                 num_vars[0][0]                   \n",
            "__________________________________________________________________________________________________\n",
            "dense (Dense)                   (None, 128)          6656        concatenate[0][0]                \n",
            "__________________________________________________________________________________________________\n",
            "dropout (Dropout)               (None, 128)          0           dense[0][0]                      \n",
            "__________________________________________________________________________________________________\n",
            "dense_1 (Dense)                 (None, 64)           8256        dropout[0][0]                    \n",
            "__________________________________________________________________________________________________\n",
            "dropout_1 (Dropout)             (None, 64)           0           dense_1[0][0]                    \n",
            "__________________________________________________________________________________________________\n",
            "dense_2 (Dense)                 (None, 1)            65          dropout_1[0][0]                  \n",
            "==================================================================================================\n",
            "Total params: 32,285,521\n",
            "Trainable params: 32,285,521\n",
            "Non-trainable params: 0\n",
            "__________________________________________________________________________________________________\n"
          ]
        }
      ]
    },
    {
      "cell_type": "code",
      "metadata": {
        "colab": {
          "base_uri": "https://localhost:8080/",
          "height": 727
        },
        "id": "YeOmL_WhYCFf",
        "outputId": "64b00e3a-eec2-41b7-9b12-e63fbfa24c73"
      },
      "source": [
        "# 16.1 Plot the model architecture\n",
        "#      We need graphviz and pydot to be installed\n",
        "plt.figure(figsize = (14,14))\n",
        "plot_model(model, to_file = \"model.png\")\n",
        "io.imshow(\"model.png\")\n",
        "\n",
        "\n"
      ],
      "execution_count": 33,
      "outputs": [
        {
          "output_type": "execute_result",
          "data": {
            "text/plain": [
              "<matplotlib.image.AxesImage at 0x7fc9382b90d0>"
            ]
          },
          "metadata": {},
          "execution_count": 33
        },
        {
          "output_type": "display_data",
          "data": {
            "image/png": "[encoded data removed]",
            "text/plain": [
              "<Figure size 1008x1008 with 1 Axes>"
            ]
          },
          "metadata": {
            "needs_background": "light"
          }
        }
      ]
    },
    {
      "cell_type": "code",
      "metadata": {
        "_cell_guid": "b19fde2e-e454-48fd-b336-de0b15051fc8",
        "_uuid": "5fa44a0c7fcca9b0f0c15719be8ac38a2ee7cea8",
        "id": "jA8uXPMpYCFf"
      },
      "source": [
        "# 17. Training the model\n",
        "BATCH_SIZE = 20000\n",
        "epochs = 5\n",
        "model = get_model()\n",
        "\n",
        "# 17.1\n",
        "start = time.time()\n",
        "history= model.fit(X_train,\n",
        "                   dtrain.target,\n",
        "                   epochs=epochs,\n",
        "                   batch_size=BATCH_SIZE,\n",
        "                   validation_data=(X_valid, dvalid.target),\n",
        "                   verbose=1\n",
        "                  )\n",
        "\n",
        "end = time.time()\n",
        "print((end-start)/60)    # Five epochs take 15 minutes"
      ],
      "execution_count": null,
      "outputs": []
    },
    {
      "cell_type": "code",
      "metadata": {
        "_cell_guid": "0bfc00c9-37d7-4ebe-9f9c-2bf0661aef3c",
        "_uuid": "5065d64200d6c4675901e727ddf87afc8136a0c3",
        "colab": {
          "base_uri": "https://localhost:8080/"
        },
        "id": "rZKU5rqRYCFg",
        "outputId": "f550c1e0-8682-483a-b435-e7529d8b2999"
      },
      "source": [
        "# 18 Evaluate model using validation data\n",
        "val_preds = model.predict(X_valid)\n",
        "# 18.1 Undo transformation by MinMaxScaler\n",
        "val_preds = target_scaler.inverse_transform(val_preds)  \n",
        "# 18.2 Undo logs\n",
        "val_preds = np.exp(val_preds) - 1   # It should be -1. Original code has +1\n",
        "val_preds[:10]     # (10,1)\n",
        "val_preds[:10, 0]  # Convert to 1D\n",
        "y_pred = val_preds[:,0]\n",
        "\n",
        "# 19. Mean_squared_log_error\n",
        "y_true = np.array(dvalid.price.values)\n",
        "y_true[:10]\n",
        "\n",
        "# 19.1\n",
        "v_rmsle = rmsle(y_true, y_pred)\n",
        "print(\" RMSLE error on dev test: \"+str(v_rmsle))"
      ],
      "execution_count": 35,
      "outputs": [
        {
          "output_type": "stream",
          "name": "stdout",
          "text": [
            " RMSLE error on dev test: 0.4693206202824715\n"
          ]
        }
      ]
    },
    {
      "cell_type": "code",
      "metadata": {
        "_cell_guid": "996256b1-8628-4a8a-9e75-2eae09fa7d6e",
        "_uuid": "59772da91cbcb781396138d860d7875a23accaa9",
        "colab": {
          "base_uri": "https://localhost:8080/",
          "height": 555
        },
        "id": "tHEiIi9BYCFg",
        "outputId": "c35b5199-11ed-4641-b2ab-b919b4e50b40"
      },
      "source": [
        "########### I am done #############\n",
        "# Optional\n",
        "\n",
        "# 20. Create Predictions on test data\n",
        "preds = model.predict(X_test, batch_size=BATCH_SIZE)\n",
        "preds = target_scaler.inverse_transform(preds)\n",
        "preds = np.exp(preds)-1\n",
        "\n",
        "# 20.1\n",
        "submission = test[[\"test_id\"]]\n",
        "submission[\"price\"] = preds"
      ],
      "execution_count": 36,
      "outputs": [
        {
          "output_type": "error",
          "ename": "InvalidArgumentError",
          "evalue": "ignored",
          "traceback": [
            "\u001b[0;31m---------------------------------------------------------------------------\u001b[0m",
            "\u001b[0;31mInvalidArgumentError\u001b[0m                      Traceback (most recent call last)",
            "\u001b[0;32m<ipython-input-36-c1899112a417>\u001b[0m in \u001b[0;36m<module>\u001b[0;34m()\u001b[0m\n\u001b[1;32m      3\u001b[0m \u001b[0;34m\u001b[0m\u001b[0m\n\u001b[1;32m      4\u001b[0m \u001b[0;31m# 20. Create Predictions on test data\u001b[0m\u001b[0;34m\u001b[0m\u001b[0;34m\u001b[0m\u001b[0;34m\u001b[0m\u001b[0m\n\u001b[0;32m----> 5\u001b[0;31m \u001b[0mpreds\u001b[0m \u001b[0;34m=\u001b[0m \u001b[0mmodel\u001b[0m\u001b[0;34m.\u001b[0m\u001b[0mpredict\u001b[0m\u001b[0;34m(\u001b[0m\u001b[0mX_test\u001b[0m\u001b[0;34m,\u001b[0m \u001b[0mbatch_size\u001b[0m\u001b[0;34m=\u001b[0m\u001b[0mBATCH_SIZE\u001b[0m\u001b[0;34m)\u001b[0m\u001b[0;34m\u001b[0m\u001b[0;34m\u001b[0m\u001b[0m\n\u001b[0m\u001b[1;32m      6\u001b[0m \u001b[0mpreds\u001b[0m \u001b[0;34m=\u001b[0m \u001b[0mtarget_scaler\u001b[0m\u001b[0;34m.\u001b[0m\u001b[0minverse_transform\u001b[0m\u001b[0;34m(\u001b[0m\u001b[0mpreds\u001b[0m\u001b[0;34m)\u001b[0m\u001b[0;34m\u001b[0m\u001b[0;34m\u001b[0m\u001b[0m\n\u001b[1;32m      7\u001b[0m \u001b[0mpreds\u001b[0m \u001b[0;34m=\u001b[0m \u001b[0mnp\u001b[0m\u001b[0;34m.\u001b[0m\u001b[0mexp\u001b[0m\u001b[0;34m(\u001b[0m\u001b[0mpreds\u001b[0m\u001b[0;34m)\u001b[0m\u001b[0;34m-\u001b[0m\u001b[0;36m1\u001b[0m\u001b[0;34m\u001b[0m\u001b[0;34m\u001b[0m\u001b[0m\n",
            "\u001b[0;32m/usr/local/lib/python3.7/dist-packages/keras/engine/training.py\u001b[0m in \u001b[0;36mpredict\u001b[0;34m(self, x, batch_size, verbose, steps, callbacks, max_queue_size, workers, use_multiprocessing)\u001b[0m\n\u001b[1;32m   1749\u001b[0m           \u001b[0;32mfor\u001b[0m \u001b[0mstep\u001b[0m \u001b[0;32min\u001b[0m \u001b[0mdata_handler\u001b[0m\u001b[0;34m.\u001b[0m\u001b[0msteps\u001b[0m\u001b[0;34m(\u001b[0m\u001b[0;34m)\u001b[0m\u001b[0;34m:\u001b[0m\u001b[0;34m\u001b[0m\u001b[0;34m\u001b[0m\u001b[0m\n\u001b[1;32m   1750\u001b[0m             \u001b[0mcallbacks\u001b[0m\u001b[0;34m.\u001b[0m\u001b[0mon_predict_batch_begin\u001b[0m\u001b[0;34m(\u001b[0m\u001b[0mstep\u001b[0m\u001b[0;34m)\u001b[0m\u001b[0;34m\u001b[0m\u001b[0;34m\u001b[0m\u001b[0m\n\u001b[0;32m-> 1751\u001b[0;31m             \u001b[0mtmp_batch_outputs\u001b[0m \u001b[0;34m=\u001b[0m \u001b[0mself\u001b[0m\u001b[0;34m.\u001b[0m\u001b[0mpredict_function\u001b[0m\u001b[0;34m(\u001b[0m\u001b[0miterator\u001b[0m\u001b[0;34m)\u001b[0m\u001b[0;34m\u001b[0m\u001b[0;34m\u001b[0m\u001b[0m\n\u001b[0m\u001b[1;32m   1752\u001b[0m             \u001b[0;32mif\u001b[0m \u001b[0mdata_handler\u001b[0m\u001b[0;34m.\u001b[0m\u001b[0mshould_sync\u001b[0m\u001b[0;34m:\u001b[0m\u001b[0;34m\u001b[0m\u001b[0;34m\u001b[0m\u001b[0m\n\u001b[1;32m   1753\u001b[0m               \u001b[0mcontext\u001b[0m\u001b[0;34m.\u001b[0m\u001b[0masync_wait\u001b[0m\u001b[0;34m(\u001b[0m\u001b[0;34m)\u001b[0m\u001b[0;34m\u001b[0m\u001b[0;34m\u001b[0m\u001b[0m\n",
            "\u001b[0;32m/usr/local/lib/python3.7/dist-packages/tensorflow/python/eager/def_function.py\u001b[0m in \u001b[0;36m__call__\u001b[0;34m(self, *args, **kwds)\u001b[0m\n\u001b[1;32m    883\u001b[0m \u001b[0;34m\u001b[0m\u001b[0m\n\u001b[1;32m    884\u001b[0m       \u001b[0;32mwith\u001b[0m \u001b[0mOptionalXlaContext\u001b[0m\u001b[0;34m(\u001b[0m\u001b[0mself\u001b[0m\u001b[0;34m.\u001b[0m\u001b[0m_jit_compile\u001b[0m\u001b[0;34m)\u001b[0m\u001b[0;34m:\u001b[0m\u001b[0;34m\u001b[0m\u001b[0;34m\u001b[0m\u001b[0m\n\u001b[0;32m--> 885\u001b[0;31m         \u001b[0mresult\u001b[0m \u001b[0;34m=\u001b[0m \u001b[0mself\u001b[0m\u001b[0;34m.\u001b[0m\u001b[0m_call\u001b[0m\u001b[0;34m(\u001b[0m\u001b[0;34m*\u001b[0m\u001b[0margs\u001b[0m\u001b[0;34m,\u001b[0m \u001b[0;34m**\u001b[0m\u001b[0mkwds\u001b[0m\u001b[0;34m)\u001b[0m\u001b[0;34m\u001b[0m\u001b[0;34m\u001b[0m\u001b[0m\n\u001b[0m\u001b[1;32m    886\u001b[0m \u001b[0;34m\u001b[0m\u001b[0m\n\u001b[1;32m    887\u001b[0m       \u001b[0mnew_tracing_count\u001b[0m \u001b[0;34m=\u001b[0m \u001b[0mself\u001b[0m\u001b[0;34m.\u001b[0m\u001b[0mexperimental_get_tracing_count\u001b[0m\u001b[0;34m(\u001b[0m\u001b[0;34m)\u001b[0m\u001b[0;34m\u001b[0m\u001b[0;34m\u001b[0m\u001b[0m\n",
            "\u001b[0;32m/usr/local/lib/python3.7/dist-packages/tensorflow/python/eager/def_function.py\u001b[0m in \u001b[0;36m_call\u001b[0;34m(self, *args, **kwds)\u001b[0m\n\u001b[1;32m    922\u001b[0m       \u001b[0;31m# In this case we have not created variables on the first call. So we can\u001b[0m\u001b[0;34m\u001b[0m\u001b[0;34m\u001b[0m\u001b[0;34m\u001b[0m\u001b[0m\n\u001b[1;32m    923\u001b[0m       \u001b[0;31m# run the first trace but we should fail if variables are created.\u001b[0m\u001b[0;34m\u001b[0m\u001b[0;34m\u001b[0m\u001b[0;34m\u001b[0m\u001b[0m\n\u001b[0;32m--> 924\u001b[0;31m       \u001b[0mresults\u001b[0m \u001b[0;34m=\u001b[0m \u001b[0mself\u001b[0m\u001b[0;34m.\u001b[0m\u001b[0m_stateful_fn\u001b[0m\u001b[0;34m(\u001b[0m\u001b[0;34m*\u001b[0m\u001b[0margs\u001b[0m\u001b[0;34m,\u001b[0m \u001b[0;34m**\u001b[0m\u001b[0mkwds\u001b[0m\u001b[0;34m)\u001b[0m\u001b[0;34m\u001b[0m\u001b[0;34m\u001b[0m\u001b[0m\n\u001b[0m\u001b[1;32m    925\u001b[0m       \u001b[0;32mif\u001b[0m \u001b[0mself\u001b[0m\u001b[0;34m.\u001b[0m\u001b[0m_created_variables\u001b[0m \u001b[0;32mand\u001b[0m \u001b[0;32mnot\u001b[0m \u001b[0mALLOW_DYNAMIC_VARIABLE_CREATION\u001b[0m\u001b[0;34m:\u001b[0m\u001b[0;34m\u001b[0m\u001b[0;34m\u001b[0m\u001b[0m\n\u001b[1;32m    926\u001b[0m         raise ValueError(\"Creating variables on a non-first call to a function\"\n",
            "\u001b[0;32m/usr/local/lib/python3.7/dist-packages/tensorflow/python/eager/function.py\u001b[0m in \u001b[0;36m__call__\u001b[0;34m(self, *args, **kwargs)\u001b[0m\n\u001b[1;32m   3038\u001b[0m        filtered_flat_args) = self._maybe_define_function(args, kwargs)\n\u001b[1;32m   3039\u001b[0m     return graph_function._call_flat(\n\u001b[0;32m-> 3040\u001b[0;31m         filtered_flat_args, captured_inputs=graph_function.captured_inputs)  # pylint: disable=protected-access\n\u001b[0m\u001b[1;32m   3041\u001b[0m \u001b[0;34m\u001b[0m\u001b[0m\n\u001b[1;32m   3042\u001b[0m   \u001b[0;34m@\u001b[0m\u001b[0mproperty\u001b[0m\u001b[0;34m\u001b[0m\u001b[0;34m\u001b[0m\u001b[0m\n",
            "\u001b[0;32m/usr/local/lib/python3.7/dist-packages/tensorflow/python/eager/function.py\u001b[0m in \u001b[0;36m_call_flat\u001b[0;34m(self, args, captured_inputs, cancellation_manager)\u001b[0m\n\u001b[1;32m   1962\u001b[0m       \u001b[0;31m# No tape is watching; skip to running the function.\u001b[0m\u001b[0;34m\u001b[0m\u001b[0;34m\u001b[0m\u001b[0;34m\u001b[0m\u001b[0m\n\u001b[1;32m   1963\u001b[0m       return self._build_call_outputs(self._inference_function.call(\n\u001b[0;32m-> 1964\u001b[0;31m           ctx, args, cancellation_manager=cancellation_manager))\n\u001b[0m\u001b[1;32m   1965\u001b[0m     forward_backward = self._select_forward_and_backward_functions(\n\u001b[1;32m   1966\u001b[0m         \u001b[0margs\u001b[0m\u001b[0;34m,\u001b[0m\u001b[0;34m\u001b[0m\u001b[0;34m\u001b[0m\u001b[0m\n",
            "\u001b[0;32m/usr/local/lib/python3.7/dist-packages/tensorflow/python/eager/function.py\u001b[0m in \u001b[0;36mcall\u001b[0;34m(self, ctx, args, cancellation_manager)\u001b[0m\n\u001b[1;32m    594\u001b[0m               \u001b[0minputs\u001b[0m\u001b[0;34m=\u001b[0m\u001b[0margs\u001b[0m\u001b[0;34m,\u001b[0m\u001b[0;34m\u001b[0m\u001b[0;34m\u001b[0m\u001b[0m\n\u001b[1;32m    595\u001b[0m               \u001b[0mattrs\u001b[0m\u001b[0;34m=\u001b[0m\u001b[0mattrs\u001b[0m\u001b[0;34m,\u001b[0m\u001b[0;34m\u001b[0m\u001b[0;34m\u001b[0m\u001b[0m\n\u001b[0;32m--> 596\u001b[0;31m               ctx=ctx)\n\u001b[0m\u001b[1;32m    597\u001b[0m         \u001b[0;32melse\u001b[0m\u001b[0;34m:\u001b[0m\u001b[0;34m\u001b[0m\u001b[0;34m\u001b[0m\u001b[0m\n\u001b[1;32m    598\u001b[0m           outputs = execute.execute_with_cancellation(\n",
            "\u001b[0;32m/usr/local/lib/python3.7/dist-packages/tensorflow/python/eager/execute.py\u001b[0m in \u001b[0;36mquick_execute\u001b[0;34m(op_name, num_outputs, inputs, attrs, ctx, name)\u001b[0m\n\u001b[1;32m     58\u001b[0m     \u001b[0mctx\u001b[0m\u001b[0;34m.\u001b[0m\u001b[0mensure_initialized\u001b[0m\u001b[0;34m(\u001b[0m\u001b[0;34m)\u001b[0m\u001b[0;34m\u001b[0m\u001b[0;34m\u001b[0m\u001b[0m\n\u001b[1;32m     59\u001b[0m     tensors = pywrap_tfe.TFE_Py_Execute(ctx._handle, device_name, op_name,\n\u001b[0;32m---> 60\u001b[0;31m                                         inputs, attrs, num_outputs)\n\u001b[0m\u001b[1;32m     61\u001b[0m   \u001b[0;32mexcept\u001b[0m \u001b[0mcore\u001b[0m\u001b[0;34m.\u001b[0m\u001b[0m_NotOkStatusException\u001b[0m \u001b[0;32mas\u001b[0m \u001b[0me\u001b[0m\u001b[0;34m:\u001b[0m\u001b[0;34m\u001b[0m\u001b[0;34m\u001b[0m\u001b[0m\n\u001b[1;32m     62\u001b[0m     \u001b[0;32mif\u001b[0m \u001b[0mname\u001b[0m \u001b[0;32mis\u001b[0m \u001b[0;32mnot\u001b[0m \u001b[0;32mNone\u001b[0m\u001b[0;34m:\u001b[0m\u001b[0;34m\u001b[0m\u001b[0;34m\u001b[0m\u001b[0m\n",
            "\u001b[0;31mInvalidArgumentError\u001b[0m:  indices[13163,5] = 321998 is not in [0, 321998)\n\t [[node model_1/embedding_5/embedding_lookup (defined at <ipython-input-35-85a94825c190>:2) ]] [Op:__inference_predict_function_10583]\n\nErrors may have originated from an input operation.\nInput Source operations connected to node model_1/embedding_5/embedding_lookup:\n model_1/embedding_5/embedding_lookup/9771 (defined at /usr/lib/python3.7/contextlib.py:112)\n\nFunction call stack:\npredict_function\n"
          ]
        }
      ]
    },
    {
      "cell_type": "code",
      "metadata": {
        "_cell_guid": "8b76a6c9-fa82-4011-82ab-0384b8e2e5b4",
        "_uuid": "270683b6ea8391d536aa86deeb7d0b381a9006ba",
        "id": "CLkioaWtYCFh"
      },
      "source": [
        "# 20.2 Should you want to submit on \n",
        "submission.to_csv(\"./myNNsubmission.csv\", index=False)\n",
        "submission.price.hist()\n"
      ],
      "execution_count": null,
      "outputs": []
    },
    {
      "cell_type": "markdown",
      "metadata": {
        "_cell_guid": "4f194864-1f59-4b94-871b-3b3ee6f01fd2",
        "_uuid": "d0e07027d44dcda199db405c974a05276a3fb4ac",
        "id": "pqPEyZtaYCFh"
      },
      "source": [
        "This was just an example how nn can solve this problems. Potencial improvements of the kernel:\n",
        "    - Increase the embeddings factors\n",
        "    - Decrease the batch size\n",
        "    - Add Batch Normalization\n",
        "    - Try LSTM, Bidirectional RNN, stack RNN\n",
        "    - Try with more dense layers or more rnn outputs\n",
        "    -  etc. Or even try a new architecture!"
      ]
    }
  ]
}