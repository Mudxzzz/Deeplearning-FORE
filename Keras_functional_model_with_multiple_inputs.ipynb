{
  "nbformat": 4,
  "nbformat_minor": 0,
  "metadata": {
    "kernelspec": {
      "display_name": "Python 3",
      "language": "python",
      "name": "python3"
    },
    "language_info": {
      "codemirror_mode": {
        "name": "ipython",
        "version": 3
      },
      "file_extension": ".py",
      "mimetype": "text/x-python",
      "name": "python",
      "nbconvert_exporter": "python",
      "pygments_lexer": "ipython3",
      "version": "3.7.3"
    },
    "colab": {
      "name": "Keras functional model with multiple inputs.ipynb",
      "provenance": [],
      "collapsed_sections": [
        "nxvZN20NBV3Q",
        "Onr3P5Oyu2On",
        "xU38Z8Q2u8Cd",
        "IlhEDj9NyM89",
        "--0Sz50kyQbV",
        "oYeSyGfbyUks",
        "-AqPoy7PdDsY",
        "sA-eZn6ReoQG",
        "xhOU6FUOeuM-",
        "aIdqXCClf3ne",
        "_Plkuyym9eWo",
        "hNYXzSS8r5nB",
        "yoEc_4bfCSyp",
        "bXbgobYqCmRo",
        "Dhm7ibir85LB"
      ],
      "include_colab_link": true
    }
  },
  "cells": [
    {
      "cell_type": "markdown",
      "metadata": {
        "id": "view-in-github",
        "colab_type": "text"
      },
      "source": [
        "<a href=\"https://colab.research.google.com/github/harnalashok/deeplearning/blob/main/Keras_functional_model_with_multiple_inputs.ipynb\" target=\"_parent\"><img src=\"https://colab.research.google.com/assets/colab-badge.svg\" alt=\"Open In Colab\"/></a>"
      ]
    },
    {
      "cell_type": "code",
      "metadata": {
        "id": "-U3kYoa1YCFK"
      },
      "source": [
        "# Last amended: 26th October, 2021\n",
        "# Myfolder: /home/ashok/Documents/mercari_price_challenge\n",
        "# Ref: https://www.kaggle.com/knowledgegrappler/a-simple-nn-solution-with-keras-0-48611-pl\n",
        "# VM: lubuntu_deeplearning_II\n",
        "#\n",
        "#     Objectives:\n",
        "#                1. Learning functional model of keras\n",
        "#                2. Functional model with multiple inputs\n",
        "#                3. Applying deeplearning to structured tables\n",
        "#                4. Vector conversion of categorical variables\n",
        "#                   as also descriptive text\n"
      ],
      "execution_count": null,
      "outputs": []
    },
    {
      "cell_type": "markdown",
      "metadata": {
        "id": "nxvZN20NBV3Q"
      },
      "source": [
        "## [Problem](https://www.kaggle.com/c/mercari-price-suggestion-challenge/overview)"
      ]
    },
    {
      "cell_type": "markdown",
      "metadata": {
        "id": "-MeIPlAMBUFj"
      },
      "source": [
        "It can be hard to know how much something’s really worth. Small details can mean big differences in pricing. For example, one of these sweaters cost $335 and the other cost $9.99. Can you guess which one’s which?\n",
        "\n",
        "Product pricing gets even harder at scale, considering just how many products are sold online. Clothing has strong seasonal pricing trends and is heavily influenced by brand names, while electronics have fluctuating prices based on product specs.\n",
        "\n",
        "Mercari, Japan’s biggest community-powered shopping app, knows this problem deeply. They’d like to offer pricing suggestions to sellers, but this is tough because their sellers are enabled to put just about anything, or any bundle of things, on Mercari's marketplace.\n",
        "\n",
        "In this competition, Mercari’s challenging you to build an algorithm that automatically suggests the right product prices. You’ll be provided user-inputted text descriptions of their products, including details like product category name, brand name, and item condition.\n",
        "\n",
        "Note that, because of the public nature of this data, this competition is a “Kernels Only” competition. In the second stage of the challenge, files will only be available through Kernels and you will not be able to modify your approach in response to new data. Read more details in the data tab and Kernels FAQ page. "
      ]
    },
    {
      "cell_type": "markdown",
      "metadata": {
        "id": "Onr3P5Oyu2On"
      },
      "source": [
        "\n",
        "## Call libraries"
      ]
    },
    {
      "cell_type": "code",
      "metadata": {
        "_cell_guid": "f49a0842-1c3d-4bee-8b3e-3caf6111bb60",
        "_uuid": "e4561cb64722ffd7adb74a8800f89973bc3fe87a",
        "id": "XDTbAXJGYCFQ"
      },
      "source": [
        "# 1.0 Call libraries\n",
        "# 1.1 Data manipulation libraries\n",
        "import numpy as np\n",
        "import pandas as pd\n",
        "\n",
        "# 1.1 sklearn libraries\n",
        "from sklearn.preprocessing import LabelEncoder, MinMaxScaler, StandardScaler\n",
        "from sklearn.model_selection import train_test_split\n",
        "\n",
        "# 1.2 For plotting NN model\n",
        "#  conda install -c anaconda graphviz\n",
        "#  conda install -c anaconda pydot\n",
        "from skimage import io\n",
        "import pydot\n",
        "\n",
        "# 1.3 Keras model components\n",
        "from tensorflow.keras.models import Model\n",
        "from tensorflow.keras.layers import Input, Dropout, Dense, concatenate, GRU, Embedding, Flatten\n",
        "from tensorflow.keras.callbacks import ModelCheckpoint, Callback, EarlyStopping\n",
        "# 1.3.1 For text (word) to integer transformation\n",
        "from tensorflow.keras.preprocessing.text import Tokenizer\n",
        "# 1.3.2 For making all integer sequences of equal length\n",
        "from tensorflow.keras.preprocessing.sequence import pad_sequences\n",
        "# 1.3.3 Import backend to invoke tensorflow commands\n",
        "from tensorflow.keras import backend as K\n",
        "\n",
        "# 1.4 Plotting libraries\n",
        "import matplotlib.pyplot as plt\n",
        "from tensorflow.keras.utils import plot_model\n",
        "%matplotlib inline \n",
        "\n",
        "# 1.5 Misc\n",
        "import math, time, os,gc"
      ],
      "execution_count": 1,
      "outputs": []
    },
    {
      "cell_type": "code",
      "metadata": {
        "id": "QiagwG_h1Re1"
      },
      "source": [
        "# 1.6 Print all outputs from a cell\n",
        "\n",
        "from IPython.core.interactiveshell import InteractiveShell\n",
        "InteractiveShell.ast_node_interactivity = \"all\""
      ],
      "execution_count": 2,
      "outputs": []
    },
    {
      "cell_type": "markdown",
      "metadata": {
        "id": "xU38Z8Q2u8Cd"
      },
      "source": [
        "## RMSLE \n",
        "Root mean squared Logaritmic error. See [here](https://hrngok.github.io/posts/metrics/#Root-Mean-Squared-Logaritmic-Error-(RMSLE)) and also [this article](https://medium.com/analytics-vidhya/root-mean-square-log-error-rmse-vs-rmlse-935c6cc1802a)."
      ]
    },
    {
      "cell_type": "markdown",
      "metadata": {
        "id": "-4FOhEDMvrRl"
      },
      "source": [
        "![image.png](data:image/png;base64,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)"
      ]
    },
    {
      "cell_type": "markdown",
      "metadata": {
        "id": "YBKAkM3rv5Ed"
      },
      "source": [
        "Mechanism:  \n",
        "It is the Root Mean Squared Error of the log-transformed predicted and log-transformed actual values. RMSLE adds 1 to both actual and predicted values before taking the natural logarithm to avoid taking the natural log of possible 0 (zero) values. As a result, the function can be used if actual or predicted have zero-valued elements. But this function is not appropriate if either is negative valued.\n"
      ]
    },
    {
      "cell_type": "markdown",
      "metadata": {
        "id": "TypYjjDqwM-1"
      },
      "source": [
        "Functionality:\n",
        "The expression: `log(pi+1)−log(ai+1)`\n",
        "can be written as `log((pi+1)/(ai+1))` <br>\n",
        "RMSLE measures the ratio of predicted and actual."
      ]
    },
    {
      "cell_type": "markdown",
      "metadata": {
        "id": "3_sprpz-whDW"
      },
      "source": [
        "#### RMSLE is preferable when\n",
        "> Targets having exponential growth, such as population counts, average sales of a commodity over a span of years etc <br>\n",
        "> We care about percentage errors rather than the absolute value of errors. <br>\n",
        "> There is a wide range in the target variables and we don’t want to penalize big differences when both the predicted and the actual are big numbers. <br>\n",
        "> We want to penalize under estimates more than over estimates.\n",
        "\n"
      ]
    },
    {
      "cell_type": "markdown",
      "metadata": {
        "id": "IlhEDj9NyM89"
      },
      "source": [
        "### Define rmsle()"
      ]
    },
    {
      "cell_type": "code",
      "metadata": {
        "_cell_guid": "17b85633-4dae-4a49-9573-5d5c3b1b9699",
        "_uuid": "56874f4a359241631a1f1e4788da09e7b09182b8",
        "id": "Pns2fIoMYCFR"
      },
      "source": [
        "# 2. Write a function to calculate Root Mean Squared Logarithmic Error (RMSLE)\n",
        "#    Why use RMSLE?\n",
        "#    Ref: https://stats.stackexchange.com/a/110610\n",
        "\n",
        "def rmsle(y, y_pred):\n",
        "    # 2.1 Check if lengths are both arrays are same\n",
        "    assert len(y) == len(y_pred)\n",
        "    # 2.2 Get a list of squared differences of logs\n",
        "    to_sum = [(math.log(y_pred[i] + 1) - math.log(y[i] + 1)) ** 2.0 for i,pred in enumerate(y_pred)]\n",
        "    # 2.3 Sum up all squared differences, take a mean and then square root \n",
        "    return (sum(to_sum) * (1.0/len(y))) ** 0.5\n",
        "    \n",
        "#Source: https://www.kaggle.com/marknagelberg/rmsle-function"
      ],
      "execution_count": 3,
      "outputs": []
    },
    {
      "cell_type": "markdown",
      "metadata": {
        "id": "--0Sz50kyQbV"
      },
      "source": [
        "## Mount gdrive"
      ]
    },
    {
      "cell_type": "code",
      "metadata": {
        "colab": {
          "base_uri": "https://localhost:8080/"
        },
        "id": "EKEVrHU5YdXj",
        "outputId": "ef66b5b7-4b2d-412a-e695-2983c76bea5b"
      },
      "source": [
        "from google.colab import drive\n",
        "drive.mount('/gdrive')"
      ],
      "execution_count": null,
      "outputs": [
        {
          "output_type": "stream",
          "name": "stdout",
          "text": [
            "Mounted at /gdrive\n"
          ]
        }
      ]
    },
    {
      "cell_type": "markdown",
      "metadata": {
        "id": "oYeSyGfbyUks"
      },
      "source": [
        "## Read data"
      ]
    },
    {
      "cell_type": "code",
      "metadata": {
        "id": "vH8NDMHpcnuJ",
        "colab": {
          "base_uri": "https://localhost:8080/"
        },
        "outputId": "99ef9220-a678-470c-fd97-6571445884a2"
      },
      "source": [
        "# 3.1 Set path to train and test data\n",
        "print(\"Loading data...\")\n",
        "path = \"/home/ashok/.keras/datasets/mercari\" \n",
        "#os.chdir(path)"
      ],
      "execution_count": null,
      "outputs": [
        {
          "output_type": "stream",
          "name": "stdout",
          "text": [
            "Loading data...\n"
          ]
        }
      ]
    },
    {
      "cell_type": "code",
      "metadata": {
        "id": "o-S7qG0kzWGd"
      },
      "source": [
        "# 3.1 Set path to train and test data\n",
        "path = \"/gdrive/MyDrive/Colab_data_files/mercari/\""
      ],
      "execution_count": null,
      "outputs": []
    },
    {
      "cell_type": "code",
      "metadata": {
        "_cell_guid": "a76efe2c-34bb-458a-8611-1dcabda65b31",
        "_uuid": "80cd3abaf2d32b2c8133719d9a7bbb977adf91cb",
        "colab": {
          "base_uri": "https://localhost:8080/"
        },
        "id": "GA5MMsT-YCFS",
        "outputId": "d47c6729-7099-4b8e-bb93-5a65a6d95fdc"
      },
      "source": [
        "# 3.2 Read datasets\n",
        "print(\"---Loading data---\")\n",
        "\n",
        "train = pd.read_table(path+\"train.tsv.zip\")\n",
        "test = pd.read_table(path+\"test.tsv.zip\")\n",
        "\n",
        "print(\"---finished reading---\")"
      ],
      "execution_count": null,
      "outputs": [
        {
          "output_type": "stream",
          "name": "stdout",
          "text": [
            "---Loading data---\n",
            "---finished reading---\n"
          ]
        }
      ]
    },
    {
      "cell_type": "code",
      "metadata": {
        "colab": {
          "base_uri": "https://localhost:8080/",
          "height": 206
        },
        "id": "koySgJelBwvJ",
        "outputId": "27a4a87b-0f60-45da-facc-2b8cc7ce5b62"
      },
      "source": [
        "# 3.2.1\n",
        "train.head()"
      ],
      "execution_count": null,
      "outputs": [
        {
          "output_type": "execute_result",
          "data": {
            "text/html": [
              "<div>\n",
              "<style scoped>\n",
              "    .dataframe tbody tr th:only-of-type {\n",
              "        vertical-align: middle;\n",
              "    }\n",
              "\n",
              "    .dataframe tbody tr th {\n",
              "        vertical-align: top;\n",
              "    }\n",
              "\n",
              "    .dataframe thead th {\n",
              "        text-align: right;\n",
              "    }\n",
              "</style>\n",
              "<table border=\"1\" class=\"dataframe\">\n",
              "  <thead>\n",
              "    <tr style=\"text-align: right;\">\n",
              "      <th></th>\n",
              "      <th>train_id</th>\n",
              "      <th>name</th>\n",
              "      <th>item_condition_id</th>\n",
              "      <th>category_name</th>\n",
              "      <th>brand_name</th>\n",
              "      <th>price</th>\n",
              "      <th>shipping</th>\n",
              "      <th>item_description</th>\n",
              "    </tr>\n",
              "  </thead>\n",
              "  <tbody>\n",
              "    <tr>\n",
              "      <th>0</th>\n",
              "      <td>0</td>\n",
              "      <td>MLB Cincinnati Reds T Shirt Size XL</td>\n",
              "      <td>3</td>\n",
              "      <td>Men/Tops/T-shirts</td>\n",
              "      <td>NaN</td>\n",
              "      <td>10.0</td>\n",
              "      <td>1</td>\n",
              "      <td>No description yet</td>\n",
              "    </tr>\n",
              "    <tr>\n",
              "      <th>1</th>\n",
              "      <td>1</td>\n",
              "      <td>Razer BlackWidow Chroma Keyboard</td>\n",
              "      <td>3</td>\n",
              "      <td>Electronics/Computers &amp; Tablets/Components &amp; P...</td>\n",
              "      <td>Razer</td>\n",
              "      <td>52.0</td>\n",
              "      <td>0</td>\n",
              "      <td>This keyboard is in great condition and works ...</td>\n",
              "    </tr>\n",
              "    <tr>\n",
              "      <th>2</th>\n",
              "      <td>2</td>\n",
              "      <td>AVA-VIV Blouse</td>\n",
              "      <td>1</td>\n",
              "      <td>Women/Tops &amp; Blouses/Blouse</td>\n",
              "      <td>Target</td>\n",
              "      <td>10.0</td>\n",
              "      <td>1</td>\n",
              "      <td>Adorable top with a hint of lace and a key hol...</td>\n",
              "    </tr>\n",
              "    <tr>\n",
              "      <th>3</th>\n",
              "      <td>3</td>\n",
              "      <td>Leather Horse Statues</td>\n",
              "      <td>1</td>\n",
              "      <td>Home/Home Décor/Home Décor Accents</td>\n",
              "      <td>NaN</td>\n",
              "      <td>35.0</td>\n",
              "      <td>1</td>\n",
              "      <td>New with tags. Leather horses. Retail for [rm]...</td>\n",
              "    </tr>\n",
              "    <tr>\n",
              "      <th>4</th>\n",
              "      <td>4</td>\n",
              "      <td>24K GOLD plated rose</td>\n",
              "      <td>1</td>\n",
              "      <td>Women/Jewelry/Necklaces</td>\n",
              "      <td>NaN</td>\n",
              "      <td>44.0</td>\n",
              "      <td>0</td>\n",
              "      <td>Complete with certificate of authenticity</td>\n",
              "    </tr>\n",
              "  </tbody>\n",
              "</table>\n",
              "</div>"
            ],
            "text/plain": [
              "   train_id  ...                                   item_description\n",
              "0         0  ...                                 No description yet\n",
              "1         1  ...  This keyboard is in great condition and works ...\n",
              "2         2  ...  Adorable top with a hint of lace and a key hol...\n",
              "3         3  ...  New with tags. Leather horses. Retail for [rm]...\n",
              "4         4  ...          Complete with certificate of authenticity\n",
              "\n",
              "[5 rows x 8 columns]"
            ]
          },
          "metadata": {},
          "execution_count": 46
        }
      ]
    },
    {
      "cell_type": "code",
      "metadata": {
        "colab": {
          "base_uri": "https://localhost:8080/"
        },
        "id": "aCjr8vQVYCFT",
        "outputId": "860678e3-aa74-46e0-aef5-b1daa42bc8e9"
      },
      "source": [
        "# 3.3 Print some information about datasets\n",
        "#     In this data target is 'price'\n",
        "print(\"---\")\n",
        "print(f\"train shape: {train.shape}\")\n",
        "print(f\"Test shape: {test.shape}\")\n",
        "print(\"---\")\n",
        "print(f\"train Memory Usage : {sum(train.memory_usage())/10**6} MB\")   # In MB\n",
        "print(f\"test Memory Usage : {sum(test.memory_usage())/10**6} MB\")    # In MB\n",
        "print(\"-----\")\n",
        "print(f\"Train Null columns: {train.isnull().sum().sort_values()}\")\n",
        "print(f\"Test Null columns: {train.isnull().sum().sort_values()}\" )"
      ],
      "execution_count": null,
      "outputs": [
        {
          "output_type": "stream",
          "name": "stdout",
          "text": [
            "---\n",
            "train shape: (1482535, 8)\n",
            "Test shape: (693359, 7)\n",
            "---\n",
            "train Memory Usage : 94.882368 MB\n",
            "test Memory Usage : 38.828232 MB\n",
            "-----\n",
            "Train Null columns: train_id                  0\n",
            "name                      0\n",
            "item_condition_id         0\n",
            "price                     0\n",
            "shipping                  0\n",
            "item_description          4\n",
            "category_name          6327\n",
            "brand_name           632682\n",
            "dtype: int64\n",
            "Test Null columns: train_id                  0\n",
            "name                      0\n",
            "item_condition_id         0\n",
            "price                     0\n",
            "shipping                  0\n",
            "item_description          4\n",
            "category_name          6327\n",
            "brand_name           632682\n",
            "dtype: int64\n"
          ]
        }
      ]
    },
    {
      "cell_type": "code",
      "metadata": {
        "colab": {
          "base_uri": "https://localhost:8080/"
        },
        "id": "Z_19JJQn1DGs",
        "outputId": "2b8f5231-e839-43bc-9110-626a563f0007"
      },
      "source": [
        "# 3.4 All columns but 'price' and shipping are categorical\n",
        "train.dtypes\n",
        "test.dtypes\n",
        "train.columns.values"
      ],
      "execution_count": null,
      "outputs": [
        {
          "output_type": "execute_result",
          "data": {
            "text/plain": [
              "train_id               int64\n",
              "name                  object\n",
              "item_condition_id      int64\n",
              "category_name         object\n",
              "brand_name            object\n",
              "price                float64\n",
              "shipping               int64\n",
              "item_description      object\n",
              "dtype: object"
            ]
          },
          "metadata": {},
          "execution_count": 45
        },
        {
          "output_type": "execute_result",
          "data": {
            "text/plain": [
              "test_id               int64\n",
              "name                 object\n",
              "item_condition_id     int64\n",
              "category_name        object\n",
              "brand_name           object\n",
              "shipping              int64\n",
              "item_description     object\n",
              "dtype: object"
            ]
          },
          "metadata": {},
          "execution_count": 45
        },
        {
          "output_type": "execute_result",
          "data": {
            "text/plain": [
              "array(['train_id', 'name', 'item_condition_id', 'category_name',\n",
              "       'brand_name', 'price', 'shipping', 'item_description'],\n",
              "      dtype=object)"
            ]
          },
          "metadata": {},
          "execution_count": 45
        }
      ]
    },
    {
      "cell_type": "markdown",
      "metadata": {
        "id": "-AqPoy7PdDsY"
      },
      "source": [
        "## Data pre-processing\n",
        ">1. Missing values<br>\n",
        ">2. Label Encoding of categorical data<br>\n",
        ">3. Transform descriptive fields to integer sequences<br>\n",
        ">4. Find the length of that sequence which has max length<br>\n",
        ">5. Scale numeric field<br>\n",
        ">6. Create a random numeric field<br>"
      ]
    },
    {
      "cell_type": "markdown",
      "metadata": {
        "id": "sA-eZn6ReoQG"
      },
      "source": [
        "### Missing values\n",
        "Fill missing values with constants\n"
      ]
    },
    {
      "cell_type": "code",
      "metadata": {
        "_cell_guid": "4e506bee-5541-4879-aaea-159dee4416b8",
        "_uuid": "967a5f2b26862be11cdae8cb0fb7402fd486135c",
        "colab": {
          "base_uri": "https://localhost:8080/",
          "height": 570
        },
        "id": "Ln5BDHHyYCFU",
        "outputId": "d895aff7-bb53-40b9-93de-d70610efec93"
      },
      "source": [
        "# 4.0 Fill missing values\n",
        "#     Define a function to fill missing values\n",
        "#     We use pandas methods df.fillna()\n",
        "#     Fields: category_name, brand_name, item_description\n",
        "def fill_missing(dataset):\n",
        "    dataset.category_name.fillna(value=\"missing\", inplace=True)\n",
        "    dataset.brand_name.fillna(value=\"missing\", inplace=True)\n",
        "    dataset.item_description.fillna(value=\"missing\", inplace=True)\n",
        "    return (dataset)\n",
        "\n",
        "# 4.1 Fill missing values now in train and test\n",
        "train = fill_missing(train)\n",
        "test = fill_missing(test)\n",
        "\n",
        "# 4.2 Check if any value is still missing\n",
        "train.isnull().sum()\n",
        "test.isnull().sum()\n",
        "\n",
        "# 4.3 Look at datasets now\n",
        "train.head(3)\n",
        "test.head(3)"
      ],
      "execution_count": null,
      "outputs": [
        {
          "output_type": "execute_result",
          "data": {
            "text/plain": [
              "train_id             0\n",
              "name                 0\n",
              "item_condition_id    0\n",
              "category_name        0\n",
              "brand_name           0\n",
              "price                0\n",
              "shipping             0\n",
              "item_description     0\n",
              "dtype: int64"
            ]
          },
          "metadata": {},
          "execution_count": 10
        },
        {
          "output_type": "execute_result",
          "data": {
            "text/plain": [
              "test_id              0\n",
              "name                 0\n",
              "item_condition_id    0\n",
              "category_name        0\n",
              "brand_name           0\n",
              "shipping             0\n",
              "item_description     0\n",
              "dtype: int64"
            ]
          },
          "metadata": {},
          "execution_count": 10
        },
        {
          "output_type": "execute_result",
          "data": {
            "text/html": [
              "<div>\n",
              "<style scoped>\n",
              "    .dataframe tbody tr th:only-of-type {\n",
              "        vertical-align: middle;\n",
              "    }\n",
              "\n",
              "    .dataframe tbody tr th {\n",
              "        vertical-align: top;\n",
              "    }\n",
              "\n",
              "    .dataframe thead th {\n",
              "        text-align: right;\n",
              "    }\n",
              "</style>\n",
              "<table border=\"1\" class=\"dataframe\">\n",
              "  <thead>\n",
              "    <tr style=\"text-align: right;\">\n",
              "      <th></th>\n",
              "      <th>train_id</th>\n",
              "      <th>name</th>\n",
              "      <th>item_condition_id</th>\n",
              "      <th>category_name</th>\n",
              "      <th>brand_name</th>\n",
              "      <th>price</th>\n",
              "      <th>shipping</th>\n",
              "      <th>item_description</th>\n",
              "    </tr>\n",
              "  </thead>\n",
              "  <tbody>\n",
              "    <tr>\n",
              "      <th>0</th>\n",
              "      <td>0</td>\n",
              "      <td>MLB Cincinnati Reds T Shirt Size XL</td>\n",
              "      <td>3</td>\n",
              "      <td>Men/Tops/T-shirts</td>\n",
              "      <td>missing</td>\n",
              "      <td>10.0</td>\n",
              "      <td>1</td>\n",
              "      <td>No description yet</td>\n",
              "    </tr>\n",
              "    <tr>\n",
              "      <th>1</th>\n",
              "      <td>1</td>\n",
              "      <td>Razer BlackWidow Chroma Keyboard</td>\n",
              "      <td>3</td>\n",
              "      <td>Electronics/Computers &amp; Tablets/Components &amp; P...</td>\n",
              "      <td>Razer</td>\n",
              "      <td>52.0</td>\n",
              "      <td>0</td>\n",
              "      <td>This keyboard is in great condition and works ...</td>\n",
              "    </tr>\n",
              "    <tr>\n",
              "      <th>2</th>\n",
              "      <td>2</td>\n",
              "      <td>AVA-VIV Blouse</td>\n",
              "      <td>1</td>\n",
              "      <td>Women/Tops &amp; Blouses/Blouse</td>\n",
              "      <td>Target</td>\n",
              "      <td>10.0</td>\n",
              "      <td>1</td>\n",
              "      <td>Adorable top with a hint of lace and a key hol...</td>\n",
              "    </tr>\n",
              "  </tbody>\n",
              "</table>\n",
              "</div>"
            ],
            "text/plain": [
              "   train_id  ...                                   item_description\n",
              "0         0  ...                                 No description yet\n",
              "1         1  ...  This keyboard is in great condition and works ...\n",
              "2         2  ...  Adorable top with a hint of lace and a key hol...\n",
              "\n",
              "[3 rows x 8 columns]"
            ]
          },
          "metadata": {},
          "execution_count": 10
        },
        {
          "output_type": "execute_result",
          "data": {
            "text/html": [
              "<div>\n",
              "<style scoped>\n",
              "    .dataframe tbody tr th:only-of-type {\n",
              "        vertical-align: middle;\n",
              "    }\n",
              "\n",
              "    .dataframe tbody tr th {\n",
              "        vertical-align: top;\n",
              "    }\n",
              "\n",
              "    .dataframe thead th {\n",
              "        text-align: right;\n",
              "    }\n",
              "</style>\n",
              "<table border=\"1\" class=\"dataframe\">\n",
              "  <thead>\n",
              "    <tr style=\"text-align: right;\">\n",
              "      <th></th>\n",
              "      <th>test_id</th>\n",
              "      <th>name</th>\n",
              "      <th>item_condition_id</th>\n",
              "      <th>category_name</th>\n",
              "      <th>brand_name</th>\n",
              "      <th>shipping</th>\n",
              "      <th>item_description</th>\n",
              "    </tr>\n",
              "  </thead>\n",
              "  <tbody>\n",
              "    <tr>\n",
              "      <th>0</th>\n",
              "      <td>0</td>\n",
              "      <td>Breast cancer \"I fight like a girl\" ring</td>\n",
              "      <td>1</td>\n",
              "      <td>Women/Jewelry/Rings</td>\n",
              "      <td>missing</td>\n",
              "      <td>1</td>\n",
              "      <td>Size 7</td>\n",
              "    </tr>\n",
              "    <tr>\n",
              "      <th>1</th>\n",
              "      <td>1</td>\n",
              "      <td>25 pcs NEW 7.5\"x12\" Kraft Bubble Mailers</td>\n",
              "      <td>1</td>\n",
              "      <td>Other/Office supplies/Shipping Supplies</td>\n",
              "      <td>missing</td>\n",
              "      <td>1</td>\n",
              "      <td>25 pcs NEW 7.5\"x12\" Kraft Bubble Mailers Lined...</td>\n",
              "    </tr>\n",
              "    <tr>\n",
              "      <th>2</th>\n",
              "      <td>2</td>\n",
              "      <td>Coach bag</td>\n",
              "      <td>1</td>\n",
              "      <td>Vintage &amp; Collectibles/Bags and Purses/Handbag</td>\n",
              "      <td>Coach</td>\n",
              "      <td>1</td>\n",
              "      <td>Brand new coach bag. Bought for [rm] at a Coac...</td>\n",
              "    </tr>\n",
              "  </tbody>\n",
              "</table>\n",
              "</div>"
            ],
            "text/plain": [
              "   test_id  ...                                   item_description\n",
              "0        0  ...                                             Size 7\n",
              "1        1  ...  25 pcs NEW 7.5\"x12\" Kraft Bubble Mailers Lined...\n",
              "2        2  ...  Brand new coach bag. Bought for [rm] at a Coac...\n",
              "\n",
              "[3 rows x 7 columns]"
            ]
          },
          "metadata": {},
          "execution_count": 10
        }
      ]
    },
    {
      "cell_type": "markdown",
      "metadata": {
        "id": "xhOU6FUOeuM-"
      },
      "source": [
        "### Label Encoding of categorical data\n",
        "Label encode `category_name` and `brand_name` fields"
      ]
    },
    {
      "cell_type": "code",
      "metadata": {
        "colab": {
          "base_uri": "https://localhost:8080/"
        },
        "id": "LSXuIqXZYCFV",
        "outputId": "a756a755-1ea1-4606-cf4b-a9ae5cb719f7"
      },
      "source": [
        "# 4.4 Label Encode categorical values\n",
        "#     Two columns: category_name and brand_name\n",
        "\n",
        "# 4.4.1 Look at category_name data\n",
        "train.category_name.values.shape        # 1D (1482535,)\n",
        "test.category_name.values.shape         # 1D (693359,)\n",
        "\n",
        "# 4.4.2 Merge category_name data into one dimensional array\n",
        "catname_array = np.hstack([train.category_name.values, test.category_name.values])\n",
        "# 4.4.3 Also merge brand_name data into one dimensional array\n",
        "brname_array = np.hstack([train.brand_name.values, test.brand_name.values])\n",
        "\n",
        "# 4.4.4 So final shapes:\n",
        "catname_array.shape        # 1D array, (2175894,)\n",
        "brname_array.shape         # 1D array, (2175894,)\n",
        "\n",
        "# 4.4.5 And some values\n",
        "catname_array[:3]\n",
        "brname_array[:3]"
      ],
      "execution_count": null,
      "outputs": [
        {
          "output_type": "execute_result",
          "data": {
            "text/plain": [
              "(1482535,)"
            ]
          },
          "metadata": {},
          "execution_count": 11
        },
        {
          "output_type": "execute_result",
          "data": {
            "text/plain": [
              "(693359,)"
            ]
          },
          "metadata": {},
          "execution_count": 11
        },
        {
          "output_type": "execute_result",
          "data": {
            "text/plain": [
              "(2175894,)"
            ]
          },
          "metadata": {},
          "execution_count": 11
        },
        {
          "output_type": "execute_result",
          "data": {
            "text/plain": [
              "(2175894,)"
            ]
          },
          "metadata": {},
          "execution_count": 11
        },
        {
          "output_type": "execute_result",
          "data": {
            "text/plain": [
              "array(['Men/Tops/T-shirts',\n",
              "       'Electronics/Computers & Tablets/Components & Parts',\n",
              "       'Women/Tops & Blouses/Blouse'], dtype=object)"
            ]
          },
          "metadata": {},
          "execution_count": 11
        },
        {
          "output_type": "execute_result",
          "data": {
            "text/plain": [
              "array(['missing', 'Razer', 'Target'], dtype=object)"
            ]
          },
          "metadata": {},
          "execution_count": 11
        }
      ]
    },
    {
      "cell_type": "code",
      "metadata": {
        "_cell_guid": "204de9ca-7ea5-481b-9039-743bbab1084f",
        "_uuid": "cf9985161bcd94612b1359177e23124efd3410cb",
        "colab": {
          "base_uri": "https://localhost:8080/"
        },
        "id": "SKvg6Q6cYCFV",
        "outputId": "adf01289-18b6-4b70-e04e-dfef0d9dc792"
      },
      "source": [
        "# 5.0 Label or integer encode each category and brand name\n",
        "\n",
        "# 5.1 Instantiate object for category name transformation\n",
        "le = LabelEncoder()\n",
        "# 5.2 Training first\n",
        "le.fit(catname_array)\n",
        "# 5.3 Next transformation\n",
        "train.category_name = le.transform(train.category_name.values)\n",
        "test.category_name = le.transform(test.category_name.values)"
      ],
      "execution_count": null,
      "outputs": [
        {
          "output_type": "execute_result",
          "data": {
            "text/plain": [
              "LabelEncoder()"
            ]
          },
          "metadata": {},
          "execution_count": 12
        }
      ]
    },
    {
      "cell_type": "code",
      "metadata": {
        "colab": {
          "base_uri": "https://localhost:8080/"
        },
        "id": "YRgZA5CKe1uY",
        "outputId": "419a5668-742b-4f1c-ee57-f6520704fcbc"
      },
      "source": [
        "# 5.4 Instantiate another object for brand name transformation\n",
        "le = LabelEncoder()\n",
        "# 5.5 fit and transform\n",
        "le.fit(brname_array)\n",
        "train.brand_name = le.transform(train.brand_name.values)\n",
        "test.brand_name = le.transform(test.brand_name.values)"
      ],
      "execution_count": null,
      "outputs": [
        {
          "output_type": "execute_result",
          "data": {
            "text/plain": [
              "LabelEncoder()"
            ]
          },
          "metadata": {},
          "execution_count": 13
        }
      ]
    },
    {
      "cell_type": "code",
      "metadata": {
        "colab": {
          "base_uri": "https://localhost:8080/"
        },
        "id": "Lb0Nmz3le5B-",
        "outputId": "413d0761-8e91-44d5-fda1-a587cf5167a7"
      },
      "source": [
        "# 5.6 Delete objects not needed\n",
        "del le, catname_array, brname_array\n",
        "gc.collect()"
      ],
      "execution_count": null,
      "outputs": [
        {
          "output_type": "execute_result",
          "data": {
            "text/plain": [
              "253"
            ]
          },
          "metadata": {},
          "execution_count": 14
        }
      ]
    },
    {
      "cell_type": "code",
      "metadata": {
        "colab": {
          "base_uri": "https://localhost:8080/",
          "height": 270
        },
        "id": "D4afLQoDfFZl",
        "outputId": "d2abf082-83c1-4741-9685-514806737fd8"
      },
      "source": [
        "# 5.7 Finally look at transformed data\n",
        "train.head(3)\n",
        "test.head(3)"
      ],
      "execution_count": null,
      "outputs": [
        {
          "output_type": "execute_result",
          "data": {
            "text/html": [
              "<div>\n",
              "<style scoped>\n",
              "    .dataframe tbody tr th:only-of-type {\n",
              "        vertical-align: middle;\n",
              "    }\n",
              "\n",
              "    .dataframe tbody tr th {\n",
              "        vertical-align: top;\n",
              "    }\n",
              "\n",
              "    .dataframe thead th {\n",
              "        text-align: right;\n",
              "    }\n",
              "</style>\n",
              "<table border=\"1\" class=\"dataframe\">\n",
              "  <thead>\n",
              "    <tr style=\"text-align: right;\">\n",
              "      <th></th>\n",
              "      <th>train_id</th>\n",
              "      <th>name</th>\n",
              "      <th>item_condition_id</th>\n",
              "      <th>category_name</th>\n",
              "      <th>brand_name</th>\n",
              "      <th>price</th>\n",
              "      <th>shipping</th>\n",
              "      <th>item_description</th>\n",
              "    </tr>\n",
              "  </thead>\n",
              "  <tbody>\n",
              "    <tr>\n",
              "      <th>0</th>\n",
              "      <td>0</td>\n",
              "      <td>MLB Cincinnati Reds T Shirt Size XL</td>\n",
              "      <td>3</td>\n",
              "      <td>829</td>\n",
              "      <td>5265</td>\n",
              "      <td>10.0</td>\n",
              "      <td>1</td>\n",
              "      <td>No description yet</td>\n",
              "    </tr>\n",
              "    <tr>\n",
              "      <th>1</th>\n",
              "      <td>1</td>\n",
              "      <td>Razer BlackWidow Chroma Keyboard</td>\n",
              "      <td>3</td>\n",
              "      <td>86</td>\n",
              "      <td>3889</td>\n",
              "      <td>52.0</td>\n",
              "      <td>0</td>\n",
              "      <td>This keyboard is in great condition and works ...</td>\n",
              "    </tr>\n",
              "    <tr>\n",
              "      <th>2</th>\n",
              "      <td>2</td>\n",
              "      <td>AVA-VIV Blouse</td>\n",
              "      <td>1</td>\n",
              "      <td>1277</td>\n",
              "      <td>4588</td>\n",
              "      <td>10.0</td>\n",
              "      <td>1</td>\n",
              "      <td>Adorable top with a hint of lace and a key hol...</td>\n",
              "    </tr>\n",
              "  </tbody>\n",
              "</table>\n",
              "</div>"
            ],
            "text/plain": [
              "   train_id  ...                                   item_description\n",
              "0         0  ...                                 No description yet\n",
              "1         1  ...  This keyboard is in great condition and works ...\n",
              "2         2  ...  Adorable top with a hint of lace and a key hol...\n",
              "\n",
              "[3 rows x 8 columns]"
            ]
          },
          "metadata": {},
          "execution_count": 15
        },
        {
          "output_type": "execute_result",
          "data": {
            "text/html": [
              "<div>\n",
              "<style scoped>\n",
              "    .dataframe tbody tr th:only-of-type {\n",
              "        vertical-align: middle;\n",
              "    }\n",
              "\n",
              "    .dataframe tbody tr th {\n",
              "        vertical-align: top;\n",
              "    }\n",
              "\n",
              "    .dataframe thead th {\n",
              "        text-align: right;\n",
              "    }\n",
              "</style>\n",
              "<table border=\"1\" class=\"dataframe\">\n",
              "  <thead>\n",
              "    <tr style=\"text-align: right;\">\n",
              "      <th></th>\n",
              "      <th>test_id</th>\n",
              "      <th>name</th>\n",
              "      <th>item_condition_id</th>\n",
              "      <th>category_name</th>\n",
              "      <th>brand_name</th>\n",
              "      <th>shipping</th>\n",
              "      <th>item_description</th>\n",
              "    </tr>\n",
              "  </thead>\n",
              "  <tbody>\n",
              "    <tr>\n",
              "      <th>0</th>\n",
              "      <td>0</td>\n",
              "      <td>Breast cancer \"I fight like a girl\" ring</td>\n",
              "      <td>1</td>\n",
              "      <td>1205</td>\n",
              "      <td>5265</td>\n",
              "      <td>1</td>\n",
              "      <td>Size 7</td>\n",
              "    </tr>\n",
              "    <tr>\n",
              "      <th>1</th>\n",
              "      <td>1</td>\n",
              "      <td>25 pcs NEW 7.5\"x12\" Kraft Bubble Mailers</td>\n",
              "      <td>1</td>\n",
              "      <td>899</td>\n",
              "      <td>5265</td>\n",
              "      <td>1</td>\n",
              "      <td>25 pcs NEW 7.5\"x12\" Kraft Bubble Mailers Lined...</td>\n",
              "    </tr>\n",
              "    <tr>\n",
              "      <th>2</th>\n",
              "      <td>2</td>\n",
              "      <td>Coach bag</td>\n",
              "      <td>1</td>\n",
              "      <td>1000</td>\n",
              "      <td>1094</td>\n",
              "      <td>1</td>\n",
              "      <td>Brand new coach bag. Bought for [rm] at a Coac...</td>\n",
              "    </tr>\n",
              "  </tbody>\n",
              "</table>\n",
              "</div>"
            ],
            "text/plain": [
              "   test_id  ...                                   item_description\n",
              "0        0  ...                                             Size 7\n",
              "1        1  ...  25 pcs NEW 7.5\"x12\" Kraft Bubble Mailers Lined...\n",
              "2        2  ...  Brand new coach bag. Bought for [rm] at a Coac...\n",
              "\n",
              "[3 rows x 7 columns]"
            ]
          },
          "metadata": {},
          "execution_count": 15
        }
      ]
    },
    {
      "cell_type": "markdown",
      "metadata": {
        "id": "aIdqXCClf3ne"
      },
      "source": [
        "### Transform descriptive fields to integer sequences\n",
        "Takes time<br>\n",
        "Fields are `item_description` and `name`. <br>\n",
        "By default, all punctuation is removed, turning the texts into space-separated sequences of words (words maybe include the ' character). These sequences are then split into lists of tokens. They will then be indexed.\n"
      ]
    },
    {
      "cell_type": "code",
      "metadata": {
        "colab": {
          "base_uri": "https://localhost:8080/",
          "height": 206
        },
        "id": "rgIp0Ge83aXl",
        "outputId": "227315b7-de34-43e1-f34f-9c507839b18f"
      },
      "source": [
        "train.head()"
      ],
      "execution_count": null,
      "outputs": [
        {
          "output_type": "execute_result",
          "data": {
            "text/html": [
              "<div>\n",
              "<style scoped>\n",
              "    .dataframe tbody tr th:only-of-type {\n",
              "        vertical-align: middle;\n",
              "    }\n",
              "\n",
              "    .dataframe tbody tr th {\n",
              "        vertical-align: top;\n",
              "    }\n",
              "\n",
              "    .dataframe thead th {\n",
              "        text-align: right;\n",
              "    }\n",
              "</style>\n",
              "<table border=\"1\" class=\"dataframe\">\n",
              "  <thead>\n",
              "    <tr style=\"text-align: right;\">\n",
              "      <th></th>\n",
              "      <th>train_id</th>\n",
              "      <th>name</th>\n",
              "      <th>item_condition_id</th>\n",
              "      <th>category_name</th>\n",
              "      <th>brand_name</th>\n",
              "      <th>price</th>\n",
              "      <th>shipping</th>\n",
              "      <th>item_description</th>\n",
              "    </tr>\n",
              "  </thead>\n",
              "  <tbody>\n",
              "    <tr>\n",
              "      <th>0</th>\n",
              "      <td>0</td>\n",
              "      <td>MLB Cincinnati Reds T Shirt Size XL</td>\n",
              "      <td>3</td>\n",
              "      <td>829</td>\n",
              "      <td>5265</td>\n",
              "      <td>10.0</td>\n",
              "      <td>1</td>\n",
              "      <td>No description yet</td>\n",
              "    </tr>\n",
              "    <tr>\n",
              "      <th>1</th>\n",
              "      <td>1</td>\n",
              "      <td>Razer BlackWidow Chroma Keyboard</td>\n",
              "      <td>3</td>\n",
              "      <td>86</td>\n",
              "      <td>3889</td>\n",
              "      <td>52.0</td>\n",
              "      <td>0</td>\n",
              "      <td>This keyboard is in great condition and works ...</td>\n",
              "    </tr>\n",
              "    <tr>\n",
              "      <th>2</th>\n",
              "      <td>2</td>\n",
              "      <td>AVA-VIV Blouse</td>\n",
              "      <td>1</td>\n",
              "      <td>1277</td>\n",
              "      <td>4588</td>\n",
              "      <td>10.0</td>\n",
              "      <td>1</td>\n",
              "      <td>Adorable top with a hint of lace and a key hol...</td>\n",
              "    </tr>\n",
              "    <tr>\n",
              "      <th>3</th>\n",
              "      <td>3</td>\n",
              "      <td>Leather Horse Statues</td>\n",
              "      <td>1</td>\n",
              "      <td>503</td>\n",
              "      <td>5265</td>\n",
              "      <td>35.0</td>\n",
              "      <td>1</td>\n",
              "      <td>New with tags. Leather horses. Retail for [rm]...</td>\n",
              "    </tr>\n",
              "    <tr>\n",
              "      <th>4</th>\n",
              "      <td>4</td>\n",
              "      <td>24K GOLD plated rose</td>\n",
              "      <td>1</td>\n",
              "      <td>1204</td>\n",
              "      <td>5265</td>\n",
              "      <td>44.0</td>\n",
              "      <td>0</td>\n",
              "      <td>Complete with certificate of authenticity</td>\n",
              "    </tr>\n",
              "  </tbody>\n",
              "</table>\n",
              "</div>"
            ],
            "text/plain": [
              "   train_id  ...                                   item_description\n",
              "0         0  ...                                 No description yet\n",
              "1         1  ...  This keyboard is in great condition and works ...\n",
              "2         2  ...  Adorable top with a hint of lace and a key hol...\n",
              "3         3  ...  New with tags. Leather horses. Retail for [rm]...\n",
              "4         4  ...          Complete with certificate of authenticity\n",
              "\n",
              "[5 rows x 8 columns]"
            ]
          },
          "metadata": {},
          "execution_count": 16
        }
      ]
    },
    {
      "cell_type": "code",
      "metadata": {
        "colab": {
          "base_uri": "https://localhost:8080/"
        },
        "id": "U-MPzSZ6YCFW",
        "outputId": "ea3b9a14-f8a4-497a-812a-937ebaecab59"
      },
      "source": [
        "# 6. Vectorize into integers text data\n",
        "#    Two columns: item_description, name\n",
        "\n",
        "# 6.1 We assume that words in 'item_description' and 'name'\n",
        "#     columns are same or iterchangeable\n",
        "\n",
        "# 6.2 Stack two columns, item_Description and name, as arrays, end-to-end in one-dimensional array\n",
        "#     We could also have stacked here: test.item_description.values, test.name.values\n",
        "#     (Correct approach would have been to treat the two fields separately)\n",
        "\n",
        "raw_text = np.hstack([train.item_description.values, train.name.values, test.item_description.values, test.name.values])\n",
        "\n",
        "# 6.3 Train tokenizer\n",
        "#     https://www.tensorflow.org/api_docs/python/tf/keras/preprocessing/text/Tokenizer\n",
        "#     Tokenizer filters punctuation, tabs and line-breaks\n",
        "#\n",
        "start = time.time()\n",
        "tok_raw = Tokenizer()           # Create Tokenizer() object\n",
        "tok_raw.fit_on_texts(raw_text)  # Train on text. No transformation as yet\n",
        "end = time.time()               # Takes 2 minutes\n",
        "print(\"...Tokenization Learning finished...\", (end-start)/60, \"minutes\")"
      ],
      "execution_count": null,
      "outputs": [
        {
          "output_type": "stream",
          "name": "stdout",
          "text": [
            "...Tokenization Learning finished... 1.6281993389129639 minutes\n"
          ]
        }
      ]
    },
    {
      "cell_type": "code",
      "metadata": {
        "colab": {
          "base_uri": "https://localhost:8080/"
        },
        "id": "Rzf8nTLkYCFW",
        "outputId": "05c77b10-d99c-45bf-f764-bc42bfc53ccd"
      },
      "source": [
        "# 7. Transform 'item_description' to integer sequences\n",
        "\n",
        "# 7.1\n",
        "print(\"Transforming of text to integer seq...for column, 'seq_item_desc'\")\n",
        "print(\"Transform train first to integer sequences...\")\n",
        "train[\"seq_item_description\"] = tok_raw.texts_to_sequences(train.item_description.values)\n",
        "\n",
        "# 7.2\n",
        "print(\"Transform test, next, to integer sequences...\")\n",
        "test[\"seq_item_description\"] = tok_raw.texts_to_sequences(test.item_description.values)\n",
        "print(\"-----\")"
      ],
      "execution_count": null,
      "outputs": [
        {
          "output_type": "stream",
          "name": "stdout",
          "text": [
            "Transforming of text to integer seq...for column, 'seq_item_desc'\n",
            "Transform train first to integer sequences...\n",
            "Transform test, next, to integer sequences...\n",
            "-----\n"
          ]
        }
      ]
    },
    {
      "cell_type": "code",
      "metadata": {
        "colab": {
          "base_uri": "https://localhost:8080/",
          "height": 195
        },
        "id": "CTGV3l_b4HUC",
        "outputId": "cd01447c-5578-4513-d59c-13dc96d9b29c"
      },
      "source": [
        "# 7.3 Check transformations:\n",
        "\n",
        "train.head(3)"
      ],
      "execution_count": null,
      "outputs": [
        {
          "output_type": "execute_result",
          "data": {
            "text/html": [
              "<div>\n",
              "<style scoped>\n",
              "    .dataframe tbody tr th:only-of-type {\n",
              "        vertical-align: middle;\n",
              "    }\n",
              "\n",
              "    .dataframe tbody tr th {\n",
              "        vertical-align: top;\n",
              "    }\n",
              "\n",
              "    .dataframe thead th {\n",
              "        text-align: right;\n",
              "    }\n",
              "</style>\n",
              "<table border=\"1\" class=\"dataframe\">\n",
              "  <thead>\n",
              "    <tr style=\"text-align: right;\">\n",
              "      <th></th>\n",
              "      <th>train_id</th>\n",
              "      <th>name</th>\n",
              "      <th>item_condition_id</th>\n",
              "      <th>category_name</th>\n",
              "      <th>brand_name</th>\n",
              "      <th>price</th>\n",
              "      <th>shipping</th>\n",
              "      <th>item_description</th>\n",
              "      <th>seq_item_description</th>\n",
              "    </tr>\n",
              "  </thead>\n",
              "  <tbody>\n",
              "    <tr>\n",
              "      <th>0</th>\n",
              "      <td>0</td>\n",
              "      <td>MLB Cincinnati Reds T Shirt Size XL</td>\n",
              "      <td>3</td>\n",
              "      <td>829</td>\n",
              "      <td>5265</td>\n",
              "      <td>10.0</td>\n",
              "      <td>1</td>\n",
              "      <td>No description yet</td>\n",
              "      <td>[12, 68, 79]</td>\n",
              "    </tr>\n",
              "    <tr>\n",
              "      <th>1</th>\n",
              "      <td>1</td>\n",
              "      <td>Razer BlackWidow Chroma Keyboard</td>\n",
              "      <td>3</td>\n",
              "      <td>86</td>\n",
              "      <td>3889</td>\n",
              "      <td>52.0</td>\n",
              "      <td>0</td>\n",
              "      <td>This keyboard is in great condition and works ...</td>\n",
              "      <td>[29, 2667, 10, 7, 38, 17, 1, 206, 51, 19, 1098...</td>\n",
              "    </tr>\n",
              "    <tr>\n",
              "      <th>2</th>\n",
              "      <td>2</td>\n",
              "      <td>AVA-VIV Blouse</td>\n",
              "      <td>1</td>\n",
              "      <td>1277</td>\n",
              "      <td>4588</td>\n",
              "      <td>10.0</td>\n",
              "      <td>1</td>\n",
              "      <td>Adorable top with a hint of lace and a key hol...</td>\n",
              "      <td>[596, 60, 9, 4, 5354, 11, 192, 1, 4, 900, 1298...</td>\n",
              "    </tr>\n",
              "  </tbody>\n",
              "</table>\n",
              "</div>"
            ],
            "text/plain": [
              "   train_id  ...                               seq_item_description\n",
              "0         0  ...                                       [12, 68, 79]\n",
              "1         1  ...  [29, 2667, 10, 7, 38, 17, 1, 206, 51, 19, 1098...\n",
              "2         2  ...  [596, 60, 9, 4, 5354, 11, 192, 1, 4, 900, 1298...\n",
              "\n",
              "[3 rows x 9 columns]"
            ]
          },
          "metadata": {},
          "execution_count": 19
        }
      ]
    },
    {
      "cell_type": "code",
      "metadata": {
        "_cell_guid": "b122ac7a-c203-463f-aa92-b843b039fce3",
        "_uuid": "ff62bf6d3681b84510026bfa3514963513f2e8f2",
        "colab": {
          "base_uri": "https://localhost:8080/"
        },
        "id": "lQtKODLBYCFX",
        "outputId": "c66b3142-b1c9-481d-8700-a5a2ed450283"
      },
      "source": [
        "# 8.0 Transform 'name' to integer sequences\n",
        "\n",
        "# 8.1\n",
        "print(\"Transforming of text to integer seq...for column, 'name'\")\n",
        "print(\"Transform train first..\")\n",
        "train[\"seq_name\"] = tok_raw.texts_to_sequences(train.name.values)\n",
        "\n",
        "# 8.2\n",
        "print(\"Transform test next to integer seq..\")\n",
        "test[\"seq_name\"] = tok_raw.texts_to_sequences(test.name.values)\n",
        "print(\"Done... print Ist few rows. Check new columns seq_name\")"
      ],
      "execution_count": null,
      "outputs": [
        {
          "output_type": "stream",
          "name": "stdout",
          "text": [
            "Transforming of text to integer seq...for column, 'name'\n",
            "Transform train first..\n",
            "Transform test next to integer seq..\n",
            "Done... print Ist few rows. Check new columns seq_name\n"
          ]
        }
      ]
    },
    {
      "cell_type": "code",
      "metadata": {
        "colab": {
          "base_uri": "https://localhost:8080/",
          "height": 195
        },
        "id": "k4xwUSGG4plt",
        "outputId": "f25bb75c-bb9f-46a6-f7f7-e93702acd0ed"
      },
      "source": [
        "# 8.3\n",
        "train.head(3)"
      ],
      "execution_count": null,
      "outputs": [
        {
          "output_type": "execute_result",
          "data": {
            "text/html": [
              "<div>\n",
              "<style scoped>\n",
              "    .dataframe tbody tr th:only-of-type {\n",
              "        vertical-align: middle;\n",
              "    }\n",
              "\n",
              "    .dataframe tbody tr th {\n",
              "        vertical-align: top;\n",
              "    }\n",
              "\n",
              "    .dataframe thead th {\n",
              "        text-align: right;\n",
              "    }\n",
              "</style>\n",
              "<table border=\"1\" class=\"dataframe\">\n",
              "  <thead>\n",
              "    <tr style=\"text-align: right;\">\n",
              "      <th></th>\n",
              "      <th>train_id</th>\n",
              "      <th>name</th>\n",
              "      <th>item_condition_id</th>\n",
              "      <th>category_name</th>\n",
              "      <th>brand_name</th>\n",
              "      <th>price</th>\n",
              "      <th>shipping</th>\n",
              "      <th>item_description</th>\n",
              "      <th>seq_item_description</th>\n",
              "      <th>seq_name</th>\n",
              "    </tr>\n",
              "  </thead>\n",
              "  <tbody>\n",
              "    <tr>\n",
              "      <th>0</th>\n",
              "      <td>0</td>\n",
              "      <td>MLB Cincinnati Reds T Shirt Size XL</td>\n",
              "      <td>3</td>\n",
              "      <td>829</td>\n",
              "      <td>5265</td>\n",
              "      <td>10.0</td>\n",
              "      <td>1</td>\n",
              "      <td>No description yet</td>\n",
              "      <td>[12, 68, 79]</td>\n",
              "      <td>[3878, 8988, 6978, 208, 84, 6, 155]</td>\n",
              "    </tr>\n",
              "    <tr>\n",
              "      <th>1</th>\n",
              "      <td>1</td>\n",
              "      <td>Razer BlackWidow Chroma Keyboard</td>\n",
              "      <td>3</td>\n",
              "      <td>86</td>\n",
              "      <td>3889</td>\n",
              "      <td>52.0</td>\n",
              "      <td>0</td>\n",
              "      <td>This keyboard is in great condition and works ...</td>\n",
              "      <td>[29, 2667, 10, 7, 38, 17, 1, 206, 51, 19, 1098...</td>\n",
              "      <td>[11404, 27915, 17355, 2667]</td>\n",
              "    </tr>\n",
              "    <tr>\n",
              "      <th>2</th>\n",
              "      <td>2</td>\n",
              "      <td>AVA-VIV Blouse</td>\n",
              "      <td>1</td>\n",
              "      <td>1277</td>\n",
              "      <td>4588</td>\n",
              "      <td>10.0</td>\n",
              "      <td>1</td>\n",
              "      <td>Adorable top with a hint of lace and a key hol...</td>\n",
              "      <td>[596, 60, 9, 4, 5354, 11, 192, 1, 4, 900, 1298...</td>\n",
              "      <td>[7812, 10862, 666]</td>\n",
              "    </tr>\n",
              "  </tbody>\n",
              "</table>\n",
              "</div>"
            ],
            "text/plain": [
              "   train_id  ...                             seq_name\n",
              "0         0  ...  [3878, 8988, 6978, 208, 84, 6, 155]\n",
              "1         1  ...          [11404, 27915, 17355, 2667]\n",
              "2         2  ...                   [7812, 10862, 666]\n",
              "\n",
              "[3 rows x 10 columns]"
            ]
          },
          "metadata": {},
          "execution_count": 21
        }
      ]
    },
    {
      "cell_type": "markdown",
      "metadata": {
        "id": "_Plkuyym9eWo"
      },
      "source": [
        "#### In a Series of Integer sequences, find the highest integer:\n",
        "seq_name<br>\n",
        "[4,5,6]<br>\n",
        "[10,34,1]<br>\n",
        "[1,12,1]<br>\n",
        "Answer: 34<br>"
      ]
    },
    {
      "cell_type": "code",
      "metadata": {
        "colab": {
          "base_uri": "https://localhost:8080/"
        },
        "id": "ZYmxwEggYCFY",
        "outputId": "899e5102-27b6-4240-869e-de0db248f954"
      },
      "source": [
        "# 8.4 Here are data samples of transformed columns\n",
        "train.seq_name[:10]\n",
        "\n",
        "# 8.4.1 See below how max() behaves:\n",
        "#       It prints that sequence which has the\n",
        "#       maximum value:\n",
        "print(\"\\n\\n---Seq with largest integer---\\n\")\n",
        "print(train.seq_name[:10].max())\n",
        "\n",
        "# 8.4.2 In that particular sequence,\n",
        "#       fimd the maximum value:\n",
        "print(\"\\n--Highest ----\\n\")\n",
        "print(np.max(train.seq_name[:10].max()))\n"
      ],
      "execution_count": null,
      "outputs": [
        {
          "output_type": "execute_result",
          "data": {
            "text/plain": [
              "0    [3878, 8988, 6978, 208, 84, 6, 155]\n",
              "1            [11404, 27915, 17355, 2667]\n",
              "2                     [7812, 10862, 666]\n",
              "3                     [178, 2603, 14009]\n",
              "4                 [4962, 103, 1032, 280]\n",
              "5              [912, 85, 3582, 3, 93914]\n",
              "6         [4845, 4896, 21493, 21865, 60]\n",
              "7      [264, 3696, 1, 26513, 27, 11, 64]\n",
              "8                    [264, 89, 501, 129]\n",
              "9    [4051, 8980, 595, 11977, 181, 4806]\n",
              "Name: seq_name, dtype: object"
            ]
          },
          "metadata": {},
          "execution_count": 22
        },
        {
          "output_type": "stream",
          "name": "stdout",
          "text": [
            "\n",
            "\n",
            "---Seq with largest integer---\n",
            "\n",
            "[11404, 27915, 17355, 2667]\n",
            "\n",
            "--Highest ----\n",
            "\n",
            "27915\n"
          ]
        }
      ]
    },
    {
      "cell_type": "code",
      "metadata": {
        "id": "lXq8b3nkYCFY",
        "colab": {
          "base_uri": "https://localhost:8080/"
        },
        "outputId": "5febf011-cd98-410e-d718-b27e43c5e6b9"
      },
      "source": [
        "# 8.5 Here are data samples of seq_item_desc\n",
        "train.seq_item_description[:10]\n",
        "\n",
        "# 8.5.1 See below how max behaves:\n",
        "train.seq_item_description[:10].max()\n"
      ],
      "execution_count": null,
      "outputs": [
        {
          "output_type": "execute_result",
          "data": {
            "text/plain": [
              "0                                         [12, 68, 79]\n",
              "1    [29, 2667, 10, 7, 38, 17, 1, 206, 51, 19, 1098...\n",
              "2    [596, 60, 9, 4, 5354, 11, 192, 1, 4, 900, 1298...\n",
              "3    [5, 9, 61, 178, 6618, 229, 3, 21, 166, 1087, 2...\n",
              "4                             [801, 9, 7025, 11, 2013]\n",
              "5    [1320, 1722, 624, 5133, 327, 9, 778, 1967, 636...\n",
              "6    [6, 44, 39, 468, 752, 15282, 8, 99, 179, 2829,...\n",
              "7    [18, 145, 502, 351, 11, 9123, 3696, 129, 6, 44...\n",
              "8                [264, 6, 44, 119, 148, 502, 129, 505]\n",
              "9    [15, 3545, 1742, 181, 26, 14, 11440, 286, 2, 2...\n",
              "Name: seq_item_description, dtype: object"
            ]
          },
          "metadata": {},
          "execution_count": 23
        },
        {
          "output_type": "execute_result",
          "data": {
            "text/plain": [
              "[1320,\n",
              " 1722,\n",
              " 624,\n",
              " 5133,\n",
              " 327,\n",
              " 9,\n",
              " 778,\n",
              " 1967,\n",
              " 6364,\n",
              " 54729,\n",
              " 625,\n",
              " 2357,\n",
              " 624,\n",
              " 1,\n",
              " 2889,\n",
              " 60]"
            ]
          },
          "metadata": {},
          "execution_count": 23
        }
      ]
    },
    {
      "cell_type": "markdown",
      "metadata": {
        "id": "hNYXzSS8r5nB"
      },
      "source": [
        "### Find the length of that sequence which has max length\n",
        "In both the fields `seq_item_description` and in `seq_name` find the max length of sequences."
      ]
    },
    {
      "cell_type": "code",
      "metadata": {
        "colab": {
          "base_uri": "https://localhost:8080/",
          "height": 225
        },
        "id": "RCarCk8iYCFZ",
        "outputId": "e8061620-03cd-4b8a-e11f-528683ecffec"
      },
      "source": [
        "# 8.6 Behaviour of method: Series.max()\n",
        "#     Create a sample one-column dataframe:\n",
        "\n",
        "t = pd.DataFrame({'a' : [[2,2],[2,3],[3,5], [4,0],[3,10]]})\n",
        "t\n",
        "\n",
        "# Returns that row which has first value as maximum\n",
        "#  When for two cases, 1st values are equal then IInd value is seen\n",
        "t.a.max()"
      ],
      "execution_count": null,
      "outputs": [
        {
          "output_type": "execute_result",
          "data": {
            "text/html": [
              "<div>\n",
              "<style scoped>\n",
              "    .dataframe tbody tr th:only-of-type {\n",
              "        vertical-align: middle;\n",
              "    }\n",
              "\n",
              "    .dataframe tbody tr th {\n",
              "        vertical-align: top;\n",
              "    }\n",
              "\n",
              "    .dataframe thead th {\n",
              "        text-align: right;\n",
              "    }\n",
              "</style>\n",
              "<table border=\"1\" class=\"dataframe\">\n",
              "  <thead>\n",
              "    <tr style=\"text-align: right;\">\n",
              "      <th></th>\n",
              "      <th>a</th>\n",
              "    </tr>\n",
              "  </thead>\n",
              "  <tbody>\n",
              "    <tr>\n",
              "      <th>0</th>\n",
              "      <td>[2, 2]</td>\n",
              "    </tr>\n",
              "    <tr>\n",
              "      <th>1</th>\n",
              "      <td>[2, 3]</td>\n",
              "    </tr>\n",
              "    <tr>\n",
              "      <th>2</th>\n",
              "      <td>[3, 5]</td>\n",
              "    </tr>\n",
              "    <tr>\n",
              "      <th>3</th>\n",
              "      <td>[4, 0]</td>\n",
              "    </tr>\n",
              "    <tr>\n",
              "      <th>4</th>\n",
              "      <td>[3, 10]</td>\n",
              "    </tr>\n",
              "  </tbody>\n",
              "</table>\n",
              "</div>"
            ],
            "text/plain": [
              "         a\n",
              "0   [2, 2]\n",
              "1   [2, 3]\n",
              "2   [3, 5]\n",
              "3   [4, 0]\n",
              "4  [3, 10]"
            ]
          },
          "metadata": {},
          "execution_count": 24
        },
        {
          "output_type": "execute_result",
          "data": {
            "text/plain": [
              "[4, 0]"
            ]
          },
          "metadata": {},
          "execution_count": 24
        }
      ]
    },
    {
      "cell_type": "code",
      "metadata": {
        "colab": {
          "base_uri": "https://localhost:8080/",
          "height": 356
        },
        "id": "tdhNTsRAqzHb",
        "outputId": "74d60c21-5501-4476-ec17-d3e2a90e5d0f"
      },
      "source": [
        "# 8.7 Create another sample of one-column dataframe\n",
        "#     but with different sequence lengths:\n",
        "\n",
        "t = pd.DataFrame({'a' : [[2,2,3],[2,3,4,5],[3,5], [4,0,1,2,3,4],[3,10]]})\n",
        "t\n",
        "# 8.7.1 Returns that row which has maximum length\n",
        "\n",
        "t.a.apply(lambda x: len(x))\n",
        "\n",
        "print(\"\\n=====\")\n",
        "\n",
        "print(np.max(t.a.apply(lambda x: len(x))))\n"
      ],
      "execution_count": null,
      "outputs": [
        {
          "output_type": "execute_result",
          "data": {
            "text/html": [
              "<div>\n",
              "<style scoped>\n",
              "    .dataframe tbody tr th:only-of-type {\n",
              "        vertical-align: middle;\n",
              "    }\n",
              "\n",
              "    .dataframe tbody tr th {\n",
              "        vertical-align: top;\n",
              "    }\n",
              "\n",
              "    .dataframe thead th {\n",
              "        text-align: right;\n",
              "    }\n",
              "</style>\n",
              "<table border=\"1\" class=\"dataframe\">\n",
              "  <thead>\n",
              "    <tr style=\"text-align: right;\">\n",
              "      <th></th>\n",
              "      <th>a</th>\n",
              "    </tr>\n",
              "  </thead>\n",
              "  <tbody>\n",
              "    <tr>\n",
              "      <th>0</th>\n",
              "      <td>[2, 2, 3]</td>\n",
              "    </tr>\n",
              "    <tr>\n",
              "      <th>1</th>\n",
              "      <td>[2, 3, 4, 5]</td>\n",
              "    </tr>\n",
              "    <tr>\n",
              "      <th>2</th>\n",
              "      <td>[3, 5]</td>\n",
              "    </tr>\n",
              "    <tr>\n",
              "      <th>3</th>\n",
              "      <td>[4, 0, 1, 2, 3, 4]</td>\n",
              "    </tr>\n",
              "    <tr>\n",
              "      <th>4</th>\n",
              "      <td>[3, 10]</td>\n",
              "    </tr>\n",
              "  </tbody>\n",
              "</table>\n",
              "</div>"
            ],
            "text/plain": [
              "                    a\n",
              "0           [2, 2, 3]\n",
              "1        [2, 3, 4, 5]\n",
              "2              [3, 5]\n",
              "3  [4, 0, 1, 2, 3, 4]\n",
              "4             [3, 10]"
            ]
          },
          "metadata": {},
          "execution_count": 25
        },
        {
          "output_type": "execute_result",
          "data": {
            "text/plain": [
              "0    3\n",
              "1    4\n",
              "2    2\n",
              "3    6\n",
              "4    2\n",
              "Name: a, dtype: int64"
            ]
          },
          "metadata": {},
          "execution_count": 25
        },
        {
          "output_type": "stream",
          "name": "stdout",
          "text": [
            "\n",
            "=====\n",
            "6\n"
          ]
        }
      ]
    },
    {
      "cell_type": "code",
      "metadata": {
        "_cell_guid": "9da5165e-0692-4c1a-a5e7-3fb1c6c1a4fd",
        "_uuid": "335a3d95444a2602598aebbfa6de0a8a3f5a1814",
        "colab": {
          "base_uri": "https://localhost:8080/"
        },
        "id": "nRfgmH0gYCFZ",
        "outputId": "4a1e80bc-1498-4c73-bddb-a8dc156965e4"
      },
      "source": [
        "# 9   Analysing sequence lengths of two columns\n",
        "#     Two columns: item_description, name\n",
        "\n",
        "# 9.1 Get maximum length integer sequences in column, seq_name\n",
        "max_name_seq = np.max([\n",
        "                       np.max(train.seq_name.apply(lambda x: len(x))),\n",
        "                       np.max(test.seq_name.apply(lambda x: len(x)))\n",
        "                       ]\n",
        "                      )\n",
        "\n",
        "# 9.2 Get maximum length of integer sequences in column, seq_item_description\n",
        "max_seq_item_description = np.max([\n",
        "                                   np.max(train.seq_item_description.apply(lambda x: len(x))),\n",
        "                                   np.max(test.seq_item_description.apply(lambda x: len(x)))\n",
        "                                   ]\n",
        "                                  )\n",
        "\n",
        "# 9.2.1\n",
        "print(\"max name seq length\"+str(max_name_seq))\n",
        "print(\"max item desc seq length\"+str(max_seq_item_description))"
      ],
      "execution_count": null,
      "outputs": [
        {
          "output_type": "stream",
          "name": "stdout",
          "text": [
            "max name seq length17\n",
            "max item desc seq length269\n"
          ]
        }
      ]
    },
    {
      "cell_type": "code",
      "metadata": {
        "_cell_guid": "3e87bf13-093e-42a3-bef9-ed10322944df",
        "_uuid": "32ffa5a96deaeb6214469a2594475f7b5a15bc92",
        "colab": {
          "base_uri": "https://localhost:8080/",
          "height": 284
        },
        "id": "V4eAYbFYYCFZ",
        "outputId": "ab127aa8-d753-44b1-ab35-7a2d350c9241"
      },
      "source": [
        "# 9.3 Get histogram of distribution of seq_name lengths\n",
        "#     Histogram can be used to decide where to cut-off max lengths\n",
        "\n",
        "train.seq_name.apply(lambda x: len(x)).hist()"
      ],
      "execution_count": null,
      "outputs": [
        {
          "output_type": "execute_result",
          "data": {
            "text/plain": [
              "<matplotlib.axes._subplots.AxesSubplot at 0x7f157601e090>"
            ]
          },
          "metadata": {},
          "execution_count": 27
        },
        {
          "output_type": "display_data",
          "data": {
            "image/png": "[encoded data removed]",
            "text/plain": [
              "<Figure size 432x288 with 1 Axes>"
            ]
          },
          "metadata": {
            "needs_background": "light"
          }
        }
      ]
    },
    {
      "cell_type": "code",
      "metadata": {
        "_cell_guid": "09349ced-fcac-4406-8876-a00fc269218d",
        "_uuid": "bdfde374cbe6f2edc9c453f91ef90c757c8d8f06",
        "id": "-HuPx7UfYCFa",
        "colab": {
          "base_uri": "https://localhost:8080/",
          "height": 295
        },
        "outputId": "31869040-0f9f-4296-9af9-6fe48b95302e"
      },
      "source": [
        "# 9.4 Get histogram of distribution of seq_item_description \n",
        "#     Histogram can be used to decide where to cut-off max lengths\n",
        "\n",
        "train.seq_item_description.apply(lambda x: len(x)).hist()"
      ],
      "execution_count": null,
      "outputs": [
        {
          "output_type": "execute_result",
          "data": {
            "text/plain": [
              "<matplotlib.axes._subplots.AxesSubplot at 0x7f1586f35e90>"
            ]
          },
          "metadata": {},
          "execution_count": 28
        },
        {
          "output_type": "display_data",
          "data": {
            "image/png": "[encoded data removed]",
            "text/plain": [
              "<Figure size 432x288 with 1 Axes>"
            ]
          },
          "metadata": {
            "needs_background": "light"
          }
        }
      ]
    },
    {
      "cell_type": "markdown",
      "metadata": {
        "id": "BAArnKvOBB51"
      },
      "source": [
        "#### Get max integer values "
      ]
    },
    {
      "cell_type": "code",
      "metadata": {
        "id": "WICZsGm2YCFa"
      },
      "source": [
        "# 10 EMBEDDINGS MAX VALUES\n",
        "# 10.1 Based on the histograms, we select the max lengths\n",
        "#      OR timesteps in RNN for two integer sequences, as:\n",
        "\n",
        "MAX_NAME_SEQ = 10\n",
        "MAX_ITEM_DESC_SEQ = 75"
      ],
      "execution_count": null,
      "outputs": []
    },
    {
      "cell_type": "code",
      "metadata": {
        "_cell_guid": "e1b9db3a-63de-4bd9-9bad-2db899176053",
        "_uuid": "4cae7d35e8b44e04df93c9f8084ec67ef40a1828",
        "colab": {
          "base_uri": "https://localhost:8080/"
        },
        "id": "WFEW-ifbYCFb",
        "outputId": "e00c5849-0012-49c3-eae5-f35966d99fda"
      },
      "source": [
        "# 10.2 Vocabulary sizes of all text-sequences and all label-encoded\n",
        "#      caregories\n",
        "#      This would be max integer value used in any column.\n",
        "#      Because conversion to integer sequence starts from 1 \n",
        "\n",
        "\n",
        "# 10.2.1 Columns seq_name and seq_item_description\n",
        "MAX_TEXT = np.max([np.max(train.seq_name.max()),\n",
        "                   np.max(test.seq_name.max()),\n",
        "                   np.max(train.seq_item_description.max()),\n",
        "                   np.max(test.seq_item_description.max())\n",
        "                  ]\n",
        "                 ) + 2\n",
        "\n",
        "print(\"Maximum integer used in MAX_TEXT: \", MAX_TEXT)\n",
        "\n",
        "# 10.2.2 Column category_name (transformed by label encoder)\n",
        "MAX_CATEGORY = np.max([\n",
        "                       train.category_name.max(),\n",
        "                       test.category_name.max()]\n",
        "                     ) + 1\n",
        "\n",
        "\n",
        "print(\"Maximum integer used in MAX_CATEGORY: \", MAX_CATEGORY)\n",
        "\n",
        "# 10.2.3 Column brand_name (transformed by label encoder)\n",
        "MAX_BRAND =   np.max([\n",
        "                      train.brand_name.max(),\n",
        "                      test.brand_name.max()\n",
        "                     ]\n",
        "                    ) + 1\n",
        "\n",
        "print(\"Maximum integer used in MAX_BRAND: \", MAX_BRAND)\n",
        "\n",
        "# 10.2.3 Column, item_condition, already in integer format\n",
        "MAX_CONDITION = np.max([\n",
        "                        train.item_condition_id.max(),\n",
        "                        test.item_condition_id.max()\n",
        "                        ]\n",
        "                       ) + 1\n",
        "\n",
        "print(\"Maximum integer used in MAX_CONDITION: \", MAX_CONDITION)"
      ],
      "execution_count": null,
      "outputs": [
        {
          "output_type": "stream",
          "name": "stdout",
          "text": [
            "Maximum integer used in MAX_TEXT:  321998\n",
            "Maximum integer used in MAX_CATEGORY:  1311\n",
            "Maximum integer used in MAX_BRAND:  5290\n",
            "Maximum integer used in MAX_CONDITION:  6\n"
          ]
        }
      ]
    },
    {
      "cell_type": "markdown",
      "metadata": {
        "id": "yoEc_4bfCSyp"
      },
      "source": [
        "## Numeric fields\n",
        "Scale numeric field and create a random numeric field"
      ]
    },
    {
      "cell_type": "markdown",
      "metadata": {
        "id": "bXbgobYqCmRo"
      },
      "source": [
        "### Scale 'price' field\n",
        "Scaled price field is called 'target'"
      ]
    },
    {
      "cell_type": "code",
      "metadata": {
        "_cell_guid": "cb88f6b3-44ab-4ab4-831a-6a3ebdd0e10d",
        "_uuid": "53474065f08e5d469e4a65bd272c0b316ae26b1e",
        "colab": {
          "base_uri": "https://localhost:8080/",
          "height": 319
        },
        "id": "C0riZbOeYCFb",
        "outputId": "1ea8e3df-1f4d-45a1-da8a-36d943639e6f"
      },
      "source": [
        "# 11 Scale target variable, 'price': \n",
        "#     First take log and then scale log\n",
        "\n",
        "# 11.1 First take a log of target. Why?\n",
        "#      Make target values symmetric\n",
        "train[\"target\"] = np.log( train.price + 1)   # Add 1 to escape from -ve infinity\n",
        "\n",
        "# 11.2 Then scale log values using min-max scaler between -1 and 1\n",
        "#      Why?\n",
        "#      Scaling between (-1,1) is helpful in NN modeling\n",
        "target_scaler = MinMaxScaler(feature_range=(-1, 1))\n",
        "train[\"target\"] = target_scaler.fit_transform(train.target.values.reshape(-1,1))\n",
        "\n",
        "# 11.3 Display histogram of transformed target\n",
        "#      It is quite symmetric\n",
        "pd.DataFrame(train.target).hist()"
      ],
      "execution_count": null,
      "outputs": [
        {
          "output_type": "execute_result",
          "data": {
            "text/plain": [
              "array([[<matplotlib.axes._subplots.AxesSubplot object at 0x7f1575a29410>]],\n",
              "      dtype=object)"
            ]
          },
          "metadata": {},
          "execution_count": 31
        },
        {
          "output_type": "display_data",
          "data": {
            "image/png": "[encoded data removed]",
            "text/plain": [
              "<Figure size 432x288 with 1 Axes>"
            ]
          },
          "metadata": {
            "needs_background": "light"
          }
        }
      ]
    },
    {
      "cell_type": "markdown",
      "metadata": {
        "id": "0d9YVqTvB04a"
      },
      "source": [
        "### Create one more num column\n",
        "This column will have random number values. The only numeric feature that we have is `'shipping'`. We will create one more  numerical column with random values for better demonstration of our proposed architecture. Otherwise, this column is NOT at all needed.\n"
      ]
    },
    {
      "cell_type": "code",
      "metadata": {
        "colab": {
          "base_uri": "https://localhost:8080/",
          "height": 445
        },
        "id": "Zy_yUOmxYCFb",
        "outputId": "7d7c6648-e360-43b1-d9b2-848f5b69e9e5"
      },
      "source": [
        "# 12 Create an arbitrary column. Why?\n",
        "#    We want two numerical columns for better demonstration of our\n",
        "#    proposed architecture. Otherwise, this column is NOT at all needed\n",
        "\n",
        "# 12.1 Add some small random values to shipping column and create a new column\n",
        "train['ship_rand'] = train.shipping + np.random.random(size = train.shipping[0])\n",
        "train.head(3)\n",
        "\n",
        "# 12.2\n",
        "test['ship_rand'] = test.shipping + np.random.random(size = test.shipping[0])\n",
        "#test.head(3)\n",
        "\n",
        "# 12.3\n",
        "train.shape    # (1482535, 12)\n",
        "test.shape     # (693359, 10)   Missing 'price' and its transformed column 'target'\n"
      ],
      "execution_count": null,
      "outputs": [
        {
          "output_type": "execute_result",
          "data": {
            "text/html": [
              "<div>\n",
              "<style scoped>\n",
              "    .dataframe tbody tr th:only-of-type {\n",
              "        vertical-align: middle;\n",
              "    }\n",
              "\n",
              "    .dataframe tbody tr th {\n",
              "        vertical-align: top;\n",
              "    }\n",
              "\n",
              "    .dataframe thead th {\n",
              "        text-align: right;\n",
              "    }\n",
              "</style>\n",
              "<table border=\"1\" class=\"dataframe\">\n",
              "  <thead>\n",
              "    <tr style=\"text-align: right;\">\n",
              "      <th></th>\n",
              "      <th>train_id</th>\n",
              "      <th>name</th>\n",
              "      <th>item_condition_id</th>\n",
              "      <th>category_name</th>\n",
              "      <th>brand_name</th>\n",
              "      <th>price</th>\n",
              "      <th>shipping</th>\n",
              "      <th>item_description</th>\n",
              "      <th>seq_item_description</th>\n",
              "      <th>seq_name</th>\n",
              "      <th>target</th>\n",
              "      <th>ship_rand</th>\n",
              "    </tr>\n",
              "  </thead>\n",
              "  <tbody>\n",
              "    <tr>\n",
              "      <th>0</th>\n",
              "      <td>0</td>\n",
              "      <td>MLB Cincinnati Reds T Shirt Size XL</td>\n",
              "      <td>3</td>\n",
              "      <td>829</td>\n",
              "      <td>5265</td>\n",
              "      <td>10.0</td>\n",
              "      <td>1</td>\n",
              "      <td>No description yet</td>\n",
              "      <td>[12, 68, 79]</td>\n",
              "      <td>[3878, 8988, 6978, 208, 84, 6, 155]</td>\n",
              "      <td>-0.369464</td>\n",
              "      <td>1.721413</td>\n",
              "    </tr>\n",
              "    <tr>\n",
              "      <th>1</th>\n",
              "      <td>1</td>\n",
              "      <td>Razer BlackWidow Chroma Keyboard</td>\n",
              "      <td>3</td>\n",
              "      <td>86</td>\n",
              "      <td>3889</td>\n",
              "      <td>52.0</td>\n",
              "      <td>0</td>\n",
              "      <td>This keyboard is in great condition and works ...</td>\n",
              "      <td>[29, 2667, 10, 7, 38, 17, 1, 206, 51, 19, 1098...</td>\n",
              "      <td>[11404, 27915, 17355, 2667]</td>\n",
              "      <td>0.044005</td>\n",
              "      <td>0.721413</td>\n",
              "    </tr>\n",
              "    <tr>\n",
              "      <th>2</th>\n",
              "      <td>2</td>\n",
              "      <td>AVA-VIV Blouse</td>\n",
              "      <td>1</td>\n",
              "      <td>1277</td>\n",
              "      <td>4588</td>\n",
              "      <td>10.0</td>\n",
              "      <td>1</td>\n",
              "      <td>Adorable top with a hint of lace and a key hol...</td>\n",
              "      <td>[596, 60, 9, 4, 5354, 11, 192, 1, 4, 900, 1298...</td>\n",
              "      <td>[7812, 10862, 666]</td>\n",
              "      <td>-0.369464</td>\n",
              "      <td>1.721413</td>\n",
              "    </tr>\n",
              "  </tbody>\n",
              "</table>\n",
              "</div>"
            ],
            "text/plain": [
              "   train_id                                 name  ...    target  ship_rand\n",
              "0         0  MLB Cincinnati Reds T Shirt Size XL  ... -0.369464   1.721413\n",
              "1         1     Razer BlackWidow Chroma Keyboard  ...  0.044005   0.721413\n",
              "2         2                       AVA-VIV Blouse  ... -0.369464   1.721413\n",
              "\n",
              "[3 rows x 12 columns]"
            ]
          },
          "metadata": {},
          "execution_count": 32
        },
        {
          "output_type": "execute_result",
          "data": {
            "text/html": [
              "<div>\n",
              "<style scoped>\n",
              "    .dataframe tbody tr th:only-of-type {\n",
              "        vertical-align: middle;\n",
              "    }\n",
              "\n",
              "    .dataframe tbody tr th {\n",
              "        vertical-align: top;\n",
              "    }\n",
              "\n",
              "    .dataframe thead th {\n",
              "        text-align: right;\n",
              "    }\n",
              "</style>\n",
              "<table border=\"1\" class=\"dataframe\">\n",
              "  <thead>\n",
              "    <tr style=\"text-align: right;\">\n",
              "      <th></th>\n",
              "      <th>test_id</th>\n",
              "      <th>name</th>\n",
              "      <th>item_condition_id</th>\n",
              "      <th>category_name</th>\n",
              "      <th>brand_name</th>\n",
              "      <th>shipping</th>\n",
              "      <th>item_description</th>\n",
              "      <th>seq_item_description</th>\n",
              "      <th>seq_name</th>\n",
              "      <th>ship_rand</th>\n",
              "    </tr>\n",
              "  </thead>\n",
              "  <tbody>\n",
              "    <tr>\n",
              "      <th>0</th>\n",
              "      <td>0</td>\n",
              "      <td>Breast cancer \"I fight like a girl\" ring</td>\n",
              "      <td>1</td>\n",
              "      <td>1205</td>\n",
              "      <td>5265</td>\n",
              "      <td>1</td>\n",
              "      <td>Size 7</td>\n",
              "      <td>[6, 64]</td>\n",
              "      <td>[1790, 3476, 15, 5552, 51, 4, 266, 263]</td>\n",
              "      <td>1.302715</td>\n",
              "    </tr>\n",
              "    <tr>\n",
              "      <th>1</th>\n",
              "      <td>1</td>\n",
              "      <td>25 pcs NEW 7.5\"x12\" Kraft Bubble Mailers</td>\n",
              "      <td>1</td>\n",
              "      <td>899</td>\n",
              "      <td>5265</td>\n",
              "      <td>1</td>\n",
              "      <td>25 pcs NEW 7.5\"x12\" Kraft Bubble Mailers Lined...</td>\n",
              "      <td>[439, 802, 5, 64, 34, 9040, 5191, 616, 1024, 7...</td>\n",
              "      <td>[439, 802, 5, 64, 34, 9040, 5191, 616, 1024]</td>\n",
              "      <td>1.302715</td>\n",
              "    </tr>\n",
              "    <tr>\n",
              "      <th>2</th>\n",
              "      <td>2</td>\n",
              "      <td>Coach bag</td>\n",
              "      <td>1</td>\n",
              "      <td>1000</td>\n",
              "      <td>1094</td>\n",
              "      <td>1</td>\n",
              "      <td>Brand new coach bag. Bought for [rm] at a Coac...</td>\n",
              "      <td>[16, 5, 315, 101, 201, 3, 21, 107, 4, 315, 3689]</td>\n",
              "      <td>[315, 101]</td>\n",
              "      <td>1.302715</td>\n",
              "    </tr>\n",
              "  </tbody>\n",
              "</table>\n",
              "</div>"
            ],
            "text/plain": [
              "   test_id  ... ship_rand\n",
              "0        0  ...  1.302715\n",
              "1        1  ...  1.302715\n",
              "2        2  ...  1.302715\n",
              "\n",
              "[3 rows x 10 columns]"
            ]
          },
          "metadata": {},
          "execution_count": 32
        },
        {
          "output_type": "execute_result",
          "data": {
            "text/plain": [
              "(1482535, 12)"
            ]
          },
          "metadata": {},
          "execution_count": 32
        },
        {
          "output_type": "execute_result",
          "data": {
            "text/plain": [
              "(693359, 10)"
            ]
          },
          "metadata": {},
          "execution_count": 32
        }
      ]
    },
    {
      "cell_type": "markdown",
      "metadata": {
        "id": "3nrmjfYNCF3D"
      },
      "source": [
        "## Begin Modeling\n",
        ">Split data<br>\n",
        ">Expt with pad_sequences()<br>"
      ]
    },
    {
      "cell_type": "code",
      "metadata": {
        "_cell_guid": "abf9cd11-efa2-4a2c-b844-cdf2fc23bbd8",
        "_uuid": "38f7f125582a88eba6410d93306df119e454db82",
        "colab": {
          "base_uri": "https://localhost:8080/"
        },
        "id": "HynLIMN3YCFc",
        "outputId": "f3e2bf4c-420e-4c87-c2f8-69b4d016f239"
      },
      "source": [
        "# 13. Split into train and test\n",
        "#     Note that we do not have 'y' here. \n",
        "#     Why? Because 'price' is a continuous variable\n",
        "\n",
        "# 13.1 Just 'train' will be split into two parts\n",
        "#      This is permissible in sklearn syntax\n",
        "dtrain, dvalid = train_test_split(train,\n",
        "                                  random_state=123,\n",
        "                                  train_size=0.99    # 99% vs 1%\n",
        "                                 )\n",
        "\n",
        "print(dtrain.shape)     # (1467709, 12)\n",
        "print(dvalid.shape)     # (14826, 12) 1% of above"
      ],
      "execution_count": null,
      "outputs": [
        {
          "output_type": "stream",
          "name": "stdout",
          "text": [
            "(1467709, 12)\n",
            "(14826, 12)\n"
          ]
        }
      ]
    },
    {
      "cell_type": "markdown",
      "metadata": {
        "id": "TynPUWHJ760a"
      },
      "source": [
        "### Experiment with pad_sequences\n",
        "Our dataset has:<br>\n",
        "> 1. Categorical columns\n",
        ">> Three integer columns: <b>item_condition_id</b>, <b>category_name</b> and <b>brand_name</b><br>\n",
        ">> Two columns (of integer sequences): <b>seq_item_description</b> and <b>seq_name</b><br>\n",
        "\n",
        "> 2. Numeric columns (two): <b>shipping, ship_rand</b><br>\n",
        "> 3. Target column 'target'<br>\n",
        "\n",
        "Thus total number of columns are: 3 +2 + 2+ 1 = 8\n"
      ]
    },
    {
      "cell_type": "code",
      "metadata": {
        "colab": {
          "base_uri": "https://localhost:8080/",
          "height": 213
        },
        "id": "aeZLLi-s61Yd",
        "outputId": "2e925685-0d94-440c-8cfa-12f253074f5c"
      },
      "source": [
        "# Just have a look at the train data:\n",
        "dtrain.head(3)"
      ],
      "execution_count": null,
      "outputs": [
        {
          "output_type": "execute_result",
          "data": {
            "text/html": [
              "<div>\n",
              "<style scoped>\n",
              "    .dataframe tbody tr th:only-of-type {\n",
              "        vertical-align: middle;\n",
              "    }\n",
              "\n",
              "    .dataframe tbody tr th {\n",
              "        vertical-align: top;\n",
              "    }\n",
              "\n",
              "    .dataframe thead th {\n",
              "        text-align: right;\n",
              "    }\n",
              "</style>\n",
              "<table border=\"1\" class=\"dataframe\">\n",
              "  <thead>\n",
              "    <tr style=\"text-align: right;\">\n",
              "      <th></th>\n",
              "      <th>train_id</th>\n",
              "      <th>name</th>\n",
              "      <th>item_condition_id</th>\n",
              "      <th>category_name</th>\n",
              "      <th>brand_name</th>\n",
              "      <th>price</th>\n",
              "      <th>shipping</th>\n",
              "      <th>item_description</th>\n",
              "      <th>seq_item_description</th>\n",
              "      <th>seq_name</th>\n",
              "      <th>target</th>\n",
              "      <th>ship_rand</th>\n",
              "    </tr>\n",
              "  </thead>\n",
              "  <tbody>\n",
              "    <tr>\n",
              "      <th>407853</th>\n",
              "      <td>407853</td>\n",
              "      <td>maroon velvet lisette shorts</td>\n",
              "      <td>1</td>\n",
              "      <td>1162</td>\n",
              "      <td>737</td>\n",
              "      <td>22.0</td>\n",
              "      <td>1</td>\n",
              "      <td>brand new from brandy melville</td>\n",
              "      <td>[16, 5, 43, 537, 586]</td>\n",
              "      <td>[825, 1027, 17236, 129]</td>\n",
              "      <td>-0.175509</td>\n",
              "      <td>1.721413</td>\n",
              "    </tr>\n",
              "    <tr>\n",
              "      <th>748699</th>\n",
              "      <td>748699</td>\n",
              "      <td>Benefit Roller Lash Mascara FULL SIZE</td>\n",
              "      <td>2</td>\n",
              "      <td>26</td>\n",
              "      <td>574</td>\n",
              "      <td>14.0</td>\n",
              "      <td>1</td>\n",
              "      <td>Benefit Roller Lash Mascara FULL SIZE in the c...</td>\n",
              "      <td>[1238, 2566, 1266, 641, 153, 6, 7, 2, 48, 24, ...</td>\n",
              "      <td>[1238, 2566, 1266, 641, 153, 6]</td>\n",
              "      <td>-0.287907</td>\n",
              "      <td>1.721413</td>\n",
              "    </tr>\n",
              "    <tr>\n",
              "      <th>320295</th>\n",
              "      <td>320295</td>\n",
              "      <td>Holographic Ipsy Bag</td>\n",
              "      <td>2</td>\n",
              "      <td>1303</td>\n",
              "      <td>5265</td>\n",
              "      <td>7.0</td>\n",
              "      <td>0</td>\n",
              "      <td>Used once</td>\n",
              "      <td>[31, 96]</td>\n",
              "      <td>[2896, 2224, 101]</td>\n",
              "      <td>-0.453202</td>\n",
              "      <td>0.721413</td>\n",
              "    </tr>\n",
              "  </tbody>\n",
              "</table>\n",
              "</div>"
            ],
            "text/plain": [
              "        train_id                                   name  ...    target  ship_rand\n",
              "407853    407853           maroon velvet lisette shorts  ... -0.175509   1.721413\n",
              "748699    748699  Benefit Roller Lash Mascara FULL SIZE  ... -0.287907   1.721413\n",
              "320295    320295                   Holographic Ipsy Bag  ... -0.453202   0.721413\n",
              "\n",
              "[3 rows x 12 columns]"
            ]
          },
          "metadata": {},
          "execution_count": 35
        }
      ]
    },
    {
      "cell_type": "markdown",
      "metadata": {
        "id": "u4tu4KacEkLp"
      },
      "source": [
        "Integer sequence columns `seq_item_description` and `seq_name` must have sequences of equal length. So we pad-sequences in each column. Here is what padding does."
      ]
    },
    {
      "cell_type": "code",
      "metadata": {
        "colab": {
          "base_uri": "https://localhost:8080/"
        },
        "id": "azYW6jY77Nrr",
        "outputId": "d4fc5cd4-324a-4b72-d62f-c253eb808d95"
      },
      "source": [
        "# Use keras pad_sequences function:\n",
        "\n",
        "print(f\" Max size of sequence: {MAX_NAME_SEQ}\")\n",
        "print(f\" Shape of dtrain.seq_name: {dtrain.seq_name.shape}\")\n",
        "\n",
        "s = pad_sequences(\n",
        "                   dtrain.seq_name,\n",
        "                   maxlen=MAX_NAME_SEQ\n",
        "                  )"
      ],
      "execution_count": null,
      "outputs": [
        {
          "output_type": "stream",
          "name": "stdout",
          "text": [
            " Max size of sequence: 10\n",
            " Shape of dtrain.seq_name: (1467709,)\n"
          ]
        }
      ]
    },
    {
      "cell_type": "code",
      "metadata": {
        "colab": {
          "base_uri": "https://localhost:8080/",
          "height": 162
        },
        "id": "cPkJTJN77VMF",
        "outputId": "3ac795ce-a4ce-47f8-b331-376d25ed26cd"
      },
      "source": [
        "# As s will be a numpy array\n",
        "#  to observe it let us transorm it\n",
        "#   into pandas dataframe:\n",
        "\n",
        "print(f\"Shape of s: {s.shape}\")\n",
        "\n",
        "# Here is dataframe:\n",
        "pd.DataFrame(s).head(3)"
      ],
      "execution_count": null,
      "outputs": [
        {
          "output_type": "stream",
          "name": "stdout",
          "text": [
            "Shape of s: (1467709, 10)\n"
          ]
        },
        {
          "output_type": "execute_result",
          "data": {
            "text/html": [
              "<div>\n",
              "<style scoped>\n",
              "    .dataframe tbody tr th:only-of-type {\n",
              "        vertical-align: middle;\n",
              "    }\n",
              "\n",
              "    .dataframe tbody tr th {\n",
              "        vertical-align: top;\n",
              "    }\n",
              "\n",
              "    .dataframe thead th {\n",
              "        text-align: right;\n",
              "    }\n",
              "</style>\n",
              "<table border=\"1\" class=\"dataframe\">\n",
              "  <thead>\n",
              "    <tr style=\"text-align: right;\">\n",
              "      <th></th>\n",
              "      <th>0</th>\n",
              "      <th>1</th>\n",
              "      <th>2</th>\n",
              "      <th>3</th>\n",
              "      <th>4</th>\n",
              "      <th>5</th>\n",
              "      <th>6</th>\n",
              "      <th>7</th>\n",
              "      <th>8</th>\n",
              "      <th>9</th>\n",
              "    </tr>\n",
              "  </thead>\n",
              "  <tbody>\n",
              "    <tr>\n",
              "      <th>0</th>\n",
              "      <td>0</td>\n",
              "      <td>0</td>\n",
              "      <td>0</td>\n",
              "      <td>0</td>\n",
              "      <td>0</td>\n",
              "      <td>0</td>\n",
              "      <td>825</td>\n",
              "      <td>1027</td>\n",
              "      <td>17236</td>\n",
              "      <td>129</td>\n",
              "    </tr>\n",
              "    <tr>\n",
              "      <th>1</th>\n",
              "      <td>0</td>\n",
              "      <td>0</td>\n",
              "      <td>0</td>\n",
              "      <td>0</td>\n",
              "      <td>1238</td>\n",
              "      <td>2566</td>\n",
              "      <td>1266</td>\n",
              "      <td>641</td>\n",
              "      <td>153</td>\n",
              "      <td>6</td>\n",
              "    </tr>\n",
              "    <tr>\n",
              "      <th>2</th>\n",
              "      <td>0</td>\n",
              "      <td>0</td>\n",
              "      <td>0</td>\n",
              "      <td>0</td>\n",
              "      <td>0</td>\n",
              "      <td>0</td>\n",
              "      <td>0</td>\n",
              "      <td>2896</td>\n",
              "      <td>2224</td>\n",
              "      <td>101</td>\n",
              "    </tr>\n",
              "  </tbody>\n",
              "</table>\n",
              "</div>"
            ],
            "text/plain": [
              "   0  1  2  3     4     5     6     7      8    9\n",
              "0  0  0  0  0     0     0   825  1027  17236  129\n",
              "1  0  0  0  0  1238  2566  1266   641    153    6\n",
              "2  0  0  0  0     0     0     0  2896   2224  101"
            ]
          },
          "metadata": {},
          "execution_count": 48
        }
      ]
    },
    {
      "cell_type": "markdown",
      "metadata": {
        "id": "Dhm7ibir85LB"
      },
      "source": [
        "### Define a function to create a dictionary of data\n",
        "That is we are sort of transforming pandas dataframe to a dictionary as per our conveience\n"
      ]
    },
    {
      "cell_type": "code",
      "metadata": {
        "_cell_guid": "22f34be1-bd4a-4ad1-a931-62873816e8ee",
        "_uuid": "2f876f24ae0e5a82bdf9b0568f796cce5e2fed2c",
        "id": "aCJyYZ3kYCFc"
      },
      "source": [
        "# 13.2 Define a function that creates a dictionary of array values \n",
        "#      to help to feed data into keras\n",
        "#      All columns but the last 'num_vars' are categorical\n",
        "#      WE have SIX columns or column-sets here\n",
        "def get_keras_data(dataset):\n",
        "    X = {   \n",
        "        'name':           pad_sequences(dataset.seq_name, maxlen=MAX_NAME_SEQ),                             # 1\n",
        "        'item_desc':      pad_sequences(dataset.seq_item_description, maxlen=MAX_ITEM_DESC_SEQ),            # 2\n",
        "        'brand_name':     np.array(dataset.brand_name),                                                     # 3\n",
        "        'category_name':  dataset.category_name.values,                                                  # 4\n",
        "        'item_condition': dataset.item_condition_id.values,                                              # 5\n",
        "        'num_vars':       np.array(dataset[[\"shipping\", \"ship_rand\"]])    # Two numeric columns here        # 6\n",
        "    }\n",
        "    return X\n"
      ],
      "execution_count": null,
      "outputs": []
    },
    {
      "cell_type": "code",
      "metadata": {
        "id": "sESxTNlYNy5H"
      },
      "source": [
        "# 13.3 Get these datasets now\n",
        "X_train = get_keras_data(dtrain)  # type: dict\n",
        "X_valid = get_keras_data(dvalid)\n",
        "X_test = get_keras_data(test)"
      ],
      "execution_count": null,
      "outputs": []
    },
    {
      "cell_type": "code",
      "metadata": {
        "id": "1O3dX7aqKr_v"
      },
      "source": [
        "# 13.4 Just check shapes. We need these below\n",
        "print(X_train[\"name\"][:4])\n",
        "print(\"\\n===========\")\n",
        "print(X_train[\"name\"].shape)"
      ],
      "execution_count": null,
      "outputs": []
    },
    {
      "cell_type": "code",
      "metadata": {
        "id": "kxcaECFLLqlf"
      },
      "source": [
        "# 13.5 Just check shapes. We need these below\n",
        "print(X_train[\"item_desc\"][:4])\n",
        "print(\"\\n===========\")\n",
        "print(X_train[\"item_desc\"].shape)"
      ],
      "execution_count": null,
      "outputs": []
    },
    {
      "cell_type": "code",
      "metadata": {
        "id": "PIiXujlxYCFc"
      },
      "source": [
        "# 13.6 Just check shapes. We need these below\n",
        "X_train[\"num_vars\"][:4]\n",
        "X_train[\"num_vars\"].shape[1]       # 2"
      ],
      "execution_count": null,
      "outputs": []
    },
    {
      "cell_type": "markdown",
      "metadata": {
        "id": "raoMGH5sYCFc"
      },
      "source": [
        "## Convert categorical columns to word-vectors\n",
        "### A\n",
        "Consider following sentences:<br><p>\n",
        "1. mango is sweet<br>\n",
        "2. apple is sweet<br>\n",
        "3. mouse moves pointer<br>\n",
        "4. iphone mobile is used for communication<br>\n",
        "\n",
        "An embedding layer will convert word to vectors to discover relationship among words. Or, one can say that conversion of a word to vectors, facilitates finding association between context words. Examples are: <br>\n",
        "\n",
        "(mango, sweet), (apple, sweet), (mouse,pointer), (iphone,mobile) <br>\n",
        "\n",
        "### B\n",
        "Now, consider the following table with three categorical columns: <br>\n",
        "\n",
        "| x1   |   x2    |   x3    |\n",
        "|------|---------|---------|  \n",
        "|mango |  tree   |  sweet  |\n",
        "|apple |  tree   |  sweet  |\n",
        "|mouse | pointer |  moves  |\n",
        "|iphone| mobile  |communication|\n",
        "\n",
        "Conversion of categorical values to word-vectors helps discover better association between mango and sweet OR mango and tree OR mouse and pointer etc than by simply label encoding them and applying machine learning algo to discover patterns."
      ]
    },
    {
      "cell_type": "code",
      "metadata": {
        "id": "SncpdM2JLz3W"
      },
      "source": [
        "# 14.2 Define callback function for earlystopping and storing weights\n",
        "#      May forget this in the first reading\n",
        "def get_callbacks(filepath, patience=2):\n",
        "    es = EarlyStopping('val_loss', patience=patience, mode=\"min\")\n",
        "    msave = ModelCheckpoint(filepath, save_best_only=True)\n",
        "    return [es, msave]\n"
      ],
      "execution_count": 4,
      "outputs": []
    },
    {
      "cell_type": "code",
      "metadata": {
        "id": "JN-rhMm6L6Cg"
      },
      "source": [
        "# 14.3 Forget it in first reading. Another loss function\n",
        "#      Any functions used in the model must use tensors\n",
        "#      and not numpy arrays. Of course, dataset can be numpy\n",
        "def rmsle_cust(y_true, y_pred):\n",
        "    first_log = K.log(K.clip(y_pred, K.epsilon(), None) + 1.)\n",
        "    second_log = K.log(K.clip(y_true, K.epsilon(), None) + 1.)\n",
        "    return K.sqrt(K.mean(K.square(first_log - second_log), axis=-1))"
      ],
      "execution_count": null,
      "outputs": []
    },
    {
      "cell_type": "code",
      "metadata": {
        "id": "ibxgGMju9lFW"
      },
      "source": [
        "# 14.1 Sizes of categorical values AND word to vectors\n",
        "#      Sizes?\n",
        "word2vec_size = 50\n",
        "cat2vec_size = 10\n",
        "cond2vec_size = 5"
      ],
      "execution_count": null,
      "outputs": []
    },
    {
      "cell_type": "code",
      "metadata": {
        "_cell_guid": "79428c10-e754-4e0e-a8be-ecbe74ef55ff",
        "_uuid": "8af261410908e6c713ca7de01c3c2c549debf779",
        "id": "ofkxWXsOYCFe"
      },
      "source": [
        "# 14.4 Our model\n",
        "def get_model():\n",
        "    \n",
        "    # 14.1 Level of dropouts: 10%\n",
        "    dr_r = 0.1   \n",
        "    \n",
        "    # 14.2 SIX Inputs. At each input specify number of input-features \n",
        "    name =            Input(shape=[X_train[\"name\"].shape[1]],      name=\"name\")\n",
        "    item_desc =       Input(shape=[X_train[\"item_desc\"].shape[1]], name=\"item_desc\")\n",
        "    brand_name =      Input(shape=[1],                             name=\"brand_name\")  # Just 1 feature.Hence shape=[1]\n",
        "    category_name =   Input(shape=[1],                             name=\"category_name\") # Just 1 feature.Hence shape=[1]\n",
        "    item_condition =  Input(shape=[1],                             name=\"item_condition\") # Just 1 feature. Hence shape = [1]\n",
        "    num_vars =        Input(shape=[X_train[\"num_vars\"].shape[1]],  name=\"num_vars\")\n",
        "    \n",
        "    # 14.3 FIVE Embeddings layers.  Embedding vectors of first FIVE of the above\n",
        "    \n",
        "    # 14.3.1 Output of following two also go in RNN.\n",
        "    #        RNN output needs no flattening as this output is received\n",
        "    #        AFTER all timesteps have been fed into RNN\n",
        "    emb_name =           Embedding(MAX_TEXT,      word2vec_size  )(name)               \n",
        "    emb_item_desc =      Embedding(MAX_TEXT,      word2vec_size  )(item_desc)\n",
        "    \n",
        "    # 14.3.2 Output of following three go directly into Dense layer after flattening\n",
        "    #        These need to be flattened as for every timestep there is a vector\n",
        "    emb_brand_name =     Embedding(MAX_BRAND,     cat2vec_size  )(brand_name)\n",
        "    emb_category_name =  Embedding(MAX_CATEGORY,  cat2vec_size  )(category_name)\n",
        "    emb_item_condition = Embedding(MAX_CONDITION, cond2vec_size )(item_condition)\n",
        "    \n",
        "    # 14.4 TWO RNN layers. Both these are independent of each other. \n",
        "    rnn_layer2 = GRU(8) (emb_name)          # Output of GRU is a vector of size 8\n",
        "    rnn_layer1 = GRU(16) (emb_item_desc)    # Output of GRU is a vector of size 16\n",
        "    \n",
        "    # 15. Concatenate all layer-branches \n",
        "    main_l = concatenate([\n",
        "                          Flatten() (emb_brand_name),\n",
        "                          Flatten() (emb_category_name),\n",
        "                          Flatten() (emb_item_condition),\n",
        "                          rnn_layer1,\n",
        "                          rnn_layer2,\n",
        "                          num_vars          # Feed numerical variables as they are\n",
        "                          ]\n",
        "                         )\n",
        "    \n",
        "    # 15.1 Add classification layer\n",
        "    main_l = Dense(128) (main_l)\n",
        "    main_l = Dropout(dr_r)(main_l)\n",
        "    main_l = Dense(64) (main_l)\n",
        "    main_l = Dropout(dr_r) (main_l)\n",
        "    \n",
        "    # 15.2 Output neuron\n",
        "    output = Dense(1, activation=\"linear\") (main_l)\n",
        "    \n",
        "    # 15.3 Formulate Model now\n",
        "    model = Model(\n",
        "                  inputs= [name, item_desc, brand_name,category_name, item_condition, num_vars],\n",
        "                  outputs= output\n",
        "                 )\n",
        "    # 15.4\n",
        "    model.compile(loss=\"mse\",\n",
        "                  optimizer=\"adam\",\n",
        "                  metrics=[\"mae\", rmsle_cust]    # Note two metrics here. First reading confine to 'mae' only\n",
        "                 )\n",
        "    return model\n",
        "\n",
        "\n",
        "# 16 Formulate model and show summary    \n",
        "model = get_model()\n",
        "model.summary()\n",
        "    \n"
      ],
      "execution_count": null,
      "outputs": []
    },
    {
      "cell_type": "code",
      "metadata": {
        "colab": {
          "base_uri": "https://localhost:8080/",
          "height": 727
        },
        "id": "YeOmL_WhYCFf",
        "outputId": "64b00e3a-eec2-41b7-9b12-e63fbfa24c73"
      },
      "source": [
        "# 16.1 Plot the model architecture\n",
        "#      We need graphviz and pydot to be installed\n",
        "plt.figure(figsize = (14,14));\n",
        "plot_model(model, to_file = \"model.png\");\n",
        "io.imshow(\"model.png\");"
      ],
      "execution_count": null,
      "outputs": [
        {
          "output_type": "execute_result",
          "data": {
            "text/plain": [
              "<matplotlib.image.AxesImage at 0x7fc9382b90d0>"
            ]
          },
          "metadata": {},
          "execution_count": 33
        },
        {
          "output_type": "display_data",
          "data": {
            "image/png": "[encoded data removed]",
            "text/plain": [
              "<Figure size 1008x1008 with 1 Axes>"
            ]
          },
          "metadata": {
            "needs_background": "light"
          }
        }
      ]
    },
    {
      "cell_type": "code",
      "metadata": {
        "_cell_guid": "b19fde2e-e454-48fd-b336-de0b15051fc8",
        "_uuid": "5fa44a0c7fcca9b0f0c15719be8ac38a2ee7cea8",
        "id": "jA8uXPMpYCFf"
      },
      "source": [
        "# 17. Training the model\n",
        "BATCH_SIZE = 20000\n",
        "epochs = 5\n",
        "model = get_model()\n",
        "\n",
        "# 17.1\n",
        "start = time.time()\n",
        "history= model.fit(X_train,\n",
        "                   dtrain.target,\n",
        "                   epochs=epochs,\n",
        "                   batch_size=BATCH_SIZE,\n",
        "                   validation_data=(X_valid, dvalid.target),\n",
        "                   verbose=1\n",
        "                  )\n",
        "\n",
        "end = time.time()\n",
        "print((end-start)/60)    # Five epochs take 15 minutes"
      ],
      "execution_count": null,
      "outputs": []
    },
    {
      "cell_type": "code",
      "metadata": {
        "_cell_guid": "0bfc00c9-37d7-4ebe-9f9c-2bf0661aef3c",
        "_uuid": "5065d64200d6c4675901e727ddf87afc8136a0c3",
        "colab": {
          "base_uri": "https://localhost:8080/"
        },
        "id": "rZKU5rqRYCFg",
        "outputId": "f550c1e0-8682-483a-b435-e7529d8b2999"
      },
      "source": [
        "# 18 Evaluate model using validation data\n",
        "val_preds = model.predict(X_valid)\n",
        "# 18.1 Undo transformation by MinMaxScaler\n",
        "val_preds = target_scaler.inverse_transform(val_preds)  \n",
        "# 18.2 Undo logs\n",
        "val_preds = np.exp(val_preds) - 1   # It should be -1. Original code has +1\n",
        "val_preds[:10]     # (10,1)\n",
        "val_preds[:10, 0]  # Convert to 1D\n",
        "y_pred = val_preds[:,0]\n",
        "\n",
        "# 19. Mean_squared_log_error\n",
        "y_true = np.array(dvalid.price.values)\n",
        "y_true[:10]\n",
        "\n",
        "# 19.1\n",
        "v_rmsle = rmsle(y_true, y_pred)\n",
        "print(\" RMSLE error on dev test: \"+str(v_rmsle))"
      ],
      "execution_count": null,
      "outputs": [
        {
          "output_type": "stream",
          "name": "stdout",
          "text": [
            " RMSLE error on dev test: 0.4693206202824715\n"
          ]
        }
      ]
    },
    {
      "cell_type": "code",
      "metadata": {
        "_cell_guid": "996256b1-8628-4a8a-9e75-2eae09fa7d6e",
        "_uuid": "59772da91cbcb781396138d860d7875a23accaa9",
        "id": "tHEiIi9BYCFg"
      },
      "source": [
        "########### I am done #############\n",
        "# Optional\n",
        "\n",
        "# 20. Create Predictions on test data\n",
        "preds = model.predict(X_test, batch_size=BATCH_SIZE)\n",
        "preds = target_scaler.inverse_transform(preds)\n",
        "preds = np.exp(preds)-1\n",
        "\n",
        "# 20.1\n",
        "submission = test[[\"test_id\"]]\n",
        "submission[\"price\"] = preds"
      ],
      "execution_count": null,
      "outputs": []
    },
    {
      "cell_type": "code",
      "metadata": {
        "_cell_guid": "8b76a6c9-fa82-4011-82ab-0384b8e2e5b4",
        "_uuid": "270683b6ea8391d536aa86deeb7d0b381a9006ba",
        "id": "CLkioaWtYCFh"
      },
      "source": [
        "# 20.2 Should you want to submit on \n",
        "submission.to_csv(\"./myNNsubmission.csv\", index=False)\n",
        "submission.price.hist()\n"
      ],
      "execution_count": null,
      "outputs": []
    },
    {
      "cell_type": "markdown",
      "metadata": {
        "_cell_guid": "4f194864-1f59-4b94-871b-3b3ee6f01fd2",
        "_uuid": "d0e07027d44dcda199db405c974a05276a3fb4ac",
        "id": "pqPEyZtaYCFh"
      },
      "source": [
        "This was just an example how nn can solve this problems. Potencial improvements of the kernel:\n",
        "    - Increase the embeddings factors\n",
        "    - Decrease the batch size\n",
        "    - Add Batch Normalization\n",
        "    - Try LSTM, Bidirectional RNN, stack RNN\n",
        "    - Try with more dense layers or more rnn outputs\n",
        "    -  etc. Or even try a new architecture!"
      ]
    }
  ]
}