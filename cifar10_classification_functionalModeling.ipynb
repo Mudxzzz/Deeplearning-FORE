{
  "nbformat": 4,
  "nbformat_minor": 0,
  "metadata": {
    "colab": {
      "name": "cifar10_classification_functionalModeling.ipynb",
      "provenance": [],
      "collapsed_sections": [],
      "include_colab_link": true
    },
    "kernelspec": {
      "display_name": "Python 3",
      "name": "python3"
    },
    "accelerator": "GPU"
  },
  "cells": [
    {
      "cell_type": "markdown",
      "metadata": {
        "id": "view-in-github",
        "colab_type": "text"
      },
      "source": [
        "<a href=\"https://colab.research.google.com/github/harnalashok/deeplearning/blob/main/cifar10_classification_functionalModeling.ipynb\" target=\"_parent\"><img src=\"https://colab.research.google.com/assets/colab-badge.svg\" alt=\"Open In Colab\"/></a>"
      ]
    },
    {
      "cell_type": "markdown",
      "metadata": {
        "id": "tF0yrx1lgtpU"
      },
      "source": [
        "<table align=\"left\">\r\n",
        "  <td>\r\n",
        "    <a target=\"_blank\" href=\"https://colab.research.google.com/github/harnalashok/deeplearning/blob/main/cifar10_classification.ipynb\"><img src=\"https://www.tensorflow.org/images/colab_logo_32px.png\" />Run in Google Colab</a>\r\n",
        "  </td>\r\n",
        "</table>"
      ]
    },
    {
      "cell_type": "code",
      "metadata": {
        "id": "jKufD3TWgxg0"
      },
      "source": [
        "# Last amended: 16th Feb, 2021\r\n",
        "# Myfolder: C:\\Users\\ashokharnal\\OneDrive\\Documents\\deep_learning\\cifar10 image classification\r\n",
        "#           lubuntu_deeplearning-I\r\n",
        "#\tObjective:\r\n",
        "#    i)  CIFAR10 image classification with deep-learning CNN\r\n",
        "#    ii) Building Functional models\r\n",
        "#       (Use GPU not CPU)"
      ],
      "execution_count": 53,
      "outputs": []
    },
    {
      "cell_type": "code",
      "metadata": {
        "id": "D1qweqEJGod8"
      },
      "source": [
        "# 1.1 Import array-manipulation library\r\n",
        "import numpy as np\r\n",
        "\r\n",
        "# 1.2 Import tensorflow\r\n",
        "import tensorflow as tf\r\n",
        "from tensorflow import keras\r\n",
        "import tensorboard"
      ],
      "execution_count": 55,
      "outputs": []
    },
    {
      "cell_type": "code",
      "metadata": {
        "id": "0tbE5NQEG0Ld"
      },
      "source": [
        "# 1.3 Import keras subroutines for fetching the CIFAR-10 dataset\r\n",
        "#     The CIFAR-10 dataset consists of 60000 32x32 colour images in 10 classes,\r\n",
        "#      with 6000 images per class. There are 50000 training images and 10000\r\n",
        "#       test images.  They were collected by Alex Krizhevsky, Vinod Nair, and\r\n",
        "#         Geoffrey Hinton. Classes are: airplane, automobile, bird, cat, deer,\r\n",
        "#          dog, frog, horse, ship, truck\r\n",
        "#            (CIFAR: Canadian Institute For Advanced Research) \r\n",
        "\r\n",
        "from keras.datasets import cifar10\r\n"
      ],
      "execution_count": 56,
      "outputs": []
    },
    {
      "cell_type": "code",
      "metadata": {
        "id": "qK8UHBAhIHey"
      },
      "source": [
        "# 1.4 Basic classes for specifying and training a neural network\r\n",
        "#     Keras has two types of models Sequential and Model Class for complex models\r\n",
        "#     Sequential models are essentially layer-by-layer. Model Class models may\r\n",
        "#     also have branching.\r\n",
        "\r\n",
        "from keras.models import Sequential, Model\r\n",
        "from keras.utils import plot_model"
      ],
      "execution_count": 57,
      "outputs": []
    },
    {
      "cell_type": "code",
      "metadata": {
        "id": "XUqAY8ASG_ce"
      },
      "source": [
        "# 1.5 Import layers that will be used in modeling\r\n",
        "#     For Sequential modeling concatenation layer\r\n",
        "#     is \"Concatenate\" and for functional modeling, it\r\n",
        "#     is \"concatenate\"\r\n",
        "from keras.layers import Input,Convolution2D, MaxPooling2D, Dropout, Flatten, Dense, concatenate,BatchNormalization, Activation\r\n"
      ],
      "execution_count": 58,
      "outputs": []
    },
    {
      "cell_type": "code",
      "metadata": {
        "id": "2YhGwuKOI4WC"
      },
      "source": [
        "# 1.6 Keras utilities for one-hot encoding of ground truth values\r\n",
        "from keras.utils import np_utils"
      ],
      "execution_count": 59,
      "outputs": []
    },
    {
      "cell_type": "code",
      "metadata": {
        "id": "U8lIQHroJFLK"
      },
      "source": [
        "# 1.7 Import keras optimizers unless you want default parameters\r\n",
        "# from keras.optimizers import Adam\r\n",
        "\r\n",
        "# 1.8\r\n",
        "import os, time\r\n",
        "import matplotlib.pyplot as plt\r\n",
        "# %matplotlib inline\r\n"
      ],
      "execution_count": 61,
      "outputs": []
    },
    {
      "cell_type": "code",
      "metadata": {
        "id": "acZbyi2iacPl"
      },
      "source": [
        "# 1.9 Display outputs from multiple commands in a cell\r\n",
        "from IPython.core.interactiveshell import InteractiveShell\r\n",
        "InteractiveShell.ast_node_interactivity = \"all\""
      ],
      "execution_count": 62,
      "outputs": []
    },
    {
      "cell_type": "code",
      "metadata": {
        "id": "58Jew-jMJY2I"
      },
      "source": [
        "#%%                                 B. Define needed constants\r\n",
        "\r\n",
        "# 2.0 Set some hyperparameters\r\n",
        "\r\n",
        "# 2.1\r\n",
        "batch_size = 16   # A batch of 'batch_size' training examples is fed before \r\n",
        "                  #  every error correction  \r\n",
        "# 2.2\r\n",
        "num_epochs = 50   # Over the entire training set, we iterate 5 times \r\n",
        "                  # Thus per epoch, there will be (X_train.shape[0]/batch_size) batches"
      ],
      "execution_count": 9,
      "outputs": []
    },
    {
      "cell_type": "code",
      "metadata": {
        "id": "Wq7On7taJnoo",
        "colab": {
          "base_uri": "https://localhost:8080/",
          "height": 91
        },
        "outputId": "ef345474-412f-4916-8ac0-7c54bf8c6e47"
      },
      "source": [
        "#%%                     C. Fetch cifar10 images & transform\r\n",
        "\"\"\"\r\n",
        "About CIFAR-10 images\r\n",
        "Ref: https://en.wikipedia.org/wiki/CIFAR-10\r\n",
        "The CIFAR-10 dataset (Canadian Institute For Advanced Research) is a\r\n",
        "collection of images that are commonly used to train machine learning\r\n",
        "and computer vision algorithms. It is one of the most widely used datasets\r\n",
        "for machine learning research. The CIFAR-10 dataset contains 60,000 32x32\r\n",
        "color images in 10 different classes. The 10 different classes represent\r\n",
        "airplanes, cars, birds, cats, deer, dogs, frogs, horses, ships, and trucks.\r\n",
        "There are 6,000 images of each class. (Alex Krizhevsky)\r\n",
        "\"\"\""
      ],
      "execution_count": 63,
      "outputs": [
        {
          "output_type": "execute_result",
          "data": {
            "application/vnd.google.colaboratory.intrinsic+json": {
              "type": "string"
            },
            "text/plain": [
              "'\\nAbout CIFAR-10 images\\nRef: https://en.wikipedia.org/wiki/CIFAR-10\\nThe CIFAR-10 dataset (Canadian Institute For Advanced Research) is a\\ncollection of images that are commonly used to train machine learning\\nand computer vision algorithms. It is one of the most widely used datasets\\nfor machine learning research. The CIFAR-10 dataset contains 60,000 32x32\\ncolor images in 10 different classes. The 10 different classes represent\\nairplanes, cars, birds, cats, deer, dogs, frogs, horses, ships, and trucks.\\nThere are 6,000 images of each class. (Alex Krizhevsky)\\n'"
            ]
          },
          "metadata": {
            "tags": []
          },
          "execution_count": 63
        }
      ]
    },
    {
      "cell_type": "code",
      "metadata": {
        "id": "4ml0KVAQJ_OV",
        "colab": {
          "base_uri": "https://localhost:8080/"
        },
        "outputId": "54bc6783-1b38-4fd3-e14d-c9f0e5c37bde"
      },
      "source": [
        "#  3. Download, unzip and divide into training/test data cifar10 images\r\n",
        "#      By default download occurs at C:\\Users\\ashokharnal\\.keras\\datasets\\\r\n",
        "#      Or at /home/ashok/.keras/datasets ;  Downloaded file: cifar-10-batches-py.tar.gz.\r\n",
        "#       Expanded in folder: cifar-10-batches-py\r\n",
        "(X_train, y_train), (X_test, y_test) = cifar10.load_data()\r\n",
        "X_train.shape              # (50000, 32, 32, 3):50000 images, 32 X 32 pixels, 3-channels\r\n",
        "y_train.shape              # (50000, 1)"
      ],
      "execution_count": 64,
      "outputs": [
        {
          "output_type": "execute_result",
          "data": {
            "text/plain": [
              "(50000, 32, 32, 3)"
            ]
          },
          "metadata": {
            "tags": []
          },
          "execution_count": 64
        },
        {
          "output_type": "execute_result",
          "data": {
            "text/plain": [
              "(50000, 1)"
            ]
          },
          "metadata": {
            "tags": []
          },
          "execution_count": 64
        }
      ]
    },
    {
      "cell_type": "code",
      "metadata": {
        "id": "eZRNI69dKF3t",
        "colab": {
          "base_uri": "https://localhost:8080/"
        },
        "outputId": "2062c7f1-54e0-4a05-d06c-9e8b2b48c247"
      },
      "source": [
        "# 3.1 Have a look at the data\r\n",
        "X_train[0,:3, :3,0]  # Pixel intensity values in the  \r\n",
        "                     #  slice of 3X3 from Ist image\r\n",
        "                     #   and Ist channel         \r\n",
        "y_train[:10,:]"
      ],
      "execution_count": 65,
      "outputs": [
        {
          "output_type": "execute_result",
          "data": {
            "text/plain": [
              "array([[59, 43, 50],\n",
              "       [16,  0, 18],\n",
              "       [25, 16, 49]], dtype=uint8)"
            ]
          },
          "metadata": {
            "tags": []
          },
          "execution_count": 65
        },
        {
          "output_type": "execute_result",
          "data": {
            "text/plain": [
              "array([[6],\n",
              "       [9],\n",
              "       [9],\n",
              "       [4],\n",
              "       [1],\n",
              "       [1],\n",
              "       [2],\n",
              "       [7],\n",
              "       [8],\n",
              "       [3]], dtype=uint8)"
            ]
          },
          "metadata": {
            "tags": []
          },
          "execution_count": 65
        }
      ]
    },
    {
      "cell_type": "code",
      "metadata": {
        "id": "iznx8EXRawtQ",
        "colab": {
          "base_uri": "https://localhost:8080/"
        },
        "outputId": "79aa0b61-0b25-4064-b2b4-baf7171ec319"
      },
      "source": [
        "# 3.2 Let us check min and max values\r\n",
        "#     of pixel intensities\r\n",
        "print(X_train.min())      # 0\r\n",
        "print(X_train.max())      # 255"
      ],
      "execution_count": 66,
      "outputs": [
        {
          "output_type": "stream",
          "text": [
            "0\n",
            "255\n"
          ],
          "name": "stdout"
        }
      ]
    },
    {
      "cell_type": "code",
      "metadata": {
        "id": "0zqmkT8bKSMY"
      },
      "source": [
        "# 4. There are 50000 training examples in CIFAR-10\r\n",
        "num_train, height, width, depth = X_train.shape"
      ],
      "execution_count": 67,
      "outputs": []
    },
    {
      "cell_type": "code",
      "metadata": {
        "id": "VR_bj5QcKXV7",
        "colab": {
          "base_uri": "https://localhost:8080/"
        },
        "outputId": "9c6ea275-3552-4405-cb26-6b114fcafef1"
      },
      "source": [
        "# 4.1 There are 10000 test examples in CIFAR-10\r\n",
        "num_test = X_test.shape\r\n",
        "print(num_test)"
      ],
      "execution_count": 68,
      "outputs": [
        {
          "output_type": "stream",
          "text": [
            "(10000, 32, 32, 3)\n"
          ],
          "name": "stdout"
        }
      ]
    },
    {
      "cell_type": "code",
      "metadata": {
        "id": "MJYt5RVWKuw2"
      },
      "source": [
        "# 4.2.1 Class names are in alphabetical sequence\r\n",
        "class_names = [\"airplane\",\"automobile\",\"bird\",\"cat\",\"deer\",\"dog\",\"frog\",\"horse\",\"ship\",\"truck\"]"
      ],
      "execution_count": 69,
      "outputs": []
    },
    {
      "cell_type": "code",
      "metadata": {
        "id": "nui6UWuzK6aG",
        "colab": {
          "base_uri": "https://localhost:8080/"
        },
        "outputId": "736c3a77-bf1c-474b-e2de-9e63a8de2ec6"
      },
      "source": [
        "# 4.2.2 There are 10 image classes\r\n",
        "num_classes = np.unique(y_train).shape[0]\r\n",
        "num_classes\r\n",
        "class_names = [\"airplane\",\"automobile\",\"bird\",\r\n",
        "               \"cat\",\"deer\",\"dog\",\"frog\",\"horse\",\r\n",
        "               \"ship\",\"truck\"]"
      ],
      "execution_count": 70,
      "outputs": [
        {
          "output_type": "execute_result",
          "data": {
            "text/plain": [
              "10"
            ]
          },
          "metadata": {
            "tags": []
          },
          "execution_count": 70
        }
      ]
    },
    {
      "cell_type": "code",
      "metadata": {
        "id": "Ot69WJIfLA7U",
        "colab": {
          "base_uri": "https://localhost:8080/"
        },
        "outputId": "ab72ba95-98a2-45a0-bdb3-0cae7cf34388"
      },
      "source": [
        "# 5. See one image\r\n",
        "i = 1\r\n",
        "im1 = X_train[i]    # Get the ith image array\r\n",
        "\r\n",
        "# 5.1 To which class does it belong\r\n",
        "y_train[i]\r\n",
        "k = class_names[y_train[i][0]]           # Get 0th element of y_train[1]\r\n",
        "print(k)"
      ],
      "execution_count": 71,
      "outputs": [
        {
          "output_type": "execute_result",
          "data": {
            "text/plain": [
              "array([9], dtype=uint8)"
            ]
          },
          "metadata": {
            "tags": []
          },
          "execution_count": 71
        },
        {
          "output_type": "stream",
          "text": [
            "truck\n"
          ],
          "name": "stdout"
        }
      ]
    },
    {
      "cell_type": "code",
      "metadata": {
        "id": "tOVtmh1gLiO9",
        "colab": {
          "base_uri": "https://localhost:8080/",
          "height": 177
        },
        "outputId": "3796b976-f0ec-42d5-efde-e41871da5aa8"
      },
      "source": [
        "# 5.2 Plot the image\r\n",
        "fig = plt.figure(figsize=(4,2))\r\n",
        "plt.imshow(im1)                         # imshow() is a matplotlib method\r\n",
        "plt.show()"
      ],
      "execution_count": 72,
      "outputs": [
        {
          "output_type": "execute_result",
          "data": {
            "text/plain": [
              "<matplotlib.image.AxesImage at 0x7fd2fee15f98>"
            ]
          },
          "metadata": {
            "tags": []
          },
          "execution_count": 72
        },
        {
          "output_type": "display_data",
          "data": {
            "image/png": "[encoded data removed]",
            "text/plain": [
              "<Figure size 288x144 with 1 Axes>"
            ]
          },
          "metadata": {
            "tags": [],
            "needs_background": "light"
          }
        }
      ]
    },
    {
      "cell_type": "code",
      "metadata": {
        "id": "wzWHI0fQW2_C",
        "colab": {
          "base_uri": "https://localhost:8080/"
        },
        "outputId": "940877c0-dc50-4c2f-bedb-e6ae882b94b5"
      },
      "source": [
        "# 6.0 Normalise train data\r\n",
        "X_tr = X_train.reshape(50000,-1)\r\n",
        "mean = np.mean(X_tr,axis = 0)\r\n",
        "std = np.std(X_tr,axis = 0)\r\n",
        "X_tr = (X_tr - mean )/std\r\n",
        "X_tr[0,:5]\r\n",
        "X_tr = X_tr.reshape(50000,32,32,3)"
      ],
      "execution_count": 73,
      "outputs": [
        {
          "output_type": "execute_result",
          "data": {
            "text/plain": [
              "array([-0.97682401, -1.01575822, -0.86457067, -1.20290054, -1.24397271])"
            ]
          },
          "metadata": {
            "tags": []
          },
          "execution_count": 73
        }
      ]
    },
    {
      "cell_type": "code",
      "metadata": {
        "colab": {
          "base_uri": "https://localhost:8080/"
        },
        "id": "1Pccekp3Qq9G",
        "outputId": "9c612dd2-023f-4aaf-b94b-e0f45106afe0"
      },
      "source": [
        "# 6.1\r\n",
        "X_te = X_test.reshape(10000,-1)\r\n",
        "X_te = (X_te - mean)/std\r\n",
        "X_te[0,:5]\r\n",
        "X_te = X_te.reshape(10000,32,32,3)"
      ],
      "execution_count": 74,
      "outputs": [
        {
          "output_type": "execute_result",
          "data": {
            "text/plain": [
              "array([ 0.37172681, -0.32995538, -1.03859408,  0.39838344, -0.33994683])"
            ]
          },
          "metadata": {
            "tags": []
          },
          "execution_count": 74
        }
      ]
    },
    {
      "cell_type": "code",
      "metadata": {
        "id": "WcCDxSQEiTpQ",
        "colab": {
          "base_uri": "https://localhost:8080/"
        },
        "outputId": "6166b105-a47c-4b66-b055-fd6983a1e527"
      },
      "source": [
        "# 6.2 Transform y_train and y_test to OHE\r\n",
        "Y_train = np_utils.to_categorical(y_train, num_classes)\r\n",
        "Y_train[2:5, :]\r\n",
        "y_train[2:5]\r\n",
        "Y_test = np_utils.to_categorical(y_test, num_classes)"
      ],
      "execution_count": 75,
      "outputs": [
        {
          "output_type": "execute_result",
          "data": {
            "text/plain": [
              "array([[0., 0., 0., 0., 0., 0., 0., 0., 0., 1.],\n",
              "       [0., 0., 0., 0., 1., 0., 0., 0., 0., 0.],\n",
              "       [0., 1., 0., 0., 0., 0., 0., 0., 0., 0.]], dtype=float32)"
            ]
          },
          "metadata": {
            "tags": []
          },
          "execution_count": 75
        },
        {
          "output_type": "execute_result",
          "data": {
            "text/plain": [
              "array([[9],\n",
              "       [4],\n",
              "       [1]], dtype=uint8)"
            ]
          },
          "metadata": {
            "tags": []
          },
          "execution_count": 75
        }
      ]
    },
    {
      "cell_type": "markdown",
      "metadata": {
        "id": "G2ZEMjn1zIUT"
      },
      "source": [
        "### Design NN using Functional modeling"
      ]
    },
    {
      "cell_type": "code",
      "metadata": {
        "id": "PxRwc7aOunGS"
      },
      "source": [
        "# Rule for concatenation of layers from two arms:\r\n",
        "#     For concatenation, the two layers must have same widths and heights but number\r\n",
        "#     of filters can be different. Thus, 32 X 32 X 64 and 32 X 32 X 32 would concatenate\r\n",
        "# How to change (width X height) of a layer:\r\n",
        "#   1  Formula (with stride 1) is: (W -F + 2 *P) + 1 = W - (F-1) where F is kernel-size\r\n",
        "#   2. Therefore, kernel-size of 2 X 2, stride =1, padding = 0, reduces outshape by 1 X 1\r\n",
        "#      ie 32 X 32 reduces to 31 X 31\r\n",
        "#   3. Thus, if you want the outshape to reduce by m X m, take kernel-size of m+1 \r\n"
      ],
      "execution_count": null,
      "outputs": []
    },
    {
      "cell_type": "code",
      "metadata": {
        "id": "PNZOCYq-znjB"
      },
      "source": [
        "# 7.0 Inputs\r\n",
        "xy = Input(shape = (32,32,3))"
      ],
      "execution_count": 76,
      "outputs": []
    },
    {
      "cell_type": "code",
      "metadata": {
        "id": "5ZXFbu7cXLvB"
      },
      "source": [
        "# 7.1 Left portion of layer\r\n",
        "x_l = Convolution2D(filters = 32,kernel_size = 2)(xy)\r\n",
        "x_l = BatchNormalization()(x_l)\r\n",
        "x_l = Activation('selu')(x_l)\r\n",
        "x_l = Convolution2D(filters = 64,kernel_size = 2, padding='same')(x_l)\r\n",
        "x_l = BatchNormalization()(x_l)\r\n",
        "x_l = Activation('selu')(x_l)\r\n",
        "x_l = MaxPooling2D()(x_l)\r\n",
        "x_l = Convolution2D(filters=64,kernel_size=2)(x_l)\r\n",
        "x_l = BatchNormalization()(x_l)\r\n",
        "x_l = Activation('selu')(x_l)\r\n",
        "x_l = Convolution2D(filters=64,kernel_size=2)(x_l)\r\n",
        "x_l = BatchNormalization()(x_l)\r\n",
        "x_l = Activation('selu')(x_l)\r\n",
        "\r\n",
        "# 7.2 Check last layer's sizes\r\n",
        "#ml = Model(inputs= xy, outputs =x_l)\r\n",
        "#ml.summary()"
      ],
      "execution_count": 77,
      "outputs": []
    },
    {
      "cell_type": "code",
      "metadata": {
        "id": "v9kBrVLHck20"
      },
      "source": [
        "# 7.3 Right portion of our CNN\r\n",
        "x_r = Convolution2D(filters = 32,kernel_size = 2)(xy)\r\n",
        "x_r = BatchNormalization()(x_r)\r\n",
        "x_r = Activation('selu')(x_r)\r\n",
        "x_r = Convolution2D(filters = 64,kernel_size = 2)(x_r)\r\n",
        "x_r = BatchNormalization()(x_r)\r\n",
        "x_r = Activation('selu')(x_r)\r\n",
        "x_r = Convolution2D(filters = 32,kernel_size = 2)(x_r)\r\n",
        "x_r = BatchNormalization()(x_r)\r\n",
        "x_r = Activation('selu')(x_r)\r\n",
        "x_r = MaxPooling2D()(x_r)\r\n",
        "x_r = Convolution2D(filters=128,kernel_size=2)(x_r)\r\n",
        "x_r = BatchNormalization()(x_r)\r\n",
        "x_r = Activation('selu')(x_r)\r\n",
        "# 7.4 Check last layer sizes before concatenation\r\n",
        "#mr = Model(inputs= xy, outputs =x_r)\r\n",
        "#mr.summary()"
      ],
      "execution_count": 78,
      "outputs": []
    },
    {
      "cell_type": "code",
      "metadata": {
        "id": "Umm1C5lTdibL"
      },
      "source": [
        "# 7.5 Concatenate now\r\n",
        "#     For Sequential modeling concatenation layer\r\n",
        "#     is \"Concatenate\" and for functional modeling, it\r\n",
        "#     is \"concatenate\"\r\n",
        "x_f = concatenate([x_l,x_r])"
      ],
      "execution_count": 81,
      "outputs": []
    },
    {
      "cell_type": "code",
      "metadata": {
        "id": "qYD_3yKNYc1e"
      },
      "source": [
        "# 7.6 Flatten it:\r\n",
        "x_f = Flatten()(x_f)\r\n",
        "x_f = Dense(512,activation='relu')(x_f)\r\n",
        "x_f = Dropout(0.5)(x_f)\r\n",
        "# 8.0 Perform classification\r\n",
        "x_f = Dense(num_classes,activation='softmax')(x_f)"
      ],
      "execution_count": 82,
      "outputs": []
    },
    {
      "cell_type": "code",
      "metadata": {
        "id": "Wv8egsXtYsqy"
      },
      "source": [
        "# 8.0 Our model\r\n",
        "model = Model(inputs = [xy], outputs = [x_f])"
      ],
      "execution_count": 83,
      "outputs": []
    },
    {
      "cell_type": "code",
      "metadata": {
        "id": "eJuQr69buYhi",
        "colab": {
          "base_uri": "https://localhost:8080/"
        },
        "outputId": "f476b5ab-d7d0-401c-a136-26da0f8ee8a4"
      },
      "source": [
        "# 8.1 Model summary\r\n",
        "model.summary()"
      ],
      "execution_count": 84,
      "outputs": [
        {
          "output_type": "stream",
          "text": [
            "Model: \"model_1\"\n",
            "__________________________________________________________________________________________________\n",
            "Layer (type)                    Output Shape         Param #     Connected to                     \n",
            "==================================================================================================\n",
            "input_2 (InputLayer)            [(None, 32, 32, 3)]  0                                            \n",
            "__________________________________________________________________________________________________\n",
            "conv2d_8 (Conv2D)               (None, 31, 31, 32)   416         input_2[0][0]                    \n",
            "__________________________________________________________________________________________________\n",
            "conv2d_12 (Conv2D)              (None, 31, 31, 32)   416         input_2[0][0]                    \n",
            "__________________________________________________________________________________________________\n",
            "batch_normalization_8 (BatchNor (None, 31, 31, 32)   128         conv2d_8[0][0]                   \n",
            "__________________________________________________________________________________________________\n",
            "batch_normalization_12 (BatchNo (None, 31, 31, 32)   128         conv2d_12[0][0]                  \n",
            "__________________________________________________________________________________________________\n",
            "activation_8 (Activation)       (None, 31, 31, 32)   0           batch_normalization_8[0][0]      \n",
            "__________________________________________________________________________________________________\n",
            "activation_12 (Activation)      (None, 31, 31, 32)   0           batch_normalization_12[0][0]     \n",
            "__________________________________________________________________________________________________\n",
            "conv2d_9 (Conv2D)               (None, 31, 31, 64)   8256        activation_8[0][0]               \n",
            "__________________________________________________________________________________________________\n",
            "conv2d_13 (Conv2D)              (None, 30, 30, 64)   8256        activation_12[0][0]              \n",
            "__________________________________________________________________________________________________\n",
            "batch_normalization_9 (BatchNor (None, 31, 31, 64)   256         conv2d_9[0][0]                   \n",
            "__________________________________________________________________________________________________\n",
            "batch_normalization_13 (BatchNo (None, 30, 30, 64)   256         conv2d_13[0][0]                  \n",
            "__________________________________________________________________________________________________\n",
            "activation_9 (Activation)       (None, 31, 31, 64)   0           batch_normalization_9[0][0]      \n",
            "__________________________________________________________________________________________________\n",
            "activation_13 (Activation)      (None, 30, 30, 64)   0           batch_normalization_13[0][0]     \n",
            "__________________________________________________________________________________________________\n",
            "max_pooling2d_2 (MaxPooling2D)  (None, 15, 15, 64)   0           activation_9[0][0]               \n",
            "__________________________________________________________________________________________________\n",
            "conv2d_14 (Conv2D)              (None, 29, 29, 32)   8224        activation_13[0][0]              \n",
            "__________________________________________________________________________________________________\n",
            "conv2d_10 (Conv2D)              (None, 14, 14, 64)   16448       max_pooling2d_2[0][0]            \n",
            "__________________________________________________________________________________________________\n",
            "batch_normalization_14 (BatchNo (None, 29, 29, 32)   128         conv2d_14[0][0]                  \n",
            "__________________________________________________________________________________________________\n",
            "batch_normalization_10 (BatchNo (None, 14, 14, 64)   256         conv2d_10[0][0]                  \n",
            "__________________________________________________________________________________________________\n",
            "activation_14 (Activation)      (None, 29, 29, 32)   0           batch_normalization_14[0][0]     \n",
            "__________________________________________________________________________________________________\n",
            "activation_10 (Activation)      (None, 14, 14, 64)   0           batch_normalization_10[0][0]     \n",
            "__________________________________________________________________________________________________\n",
            "max_pooling2d_3 (MaxPooling2D)  (None, 14, 14, 32)   0           activation_14[0][0]              \n",
            "__________________________________________________________________________________________________\n",
            "conv2d_11 (Conv2D)              (None, 13, 13, 64)   16448       activation_10[0][0]              \n",
            "__________________________________________________________________________________________________\n",
            "conv2d_15 (Conv2D)              (None, 13, 13, 128)  16512       max_pooling2d_3[0][0]            \n",
            "__________________________________________________________________________________________________\n",
            "batch_normalization_11 (BatchNo (None, 13, 13, 64)   256         conv2d_11[0][0]                  \n",
            "__________________________________________________________________________________________________\n",
            "batch_normalization_15 (BatchNo (None, 13, 13, 128)  512         conv2d_15[0][0]                  \n",
            "__________________________________________________________________________________________________\n",
            "activation_11 (Activation)      (None, 13, 13, 64)   0           batch_normalization_11[0][0]     \n",
            "__________________________________________________________________________________________________\n",
            "activation_15 (Activation)      (None, 13, 13, 128)  0           batch_normalization_15[0][0]     \n",
            "__________________________________________________________________________________________________\n",
            "concatenate_2 (Concatenate)     (None, 13, 13, 192)  0           activation_11[0][0]              \n",
            "                                                                 activation_15[0][0]              \n",
            "__________________________________________________________________________________________________\n",
            "flatten_2 (Flatten)             (None, 32448)        0           concatenate_2[0][0]              \n",
            "__________________________________________________________________________________________________\n",
            "dense_4 (Dense)                 (None, 512)          16613888    flatten_2[0][0]                  \n",
            "__________________________________________________________________________________________________\n",
            "dropout_2 (Dropout)             (None, 512)          0           dense_4[0][0]                    \n",
            "__________________________________________________________________________________________________\n",
            "dense_5 (Dense)                 (None, 10)           5130        dropout_2[0][0]                  \n",
            "==================================================================================================\n",
            "Total params: 16,695,914\n",
            "Trainable params: 16,694,954\n",
            "Non-trainable params: 960\n",
            "__________________________________________________________________________________________________\n"
          ],
          "name": "stdout"
        }
      ]
    },
    {
      "cell_type": "code",
      "metadata": {
        "id": "_1q9qKqKZafD"
      },
      "source": [
        "# 8.2 Compile model\r\n",
        "model.compile(\r\n",
        "              loss = 'categorical_crossentropy',\r\n",
        "              optimizer='adam',\r\n",
        "              metrics = \"accuracy\"\r\n",
        "              )"
      ],
      "execution_count": 85,
      "outputs": []
    },
    {
      "cell_type": "code",
      "metadata": {
        "id": "wIfUBoTNh7UT",
        "colab": {
          "base_uri": "https://localhost:8080/",
          "height": 1000
        },
        "outputId": "da00529c-31b7-4f67-d19c-f980a3c1f530"
      },
      "source": [
        "# 8.3 Plot model\r\n",
        "plot_model(model)"
      ],
      "execution_count": 86,
      "outputs": [
        {
          "output_type": "execute_result",
          "data": {
            "image/png": "[encoded data removed]",
            "text/plain": [
              "<IPython.core.display.Image object>"
            ]
          },
          "metadata": {
            "tags": []
          },
          "execution_count": 86
        }
      ]
    },
    {
      "cell_type": "code",
      "metadata": {
        "id": "oaXA5kOHIjqy",
        "colab": {
          "base_uri": "https://localhost:8080/"
        },
        "outputId": "15f35134-1a88-46df-f543-027ff20a7418"
      },
      "source": [
        "# 9.0 For saving checkpoint weights\r\n",
        "#     But this does not work\r\n",
        "#     Model weights should be saved in current VM\r\n",
        "from google.colab import drive\r\n",
        "drive.mount('/content/drive')"
      ],
      "execution_count": 87,
      "outputs": [
        {
          "output_type": "stream",
          "text": [
            "Drive already mounted at /content/drive; to attempt to forcibly remount, call drive.mount(\"/content/drive\", force_remount=True).\n"
          ],
          "name": "stdout"
        }
      ]
    },
    {
      "cell_type": "code",
      "metadata": {
        "id": "89E_hGMdIr2y",
        "colab": {
          "base_uri": "https://localhost:8080/",
          "height": 54
        },
        "outputId": "7b549204-984c-4f27-80d3-1d1ff4fb58bd"
      },
      "source": [
        "# 9.1 Save model weights\r\n",
        "# Callbacks: https://www.tensorflow.org/api_docs/python/tf/keras/callbacks/ModelCheckpoint\r\n",
        "\"\"\"\r\n",
        "Syntax: \r\n",
        "tf.keras.callbacks.ModelCheckpoint(\r\n",
        "    filepath, monitor='val_loss', verbose=0, save_best_only=False,\r\n",
        "    save_weights_only=False, mode='auto', save_freq='epoch',\r\n",
        "    options=None, **kwargs\r\n",
        ")\r\n",
        "\"\"\"\r\n",
        "# Unable to save weights in mounted drive\r\n",
        "filepath = \"/content/drive/MyDrive/Colab_data_files\"\r\n",
        "\r\n",
        "# 9.2\r\n",
        "cb=tf.keras.callbacks.ModelCheckpoint(\r\n",
        "                                        filepath = filepath,\r\n",
        "                                        monitor='val_accuracy',\r\n",
        "                                        save_best_only=True,\r\n",
        "                                        save_weights_only=True,  # Do not save the whole model\r\n",
        "                                        mode='max',   # Save 'max' accuracy weights\r\n",
        "                                        save_freq='epoch'\r\n",
        "                                      )"
      ],
      "execution_count": 88,
      "outputs": [
        {
          "output_type": "execute_result",
          "data": {
            "application/vnd.google.colaboratory.intrinsic+json": {
              "type": "string"
            },
            "text/plain": [
              "\"\\nSyntax: \\ntf.keras.callbacks.ModelCheckpoint(\\n    filepath, monitor='val_loss', verbose=0, save_best_only=False,\\n    save_weights_only=False, mode='auto', save_freq='epoch',\\n    options=None, **kwargs\\n)\\n\""
            ]
          },
          "metadata": {
            "tags": []
          },
          "execution_count": 88
        }
      ]
    },
    {
      "cell_type": "code",
      "metadata": {
        "id": "Bs-ApJBxZvlK",
        "colab": {
          "base_uri": "https://localhost:8080/"
        },
        "outputId": "d09701ab-dfeb-48b1-e442-8c87172d3ec1"
      },
      "source": [
        "# 9.3 Train the model\r\n",
        "history = model.fit(\r\n",
        "                    X_tr,\r\n",
        "                    Y_train,\r\n",
        "                    epochs = 100,\r\n",
        "                    batch_size= batch_size,\r\n",
        "                    validation_split = 0.1,\r\n",
        "                    callbacks = [cb]\r\n",
        "\r\n",
        "                   )"
      ],
      "execution_count": 89,
      "outputs": [
        {
          "output_type": "stream",
          "text": [
            "Epoch 1/100\n",
            "2813/2813 [==============================] - 29s 10ms/step - loss: 6.2284 - accuracy: 0.3234 - val_loss: 1.3901 - val_accuracy: 0.5032\n",
            "Epoch 2/100\n",
            "2813/2813 [==============================] - 28s 10ms/step - loss: 1.6068 - accuracy: 0.4500 - val_loss: 1.4206 - val_accuracy: 0.5526\n",
            "Epoch 3/100\n",
            "2813/2813 [==============================] - 28s 10ms/step - loss: 1.4838 - accuracy: 0.4964 - val_loss: 1.1921 - val_accuracy: 0.5970\n",
            "Epoch 4/100\n",
            "2813/2813 [==============================] - 28s 10ms/step - loss: 1.3490 - accuracy: 0.5454 - val_loss: 1.0955 - val_accuracy: 0.6356\n",
            "Epoch 5/100\n",
            "2813/2813 [==============================] - 28s 10ms/step - loss: 1.2197 - accuracy: 0.5861 - val_loss: 1.0323 - val_accuracy: 0.6548\n",
            "Epoch 6/100\n",
            "2813/2813 [==============================] - 28s 10ms/step - loss: 1.1112 - accuracy: 0.6216 - val_loss: 0.9307 - val_accuracy: 0.6896\n",
            "Epoch 7/100\n",
            "2813/2813 [==============================] - 28s 10ms/step - loss: 1.0414 - accuracy: 0.6395 - val_loss: 0.8783 - val_accuracy: 0.7042\n",
            "Epoch 8/100\n",
            "2813/2813 [==============================] - 28s 10ms/step - loss: 0.9686 - accuracy: 0.6695 - val_loss: 0.8722 - val_accuracy: 0.7080\n",
            "Epoch 9/100\n",
            "2813/2813 [==============================] - 28s 10ms/step - loss: 0.8881 - accuracy: 0.6966 - val_loss: 0.8597 - val_accuracy: 0.7080\n",
            "Epoch 10/100\n",
            "2813/2813 [==============================] - 28s 10ms/step - loss: 0.8174 - accuracy: 0.7201 - val_loss: 0.8293 - val_accuracy: 0.7242\n",
            "Epoch 11/100\n",
            "2813/2813 [==============================] - 28s 10ms/step - loss: 0.7516 - accuracy: 0.7458 - val_loss: 0.8788 - val_accuracy: 0.7270\n",
            "Epoch 12/100\n",
            "2813/2813 [==============================] - 28s 10ms/step - loss: 0.6929 - accuracy: 0.7662 - val_loss: 0.8986 - val_accuracy: 0.7248\n",
            "Epoch 13/100\n",
            "2813/2813 [==============================] - 27s 10ms/step - loss: 0.6392 - accuracy: 0.7803 - val_loss: 0.8418 - val_accuracy: 0.7258\n",
            "Epoch 14/100\n",
            "2813/2813 [==============================] - 28s 10ms/step - loss: 0.5931 - accuracy: 0.7999 - val_loss: 0.9223 - val_accuracy: 0.7270\n",
            "Epoch 15/100\n",
            "2813/2813 [==============================] - 27s 10ms/step - loss: 0.5553 - accuracy: 0.8094 - val_loss: 0.8682 - val_accuracy: 0.7362\n",
            "Epoch 16/100\n",
            "2813/2813 [==============================] - 28s 10ms/step - loss: 0.5200 - accuracy: 0.8234 - val_loss: 0.9373 - val_accuracy: 0.7302\n",
            "Epoch 17/100\n",
            "2813/2813 [==============================] - 27s 10ms/step - loss: 0.4998 - accuracy: 0.8318 - val_loss: 0.8860 - val_accuracy: 0.7420\n",
            "Epoch 18/100\n",
            "2813/2813 [==============================] - 28s 10ms/step - loss: 0.4765 - accuracy: 0.8406 - val_loss: 0.9745 - val_accuracy: 0.7420\n",
            "Epoch 19/100\n",
            "2813/2813 [==============================] - 27s 10ms/step - loss: 0.4560 - accuracy: 0.8461 - val_loss: 0.9317 - val_accuracy: 0.7324\n",
            "Epoch 20/100\n",
            "2813/2813 [==============================] - 27s 10ms/step - loss: 0.4393 - accuracy: 0.8501 - val_loss: 0.9929 - val_accuracy: 0.7318\n",
            "Epoch 21/100\n",
            "2813/2813 [==============================] - 28s 10ms/step - loss: 0.4274 - accuracy: 0.8528 - val_loss: 0.9796 - val_accuracy: 0.7328\n",
            "Epoch 22/100\n",
            "2813/2813 [==============================] - 27s 10ms/step - loss: 0.4061 - accuracy: 0.8620 - val_loss: 0.9391 - val_accuracy: 0.7282\n",
            "Epoch 23/100\n",
            "2813/2813 [==============================] - 28s 10ms/step - loss: 0.3960 - accuracy: 0.8664 - val_loss: 1.1660 - val_accuracy: 0.7172\n",
            "Epoch 24/100\n",
            "2813/2813 [==============================] - 27s 10ms/step - loss: 0.3832 - accuracy: 0.8708 - val_loss: 1.1088 - val_accuracy: 0.7434\n",
            "Epoch 25/100\n",
            "2813/2813 [==============================] - 28s 10ms/step - loss: 0.3693 - accuracy: 0.8775 - val_loss: 1.0579 - val_accuracy: 0.7338\n",
            "Epoch 26/100\n",
            "2813/2813 [==============================] - 27s 10ms/step - loss: 0.3585 - accuracy: 0.8759 - val_loss: 1.0775 - val_accuracy: 0.7402\n",
            "Epoch 27/100\n",
            "2813/2813 [==============================] - 28s 10ms/step - loss: 0.3505 - accuracy: 0.8821 - val_loss: 1.0365 - val_accuracy: 0.7398\n",
            "Epoch 28/100\n",
            "2813/2813 [==============================] - 27s 10ms/step - loss: 0.3437 - accuracy: 0.8840 - val_loss: 1.0725 - val_accuracy: 0.7442\n",
            "Epoch 29/100\n",
            "2813/2813 [==============================] - 28s 10ms/step - loss: 0.3327 - accuracy: 0.8879 - val_loss: 1.2466 - val_accuracy: 0.7324\n",
            "Epoch 30/100\n",
            "2813/2813 [==============================] - 28s 10ms/step - loss: 0.3337 - accuracy: 0.8898 - val_loss: 1.1495 - val_accuracy: 0.7454\n",
            "Epoch 31/100\n",
            "2813/2813 [==============================] - 28s 10ms/step - loss: 0.3179 - accuracy: 0.8942 - val_loss: 1.1754 - val_accuracy: 0.7388\n",
            "Epoch 32/100\n",
            "2813/2813 [==============================] - 28s 10ms/step - loss: 0.3305 - accuracy: 0.8896 - val_loss: 1.1226 - val_accuracy: 0.7414\n",
            "Epoch 33/100\n",
            "2813/2813 [==============================] - 27s 10ms/step - loss: 0.3247 - accuracy: 0.8929 - val_loss: 1.3715 - val_accuracy: 0.7320\n",
            "Epoch 34/100\n",
            "2813/2813 [==============================] - 27s 10ms/step - loss: 0.3097 - accuracy: 0.8997 - val_loss: 1.1674 - val_accuracy: 0.7344\n",
            "Epoch 35/100\n",
            "2813/2813 [==============================] - 27s 10ms/step - loss: 0.2988 - accuracy: 0.8993 - val_loss: 1.4353 - val_accuracy: 0.7344\n",
            "Epoch 36/100\n",
            "2813/2813 [==============================] - 28s 10ms/step - loss: 0.2909 - accuracy: 0.9054 - val_loss: 1.3776 - val_accuracy: 0.7424\n",
            "Epoch 37/100\n",
            "2813/2813 [==============================] - 27s 10ms/step - loss: 0.2995 - accuracy: 0.8990 - val_loss: 1.1908 - val_accuracy: 0.7396\n",
            "Epoch 38/100\n",
            "2813/2813 [==============================] - 27s 10ms/step - loss: 0.2880 - accuracy: 0.9037 - val_loss: 1.2804 - val_accuracy: 0.7410\n",
            "Epoch 39/100\n",
            "2813/2813 [==============================] - 28s 10ms/step - loss: 0.2840 - accuracy: 0.9053 - val_loss: 1.2223 - val_accuracy: 0.7432\n",
            "Epoch 40/100\n",
            "2813/2813 [==============================] - 28s 10ms/step - loss: 0.2768 - accuracy: 0.9084 - val_loss: 1.1419 - val_accuracy: 0.7294\n",
            "Epoch 41/100\n",
            "2813/2813 [==============================] - 27s 10ms/step - loss: 0.2856 - accuracy: 0.9086 - val_loss: 1.2376 - val_accuracy: 0.7334\n",
            "Epoch 42/100\n",
            "2813/2813 [==============================] - 28s 10ms/step - loss: 0.2771 - accuracy: 0.9088 - val_loss: 1.3414 - val_accuracy: 0.7290\n",
            "Epoch 43/100\n",
            "2813/2813 [==============================] - 28s 10ms/step - loss: 0.2800 - accuracy: 0.9096 - val_loss: 1.2780 - val_accuracy: 0.7372\n",
            "Epoch 44/100\n",
            "2813/2813 [==============================] - 27s 10ms/step - loss: 0.2761 - accuracy: 0.9098 - val_loss: 1.3537 - val_accuracy: 0.7308\n",
            "Epoch 45/100\n",
            "2813/2813 [==============================] - 28s 10ms/step - loss: 0.2698 - accuracy: 0.9144 - val_loss: 1.4874 - val_accuracy: 0.7464\n",
            "Epoch 46/100\n",
            "2813/2813 [==============================] - 28s 10ms/step - loss: 0.2699 - accuracy: 0.9120 - val_loss: 1.3584 - val_accuracy: 0.7426\n",
            "Epoch 47/100\n",
            "2813/2813 [==============================] - 28s 10ms/step - loss: 0.2596 - accuracy: 0.9161 - val_loss: 1.3857 - val_accuracy: 0.7456\n",
            "Epoch 48/100\n",
            "2813/2813 [==============================] - 28s 10ms/step - loss: 0.2624 - accuracy: 0.9165 - val_loss: 1.3404 - val_accuracy: 0.7408\n",
            "Epoch 49/100\n",
            "2813/2813 [==============================] - 27s 10ms/step - loss: 0.2679 - accuracy: 0.9147 - val_loss: 1.3718 - val_accuracy: 0.7314\n",
            "Epoch 50/100\n",
            "2813/2813 [==============================] - 28s 10ms/step - loss: 0.2571 - accuracy: 0.9182 - val_loss: 1.3042 - val_accuracy: 0.7402\n",
            "Epoch 51/100\n",
            "2813/2813 [==============================] - 28s 10ms/step - loss: 0.2708 - accuracy: 0.9150 - val_loss: 1.4063 - val_accuracy: 0.7426\n",
            "Epoch 52/100\n",
            "2813/2813 [==============================] - 28s 10ms/step - loss: 0.2551 - accuracy: 0.9191 - val_loss: 1.3859 - val_accuracy: 0.7438\n",
            "Epoch 53/100\n",
            "2813/2813 [==============================] - 28s 10ms/step - loss: 0.2538 - accuracy: 0.9192 - val_loss: 1.3056 - val_accuracy: 0.7390\n",
            "Epoch 54/100\n",
            "2813/2813 [==============================] - 28s 10ms/step - loss: 0.2491 - accuracy: 0.9205 - val_loss: 1.3429 - val_accuracy: 0.7190\n",
            "Epoch 55/100\n",
            "2813/2813 [==============================] - 28s 10ms/step - loss: 0.2717 - accuracy: 0.9159 - val_loss: 1.3995 - val_accuracy: 0.7396\n",
            "Epoch 56/100\n",
            "2813/2813 [==============================] - 28s 10ms/step - loss: 0.2426 - accuracy: 0.9215 - val_loss: 1.5358 - val_accuracy: 0.7394\n",
            "Epoch 57/100\n",
            "2813/2813 [==============================] - 28s 10ms/step - loss: 0.2503 - accuracy: 0.9207 - val_loss: 1.4542 - val_accuracy: 0.7384\n",
            "Epoch 58/100\n",
            "2813/2813 [==============================] - 28s 10ms/step - loss: 0.2367 - accuracy: 0.9262 - val_loss: 1.8093 - val_accuracy: 0.7446\n",
            "Epoch 59/100\n",
            "2813/2813 [==============================] - 28s 10ms/step - loss: 0.2471 - accuracy: 0.9203 - val_loss: 1.5859 - val_accuracy: 0.7362\n",
            "Epoch 60/100\n",
            "2813/2813 [==============================] - 28s 10ms/step - loss: 0.2448 - accuracy: 0.9218 - val_loss: 1.4760 - val_accuracy: 0.7354\n",
            "Epoch 61/100\n",
            "2813/2813 [==============================] - 28s 10ms/step - loss: 0.2390 - accuracy: 0.9241 - val_loss: 1.5247 - val_accuracy: 0.7268\n",
            "Epoch 62/100\n",
            "2813/2813 [==============================] - 28s 10ms/step - loss: 0.2472 - accuracy: 0.9242 - val_loss: 1.2137 - val_accuracy: 0.7134\n",
            "Epoch 63/100\n",
            "2813/2813 [==============================] - 28s 10ms/step - loss: 0.2456 - accuracy: 0.9214 - val_loss: 1.5958 - val_accuracy: 0.7364\n",
            "Epoch 64/100\n",
            "2813/2813 [==============================] - 28s 10ms/step - loss: 0.2410 - accuracy: 0.9263 - val_loss: 1.8354 - val_accuracy: 0.7286\n",
            "Epoch 65/100\n",
            "2813/2813 [==============================] - 28s 10ms/step - loss: 0.2408 - accuracy: 0.9230 - val_loss: 1.3449 - val_accuracy: 0.7296\n",
            "Epoch 66/100\n",
            "2813/2813 [==============================] - 28s 10ms/step - loss: 0.2377 - accuracy: 0.9259 - val_loss: 1.6768 - val_accuracy: 0.7402\n",
            "Epoch 67/100\n",
            "2813/2813 [==============================] - 28s 10ms/step - loss: 0.2365 - accuracy: 0.9266 - val_loss: 1.7297 - val_accuracy: 0.7232\n",
            "Epoch 68/100\n",
            "2813/2813 [==============================] - 28s 10ms/step - loss: 0.2473 - accuracy: 0.9237 - val_loss: 1.8422 - val_accuracy: 0.7296\n",
            "Epoch 69/100\n",
            "2813/2813 [==============================] - 28s 10ms/step - loss: 0.2380 - accuracy: 0.9255 - val_loss: 1.4490 - val_accuracy: 0.7296\n",
            "Epoch 70/100\n",
            "2813/2813 [==============================] - 28s 10ms/step - loss: 0.2153 - accuracy: 0.9307 - val_loss: 1.4786 - val_accuracy: 0.7258\n",
            "Epoch 71/100\n",
            "2813/2813 [==============================] - 28s 10ms/step - loss: 0.2289 - accuracy: 0.9278 - val_loss: 1.8117 - val_accuracy: 0.7274\n",
            "Epoch 72/100\n",
            "2813/2813 [==============================] - 28s 10ms/step - loss: 0.2324 - accuracy: 0.9278 - val_loss: 1.7702 - val_accuracy: 0.7430\n",
            "Epoch 73/100\n",
            "2813/2813 [==============================] - 28s 10ms/step - loss: 0.2297 - accuracy: 0.9273 - val_loss: 1.7345 - val_accuracy: 0.7376\n",
            "Epoch 74/100\n",
            "2813/2813 [==============================] - 28s 10ms/step - loss: 0.2329 - accuracy: 0.9302 - val_loss: 1.4956 - val_accuracy: 0.7164\n",
            "Epoch 75/100\n",
            "2813/2813 [==============================] - 28s 10ms/step - loss: 0.2317 - accuracy: 0.9280 - val_loss: 2.1230 - val_accuracy: 0.7388\n",
            "Epoch 76/100\n",
            "2813/2813 [==============================] - 28s 10ms/step - loss: 0.2419 - accuracy: 0.9262 - val_loss: 1.6320 - val_accuracy: 0.7336\n",
            "Epoch 77/100\n",
            "2813/2813 [==============================] - 28s 10ms/step - loss: 0.2163 - accuracy: 0.9325 - val_loss: 1.8451 - val_accuracy: 0.7394\n",
            "Epoch 78/100\n",
            "2813/2813 [==============================] - 28s 10ms/step - loss: 0.2329 - accuracy: 0.9286 - val_loss: 1.6672 - val_accuracy: 0.7256\n",
            "Epoch 79/100\n",
            "2813/2813 [==============================] - 28s 10ms/step - loss: 0.2143 - accuracy: 0.9316 - val_loss: 1.4178 - val_accuracy: 0.7206\n",
            "Epoch 80/100\n",
            "2813/2813 [==============================] - 28s 10ms/step - loss: 0.2420 - accuracy: 0.9255 - val_loss: 1.9263 - val_accuracy: 0.7336\n",
            "Epoch 81/100\n",
            "2813/2813 [==============================] - 28s 10ms/step - loss: 0.2299 - accuracy: 0.9304 - val_loss: 1.6486 - val_accuracy: 0.7330\n",
            "Epoch 82/100\n",
            "2813/2813 [==============================] - 28s 10ms/step - loss: 0.2226 - accuracy: 0.9313 - val_loss: 1.6754 - val_accuracy: 0.7376\n",
            "Epoch 83/100\n",
            "2813/2813 [==============================] - 28s 10ms/step - loss: 0.2274 - accuracy: 0.9302 - val_loss: 1.7278 - val_accuracy: 0.7320\n",
            "Epoch 84/100\n",
            "2813/2813 [==============================] - 28s 10ms/step - loss: 0.2246 - accuracy: 0.9324 - val_loss: 1.5001 - val_accuracy: 0.7186\n",
            "Epoch 85/100\n",
            "2813/2813 [==============================] - 28s 10ms/step - loss: 0.2171 - accuracy: 0.9337 - val_loss: 1.6316 - val_accuracy: 0.7274\n",
            "Epoch 86/100\n",
            "2813/2813 [==============================] - 28s 10ms/step - loss: 0.2134 - accuracy: 0.9323 - val_loss: 1.6296 - val_accuracy: 0.7362\n",
            "Epoch 87/100\n",
            "2813/2813 [==============================] - 28s 10ms/step - loss: 0.2224 - accuracy: 0.9303 - val_loss: 1.6021 - val_accuracy: 0.7306\n",
            "Epoch 88/100\n",
            "2813/2813 [==============================] - 28s 10ms/step - loss: 0.2185 - accuracy: 0.9343 - val_loss: 1.9268 - val_accuracy: 0.7352\n",
            "Epoch 89/100\n",
            "2813/2813 [==============================] - 28s 10ms/step - loss: 0.2264 - accuracy: 0.9336 - val_loss: 1.8954 - val_accuracy: 0.7238\n",
            "Epoch 90/100\n",
            "2813/2813 [==============================] - 28s 10ms/step - loss: 0.2292 - accuracy: 0.9311 - val_loss: 1.9567 - val_accuracy: 0.7230\n",
            "Epoch 91/100\n",
            "2813/2813 [==============================] - 28s 10ms/step - loss: 0.2194 - accuracy: 0.9318 - val_loss: 1.7311 - val_accuracy: 0.7274\n",
            "Epoch 92/100\n",
            "2813/2813 [==============================] - 28s 10ms/step - loss: 0.2292 - accuracy: 0.9311 - val_loss: 2.3925 - val_accuracy: 0.7360\n",
            "Epoch 93/100\n",
            "2813/2813 [==============================] - 28s 10ms/step - loss: 0.2323 - accuracy: 0.9328 - val_loss: 1.8352 - val_accuracy: 0.7260\n",
            "Epoch 94/100\n",
            "2813/2813 [==============================] - 28s 10ms/step - loss: 0.2248 - accuracy: 0.9347 - val_loss: 2.1725 - val_accuracy: 0.7306\n",
            "Epoch 95/100\n",
            "2813/2813 [==============================] - 28s 10ms/step - loss: 0.2245 - accuracy: 0.9350 - val_loss: 1.8299 - val_accuracy: 0.7362\n",
            "Epoch 96/100\n",
            "2813/2813 [==============================] - 28s 10ms/step - loss: 0.2103 - accuracy: 0.9356 - val_loss: 2.1562 - val_accuracy: 0.7450\n",
            "Epoch 97/100\n",
            "2813/2813 [==============================] - 28s 10ms/step - loss: 0.2245 - accuracy: 0.9326 - val_loss: 1.8087 - val_accuracy: 0.7320\n",
            "Epoch 98/100\n",
            "2813/2813 [==============================] - 28s 10ms/step - loss: 0.2220 - accuracy: 0.9342 - val_loss: 1.8033 - val_accuracy: 0.7338\n",
            "Epoch 99/100\n",
            "2813/2813 [==============================] - 28s 10ms/step - loss: 0.2111 - accuracy: 0.9374 - val_loss: 1.9616 - val_accuracy: 0.7430\n",
            "Epoch 100/100\n",
            "2813/2813 [==============================] - 28s 10ms/step - loss: 0.2287 - accuracy: 0.9333 - val_loss: 2.0022 - val_accuracy: 0.7344\n"
          ],
          "name": "stdout"
        }
      ]
    },
    {
      "cell_type": "code",
      "metadata": {
        "id": "Z3RbAYyGU7DN",
        "colab": {
          "base_uri": "https://localhost:8080/",
          "height": 281
        },
        "outputId": "05a54448-0809-4b93-a51d-7374650e0080"
      },
      "source": [
        "# 10.0 How accuracy changes as epochs increase\r\n",
        "#     We will use this function again and again\r\n",
        "#     in subsequent examples\r\n",
        "\r\n",
        "def plot_history():\r\n",
        "    val_acc = history.history['val_accuracy']\r\n",
        "    tr_acc=history.history['accuracy']\r\n",
        "    epochs = range(1, len(val_acc) +1)\r\n",
        "    plt.plot(epochs,val_acc, 'b', label = \"Validation accu\")\r\n",
        "    plt.plot(epochs, tr_acc, 'r', label = \"Training accu\")\r\n",
        "    plt.title(\"Training and validation accuracy\")\r\n",
        "    plt.legend()\r\n",
        "    plt.show()\r\n",
        "\r\n",
        "plot_history()"
      ],
      "execution_count": 90,
      "outputs": [
        {
          "output_type": "display_data",
          "data": {
            "image/png": "[encoded data removed]",
            "text/plain": [
              "<Figure size 432x288 with 1 Axes>"
            ]
          },
          "metadata": {
            "tags": [],
            "needs_background": "light"
          }
        }
      ]
    },
    {
      "cell_type": "code",
      "metadata": {
        "id": "uwPg0ZHQf0cR",
        "colab": {
          "base_uri": "https://localhost:8080/",
          "height": 54
        },
        "outputId": "78c45f9e-526c-471c-988d-ccca44b53c7a"
      },
      "source": [
        "# 10.1 Evaluate the trained model on the test set!\r\n",
        "#      Returns the loss value & metrics values for\r\n",
        "#      the model in test mode.\r\n",
        "model.evaluate(X_te, Y_test, verbose=1)      # Accuracy is just 10%"
      ],
      "execution_count": 91,
      "outputs": [
        {
          "output_type": "execute_result",
          "data": {
            "application/vnd.google.colaboratory.intrinsic+json": {
              "type": "string"
            },
            "text/plain": [
              "''"
            ]
          },
          "metadata": {
            "tags": []
          },
          "execution_count": 91
        },
        {
          "output_type": "stream",
          "text": [
            "313/313 [==============================] - 1s 4ms/step - loss: 2.0522 - accuracy: 0.7326\n"
          ],
          "name": "stdout"
        },
        {
          "output_type": "execute_result",
          "data": {
            "text/plain": [
              "[2.052213430404663, 0.7325999736785889]"
            ]
          },
          "metadata": {
            "tags": []
          },
          "execution_count": 91
        }
      ]
    },
    {
      "cell_type": "code",
      "metadata": {
        "id": "TbbkV6Usf5qk",
        "colab": {
          "base_uri": "https://localhost:8080/"
        },
        "outputId": "dcec1a88-afe1-4e41-8a5f-0fcc136569c3"
      },
      "source": [
        "# 10.2 Make predictions\r\n",
        "#      Generates output predictions for the input samples.\r\n",
        "y_pred = model.predict(X_te)\r\n",
        "y_pred[0]"
      ],
      "execution_count": 92,
      "outputs": [
        {
          "output_type": "execute_result",
          "data": {
            "text/plain": [
              "array([3.6737047e-23, 8.2762216e-18, 5.6560731e-17, 1.0000000e+00,\n",
              "       5.0759437e-21, 1.1807216e-12, 2.4735163e-09, 2.2293685e-25,\n",
              "       9.5485015e-18, 3.8399888e-17], dtype=float32)"
            ]
          },
          "metadata": {
            "tags": []
          },
          "execution_count": 92
        }
      ]
    },
    {
      "cell_type": "code",
      "metadata": {
        "id": "TMtX-VCe2LBU",
        "colab": {
          "base_uri": "https://localhost:8080/"
        },
        "outputId": "57e2471c-800b-4f60-9ef3-a6e0125c41c5"
      },
      "source": [
        "# 10.3 Prob to integer\r\n",
        "ypred = np.argmax(y_pred, axis = 1)\r\n",
        "print(ypred)\r\n",
        "print(\"---\")\r\n",
        "y_test[:4]"
      ],
      "execution_count": 93,
      "outputs": [
        {
          "output_type": "stream",
          "text": [
            "[3 8 8 ... 5 1 7]\n",
            "---\n"
          ],
          "name": "stdout"
        },
        {
          "output_type": "execute_result",
          "data": {
            "text/plain": [
              "array([[3],\n",
              "       [8],\n",
              "       [8],\n",
              "       [0]], dtype=uint8)"
            ]
          },
          "metadata": {
            "tags": []
          },
          "execution_count": 93
        }
      ]
    },
    {
      "cell_type": "code",
      "metadata": {
        "id": "pXSks9A001jS",
        "colab": {
          "base_uri": "https://localhost:8080/"
        },
        "outputId": "3e4dd23c-db82-4b72-b03c-9423f1ecd860"
      },
      "source": [
        "# 10.4 Accuracy\r\n",
        "np.sum(ypred == y_test.flatten())/10000"
      ],
      "execution_count": 49,
      "outputs": [
        {
          "output_type": "execute_result",
          "data": {
            "text/plain": [
              "0.7094"
            ]
          },
          "metadata": {
            "tags": []
          },
          "execution_count": 49
        }
      ]
    },
    {
      "cell_type": "code",
      "metadata": {
        "id": "N5zYvlZLgIOy"
      },
      "source": [
        "###################### END##\r\n",
        "# 11. Softmax calulations\r\n",
        "import math\r\n",
        "z = [1.0, 2.0, 3.0, 4.0, 1.0, 2.0, 3.0]\r\n",
        "z_exp = [math.exp(i) for i in z]  # A list of exponential values\r\n",
        "sum_z_exp = sum(z_exp)     \r\n",
        "sum_z_exp                   # A constant\r\n",
        "softmax = [i / sum_z_exp for i in z_exp]\r\n",
        "softmax\r\n",
        "sum(softmax)\r\n",
        "\r\n",
        "# 11.1 Plot histogram\r\n",
        "fig,ax = plt.subplots(nrows=2,ncols =1)\r\n",
        "ax[0].bar(range(7),z)\r\n",
        "ax[1].bar(range(7),softmax)\r\n",
        "plt.show()\r\n",
        "############################"
      ],
      "execution_count": null,
      "outputs": []
    },
    {
      "cell_type": "markdown",
      "metadata": {
        "id": "GkOo7ropWw3u"
      },
      "source": [
        "## Using tensorboard"
      ]
    },
    {
      "cell_type": "code",
      "metadata": {
        "id": "cn_0QAMogL38",
        "colab": {
          "base_uri": "https://localhost:8080/"
        },
        "outputId": "6d9afde0-86ff-494a-a27b-ac57c118706e"
      },
      "source": [
        "# 12.0\r\n",
        "! ls /root\r\n",
        "!rm -rf /root/logs/\r\n",
        "!mkdir /root/logs/\r\n",
        "log_dir = \"/root/logs/\""
      ],
      "execution_count": 98,
      "outputs": [
        {
          "output_type": "stream",
          "text": [
            "logs\n"
          ],
          "name": "stdout"
        }
      ]
    },
    {
      "cell_type": "code",
      "metadata": {
        "id": "h4vCsjAsROAg",
        "colab": {
          "base_uri": "https://localhost:8080/"
        },
        "outputId": "04adc408-0d17-4571-b43e-b1d3d5e94fd9"
      },
      "source": [
        "# 12.1 Start tensorboard server\r\n",
        "%load_ext tensorboard"
      ],
      "execution_count": 99,
      "outputs": [
        {
          "output_type": "stream",
          "text": [
            "The tensorboard extension is already loaded. To reload it, use:\n",
            "  %reload_ext tensorboard\n"
          ],
          "name": "stdout"
        }
      ]
    },
    {
      "cell_type": "code",
      "metadata": {
        "id": "tzCEdYBIRS9I"
      },
      "source": [
        "# 12.2 Create callback to save data in a folder\r\n",
        "callbacks = tf.keras.callbacks.TensorBoard(log_dir = log_dir )"
      ],
      "execution_count": 100,
      "outputs": []
    },
    {
      "cell_type": "code",
      "metadata": {
        "id": "PmhiMx3RRV5e"
      },
      "source": [
        "# 12.3 Begin training\r\n",
        "start = time.time()\r\n",
        "history = model.fit(X_train[:25000],       # Train model using limited training data\r\n",
        "                    Y_train[:25000],\r\n",
        "                    batch_size=batch_size, # Total batches: (25000 - 2500)/16 = 1407\r\n",
        "                    epochs=num_epochs,\r\n",
        "                    verbose=1,\r\n",
        "                    callbacks = callbacks,\r\n",
        "                    validation_split=0.1   # 2500\r\n",
        "                    )\r\n",
        "end = time.time()\r\n",
        "print ((end - start)/60)"
      ],
      "execution_count": null,
      "outputs": []
    },
    {
      "cell_type": "code",
      "metadata": {
        "id": "7lS4jw8UWPKC"
      },
      "source": [
        "!ls /root/logs"
      ],
      "execution_count": null,
      "outputs": []
    },
    {
      "cell_type": "code",
      "metadata": {
        "id": "Kw8i3FGkR_K_"
      },
      "source": [
        "%tensorboard --logdir /root/logs"
      ],
      "execution_count": null,
      "outputs": []
    },
    {
      "cell_type": "code",
      "metadata": {
        "id": "FoVPmzEUV9ms"
      },
      "source": [
        "############"
      ],
      "execution_count": null,
      "outputs": []
    },
    {
      "cell_type": "code",
      "metadata": {
        "id": "KVYumjN6h1Gs"
      },
      "source": [
        ""
      ],
      "execution_count": null,
      "outputs": []
    }
  ]
}