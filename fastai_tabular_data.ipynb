{
  "cells": [
    {
      "cell_type": "markdown",
      "metadata": {
        "id": "view-in-github",
        "colab_type": "text"
      },
      "source": [
        "<a href=\"https://colab.research.google.com/github/harnalashok/deeplearning/blob/main/fastai_tabular_data.ipynb\" target=\"_parent\"><img src=\"https://colab.research.google.com/assets/colab-badge.svg\" alt=\"Open In Colab\"/></a>"
      ]
    },
    {
      "cell_type": "markdown",
      "metadata": {
        "id": "SeFfUGb0RM27"
      },
      "source": [
        "# Handling tabular data using deeplearning"
      ]
    },
    {
      "cell_type": "code",
      "execution_count": null,
      "metadata": {
        "id": "VEd61V0mRM2_"
      },
      "outputs": [],
      "source": [
        "# Last amended: 30th April, 2019\n",
        "# Myfolder: /home/ashok/Documents/3.tabular_data\n",
        "# lubuntu_deeplearning_III\n",
        "# Ref: i)  As given in this document\n",
        "#      ii) On moodle in fastai section\n",
        "#     iii) https://arxiv.org/pdf/1803.09820.pdf\n",
        "# Objective: \n",
        "#            i)  Using deeplearning for tabular data\n",
        "#            ii) Categorical transformation to embeddings\n",
        "#           iii) What are weight decay, cyclical learning rate\n",
        "#                and other regularization techniques including \n",
        "#                good batch size selection"
      ]
    },
    {
      "cell_type": "code",
      "execution_count": null,
      "metadata": {
        "id": "xsieOHeARM3D"
      },
      "outputs": [],
      "source": [
        "# Transforming categories to embeddings:\n",
        "# Read in this order:\n",
        "# https://www.fast.ai/2018/04/29/categorical-embeddings/\n",
        "# https://developers.google.com/machine-learning/crash-course/embeddings/obtaining-embeddings\n",
        "# https://forums.fast.ai/t/confused-on-categorical-variable-embedding/24797/12\n",
        "# Absract of: https://arxiv.org/pdf/1604.06737.pdf\n",
        "# https://www.avanwyk.com/cdc-mortality-fastai-tabular/"
      ]
    },
    {
      "cell_type": "code",
      "execution_count": 1,
      "metadata": {
        "id": "_2ywlKnJRM3D"
      },
      "outputs": [],
      "source": [
        "# Imports\n",
        "from fastai.tabular import * \n",
        "import pandas as pd\n",
        "import numpy as np"
      ]
    },
    {
      "cell_type": "code",
      "source": [
        "from IPython.core.interactiveshell import InteractiveShell\n",
        "InteractiveShell.ast_node_interactivity = \"all\"\n"
      ],
      "metadata": {
        "id": "SO50-Bk0Rw5N"
      },
      "execution_count": 3,
      "outputs": []
    },
    {
      "cell_type": "code",
      "execution_count": 4,
      "metadata": {
        "colab": {
          "base_uri": "https://localhost:8080/"
        },
        "id": "Kj04M-mKRM3E",
        "outputId": "36fdfd78-0ac5-4444-939f-f7f6254b3031"
      },
      "outputs": [
        {
          "output_type": "stream",
          "name": "stdout",
          "text": [
            "Help on function untar_data in module fastai.datasets:\n",
            "\n",
            "untar_data(url: str, fname: Union[pathlib.Path, str] = None, dest: Union[pathlib.Path, str] = None, data=True, force_download=False, verbose=False) -> pathlib.Path\n",
            "    Download `url` to `fname` if `dest` doesn't exist, and un-tgz to folder `dest`.\n",
            "\n"
          ]
        }
      ],
      "source": [
        "# untar_data() is a function of fastai.datasets\n",
        "help(untar_data)\n"
      ]
    },
    {
      "cell_type": "code",
      "execution_count": 5,
      "metadata": {
        "colab": {
          "base_uri": "https://localhost:8080/",
          "height": 53
        },
        "id": "-LQqACEZRM3F",
        "outputId": "e083fcec-2164-490f-8039-22c59b29740e"
      },
      "outputs": [
        {
          "output_type": "execute_result",
          "data": {
            "text/plain": [
              "'https://s3.amazonaws.com/fast-ai-nlp/amazon_review_full_csv'"
            ],
            "application/vnd.google.colaboratory.intrinsic+json": {
              "type": "string"
            }
          },
          "metadata": {},
          "execution_count": 5
        },
        {
          "output_type": "execute_result",
          "data": {
            "text/plain": [
              "'http://files.fast.ai/data/examples/adult_sample'"
            ],
            "application/vnd.google.colaboratory.intrinsic+json": {
              "type": "string"
            }
          },
          "metadata": {},
          "execution_count": 5
        },
        {
          "output_type": "execute_result",
          "data": {
            "text/plain": [
              "'https://s3.amazonaws.com/fast-ai-imageclas/stanford-cars'"
            ],
            "application/vnd.google.colaboratory.intrinsic+json": {
              "type": "string"
            }
          },
          "metadata": {},
          "execution_count": 5
        }
      ],
      "source": [
        "# URLs is a class in python having a numebr of attributes.\n",
        "# To see some of those, press tab after URLs. \n",
        "# Each attribute refers to a dataset on Internet\n",
        "\n",
        "#URLs.\n",
        "URLs.AMAZON_REVIEWS\n",
        "URLs.ADULT_SAMPLE\n",
        "URLs.CARS"
      ]
    },
    {
      "cell_type": "code",
      "execution_count": 6,
      "metadata": {
        "colab": {
          "base_uri": "https://localhost:8080/",
          "height": 35
        },
        "id": "HMOtE3r7RM3G",
        "outputId": "08d7bb57-00de-40f8-a7af-9f8ed18db2a8"
      },
      "outputs": [
        {
          "output_type": "stream",
          "name": "stdout",
          "text": [
            "Downloading http://files.fast.ai/data/examples/adult_sample.tgz\n"
          ]
        },
        {
          "output_type": "display_data",
          "data": {
            "text/plain": [
              "<IPython.core.display.HTML object>"
            ],
            "text/html": [
              "\n",
              "<style>\n",
              "    /* Turns off some styling */\n",
              "    progress {\n",
              "        /* gets rid of default border in Firefox and Opera. */\n",
              "        border: none;\n",
              "        /* Needs to be in here for Safari polyfill so background images work as expected. */\n",
              "        background-size: auto;\n",
              "    }\n",
              "    .progress-bar-interrupted, .progress-bar-interrupted::-webkit-progress-bar {\n",
              "        background: #F44336;\n",
              "    }\n",
              "</style>\n"
            ]
          },
          "metadata": {}
        },
        {
          "output_type": "display_data",
          "data": {
            "text/plain": [
              "<IPython.core.display.HTML object>"
            ],
            "text/html": [
              ""
            ]
          },
          "metadata": {}
        }
      ],
      "source": [
        "# Doenload adult data to folder: /home/ashok/.fastai/data/adult_sample\n",
        "# No download is performed if dataset is already available\n",
        "# The function returns dataset folder\n",
        "path = untar_data(URLs.ADULT_SAMPLE)"
      ]
    },
    {
      "cell_type": "code",
      "execution_count": 7,
      "metadata": {
        "colab": {
          "base_uri": "https://localhost:8080/"
        },
        "id": "C-sxfQjLRM3G",
        "outputId": "e95a8107-17fb-4f1b-8a3b-e6a9de05371e"
      },
      "outputs": [
        {
          "output_type": "execute_result",
          "data": {
            "text/plain": [
              "PosixPath('/root/.fastai/data/adult_sample')"
            ]
          },
          "metadata": {},
          "execution_count": 7
        },
        {
          "output_type": "execute_result",
          "data": {
            "text/plain": [
              "pathlib.PosixPath"
            ]
          },
          "metadata": {},
          "execution_count": 7
        },
        {
          "output_type": "execute_result",
          "data": {
            "text/plain": [
              "PosixPath('/root/.fastai/data/adult_sample/abc.csv')"
            ]
          },
          "metadata": {},
          "execution_count": 7
        }
      ],
      "source": [
        "# Understanding 'path' and its behaviour\n",
        "path\n",
        "type(path)            # It is a special type\n",
        "path/\"abc.csv\"        # Also see this special syntax"
      ]
    },
    {
      "cell_type": "code",
      "execution_count": 8,
      "metadata": {
        "colab": {
          "base_uri": "https://localhost:8080/",
          "height": 441
        },
        "id": "nvE-u-AXRM3H",
        "outputId": "7f3a10fd-791a-44c6-dd32-c8e12079a202"
      },
      "outputs": [
        {
          "output_type": "execute_result",
          "data": {
            "text/plain": [
              "   age          workclass  fnlwgt     education  education-num  \\\n",
              "0   49            Private  101320    Assoc-acdm           12.0   \n",
              "1   44            Private  236746       Masters           14.0   \n",
              "2   38            Private   96185       HS-grad            NaN   \n",
              "3   38       Self-emp-inc  112847   Prof-school           15.0   \n",
              "4   42   Self-emp-not-inc   82297       7th-8th            NaN   \n",
              "\n",
              "        marital-status        occupation    relationship                 race  \\\n",
              "0   Married-civ-spouse               NaN            Wife                White   \n",
              "1             Divorced   Exec-managerial   Not-in-family                White   \n",
              "2             Divorced               NaN       Unmarried                Black   \n",
              "3   Married-civ-spouse    Prof-specialty         Husband   Asian-Pac-Islander   \n",
              "4   Married-civ-spouse     Other-service            Wife                Black   \n",
              "\n",
              "       sex  capital-gain  capital-loss  hours-per-week  native-country salary  \n",
              "0   Female             0          1902              40   United-States  >=50k  \n",
              "1     Male         10520             0              45   United-States  >=50k  \n",
              "2   Female             0             0              32   United-States   <50k  \n",
              "3     Male             0             0              40   United-States  >=50k  \n",
              "4   Female             0             0              50   United-States   <50k  "
            ],
            "text/html": [
              "\n",
              "  <div id=\"df-0e5d3b71-5938-4306-abe9-8a5884702701\">\n",
              "    <div class=\"colab-df-container\">\n",
              "      <div>\n",
              "<style scoped>\n",
              "    .dataframe tbody tr th:only-of-type {\n",
              "        vertical-align: middle;\n",
              "    }\n",
              "\n",
              "    .dataframe tbody tr th {\n",
              "        vertical-align: top;\n",
              "    }\n",
              "\n",
              "    .dataframe thead th {\n",
              "        text-align: right;\n",
              "    }\n",
              "</style>\n",
              "<table border=\"1\" class=\"dataframe\">\n",
              "  <thead>\n",
              "    <tr style=\"text-align: right;\">\n",
              "      <th></th>\n",
              "      <th>age</th>\n",
              "      <th>workclass</th>\n",
              "      <th>fnlwgt</th>\n",
              "      <th>education</th>\n",
              "      <th>education-num</th>\n",
              "      <th>marital-status</th>\n",
              "      <th>occupation</th>\n",
              "      <th>relationship</th>\n",
              "      <th>race</th>\n",
              "      <th>sex</th>\n",
              "      <th>capital-gain</th>\n",
              "      <th>capital-loss</th>\n",
              "      <th>hours-per-week</th>\n",
              "      <th>native-country</th>\n",
              "      <th>salary</th>\n",
              "    </tr>\n",
              "  </thead>\n",
              "  <tbody>\n",
              "    <tr>\n",
              "      <th>0</th>\n",
              "      <td>49</td>\n",
              "      <td>Private</td>\n",
              "      <td>101320</td>\n",
              "      <td>Assoc-acdm</td>\n",
              "      <td>12.0</td>\n",
              "      <td>Married-civ-spouse</td>\n",
              "      <td>NaN</td>\n",
              "      <td>Wife</td>\n",
              "      <td>White</td>\n",
              "      <td>Female</td>\n",
              "      <td>0</td>\n",
              "      <td>1902</td>\n",
              "      <td>40</td>\n",
              "      <td>United-States</td>\n",
              "      <td>&gt;=50k</td>\n",
              "    </tr>\n",
              "    <tr>\n",
              "      <th>1</th>\n",
              "      <td>44</td>\n",
              "      <td>Private</td>\n",
              "      <td>236746</td>\n",
              "      <td>Masters</td>\n",
              "      <td>14.0</td>\n",
              "      <td>Divorced</td>\n",
              "      <td>Exec-managerial</td>\n",
              "      <td>Not-in-family</td>\n",
              "      <td>White</td>\n",
              "      <td>Male</td>\n",
              "      <td>10520</td>\n",
              "      <td>0</td>\n",
              "      <td>45</td>\n",
              "      <td>United-States</td>\n",
              "      <td>&gt;=50k</td>\n",
              "    </tr>\n",
              "    <tr>\n",
              "      <th>2</th>\n",
              "      <td>38</td>\n",
              "      <td>Private</td>\n",
              "      <td>96185</td>\n",
              "      <td>HS-grad</td>\n",
              "      <td>NaN</td>\n",
              "      <td>Divorced</td>\n",
              "      <td>NaN</td>\n",
              "      <td>Unmarried</td>\n",
              "      <td>Black</td>\n",
              "      <td>Female</td>\n",
              "      <td>0</td>\n",
              "      <td>0</td>\n",
              "      <td>32</td>\n",
              "      <td>United-States</td>\n",
              "      <td>&lt;50k</td>\n",
              "    </tr>\n",
              "    <tr>\n",
              "      <th>3</th>\n",
              "      <td>38</td>\n",
              "      <td>Self-emp-inc</td>\n",
              "      <td>112847</td>\n",
              "      <td>Prof-school</td>\n",
              "      <td>15.0</td>\n",
              "      <td>Married-civ-spouse</td>\n",
              "      <td>Prof-specialty</td>\n",
              "      <td>Husband</td>\n",
              "      <td>Asian-Pac-Islander</td>\n",
              "      <td>Male</td>\n",
              "      <td>0</td>\n",
              "      <td>0</td>\n",
              "      <td>40</td>\n",
              "      <td>United-States</td>\n",
              "      <td>&gt;=50k</td>\n",
              "    </tr>\n",
              "    <tr>\n",
              "      <th>4</th>\n",
              "      <td>42</td>\n",
              "      <td>Self-emp-not-inc</td>\n",
              "      <td>82297</td>\n",
              "      <td>7th-8th</td>\n",
              "      <td>NaN</td>\n",
              "      <td>Married-civ-spouse</td>\n",
              "      <td>Other-service</td>\n",
              "      <td>Wife</td>\n",
              "      <td>Black</td>\n",
              "      <td>Female</td>\n",
              "      <td>0</td>\n",
              "      <td>0</td>\n",
              "      <td>50</td>\n",
              "      <td>United-States</td>\n",
              "      <td>&lt;50k</td>\n",
              "    </tr>\n",
              "  </tbody>\n",
              "</table>\n",
              "</div>\n",
              "      <button class=\"colab-df-convert\" onclick=\"convertToInteractive('df-0e5d3b71-5938-4306-abe9-8a5884702701')\"\n",
              "              title=\"Convert this dataframe to an interactive table.\"\n",
              "              style=\"display:none;\">\n",
              "        \n",
              "  <svg xmlns=\"http://www.w3.org/2000/svg\" height=\"24px\"viewBox=\"0 0 24 24\"\n",
              "       width=\"24px\">\n",
              "    <path d=\"M0 0h24v24H0V0z\" fill=\"none\"/>\n",
              "    <path d=\"M18.56 5.44l.94 2.06.94-2.06 2.06-.94-2.06-.94-.94-2.06-.94 2.06-2.06.94zm-11 1L8.5 8.5l.94-2.06 2.06-.94-2.06-.94L8.5 2.5l-.94 2.06-2.06.94zm10 10l.94 2.06.94-2.06 2.06-.94-2.06-.94-.94-2.06-.94 2.06-2.06.94z\"/><path d=\"M17.41 7.96l-1.37-1.37c-.4-.4-.92-.59-1.43-.59-.52 0-1.04.2-1.43.59L10.3 9.45l-7.72 7.72c-.78.78-.78 2.05 0 2.83L4 21.41c.39.39.9.59 1.41.59.51 0 1.02-.2 1.41-.59l7.78-7.78 2.81-2.81c.8-.78.8-2.07 0-2.86zM5.41 20L4 18.59l7.72-7.72 1.47 1.35L5.41 20z\"/>\n",
              "  </svg>\n",
              "      </button>\n",
              "      \n",
              "  <style>\n",
              "    .colab-df-container {\n",
              "      display:flex;\n",
              "      flex-wrap:wrap;\n",
              "      gap: 12px;\n",
              "    }\n",
              "\n",
              "    .colab-df-convert {\n",
              "      background-color: #E8F0FE;\n",
              "      border: none;\n",
              "      border-radius: 50%;\n",
              "      cursor: pointer;\n",
              "      display: none;\n",
              "      fill: #1967D2;\n",
              "      height: 32px;\n",
              "      padding: 0 0 0 0;\n",
              "      width: 32px;\n",
              "    }\n",
              "\n",
              "    .colab-df-convert:hover {\n",
              "      background-color: #E2EBFA;\n",
              "      box-shadow: 0px 1px 2px rgba(60, 64, 67, 0.3), 0px 1px 3px 1px rgba(60, 64, 67, 0.15);\n",
              "      fill: #174EA6;\n",
              "    }\n",
              "\n",
              "    [theme=dark] .colab-df-convert {\n",
              "      background-color: #3B4455;\n",
              "      fill: #D2E3FC;\n",
              "    }\n",
              "\n",
              "    [theme=dark] .colab-df-convert:hover {\n",
              "      background-color: #434B5C;\n",
              "      box-shadow: 0px 1px 3px 1px rgba(0, 0, 0, 0.15);\n",
              "      filter: drop-shadow(0px 1px 2px rgba(0, 0, 0, 0.3));\n",
              "      fill: #FFFFFF;\n",
              "    }\n",
              "  </style>\n",
              "\n",
              "      <script>\n",
              "        const buttonEl =\n",
              "          document.querySelector('#df-0e5d3b71-5938-4306-abe9-8a5884702701 button.colab-df-convert');\n",
              "        buttonEl.style.display =\n",
              "          google.colab.kernel.accessAllowed ? 'block' : 'none';\n",
              "\n",
              "        async function convertToInteractive(key) {\n",
              "          const element = document.querySelector('#df-0e5d3b71-5938-4306-abe9-8a5884702701');\n",
              "          const dataTable =\n",
              "            await google.colab.kernel.invokeFunction('convertToInteractive',\n",
              "                                                     [key], {});\n",
              "          if (!dataTable) return;\n",
              "\n",
              "          const docLinkHtml = 'Like what you see? Visit the ' +\n",
              "            '<a target=\"_blank\" href=https://colab.research.google.com/notebooks/data_table.ipynb>data table notebook</a>'\n",
              "            + ' to learn more about interactive tables.';\n",
              "          element.innerHTML = '';\n",
              "          dataTable['output_type'] = 'display_data';\n",
              "          await google.colab.output.renderOutput(dataTable, element);\n",
              "          const docLink = document.createElement('div');\n",
              "          docLink.innerHTML = docLinkHtml;\n",
              "          element.appendChild(docLink);\n",
              "        }\n",
              "      </script>\n",
              "    </div>\n",
              "  </div>\n",
              "  "
            ]
          },
          "metadata": {},
          "execution_count": 8
        },
        {
          "output_type": "execute_result",
          "data": {
            "text/plain": [
              "(32561, 15)"
            ]
          },
          "metadata": {},
          "execution_count": 8
        }
      ],
      "source": [
        "# Read datafile now\n",
        "df = pd.read_csv(path/'adult.csv')\n",
        "df.head()\n",
        "df.shape        # (32561, 15)"
      ]
    },
    {
      "cell_type": "code",
      "execution_count": null,
      "metadata": {
        "id": "lHVlAKWSRM3J"
      },
      "outputs": [],
      "source": [
        "df.dtypes\n",
        "df.dtypes.value_counts()"
      ]
    },
    {
      "cell_type": "code",
      "execution_count": 10,
      "metadata": {
        "colab": {
          "base_uri": "https://localhost:8080/",
          "height": 319
        },
        "id": "RUbJG-56RM3J",
        "outputId": "e35f5c0e-d90a-4258-93bc-2ea72c3498f5"
      },
      "outputs": [
        {
          "output_type": "execute_result",
          "data": {
            "text/plain": [
              "Index                128\n",
              "age               260488\n",
              "workclass         260488\n",
              "fnlwgt            260488\n",
              "education         260488\n",
              "education-num     260488\n",
              "marital-status    260488\n",
              "occupation        260488\n",
              "relationship      260488\n",
              "race              260488\n",
              "sex               260488\n",
              "capital-gain      260488\n",
              "capital-loss      260488\n",
              "hours-per-week    260488\n",
              "native-country    260488\n",
              "salary            260488\n",
              "dtype: int64"
            ]
          },
          "metadata": {},
          "execution_count": 10
        },
        {
          "output_type": "execute_result",
          "data": {
            "text/plain": [
              "'Total memory usage in MBs: 3.907448'"
            ],
            "application/vnd.google.colaboratory.intrinsic+json": {
              "type": "string"
            }
          },
          "metadata": {},
          "execution_count": 10
        }
      ],
      "source": [
        "# How much memory per column\n",
        "df.memory_usage()\n",
        "# And total memory usage\n",
        "f'Total memory usage in MBs: {df.memory_usage().sum()/1000000}'\n"
      ]
    },
    {
      "cell_type": "code",
      "execution_count": 11,
      "metadata": {
        "colab": {
          "base_uri": "https://localhost:8080/"
        },
        "id": "NRQmm65MRM3K",
        "outputId": "a73aa650-669e-4bf8-9300-6a81e98c523e"
      },
      "outputs": [
        {
          "output_type": "execute_result",
          "data": {
            "text/plain": [
              "0"
            ]
          },
          "metadata": {},
          "execution_count": 11
        },
        {
          "output_type": "execute_result",
          "data": {
            "text/plain": [
              "99999"
            ]
          },
          "metadata": {},
          "execution_count": 11
        },
        {
          "output_type": "execute_result",
          "data": {
            "text/plain": [
              "0"
            ]
          },
          "metadata": {},
          "execution_count": 11
        },
        {
          "output_type": "execute_result",
          "data": {
            "text/plain": [
              "4356"
            ]
          },
          "metadata": {},
          "execution_count": 11
        },
        {
          "output_type": "execute_result",
          "data": {
            "text/plain": [
              "iinfo(min=0, max=255, dtype=uint8)"
            ]
          },
          "metadata": {},
          "execution_count": 11
        },
        {
          "output_type": "execute_result",
          "data": {
            "text/plain": [
              "iinfo(min=0, max=65535, dtype=uint16)"
            ]
          },
          "metadata": {},
          "execution_count": 11
        }
      ],
      "source": [
        "# Reducing memory usage\n",
        "# Transform numeric, int64' to proper datatype\n",
        "df.age = df.age.astype('uint8')  # After all age varies between [0,100)\n",
        "df['hours-per-week'] = df['hours-per-week'].astype(np.uint8)  # Max hours per week can be: 7 X 24 = 168\n",
        "# What about few other fields\n",
        "df['capital-gain'].min() \n",
        "df['capital-gain'].max()\n",
        "df['capital-loss'].min()\n",
        "df['capital-loss'].max()\n",
        "\n",
        "# Get some details about unit8 and uint16\n",
        "np.iinfo(np.uint8)\n",
        "np.iinfo(np.uint16)\n",
        "\n",
        "# Transform 'object' to pandas 'category' datatype\n",
        "df.education = df.education.astype('category')"
      ]
    },
    {
      "cell_type": "code",
      "execution_count": 12,
      "metadata": {
        "colab": {
          "base_uri": "https://localhost:8080/"
        },
        "id": "mRZ-cEf2RM3L",
        "outputId": "bb84637a-6b8b-432f-979c-90b6c5076745"
      },
      "outputs": [
        {
          "output_type": "execute_result",
          "data": {
            "text/plain": [
              "Index                128\n",
              "age                32561\n",
              "workclass         260488\n",
              "fnlwgt            260488\n",
              "education          33245\n",
              "education-num     260488\n",
              "marital-status    260488\n",
              "occupation        260488\n",
              "relationship      260488\n",
              "race              260488\n",
              "sex               260488\n",
              "capital-gain      260488\n",
              "capital-loss      260488\n",
              "hours-per-week     32561\n",
              "native-country    260488\n",
              "salary            260488\n",
              "dtype: int64"
            ]
          },
          "metadata": {},
          "execution_count": 12
        },
        {
          "output_type": "execute_result",
          "data": {
            "text/plain": [
              "3224351"
            ]
          },
          "metadata": {},
          "execution_count": 12
        }
      ],
      "source": [
        "# So what is the currennt memory usage\n",
        "df.memory_usage()\n",
        "sum(df.memory_usage())"
      ]
    },
    {
      "cell_type": "code",
      "execution_count": 13,
      "metadata": {
        "id": "4OZbOssqRM3L"
      },
      "outputs": [],
      "source": [
        "# We will carry out transformation on our data\n",
        "# The list of classes that will perform this is below:\n",
        "# https://docs.fast.ai/tabular.transform.html\n",
        "# While we can invoke methods of these classes\n",
        "#  we will use Class TabularDataBunch to invoke all\n",
        "#   these on our dataset\n",
        "# https://docs.fast.ai/tabular.transform.html#FillMissing\n",
        "# FillMissing: Fill the missing values in continuous columns.\n",
        "# https://docs.fast.ai/tabular.transform.html#Categorify\n",
        "# Categorify: Transform the categorical variables to that type.\n",
        "# https://docs.fast.ai/tabular.transform.html#Normalize\n",
        "# Normalize: Normalize the continuous variables.\n",
        "\n",
        "procs = [FillMissing, Categorify, Normalize]\n"
      ]
    },
    {
      "cell_type": "code",
      "execution_count": 14,
      "metadata": {
        "id": "tCPcIMYQRM3M"
      },
      "outputs": [],
      "source": [
        "# Create an index for validation dataset\n",
        "valid_idx = range(len(df)-2000, len(df))    # That is last 2000 datapoints"
      ]
    },
    {
      "cell_type": "code",
      "execution_count": 18,
      "metadata": {
        "id": "K0phXWhMRM3M"
      },
      "outputs": [],
      "source": [
        "# Segregate our fields\n",
        "dep_var = 'salary'\n",
        "cat_names = ['workclass', 'education', 'marital-status', 'occupation', 'relationship', 'race', 'sex', 'native-country']"
      ]
    },
    {
      "cell_type": "code",
      "source": [
        "df.to_csv(\"adult_sample\", index = False)"
      ],
      "metadata": {
        "id": "GFmZ07fSSVgE"
      },
      "execution_count": 16,
      "outputs": []
    },
    {
      "cell_type": "code",
      "execution_count": 17,
      "metadata": {
        "id": "7sG1E9uKRM3N"
      },
      "outputs": [],
      "source": [
        "# https://docs.fast.ai/tabular.data.html\n",
        "# Create a DataBunch object suitable for tabular data.\n",
        "# The best way to quickly get your data in a DataBunch object \n",
        "#  suitable for tabular data is to organize it in two dataframes.\n",
        "#  One for training, one for validation, and if you have it, \n",
        "#   one for testing. \n",
        "\n",
        "data = TabularDataBunch.from_df('/content/adult_sample',\n",
        "                                df,\n",
        "                                dep_var,\n",
        "                                valid_idx=valid_idx,\n",
        "                                procs=procs,\n",
        "                                cat_names=cat_names\n",
        "                               )"
      ]
    },
    {
      "cell_type": "code",
      "execution_count": 19,
      "metadata": {
        "colab": {
          "base_uri": "https://localhost:8080/",
          "height": 631
        },
        "id": "TRyw1JApRM3O",
        "outputId": "f1035a54-9a23-4002-d221-d4ca570e36cf"
      },
      "outputs": [
        {
          "output_type": "execute_result",
          "data": {
            "text/plain": [
              "['age',\n",
              " 'education-num',\n",
              " 'hours-per-week',\n",
              " 'fnlwgt',\n",
              " 'capital-loss',\n",
              " 'capital-gain']"
            ]
          },
          "metadata": {},
          "execution_count": 19
        },
        {
          "output_type": "execute_result",
          "data": {
            "text/plain": [
              "['workclass',\n",
              " 'education',\n",
              " 'marital-status',\n",
              " 'occupation',\n",
              " 'relationship',\n",
              " 'race',\n",
              " 'sex',\n",
              " 'native-country',\n",
              " 'education-num_na']"
            ]
          },
          "metadata": {},
          "execution_count": 19
        },
        {
          "output_type": "execute_result",
          "data": {
            "text/plain": [
              "64"
            ]
          },
          "metadata": {},
          "execution_count": 19
        },
        {
          "output_type": "display_data",
          "data": {
            "text/plain": [
              "<IPython.core.display.HTML object>"
            ],
            "text/html": [
              "<table border=\"1\" class=\"dataframe\">\n",
              "  <thead>\n",
              "    <tr style=\"text-align: right;\">\n",
              "      <th>workclass</th>\n",
              "      <th>education</th>\n",
              "      <th>marital-status</th>\n",
              "      <th>occupation</th>\n",
              "      <th>relationship</th>\n",
              "      <th>race</th>\n",
              "      <th>sex</th>\n",
              "      <th>native-country</th>\n",
              "      <th>education-num_na</th>\n",
              "      <th>age</th>\n",
              "      <th>education-num</th>\n",
              "      <th>hours-per-week</th>\n",
              "      <th>fnlwgt</th>\n",
              "      <th>capital-loss</th>\n",
              "      <th>capital-gain</th>\n",
              "      <th>target</th>\n",
              "    </tr>\n",
              "  </thead>\n",
              "  <tbody>\n",
              "    <tr>\n",
              "      <td>Private</td>\n",
              "      <td>9th</td>\n",
              "      <td>Married-civ-spouse</td>\n",
              "      <td>Transport-moving</td>\n",
              "      <td>Husband</td>\n",
              "      <td>White</td>\n",
              "      <td>Male</td>\n",
              "      <td>United-States</td>\n",
              "      <td>False</td>\n",
              "      <td>-0.9976</td>\n",
              "      <td>-1.9889</td>\n",
              "      <td>0.3682</td>\n",
              "      <td>3.0580</td>\n",
              "      <td>-0.2168</td>\n",
              "      <td>-0.1459</td>\n",
              "      <td>&lt;50k</td>\n",
              "    </tr>\n",
              "    <tr>\n",
              "      <td>Private</td>\n",
              "      <td>5th-6th</td>\n",
              "      <td>Never-married</td>\n",
              "      <td>Handlers-cleaners</td>\n",
              "      <td>Not-in-family</td>\n",
              "      <td>White</td>\n",
              "      <td>Female</td>\n",
              "      <td>United-States</td>\n",
              "      <td>False</td>\n",
              "      <td>0.9795</td>\n",
              "      <td>-2.7725</td>\n",
              "      <td>-0.0358</td>\n",
              "      <td>0.9691</td>\n",
              "      <td>-0.2168</td>\n",
              "      <td>-0.1459</td>\n",
              "      <td>&lt;50k</td>\n",
              "    </tr>\n",
              "    <tr>\n",
              "      <td>Local-gov</td>\n",
              "      <td>Masters</td>\n",
              "      <td>Never-married</td>\n",
              "      <td>Prof-specialty</td>\n",
              "      <td>Not-in-family</td>\n",
              "      <td>White</td>\n",
              "      <td>Female</td>\n",
              "      <td>United-States</td>\n",
              "      <td>False</td>\n",
              "      <td>-0.0457</td>\n",
              "      <td>1.5376</td>\n",
              "      <td>1.1761</td>\n",
              "      <td>-1.5075</td>\n",
              "      <td>3.9281</td>\n",
              "      <td>-0.1459</td>\n",
              "      <td>&lt;50k</td>\n",
              "    </tr>\n",
              "    <tr>\n",
              "      <td>Private</td>\n",
              "      <td>10th</td>\n",
              "      <td>Married-civ-spouse</td>\n",
              "      <td>Sales</td>\n",
              "      <td>Husband</td>\n",
              "      <td>White</td>\n",
              "      <td>Male</td>\n",
              "      <td>United-States</td>\n",
              "      <td>False</td>\n",
              "      <td>2.4440</td>\n",
              "      <td>-1.5970</td>\n",
              "      <td>-2.0556</td>\n",
              "      <td>-0.1134</td>\n",
              "      <td>-0.2168</td>\n",
              "      <td>-0.1459</td>\n",
              "      <td>&lt;50k</td>\n",
              "    </tr>\n",
              "    <tr>\n",
              "      <td>Local-gov</td>\n",
              "      <td>Assoc-acdm</td>\n",
              "      <td>Never-married</td>\n",
              "      <td>Prof-specialty</td>\n",
              "      <td>Own-child</td>\n",
              "      <td>White</td>\n",
              "      <td>Female</td>\n",
              "      <td>United-States</td>\n",
              "      <td>False</td>\n",
              "      <td>-1.0709</td>\n",
              "      <td>0.7539</td>\n",
              "      <td>-3.1059</td>\n",
              "      <td>-0.1284</td>\n",
              "      <td>-0.2168</td>\n",
              "      <td>-0.1459</td>\n",
              "      <td>&lt;50k</td>\n",
              "    </tr>\n",
              "  </tbody>\n",
              "</table>"
            ]
          },
          "metadata": {}
        }
      ],
      "source": [
        "# Some properties of DataBunch object\n",
        "data.train_ds.cont_names  # `cont_names` defaults to: set(df)-set(cat_names)-{dep_var}\n",
        "data.train_ds.cat_names\n",
        "data.batch_size\n",
        "dx = data.show_batch()\n"
      ]
    },
    {
      "cell_type": "code",
      "execution_count": 20,
      "metadata": {
        "colab": {
          "base_uri": "https://localhost:8080/",
          "height": 112
        },
        "id": "GZ_L3CLCRM3P",
        "outputId": "93018a1e-7784-4756-8977-35891bb3804e"
      },
      "outputs": [
        {
          "output_type": "display_data",
          "data": {
            "text/plain": [
              "<IPython.core.display.HTML object>"
            ],
            "text/html": [
              "\n",
              "<style>\n",
              "    /* Turns off some styling */\n",
              "    progress {\n",
              "        /* gets rid of default border in Firefox and Opera. */\n",
              "        border: none;\n",
              "        /* Needs to be in here for Safari polyfill so background images work as expected. */\n",
              "        background-size: auto;\n",
              "    }\n",
              "    .progress-bar-interrupted, .progress-bar-interrupted::-webkit-progress-bar {\n",
              "        background: #F44336;\n",
              "    }\n",
              "</style>\n"
            ]
          },
          "metadata": {}
        },
        {
          "output_type": "display_data",
          "data": {
            "text/plain": [
              "<IPython.core.display.HTML object>"
            ],
            "text/html": [
              "<table border=\"1\" class=\"dataframe\">\n",
              "  <thead>\n",
              "    <tr style=\"text-align: left;\">\n",
              "      <th>epoch</th>\n",
              "      <th>train_loss</th>\n",
              "      <th>valid_loss</th>\n",
              "      <th>accuracy</th>\n",
              "      <th>time</th>\n",
              "    </tr>\n",
              "  </thead>\n",
              "  <tbody>\n",
              "    <tr>\n",
              "      <td>0</td>\n",
              "      <td>0.335528</td>\n",
              "      <td>0.324225</td>\n",
              "      <td>0.846000</td>\n",
              "      <td>00:03</td>\n",
              "    </tr>\n",
              "    <tr>\n",
              "      <td>1</td>\n",
              "      <td>0.321627</td>\n",
              "      <td>0.316807</td>\n",
              "      <td>0.851000</td>\n",
              "      <td>00:03</td>\n",
              "    </tr>\n",
              "  </tbody>\n",
              "</table>"
            ]
          },
          "metadata": {}
        }
      ],
      "source": [
        "# Create a learner object and learn\n",
        "# Specify metrics, including a TabularModel \n",
        "# emb_szs is a dict mapping categorical \n",
        "#  column names to embedding sizes; you only \n",
        "#   need to pass sizes for columns where you want \n",
        "#    to override the default behaviour of the model.\n",
        "#     Generally embedding vector size is deided by some\n",
        "#      heuristic (see\" https://forums.fast.ai/t/wiki-lesson-5/9403/14)\n",
        "# The rule of thumb for determining the embedding size is the cardinality size divided by 2, but no bigger than 50.\n",
        "# See this: https://medium.com/@hiromi_suenaga/deep-learning-2-part-1-lesson-4-2048a26d58aa\n",
        "\n",
        "# For metrics, Pl see: https://docs.fast.ai/metrics.html\n",
        "\n",
        "learn = tabular_learner(data,\n",
        "                        layers=[200,100],\n",
        "                        emb_szs={'native-country': 10},\n",
        "                        metrics=[accuracy]\n",
        "                       )\n",
        "\n",
        "# Next start  learning\n",
        "# TODO: What is 1cycle policy?\n",
        "epochs = 2\n",
        "learn.fit_one_cycle(epochs, 1e-2)\n"
      ]
    },
    {
      "cell_type": "code",
      "execution_count": 21,
      "metadata": {
        "colab": {
          "base_uri": "https://localhost:8080/"
        },
        "id": "lqhfyNUZRM3P",
        "outputId": "e78def83-fa40-4d72-e6b0-8a9baefd76cf"
      },
      "outputs": [
        {
          "output_type": "execute_result",
          "data": {
            "text/plain": [
              "(Category tensor(1), tensor(1), tensor([0.2010, 0.7990]))"
            ]
          },
          "metadata": {},
          "execution_count": 21
        }
      ],
      "source": [
        "learn.predict(df.iloc[0])\n"
      ]
    },
    {
      "cell_type": "code",
      "execution_count": 22,
      "metadata": {
        "colab": {
          "base_uri": "https://localhost:8080/"
        },
        "id": "JJJERp3WRM3Q",
        "outputId": "d4cd34f3-bb7d-4e59-efb0-c712101dfb00"
      },
      "outputs": [
        {
          "output_type": "execute_result",
          "data": {
            "text/plain": [
              "age                                49\n",
              "workclass                     Private\n",
              "fnlwgt                         101320\n",
              "education                  Assoc-acdm\n",
              "education-num                    12.0\n",
              "marital-status     Married-civ-spouse\n",
              "occupation                        NaN\n",
              "relationship                     Wife\n",
              "race                            White\n",
              "sex                            Female\n",
              "capital-gain                        0\n",
              "capital-loss                     1902\n",
              "hours-per-week                     40\n",
              "native-country          United-States\n",
              "salary                          >=50k\n",
              "Name: 0, dtype: object"
            ]
          },
          "metadata": {},
          "execution_count": 22
        }
      ],
      "source": [
        "df.iloc[0]"
      ]
    },
    {
      "cell_type": "code",
      "source": [
        ""
      ],
      "metadata": {
        "id": "g4kpPEK3SzT6"
      },
      "execution_count": null,
      "outputs": []
    }
  ],
  "metadata": {
    "kernelspec": {
      "display_name": "Python 3",
      "language": "python",
      "name": "python3"
    },
    "language_info": {
      "codemirror_mode": {
        "name": "ipython",
        "version": 3
      },
      "file_extension": ".py",
      "mimetype": "text/x-python",
      "name": "python",
      "nbconvert_exporter": "python",
      "pygments_lexer": "ipython3",
      "version": "3.7.1"
    },
    "colab": {
      "name": "fastai_tabular data.ipynb",
      "provenance": [],
      "collapsed_sections": [],
      "include_colab_link": true
    }
  },
  "nbformat": 4,
  "nbformat_minor": 0
}