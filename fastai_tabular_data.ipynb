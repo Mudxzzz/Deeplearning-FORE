{
  "cells": [
    {
      "cell_type": "markdown",
      "metadata": {
        "id": "view-in-github",
        "colab_type": "text"
      },
      "source": [
        "<a href=\"https://colab.research.google.com/github/harnalashok/deeplearning/blob/main/fastai_tabular_data.ipynb\" target=\"_parent\"><img src=\"https://colab.research.google.com/assets/colab-badge.svg\" alt=\"Open In Colab\"/></a>"
      ]
    },
    {
      "cell_type": "markdown",
      "metadata": {
        "id": "SeFfUGb0RM27"
      },
      "source": [
        "# Handling tabular data using deeplearning"
      ]
    },
    {
      "cell_type": "code",
      "execution_count": null,
      "metadata": {
        "id": "VEd61V0mRM2_"
      },
      "outputs": [],
      "source": [
        "# Last amended: 30th April, 2019\n",
        "# Myfolder: /home/ashok/Documents/3.tabular_data\n",
        "# lubuntu_deeplearning_III\n",
        "# Ref: i)  As given in this document\n",
        "#      ii) On moodle in fastai section\n",
        "#     iii) https://arxiv.org/pdf/1803.09820.pdf\n",
        "# Objective: \n",
        "#            i)  Using deeplearning for tabular data\n",
        "#            ii) Categorical transformation to embeddings\n",
        "#           iii) What are weight decay, cyclical learning rate\n",
        "#                and other regularization techniques including \n",
        "#                good batch size selection"
      ]
    },
    {
      "cell_type": "code",
      "execution_count": null,
      "metadata": {
        "id": "xsieOHeARM3D"
      },
      "outputs": [],
      "source": [
        "# Transforming categories to embeddings:\n",
        "# Read in this order:\n",
        "# https://www.fast.ai/2018/04/29/categorical-embeddings/\n",
        "# https://developers.google.com/machine-learning/crash-course/embeddings/obtaining-embeddings\n",
        "# https://forums.fast.ai/t/confused-on-categorical-variable-embedding/24797/12\n",
        "# Absract of: https://arxiv.org/pdf/1604.06737.pdf\n",
        "# https://www.avanwyk.com/cdc-mortality-fastai-tabular/"
      ]
    },
    {
      "cell_type": "code",
      "execution_count": null,
      "metadata": {
        "id": "_2ywlKnJRM3D"
      },
      "outputs": [],
      "source": [
        "# Imports\n",
        "from fastai.tabular import * \n",
        "import pandas as pd\n",
        "import numpy as np"
      ]
    },
    {
      "cell_type": "code",
      "execution_count": null,
      "metadata": {
        "id": "Kj04M-mKRM3E"
      },
      "outputs": [],
      "source": [
        "# untar_data() is a function of fastai.datasets\n",
        "help(untar_data)\n"
      ]
    },
    {
      "cell_type": "code",
      "execution_count": null,
      "metadata": {
        "id": "-LQqACEZRM3F"
      },
      "outputs": [],
      "source": [
        "# URLs is a class in python having a numebr of attributes.\n",
        "# To see some of those, press tab after URLs. \n",
        "# Each attribute refers to a dataset on Internet\n",
        "\n",
        "#URLs.\n",
        "URLs.AMAZON_REVIEWS\n",
        "URLs.ADULT_SAMPLE\n",
        "URLs.CARS"
      ]
    },
    {
      "cell_type": "code",
      "execution_count": null,
      "metadata": {
        "id": "HMOtE3r7RM3G"
      },
      "outputs": [],
      "source": [
        "# Doenload adult data to folder: /home/ashok/.fastai/data/adult_sample\n",
        "# No download is performed if dataset is already available\n",
        "# The function returns dataset folder\n",
        "path = untar_data(URLs.ADULT_SAMPLE)"
      ]
    },
    {
      "cell_type": "code",
      "execution_count": null,
      "metadata": {
        "id": "C-sxfQjLRM3G"
      },
      "outputs": [],
      "source": [
        "# Understanding 'path' and its behaviour\n",
        "path\n",
        "type(path)            # It is a special type\n",
        "path/\"abc.csv\"        # Also see this special syntax"
      ]
    },
    {
      "cell_type": "code",
      "execution_count": null,
      "metadata": {
        "id": "nvE-u-AXRM3H"
      },
      "outputs": [],
      "source": [
        "# Read datafile now\n",
        "df = pd.read_csv(path/'adult.csv')\n",
        "df.head()\n",
        "df.shape        # (32561, 15)"
      ]
    },
    {
      "cell_type": "code",
      "execution_count": null,
      "metadata": {
        "id": "lHVlAKWSRM3J"
      },
      "outputs": [],
      "source": [
        "df.dtypes\n",
        "df.dtypes.value_counts()"
      ]
    },
    {
      "cell_type": "code",
      "execution_count": null,
      "metadata": {
        "id": "RUbJG-56RM3J"
      },
      "outputs": [],
      "source": [
        "# How much memory per column\n",
        "df.memory_usage()\n",
        "# And total memory usage\n",
        "f'Total memory usage in MBs: {df.memory_usage().sum()/1000000}'\n"
      ]
    },
    {
      "cell_type": "code",
      "execution_count": null,
      "metadata": {
        "id": "NRQmm65MRM3K"
      },
      "outputs": [],
      "source": [
        "# Reducing memory usage\n",
        "# Transform numeric, int64' to proper datatype\n",
        "df.age = df.age.astype('uint8')  # After all age varies between [0,100)\n",
        "df['hours-per-week'] = df['hours-per-week'].astype(np.uint8)  # Max hours per week can be: 7 X 24 = 168\n",
        "# What about few other fields\n",
        "df['capital-gain'].min() \n",
        "df['capital-gain'].max()\n",
        "df['capital-loss'].min()\n",
        "df['capital-loss'].max()\n",
        "\n",
        "# Get some details about unit8 and uint16\n",
        "np.iinfo(np.uint8)\n",
        "np.iinfo(np.uint16)\n",
        "\n",
        "# Transform 'object' to pandas 'category' datatype\n",
        "df.education = df.education.astype('category')"
      ]
    },
    {
      "cell_type": "code",
      "execution_count": null,
      "metadata": {
        "id": "mRZ-cEf2RM3L"
      },
      "outputs": [],
      "source": [
        "# So what is the currennt memory usage\n",
        "df.memory_usage()\n",
        "sum(df.memory_usage())"
      ]
    },
    {
      "cell_type": "code",
      "execution_count": null,
      "metadata": {
        "id": "4OZbOssqRM3L"
      },
      "outputs": [],
      "source": [
        "# We will carry out transformation on our data\n",
        "# The list of classes that will perform this is below:\n",
        "# https://docs.fast.ai/tabular.transform.html\n",
        "# While we can invoke methods of these classes\n",
        "#  we will use Class TabularDataBunch to invoke all\n",
        "#   these on our dataset\n",
        "# https://docs.fast.ai/tabular.transform.html#FillMissing\n",
        "# FillMissing: Fill the missing values in continuous columns.\n",
        "# https://docs.fast.ai/tabular.transform.html#Categorify\n",
        "# Categorify: Transform the categorical variables to that type.\n",
        "# https://docs.fast.ai/tabular.transform.html#Normalize\n",
        "# Normalize: Normalize the continuous variables.\n",
        "\n",
        "procs = [FillMissing, Categorify, Normalize]\n"
      ]
    },
    {
      "cell_type": "code",
      "execution_count": null,
      "metadata": {
        "id": "tCPcIMYQRM3M"
      },
      "outputs": [],
      "source": [
        "# Create an index for validation dataset\n",
        "valid_idx = range(len(df)-2000, len(df))    # That is last 2000 datapoints"
      ]
    },
    {
      "cell_type": "code",
      "execution_count": null,
      "metadata": {
        "id": "K0phXWhMRM3M"
      },
      "outputs": [],
      "source": [
        "# Segregate our fields\n",
        "dep_var = 'salary'\n",
        "cat_names = ['workclass', 'education', 'marital-status', 'occupation', 'relationship', 'race', 'sex', 'native-country']"
      ]
    },
    {
      "cell_type": "code",
      "execution_count": null,
      "metadata": {
        "id": "7sG1E9uKRM3N"
      },
      "outputs": [],
      "source": [
        "# https://docs.fast.ai/tabular.data.html\n",
        "# Create a DataBunch object suitable for tabular data.\n",
        "# The best way to quickly get your data in a DataBunch object \n",
        "#  suitable for tabular data is to organize it in two dataframes.\n",
        "#  One for training, one for validation, and if you have it, \n",
        "#   one for testing. \n",
        "\n",
        "data = TabularDataBunch.from_df('/home/ashok/.fastai/data/adult_sample',\n",
        "                                df,\n",
        "                                dep_var,\n",
        "                                valid_idx=valid_idx,\n",
        "                                procs=procs,\n",
        "                                cat_names=cat_names\n",
        "                               )"
      ]
    },
    {
      "cell_type": "code",
      "execution_count": null,
      "metadata": {
        "id": "TRyw1JApRM3O"
      },
      "outputs": [],
      "source": [
        "# Some properties of DataBunch object\n",
        "data.train_ds.cont_names  # `cont_names` defaults to: set(df)-set(cat_names)-{dep_var}\n",
        "data.train_ds.cat_names\n",
        "data.batch_size\n",
        "dx = data.show_batch()\n"
      ]
    },
    {
      "cell_type": "code",
      "execution_count": null,
      "metadata": {
        "id": "GZ_L3CLCRM3P"
      },
      "outputs": [],
      "source": [
        "# Create a learner object and learn\n",
        "# Specify metrics, including a TabularModel \n",
        "# emb_szs is a dict mapping categorical \n",
        "#  column names to embedding sizes; you only \n",
        "#   need to pass sizes for columns where you want \n",
        "#    to override the default behaviour of the model.\n",
        "#     Generally embedding vector size is deided by some\n",
        "#      heuristic (see\" https://forums.fast.ai/t/wiki-lesson-5/9403/14)\n",
        "# The rule of thumb for determining the embedding size is the cardinality size divided by 2, but no bigger than 50.\n",
        "# See this: https://medium.com/@hiromi_suenaga/deep-learning-2-part-1-lesson-4-2048a26d58aa\n",
        "\n",
        "# For metrics, Pl see: https://docs.fast.ai/metrics.html\n",
        "\n",
        "learn = tabular_learner(data,\n",
        "                        layers=[200,100],\n",
        "                        emb_szs={'native-country': 10},\n",
        "                        metrics=[accuracy]\n",
        "                       )\n",
        "\n",
        "# Next start  learning\n",
        "# TODO: What is 1cycle policy?\n",
        "epochs = 2\n",
        "learn.fit_one_cycle(epochs, 1e-2)\n"
      ]
    },
    {
      "cell_type": "code",
      "execution_count": null,
      "metadata": {
        "id": "lqhfyNUZRM3P"
      },
      "outputs": [],
      "source": [
        "learn.predict(df.iloc[0])\n"
      ]
    },
    {
      "cell_type": "code",
      "execution_count": null,
      "metadata": {
        "id": "JJJERp3WRM3Q"
      },
      "outputs": [],
      "source": [
        "df.iloc[0]"
      ]
    }
  ],
  "metadata": {
    "kernelspec": {
      "display_name": "Python 3",
      "language": "python",
      "name": "python3"
    },
    "language_info": {
      "codemirror_mode": {
        "name": "ipython",
        "version": 3
      },
      "file_extension": ".py",
      "mimetype": "text/x-python",
      "name": "python",
      "nbconvert_exporter": "python",
      "pygments_lexer": "ipython3",
      "version": "3.7.1"
    },
    "colab": {
      "name": "fastai_tabular data.ipynb",
      "provenance": [],
      "include_colab_link": true
    }
  },
  "nbformat": 4,
  "nbformat_minor": 0
}