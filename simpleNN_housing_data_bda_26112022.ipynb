{
  "nbformat": 4,
  "nbformat_minor": 0,
  "metadata": {
    "colab": {
      "provenance": [],
      "collapsed_sections": [
        "BKGxZacvpAUU"
      ],
      "include_colab_link": true
    },
    "kernelspec": {
      "name": "python3",
      "display_name": "Python 3"
    },
    "language_info": {
      "name": "python"
    }
  },
  "cells": [
    {
      "cell_type": "markdown",
      "metadata": {
        "id": "view-in-github",
        "colab_type": "text"
      },
      "source": [
        "<a href=\"https://colab.research.google.com/github/harnalashok/deeplearning/blob/main/simpleNN_housing_data_bda_26112022.ipynb\" target=\"_parent\"><img src=\"https://colab.research.google.com/assets/colab-badge.svg\" alt=\"Open In Colab\"/></a>"
      ]
    },
    {
      "cell_type": "code",
      "source": [
        "# Last amended: 29th October, 2022\n",
        "# California Housing Dataset\n",
        "# Experiments with NN\n",
        "# https://www.kaggle.com/datasets/camnugent/california-housing-prices"
      ],
      "metadata": {
        "id": "VDuKXUJ_L8S2"
      },
      "execution_count": null,
      "outputs": []
    },
    {
      "cell_type": "code",
      "execution_count": 1,
      "metadata": {
        "id": "t4NDs_JPESg_"
      },
      "outputs": [],
      "source": [
        "# 1.0\n",
        "import pandas as pd\n",
        "from sklearn.preprocessing import StandardScaler\n",
        "from sklearn.preprocessing import LabelEncoder\n",
        "from sklearn.model_selection import train_test_split\n",
        "\n",
        "# 1.1\n",
        "import tensorflow as tf\n",
        "\n",
        "# 1.2 Helper libraries\n",
        "import numpy as np\n",
        "import matplotlib.pyplot as plt\n"
      ]
    },
    {
      "cell_type": "code",
      "source": [
        "# 2.0 Mount google drive \n",
        "from google.colab import drive\n",
        "drive.mount('/gdrive')"
      ],
      "metadata": {
        "id": "11UKqlGTu9ka",
        "outputId": "c10bb6f5-a7a2-4ae1-eabd-e100bdd8f3d1",
        "colab": {
          "base_uri": "https://localhost:8080/"
        }
      },
      "execution_count": 2,
      "outputs": [
        {
          "output_type": "stream",
          "name": "stdout",
          "text": [
            "Mounted at /gdrive\n"
          ]
        }
      ]
    },
    {
      "cell_type": "code",
      "source": [
        "# 2.1 Read FASHION-MNIST data\n",
        "\n",
        "path = \"/gdrive/MyDrive/Colab_data_files/california_housing_dataset/\"\n",
        "#path = \"/content/\"\n"
      ],
      "metadata": {
        "id": "e_KwcYMREcUy"
      },
      "execution_count": 4,
      "outputs": []
    },
    {
      "cell_type": "code",
      "source": [
        "# 2.2\n",
        "data = pd.read_csv(path + \"housing.csv\")"
      ],
      "metadata": {
        "id": "lnhu8ZR5wznf"
      },
      "execution_count": 5,
      "outputs": []
    },
    {
      "cell_type": "code",
      "source": [
        "# 2.2.1\n",
        "data.head()"
      ],
      "metadata": {
        "id": "kV5KxQnLvimq",
        "outputId": "b7c310b8-a856-4308-b79f-53a41057db7c",
        "colab": {
          "base_uri": "https://localhost:8080/",
          "height": 206
        }
      },
      "execution_count": 6,
      "outputs": [
        {
          "output_type": "execute_result",
          "data": {
            "text/plain": [
              "   longitude  latitude  housing_median_age  total_rooms  total_bedrooms  \\\n",
              "0    -122.23     37.88                41.0        880.0           129.0   \n",
              "1    -122.22     37.86                21.0       7099.0          1106.0   \n",
              "2    -122.24     37.85                52.0       1467.0           190.0   \n",
              "3    -122.25     37.85                52.0       1274.0           235.0   \n",
              "4    -122.25     37.85                52.0       1627.0           280.0   \n",
              "\n",
              "   population  households  median_income  median_house_value ocean_proximity  \n",
              "0       322.0       126.0         8.3252            452600.0        NEAR BAY  \n",
              "1      2401.0      1138.0         8.3014            358500.0        NEAR BAY  \n",
              "2       496.0       177.0         7.2574            352100.0        NEAR BAY  \n",
              "3       558.0       219.0         5.6431            341300.0        NEAR BAY  \n",
              "4       565.0       259.0         3.8462            342200.0        NEAR BAY  "
            ],
            "text/html": [
              "\n",
              "  <div id=\"df-6152b053-c214-4928-8cef-d6a3fa2924eb\">\n",
              "    <div class=\"colab-df-container\">\n",
              "      <div>\n",
              "<style scoped>\n",
              "    .dataframe tbody tr th:only-of-type {\n",
              "        vertical-align: middle;\n",
              "    }\n",
              "\n",
              "    .dataframe tbody tr th {\n",
              "        vertical-align: top;\n",
              "    }\n",
              "\n",
              "    .dataframe thead th {\n",
              "        text-align: right;\n",
              "    }\n",
              "</style>\n",
              "<table border=\"1\" class=\"dataframe\">\n",
              "  <thead>\n",
              "    <tr style=\"text-align: right;\">\n",
              "      <th></th>\n",
              "      <th>longitude</th>\n",
              "      <th>latitude</th>\n",
              "      <th>housing_median_age</th>\n",
              "      <th>total_rooms</th>\n",
              "      <th>total_bedrooms</th>\n",
              "      <th>population</th>\n",
              "      <th>households</th>\n",
              "      <th>median_income</th>\n",
              "      <th>median_house_value</th>\n",
              "      <th>ocean_proximity</th>\n",
              "    </tr>\n",
              "  </thead>\n",
              "  <tbody>\n",
              "    <tr>\n",
              "      <th>0</th>\n",
              "      <td>-122.23</td>\n",
              "      <td>37.88</td>\n",
              "      <td>41.0</td>\n",
              "      <td>880.0</td>\n",
              "      <td>129.0</td>\n",
              "      <td>322.0</td>\n",
              "      <td>126.0</td>\n",
              "      <td>8.3252</td>\n",
              "      <td>452600.0</td>\n",
              "      <td>NEAR BAY</td>\n",
              "    </tr>\n",
              "    <tr>\n",
              "      <th>1</th>\n",
              "      <td>-122.22</td>\n",
              "      <td>37.86</td>\n",
              "      <td>21.0</td>\n",
              "      <td>7099.0</td>\n",
              "      <td>1106.0</td>\n",
              "      <td>2401.0</td>\n",
              "      <td>1138.0</td>\n",
              "      <td>8.3014</td>\n",
              "      <td>358500.0</td>\n",
              "      <td>NEAR BAY</td>\n",
              "    </tr>\n",
              "    <tr>\n",
              "      <th>2</th>\n",
              "      <td>-122.24</td>\n",
              "      <td>37.85</td>\n",
              "      <td>52.0</td>\n",
              "      <td>1467.0</td>\n",
              "      <td>190.0</td>\n",
              "      <td>496.0</td>\n",
              "      <td>177.0</td>\n",
              "      <td>7.2574</td>\n",
              "      <td>352100.0</td>\n",
              "      <td>NEAR BAY</td>\n",
              "    </tr>\n",
              "    <tr>\n",
              "      <th>3</th>\n",
              "      <td>-122.25</td>\n",
              "      <td>37.85</td>\n",
              "      <td>52.0</td>\n",
              "      <td>1274.0</td>\n",
              "      <td>235.0</td>\n",
              "      <td>558.0</td>\n",
              "      <td>219.0</td>\n",
              "      <td>5.6431</td>\n",
              "      <td>341300.0</td>\n",
              "      <td>NEAR BAY</td>\n",
              "    </tr>\n",
              "    <tr>\n",
              "      <th>4</th>\n",
              "      <td>-122.25</td>\n",
              "      <td>37.85</td>\n",
              "      <td>52.0</td>\n",
              "      <td>1627.0</td>\n",
              "      <td>280.0</td>\n",
              "      <td>565.0</td>\n",
              "      <td>259.0</td>\n",
              "      <td>3.8462</td>\n",
              "      <td>342200.0</td>\n",
              "      <td>NEAR BAY</td>\n",
              "    </tr>\n",
              "  </tbody>\n",
              "</table>\n",
              "</div>\n",
              "      <button class=\"colab-df-convert\" onclick=\"convertToInteractive('df-6152b053-c214-4928-8cef-d6a3fa2924eb')\"\n",
              "              title=\"Convert this dataframe to an interactive table.\"\n",
              "              style=\"display:none;\">\n",
              "        \n",
              "  <svg xmlns=\"http://www.w3.org/2000/svg\" height=\"24px\"viewBox=\"0 0 24 24\"\n",
              "       width=\"24px\">\n",
              "    <path d=\"M0 0h24v24H0V0z\" fill=\"none\"/>\n",
              "    <path d=\"M18.56 5.44l.94 2.06.94-2.06 2.06-.94-2.06-.94-.94-2.06-.94 2.06-2.06.94zm-11 1L8.5 8.5l.94-2.06 2.06-.94-2.06-.94L8.5 2.5l-.94 2.06-2.06.94zm10 10l.94 2.06.94-2.06 2.06-.94-2.06-.94-.94-2.06-.94 2.06-2.06.94z\"/><path d=\"M17.41 7.96l-1.37-1.37c-.4-.4-.92-.59-1.43-.59-.52 0-1.04.2-1.43.59L10.3 9.45l-7.72 7.72c-.78.78-.78 2.05 0 2.83L4 21.41c.39.39.9.59 1.41.59.51 0 1.02-.2 1.41-.59l7.78-7.78 2.81-2.81c.8-.78.8-2.07 0-2.86zM5.41 20L4 18.59l7.72-7.72 1.47 1.35L5.41 20z\"/>\n",
              "  </svg>\n",
              "      </button>\n",
              "      \n",
              "  <style>\n",
              "    .colab-df-container {\n",
              "      display:flex;\n",
              "      flex-wrap:wrap;\n",
              "      gap: 12px;\n",
              "    }\n",
              "\n",
              "    .colab-df-convert {\n",
              "      background-color: #E8F0FE;\n",
              "      border: none;\n",
              "      border-radius: 50%;\n",
              "      cursor: pointer;\n",
              "      display: none;\n",
              "      fill: #1967D2;\n",
              "      height: 32px;\n",
              "      padding: 0 0 0 0;\n",
              "      width: 32px;\n",
              "    }\n",
              "\n",
              "    .colab-df-convert:hover {\n",
              "      background-color: #E2EBFA;\n",
              "      box-shadow: 0px 1px 2px rgba(60, 64, 67, 0.3), 0px 1px 3px 1px rgba(60, 64, 67, 0.15);\n",
              "      fill: #174EA6;\n",
              "    }\n",
              "\n",
              "    [theme=dark] .colab-df-convert {\n",
              "      background-color: #3B4455;\n",
              "      fill: #D2E3FC;\n",
              "    }\n",
              "\n",
              "    [theme=dark] .colab-df-convert:hover {\n",
              "      background-color: #434B5C;\n",
              "      box-shadow: 0px 1px 3px 1px rgba(0, 0, 0, 0.15);\n",
              "      filter: drop-shadow(0px 1px 2px rgba(0, 0, 0, 0.3));\n",
              "      fill: #FFFFFF;\n",
              "    }\n",
              "  </style>\n",
              "\n",
              "      <script>\n",
              "        const buttonEl =\n",
              "          document.querySelector('#df-6152b053-c214-4928-8cef-d6a3fa2924eb button.colab-df-convert');\n",
              "        buttonEl.style.display =\n",
              "          google.colab.kernel.accessAllowed ? 'block' : 'none';\n",
              "\n",
              "        async function convertToInteractive(key) {\n",
              "          const element = document.querySelector('#df-6152b053-c214-4928-8cef-d6a3fa2924eb');\n",
              "          const dataTable =\n",
              "            await google.colab.kernel.invokeFunction('convertToInteractive',\n",
              "                                                     [key], {});\n",
              "          if (!dataTable) return;\n",
              "\n",
              "          const docLinkHtml = 'Like what you see? Visit the ' +\n",
              "            '<a target=\"_blank\" href=https://colab.research.google.com/notebooks/data_table.ipynb>data table notebook</a>'\n",
              "            + ' to learn more about interactive tables.';\n",
              "          element.innerHTML = '';\n",
              "          dataTable['output_type'] = 'display_data';\n",
              "          await google.colab.output.renderOutput(dataTable, element);\n",
              "          const docLink = document.createElement('div');\n",
              "          docLink.innerHTML = docLinkHtml;\n",
              "          element.appendChild(docLink);\n",
              "        }\n",
              "      </script>\n",
              "    </div>\n",
              "  </div>\n",
              "  "
            ]
          },
          "metadata": {},
          "execution_count": 6
        }
      ]
    },
    {
      "cell_type": "code",
      "source": [
        "# 2.2.2\n",
        "data.shape"
      ],
      "metadata": {
        "id": "xvzzZC1_vlP9",
        "outputId": "ab5b8969-af4e-4fac-a4af-ac8f1002edcd",
        "colab": {
          "base_uri": "https://localhost:8080/"
        }
      },
      "execution_count": 7,
      "outputs": [
        {
          "output_type": "execute_result",
          "data": {
            "text/plain": [
              "(20640, 10)"
            ]
          },
          "metadata": {},
          "execution_count": 7
        }
      ]
    },
    {
      "cell_type": "code",
      "source": [
        "# 2.3 Pop out target\n",
        "y = data.pop('median_house_value')"
      ],
      "metadata": {
        "id": "N3KCovgwEtmt"
      },
      "execution_count": 8,
      "outputs": []
    },
    {
      "cell_type": "code",
      "source": [
        "# 2.3.1\n",
        "data.shape   # (20640, 9)"
      ],
      "metadata": {
        "colab": {
          "base_uri": "https://localhost:8080/"
        },
        "id": "GmDd06fNJjsM",
        "outputId": "b5336f05-2aa2-4a66-da97-15772d2084d1"
      },
      "execution_count": 9,
      "outputs": [
        {
          "output_type": "execute_result",
          "data": {
            "text/plain": [
              "(20640, 9)"
            ]
          },
          "metadata": {},
          "execution_count": 9
        }
      ]
    },
    {
      "cell_type": "code",
      "source": [
        "# 3.0 Check NULL\n",
        "data.isnull().sum()"
      ],
      "metadata": {
        "id": "fG-9A9AN8MZp",
        "outputId": "05129f79-5a91-4981-e884-5a14775b866d",
        "colab": {
          "base_uri": "https://localhost:8080/"
        }
      },
      "execution_count": 10,
      "outputs": [
        {
          "output_type": "execute_result",
          "data": {
            "text/plain": [
              "longitude               0\n",
              "latitude                0\n",
              "housing_median_age      0\n",
              "total_rooms             0\n",
              "total_bedrooms        207\n",
              "population              0\n",
              "households              0\n",
              "median_income           0\n",
              "ocean_proximity         0\n",
              "dtype: int64"
            ]
          },
          "metadata": {},
          "execution_count": 10
        }
      ]
    },
    {
      "cell_type": "code",
      "source": [
        "data['total_bedrooms'].median()"
      ],
      "metadata": {
        "id": "-GLH72NAtRw6",
        "outputId": "cd5e4f7e-bcca-42e4-be27-761b16a89088",
        "colab": {
          "base_uri": "https://localhost:8080/"
        }
      },
      "execution_count": 11,
      "outputs": [
        {
          "output_type": "execute_result",
          "data": {
            "text/plain": [
              "435.0"
            ]
          },
          "metadata": {},
          "execution_count": 11
        }
      ]
    },
    {
      "cell_type": "code",
      "source": [
        "# 3.1 Fill null values with 'median'\n",
        "\n",
        "data['total_bedrooms']= data['total_bedrooms'].fillna(data['total_bedrooms'].median())"
      ],
      "metadata": {
        "id": "FhMy7EdU8Shr"
      },
      "execution_count": 12,
      "outputs": []
    },
    {
      "cell_type": "code",
      "source": [
        "# 3.2\n",
        "data[:2]"
      ],
      "metadata": {
        "id": "WyDhQZsHJmMk",
        "outputId": "79f822ea-1343-4eac-9be3-5262e4f41ee3",
        "colab": {
          "base_uri": "https://localhost:8080/",
          "height": 112
        }
      },
      "execution_count": 13,
      "outputs": [
        {
          "output_type": "execute_result",
          "data": {
            "text/plain": [
              "   longitude  latitude  housing_median_age  total_rooms  total_bedrooms  \\\n",
              "0    -122.23     37.88                41.0        880.0           129.0   \n",
              "1    -122.22     37.86                21.0       7099.0          1106.0   \n",
              "\n",
              "   population  households  median_income ocean_proximity  \n",
              "0       322.0       126.0         8.3252        NEAR BAY  \n",
              "1      2401.0      1138.0         8.3014        NEAR BAY  "
            ],
            "text/html": [
              "\n",
              "  <div id=\"df-5ab6a373-c1a2-4a13-817b-3c413d2d1ec2\">\n",
              "    <div class=\"colab-df-container\">\n",
              "      <div>\n",
              "<style scoped>\n",
              "    .dataframe tbody tr th:only-of-type {\n",
              "        vertical-align: middle;\n",
              "    }\n",
              "\n",
              "    .dataframe tbody tr th {\n",
              "        vertical-align: top;\n",
              "    }\n",
              "\n",
              "    .dataframe thead th {\n",
              "        text-align: right;\n",
              "    }\n",
              "</style>\n",
              "<table border=\"1\" class=\"dataframe\">\n",
              "  <thead>\n",
              "    <tr style=\"text-align: right;\">\n",
              "      <th></th>\n",
              "      <th>longitude</th>\n",
              "      <th>latitude</th>\n",
              "      <th>housing_median_age</th>\n",
              "      <th>total_rooms</th>\n",
              "      <th>total_bedrooms</th>\n",
              "      <th>population</th>\n",
              "      <th>households</th>\n",
              "      <th>median_income</th>\n",
              "      <th>ocean_proximity</th>\n",
              "    </tr>\n",
              "  </thead>\n",
              "  <tbody>\n",
              "    <tr>\n",
              "      <th>0</th>\n",
              "      <td>-122.23</td>\n",
              "      <td>37.88</td>\n",
              "      <td>41.0</td>\n",
              "      <td>880.0</td>\n",
              "      <td>129.0</td>\n",
              "      <td>322.0</td>\n",
              "      <td>126.0</td>\n",
              "      <td>8.3252</td>\n",
              "      <td>NEAR BAY</td>\n",
              "    </tr>\n",
              "    <tr>\n",
              "      <th>1</th>\n",
              "      <td>-122.22</td>\n",
              "      <td>37.86</td>\n",
              "      <td>21.0</td>\n",
              "      <td>7099.0</td>\n",
              "      <td>1106.0</td>\n",
              "      <td>2401.0</td>\n",
              "      <td>1138.0</td>\n",
              "      <td>8.3014</td>\n",
              "      <td>NEAR BAY</td>\n",
              "    </tr>\n",
              "  </tbody>\n",
              "</table>\n",
              "</div>\n",
              "      <button class=\"colab-df-convert\" onclick=\"convertToInteractive('df-5ab6a373-c1a2-4a13-817b-3c413d2d1ec2')\"\n",
              "              title=\"Convert this dataframe to an interactive table.\"\n",
              "              style=\"display:none;\">\n",
              "        \n",
              "  <svg xmlns=\"http://www.w3.org/2000/svg\" height=\"24px\"viewBox=\"0 0 24 24\"\n",
              "       width=\"24px\">\n",
              "    <path d=\"M0 0h24v24H0V0z\" fill=\"none\"/>\n",
              "    <path d=\"M18.56 5.44l.94 2.06.94-2.06 2.06-.94-2.06-.94-.94-2.06-.94 2.06-2.06.94zm-11 1L8.5 8.5l.94-2.06 2.06-.94-2.06-.94L8.5 2.5l-.94 2.06-2.06.94zm10 10l.94 2.06.94-2.06 2.06-.94-2.06-.94-.94-2.06-.94 2.06-2.06.94z\"/><path d=\"M17.41 7.96l-1.37-1.37c-.4-.4-.92-.59-1.43-.59-.52 0-1.04.2-1.43.59L10.3 9.45l-7.72 7.72c-.78.78-.78 2.05 0 2.83L4 21.41c.39.39.9.59 1.41.59.51 0 1.02-.2 1.41-.59l7.78-7.78 2.81-2.81c.8-.78.8-2.07 0-2.86zM5.41 20L4 18.59l7.72-7.72 1.47 1.35L5.41 20z\"/>\n",
              "  </svg>\n",
              "      </button>\n",
              "      \n",
              "  <style>\n",
              "    .colab-df-container {\n",
              "      display:flex;\n",
              "      flex-wrap:wrap;\n",
              "      gap: 12px;\n",
              "    }\n",
              "\n",
              "    .colab-df-convert {\n",
              "      background-color: #E8F0FE;\n",
              "      border: none;\n",
              "      border-radius: 50%;\n",
              "      cursor: pointer;\n",
              "      display: none;\n",
              "      fill: #1967D2;\n",
              "      height: 32px;\n",
              "      padding: 0 0 0 0;\n",
              "      width: 32px;\n",
              "    }\n",
              "\n",
              "    .colab-df-convert:hover {\n",
              "      background-color: #E2EBFA;\n",
              "      box-shadow: 0px 1px 2px rgba(60, 64, 67, 0.3), 0px 1px 3px 1px rgba(60, 64, 67, 0.15);\n",
              "      fill: #174EA6;\n",
              "    }\n",
              "\n",
              "    [theme=dark] .colab-df-convert {\n",
              "      background-color: #3B4455;\n",
              "      fill: #D2E3FC;\n",
              "    }\n",
              "\n",
              "    [theme=dark] .colab-df-convert:hover {\n",
              "      background-color: #434B5C;\n",
              "      box-shadow: 0px 1px 3px 1px rgba(0, 0, 0, 0.15);\n",
              "      filter: drop-shadow(0px 1px 2px rgba(0, 0, 0, 0.3));\n",
              "      fill: #FFFFFF;\n",
              "    }\n",
              "  </style>\n",
              "\n",
              "      <script>\n",
              "        const buttonEl =\n",
              "          document.querySelector('#df-5ab6a373-c1a2-4a13-817b-3c413d2d1ec2 button.colab-df-convert');\n",
              "        buttonEl.style.display =\n",
              "          google.colab.kernel.accessAllowed ? 'block' : 'none';\n",
              "\n",
              "        async function convertToInteractive(key) {\n",
              "          const element = document.querySelector('#df-5ab6a373-c1a2-4a13-817b-3c413d2d1ec2');\n",
              "          const dataTable =\n",
              "            await google.colab.kernel.invokeFunction('convertToInteractive',\n",
              "                                                     [key], {});\n",
              "          if (!dataTable) return;\n",
              "\n",
              "          const docLinkHtml = 'Like what you see? Visit the ' +\n",
              "            '<a target=\"_blank\" href=https://colab.research.google.com/notebooks/data_table.ipynb>data table notebook</a>'\n",
              "            + ' to learn more about interactive tables.';\n",
              "          element.innerHTML = '';\n",
              "          dataTable['output_type'] = 'display_data';\n",
              "          await google.colab.output.renderOutput(dataTable, element);\n",
              "          const docLink = document.createElement('div');\n",
              "          docLink.innerHTML = docLinkHtml;\n",
              "          element.appendChild(docLink);\n",
              "        }\n",
              "      </script>\n",
              "    </div>\n",
              "  </div>\n",
              "  "
            ]
          },
          "metadata": {},
          "execution_count": 13
        }
      ]
    },
    {
      "cell_type": "code",
      "source": [
        "# 4.0\n",
        "# Label encode ocean_proximity:\n",
        " \n",
        "le = LabelEncoder()\n",
        "le.fit(data['ocean_proximity'])\n",
        "data['ocean_proximity'] = le.transform(data['ocean_proximity'])"
      ],
      "metadata": {
        "id": "xaM7F22l1hW5"
      },
      "execution_count": 14,
      "outputs": []
    },
    {
      "cell_type": "code",
      "source": [
        "le.classes_"
      ],
      "metadata": {
        "id": "rvCwD_l-fjrA",
        "outputId": "e57a85ed-d1f1-4a22-a83f-e260b51ad30c",
        "colab": {
          "base_uri": "https://localhost:8080/"
        }
      },
      "execution_count": null,
      "outputs": [
        {
          "output_type": "execute_result",
          "data": {
            "text/plain": [
              "array(['<1H OCEAN', 'INLAND', 'ISLAND', 'NEAR BAY', 'NEAR OCEAN'],\n",
              "      dtype=object)"
            ]
          },
          "metadata": {},
          "execution_count": 17
        }
      ]
    },
    {
      "cell_type": "code",
      "source": [
        "# 4.1 Check data again:\n",
        "data.head(3)"
      ],
      "metadata": {
        "id": "I8irUezG1yeE",
        "outputId": "be4bd729-21f7-4dae-f785-c1a34c8c3a43",
        "colab": {
          "base_uri": "https://localhost:8080/",
          "height": 143
        }
      },
      "execution_count": 15,
      "outputs": [
        {
          "output_type": "execute_result",
          "data": {
            "text/plain": [
              "   longitude  latitude  housing_median_age  total_rooms  total_bedrooms  \\\n",
              "0    -122.23     37.88                41.0        880.0           129.0   \n",
              "1    -122.22     37.86                21.0       7099.0          1106.0   \n",
              "2    -122.24     37.85                52.0       1467.0           190.0   \n",
              "\n",
              "   population  households  median_income  ocean_proximity  \n",
              "0       322.0       126.0         8.3252                3  \n",
              "1      2401.0      1138.0         8.3014                3  \n",
              "2       496.0       177.0         7.2574                3  "
            ],
            "text/html": [
              "\n",
              "  <div id=\"df-20ba6dd1-9ea9-4063-bc30-3c9a7d997ef0\">\n",
              "    <div class=\"colab-df-container\">\n",
              "      <div>\n",
              "<style scoped>\n",
              "    .dataframe tbody tr th:only-of-type {\n",
              "        vertical-align: middle;\n",
              "    }\n",
              "\n",
              "    .dataframe tbody tr th {\n",
              "        vertical-align: top;\n",
              "    }\n",
              "\n",
              "    .dataframe thead th {\n",
              "        text-align: right;\n",
              "    }\n",
              "</style>\n",
              "<table border=\"1\" class=\"dataframe\">\n",
              "  <thead>\n",
              "    <tr style=\"text-align: right;\">\n",
              "      <th></th>\n",
              "      <th>longitude</th>\n",
              "      <th>latitude</th>\n",
              "      <th>housing_median_age</th>\n",
              "      <th>total_rooms</th>\n",
              "      <th>total_bedrooms</th>\n",
              "      <th>population</th>\n",
              "      <th>households</th>\n",
              "      <th>median_income</th>\n",
              "      <th>ocean_proximity</th>\n",
              "    </tr>\n",
              "  </thead>\n",
              "  <tbody>\n",
              "    <tr>\n",
              "      <th>0</th>\n",
              "      <td>-122.23</td>\n",
              "      <td>37.88</td>\n",
              "      <td>41.0</td>\n",
              "      <td>880.0</td>\n",
              "      <td>129.0</td>\n",
              "      <td>322.0</td>\n",
              "      <td>126.0</td>\n",
              "      <td>8.3252</td>\n",
              "      <td>3</td>\n",
              "    </tr>\n",
              "    <tr>\n",
              "      <th>1</th>\n",
              "      <td>-122.22</td>\n",
              "      <td>37.86</td>\n",
              "      <td>21.0</td>\n",
              "      <td>7099.0</td>\n",
              "      <td>1106.0</td>\n",
              "      <td>2401.0</td>\n",
              "      <td>1138.0</td>\n",
              "      <td>8.3014</td>\n",
              "      <td>3</td>\n",
              "    </tr>\n",
              "    <tr>\n",
              "      <th>2</th>\n",
              "      <td>-122.24</td>\n",
              "      <td>37.85</td>\n",
              "      <td>52.0</td>\n",
              "      <td>1467.0</td>\n",
              "      <td>190.0</td>\n",
              "      <td>496.0</td>\n",
              "      <td>177.0</td>\n",
              "      <td>7.2574</td>\n",
              "      <td>3</td>\n",
              "    </tr>\n",
              "  </tbody>\n",
              "</table>\n",
              "</div>\n",
              "      <button class=\"colab-df-convert\" onclick=\"convertToInteractive('df-20ba6dd1-9ea9-4063-bc30-3c9a7d997ef0')\"\n",
              "              title=\"Convert this dataframe to an interactive table.\"\n",
              "              style=\"display:none;\">\n",
              "        \n",
              "  <svg xmlns=\"http://www.w3.org/2000/svg\" height=\"24px\"viewBox=\"0 0 24 24\"\n",
              "       width=\"24px\">\n",
              "    <path d=\"M0 0h24v24H0V0z\" fill=\"none\"/>\n",
              "    <path d=\"M18.56 5.44l.94 2.06.94-2.06 2.06-.94-2.06-.94-.94-2.06-.94 2.06-2.06.94zm-11 1L8.5 8.5l.94-2.06 2.06-.94-2.06-.94L8.5 2.5l-.94 2.06-2.06.94zm10 10l.94 2.06.94-2.06 2.06-.94-2.06-.94-.94-2.06-.94 2.06-2.06.94z\"/><path d=\"M17.41 7.96l-1.37-1.37c-.4-.4-.92-.59-1.43-.59-.52 0-1.04.2-1.43.59L10.3 9.45l-7.72 7.72c-.78.78-.78 2.05 0 2.83L4 21.41c.39.39.9.59 1.41.59.51 0 1.02-.2 1.41-.59l7.78-7.78 2.81-2.81c.8-.78.8-2.07 0-2.86zM5.41 20L4 18.59l7.72-7.72 1.47 1.35L5.41 20z\"/>\n",
              "  </svg>\n",
              "      </button>\n",
              "      \n",
              "  <style>\n",
              "    .colab-df-container {\n",
              "      display:flex;\n",
              "      flex-wrap:wrap;\n",
              "      gap: 12px;\n",
              "    }\n",
              "\n",
              "    .colab-df-convert {\n",
              "      background-color: #E8F0FE;\n",
              "      border: none;\n",
              "      border-radius: 50%;\n",
              "      cursor: pointer;\n",
              "      display: none;\n",
              "      fill: #1967D2;\n",
              "      height: 32px;\n",
              "      padding: 0 0 0 0;\n",
              "      width: 32px;\n",
              "    }\n",
              "\n",
              "    .colab-df-convert:hover {\n",
              "      background-color: #E2EBFA;\n",
              "      box-shadow: 0px 1px 2px rgba(60, 64, 67, 0.3), 0px 1px 3px 1px rgba(60, 64, 67, 0.15);\n",
              "      fill: #174EA6;\n",
              "    }\n",
              "\n",
              "    [theme=dark] .colab-df-convert {\n",
              "      background-color: #3B4455;\n",
              "      fill: #D2E3FC;\n",
              "    }\n",
              "\n",
              "    [theme=dark] .colab-df-convert:hover {\n",
              "      background-color: #434B5C;\n",
              "      box-shadow: 0px 1px 3px 1px rgba(0, 0, 0, 0.15);\n",
              "      filter: drop-shadow(0px 1px 2px rgba(0, 0, 0, 0.3));\n",
              "      fill: #FFFFFF;\n",
              "    }\n",
              "  </style>\n",
              "\n",
              "      <script>\n",
              "        const buttonEl =\n",
              "          document.querySelector('#df-20ba6dd1-9ea9-4063-bc30-3c9a7d997ef0 button.colab-df-convert');\n",
              "        buttonEl.style.display =\n",
              "          google.colab.kernel.accessAllowed ? 'block' : 'none';\n",
              "\n",
              "        async function convertToInteractive(key) {\n",
              "          const element = document.querySelector('#df-20ba6dd1-9ea9-4063-bc30-3c9a7d997ef0');\n",
              "          const dataTable =\n",
              "            await google.colab.kernel.invokeFunction('convertToInteractive',\n",
              "                                                     [key], {});\n",
              "          if (!dataTable) return;\n",
              "\n",
              "          const docLinkHtml = 'Like what you see? Visit the ' +\n",
              "            '<a target=\"_blank\" href=https://colab.research.google.com/notebooks/data_table.ipynb>data table notebook</a>'\n",
              "            + ' to learn more about interactive tables.';\n",
              "          element.innerHTML = '';\n",
              "          dataTable['output_type'] = 'display_data';\n",
              "          await google.colab.output.renderOutput(dataTable, element);\n",
              "          const docLink = document.createElement('div');\n",
              "          docLink.innerHTML = docLinkHtml;\n",
              "          element.appendChild(docLink);\n",
              "        }\n",
              "      </script>\n",
              "    </div>\n",
              "  </div>\n",
              "  "
            ]
          },
          "metadata": {},
          "execution_count": 15
        }
      ]
    },
    {
      "cell_type": "code",
      "source": [
        "# 5.0 Scale data\n",
        "ss = StandardScaler()\n",
        "ss.fit(data)\n",
        "X = ss.transform(data)"
      ],
      "metadata": {
        "id": "wKkicmIIIYnM"
      },
      "execution_count": 17,
      "outputs": []
    },
    {
      "cell_type": "code",
      "source": [
        "# 5.1\n",
        "X[:5]"
      ],
      "metadata": {
        "id": "PkbMnfCd57P7",
        "colab": {
          "base_uri": "https://localhost:8080/"
        },
        "outputId": "ef302392-c4c4-4596-d4f4-4e3e10b18756"
      },
      "execution_count": null,
      "outputs": [
        {
          "output_type": "execute_result",
          "data": {
            "text/plain": [
              "array([[-1.32783522,  1.05254828,  0.98214266, -0.8048191 , -0.97247648,\n",
              "        -0.9744286 , -0.97703285,  2.34476576,  1.2910888 ],\n",
              "       [-1.32284391,  1.04318455, -0.60701891,  2.0458901 ,  1.35714343,\n",
              "         0.86143887,  1.66996103,  2.33223796,  1.2910888 ],\n",
              "       [-1.33282653,  1.03850269,  1.85618152, -0.53574589, -0.82702426,\n",
              "        -0.82077735, -0.84363692,  1.7826994 ,  1.2910888 ],\n",
              "       [-1.33781784,  1.03850269,  1.85618152, -0.62421459, -0.71972345,\n",
              "        -0.76602806, -0.73378144,  0.93296751,  1.2910888 ],\n",
              "       [-1.33781784,  1.03850269,  1.85618152, -0.46240395, -0.61242263,\n",
              "        -0.75984669, -0.62915718, -0.012881  ,  1.2910888 ]])"
            ]
          },
          "metadata": {},
          "execution_count": 19
        }
      ]
    },
    {
      "cell_type": "code",
      "source": [
        "# 6.0 Split data:\n",
        "\n",
        "X_train,X_test,y_train,y_test = train_test_split(X,y, test_size = 0.15)\n",
        "display(X_train.shape)\n",
        "display(X_test.shape)"
      ],
      "metadata": {
        "colab": {
          "base_uri": "https://localhost:8080/",
          "height": 53
        },
        "id": "NPr69PhkqlWH",
        "outputId": "e5bb19ac-2003-47e2-ab99-9d067e124506"
      },
      "execution_count": 18,
      "outputs": [
        {
          "output_type": "display_data",
          "data": {
            "text/plain": [
              "(17544, 9)"
            ]
          },
          "metadata": {}
        },
        {
          "output_type": "display_data",
          "data": {
            "text/plain": [
              "(3096, 9)"
            ]
          },
          "metadata": {}
        }
      ]
    },
    {
      "cell_type": "code",
      "source": [
        "len(y_train)"
      ],
      "metadata": {
        "colab": {
          "base_uri": "https://localhost:8080/"
        },
        "id": "8mM5mAKilsJu",
        "outputId": "efdcbfb0-c7ae-4d9f-d201-f6e5f2eadbb7"
      },
      "execution_count": 58,
      "outputs": [
        {
          "output_type": "execute_result",
          "data": {
            "text/plain": [
              "17544"
            ]
          },
          "metadata": {},
          "execution_count": 58
        }
      ]
    },
    {
      "cell_type": "code",
      "source": [
        "17544/4"
      ],
      "metadata": {
        "colab": {
          "base_uri": "https://localhost:8080/"
        },
        "id": "KGK7hXc-l4M8",
        "outputId": "9a27c702-60f2-4588-e009-bf0b0e0ba21d"
      },
      "execution_count": 59,
      "outputs": [
        {
          "output_type": "execute_result",
          "data": {
            "text/plain": [
              "4386.0"
            ]
          },
          "metadata": {},
          "execution_count": 59
        }
      ]
    },
    {
      "cell_type": "code",
      "source": [
        "gh= np.array([1,-1,1,-1]*4386)\n",
        "y_tr = gh.reshape(17544,) * y_train\n",
        "y_tr"
      ],
      "metadata": {
        "id": "fIIYBwxqlsAM"
      },
      "execution_count": 60,
      "outputs": []
    },
    {
      "cell_type": "code",
      "source": [
        "se = StandardScaler()\n",
        "y_tr = se.fit_transform(y_train.values.reshape(17544,1))\n",
        "y_tr = y_tr.reshape(17544)\n",
        "y_tr"
      ],
      "metadata": {
        "colab": {
          "base_uri": "https://localhost:8080/"
        },
        "id": "FyL9gwFHmEkm",
        "outputId": "614193f4-fc9c-41c8-c80d-a639e8ec06c5"
      },
      "execution_count": 93,
      "outputs": [
        {
          "output_type": "execute_result",
          "data": {
            "text/plain": [
              "array([-0.15706348, -0.84892957, -0.26803949, ..., -0.18740848,\n",
              "        0.10997256, -0.44577451])"
            ]
          },
          "metadata": {},
          "execution_count": 93
        }
      ]
    },
    {
      "cell_type": "code",
      "source": [],
      "metadata": {
        "id": "0GbJbQkJmICE"
      },
      "execution_count": 90,
      "outputs": []
    },
    {
      "cell_type": "code",
      "source": [
        "y_tr"
      ],
      "metadata": {
        "colab": {
          "base_uri": "https://localhost:8080/"
        },
        "id": "qzy4PD39q6G1",
        "outputId": "d3b21d37-75db-4e8d-cb56-3f37d8336c59"
      },
      "execution_count": 91,
      "outputs": [
        {
          "output_type": "execute_result",
          "data": {
            "text/plain": [
              "array([-0.15706348, -0.84892957, -0.26803949, ..., -0.18740848,\n",
              "        0.10997256, -0.44577451])"
            ]
          },
          "metadata": {},
          "execution_count": 91
        }
      ]
    },
    {
      "cell_type": "code",
      "source": [
        "del model"
      ],
      "metadata": {
        "id": "2oE4tvoBeq0T"
      },
      "execution_count": 103,
      "outputs": []
    },
    {
      "cell_type": "code",
      "source": [
        "model = tf.keras.Sequential()"
      ],
      "metadata": {
        "id": "Pe0BTh97gPRY"
      },
      "execution_count": 104,
      "outputs": []
    },
    {
      "cell_type": "code",
      "source": [
        "model.add(tf.keras.Input(shape=(9,)))"
      ],
      "metadata": {
        "id": "3rUQ2ceJgPNc"
      },
      "execution_count": 105,
      "outputs": []
    },
    {
      "cell_type": "code",
      "source": [
        "model.add(tf.keras.layers.Dense(20, activation = 'relu' ))  "
      ],
      "metadata": {
        "id": "l25am0qngPKO"
      },
      "execution_count": 106,
      "outputs": []
    },
    {
      "cell_type": "code",
      "source": [
        "model.add(tf.keras.layers.Dense(20,activation = 'relu'))"
      ],
      "metadata": {
        "id": "oCKoMtuugPGq"
      },
      "execution_count": 107,
      "outputs": []
    },
    {
      "cell_type": "code",
      "source": [
        "model.add(tf.keras.layers.Dense(1, activation = 'relu'))"
      ],
      "metadata": {
        "id": "7rqFJLVwgPC6"
      },
      "execution_count": 108,
      "outputs": []
    },
    {
      "cell_type": "code",
      "source": [
        "model.summary()"
      ],
      "metadata": {
        "id": "iz6mlNd4gO9s",
        "outputId": "278cc8aa-db59-40f7-eb96-10b1efbdf923",
        "colab": {
          "base_uri": "https://localhost:8080/"
        }
      },
      "execution_count": 109,
      "outputs": [
        {
          "output_type": "stream",
          "name": "stdout",
          "text": [
            "Model: \"sequential_8\"\n",
            "_________________________________________________________________\n",
            " Layer (type)                Output Shape              Param #   \n",
            "=================================================================\n",
            " dense_20 (Dense)            (None, 20)                200       \n",
            "                                                                 \n",
            " dense_21 (Dense)            (None, 20)                420       \n",
            "                                                                 \n",
            " dense_22 (Dense)            (None, 1)                 21        \n",
            "                                                                 \n",
            "=================================================================\n",
            "Total params: 641\n",
            "Trainable params: 641\n",
            "Non-trainable params: 0\n",
            "_________________________________________________________________\n"
          ]
        }
      ]
    },
    {
      "cell_type": "code",
      "source": [
        "tf.keras.utils.plot_model(model, show_shapes = True )"
      ],
      "metadata": {
        "id": "lke2hHmTgO0x",
        "outputId": "9a4778b0-6dee-47d8-ec8a-9833d98fc52a",
        "colab": {
          "base_uri": "https://localhost:8080/",
          "height": 422
        }
      },
      "execution_count": 110,
      "outputs": [
        {
          "output_type": "execute_result",
          "data": {
            "image/png": "[encoded data removed]",
            "text/plain": [
              "<IPython.core.display.Image object>"
            ]
          },
          "metadata": {},
          "execution_count": 110
        }
      ]
    },
    {
      "cell_type": "code",
      "source": [
        "model.compile(loss = 'mean_squared_error',\n",
        "              optimizer = 'rmsprop',\n",
        "              metrics = ['mean_squared_error', tf.keras.metrics.MeanAbsoluteError()]\n",
        "            )"
      ],
      "metadata": {
        "id": "bYPMJAiHgOmi"
      },
      "execution_count": 111,
      "outputs": []
    },
    {
      "cell_type": "code",
      "source": [
        "history2 = model.fit(X_train,y_tr,\n",
        "                    epochs = 200,\n",
        "                    validation_split = 0.2\n",
        "                    )"
      ],
      "metadata": {
        "id": "Cpe-UB06q_1R",
        "colab": {
          "base_uri": "https://localhost:8080/"
        },
        "outputId": "e111fb94-49aa-4b33-e66c-9c182c673339"
      },
      "execution_count": 112,
      "outputs": [
        {
          "output_type": "stream",
          "name": "stdout",
          "text": [
            "Epoch 1/200\n",
            "439/439 [==============================] - 2s 3ms/step - loss: 0.6311 - mean_squared_error: 0.6311 - mean_absolute_error: 0.6533 - val_loss: 0.5741 - val_mean_squared_error: 0.5741 - val_mean_absolute_error: 0.6239\n",
            "Epoch 2/200\n",
            "439/439 [==============================] - 1s 3ms/step - loss: 0.5631 - mean_squared_error: 0.5631 - mean_absolute_error: 0.6205 - val_loss: 0.5515 - val_mean_squared_error: 0.5515 - val_mean_absolute_error: 0.6093\n",
            "Epoch 3/200\n",
            "439/439 [==============================] - 1s 2ms/step - loss: 0.5481 - mean_squared_error: 0.5481 - mean_absolute_error: 0.6113 - val_loss: 0.5406 - val_mean_squared_error: 0.5406 - val_mean_absolute_error: 0.6025\n",
            "Epoch 4/200\n",
            "439/439 [==============================] - 1s 3ms/step - loss: 0.5413 - mean_squared_error: 0.5413 - mean_absolute_error: 0.6056 - val_loss: 0.5357 - val_mean_squared_error: 0.5357 - val_mean_absolute_error: 0.5994\n",
            "Epoch 5/200\n",
            "439/439 [==============================] - 1s 3ms/step - loss: 0.5361 - mean_squared_error: 0.5361 - mean_absolute_error: 0.6031 - val_loss: 0.5391 - val_mean_squared_error: 0.5391 - val_mean_absolute_error: 0.5971\n",
            "Epoch 6/200\n",
            "439/439 [==============================] - 1s 3ms/step - loss: 0.5330 - mean_squared_error: 0.5330 - mean_absolute_error: 0.5992 - val_loss: 0.5388 - val_mean_squared_error: 0.5388 - val_mean_absolute_error: 0.5959\n",
            "Epoch 7/200\n",
            "439/439 [==============================] - 1s 3ms/step - loss: 0.5302 - mean_squared_error: 0.5302 - mean_absolute_error: 0.5975 - val_loss: 0.5263 - val_mean_squared_error: 0.5263 - val_mean_absolute_error: 0.5927\n",
            "Epoch 8/200\n",
            "439/439 [==============================] - 1s 3ms/step - loss: 0.5283 - mean_squared_error: 0.5283 - mean_absolute_error: 0.5955 - val_loss: 0.5308 - val_mean_squared_error: 0.5308 - val_mean_absolute_error: 0.5974\n",
            "Epoch 9/200\n",
            "439/439 [==============================] - 1s 3ms/step - loss: 0.5264 - mean_squared_error: 0.5264 - mean_absolute_error: 0.5948 - val_loss: 0.5246 - val_mean_squared_error: 0.5246 - val_mean_absolute_error: 0.5919\n",
            "Epoch 10/200\n",
            "439/439 [==============================] - 1s 3ms/step - loss: 0.5245 - mean_squared_error: 0.5245 - mean_absolute_error: 0.5930 - val_loss: 0.5262 - val_mean_squared_error: 0.5262 - val_mean_absolute_error: 0.5902\n",
            "Epoch 11/200\n",
            "439/439 [==============================] - 1s 3ms/step - loss: 0.5224 - mean_squared_error: 0.5224 - mean_absolute_error: 0.5918 - val_loss: 0.5187 - val_mean_squared_error: 0.5187 - val_mean_absolute_error: 0.5862\n",
            "Epoch 12/200\n",
            "439/439 [==============================] - 1s 3ms/step - loss: 0.5221 - mean_squared_error: 0.5221 - mean_absolute_error: 0.5915 - val_loss: 0.5179 - val_mean_squared_error: 0.5179 - val_mean_absolute_error: 0.5864\n",
            "Epoch 13/200\n",
            "439/439 [==============================] - 1s 3ms/step - loss: 0.5202 - mean_squared_error: 0.5202 - mean_absolute_error: 0.5901 - val_loss: 0.5210 - val_mean_squared_error: 0.5210 - val_mean_absolute_error: 0.5863\n",
            "Epoch 14/200\n",
            "439/439 [==============================] - 1s 3ms/step - loss: 0.5192 - mean_squared_error: 0.5192 - mean_absolute_error: 0.5896 - val_loss: 0.5174 - val_mean_squared_error: 0.5174 - val_mean_absolute_error: 0.5825\n",
            "Epoch 15/200\n",
            "439/439 [==============================] - 1s 3ms/step - loss: 0.5179 - mean_squared_error: 0.5179 - mean_absolute_error: 0.5890 - val_loss: 0.5221 - val_mean_squared_error: 0.5221 - val_mean_absolute_error: 0.5856\n",
            "Epoch 16/200\n",
            "439/439 [==============================] - 1s 3ms/step - loss: 0.5170 - mean_squared_error: 0.5170 - mean_absolute_error: 0.5882 - val_loss: 0.5203 - val_mean_squared_error: 0.5203 - val_mean_absolute_error: 0.5855\n",
            "Epoch 17/200\n",
            "439/439 [==============================] - 1s 3ms/step - loss: 0.5165 - mean_squared_error: 0.5165 - mean_absolute_error: 0.5872 - val_loss: 0.5136 - val_mean_squared_error: 0.5136 - val_mean_absolute_error: 0.5844\n",
            "Epoch 18/200\n",
            "439/439 [==============================] - 1s 3ms/step - loss: 0.5156 - mean_squared_error: 0.5156 - mean_absolute_error: 0.5869 - val_loss: 0.5141 - val_mean_squared_error: 0.5141 - val_mean_absolute_error: 0.5828\n",
            "Epoch 19/200\n",
            "439/439 [==============================] - 1s 3ms/step - loss: 0.5153 - mean_squared_error: 0.5153 - mean_absolute_error: 0.5866 - val_loss: 0.5141 - val_mean_squared_error: 0.5141 - val_mean_absolute_error: 0.5833\n",
            "Epoch 20/200\n",
            "439/439 [==============================] - 1s 3ms/step - loss: 0.5137 - mean_squared_error: 0.5137 - mean_absolute_error: 0.5856 - val_loss: 0.5263 - val_mean_squared_error: 0.5263 - val_mean_absolute_error: 0.5872\n",
            "Epoch 21/200\n",
            "439/439 [==============================] - 1s 3ms/step - loss: 0.5136 - mean_squared_error: 0.5136 - mean_absolute_error: 0.5853 - val_loss: 0.5105 - val_mean_squared_error: 0.5105 - val_mean_absolute_error: 0.5803\n",
            "Epoch 22/200\n",
            "439/439 [==============================] - 1s 3ms/step - loss: 0.5128 - mean_squared_error: 0.5128 - mean_absolute_error: 0.5849 - val_loss: 0.5136 - val_mean_squared_error: 0.5136 - val_mean_absolute_error: 0.5813\n",
            "Epoch 23/200\n",
            "439/439 [==============================] - 1s 3ms/step - loss: 0.5116 - mean_squared_error: 0.5116 - mean_absolute_error: 0.5845 - val_loss: 0.5128 - val_mean_squared_error: 0.5128 - val_mean_absolute_error: 0.5816\n",
            "Epoch 24/200\n",
            "439/439 [==============================] - 1s 3ms/step - loss: 0.5112 - mean_squared_error: 0.5112 - mean_absolute_error: 0.5840 - val_loss: 0.5169 - val_mean_squared_error: 0.5169 - val_mean_absolute_error: 0.5833\n",
            "Epoch 25/200\n",
            "439/439 [==============================] - 1s 2ms/step - loss: 0.5109 - mean_squared_error: 0.5109 - mean_absolute_error: 0.5840 - val_loss: 0.5127 - val_mean_squared_error: 0.5127 - val_mean_absolute_error: 0.5833\n",
            "Epoch 26/200\n",
            "439/439 [==============================] - 1s 3ms/step - loss: 0.5098 - mean_squared_error: 0.5098 - mean_absolute_error: 0.5835 - val_loss: 0.5170 - val_mean_squared_error: 0.5170 - val_mean_absolute_error: 0.5835\n",
            "Epoch 27/200\n",
            "439/439 [==============================] - 1s 3ms/step - loss: 0.5095 - mean_squared_error: 0.5095 - mean_absolute_error: 0.5829 - val_loss: 0.5199 - val_mean_squared_error: 0.5199 - val_mean_absolute_error: 0.5872\n",
            "Epoch 28/200\n",
            "439/439 [==============================] - 1s 3ms/step - loss: 0.5088 - mean_squared_error: 0.5088 - mean_absolute_error: 0.5832 - val_loss: 0.5154 - val_mean_squared_error: 0.5154 - val_mean_absolute_error: 0.5825\n",
            "Epoch 29/200\n",
            "439/439 [==============================] - 1s 3ms/step - loss: 0.5087 - mean_squared_error: 0.5087 - mean_absolute_error: 0.5820 - val_loss: 0.5117 - val_mean_squared_error: 0.5117 - val_mean_absolute_error: 0.5801\n",
            "Epoch 30/200\n",
            "439/439 [==============================] - 1s 3ms/step - loss: 0.5082 - mean_squared_error: 0.5082 - mean_absolute_error: 0.5819 - val_loss: 0.5086 - val_mean_squared_error: 0.5086 - val_mean_absolute_error: 0.5796\n",
            "Epoch 31/200\n",
            "439/439 [==============================] - 1s 3ms/step - loss: 0.5077 - mean_squared_error: 0.5077 - mean_absolute_error: 0.5820 - val_loss: 0.5136 - val_mean_squared_error: 0.5136 - val_mean_absolute_error: 0.5801\n",
            "Epoch 32/200\n",
            "439/439 [==============================] - 1s 3ms/step - loss: 0.5069 - mean_squared_error: 0.5069 - mean_absolute_error: 0.5816 - val_loss: 0.5127 - val_mean_squared_error: 0.5127 - val_mean_absolute_error: 0.5817\n",
            "Epoch 33/200\n",
            "439/439 [==============================] - 1s 3ms/step - loss: 0.5069 - mean_squared_error: 0.5069 - mean_absolute_error: 0.5815 - val_loss: 0.5109 - val_mean_squared_error: 0.5109 - val_mean_absolute_error: 0.5804\n",
            "Epoch 34/200\n",
            "439/439 [==============================] - 1s 3ms/step - loss: 0.5064 - mean_squared_error: 0.5064 - mean_absolute_error: 0.5813 - val_loss: 0.5100 - val_mean_squared_error: 0.5100 - val_mean_absolute_error: 0.5777\n",
            "Epoch 35/200\n",
            "439/439 [==============================] - 1s 3ms/step - loss: 0.5057 - mean_squared_error: 0.5057 - mean_absolute_error: 0.5805 - val_loss: 0.5122 - val_mean_squared_error: 0.5122 - val_mean_absolute_error: 0.5835\n",
            "Epoch 36/200\n",
            "439/439 [==============================] - 1s 3ms/step - loss: 0.5052 - mean_squared_error: 0.5052 - mean_absolute_error: 0.5808 - val_loss: 0.5102 - val_mean_squared_error: 0.5102 - val_mean_absolute_error: 0.5794\n",
            "Epoch 37/200\n",
            "439/439 [==============================] - 1s 3ms/step - loss: 0.5052 - mean_squared_error: 0.5052 - mean_absolute_error: 0.5811 - val_loss: 0.5166 - val_mean_squared_error: 0.5166 - val_mean_absolute_error: 0.5816\n",
            "Epoch 38/200\n",
            "439/439 [==============================] - 1s 3ms/step - loss: 0.5043 - mean_squared_error: 0.5043 - mean_absolute_error: 0.5803 - val_loss: 0.5081 - val_mean_squared_error: 0.5081 - val_mean_absolute_error: 0.5788\n",
            "Epoch 39/200\n",
            "439/439 [==============================] - 1s 3ms/step - loss: 0.5048 - mean_squared_error: 0.5048 - mean_absolute_error: 0.5800 - val_loss: 0.5117 - val_mean_squared_error: 0.5117 - val_mean_absolute_error: 0.5824\n",
            "Epoch 40/200\n",
            "439/439 [==============================] - 1s 3ms/step - loss: 0.5039 - mean_squared_error: 0.5039 - mean_absolute_error: 0.5797 - val_loss: 0.5073 - val_mean_squared_error: 0.5073 - val_mean_absolute_error: 0.5779\n",
            "Epoch 41/200\n",
            "439/439 [==============================] - 1s 3ms/step - loss: 0.5040 - mean_squared_error: 0.5040 - mean_absolute_error: 0.5798 - val_loss: 0.5074 - val_mean_squared_error: 0.5074 - val_mean_absolute_error: 0.5779\n",
            "Epoch 42/200\n",
            "439/439 [==============================] - 1s 3ms/step - loss: 0.5033 - mean_squared_error: 0.5033 - mean_absolute_error: 0.5792 - val_loss: 0.5107 - val_mean_squared_error: 0.5107 - val_mean_absolute_error: 0.5804\n",
            "Epoch 43/200\n",
            "439/439 [==============================] - 1s 3ms/step - loss: 0.5026 - mean_squared_error: 0.5026 - mean_absolute_error: 0.5790 - val_loss: 0.5089 - val_mean_squared_error: 0.5089 - val_mean_absolute_error: 0.5775\n",
            "Epoch 44/200\n",
            "439/439 [==============================] - 1s 3ms/step - loss: 0.5026 - mean_squared_error: 0.5026 - mean_absolute_error: 0.5796 - val_loss: 0.5204 - val_mean_squared_error: 0.5204 - val_mean_absolute_error: 0.5925\n",
            "Epoch 45/200\n",
            "439/439 [==============================] - 1s 3ms/step - loss: 0.5027 - mean_squared_error: 0.5027 - mean_absolute_error: 0.5793 - val_loss: 0.5093 - val_mean_squared_error: 0.5093 - val_mean_absolute_error: 0.5804\n",
            "Epoch 46/200\n",
            "439/439 [==============================] - 1s 3ms/step - loss: 0.5019 - mean_squared_error: 0.5019 - mean_absolute_error: 0.5782 - val_loss: 0.5045 - val_mean_squared_error: 0.5045 - val_mean_absolute_error: 0.5772\n",
            "Epoch 47/200\n",
            "439/439 [==============================] - 1s 3ms/step - loss: 0.5019 - mean_squared_error: 0.5019 - mean_absolute_error: 0.5787 - val_loss: 0.5053 - val_mean_squared_error: 0.5053 - val_mean_absolute_error: 0.5772\n",
            "Epoch 48/200\n",
            "439/439 [==============================] - 1s 3ms/step - loss: 0.5016 - mean_squared_error: 0.5016 - mean_absolute_error: 0.5790 - val_loss: 0.5078 - val_mean_squared_error: 0.5078 - val_mean_absolute_error: 0.5782\n",
            "Epoch 49/200\n",
            "439/439 [==============================] - 1s 3ms/step - loss: 0.5007 - mean_squared_error: 0.5007 - mean_absolute_error: 0.5780 - val_loss: 0.5076 - val_mean_squared_error: 0.5076 - val_mean_absolute_error: 0.5767\n",
            "Epoch 50/200\n",
            "439/439 [==============================] - 1s 3ms/step - loss: 0.5014 - mean_squared_error: 0.5014 - mean_absolute_error: 0.5785 - val_loss: 0.5124 - val_mean_squared_error: 0.5124 - val_mean_absolute_error: 0.5837\n",
            "Epoch 51/200\n",
            "439/439 [==============================] - 1s 3ms/step - loss: 0.5011 - mean_squared_error: 0.5011 - mean_absolute_error: 0.5785 - val_loss: 0.5044 - val_mean_squared_error: 0.5044 - val_mean_absolute_error: 0.5766\n",
            "Epoch 52/200\n",
            "439/439 [==============================] - 1s 3ms/step - loss: 0.5005 - mean_squared_error: 0.5005 - mean_absolute_error: 0.5779 - val_loss: 0.5079 - val_mean_squared_error: 0.5079 - val_mean_absolute_error: 0.5796\n",
            "Epoch 53/200\n",
            "439/439 [==============================] - 1s 3ms/step - loss: 0.5001 - mean_squared_error: 0.5001 - mean_absolute_error: 0.5780 - val_loss: 0.5116 - val_mean_squared_error: 0.5116 - val_mean_absolute_error: 0.5832\n",
            "Epoch 54/200\n",
            "439/439 [==============================] - 1s 3ms/step - loss: 0.5003 - mean_squared_error: 0.5003 - mean_absolute_error: 0.5780 - val_loss: 0.5060 - val_mean_squared_error: 0.5060 - val_mean_absolute_error: 0.5785\n",
            "Epoch 55/200\n",
            "439/439 [==============================] - 1s 3ms/step - loss: 0.4998 - mean_squared_error: 0.4998 - mean_absolute_error: 0.5776 - val_loss: 0.5052 - val_mean_squared_error: 0.5052 - val_mean_absolute_error: 0.5780\n",
            "Epoch 56/200\n",
            "439/439 [==============================] - 1s 3ms/step - loss: 0.4997 - mean_squared_error: 0.4997 - mean_absolute_error: 0.5775 - val_loss: 0.5074 - val_mean_squared_error: 0.5074 - val_mean_absolute_error: 0.5775\n",
            "Epoch 57/200\n",
            "439/439 [==============================] - 1s 3ms/step - loss: 0.4997 - mean_squared_error: 0.4997 - mean_absolute_error: 0.5778 - val_loss: 0.5045 - val_mean_squared_error: 0.5045 - val_mean_absolute_error: 0.5763\n",
            "Epoch 58/200\n",
            "439/439 [==============================] - 1s 3ms/step - loss: 0.4989 - mean_squared_error: 0.4989 - mean_absolute_error: 0.5768 - val_loss: 0.5110 - val_mean_squared_error: 0.5110 - val_mean_absolute_error: 0.5797\n",
            "Epoch 59/200\n",
            "439/439 [==============================] - 1s 3ms/step - loss: 0.4986 - mean_squared_error: 0.4986 - mean_absolute_error: 0.5772 - val_loss: 0.5050 - val_mean_squared_error: 0.5050 - val_mean_absolute_error: 0.5769\n",
            "Epoch 60/200\n",
            "439/439 [==============================] - 1s 3ms/step - loss: 0.4989 - mean_squared_error: 0.4989 - mean_absolute_error: 0.5767 - val_loss: 0.5084 - val_mean_squared_error: 0.5084 - val_mean_absolute_error: 0.5806\n",
            "Epoch 61/200\n",
            "439/439 [==============================] - 1s 3ms/step - loss: 0.4977 - mean_squared_error: 0.4977 - mean_absolute_error: 0.5768 - val_loss: 0.5056 - val_mean_squared_error: 0.5056 - val_mean_absolute_error: 0.5769\n",
            "Epoch 62/200\n",
            "439/439 [==============================] - 1s 3ms/step - loss: 0.4976 - mean_squared_error: 0.4976 - mean_absolute_error: 0.5763 - val_loss: 0.5080 - val_mean_squared_error: 0.5080 - val_mean_absolute_error: 0.5794\n",
            "Epoch 63/200\n",
            "439/439 [==============================] - 1s 3ms/step - loss: 0.4976 - mean_squared_error: 0.4976 - mean_absolute_error: 0.5767 - val_loss: 0.5059 - val_mean_squared_error: 0.5059 - val_mean_absolute_error: 0.5769\n",
            "Epoch 64/200\n",
            "439/439 [==============================] - 1s 3ms/step - loss: 0.4979 - mean_squared_error: 0.4979 - mean_absolute_error: 0.5758 - val_loss: 0.5073 - val_mean_squared_error: 0.5073 - val_mean_absolute_error: 0.5754\n",
            "Epoch 65/200\n",
            "439/439 [==============================] - 2s 4ms/step - loss: 0.4973 - mean_squared_error: 0.4973 - mean_absolute_error: 0.5758 - val_loss: 0.5062 - val_mean_squared_error: 0.5062 - val_mean_absolute_error: 0.5760\n",
            "Epoch 66/200\n",
            "439/439 [==============================] - 2s 4ms/step - loss: 0.4976 - mean_squared_error: 0.4976 - mean_absolute_error: 0.5759 - val_loss: 0.5081 - val_mean_squared_error: 0.5081 - val_mean_absolute_error: 0.5770\n",
            "Epoch 67/200\n",
            "439/439 [==============================] - 1s 3ms/step - loss: 0.4975 - mean_squared_error: 0.4975 - mean_absolute_error: 0.5759 - val_loss: 0.5117 - val_mean_squared_error: 0.5117 - val_mean_absolute_error: 0.5810\n",
            "Epoch 68/200\n",
            "439/439 [==============================] - 1s 3ms/step - loss: 0.4971 - mean_squared_error: 0.4971 - mean_absolute_error: 0.5754 - val_loss: 0.5054 - val_mean_squared_error: 0.5054 - val_mean_absolute_error: 0.5770\n",
            "Epoch 69/200\n",
            "439/439 [==============================] - 1s 3ms/step - loss: 0.4969 - mean_squared_error: 0.4969 - mean_absolute_error: 0.5756 - val_loss: 0.5071 - val_mean_squared_error: 0.5071 - val_mean_absolute_error: 0.5798\n",
            "Epoch 70/200\n",
            "439/439 [==============================] - 1s 3ms/step - loss: 0.4960 - mean_squared_error: 0.4960 - mean_absolute_error: 0.5754 - val_loss: 0.5046 - val_mean_squared_error: 0.5046 - val_mean_absolute_error: 0.5757\n",
            "Epoch 71/200\n",
            "439/439 [==============================] - 1s 3ms/step - loss: 0.4964 - mean_squared_error: 0.4964 - mean_absolute_error: 0.5753 - val_loss: 0.5042 - val_mean_squared_error: 0.5042 - val_mean_absolute_error: 0.5750\n",
            "Epoch 72/200\n",
            "439/439 [==============================] - 1s 3ms/step - loss: 0.4958 - mean_squared_error: 0.4958 - mean_absolute_error: 0.5749 - val_loss: 0.5037 - val_mean_squared_error: 0.5037 - val_mean_absolute_error: 0.5764\n",
            "Epoch 73/200\n",
            "439/439 [==============================] - 1s 3ms/step - loss: 0.4958 - mean_squared_error: 0.4958 - mean_absolute_error: 0.5754 - val_loss: 0.5024 - val_mean_squared_error: 0.5024 - val_mean_absolute_error: 0.5746\n",
            "Epoch 74/200\n",
            "439/439 [==============================] - 1s 3ms/step - loss: 0.4959 - mean_squared_error: 0.4959 - mean_absolute_error: 0.5749 - val_loss: 0.5075 - val_mean_squared_error: 0.5075 - val_mean_absolute_error: 0.5771\n",
            "Epoch 75/200\n",
            "439/439 [==============================] - 1s 3ms/step - loss: 0.4954 - mean_squared_error: 0.4954 - mean_absolute_error: 0.5749 - val_loss: 0.5072 - val_mean_squared_error: 0.5072 - val_mean_absolute_error: 0.5768\n",
            "Epoch 76/200\n",
            "439/439 [==============================] - 1s 3ms/step - loss: 0.4956 - mean_squared_error: 0.4956 - mean_absolute_error: 0.5751 - val_loss: 0.5025 - val_mean_squared_error: 0.5025 - val_mean_absolute_error: 0.5741\n",
            "Epoch 77/200\n",
            "439/439 [==============================] - 1s 3ms/step - loss: 0.4950 - mean_squared_error: 0.4950 - mean_absolute_error: 0.5745 - val_loss: 0.5035 - val_mean_squared_error: 0.5035 - val_mean_absolute_error: 0.5755\n",
            "Epoch 78/200\n",
            "439/439 [==============================] - 1s 3ms/step - loss: 0.4952 - mean_squared_error: 0.4952 - mean_absolute_error: 0.5749 - val_loss: 0.5018 - val_mean_squared_error: 0.5018 - val_mean_absolute_error: 0.5747\n",
            "Epoch 79/200\n",
            "439/439 [==============================] - 1s 3ms/step - loss: 0.4945 - mean_squared_error: 0.4945 - mean_absolute_error: 0.5746 - val_loss: 0.5146 - val_mean_squared_error: 0.5146 - val_mean_absolute_error: 0.5797\n",
            "Epoch 80/200\n",
            "439/439 [==============================] - 1s 3ms/step - loss: 0.4947 - mean_squared_error: 0.4947 - mean_absolute_error: 0.5741 - val_loss: 0.5045 - val_mean_squared_error: 0.5045 - val_mean_absolute_error: 0.5755\n",
            "Epoch 81/200\n",
            "439/439 [==============================] - 1s 3ms/step - loss: 0.4939 - mean_squared_error: 0.4939 - mean_absolute_error: 0.5733 - val_loss: 0.5058 - val_mean_squared_error: 0.5058 - val_mean_absolute_error: 0.5784\n",
            "Epoch 82/200\n",
            "439/439 [==============================] - 1s 3ms/step - loss: 0.4945 - mean_squared_error: 0.4945 - mean_absolute_error: 0.5740 - val_loss: 0.5055 - val_mean_squared_error: 0.5055 - val_mean_absolute_error: 0.5802\n",
            "Epoch 83/200\n",
            "439/439 [==============================] - 1s 3ms/step - loss: 0.4938 - mean_squared_error: 0.4938 - mean_absolute_error: 0.5737 - val_loss: 0.5063 - val_mean_squared_error: 0.5063 - val_mean_absolute_error: 0.5787\n",
            "Epoch 84/200\n",
            "439/439 [==============================] - 1s 3ms/step - loss: 0.4931 - mean_squared_error: 0.4931 - mean_absolute_error: 0.5729 - val_loss: 0.5041 - val_mean_squared_error: 0.5041 - val_mean_absolute_error: 0.5772\n",
            "Epoch 85/200\n",
            "439/439 [==============================] - 1s 3ms/step - loss: 0.4931 - mean_squared_error: 0.4931 - mean_absolute_error: 0.5733 - val_loss: 0.5042 - val_mean_squared_error: 0.5042 - val_mean_absolute_error: 0.5748\n",
            "Epoch 86/200\n",
            "439/439 [==============================] - 1s 3ms/step - loss: 0.4928 - mean_squared_error: 0.4928 - mean_absolute_error: 0.5723 - val_loss: 0.5032 - val_mean_squared_error: 0.5032 - val_mean_absolute_error: 0.5740\n",
            "Epoch 87/200\n",
            "439/439 [==============================] - 1s 3ms/step - loss: 0.4930 - mean_squared_error: 0.4930 - mean_absolute_error: 0.5729 - val_loss: 0.5076 - val_mean_squared_error: 0.5076 - val_mean_absolute_error: 0.5764\n",
            "Epoch 88/200\n",
            "439/439 [==============================] - 1s 3ms/step - loss: 0.4926 - mean_squared_error: 0.4926 - mean_absolute_error: 0.5720 - val_loss: 0.5040 - val_mean_squared_error: 0.5040 - val_mean_absolute_error: 0.5733\n",
            "Epoch 89/200\n",
            "439/439 [==============================] - 1s 3ms/step - loss: 0.4921 - mean_squared_error: 0.4921 - mean_absolute_error: 0.5726 - val_loss: 0.5031 - val_mean_squared_error: 0.5031 - val_mean_absolute_error: 0.5748\n",
            "Epoch 90/200\n",
            "439/439 [==============================] - 1s 3ms/step - loss: 0.4923 - mean_squared_error: 0.4923 - mean_absolute_error: 0.5726 - val_loss: 0.5096 - val_mean_squared_error: 0.5096 - val_mean_absolute_error: 0.5819\n",
            "Epoch 91/200\n",
            "439/439 [==============================] - 1s 2ms/step - loss: 0.4911 - mean_squared_error: 0.4911 - mean_absolute_error: 0.5722 - val_loss: 0.5100 - val_mean_squared_error: 0.5100 - val_mean_absolute_error: 0.5770\n",
            "Epoch 92/200\n",
            "439/439 [==============================] - 1s 3ms/step - loss: 0.4910 - mean_squared_error: 0.4910 - mean_absolute_error: 0.5719 - val_loss: 0.5063 - val_mean_squared_error: 0.5063 - val_mean_absolute_error: 0.5764\n",
            "Epoch 93/200\n",
            "439/439 [==============================] - 1s 3ms/step - loss: 0.4917 - mean_squared_error: 0.4917 - mean_absolute_error: 0.5717 - val_loss: 0.5018 - val_mean_squared_error: 0.5018 - val_mean_absolute_error: 0.5737\n",
            "Epoch 94/200\n",
            "439/439 [==============================] - 1s 3ms/step - loss: 0.4916 - mean_squared_error: 0.4916 - mean_absolute_error: 0.5721 - val_loss: 0.5026 - val_mean_squared_error: 0.5026 - val_mean_absolute_error: 0.5727\n",
            "Epoch 95/200\n",
            "439/439 [==============================] - 1s 3ms/step - loss: 0.4907 - mean_squared_error: 0.4907 - mean_absolute_error: 0.5718 - val_loss: 0.5067 - val_mean_squared_error: 0.5067 - val_mean_absolute_error: 0.5773\n",
            "Epoch 96/200\n",
            "439/439 [==============================] - 1s 3ms/step - loss: 0.4912 - mean_squared_error: 0.4912 - mean_absolute_error: 0.5708 - val_loss: 0.5029 - val_mean_squared_error: 0.5029 - val_mean_absolute_error: 0.5756\n",
            "Epoch 97/200\n",
            "439/439 [==============================] - 1s 3ms/step - loss: 0.4911 - mean_squared_error: 0.4911 - mean_absolute_error: 0.5715 - val_loss: 0.5090 - val_mean_squared_error: 0.5090 - val_mean_absolute_error: 0.5793\n",
            "Epoch 98/200\n",
            "439/439 [==============================] - 1s 3ms/step - loss: 0.4906 - mean_squared_error: 0.4906 - mean_absolute_error: 0.5709 - val_loss: 0.5041 - val_mean_squared_error: 0.5041 - val_mean_absolute_error: 0.5736\n",
            "Epoch 99/200\n",
            "439/439 [==============================] - 1s 3ms/step - loss: 0.4903 - mean_squared_error: 0.4903 - mean_absolute_error: 0.5712 - val_loss: 0.5026 - val_mean_squared_error: 0.5026 - val_mean_absolute_error: 0.5744\n",
            "Epoch 100/200\n",
            "439/439 [==============================] - 1s 3ms/step - loss: 0.4899 - mean_squared_error: 0.4899 - mean_absolute_error: 0.5701 - val_loss: 0.5034 - val_mean_squared_error: 0.5034 - val_mean_absolute_error: 0.5756\n",
            "Epoch 101/200\n",
            "439/439 [==============================] - 1s 3ms/step - loss: 0.4904 - mean_squared_error: 0.4904 - mean_absolute_error: 0.5712 - val_loss: 0.5062 - val_mean_squared_error: 0.5062 - val_mean_absolute_error: 0.5783\n",
            "Epoch 102/200\n",
            "439/439 [==============================] - 1s 3ms/step - loss: 0.4901 - mean_squared_error: 0.4901 - mean_absolute_error: 0.5713 - val_loss: 0.5003 - val_mean_squared_error: 0.5003 - val_mean_absolute_error: 0.5713\n",
            "Epoch 103/200\n",
            "439/439 [==============================] - 1s 3ms/step - loss: 0.4905 - mean_squared_error: 0.4905 - mean_absolute_error: 0.5710 - val_loss: 0.5061 - val_mean_squared_error: 0.5061 - val_mean_absolute_error: 0.5765\n",
            "Epoch 104/200\n",
            "439/439 [==============================] - 1s 3ms/step - loss: 0.4897 - mean_squared_error: 0.4897 - mean_absolute_error: 0.5705 - val_loss: 0.5092 - val_mean_squared_error: 0.5092 - val_mean_absolute_error: 0.5790\n",
            "Epoch 105/200\n",
            "439/439 [==============================] - 1s 3ms/step - loss: 0.4901 - mean_squared_error: 0.4901 - mean_absolute_error: 0.5700 - val_loss: 0.5021 - val_mean_squared_error: 0.5021 - val_mean_absolute_error: 0.5737\n",
            "Epoch 106/200\n",
            "439/439 [==============================] - 1s 3ms/step - loss: 0.4889 - mean_squared_error: 0.4889 - mean_absolute_error: 0.5703 - val_loss: 0.5036 - val_mean_squared_error: 0.5036 - val_mean_absolute_error: 0.5740\n",
            "Epoch 107/200\n",
            "439/439 [==============================] - 1s 3ms/step - loss: 0.4894 - mean_squared_error: 0.4894 - mean_absolute_error: 0.5705 - val_loss: 0.5047 - val_mean_squared_error: 0.5047 - val_mean_absolute_error: 0.5747\n",
            "Epoch 108/200\n",
            "439/439 [==============================] - 1s 3ms/step - loss: 0.4888 - mean_squared_error: 0.4888 - mean_absolute_error: 0.5708 - val_loss: 0.5037 - val_mean_squared_error: 0.5037 - val_mean_absolute_error: 0.5743\n",
            "Epoch 109/200\n",
            "439/439 [==============================] - 1s 3ms/step - loss: 0.4899 - mean_squared_error: 0.4899 - mean_absolute_error: 0.5704 - val_loss: 0.5007 - val_mean_squared_error: 0.5007 - val_mean_absolute_error: 0.5737\n",
            "Epoch 110/200\n",
            "439/439 [==============================] - 1s 3ms/step - loss: 0.4889 - mean_squared_error: 0.4889 - mean_absolute_error: 0.5698 - val_loss: 0.5029 - val_mean_squared_error: 0.5029 - val_mean_absolute_error: 0.5738\n",
            "Epoch 111/200\n",
            "439/439 [==============================] - 1s 3ms/step - loss: 0.4895 - mean_squared_error: 0.4895 - mean_absolute_error: 0.5701 - val_loss: 0.5040 - val_mean_squared_error: 0.5040 - val_mean_absolute_error: 0.5745\n",
            "Epoch 112/200\n",
            "439/439 [==============================] - 1s 3ms/step - loss: 0.4882 - mean_squared_error: 0.4882 - mean_absolute_error: 0.5698 - val_loss: 0.5036 - val_mean_squared_error: 0.5036 - val_mean_absolute_error: 0.5744\n",
            "Epoch 113/200\n",
            "439/439 [==============================] - 1s 3ms/step - loss: 0.4894 - mean_squared_error: 0.4894 - mean_absolute_error: 0.5699 - val_loss: 0.5025 - val_mean_squared_error: 0.5025 - val_mean_absolute_error: 0.5753\n",
            "Epoch 114/200\n",
            "439/439 [==============================] - 1s 3ms/step - loss: 0.4889 - mean_squared_error: 0.4889 - mean_absolute_error: 0.5694 - val_loss: 0.5017 - val_mean_squared_error: 0.5017 - val_mean_absolute_error: 0.5734\n",
            "Epoch 115/200\n",
            "439/439 [==============================] - 1s 3ms/step - loss: 0.4888 - mean_squared_error: 0.4888 - mean_absolute_error: 0.5700 - val_loss: 0.5012 - val_mean_squared_error: 0.5012 - val_mean_absolute_error: 0.5723\n",
            "Epoch 116/200\n",
            "439/439 [==============================] - 1s 3ms/step - loss: 0.4883 - mean_squared_error: 0.4883 - mean_absolute_error: 0.5699 - val_loss: 0.5044 - val_mean_squared_error: 0.5044 - val_mean_absolute_error: 0.5751\n",
            "Epoch 117/200\n",
            "439/439 [==============================] - 1s 3ms/step - loss: 0.4887 - mean_squared_error: 0.4887 - mean_absolute_error: 0.5697 - val_loss: 0.5009 - val_mean_squared_error: 0.5009 - val_mean_absolute_error: 0.5720\n",
            "Epoch 118/200\n",
            "439/439 [==============================] - 1s 3ms/step - loss: 0.4878 - mean_squared_error: 0.4878 - mean_absolute_error: 0.5701 - val_loss: 0.5082 - val_mean_squared_error: 0.5082 - val_mean_absolute_error: 0.5789\n",
            "Epoch 119/200\n",
            "439/439 [==============================] - 1s 3ms/step - loss: 0.4883 - mean_squared_error: 0.4883 - mean_absolute_error: 0.5692 - val_loss: 0.5068 - val_mean_squared_error: 0.5068 - val_mean_absolute_error: 0.5763\n",
            "Epoch 120/200\n",
            "439/439 [==============================] - 1s 3ms/step - loss: 0.4883 - mean_squared_error: 0.4883 - mean_absolute_error: 0.5688 - val_loss: 0.5039 - val_mean_squared_error: 0.5039 - val_mean_absolute_error: 0.5759\n",
            "Epoch 121/200\n",
            "439/439 [==============================] - 1s 3ms/step - loss: 0.4879 - mean_squared_error: 0.4879 - mean_absolute_error: 0.5687 - val_loss: 0.5021 - val_mean_squared_error: 0.5021 - val_mean_absolute_error: 0.5712\n",
            "Epoch 122/200\n",
            "439/439 [==============================] - 1s 3ms/step - loss: 0.4882 - mean_squared_error: 0.4882 - mean_absolute_error: 0.5689 - val_loss: 0.5025 - val_mean_squared_error: 0.5025 - val_mean_absolute_error: 0.5747\n",
            "Epoch 123/200\n",
            "439/439 [==============================] - 1s 3ms/step - loss: 0.4874 - mean_squared_error: 0.4874 - mean_absolute_error: 0.5689 - val_loss: 0.5029 - val_mean_squared_error: 0.5029 - val_mean_absolute_error: 0.5732\n",
            "Epoch 124/200\n",
            "439/439 [==============================] - 1s 3ms/step - loss: 0.4880 - mean_squared_error: 0.4880 - mean_absolute_error: 0.5692 - val_loss: 0.5047 - val_mean_squared_error: 0.5047 - val_mean_absolute_error: 0.5767\n",
            "Epoch 125/200\n",
            "439/439 [==============================] - 1s 3ms/step - loss: 0.4875 - mean_squared_error: 0.4875 - mean_absolute_error: 0.5686 - val_loss: 0.5028 - val_mean_squared_error: 0.5028 - val_mean_absolute_error: 0.5741\n",
            "Epoch 126/200\n",
            "439/439 [==============================] - 1s 3ms/step - loss: 0.4881 - mean_squared_error: 0.4881 - mean_absolute_error: 0.5692 - val_loss: 0.5011 - val_mean_squared_error: 0.5011 - val_mean_absolute_error: 0.5725\n",
            "Epoch 127/200\n",
            "439/439 [==============================] - 1s 3ms/step - loss: 0.4870 - mean_squared_error: 0.4870 - mean_absolute_error: 0.5683 - val_loss: 0.5018 - val_mean_squared_error: 0.5018 - val_mean_absolute_error: 0.5731\n",
            "Epoch 128/200\n",
            "439/439 [==============================] - 1s 3ms/step - loss: 0.4873 - mean_squared_error: 0.4873 - mean_absolute_error: 0.5686 - val_loss: 0.5019 - val_mean_squared_error: 0.5019 - val_mean_absolute_error: 0.5733\n",
            "Epoch 129/200\n",
            "439/439 [==============================] - 1s 3ms/step - loss: 0.4867 - mean_squared_error: 0.4867 - mean_absolute_error: 0.5681 - val_loss: 0.5010 - val_mean_squared_error: 0.5010 - val_mean_absolute_error: 0.5715\n",
            "Epoch 130/200\n",
            "439/439 [==============================] - 1s 3ms/step - loss: 0.4874 - mean_squared_error: 0.4874 - mean_absolute_error: 0.5684 - val_loss: 0.5098 - val_mean_squared_error: 0.5098 - val_mean_absolute_error: 0.5775\n",
            "Epoch 131/200\n",
            "439/439 [==============================] - 1s 3ms/step - loss: 0.4874 - mean_squared_error: 0.4874 - mean_absolute_error: 0.5685 - val_loss: 0.5058 - val_mean_squared_error: 0.5058 - val_mean_absolute_error: 0.5773\n",
            "Epoch 132/200\n",
            "439/439 [==============================] - 1s 3ms/step - loss: 0.4872 - mean_squared_error: 0.4872 - mean_absolute_error: 0.5684 - val_loss: 0.5044 - val_mean_squared_error: 0.5044 - val_mean_absolute_error: 0.5763\n",
            "Epoch 133/200\n",
            "439/439 [==============================] - 1s 3ms/step - loss: 0.4870 - mean_squared_error: 0.4870 - mean_absolute_error: 0.5679 - val_loss: 0.5039 - val_mean_squared_error: 0.5039 - val_mean_absolute_error: 0.5732\n",
            "Epoch 134/200\n",
            "439/439 [==============================] - 1s 3ms/step - loss: 0.4862 - mean_squared_error: 0.4862 - mean_absolute_error: 0.5684 - val_loss: 0.5068 - val_mean_squared_error: 0.5068 - val_mean_absolute_error: 0.5760\n",
            "Epoch 135/200\n",
            "439/439 [==============================] - 1s 3ms/step - loss: 0.4870 - mean_squared_error: 0.4870 - mean_absolute_error: 0.5677 - val_loss: 0.5062 - val_mean_squared_error: 0.5062 - val_mean_absolute_error: 0.5750\n",
            "Epoch 136/200\n",
            "439/439 [==============================] - 1s 3ms/step - loss: 0.4868 - mean_squared_error: 0.4868 - mean_absolute_error: 0.5678 - val_loss: 0.5022 - val_mean_squared_error: 0.5022 - val_mean_absolute_error: 0.5738\n",
            "Epoch 137/200\n",
            "439/439 [==============================] - 1s 3ms/step - loss: 0.4860 - mean_squared_error: 0.4860 - mean_absolute_error: 0.5679 - val_loss: 0.5040 - val_mean_squared_error: 0.5040 - val_mean_absolute_error: 0.5762\n",
            "Epoch 138/200\n",
            "439/439 [==============================] - 1s 3ms/step - loss: 0.4864 - mean_squared_error: 0.4864 - mean_absolute_error: 0.5684 - val_loss: 0.5028 - val_mean_squared_error: 0.5028 - val_mean_absolute_error: 0.5726\n",
            "Epoch 139/200\n",
            "439/439 [==============================] - 1s 3ms/step - loss: 0.4864 - mean_squared_error: 0.4864 - mean_absolute_error: 0.5677 - val_loss: 0.5056 - val_mean_squared_error: 0.5056 - val_mean_absolute_error: 0.5735\n",
            "Epoch 140/200\n",
            "439/439 [==============================] - 1s 3ms/step - loss: 0.4862 - mean_squared_error: 0.4862 - mean_absolute_error: 0.5678 - val_loss: 0.5032 - val_mean_squared_error: 0.5032 - val_mean_absolute_error: 0.5729\n",
            "Epoch 141/200\n",
            "439/439 [==============================] - 1s 3ms/step - loss: 0.4853 - mean_squared_error: 0.4853 - mean_absolute_error: 0.5669 - val_loss: 0.5089 - val_mean_squared_error: 0.5089 - val_mean_absolute_error: 0.5783\n",
            "Epoch 142/200\n",
            "439/439 [==============================] - 1s 3ms/step - loss: 0.4859 - mean_squared_error: 0.4859 - mean_absolute_error: 0.5674 - val_loss: 0.5032 - val_mean_squared_error: 0.5032 - val_mean_absolute_error: 0.5735\n",
            "Epoch 143/200\n",
            "439/439 [==============================] - 1s 3ms/step - loss: 0.4856 - mean_squared_error: 0.4856 - mean_absolute_error: 0.5677 - val_loss: 0.5060 - val_mean_squared_error: 0.5060 - val_mean_absolute_error: 0.5777\n",
            "Epoch 144/200\n",
            "439/439 [==============================] - 1s 3ms/step - loss: 0.4859 - mean_squared_error: 0.4859 - mean_absolute_error: 0.5680 - val_loss: 0.5050 - val_mean_squared_error: 0.5050 - val_mean_absolute_error: 0.5741\n",
            "Epoch 145/200\n",
            "439/439 [==============================] - 1s 3ms/step - loss: 0.4857 - mean_squared_error: 0.4857 - mean_absolute_error: 0.5670 - val_loss: 0.5014 - val_mean_squared_error: 0.5014 - val_mean_absolute_error: 0.5713\n",
            "Epoch 146/200\n",
            "439/439 [==============================] - 1s 3ms/step - loss: 0.4853 - mean_squared_error: 0.4853 - mean_absolute_error: 0.5669 - val_loss: 0.5081 - val_mean_squared_error: 0.5081 - val_mean_absolute_error: 0.5748\n",
            "Epoch 147/200\n",
            "439/439 [==============================] - 1s 3ms/step - loss: 0.4851 - mean_squared_error: 0.4851 - mean_absolute_error: 0.5671 - val_loss: 0.5049 - val_mean_squared_error: 0.5049 - val_mean_absolute_error: 0.5738\n",
            "Epoch 148/200\n",
            "439/439 [==============================] - 1s 3ms/step - loss: 0.4847 - mean_squared_error: 0.4847 - mean_absolute_error: 0.5668 - val_loss: 0.5076 - val_mean_squared_error: 0.5076 - val_mean_absolute_error: 0.5752\n",
            "Epoch 149/200\n",
            "439/439 [==============================] - 1s 3ms/step - loss: 0.4847 - mean_squared_error: 0.4847 - mean_absolute_error: 0.5664 - val_loss: 0.5026 - val_mean_squared_error: 0.5026 - val_mean_absolute_error: 0.5719\n",
            "Epoch 150/200\n",
            "439/439 [==============================] - 1s 3ms/step - loss: 0.4856 - mean_squared_error: 0.4856 - mean_absolute_error: 0.5676 - val_loss: 0.5022 - val_mean_squared_error: 0.5022 - val_mean_absolute_error: 0.5717\n",
            "Epoch 151/200\n",
            "439/439 [==============================] - 1s 3ms/step - loss: 0.4846 - mean_squared_error: 0.4846 - mean_absolute_error: 0.5664 - val_loss: 0.5055 - val_mean_squared_error: 0.5055 - val_mean_absolute_error: 0.5753\n",
            "Epoch 152/200\n",
            "439/439 [==============================] - 1s 3ms/step - loss: 0.4845 - mean_squared_error: 0.4845 - mean_absolute_error: 0.5665 - val_loss: 0.5024 - val_mean_squared_error: 0.5024 - val_mean_absolute_error: 0.5714\n",
            "Epoch 153/200\n",
            "439/439 [==============================] - 1s 3ms/step - loss: 0.4847 - mean_squared_error: 0.4847 - mean_absolute_error: 0.5672 - val_loss: 0.5039 - val_mean_squared_error: 0.5039 - val_mean_absolute_error: 0.5721\n",
            "Epoch 154/200\n",
            "439/439 [==============================] - 1s 3ms/step - loss: 0.4845 - mean_squared_error: 0.4845 - mean_absolute_error: 0.5666 - val_loss: 0.5171 - val_mean_squared_error: 0.5171 - val_mean_absolute_error: 0.5856\n",
            "Epoch 155/200\n",
            "439/439 [==============================] - 1s 3ms/step - loss: 0.4842 - mean_squared_error: 0.4842 - mean_absolute_error: 0.5669 - val_loss: 0.5059 - val_mean_squared_error: 0.5059 - val_mean_absolute_error: 0.5732\n",
            "Epoch 156/200\n",
            "439/439 [==============================] - 1s 3ms/step - loss: 0.4840 - mean_squared_error: 0.4840 - mean_absolute_error: 0.5662 - val_loss: 0.5045 - val_mean_squared_error: 0.5045 - val_mean_absolute_error: 0.5733\n",
            "Epoch 157/200\n",
            "439/439 [==============================] - 1s 3ms/step - loss: 0.4837 - mean_squared_error: 0.4837 - mean_absolute_error: 0.5661 - val_loss: 0.5017 - val_mean_squared_error: 0.5017 - val_mean_absolute_error: 0.5702\n",
            "Epoch 158/200\n",
            "439/439 [==============================] - 1s 3ms/step - loss: 0.4841 - mean_squared_error: 0.4841 - mean_absolute_error: 0.5666 - val_loss: 0.5031 - val_mean_squared_error: 0.5031 - val_mean_absolute_error: 0.5723\n",
            "Epoch 159/200\n",
            "439/439 [==============================] - 1s 3ms/step - loss: 0.4839 - mean_squared_error: 0.4839 - mean_absolute_error: 0.5666 - val_loss: 0.5026 - val_mean_squared_error: 0.5026 - val_mean_absolute_error: 0.5728\n",
            "Epoch 160/200\n",
            "439/439 [==============================] - 1s 3ms/step - loss: 0.4841 - mean_squared_error: 0.4841 - mean_absolute_error: 0.5662 - val_loss: 0.5047 - val_mean_squared_error: 0.5047 - val_mean_absolute_error: 0.5744\n",
            "Epoch 161/200\n",
            "439/439 [==============================] - 1s 3ms/step - loss: 0.4836 - mean_squared_error: 0.4836 - mean_absolute_error: 0.5657 - val_loss: 0.5048 - val_mean_squared_error: 0.5048 - val_mean_absolute_error: 0.5724\n",
            "Epoch 162/200\n",
            "439/439 [==============================] - 1s 3ms/step - loss: 0.4835 - mean_squared_error: 0.4835 - mean_absolute_error: 0.5664 - val_loss: 0.5029 - val_mean_squared_error: 0.5029 - val_mean_absolute_error: 0.5711\n",
            "Epoch 163/200\n",
            "439/439 [==============================] - 1s 3ms/step - loss: 0.4837 - mean_squared_error: 0.4837 - mean_absolute_error: 0.5658 - val_loss: 0.5211 - val_mean_squared_error: 0.5211 - val_mean_absolute_error: 0.5863\n",
            "Epoch 164/200\n",
            "439/439 [==============================] - 1s 3ms/step - loss: 0.4834 - mean_squared_error: 0.4834 - mean_absolute_error: 0.5659 - val_loss: 0.5035 - val_mean_squared_error: 0.5035 - val_mean_absolute_error: 0.5724\n",
            "Epoch 165/200\n",
            "439/439 [==============================] - 1s 3ms/step - loss: 0.4838 - mean_squared_error: 0.4838 - mean_absolute_error: 0.5665 - val_loss: 0.5052 - val_mean_squared_error: 0.5052 - val_mean_absolute_error: 0.5735\n",
            "Epoch 166/200\n",
            "439/439 [==============================] - 1s 3ms/step - loss: 0.4835 - mean_squared_error: 0.4835 - mean_absolute_error: 0.5661 - val_loss: 0.5062 - val_mean_squared_error: 0.5062 - val_mean_absolute_error: 0.5767\n",
            "Epoch 167/200\n",
            "439/439 [==============================] - 1s 3ms/step - loss: 0.4830 - mean_squared_error: 0.4830 - mean_absolute_error: 0.5661 - val_loss: 0.5046 - val_mean_squared_error: 0.5046 - val_mean_absolute_error: 0.5718\n",
            "Epoch 168/200\n",
            "439/439 [==============================] - 1s 3ms/step - loss: 0.4825 - mean_squared_error: 0.4825 - mean_absolute_error: 0.5658 - val_loss: 0.5040 - val_mean_squared_error: 0.5040 - val_mean_absolute_error: 0.5748\n",
            "Epoch 169/200\n",
            "439/439 [==============================] - 1s 3ms/step - loss: 0.4832 - mean_squared_error: 0.4832 - mean_absolute_error: 0.5655 - val_loss: 0.5032 - val_mean_squared_error: 0.5032 - val_mean_absolute_error: 0.5729\n",
            "Epoch 170/200\n",
            "439/439 [==============================] - 1s 3ms/step - loss: 0.4833 - mean_squared_error: 0.4833 - mean_absolute_error: 0.5657 - val_loss: 0.5040 - val_mean_squared_error: 0.5040 - val_mean_absolute_error: 0.5737\n",
            "Epoch 171/200\n",
            "439/439 [==============================] - 1s 3ms/step - loss: 0.4828 - mean_squared_error: 0.4828 - mean_absolute_error: 0.5660 - val_loss: 0.5075 - val_mean_squared_error: 0.5075 - val_mean_absolute_error: 0.5768\n",
            "Epoch 172/200\n",
            "439/439 [==============================] - 1s 3ms/step - loss: 0.4833 - mean_squared_error: 0.4833 - mean_absolute_error: 0.5658 - val_loss: 0.5017 - val_mean_squared_error: 0.5017 - val_mean_absolute_error: 0.5706\n",
            "Epoch 173/200\n",
            "439/439 [==============================] - 1s 3ms/step - loss: 0.4826 - mean_squared_error: 0.4826 - mean_absolute_error: 0.5649 - val_loss: 0.5026 - val_mean_squared_error: 0.5026 - val_mean_absolute_error: 0.5706\n",
            "Epoch 174/200\n",
            "439/439 [==============================] - 1s 3ms/step - loss: 0.4830 - mean_squared_error: 0.4830 - mean_absolute_error: 0.5656 - val_loss: 0.5020 - val_mean_squared_error: 0.5020 - val_mean_absolute_error: 0.5701\n",
            "Epoch 175/200\n",
            "439/439 [==============================] - 1s 3ms/step - loss: 0.4825 - mean_squared_error: 0.4825 - mean_absolute_error: 0.5651 - val_loss: 0.5204 - val_mean_squared_error: 0.5204 - val_mean_absolute_error: 0.5885\n",
            "Epoch 176/200\n",
            "439/439 [==============================] - 1s 3ms/step - loss: 0.4812 - mean_squared_error: 0.4812 - mean_absolute_error: 0.5645 - val_loss: 0.5109 - val_mean_squared_error: 0.5109 - val_mean_absolute_error: 0.5792\n",
            "Epoch 177/200\n",
            "439/439 [==============================] - 1s 3ms/step - loss: 0.4824 - mean_squared_error: 0.4824 - mean_absolute_error: 0.5655 - val_loss: 0.5044 - val_mean_squared_error: 0.5044 - val_mean_absolute_error: 0.5720\n",
            "Epoch 178/200\n",
            "439/439 [==============================] - 1s 3ms/step - loss: 0.4822 - mean_squared_error: 0.4822 - mean_absolute_error: 0.5643 - val_loss: 0.5140 - val_mean_squared_error: 0.5140 - val_mean_absolute_error: 0.5837\n",
            "Epoch 179/200\n",
            "439/439 [==============================] - 1s 3ms/step - loss: 0.4828 - mean_squared_error: 0.4828 - mean_absolute_error: 0.5656 - val_loss: 0.5088 - val_mean_squared_error: 0.5088 - val_mean_absolute_error: 0.5750\n",
            "Epoch 180/200\n",
            "439/439 [==============================] - 1s 3ms/step - loss: 0.4818 - mean_squared_error: 0.4818 - mean_absolute_error: 0.5649 - val_loss: 0.5040 - val_mean_squared_error: 0.5040 - val_mean_absolute_error: 0.5729\n",
            "Epoch 181/200\n",
            "439/439 [==============================] - 1s 3ms/step - loss: 0.4819 - mean_squared_error: 0.4819 - mean_absolute_error: 0.5653 - val_loss: 0.5171 - val_mean_squared_error: 0.5171 - val_mean_absolute_error: 0.5841\n",
            "Epoch 182/200\n",
            "439/439 [==============================] - 1s 3ms/step - loss: 0.4823 - mean_squared_error: 0.4823 - mean_absolute_error: 0.5653 - val_loss: 0.5028 - val_mean_squared_error: 0.5028 - val_mean_absolute_error: 0.5718\n",
            "Epoch 183/200\n",
            "439/439 [==============================] - 1s 3ms/step - loss: 0.4819 - mean_squared_error: 0.4819 - mean_absolute_error: 0.5653 - val_loss: 0.5014 - val_mean_squared_error: 0.5014 - val_mean_absolute_error: 0.5691\n",
            "Epoch 184/200\n",
            "439/439 [==============================] - 1s 3ms/step - loss: 0.4822 - mean_squared_error: 0.4822 - mean_absolute_error: 0.5651 - val_loss: 0.5023 - val_mean_squared_error: 0.5023 - val_mean_absolute_error: 0.5702\n",
            "Epoch 185/200\n",
            "439/439 [==============================] - 1s 3ms/step - loss: 0.4818 - mean_squared_error: 0.4818 - mean_absolute_error: 0.5647 - val_loss: 0.5053 - val_mean_squared_error: 0.5053 - val_mean_absolute_error: 0.5730\n",
            "Epoch 186/200\n",
            "439/439 [==============================] - 1s 3ms/step - loss: 0.4820 - mean_squared_error: 0.4820 - mean_absolute_error: 0.5644 - val_loss: 0.5017 - val_mean_squared_error: 0.5017 - val_mean_absolute_error: 0.5699\n",
            "Epoch 187/200\n",
            "439/439 [==============================] - 1s 3ms/step - loss: 0.4809 - mean_squared_error: 0.4809 - mean_absolute_error: 0.5640 - val_loss: 0.5021 - val_mean_squared_error: 0.5021 - val_mean_absolute_error: 0.5718\n",
            "Epoch 188/200\n",
            "439/439 [==============================] - 1s 3ms/step - loss: 0.4810 - mean_squared_error: 0.4810 - mean_absolute_error: 0.5648 - val_loss: 0.5000 - val_mean_squared_error: 0.5000 - val_mean_absolute_error: 0.5695\n",
            "Epoch 189/200\n",
            "439/439 [==============================] - 1s 3ms/step - loss: 0.4810 - mean_squared_error: 0.4810 - mean_absolute_error: 0.5643 - val_loss: 0.5042 - val_mean_squared_error: 0.5042 - val_mean_absolute_error: 0.5711\n",
            "Epoch 190/200\n",
            "439/439 [==============================] - 1s 3ms/step - loss: 0.4819 - mean_squared_error: 0.4819 - mean_absolute_error: 0.5645 - val_loss: 0.5080 - val_mean_squared_error: 0.5080 - val_mean_absolute_error: 0.5743\n",
            "Epoch 191/200\n",
            "439/439 [==============================] - 1s 3ms/step - loss: 0.4812 - mean_squared_error: 0.4812 - mean_absolute_error: 0.5642 - val_loss: 0.5043 - val_mean_squared_error: 0.5043 - val_mean_absolute_error: 0.5722\n",
            "Epoch 192/200\n",
            "439/439 [==============================] - 1s 3ms/step - loss: 0.4816 - mean_squared_error: 0.4816 - mean_absolute_error: 0.5649 - val_loss: 0.4995 - val_mean_squared_error: 0.4995 - val_mean_absolute_error: 0.5697\n",
            "Epoch 193/200\n",
            "439/439 [==============================] - 1s 3ms/step - loss: 0.4812 - mean_squared_error: 0.4812 - mean_absolute_error: 0.5640 - val_loss: 0.5010 - val_mean_squared_error: 0.5010 - val_mean_absolute_error: 0.5695\n",
            "Epoch 194/200\n",
            "439/439 [==============================] - 1s 3ms/step - loss: 0.4804 - mean_squared_error: 0.4804 - mean_absolute_error: 0.5639 - val_loss: 0.5102 - val_mean_squared_error: 0.5102 - val_mean_absolute_error: 0.5781\n",
            "Epoch 195/200\n",
            "439/439 [==============================] - 1s 3ms/step - loss: 0.4812 - mean_squared_error: 0.4812 - mean_absolute_error: 0.5638 - val_loss: 0.5030 - val_mean_squared_error: 0.5030 - val_mean_absolute_error: 0.5723\n",
            "Epoch 196/200\n",
            "439/439 [==============================] - 1s 3ms/step - loss: 0.4807 - mean_squared_error: 0.4807 - mean_absolute_error: 0.5640 - val_loss: 0.5006 - val_mean_squared_error: 0.5006 - val_mean_absolute_error: 0.5694\n",
            "Epoch 197/200\n",
            "439/439 [==============================] - 1s 3ms/step - loss: 0.4800 - mean_squared_error: 0.4800 - mean_absolute_error: 0.5641 - val_loss: 0.5040 - val_mean_squared_error: 0.5040 - val_mean_absolute_error: 0.5711\n",
            "Epoch 198/200\n",
            "439/439 [==============================] - 1s 3ms/step - loss: 0.4818 - mean_squared_error: 0.4818 - mean_absolute_error: 0.5649 - val_loss: 0.4999 - val_mean_squared_error: 0.4999 - val_mean_absolute_error: 0.5721\n",
            "Epoch 199/200\n",
            "439/439 [==============================] - 1s 3ms/step - loss: 0.4801 - mean_squared_error: 0.4801 - mean_absolute_error: 0.5636 - val_loss: 0.5007 - val_mean_squared_error: 0.5007 - val_mean_absolute_error: 0.5698\n",
            "Epoch 200/200\n",
            "439/439 [==============================] - 1s 3ms/step - loss: 0.4806 - mean_squared_error: 0.4806 - mean_absolute_error: 0.5636 - val_loss: 0.5010 - val_mean_squared_error: 0.5010 - val_mean_absolute_error: 0.5692\n"
          ]
        }
      ]
    },
    {
      "cell_type": "code",
      "source": [
        "history.history.keys()"
      ],
      "metadata": {
        "id": "ChgYKYQNup-X",
        "outputId": "a1355138-d980-47a7-dc79-4d04ffec42de",
        "colab": {
          "base_uri": "https://localhost:8080/"
        }
      },
      "execution_count": 45,
      "outputs": [
        {
          "output_type": "execute_result",
          "data": {
            "text/plain": [
              "dict_keys(['loss', 'mean_squared_error', 'mean_absolute_error', 'val_loss', 'val_mean_squared_error', 'val_mean_absolute_error'])"
            ]
          },
          "metadata": {},
          "execution_count": 45
        }
      ]
    },
    {
      "cell_type": "code",
      "source": [
        "plt.plot(history.history['loss'], label = \"Tr loss\")\n",
        "plt.plot(history.history['val_mean_squared_error'], label = \"Val loss\")\n",
        "plt.legend()"
      ],
      "metadata": {
        "id": "sRJ2fyVju0gn",
        "outputId": "43250667-2572-464f-eb79-f0379cc2b125",
        "colab": {
          "base_uri": "https://localhost:8080/",
          "height": 294
        }
      },
      "execution_count": 46,
      "outputs": [
        {
          "output_type": "execute_result",
          "data": {
            "text/plain": [
              "<matplotlib.legend.Legend at 0x7f319f521c50>"
            ]
          },
          "metadata": {},
          "execution_count": 46
        },
        {
          "output_type": "display_data",
          "data": {
            "text/plain": [
              "<Figure size 432x288 with 1 Axes>"
            ],
            "image/png": "[encoded data removed]"
          },
          "metadata": {
            "needs_background": "light"
          }
        }
      ]
    },
    {
      "cell_type": "code",
      "source": [
        "model = tf.keras.Sequential()\n",
        "model.add(tf.keras.Input(shape=(9,)))\n",
        "model.add(tf.keras.layers.Dense(20, activation = 'relu'))\n",
        "model.add(tf.keras.layers.Dense(5, activation = 'relu'))\n",
        "model.add(tf.keras.layers.Dense(1))\n",
        "model.summary()\n",
        "tf.keras.utils.plot_model(model, show_shapes=True)\n",
        "\n",
        "model.compile(loss = 'mean_squared_error',\n",
        "              optimizer = 'rmsprop',\n",
        "              metrics = ['mean_squared_error','mean_absolute_error']\n",
        "              )\n",
        "\n",
        "history = model.fit(X_train, y_train, epochs = 200, validation_split = 0.2,)\n",
        "model.summary()\n",
        "history.history.keys()\n",
        "\n",
        "plt.plot(history.history['loss'], label = \"Tr loss\");\n",
        "plt.plot(history.history['val_mean_squared_error'], label = \"Val loss\");\n",
        "plt.legend();"
      ],
      "metadata": {
        "id": "AnOmr6bhy8UR",
        "outputId": "9162a446-4381-4789-e50a-e3b7320af23c",
        "colab": {
          "base_uri": "https://localhost:8080/",
          "height": 1000
        }
      },
      "execution_count": null,
      "outputs": [
        {
          "output_type": "stream",
          "name": "stdout",
          "text": [
            "Model: \"sequential_5\"\n",
            "_________________________________________________________________\n",
            " Layer (type)                Output Shape              Param #   \n",
            "=================================================================\n",
            " dense_16 (Dense)            (None, 20)                200       \n",
            "                                                                 \n",
            " dense_17 (Dense)            (None, 5)                 105       \n",
            "                                                                 \n",
            " dense_18 (Dense)            (None, 1)                 6         \n",
            "                                                                 \n",
            "=================================================================\n",
            "Total params: 311\n",
            "Trainable params: 311\n",
            "Non-trainable params: 0\n",
            "_________________________________________________________________\n",
            "Epoch 1/200\n",
            "439/439 [==============================] - 2s 2ms/step - loss: 56178671616.0000 - mean_squared_error: 56178671616.0000 - mean_absolute_error: 207123.1719 - val_loss: 55234899968.0000 - val_mean_squared_error: 55234899968.0000 - val_mean_absolute_error: 205046.1250\n",
            "Epoch 2/200\n",
            "439/439 [==============================] - 1s 3ms/step - loss: 56166694912.0000 - mean_squared_error: 56166694912.0000 - mean_absolute_error: 207096.6250 - val_loss: 55212392448.0000 - val_mean_squared_error: 55212392448.0000 - val_mean_absolute_error: 204995.7031\n",
            "Epoch 3/200\n",
            "439/439 [==============================] - 2s 3ms/step - loss: 56127361024.0000 - mean_squared_error: 56127361024.0000 - mean_absolute_error: 207009.4688 - val_loss: 55154221056.0000 - val_mean_squared_error: 55154221056.0000 - val_mean_absolute_error: 204867.0156\n",
            "Epoch 4/200\n",
            "439/439 [==============================] - 1s 3ms/step - loss: 56042926080.0000 - mean_squared_error: 56042926080.0000 - mean_absolute_error: 206825.3125 - val_loss: 55043366912.0000 - val_mean_squared_error: 55043366912.0000 - val_mean_absolute_error: 204622.9375\n",
            "Epoch 5/200\n",
            "439/439 [==============================] - 1s 3ms/step - loss: 55895961600.0000 - mean_squared_error: 55895961600.0000 - mean_absolute_error: 206506.2031 - val_loss: 54862811136.0000 - val_mean_squared_error: 54862811136.0000 - val_mean_absolute_error: 204226.3594\n",
            "Epoch 6/200\n",
            "439/439 [==============================] - 1s 2ms/step - loss: 55671599104.0000 - mean_squared_error: 55671599104.0000 - mean_absolute_error: 206017.2031 - val_loss: 54595461120.0000 - val_mean_squared_error: 54595461120.0000 - val_mean_absolute_error: 203639.0312\n",
            "Epoch 7/200\n",
            "439/439 [==============================] - 1s 3ms/step - loss: 55349985280.0000 - mean_squared_error: 55349985280.0000 - mean_absolute_error: 205316.2188 - val_loss: 54226489344.0000 - val_mean_squared_error: 54226489344.0000 - val_mean_absolute_error: 202826.4219\n",
            "Epoch 8/200\n",
            "439/439 [==============================] - 1s 2ms/step - loss: 54917246976.0000 - mean_squared_error: 54917246976.0000 - mean_absolute_error: 204369.9375 - val_loss: 53744373760.0000 - val_mean_squared_error: 53744373760.0000 - val_mean_absolute_error: 201758.4531\n",
            "Epoch 9/200\n",
            "439/439 [==============================] - 1s 2ms/step - loss: 54365532160.0000 - mean_squared_error: 54365532160.0000 - mean_absolute_error: 203154.9531 - val_loss: 53131722752.0000 - val_mean_squared_error: 53131722752.0000 - val_mean_absolute_error: 200392.6562\n",
            "Epoch 10/200\n",
            "439/439 [==============================] - 1s 2ms/step - loss: 53664096256.0000 - mean_squared_error: 53664096256.0000 - mean_absolute_error: 201603.3438 - val_loss: 52370038784.0000 - val_mean_squared_error: 52370038784.0000 - val_mean_absolute_error: 198681.2188\n",
            "Epoch 11/200\n",
            "439/439 [==============================] - 1s 2ms/step - loss: 52823080960.0000 - mean_squared_error: 52823080960.0000 - mean_absolute_error: 199717.4062 - val_loss: 51460325376.0000 - val_mean_squared_error: 51460325376.0000 - val_mean_absolute_error: 196612.8750\n",
            "Epoch 12/200\n",
            "439/439 [==============================] - 1s 2ms/step - loss: 51808993280.0000 - mean_squared_error: 51808993280.0000 - mean_absolute_error: 197423.3750 - val_loss: 50383228928.0000 - val_mean_squared_error: 50383228928.0000 - val_mean_absolute_error: 194141.7656\n",
            "Epoch 13/200\n",
            "439/439 [==============================] - 1s 2ms/step - loss: 50632536064.0000 - mean_squared_error: 50632536064.0000 - mean_absolute_error: 194723.7969 - val_loss: 49140977664.0000 - val_mean_squared_error: 49140977664.0000 - val_mean_absolute_error: 191248.2812\n",
            "Epoch 14/200\n",
            "439/439 [==============================] - 1s 2ms/step - loss: 49278214144.0000 - mean_squared_error: 49278214144.0000 - mean_absolute_error: 191563.5156 - val_loss: 47725346816.0000 - val_mean_squared_error: 47725346816.0000 - val_mean_absolute_error: 187884.0781\n",
            "Epoch 15/200\n",
            "439/439 [==============================] - 1s 2ms/step - loss: 47736352768.0000 - mean_squared_error: 47736352768.0000 - mean_absolute_error: 187910.1875 - val_loss: 46127759360.0000 - val_mean_squared_error: 46127759360.0000 - val_mean_absolute_error: 184001.2344\n",
            "Epoch 16/200\n",
            "439/439 [==============================] - 1s 2ms/step - loss: 46031081472.0000 - mean_squared_error: 46031081472.0000 - mean_absolute_error: 183756.7500 - val_loss: 44369899520.0000 - val_mean_squared_error: 44369899520.0000 - val_mean_absolute_error: 179641.0312\n",
            "Epoch 17/200\n",
            "439/439 [==============================] - 1s 2ms/step - loss: 44159614976.0000 - mean_squared_error: 44159614976.0000 - mean_absolute_error: 179092.1719 - val_loss: 42448236544.0000 - val_mean_squared_error: 42448236544.0000 - val_mean_absolute_error: 174764.8125\n",
            "Epoch 18/200\n",
            "439/439 [==============================] - 1s 2ms/step - loss: 42101682176.0000 - mean_squared_error: 42101682176.0000 - mean_absolute_error: 173920.1875 - val_loss: 40372895744.0000 - val_mean_squared_error: 40372895744.0000 - val_mean_absolute_error: 169385.6719\n",
            "Epoch 19/200\n",
            "439/439 [==============================] - 1s 2ms/step - loss: 39904337920.0000 - mean_squared_error: 39904337920.0000 - mean_absolute_error: 168192.9375 - val_loss: 38167863296.0000 - val_mean_squared_error: 38167863296.0000 - val_mean_absolute_error: 163518.7344\n",
            "Epoch 20/200\n",
            "439/439 [==============================] - 1s 2ms/step - loss: 37596733440.0000 - mean_squared_error: 37596733440.0000 - mean_absolute_error: 161998.9844 - val_loss: 35857387520.0000 - val_mean_squared_error: 35857387520.0000 - val_mean_absolute_error: 157249.7656\n",
            "Epoch 21/200\n",
            "439/439 [==============================] - 1s 2ms/step - loss: 35187208192.0000 - mean_squared_error: 35187208192.0000 - mean_absolute_error: 155374.7344 - val_loss: 33465534464.0000 - val_mean_squared_error: 33465534464.0000 - val_mean_absolute_error: 150552.5469\n",
            "Epoch 22/200\n",
            "439/439 [==============================] - 1s 2ms/step - loss: 32689315840.0000 - mean_squared_error: 32689315840.0000 - mean_absolute_error: 148322.6875 - val_loss: 31018856448.0000 - val_mean_squared_error: 31018856448.0000 - val_mean_absolute_error: 143474.0781\n",
            "Epoch 23/200\n",
            "439/439 [==============================] - 1s 2ms/step - loss: 30147596288.0000 - mean_squared_error: 30147596288.0000 - mean_absolute_error: 140889.3906 - val_loss: 28555188224.0000 - val_mean_squared_error: 28555188224.0000 - val_mean_absolute_error: 136014.2656\n",
            "Epoch 24/200\n",
            "439/439 [==============================] - 1s 2ms/step - loss: 27597322240.0000 - mean_squared_error: 27597322240.0000 - mean_absolute_error: 133205.5469 - val_loss: 26090670080.0000 - val_mean_squared_error: 26090670080.0000 - val_mean_absolute_error: 128244.4453\n",
            "Epoch 25/200\n",
            "439/439 [==============================] - 1s 2ms/step - loss: 25085325312.0000 - mean_squared_error: 25085325312.0000 - mean_absolute_error: 125377.6641 - val_loss: 23695396864.0000 - val_mean_squared_error: 23695396864.0000 - val_mean_absolute_error: 120389.3438\n",
            "Epoch 26/200\n",
            "439/439 [==============================] - 1s 2ms/step - loss: 22652315648.0000 - mean_squared_error: 22652315648.0000 - mean_absolute_error: 117474.6484 - val_loss: 21374449664.0000 - val_mean_squared_error: 21374449664.0000 - val_mean_absolute_error: 112484.3750\n",
            "Epoch 27/200\n",
            "439/439 [==============================] - 1s 2ms/step - loss: 20339728384.0000 - mean_squared_error: 20339728384.0000 - mean_absolute_error: 109634.6094 - val_loss: 19227551744.0000 - val_mean_squared_error: 19227551744.0000 - val_mean_absolute_error: 104905.6172\n",
            "Epoch 28/200\n",
            "439/439 [==============================] - 1s 2ms/step - loss: 18222776320.0000 - mean_squared_error: 18222776320.0000 - mean_absolute_error: 102220.2812 - val_loss: 17285888000.0000 - val_mean_squared_error: 17285888000.0000 - val_mean_absolute_error: 97943.2734\n",
            "Epoch 29/200\n",
            "439/439 [==============================] - 1s 2ms/step - loss: 16357681152.0000 - mean_squared_error: 16357681152.0000 - mean_absolute_error: 95574.0469 - val_loss: 15621285888.0000 - val_mean_squared_error: 15621285888.0000 - val_mean_absolute_error: 91917.3359\n",
            "Epoch 30/200\n",
            "439/439 [==============================] - 1s 2ms/step - loss: 14773892096.0000 - mean_squared_error: 14773892096.0000 - mean_absolute_error: 89921.7031 - val_loss: 14259621888.0000 - val_mean_squared_error: 14259621888.0000 - val_mean_absolute_error: 87138.3594\n",
            "Epoch 31/200\n",
            "439/439 [==============================] - 1s 2ms/step - loss: 13550092288.0000 - mean_squared_error: 13550092288.0000 - mean_absolute_error: 85601.4297 - val_loss: 13238390784.0000 - val_mean_squared_error: 13238390784.0000 - val_mean_absolute_error: 83680.7969\n",
            "Epoch 32/200\n",
            "439/439 [==============================] - 1s 2ms/step - loss: 12648585216.0000 - mean_squared_error: 12648585216.0000 - mean_absolute_error: 82464.4609 - val_loss: 12485068800.0000 - val_mean_squared_error: 12485068800.0000 - val_mean_absolute_error: 81148.5703\n",
            "Epoch 33/200\n",
            "439/439 [==============================] - 1s 2ms/step - loss: 11988500480.0000 - mean_squared_error: 11988500480.0000 - mean_absolute_error: 80190.7031 - val_loss: 11953701888.0000 - val_mean_squared_error: 11953701888.0000 - val_mean_absolute_error: 79416.8984\n",
            "Epoch 34/200\n",
            "439/439 [==============================] - 1s 2ms/step - loss: 11519256576.0000 - mean_squared_error: 11519256576.0000 - mean_absolute_error: 78460.4609 - val_loss: 11558486016.0000 - val_mean_squared_error: 11558486016.0000 - val_mean_absolute_error: 78076.7344\n",
            "Epoch 35/200\n",
            "439/439 [==============================] - 1s 2ms/step - loss: 11163635712.0000 - mean_squared_error: 11163635712.0000 - mean_absolute_error: 77112.0391 - val_loss: 11231083520.0000 - val_mean_squared_error: 11231083520.0000 - val_mean_absolute_error: 76922.5859\n",
            "Epoch 36/200\n",
            "439/439 [==============================] - 1s 2ms/step - loss: 10863908864.0000 - mean_squared_error: 10863908864.0000 - mean_absolute_error: 75911.5156 - val_loss: 10940447744.0000 - val_mean_squared_error: 10940447744.0000 - val_mean_absolute_error: 75814.8828\n",
            "Epoch 37/200\n",
            "439/439 [==============================] - 1s 2ms/step - loss: 10588080128.0000 - mean_squared_error: 10588080128.0000 - mean_absolute_error: 74828.4453 - val_loss: 10672180224.0000 - val_mean_squared_error: 10672180224.0000 - val_mean_absolute_error: 74752.6172\n",
            "Epoch 38/200\n",
            "439/439 [==============================] - 1s 2ms/step - loss: 10342533120.0000 - mean_squared_error: 10342533120.0000 - mean_absolute_error: 73784.8359 - val_loss: 10417717248.0000 - val_mean_squared_error: 10417717248.0000 - val_mean_absolute_error: 73722.9453\n",
            "Epoch 39/200\n",
            "439/439 [==============================] - 1s 2ms/step - loss: 10107649024.0000 - mean_squared_error: 10107649024.0000 - mean_absolute_error: 72827.0000 - val_loss: 10172371968.0000 - val_mean_squared_error: 10172371968.0000 - val_mean_absolute_error: 72747.1562\n",
            "Epoch 40/200\n",
            "439/439 [==============================] - 1s 2ms/step - loss: 9876779008.0000 - mean_squared_error: 9876779008.0000 - mean_absolute_error: 71904.8125 - val_loss: 9934288896.0000 - val_mean_squared_error: 9934288896.0000 - val_mean_absolute_error: 71807.4453\n",
            "Epoch 41/200\n",
            "439/439 [==============================] - 1s 2ms/step - loss: 9665204224.0000 - mean_squared_error: 9665204224.0000 - mean_absolute_error: 71037.2812 - val_loss: 9713282048.0000 - val_mean_squared_error: 9713282048.0000 - val_mean_absolute_error: 70908.6797\n",
            "Epoch 42/200\n",
            "439/439 [==============================] - 1s 2ms/step - loss: 9466518528.0000 - mean_squared_error: 9466518528.0000 - mean_absolute_error: 70218.3359 - val_loss: 9504934912.0000 - val_mean_squared_error: 9504934912.0000 - val_mean_absolute_error: 70062.8594\n",
            "Epoch 43/200\n",
            "439/439 [==============================] - 1s 2ms/step - loss: 9273849856.0000 - mean_squared_error: 9273849856.0000 - mean_absolute_error: 69424.6719 - val_loss: 9306318848.0000 - val_mean_squared_error: 9306318848.0000 - val_mean_absolute_error: 69244.5781\n",
            "Epoch 44/200\n",
            "439/439 [==============================] - 1s 2ms/step - loss: 9085307904.0000 - mean_squared_error: 9085307904.0000 - mean_absolute_error: 68646.1094 - val_loss: 9111724032.0000 - val_mean_squared_error: 9111724032.0000 - val_mean_absolute_error: 68451.5859\n",
            "Epoch 45/200\n",
            "439/439 [==============================] - 1s 2ms/step - loss: 8905257984.0000 - mean_squared_error: 8905257984.0000 - mean_absolute_error: 67881.3516 - val_loss: 8922175488.0000 - val_mean_squared_error: 8922175488.0000 - val_mean_absolute_error: 67699.9922\n",
            "Epoch 46/200\n",
            "439/439 [==============================] - 1s 2ms/step - loss: 8735831040.0000 - mean_squared_error: 8735831040.0000 - mean_absolute_error: 67167.6953 - val_loss: 8743190528.0000 - val_mean_squared_error: 8743190528.0000 - val_mean_absolute_error: 66973.2344\n",
            "Epoch 47/200\n",
            "439/439 [==============================] - 1s 2ms/step - loss: 8569863680.0000 - mean_squared_error: 8569863680.0000 - mean_absolute_error: 66495.3828 - val_loss: 8570581504.0000 - val_mean_squared_error: 8570581504.0000 - val_mean_absolute_error: 66265.7734\n",
            "Epoch 48/200\n",
            "439/439 [==============================] - 1s 2ms/step - loss: 8410209280.0000 - mean_squared_error: 8410209280.0000 - mean_absolute_error: 65821.1797 - val_loss: 8399881216.0000 - val_mean_squared_error: 8399881216.0000 - val_mean_absolute_error: 65574.9844\n",
            "Epoch 49/200\n",
            "439/439 [==============================] - 1s 2ms/step - loss: 8253955072.0000 - mean_squared_error: 8253955072.0000 - mean_absolute_error: 65183.2500 - val_loss: 8234729472.0000 - val_mean_squared_error: 8234729472.0000 - val_mean_absolute_error: 64911.4648\n",
            "Epoch 50/200\n",
            "439/439 [==============================] - 1s 2ms/step - loss: 8105521664.0000 - mean_squared_error: 8105521664.0000 - mean_absolute_error: 64548.0273 - val_loss: 8084485120.0000 - val_mean_squared_error: 8084485120.0000 - val_mean_absolute_error: 64298.2930\n",
            "Epoch 51/200\n",
            "439/439 [==============================] - 1s 2ms/step - loss: 7966429184.0000 - mean_squared_error: 7966429184.0000 - mean_absolute_error: 64000.8477 - val_loss: 7934169088.0000 - val_mean_squared_error: 7934169088.0000 - val_mean_absolute_error: 63721.6953\n",
            "Epoch 52/200\n",
            "439/439 [==============================] - 1s 2ms/step - loss: 7829302784.0000 - mean_squared_error: 7829302784.0000 - mean_absolute_error: 63453.6641 - val_loss: 7787693056.0000 - val_mean_squared_error: 7787693056.0000 - val_mean_absolute_error: 63139.8867\n",
            "Epoch 53/200\n",
            "439/439 [==============================] - 1s 2ms/step - loss: 7693021184.0000 - mean_squared_error: 7693021184.0000 - mean_absolute_error: 62895.1797 - val_loss: 7648081920.0000 - val_mean_squared_error: 7648081920.0000 - val_mean_absolute_error: 62571.2227\n",
            "Epoch 54/200\n",
            "439/439 [==============================] - 1s 2ms/step - loss: 7564367872.0000 - mean_squared_error: 7564367872.0000 - mean_absolute_error: 62344.4297 - val_loss: 7512064000.0000 - val_mean_squared_error: 7512064000.0000 - val_mean_absolute_error: 62045.8125\n",
            "Epoch 55/200\n",
            "439/439 [==============================] - 1s 2ms/step - loss: 7437987328.0000 - mean_squared_error: 7437987328.0000 - mean_absolute_error: 61827.2188 - val_loss: 7381214208.0000 - val_mean_squared_error: 7381214208.0000 - val_mean_absolute_error: 61539.9492\n",
            "Epoch 56/200\n",
            "439/439 [==============================] - 1s 2ms/step - loss: 7318767104.0000 - mean_squared_error: 7318767104.0000 - mean_absolute_error: 61325.2617 - val_loss: 7256982528.0000 - val_mean_squared_error: 7256982528.0000 - val_mean_absolute_error: 61053.6172\n",
            "Epoch 57/200\n",
            "439/439 [==============================] - 1s 2ms/step - loss: 7202498048.0000 - mean_squared_error: 7202498048.0000 - mean_absolute_error: 60852.6953 - val_loss: 7134835200.0000 - val_mean_squared_error: 7134835200.0000 - val_mean_absolute_error: 60563.8086\n",
            "Epoch 58/200\n",
            "439/439 [==============================] - 1s 2ms/step - loss: 7089402368.0000 - mean_squared_error: 7089402368.0000 - mean_absolute_error: 60374.3477 - val_loss: 7013858304.0000 - val_mean_squared_error: 7013858304.0000 - val_mean_absolute_error: 60094.7383\n",
            "Epoch 59/200\n",
            "439/439 [==============================] - 1s 2ms/step - loss: 6979640320.0000 - mean_squared_error: 6979640320.0000 - mean_absolute_error: 59935.8672 - val_loss: 6900241408.0000 - val_mean_squared_error: 6900241408.0000 - val_mean_absolute_error: 59632.2422\n",
            "Epoch 60/200\n",
            "439/439 [==============================] - 1s 2ms/step - loss: 6878308352.0000 - mean_squared_error: 6878308352.0000 - mean_absolute_error: 59513.7773 - val_loss: 6795264512.0000 - val_mean_squared_error: 6795264512.0000 - val_mean_absolute_error: 59218.9219\n",
            "Epoch 61/200\n",
            "439/439 [==============================] - 1s 2ms/step - loss: 6774838272.0000 - mean_squared_error: 6774838272.0000 - mean_absolute_error: 59067.1719 - val_loss: 6687746048.0000 - val_mean_squared_error: 6687746048.0000 - val_mean_absolute_error: 58821.1484\n",
            "Epoch 62/200\n",
            "439/439 [==============================] - 1s 2ms/step - loss: 6678582272.0000 - mean_squared_error: 6678582272.0000 - mean_absolute_error: 58681.6523 - val_loss: 6588619264.0000 - val_mean_squared_error: 6588619264.0000 - val_mean_absolute_error: 58413.0469\n",
            "Epoch 63/200\n",
            "439/439 [==============================] - 1s 2ms/step - loss: 6584194560.0000 - mean_squared_error: 6584194560.0000 - mean_absolute_error: 58280.0312 - val_loss: 6489221120.0000 - val_mean_squared_error: 6489221120.0000 - val_mean_absolute_error: 58038.1836\n",
            "Epoch 64/200\n",
            "439/439 [==============================] - 1s 2ms/step - loss: 6495016960.0000 - mean_squared_error: 6495016960.0000 - mean_absolute_error: 57916.7344 - val_loss: 6394464256.0000 - val_mean_squared_error: 6394464256.0000 - val_mean_absolute_error: 57647.0547\n",
            "Epoch 65/200\n",
            "439/439 [==============================] - 1s 2ms/step - loss: 6407357440.0000 - mean_squared_error: 6407357440.0000 - mean_absolute_error: 57524.8828 - val_loss: 6306145280.0000 - val_mean_squared_error: 6306145280.0000 - val_mean_absolute_error: 57296.8242\n",
            "Epoch 66/200\n",
            "439/439 [==============================] - 1s 2ms/step - loss: 6324521984.0000 - mean_squared_error: 6324521984.0000 - mean_absolute_error: 57176.6641 - val_loss: 6218499584.0000 - val_mean_squared_error: 6218499584.0000 - val_mean_absolute_error: 56957.0039\n",
            "Epoch 67/200\n",
            "439/439 [==============================] - 1s 2ms/step - loss: 6246214144.0000 - mean_squared_error: 6246214144.0000 - mean_absolute_error: 56837.7383 - val_loss: 6139120128.0000 - val_mean_squared_error: 6139120128.0000 - val_mean_absolute_error: 56610.3164\n",
            "Epoch 68/200\n",
            "439/439 [==============================] - 1s 2ms/step - loss: 6170170880.0000 - mean_squared_error: 6170170880.0000 - mean_absolute_error: 56489.3633 - val_loss: 6056865280.0000 - val_mean_squared_error: 6056865280.0000 - val_mean_absolute_error: 56261.6758\n",
            "Epoch 69/200\n",
            "439/439 [==============================] - 1s 2ms/step - loss: 6093554176.0000 - mean_squared_error: 6093554176.0000 - mean_absolute_error: 56174.4219 - val_loss: 5979017216.0000 - val_mean_squared_error: 5979017216.0000 - val_mean_absolute_error: 55927.1953\n",
            "Epoch 70/200\n",
            "439/439 [==============================] - 1s 2ms/step - loss: 6023981056.0000 - mean_squared_error: 6023981056.0000 - mean_absolute_error: 55876.3516 - val_loss: 5907777536.0000 - val_mean_squared_error: 5907777536.0000 - val_mean_absolute_error: 55614.7695\n",
            "Epoch 71/200\n",
            "439/439 [==============================] - 1s 2ms/step - loss: 5955861504.0000 - mean_squared_error: 5955861504.0000 - mean_absolute_error: 55552.1523 - val_loss: 5839071744.0000 - val_mean_squared_error: 5839071744.0000 - val_mean_absolute_error: 55333.6172\n",
            "Epoch 72/200\n",
            "439/439 [==============================] - 1s 2ms/step - loss: 5891714560.0000 - mean_squared_error: 5891714560.0000 - mean_absolute_error: 55278.9375 - val_loss: 5770777088.0000 - val_mean_squared_error: 5770777088.0000 - val_mean_absolute_error: 55050.1133\n",
            "Epoch 73/200\n",
            "439/439 [==============================] - 1s 2ms/step - loss: 5831319552.0000 - mean_squared_error: 5831319552.0000 - mean_absolute_error: 54999.8125 - val_loss: 5709000192.0000 - val_mean_squared_error: 5709000192.0000 - val_mean_absolute_error: 54781.6484\n",
            "Epoch 74/200\n",
            "439/439 [==============================] - 1s 2ms/step - loss: 5773031424.0000 - mean_squared_error: 5773031424.0000 - mean_absolute_error: 54751.4609 - val_loss: 5648338944.0000 - val_mean_squared_error: 5648338944.0000 - val_mean_absolute_error: 54508.0234\n",
            "Epoch 75/200\n",
            "439/439 [==============================] - 1s 2ms/step - loss: 5716384256.0000 - mean_squared_error: 5716384256.0000 - mean_absolute_error: 54487.2969 - val_loss: 5589988352.0000 - val_mean_squared_error: 5589988352.0000 - val_mean_absolute_error: 54254.5781\n",
            "Epoch 76/200\n",
            "439/439 [==============================] - 1s 2ms/step - loss: 5663120896.0000 - mean_squared_error: 5663120896.0000 - mean_absolute_error: 54273.7656 - val_loss: 5535330304.0000 - val_mean_squared_error: 5535330304.0000 - val_mean_absolute_error: 54014.6875\n",
            "Epoch 77/200\n",
            "439/439 [==============================] - 1s 2ms/step - loss: 5612743680.0000 - mean_squared_error: 5612743680.0000 - mean_absolute_error: 54006.4453 - val_loss: 5483799040.0000 - val_mean_squared_error: 5483799040.0000 - val_mean_absolute_error: 53796.5078\n",
            "Epoch 78/200\n",
            "439/439 [==============================] - 1s 2ms/step - loss: 5566952960.0000 - mean_squared_error: 5566952960.0000 - mean_absolute_error: 53854.5039 - val_loss: 5437901312.0000 - val_mean_squared_error: 5437901312.0000 - val_mean_absolute_error: 53575.5117\n",
            "Epoch 79/200\n",
            "439/439 [==============================] - 1s 2ms/step - loss: 5523598848.0000 - mean_squared_error: 5523598848.0000 - mean_absolute_error: 53585.6055 - val_loss: 5394123776.0000 - val_mean_squared_error: 5394123776.0000 - val_mean_absolute_error: 53372.1680\n",
            "Epoch 80/200\n",
            "439/439 [==============================] - 1s 2ms/step - loss: 5484240384.0000 - mean_squared_error: 5484240384.0000 - mean_absolute_error: 53434.9023 - val_loss: 5355006464.0000 - val_mean_squared_error: 5355006464.0000 - val_mean_absolute_error: 53171.4648\n",
            "Epoch 81/200\n",
            "439/439 [==============================] - 1s 2ms/step - loss: 5446228480.0000 - mean_squared_error: 5446228480.0000 - mean_absolute_error: 53273.3438 - val_loss: 5316868608.0000 - val_mean_squared_error: 5316868608.0000 - val_mean_absolute_error: 52961.4453\n",
            "Epoch 82/200\n",
            "439/439 [==============================] - 1s 2ms/step - loss: 5410362880.0000 - mean_squared_error: 5410362880.0000 - mean_absolute_error: 53040.1680 - val_loss: 5278995968.0000 - val_mean_squared_error: 5278995968.0000 - val_mean_absolute_error: 52804.4922\n",
            "Epoch 83/200\n",
            "439/439 [==============================] - 1s 2ms/step - loss: 5375982592.0000 - mean_squared_error: 5375982592.0000 - mean_absolute_error: 52900.7109 - val_loss: 5243942400.0000 - val_mean_squared_error: 5243942400.0000 - val_mean_absolute_error: 52615.7734\n",
            "Epoch 84/200\n",
            "439/439 [==============================] - 1s 2ms/step - loss: 5344644608.0000 - mean_squared_error: 5344644608.0000 - mean_absolute_error: 52708.5117 - val_loss: 5212383232.0000 - val_mean_squared_error: 5212383232.0000 - val_mean_absolute_error: 52494.8242\n",
            "Epoch 85/200\n",
            "439/439 [==============================] - 1s 2ms/step - loss: 5314587648.0000 - mean_squared_error: 5314587648.0000 - mean_absolute_error: 52592.7891 - val_loss: 5182051840.0000 - val_mean_squared_error: 5182051840.0000 - val_mean_absolute_error: 52335.2148\n",
            "Epoch 86/200\n",
            "439/439 [==============================] - 1s 2ms/step - loss: 5286146560.0000 - mean_squared_error: 5286146560.0000 - mean_absolute_error: 52447.8750 - val_loss: 5153125376.0000 - val_mean_squared_error: 5153125376.0000 - val_mean_absolute_error: 52177.3516\n",
            "Epoch 87/200\n",
            "439/439 [==============================] - 1s 2ms/step - loss: 5259705856.0000 - mean_squared_error: 5259705856.0000 - mean_absolute_error: 52310.3516 - val_loss: 5127095808.0000 - val_mean_squared_error: 5127095808.0000 - val_mean_absolute_error: 52044.7383\n",
            "Epoch 88/200\n",
            "439/439 [==============================] - 1s 2ms/step - loss: 5233913856.0000 - mean_squared_error: 5233913856.0000 - mean_absolute_error: 52149.0195 - val_loss: 5100705792.0000 - val_mean_squared_error: 5100705792.0000 - val_mean_absolute_error: 51921.7812\n",
            "Epoch 89/200\n",
            "439/439 [==============================] - 1s 2ms/step - loss: 5210128896.0000 - mean_squared_error: 5210128896.0000 - mean_absolute_error: 52031.2578 - val_loss: 5076928512.0000 - val_mean_squared_error: 5076928512.0000 - val_mean_absolute_error: 51801.7383\n",
            "Epoch 90/200\n",
            "439/439 [==============================] - 1s 2ms/step - loss: 5187613184.0000 - mean_squared_error: 5187613184.0000 - mean_absolute_error: 51972.5000 - val_loss: 5053817856.0000 - val_mean_squared_error: 5053817856.0000 - val_mean_absolute_error: 51636.5195\n",
            "Epoch 91/200\n",
            "439/439 [==============================] - 1s 2ms/step - loss: 5165384192.0000 - mean_squared_error: 5165384192.0000 - mean_absolute_error: 51820.7930 - val_loss: 5031253504.0000 - val_mean_squared_error: 5031253504.0000 - val_mean_absolute_error: 51497.5195\n",
            "Epoch 92/200\n",
            "439/439 [==============================] - 1s 2ms/step - loss: 5144265216.0000 - mean_squared_error: 5144265216.0000 - mean_absolute_error: 51705.9570 - val_loss: 5010506240.0000 - val_mean_squared_error: 5010506240.0000 - val_mean_absolute_error: 51372.9297\n",
            "Epoch 93/200\n",
            "439/439 [==============================] - 1s 2ms/step - loss: 5124448768.0000 - mean_squared_error: 5124448768.0000 - mean_absolute_error: 51595.1055 - val_loss: 4991706112.0000 - val_mean_squared_error: 4991706112.0000 - val_mean_absolute_error: 51254.2656\n",
            "Epoch 94/200\n",
            "439/439 [==============================] - 1s 2ms/step - loss: 5106078208.0000 - mean_squared_error: 5106078208.0000 - mean_absolute_error: 51482.3086 - val_loss: 4970746368.0000 - val_mean_squared_error: 4970746368.0000 - val_mean_absolute_error: 51162.7617\n",
            "Epoch 95/200\n",
            "439/439 [==============================] - 1s 2ms/step - loss: 5087425536.0000 - mean_squared_error: 5087425536.0000 - mean_absolute_error: 51397.5117 - val_loss: 4952093696.0000 - val_mean_squared_error: 4952093696.0000 - val_mean_absolute_error: 51078.9336\n",
            "Epoch 96/200\n",
            "439/439 [==============================] - 1s 2ms/step - loss: 5070226432.0000 - mean_squared_error: 5070226432.0000 - mean_absolute_error: 51325.1055 - val_loss: 4934828032.0000 - val_mean_squared_error: 4934828032.0000 - val_mean_absolute_error: 50953.1406\n",
            "Epoch 97/200\n",
            "439/439 [==============================] - 1s 2ms/step - loss: 5053816832.0000 - mean_squared_error: 5053816832.0000 - mean_absolute_error: 51186.6797 - val_loss: 4918171136.0000 - val_mean_squared_error: 4918171136.0000 - val_mean_absolute_error: 50874.1172\n",
            "Epoch 98/200\n",
            "439/439 [==============================] - 1s 2ms/step - loss: 5037612032.0000 - mean_squared_error: 5037612032.0000 - mean_absolute_error: 51093.5625 - val_loss: 4900776960.0000 - val_mean_squared_error: 4900776960.0000 - val_mean_absolute_error: 50802.7148\n",
            "Epoch 99/200\n",
            "439/439 [==============================] - 1s 2ms/step - loss: 5021632512.0000 - mean_squared_error: 5021632512.0000 - mean_absolute_error: 51039.0312 - val_loss: 4885247488.0000 - val_mean_squared_error: 4885247488.0000 - val_mean_absolute_error: 50710.6992\n",
            "Epoch 100/200\n",
            "439/439 [==============================] - 1s 2ms/step - loss: 5007007744.0000 - mean_squared_error: 5007007744.0000 - mean_absolute_error: 50965.4492 - val_loss: 4869395456.0000 - val_mean_squared_error: 4869395456.0000 - val_mean_absolute_error: 50611.6719\n",
            "Epoch 101/200\n",
            "439/439 [==============================] - 1s 2ms/step - loss: 4992714240.0000 - mean_squared_error: 4992714240.0000 - mean_absolute_error: 50851.8516 - val_loss: 4854660608.0000 - val_mean_squared_error: 4854660608.0000 - val_mean_absolute_error: 50547.9062\n",
            "Epoch 102/200\n",
            "439/439 [==============================] - 1s 2ms/step - loss: 4979257856.0000 - mean_squared_error: 4979257856.0000 - mean_absolute_error: 50825.5156 - val_loss: 4839998976.0000 - val_mean_squared_error: 4839998976.0000 - val_mean_absolute_error: 50413.9297\n",
            "Epoch 103/200\n",
            "439/439 [==============================] - 1s 2ms/step - loss: 4966031360.0000 - mean_squared_error: 4966031360.0000 - mean_absolute_error: 50712.3945 - val_loss: 4825591808.0000 - val_mean_squared_error: 4825591808.0000 - val_mean_absolute_error: 50370.3398\n",
            "Epoch 104/200\n",
            "439/439 [==============================] - 1s 2ms/step - loss: 4953447936.0000 - mean_squared_error: 4953447936.0000 - mean_absolute_error: 50635.6992 - val_loss: 4813479424.0000 - val_mean_squared_error: 4813479424.0000 - val_mean_absolute_error: 50320.0156\n",
            "Epoch 105/200\n",
            "439/439 [==============================] - 1s 2ms/step - loss: 4941760000.0000 - mean_squared_error: 4941760000.0000 - mean_absolute_error: 50599.8359 - val_loss: 4801164800.0000 - val_mean_squared_error: 4801164800.0000 - val_mean_absolute_error: 50214.2891\n",
            "Epoch 106/200\n",
            "439/439 [==============================] - 1s 2ms/step - loss: 4929711616.0000 - mean_squared_error: 4929711616.0000 - mean_absolute_error: 50522.9805 - val_loss: 4788976640.0000 - val_mean_squared_error: 4788976640.0000 - val_mean_absolute_error: 50115.4297\n",
            "Epoch 107/200\n",
            "439/439 [==============================] - 1s 2ms/step - loss: 4918096896.0000 - mean_squared_error: 4918096896.0000 - mean_absolute_error: 50414.4805 - val_loss: 4777103872.0000 - val_mean_squared_error: 4777103872.0000 - val_mean_absolute_error: 50077.6719\n",
            "Epoch 108/200\n",
            "439/439 [==============================] - 1s 2ms/step - loss: 4907173888.0000 - mean_squared_error: 4907173888.0000 - mean_absolute_error: 50354.7891 - val_loss: 4765774336.0000 - val_mean_squared_error: 4765774336.0000 - val_mean_absolute_error: 50053.9648\n",
            "Epoch 109/200\n",
            "439/439 [==============================] - 1s 2ms/step - loss: 4896454144.0000 - mean_squared_error: 4896454144.0000 - mean_absolute_error: 50329.3750 - val_loss: 4754177024.0000 - val_mean_squared_error: 4754177024.0000 - val_mean_absolute_error: 49968.5195\n",
            "Epoch 110/200\n",
            "439/439 [==============================] - 1s 2ms/step - loss: 4885680128.0000 - mean_squared_error: 4885680128.0000 - mean_absolute_error: 50271.6250 - val_loss: 4744553472.0000 - val_mean_squared_error: 4744553472.0000 - val_mean_absolute_error: 49875.5742\n",
            "Epoch 111/200\n",
            "439/439 [==============================] - 1s 2ms/step - loss: 4875899904.0000 - mean_squared_error: 4875899904.0000 - mean_absolute_error: 50184.0586 - val_loss: 4733559296.0000 - val_mean_squared_error: 4733559296.0000 - val_mean_absolute_error: 49831.7305\n",
            "Epoch 112/200\n",
            "439/439 [==============================] - 1s 3ms/step - loss: 4866166784.0000 - mean_squared_error: 4866166784.0000 - mean_absolute_error: 50123.8867 - val_loss: 4724280832.0000 - val_mean_squared_error: 4724280832.0000 - val_mean_absolute_error: 49777.3984\n",
            "Epoch 113/200\n",
            "439/439 [==============================] - 2s 4ms/step - loss: 4856965120.0000 - mean_squared_error: 4856965120.0000 - mean_absolute_error: 50096.6836 - val_loss: 4713866240.0000 - val_mean_squared_error: 4713866240.0000 - val_mean_absolute_error: 49711.8438\n",
            "Epoch 114/200\n",
            "439/439 [==============================] - 2s 4ms/step - loss: 4847275008.0000 - mean_squared_error: 4847275008.0000 - mean_absolute_error: 50013.2852 - val_loss: 4705020928.0000 - val_mean_squared_error: 4705020928.0000 - val_mean_absolute_error: 49669.4531\n",
            "Epoch 115/200\n",
            "439/439 [==============================] - 2s 4ms/step - loss: 4838368768.0000 - mean_squared_error: 4838368768.0000 - mean_absolute_error: 49953.9102 - val_loss: 4694763520.0000 - val_mean_squared_error: 4694763520.0000 - val_mean_absolute_error: 49618.9727\n",
            "Epoch 116/200\n",
            "439/439 [==============================] - 1s 2ms/step - loss: 4828982272.0000 - mean_squared_error: 4828982272.0000 - mean_absolute_error: 49952.4570 - val_loss: 4685779968.0000 - val_mean_squared_error: 4685779968.0000 - val_mean_absolute_error: 49520.1836\n",
            "Epoch 117/200\n",
            "439/439 [==============================] - 1s 2ms/step - loss: 4820342272.0000 - mean_squared_error: 4820342272.0000 - mean_absolute_error: 49836.1875 - val_loss: 4675955200.0000 - val_mean_squared_error: 4675955200.0000 - val_mean_absolute_error: 49503.2344\n",
            "Epoch 118/200\n",
            "439/439 [==============================] - 1s 2ms/step - loss: 4811907584.0000 - mean_squared_error: 4811907584.0000 - mean_absolute_error: 49813.7148 - val_loss: 4667692544.0000 - val_mean_squared_error: 4667692544.0000 - val_mean_absolute_error: 49468.8203\n",
            "Epoch 119/200\n",
            "439/439 [==============================] - 1s 2ms/step - loss: 4803927552.0000 - mean_squared_error: 4803927552.0000 - mean_absolute_error: 49800.6719 - val_loss: 4659662336.0000 - val_mean_squared_error: 4659662336.0000 - val_mean_absolute_error: 49381.4180\n",
            "Epoch 120/200\n",
            "439/439 [==============================] - 1s 2ms/step - loss: 4796016128.0000 - mean_squared_error: 4796016128.0000 - mean_absolute_error: 49724.0859 - val_loss: 4651295232.0000 - val_mean_squared_error: 4651295232.0000 - val_mean_absolute_error: 49353.2227\n",
            "Epoch 121/200\n",
            "439/439 [==============================] - 1s 2ms/step - loss: 4787957248.0000 - mean_squared_error: 4787957248.0000 - mean_absolute_error: 49636.0625 - val_loss: 4644266496.0000 - val_mean_squared_error: 4644266496.0000 - val_mean_absolute_error: 49357.6055\n",
            "Epoch 122/200\n",
            "439/439 [==============================] - 1s 2ms/step - loss: 4781381120.0000 - mean_squared_error: 4781381120.0000 - mean_absolute_error: 49647.6875 - val_loss: 4636703744.0000 - val_mean_squared_error: 4636703744.0000 - val_mean_absolute_error: 49293.5703\n",
            "Epoch 123/200\n",
            "439/439 [==============================] - 1s 2ms/step - loss: 4773928960.0000 - mean_squared_error: 4773928960.0000 - mean_absolute_error: 49591.5820 - val_loss: 4628651008.0000 - val_mean_squared_error: 4628651008.0000 - val_mean_absolute_error: 49234.8711\n",
            "Epoch 124/200\n",
            "439/439 [==============================] - 1s 2ms/step - loss: 4766667776.0000 - mean_squared_error: 4766667776.0000 - mean_absolute_error: 49565.0977 - val_loss: 4622398464.0000 - val_mean_squared_error: 4622398464.0000 - val_mean_absolute_error: 49181.1562\n",
            "Epoch 125/200\n",
            "439/439 [==============================] - 1s 2ms/step - loss: 4759780352.0000 - mean_squared_error: 4759780352.0000 - mean_absolute_error: 49506.6523 - val_loss: 4615544320.0000 - val_mean_squared_error: 4615544320.0000 - val_mean_absolute_error: 49163.6367\n",
            "Epoch 126/200\n",
            "439/439 [==============================] - 1s 2ms/step - loss: 4753391104.0000 - mean_squared_error: 4753391104.0000 - mean_absolute_error: 49459.1016 - val_loss: 4609172992.0000 - val_mean_squared_error: 4609172992.0000 - val_mean_absolute_error: 49106.4570\n",
            "Epoch 127/200\n",
            "439/439 [==============================] - 1s 2ms/step - loss: 4747008512.0000 - mean_squared_error: 4747008512.0000 - mean_absolute_error: 49446.3047 - val_loss: 4603058688.0000 - val_mean_squared_error: 4603058688.0000 - val_mean_absolute_error: 49032.7148\n",
            "Epoch 128/200\n",
            "439/439 [==============================] - 1s 3ms/step - loss: 4740796416.0000 - mean_squared_error: 4740796416.0000 - mean_absolute_error: 49341.1992 - val_loss: 4597226496.0000 - val_mean_squared_error: 4597226496.0000 - val_mean_absolute_error: 49040.2188\n",
            "Epoch 129/200\n",
            "439/439 [==============================] - 1s 3ms/step - loss: 4734850048.0000 - mean_squared_error: 4734850048.0000 - mean_absolute_error: 49339.7500 - val_loss: 4590484992.0000 - val_mean_squared_error: 4590484992.0000 - val_mean_absolute_error: 49006.7656\n",
            "Epoch 130/200\n",
            "439/439 [==============================] - 1s 2ms/step - loss: 4728954880.0000 - mean_squared_error: 4728954880.0000 - mean_absolute_error: 49309.1445 - val_loss: 4584512000.0000 - val_mean_squared_error: 4584512000.0000 - val_mean_absolute_error: 48962.9688\n",
            "Epoch 131/200\n",
            "439/439 [==============================] - 1s 2ms/step - loss: 4723094016.0000 - mean_squared_error: 4723094016.0000 - mean_absolute_error: 49261.6328 - val_loss: 4578697728.0000 - val_mean_squared_error: 4578697728.0000 - val_mean_absolute_error: 48907.5039\n",
            "Epoch 132/200\n",
            "439/439 [==============================] - 1s 2ms/step - loss: 4717434880.0000 - mean_squared_error: 4717434880.0000 - mean_absolute_error: 49236.4453 - val_loss: 4573395456.0000 - val_mean_squared_error: 4573395456.0000 - val_mean_absolute_error: 48871.0078\n",
            "Epoch 133/200\n",
            "439/439 [==============================] - 1s 2ms/step - loss: 4711791616.0000 - mean_squared_error: 4711791616.0000 - mean_absolute_error: 49158.8828 - val_loss: 4567795712.0000 - val_mean_squared_error: 4567795712.0000 - val_mean_absolute_error: 48867.2148\n",
            "Epoch 134/200\n",
            "439/439 [==============================] - 1s 2ms/step - loss: 4706981376.0000 - mean_squared_error: 4706981376.0000 - mean_absolute_error: 49205.0703 - val_loss: 4562911744.0000 - val_mean_squared_error: 4562911744.0000 - val_mean_absolute_error: 48800.2109\n",
            "Epoch 135/200\n",
            "439/439 [==============================] - 1s 2ms/step - loss: 4701665792.0000 - mean_squared_error: 4701665792.0000 - mean_absolute_error: 49146.0508 - val_loss: 4558540800.0000 - val_mean_squared_error: 4558540800.0000 - val_mean_absolute_error: 48750.3203\n",
            "Epoch 136/200\n",
            "439/439 [==============================] - 1s 2ms/step - loss: 4696543232.0000 - mean_squared_error: 4696543232.0000 - mean_absolute_error: 49065.2578 - val_loss: 4553255424.0000 - val_mean_squared_error: 4553255424.0000 - val_mean_absolute_error: 48755.5078\n",
            "Epoch 137/200\n",
            "439/439 [==============================] - 1s 2ms/step - loss: 4692068352.0000 - mean_squared_error: 4692068352.0000 - mean_absolute_error: 49087.3984 - val_loss: 4548087296.0000 - val_mean_squared_error: 4548087296.0000 - val_mean_absolute_error: 48700.0586\n",
            "Epoch 138/200\n",
            "439/439 [==============================] - 1s 2ms/step - loss: 4687330304.0000 - mean_squared_error: 4687330304.0000 - mean_absolute_error: 49049.0156 - val_loss: 4542653440.0000 - val_mean_squared_error: 4542653440.0000 - val_mean_absolute_error: 48661.6953\n",
            "Epoch 139/200\n",
            "439/439 [==============================] - 1s 2ms/step - loss: 4682445312.0000 - mean_squared_error: 4682445312.0000 - mean_absolute_error: 49008.4375 - val_loss: 4538070016.0000 - val_mean_squared_error: 4538070016.0000 - val_mean_absolute_error: 48612.6328\n",
            "Epoch 140/200\n",
            "439/439 [==============================] - 1s 2ms/step - loss: 4678094848.0000 - mean_squared_error: 4678094848.0000 - mean_absolute_error: 48990.4688 - val_loss: 4533681152.0000 - val_mean_squared_error: 4533681152.0000 - val_mean_absolute_error: 48585.8086\n",
            "Epoch 141/200\n",
            "439/439 [==============================] - 1s 2ms/step - loss: 4673510912.0000 - mean_squared_error: 4673510912.0000 - mean_absolute_error: 48935.1953 - val_loss: 4530073600.0000 - val_mean_squared_error: 4530073600.0000 - val_mean_absolute_error: 48573.4023\n",
            "Epoch 142/200\n",
            "439/439 [==============================] - 1s 2ms/step - loss: 4669392896.0000 - mean_squared_error: 4669392896.0000 - mean_absolute_error: 48908.5117 - val_loss: 4525765632.0000 - val_mean_squared_error: 4525765632.0000 - val_mean_absolute_error: 48559.8711\n",
            "Epoch 143/200\n",
            "439/439 [==============================] - 1s 2ms/step - loss: 4665300992.0000 - mean_squared_error: 4665300992.0000 - mean_absolute_error: 48894.4414 - val_loss: 4520102912.0000 - val_mean_squared_error: 4520102912.0000 - val_mean_absolute_error: 48512.8555\n",
            "Epoch 144/200\n",
            "439/439 [==============================] - 1s 2ms/step - loss: 4660996608.0000 - mean_squared_error: 4660996608.0000 - mean_absolute_error: 48882.1211 - val_loss: 4517483008.0000 - val_mean_squared_error: 4517483008.0000 - val_mean_absolute_error: 48466.7852\n",
            "Epoch 145/200\n",
            "439/439 [==============================] - 1s 2ms/step - loss: 4657018880.0000 - mean_squared_error: 4657018880.0000 - mean_absolute_error: 48844.1016 - val_loss: 4513200128.0000 - val_mean_squared_error: 4513200128.0000 - val_mean_absolute_error: 48442.0312\n",
            "Epoch 146/200\n",
            "439/439 [==============================] - 1s 2ms/step - loss: 4652837888.0000 - mean_squared_error: 4652837888.0000 - mean_absolute_error: 48788.9961 - val_loss: 4508492288.0000 - val_mean_squared_error: 4508492288.0000 - val_mean_absolute_error: 48429.5156\n",
            "Epoch 147/200\n",
            "439/439 [==============================] - 1s 2ms/step - loss: 4648854528.0000 - mean_squared_error: 4648854528.0000 - mean_absolute_error: 48803.1406 - val_loss: 4506048512.0000 - val_mean_squared_error: 4506048512.0000 - val_mean_absolute_error: 48382.6211\n",
            "Epoch 148/200\n",
            "439/439 [==============================] - 1s 2ms/step - loss: 4645139968.0000 - mean_squared_error: 4645139968.0000 - mean_absolute_error: 48740.6484 - val_loss: 4502330368.0000 - val_mean_squared_error: 4502330368.0000 - val_mean_absolute_error: 48373.4258\n",
            "Epoch 149/200\n",
            "439/439 [==============================] - 1s 2ms/step - loss: 4641475584.0000 - mean_squared_error: 4641475584.0000 - mean_absolute_error: 48710.1875 - val_loss: 4499101184.0000 - val_mean_squared_error: 4499101184.0000 - val_mean_absolute_error: 48358.0352\n",
            "Epoch 150/200\n",
            "439/439 [==============================] - 1s 2ms/step - loss: 4637488640.0000 - mean_squared_error: 4637488640.0000 - mean_absolute_error: 48718.3633 - val_loss: 4494686720.0000 - val_mean_squared_error: 4494686720.0000 - val_mean_absolute_error: 48317.9531\n",
            "Epoch 151/200\n",
            "439/439 [==============================] - 1s 2ms/step - loss: 4633204224.0000 - mean_squared_error: 4633204224.0000 - mean_absolute_error: 48675.5664 - val_loss: 4490633728.0000 - val_mean_squared_error: 4490633728.0000 - val_mean_absolute_error: 48313.3594\n",
            "Epoch 152/200\n",
            "439/439 [==============================] - 1s 2ms/step - loss: 4629470208.0000 - mean_squared_error: 4629470208.0000 - mean_absolute_error: 48662.5508 - val_loss: 4487184384.0000 - val_mean_squared_error: 4487184384.0000 - val_mean_absolute_error: 48284.0742\n",
            "Epoch 153/200\n",
            "439/439 [==============================] - 1s 2ms/step - loss: 4626182656.0000 - mean_squared_error: 4626182656.0000 - mean_absolute_error: 48636.6133 - val_loss: 4484120576.0000 - val_mean_squared_error: 4484120576.0000 - val_mean_absolute_error: 48250.2422\n",
            "Epoch 154/200\n",
            "439/439 [==============================] - 1s 2ms/step - loss: 4622268928.0000 - mean_squared_error: 4622268928.0000 - mean_absolute_error: 48631.5195 - val_loss: 4480229888.0000 - val_mean_squared_error: 4480229888.0000 - val_mean_absolute_error: 48211.9219\n",
            "Epoch 155/200\n",
            "439/439 [==============================] - 1s 2ms/step - loss: 4618432512.0000 - mean_squared_error: 4618432512.0000 - mean_absolute_error: 48594.3320 - val_loss: 4477279232.0000 - val_mean_squared_error: 4477279232.0000 - val_mean_absolute_error: 48177.4609\n",
            "Epoch 156/200\n",
            "439/439 [==============================] - 1s 2ms/step - loss: 4614805504.0000 - mean_squared_error: 4614805504.0000 - mean_absolute_error: 48536.3398 - val_loss: 4473704960.0000 - val_mean_squared_error: 4473704960.0000 - val_mean_absolute_error: 48188.4375\n",
            "Epoch 157/200\n",
            "439/439 [==============================] - 1s 2ms/step - loss: 4611476480.0000 - mean_squared_error: 4611476480.0000 - mean_absolute_error: 48526.1836 - val_loss: 4469711360.0000 - val_mean_squared_error: 4469711360.0000 - val_mean_absolute_error: 48181.7500\n",
            "Epoch 158/200\n",
            "439/439 [==============================] - 1s 2ms/step - loss: 4608369664.0000 - mean_squared_error: 4608369664.0000 - mean_absolute_error: 48566.3555 - val_loss: 4466718208.0000 - val_mean_squared_error: 4466718208.0000 - val_mean_absolute_error: 48100.5156\n",
            "Epoch 159/200\n",
            "439/439 [==============================] - 1s 2ms/step - loss: 4604616192.0000 - mean_squared_error: 4604616192.0000 - mean_absolute_error: 48477.6602 - val_loss: 4463481856.0000 - val_mean_squared_error: 4463481856.0000 - val_mean_absolute_error: 48084.5430\n",
            "Epoch 160/200\n",
            "439/439 [==============================] - 1s 2ms/step - loss: 4601455104.0000 - mean_squared_error: 4601455104.0000 - mean_absolute_error: 48475.5117 - val_loss: 4460333056.0000 - val_mean_squared_error: 4460333056.0000 - val_mean_absolute_error: 48045.0469\n",
            "Epoch 161/200\n",
            "439/439 [==============================] - 1s 2ms/step - loss: 4598080512.0000 - mean_squared_error: 4598080512.0000 - mean_absolute_error: 48387.8867 - val_loss: 4457330688.0000 - val_mean_squared_error: 4457330688.0000 - val_mean_absolute_error: 48069.6211\n",
            "Epoch 162/200\n",
            "439/439 [==============================] - 1s 2ms/step - loss: 4594779136.0000 - mean_squared_error: 4594779136.0000 - mean_absolute_error: 48402.4766 - val_loss: 4453694464.0000 - val_mean_squared_error: 4453694464.0000 - val_mean_absolute_error: 48062.1719\n",
            "Epoch 163/200\n",
            "439/439 [==============================] - 1s 2ms/step - loss: 4591471104.0000 - mean_squared_error: 4591471104.0000 - mean_absolute_error: 48414.0742 - val_loss: 4450722304.0000 - val_mean_squared_error: 4450722304.0000 - val_mean_absolute_error: 48022.9688\n",
            "Epoch 164/200\n",
            "439/439 [==============================] - 1s 2ms/step - loss: 4587954688.0000 - mean_squared_error: 4587954688.0000 - mean_absolute_error: 48416.5664 - val_loss: 4447356416.0000 - val_mean_squared_error: 4447356416.0000 - val_mean_absolute_error: 47991.1094\n",
            "Epoch 165/200\n",
            "439/439 [==============================] - 1s 2ms/step - loss: 4584756224.0000 - mean_squared_error: 4584756224.0000 - mean_absolute_error: 48382.7852 - val_loss: 4444997632.0000 - val_mean_squared_error: 4444997632.0000 - val_mean_absolute_error: 47944.9297\n",
            "Epoch 166/200\n",
            "439/439 [==============================] - 1s 2ms/step - loss: 4581783040.0000 - mean_squared_error: 4581783040.0000 - mean_absolute_error: 48339.1055 - val_loss: 4442602496.0000 - val_mean_squared_error: 4442602496.0000 - val_mean_absolute_error: 47917.4648\n",
            "Epoch 167/200\n",
            "439/439 [==============================] - 1s 3ms/step - loss: 4578945536.0000 - mean_squared_error: 4578945536.0000 - mean_absolute_error: 48291.9727 - val_loss: 4440077824.0000 - val_mean_squared_error: 4440077824.0000 - val_mean_absolute_error: 47915.3008\n",
            "Epoch 168/200\n",
            "439/439 [==============================] - 1s 3ms/step - loss: 4576361472.0000 - mean_squared_error: 4576361472.0000 - mean_absolute_error: 48290.3906 - val_loss: 4435850752.0000 - val_mean_squared_error: 4435850752.0000 - val_mean_absolute_error: 47894.1367\n",
            "Epoch 169/200\n",
            "439/439 [==============================] - 1s 3ms/step - loss: 4572949504.0000 - mean_squared_error: 4572949504.0000 - mean_absolute_error: 48273.6250 - val_loss: 4432525312.0000 - val_mean_squared_error: 4432525312.0000 - val_mean_absolute_error: 47879.0938\n",
            "Epoch 170/200\n",
            "439/439 [==============================] - 1s 3ms/step - loss: 4570470400.0000 - mean_squared_error: 4570470400.0000 - mean_absolute_error: 48232.8438 - val_loss: 4429659648.0000 - val_mean_squared_error: 4429659648.0000 - val_mean_absolute_error: 47855.5078\n",
            "Epoch 171/200\n",
            "439/439 [==============================] - 1s 2ms/step - loss: 4567536640.0000 - mean_squared_error: 4567536640.0000 - mean_absolute_error: 48263.9102 - val_loss: 4426109952.0000 - val_mean_squared_error: 4426109952.0000 - val_mean_absolute_error: 47817.3750\n",
            "Epoch 172/200\n",
            "439/439 [==============================] - 1s 2ms/step - loss: 4564411904.0000 - mean_squared_error: 4564411904.0000 - mean_absolute_error: 48216.7227 - val_loss: 4423534592.0000 - val_mean_squared_error: 4423534592.0000 - val_mean_absolute_error: 47787.6289\n",
            "Epoch 173/200\n",
            "439/439 [==============================] - 1s 2ms/step - loss: 4561451520.0000 - mean_squared_error: 4561451520.0000 - mean_absolute_error: 48179.0508 - val_loss: 4421465600.0000 - val_mean_squared_error: 4421465600.0000 - val_mean_absolute_error: 47778.9102\n",
            "Epoch 174/200\n",
            "439/439 [==============================] - 1s 2ms/step - loss: 4558404096.0000 - mean_squared_error: 4558404096.0000 - mean_absolute_error: 48157.0352 - val_loss: 4418696192.0000 - val_mean_squared_error: 4418696192.0000 - val_mean_absolute_error: 47763.3242\n",
            "Epoch 175/200\n",
            "439/439 [==============================] - 1s 2ms/step - loss: 4555861504.0000 - mean_squared_error: 4555861504.0000 - mean_absolute_error: 48155.6484 - val_loss: 4417228288.0000 - val_mean_squared_error: 4417228288.0000 - val_mean_absolute_error: 47714.0938\n",
            "Epoch 176/200\n",
            "439/439 [==============================] - 1s 2ms/step - loss: 4553363968.0000 - mean_squared_error: 4553363968.0000 - mean_absolute_error: 48090.0273 - val_loss: 4412920832.0000 - val_mean_squared_error: 4412920832.0000 - val_mean_absolute_error: 47704.5938\n",
            "Epoch 177/200\n",
            "439/439 [==============================] - 1s 2ms/step - loss: 4550272512.0000 - mean_squared_error: 4550272512.0000 - mean_absolute_error: 48135.7812 - val_loss: 4410626048.0000 - val_mean_squared_error: 4410626048.0000 - val_mean_absolute_error: 47664.7930\n",
            "Epoch 178/200\n",
            "439/439 [==============================] - 1s 2ms/step - loss: 4547523072.0000 - mean_squared_error: 4547523072.0000 - mean_absolute_error: 48081.0273 - val_loss: 4408403968.0000 - val_mean_squared_error: 4408403968.0000 - val_mean_absolute_error: 47631.4375\n",
            "Epoch 179/200\n",
            "439/439 [==============================] - 1s 2ms/step - loss: 4544891392.0000 - mean_squared_error: 4544891392.0000 - mean_absolute_error: 48047.0156 - val_loss: 4405287424.0000 - val_mean_squared_error: 4405287424.0000 - val_mean_absolute_error: 47609.5898\n",
            "Epoch 180/200\n",
            "439/439 [==============================] - 1s 2ms/step - loss: 4541781504.0000 - mean_squared_error: 4541781504.0000 - mean_absolute_error: 47994.2969 - val_loss: 4402933760.0000 - val_mean_squared_error: 4402933760.0000 - val_mean_absolute_error: 47633.6250\n",
            "Epoch 181/200\n",
            "439/439 [==============================] - 1s 2ms/step - loss: 4539273728.0000 - mean_squared_error: 4539273728.0000 - mean_absolute_error: 48042.5898 - val_loss: 4401338880.0000 - val_mean_squared_error: 4401338880.0000 - val_mean_absolute_error: 47590.4805\n",
            "Epoch 182/200\n",
            "439/439 [==============================] - 1s 2ms/step - loss: 4536596480.0000 - mean_squared_error: 4536596480.0000 - mean_absolute_error: 47994.2773 - val_loss: 4398620160.0000 - val_mean_squared_error: 4398620160.0000 - val_mean_absolute_error: 47576.2422\n",
            "Epoch 183/200\n",
            "439/439 [==============================] - 1s 2ms/step - loss: 4534006272.0000 - mean_squared_error: 4534006272.0000 - mean_absolute_error: 47957.2969 - val_loss: 4395336704.0000 - val_mean_squared_error: 4395336704.0000 - val_mean_absolute_error: 47572.5234\n",
            "Epoch 184/200\n",
            "439/439 [==============================] - 1s 2ms/step - loss: 4531442176.0000 - mean_squared_error: 4531442176.0000 - mean_absolute_error: 47982.3008 - val_loss: 4393370112.0000 - val_mean_squared_error: 4393370112.0000 - val_mean_absolute_error: 47564.2734\n",
            "Epoch 185/200\n",
            "439/439 [==============================] - 1s 2ms/step - loss: 4528478208.0000 - mean_squared_error: 4528478208.0000 - mean_absolute_error: 47980.1016 - val_loss: 4392024576.0000 - val_mean_squared_error: 4392024576.0000 - val_mean_absolute_error: 47522.9688\n",
            "Epoch 186/200\n",
            "439/439 [==============================] - 1s 2ms/step - loss: 4526178304.0000 - mean_squared_error: 4526178304.0000 - mean_absolute_error: 47974.1445 - val_loss: 4390586368.0000 - val_mean_squared_error: 4390586368.0000 - val_mean_absolute_error: 47476.5000\n",
            "Epoch 187/200\n",
            "439/439 [==============================] - 1s 2ms/step - loss: 4524139008.0000 - mean_squared_error: 4524139008.0000 - mean_absolute_error: 47913.6250 - val_loss: 4388698112.0000 - val_mean_squared_error: 4388698112.0000 - val_mean_absolute_error: 47477.2109\n",
            "Epoch 188/200\n",
            "439/439 [==============================] - 1s 2ms/step - loss: 4521602560.0000 - mean_squared_error: 4521602560.0000 - mean_absolute_error: 47897.8086 - val_loss: 4386281472.0000 - val_mean_squared_error: 4386281472.0000 - val_mean_absolute_error: 47456.5078\n",
            "Epoch 189/200\n",
            "439/439 [==============================] - 1s 2ms/step - loss: 4518807552.0000 - mean_squared_error: 4518807552.0000 - mean_absolute_error: 47856.0977 - val_loss: 4384418304.0000 - val_mean_squared_error: 4384418304.0000 - val_mean_absolute_error: 47468.4102\n",
            "Epoch 190/200\n",
            "439/439 [==============================] - 1s 2ms/step - loss: 4516662784.0000 - mean_squared_error: 4516662784.0000 - mean_absolute_error: 47873.2852 - val_loss: 4382996992.0000 - val_mean_squared_error: 4382996992.0000 - val_mean_absolute_error: 47431.7656\n",
            "Epoch 191/200\n",
            "439/439 [==============================] - 1s 2ms/step - loss: 4514377728.0000 - mean_squared_error: 4514377728.0000 - mean_absolute_error: 47851.9414 - val_loss: 4380553216.0000 - val_mean_squared_error: 4380553216.0000 - val_mean_absolute_error: 47388.9492\n",
            "Epoch 192/200\n",
            "439/439 [==============================] - 1s 2ms/step - loss: 4511832576.0000 - mean_squared_error: 4511832576.0000 - mean_absolute_error: 47801.7305 - val_loss: 4378485760.0000 - val_mean_squared_error: 4378485760.0000 - val_mean_absolute_error: 47390.3047\n",
            "Epoch 193/200\n",
            "439/439 [==============================] - 1s 2ms/step - loss: 4509778944.0000 - mean_squared_error: 4509778944.0000 - mean_absolute_error: 47793.0156 - val_loss: 4375810560.0000 - val_mean_squared_error: 4375810560.0000 - val_mean_absolute_error: 47385.6797\n",
            "Epoch 194/200\n",
            "439/439 [==============================] - 1s 2ms/step - loss: 4507362304.0000 - mean_squared_error: 4507362304.0000 - mean_absolute_error: 47772.9727 - val_loss: 4373790720.0000 - val_mean_squared_error: 4373790720.0000 - val_mean_absolute_error: 47414.1133\n",
            "Epoch 195/200\n",
            "439/439 [==============================] - 1s 2ms/step - loss: 4504631296.0000 - mean_squared_error: 4504631296.0000 - mean_absolute_error: 47742.0273 - val_loss: 4370563584.0000 - val_mean_squared_error: 4370563584.0000 - val_mean_absolute_error: 47429.6484\n",
            "Epoch 196/200\n",
            "439/439 [==============================] - 1s 2ms/step - loss: 4502779392.0000 - mean_squared_error: 4502779392.0000 - mean_absolute_error: 47806.1367 - val_loss: 4367685632.0000 - val_mean_squared_error: 4367685632.0000 - val_mean_absolute_error: 47375.8633\n",
            "Epoch 197/200\n",
            "439/439 [==============================] - 1s 2ms/step - loss: 4500241920.0000 - mean_squared_error: 4500241920.0000 - mean_absolute_error: 47781.6445 - val_loss: 4365763584.0000 - val_mean_squared_error: 4365763584.0000 - val_mean_absolute_error: 47348.1328\n",
            "Epoch 198/200\n",
            "439/439 [==============================] - 1s 2ms/step - loss: 4498160640.0000 - mean_squared_error: 4498160640.0000 - mean_absolute_error: 47744.5000 - val_loss: 4364352512.0000 - val_mean_squared_error: 4364352512.0000 - val_mean_absolute_error: 47305.0234\n",
            "Epoch 199/200\n",
            "439/439 [==============================] - 1s 2ms/step - loss: 4496016896.0000 - mean_squared_error: 4496016896.0000 - mean_absolute_error: 47722.0781 - val_loss: 4361856000.0000 - val_mean_squared_error: 4361856000.0000 - val_mean_absolute_error: 47292.5742\n",
            "Epoch 200/200\n",
            "439/439 [==============================] - 1s 2ms/step - loss: 4493417984.0000 - mean_squared_error: 4493417984.0000 - mean_absolute_error: 47705.1562 - val_loss: 4360236032.0000 - val_mean_squared_error: 4360236032.0000 - val_mean_absolute_error: 47281.3672\n",
            "Model: \"sequential_5\"\n",
            "_________________________________________________________________\n",
            " Layer (type)                Output Shape              Param #   \n",
            "=================================================================\n",
            " dense_16 (Dense)            (None, 20)                200       \n",
            "                                                                 \n",
            " dense_17 (Dense)            (None, 5)                 105       \n",
            "                                                                 \n",
            " dense_18 (Dense)            (None, 1)                 6         \n",
            "                                                                 \n",
            "=================================================================\n",
            "Total params: 311\n",
            "Trainable params: 311\n",
            "Non-trainable params: 0\n",
            "_________________________________________________________________\n"
          ]
        },
        {
          "output_type": "display_data",
          "data": {
            "text/plain": [
              "<Figure size 432x288 with 1 Axes>"
            ],
            "image/png": "[encoded data removed]"
          },
          "metadata": {
            "needs_background": "light"
          }
        }
      ]
    },
    {
      "cell_type": "code",
      "source": [
        "model=tf.keras.Sequential()\n",
        "model.add(tf.keras.Input(shape=(9,))) \n",
        "model.add(tf.keras.layers.Dense(20,activation='relu'))\n",
        "\n",
        "model.add(tf.keras.layers.Dense(5,activation='relu'))\n",
        "\n",
        "model.add(tf.keras.layers.Dense(1))\n",
        "\n",
        "model.summary()\n",
        "\n",
        "tf.keras.utils.plot_model(model,show_shapes= True)\n",
        "\n",
        "model.compile(loss='mean_squared_error',\n",
        "              optimizer = 'rmsprop' ,\n",
        "              metrics=['mean_squared_error','mean_absolute_error'])\n",
        "\n",
        "history= model.fit(X_train,y_train,epochs=200,validation_split=0.2)\n",
        "\n",
        "history.history.keys()\n",
        "\n",
        "plt.plot(history.history['loss'], label = \"Tr loss\")\n",
        "plt.plot(history.history['val_mean_absolute_error'],label=\"Val loss\")\n",
        "plt.legend();"
      ],
      "metadata": {
        "id": "ZYc3viTmzdNv",
        "outputId": "220a335b-8593-4ed7-bfc2-8927135cec94",
        "colab": {
          "base_uri": "https://localhost:8080/",
          "height": 1000
        }
      },
      "execution_count": null,
      "outputs": [
        {
          "output_type": "stream",
          "name": "stdout",
          "text": [
            "Model: \"sequential_6\"\n",
            "_________________________________________________________________\n",
            " Layer (type)                Output Shape              Param #   \n",
            "=================================================================\n",
            " dense_19 (Dense)            (None, 20)                200       \n",
            "                                                                 \n",
            " dense_20 (Dense)            (None, 5)                 105       \n",
            "                                                                 \n",
            " dense_21 (Dense)            (None, 1)                 6         \n",
            "                                                                 \n",
            "=================================================================\n",
            "Total params: 311\n",
            "Trainable params: 311\n",
            "Non-trainable params: 0\n",
            "_________________________________________________________________\n",
            "Epoch 1/200\n",
            "439/439 [==============================] - 2s 2ms/step - loss: 56177799168.0000 - mean_squared_error: 56177799168.0000 - mean_absolute_error: 207121.3125 - val_loss: 55233470464.0000 - val_mean_squared_error: 55233470464.0000 - val_mean_absolute_error: 205042.9062\n",
            "Epoch 2/200\n",
            "439/439 [==============================] - 1s 2ms/step - loss: 56166633472.0000 - mean_squared_error: 56166633472.0000 - mean_absolute_error: 207096.2188 - val_loss: 55215026176.0000 - val_mean_squared_error: 55215026176.0000 - val_mean_absolute_error: 205001.8281\n",
            "Epoch 3/200\n",
            "439/439 [==============================] - 1s 2ms/step - loss: 56137502720.0000 - mean_squared_error: 56137502720.0000 - mean_absolute_error: 207032.6406 - val_loss: 55174455296.0000 - val_mean_squared_error: 55174455296.0000 - val_mean_absolute_error: 204912.5312\n",
            "Epoch 4/200\n",
            "439/439 [==============================] - 1s 2ms/step - loss: 56081674240.0000 - mean_squared_error: 56081674240.0000 - mean_absolute_error: 206911.2344 - val_loss: 55103410176.0000 - val_mean_squared_error: 55103410176.0000 - val_mean_absolute_error: 204756.5781\n",
            "Epoch 5/200\n",
            "439/439 [==============================] - 1s 2ms/step - loss: 55991238656.0000 - mean_squared_error: 55991238656.0000 - mean_absolute_error: 206714.8438 - val_loss: 54993936384.0000 - val_mean_squared_error: 54993936384.0000 - val_mean_absolute_error: 204516.8125\n",
            "Epoch 6/200\n",
            "439/439 [==============================] - 1s 2ms/step - loss: 55857889280.0000 - mean_squared_error: 55857889280.0000 - mean_absolute_error: 206425.6719 - val_loss: 54838165504.0000 - val_mean_squared_error: 54838165504.0000 - val_mean_absolute_error: 204175.0156\n",
            "Epoch 7/200\n",
            "439/439 [==============================] - 1s 2ms/step - loss: 55672254464.0000 - mean_squared_error: 55672254464.0000 - mean_absolute_error: 206023.6250 - val_loss: 54628077568.0000 - val_mean_squared_error: 54628077568.0000 - val_mean_absolute_error: 203713.7031\n",
            "Epoch 8/200\n",
            "439/439 [==============================] - 1s 2ms/step - loss: 55428775936.0000 - mean_squared_error: 55428775936.0000 - mean_absolute_error: 205492.9375 - val_loss: 54356643840.0000 - val_mean_squared_error: 54356643840.0000 - val_mean_absolute_error: 203116.2500\n",
            "Epoch 9/200\n",
            "439/439 [==============================] - 1s 2ms/step - loss: 55121326080.0000 - mean_squared_error: 55121326080.0000 - mean_absolute_error: 204820.4062 - val_loss: 54016086016.0000 - val_mean_squared_error: 54016086016.0000 - val_mean_absolute_error: 202363.5469\n",
            "Epoch 10/200\n",
            "439/439 [==============================] - 1s 2ms/step - loss: 54737252352.0000 - mean_squared_error: 54737252352.0000 - mean_absolute_error: 203980.8125 - val_loss: 53602209792.0000 - val_mean_squared_error: 53602209792.0000 - val_mean_absolute_error: 201443.7188\n",
            "Epoch 11/200\n",
            "439/439 [==============================] - 1s 2ms/step - loss: 54278803456.0000 - mean_squared_error: 54278803456.0000 - mean_absolute_error: 202966.0781 - val_loss: 53106548736.0000 - val_mean_squared_error: 53106548736.0000 - val_mean_absolute_error: 200334.2969\n",
            "Epoch 12/200\n",
            "439/439 [==============================] - 1s 2ms/step - loss: 53732945920.0000 - mean_squared_error: 53732945920.0000 - mean_absolute_error: 201753.6406 - val_loss: 52523565056.0000 - val_mean_squared_error: 52523565056.0000 - val_mean_absolute_error: 199018.7500\n",
            "Epoch 13/200\n",
            "439/439 [==============================] - 1s 2ms/step - loss: 53092462592.0000 - mean_squared_error: 53092462592.0000 - mean_absolute_error: 200318.7188 - val_loss: 51846938624.0000 - val_mean_squared_error: 51846938624.0000 - val_mean_absolute_error: 197477.6562\n",
            "Epoch 14/200\n",
            "439/439 [==============================] - 1s 2ms/step - loss: 52358266880.0000 - mean_squared_error: 52358266880.0000 - mean_absolute_error: 198655.6875 - val_loss: 51072356352.0000 - val_mean_squared_error: 51072356352.0000 - val_mean_absolute_error: 195700.0469\n",
            "Epoch 15/200\n",
            "439/439 [==============================] - 1s 2ms/step - loss: 51524648960.0000 - mean_squared_error: 51524648960.0000 - mean_absolute_error: 196744.0781 - val_loss: 50205003776.0000 - val_mean_squared_error: 50205003776.0000 - val_mean_absolute_error: 193690.5625\n",
            "Epoch 16/200\n",
            "439/439 [==============================] - 1s 2ms/step - loss: 50587340800.0000 - mean_squared_error: 50587340800.0000 - mean_absolute_error: 194573.5938 - val_loss: 49231503360.0000 - val_mean_squared_error: 49231503360.0000 - val_mean_absolute_error: 191396.5469\n",
            "Epoch 17/200\n",
            "439/439 [==============================] - 1s 2ms/step - loss: 49546207232.0000 - mean_squared_error: 49546207232.0000 - mean_absolute_error: 192123.6250 - val_loss: 48158486528.0000 - val_mean_squared_error: 48158486528.0000 - val_mean_absolute_error: 188823.4375\n",
            "Epoch 18/200\n",
            "439/439 [==============================] - 1s 2ms/step - loss: 48399437824.0000 - mean_squared_error: 48399437824.0000 - mean_absolute_error: 189383.5469 - val_loss: 46978195456.0000 - val_mean_squared_error: 46978195456.0000 - val_mean_absolute_error: 185947.3750\n",
            "Epoch 19/200\n",
            "439/439 [==============================] - 1s 2ms/step - loss: 47144755200.0000 - mean_squared_error: 47144755200.0000 - mean_absolute_error: 186335.6406 - val_loss: 45696331776.0000 - val_mean_squared_error: 45696331776.0000 - val_mean_absolute_error: 182767.9062\n",
            "Epoch 20/200\n",
            "439/439 [==============================] - 1s 2ms/step - loss: 45789278208.0000 - mean_squared_error: 45789278208.0000 - mean_absolute_error: 183012.4688 - val_loss: 44323688448.0000 - val_mean_squared_error: 44323688448.0000 - val_mean_absolute_error: 179309.9688\n",
            "Epoch 21/200\n",
            "439/439 [==============================] - 1s 2ms/step - loss: 44336271360.0000 - mean_squared_error: 44336271360.0000 - mean_absolute_error: 179390.0000 - val_loss: 42862010368.0000 - val_mean_squared_error: 42862010368.0000 - val_mean_absolute_error: 175590.5000\n",
            "Epoch 22/200\n",
            "439/439 [==============================] - 1s 2ms/step - loss: 42804953088.0000 - mean_squared_error: 42804953088.0000 - mean_absolute_error: 175491.3125 - val_loss: 41316958208.0000 - val_mean_squared_error: 41316958208.0000 - val_mean_absolute_error: 171574.6250\n",
            "Epoch 23/200\n",
            "439/439 [==============================] - 1s 2ms/step - loss: 41174130688.0000 - mean_squared_error: 41174130688.0000 - mean_absolute_error: 171274.7656 - val_loss: 39691239424.0000 - val_mean_squared_error: 39691239424.0000 - val_mean_absolute_error: 167315.9375\n",
            "Epoch 24/200\n",
            "439/439 [==============================] - 1s 2ms/step - loss: 39478312960.0000 - mean_squared_error: 39478312960.0000 - mean_absolute_error: 166799.5625 - val_loss: 38004015104.0000 - val_mean_squared_error: 38004015104.0000 - val_mean_absolute_error: 162837.0469\n",
            "Epoch 25/200\n",
            "439/439 [==============================] - 1s 2ms/step - loss: 37714513920.0000 - mean_squared_error: 37714513920.0000 - mean_absolute_error: 162069.6250 - val_loss: 36257951744.0000 - val_mean_squared_error: 36257951744.0000 - val_mean_absolute_error: 158075.4844\n",
            "Epoch 26/200\n",
            "439/439 [==============================] - 1s 2ms/step - loss: 35888623616.0000 - mean_squared_error: 35888623616.0000 - mean_absolute_error: 157065.8281 - val_loss: 34460651520.0000 - val_mean_squared_error: 34460651520.0000 - val_mean_absolute_error: 153042.9688\n",
            "Epoch 27/200\n",
            "439/439 [==============================] - 1s 2ms/step - loss: 34028519424.0000 - mean_squared_error: 34028519424.0000 - mean_absolute_error: 151784.5469 - val_loss: 32641034240.0000 - val_mean_squared_error: 32641034240.0000 - val_mean_absolute_error: 147773.4688\n",
            "Epoch 28/200\n",
            "439/439 [==============================] - 1s 2ms/step - loss: 32137265152.0000 - mean_squared_error: 32137265152.0000 - mean_absolute_error: 146297.4219 - val_loss: 30780045312.0000 - val_mean_squared_error: 30780045312.0000 - val_mean_absolute_error: 142208.9062\n",
            "Epoch 29/200\n",
            "439/439 [==============================] - 1s 2ms/step - loss: 30219743232.0000 - mean_squared_error: 30219743232.0000 - mean_absolute_error: 140602.0625 - val_loss: 28916377600.0000 - val_mean_squared_error: 28916377600.0000 - val_mean_absolute_error: 136456.0312\n",
            "Epoch 30/200\n",
            "439/439 [==============================] - 1s 2ms/step - loss: 28299753472.0000 - mean_squared_error: 28299753472.0000 - mean_absolute_error: 134756.6875 - val_loss: 27049203712.0000 - val_mean_squared_error: 27049203712.0000 - val_mean_absolute_error: 130507.8281\n",
            "Epoch 31/200\n",
            "439/439 [==============================] - 1s 2ms/step - loss: 26386915328.0000 - mean_squared_error: 26386915328.0000 - mean_absolute_error: 128716.5547 - val_loss: 25194053632.0000 - val_mean_squared_error: 25194053632.0000 - val_mean_absolute_error: 124381.4062\n",
            "Epoch 32/200\n",
            "439/439 [==============================] - 1s 2ms/step - loss: 24503695360.0000 - mean_squared_error: 24503695360.0000 - mean_absolute_error: 122566.6016 - val_loss: 23390451712.0000 - val_mean_squared_error: 23390451712.0000 - val_mean_absolute_error: 118279.2422\n",
            "Epoch 33/200\n",
            "439/439 [==============================] - 1s 2ms/step - loss: 22661593088.0000 - mean_squared_error: 22661593088.0000 - mean_absolute_error: 116303.7031 - val_loss: 21646518272.0000 - val_mean_squared_error: 21646518272.0000 - val_mean_absolute_error: 112172.6250\n",
            "Epoch 34/200\n",
            "439/439 [==============================] - 1s 2ms/step - loss: 20912044032.0000 - mean_squared_error: 20912044032.0000 - mean_absolute_error: 110145.0547 - val_loss: 20000761856.0000 - val_mean_squared_error: 20000761856.0000 - val_mean_absolute_error: 106234.7891\n",
            "Epoch 35/200\n",
            "439/439 [==============================] - 1s 2ms/step - loss: 19283929088.0000 - mean_squared_error: 19283929088.0000 - mean_absolute_error: 104272.5234 - val_loss: 18464815104.0000 - val_mean_squared_error: 18464815104.0000 - val_mean_absolute_error: 100584.9375\n",
            "Epoch 36/200\n",
            "439/439 [==============================] - 1s 2ms/step - loss: 17773424640.0000 - mean_squared_error: 17773424640.0000 - mean_absolute_error: 98806.2422 - val_loss: 17073140736.0000 - val_mean_squared_error: 17073140736.0000 - val_mean_absolute_error: 95454.3984\n",
            "Epoch 37/200\n",
            "439/439 [==============================] - 1s 2ms/step - loss: 16436395008.0000 - mean_squared_error: 16436395008.0000 - mean_absolute_error: 94000.9688 - val_loss: 15851438080.0000 - val_mean_squared_error: 15851438080.0000 - val_mean_absolute_error: 91122.3828\n",
            "Epoch 38/200\n",
            "439/439 [==============================] - 1s 2ms/step - loss: 15256736768.0000 - mean_squared_error: 15256736768.0000 - mean_absolute_error: 89897.5625 - val_loss: 14802286592.0000 - val_mean_squared_error: 14802286592.0000 - val_mean_absolute_error: 87674.9922\n",
            "Epoch 39/200\n",
            "439/439 [==============================] - 1s 2ms/step - loss: 14287124480.0000 - mean_squared_error: 14287124480.0000 - mean_absolute_error: 86729.8750 - val_loss: 13922830336.0000 - val_mean_squared_error: 13922830336.0000 - val_mean_absolute_error: 84933.1562\n",
            "Epoch 40/200\n",
            "439/439 [==============================] - 1s 2ms/step - loss: 13481646080.0000 - mean_squared_error: 13481646080.0000 - mean_absolute_error: 84284.2031 - val_loss: 13223092224.0000 - val_mean_squared_error: 13223092224.0000 - val_mean_absolute_error: 82923.6875\n",
            "Epoch 41/200\n",
            "439/439 [==============================] - 1s 2ms/step - loss: 12839471104.0000 - mean_squared_error: 12839471104.0000 - mean_absolute_error: 82407.3828 - val_loss: 12654576640.0000 - val_mean_squared_error: 12654576640.0000 - val_mean_absolute_error: 81489.2344\n",
            "Epoch 42/200\n",
            "439/439 [==============================] - 1s 2ms/step - loss: 12339855360.0000 - mean_squared_error: 12339855360.0000 - mean_absolute_error: 81007.6875 - val_loss: 12212255744.0000 - val_mean_squared_error: 12212255744.0000 - val_mean_absolute_error: 80411.9766\n",
            "Epoch 43/200\n",
            "439/439 [==============================] - 1s 2ms/step - loss: 11936679936.0000 - mean_squared_error: 11936679936.0000 - mean_absolute_error: 79880.4141 - val_loss: 11843672064.0000 - val_mean_squared_error: 11843672064.0000 - val_mean_absolute_error: 79480.3594\n",
            "Epoch 44/200\n",
            "439/439 [==============================] - 1s 2ms/step - loss: 11601840128.0000 - mean_squared_error: 11601840128.0000 - mean_absolute_error: 78907.0703 - val_loss: 11525725184.0000 - val_mean_squared_error: 11525725184.0000 - val_mean_absolute_error: 78641.8359\n",
            "Epoch 45/200\n",
            "439/439 [==============================] - 1s 2ms/step - loss: 11305185280.0000 - mean_squared_error: 11305185280.0000 - mean_absolute_error: 77986.8203 - val_loss: 11239471104.0000 - val_mean_squared_error: 11239471104.0000 - val_mean_absolute_error: 77817.4688\n",
            "Epoch 46/200\n",
            "439/439 [==============================] - 1s 2ms/step - loss: 11046806528.0000 - mean_squared_error: 11046806528.0000 - mean_absolute_error: 77120.3047 - val_loss: 10979159040.0000 - val_mean_squared_error: 10979159040.0000 - val_mean_absolute_error: 77001.4141\n",
            "Epoch 47/200\n",
            "439/439 [==============================] - 1s 2ms/step - loss: 10803667968.0000 - mean_squared_error: 10803667968.0000 - mean_absolute_error: 76285.3984 - val_loss: 10740742144.0000 - val_mean_squared_error: 10740742144.0000 - val_mean_absolute_error: 76213.6797\n",
            "Epoch 48/200\n",
            "439/439 [==============================] - 1s 2ms/step - loss: 10586220544.0000 - mean_squared_error: 10586220544.0000 - mean_absolute_error: 75519.1719 - val_loss: 10521026560.0000 - val_mean_squared_error: 10521026560.0000 - val_mean_absolute_error: 75444.3203\n",
            "Epoch 49/200\n",
            "439/439 [==============================] - 1s 2ms/step - loss: 10375339008.0000 - mean_squared_error: 10375339008.0000 - mean_absolute_error: 74723.5625 - val_loss: 10302566400.0000 - val_mean_squared_error: 10302566400.0000 - val_mean_absolute_error: 74681.7500\n",
            "Epoch 50/200\n",
            "439/439 [==============================] - 1s 2ms/step - loss: 10173304832.0000 - mean_squared_error: 10173304832.0000 - mean_absolute_error: 73975.5938 - val_loss: 10100939776.0000 - val_mean_squared_error: 10100939776.0000 - val_mean_absolute_error: 73946.7734\n",
            "Epoch 51/200\n",
            "439/439 [==============================] - 1s 2ms/step - loss: 9983616000.0000 - mean_squared_error: 9983616000.0000 - mean_absolute_error: 73233.9844 - val_loss: 9905764352.0000 - val_mean_squared_error: 9905764352.0000 - val_mean_absolute_error: 73200.7812\n",
            "Epoch 52/200\n",
            "439/439 [==============================] - 1s 2ms/step - loss: 9801799680.0000 - mean_squared_error: 9801799680.0000 - mean_absolute_error: 72490.8125 - val_loss: 9717924864.0000 - val_mean_squared_error: 9717924864.0000 - val_mean_absolute_error: 72467.7500\n",
            "Epoch 53/200\n",
            "439/439 [==============================] - 1s 2ms/step - loss: 9624018944.0000 - mean_squared_error: 9624018944.0000 - mean_absolute_error: 71772.4062 - val_loss: 9540140032.0000 - val_mean_squared_error: 9540140032.0000 - val_mean_absolute_error: 71771.9219\n",
            "Epoch 54/200\n",
            "439/439 [==============================] - 1s 2ms/step - loss: 9454406656.0000 - mean_squared_error: 9454406656.0000 - mean_absolute_error: 71079.8672 - val_loss: 9369012224.0000 - val_mean_squared_error: 9369012224.0000 - val_mean_absolute_error: 71079.1328\n",
            "Epoch 55/200\n",
            "439/439 [==============================] - 1s 2ms/step - loss: 9292430336.0000 - mean_squared_error: 9292430336.0000 - mean_absolute_error: 70382.1094 - val_loss: 9202406400.0000 - val_mean_squared_error: 9202406400.0000 - val_mean_absolute_error: 70393.7109\n",
            "Epoch 56/200\n",
            "439/439 [==============================] - 1s 2ms/step - loss: 9136570368.0000 - mean_squared_error: 9136570368.0000 - mean_absolute_error: 69713.0234 - val_loss: 9046437888.0000 - val_mean_squared_error: 9046437888.0000 - val_mean_absolute_error: 69727.7812\n",
            "Epoch 57/200\n",
            "439/439 [==============================] - 1s 2ms/step - loss: 8986836992.0000 - mean_squared_error: 8986836992.0000 - mean_absolute_error: 69063.9297 - val_loss: 8890819584.0000 - val_mean_squared_error: 8890819584.0000 - val_mean_absolute_error: 69055.7812\n",
            "Epoch 58/200\n",
            "439/439 [==============================] - 1s 2ms/step - loss: 8840538112.0000 - mean_squared_error: 8840538112.0000 - mean_absolute_error: 68412.1172 - val_loss: 8739939328.0000 - val_mean_squared_error: 8739939328.0000 - val_mean_absolute_error: 68396.0156\n",
            "Epoch 59/200\n",
            "439/439 [==============================] - 1s 2ms/step - loss: 8697155584.0000 - mean_squared_error: 8697155584.0000 - mean_absolute_error: 67785.2422 - val_loss: 8596146176.0000 - val_mean_squared_error: 8596146176.0000 - val_mean_absolute_error: 67762.6875\n",
            "Epoch 60/200\n",
            "439/439 [==============================] - 1s 2ms/step - loss: 8559223808.0000 - mean_squared_error: 8559223808.0000 - mean_absolute_error: 67168.1094 - val_loss: 8454454272.0000 - val_mean_squared_error: 8454454272.0000 - val_mean_absolute_error: 67133.2188\n",
            "Epoch 61/200\n",
            "439/439 [==============================] - 1s 2ms/step - loss: 8425890304.0000 - mean_squared_error: 8425890304.0000 - mean_absolute_error: 66585.2109 - val_loss: 8313102848.0000 - val_mean_squared_error: 8313102848.0000 - val_mean_absolute_error: 66526.8438\n",
            "Epoch 62/200\n",
            "439/439 [==============================] - 1s 2ms/step - loss: 8297348608.0000 - mean_squared_error: 8297348608.0000 - mean_absolute_error: 66000.3125 - val_loss: 8183213568.0000 - val_mean_squared_error: 8183213568.0000 - val_mean_absolute_error: 65935.5469\n",
            "Epoch 63/200\n",
            "439/439 [==============================] - 1s 2ms/step - loss: 8170629120.0000 - mean_squared_error: 8170629120.0000 - mean_absolute_error: 65437.5117 - val_loss: 8054395904.0000 - val_mean_squared_error: 8054395904.0000 - val_mean_absolute_error: 65347.3164\n",
            "Epoch 64/200\n",
            "439/439 [==============================] - 1s 2ms/step - loss: 8044490752.0000 - mean_squared_error: 8044490752.0000 - mean_absolute_error: 64858.8594 - val_loss: 7925736960.0000 - val_mean_squared_error: 7925736960.0000 - val_mean_absolute_error: 64773.6445\n",
            "Epoch 65/200\n",
            "439/439 [==============================] - 1s 2ms/step - loss: 7922267136.0000 - mean_squared_error: 7922267136.0000 - mean_absolute_error: 64312.7070 - val_loss: 7801614848.0000 - val_mean_squared_error: 7801614848.0000 - val_mean_absolute_error: 64204.6758\n",
            "Epoch 66/200\n",
            "439/439 [==============================] - 1s 3ms/step - loss: 7801469952.0000 - mean_squared_error: 7801469952.0000 - mean_absolute_error: 63753.3008 - val_loss: 7681142784.0000 - val_mean_squared_error: 7681142784.0000 - val_mean_absolute_error: 63660.8086\n",
            "Epoch 67/200\n",
            "439/439 [==============================] - 1s 3ms/step - loss: 7686794752.0000 - mean_squared_error: 7686794752.0000 - mean_absolute_error: 63243.3984 - val_loss: 7561964544.0000 - val_mean_squared_error: 7561964544.0000 - val_mean_absolute_error: 63111.1719\n",
            "Epoch 68/200\n",
            "439/439 [==============================] - 1s 3ms/step - loss: 7572206080.0000 - mean_squared_error: 7572206080.0000 - mean_absolute_error: 62700.4609 - val_loss: 7446871040.0000 - val_mean_squared_error: 7446871040.0000 - val_mean_absolute_error: 62583.3125\n",
            "Epoch 69/200\n",
            "439/439 [==============================] - 1s 2ms/step - loss: 7463282176.0000 - mean_squared_error: 7463282176.0000 - mean_absolute_error: 62194.3164 - val_loss: 7338457088.0000 - val_mean_squared_error: 7338457088.0000 - val_mean_absolute_error: 62077.7344\n",
            "Epoch 70/200\n",
            "439/439 [==============================] - 1s 2ms/step - loss: 7358914048.0000 - mean_squared_error: 7358914048.0000 - mean_absolute_error: 61720.9648 - val_loss: 7228813824.0000 - val_mean_squared_error: 7228813824.0000 - val_mean_absolute_error: 61596.6758\n",
            "Epoch 71/200\n",
            "439/439 [==============================] - 1s 2ms/step - loss: 7252463616.0000 - mean_squared_error: 7252463616.0000 - mean_absolute_error: 61262.6094 - val_loss: 7122454016.0000 - val_mean_squared_error: 7122454016.0000 - val_mean_absolute_error: 61093.7891\n",
            "Epoch 72/200\n",
            "439/439 [==============================] - 1s 2ms/step - loss: 7152069632.0000 - mean_squared_error: 7152069632.0000 - mean_absolute_error: 60771.7812 - val_loss: 7022630400.0000 - val_mean_squared_error: 7022630400.0000 - val_mean_absolute_error: 60620.8750\n",
            "Epoch 73/200\n",
            "439/439 [==============================] - 1s 2ms/step - loss: 7055245312.0000 - mean_squared_error: 7055245312.0000 - mean_absolute_error: 60316.1211 - val_loss: 6924858880.0000 - val_mean_squared_error: 6924858880.0000 - val_mean_absolute_error: 60168.0312\n",
            "Epoch 74/200\n",
            "439/439 [==============================] - 1s 2ms/step - loss: 6960330240.0000 - mean_squared_error: 6960330240.0000 - mean_absolute_error: 59906.4609 - val_loss: 6831512576.0000 - val_mean_squared_error: 6831512576.0000 - val_mean_absolute_error: 59728.3711\n",
            "Epoch 75/200\n",
            "439/439 [==============================] - 1s 2ms/step - loss: 6869602304.0000 - mean_squared_error: 6869602304.0000 - mean_absolute_error: 59486.9414 - val_loss: 6737252352.0000 - val_mean_squared_error: 6737252352.0000 - val_mean_absolute_error: 59300.7773\n",
            "Epoch 76/200\n",
            "439/439 [==============================] - 1s 2ms/step - loss: 6780200960.0000 - mean_squared_error: 6780200960.0000 - mean_absolute_error: 59061.1875 - val_loss: 6646521344.0000 - val_mean_squared_error: 6646521344.0000 - val_mean_absolute_error: 58924.0469\n",
            "Epoch 77/200\n",
            "439/439 [==============================] - 1s 2ms/step - loss: 6693292544.0000 - mean_squared_error: 6693292544.0000 - mean_absolute_error: 58718.2461 - val_loss: 6559201280.0000 - val_mean_squared_error: 6559201280.0000 - val_mean_absolute_error: 58521.0742\n",
            "Epoch 78/200\n",
            "439/439 [==============================] - 1s 2ms/step - loss: 6609933824.0000 - mean_squared_error: 6609933824.0000 - mean_absolute_error: 58305.1602 - val_loss: 6473249792.0000 - val_mean_squared_error: 6473249792.0000 - val_mean_absolute_error: 58154.9883\n",
            "Epoch 79/200\n",
            "439/439 [==============================] - 1s 2ms/step - loss: 6530456064.0000 - mean_squared_error: 6530456064.0000 - mean_absolute_error: 57947.2383 - val_loss: 6392055808.0000 - val_mean_squared_error: 6392055808.0000 - val_mean_absolute_error: 57793.9922\n",
            "Epoch 80/200\n",
            "439/439 [==============================] - 1s 3ms/step - loss: 6455246336.0000 - mean_squared_error: 6455246336.0000 - mean_absolute_error: 57608.2852 - val_loss: 6316386304.0000 - val_mean_squared_error: 6316386304.0000 - val_mean_absolute_error: 57440.9844\n",
            "Epoch 81/200\n",
            "439/439 [==============================] - 1s 2ms/step - loss: 6380157440.0000 - mean_squared_error: 6380157440.0000 - mean_absolute_error: 57291.1406 - val_loss: 6240600576.0000 - val_mean_squared_error: 6240600576.0000 - val_mean_absolute_error: 57062.0859\n",
            "Epoch 82/200\n",
            "439/439 [==============================] - 1s 2ms/step - loss: 6310172160.0000 - mean_squared_error: 6310172160.0000 - mean_absolute_error: 56944.9219 - val_loss: 6170333184.0000 - val_mean_squared_error: 6170333184.0000 - val_mean_absolute_error: 56736.7148\n",
            "Epoch 83/200\n",
            "439/439 [==============================] - 1s 2ms/step - loss: 6242456064.0000 - mean_squared_error: 6242456064.0000 - mean_absolute_error: 56656.4062 - val_loss: 6101653504.0000 - val_mean_squared_error: 6101653504.0000 - val_mean_absolute_error: 56414.0000\n",
            "Epoch 84/200\n",
            "439/439 [==============================] - 1s 2ms/step - loss: 6177874944.0000 - mean_squared_error: 6177874944.0000 - mean_absolute_error: 56380.1367 - val_loss: 6034512384.0000 - val_mean_squared_error: 6034512384.0000 - val_mean_absolute_error: 56087.5859\n",
            "Epoch 85/200\n",
            "439/439 [==============================] - 1s 2ms/step - loss: 6113963008.0000 - mean_squared_error: 6113963008.0000 - mean_absolute_error: 56055.8086 - val_loss: 5969530880.0000 - val_mean_squared_error: 5969530880.0000 - val_mean_absolute_error: 55803.4688\n",
            "Epoch 86/200\n",
            "439/439 [==============================] - 1s 2ms/step - loss: 6052975616.0000 - mean_squared_error: 6052975616.0000 - mean_absolute_error: 55821.4922 - val_loss: 5908748288.0000 - val_mean_squared_error: 5908748288.0000 - val_mean_absolute_error: 55508.8516\n",
            "Epoch 87/200\n",
            "439/439 [==============================] - 1s 2ms/step - loss: 5996907520.0000 - mean_squared_error: 5996907520.0000 - mean_absolute_error: 55544.1289 - val_loss: 5849951232.0000 - val_mean_squared_error: 5849951232.0000 - val_mean_absolute_error: 55257.8828\n",
            "Epoch 88/200\n",
            "439/439 [==============================] - 1s 2ms/step - loss: 5940703232.0000 - mean_squared_error: 5940703232.0000 - mean_absolute_error: 55295.1094 - val_loss: 5793372672.0000 - val_mean_squared_error: 5793372672.0000 - val_mean_absolute_error: 55028.7969\n",
            "Epoch 89/200\n",
            "439/439 [==============================] - 1s 2ms/step - loss: 5888078848.0000 - mean_squared_error: 5888078848.0000 - mean_absolute_error: 55073.2422 - val_loss: 5739515904.0000 - val_mean_squared_error: 5739515904.0000 - val_mean_absolute_error: 54789.5938\n",
            "Epoch 90/200\n",
            "439/439 [==============================] - 1s 2ms/step - loss: 5837527040.0000 - mean_squared_error: 5837527040.0000 - mean_absolute_error: 54839.0273 - val_loss: 5689577472.0000 - val_mean_squared_error: 5689577472.0000 - val_mean_absolute_error: 54554.1406\n",
            "Epoch 91/200\n",
            "439/439 [==============================] - 1s 2ms/step - loss: 5790146560.0000 - mean_squared_error: 5790146560.0000 - mean_absolute_error: 54634.4766 - val_loss: 5641863168.0000 - val_mean_squared_error: 5641863168.0000 - val_mean_absolute_error: 54353.2695\n",
            "Epoch 92/200\n",
            "439/439 [==============================] - 1s 2ms/step - loss: 5743528448.0000 - mean_squared_error: 5743528448.0000 - mean_absolute_error: 54450.9688 - val_loss: 5594493952.0000 - val_mean_squared_error: 5594493952.0000 - val_mean_absolute_error: 54138.8867\n",
            "Epoch 93/200\n",
            "439/439 [==============================] - 1s 2ms/step - loss: 5699564032.0000 - mean_squared_error: 5699564032.0000 - mean_absolute_error: 54260.9375 - val_loss: 5551636992.0000 - val_mean_squared_error: 5551636992.0000 - val_mean_absolute_error: 53950.3438\n",
            "Epoch 94/200\n",
            "439/439 [==============================] - 1s 2ms/step - loss: 5658686976.0000 - mean_squared_error: 5658686976.0000 - mean_absolute_error: 54085.8359 - val_loss: 5511975424.0000 - val_mean_squared_error: 5511975424.0000 - val_mean_absolute_error: 53771.8242\n",
            "Epoch 95/200\n",
            "439/439 [==============================] - 1s 2ms/step - loss: 5619272192.0000 - mean_squared_error: 5619272192.0000 - mean_absolute_error: 53935.9414 - val_loss: 5471837184.0000 - val_mean_squared_error: 5471837184.0000 - val_mean_absolute_error: 53569.8867\n",
            "Epoch 96/200\n",
            "439/439 [==============================] - 1s 2ms/step - loss: 5581186048.0000 - mean_squared_error: 5581186048.0000 - mean_absolute_error: 53761.7539 - val_loss: 5433617920.0000 - val_mean_squared_error: 5433617920.0000 - val_mean_absolute_error: 53401.9297\n",
            "Epoch 97/200\n",
            "439/439 [==============================] - 1s 2ms/step - loss: 5544824320.0000 - mean_squared_error: 5544824320.0000 - mean_absolute_error: 53574.6641 - val_loss: 5397753856.0000 - val_mean_squared_error: 5397753856.0000 - val_mean_absolute_error: 53255.3398\n",
            "Epoch 98/200\n",
            "439/439 [==============================] - 1s 2ms/step - loss: 5510151168.0000 - mean_squared_error: 5510151168.0000 - mean_absolute_error: 53442.3984 - val_loss: 5363255808.0000 - val_mean_squared_error: 5363255808.0000 - val_mean_absolute_error: 53101.4062\n",
            "Epoch 99/200\n",
            "439/439 [==============================] - 1s 2ms/step - loss: 5477258240.0000 - mean_squared_error: 5477258240.0000 - mean_absolute_error: 53317.8945 - val_loss: 5330338304.0000 - val_mean_squared_error: 5330338304.0000 - val_mean_absolute_error: 52943.0234\n",
            "Epoch 100/200\n",
            "439/439 [==============================] - 1s 2ms/step - loss: 5445617664.0000 - mean_squared_error: 5445617664.0000 - mean_absolute_error: 53124.1445 - val_loss: 5299148288.0000 - val_mean_squared_error: 5299148288.0000 - val_mean_absolute_error: 52805.3516\n",
            "Epoch 101/200\n",
            "439/439 [==============================] - 1s 2ms/step - loss: 5416654336.0000 - mean_squared_error: 5416654336.0000 - mean_absolute_error: 53026.0469 - val_loss: 5270213632.0000 - val_mean_squared_error: 5270213632.0000 - val_mean_absolute_error: 52673.2695\n",
            "Epoch 102/200\n",
            "439/439 [==============================] - 1s 2ms/step - loss: 5388176384.0000 - mean_squared_error: 5388176384.0000 - mean_absolute_error: 52899.8047 - val_loss: 5241998336.0000 - val_mean_squared_error: 5241998336.0000 - val_mean_absolute_error: 52539.4766\n",
            "Epoch 103/200\n",
            "439/439 [==============================] - 1s 2ms/step - loss: 5361701376.0000 - mean_squared_error: 5361701376.0000 - mean_absolute_error: 52802.0391 - val_loss: 5216155648.0000 - val_mean_squared_error: 5216155648.0000 - val_mean_absolute_error: 52419.0078\n",
            "Epoch 104/200\n",
            "439/439 [==============================] - 1s 2ms/step - loss: 5336677376.0000 - mean_squared_error: 5336677376.0000 - mean_absolute_error: 52652.6523 - val_loss: 5190994944.0000 - val_mean_squared_error: 5190994944.0000 - val_mean_absolute_error: 52313.8398\n",
            "Epoch 105/200\n",
            "439/439 [==============================] - 1s 2ms/step - loss: 5313393664.0000 - mean_squared_error: 5313393664.0000 - mean_absolute_error: 52544.9922 - val_loss: 5168433152.0000 - val_mean_squared_error: 5168433152.0000 - val_mean_absolute_error: 52204.6641\n",
            "Epoch 106/200\n",
            "439/439 [==============================] - 1s 2ms/step - loss: 5291003904.0000 - mean_squared_error: 5291003904.0000 - mean_absolute_error: 52473.1719 - val_loss: 5146658816.0000 - val_mean_squared_error: 5146658816.0000 - val_mean_absolute_error: 52069.5898\n",
            "Epoch 107/200\n",
            "439/439 [==============================] - 1s 2ms/step - loss: 5269737472.0000 - mean_squared_error: 5269737472.0000 - mean_absolute_error: 52334.2344 - val_loss: 5124869120.0000 - val_mean_squared_error: 5124869120.0000 - val_mean_absolute_error: 51967.0938\n",
            "Epoch 108/200\n",
            "439/439 [==============================] - 1s 2ms/step - loss: 5249732608.0000 - mean_squared_error: 5249732608.0000 - mean_absolute_error: 52233.4023 - val_loss: 5104507904.0000 - val_mean_squared_error: 5104507904.0000 - val_mean_absolute_error: 51891.1680\n",
            "Epoch 109/200\n",
            "439/439 [==============================] - 1s 2ms/step - loss: 5230311936.0000 - mean_squared_error: 5230311936.0000 - mean_absolute_error: 52140.4609 - val_loss: 5085285376.0000 - val_mean_squared_error: 5085285376.0000 - val_mean_absolute_error: 51778.8633\n",
            "Epoch 110/200\n",
            "439/439 [==============================] - 1s 2ms/step - loss: 5211029504.0000 - mean_squared_error: 5211029504.0000 - mean_absolute_error: 52042.8594 - val_loss: 5066258944.0000 - val_mean_squared_error: 5066258944.0000 - val_mean_absolute_error: 51702.7969\n",
            "Epoch 111/200\n",
            "439/439 [==============================] - 1s 2ms/step - loss: 5193257984.0000 - mean_squared_error: 5193257984.0000 - mean_absolute_error: 51984.5156 - val_loss: 5048558080.0000 - val_mean_squared_error: 5048558080.0000 - val_mean_absolute_error: 51598.0664\n",
            "Epoch 112/200\n",
            "439/439 [==============================] - 1s 3ms/step - loss: 5175776768.0000 - mean_squared_error: 5175776768.0000 - mean_absolute_error: 51854.2188 - val_loss: 5032014336.0000 - val_mean_squared_error: 5032014336.0000 - val_mean_absolute_error: 51518.5898\n",
            "Epoch 113/200\n",
            "439/439 [==============================] - 1s 2ms/step - loss: 5159308288.0000 - mean_squared_error: 5159308288.0000 - mean_absolute_error: 51806.2461 - val_loss: 5015604224.0000 - val_mean_squared_error: 5015604224.0000 - val_mean_absolute_error: 51428.6094\n",
            "Epoch 114/200\n",
            "439/439 [==============================] - 1s 2ms/step - loss: 5143422464.0000 - mean_squared_error: 5143422464.0000 - mean_absolute_error: 51679.4688 - val_loss: 4999654912.0000 - val_mean_squared_error: 4999654912.0000 - val_mean_absolute_error: 51336.8477\n",
            "Epoch 115/200\n",
            "439/439 [==============================] - 1s 2ms/step - loss: 5127977984.0000 - mean_squared_error: 5127977984.0000 - mean_absolute_error: 51590.3750 - val_loss: 4984473600.0000 - val_mean_squared_error: 4984473600.0000 - val_mean_absolute_error: 51274.6211\n",
            "Epoch 116/200\n",
            "439/439 [==============================] - 1s 2ms/step - loss: 5113796096.0000 - mean_squared_error: 5113796096.0000 - mean_absolute_error: 51546.8438 - val_loss: 4970721280.0000 - val_mean_squared_error: 4970721280.0000 - val_mean_absolute_error: 51203.5195\n",
            "Epoch 117/200\n",
            "439/439 [==============================] - 1s 2ms/step - loss: 5099531264.0000 - mean_squared_error: 5099531264.0000 - mean_absolute_error: 51429.9727 - val_loss: 4955883520.0000 - val_mean_squared_error: 4955883520.0000 - val_mean_absolute_error: 51153.2695\n",
            "Epoch 118/200\n",
            "439/439 [==============================] - 1s 2ms/step - loss: 5086000128.0000 - mean_squared_error: 5086000128.0000 - mean_absolute_error: 51417.5547 - val_loss: 4942240256.0000 - val_mean_squared_error: 4942240256.0000 - val_mean_absolute_error: 51058.9961\n",
            "Epoch 119/200\n",
            "439/439 [==============================] - 1s 2ms/step - loss: 5072858624.0000 - mean_squared_error: 5072858624.0000 - mean_absolute_error: 51339.4805 - val_loss: 4928855552.0000 - val_mean_squared_error: 4928855552.0000 - val_mean_absolute_error: 50969.7422\n",
            "Epoch 120/200\n",
            "439/439 [==============================] - 1s 3ms/step - loss: 5060106240.0000 - mean_squared_error: 5060106240.0000 - mean_absolute_error: 51281.4961 - val_loss: 4916859392.0000 - val_mean_squared_error: 4916859392.0000 - val_mean_absolute_error: 50885.6094\n",
            "Epoch 121/200\n",
            "439/439 [==============================] - 1s 2ms/step - loss: 5047569408.0000 - mean_squared_error: 5047569408.0000 - mean_absolute_error: 51182.5898 - val_loss: 4904251392.0000 - val_mean_squared_error: 4904251392.0000 - val_mean_absolute_error: 50804.6719\n",
            "Epoch 122/200\n",
            "439/439 [==============================] - 1s 2ms/step - loss: 5035957760.0000 - mean_squared_error: 5035957760.0000 - mean_absolute_error: 51115.1289 - val_loss: 4892917760.0000 - val_mean_squared_error: 4892917760.0000 - val_mean_absolute_error: 50739.5352\n",
            "Epoch 123/200\n",
            "439/439 [==============================] - 1s 2ms/step - loss: 5024361472.0000 - mean_squared_error: 5024361472.0000 - mean_absolute_error: 51012.7188 - val_loss: 4880287744.0000 - val_mean_squared_error: 4880287744.0000 - val_mean_absolute_error: 50674.7617\n",
            "Epoch 124/200\n",
            "439/439 [==============================] - 1s 2ms/step - loss: 5012985344.0000 - mean_squared_error: 5012985344.0000 - mean_absolute_error: 50978.0898 - val_loss: 4869337600.0000 - val_mean_squared_error: 4869337600.0000 - val_mean_absolute_error: 50625.4219\n",
            "Epoch 125/200\n",
            "439/439 [==============================] - 1s 2ms/step - loss: 5002327552.0000 - mean_squared_error: 5002327552.0000 - mean_absolute_error: 50937.8359 - val_loss: 4859746816.0000 - val_mean_squared_error: 4859746816.0000 - val_mean_absolute_error: 50565.9453\n",
            "Epoch 126/200\n",
            "439/439 [==============================] - 1s 2ms/step - loss: 4991811584.0000 - mean_squared_error: 4991811584.0000 - mean_absolute_error: 50830.7227 - val_loss: 4849143808.0000 - val_mean_squared_error: 4849143808.0000 - val_mean_absolute_error: 50520.4609\n",
            "Epoch 127/200\n",
            "439/439 [==============================] - 1s 2ms/step - loss: 4981721088.0000 - mean_squared_error: 4981721088.0000 - mean_absolute_error: 50770.6992 - val_loss: 4837821440.0000 - val_mean_squared_error: 4837821440.0000 - val_mean_absolute_error: 50442.6602\n",
            "Epoch 128/200\n",
            "439/439 [==============================] - 1s 2ms/step - loss: 4971572736.0000 - mean_squared_error: 4971572736.0000 - mean_absolute_error: 50735.2500 - val_loss: 4827670528.0000 - val_mean_squared_error: 4827670528.0000 - val_mean_absolute_error: 50375.1484\n",
            "Epoch 129/200\n",
            "439/439 [==============================] - 1s 2ms/step - loss: 4961857024.0000 - mean_squared_error: 4961857024.0000 - mean_absolute_error: 50711.8672 - val_loss: 4817985536.0000 - val_mean_squared_error: 4817985536.0000 - val_mean_absolute_error: 50301.9180\n",
            "Epoch 130/200\n",
            "439/439 [==============================] - 1s 2ms/step - loss: 4952039424.0000 - mean_squared_error: 4952039424.0000 - mean_absolute_error: 50591.4453 - val_loss: 4808039936.0000 - val_mean_squared_error: 4808039936.0000 - val_mean_absolute_error: 50253.7539\n",
            "Epoch 131/200\n",
            "439/439 [==============================] - 1s 2ms/step - loss: 4942502912.0000 - mean_squared_error: 4942502912.0000 - mean_absolute_error: 50531.9023 - val_loss: 4798892032.0000 - val_mean_squared_error: 4798892032.0000 - val_mean_absolute_error: 50235.6445\n",
            "Epoch 132/200\n",
            "439/439 [==============================] - 1s 2ms/step - loss: 4933688320.0000 - mean_squared_error: 4933688320.0000 - mean_absolute_error: 50496.4961 - val_loss: 4789870592.0000 - val_mean_squared_error: 4789870592.0000 - val_mean_absolute_error: 50173.2383\n",
            "Epoch 133/200\n",
            "439/439 [==============================] - 1s 2ms/step - loss: 4924791296.0000 - mean_squared_error: 4924791296.0000 - mean_absolute_error: 50485.5859 - val_loss: 4781980672.0000 - val_mean_squared_error: 4781980672.0000 - val_mean_absolute_error: 50068.4180\n",
            "Epoch 134/200\n",
            "439/439 [==============================] - 1s 2ms/step - loss: 4916688896.0000 - mean_squared_error: 4916688896.0000 - mean_absolute_error: 50404.0508 - val_loss: 4772908032.0000 - val_mean_squared_error: 4772908032.0000 - val_mean_absolute_error: 50019.8906\n",
            "Epoch 135/200\n",
            "439/439 [==============================] - 1s 2ms/step - loss: 4908020224.0000 - mean_squared_error: 4908020224.0000 - mean_absolute_error: 50348.5117 - val_loss: 4765028352.0000 - val_mean_squared_error: 4765028352.0000 - val_mean_absolute_error: 49981.8789\n",
            "Epoch 136/200\n",
            "439/439 [==============================] - 1s 2ms/step - loss: 4900186624.0000 - mean_squared_error: 4900186624.0000 - mean_absolute_error: 50303.3945 - val_loss: 4757585408.0000 - val_mean_squared_error: 4757585408.0000 - val_mean_absolute_error: 49920.2344\n",
            "Epoch 137/200\n",
            "439/439 [==============================] - 1s 2ms/step - loss: 4892175872.0000 - mean_squared_error: 4892175872.0000 - mean_absolute_error: 50241.5430 - val_loss: 4749076992.0000 - val_mean_squared_error: 4749076992.0000 - val_mean_absolute_error: 49904.9492\n",
            "Epoch 138/200\n",
            "439/439 [==============================] - 1s 2ms/step - loss: 4884484608.0000 - mean_squared_error: 4884484608.0000 - mean_absolute_error: 50212.8164 - val_loss: 4740305920.0000 - val_mean_squared_error: 4740305920.0000 - val_mean_absolute_error: 49835.8359\n",
            "Epoch 139/200\n",
            "439/439 [==============================] - 1s 2ms/step - loss: 4877003776.0000 - mean_squared_error: 4877003776.0000 - mean_absolute_error: 50177.2812 - val_loss: 4732082688.0000 - val_mean_squared_error: 4732082688.0000 - val_mean_absolute_error: 49771.7578\n",
            "Epoch 140/200\n",
            "439/439 [==============================] - 1s 2ms/step - loss: 4869065216.0000 - mean_squared_error: 4869065216.0000 - mean_absolute_error: 50097.2773 - val_loss: 4724764160.0000 - val_mean_squared_error: 4724764160.0000 - val_mean_absolute_error: 49739.5195\n",
            "Epoch 141/200\n",
            "439/439 [==============================] - 1s 2ms/step - loss: 4862034432.0000 - mean_squared_error: 4862034432.0000 - mean_absolute_error: 50096.5586 - val_loss: 4717198336.0000 - val_mean_squared_error: 4717198336.0000 - val_mean_absolute_error: 49651.0430\n",
            "Epoch 142/200\n",
            "439/439 [==============================] - 1s 2ms/step - loss: 4855058944.0000 - mean_squared_error: 4855058944.0000 - mean_absolute_error: 50008.7227 - val_loss: 4709962240.0000 - val_mean_squared_error: 4709962240.0000 - val_mean_absolute_error: 49635.9961\n",
            "Epoch 143/200\n",
            "439/439 [==============================] - 1s 2ms/step - loss: 4848212480.0000 - mean_squared_error: 4848212480.0000 - mean_absolute_error: 49984.0898 - val_loss: 4703319552.0000 - val_mean_squared_error: 4703319552.0000 - val_mean_absolute_error: 49579.6758\n",
            "Epoch 144/200\n",
            "439/439 [==============================] - 1s 2ms/step - loss: 4841226240.0000 - mean_squared_error: 4841226240.0000 - mean_absolute_error: 49925.9297 - val_loss: 4696506368.0000 - val_mean_squared_error: 4696506368.0000 - val_mean_absolute_error: 49539.3242\n",
            "Epoch 145/200\n",
            "439/439 [==============================] - 1s 2ms/step - loss: 4834376192.0000 - mean_squared_error: 4834376192.0000 - mean_absolute_error: 49903.5508 - val_loss: 4690092544.0000 - val_mean_squared_error: 4690092544.0000 - val_mean_absolute_error: 49487.9844\n",
            "Epoch 146/200\n",
            "439/439 [==============================] - 1s 2ms/step - loss: 4828081664.0000 - mean_squared_error: 4828081664.0000 - mean_absolute_error: 49837.9570 - val_loss: 4683905536.0000 - val_mean_squared_error: 4683905536.0000 - val_mean_absolute_error: 49454.9883\n",
            "Epoch 147/200\n",
            "439/439 [==============================] - 1s 2ms/step - loss: 4821615104.0000 - mean_squared_error: 4821615104.0000 - mean_absolute_error: 49791.7500 - val_loss: 4676672512.0000 - val_mean_squared_error: 4676672512.0000 - val_mean_absolute_error: 49438.3320\n",
            "Epoch 148/200\n",
            "439/439 [==============================] - 1s 2ms/step - loss: 4815440384.0000 - mean_squared_error: 4815440384.0000 - mean_absolute_error: 49774.7500 - val_loss: 4671217152.0000 - val_mean_squared_error: 4671217152.0000 - val_mean_absolute_error: 49408.0781\n",
            "Epoch 149/200\n",
            "439/439 [==============================] - 1s 2ms/step - loss: 4809521152.0000 - mean_squared_error: 4809521152.0000 - mean_absolute_error: 49723.5898 - val_loss: 4664619008.0000 - val_mean_squared_error: 4664619008.0000 - val_mean_absolute_error: 49365.1523\n",
            "Epoch 150/200\n",
            "439/439 [==============================] - 1s 2ms/step - loss: 4803556352.0000 - mean_squared_error: 4803556352.0000 - mean_absolute_error: 49708.1328 - val_loss: 4658497536.0000 - val_mean_squared_error: 4658497536.0000 - val_mean_absolute_error: 49324.4531\n",
            "Epoch 151/200\n",
            "439/439 [==============================] - 1s 2ms/step - loss: 4797725184.0000 - mean_squared_error: 4797725184.0000 - mean_absolute_error: 49661.3594 - val_loss: 4653168128.0000 - val_mean_squared_error: 4653168128.0000 - val_mean_absolute_error: 49282.3164\n",
            "Epoch 152/200\n",
            "439/439 [==============================] - 1s 2ms/step - loss: 4792126464.0000 - mean_squared_error: 4792126464.0000 - mean_absolute_error: 49632.1289 - val_loss: 4647663104.0000 - val_mean_squared_error: 4647663104.0000 - val_mean_absolute_error: 49236.1602\n",
            "Epoch 153/200\n",
            "439/439 [==============================] - 1s 2ms/step - loss: 4786546688.0000 - mean_squared_error: 4786546688.0000 - mean_absolute_error: 49575.1719 - val_loss: 4642519040.0000 - val_mean_squared_error: 4642519040.0000 - val_mean_absolute_error: 49205.1172\n",
            "Epoch 154/200\n",
            "439/439 [==============================] - 1s 2ms/step - loss: 4781121536.0000 - mean_squared_error: 4781121536.0000 - mean_absolute_error: 49547.0430 - val_loss: 4637217792.0000 - val_mean_squared_error: 4637217792.0000 - val_mean_absolute_error: 49167.5469\n",
            "Epoch 155/200\n",
            "439/439 [==============================] - 1s 2ms/step - loss: 4775929344.0000 - mean_squared_error: 4775929344.0000 - mean_absolute_error: 49520.5469 - val_loss: 4631412736.0000 - val_mean_squared_error: 4631412736.0000 - val_mean_absolute_error: 49131.0977\n",
            "Epoch 156/200\n",
            "439/439 [==============================] - 1s 2ms/step - loss: 4770583552.0000 - mean_squared_error: 4770583552.0000 - mean_absolute_error: 49495.1367 - val_loss: 4626786304.0000 - val_mean_squared_error: 4626786304.0000 - val_mean_absolute_error: 49081.3984\n",
            "Epoch 157/200\n",
            "439/439 [==============================] - 1s 2ms/step - loss: 4765886976.0000 - mean_squared_error: 4765886976.0000 - mean_absolute_error: 49449.9414 - val_loss: 4622424064.0000 - val_mean_squared_error: 4622424064.0000 - val_mean_absolute_error: 49058.5664\n",
            "Epoch 158/200\n",
            "439/439 [==============================] - 1s 2ms/step - loss: 4760473600.0000 - mean_squared_error: 4760473600.0000 - mean_absolute_error: 49414.4219 - val_loss: 4616952320.0000 - val_mean_squared_error: 4616952320.0000 - val_mean_absolute_error: 49028.8984\n",
            "Epoch 159/200\n",
            "439/439 [==============================] - 1s 2ms/step - loss: 4755177984.0000 - mean_squared_error: 4755177984.0000 - mean_absolute_error: 49402.7188 - val_loss: 4612704768.0000 - val_mean_squared_error: 4612704768.0000 - val_mean_absolute_error: 49006.1758\n",
            "Epoch 160/200\n",
            "439/439 [==============================] - 1s 2ms/step - loss: 4750682112.0000 - mean_squared_error: 4750682112.0000 - mean_absolute_error: 49368.8320 - val_loss: 4606875648.0000 - val_mean_squared_error: 4606875648.0000 - val_mean_absolute_error: 48961.5039\n",
            "Epoch 161/200\n",
            "439/439 [==============================] - 1s 2ms/step - loss: 4745542656.0000 - mean_squared_error: 4745542656.0000 - mean_absolute_error: 49280.5000 - val_loss: 4602008064.0000 - val_mean_squared_error: 4602008064.0000 - val_mean_absolute_error: 48955.5312\n",
            "Epoch 162/200\n",
            "439/439 [==============================] - 1s 2ms/step - loss: 4740793344.0000 - mean_squared_error: 4740793344.0000 - mean_absolute_error: 49282.3164 - val_loss: 4597063680.0000 - val_mean_squared_error: 4597063680.0000 - val_mean_absolute_error: 48920.4531\n",
            "Epoch 163/200\n",
            "439/439 [==============================] - 1s 2ms/step - loss: 4736089088.0000 - mean_squared_error: 4736089088.0000 - mean_absolute_error: 49268.6172 - val_loss: 4592798720.0000 - val_mean_squared_error: 4592798720.0000 - val_mean_absolute_error: 48892.9180\n",
            "Epoch 164/200\n",
            "439/439 [==============================] - 1s 3ms/step - loss: 4731574784.0000 - mean_squared_error: 4731574784.0000 - mean_absolute_error: 49229.7031 - val_loss: 4587799552.0000 - val_mean_squared_error: 4587799552.0000 - val_mean_absolute_error: 48859.0039\n",
            "Epoch 165/200\n",
            "439/439 [==============================] - 1s 3ms/step - loss: 4727073792.0000 - mean_squared_error: 4727073792.0000 - mean_absolute_error: 49215.7773 - val_loss: 4583163904.0000 - val_mean_squared_error: 4583163904.0000 - val_mean_absolute_error: 48819.4961\n",
            "Epoch 166/200\n",
            "439/439 [==============================] - 1s 2ms/step - loss: 4722882560.0000 - mean_squared_error: 4722882560.0000 - mean_absolute_error: 49172.3047 - val_loss: 4579071488.0000 - val_mean_squared_error: 4579071488.0000 - val_mean_absolute_error: 48791.3047\n",
            "Epoch 167/200\n",
            "439/439 [==============================] - 1s 2ms/step - loss: 4718318080.0000 - mean_squared_error: 4718318080.0000 - mean_absolute_error: 49152.8945 - val_loss: 4574339072.0000 - val_mean_squared_error: 4574339072.0000 - val_mean_absolute_error: 48738.9922\n",
            "Epoch 168/200\n",
            "439/439 [==============================] - 1s 2ms/step - loss: 4713977856.0000 - mean_squared_error: 4713977856.0000 - mean_absolute_error: 49092.7773 - val_loss: 4569969664.0000 - val_mean_squared_error: 4569969664.0000 - val_mean_absolute_error: 48716.0586\n",
            "Epoch 169/200\n",
            "439/439 [==============================] - 1s 2ms/step - loss: 4709800448.0000 - mean_squared_error: 4709800448.0000 - mean_absolute_error: 49090.8320 - val_loss: 4566757888.0000 - val_mean_squared_error: 4566757888.0000 - val_mean_absolute_error: 48671.6094\n",
            "Epoch 170/200\n",
            "439/439 [==============================] - 1s 2ms/step - loss: 4705515520.0000 - mean_squared_error: 4705515520.0000 - mean_absolute_error: 49058.1562 - val_loss: 4562926592.0000 - val_mean_squared_error: 4562926592.0000 - val_mean_absolute_error: 48634.6914\n",
            "Epoch 171/200\n",
            "439/439 [==============================] - 1s 2ms/step - loss: 4701619712.0000 - mean_squared_error: 4701619712.0000 - mean_absolute_error: 49000.6055 - val_loss: 4557923840.0000 - val_mean_squared_error: 4557923840.0000 - val_mean_absolute_error: 48612.9297\n",
            "Epoch 172/200\n",
            "439/439 [==============================] - 1s 2ms/step - loss: 4696995328.0000 - mean_squared_error: 4696995328.0000 - mean_absolute_error: 48998.2188 - val_loss: 4554231808.0000 - val_mean_squared_error: 4554231808.0000 - val_mean_absolute_error: 48581.6953\n",
            "Epoch 173/200\n",
            "439/439 [==============================] - 1s 2ms/step - loss: 4693279232.0000 - mean_squared_error: 4693279232.0000 - mean_absolute_error: 48957.0820 - val_loss: 4549984256.0000 - val_mean_squared_error: 4549984256.0000 - val_mean_absolute_error: 48572.6094\n",
            "Epoch 174/200\n",
            "439/439 [==============================] - 1s 2ms/step - loss: 4689474048.0000 - mean_squared_error: 4689474048.0000 - mean_absolute_error: 48945.9180 - val_loss: 4546080256.0000 - val_mean_squared_error: 4546080256.0000 - val_mean_absolute_error: 48547.9219\n",
            "Epoch 175/200\n",
            "439/439 [==============================] - 1s 2ms/step - loss: 4685565440.0000 - mean_squared_error: 4685565440.0000 - mean_absolute_error: 48940.6914 - val_loss: 4542207488.0000 - val_mean_squared_error: 4542207488.0000 - val_mean_absolute_error: 48515.9766\n",
            "Epoch 176/200\n",
            "439/439 [==============================] - 1s 2ms/step - loss: 4681741312.0000 - mean_squared_error: 4681741312.0000 - mean_absolute_error: 48921.7578 - val_loss: 4538507264.0000 - val_mean_squared_error: 4538507264.0000 - val_mean_absolute_error: 48484.5781\n",
            "Epoch 177/200\n",
            "439/439 [==============================] - 1s 2ms/step - loss: 4677614592.0000 - mean_squared_error: 4677614592.0000 - mean_absolute_error: 48845.4102 - val_loss: 4534302208.0000 - val_mean_squared_error: 4534302208.0000 - val_mean_absolute_error: 48491.4297\n",
            "Epoch 178/200\n",
            "439/439 [==============================] - 1s 2ms/step - loss: 4674173952.0000 - mean_squared_error: 4674173952.0000 - mean_absolute_error: 48876.1641 - val_loss: 4531602944.0000 - val_mean_squared_error: 4531602944.0000 - val_mean_absolute_error: 48455.6328\n",
            "Epoch 179/200\n",
            "439/439 [==============================] - 1s 2ms/step - loss: 4670452224.0000 - mean_squared_error: 4670452224.0000 - mean_absolute_error: 48832.4805 - val_loss: 4529069568.0000 - val_mean_squared_error: 4529069568.0000 - val_mean_absolute_error: 48432.3906\n",
            "Epoch 180/200\n",
            "439/439 [==============================] - 1s 2ms/step - loss: 4667490304.0000 - mean_squared_error: 4667490304.0000 - mean_absolute_error: 48787.6211 - val_loss: 4525063168.0000 - val_mean_squared_error: 4525063168.0000 - val_mean_absolute_error: 48390.5234\n",
            "Epoch 181/200\n",
            "439/439 [==============================] - 1s 2ms/step - loss: 4663747072.0000 - mean_squared_error: 4663747072.0000 - mean_absolute_error: 48757.8750 - val_loss: 4522191360.0000 - val_mean_squared_error: 4522191360.0000 - val_mean_absolute_error: 48348.8945\n",
            "Epoch 182/200\n",
            "439/439 [==============================] - 1s 2ms/step - loss: 4660475904.0000 - mean_squared_error: 4660475904.0000 - mean_absolute_error: 48742.1641 - val_loss: 4518336512.0000 - val_mean_squared_error: 4518336512.0000 - val_mean_absolute_error: 48344.7539\n",
            "Epoch 183/200\n",
            "439/439 [==============================] - 1s 2ms/step - loss: 4656659968.0000 - mean_squared_error: 4656659968.0000 - mean_absolute_error: 48748.6445 - val_loss: 4515417600.0000 - val_mean_squared_error: 4515417600.0000 - val_mean_absolute_error: 48290.9453\n",
            "Epoch 184/200\n",
            "439/439 [==============================] - 1s 2ms/step - loss: 4653680640.0000 - mean_squared_error: 4653680640.0000 - mean_absolute_error: 48702.4102 - val_loss: 4511275008.0000 - val_mean_squared_error: 4511275008.0000 - val_mean_absolute_error: 48265.3281\n",
            "Epoch 185/200\n",
            "439/439 [==============================] - 1s 3ms/step - loss: 4650277376.0000 - mean_squared_error: 4650277376.0000 - mean_absolute_error: 48677.6289 - val_loss: 4508502016.0000 - val_mean_squared_error: 4508502016.0000 - val_mean_absolute_error: 48232.6406\n",
            "Epoch 186/200\n",
            "439/439 [==============================] - 1s 2ms/step - loss: 4646944256.0000 - mean_squared_error: 4646944256.0000 - mean_absolute_error: 48627.8164 - val_loss: 4505013248.0000 - val_mean_squared_error: 4505013248.0000 - val_mean_absolute_error: 48219.1133\n",
            "Epoch 187/200\n",
            "439/439 [==============================] - 1s 2ms/step - loss: 4643605504.0000 - mean_squared_error: 4643605504.0000 - mean_absolute_error: 48612.2266 - val_loss: 4502684672.0000 - val_mean_squared_error: 4502684672.0000 - val_mean_absolute_error: 48215.4766\n",
            "Epoch 188/200\n",
            "439/439 [==============================] - 1s 2ms/step - loss: 4640460288.0000 - mean_squared_error: 4640460288.0000 - mean_absolute_error: 48626.8750 - val_loss: 4499092480.0000 - val_mean_squared_error: 4499092480.0000 - val_mean_absolute_error: 48179.9883\n",
            "Epoch 189/200\n",
            "439/439 [==============================] - 1s 2ms/step - loss: 4636933120.0000 - mean_squared_error: 4636933120.0000 - mean_absolute_error: 48575.9023 - val_loss: 4495701504.0000 - val_mean_squared_error: 4495701504.0000 - val_mean_absolute_error: 48179.7695\n",
            "Epoch 190/200\n",
            "439/439 [==============================] - 1s 2ms/step - loss: 4633926144.0000 - mean_squared_error: 4633926144.0000 - mean_absolute_error: 48518.4414 - val_loss: 4491784192.0000 - val_mean_squared_error: 4491784192.0000 - val_mean_absolute_error: 48176.1094\n",
            "Epoch 191/200\n",
            "439/439 [==============================] - 1s 2ms/step - loss: 4630680576.0000 - mean_squared_error: 4630680576.0000 - mean_absolute_error: 48558.5664 - val_loss: 4488690688.0000 - val_mean_squared_error: 4488690688.0000 - val_mean_absolute_error: 48134.3047\n",
            "Epoch 192/200\n",
            "439/439 [==============================] - 1s 2ms/step - loss: 4627640832.0000 - mean_squared_error: 4627640832.0000 - mean_absolute_error: 48516.2969 - val_loss: 4486375424.0000 - val_mean_squared_error: 4486375424.0000 - val_mean_absolute_error: 48107.2188\n",
            "Epoch 193/200\n",
            "439/439 [==============================] - 1s 2ms/step - loss: 4624348672.0000 - mean_squared_error: 4624348672.0000 - mean_absolute_error: 48500.1289 - val_loss: 4483465728.0000 - val_mean_squared_error: 4483465728.0000 - val_mean_absolute_error: 48105.3750\n",
            "Epoch 194/200\n",
            "439/439 [==============================] - 1s 2ms/step - loss: 4621099008.0000 - mean_squared_error: 4621099008.0000 - mean_absolute_error: 48521.2148 - val_loss: 4480268288.0000 - val_mean_squared_error: 4480268288.0000 - val_mean_absolute_error: 48048.8203\n",
            "Epoch 195/200\n",
            "439/439 [==============================] - 1s 2ms/step - loss: 4618466816.0000 - mean_squared_error: 4618466816.0000 - mean_absolute_error: 48448.1250 - val_loss: 4477735936.0000 - val_mean_squared_error: 4477735936.0000 - val_mean_absolute_error: 48006.5977\n",
            "Epoch 196/200\n",
            "439/439 [==============================] - 1s 2ms/step - loss: 4615562240.0000 - mean_squared_error: 4615562240.0000 - mean_absolute_error: 48393.1602 - val_loss: 4474065920.0000 - val_mean_squared_error: 4474065920.0000 - val_mean_absolute_error: 48034.1367\n",
            "Epoch 197/200\n",
            "439/439 [==============================] - 1s 2ms/step - loss: 4612661248.0000 - mean_squared_error: 4612661248.0000 - mean_absolute_error: 48430.1602 - val_loss: 4471188480.0000 - val_mean_squared_error: 4471188480.0000 - val_mean_absolute_error: 48000.5820\n",
            "Epoch 198/200\n",
            "439/439 [==============================] - 1s 2ms/step - loss: 4610093056.0000 - mean_squared_error: 4610093056.0000 - mean_absolute_error: 48420.9453 - val_loss: 4468396032.0000 - val_mean_squared_error: 4468396032.0000 - val_mean_absolute_error: 47971.2539\n",
            "Epoch 199/200\n",
            "439/439 [==============================] - 1s 2ms/step - loss: 4606999040.0000 - mean_squared_error: 4606999040.0000 - mean_absolute_error: 48379.4336 - val_loss: 4466009600.0000 - val_mean_squared_error: 4466009600.0000 - val_mean_absolute_error: 47949.7344\n",
            "Epoch 200/200\n",
            "439/439 [==============================] - 1s 2ms/step - loss: 4604171776.0000 - mean_squared_error: 4604171776.0000 - mean_absolute_error: 48360.6680 - val_loss: 4463543808.0000 - val_mean_squared_error: 4463543808.0000 - val_mean_absolute_error: 47923.4180\n"
          ]
        },
        {
          "output_type": "display_data",
          "data": {
            "text/plain": [
              "<Figure size 432x288 with 1 Axes>"
            ],
            "image/png": "[encoded data removed]"
          },
          "metadata": {
            "needs_background": "light"
          }
        }
      ]
    },
    {
      "cell_type": "markdown",
      "source": [
        "## Model"
      ],
      "metadata": {
        "id": "BKGxZacvpAUU"
      }
    },
    {
      "cell_type": "code",
      "source": [
        "# 6.0\n",
        "model = tf.keras.Sequential()"
      ],
      "metadata": {
        "id": "3u7a51m5Ixfm"
      },
      "execution_count": null,
      "outputs": []
    },
    {
      "cell_type": "code",
      "source": [
        "# 6.1\n",
        "model.add( tf.keras.layers.Input(shape = (9,) ))"
      ],
      "metadata": {
        "id": "71VW2avIJEsh"
      },
      "execution_count": null,
      "outputs": []
    },
    {
      "cell_type": "code",
      "source": [
        "# 6.2 Start \n",
        "model.add(tf.keras.layers.Dense(40, activation = 'relu'))  # MAke it 5 and then 20 (not more or less)"
      ],
      "metadata": {
        "id": "fUDftH3BJ_-L"
      },
      "execution_count": null,
      "outputs": []
    },
    {
      "cell_type": "code",
      "source": [
        "# 6.2.1 Experiment with adding a dropout layer\n",
        "#       but then increase number of units in Dense layer from 20 to 40\n",
        "model.add(tf.keras.layers.Dropout(rate = 0.5 ))"
      ],
      "metadata": {
        "id": "NNAVQxIDwuVk"
      },
      "execution_count": null,
      "outputs": []
    },
    {
      "cell_type": "code",
      "source": [
        "model.add(tf.keras.layers.Dense(20, activation = 'relu'))  \n",
        "model.add(tf.keras.layers.Dropout(rate = 0.5 ))"
      ],
      "metadata": {
        "id": "Dj5lOyfyyDaQ"
      },
      "execution_count": null,
      "outputs": []
    },
    {
      "cell_type": "code",
      "source": [
        "model.add(tf.keras.layers.Dense(10, activation = 'relu'))  \n",
        "#model.add(tf.keras.layers.Dropout(rate = 0.5 ))"
      ],
      "metadata": {
        "id": "8zHYh7XCy2cJ"
      },
      "execution_count": null,
      "outputs": []
    },
    {
      "cell_type": "code",
      "source": [
        "# 6.3 Experiment first with activation of sigmoid\n",
        "#     and then no activation function\n",
        "model.add(tf.keras.layers.Dense(1))    # Keep sigmoid; then remove sigmoid"
      ],
      "metadata": {
        "id": "glw8SP83KQBL"
      },
      "execution_count": null,
      "outputs": []
    },
    {
      "cell_type": "code",
      "source": [
        "# 6.4 Model summary:\n",
        "model.summary()"
      ],
      "metadata": {
        "id": "HcfvweBLKWiQ",
        "outputId": "3e3df9a9-8934-40aa-e5d3-2af5276aba45",
        "colab": {
          "base_uri": "https://localhost:8080/"
        }
      },
      "execution_count": null,
      "outputs": [
        {
          "output_type": "stream",
          "name": "stdout",
          "text": [
            "Model: \"sequential_4\"\n",
            "_________________________________________________________________\n",
            " Layer (type)                Output Shape              Param #   \n",
            "=================================================================\n",
            " dense_11 (Dense)            (None, 40)                400       \n",
            "                                                                 \n",
            " dropout_6 (Dropout)         (None, 40)                0         \n",
            "                                                                 \n",
            " dense_12 (Dense)            (None, 20)                820       \n",
            "                                                                 \n",
            " dropout_7 (Dropout)         (None, 20)                0         \n",
            "                                                                 \n",
            " dense_13 (Dense)            (None, 10)                210       \n",
            "                                                                 \n",
            " dense_14 (Dense)            (None, 1)                 11        \n",
            "                                                                 \n",
            "=================================================================\n",
            "Total params: 1,441\n",
            "Trainable params: 1,441\n",
            "Non-trainable params: 0\n",
            "_________________________________________________________________\n"
          ]
        }
      ]
    },
    {
      "cell_type": "code",
      "source": [
        "# 6.5 Compile model\n",
        "#     Expt with adam\n",
        "model.compile(\n",
        "                 loss = 'mae',\n",
        "                 optimizer = 'adam',  # Try first with default optimizer and then with 'adam'\n",
        "                                      #  may not make much difference \n",
        "                 metrics = ['mae']\n",
        "\n",
        "              )"
      ],
      "metadata": {
        "id": "6LLk36OpKYIJ"
      },
      "execution_count": null,
      "outputs": []
    },
    {
      "cell_type": "code",
      "source": [
        "# 7.0\n",
        "history = model.fit(X_train,y_train,\n",
        "                    epochs = 70,\n",
        "                    validation_data = (X_test, y_test)\n",
        "                   )"
      ],
      "metadata": {
        "id": "SxH9wqFAKj6R"
      },
      "execution_count": null,
      "outputs": []
    },
    {
      "cell_type": "code",
      "source": [
        "# 7.1\n",
        "model.evaluate(X_test,y_test)"
      ],
      "metadata": {
        "id": "E8CUmuEXKsgT",
        "outputId": "fc7345b3-9839-4aa9-ac47-4d0cdd50412f",
        "colab": {
          "base_uri": "https://localhost:8080/"
        }
      },
      "execution_count": null,
      "outputs": [
        {
          "output_type": "stream",
          "name": "stdout",
          "text": [
            "97/97 [==============================] - 0s 2ms/step - loss: 0.6292 - mae: 0.6292\n"
          ]
        },
        {
          "output_type": "execute_result",
          "data": {
            "text/plain": [
              "[0.6291962265968323, 0.6291962265968323]"
            ]
          },
          "metadata": {},
          "execution_count": 129
        }
      ]
    },
    {
      "cell_type": "code",
      "source": [
        "######################### I am done #################"
      ],
      "metadata": {
        "id": "bzQX6UdZK-E-"
      },
      "execution_count": null,
      "outputs": []
    }
  ]
}