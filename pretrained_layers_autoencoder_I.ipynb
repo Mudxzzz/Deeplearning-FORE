{
  "nbformat": 4,
  "nbformat_minor": 0,
  "metadata": {
    "colab": {
      "name": "pretrained_layers_autoencoder-I.ipynb",
      "provenance": [],
      "collapsed_sections": [],
      "authorship_tag": "ABX9TyMUZu2ls0bXrLcLPVJzS4Gk",
      "include_colab_link": true
    },
    "kernelspec": {
      "name": "python3",
      "display_name": "Python 3"
    }
  },
  "cells": [
    {
      "cell_type": "markdown",
      "metadata": {
        "id": "view-in-github",
        "colab_type": "text"
      },
      "source": [
        "<a href=\"https://colab.research.google.com/github/harnalashok/deeplearning/blob/main/pretrained_layers_autoencoder_I.ipynb\" target=\"_parent\"><img src=\"https://colab.research.google.com/assets/colab-badge.svg\" alt=\"Open In Colab\"/></a>"
      ]
    },
    {
      "cell_type": "markdown",
      "metadata": {
        "id": "iFzV_KlNeeGr"
      },
      "source": [
        "<table align=\"left\">\r\n",
        "  <td>\r\n",
        "    <a target=\"_blank\" href=\"https://colab.research.google.com/github/harnalashok/deeplearning/blob/main/pretrained_layers_autoencoder_I.ipynb\"><img src=\"https://www.tensorflow.org/images/colab_logo_32px.png\" />Run in Google Colab</a>\r\n",
        "  </td>\r\n",
        "</table>"
      ]
    },
    {
      "cell_type": "code",
      "metadata": {
        "id": "8hUNNtAJhWE7"
      },
      "source": [
        "# Last amended: 22nd Jan, 2021\r\n",
        "# Myfolder: https://github.com/harnalashok/keras\r\n",
        "# Objectives\r\n",
        "#            i) Building autoencoder using Model class subclassing\r\n",
        "#           ii) Using pre-trained autoencoder layers in a classifier\r\n",
        "#          iii) Comparing Classifer performance with and without pre-trained \r\n",
        "#           iv) Using keras model as a layer\r\n",
        "#            v) A pre-trained model using autoencoder gives better classification\r\n",
        "#\r\n",
        "# Ref: https://www.tensorflow.org/tutorials/generative/autoencoder#first_example_basic_autoencoder\r\n",
        "#      https://www.tensorflow.org/tutorials/generative/autoencoder#third_example_anomaly_detection\r\n",
        "#      Practical Recommendations for Gradient-Based Training of DeepArchitectures by Yoshua Bengio"
      ],
      "execution_count": null,
      "outputs": []
    },
    {
      "cell_type": "code",
      "metadata": {
        "id": "WoU-r_hoe4qD"
      },
      "source": [
        "# 1.0 Import libraries\r\n",
        "import tensorflow as tf\r\n",
        "from tensorflow.keras import layers\r\n",
        "from tensorflow.keras.datasets import fashion_mnist\r\n",
        "from tensorflow.keras.models import Model"
      ],
      "execution_count": null,
      "outputs": []
    },
    {
      "cell_type": "code",
      "metadata": {
        "id": "lZygQFzuHUo4"
      },
      "source": [
        "# 1.1 Display outputs from multiple commands in a colab cell\r\n",
        "from IPython.core.interactiveshell import InteractiveShell\r\n",
        "InteractiveShell.ast_node_interactivity = \"all\"\r\n"
      ],
      "execution_count": null,
      "outputs": []
    },
    {
      "cell_type": "code",
      "metadata": {
        "colab": {
          "base_uri": "https://localhost:8080/"
        },
        "id": "LR9cqRU3e--E",
        "outputId": "beac3458-5a5c-4782-b29b-196833bdafe3"
      },
      "source": [
        "# 2.0 Get fashion mnist data\r\n",
        "(x_train, y_train), (x_test, y_test) = fashion_mnist.load_data()\r\n",
        "\r\n",
        "# Normalize data\r\n",
        "x_train = x_train.astype('float32') / 255.\r\n",
        "x_test = x_test.astype('float32') / 255.\r\n",
        "\r\n",
        "# Data shape\r\n",
        "print (x_train.shape)\r\n",
        "print (x_test.shape)\r\n"
      ],
      "execution_count": null,
      "outputs": [
        {
          "output_type": "stream",
          "text": [
            "Downloading data from https://storage.googleapis.com/tensorflow/tf-keras-datasets/train-labels-idx1-ubyte.gz\n",
            "32768/29515 [=================================] - 0s 0us/step\n",
            "Downloading data from https://storage.googleapis.com/tensorflow/tf-keras-datasets/train-images-idx3-ubyte.gz\n",
            "26427392/26421880 [==============================] - 0s 0us/step\n",
            "Downloading data from https://storage.googleapis.com/tensorflow/tf-keras-datasets/t10k-labels-idx1-ubyte.gz\n",
            "8192/5148 [===============================================] - 0s 0us/step\n",
            "Downloading data from https://storage.googleapis.com/tensorflow/tf-keras-datasets/t10k-images-idx3-ubyte.gz\n",
            "4423680/4422102 [==============================] - 0s 0us/step\n",
            "(60000, 28, 28)\n",
            "(10000, 28, 28)\n"
          ],
          "name": "stdout"
        }
      ]
    },
    {
      "cell_type": "code",
      "metadata": {
        "id": "M1WD0i_-Gwfl"
      },
      "source": [
        "# 2.1 Reshape data for feeding it to NN model\r\n",
        "x_train = x_train.reshape((-1, 784))\r\n",
        "x_test = x_test.reshape((-1, 784))"
      ],
      "execution_count": null,
      "outputs": []
    },
    {
      "cell_type": "code",
      "metadata": {
        "id": "Hgm7Ld0UeAVh"
      },
      "source": [
        "# 2.2 Design an Autoencoder with Subclassing\r\n",
        "#     Ref: https://www.tensorflow.org/guide/keras/custom_layers_and_models\r\n",
        "#     Page 313, Book: Hands-on Machine Learning witgh Scitkit-Learn, Keras, and Tensorflow\r\n",
        "\r\n",
        "latent_dim = 64 \r\n",
        "class Autoencoder(Model):\r\n",
        "\r\n",
        "  # 2.2.1 Design all layers\r\n",
        "  def __init__(self, latent_dim):\r\n",
        "    super(Autoencoder, self).__init__()\r\n",
        "    self.latent_dim = 100\r\n",
        "    # 2.2.2 This is our encoder\r\n",
        "    self.encoder = tf.keras.Sequential(\r\n",
        "                                        [\r\n",
        "                                          layers.Input(shape=(784,)),\r\n",
        "                                          layers.Dense(self.latent_dim, activation='relu'),\r\n",
        "                                          layers.Dense(self.latent_dim, activation='relu'),\r\n",
        "                                          #layers.GaussianNoise(0.1),\r\n",
        "                                          layers.Dense(self.latent_dim, activation='relu')\r\n",
        "                                        ]\r\n",
        "                                       )\r\n",
        "    # 2.2.3 This is our decoder\r\n",
        "    self.decoder = tf.keras.Sequential(\r\n",
        "                                        [\r\n",
        "                                          layers.Dense(self.latent_dim, activation='relu'),\r\n",
        "                                          layers.Dense(self.latent_dim, activation='relu'),\r\n",
        "                                          layers.Dense(784, activation='sigmoid'),\r\n",
        "                                          #layers.Reshape((28, 28))\r\n",
        "                                         ]\r\n",
        "                                       )\r\n",
        "  \r\n",
        "  # 2.2.4 Call function with just one parameter    \r\n",
        "  def call(self, inputs):\r\n",
        "    encoded = self.encoder(inputs)\r\n",
        "    decoded = self.decoder(encoded)\r\n",
        "    return decoded\r\n",
        "\r\n",
        "\r\n"
      ],
      "execution_count": null,
      "outputs": []
    },
    {
      "cell_type": "code",
      "metadata": {
        "colab": {
          "base_uri": "https://localhost:8080/"
        },
        "id": "AVI1uxltfQzP",
        "outputId": "e10aa56e-f0a6-41df-c393-fd2effb18c48"
      },
      "source": [
        "# 3.0 Instantiate, compile and train autoencoder\r\n",
        "autoencoder = Autoencoder(100)\r\n",
        "autoencoder.compile(optimizer='adam', loss=\"mse\")\r\n",
        "autoencoder.fit(x_train, x_train,\r\n",
        "                epochs=100,\r\n",
        "                shuffle=True,\r\n",
        "                validation_data=(x_test, x_test))\r\n"
      ],
      "execution_count": null,
      "outputs": [
        {
          "output_type": "stream",
          "text": [
            "Epoch 1/100\n",
            "1875/1875 [==============================] - 9s 4ms/step - loss: 0.0385 - val_loss: 0.0178\n",
            "Epoch 2/100\n",
            "1875/1875 [==============================] - 8s 4ms/step - loss: 0.0168 - val_loss: 0.0151\n",
            "Epoch 3/100\n",
            "1875/1875 [==============================] - 8s 4ms/step - loss: 0.0143 - val_loss: 0.0132\n",
            "Epoch 4/100\n",
            "1875/1875 [==============================] - 8s 5ms/step - loss: 0.0130 - val_loss: 0.0124\n",
            "Epoch 5/100\n",
            "1875/1875 [==============================] - 8s 4ms/step - loss: 0.0123 - val_loss: 0.0119\n",
            "Epoch 6/100\n",
            "1875/1875 [==============================] - 8s 4ms/step - loss: 0.0117 - val_loss: 0.0113\n",
            "Epoch 7/100\n",
            "1875/1875 [==============================] - 8s 4ms/step - loss: 0.0112 - val_loss: 0.0110\n",
            "Epoch 8/100\n",
            "1875/1875 [==============================] - 8s 4ms/step - loss: 0.0108 - val_loss: 0.0107\n",
            "Epoch 9/100\n",
            "1875/1875 [==============================] - 8s 4ms/step - loss: 0.0105 - val_loss: 0.0104\n",
            "Epoch 10/100\n",
            "1875/1875 [==============================] - 8s 4ms/step - loss: 0.0102 - val_loss: 0.0101\n",
            "Epoch 11/100\n",
            "1875/1875 [==============================] - 8s 4ms/step - loss: 0.0100 - val_loss: 0.0098\n",
            "Epoch 12/100\n",
            "1875/1875 [==============================] - 8s 4ms/step - loss: 0.0099 - val_loss: 0.0098\n",
            "Epoch 13/100\n",
            "1875/1875 [==============================] - 8s 4ms/step - loss: 0.0096 - val_loss: 0.0097\n",
            "Epoch 14/100\n",
            "1875/1875 [==============================] - 8s 4ms/step - loss: 0.0095 - val_loss: 0.0097\n",
            "Epoch 15/100\n",
            "1875/1875 [==============================] - 8s 4ms/step - loss: 0.0093 - val_loss: 0.0095\n",
            "Epoch 16/100\n",
            "1875/1875 [==============================] - 8s 4ms/step - loss: 0.0092 - val_loss: 0.0093\n",
            "Epoch 17/100\n",
            "1875/1875 [==============================] - 8s 4ms/step - loss: 0.0091 - val_loss: 0.0094\n",
            "Epoch 18/100\n",
            "1875/1875 [==============================] - 8s 4ms/step - loss: 0.0090 - val_loss: 0.0092\n",
            "Epoch 19/100\n",
            "1875/1875 [==============================] - 8s 4ms/step - loss: 0.0089 - val_loss: 0.0091\n",
            "Epoch 20/100\n",
            "1875/1875 [==============================] - 8s 4ms/step - loss: 0.0090 - val_loss: 0.0090\n",
            "Epoch 21/100\n",
            "1875/1875 [==============================] - 8s 4ms/step - loss: 0.0089 - val_loss: 0.0090\n",
            "Epoch 22/100\n",
            "1875/1875 [==============================] - 8s 4ms/step - loss: 0.0087 - val_loss: 0.0088\n",
            "Epoch 23/100\n",
            "1875/1875 [==============================] - 8s 4ms/step - loss: 0.0086 - val_loss: 0.0089\n",
            "Epoch 24/100\n",
            "1875/1875 [==============================] - 8s 4ms/step - loss: 0.0086 - val_loss: 0.0088\n",
            "Epoch 25/100\n",
            "1875/1875 [==============================] - 8s 4ms/step - loss: 0.0085 - val_loss: 0.0088\n",
            "Epoch 26/100\n",
            "1875/1875 [==============================] - 8s 4ms/step - loss: 0.0085 - val_loss: 0.0086\n",
            "Epoch 27/100\n",
            "1875/1875 [==============================] - 8s 4ms/step - loss: 0.0084 - val_loss: 0.0085\n",
            "Epoch 28/100\n",
            "1875/1875 [==============================] - 8s 4ms/step - loss: 0.0084 - val_loss: 0.0084\n",
            "Epoch 29/100\n",
            "1875/1875 [==============================] - 8s 4ms/step - loss: 0.0083 - val_loss: 0.0084\n",
            "Epoch 30/100\n",
            "1875/1875 [==============================] - 8s 4ms/step - loss: 0.0083 - val_loss: 0.0084\n",
            "Epoch 31/100\n",
            "1875/1875 [==============================] - 8s 4ms/step - loss: 0.0083 - val_loss: 0.0085\n",
            "Epoch 32/100\n",
            "1875/1875 [==============================] - 8s 4ms/step - loss: 0.0083 - val_loss: 0.0084\n",
            "Epoch 33/100\n",
            "1875/1875 [==============================] - 9s 5ms/step - loss: 0.0082 - val_loss: 0.0083\n",
            "Epoch 34/100\n",
            "1875/1875 [==============================] - 8s 4ms/step - loss: 0.0082 - val_loss: 0.0084\n",
            "Epoch 35/100\n",
            "1875/1875 [==============================] - 8s 4ms/step - loss: 0.0081 - val_loss: 0.0083\n",
            "Epoch 36/100\n",
            "1875/1875 [==============================] - 8s 4ms/step - loss: 0.0081 - val_loss: 0.0083\n",
            "Epoch 37/100\n",
            "1875/1875 [==============================] - 8s 4ms/step - loss: 0.0081 - val_loss: 0.0083\n",
            "Epoch 38/100\n",
            "1875/1875 [==============================] - 8s 4ms/step - loss: 0.0081 - val_loss: 0.0081\n",
            "Epoch 39/100\n",
            "1875/1875 [==============================] - 8s 4ms/step - loss: 0.0081 - val_loss: 0.0083\n",
            "Epoch 40/100\n",
            "1875/1875 [==============================] - 8s 4ms/step - loss: 0.0080 - val_loss: 0.0082\n",
            "Epoch 41/100\n",
            "1875/1875 [==============================] - 8s 4ms/step - loss: 0.0080 - val_loss: 0.0081\n",
            "Epoch 42/100\n",
            "1875/1875 [==============================] - 9s 5ms/step - loss: 0.0080 - val_loss: 0.0081\n",
            "Epoch 43/100\n",
            "1875/1875 [==============================] - 8s 4ms/step - loss: 0.0080 - val_loss: 0.0082\n",
            "Epoch 44/100\n",
            "1875/1875 [==============================] - 8s 4ms/step - loss: 0.0080 - val_loss: 0.0081\n",
            "Epoch 45/100\n",
            "1875/1875 [==============================] - 8s 4ms/step - loss: 0.0079 - val_loss: 0.0082\n",
            "Epoch 46/100\n",
            "1875/1875 [==============================] - 8s 4ms/step - loss: 0.0079 - val_loss: 0.0080\n",
            "Epoch 47/100\n",
            "1875/1875 [==============================] - 8s 4ms/step - loss: 0.0079 - val_loss: 0.0080\n",
            "Epoch 48/100\n",
            "1875/1875 [==============================] - 8s 4ms/step - loss: 0.0078 - val_loss: 0.0081\n",
            "Epoch 49/100\n",
            "1875/1875 [==============================] - 8s 4ms/step - loss: 0.0078 - val_loss: 0.0079\n",
            "Epoch 50/100\n",
            "1875/1875 [==============================] - 8s 4ms/step - loss: 0.0078 - val_loss: 0.0080\n",
            "Epoch 51/100\n",
            "1875/1875 [==============================] - 8s 4ms/step - loss: 0.0078 - val_loss: 0.0081\n",
            "Epoch 52/100\n",
            "1875/1875 [==============================] - 8s 4ms/step - loss: 0.0078 - val_loss: 0.0079\n",
            "Epoch 53/100\n",
            "1875/1875 [==============================] - 8s 4ms/step - loss: 0.0077 - val_loss: 0.0081\n",
            "Epoch 54/100\n",
            "1875/1875 [==============================] - 8s 4ms/step - loss: 0.0078 - val_loss: 0.0081\n",
            "Epoch 55/100\n",
            "1875/1875 [==============================] - 8s 4ms/step - loss: 0.0078 - val_loss: 0.0080\n",
            "Epoch 56/100\n",
            "1875/1875 [==============================] - 8s 4ms/step - loss: 0.0077 - val_loss: 0.0080\n",
            "Epoch 57/100\n",
            "1875/1875 [==============================] - 8s 4ms/step - loss: 0.0077 - val_loss: 0.0079\n",
            "Epoch 58/100\n",
            "1875/1875 [==============================] - 8s 4ms/step - loss: 0.0077 - val_loss: 0.0078\n",
            "Epoch 59/100\n",
            "1875/1875 [==============================] - 8s 4ms/step - loss: 0.0077 - val_loss: 0.0079\n",
            "Epoch 60/100\n",
            "1875/1875 [==============================] - 8s 4ms/step - loss: 0.0077 - val_loss: 0.0080\n",
            "Epoch 61/100\n",
            "1875/1875 [==============================] - 8s 4ms/step - loss: 0.0077 - val_loss: 0.0079\n",
            "Epoch 62/100\n",
            "1875/1875 [==============================] - 8s 4ms/step - loss: 0.0077 - val_loss: 0.0078\n",
            "Epoch 63/100\n",
            "1875/1875 [==============================] - 8s 4ms/step - loss: 0.0077 - val_loss: 0.0078\n",
            "Epoch 64/100\n",
            "1875/1875 [==============================] - 8s 4ms/step - loss: 0.0076 - val_loss: 0.0078\n",
            "Epoch 65/100\n",
            "1875/1875 [==============================] - 8s 4ms/step - loss: 0.0076 - val_loss: 0.0077\n",
            "Epoch 66/100\n",
            "1875/1875 [==============================] - 8s 4ms/step - loss: 0.0076 - val_loss: 0.0078\n",
            "Epoch 67/100\n",
            "1875/1875 [==============================] - 8s 4ms/step - loss: 0.0076 - val_loss: 0.0078\n",
            "Epoch 68/100\n",
            "1875/1875 [==============================] - 8s 4ms/step - loss: 0.0076 - val_loss: 0.0079\n",
            "Epoch 69/100\n",
            "1875/1875 [==============================] - 8s 4ms/step - loss: 0.0076 - val_loss: 0.0078\n",
            "Epoch 70/100\n",
            "1875/1875 [==============================] - 8s 4ms/step - loss: 0.0075 - val_loss: 0.0077\n",
            "Epoch 71/100\n",
            "1875/1875 [==============================] - 8s 4ms/step - loss: 0.0075 - val_loss: 0.0078\n",
            "Epoch 72/100\n",
            "1875/1875 [==============================] - 9s 5ms/step - loss: 0.0076 - val_loss: 0.0078\n",
            "Epoch 73/100\n",
            "1875/1875 [==============================] - 9s 5ms/step - loss: 0.0076 - val_loss: 0.0077\n",
            "Epoch 74/100\n",
            "1875/1875 [==============================] - 8s 4ms/step - loss: 0.0075 - val_loss: 0.0077\n",
            "Epoch 75/100\n",
            "1875/1875 [==============================] - 8s 4ms/step - loss: 0.0075 - val_loss: 0.0077\n",
            "Epoch 76/100\n",
            "1875/1875 [==============================] - 8s 4ms/step - loss: 0.0075 - val_loss: 0.0078\n",
            "Epoch 77/100\n",
            "1875/1875 [==============================] - 8s 4ms/step - loss: 0.0075 - val_loss: 0.0076\n",
            "Epoch 78/100\n",
            "1875/1875 [==============================] - 8s 4ms/step - loss: 0.0075 - val_loss: 0.0078\n",
            "Epoch 79/100\n",
            "1875/1875 [==============================] - 8s 4ms/step - loss: 0.0075 - val_loss: 0.0077\n",
            "Epoch 80/100\n",
            "1875/1875 [==============================] - 8s 4ms/step - loss: 0.0075 - val_loss: 0.0079\n",
            "Epoch 81/100\n",
            "1875/1875 [==============================] - 8s 4ms/step - loss: 0.0074 - val_loss: 0.0077\n",
            "Epoch 82/100\n",
            "1875/1875 [==============================] - 8s 4ms/step - loss: 0.0075 - val_loss: 0.0077\n",
            "Epoch 83/100\n",
            "1875/1875 [==============================] - 8s 4ms/step - loss: 0.0075 - val_loss: 0.0078\n",
            "Epoch 84/100\n",
            "1875/1875 [==============================] - 8s 4ms/step - loss: 0.0074 - val_loss: 0.0076\n",
            "Epoch 85/100\n",
            "1875/1875 [==============================] - 8s 4ms/step - loss: 0.0074 - val_loss: 0.0077\n",
            "Epoch 86/100\n",
            "1875/1875 [==============================] - 8s 4ms/step - loss: 0.0074 - val_loss: 0.0076\n",
            "Epoch 87/100\n",
            "1875/1875 [==============================] - 8s 4ms/step - loss: 0.0074 - val_loss: 0.0075\n",
            "Epoch 88/100\n",
            "1875/1875 [==============================] - 8s 4ms/step - loss: 0.0074 - val_loss: 0.0076\n",
            "Epoch 89/100\n",
            "1875/1875 [==============================] - 8s 4ms/step - loss: 0.0074 - val_loss: 0.0075\n",
            "Epoch 90/100\n",
            "1875/1875 [==============================] - 8s 4ms/step - loss: 0.0074 - val_loss: 0.0075\n",
            "Epoch 91/100\n",
            "1875/1875 [==============================] - 8s 4ms/step - loss: 0.0074 - val_loss: 0.0076\n",
            "Epoch 92/100\n",
            "1875/1875 [==============================] - 8s 4ms/step - loss: 0.0074 - val_loss: 0.0075\n",
            "Epoch 93/100\n",
            "1875/1875 [==============================] - 8s 4ms/step - loss: 0.0074 - val_loss: 0.0076\n",
            "Epoch 94/100\n",
            "1875/1875 [==============================] - 8s 4ms/step - loss: 0.0073 - val_loss: 0.0076\n",
            "Epoch 95/100\n",
            "1875/1875 [==============================] - 8s 4ms/step - loss: 0.0073 - val_loss: 0.0075\n",
            "Epoch 96/100\n",
            "1875/1875 [==============================] - 8s 4ms/step - loss: 0.0073 - val_loss: 0.0076\n",
            "Epoch 97/100\n",
            "1875/1875 [==============================] - 8s 4ms/step - loss: 0.0074 - val_loss: 0.0074\n",
            "Epoch 98/100\n",
            "1875/1875 [==============================] - 8s 4ms/step - loss: 0.0074 - val_loss: 0.0076\n",
            "Epoch 99/100\n",
            "1875/1875 [==============================] - 8s 4ms/step - loss: 0.0073 - val_loss: 0.0075\n",
            "Epoch 100/100\n",
            "1875/1875 [==============================] - 8s 4ms/step - loss: 0.0073 - val_loss: 0.0075\n"
          ],
          "name": "stdout"
        },
        {
          "output_type": "execute_result",
          "data": {
            "text/plain": [
              "<tensorflow.python.keras.callbacks.History at 0x7fc5c3db2080>"
            ]
          },
          "metadata": {
            "tags": []
          },
          "execution_count": 9
        }
      ]
    },
    {
      "cell_type": "code",
      "metadata": {
        "colab": {
          "base_uri": "https://localhost:8080/"
        },
        "id": "fSDAglHweeFP",
        "outputId": "5c4fb96a-bb41-4f19-c207-4c578e4f3928"
      },
      "source": [
        "# 3.1 Layer-wise summary\r\n",
        "print(\"\\nSummary\")\r\n",
        "print(\"============\")\r\n",
        "autoencoder.summary()\r\n",
        "# 3.1.1\r\n",
        "print(\"\\n\\nLayers in autoencoder\")\r\n",
        "print(\"============\")\r\n",
        "autoencoder.layers"
      ],
      "execution_count": null,
      "outputs": [
        {
          "output_type": "stream",
          "text": [
            "\n",
            "Summary\n",
            "============\n",
            "Model: \"autoencoder\"\n",
            "_________________________________________________________________\n",
            "Layer (type)                 Output Shape              Param #   \n",
            "=================================================================\n",
            "sequential (Sequential)      (None, 100)               98700     \n",
            "_________________________________________________________________\n",
            "sequential_1 (Sequential)    (None, 784)               99384     \n",
            "=================================================================\n",
            "Total params: 198,084\n",
            "Trainable params: 198,084\n",
            "Non-trainable params: 0\n",
            "_________________________________________________________________\n",
            "\n",
            "\n",
            "Layers in autoencoder\n",
            "============\n"
          ],
          "name": "stdout"
        },
        {
          "output_type": "execute_result",
          "data": {
            "text/plain": [
              "[<tensorflow.python.keras.engine.sequential.Sequential at 0x7fc58a21c630>,\n",
              " <tensorflow.python.keras.engine.sequential.Sequential at 0x7fc58a29a4e0>]"
            ]
          },
          "metadata": {
            "tags": []
          },
          "execution_count": 12
        }
      ]
    },
    {
      "cell_type": "code",
      "metadata": {
        "colab": {
          "base_uri": "https://localhost:8080/"
        },
        "id": "zjOHPoSaet3Y",
        "outputId": "c4c7867b-d75b-4180-a04f-cc877fe98557"
      },
      "source": [
        "# 3.2 Just look at layers\r\n",
        "autoencoder.layers \r\n"
      ],
      "execution_count": null,
      "outputs": [
        {
          "output_type": "execute_result",
          "data": {
            "text/plain": [
              "[<tensorflow.python.keras.engine.sequential.Sequential at 0x7fb760fae828>,\n",
              " <tensorflow.python.keras.engine.sequential.Sequential at 0x7fb760ebd4e0>]"
            ]
          },
          "metadata": {
            "tags": []
          },
          "execution_count": 108
        },
        {
          "output_type": "execute_result",
          "data": {
            "text/plain": [
              "<tensorflow.python.keras.engine.sequential.Sequential at 0x7fb760fae828>"
            ]
          },
          "metadata": {
            "tags": []
          },
          "execution_count": 108
        }
      ]
    },
    {
      "cell_type": "markdown",
      "metadata": {
        "id": "d8cL4Z4zj2KK"
      },
      "source": [
        "# Perform classification using pre-trained weights"
      ]
    },
    {
      "cell_type": "code",
      "metadata": {
        "id": "o36gyv5nIODO"
      },
      "source": [
        "# 4.0 Define Classification model function\r\n",
        "#     \r\n",
        "def class_model(trainable = False):\r\n",
        "  model1 = tf.keras.models.Sequential()\r\n",
        "  # 4.1 Add autoencoder as a layer\r\n",
        "  #     But only the 'enmcoder' part\r\n",
        "  model1.add(autoencoder.layers[-2])\r\n",
        "  # 4.2 This is the output layer of our model\r\n",
        "  model1.add(layers.Dense(10,activation = \"softmax\"))\r\n",
        "  # 4.3 No training for autoencoder\r\n",
        "  autoencoder.layers[-2].trainable = trainable\r\n",
        "  model1.layers[0].trainable = trainable\r\n",
        "  return model1"
      ],
      "execution_count": null,
      "outputs": []
    },
    {
      "cell_type": "code",
      "metadata": {
        "colab": {
          "base_uri": "https://localhost:8080/"
        },
        "id": "pJyB92zeJVL2",
        "outputId": "c0e23077-b9b2-448c-ddfb-c26a7343dfe4"
      },
      "source": [
        "# 5.0 Instantiate classification model and train it\r\n",
        "model1 = class_model(False)\r\n",
        "# 5.1\r\n",
        "model1.compile(loss = \"sparse_categorical_crossentropy\", metrics = \"accuracy\")\r\n",
        "# 5.2\r\n",
        "model1.fit(x_train, y_train,\r\n",
        "                epochs=100,\r\n",
        "                shuffle=True,\r\n",
        "                validation_data=(x_test, y_test)\r\n",
        "                )"
      ],
      "execution_count": null,
      "outputs": [
        {
          "output_type": "stream",
          "text": [
            "Epoch 1/100\n",
            "1875/1875 [==============================] - 3s 2ms/step - loss: 1.2779 - accuracy: 0.5760 - val_loss: 0.5459 - val_accuracy: 0.8049\n",
            "Epoch 2/100\n",
            "1875/1875 [==============================] - 3s 1ms/step - loss: 0.5065 - accuracy: 0.8183 - val_loss: 0.5032 - val_accuracy: 0.8198\n",
            "Epoch 3/100\n",
            "1875/1875 [==============================] - 3s 1ms/step - loss: 0.4702 - accuracy: 0.8314 - val_loss: 0.4947 - val_accuracy: 0.8263\n",
            "Epoch 4/100\n",
            "1875/1875 [==============================] - 3s 1ms/step - loss: 0.4554 - accuracy: 0.8378 - val_loss: 0.4802 - val_accuracy: 0.8314\n",
            "Epoch 5/100\n",
            "1875/1875 [==============================] - 3s 1ms/step - loss: 0.4473 - accuracy: 0.8397 - val_loss: 0.4732 - val_accuracy: 0.8344\n",
            "Epoch 6/100\n",
            "1875/1875 [==============================] - 3s 1ms/step - loss: 0.4339 - accuracy: 0.8456 - val_loss: 0.4774 - val_accuracy: 0.8293\n",
            "Epoch 7/100\n",
            "1875/1875 [==============================] - 3s 1ms/step - loss: 0.4412 - accuracy: 0.8438 - val_loss: 0.4755 - val_accuracy: 0.8310\n",
            "Epoch 8/100\n",
            "1875/1875 [==============================] - 3s 1ms/step - loss: 0.4398 - accuracy: 0.8450 - val_loss: 0.4797 - val_accuracy: 0.8312\n",
            "Epoch 9/100\n",
            "1875/1875 [==============================] - 3s 1ms/step - loss: 0.4358 - accuracy: 0.8463 - val_loss: 0.4674 - val_accuracy: 0.8373\n",
            "Epoch 10/100\n",
            "1875/1875 [==============================] - 3s 1ms/step - loss: 0.4343 - accuracy: 0.8459 - val_loss: 0.4752 - val_accuracy: 0.8322\n",
            "Epoch 11/100\n",
            "1875/1875 [==============================] - 3s 2ms/step - loss: 0.4320 - accuracy: 0.8467 - val_loss: 0.4682 - val_accuracy: 0.8382\n",
            "Epoch 12/100\n",
            "1875/1875 [==============================] - 3s 1ms/step - loss: 0.4310 - accuracy: 0.8482 - val_loss: 0.4786 - val_accuracy: 0.8338\n",
            "Epoch 13/100\n",
            "1875/1875 [==============================] - 3s 2ms/step - loss: 0.4342 - accuracy: 0.8465 - val_loss: 0.4653 - val_accuracy: 0.8363\n",
            "Epoch 14/100\n",
            "1875/1875 [==============================] - 3s 1ms/step - loss: 0.4239 - accuracy: 0.8500 - val_loss: 0.4782 - val_accuracy: 0.8351\n",
            "Epoch 15/100\n",
            "1875/1875 [==============================] - 3s 1ms/step - loss: 0.4288 - accuracy: 0.8506 - val_loss: 0.4705 - val_accuracy: 0.8383\n",
            "Epoch 16/100\n",
            "1875/1875 [==============================] - 3s 1ms/step - loss: 0.4285 - accuracy: 0.8494 - val_loss: 0.4656 - val_accuracy: 0.8397\n",
            "Epoch 17/100\n",
            "1875/1875 [==============================] - 3s 1ms/step - loss: 0.4232 - accuracy: 0.8507 - val_loss: 0.4794 - val_accuracy: 0.8321\n",
            "Epoch 18/100\n",
            "1875/1875 [==============================] - 3s 1ms/step - loss: 0.4292 - accuracy: 0.8492 - val_loss: 0.4688 - val_accuracy: 0.8383\n",
            "Epoch 19/100\n",
            "1875/1875 [==============================] - 3s 2ms/step - loss: 0.4333 - accuracy: 0.8508 - val_loss: 0.4645 - val_accuracy: 0.8388\n",
            "Epoch 20/100\n",
            "1875/1875 [==============================] - 3s 1ms/step - loss: 0.4191 - accuracy: 0.8516 - val_loss: 0.4697 - val_accuracy: 0.8382\n",
            "Epoch 21/100\n",
            "1875/1875 [==============================] - 3s 1ms/step - loss: 0.4290 - accuracy: 0.8485 - val_loss: 0.4746 - val_accuracy: 0.8400\n",
            "Epoch 22/100\n",
            "1875/1875 [==============================] - 3s 1ms/step - loss: 0.4295 - accuracy: 0.8496 - val_loss: 0.4645 - val_accuracy: 0.8385\n",
            "Epoch 23/100\n",
            "1875/1875 [==============================] - 3s 1ms/step - loss: 0.4294 - accuracy: 0.8492 - val_loss: 0.4887 - val_accuracy: 0.8302\n",
            "Epoch 24/100\n",
            "1875/1875 [==============================] - 3s 1ms/step - loss: 0.4289 - accuracy: 0.8482 - val_loss: 0.4875 - val_accuracy: 0.8322\n",
            "Epoch 25/100\n",
            "1875/1875 [==============================] - 3s 1ms/step - loss: 0.4208 - accuracy: 0.8517 - val_loss: 0.4776 - val_accuracy: 0.8324\n",
            "Epoch 26/100\n",
            "1875/1875 [==============================] - 3s 1ms/step - loss: 0.4329 - accuracy: 0.8478 - val_loss: 0.4686 - val_accuracy: 0.8388\n",
            "Epoch 27/100\n",
            "1875/1875 [==============================] - 3s 1ms/step - loss: 0.4246 - accuracy: 0.8517 - val_loss: 0.4733 - val_accuracy: 0.8384\n",
            "Epoch 28/100\n",
            "1875/1875 [==============================] - 3s 1ms/step - loss: 0.4296 - accuracy: 0.8480 - val_loss: 0.4728 - val_accuracy: 0.8390\n",
            "Epoch 29/100\n",
            "1875/1875 [==============================] - 3s 1ms/step - loss: 0.4290 - accuracy: 0.8510 - val_loss: 0.4678 - val_accuracy: 0.8394\n",
            "Epoch 30/100\n",
            "1875/1875 [==============================] - 3s 1ms/step - loss: 0.4266 - accuracy: 0.8503 - val_loss: 0.4755 - val_accuracy: 0.8387\n",
            "Epoch 31/100\n",
            "1875/1875 [==============================] - 3s 1ms/step - loss: 0.4325 - accuracy: 0.8497 - val_loss: 0.4684 - val_accuracy: 0.8390\n",
            "Epoch 32/100\n",
            "1875/1875 [==============================] - 3s 1ms/step - loss: 0.4269 - accuracy: 0.8504 - val_loss: 0.4683 - val_accuracy: 0.8379\n",
            "Epoch 33/100\n",
            "1875/1875 [==============================] - 3s 1ms/step - loss: 0.4354 - accuracy: 0.8495 - val_loss: 0.4723 - val_accuracy: 0.8391\n",
            "Epoch 34/100\n",
            "1875/1875 [==============================] - 3s 1ms/step - loss: 0.4219 - accuracy: 0.8533 - val_loss: 0.4687 - val_accuracy: 0.8404\n",
            "Epoch 35/100\n",
            "1875/1875 [==============================] - 3s 1ms/step - loss: 0.4267 - accuracy: 0.8506 - val_loss: 0.4709 - val_accuracy: 0.8393\n",
            "Epoch 36/100\n",
            "1875/1875 [==============================] - 3s 1ms/step - loss: 0.4270 - accuracy: 0.8501 - val_loss: 0.4707 - val_accuracy: 0.8391\n",
            "Epoch 37/100\n",
            "1875/1875 [==============================] - 3s 1ms/step - loss: 0.4322 - accuracy: 0.8493 - val_loss: 0.4731 - val_accuracy: 0.8362\n",
            "Epoch 38/100\n",
            "1875/1875 [==============================] - 3s 1ms/step - loss: 0.4300 - accuracy: 0.8515 - val_loss: 0.4695 - val_accuracy: 0.8371\n",
            "Epoch 39/100\n",
            "1875/1875 [==============================] - 3s 1ms/step - loss: 0.4245 - accuracy: 0.8525 - val_loss: 0.4756 - val_accuracy: 0.8372\n",
            "Epoch 40/100\n",
            "1875/1875 [==============================] - 3s 1ms/step - loss: 0.4300 - accuracy: 0.8517 - val_loss: 0.4752 - val_accuracy: 0.8349\n",
            "Epoch 41/100\n",
            "1875/1875 [==============================] - 3s 1ms/step - loss: 0.4315 - accuracy: 0.8480 - val_loss: 0.4724 - val_accuracy: 0.8407\n",
            "Epoch 42/100\n",
            "1875/1875 [==============================] - 3s 1ms/step - loss: 0.4288 - accuracy: 0.8526 - val_loss: 0.4735 - val_accuracy: 0.8390\n",
            "Epoch 43/100\n",
            "1875/1875 [==============================] - 3s 1ms/step - loss: 0.4275 - accuracy: 0.8506 - val_loss: 0.4806 - val_accuracy: 0.8378\n",
            "Epoch 44/100\n",
            "1875/1875 [==============================] - 3s 1ms/step - loss: 0.4305 - accuracy: 0.8511 - val_loss: 0.4749 - val_accuracy: 0.8373\n",
            "Epoch 45/100\n",
            "1875/1875 [==============================] - 3s 1ms/step - loss: 0.4314 - accuracy: 0.8507 - val_loss: 0.4729 - val_accuracy: 0.8400\n",
            "Epoch 46/100\n",
            "1875/1875 [==============================] - 3s 1ms/step - loss: 0.4329 - accuracy: 0.8507 - val_loss: 0.4744 - val_accuracy: 0.8355\n",
            "Epoch 47/100\n",
            "1875/1875 [==============================] - 3s 1ms/step - loss: 0.4285 - accuracy: 0.8509 - val_loss: 0.4748 - val_accuracy: 0.8393\n",
            "Epoch 48/100\n",
            "1875/1875 [==============================] - 3s 1ms/step - loss: 0.4377 - accuracy: 0.8483 - val_loss: 0.4810 - val_accuracy: 0.8340\n",
            "Epoch 49/100\n",
            "1875/1875 [==============================] - 3s 1ms/step - loss: 0.4254 - accuracy: 0.8532 - val_loss: 0.4765 - val_accuracy: 0.8382\n",
            "Epoch 50/100\n",
            "1875/1875 [==============================] - 3s 1ms/step - loss: 0.4255 - accuracy: 0.8524 - val_loss: 0.4701 - val_accuracy: 0.8396\n",
            "Epoch 51/100\n",
            "1875/1875 [==============================] - 3s 1ms/step - loss: 0.4324 - accuracy: 0.8506 - val_loss: 0.4733 - val_accuracy: 0.8403\n",
            "Epoch 52/100\n",
            "1875/1875 [==============================] - 3s 2ms/step - loss: 0.4266 - accuracy: 0.8522 - val_loss: 0.4741 - val_accuracy: 0.8366\n",
            "Epoch 53/100\n",
            "1875/1875 [==============================] - 3s 2ms/step - loss: 0.4263 - accuracy: 0.8494 - val_loss: 0.4772 - val_accuracy: 0.8377\n",
            "Epoch 54/100\n",
            "1875/1875 [==============================] - 4s 2ms/step - loss: 0.4274 - accuracy: 0.8523 - val_loss: 0.4729 - val_accuracy: 0.8389\n",
            "Epoch 55/100\n",
            "1875/1875 [==============================] - 4s 2ms/step - loss: 0.4196 - accuracy: 0.8523 - val_loss: 0.4722 - val_accuracy: 0.8393\n",
            "Epoch 56/100\n",
            "1875/1875 [==============================] - 3s 2ms/step - loss: 0.4264 - accuracy: 0.8517 - val_loss: 0.4816 - val_accuracy: 0.8372\n",
            "Epoch 57/100\n",
            "1875/1875 [==============================] - 3s 1ms/step - loss: 0.4253 - accuracy: 0.8550 - val_loss: 0.4739 - val_accuracy: 0.8391\n",
            "Epoch 58/100\n",
            "1875/1875 [==============================] - 3s 1ms/step - loss: 0.4323 - accuracy: 0.8517 - val_loss: 0.4771 - val_accuracy: 0.8385\n",
            "Epoch 59/100\n",
            "1875/1875 [==============================] - 3s 1ms/step - loss: 0.4248 - accuracy: 0.8520 - val_loss: 0.4732 - val_accuracy: 0.8402\n",
            "Epoch 60/100\n",
            "1875/1875 [==============================] - 3s 1ms/step - loss: 0.4295 - accuracy: 0.8523 - val_loss: 0.4752 - val_accuracy: 0.8371\n",
            "Epoch 61/100\n",
            "1875/1875 [==============================] - 3s 1ms/step - loss: 0.4277 - accuracy: 0.8510 - val_loss: 0.4750 - val_accuracy: 0.8394\n",
            "Epoch 62/100\n",
            "1875/1875 [==============================] - 3s 1ms/step - loss: 0.4225 - accuracy: 0.8537 - val_loss: 0.4743 - val_accuracy: 0.8401\n",
            "Epoch 63/100\n",
            "1875/1875 [==============================] - 3s 1ms/step - loss: 0.4296 - accuracy: 0.8527 - val_loss: 0.4778 - val_accuracy: 0.8361\n",
            "Epoch 64/100\n",
            "1875/1875 [==============================] - 3s 1ms/step - loss: 0.4296 - accuracy: 0.8499 - val_loss: 0.4738 - val_accuracy: 0.8398\n",
            "Epoch 65/100\n",
            "1875/1875 [==============================] - 3s 1ms/step - loss: 0.4329 - accuracy: 0.8529 - val_loss: 0.4734 - val_accuracy: 0.8403\n",
            "Epoch 66/100\n",
            "1875/1875 [==============================] - 3s 1ms/step - loss: 0.4298 - accuracy: 0.8528 - val_loss: 0.4767 - val_accuracy: 0.8391\n",
            "Epoch 67/100\n",
            "1875/1875 [==============================] - 3s 1ms/step - loss: 0.4264 - accuracy: 0.8534 - val_loss: 0.4765 - val_accuracy: 0.8395\n",
            "Epoch 68/100\n",
            "1875/1875 [==============================] - 3s 1ms/step - loss: 0.4344 - accuracy: 0.8518 - val_loss: 0.4788 - val_accuracy: 0.8404\n",
            "Epoch 69/100\n",
            "1875/1875 [==============================] - 3s 1ms/step - loss: 0.4257 - accuracy: 0.8541 - val_loss: 0.4866 - val_accuracy: 0.8356\n",
            "Epoch 70/100\n",
            "1875/1875 [==============================] - 3s 1ms/step - loss: 0.4318 - accuracy: 0.8511 - val_loss: 0.4784 - val_accuracy: 0.8374\n",
            "Epoch 71/100\n",
            "1875/1875 [==============================] - 3s 1ms/step - loss: 0.4256 - accuracy: 0.8515 - val_loss: 0.4811 - val_accuracy: 0.8358\n",
            "Epoch 72/100\n",
            "1875/1875 [==============================] - 3s 1ms/step - loss: 0.4281 - accuracy: 0.8521 - val_loss: 0.4745 - val_accuracy: 0.8397\n",
            "Epoch 73/100\n",
            "1875/1875 [==============================] - 3s 1ms/step - loss: 0.4351 - accuracy: 0.8490 - val_loss: 0.4815 - val_accuracy: 0.8388\n",
            "Epoch 74/100\n",
            "1875/1875 [==============================] - 3s 1ms/step - loss: 0.4317 - accuracy: 0.8530 - val_loss: 0.4811 - val_accuracy: 0.8381\n",
            "Epoch 75/100\n",
            "1875/1875 [==============================] - 3s 1ms/step - loss: 0.4378 - accuracy: 0.8496 - val_loss: 0.4820 - val_accuracy: 0.8383\n",
            "Epoch 76/100\n",
            "1875/1875 [==============================] - 3s 1ms/step - loss: 0.4321 - accuracy: 0.8527 - val_loss: 0.4764 - val_accuracy: 0.8377\n",
            "Epoch 77/100\n",
            "1875/1875 [==============================] - 3s 1ms/step - loss: 0.4273 - accuracy: 0.8531 - val_loss: 0.4733 - val_accuracy: 0.8391\n",
            "Epoch 78/100\n",
            "1875/1875 [==============================] - 3s 1ms/step - loss: 0.4306 - accuracy: 0.8537 - val_loss: 0.4749 - val_accuracy: 0.8388\n",
            "Epoch 79/100\n",
            "1875/1875 [==============================] - 3s 1ms/step - loss: 0.4239 - accuracy: 0.8529 - val_loss: 0.4789 - val_accuracy: 0.8368\n",
            "Epoch 80/100\n",
            "1875/1875 [==============================] - 3s 1ms/step - loss: 0.4359 - accuracy: 0.8524 - val_loss: 0.4841 - val_accuracy: 0.8400\n",
            "Epoch 81/100\n",
            "1875/1875 [==============================] - 3s 1ms/step - loss: 0.4301 - accuracy: 0.8512 - val_loss: 0.4779 - val_accuracy: 0.8405\n",
            "Epoch 82/100\n",
            "1875/1875 [==============================] - 3s 2ms/step - loss: 0.4241 - accuracy: 0.8534 - val_loss: 0.4745 - val_accuracy: 0.8407\n",
            "Epoch 83/100\n",
            "1875/1875 [==============================] - 3s 2ms/step - loss: 0.4249 - accuracy: 0.8529 - val_loss: 0.4855 - val_accuracy: 0.8355\n",
            "Epoch 84/100\n",
            "1875/1875 [==============================] - 3s 2ms/step - loss: 0.4271 - accuracy: 0.8541 - val_loss: 0.4810 - val_accuracy: 0.8396\n",
            "Epoch 85/100\n",
            "1875/1875 [==============================] - 3s 1ms/step - loss: 0.4353 - accuracy: 0.8500 - val_loss: 0.4829 - val_accuracy: 0.8392\n",
            "Epoch 86/100\n",
            "1875/1875 [==============================] - 3s 1ms/step - loss: 0.4329 - accuracy: 0.8516 - val_loss: 0.4752 - val_accuracy: 0.8405\n",
            "Epoch 87/100\n",
            "1875/1875 [==============================] - 3s 1ms/step - loss: 0.4229 - accuracy: 0.8527 - val_loss: 0.4756 - val_accuracy: 0.8381\n",
            "Epoch 88/100\n",
            "1875/1875 [==============================] - 3s 1ms/step - loss: 0.4271 - accuracy: 0.8531 - val_loss: 0.4771 - val_accuracy: 0.8372\n",
            "Epoch 89/100\n",
            "1875/1875 [==============================] - 3s 2ms/step - loss: 0.4260 - accuracy: 0.8523 - val_loss: 0.4779 - val_accuracy: 0.8381\n",
            "Epoch 90/100\n",
            "1875/1875 [==============================] - 3s 1ms/step - loss: 0.4360 - accuracy: 0.8507 - val_loss: 0.4805 - val_accuracy: 0.8373\n",
            "Epoch 91/100\n",
            "1875/1875 [==============================] - 3s 1ms/step - loss: 0.4372 - accuracy: 0.8494 - val_loss: 0.4811 - val_accuracy: 0.8383\n",
            "Epoch 92/100\n",
            "1875/1875 [==============================] - 3s 1ms/step - loss: 0.4319 - accuracy: 0.8534 - val_loss: 0.4830 - val_accuracy: 0.8371\n",
            "Epoch 93/100\n",
            "1875/1875 [==============================] - 3s 1ms/step - loss: 0.4356 - accuracy: 0.8513 - val_loss: 0.4801 - val_accuracy: 0.8375\n",
            "Epoch 94/100\n",
            "1875/1875 [==============================] - 3s 1ms/step - loss: 0.4405 - accuracy: 0.8507 - val_loss: 0.4787 - val_accuracy: 0.8402\n",
            "Epoch 95/100\n",
            "1875/1875 [==============================] - 3s 1ms/step - loss: 0.4377 - accuracy: 0.8519 - val_loss: 0.4829 - val_accuracy: 0.8354\n",
            "Epoch 96/100\n",
            "1875/1875 [==============================] - 3s 1ms/step - loss: 0.4294 - accuracy: 0.8515 - val_loss: 0.4839 - val_accuracy: 0.8368\n",
            "Epoch 97/100\n",
            "1875/1875 [==============================] - 3s 1ms/step - loss: 0.4335 - accuracy: 0.8520 - val_loss: 0.4841 - val_accuracy: 0.8371\n",
            "Epoch 98/100\n",
            "1875/1875 [==============================] - 3s 1ms/step - loss: 0.4308 - accuracy: 0.8541 - val_loss: 0.4882 - val_accuracy: 0.8363\n",
            "Epoch 99/100\n",
            "1875/1875 [==============================] - 3s 1ms/step - loss: 0.4308 - accuracy: 0.8532 - val_loss: 0.4831 - val_accuracy: 0.8394\n",
            "Epoch 100/100\n",
            "1875/1875 [==============================] - 3s 1ms/step - loss: 0.4324 - accuracy: 0.8538 - val_loss: 0.4830 - val_accuracy: 0.8383\n"
          ],
          "name": "stdout"
        },
        {
          "output_type": "execute_result",
          "data": {
            "text/plain": [
              "<tensorflow.python.keras.callbacks.History at 0x7fb760f972e8>"
            ]
          },
          "metadata": {
            "tags": []
          },
          "execution_count": 110
        }
      ]
    },
    {
      "cell_type": "code",
      "metadata": {
        "colab": {
          "base_uri": "https://localhost:8080/"
        },
        "id": "Q0_gpKiokzp9",
        "outputId": "a478d6af-4e39-48da-e1f4-935e72134c3c"
      },
      "source": [
        "# 5.3 Evaluate model\r\n",
        "model1.evaluate(x_test, y_test)"
      ],
      "execution_count": null,
      "outputs": [
        {
          "output_type": "stream",
          "text": [
            "313/313 [==============================] - 0s 1ms/step - loss: 0.4830 - accuracy: 0.8383\n"
          ],
          "name": "stdout"
        },
        {
          "output_type": "execute_result",
          "data": {
            "text/plain": [
              "[0.482998251914978, 0.8382999897003174]"
            ]
          },
          "metadata": {
            "tags": []
          },
          "execution_count": 111
        }
      ]
    },
    {
      "cell_type": "code",
      "metadata": {
        "colab": {
          "base_uri": "https://localhost:8080/"
        },
        "id": "oi0kq3elIpq9",
        "outputId": "38ebca6b-ee1c-4634-cd56-ca155d598c86"
      },
      "source": [
        "# 5.4 Also get its summary\r\n",
        "model1.summary()"
      ],
      "execution_count": null,
      "outputs": [
        {
          "output_type": "stream",
          "text": [
            "Model: \"sequential_38\"\n",
            "_________________________________________________________________\n",
            "Layer (type)                 Output Shape              Param #   \n",
            "=================================================================\n",
            "sequential_36 (Sequential)   (None, 100)               98700     \n",
            "_________________________________________________________________\n",
            "dense_74 (Dense)             (None, 10)                1010      \n",
            "=================================================================\n",
            "Total params: 99,710\n",
            "Trainable params: 1,010\n",
            "Non-trainable params: 98,700\n",
            "_________________________________________________________________\n"
          ],
          "name": "stdout"
        }
      ]
    },
    {
      "cell_type": "code",
      "metadata": {
        "colab": {
          "base_uri": "https://localhost:8080/"
        },
        "id": "5mYAfU_zObRU",
        "outputId": "e1d07f75-6c06-4de8-b27a-d7e0257213f0"
      },
      "source": [
        "# 6.0 Run the classification model again but \r\n",
        "#     this time train the autoencoder layer\r\n",
        "\r\n",
        "model2 = class_model(True)\r\n",
        "# 6.1\r\n",
        "model2.compile(loss = \"sparse_categorical_crossentropy\", metrics = \"accuracy\")\r\n",
        "# 6.2\r\n",
        "model2.fit(x_train, y_train,\r\n",
        "                epochs=100,\r\n",
        "                shuffle=True,\r\n",
        "                validation_data=(x_test, y_test)\r\n",
        "                )"
      ],
      "execution_count": null,
      "outputs": [
        {
          "output_type": "stream",
          "text": [
            "Epoch 1/100\n",
            "1875/1875 [==============================] - 6s 3ms/step - loss: 0.6101 - accuracy: 0.7876 - val_loss: 0.4078 - val_accuracy: 0.8542\n",
            "Epoch 2/100\n",
            "1875/1875 [==============================] - 5s 3ms/step - loss: 0.3718 - accuracy: 0.8666 - val_loss: 0.3709 - val_accuracy: 0.8703\n",
            "Epoch 3/100\n",
            "1875/1875 [==============================] - 5s 3ms/step - loss: 0.3360 - accuracy: 0.8811 - val_loss: 0.3795 - val_accuracy: 0.8715\n",
            "Epoch 4/100\n",
            "1875/1875 [==============================] - 7s 4ms/step - loss: 0.3381 - accuracy: 0.8791 - val_loss: 0.4454 - val_accuracy: 0.8510\n",
            "Epoch 5/100\n",
            "1875/1875 [==============================] - 5s 3ms/step - loss: 0.3377 - accuracy: 0.8826 - val_loss: 0.4432 - val_accuracy: 0.8696\n",
            "Epoch 6/100\n",
            "1875/1875 [==============================] - 5s 3ms/step - loss: 0.3347 - accuracy: 0.8839 - val_loss: 0.4043 - val_accuracy: 0.8669\n",
            "Epoch 7/100\n",
            "1875/1875 [==============================] - 5s 3ms/step - loss: 0.3344 - accuracy: 0.8843 - val_loss: 0.6471 - val_accuracy: 0.8419\n",
            "Epoch 8/100\n",
            "1875/1875 [==============================] - 5s 3ms/step - loss: 0.3302 - accuracy: 0.8869 - val_loss: 0.4900 - val_accuracy: 0.8570\n",
            "Epoch 9/100\n",
            "1875/1875 [==============================] - 5s 3ms/step - loss: 0.3305 - accuracy: 0.8880 - val_loss: 0.4566 - val_accuracy: 0.8657\n",
            "Epoch 10/100\n",
            "1875/1875 [==============================] - 5s 3ms/step - loss: 0.3361 - accuracy: 0.8879 - val_loss: 0.5248 - val_accuracy: 0.8600\n",
            "Epoch 11/100\n",
            "1875/1875 [==============================] - 5s 3ms/step - loss: 0.3275 - accuracy: 0.8868 - val_loss: 0.5287 - val_accuracy: 0.8583\n",
            "Epoch 12/100\n",
            "1875/1875 [==============================] - 5s 3ms/step - loss: 0.3243 - accuracy: 0.8920 - val_loss: 0.5211 - val_accuracy: 0.8670\n",
            "Epoch 13/100\n",
            "1875/1875 [==============================] - 5s 3ms/step - loss: 0.3326 - accuracy: 0.8904 - val_loss: 0.6156 - val_accuracy: 0.8553\n",
            "Epoch 14/100\n",
            "1875/1875 [==============================] - 5s 3ms/step - loss: 0.3335 - accuracy: 0.8897 - val_loss: 0.6260 - val_accuracy: 0.8567\n",
            "Epoch 15/100\n",
            "1875/1875 [==============================] - 5s 3ms/step - loss: 0.3286 - accuracy: 0.8922 - val_loss: 0.5223 - val_accuracy: 0.8695\n",
            "Epoch 16/100\n",
            "1875/1875 [==============================] - 5s 3ms/step - loss: 0.3138 - accuracy: 0.8940 - val_loss: 0.5788 - val_accuracy: 0.8511\n",
            "Epoch 17/100\n",
            "1875/1875 [==============================] - 5s 3ms/step - loss: 0.3271 - accuracy: 0.8911 - val_loss: 0.5703 - val_accuracy: 0.8633\n",
            "Epoch 18/100\n",
            "1875/1875 [==============================] - 5s 3ms/step - loss: 0.3310 - accuracy: 0.8928 - val_loss: 0.5605 - val_accuracy: 0.8710\n",
            "Epoch 19/100\n",
            "1875/1875 [==============================] - 5s 3ms/step - loss: 0.3240 - accuracy: 0.8957 - val_loss: 0.5964 - val_accuracy: 0.8700\n",
            "Epoch 20/100\n",
            "1875/1875 [==============================] - 5s 3ms/step - loss: 0.3136 - accuracy: 0.8947 - val_loss: 0.5670 - val_accuracy: 0.8672\n",
            "Epoch 21/100\n",
            "1875/1875 [==============================] - 5s 3ms/step - loss: 0.3193 - accuracy: 0.8976 - val_loss: 0.6267 - val_accuracy: 0.8721\n",
            "Epoch 22/100\n",
            "1875/1875 [==============================] - 5s 3ms/step - loss: 0.3272 - accuracy: 0.8950 - val_loss: 0.5388 - val_accuracy: 0.8651\n",
            "Epoch 23/100\n",
            "1875/1875 [==============================] - 5s 3ms/step - loss: 0.3230 - accuracy: 0.8956 - val_loss: 0.5447 - val_accuracy: 0.8682\n",
            "Epoch 24/100\n",
            "1875/1875 [==============================] - 5s 3ms/step - loss: 0.3187 - accuracy: 0.8972 - val_loss: 0.6752 - val_accuracy: 0.8701\n",
            "Epoch 25/100\n",
            "1875/1875 [==============================] - 5s 3ms/step - loss: 0.3192 - accuracy: 0.8970 - val_loss: 0.6318 - val_accuracy: 0.8719\n",
            "Epoch 26/100\n",
            "1875/1875 [==============================] - 5s 3ms/step - loss: 0.3284 - accuracy: 0.8978 - val_loss: 0.7128 - val_accuracy: 0.8703\n",
            "Epoch 27/100\n",
            "1875/1875 [==============================] - 5s 3ms/step - loss: 0.3252 - accuracy: 0.8991 - val_loss: 0.6930 - val_accuracy: 0.8618\n",
            "Epoch 28/100\n",
            "1875/1875 [==============================] - 5s 3ms/step - loss: 0.3144 - accuracy: 0.8972 - val_loss: 0.6202 - val_accuracy: 0.8689\n",
            "Epoch 29/100\n",
            "1875/1875 [==============================] - 5s 3ms/step - loss: 0.3112 - accuracy: 0.9002 - val_loss: 0.7896 - val_accuracy: 0.8622\n",
            "Epoch 30/100\n",
            "1875/1875 [==============================] - 5s 3ms/step - loss: 0.3214 - accuracy: 0.8998 - val_loss: 0.6721 - val_accuracy: 0.8611\n",
            "Epoch 31/100\n",
            "1875/1875 [==============================] - 5s 3ms/step - loss: 0.3113 - accuracy: 0.9027 - val_loss: 0.7616 - val_accuracy: 0.8683\n",
            "Epoch 32/100\n",
            "1875/1875 [==============================] - 5s 3ms/step - loss: 0.3155 - accuracy: 0.9011 - val_loss: 0.8252 - val_accuracy: 0.8747\n",
            "Epoch 33/100\n",
            "1875/1875 [==============================] - 5s 3ms/step - loss: 0.3199 - accuracy: 0.8986 - val_loss: 1.0383 - val_accuracy: 0.8658\n",
            "Epoch 34/100\n",
            "1875/1875 [==============================] - 5s 3ms/step - loss: 0.3217 - accuracy: 0.8994 - val_loss: 0.9098 - val_accuracy: 0.8610\n",
            "Epoch 35/100\n",
            "1875/1875 [==============================] - 5s 3ms/step - loss: 0.3145 - accuracy: 0.9038 - val_loss: 0.8920 - val_accuracy: 0.8564\n",
            "Epoch 36/100\n",
            "1875/1875 [==============================] - 5s 3ms/step - loss: 0.3286 - accuracy: 0.9020 - val_loss: 0.8125 - val_accuracy: 0.8475\n",
            "Epoch 37/100\n",
            "1875/1875 [==============================] - 5s 3ms/step - loss: 0.3111 - accuracy: 0.9025 - val_loss: 1.0976 - val_accuracy: 0.8602\n",
            "Epoch 38/100\n",
            "1875/1875 [==============================] - 5s 3ms/step - loss: 0.3259 - accuracy: 0.8998 - val_loss: 0.9235 - val_accuracy: 0.8703\n",
            "Epoch 39/100\n",
            "1875/1875 [==============================] - 5s 3ms/step - loss: 0.3372 - accuracy: 0.8985 - val_loss: 0.9693 - val_accuracy: 0.8783\n",
            "Epoch 40/100\n",
            "1875/1875 [==============================] - 5s 3ms/step - loss: 0.3220 - accuracy: 0.9047 - val_loss: 0.9876 - val_accuracy: 0.8663\n",
            "Epoch 41/100\n",
            "1875/1875 [==============================] - 5s 3ms/step - loss: 0.3344 - accuracy: 0.9008 - val_loss: 0.9189 - val_accuracy: 0.8680\n",
            "Epoch 42/100\n",
            "1875/1875 [==============================] - 5s 3ms/step - loss: 0.3535 - accuracy: 0.9002 - val_loss: 1.0317 - val_accuracy: 0.8644\n",
            "Epoch 43/100\n",
            "1875/1875 [==============================] - 5s 3ms/step - loss: 0.3418 - accuracy: 0.8987 - val_loss: 1.0058 - val_accuracy: 0.8565\n",
            "Epoch 44/100\n",
            "1875/1875 [==============================] - 5s 3ms/step - loss: 0.3396 - accuracy: 0.9008 - val_loss: 0.9583 - val_accuracy: 0.8580\n",
            "Epoch 45/100\n",
            "1875/1875 [==============================] - 5s 3ms/step - loss: 0.3657 - accuracy: 0.8996 - val_loss: 1.2456 - val_accuracy: 0.8687\n",
            "Epoch 46/100\n",
            "1875/1875 [==============================] - 5s 3ms/step - loss: 0.3505 - accuracy: 0.9007 - val_loss: 1.1394 - val_accuracy: 0.8754\n",
            "Epoch 47/100\n",
            "1875/1875 [==============================] - 5s 3ms/step - loss: 0.3590 - accuracy: 0.8981 - val_loss: 1.0423 - val_accuracy: 0.8685\n",
            "Epoch 48/100\n",
            "1875/1875 [==============================] - 5s 3ms/step - loss: 0.3410 - accuracy: 0.8986 - val_loss: 1.1176 - val_accuracy: 0.8681\n",
            "Epoch 49/100\n",
            "1875/1875 [==============================] - 5s 3ms/step - loss: 0.3586 - accuracy: 0.9005 - val_loss: 1.2052 - val_accuracy: 0.8621\n",
            "Epoch 50/100\n",
            "1875/1875 [==============================] - 5s 3ms/step - loss: 0.3577 - accuracy: 0.9021 - val_loss: 1.5137 - val_accuracy: 0.8640\n",
            "Epoch 51/100\n",
            "1875/1875 [==============================] - 5s 3ms/step - loss: 0.3708 - accuracy: 0.9032 - val_loss: 1.2259 - val_accuracy: 0.8686\n",
            "Epoch 52/100\n",
            "1875/1875 [==============================] - 5s 3ms/step - loss: 0.3466 - accuracy: 0.9028 - val_loss: 1.4370 - val_accuracy: 0.8674\n",
            "Epoch 53/100\n",
            "1875/1875 [==============================] - 5s 3ms/step - loss: 0.3462 - accuracy: 0.9011 - val_loss: 1.7040 - val_accuracy: 0.8742\n",
            "Epoch 54/100\n",
            "1875/1875 [==============================] - 5s 3ms/step - loss: 0.3633 - accuracy: 0.9005 - val_loss: 1.5317 - val_accuracy: 0.8729\n",
            "Epoch 55/100\n",
            "1875/1875 [==============================] - 5s 3ms/step - loss: 0.3569 - accuracy: 0.9003 - val_loss: 1.4521 - val_accuracy: 0.8586\n",
            "Epoch 56/100\n",
            "1875/1875 [==============================] - 5s 3ms/step - loss: 0.3653 - accuracy: 0.9000 - val_loss: 1.5764 - val_accuracy: 0.8552\n",
            "Epoch 57/100\n",
            "1875/1875 [==============================] - 5s 3ms/step - loss: 0.3516 - accuracy: 0.9018 - val_loss: 1.7651 - val_accuracy: 0.8673\n",
            "Epoch 58/100\n",
            "1875/1875 [==============================] - 5s 3ms/step - loss: 0.3676 - accuracy: 0.9020 - val_loss: 1.5786 - val_accuracy: 0.8628\n",
            "Epoch 59/100\n",
            "1875/1875 [==============================] - 5s 3ms/step - loss: 0.3614 - accuracy: 0.9042 - val_loss: 1.4692 - val_accuracy: 0.8565\n",
            "Epoch 60/100\n",
            "1875/1875 [==============================] - 5s 3ms/step - loss: 0.3607 - accuracy: 0.9021 - val_loss: 1.6072 - val_accuracy: 0.8641\n",
            "Epoch 61/100\n",
            "1875/1875 [==============================] - 5s 3ms/step - loss: 0.3638 - accuracy: 0.9021 - val_loss: 1.6945 - val_accuracy: 0.8693\n",
            "Epoch 62/100\n",
            "1875/1875 [==============================] - 5s 3ms/step - loss: 0.3673 - accuracy: 0.9047 - val_loss: 1.7113 - val_accuracy: 0.8640\n",
            "Epoch 63/100\n",
            "1875/1875 [==============================] - 5s 3ms/step - loss: 0.3626 - accuracy: 0.9013 - val_loss: 1.6477 - val_accuracy: 0.8686\n",
            "Epoch 64/100\n",
            "1875/1875 [==============================] - 5s 3ms/step - loss: 0.3542 - accuracy: 0.9019 - val_loss: 1.5243 - val_accuracy: 0.8620\n",
            "Epoch 65/100\n",
            "1875/1875 [==============================] - 5s 3ms/step - loss: 0.3588 - accuracy: 0.9020 - val_loss: 1.6297 - val_accuracy: 0.8716\n",
            "Epoch 66/100\n",
            "1875/1875 [==============================] - 5s 3ms/step - loss: 0.3687 - accuracy: 0.9018 - val_loss: 1.6505 - val_accuracy: 0.8634\n",
            "Epoch 67/100\n",
            "1875/1875 [==============================] - 5s 3ms/step - loss: 0.3614 - accuracy: 0.9040 - val_loss: 1.8821 - val_accuracy: 0.8567\n",
            "Epoch 68/100\n",
            "1875/1875 [==============================] - 5s 3ms/step - loss: 0.3808 - accuracy: 0.9013 - val_loss: 1.7222 - val_accuracy: 0.8666\n",
            "Epoch 69/100\n",
            "1875/1875 [==============================] - 5s 3ms/step - loss: 0.3580 - accuracy: 0.9074 - val_loss: 1.5173 - val_accuracy: 0.8410\n",
            "Epoch 70/100\n",
            "1875/1875 [==============================] - 5s 3ms/step - loss: 0.3759 - accuracy: 0.8990 - val_loss: 1.8106 - val_accuracy: 0.8711\n",
            "Epoch 71/100\n",
            "1875/1875 [==============================] - 5s 3ms/step - loss: 0.3489 - accuracy: 0.9019 - val_loss: 1.9845 - val_accuracy: 0.8688\n",
            "Epoch 72/100\n",
            "1875/1875 [==============================] - 5s 3ms/step - loss: 0.4167 - accuracy: 0.9019 - val_loss: 1.9823 - val_accuracy: 0.8605\n",
            "Epoch 73/100\n",
            "1875/1875 [==============================] - 5s 3ms/step - loss: 0.3823 - accuracy: 0.9013 - val_loss: 1.9415 - val_accuracy: 0.8566\n",
            "Epoch 74/100\n",
            "1875/1875 [==============================] - 5s 3ms/step - loss: 0.3594 - accuracy: 0.9033 - val_loss: 2.0821 - val_accuracy: 0.8624\n",
            "Epoch 75/100\n",
            "1875/1875 [==============================] - 5s 3ms/step - loss: 0.3635 - accuracy: 0.9039 - val_loss: 2.1572 - val_accuracy: 0.8628\n",
            "Epoch 76/100\n",
            "1875/1875 [==============================] - 5s 3ms/step - loss: 0.3524 - accuracy: 0.9017 - val_loss: 1.8459 - val_accuracy: 0.8639\n",
            "Epoch 77/100\n",
            "1875/1875 [==============================] - 5s 3ms/step - loss: 0.3781 - accuracy: 0.9056 - val_loss: 2.3984 - val_accuracy: 0.8620\n",
            "Epoch 78/100\n",
            "1875/1875 [==============================] - 5s 3ms/step - loss: 0.3695 - accuracy: 0.9002 - val_loss: 1.9655 - val_accuracy: 0.8653\n",
            "Epoch 79/100\n",
            "1875/1875 [==============================] - 5s 3ms/step - loss: 0.3431 - accuracy: 0.9037 - val_loss: 2.0711 - val_accuracy: 0.8432\n",
            "Epoch 80/100\n",
            "1875/1875 [==============================] - 5s 3ms/step - loss: 0.3756 - accuracy: 0.9024 - val_loss: 2.0301 - val_accuracy: 0.8584\n",
            "Epoch 81/100\n",
            "1875/1875 [==============================] - 5s 3ms/step - loss: 0.3382 - accuracy: 0.9059 - val_loss: 1.8616 - val_accuracy: 0.8579\n",
            "Epoch 82/100\n",
            "1875/1875 [==============================] - 5s 3ms/step - loss: 0.3525 - accuracy: 0.9026 - val_loss: 2.1581 - val_accuracy: 0.8515\n",
            "Epoch 83/100\n",
            "1875/1875 [==============================] - 5s 3ms/step - loss: 0.3518 - accuracy: 0.9039 - val_loss: 2.5084 - val_accuracy: 0.8315\n",
            "Epoch 84/100\n",
            "1875/1875 [==============================] - 5s 3ms/step - loss: 0.3710 - accuracy: 0.9026 - val_loss: 2.0770 - val_accuracy: 0.8537\n",
            "Epoch 85/100\n",
            "1875/1875 [==============================] - 5s 3ms/step - loss: 0.3913 - accuracy: 0.9029 - val_loss: 2.4990 - val_accuracy: 0.8629\n",
            "Epoch 86/100\n",
            "1875/1875 [==============================] - 5s 3ms/step - loss: 0.3724 - accuracy: 0.9026 - val_loss: 2.4933 - val_accuracy: 0.8667\n",
            "Epoch 87/100\n",
            "1875/1875 [==============================] - 5s 3ms/step - loss: 0.3872 - accuracy: 0.9014 - val_loss: 2.4547 - val_accuracy: 0.8698\n",
            "Epoch 88/100\n",
            "1875/1875 [==============================] - 5s 3ms/step - loss: 0.3557 - accuracy: 0.9055 - val_loss: 2.5840 - val_accuracy: 0.8518\n",
            "Epoch 89/100\n",
            "1875/1875 [==============================] - 5s 3ms/step - loss: 0.4118 - accuracy: 0.9067 - val_loss: 2.9546 - val_accuracy: 0.8705\n",
            "Epoch 90/100\n",
            "1875/1875 [==============================] - 5s 3ms/step - loss: 0.3623 - accuracy: 0.9044 - val_loss: 2.2647 - val_accuracy: 0.8600\n",
            "Epoch 91/100\n",
            "1875/1875 [==============================] - 5s 3ms/step - loss: 0.3606 - accuracy: 0.9048 - val_loss: 2.3669 - val_accuracy: 0.8610\n",
            "Epoch 92/100\n",
            "1875/1875 [==============================] - 5s 3ms/step - loss: 0.4677 - accuracy: 0.9020 - val_loss: 2.5564 - val_accuracy: 0.8597\n",
            "Epoch 93/100\n",
            "1875/1875 [==============================] - 5s 3ms/step - loss: 0.3825 - accuracy: 0.9028 - val_loss: 2.3946 - val_accuracy: 0.8641\n",
            "Epoch 94/100\n",
            "1875/1875 [==============================] - 5s 3ms/step - loss: 0.3643 - accuracy: 0.8978 - val_loss: 2.6239 - val_accuracy: 0.8603\n",
            "Epoch 95/100\n",
            "1875/1875 [==============================] - 5s 3ms/step - loss: 0.3686 - accuracy: 0.8994 - val_loss: 3.1781 - val_accuracy: 0.8538\n",
            "Epoch 96/100\n",
            "1875/1875 [==============================] - 5s 3ms/step - loss: 0.3984 - accuracy: 0.8971 - val_loss: 2.5250 - val_accuracy: 0.8543\n",
            "Epoch 97/100\n",
            "1875/1875 [==============================] - 5s 3ms/step - loss: 0.4032 - accuracy: 0.9005 - val_loss: 2.8382 - val_accuracy: 0.8603\n",
            "Epoch 98/100\n",
            "1875/1875 [==============================] - 5s 3ms/step - loss: 0.3972 - accuracy: 0.8997 - val_loss: 3.3312 - val_accuracy: 0.8648\n",
            "Epoch 99/100\n",
            "1875/1875 [==============================] - 5s 3ms/step - loss: 0.4100 - accuracy: 0.8931 - val_loss: 2.7776 - val_accuracy: 0.8515\n",
            "Epoch 100/100\n",
            "1875/1875 [==============================] - 5s 3ms/step - loss: 0.4041 - accuracy: 0.8963 - val_loss: 2.5922 - val_accuracy: 0.8587\n"
          ],
          "name": "stdout"
        },
        {
          "output_type": "execute_result",
          "data": {
            "text/plain": [
              "<tensorflow.python.keras.callbacks.History at 0x7fb7742ee7f0>"
            ]
          },
          "metadata": {
            "tags": []
          },
          "execution_count": 113
        }
      ]
    },
    {
      "cell_type": "code",
      "metadata": {
        "colab": {
          "base_uri": "https://localhost:8080/"
        },
        "id": "a_NIL4F3OgCq",
        "outputId": "ad16ff4b-69a9-464c-f035-a697f8d11646"
      },
      "source": [
        "# 6.3 Evaluate the model\r\n",
        "#    Observe that a pre-trained model using\r\n",
        "#    autoencoder gives better classification\r\n",
        "model2.evaluate(x_test,y_test)"
      ],
      "execution_count": null,
      "outputs": [
        {
          "output_type": "stream",
          "text": [
            "313/313 [==============================] - 0s 1ms/step - loss: 2.5922 - accuracy: 0.8587\n"
          ],
          "name": "stdout"
        },
        {
          "output_type": "execute_result",
          "data": {
            "text/plain": [
              "[2.5922441482543945, 0.8586999773979187]"
            ]
          },
          "metadata": {
            "tags": []
          },
          "execution_count": 114
        }
      ]
    },
    {
      "cell_type": "code",
      "metadata": {
        "colab": {
          "base_uri": "https://localhost:8080/"
        },
        "id": "vSt7xaHkjduo",
        "outputId": "f2bb5945-d733-48ef-b6f6-5e7d9959cf98"
      },
      "source": [
        "# 7.0 If you evaluate model1 again, we get very low accuracy\r\n",
        "#     as autoencoder weights have changed\r\n",
        "model1.evaluate(x_test,y_test)"
      ],
      "execution_count": null,
      "outputs": [
        {
          "output_type": "stream",
          "text": [
            "313/313 [==============================] - 0s 1ms/step - loss: 796.5132 - accuracy: 0.1296\n"
          ],
          "name": "stdout"
        },
        {
          "output_type": "execute_result",
          "data": {
            "text/plain": [
              "[796.5132446289062, 0.12960000336170197]"
            ]
          },
          "metadata": {
            "tags": []
          },
          "execution_count": 115
        }
      ]
    },
    {
      "cell_type": "code",
      "metadata": {
        "id": "eQ91niuYxFM1"
      },
      "source": [
        "###### I am done ##############"
      ],
      "execution_count": null,
      "outputs": []
    }
  ]
}