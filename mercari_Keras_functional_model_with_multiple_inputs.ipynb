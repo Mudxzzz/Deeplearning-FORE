{
  "nbformat": 4,
  "nbformat_minor": 0,
  "metadata": {
    "kernelspec": {
      "display_name": "Python 3",
      "language": "python",
      "name": "python3"
    },
    "language_info": {
      "codemirror_mode": {
        "name": "ipython",
        "version": 3
      },
      "file_extension": ".py",
      "mimetype": "text/x-python",
      "name": "python",
      "nbconvert_exporter": "python",
      "pygments_lexer": "ipython3",
      "version": "3.7.3"
    },
    "colab": {
      "provenance": [],
      "collapsed_sections": [
        "Onr3P5Oyu2On",
        "xU38Z8Q2u8Cd",
        "--0Sz50kyQbV",
        "oYeSyGfbyUks",
        "sA-eZn6ReoQG"
      ],
      "include_colab_link": true
    }
  },
  "cells": [
    {
      "cell_type": "markdown",
      "metadata": {
        "id": "view-in-github",
        "colab_type": "text"
      },
      "source": [
        "<a href=\"https://colab.research.google.com/github/harnalashok/deeplearning/blob/main/mercari_Keras_functional_model_with_multiple_inputs.ipynb\" target=\"_parent\"><img src=\"https://colab.research.google.com/assets/colab-badge.svg\" alt=\"Open In Colab\"/></a>"
      ]
    },
    {
      "cell_type": "code",
      "metadata": {
        "id": "-U3kYoa1YCFK"
      },
      "source": [
        "# Last amended: 20th Oct, 2022\n",
        "# Myfolder: /home/ashok/Documents/mercari_price_challenge\n",
        "# Ref: https://www.kaggle.com/knowledgegrappler/a-simple-nn-solution-with-keras-0-48611-pl\n",
        "# VM: lubuntu_deeplearning_II\n",
        "#\n",
        "#     Objectives:\n",
        "#                1. Learning functional model of keras\n",
        "#                2. Functional model with multiple inputs\n",
        "#                3. Applying deeplearning to structured tables\n",
        "#                4. Vector conversion of categorical variables\n",
        "#                   as also descriptive text\n"
      ],
      "execution_count": null,
      "outputs": []
    },
    {
      "cell_type": "markdown",
      "metadata": {
        "id": "nxvZN20NBV3Q"
      },
      "source": [
        "## [Problem](https://www.kaggle.com/c/mercari-price-suggestion-challenge/overview)"
      ]
    },
    {
      "cell_type": "markdown",
      "metadata": {
        "id": "-MeIPlAMBUFj"
      },
      "source": [
        "It can be hard to know how much something’s really worth. Small details can mean big differences in pricing. For example, one of these sweaters cost $335 and the other cost $9.99. Can you guess which one’s which?\n",
        "\n",
        "Product pricing gets even harder at scale, considering just how many products are sold online. Clothing has strong seasonal pricing trends and is heavily influenced by brand names, while electronics have fluctuating prices based on product specs.\n",
        "\n",
        "Mercari, Japan’s biggest community-powered shopping app, knows this problem deeply. They’d like to offer pricing suggestions to sellers, but this is tough because their sellers are enabled to put just about anything, or any bundle of things, on Mercari's marketplace.\n",
        "\n",
        "In this competition, Mercari’s challenging you to build an algorithm that automatically suggests the right product prices. You’ll be provided user-inputted text descriptions of their products, including details like product category name, brand name, and item condition.\n",
        "\n",
        "Note that, because of the public nature of this data, this competition is a “Kernels Only” competition. In the second stage of the challenge, files will only be available through Kernels and you will not be able to modify your approach in response to new data. Read more details in the data tab and Kernels FAQ page. "
      ]
    },
    {
      "cell_type": "markdown",
      "metadata": {
        "id": "Onr3P5Oyu2On"
      },
      "source": [
        "\n",
        "## Call libraries"
      ]
    },
    {
      "cell_type": "code",
      "metadata": {
        "_cell_guid": "f49a0842-1c3d-4bee-8b3e-3caf6111bb60",
        "_uuid": "e4561cb64722ffd7adb74a8800f89973bc3fe87a",
        "id": "XDTbAXJGYCFQ"
      },
      "source": [
        "# 1.0 Call libraries\n",
        "# 1.1 Data manipulation libraries\n",
        "import numpy as np\n",
        "import pandas as pd\n",
        "\n",
        "# 1.2 sklearn libraries\n",
        "from sklearn.preprocessing import LabelEncoder, MinMaxScaler, StandardScaler\n",
        "from sklearn.model_selection import train_test_split\n",
        "\n",
        "# 1.3 For plotting NN model\n",
        "#  conda install -c anaconda graphviz\n",
        "#  conda install -c anaconda pydot\n",
        "from skimage import io\n",
        "import pydot\n",
        "\n",
        "# 1.4 Keras model components\n",
        "import tensorflow as tf\n",
        "from tensorflow.keras.models import Model\n",
        "from tensorflow.keras.layers import Input, Dropout, Dense, concatenate, GRU, Embedding, Flatten\n",
        "from tensorflow.keras.layers import Conv1D, Reshape\n",
        "from tensorflow.keras.callbacks import ModelCheckpoint, Callback, EarlyStopping\n",
        "\n",
        "# 1.4.1 For text (word) to integer transformation\n",
        "from tensorflow.keras.preprocessing.text import Tokenizer\n",
        "\n",
        "# 1.4.2 For making all integer sequences of equal length\n",
        "from tensorflow.keras.preprocessing.sequence import pad_sequences\n",
        "\n",
        "# 1.4.3 Import backend to invoke tensorflow commands to manipulate tensors\n",
        "from tensorflow.keras import backend as K\n",
        "\n",
        "# 1.5 Plotting libraries\n",
        "from tensorflow.keras.utils import plot_model\n",
        "import matplotlib.pyplot as plt\n",
        "%matplotlib inline \n",
        "\n",
        "# 1.6 Misc\n",
        "import math, time, os,gc"
      ],
      "execution_count": 57,
      "outputs": []
    },
    {
      "cell_type": "code",
      "source": [
        "# 1.7 Check tensorflow version:\n",
        "\n",
        "tf.__version__    # 2.9.2"
      ],
      "metadata": {
        "colab": {
          "base_uri": "https://localhost:8080/",
          "height": 143
        },
        "id": "qVCDmjEG54XV",
        "outputId": "31cb0a87-f305-4316-c46a-a95cab090e81"
      },
      "execution_count": 58,
      "outputs": [
        {
          "output_type": "execute_result",
          "data": {
            "text/plain": [
              "'2.9.2'"
            ],
            "application/vnd.google.colaboratory.intrinsic+json": {
              "type": "string"
            }
          },
          "metadata": {},
          "execution_count": 58
        }
      ]
    },
    {
      "cell_type": "code",
      "metadata": {
        "id": "QiagwG_h1Re1"
      },
      "source": [
        "# 1.8 Print all outputs from a cell\n",
        "\n",
        "from IPython.core.interactiveshell import InteractiveShell\n",
        "InteractiveShell.ast_node_interactivity = \"all\""
      ],
      "execution_count": 59,
      "outputs": []
    },
    {
      "cell_type": "markdown",
      "metadata": {
        "id": "xU38Z8Q2u8Cd"
      },
      "source": [
        "## RMSLE \n",
        "Root mean squared Logaritmic error is defined, as below. Here, $p_{i}$ is predicted value AND not probability.  See [here](https://hrngok.github.io/posts/metrics/#Root-Mean-Squared-Logaritmic-Error-(RMSLE)) and also [this article](https://medium.com/analytics-vidhya/root-mean-square-log-error-rmse-vs-rmlse-935c6cc1802a)."
      ]
    },
    {
      "cell_type": "markdown",
      "metadata": {
        "id": "-4FOhEDMvrRl"
      },
      "source": [
        "![image.png](data:image/png;base64,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)"
      ]
    },
    {
      "cell_type": "markdown",
      "metadata": {
        "id": "YBKAkM3rv5Ed"
      },
      "source": [
        "Mechanism:  \n",
        "It is the Root Mean Squared Error of the log-transformed predicted and log-transformed actual values. RMSLE adds 1 to both actual and predicted values before taking the natural logarithm to avoid taking the natural log of possible 0 (zero) values. As a result, the function can be used if actual or predicted have zero-valued elements. But this function is not appropriate if either is negative valued.\n"
      ]
    },
    {
      "cell_type": "markdown",
      "metadata": {
        "id": "TypYjjDqwM-1"
      },
      "source": [
        "Functionality:\n",
        "The expression: `log(pi+1)−log(ai+1)`\n",
        "can be written as `log((pi+1)/(ai+1))` <br>\n",
        "RMSLE measures the log of ratio of predicted and actual target values. \n",
        "(Note: )"
      ]
    },
    {
      "cell_type": "markdown",
      "metadata": {
        "id": "3_sprpz-whDW"
      },
      "source": [
        "#### RMSLE is preferable when\n",
        "> Targets having exponential growth, such as population counts, average sales of a commodity over a span of years etc <br>\n",
        "> We care about percentage errors rather than the absolute value of errors. <br>\n",
        "> There is a wide range in the target variables and we don’t want to penalize big differences when both the predicted and the actual are big numbers. <br>\n",
        "> We want to penalize under estimates more than over estimates. That is donot sell at lower cost. But overestimate is OK.\n",
        "\n",
        "For example for P = 1000 and A = 500 would give you the roughly same error as when P = 100000 and A = 50000.\n",
        "\n"
      ]
    },
    {
      "cell_type": "code",
      "metadata": {
        "id": "BEO5v381Nas_",
        "colab": {
          "base_uri": "https://localhost:8080/"
        },
        "outputId": "ebffc27b-b1bc-4a5c-b8ef-ee7a2eb78458"
      },
      "source": [
        "# 1.8 Underestimate by 400\n",
        "#     More penalized:\n",
        "\n",
        "p = 600\n",
        "a = 1000\n",
        "(math.log(p) - math.log(a))**2\n"
      ],
      "execution_count": 60,
      "outputs": [
        {
          "output_type": "execute_result",
          "data": {
            "text/plain": [
              "0.2609428178959133"
            ]
          },
          "metadata": {},
          "execution_count": 60
        }
      ]
    },
    {
      "cell_type": "code",
      "metadata": {
        "id": "Kt6JupfQNw4G",
        "colab": {
          "base_uri": "https://localhost:8080/"
        },
        "outputId": "c2313334-b61b-40b2-83bc-18116c71f031"
      },
      "source": [
        "# 1.9 Overestimate by 400\n",
        "\n",
        "p =  1400\n",
        "a = 1000\n",
        "(math.log(p) - math.log(a))**2\n"
      ],
      "execution_count": 61,
      "outputs": [
        {
          "output_type": "execute_result",
          "data": {
            "text/plain": [
              "0.11321356601688151"
            ]
          },
          "metadata": {},
          "execution_count": 61
        }
      ]
    },
    {
      "cell_type": "markdown",
      "metadata": {
        "id": "IlhEDj9NyM89"
      },
      "source": [
        "### Define rmsle()"
      ]
    },
    {
      "cell_type": "code",
      "metadata": {
        "_cell_guid": "17b85633-4dae-4a49-9573-5d5c3b1b9699",
        "_uuid": "56874f4a359241631a1f1e4788da09e7b09182b8",
        "id": "Pns2fIoMYCFR"
      },
      "source": [
        "# 2. Write a function to calculate Root Mean Squared Logarithmic Error (RMSLE)\n",
        "#    'y' and 'y_pred' are arrays of actual vs predicted values.\n",
        "#    Why use RMSLE?\n",
        "#    Ref: https://stats.stackexchange.com/a/110610\n",
        "\n",
        "def rmsle(y, y_pred):\n",
        "    # 2.1 Check if lengths are both arrays are same\n",
        "    assert len(y) == len(y_pred) \n",
        "    # 2.2 Get a list of squared differences of logs\n",
        "    to_sum = [(math.log(y_pred[i] + 1) - math.log(y[i] + 1)) ** 2.0 for i,pred in enumerate(y_pred)]\n",
        "    # 2.3 Sum up all squared differences, take a mean and then square root \n",
        "    return (sum(to_sum) * (1.0/len(y))) ** 0.5\n",
        "    \n",
        "#Source: https://www.kaggle.com/marknagelberg/rmsle-function"
      ],
      "execution_count": 62,
      "outputs": []
    },
    {
      "cell_type": "code",
      "source": [
        "# 2. Write a function to calculate Root Mean Squared Logarithmic Error (RMSLE)\n",
        "#    'y' and 'y_pred' are arrays of actual vs predicted values.\n",
        "#    Why use RMSLE?\n",
        "#    Ref: https://stats.stackexchange.com/a/110610\n",
        "\n",
        "def rmsle(y, y_pred):\n",
        "    # 2.1 Check if lengths are both arrays are same\n",
        "    assert len(y) == len(y_pred) \n",
        "    # 2.2 Get a list of squared differences of logs:\n",
        "    t = np.sum(\n",
        "               (\n",
        "                   np.sqrt(\n",
        "                            (np.log(y_pred+1) - np.log(y+1))**2\n",
        "                           )\n",
        "                )\n",
        "               ) / len(y)\n",
        "    return t\n",
        "  "
      ],
      "metadata": {
        "id": "6m2PfyMY9NuC"
      },
      "execution_count": 63,
      "outputs": []
    },
    {
      "cell_type": "markdown",
      "metadata": {
        "id": "--0Sz50kyQbV"
      },
      "source": [
        "## Mount gdrive\n",
        "And also set path to data"
      ]
    },
    {
      "cell_type": "code",
      "metadata": {
        "id": "EKEVrHU5YdXj",
        "colab": {
          "base_uri": "https://localhost:8080/"
        },
        "outputId": "38add02d-85f7-49ec-b9c0-b6e8d81a1d8d"
      },
      "source": [
        "# 2.4\n",
        "from google.colab import drive\n",
        "drive.mount('/gdrive')  "
      ],
      "execution_count": 64,
      "outputs": [
        {
          "output_type": "stream",
          "name": "stdout",
          "text": [
            "Drive already mounted at /gdrive; to attempt to forcibly remount, call drive.mount(\"/gdrive\", force_remount=True).\n"
          ]
        }
      ]
    },
    {
      "cell_type": "code",
      "metadata": {
        "id": "PIj2EKCqpD9p"
      },
      "source": [
        "# 2.5 Set path to train and test data\n",
        "path = \"/gdrive/MyDrive/Colab_data_files/mercari/\""
      ],
      "execution_count": 65,
      "outputs": []
    },
    {
      "cell_type": "markdown",
      "metadata": {
        "id": "oYeSyGfbyUks"
      },
      "source": [
        "## Read data\n",
        "Read both train/test data.<br>\n",
        "Just plain reading"
      ]
    },
    {
      "cell_type": "code",
      "metadata": {
        "_cell_guid": "a76efe2c-34bb-458a-8611-1dcabda65b31",
        "_uuid": "80cd3abaf2d32b2c8133719d9a7bbb977adf91cb",
        "id": "GA5MMsT-YCFS",
        "colab": {
          "base_uri": "https://localhost:8080/"
        },
        "outputId": "8ac91afc-5b3e-4c51-bb5b-60e5191d187d"
      },
      "source": [
        "# 3.1 Read datasets\n",
        "%%time\n",
        "\n",
        "print(\"---Loading data---\")\n",
        "\n",
        "train = pd.read_table(path+\"train.tsv.zip\")\n",
        "test = pd.read_table(path+\"test.tsv.zip\")\n",
        "\n",
        "print(\"---finished reading---\")"
      ],
      "execution_count": 88,
      "outputs": [
        {
          "output_type": "stream",
          "name": "stdout",
          "text": [
            "---Loading data---\n",
            "---finished reading---\n",
            "CPU times: user 12.5 s, sys: 913 ms, total: 13.4 s\n",
            "Wall time: 13.5 s\n"
          ]
        }
      ]
    },
    {
      "cell_type": "code",
      "metadata": {
        "id": "koySgJelBwvJ",
        "colab": {
          "base_uri": "https://localhost:8080/",
          "height": 496
        },
        "outputId": "7a4b4b0f-3260-4692-bce9-526e5ef4528d"
      },
      "source": [
        "# 3.2\n",
        "train.head()"
      ],
      "execution_count": 89,
      "outputs": [
        {
          "output_type": "execute_result",
          "data": {
            "text/plain": [
              "   train_id                                 name  item_condition_id  \\\n",
              "0         0  MLB Cincinnati Reds T Shirt Size XL                  3   \n",
              "1         1     Razer BlackWidow Chroma Keyboard                  3   \n",
              "2         2                       AVA-VIV Blouse                  1   \n",
              "3         3                Leather Horse Statues                  1   \n",
              "4         4                 24K GOLD plated rose                  1   \n",
              "\n",
              "                                       category_name brand_name  price  \\\n",
              "0                                  Men/Tops/T-shirts        NaN   10.0   \n",
              "1  Electronics/Computers & Tablets/Components & P...      Razer   52.0   \n",
              "2                        Women/Tops & Blouses/Blouse     Target   10.0   \n",
              "3                 Home/Home Décor/Home Décor Accents        NaN   35.0   \n",
              "4                            Women/Jewelry/Necklaces        NaN   44.0   \n",
              "\n",
              "   shipping                                   item_description  \n",
              "0         1                                 No description yet  \n",
              "1         0  This keyboard is in great condition and works ...  \n",
              "2         1  Adorable top with a hint of lace and a key hol...  \n",
              "3         1  New with tags. Leather horses. Retail for [rm]...  \n",
              "4         0          Complete with certificate of authenticity  "
            ],
            "text/html": [
              "\n",
              "  <div id=\"df-be9fbf41-23bf-42bd-9fc3-7ac8e5d72265\">\n",
              "    <div class=\"colab-df-container\">\n",
              "      <div>\n",
              "<style scoped>\n",
              "    .dataframe tbody tr th:only-of-type {\n",
              "        vertical-align: middle;\n",
              "    }\n",
              "\n",
              "    .dataframe tbody tr th {\n",
              "        vertical-align: top;\n",
              "    }\n",
              "\n",
              "    .dataframe thead th {\n",
              "        text-align: right;\n",
              "    }\n",
              "</style>\n",
              "<table border=\"1\" class=\"dataframe\">\n",
              "  <thead>\n",
              "    <tr style=\"text-align: right;\">\n",
              "      <th></th>\n",
              "      <th>train_id</th>\n",
              "      <th>name</th>\n",
              "      <th>item_condition_id</th>\n",
              "      <th>category_name</th>\n",
              "      <th>brand_name</th>\n",
              "      <th>price</th>\n",
              "      <th>shipping</th>\n",
              "      <th>item_description</th>\n",
              "    </tr>\n",
              "  </thead>\n",
              "  <tbody>\n",
              "    <tr>\n",
              "      <th>0</th>\n",
              "      <td>0</td>\n",
              "      <td>MLB Cincinnati Reds T Shirt Size XL</td>\n",
              "      <td>3</td>\n",
              "      <td>Men/Tops/T-shirts</td>\n",
              "      <td>NaN</td>\n",
              "      <td>10.0</td>\n",
              "      <td>1</td>\n",
              "      <td>No description yet</td>\n",
              "    </tr>\n",
              "    <tr>\n",
              "      <th>1</th>\n",
              "      <td>1</td>\n",
              "      <td>Razer BlackWidow Chroma Keyboard</td>\n",
              "      <td>3</td>\n",
              "      <td>Electronics/Computers &amp; Tablets/Components &amp; P...</td>\n",
              "      <td>Razer</td>\n",
              "      <td>52.0</td>\n",
              "      <td>0</td>\n",
              "      <td>This keyboard is in great condition and works ...</td>\n",
              "    </tr>\n",
              "    <tr>\n",
              "      <th>2</th>\n",
              "      <td>2</td>\n",
              "      <td>AVA-VIV Blouse</td>\n",
              "      <td>1</td>\n",
              "      <td>Women/Tops &amp; Blouses/Blouse</td>\n",
              "      <td>Target</td>\n",
              "      <td>10.0</td>\n",
              "      <td>1</td>\n",
              "      <td>Adorable top with a hint of lace and a key hol...</td>\n",
              "    </tr>\n",
              "    <tr>\n",
              "      <th>3</th>\n",
              "      <td>3</td>\n",
              "      <td>Leather Horse Statues</td>\n",
              "      <td>1</td>\n",
              "      <td>Home/Home Décor/Home Décor Accents</td>\n",
              "      <td>NaN</td>\n",
              "      <td>35.0</td>\n",
              "      <td>1</td>\n",
              "      <td>New with tags. Leather horses. Retail for [rm]...</td>\n",
              "    </tr>\n",
              "    <tr>\n",
              "      <th>4</th>\n",
              "      <td>4</td>\n",
              "      <td>24K GOLD plated rose</td>\n",
              "      <td>1</td>\n",
              "      <td>Women/Jewelry/Necklaces</td>\n",
              "      <td>NaN</td>\n",
              "      <td>44.0</td>\n",
              "      <td>0</td>\n",
              "      <td>Complete with certificate of authenticity</td>\n",
              "    </tr>\n",
              "  </tbody>\n",
              "</table>\n",
              "</div>\n",
              "      <button class=\"colab-df-convert\" onclick=\"convertToInteractive('df-be9fbf41-23bf-42bd-9fc3-7ac8e5d72265')\"\n",
              "              title=\"Convert this dataframe to an interactive table.\"\n",
              "              style=\"display:none;\">\n",
              "        \n",
              "  <svg xmlns=\"http://www.w3.org/2000/svg\" height=\"24px\"viewBox=\"0 0 24 24\"\n",
              "       width=\"24px\">\n",
              "    <path d=\"M0 0h24v24H0V0z\" fill=\"none\"/>\n",
              "    <path d=\"M18.56 5.44l.94 2.06.94-2.06 2.06-.94-2.06-.94-.94-2.06-.94 2.06-2.06.94zm-11 1L8.5 8.5l.94-2.06 2.06-.94-2.06-.94L8.5 2.5l-.94 2.06-2.06.94zm10 10l.94 2.06.94-2.06 2.06-.94-2.06-.94-.94-2.06-.94 2.06-2.06.94z\"/><path d=\"M17.41 7.96l-1.37-1.37c-.4-.4-.92-.59-1.43-.59-.52 0-1.04.2-1.43.59L10.3 9.45l-7.72 7.72c-.78.78-.78 2.05 0 2.83L4 21.41c.39.39.9.59 1.41.59.51 0 1.02-.2 1.41-.59l7.78-7.78 2.81-2.81c.8-.78.8-2.07 0-2.86zM5.41 20L4 18.59l7.72-7.72 1.47 1.35L5.41 20z\"/>\n",
              "  </svg>\n",
              "      </button>\n",
              "      \n",
              "  <style>\n",
              "    .colab-df-container {\n",
              "      display:flex;\n",
              "      flex-wrap:wrap;\n",
              "      gap: 12px;\n",
              "    }\n",
              "\n",
              "    .colab-df-convert {\n",
              "      background-color: #E8F0FE;\n",
              "      border: none;\n",
              "      border-radius: 50%;\n",
              "      cursor: pointer;\n",
              "      display: none;\n",
              "      fill: #1967D2;\n",
              "      height: 32px;\n",
              "      padding: 0 0 0 0;\n",
              "      width: 32px;\n",
              "    }\n",
              "\n",
              "    .colab-df-convert:hover {\n",
              "      background-color: #E2EBFA;\n",
              "      box-shadow: 0px 1px 2px rgba(60, 64, 67, 0.3), 0px 1px 3px 1px rgba(60, 64, 67, 0.15);\n",
              "      fill: #174EA6;\n",
              "    }\n",
              "\n",
              "    [theme=dark] .colab-df-convert {\n",
              "      background-color: #3B4455;\n",
              "      fill: #D2E3FC;\n",
              "    }\n",
              "\n",
              "    [theme=dark] .colab-df-convert:hover {\n",
              "      background-color: #434B5C;\n",
              "      box-shadow: 0px 1px 3px 1px rgba(0, 0, 0, 0.15);\n",
              "      filter: drop-shadow(0px 1px 2px rgba(0, 0, 0, 0.3));\n",
              "      fill: #FFFFFF;\n",
              "    }\n",
              "  </style>\n",
              "\n",
              "      <script>\n",
              "        const buttonEl =\n",
              "          document.querySelector('#df-be9fbf41-23bf-42bd-9fc3-7ac8e5d72265 button.colab-df-convert');\n",
              "        buttonEl.style.display =\n",
              "          google.colab.kernel.accessAllowed ? 'block' : 'none';\n",
              "\n",
              "        async function convertToInteractive(key) {\n",
              "          const element = document.querySelector('#df-be9fbf41-23bf-42bd-9fc3-7ac8e5d72265');\n",
              "          const dataTable =\n",
              "            await google.colab.kernel.invokeFunction('convertToInteractive',\n",
              "                                                     [key], {});\n",
              "          if (!dataTable) return;\n",
              "\n",
              "          const docLinkHtml = 'Like what you see? Visit the ' +\n",
              "            '<a target=\"_blank\" href=https://colab.research.google.com/notebooks/data_table.ipynb>data table notebook</a>'\n",
              "            + ' to learn more about interactive tables.';\n",
              "          element.innerHTML = '';\n",
              "          dataTable['output_type'] = 'display_data';\n",
              "          await google.colab.output.renderOutput(dataTable, element);\n",
              "          const docLink = document.createElement('div');\n",
              "          docLink.innerHTML = docLinkHtml;\n",
              "          element.appendChild(docLink);\n",
              "        }\n",
              "      </script>\n",
              "    </div>\n",
              "  </div>\n",
              "  "
            ]
          },
          "metadata": {},
          "execution_count": 89
        }
      ]
    },
    {
      "cell_type": "code",
      "metadata": {
        "id": "aCjr8vQVYCFT",
        "colab": {
          "base_uri": "https://localhost:8080/"
        },
        "outputId": "a8782f8c-8cde-4a4f-f004-2a77255e4269"
      },
      "source": [
        "# 3.3 Print some information about datasets\n",
        "#     In this data target is 'price':\n",
        "\n",
        "print(\"---\")\n",
        "print(f\"train shape: {train.shape}\")\n",
        "print(f\"Test shape: {test.shape}\")\n",
        "print(\"---\\n\")\n",
        "\n",
        "# 3.3.1\n",
        "print(f\"train Memory Usage : {sum(train.memory_usage())/10**6} MB\")   # In MB\n",
        "print(f\"test Memory Usage : {sum(test.memory_usage())/10**6} MB\")    # In MB\n",
        "print(\"-----\\n\")\n",
        "\n",
        "# 3.3.2 Missing values\n",
        "print(f\"Train Null columns: {train.isnull().sum().sort_values()}\")\n",
        "print(f\"Test Null columns: {train.isnull().sum().sort_values()}\" )"
      ],
      "execution_count": 90,
      "outputs": [
        {
          "output_type": "stream",
          "name": "stdout",
          "text": [
            "---\n",
            "train shape: (1482535, 8)\n",
            "Test shape: (693359, 7)\n",
            "---\n",
            "\n",
            "train Memory Usage : 94.882368 MB\n",
            "test Memory Usage : 38.828232 MB\n",
            "-----\n",
            "\n",
            "Train Null columns: train_id                  0\n",
            "name                      0\n",
            "item_condition_id         0\n",
            "price                     0\n",
            "shipping                  0\n",
            "item_description          4\n",
            "category_name          6327\n",
            "brand_name           632682\n",
            "dtype: int64\n",
            "Test Null columns: train_id                  0\n",
            "name                      0\n",
            "item_condition_id         0\n",
            "price                     0\n",
            "shipping                  0\n",
            "item_description          4\n",
            "category_name          6327\n",
            "brand_name           632682\n",
            "dtype: int64\n"
          ]
        }
      ]
    },
    {
      "cell_type": "code",
      "metadata": {
        "id": "Z_19JJQn1DGs",
        "colab": {
          "base_uri": "https://localhost:8080/"
        },
        "outputId": "2fe946d6-f050-4df4-caf9-5419933d9356"
      },
      "source": [
        "# 3.4 All columns but 'price' and shipping are categorical\n",
        "train.dtypes\n",
        "#test.dtypes\n",
        "train.columns.values"
      ],
      "execution_count": 91,
      "outputs": [
        {
          "output_type": "execute_result",
          "data": {
            "text/plain": [
              "train_id               int64\n",
              "name                  object\n",
              "item_condition_id      int64\n",
              "category_name         object\n",
              "brand_name            object\n",
              "price                float64\n",
              "shipping               int64\n",
              "item_description      object\n",
              "dtype: object"
            ]
          },
          "metadata": {},
          "execution_count": 91
        },
        {
          "output_type": "execute_result",
          "data": {
            "text/plain": [
              "array(['train_id', 'name', 'item_condition_id', 'category_name',\n",
              "       'brand_name', 'price', 'shipping', 'item_description'],\n",
              "      dtype=object)"
            ]
          },
          "metadata": {},
          "execution_count": 91
        }
      ]
    },
    {
      "cell_type": "markdown",
      "metadata": {
        "id": "-AqPoy7PdDsY"
      },
      "source": [
        "## Data pre-processing\n",
        ">1. Missing values (three)<br>\n",
        ">2. Label Encoding of categorical columns (three)<br>\n",
        ">3. Transform fields having descriptive text to int sequences (two)<br>\n",
        ">4. In each text field, find the length of int sequence with max  length<br>\n",
        ">5. Scale numeric fields (two)<br>\n",
        ">6. Create one random numeric field<br>"
      ]
    },
    {
      "cell_type": "markdown",
      "metadata": {
        "id": "sA-eZn6ReoQG"
      },
      "source": [
        "### Missing values\n",
        "Fill missing values in categorical columns with constants\n"
      ]
    },
    {
      "cell_type": "code",
      "metadata": {
        "id": "5E9wY8I7GNUr"
      },
      "source": [
        "# 4.0 Fill missing values\n",
        "#     Define a function to fill missing values\n",
        "#     We use pandas methods df.fillna()\n",
        "#     Fields: category_name, brand_name, item_description\n",
        "\n",
        "def fill_missing(dataset):\n",
        "    dataset[\"category_name\"].fillna(value=\"missing\", inplace=True)\n",
        "    dataset[\"brand_name\"].fillna(value=\"missing\", inplace=True)\n",
        "    dataset[\"item_description\"].fillna(value=\"missing\", inplace=True)\n",
        "    return (dataset)"
      ],
      "execution_count": 92,
      "outputs": []
    },
    {
      "cell_type": "code",
      "metadata": {
        "_cell_guid": "4e506bee-5541-4879-aaea-159dee4416b8",
        "_uuid": "967a5f2b26862be11cdae8cb0fb7402fd486135c",
        "id": "Ln5BDHHyYCFU"
      },
      "source": [
        "# 4.1 Fill all missing values now in train and test:\n",
        "\n",
        "train = fill_missing(train)\n",
        "test = fill_missing(test)"
      ],
      "execution_count": 93,
      "outputs": []
    },
    {
      "cell_type": "code",
      "metadata": {
        "id": "mRLcbfKfGU_2",
        "colab": {
          "base_uri": "https://localhost:8080/",
          "height": 1000
        },
        "outputId": "c4ba169a-1cc2-4996-86c8-2ba476d087d9"
      },
      "source": [
        "# 4.2 Check if any value is still missing:\n",
        "\n",
        "train.isnull().sum()\n",
        "test.isnull().sum()\n",
        "\n",
        "# 4.3 Look at datasets now\n",
        "train.head(3)\n",
        "test.head(3)"
      ],
      "execution_count": 94,
      "outputs": [
        {
          "output_type": "execute_result",
          "data": {
            "text/plain": [
              "train_id             0\n",
              "name                 0\n",
              "item_condition_id    0\n",
              "category_name        0\n",
              "brand_name           0\n",
              "price                0\n",
              "shipping             0\n",
              "item_description     0\n",
              "dtype: int64"
            ]
          },
          "metadata": {},
          "execution_count": 94
        },
        {
          "output_type": "execute_result",
          "data": {
            "text/plain": [
              "test_id              0\n",
              "name                 0\n",
              "item_condition_id    0\n",
              "category_name        0\n",
              "brand_name           0\n",
              "shipping             0\n",
              "item_description     0\n",
              "dtype: int64"
            ]
          },
          "metadata": {},
          "execution_count": 94
        },
        {
          "output_type": "execute_result",
          "data": {
            "text/plain": [
              "   train_id                                 name  item_condition_id  \\\n",
              "0         0  MLB Cincinnati Reds T Shirt Size XL                  3   \n",
              "1         1     Razer BlackWidow Chroma Keyboard                  3   \n",
              "2         2                       AVA-VIV Blouse                  1   \n",
              "\n",
              "                                       category_name brand_name  price  \\\n",
              "0                                  Men/Tops/T-shirts    missing   10.0   \n",
              "1  Electronics/Computers & Tablets/Components & P...      Razer   52.0   \n",
              "2                        Women/Tops & Blouses/Blouse     Target   10.0   \n",
              "\n",
              "   shipping                                   item_description  \n",
              "0         1                                 No description yet  \n",
              "1         0  This keyboard is in great condition and works ...  \n",
              "2         1  Adorable top with a hint of lace and a key hol...  "
            ],
            "text/html": [
              "\n",
              "  <div id=\"df-ea55be47-caa5-4664-b13e-e2eb3fd42334\">\n",
              "    <div class=\"colab-df-container\">\n",
              "      <div>\n",
              "<style scoped>\n",
              "    .dataframe tbody tr th:only-of-type {\n",
              "        vertical-align: middle;\n",
              "    }\n",
              "\n",
              "    .dataframe tbody tr th {\n",
              "        vertical-align: top;\n",
              "    }\n",
              "\n",
              "    .dataframe thead th {\n",
              "        text-align: right;\n",
              "    }\n",
              "</style>\n",
              "<table border=\"1\" class=\"dataframe\">\n",
              "  <thead>\n",
              "    <tr style=\"text-align: right;\">\n",
              "      <th></th>\n",
              "      <th>train_id</th>\n",
              "      <th>name</th>\n",
              "      <th>item_condition_id</th>\n",
              "      <th>category_name</th>\n",
              "      <th>brand_name</th>\n",
              "      <th>price</th>\n",
              "      <th>shipping</th>\n",
              "      <th>item_description</th>\n",
              "    </tr>\n",
              "  </thead>\n",
              "  <tbody>\n",
              "    <tr>\n",
              "      <th>0</th>\n",
              "      <td>0</td>\n",
              "      <td>MLB Cincinnati Reds T Shirt Size XL</td>\n",
              "      <td>3</td>\n",
              "      <td>Men/Tops/T-shirts</td>\n",
              "      <td>missing</td>\n",
              "      <td>10.0</td>\n",
              "      <td>1</td>\n",
              "      <td>No description yet</td>\n",
              "    </tr>\n",
              "    <tr>\n",
              "      <th>1</th>\n",
              "      <td>1</td>\n",
              "      <td>Razer BlackWidow Chroma Keyboard</td>\n",
              "      <td>3</td>\n",
              "      <td>Electronics/Computers &amp; Tablets/Components &amp; P...</td>\n",
              "      <td>Razer</td>\n",
              "      <td>52.0</td>\n",
              "      <td>0</td>\n",
              "      <td>This keyboard is in great condition and works ...</td>\n",
              "    </tr>\n",
              "    <tr>\n",
              "      <th>2</th>\n",
              "      <td>2</td>\n",
              "      <td>AVA-VIV Blouse</td>\n",
              "      <td>1</td>\n",
              "      <td>Women/Tops &amp; Blouses/Blouse</td>\n",
              "      <td>Target</td>\n",
              "      <td>10.0</td>\n",
              "      <td>1</td>\n",
              "      <td>Adorable top with a hint of lace and a key hol...</td>\n",
              "    </tr>\n",
              "  </tbody>\n",
              "</table>\n",
              "</div>\n",
              "      <button class=\"colab-df-convert\" onclick=\"convertToInteractive('df-ea55be47-caa5-4664-b13e-e2eb3fd42334')\"\n",
              "              title=\"Convert this dataframe to an interactive table.\"\n",
              "              style=\"display:none;\">\n",
              "        \n",
              "  <svg xmlns=\"http://www.w3.org/2000/svg\" height=\"24px\"viewBox=\"0 0 24 24\"\n",
              "       width=\"24px\">\n",
              "    <path d=\"M0 0h24v24H0V0z\" fill=\"none\"/>\n",
              "    <path d=\"M18.56 5.44l.94 2.06.94-2.06 2.06-.94-2.06-.94-.94-2.06-.94 2.06-2.06.94zm-11 1L8.5 8.5l.94-2.06 2.06-.94-2.06-.94L8.5 2.5l-.94 2.06-2.06.94zm10 10l.94 2.06.94-2.06 2.06-.94-2.06-.94-.94-2.06-.94 2.06-2.06.94z\"/><path d=\"M17.41 7.96l-1.37-1.37c-.4-.4-.92-.59-1.43-.59-.52 0-1.04.2-1.43.59L10.3 9.45l-7.72 7.72c-.78.78-.78 2.05 0 2.83L4 21.41c.39.39.9.59 1.41.59.51 0 1.02-.2 1.41-.59l7.78-7.78 2.81-2.81c.8-.78.8-2.07 0-2.86zM5.41 20L4 18.59l7.72-7.72 1.47 1.35L5.41 20z\"/>\n",
              "  </svg>\n",
              "      </button>\n",
              "      \n",
              "  <style>\n",
              "    .colab-df-container {\n",
              "      display:flex;\n",
              "      flex-wrap:wrap;\n",
              "      gap: 12px;\n",
              "    }\n",
              "\n",
              "    .colab-df-convert {\n",
              "      background-color: #E8F0FE;\n",
              "      border: none;\n",
              "      border-radius: 50%;\n",
              "      cursor: pointer;\n",
              "      display: none;\n",
              "      fill: #1967D2;\n",
              "      height: 32px;\n",
              "      padding: 0 0 0 0;\n",
              "      width: 32px;\n",
              "    }\n",
              "\n",
              "    .colab-df-convert:hover {\n",
              "      background-color: #E2EBFA;\n",
              "      box-shadow: 0px 1px 2px rgba(60, 64, 67, 0.3), 0px 1px 3px 1px rgba(60, 64, 67, 0.15);\n",
              "      fill: #174EA6;\n",
              "    }\n",
              "\n",
              "    [theme=dark] .colab-df-convert {\n",
              "      background-color: #3B4455;\n",
              "      fill: #D2E3FC;\n",
              "    }\n",
              "\n",
              "    [theme=dark] .colab-df-convert:hover {\n",
              "      background-color: #434B5C;\n",
              "      box-shadow: 0px 1px 3px 1px rgba(0, 0, 0, 0.15);\n",
              "      filter: drop-shadow(0px 1px 2px rgba(0, 0, 0, 0.3));\n",
              "      fill: #FFFFFF;\n",
              "    }\n",
              "  </style>\n",
              "\n",
              "      <script>\n",
              "        const buttonEl =\n",
              "          document.querySelector('#df-ea55be47-caa5-4664-b13e-e2eb3fd42334 button.colab-df-convert');\n",
              "        buttonEl.style.display =\n",
              "          google.colab.kernel.accessAllowed ? 'block' : 'none';\n",
              "\n",
              "        async function convertToInteractive(key) {\n",
              "          const element = document.querySelector('#df-ea55be47-caa5-4664-b13e-e2eb3fd42334');\n",
              "          const dataTable =\n",
              "            await google.colab.kernel.invokeFunction('convertToInteractive',\n",
              "                                                     [key], {});\n",
              "          if (!dataTable) return;\n",
              "\n",
              "          const docLinkHtml = 'Like what you see? Visit the ' +\n",
              "            '<a target=\"_blank\" href=https://colab.research.google.com/notebooks/data_table.ipynb>data table notebook</a>'\n",
              "            + ' to learn more about interactive tables.';\n",
              "          element.innerHTML = '';\n",
              "          dataTable['output_type'] = 'display_data';\n",
              "          await google.colab.output.renderOutput(dataTable, element);\n",
              "          const docLink = document.createElement('div');\n",
              "          docLink.innerHTML = docLinkHtml;\n",
              "          element.appendChild(docLink);\n",
              "        }\n",
              "      </script>\n",
              "    </div>\n",
              "  </div>\n",
              "  "
            ]
          },
          "metadata": {},
          "execution_count": 94
        },
        {
          "output_type": "execute_result",
          "data": {
            "text/plain": [
              "   test_id                                      name  item_condition_id  \\\n",
              "0        0  Breast cancer \"I fight like a girl\" ring                  1   \n",
              "1        1  25 pcs NEW 7.5\"x12\" Kraft Bubble Mailers                  1   \n",
              "2        2                                 Coach bag                  1   \n",
              "\n",
              "                                    category_name brand_name  shipping  \\\n",
              "0                             Women/Jewelry/Rings    missing         1   \n",
              "1         Other/Office supplies/Shipping Supplies    missing         1   \n",
              "2  Vintage & Collectibles/Bags and Purses/Handbag      Coach         1   \n",
              "\n",
              "                                    item_description  \n",
              "0                                             Size 7  \n",
              "1  25 pcs NEW 7.5\"x12\" Kraft Bubble Mailers Lined...  \n",
              "2  Brand new coach bag. Bought for [rm] at a Coac...  "
            ],
            "text/html": [
              "\n",
              "  <div id=\"df-4bf5f226-347a-4b6a-8b7e-5b20cff5bc67\">\n",
              "    <div class=\"colab-df-container\">\n",
              "      <div>\n",
              "<style scoped>\n",
              "    .dataframe tbody tr th:only-of-type {\n",
              "        vertical-align: middle;\n",
              "    }\n",
              "\n",
              "    .dataframe tbody tr th {\n",
              "        vertical-align: top;\n",
              "    }\n",
              "\n",
              "    .dataframe thead th {\n",
              "        text-align: right;\n",
              "    }\n",
              "</style>\n",
              "<table border=\"1\" class=\"dataframe\">\n",
              "  <thead>\n",
              "    <tr style=\"text-align: right;\">\n",
              "      <th></th>\n",
              "      <th>test_id</th>\n",
              "      <th>name</th>\n",
              "      <th>item_condition_id</th>\n",
              "      <th>category_name</th>\n",
              "      <th>brand_name</th>\n",
              "      <th>shipping</th>\n",
              "      <th>item_description</th>\n",
              "    </tr>\n",
              "  </thead>\n",
              "  <tbody>\n",
              "    <tr>\n",
              "      <th>0</th>\n",
              "      <td>0</td>\n",
              "      <td>Breast cancer \"I fight like a girl\" ring</td>\n",
              "      <td>1</td>\n",
              "      <td>Women/Jewelry/Rings</td>\n",
              "      <td>missing</td>\n",
              "      <td>1</td>\n",
              "      <td>Size 7</td>\n",
              "    </tr>\n",
              "    <tr>\n",
              "      <th>1</th>\n",
              "      <td>1</td>\n",
              "      <td>25 pcs NEW 7.5\"x12\" Kraft Bubble Mailers</td>\n",
              "      <td>1</td>\n",
              "      <td>Other/Office supplies/Shipping Supplies</td>\n",
              "      <td>missing</td>\n",
              "      <td>1</td>\n",
              "      <td>25 pcs NEW 7.5\"x12\" Kraft Bubble Mailers Lined...</td>\n",
              "    </tr>\n",
              "    <tr>\n",
              "      <th>2</th>\n",
              "      <td>2</td>\n",
              "      <td>Coach bag</td>\n",
              "      <td>1</td>\n",
              "      <td>Vintage &amp; Collectibles/Bags and Purses/Handbag</td>\n",
              "      <td>Coach</td>\n",
              "      <td>1</td>\n",
              "      <td>Brand new coach bag. Bought for [rm] at a Coac...</td>\n",
              "    </tr>\n",
              "  </tbody>\n",
              "</table>\n",
              "</div>\n",
              "      <button class=\"colab-df-convert\" onclick=\"convertToInteractive('df-4bf5f226-347a-4b6a-8b7e-5b20cff5bc67')\"\n",
              "              title=\"Convert this dataframe to an interactive table.\"\n",
              "              style=\"display:none;\">\n",
              "        \n",
              "  <svg xmlns=\"http://www.w3.org/2000/svg\" height=\"24px\"viewBox=\"0 0 24 24\"\n",
              "       width=\"24px\">\n",
              "    <path d=\"M0 0h24v24H0V0z\" fill=\"none\"/>\n",
              "    <path d=\"M18.56 5.44l.94 2.06.94-2.06 2.06-.94-2.06-.94-.94-2.06-.94 2.06-2.06.94zm-11 1L8.5 8.5l.94-2.06 2.06-.94-2.06-.94L8.5 2.5l-.94 2.06-2.06.94zm10 10l.94 2.06.94-2.06 2.06-.94-2.06-.94-.94-2.06-.94 2.06-2.06.94z\"/><path d=\"M17.41 7.96l-1.37-1.37c-.4-.4-.92-.59-1.43-.59-.52 0-1.04.2-1.43.59L10.3 9.45l-7.72 7.72c-.78.78-.78 2.05 0 2.83L4 21.41c.39.39.9.59 1.41.59.51 0 1.02-.2 1.41-.59l7.78-7.78 2.81-2.81c.8-.78.8-2.07 0-2.86zM5.41 20L4 18.59l7.72-7.72 1.47 1.35L5.41 20z\"/>\n",
              "  </svg>\n",
              "      </button>\n",
              "      \n",
              "  <style>\n",
              "    .colab-df-container {\n",
              "      display:flex;\n",
              "      flex-wrap:wrap;\n",
              "      gap: 12px;\n",
              "    }\n",
              "\n",
              "    .colab-df-convert {\n",
              "      background-color: #E8F0FE;\n",
              "      border: none;\n",
              "      border-radius: 50%;\n",
              "      cursor: pointer;\n",
              "      display: none;\n",
              "      fill: #1967D2;\n",
              "      height: 32px;\n",
              "      padding: 0 0 0 0;\n",
              "      width: 32px;\n",
              "    }\n",
              "\n",
              "    .colab-df-convert:hover {\n",
              "      background-color: #E2EBFA;\n",
              "      box-shadow: 0px 1px 2px rgba(60, 64, 67, 0.3), 0px 1px 3px 1px rgba(60, 64, 67, 0.15);\n",
              "      fill: #174EA6;\n",
              "    }\n",
              "\n",
              "    [theme=dark] .colab-df-convert {\n",
              "      background-color: #3B4455;\n",
              "      fill: #D2E3FC;\n",
              "    }\n",
              "\n",
              "    [theme=dark] .colab-df-convert:hover {\n",
              "      background-color: #434B5C;\n",
              "      box-shadow: 0px 1px 3px 1px rgba(0, 0, 0, 0.15);\n",
              "      filter: drop-shadow(0px 1px 2px rgba(0, 0, 0, 0.3));\n",
              "      fill: #FFFFFF;\n",
              "    }\n",
              "  </style>\n",
              "\n",
              "      <script>\n",
              "        const buttonEl =\n",
              "          document.querySelector('#df-4bf5f226-347a-4b6a-8b7e-5b20cff5bc67 button.colab-df-convert');\n",
              "        buttonEl.style.display =\n",
              "          google.colab.kernel.accessAllowed ? 'block' : 'none';\n",
              "\n",
              "        async function convertToInteractive(key) {\n",
              "          const element = document.querySelector('#df-4bf5f226-347a-4b6a-8b7e-5b20cff5bc67');\n",
              "          const dataTable =\n",
              "            await google.colab.kernel.invokeFunction('convertToInteractive',\n",
              "                                                     [key], {});\n",
              "          if (!dataTable) return;\n",
              "\n",
              "          const docLinkHtml = 'Like what you see? Visit the ' +\n",
              "            '<a target=\"_blank\" href=https://colab.research.google.com/notebooks/data_table.ipynb>data table notebook</a>'\n",
              "            + ' to learn more about interactive tables.';\n",
              "          element.innerHTML = '';\n",
              "          dataTable['output_type'] = 'display_data';\n",
              "          await google.colab.output.renderOutput(dataTable, element);\n",
              "          const docLink = document.createElement('div');\n",
              "          docLink.innerHTML = docLinkHtml;\n",
              "          element.appendChild(docLink);\n",
              "        }\n",
              "      </script>\n",
              "    </div>\n",
              "  </div>\n",
              "  "
            ]
          },
          "metadata": {},
          "execution_count": 94
        }
      ]
    },
    {
      "cell_type": "markdown",
      "metadata": {
        "id": "xhOU6FUOeuM-"
      },
      "source": [
        "### Label Encoding of categorical data\n",
        "Label encode `category_name` and `brand_name` fields.<br> We will first horizontally merge `category_name` values and `brand_name` values both in train and test."
      ]
    },
    {
      "cell_type": "code",
      "metadata": {
        "id": "LSXuIqXZYCFV",
        "colab": {
          "base_uri": "https://localhost:8080/"
        },
        "outputId": "4d7207a0-dc7a-4719-9f9f-f373066193ec"
      },
      "source": [
        "# 4.4 Label Encode categorical values\n",
        "#     Two columns: category_name and brand_name\n",
        "\n",
        "# 4.4.1 Look at train/test category_name data. Each is 1D array:\n",
        "train[\"category_name\"].values.shape        # 1D (1482535,)\n",
        "test.category_name.values.shape         # 1D (693359,)"
      ],
      "execution_count": 95,
      "outputs": [
        {
          "output_type": "execute_result",
          "data": {
            "text/plain": [
              "(1482535,)"
            ]
          },
          "metadata": {},
          "execution_count": 95
        },
        {
          "output_type": "execute_result",
          "data": {
            "text/plain": [
              "(693359,)"
            ]
          },
          "metadata": {},
          "execution_count": 95
        }
      ]
    },
    {
      "cell_type": "code",
      "metadata": {
        "id": "vsU-WkHHHO9m"
      },
      "source": [
        "# 4.4.2 Merge 1D category_name data of train & test into one array:\n",
        "\n",
        "catname_array = np.hstack([train.category_name.values, test.category_name.values])\n",
        "\n",
        "\n",
        "# 4.4.3 Also merge brand_name data into one dimensional array\n",
        "\n",
        "brname_array = np.hstack([train.brand_name.values, test.brand_name.values])"
      ],
      "execution_count": 96,
      "outputs": []
    },
    {
      "cell_type": "code",
      "metadata": {
        "id": "hF1RrzcGHI-R",
        "colab": {
          "base_uri": "https://localhost:8080/"
        },
        "outputId": "a43e432e-374b-46e9-fb87-8ac27ad8c8c8"
      },
      "source": [
        "# 4.4.4 So final shapes:\n",
        "catname_array.shape        # 1D array, (2175894,)\n",
        "brname_array.shape         # 1D array, (2175894,)\n",
        "\n",
        "# 4.4.5 And some values\n",
        "catname_array[:3]\n",
        "brname_array[:3]"
      ],
      "execution_count": 97,
      "outputs": [
        {
          "output_type": "execute_result",
          "data": {
            "text/plain": [
              "(2175894,)"
            ]
          },
          "metadata": {},
          "execution_count": 97
        },
        {
          "output_type": "execute_result",
          "data": {
            "text/plain": [
              "(2175894,)"
            ]
          },
          "metadata": {},
          "execution_count": 97
        },
        {
          "output_type": "execute_result",
          "data": {
            "text/plain": [
              "array(['Men/Tops/T-shirts',\n",
              "       'Electronics/Computers & Tablets/Components & Parts',\n",
              "       'Women/Tops & Blouses/Blouse'], dtype=object)"
            ]
          },
          "metadata": {},
          "execution_count": 97
        },
        {
          "output_type": "execute_result",
          "data": {
            "text/plain": [
              "array(['missing', 'Razer', 'Target'], dtype=object)"
            ]
          },
          "metadata": {},
          "execution_count": 97
        }
      ]
    },
    {
      "cell_type": "code",
      "metadata": {
        "_cell_guid": "204de9ca-7ea5-481b-9039-743bbab1084f",
        "_uuid": "cf9985161bcd94612b1359177e23124efd3410cb",
        "id": "SKvg6Q6cYCFV",
        "colab": {
          "base_uri": "https://localhost:8080/"
        },
        "outputId": "87b76a18-0203-40f0-a853-bf959e1d8f03"
      },
      "source": [
        "# 5.0 Label or integer encode each category and brand name\n",
        "\n",
        "# 5.1 Instantiate object for category name transformation:\n",
        "\n",
        "le = LabelEncoder()\n",
        "\n",
        "# 5.2 Training first on all values:\n",
        "\n",
        "le.fit(catname_array)\n",
        "\n",
        "# 5.3 Next transformation of individual sets:\n",
        "\n",
        "train.category_name = le.transform(train.category_name.values)\n",
        "test.category_name = le.transform(test.category_name.values)\n",
        "\n",
        "# 5.4 How many classes:\n",
        "le.classes_\n",
        "\n",
        "# 5.5 Length:\n",
        "print(\"\\n======\\n\")\n",
        "MAX_CATEGORY_VOC = len(le.classes_)\n",
        "print(\"\\n======\\n\")\n",
        "MAX_CATEGORY_VOC"
      ],
      "execution_count": 103,
      "outputs": [
        {
          "output_type": "execute_result",
          "data": {
            "text/plain": [
              "LabelEncoder()"
            ]
          },
          "metadata": {},
          "execution_count": 103
        },
        {
          "output_type": "execute_result",
          "data": {
            "text/plain": [
              "array(['Beauty/Bath & Body/Bath',\n",
              "       'Beauty/Bath & Body/Bathing Accessories',\n",
              "       'Beauty/Bath & Body/Cleansers', ...,\n",
              "       \"Women/Women's Handbags/Shoulder Bag\",\n",
              "       \"Women/Women's Handbags/Totes & Shoppers\", 'missing'], dtype=object)"
            ]
          },
          "metadata": {},
          "execution_count": 103
        },
        {
          "output_type": "execute_result",
          "data": {
            "text/plain": [
              "1311"
            ]
          },
          "metadata": {},
          "execution_count": 103
        }
      ]
    },
    {
      "cell_type": "code",
      "metadata": {
        "id": "YRgZA5CKe1uY",
        "colab": {
          "base_uri": "https://localhost:8080/"
        },
        "outputId": "cc773d2e-eac3-4dfa-ac2f-d055981c5949"
      },
      "source": [
        "# 5.4 Instantiate another object for brand name transformation:\n",
        "\n",
        "le = LabelEncoder()\n",
        "\n",
        "# 5.5 fit and transform\n",
        "le.fit(brname_array)\n",
        "train.brand_name = le.transform(train.brand_name.values)\n",
        "test.brand_name = le.transform(test.brand_name.values)\n",
        "MAX_BRAND_VOC = len(le.classes_)\n",
        "print(\"\\n======\\n\")\n",
        "MAX_BRAND_VOC"
      ],
      "execution_count": 104,
      "outputs": [
        {
          "output_type": "execute_result",
          "data": {
            "text/plain": [
              "LabelEncoder()"
            ]
          },
          "metadata": {},
          "execution_count": 104
        }
      ]
    },
    {
      "cell_type": "code",
      "metadata": {
        "id": "i1U1srBDQfQn",
        "colab": {
          "base_uri": "https://localhost:8080/"
        },
        "outputId": "a986c444-4a00-4931-ebf1-d6c04d4b440f"
      },
      "source": [
        "# 5.6 How label encoder works:\n",
        "#     Transforms alphabetically not by frequency\n",
        "#     Coding starts from 0:\n",
        "\n",
        "a = ['zx', 'zx', 'az', 'bb', 'bb', 'bb']\n",
        "le1 = LabelEncoder()\n",
        "print(le1.fit_transform(a))\n",
        "\n",
        "# 5.6.1:\n",
        "\n",
        "b = ['zx', 'zx','zx','zx', 'az', 'bb', 'bb', 'bb']\n",
        "le2 = LabelEncoder()\n",
        "print(le2.fit_transform(b))\n"
      ],
      "execution_count": 22,
      "outputs": [
        {
          "output_type": "stream",
          "name": "stdout",
          "text": [
            "[2 2 0 1 1 1]\n",
            "[2 2 2 2 0 1 1 1]\n"
          ]
        }
      ]
    },
    {
      "cell_type": "code",
      "metadata": {
        "id": "Lb0Nmz3le5B-",
        "colab": {
          "base_uri": "https://localhost:8080/"
        },
        "outputId": "da998125-87ed-44ed-da72-587a9677a0d8"
      },
      "source": [
        "# 5.7 Delete objects not needed:\n",
        "\n",
        "print(np.max(catname_array),np.max(brname_array))\n",
        "del le, catname_array, brname_array\n",
        "gc.collect()"
      ],
      "execution_count": 23,
      "outputs": [
        {
          "output_type": "stream",
          "name": "stdout",
          "text": [
            "missing wallis\n"
          ]
        },
        {
          "output_type": "execute_result",
          "data": {
            "text/plain": [
              "122"
            ]
          },
          "metadata": {},
          "execution_count": 23
        }
      ]
    },
    {
      "cell_type": "code",
      "metadata": {
        "id": "D4afLQoDfFZl",
        "colab": {
          "base_uri": "https://localhost:8080/",
          "height": 418
        },
        "outputId": "0b367ec2-a810-4740-c1b2-5fce14bfe45d"
      },
      "source": [
        "# 5.8 Finally look at transformed data:\n",
        "\n",
        "train.head(3)\n",
        "test.head(3)"
      ],
      "execution_count": 106,
      "outputs": [
        {
          "output_type": "execute_result",
          "data": {
            "text/plain": [
              "   train_id                                 name  item_condition_id  \\\n",
              "0         0  MLB Cincinnati Reds T Shirt Size XL                  3   \n",
              "1         1     Razer BlackWidow Chroma Keyboard                  3   \n",
              "2         2                       AVA-VIV Blouse                  1   \n",
              "\n",
              "   category_name  brand_name  price  shipping  \\\n",
              "0            829        5265   10.0         1   \n",
              "1             86        3889   52.0         0   \n",
              "2           1277        4588   10.0         1   \n",
              "\n",
              "                                    item_description  \n",
              "0                                 No description yet  \n",
              "1  This keyboard is in great condition and works ...  \n",
              "2  Adorable top with a hint of lace and a key hol...  "
            ],
            "text/html": [
              "\n",
              "  <div id=\"df-743b238b-b672-4402-9a3c-9138797aa342\">\n",
              "    <div class=\"colab-df-container\">\n",
              "      <div>\n",
              "<style scoped>\n",
              "    .dataframe tbody tr th:only-of-type {\n",
              "        vertical-align: middle;\n",
              "    }\n",
              "\n",
              "    .dataframe tbody tr th {\n",
              "        vertical-align: top;\n",
              "    }\n",
              "\n",
              "    .dataframe thead th {\n",
              "        text-align: right;\n",
              "    }\n",
              "</style>\n",
              "<table border=\"1\" class=\"dataframe\">\n",
              "  <thead>\n",
              "    <tr style=\"text-align: right;\">\n",
              "      <th></th>\n",
              "      <th>train_id</th>\n",
              "      <th>name</th>\n",
              "      <th>item_condition_id</th>\n",
              "      <th>category_name</th>\n",
              "      <th>brand_name</th>\n",
              "      <th>price</th>\n",
              "      <th>shipping</th>\n",
              "      <th>item_description</th>\n",
              "    </tr>\n",
              "  </thead>\n",
              "  <tbody>\n",
              "    <tr>\n",
              "      <th>0</th>\n",
              "      <td>0</td>\n",
              "      <td>MLB Cincinnati Reds T Shirt Size XL</td>\n",
              "      <td>3</td>\n",
              "      <td>829</td>\n",
              "      <td>5265</td>\n",
              "      <td>10.0</td>\n",
              "      <td>1</td>\n",
              "      <td>No description yet</td>\n",
              "    </tr>\n",
              "    <tr>\n",
              "      <th>1</th>\n",
              "      <td>1</td>\n",
              "      <td>Razer BlackWidow Chroma Keyboard</td>\n",
              "      <td>3</td>\n",
              "      <td>86</td>\n",
              "      <td>3889</td>\n",
              "      <td>52.0</td>\n",
              "      <td>0</td>\n",
              "      <td>This keyboard is in great condition and works ...</td>\n",
              "    </tr>\n",
              "    <tr>\n",
              "      <th>2</th>\n",
              "      <td>2</td>\n",
              "      <td>AVA-VIV Blouse</td>\n",
              "      <td>1</td>\n",
              "      <td>1277</td>\n",
              "      <td>4588</td>\n",
              "      <td>10.0</td>\n",
              "      <td>1</td>\n",
              "      <td>Adorable top with a hint of lace and a key hol...</td>\n",
              "    </tr>\n",
              "  </tbody>\n",
              "</table>\n",
              "</div>\n",
              "      <button class=\"colab-df-convert\" onclick=\"convertToInteractive('df-743b238b-b672-4402-9a3c-9138797aa342')\"\n",
              "              title=\"Convert this dataframe to an interactive table.\"\n",
              "              style=\"display:none;\">\n",
              "        \n",
              "  <svg xmlns=\"http://www.w3.org/2000/svg\" height=\"24px\"viewBox=\"0 0 24 24\"\n",
              "       width=\"24px\">\n",
              "    <path d=\"M0 0h24v24H0V0z\" fill=\"none\"/>\n",
              "    <path d=\"M18.56 5.44l.94 2.06.94-2.06 2.06-.94-2.06-.94-.94-2.06-.94 2.06-2.06.94zm-11 1L8.5 8.5l.94-2.06 2.06-.94-2.06-.94L8.5 2.5l-.94 2.06-2.06.94zm10 10l.94 2.06.94-2.06 2.06-.94-2.06-.94-.94-2.06-.94 2.06-2.06.94z\"/><path d=\"M17.41 7.96l-1.37-1.37c-.4-.4-.92-.59-1.43-.59-.52 0-1.04.2-1.43.59L10.3 9.45l-7.72 7.72c-.78.78-.78 2.05 0 2.83L4 21.41c.39.39.9.59 1.41.59.51 0 1.02-.2 1.41-.59l7.78-7.78 2.81-2.81c.8-.78.8-2.07 0-2.86zM5.41 20L4 18.59l7.72-7.72 1.47 1.35L5.41 20z\"/>\n",
              "  </svg>\n",
              "      </button>\n",
              "      \n",
              "  <style>\n",
              "    .colab-df-container {\n",
              "      display:flex;\n",
              "      flex-wrap:wrap;\n",
              "      gap: 12px;\n",
              "    }\n",
              "\n",
              "    .colab-df-convert {\n",
              "      background-color: #E8F0FE;\n",
              "      border: none;\n",
              "      border-radius: 50%;\n",
              "      cursor: pointer;\n",
              "      display: none;\n",
              "      fill: #1967D2;\n",
              "      height: 32px;\n",
              "      padding: 0 0 0 0;\n",
              "      width: 32px;\n",
              "    }\n",
              "\n",
              "    .colab-df-convert:hover {\n",
              "      background-color: #E2EBFA;\n",
              "      box-shadow: 0px 1px 2px rgba(60, 64, 67, 0.3), 0px 1px 3px 1px rgba(60, 64, 67, 0.15);\n",
              "      fill: #174EA6;\n",
              "    }\n",
              "\n",
              "    [theme=dark] .colab-df-convert {\n",
              "      background-color: #3B4455;\n",
              "      fill: #D2E3FC;\n",
              "    }\n",
              "\n",
              "    [theme=dark] .colab-df-convert:hover {\n",
              "      background-color: #434B5C;\n",
              "      box-shadow: 0px 1px 3px 1px rgba(0, 0, 0, 0.15);\n",
              "      filter: drop-shadow(0px 1px 2px rgba(0, 0, 0, 0.3));\n",
              "      fill: #FFFFFF;\n",
              "    }\n",
              "  </style>\n",
              "\n",
              "      <script>\n",
              "        const buttonEl =\n",
              "          document.querySelector('#df-743b238b-b672-4402-9a3c-9138797aa342 button.colab-df-convert');\n",
              "        buttonEl.style.display =\n",
              "          google.colab.kernel.accessAllowed ? 'block' : 'none';\n",
              "\n",
              "        async function convertToInteractive(key) {\n",
              "          const element = document.querySelector('#df-743b238b-b672-4402-9a3c-9138797aa342');\n",
              "          const dataTable =\n",
              "            await google.colab.kernel.invokeFunction('convertToInteractive',\n",
              "                                                     [key], {});\n",
              "          if (!dataTable) return;\n",
              "\n",
              "          const docLinkHtml = 'Like what you see? Visit the ' +\n",
              "            '<a target=\"_blank\" href=https://colab.research.google.com/notebooks/data_table.ipynb>data table notebook</a>'\n",
              "            + ' to learn more about interactive tables.';\n",
              "          element.innerHTML = '';\n",
              "          dataTable['output_type'] = 'display_data';\n",
              "          await google.colab.output.renderOutput(dataTable, element);\n",
              "          const docLink = document.createElement('div');\n",
              "          docLink.innerHTML = docLinkHtml;\n",
              "          element.appendChild(docLink);\n",
              "        }\n",
              "      </script>\n",
              "    </div>\n",
              "  </div>\n",
              "  "
            ]
          },
          "metadata": {},
          "execution_count": 106
        },
        {
          "output_type": "execute_result",
          "data": {
            "text/plain": [
              "   test_id                                      name  item_condition_id  \\\n",
              "0        0  Breast cancer \"I fight like a girl\" ring                  1   \n",
              "1        1  25 pcs NEW 7.5\"x12\" Kraft Bubble Mailers                  1   \n",
              "2        2                                 Coach bag                  1   \n",
              "\n",
              "   category_name  brand_name  shipping  \\\n",
              "0           1205        5265         1   \n",
              "1            899        5265         1   \n",
              "2           1000        1094         1   \n",
              "\n",
              "                                    item_description  \n",
              "0                                             Size 7  \n",
              "1  25 pcs NEW 7.5\"x12\" Kraft Bubble Mailers Lined...  \n",
              "2  Brand new coach bag. Bought for [rm] at a Coac...  "
            ],
            "text/html": [
              "\n",
              "  <div id=\"df-510321f0-e186-4c5b-a3fe-c26bebaf7afa\">\n",
              "    <div class=\"colab-df-container\">\n",
              "      <div>\n",
              "<style scoped>\n",
              "    .dataframe tbody tr th:only-of-type {\n",
              "        vertical-align: middle;\n",
              "    }\n",
              "\n",
              "    .dataframe tbody tr th {\n",
              "        vertical-align: top;\n",
              "    }\n",
              "\n",
              "    .dataframe thead th {\n",
              "        text-align: right;\n",
              "    }\n",
              "</style>\n",
              "<table border=\"1\" class=\"dataframe\">\n",
              "  <thead>\n",
              "    <tr style=\"text-align: right;\">\n",
              "      <th></th>\n",
              "      <th>test_id</th>\n",
              "      <th>name</th>\n",
              "      <th>item_condition_id</th>\n",
              "      <th>category_name</th>\n",
              "      <th>brand_name</th>\n",
              "      <th>shipping</th>\n",
              "      <th>item_description</th>\n",
              "    </tr>\n",
              "  </thead>\n",
              "  <tbody>\n",
              "    <tr>\n",
              "      <th>0</th>\n",
              "      <td>0</td>\n",
              "      <td>Breast cancer \"I fight like a girl\" ring</td>\n",
              "      <td>1</td>\n",
              "      <td>1205</td>\n",
              "      <td>5265</td>\n",
              "      <td>1</td>\n",
              "      <td>Size 7</td>\n",
              "    </tr>\n",
              "    <tr>\n",
              "      <th>1</th>\n",
              "      <td>1</td>\n",
              "      <td>25 pcs NEW 7.5\"x12\" Kraft Bubble Mailers</td>\n",
              "      <td>1</td>\n",
              "      <td>899</td>\n",
              "      <td>5265</td>\n",
              "      <td>1</td>\n",
              "      <td>25 pcs NEW 7.5\"x12\" Kraft Bubble Mailers Lined...</td>\n",
              "    </tr>\n",
              "    <tr>\n",
              "      <th>2</th>\n",
              "      <td>2</td>\n",
              "      <td>Coach bag</td>\n",
              "      <td>1</td>\n",
              "      <td>1000</td>\n",
              "      <td>1094</td>\n",
              "      <td>1</td>\n",
              "      <td>Brand new coach bag. Bought for [rm] at a Coac...</td>\n",
              "    </tr>\n",
              "  </tbody>\n",
              "</table>\n",
              "</div>\n",
              "      <button class=\"colab-df-convert\" onclick=\"convertToInteractive('df-510321f0-e186-4c5b-a3fe-c26bebaf7afa')\"\n",
              "              title=\"Convert this dataframe to an interactive table.\"\n",
              "              style=\"display:none;\">\n",
              "        \n",
              "  <svg xmlns=\"http://www.w3.org/2000/svg\" height=\"24px\"viewBox=\"0 0 24 24\"\n",
              "       width=\"24px\">\n",
              "    <path d=\"M0 0h24v24H0V0z\" fill=\"none\"/>\n",
              "    <path d=\"M18.56 5.44l.94 2.06.94-2.06 2.06-.94-2.06-.94-.94-2.06-.94 2.06-2.06.94zm-11 1L8.5 8.5l.94-2.06 2.06-.94-2.06-.94L8.5 2.5l-.94 2.06-2.06.94zm10 10l.94 2.06.94-2.06 2.06-.94-2.06-.94-.94-2.06-.94 2.06-2.06.94z\"/><path d=\"M17.41 7.96l-1.37-1.37c-.4-.4-.92-.59-1.43-.59-.52 0-1.04.2-1.43.59L10.3 9.45l-7.72 7.72c-.78.78-.78 2.05 0 2.83L4 21.41c.39.39.9.59 1.41.59.51 0 1.02-.2 1.41-.59l7.78-7.78 2.81-2.81c.8-.78.8-2.07 0-2.86zM5.41 20L4 18.59l7.72-7.72 1.47 1.35L5.41 20z\"/>\n",
              "  </svg>\n",
              "      </button>\n",
              "      \n",
              "  <style>\n",
              "    .colab-df-container {\n",
              "      display:flex;\n",
              "      flex-wrap:wrap;\n",
              "      gap: 12px;\n",
              "    }\n",
              "\n",
              "    .colab-df-convert {\n",
              "      background-color: #E8F0FE;\n",
              "      border: none;\n",
              "      border-radius: 50%;\n",
              "      cursor: pointer;\n",
              "      display: none;\n",
              "      fill: #1967D2;\n",
              "      height: 32px;\n",
              "      padding: 0 0 0 0;\n",
              "      width: 32px;\n",
              "    }\n",
              "\n",
              "    .colab-df-convert:hover {\n",
              "      background-color: #E2EBFA;\n",
              "      box-shadow: 0px 1px 2px rgba(60, 64, 67, 0.3), 0px 1px 3px 1px rgba(60, 64, 67, 0.15);\n",
              "      fill: #174EA6;\n",
              "    }\n",
              "\n",
              "    [theme=dark] .colab-df-convert {\n",
              "      background-color: #3B4455;\n",
              "      fill: #D2E3FC;\n",
              "    }\n",
              "\n",
              "    [theme=dark] .colab-df-convert:hover {\n",
              "      background-color: #434B5C;\n",
              "      box-shadow: 0px 1px 3px 1px rgba(0, 0, 0, 0.15);\n",
              "      filter: drop-shadow(0px 1px 2px rgba(0, 0, 0, 0.3));\n",
              "      fill: #FFFFFF;\n",
              "    }\n",
              "  </style>\n",
              "\n",
              "      <script>\n",
              "        const buttonEl =\n",
              "          document.querySelector('#df-510321f0-e186-4c5b-a3fe-c26bebaf7afa button.colab-df-convert');\n",
              "        buttonEl.style.display =\n",
              "          google.colab.kernel.accessAllowed ? 'block' : 'none';\n",
              "\n",
              "        async function convertToInteractive(key) {\n",
              "          const element = document.querySelector('#df-510321f0-e186-4c5b-a3fe-c26bebaf7afa');\n",
              "          const dataTable =\n",
              "            await google.colab.kernel.invokeFunction('convertToInteractive',\n",
              "                                                     [key], {});\n",
              "          if (!dataTable) return;\n",
              "\n",
              "          const docLinkHtml = 'Like what you see? Visit the ' +\n",
              "            '<a target=\"_blank\" href=https://colab.research.google.com/notebooks/data_table.ipynb>data table notebook</a>'\n",
              "            + ' to learn more about interactive tables.';\n",
              "          element.innerHTML = '';\n",
              "          dataTable['output_type'] = 'display_data';\n",
              "          await google.colab.output.renderOutput(dataTable, element);\n",
              "          const docLink = document.createElement('div');\n",
              "          docLink.innerHTML = docLinkHtml;\n",
              "          element.appendChild(docLink);\n",
              "        }\n",
              "      </script>\n",
              "    </div>\n",
              "  </div>\n",
              "  "
            ]
          },
          "metadata": {},
          "execution_count": 106
        }
      ]
    },
    {
      "cell_type": "markdown",
      "metadata": {
        "id": "aIdqXCClf3ne"
      },
      "source": [
        "### Transform text fields to integer sequences\n",
        "Takes time<br>\n",
        "Fields are `item_description` and `name`. <br>\n",
        "By default, `Tokenizer()` removes all punctuation, turning the texts into space-separated sequences of words (words maybe include the ' character). These sequences are then split into lists of tokens. They are then indexed.\n"
      ]
    },
    {
      "cell_type": "code",
      "metadata": {
        "id": "U-MPzSZ6YCFW",
        "colab": {
          "base_uri": "https://localhost:8080/"
        },
        "outputId": "f19b282e-97be-4f65-8b00-36742ca1b370"
      },
      "source": [
        "# 6. Vectorize into integers text data\n",
        "#    Two columns: item_description, name\n",
        "\n",
        "# 6.1 We assume that words in 'item_description' and 'name'\n",
        "#     columns are same or iterchangeable. This assumption\n",
        "#     is made for simplification. Thst is, T-shirt, if\n",
        "#     coded as 57 in item_decription' will also be coded \n",
        "#     as 57 in 'name' field.\n",
        "#     (Correct approach would have been to treat the two fields separately)\n",
        "\n",
        "# 6.2 Stack two columns, item_Description and name, as arrays, end-to-end in 1D array\n",
        "#     We could also have stacked here: test.item_description.values, test.name.values\n",
        "\n",
        "raw_text = np.hstack(\n",
        "                     [\n",
        "                       train.item_description.values,\n",
        "                       train.name.values,\n",
        "                       test.item_description.values,\n",
        "                       test.name.values\n",
        "                      ]\n",
        "                     )\n",
        "\n",
        "# 6.2.1\n",
        "raw_text[:3]"
      ],
      "execution_count": 107,
      "outputs": [
        {
          "output_type": "execute_result",
          "data": {
            "text/plain": [
              "array(['No description yet',\n",
              "       'This keyboard is in great condition and works like it came out of the box. All of the ports are tested and work perfectly. The lights are customizable via the Razer Synapse app on your PC.',\n",
              "       'Adorable top with a hint of lace and a key hole in the back! The pale pink is a 1X, and I also have a 3X available in white!'],\n",
              "      dtype=object)"
            ]
          },
          "metadata": {},
          "execution_count": 107
        }
      ]
    },
    {
      "cell_type": "code",
      "metadata": {
        "id": "7UXHq61YI0oQ",
        "colab": {
          "base_uri": "https://localhost:8080/"
        },
        "outputId": "aa68e02d-51b9-46ea-e3af-3990f7802064"
      },
      "source": [
        "# 6.3 Train tokenizer\n",
        "#     https://www.tensorflow.org/api_docs/python/tf/keras/preprocessing/text/Tokenizer\n",
        "#     Tokenizer filters out punctuation, tabs and line-breaks\n",
        "#\n",
        "%%time\n",
        "\n",
        "tok_raw = Tokenizer()           # Create Tokenizer() object\n",
        "tok_raw.fit_on_texts(raw_text)  # Just training. No transformation as yet\n"
      ],
      "execution_count": 108,
      "outputs": [
        {
          "output_type": "stream",
          "name": "stdout",
          "text": [
            "CPU times: user 1min 44s, sys: 471 ms, total: 1min 44s\n",
            "Wall time: 1min 45s\n"
          ]
        }
      ]
    },
    {
      "cell_type": "code",
      "source": [
        "# 6.3 Look at word_index\n",
        "\n",
        "tok_raw.word_index"
      ],
      "metadata": {
        "id": "s8G1IhHQRTqY"
      },
      "execution_count": null,
      "outputs": []
    },
    {
      "cell_type": "code",
      "source": [
        "# And vocab size:\n",
        "\n",
        "MAX_TEXT_VOC = len(tok_raw.word_index)\n",
        "MAX_TEXT_VOC   # 321999, say: 322000"
      ],
      "metadata": {
        "colab": {
          "base_uri": "https://localhost:8080/"
        },
        "id": "rSSTu7lFO3DM",
        "outputId": "0b7a98fd-cb3f-4f28-f2e2-da08c558a417"
      },
      "execution_count": 110,
      "outputs": [
        {
          "output_type": "execute_result",
          "data": {
            "text/plain": [
              "321999"
            ]
          },
          "metadata": {},
          "execution_count": 110
        }
      ]
    },
    {
      "cell_type": "code",
      "metadata": {
        "id": "Rzf8nTLkYCFW"
      },
      "source": [
        "# 7. Transform 'item_description' to integer sequences\n",
        "#    Our trained object tok_raw uses texts_to_sequences()\n",
        "#    for the purpose:\n",
        "\n",
        "# 7.1 Takes time\n",
        "train[\"seq_item_description\"] = tok_raw.texts_to_sequences(train.item_description.values)\n",
        "\n",
        "# 7.2 Takes time\n",
        "\n",
        "test[\"seq_item_description\"] = tok_raw.texts_to_sequences(test.item_description.values)\n"
      ],
      "execution_count": 111,
      "outputs": []
    },
    {
      "cell_type": "code",
      "metadata": {
        "id": "CTGV3l_b4HUC",
        "colab": {
          "base_uri": "https://localhost:8080/",
          "height": 364
        },
        "outputId": "7279254f-fa1b-4b58-d649-5e309ee95463"
      },
      "source": [
        "# 7.3 Check transformed data:\n",
        "\n",
        "train.head(3)"
      ],
      "execution_count": 112,
      "outputs": [
        {
          "output_type": "execute_result",
          "data": {
            "text/plain": [
              "   train_id                                 name  item_condition_id  \\\n",
              "0         0  MLB Cincinnati Reds T Shirt Size XL                  3   \n",
              "1         1     Razer BlackWidow Chroma Keyboard                  3   \n",
              "2         2                       AVA-VIV Blouse                  1   \n",
              "\n",
              "   category_name  brand_name  price  shipping  \\\n",
              "0            829        5265   10.0         1   \n",
              "1             86        3889   52.0         0   \n",
              "2           1277        4588   10.0         1   \n",
              "\n",
              "                                    item_description  \\\n",
              "0                                 No description yet   \n",
              "1  This keyboard is in great condition and works ...   \n",
              "2  Adorable top with a hint of lace and a key hol...   \n",
              "\n",
              "                                seq_item_description  \n",
              "0                                       [12, 68, 79]  \n",
              "1  [29, 2667, 10, 7, 38, 17, 1, 206, 51, 19, 1098...  \n",
              "2  [596, 60, 9, 4, 5354, 11, 192, 1, 4, 900, 1298...  "
            ],
            "text/html": [
              "\n",
              "  <div id=\"df-94e6c14c-ec84-4480-bde7-a3e432c45809\">\n",
              "    <div class=\"colab-df-container\">\n",
              "      <div>\n",
              "<style scoped>\n",
              "    .dataframe tbody tr th:only-of-type {\n",
              "        vertical-align: middle;\n",
              "    }\n",
              "\n",
              "    .dataframe tbody tr th {\n",
              "        vertical-align: top;\n",
              "    }\n",
              "\n",
              "    .dataframe thead th {\n",
              "        text-align: right;\n",
              "    }\n",
              "</style>\n",
              "<table border=\"1\" class=\"dataframe\">\n",
              "  <thead>\n",
              "    <tr style=\"text-align: right;\">\n",
              "      <th></th>\n",
              "      <th>train_id</th>\n",
              "      <th>name</th>\n",
              "      <th>item_condition_id</th>\n",
              "      <th>category_name</th>\n",
              "      <th>brand_name</th>\n",
              "      <th>price</th>\n",
              "      <th>shipping</th>\n",
              "      <th>item_description</th>\n",
              "      <th>seq_item_description</th>\n",
              "    </tr>\n",
              "  </thead>\n",
              "  <tbody>\n",
              "    <tr>\n",
              "      <th>0</th>\n",
              "      <td>0</td>\n",
              "      <td>MLB Cincinnati Reds T Shirt Size XL</td>\n",
              "      <td>3</td>\n",
              "      <td>829</td>\n",
              "      <td>5265</td>\n",
              "      <td>10.0</td>\n",
              "      <td>1</td>\n",
              "      <td>No description yet</td>\n",
              "      <td>[12, 68, 79]</td>\n",
              "    </tr>\n",
              "    <tr>\n",
              "      <th>1</th>\n",
              "      <td>1</td>\n",
              "      <td>Razer BlackWidow Chroma Keyboard</td>\n",
              "      <td>3</td>\n",
              "      <td>86</td>\n",
              "      <td>3889</td>\n",
              "      <td>52.0</td>\n",
              "      <td>0</td>\n",
              "      <td>This keyboard is in great condition and works ...</td>\n",
              "      <td>[29, 2667, 10, 7, 38, 17, 1, 206, 51, 19, 1098...</td>\n",
              "    </tr>\n",
              "    <tr>\n",
              "      <th>2</th>\n",
              "      <td>2</td>\n",
              "      <td>AVA-VIV Blouse</td>\n",
              "      <td>1</td>\n",
              "      <td>1277</td>\n",
              "      <td>4588</td>\n",
              "      <td>10.0</td>\n",
              "      <td>1</td>\n",
              "      <td>Adorable top with a hint of lace and a key hol...</td>\n",
              "      <td>[596, 60, 9, 4, 5354, 11, 192, 1, 4, 900, 1298...</td>\n",
              "    </tr>\n",
              "  </tbody>\n",
              "</table>\n",
              "</div>\n",
              "      <button class=\"colab-df-convert\" onclick=\"convertToInteractive('df-94e6c14c-ec84-4480-bde7-a3e432c45809')\"\n",
              "              title=\"Convert this dataframe to an interactive table.\"\n",
              "              style=\"display:none;\">\n",
              "        \n",
              "  <svg xmlns=\"http://www.w3.org/2000/svg\" height=\"24px\"viewBox=\"0 0 24 24\"\n",
              "       width=\"24px\">\n",
              "    <path d=\"M0 0h24v24H0V0z\" fill=\"none\"/>\n",
              "    <path d=\"M18.56 5.44l.94 2.06.94-2.06 2.06-.94-2.06-.94-.94-2.06-.94 2.06-2.06.94zm-11 1L8.5 8.5l.94-2.06 2.06-.94-2.06-.94L8.5 2.5l-.94 2.06-2.06.94zm10 10l.94 2.06.94-2.06 2.06-.94-2.06-.94-.94-2.06-.94 2.06-2.06.94z\"/><path d=\"M17.41 7.96l-1.37-1.37c-.4-.4-.92-.59-1.43-.59-.52 0-1.04.2-1.43.59L10.3 9.45l-7.72 7.72c-.78.78-.78 2.05 0 2.83L4 21.41c.39.39.9.59 1.41.59.51 0 1.02-.2 1.41-.59l7.78-7.78 2.81-2.81c.8-.78.8-2.07 0-2.86zM5.41 20L4 18.59l7.72-7.72 1.47 1.35L5.41 20z\"/>\n",
              "  </svg>\n",
              "      </button>\n",
              "      \n",
              "  <style>\n",
              "    .colab-df-container {\n",
              "      display:flex;\n",
              "      flex-wrap:wrap;\n",
              "      gap: 12px;\n",
              "    }\n",
              "\n",
              "    .colab-df-convert {\n",
              "      background-color: #E8F0FE;\n",
              "      border: none;\n",
              "      border-radius: 50%;\n",
              "      cursor: pointer;\n",
              "      display: none;\n",
              "      fill: #1967D2;\n",
              "      height: 32px;\n",
              "      padding: 0 0 0 0;\n",
              "      width: 32px;\n",
              "    }\n",
              "\n",
              "    .colab-df-convert:hover {\n",
              "      background-color: #E2EBFA;\n",
              "      box-shadow: 0px 1px 2px rgba(60, 64, 67, 0.3), 0px 1px 3px 1px rgba(60, 64, 67, 0.15);\n",
              "      fill: #174EA6;\n",
              "    }\n",
              "\n",
              "    [theme=dark] .colab-df-convert {\n",
              "      background-color: #3B4455;\n",
              "      fill: #D2E3FC;\n",
              "    }\n",
              "\n",
              "    [theme=dark] .colab-df-convert:hover {\n",
              "      background-color: #434B5C;\n",
              "      box-shadow: 0px 1px 3px 1px rgba(0, 0, 0, 0.15);\n",
              "      filter: drop-shadow(0px 1px 2px rgba(0, 0, 0, 0.3));\n",
              "      fill: #FFFFFF;\n",
              "    }\n",
              "  </style>\n",
              "\n",
              "      <script>\n",
              "        const buttonEl =\n",
              "          document.querySelector('#df-94e6c14c-ec84-4480-bde7-a3e432c45809 button.colab-df-convert');\n",
              "        buttonEl.style.display =\n",
              "          google.colab.kernel.accessAllowed ? 'block' : 'none';\n",
              "\n",
              "        async function convertToInteractive(key) {\n",
              "          const element = document.querySelector('#df-94e6c14c-ec84-4480-bde7-a3e432c45809');\n",
              "          const dataTable =\n",
              "            await google.colab.kernel.invokeFunction('convertToInteractive',\n",
              "                                                     [key], {});\n",
              "          if (!dataTable) return;\n",
              "\n",
              "          const docLinkHtml = 'Like what you see? Visit the ' +\n",
              "            '<a target=\"_blank\" href=https://colab.research.google.com/notebooks/data_table.ipynb>data table notebook</a>'\n",
              "            + ' to learn more about interactive tables.';\n",
              "          element.innerHTML = '';\n",
              "          dataTable['output_type'] = 'display_data';\n",
              "          await google.colab.output.renderOutput(dataTable, element);\n",
              "          const docLink = document.createElement('div');\n",
              "          docLink.innerHTML = docLinkHtml;\n",
              "          element.appendChild(docLink);\n",
              "        }\n",
              "      </script>\n",
              "    </div>\n",
              "  </div>\n",
              "  "
            ]
          },
          "metadata": {},
          "execution_count": 112
        }
      ]
    },
    {
      "cell_type": "code",
      "metadata": {
        "_cell_guid": "b122ac7a-c203-463f-aa92-b843b039fce3",
        "_uuid": "ff62bf6d3681b84510026bfa3514963513f2e8f2",
        "id": "lQtKODLBYCFX"
      },
      "source": [
        "# 8.0 Similarly transform 'name' to integer sequences\n",
        "\n",
        "# 8.1 Takes time:\n",
        "train[\"seq_name\"] = tok_raw.texts_to_sequences(train.name.values)\n",
        "\n",
        "# 8.2 Takes time:\n",
        "test[\"seq_name\"] = tok_raw.texts_to_sequences(test.name.values)\n"
      ],
      "execution_count": 113,
      "outputs": []
    },
    {
      "cell_type": "code",
      "metadata": {
        "id": "k4xwUSGG4plt",
        "colab": {
          "base_uri": "https://localhost:8080/",
          "height": 364
        },
        "outputId": "9d00fc30-1990-40d2-9459-b7fde9c2ff4e"
      },
      "source": [
        "# 8.3 Look at data again:\n",
        "\n",
        "train.head(3)"
      ],
      "execution_count": 114,
      "outputs": [
        {
          "output_type": "execute_result",
          "data": {
            "text/plain": [
              "   train_id                                 name  item_condition_id  \\\n",
              "0         0  MLB Cincinnati Reds T Shirt Size XL                  3   \n",
              "1         1     Razer BlackWidow Chroma Keyboard                  3   \n",
              "2         2                       AVA-VIV Blouse                  1   \n",
              "\n",
              "   category_name  brand_name  price  shipping  \\\n",
              "0            829        5265   10.0         1   \n",
              "1             86        3889   52.0         0   \n",
              "2           1277        4588   10.0         1   \n",
              "\n",
              "                                    item_description  \\\n",
              "0                                 No description yet   \n",
              "1  This keyboard is in great condition and works ...   \n",
              "2  Adorable top with a hint of lace and a key hol...   \n",
              "\n",
              "                                seq_item_description  \\\n",
              "0                                       [12, 68, 79]   \n",
              "1  [29, 2667, 10, 7, 38, 17, 1, 206, 51, 19, 1098...   \n",
              "2  [596, 60, 9, 4, 5354, 11, 192, 1, 4, 900, 1298...   \n",
              "\n",
              "                              seq_name  \n",
              "0  [3878, 8988, 6978, 208, 84, 6, 155]  \n",
              "1          [11404, 27915, 17355, 2667]  \n",
              "2                   [7812, 10862, 666]  "
            ],
            "text/html": [
              "\n",
              "  <div id=\"df-d124b919-5877-4318-911d-02f00034ea77\">\n",
              "    <div class=\"colab-df-container\">\n",
              "      <div>\n",
              "<style scoped>\n",
              "    .dataframe tbody tr th:only-of-type {\n",
              "        vertical-align: middle;\n",
              "    }\n",
              "\n",
              "    .dataframe tbody tr th {\n",
              "        vertical-align: top;\n",
              "    }\n",
              "\n",
              "    .dataframe thead th {\n",
              "        text-align: right;\n",
              "    }\n",
              "</style>\n",
              "<table border=\"1\" class=\"dataframe\">\n",
              "  <thead>\n",
              "    <tr style=\"text-align: right;\">\n",
              "      <th></th>\n",
              "      <th>train_id</th>\n",
              "      <th>name</th>\n",
              "      <th>item_condition_id</th>\n",
              "      <th>category_name</th>\n",
              "      <th>brand_name</th>\n",
              "      <th>price</th>\n",
              "      <th>shipping</th>\n",
              "      <th>item_description</th>\n",
              "      <th>seq_item_description</th>\n",
              "      <th>seq_name</th>\n",
              "    </tr>\n",
              "  </thead>\n",
              "  <tbody>\n",
              "    <tr>\n",
              "      <th>0</th>\n",
              "      <td>0</td>\n",
              "      <td>MLB Cincinnati Reds T Shirt Size XL</td>\n",
              "      <td>3</td>\n",
              "      <td>829</td>\n",
              "      <td>5265</td>\n",
              "      <td>10.0</td>\n",
              "      <td>1</td>\n",
              "      <td>No description yet</td>\n",
              "      <td>[12, 68, 79]</td>\n",
              "      <td>[3878, 8988, 6978, 208, 84, 6, 155]</td>\n",
              "    </tr>\n",
              "    <tr>\n",
              "      <th>1</th>\n",
              "      <td>1</td>\n",
              "      <td>Razer BlackWidow Chroma Keyboard</td>\n",
              "      <td>3</td>\n",
              "      <td>86</td>\n",
              "      <td>3889</td>\n",
              "      <td>52.0</td>\n",
              "      <td>0</td>\n",
              "      <td>This keyboard is in great condition and works ...</td>\n",
              "      <td>[29, 2667, 10, 7, 38, 17, 1, 206, 51, 19, 1098...</td>\n",
              "      <td>[11404, 27915, 17355, 2667]</td>\n",
              "    </tr>\n",
              "    <tr>\n",
              "      <th>2</th>\n",
              "      <td>2</td>\n",
              "      <td>AVA-VIV Blouse</td>\n",
              "      <td>1</td>\n",
              "      <td>1277</td>\n",
              "      <td>4588</td>\n",
              "      <td>10.0</td>\n",
              "      <td>1</td>\n",
              "      <td>Adorable top with a hint of lace and a key hol...</td>\n",
              "      <td>[596, 60, 9, 4, 5354, 11, 192, 1, 4, 900, 1298...</td>\n",
              "      <td>[7812, 10862, 666]</td>\n",
              "    </tr>\n",
              "  </tbody>\n",
              "</table>\n",
              "</div>\n",
              "      <button class=\"colab-df-convert\" onclick=\"convertToInteractive('df-d124b919-5877-4318-911d-02f00034ea77')\"\n",
              "              title=\"Convert this dataframe to an interactive table.\"\n",
              "              style=\"display:none;\">\n",
              "        \n",
              "  <svg xmlns=\"http://www.w3.org/2000/svg\" height=\"24px\"viewBox=\"0 0 24 24\"\n",
              "       width=\"24px\">\n",
              "    <path d=\"M0 0h24v24H0V0z\" fill=\"none\"/>\n",
              "    <path d=\"M18.56 5.44l.94 2.06.94-2.06 2.06-.94-2.06-.94-.94-2.06-.94 2.06-2.06.94zm-11 1L8.5 8.5l.94-2.06 2.06-.94-2.06-.94L8.5 2.5l-.94 2.06-2.06.94zm10 10l.94 2.06.94-2.06 2.06-.94-2.06-.94-.94-2.06-.94 2.06-2.06.94z\"/><path d=\"M17.41 7.96l-1.37-1.37c-.4-.4-.92-.59-1.43-.59-.52 0-1.04.2-1.43.59L10.3 9.45l-7.72 7.72c-.78.78-.78 2.05 0 2.83L4 21.41c.39.39.9.59 1.41.59.51 0 1.02-.2 1.41-.59l7.78-7.78 2.81-2.81c.8-.78.8-2.07 0-2.86zM5.41 20L4 18.59l7.72-7.72 1.47 1.35L5.41 20z\"/>\n",
              "  </svg>\n",
              "      </button>\n",
              "      \n",
              "  <style>\n",
              "    .colab-df-container {\n",
              "      display:flex;\n",
              "      flex-wrap:wrap;\n",
              "      gap: 12px;\n",
              "    }\n",
              "\n",
              "    .colab-df-convert {\n",
              "      background-color: #E8F0FE;\n",
              "      border: none;\n",
              "      border-radius: 50%;\n",
              "      cursor: pointer;\n",
              "      display: none;\n",
              "      fill: #1967D2;\n",
              "      height: 32px;\n",
              "      padding: 0 0 0 0;\n",
              "      width: 32px;\n",
              "    }\n",
              "\n",
              "    .colab-df-convert:hover {\n",
              "      background-color: #E2EBFA;\n",
              "      box-shadow: 0px 1px 2px rgba(60, 64, 67, 0.3), 0px 1px 3px 1px rgba(60, 64, 67, 0.15);\n",
              "      fill: #174EA6;\n",
              "    }\n",
              "\n",
              "    [theme=dark] .colab-df-convert {\n",
              "      background-color: #3B4455;\n",
              "      fill: #D2E3FC;\n",
              "    }\n",
              "\n",
              "    [theme=dark] .colab-df-convert:hover {\n",
              "      background-color: #434B5C;\n",
              "      box-shadow: 0px 1px 3px 1px rgba(0, 0, 0, 0.15);\n",
              "      filter: drop-shadow(0px 1px 2px rgba(0, 0, 0, 0.3));\n",
              "      fill: #FFFFFF;\n",
              "    }\n",
              "  </style>\n",
              "\n",
              "      <script>\n",
              "        const buttonEl =\n",
              "          document.querySelector('#df-d124b919-5877-4318-911d-02f00034ea77 button.colab-df-convert');\n",
              "        buttonEl.style.display =\n",
              "          google.colab.kernel.accessAllowed ? 'block' : 'none';\n",
              "\n",
              "        async function convertToInteractive(key) {\n",
              "          const element = document.querySelector('#df-d124b919-5877-4318-911d-02f00034ea77');\n",
              "          const dataTable =\n",
              "            await google.colab.kernel.invokeFunction('convertToInteractive',\n",
              "                                                     [key], {});\n",
              "          if (!dataTable) return;\n",
              "\n",
              "          const docLinkHtml = 'Like what you see? Visit the ' +\n",
              "            '<a target=\"_blank\" href=https://colab.research.google.com/notebooks/data_table.ipynb>data table notebook</a>'\n",
              "            + ' to learn more about interactive tables.';\n",
              "          element.innerHTML = '';\n",
              "          dataTable['output_type'] = 'display_data';\n",
              "          await google.colab.output.renderOutput(dataTable, element);\n",
              "          const docLink = document.createElement('div');\n",
              "          docLink.innerHTML = docLinkHtml;\n",
              "          element.appendChild(docLink);\n",
              "        }\n",
              "      </script>\n",
              "    </div>\n",
              "  </div>\n",
              "  "
            ]
          },
          "metadata": {},
          "execution_count": 114
        }
      ]
    },
    {
      "cell_type": "markdown",
      "source": [
        "### Max vocabulary sizes of all cat columns"
      ],
      "metadata": {
        "id": "U5wz4_7XUclZ"
      }
    },
    {
      "cell_type": "code",
      "metadata": {
        "id": "bH1QMl7-NQow",
        "colab": {
          "base_uri": "https://localhost:8080/"
        },
        "outputId": "1a85c9c0-4fee-4703-dc77-aca831c1a7da"
      },
      "source": [
        "# 9.4 Column, item_condition, already in integer format\n",
        "MAX_CONDITION_VOC = np.max([\n",
        "                            train.item_condition_id.max(),\n",
        "                            test.item_condition_id.max()\n",
        "                           ]\n",
        "                          ) + 1\n",
        "\n",
        "print(f\"Maximum Vocabulary size in item_condition_id is {MAX_CONDITION_VOC} \")"
      ],
      "execution_count": 115,
      "outputs": [
        {
          "output_type": "stream",
          "name": "stdout",
          "text": [
            "Maximum Vocabulary size in item_condition_id is 6 \n"
          ]
        }
      ]
    },
    {
      "cell_type": "code",
      "source": [
        "# 9.2.1\n",
        "MAX_TEXT_VOC \n",
        "MAX_CATEGORY_VOC  # 1311\n",
        "MAX_BRAND_VOC     # 5290\n",
        "MAX_CONDITION_VOC"
      ],
      "metadata": {
        "colab": {
          "base_uri": "https://localhost:8080/"
        },
        "id": "vME7gHZ7Zgf7",
        "outputId": "5191d989-63f5-458b-82d2-4de543839b87"
      },
      "execution_count": 116,
      "outputs": [
        {
          "output_type": "execute_result",
          "data": {
            "text/plain": [
              "321999"
            ]
          },
          "metadata": {},
          "execution_count": 116
        },
        {
          "output_type": "execute_result",
          "data": {
            "text/plain": [
              "1311"
            ]
          },
          "metadata": {},
          "execution_count": 116
        },
        {
          "output_type": "execute_result",
          "data": {
            "text/plain": [
              "5290"
            ]
          },
          "metadata": {},
          "execution_count": 116
        },
        {
          "output_type": "execute_result",
          "data": {
            "text/plain": [
              "6"
            ]
          },
          "metadata": {},
          "execution_count": 116
        }
      ]
    },
    {
      "cell_type": "markdown",
      "metadata": {
        "id": "IIufJVi4ODLI"
      },
      "source": [
        "#### Histogram to look at distributions\n",
        "Look at distribution of lengths of integer sequences"
      ]
    },
    {
      "cell_type": "code",
      "metadata": {
        "_cell_guid": "3e87bf13-093e-42a3-bef9-ed10322944df",
        "_uuid": "32ffa5a96deaeb6214469a2594475f7b5a15bc92",
        "colab": {
          "base_uri": "https://localhost:8080/",
          "height": 283
        },
        "id": "V4eAYbFYYCFZ",
        "outputId": "e488a8bc-38af-4e6d-fbee-c700b29c0ddd"
      },
      "source": [
        "# 11.3 Get histogram of distribution of seq_name lengths\n",
        "#      Histogram can be used to decide where to cut-off max lengths\n",
        "\n",
        "train.seq_name.apply(lambda x: len(x)).hist()"
      ],
      "execution_count": 117,
      "outputs": [
        {
          "output_type": "execute_result",
          "data": {
            "text/plain": [
              "<matplotlib.axes._subplots.AxesSubplot at 0x7ff7d3681cd0>"
            ]
          },
          "metadata": {},
          "execution_count": 117
        },
        {
          "output_type": "display_data",
          "data": {
            "text/plain": [
              "<Figure size 432x288 with 1 Axes>"
            ],
            "image/png": "[encoded data removed]"
          },
          "metadata": {
            "needs_background": "light"
          }
        }
      ]
    },
    {
      "cell_type": "code",
      "metadata": {
        "_cell_guid": "09349ced-fcac-4406-8876-a00fc269218d",
        "_uuid": "bdfde374cbe6f2edc9c453f91ef90c757c8d8f06",
        "id": "-HuPx7UfYCFa",
        "colab": {
          "base_uri": "https://localhost:8080/",
          "height": 294
        },
        "outputId": "3a0b257d-a153-45d7-f24f-db3163e17488"
      },
      "source": [
        "# 11.4 Get histogram of distribution of seq_item_description \n",
        "#      Histogram can be used to decide where to cut-off max lengths\n",
        "\n",
        "train.seq_item_description.apply(lambda x: len(x)).hist()"
      ],
      "execution_count": 118,
      "outputs": [
        {
          "output_type": "execute_result",
          "data": {
            "text/plain": [
              "<matplotlib.axes._subplots.AxesSubplot at 0x7ff7d3561690>"
            ]
          },
          "metadata": {},
          "execution_count": 118
        },
        {
          "output_type": "display_data",
          "data": {
            "text/plain": [
              "<Figure size 432x288 with 1 Axes>"
            ],
            "image/png": "[encoded data removed]"
          },
          "metadata": {
            "needs_background": "light"
          }
        }
      ]
    },
    {
      "cell_type": "code",
      "metadata": {
        "id": "174hEIxlMpML"
      },
      "source": [
        "# 12 EMBEDDINGS MAX VALUES\n",
        "# 12.1 Based on the histograms, we select the max lengths\n",
        "#      OR timesteps in RNN for two integer sequences, as:\n",
        "#      Implication: Longer integer sequences will be truncated\n",
        "\n",
        "MAX_NAME_SEQ = 10\n",
        "MAX_ITEM_DESC_SEQ = 75"
      ],
      "execution_count": 119,
      "outputs": []
    },
    {
      "cell_type": "markdown",
      "metadata": {
        "id": "yoEc_4bfCSyp"
      },
      "source": [
        "## Numeric fields\n",
        "Scale numeric field and create a random numeric field"
      ]
    },
    {
      "cell_type": "markdown",
      "metadata": {
        "id": "bXbgobYqCmRo"
      },
      "source": [
        "### Scale 'price' field\n",
        ">Take a log of 'price' to make it symmetrical  \n",
        ">Scale the logged values using minmax scaler  \n",
        ">Scaled price field is called 'target'"
      ]
    },
    {
      "cell_type": "code",
      "metadata": {
        "id": "_lSMCzsAbg3i"
      },
      "source": [
        "# 13 Scale target variable, 'price': \n",
        "#     First take log and then scale log\n",
        "\n",
        "# 13.1 First take a log of target. Why?\n",
        "#      Make target values symmetric:\n",
        "\n",
        "train[\"target\"] = np.log( train.price + 1)   # Add 1 to escape from -ve infinity\n"
      ],
      "execution_count": 121,
      "outputs": []
    },
    {
      "cell_type": "code",
      "metadata": {
        "id": "akyAWz9tbmbe"
      },
      "source": [
        "# 13.2 Then scale log values using min-max scaler between -1 and 1\n",
        "#      Why?\n",
        "#      Scaling between (-1,1) is helpful in NN modeling\n",
        "\n",
        "target_scaler = MinMaxScaler(feature_range=(-1, 1))\n",
        "train[\"target\"] = target_scaler.fit_transform(train.target.values.reshape(-1,1))\n"
      ],
      "execution_count": 122,
      "outputs": []
    },
    {
      "cell_type": "code",
      "metadata": {
        "_cell_guid": "cb88f6b3-44ab-4ab4-831a-6a3ebdd0e10d",
        "_uuid": "53474065f08e5d469e4a65bd272c0b316ae26b1e",
        "colab": {
          "base_uri": "https://localhost:8080/",
          "height": 317
        },
        "id": "C0riZbOeYCFb",
        "outputId": "3b6094eb-7aef-455a-814f-b650c9be4f9c"
      },
      "source": [
        "# 13.3 Display histogram of transformed target\n",
        "#      It is quite symmetric\n",
        "\n",
        "pd.DataFrame(train.target).hist()"
      ],
      "execution_count": 123,
      "outputs": [
        {
          "output_type": "execute_result",
          "data": {
            "text/plain": [
              "array([[<matplotlib.axes._subplots.AxesSubplot object at 0x7ff7d3652490>]],\n",
              "      dtype=object)"
            ]
          },
          "metadata": {},
          "execution_count": 123
        },
        {
          "output_type": "display_data",
          "data": {
            "text/plain": [
              "<Figure size 432x288 with 1 Axes>"
            ],
            "image/png": "[encoded data removed]"
          },
          "metadata": {
            "needs_background": "light"
          }
        }
      ]
    },
    {
      "cell_type": "markdown",
      "metadata": {
        "id": "0d9YVqTvB04a"
      },
      "source": [
        "### Create one more num column\n",
        "This column will have random number values. The only numeric feature that we have is `'shipping'`. We will create one more  numerical column with random values for better demonstration of our proposed architecture. Otherwise, this column is NOT at all needed.\n"
      ]
    },
    {
      "cell_type": "code",
      "metadata": {
        "id": "Zy_yUOmxYCFb",
        "colab": {
          "base_uri": "https://localhost:8080/",
          "height": 381
        },
        "outputId": "93005e8e-e1a8-46c9-f59d-f2e88a4d2cd0"
      },
      "source": [
        "# 13.4 Create an arbitrary column. Why?\n",
        "#      We want two numerical columns for better demonstration of our\n",
        "#      proposed architecture. Otherwise, this column is NOT at all needed\n",
        "\n",
        "# 13.5 Add some small random values to shipping column and create a new column\n",
        "\n",
        "train['ship_rand'] = train.shipping + np.random.random(size = train.shipping[0])\n",
        "train.head(3)\n",
        "\n",
        "# 13.6\n",
        "test['ship_rand'] = test.shipping + np.random.random(size = test.shipping[0])\n",
        "#test.head(3)\n",
        "\n",
        "# 13.7\n",
        "train.shape    # (1482535, 12)\n",
        "test.shape     # (693359, 10)   Missing 'price' and its transformed column 'target'\n"
      ],
      "execution_count": 124,
      "outputs": [
        {
          "output_type": "execute_result",
          "data": {
            "text/plain": [
              "   train_id                                 name  item_condition_id  \\\n",
              "0         0  MLB Cincinnati Reds T Shirt Size XL                  3   \n",
              "1         1     Razer BlackWidow Chroma Keyboard                  3   \n",
              "2         2                       AVA-VIV Blouse                  1   \n",
              "\n",
              "   category_name  brand_name  price  shipping  \\\n",
              "0            829        5265   10.0         1   \n",
              "1             86        3889   52.0         0   \n",
              "2           1277        4588   10.0         1   \n",
              "\n",
              "                                    item_description  \\\n",
              "0                                 No description yet   \n",
              "1  This keyboard is in great condition and works ...   \n",
              "2  Adorable top with a hint of lace and a key hol...   \n",
              "\n",
              "                                seq_item_description  \\\n",
              "0                                       [12, 68, 79]   \n",
              "1  [29, 2667, 10, 7, 38, 17, 1, 206, 51, 19, 1098...   \n",
              "2  [596, 60, 9, 4, 5354, 11, 192, 1, 4, 900, 1298...   \n",
              "\n",
              "                              seq_name    target  ship_rand  \n",
              "0  [3878, 8988, 6978, 208, 84, 6, 155] -0.369464   1.613417  \n",
              "1          [11404, 27915, 17355, 2667]  0.044005   0.613417  \n",
              "2                   [7812, 10862, 666] -0.369464   1.613417  "
            ],
            "text/html": [
              "\n",
              "  <div id=\"df-2b8ce4fc-3896-4d46-8972-31f9cc7f4b19\">\n",
              "    <div class=\"colab-df-container\">\n",
              "      <div>\n",
              "<style scoped>\n",
              "    .dataframe tbody tr th:only-of-type {\n",
              "        vertical-align: middle;\n",
              "    }\n",
              "\n",
              "    .dataframe tbody tr th {\n",
              "        vertical-align: top;\n",
              "    }\n",
              "\n",
              "    .dataframe thead th {\n",
              "        text-align: right;\n",
              "    }\n",
              "</style>\n",
              "<table border=\"1\" class=\"dataframe\">\n",
              "  <thead>\n",
              "    <tr style=\"text-align: right;\">\n",
              "      <th></th>\n",
              "      <th>train_id</th>\n",
              "      <th>name</th>\n",
              "      <th>item_condition_id</th>\n",
              "      <th>category_name</th>\n",
              "      <th>brand_name</th>\n",
              "      <th>price</th>\n",
              "      <th>shipping</th>\n",
              "      <th>item_description</th>\n",
              "      <th>seq_item_description</th>\n",
              "      <th>seq_name</th>\n",
              "      <th>target</th>\n",
              "      <th>ship_rand</th>\n",
              "    </tr>\n",
              "  </thead>\n",
              "  <tbody>\n",
              "    <tr>\n",
              "      <th>0</th>\n",
              "      <td>0</td>\n",
              "      <td>MLB Cincinnati Reds T Shirt Size XL</td>\n",
              "      <td>3</td>\n",
              "      <td>829</td>\n",
              "      <td>5265</td>\n",
              "      <td>10.0</td>\n",
              "      <td>1</td>\n",
              "      <td>No description yet</td>\n",
              "      <td>[12, 68, 79]</td>\n",
              "      <td>[3878, 8988, 6978, 208, 84, 6, 155]</td>\n",
              "      <td>-0.369464</td>\n",
              "      <td>1.613417</td>\n",
              "    </tr>\n",
              "    <tr>\n",
              "      <th>1</th>\n",
              "      <td>1</td>\n",
              "      <td>Razer BlackWidow Chroma Keyboard</td>\n",
              "      <td>3</td>\n",
              "      <td>86</td>\n",
              "      <td>3889</td>\n",
              "      <td>52.0</td>\n",
              "      <td>0</td>\n",
              "      <td>This keyboard is in great condition and works ...</td>\n",
              "      <td>[29, 2667, 10, 7, 38, 17, 1, 206, 51, 19, 1098...</td>\n",
              "      <td>[11404, 27915, 17355, 2667]</td>\n",
              "      <td>0.044005</td>\n",
              "      <td>0.613417</td>\n",
              "    </tr>\n",
              "    <tr>\n",
              "      <th>2</th>\n",
              "      <td>2</td>\n",
              "      <td>AVA-VIV Blouse</td>\n",
              "      <td>1</td>\n",
              "      <td>1277</td>\n",
              "      <td>4588</td>\n",
              "      <td>10.0</td>\n",
              "      <td>1</td>\n",
              "      <td>Adorable top with a hint of lace and a key hol...</td>\n",
              "      <td>[596, 60, 9, 4, 5354, 11, 192, 1, 4, 900, 1298...</td>\n",
              "      <td>[7812, 10862, 666]</td>\n",
              "      <td>-0.369464</td>\n",
              "      <td>1.613417</td>\n",
              "    </tr>\n",
              "  </tbody>\n",
              "</table>\n",
              "</div>\n",
              "      <button class=\"colab-df-convert\" onclick=\"convertToInteractive('df-2b8ce4fc-3896-4d46-8972-31f9cc7f4b19')\"\n",
              "              title=\"Convert this dataframe to an interactive table.\"\n",
              "              style=\"display:none;\">\n",
              "        \n",
              "  <svg xmlns=\"http://www.w3.org/2000/svg\" height=\"24px\"viewBox=\"0 0 24 24\"\n",
              "       width=\"24px\">\n",
              "    <path d=\"M0 0h24v24H0V0z\" fill=\"none\"/>\n",
              "    <path d=\"M18.56 5.44l.94 2.06.94-2.06 2.06-.94-2.06-.94-.94-2.06-.94 2.06-2.06.94zm-11 1L8.5 8.5l.94-2.06 2.06-.94-2.06-.94L8.5 2.5l-.94 2.06-2.06.94zm10 10l.94 2.06.94-2.06 2.06-.94-2.06-.94-.94-2.06-.94 2.06-2.06.94z\"/><path d=\"M17.41 7.96l-1.37-1.37c-.4-.4-.92-.59-1.43-.59-.52 0-1.04.2-1.43.59L10.3 9.45l-7.72 7.72c-.78.78-.78 2.05 0 2.83L4 21.41c.39.39.9.59 1.41.59.51 0 1.02-.2 1.41-.59l7.78-7.78 2.81-2.81c.8-.78.8-2.07 0-2.86zM5.41 20L4 18.59l7.72-7.72 1.47 1.35L5.41 20z\"/>\n",
              "  </svg>\n",
              "      </button>\n",
              "      \n",
              "  <style>\n",
              "    .colab-df-container {\n",
              "      display:flex;\n",
              "      flex-wrap:wrap;\n",
              "      gap: 12px;\n",
              "    }\n",
              "\n",
              "    .colab-df-convert {\n",
              "      background-color: #E8F0FE;\n",
              "      border: none;\n",
              "      border-radius: 50%;\n",
              "      cursor: pointer;\n",
              "      display: none;\n",
              "      fill: #1967D2;\n",
              "      height: 32px;\n",
              "      padding: 0 0 0 0;\n",
              "      width: 32px;\n",
              "    }\n",
              "\n",
              "    .colab-df-convert:hover {\n",
              "      background-color: #E2EBFA;\n",
              "      box-shadow: 0px 1px 2px rgba(60, 64, 67, 0.3), 0px 1px 3px 1px rgba(60, 64, 67, 0.15);\n",
              "      fill: #174EA6;\n",
              "    }\n",
              "\n",
              "    [theme=dark] .colab-df-convert {\n",
              "      background-color: #3B4455;\n",
              "      fill: #D2E3FC;\n",
              "    }\n",
              "\n",
              "    [theme=dark] .colab-df-convert:hover {\n",
              "      background-color: #434B5C;\n",
              "      box-shadow: 0px 1px 3px 1px rgba(0, 0, 0, 0.15);\n",
              "      filter: drop-shadow(0px 1px 2px rgba(0, 0, 0, 0.3));\n",
              "      fill: #FFFFFF;\n",
              "    }\n",
              "  </style>\n",
              "\n",
              "      <script>\n",
              "        const buttonEl =\n",
              "          document.querySelector('#df-2b8ce4fc-3896-4d46-8972-31f9cc7f4b19 button.colab-df-convert');\n",
              "        buttonEl.style.display =\n",
              "          google.colab.kernel.accessAllowed ? 'block' : 'none';\n",
              "\n",
              "        async function convertToInteractive(key) {\n",
              "          const element = document.querySelector('#df-2b8ce4fc-3896-4d46-8972-31f9cc7f4b19');\n",
              "          const dataTable =\n",
              "            await google.colab.kernel.invokeFunction('convertToInteractive',\n",
              "                                                     [key], {});\n",
              "          if (!dataTable) return;\n",
              "\n",
              "          const docLinkHtml = 'Like what you see? Visit the ' +\n",
              "            '<a target=\"_blank\" href=https://colab.research.google.com/notebooks/data_table.ipynb>data table notebook</a>'\n",
              "            + ' to learn more about interactive tables.';\n",
              "          element.innerHTML = '';\n",
              "          dataTable['output_type'] = 'display_data';\n",
              "          await google.colab.output.renderOutput(dataTable, element);\n",
              "          const docLink = document.createElement('div');\n",
              "          docLink.innerHTML = docLinkHtml;\n",
              "          element.appendChild(docLink);\n",
              "        }\n",
              "      </script>\n",
              "    </div>\n",
              "  </div>\n",
              "  "
            ]
          },
          "metadata": {},
          "execution_count": 124
        },
        {
          "output_type": "execute_result",
          "data": {
            "text/plain": [
              "(1482535, 12)"
            ]
          },
          "metadata": {},
          "execution_count": 124
        },
        {
          "output_type": "execute_result",
          "data": {
            "text/plain": [
              "(693359, 10)"
            ]
          },
          "metadata": {},
          "execution_count": 124
        }
      ]
    },
    {
      "cell_type": "markdown",
      "metadata": {
        "id": "3nrmjfYNCF3D"
      },
      "source": [
        "## Modeling--initial steps\n",
        ">Split data<br>\n",
        ">Expt with pad_sequences()<br>\n",
        ">Define a function to create a dictionary of data"
      ]
    },
    {
      "cell_type": "markdown",
      "metadata": {
        "id": "HGBPsWn9UfZI"
      },
      "source": [
        "### Split data"
      ]
    },
    {
      "cell_type": "code",
      "metadata": {
        "_cell_guid": "abf9cd11-efa2-4a2c-b844-cdf2fc23bbd8",
        "_uuid": "38f7f125582a88eba6410d93306df119e454db82",
        "id": "HynLIMN3YCFc",
        "colab": {
          "base_uri": "https://localhost:8080/"
        },
        "outputId": "91dd3c63-b06e-4ecc-ce03-8df201ffabc1"
      },
      "source": [
        "# 18. Split into train and test\n",
        "#     Note that we do not have 'y' here. \n",
        "#     Why? Because 'price' is a continuous variable\n",
        "\n",
        "# 18.1 Just 'train' will be split into two parts\n",
        "#      This is permissible in sklearn syntax\n",
        "\n",
        "dtrain, dvalid = train_test_split(train,\n",
        "                                  random_state=123,\n",
        "                                  train_size=0.99    # 99% vs 1%\n",
        "                                 )\n",
        "\n",
        "print(dtrain.shape)     # (1467709, 12)\n",
        "print(dvalid.shape)     # (14826, 12) 1% of above"
      ],
      "execution_count": 125,
      "outputs": [
        {
          "output_type": "stream",
          "name": "stdout",
          "text": [
            "(1467709, 12)\n",
            "(14826, 12)\n"
          ]
        }
      ]
    },
    {
      "cell_type": "markdown",
      "metadata": {
        "id": "TynPUWHJ760a"
      },
      "source": [
        "### Experiment with pad_sequences\n",
        "Our dataset has:<br>\n",
        "> 1. Categorical columns\n",
        ">> Three integer columns: <b>item_condition_id</b>, <b>category_name</b> and <b>brand_name</b><br>\n",
        ">> Two columns (of integer sequences): <b>seq_item_description</b> and <b>seq_name</b><br>\n",
        "\n",
        "> 2. Numeric columns (two): <b>shipping, ship_rand</b><br>\n",
        "> 3. Target column 'target'<br>\n",
        "\n",
        "Thus total number of columns are: 3 +2 + 2+ 1 = 8\n"
      ]
    },
    {
      "cell_type": "code",
      "metadata": {
        "id": "aeZLLi-s61Yd",
        "colab": {
          "base_uri": "https://localhost:8080/",
          "height": 364
        },
        "outputId": "f7ada40e-d4ec-4535-fe45-78e0eef4a4bd"
      },
      "source": [
        "# 18.1.1 Just have a look at the train data:\n",
        "dtrain.head(3)"
      ],
      "execution_count": 126,
      "outputs": [
        {
          "output_type": "execute_result",
          "data": {
            "text/plain": [
              "        train_id                                   name  item_condition_id  \\\n",
              "407853    407853           maroon velvet lisette shorts                  1   \n",
              "748699    748699  Benefit Roller Lash Mascara FULL SIZE                  2   \n",
              "320295    320295                   Holographic Ipsy Bag                  2   \n",
              "\n",
              "        category_name  brand_name  price  shipping  \\\n",
              "407853           1162         737   22.0         1   \n",
              "748699             26         574   14.0         1   \n",
              "320295           1303        5265    7.0         0   \n",
              "\n",
              "                                         item_description  \\\n",
              "407853                     brand new from brandy melville   \n",
              "748699  Benefit Roller Lash Mascara FULL SIZE in the c...   \n",
              "320295                                          Used once   \n",
              "\n",
              "                                     seq_item_description  \\\n",
              "407853                              [16, 5, 43, 537, 586]   \n",
              "748699  [1238, 2566, 1266, 641, 153, 6, 7, 2, 48, 24, ...   \n",
              "320295                                           [31, 96]   \n",
              "\n",
              "                               seq_name    target  ship_rand  \n",
              "407853          [825, 1027, 17236, 129] -0.175509   1.613417  \n",
              "748699  [1238, 2566, 1266, 641, 153, 6] -0.287907   1.613417  \n",
              "320295                [2896, 2224, 101] -0.453202   0.613417  "
            ],
            "text/html": [
              "\n",
              "  <div id=\"df-3f0a6046-74a4-40b1-9d00-87b592c9227a\">\n",
              "    <div class=\"colab-df-container\">\n",
              "      <div>\n",
              "<style scoped>\n",
              "    .dataframe tbody tr th:only-of-type {\n",
              "        vertical-align: middle;\n",
              "    }\n",
              "\n",
              "    .dataframe tbody tr th {\n",
              "        vertical-align: top;\n",
              "    }\n",
              "\n",
              "    .dataframe thead th {\n",
              "        text-align: right;\n",
              "    }\n",
              "</style>\n",
              "<table border=\"1\" class=\"dataframe\">\n",
              "  <thead>\n",
              "    <tr style=\"text-align: right;\">\n",
              "      <th></th>\n",
              "      <th>train_id</th>\n",
              "      <th>name</th>\n",
              "      <th>item_condition_id</th>\n",
              "      <th>category_name</th>\n",
              "      <th>brand_name</th>\n",
              "      <th>price</th>\n",
              "      <th>shipping</th>\n",
              "      <th>item_description</th>\n",
              "      <th>seq_item_description</th>\n",
              "      <th>seq_name</th>\n",
              "      <th>target</th>\n",
              "      <th>ship_rand</th>\n",
              "    </tr>\n",
              "  </thead>\n",
              "  <tbody>\n",
              "    <tr>\n",
              "      <th>407853</th>\n",
              "      <td>407853</td>\n",
              "      <td>maroon velvet lisette shorts</td>\n",
              "      <td>1</td>\n",
              "      <td>1162</td>\n",
              "      <td>737</td>\n",
              "      <td>22.0</td>\n",
              "      <td>1</td>\n",
              "      <td>brand new from brandy melville</td>\n",
              "      <td>[16, 5, 43, 537, 586]</td>\n",
              "      <td>[825, 1027, 17236, 129]</td>\n",
              "      <td>-0.175509</td>\n",
              "      <td>1.613417</td>\n",
              "    </tr>\n",
              "    <tr>\n",
              "      <th>748699</th>\n",
              "      <td>748699</td>\n",
              "      <td>Benefit Roller Lash Mascara FULL SIZE</td>\n",
              "      <td>2</td>\n",
              "      <td>26</td>\n",
              "      <td>574</td>\n",
              "      <td>14.0</td>\n",
              "      <td>1</td>\n",
              "      <td>Benefit Roller Lash Mascara FULL SIZE in the c...</td>\n",
              "      <td>[1238, 2566, 1266, 641, 153, 6, 7, 2, 48, 24, ...</td>\n",
              "      <td>[1238, 2566, 1266, 641, 153, 6]</td>\n",
              "      <td>-0.287907</td>\n",
              "      <td>1.613417</td>\n",
              "    </tr>\n",
              "    <tr>\n",
              "      <th>320295</th>\n",
              "      <td>320295</td>\n",
              "      <td>Holographic Ipsy Bag</td>\n",
              "      <td>2</td>\n",
              "      <td>1303</td>\n",
              "      <td>5265</td>\n",
              "      <td>7.0</td>\n",
              "      <td>0</td>\n",
              "      <td>Used once</td>\n",
              "      <td>[31, 96]</td>\n",
              "      <td>[2896, 2224, 101]</td>\n",
              "      <td>-0.453202</td>\n",
              "      <td>0.613417</td>\n",
              "    </tr>\n",
              "  </tbody>\n",
              "</table>\n",
              "</div>\n",
              "      <button class=\"colab-df-convert\" onclick=\"convertToInteractive('df-3f0a6046-74a4-40b1-9d00-87b592c9227a')\"\n",
              "              title=\"Convert this dataframe to an interactive table.\"\n",
              "              style=\"display:none;\">\n",
              "        \n",
              "  <svg xmlns=\"http://www.w3.org/2000/svg\" height=\"24px\"viewBox=\"0 0 24 24\"\n",
              "       width=\"24px\">\n",
              "    <path d=\"M0 0h24v24H0V0z\" fill=\"none\"/>\n",
              "    <path d=\"M18.56 5.44l.94 2.06.94-2.06 2.06-.94-2.06-.94-.94-2.06-.94 2.06-2.06.94zm-11 1L8.5 8.5l.94-2.06 2.06-.94-2.06-.94L8.5 2.5l-.94 2.06-2.06.94zm10 10l.94 2.06.94-2.06 2.06-.94-2.06-.94-.94-2.06-.94 2.06-2.06.94z\"/><path d=\"M17.41 7.96l-1.37-1.37c-.4-.4-.92-.59-1.43-.59-.52 0-1.04.2-1.43.59L10.3 9.45l-7.72 7.72c-.78.78-.78 2.05 0 2.83L4 21.41c.39.39.9.59 1.41.59.51 0 1.02-.2 1.41-.59l7.78-7.78 2.81-2.81c.8-.78.8-2.07 0-2.86zM5.41 20L4 18.59l7.72-7.72 1.47 1.35L5.41 20z\"/>\n",
              "  </svg>\n",
              "      </button>\n",
              "      \n",
              "  <style>\n",
              "    .colab-df-container {\n",
              "      display:flex;\n",
              "      flex-wrap:wrap;\n",
              "      gap: 12px;\n",
              "    }\n",
              "\n",
              "    .colab-df-convert {\n",
              "      background-color: #E8F0FE;\n",
              "      border: none;\n",
              "      border-radius: 50%;\n",
              "      cursor: pointer;\n",
              "      display: none;\n",
              "      fill: #1967D2;\n",
              "      height: 32px;\n",
              "      padding: 0 0 0 0;\n",
              "      width: 32px;\n",
              "    }\n",
              "\n",
              "    .colab-df-convert:hover {\n",
              "      background-color: #E2EBFA;\n",
              "      box-shadow: 0px 1px 2px rgba(60, 64, 67, 0.3), 0px 1px 3px 1px rgba(60, 64, 67, 0.15);\n",
              "      fill: #174EA6;\n",
              "    }\n",
              "\n",
              "    [theme=dark] .colab-df-convert {\n",
              "      background-color: #3B4455;\n",
              "      fill: #D2E3FC;\n",
              "    }\n",
              "\n",
              "    [theme=dark] .colab-df-convert:hover {\n",
              "      background-color: #434B5C;\n",
              "      box-shadow: 0px 1px 3px 1px rgba(0, 0, 0, 0.15);\n",
              "      filter: drop-shadow(0px 1px 2px rgba(0, 0, 0, 0.3));\n",
              "      fill: #FFFFFF;\n",
              "    }\n",
              "  </style>\n",
              "\n",
              "      <script>\n",
              "        const buttonEl =\n",
              "          document.querySelector('#df-3f0a6046-74a4-40b1-9d00-87b592c9227a button.colab-df-convert');\n",
              "        buttonEl.style.display =\n",
              "          google.colab.kernel.accessAllowed ? 'block' : 'none';\n",
              "\n",
              "        async function convertToInteractive(key) {\n",
              "          const element = document.querySelector('#df-3f0a6046-74a4-40b1-9d00-87b592c9227a');\n",
              "          const dataTable =\n",
              "            await google.colab.kernel.invokeFunction('convertToInteractive',\n",
              "                                                     [key], {});\n",
              "          if (!dataTable) return;\n",
              "\n",
              "          const docLinkHtml = 'Like what you see? Visit the ' +\n",
              "            '<a target=\"_blank\" href=https://colab.research.google.com/notebooks/data_table.ipynb>data table notebook</a>'\n",
              "            + ' to learn more about interactive tables.';\n",
              "          element.innerHTML = '';\n",
              "          dataTable['output_type'] = 'display_data';\n",
              "          await google.colab.output.renderOutput(dataTable, element);\n",
              "          const docLink = document.createElement('div');\n",
              "          docLink.innerHTML = docLinkHtml;\n",
              "          element.appendChild(docLink);\n",
              "        }\n",
              "      </script>\n",
              "    </div>\n",
              "  </div>\n",
              "  "
            ]
          },
          "metadata": {},
          "execution_count": 126
        }
      ]
    },
    {
      "cell_type": "markdown",
      "metadata": {
        "id": "u4tu4KacEkLp"
      },
      "source": [
        "Integer sequence columns `seq_item_description` and `seq_name` must have sequences of equal length. So we pad-sequences in each column. Here is what padding does."
      ]
    },
    {
      "cell_type": "code",
      "metadata": {
        "colab": {
          "base_uri": "https://localhost:8080/"
        },
        "id": "azYW6jY77Nrr",
        "outputId": "24b8b34b-fc50-4509-a560-7b7d75d6f701"
      },
      "source": [
        "# 18.2 Using keras pad_sequences function:\n",
        "#      Example\n",
        "\n",
        "print(f\" Max size of sequence: {MAX_NAME_SEQ}\")\n",
        "print(f\" Shape of dtrain.seq_name: {dtrain.seq_name.shape}\")\n",
        "\n",
        "s = pad_sequences(\n",
        "                   dtrain.seq_name,\n",
        "                   maxlen=MAX_NAME_SEQ\n",
        "                  )"
      ],
      "execution_count": 127,
      "outputs": [
        {
          "output_type": "stream",
          "name": "stdout",
          "text": [
            " Max size of sequence: 10\n",
            " Shape of dtrain.seq_name: (1467709,)\n"
          ]
        }
      ]
    },
    {
      "cell_type": "code",
      "metadata": {
        "id": "cPkJTJN77VMF",
        "colab": {
          "base_uri": "https://localhost:8080/",
          "height": 161
        },
        "outputId": "927eba54-97d0-4976-c7f6-ca2086cf9e14"
      },
      "source": [
        "# 18.3 As 's' will be a numpy array\n",
        "#       to observe it let us transform it\n",
        "#        into pandas dataframe:\n",
        "\n",
        "print(f\"Shape of s: {s.shape}\")\n",
        "\n",
        "# 18.4 Here is dataframe:\n",
        "pd.DataFrame(s).head(3)"
      ],
      "execution_count": 128,
      "outputs": [
        {
          "output_type": "stream",
          "name": "stdout",
          "text": [
            "Shape of s: (1467709, 10)\n"
          ]
        },
        {
          "output_type": "execute_result",
          "data": {
            "text/plain": [
              "   0  1  2  3     4     5     6     7      8    9\n",
              "0  0  0  0  0     0     0   825  1027  17236  129\n",
              "1  0  0  0  0  1238  2566  1266   641    153    6\n",
              "2  0  0  0  0     0     0     0  2896   2224  101"
            ],
            "text/html": [
              "\n",
              "  <div id=\"df-f261f85d-f26e-4c4d-ad4f-0cb99f87dc54\">\n",
              "    <div class=\"colab-df-container\">\n",
              "      <div>\n",
              "<style scoped>\n",
              "    .dataframe tbody tr th:only-of-type {\n",
              "        vertical-align: middle;\n",
              "    }\n",
              "\n",
              "    .dataframe tbody tr th {\n",
              "        vertical-align: top;\n",
              "    }\n",
              "\n",
              "    .dataframe thead th {\n",
              "        text-align: right;\n",
              "    }\n",
              "</style>\n",
              "<table border=\"1\" class=\"dataframe\">\n",
              "  <thead>\n",
              "    <tr style=\"text-align: right;\">\n",
              "      <th></th>\n",
              "      <th>0</th>\n",
              "      <th>1</th>\n",
              "      <th>2</th>\n",
              "      <th>3</th>\n",
              "      <th>4</th>\n",
              "      <th>5</th>\n",
              "      <th>6</th>\n",
              "      <th>7</th>\n",
              "      <th>8</th>\n",
              "      <th>9</th>\n",
              "    </tr>\n",
              "  </thead>\n",
              "  <tbody>\n",
              "    <tr>\n",
              "      <th>0</th>\n",
              "      <td>0</td>\n",
              "      <td>0</td>\n",
              "      <td>0</td>\n",
              "      <td>0</td>\n",
              "      <td>0</td>\n",
              "      <td>0</td>\n",
              "      <td>825</td>\n",
              "      <td>1027</td>\n",
              "      <td>17236</td>\n",
              "      <td>129</td>\n",
              "    </tr>\n",
              "    <tr>\n",
              "      <th>1</th>\n",
              "      <td>0</td>\n",
              "      <td>0</td>\n",
              "      <td>0</td>\n",
              "      <td>0</td>\n",
              "      <td>1238</td>\n",
              "      <td>2566</td>\n",
              "      <td>1266</td>\n",
              "      <td>641</td>\n",
              "      <td>153</td>\n",
              "      <td>6</td>\n",
              "    </tr>\n",
              "    <tr>\n",
              "      <th>2</th>\n",
              "      <td>0</td>\n",
              "      <td>0</td>\n",
              "      <td>0</td>\n",
              "      <td>0</td>\n",
              "      <td>0</td>\n",
              "      <td>0</td>\n",
              "      <td>0</td>\n",
              "      <td>2896</td>\n",
              "      <td>2224</td>\n",
              "      <td>101</td>\n",
              "    </tr>\n",
              "  </tbody>\n",
              "</table>\n",
              "</div>\n",
              "      <button class=\"colab-df-convert\" onclick=\"convertToInteractive('df-f261f85d-f26e-4c4d-ad4f-0cb99f87dc54')\"\n",
              "              title=\"Convert this dataframe to an interactive table.\"\n",
              "              style=\"display:none;\">\n",
              "        \n",
              "  <svg xmlns=\"http://www.w3.org/2000/svg\" height=\"24px\"viewBox=\"0 0 24 24\"\n",
              "       width=\"24px\">\n",
              "    <path d=\"M0 0h24v24H0V0z\" fill=\"none\"/>\n",
              "    <path d=\"M18.56 5.44l.94 2.06.94-2.06 2.06-.94-2.06-.94-.94-2.06-.94 2.06-2.06.94zm-11 1L8.5 8.5l.94-2.06 2.06-.94-2.06-.94L8.5 2.5l-.94 2.06-2.06.94zm10 10l.94 2.06.94-2.06 2.06-.94-2.06-.94-.94-2.06-.94 2.06-2.06.94z\"/><path d=\"M17.41 7.96l-1.37-1.37c-.4-.4-.92-.59-1.43-.59-.52 0-1.04.2-1.43.59L10.3 9.45l-7.72 7.72c-.78.78-.78 2.05 0 2.83L4 21.41c.39.39.9.59 1.41.59.51 0 1.02-.2 1.41-.59l7.78-7.78 2.81-2.81c.8-.78.8-2.07 0-2.86zM5.41 20L4 18.59l7.72-7.72 1.47 1.35L5.41 20z\"/>\n",
              "  </svg>\n",
              "      </button>\n",
              "      \n",
              "  <style>\n",
              "    .colab-df-container {\n",
              "      display:flex;\n",
              "      flex-wrap:wrap;\n",
              "      gap: 12px;\n",
              "    }\n",
              "\n",
              "    .colab-df-convert {\n",
              "      background-color: #E8F0FE;\n",
              "      border: none;\n",
              "      border-radius: 50%;\n",
              "      cursor: pointer;\n",
              "      display: none;\n",
              "      fill: #1967D2;\n",
              "      height: 32px;\n",
              "      padding: 0 0 0 0;\n",
              "      width: 32px;\n",
              "    }\n",
              "\n",
              "    .colab-df-convert:hover {\n",
              "      background-color: #E2EBFA;\n",
              "      box-shadow: 0px 1px 2px rgba(60, 64, 67, 0.3), 0px 1px 3px 1px rgba(60, 64, 67, 0.15);\n",
              "      fill: #174EA6;\n",
              "    }\n",
              "\n",
              "    [theme=dark] .colab-df-convert {\n",
              "      background-color: #3B4455;\n",
              "      fill: #D2E3FC;\n",
              "    }\n",
              "\n",
              "    [theme=dark] .colab-df-convert:hover {\n",
              "      background-color: #434B5C;\n",
              "      box-shadow: 0px 1px 3px 1px rgba(0, 0, 0, 0.15);\n",
              "      filter: drop-shadow(0px 1px 2px rgba(0, 0, 0, 0.3));\n",
              "      fill: #FFFFFF;\n",
              "    }\n",
              "  </style>\n",
              "\n",
              "      <script>\n",
              "        const buttonEl =\n",
              "          document.querySelector('#df-f261f85d-f26e-4c4d-ad4f-0cb99f87dc54 button.colab-df-convert');\n",
              "        buttonEl.style.display =\n",
              "          google.colab.kernel.accessAllowed ? 'block' : 'none';\n",
              "\n",
              "        async function convertToInteractive(key) {\n",
              "          const element = document.querySelector('#df-f261f85d-f26e-4c4d-ad4f-0cb99f87dc54');\n",
              "          const dataTable =\n",
              "            await google.colab.kernel.invokeFunction('convertToInteractive',\n",
              "                                                     [key], {});\n",
              "          if (!dataTable) return;\n",
              "\n",
              "          const docLinkHtml = 'Like what you see? Visit the ' +\n",
              "            '<a target=\"_blank\" href=https://colab.research.google.com/notebooks/data_table.ipynb>data table notebook</a>'\n",
              "            + ' to learn more about interactive tables.';\n",
              "          element.innerHTML = '';\n",
              "          dataTable['output_type'] = 'display_data';\n",
              "          await google.colab.output.renderOutput(dataTable, element);\n",
              "          const docLink = document.createElement('div');\n",
              "          docLink.innerHTML = docLinkHtml;\n",
              "          element.appendChild(docLink);\n",
              "        }\n",
              "      </script>\n",
              "    </div>\n",
              "  </div>\n",
              "  "
            ]
          },
          "metadata": {},
          "execution_count": 128
        }
      ]
    },
    {
      "cell_type": "markdown",
      "metadata": {
        "id": "Dhm7ibir85LB"
      },
      "source": [
        "### Define a function to create a dictionary of data\n",
        "That is we are sort of transforming pandas dataframe to a dictionary as per our conveience\n"
      ]
    },
    {
      "cell_type": "code",
      "metadata": {
        "_cell_guid": "22f34be1-bd4a-4ad1-a931-62873816e8ee",
        "_uuid": "2f876f24ae0e5a82bdf9b0568f796cce5e2fed2c",
        "id": "aCJyYZ3kYCFc"
      },
      "source": [
        "# 19.0 As we want to process, different cols differently,\n",
        "#      for these columns, we need as many datasets. \n",
        "#      WE have SIX columns or column-sets for processing.\n",
        "\n",
        "#      Define a function that creates datasets in \n",
        "#      a dictionary format to help to feed data into keras\n",
        "#      All columns but the last 'num_vars' are categorical\n",
        "#      So all columns but the last begin with Embedding layer\n",
        "\n",
        "def get_keras_data(dataset):\n",
        "    X = {   \n",
        "        'name_in':           pad_sequences(dataset.seq_name, maxlen=MAX_NAME_SEQ),                        # 1\n",
        "        'item_desc_in':      pad_sequences(dataset.seq_item_description, maxlen=MAX_ITEM_DESC_SEQ),       # 2\n",
        "        'brand_name_in':     np.array(dataset.brand_name),                                                # 3\n",
        "        'category_name_in':  dataset.category_name.values,                                                # 4\n",
        "        'item_condition_in': dataset.item_condition_id.values,                                            # 5\n",
        "        'num_vars_in':       np.array(dataset[[\"shipping\", \"ship_rand\"]])    # Two numeric columns here   # 6\n",
        "    }\n",
        "    return X\n"
      ],
      "execution_count": 129,
      "outputs": []
    },
    {
      "cell_type": "code",
      "metadata": {
        "id": "sESxTNlYNy5H"
      },
      "source": [
        "# 19.1 Get these datasets now:\n",
        "\n",
        "X_train = get_keras_data(dtrain)  # type: dict"
      ],
      "execution_count": 130,
      "outputs": []
    },
    {
      "cell_type": "code",
      "metadata": {
        "id": "AuREB8zvVsT_",
        "colab": {
          "base_uri": "https://localhost:8080/"
        },
        "outputId": "9b7a0526-b3fe-44dd-f587-517207b0b9c6"
      },
      "source": [
        "X_train.keys()"
      ],
      "execution_count": 131,
      "outputs": [
        {
          "output_type": "execute_result",
          "data": {
            "text/plain": [
              "dict_keys(['name_in', 'item_desc_in', 'brand_name_in', 'category_name_in', 'item_condition_in', 'num_vars_in'])"
            ]
          },
          "metadata": {},
          "execution_count": 131
        }
      ]
    },
    {
      "cell_type": "code",
      "metadata": {
        "id": "oVLVwA0DhTgH",
        "colab": {
          "base_uri": "https://localhost:8080/"
        },
        "outputId": "3afef8f6-5f1c-4032-fc07-8bd7699ca340"
      },
      "source": [
        "# 19.1.1 Observe X_train:\n",
        "#        Just print two objects\n",
        "#        for each data:\n",
        "\n",
        "for key, value in X_train.items():\n",
        "    print(\"\\n\\n============\")\n",
        "    print(key, ' : ', value[:2])"
      ],
      "execution_count": 132,
      "outputs": [
        {
          "output_type": "stream",
          "name": "stdout",
          "text": [
            "\n",
            "\n",
            "============\n",
            "name_in  :  [[    0     0     0     0     0     0   825  1027 17236   129]\n",
            " [    0     0     0     0  1238  2566  1266   641   153     6]]\n",
            "\n",
            "\n",
            "============\n",
            "item_desc_in  :  [[    0     0     0     0     0     0     0     0     0     0     0     0\n",
            "      0     0     0     0     0     0     0     0     0     0     0     0\n",
            "      0     0     0     0     0     0     0     0     0     0     0     0\n",
            "      0     0     0     0     0     0     0     0     0     0     0     0\n",
            "      0     0     0     0     0     0     0     0     0     0     0     0\n",
            "      0     0     0     0     0     0     0     0     0     0    16     5\n",
            "     43   537   586]\n",
            " [    0     0     0  1238  2566  1266   641   153     6     7     2    48\n",
            "     24    13    20   100    16     5    56    50   113   650   379    40\n",
            "    267     7   160   347    29   641   343     3    21   639     8     2\n",
            "   2021   469     9    13    20   410    26    74   376   349    22    32\n",
            "    228    15    36   697    33 17096     8    77  1523   140   138  1244\n",
            "     18    51   133    63   385    83   177   261    42   550   175     3\n",
            "     35   191  1897]]\n",
            "\n",
            "\n",
            "============\n",
            "brand_name_in  :  [737 574]\n",
            "\n",
            "\n",
            "============\n",
            "category_name_in  :  [1162   26]\n",
            "\n",
            "\n",
            "============\n",
            "item_condition_in  :  [1 2]\n",
            "\n",
            "\n",
            "============\n",
            "num_vars_in  :  [[1.         1.61341738]\n",
            " [1.         1.61341738]]\n"
          ]
        }
      ]
    },
    {
      "cell_type": "code",
      "metadata": {
        "id": "AGU4W9XohXfv"
      },
      "source": [
        "# 19.1.2 Similarly get subsets \n",
        "#        for X_valid and X_test:\n",
        "\n",
        "X_valid = get_keras_data(dvalid)\n",
        "X_test = get_keras_data(test)"
      ],
      "execution_count": 133,
      "outputs": []
    },
    {
      "cell_type": "code",
      "metadata": {
        "id": "1O3dX7aqKr_v",
        "colab": {
          "base_uri": "https://localhost:8080/"
        },
        "outputId": "24123206-5ea0-426a-9ec4-a9100f90a9fc"
      },
      "source": [
        "# 19.2 As each dict item is a numpy array,\n",
        "#      we can check shapes. We need these below:\n",
        "\n",
        "print(X_train[\"name_in\"][:4])\n",
        "print(\"\\n===========\")\n",
        "print(X_train[\"name_in\"].shape)"
      ],
      "execution_count": 134,
      "outputs": [
        {
          "output_type": "stream",
          "name": "stdout",
          "text": [
            "[[    0     0     0     0     0     0   825  1027 17236   129]\n",
            " [    0     0     0     0  1238  2566  1266   641   153     6]\n",
            " [    0     0     0     0     0     0     0  2896  2224   101]\n",
            " [    0     0   444   433 12285    95    95  3956   244 11547]]\n",
            "\n",
            "===========\n",
            "(1467709, 10)\n"
          ]
        }
      ]
    },
    {
      "cell_type": "code",
      "metadata": {
        "id": "kxcaECFLLqlf",
        "colab": {
          "base_uri": "https://localhost:8080/"
        },
        "outputId": "b45011ea-664f-47ff-aafe-d6e29096cf0e"
      },
      "source": [
        "# 19.3 Check more shapes.\n",
        "\n",
        "print(X_train[\"item_desc_in\"][:4])\n",
        "print(\"\\n\\n===========\")\n",
        "print(X_train[\"item_desc_in\"].shape)"
      ],
      "execution_count": 135,
      "outputs": [
        {
          "output_type": "stream",
          "name": "stdout",
          "text": [
            "[[    0     0     0     0     0     0     0     0     0     0     0     0\n",
            "      0     0     0     0     0     0     0     0     0     0     0     0\n",
            "      0     0     0     0     0     0     0     0     0     0     0     0\n",
            "      0     0     0     0     0     0     0     0     0     0     0     0\n",
            "      0     0     0     0     0     0     0     0     0     0     0     0\n",
            "      0     0     0     0     0     0     0     0     0     0    16     5\n",
            "     43   537   586]\n",
            " [    0     0     0  1238  2566  1266   641   153     6     7     2    48\n",
            "     24    13    20   100    16     5    56    50   113   650   379    40\n",
            "    267     7   160   347    29   641   343     3    21   639     8     2\n",
            "   2021   469     9    13    20   410    26    74   376   349    22    32\n",
            "    228    15    36   697    33 17096     8    77  1523   140   138  1244\n",
            "     18    51   133    63   385    83   177   261    42   550   175     3\n",
            "     35   191  1897]\n",
            " [    0     0     0     0     0     0     0     0     0     0     0     0\n",
            "      0     0     0     0     0     0     0     0     0     0     0     0\n",
            "      0     0     0     0     0     0     0     0     0     0     0     0\n",
            "      0     0     0     0     0     0     0     0     0     0     0     0\n",
            "      0     0     0     0     0     0     0     0     0     0     0     0\n",
            "      0     0     0     0     0     0     0     0     0     0     0     0\n",
            "      0    31    96]\n",
            " [    0     0     0     0     0     0     0     0     0     0     0     0\n",
            "      0     0     0     0     0     0     0     0     0     0     0     0\n",
            "      0     0     0     0     0     0     0     0     0     0     0     0\n",
            "      0     0     0     0     0     0     0     0     0     0     0     0\n",
            "      0     0     0     0     0     0     0     0     0     0     0     0\n",
            "      0     0     0     0     0     0     0     0     0     0     0     0\n",
            "     12    68    79]]\n",
            "\n",
            "\n",
            "===========\n",
            "(1467709, 75)\n"
          ]
        }
      ]
    },
    {
      "cell_type": "code",
      "metadata": {
        "id": "PIiXujlxYCFc",
        "colab": {
          "base_uri": "https://localhost:8080/"
        },
        "outputId": "eb1a79b1-7768-48a0-99c8-b7713d272baa"
      },
      "source": [
        "# 19.4 Check more shapes. \n",
        "\n",
        "X_train[\"num_vars_in\"][:4]\n",
        "print(\"\\n ----\")\n",
        "X_train[\"num_vars_in\"].shape[1]       # 2"
      ],
      "execution_count": 136,
      "outputs": [
        {
          "output_type": "execute_result",
          "data": {
            "text/plain": [
              "array([[1.        , 1.61341738],\n",
              "       [1.        , 1.61341738],\n",
              "       [0.        , 0.61341738],\n",
              "       [1.        , 1.61341738]])"
            ]
          },
          "metadata": {},
          "execution_count": 136
        },
        {
          "output_type": "stream",
          "name": "stdout",
          "text": [
            "\n",
            " ----\n"
          ]
        },
        {
          "output_type": "execute_result",
          "data": {
            "text/plain": [
              "2"
            ]
          },
          "metadata": {},
          "execution_count": 136
        }
      ]
    },
    {
      "cell_type": "markdown",
      "metadata": {
        "id": "raoMGH5sYCFc"
      },
      "source": [
        "## About embedding of categorical values in vector-space\n",
        "Small write up\n"
      ]
    },
    {
      "cell_type": "markdown",
      "metadata": {
        "id": "nmt8G5NIHvi4"
      },
      "source": [
        "### A\n",
        "Consider following sentences:<br><p>\n",
        "1. mango is sweet<br>\n",
        "2. apple is sweet<br>\n",
        "3. mouse moves pointer<br>\n",
        "4. iphone mobile is used for communication<br>\n",
        "\n",
        "In a dataset there are multiple text/nominal columns. The nominal values in any column are related with one another. Consider the following table with three categorical columns. For example, mango, apple, grapes and banana in column 'x1' are related to one another through the target, 'x3'. Similarly, items disk, laptop, mouse and mobile in column 'x2' are related to one another through 'x3'.  \n",
        "\n",
        "We, therefore, need two distinct embedding layers in this dataset.   \n",
        "\n",
        "An embedding layer will converts word to vector-spaces to discover relationship among words. Or, one can say that conversion of a word to vectors, facilitates finding association between context words. See picture below.\n",
        "\n",
        "\n",
        "| x1   |   x2    |   x3    |\n",
        "|------|---------|---------|  \n",
        "|mango |  disk   |  23  |\n",
        "|apple |  laptop   |  36  |\n",
        "|grapes | mouse |  80  |\n",
        "|banana| mobile  |25|\n",
        "\n",
        "Conversion of categorical values to word-vectors also helps discover better association between mango and 23 OR apple and 64 than by simply label encoding them and applying machine learning algo to discover patterns."
      ]
    },
    {
      "cell_type": "markdown",
      "metadata": {
        "id": "Briro79A3pSJ"
      },
      "source": [
        "![image.png](data:image/png;base64,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)"
      ]
    },
    {
      "cell_type": "markdown",
      "metadata": {
        "id": "lRD1l8hfHokg"
      },
      "source": [
        "## Model"
      ]
    },
    {
      "cell_type": "markdown",
      "metadata": {
        "id": "PsWqFNBgJU-q"
      },
      "source": [
        "### Callback functions\n",
        "Ignore these in first reading"
      ]
    },
    {
      "cell_type": "markdown",
      "metadata": {
        "id": "8Ohw6-G4epjb"
      },
      "source": [
        "#### Why Early stopping works?\n",
        "Explore modeling surfaces [here](https://losslandscape.com/explorer). Study optimization techniques [here](https://www.kdnuggets.com/2020/12/optimization-algorithms-neural-networks.html)"
      ]
    },
    {
      "cell_type": "markdown",
      "metadata": {
        "id": "R0qMRr5Ieiw8"
      },
      "source": [
        "![image.png](data:image/png;base64,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)"
      ]
    },
    {
      "cell_type": "code",
      "metadata": {
        "id": "Tpu4rnWQfAYk"
      },
      "source": [
        "# 20.0 Define callback function for earlystopping and storing weights\n",
        "#      May forget this in the first reading:\n",
        "\n",
        "# 20.0.1 Place where checkpoint data will be stored\n",
        "checkptfilepath = \"/content/model\"\n",
        "\n",
        "# 20.0.2 Delete if it exists\n",
        "\n",
        "! rm -r -f /content/model\n",
        "\n"
      ],
      "execution_count": 137,
      "outputs": []
    },
    {
      "cell_type": "code",
      "metadata": {
        "id": "10Y0m02C2Ebx"
      },
      "source": [
        "# 20.0.3 Define callbacks now:\n",
        "\n",
        "callbacks = [\n",
        "    EarlyStopping(\n",
        "        # Stop training when `val_loss` is no longer improving\n",
        "        monitor=\"val_loss\",\n",
        "        # \"no longer improving\" being defined as \"no better than 1e-2 less\"\n",
        "        min_delta=1e-2,\n",
        "        # \"no longer improving\" being further defined as \"for at least 2 epochs\"\n",
        "        patience=2,\n",
        "        verbose=1,\n",
        "    ),\n",
        "\n",
        "    ModelCheckpoint( filepath=checkptfilepath, save_best_only=True)\n",
        "]\n"
      ],
      "execution_count": 138,
      "outputs": []
    },
    {
      "cell_type": "code",
      "metadata": {
        "id": "JN-rhMm6L6Cg"
      },
      "source": [
        "# 20.1 Forget it in first reading. Another loss function\n",
        "#      Any functions used in the model must use tensors\n",
        "#      and not numpy arrays. Of course, dataset can be numpy:\n",
        "\n",
        "def rmsle_cust(y_true, y_pred):\n",
        "    first_log = K.log(\n",
        "                       K.clip(y_pred,\n",
        "                              K.epsilon(),\n",
        "                              None\n",
        "                              ) + 1.\n",
        "                      )\n",
        "    \n",
        "    second_log = K.log(\n",
        "                        K.clip(y_true,\n",
        "                               K.epsilon(),    # Min value\n",
        "                               None            # max value  \n",
        "                               ) + 1.\n",
        "                       )\n",
        "    out = K.sqrt(\n",
        "                  K.mean(\n",
        "                          K.square(\n",
        "                                    first_log - second_log\n",
        "                                   ),\n",
        "                          axis=-1)    # -1 means the last axis\n",
        "                  )\n",
        "\n",
        "    return out"
      ],
      "execution_count": 139,
      "outputs": []
    },
    {
      "cell_type": "markdown",
      "metadata": {
        "id": "2biLoJfKJeLS"
      },
      "source": [
        "### Constants"
      ]
    },
    {
      "cell_type": "code",
      "metadata": {
        "id": "ibxgGMju9lFW"
      },
      "source": [
        "# 21 Define sizes of categorical values AND word to vectors\n",
        "#      Sizes?\n",
        "\n",
        "word2vec_size = 50   # For text columns\n",
        "cat2vec_size = 10    # For brand_name and category_name \n",
        "cond2vec_size = 5    # For item_condition col"
      ],
      "execution_count": 140,
      "outputs": []
    },
    {
      "cell_type": "markdown",
      "metadata": {
        "id": "u5LDEPbPJgZR"
      },
      "source": [
        "### Input tensors\n",
        "Recall that purpose of Input layer is to output a tensor of appropriate shape for the subsequent layers. Thus `Input()` requires input data-shape and a name (if there are more than one Input)."
      ]
    },
    {
      "cell_type": "markdown",
      "metadata": {
        "id": "r1uMsB9bFkdT"
      },
      "source": [
        "About Input shapes:<br>\n",
        "**Input layer: Dense**<br>\n",
        "Input will be one row at a time. So shape is number of features<br>\n",
        "**Input layer: Conv2D:**<br>\n",
        "Input will be Image at a time. So Shape is size of image: width * height * depth. depth is also called 'channels'. <br>\n",
        "**Input layer: Conv1D:**<br>\n",
        "Input will be one row at a time. So shape will be: No of features * depth<br>\n",
        "**Input layer: Embedding layer**<br>\n",
        "Inputs will be: a) Length of each sequence and, b) Size of vector to which each integer in the sequence is to be transformed to ie word2vec size.<br>  "
      ]
    },
    {
      "cell_type": "markdown",
      "metadata": {
        "id": "Vawp80LQCmPg"
      },
      "source": [
        "### Embedding layers and RNN\n",
        "Diagrammetic Explanations "
      ]
    },
    {
      "cell_type": "markdown",
      "metadata": {
        "id": "rc54GaBaBXUr"
      },
      "source": [
        "Let us see visually an overall picture of how modeling takes place. "
      ]
    },
    {
      "cell_type": "markdown",
      "metadata": {
        "id": "9Okao1wBhg25"
      },
      "source": [
        "#### For 'brand' and 'category'"
      ]
    },
    {
      "cell_type": "markdown",
      "metadata": {
        "id": "jb0nOXGMhLry"
      },
      "source": [
        "![image.png](data:image/png;base64,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)"
      ]
    },
    {
      "cell_type": "markdown",
      "metadata": {
        "id": "c6er4ysjhlqy"
      },
      "source": [
        "#### For 'name' and 'item-description'"
      ]
    },
    {
      "cell_type": "markdown",
      "metadata": {
        "id": "sce1r6EDBUfH"
      },
      "source": [
        "![image.png](data:image/png;base64,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)"
      ]
    },
    {
      "cell_type": "markdown",
      "metadata": {
        "id": "A8OnJKoMJjP6"
      },
      "source": [
        "#### More detailed for name and item-description\n",
        "In each *Embedding layer* specify the <u>vocabulary size</u> and <u>word2vec</u> size. In the following diagram, we assume that our maximum comment/phrase size is 2 ('go home').  And, we are also transforming each word (eg, 'GO') to a vector of size two (0.35, 0.90).  \n",
        "Phrase size will decide the number of RNNs or LSTMs or GRUs we will have."
      ]
    },
    {
      "cell_type": "markdown",
      "metadata": {
        "id": "QQfWm-dtN_kM"
      },
      "source": [
        "![image.png](data:image/png;base64,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)"
      ]
    },
    {
      "cell_type": "markdown",
      "metadata": {
        "id": "qB8ccGx7GZ0g"
      },
      "source": [
        "#### LSTM/GRU"
      ]
    },
    {
      "cell_type": "markdown",
      "metadata": {
        "id": "sIipKSX1E4Cv"
      },
      "source": [
        "While an LSTM or GRU have two outputs, the number of bits or 'units' for both *ct* (ie *state*) and *ht* (ie *output*) are same. Thus, in the syntax for LSTM or GRU only units parameter has to be specified. See [here](https://www.tensorflow.org/api_docs/python/tf/keras/layers/LSTM) syntax of lstm and [here](https://www.tensorflow.org/api_docs/python/tf/keras/layers/GRU) syntax of GRU."
      ]
    },
    {
      "cell_type": "markdown",
      "metadata": {
        "id": "Ra7FAVyQE1OH"
      },
      "source": [
        "![image.png](data:image/png;base64,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)"
      ]
    },
    {
      "cell_type": "markdown",
      "metadata": {
        "id": "1uKIx89uF673"
      },
      "source": [
        "### Input layers definititon"
      ]
    },
    {
      "cell_type": "markdown",
      "metadata": {
        "id": "EUSK3-8hiStx"
      },
      "source": [
        "What all numbers do we need, at the minimum?  \n",
        "Before we proceed further, there should be clarity about these. At the minimum three numbers have to be specified. Seq length, word2vec size and number of output units of RNN/LSTM/GRU."
      ]
    },
    {
      "cell_type": "code",
      "metadata": {
        "id": "DSr_PlADCYhq"
      },
      "source": [
        "# 21.1 SIX Inputs. At each input specify number of input-features:\n",
        "\n",
        "name =            Input(shape=[X_train[\"name_in\"].shape[1]],      name=\"name_in\")           # Length of each sequence\n",
        "item_desc =       Input(shape=[X_train[\"item_desc_in\"].shape[1]], name=\"item_desc_in\")      # Length of each sequence\n",
        "brand_name =      Input(shape=[1],                             name=\"brand_name_in\")     # Just 1 feature. Hence shape=[1]\n",
        "category_name =   Input(shape=[1],                             name=\"category_name_in\")  # Just 1 feature. Hence shape=[1]\n",
        "item_condition =  Input(shape=[1],                             name=\"item_condition_in\") # Just 1 feature. Hence shape = [1]\n",
        "num_vars =        Input(shape=[X_train[\"num_vars_in\"].shape[1]],  name=\"num_vars_in\")\n"
      ],
      "execution_count": 141,
      "outputs": []
    },
    {
      "cell_type": "code",
      "metadata": {
        "id": "Zyih6YFNGUD3"
      },
      "source": [
        "# 21.2 FIVE Embeddings layers.  Embedding vectors of first FIVE of the above\n",
        "\n",
        "# 21.3   Output of following two also go in RNN.\n",
        "#        RNN output needs no flattening as this output is received\n",
        "#        AFTER all timesteps have been fed into RNN:\n",
        "\n",
        "emb_name =           Embedding(MAX_TEXT_VOC,      word2vec_size  )(name)               \n",
        "emb_item_desc =      Embedding(MAX_TEXT_VOC,      word2vec_size  )(item_desc)\n",
        "\n",
        "# 21.3.1 Output of following three go directly into Dense layer after flattening\n",
        "#        These need to be flattened as for every timestep there is a vector\n",
        "emb_brand_name =     Embedding(MAX_BRAND_VOC,     cat2vec_size  )(brand_name)\n",
        "emb_category_name =  Embedding(MAX_CATEGORY_VOC,  cat2vec_size  )(category_name)\n",
        "emb_item_condition = Embedding(MAX_CONDITION_VOC, cond2vec_size )(item_condition)"
      ],
      "execution_count": 142,
      "outputs": []
    },
    {
      "cell_type": "markdown",
      "metadata": {
        "id": "R2bJbrkUJl_i"
      },
      "source": [
        "### RNN layers\n",
        "The above diagram also explains output of RNN (read GRU)."
      ]
    },
    {
      "cell_type": "code",
      "metadata": {
        "id": "Wal8SQ9kGkNS"
      },
      "source": [
        "# 22 TWO RNN layers. Both these are independent of each other:\n",
        "\n",
        "rnn_layer2 = GRU(8) (emb_name)          # Output of GRU is a vector of size 8\n",
        "rnn_layer1 = GRU(16) (emb_item_desc)    # Output of GRU is a vector of size 16"
      ],
      "execution_count": 143,
      "outputs": []
    },
    {
      "cell_type": "markdown",
      "metadata": {
        "id": "o85efVqCSSCa"
      },
      "source": [
        "### Conv1D layers\n"
      ]
    },
    {
      "cell_type": "markdown",
      "metadata": {
        "id": "ITcx-aNiTFY3"
      },
      "source": [
        "We could have fed each or one of the *Embedding layer* outputs to Conv1D. But we will not do so. Left as an exercise for students. Below commented code gives an hint. You will be able to do this only if the incoming layer is large enough so that convolution operation does not reduce it to negative numbers."
      ]
    },
    {
      "cell_type": "code",
      "metadata": {
        "id": "9HXX1IwQ1RLW"
      },
      "source": [
        "# rnn_layer1 = Reshape([rnn_layer1.shape[1],1])(rnn_layer1)\n",
        "# rnn_layer1 = Conv1D( filters = 32,kernel_size = 3,activation = 'relu')(rnn_layer1)"
      ],
      "execution_count": null,
      "outputs": []
    },
    {
      "cell_type": "markdown",
      "metadata": {
        "id": "7-EaA1G6Jo4b"
      },
      "source": [
        "### Concatenation"
      ]
    },
    {
      "cell_type": "code",
      "metadata": {
        "id": "7eryaZXuToqC",
        "colab": {
          "base_uri": "https://localhost:8080/"
        },
        "outputId": "615ef204-1ced-4342-b5fa-e56cabea6e46"
      },
      "source": [
        "# 23. Before we concatenate, let us see shape of \n",
        "#     each output tensor:\n",
        "\n",
        "print(f\"emb_brand_name: {emb_brand_name.shape}\")            # (None, 1, 10)\n",
        "print(f\"emb_category_name: {emb_category_name.shape}\")      # (None, 1, 10)\n",
        "print(f\"emb_item_condition: {emb_item_condition.shape}\")    # (None, 1, 5)\n",
        "print(f\"rnn_layer1: {rnn_layer1.shape}\")                    # (None, 16)\n",
        "print(f\"rnn_layer1: {rnn_layer2.shape}\")                    # (None, 8)\n"
      ],
      "execution_count": 144,
      "outputs": [
        {
          "output_type": "stream",
          "name": "stdout",
          "text": [
            "emb_brand_name: (None, 1, 10)\n",
            "emb_category_name: (None, 1, 10)\n",
            "emb_item_condition: (None, 1, 5)\n",
            "rnn_layer1: (None, 16)\n",
            "rnn_layer1: (None, 8)\n"
          ]
        }
      ]
    },
    {
      "cell_type": "code",
      "metadata": {
        "id": "jO5h3ie4F9nS"
      },
      "source": [
        "# 23.1 Concatenate all layer-branches:\n",
        "\n",
        "main_l = concatenate(\n",
        "                        [\n",
        "                          Flatten() (emb_brand_name),\n",
        "                          Flatten() (emb_category_name),\n",
        "                          Flatten() (emb_item_condition),\n",
        "                          rnn_layer1,       # Flatten()(rnn_layer1),\n",
        "                          rnn_layer2,\n",
        "                          num_vars          # Feed numerical variables as they are\n",
        "                        ]\n",
        "                      )"
      ],
      "execution_count": 145,
      "outputs": []
    },
    {
      "cell_type": "markdown",
      "metadata": {
        "id": "kfg2pG9IJre6"
      },
      "source": [
        "### Classification layer"
      ]
    },
    {
      "cell_type": "code",
      "metadata": {
        "id": "mhLTjlS9Goq4"
      },
      "source": [
        "# 24.0 Level of dropouts: 10%\n",
        "dr_r = 0.1   \n",
        "\n",
        "# 24.1 Add classification layer\n",
        "main_l = Dense(128) (main_l)\n",
        "main_l = Dropout(dr_r)(main_l)\n",
        "main_l = Dense(64) (main_l)\n",
        "main_l = Dropout(dr_r) (main_l)"
      ],
      "execution_count": 146,
      "outputs": []
    },
    {
      "cell_type": "markdown",
      "metadata": {
        "id": "6uf4Gl3SJu4M"
      },
      "source": [
        "### Output node"
      ]
    },
    {
      "cell_type": "code",
      "metadata": {
        "id": "glzenbsHHRLg"
      },
      "source": [
        "# 24.2 Output neuron\n",
        "output = Dense(1, activation=\"linear\") (main_l)"
      ],
      "execution_count": 147,
      "outputs": []
    },
    {
      "cell_type": "markdown",
      "metadata": {
        "id": "t2sDNdBbxqMb"
      },
      "source": [
        "## Model as a function"
      ]
    },
    {
      "cell_type": "code",
      "metadata": {
        "id": "JNCA6n3dleuj"
      },
      "source": [
        "# 24.3 Put all the above under one function:\n",
        "\n",
        "def create_model():\n",
        "    # SIX Inputs\n",
        "    name =            Input(shape=[X_train[\"name_in\"].shape[1]],      name=\"name_in\")           # Length of each sequence\n",
        "    item_desc =       Input(shape=[X_train[\"item_desc_in\"].shape[1]], name=\"item_desc_in\")      # Length of each sequence\n",
        "    brand_name =      Input(shape=[1],                             name=\"brand_name_in\")     # Just 1 feature. Hence shape=[1]\n",
        "    category_name =   Input(shape=[1],                             name=\"category_name_in\")  # Just 1 feature. Hence shape=[1]\n",
        "    item_condition =  Input(shape=[1],                             name=\"item_condition_in\") # Just 1 feature. Hence shape = [1]\n",
        "    num_vars =        Input(shape=[X_train[\"num_vars_in\"].shape[1]],  name=\"num_vars_in\")\n",
        "    # Embedding layer\n",
        "    emb_name =           Embedding(MAX_TEXT_VOC,      word2vec_size  )(name)               \n",
        "    emb_item_desc =      Embedding(MAX_TEXT_VOC,      word2vec_size  )(item_desc)\n",
        "    emb_brand_name =     Embedding(MAX_BRAND_VOC,     cat2vec_size  )(brand_name)\n",
        "    emb_category_name =  Embedding(MAX_CATEGORY_VOC,  cat2vec_size  )(category_name)\n",
        "    emb_item_condition = Embedding(MAX_CONDITION_VOC, cond2vec_size )(item_condition)\n",
        "\n",
        "    # TWO RNN layers. \n",
        "    rnn_layer2 = GRU(8) (emb_name)          \n",
        "    rnn_layer1 = GRU(16) (emb_item_desc)    \n",
        "\n",
        "    # Concatenate\n",
        "    main_l = concatenate(\n",
        "                        [\n",
        "                          Flatten() (emb_brand_name),\n",
        "                          Flatten() (emb_category_name),\n",
        "                          Flatten() (emb_item_condition),\n",
        "                          rnn_layer1,       # Flatten()(rnn_layer1),\n",
        "                          rnn_layer2,\n",
        "                          num_vars          # Feed numerical variables as they are\n",
        "                        ]\n",
        "                      )\n",
        "    \n",
        "    # Classification \n",
        "    dr_r = 0.1   \n",
        "    main_l = Dense(128) (main_l)\n",
        "    main_l = Dropout(dr_r)(main_l)\n",
        "    main_l = Dense(64) (main_l)\n",
        "    main_l = Dropout(dr_r) (main_l)\n",
        "    output = Dense(1, activation=\"linear\") (main_l)\n",
        "\n",
        "    # 25 Formulate Model now\n",
        "    model = Model(\n",
        "              inputs= [                     \n",
        "                        name,\n",
        "                        item_desc,\n",
        "                        brand_name,\n",
        "                        category_name,\n",
        "                        item_condition,\n",
        "                        num_vars\n",
        "                       ],\n",
        "              outputs= output\n",
        "              )\n",
        "\n",
        "    return model\n",
        "    \n",
        "\n"
      ],
      "execution_count": 148,
      "outputs": []
    },
    {
      "cell_type": "markdown",
      "metadata": {
        "id": "tXpVOFtIJx3z"
      },
      "source": [
        "### Define model and compile"
      ]
    },
    {
      "cell_type": "code",
      "metadata": {
        "id": "6NcCe5pxnkA0"
      },
      "source": [
        "# 25 Formulate Model now\n",
        "model = create_model()"
      ],
      "execution_count": 149,
      "outputs": []
    },
    {
      "cell_type": "code",
      "metadata": {
        "id": "SKNAHwCDabNm"
      },
      "source": [
        "# 25.1\n",
        "model.compile(loss=\"mse\",\n",
        "              optimizer=\"adam\",\n",
        "              metrics=[\"mae\"]    # Not using rmsle_cust\n",
        "              )"
      ],
      "execution_count": 150,
      "outputs": []
    },
    {
      "cell_type": "markdown",
      "metadata": {
        "id": "W8xeLzJvJ9hM"
      },
      "source": [
        "### Model summary and plot"
      ]
    },
    {
      "cell_type": "code",
      "metadata": {
        "id": "-p2gX4MhKCeM",
        "colab": {
          "base_uri": "https://localhost:8080/"
        },
        "outputId": "d35568a0-229a-41ba-91d9-5c1f5dbfb7f8"
      },
      "source": [
        "# 26 Formulate model and show summary    \n",
        "model.summary()"
      ],
      "execution_count": 151,
      "outputs": [
        {
          "output_type": "stream",
          "name": "stdout",
          "text": [
            "Model: \"model\"\n",
            "__________________________________________________________________________________________________\n",
            " Layer (type)                   Output Shape         Param #     Connected to                     \n",
            "==================================================================================================\n",
            " brand_name_in (InputLayer)     [(None, 1)]          0           []                               \n",
            "                                                                                                  \n",
            " category_name_in (InputLayer)  [(None, 1)]          0           []                               \n",
            "                                                                                                  \n",
            " item_condition_in (InputLayer)  [(None, 1)]         0           []                               \n",
            "                                                                                                  \n",
            " item_desc_in (InputLayer)      [(None, 75)]         0           []                               \n",
            "                                                                                                  \n",
            " name_in (InputLayer)           [(None, 10)]         0           []                               \n",
            "                                                                                                  \n",
            " embedding_7 (Embedding)        (None, 1, 10)        52900       ['brand_name_in[0][0]']          \n",
            "                                                                                                  \n",
            " embedding_8 (Embedding)        (None, 1, 10)        13110       ['category_name_in[0][0]']       \n",
            "                                                                                                  \n",
            " embedding_9 (Embedding)        (None, 1, 5)         30          ['item_condition_in[0][0]']      \n",
            "                                                                                                  \n",
            " embedding_6 (Embedding)        (None, 75, 50)       16099950    ['item_desc_in[0][0]']           \n",
            "                                                                                                  \n",
            " embedding_5 (Embedding)        (None, 10, 50)       16099950    ['name_in[0][0]']                \n",
            "                                                                                                  \n",
            " flatten_3 (Flatten)            (None, 10)           0           ['embedding_7[0][0]']            \n",
            "                                                                                                  \n",
            " flatten_4 (Flatten)            (None, 10)           0           ['embedding_8[0][0]']            \n",
            "                                                                                                  \n",
            " flatten_5 (Flatten)            (None, 5)            0           ['embedding_9[0][0]']            \n",
            "                                                                                                  \n",
            " gru_3 (GRU)                    (None, 16)           3264        ['embedding_6[0][0]']            \n",
            "                                                                                                  \n",
            " gru_2 (GRU)                    (None, 8)            1440        ['embedding_5[0][0]']            \n",
            "                                                                                                  \n",
            " num_vars_in (InputLayer)       [(None, 2)]          0           []                               \n",
            "                                                                                                  \n",
            " concatenate_1 (Concatenate)    (None, 51)           0           ['flatten_3[0][0]',              \n",
            "                                                                  'flatten_4[0][0]',              \n",
            "                                                                  'flatten_5[0][0]',              \n",
            "                                                                  'gru_3[0][0]',                  \n",
            "                                                                  'gru_2[0][0]',                  \n",
            "                                                                  'num_vars_in[0][0]']            \n",
            "                                                                                                  \n",
            " dense_3 (Dense)                (None, 128)          6656        ['concatenate_1[0][0]']          \n",
            "                                                                                                  \n",
            " dropout_2 (Dropout)            (None, 128)          0           ['dense_3[0][0]']                \n",
            "                                                                                                  \n",
            " dense_4 (Dense)                (None, 64)           8256        ['dropout_2[0][0]']              \n",
            "                                                                                                  \n",
            " dropout_3 (Dropout)            (None, 64)           0           ['dense_4[0][0]']                \n",
            "                                                                                                  \n",
            " dense_5 (Dense)                (None, 1)            65          ['dropout_3[0][0]']              \n",
            "                                                                                                  \n",
            "==================================================================================================\n",
            "Total params: 32,285,621\n",
            "Trainable params: 32,285,621\n",
            "Non-trainable params: 0\n",
            "__________________________________________________________________________________________________\n"
          ]
        }
      ]
    },
    {
      "cell_type": "code",
      "metadata": {
        "id": "YeOmL_WhYCFf",
        "colab": {
          "base_uri": "https://localhost:8080/",
          "height": 600
        },
        "outputId": "7d25585a-3fa0-485d-fa25-89df7ce1b50f"
      },
      "source": [
        "# 26.1 Plot the model architecture\n",
        "#      We need graphviz and pydot to be installed\n",
        "plt.figure(figsize = (14,14));\n",
        "plot_model(model, to_file = \"model.png\");\n",
        "io.imshow(\"model.png\");"
      ],
      "execution_count": 152,
      "outputs": [
        {
          "output_type": "display_data",
          "data": {
            "text/plain": [
              "<Figure size 1008x1008 with 1 Axes>"
            ],
            "image/png": "[encoded data removed]"
          },
          "metadata": {
            "needs_background": "light"
          }
        }
      ]
    },
    {
      "cell_type": "markdown",
      "metadata": {
        "id": "FvlKVtGPKFZu"
      },
      "source": [
        "### Fit model\n",
        "Takes time"
      ]
    },
    {
      "cell_type": "code",
      "metadata": {
        "id": "2aQWl2FWgia-"
      },
      "source": [
        "# 26.2. Some constants\n",
        "BATCH_SIZE = 20000\n",
        "epochs = 5"
      ],
      "execution_count": 154,
      "outputs": []
    },
    {
      "cell_type": "code",
      "metadata": {
        "id": "jm1bUc-ign38",
        "colab": {
          "base_uri": "https://localhost:8080/"
        },
        "outputId": "8baea382-3794-421f-ecb2-95dcd74db5a1"
      },
      "source": [
        "# 26.3 Observe our training data once more:\n",
        "#      Note that X_train is a dictionary of arrays:\n",
        "\n",
        "for key, value in X_train.items():\n",
        "    print(\"\\n\\n============\")\n",
        "    print(key, ' : ', value[:2])"
      ],
      "execution_count": 155,
      "outputs": [
        {
          "output_type": "stream",
          "name": "stdout",
          "text": [
            "\n",
            "\n",
            "============\n",
            "name_in  :  [[    0     0     0     0     0     0   825  1027 17236   129]\n",
            " [    0     0     0     0  1238  2566  1266   641   153     6]]\n",
            "\n",
            "\n",
            "============\n",
            "item_desc_in  :  [[    0     0     0     0     0     0     0     0     0     0     0     0\n",
            "      0     0     0     0     0     0     0     0     0     0     0     0\n",
            "      0     0     0     0     0     0     0     0     0     0     0     0\n",
            "      0     0     0     0     0     0     0     0     0     0     0     0\n",
            "      0     0     0     0     0     0     0     0     0     0     0     0\n",
            "      0     0     0     0     0     0     0     0     0     0    16     5\n",
            "     43   537   586]\n",
            " [    0     0     0  1238  2566  1266   641   153     6     7     2    48\n",
            "     24    13    20   100    16     5    56    50   113   650   379    40\n",
            "    267     7   160   347    29   641   343     3    21   639     8     2\n",
            "   2021   469     9    13    20   410    26    74   376   349    22    32\n",
            "    228    15    36   697    33 17096     8    77  1523   140   138  1244\n",
            "     18    51   133    63   385    83   177   261    42   550   175     3\n",
            "     35   191  1897]]\n",
            "\n",
            "\n",
            "============\n",
            "brand_name_in  :  [737 574]\n",
            "\n",
            "\n",
            "============\n",
            "category_name_in  :  [1162   26]\n",
            "\n",
            "\n",
            "============\n",
            "item_condition_in  :  [1 2]\n",
            "\n",
            "\n",
            "============\n",
            "num_vars_in  :  [[1.         1.61341738]\n",
            " [1.         1.61341738]]\n"
          ]
        }
      ]
    },
    {
      "cell_type": "code",
      "metadata": {
        "_cell_guid": "b19fde2e-e454-48fd-b336-de0b15051fc8",
        "_uuid": "5fa44a0c7fcca9b0f0c15719be8ac38a2ee7cea8",
        "id": "jA8uXPMpYCFf",
        "colab": {
          "base_uri": "https://localhost:8080/"
        },
        "outputId": "9bb83737-6d2b-40ef-8d6c-95eb7760fa8e"
      },
      "source": [
        "# 26.4\n",
        "\n",
        "start = time.time()\n",
        "history= model.fit(X_train,\n",
        "                   dtrain.target,\n",
        "                   epochs=epochs,\n",
        "                   batch_size=BATCH_SIZE,\n",
        "                   validation_data=(X_valid, dvalid.target),\n",
        "                   callbacks = callbacks,\n",
        "                   verbose=1\n",
        "                  )\n",
        "\n",
        "end = time.time()\n",
        "print((end-start)/60)    # Five epochs take 15 minutes. Per epoch 240 secs 0.0931"
      ],
      "execution_count": 156,
      "outputs": [
        {
          "output_type": "stream",
          "name": "stdout",
          "text": [
            "Epoch 1/2\n",
            "74/74 [==============================] - ETA: 0s - loss: 0.0467 - mae: 0.1622"
          ]
        },
        {
          "output_type": "stream",
          "name": "stderr",
          "text": [
            "WARNING:absl:Found untraced functions such as gru_cell_3_layer_call_fn, gru_cell_3_layer_call_and_return_conditional_losses, gru_cell_2_layer_call_fn, gru_cell_2_layer_call_and_return_conditional_losses while saving (showing 4 of 4). These functions will not be directly callable after loading.\n"
          ]
        },
        {
          "output_type": "stream",
          "name": "stdout",
          "text": [
            "\b\b\b\b\b\b\b\b\b\b\b\b\b\b\b\b\b\b\b\b\b\b\b\b\b\b\b\b\b\b\b\b\b\b\b\b\b\b\b\b\b\b\b\b\b\b\b\b\b\b\b\b\b\b\b\b\b\b\b\b\b\b\b\b\b\b\b\b\b\b\b\b\b\b\b\b\b\r74/74 [==============================] - 267s 4s/step - loss: 0.0467 - mae: 0.1622 - val_loss: 0.0201 - val_mae: 0.1083\n",
            "Epoch 2/2\n",
            "74/74 [==============================] - ETA: 0s - loss: 0.0223 - mae: 0.1139"
          ]
        },
        {
          "output_type": "stream",
          "name": "stderr",
          "text": [
            "WARNING:absl:Found untraced functions such as gru_cell_3_layer_call_fn, gru_cell_3_layer_call_and_return_conditional_losses, gru_cell_2_layer_call_fn, gru_cell_2_layer_call_and_return_conditional_losses while saving (showing 4 of 4). These functions will not be directly callable after loading.\n"
          ]
        },
        {
          "output_type": "stream",
          "name": "stdout",
          "text": [
            "\b\b\b\b\b\b\b\b\b\b\b\b\b\b\b\b\b\b\b\b\b\b\b\b\b\b\b\b\b\b\b\b\b\b\b\b\b\b\b\b\b\b\b\b\b\b\b\b\b\b\b\b\b\b\b\b\b\b\b\b\b\b\b\b\b\b\b\b\b\b\b\b\b\b\b\b\b\r74/74 [==============================] - 260s 4s/step - loss: 0.0223 - mae: 0.1139 - val_loss: 0.0169 - val_mae: 0.0984\n",
            "8.78621830145518\n"
          ]
        }
      ]
    },
    {
      "cell_type": "code",
      "source": [
        "# LINES TO SAVE THE MODEL MISSING"
      ],
      "metadata": {
        "id": "HAw95QDYy_JF"
      },
      "execution_count": null,
      "outputs": []
    },
    {
      "cell_type": "markdown",
      "metadata": {
        "id": "4QocVFA0bIw2"
      },
      "source": [
        "## Load saved model and evaluate\n",
        "Delete existing model"
      ]
    },
    {
      "cell_type": "code",
      "metadata": {
        "id": "ggH3mvaGtt0Z"
      },
      "source": [
        "# 27.0 Delete earlier model\n",
        "\n",
        "del model\n",
        "\n",
        "gc.collect()"
      ],
      "execution_count": null,
      "outputs": []
    },
    {
      "cell_type": "code",
      "metadata": {
        "id": "x6orA55I5Ffv"
      },
      "source": [
        "# # 27.1 Create model structure\n",
        "myModel = create_model()\n",
        "\n",
        "# 27.2 Loads model weights\n",
        "myModel.load_weights(checkptfilepath)"
      ],
      "execution_count": null,
      "outputs": []
    },
    {
      "cell_type": "code",
      "metadata": {
        "id": "6C_kk4K2bNI_"
      },
      "source": [
        "# 27.3 Evaluate model using validation data:\n",
        "\n",
        "val_preds = myModel.predict(X_valid)"
      ],
      "execution_count": null,
      "outputs": []
    },
    {
      "cell_type": "code",
      "metadata": {
        "id": "JFf4rkUabQwE"
      },
      "source": [
        "# 27.4 Undo transformation by MinMaxScaler\n",
        "\n",
        "val_preds = target_scaler.inverse_transform(val_preds)  "
      ],
      "execution_count": null,
      "outputs": []
    },
    {
      "cell_type": "code",
      "metadata": {
        "id": "XKwqUXDec0Wn"
      },
      "source": [
        "# 27.5 Undo logs:\n",
        "\n",
        "val_preds = np.exp(val_preds) - 1   # It should be -1. Original code has +1\n",
        "print(val_preds[:10])     # (10,1)\n",
        "\n",
        "print(val_preds[:10, 0])  # Convert to 1D\n",
        "y_pred = val_preds[:,0]"
      ],
      "execution_count": null,
      "outputs": []
    },
    {
      "cell_type": "code",
      "metadata": {
        "_cell_guid": "0bfc00c9-37d7-4ebe-9f9c-2bf0661aef3c",
        "_uuid": "5065d64200d6c4675901e727ddf87afc8136a0c3",
        "id": "rZKU5rqRYCFg"
      },
      "source": [
        "# 27.6 Mean_squared_log_error\n",
        "y_true = np.array(dvalid.price.values)\n",
        "y_true[:10]\n",
        "\n",
        "# 27.7\n",
        "v_rmsle = rmsle(y_true, y_pred)\n",
        "print(\"\\n RMSLE error on dev test: \"+str(v_rmsle))"
      ],
      "execution_count": null,
      "outputs": []
    },
    {
      "cell_type": "code",
      "metadata": {
        "_cell_guid": "996256b1-8628-4a8a-9e75-2eae09fa7d6e",
        "_uuid": "59772da91cbcb781396138d860d7875a23accaa9",
        "id": "tHEiIi9BYCFg"
      },
      "source": [
        "########### I am done #############\n",
        "# Optional\n",
        "\n",
        "# 20. Create Predictions on test data\n",
        "preds = model.predict(X_test, batch_size=BATCH_SIZE)\n",
        "preds = target_scaler.inverse_transform(preds)\n",
        "preds = np.exp(preds)-1\n",
        "\n",
        "# 20.1\n",
        "submission = test[[\"test_id\"]]\n",
        "submission[\"price\"] = preds"
      ],
      "execution_count": null,
      "outputs": []
    },
    {
      "cell_type": "code",
      "metadata": {
        "_cell_guid": "8b76a6c9-fa82-4011-82ab-0384b8e2e5b4",
        "_uuid": "270683b6ea8391d536aa86deeb7d0b381a9006ba",
        "id": "CLkioaWtYCFh"
      },
      "source": [
        "# 20.2 Should you want to submit on \n",
        "submission.to_csv(\"./myNNsubmission.csv\", index=False)\n",
        "submission.price.hist()\n"
      ],
      "execution_count": null,
      "outputs": []
    },
    {
      "cell_type": "markdown",
      "metadata": {
        "_cell_guid": "4f194864-1f59-4b94-871b-3b3ee6f01fd2",
        "_uuid": "d0e07027d44dcda199db405c974a05276a3fb4ac",
        "id": "pqPEyZtaYCFh"
      },
      "source": [
        "This was just an example how nn can solve this problems. Potencial improvements of the kernel:\n",
        "    - Increase the embeddings factors\n",
        "    - Decrease the batch size\n",
        "    - Add Batch Normalization\n",
        "    - Try LSTM, Bidirectional RNN, stack RNN\n",
        "    - Try with more dense layers or more rnn outputs\n",
        "    -  etc. Or even try a new architecture!"
      ]
    }
  ]
}