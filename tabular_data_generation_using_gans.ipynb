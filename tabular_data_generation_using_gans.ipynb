{
  "cells": [
    {
      "cell_type": "markdown",
      "metadata": {
        "id": "view-in-github",
        "colab_type": "text"
      },
      "source": [
        "<a href=\"https://colab.research.google.com/github/harnalashok/deeplearning/blob/main/tabular_data_generation_using_gans.ipynb\" target=\"_parent\"><img src=\"https://colab.research.google.com/assets/colab-badge.svg\" alt=\"Open In Colab\"/></a>"
      ]
    },
    {
      "cell_type": "code",
      "source": [
        "# LAst amended: 7th Oct, 2023\n",
        "# Kaggle ref: https://www.kaggle.com/code/techytushar/tabular-data-generation-using-gans\n"
      ],
      "metadata": {
        "id": "W7clVq780L8m"
      },
      "execution_count": null,
      "outputs": []
    },
    {
      "cell_type": "markdown",
      "source": [
        "## What is label smoothing"
      ],
      "metadata": {
        "id": "1ngqW9SQx3Nc"
      }
    },
    {
      "cell_type": "markdown",
      "source": [
        "Label smoothing:  \n",
        ">\tTurns “hard” class label assignments to “soft” label assignments.  \n",
        ">\tOperates directly on the labels themselves.  \n",
        ">\tIs dead simple to implement.  \n",
        ">\tCan lead to a model that generalizes better.  \n",
        "\n",
        "For example, let’s consider the following image from the MNIST dataset:"
      ],
      "metadata": {
        "id": "oGymUR44yLEz"
      }
    },
    {
      "cell_type": "markdown",
      "source": [
        "![image.png](data:image/png;base64,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)"
      ],
      "metadata": {
        "id": "k1ZR7wHnzGUS"
      }
    },
    {
      "cell_type": "markdown",
      "source": [
        "This digit is clearly a “7”, and if we were to write out the one-hot encoded label vector for this data point it would look like the following:  \n",
        "[0.0, 0.0, 0.0, 0.0, 0.0, 0.0, 0.0, **1.0**, 0.0, 0.0]  \n",
        "This is hard label assignment. Every entry is 0 except for the 8th index. If we were to apply soft label assignment to our one-hot encoded vector above it would now look like this:  \n",
        "[0.01 0.01 0.01 0.01 0.01 0.01 0.01 0.91 0.01 0.01]\n"
      ],
      "metadata": {
        "id": "O8r8-4VtzJAx"
      }
    },
    {
      "cell_type": "markdown",
      "source": [
        "You can perform label smoothing using this formula:\n",
        "\n",
        "> <i>new_labels = original_labels * (1 – label_smoothing) + label_smoothing /  num_classes </i>\n",
        "\n",
        "Example: Imagine you have three classes with label_smoothing factor as 0.3.\n",
        "Then, new_labels according to the above formula will be:  \n",
        "= [0 1 2] * (1– 0.3) + ( 0.3 / 3 )  \n",
        "= [0 1 2] * (0.7 )+ 0.1 = [ 0.1 0.8 1.5 ]    \n",
        "\n",
        "Now, the new labels will be [0.1 0.8 1.5] instead of [0 1 2]"
      ],
      "metadata": {
        "id": "us3iMWGszTpB"
      }
    },
    {
      "cell_type": "code",
      "execution_count": null,
      "metadata": {
        "id": "3vC69SfvdPL5",
        "outputId": "d49ef0ae-8b97-4c8f-b161-426e61df4d01",
        "colab": {
          "base_uri": "https://localhost:8080/"
        }
      },
      "outputs": [
        {
          "output_type": "stream",
          "name": "stdout",
          "text": [
            "\u001b[2K     \u001b[90m━━━━━━━━━━━━━━━━━━━━━━━━━━━━━━━━━━━━━━━━\u001b[0m \u001b[32m10.8/10.8 MB\u001b[0m \u001b[31m17.9 MB/s\u001b[0m eta \u001b[36m0:00:00\u001b[0m\n",
            "\u001b[?25h"
          ]
        }
      ],
      "source": [
        "#! pip install -qU scikit-learn"
      ]
    },
    {
      "cell_type": "code",
      "source": [
        "from google.colab import drive\n",
        "drive.mount('/gdrive')"
      ],
      "metadata": {
        "id": "QWotDA18yMdg",
        "outputId": "1813c3f3-8348-41ca-b93d-fa043563a3e9",
        "colab": {
          "base_uri": "https://localhost:8080/"
        }
      },
      "execution_count": 1,
      "outputs": [
        {
          "output_type": "stream",
          "name": "stdout",
          "text": [
            "Mounted at /gdrive\n"
          ]
        }
      ]
    },
    {
      "cell_type": "code",
      "execution_count": 2,
      "metadata": {
        "_cell_guid": "b1076dfc-b9ad-4769-8c92-a6c4dae69d19",
        "_uuid": "8f2839f25d086af736a60e9eeb907d3b93b6e0e5",
        "id": "IyBQ4QzNdPL7"
      },
      "outputs": [],
      "source": [
        "import numpy as np\n",
        "import pandas as pd\n",
        "import matplotlib.pyplot as plt\n",
        "import seaborn as sns\n",
        "\n",
        "from sklearn.preprocessing import StandardScaler, MinMaxScaler\n",
        "from sklearn.metrics import precision_score, recall_score, f1_score,\\\n",
        "                            accuracy_score, classification_report,\\\n",
        "                            confusion_matrix\n",
        "\n",
        "from sklearn.model_selection import KFold, GridSearchCV\n",
        "from sklearn.metrics import ConfusionMatrixDisplay\n",
        "from sklearn.model_selection import train_test_split\n",
        "from sklearn.linear_model import LogisticRegression\n",
        "from imblearn.over_sampling import SMOTE\n",
        "from imblearn.pipeline import Pipeline\n",
        "\n",
        "import os\n",
        "from collections import Counter\n",
        "\n",
        "np.random.seed(34)\n"
      ]
    },
    {
      "cell_type": "code",
      "source": [
        "pathToFolder = '/gdrive/MyDrive/Colab_data_files/creditcard/'\n",
        "datafile = 'creditcardfraud.zip'"
      ],
      "metadata": {
        "id": "fNJNWHOYyh7B"
      },
      "execution_count": 3,
      "outputs": []
    },
    {
      "cell_type": "markdown",
      "metadata": {
        "id": "ILISllHbdPL8"
      },
      "source": [
        "# Data Exploration and Cleaning"
      ]
    },
    {
      "cell_type": "code",
      "execution_count": 4,
      "metadata": {
        "_cell_guid": "79c7e3d0-c299-4dcb-8224-4455121ee9b0",
        "_uuid": "d629ff2d2480ee46fbb7e2d37f6b5fab8052498a",
        "id": "499e5-H-dPL9",
        "outputId": "54501cfb-b50a-41e3-e12a-a47131f05a42",
        "colab": {
          "base_uri": "https://localhost:8080/",
          "height": 309
        }
      },
      "outputs": [
        {
          "output_type": "stream",
          "name": "stdout",
          "text": [
            "(284807, 30)\n"
          ]
        },
        {
          "output_type": "stream",
          "name": "stderr",
          "text": [
            "<ipython-input-4-5ce8c602f516>:3: FutureWarning: In a future version of pandas all arguments of DataFrame.drop except for the argument 'labels' will be keyword-only.\n",
            "  df.drop(\"Time\", 1, inplace=True)\n"
          ]
        },
        {
          "output_type": "execute_result",
          "data": {
            "text/plain": [
              "         V1        V2        V3        V4        V5        V6        V7  \\\n",
              "0 -1.359807 -0.072781  2.536347  1.378155 -0.338321  0.462388  0.239599   \n",
              "1  1.191857  0.266151  0.166480  0.448154  0.060018 -0.082361 -0.078803   \n",
              "2 -1.358354 -1.340163  1.773209  0.379780 -0.503198  1.800499  0.791461   \n",
              "3 -0.966272 -0.185226  1.792993 -0.863291 -0.010309  1.247203  0.237609   \n",
              "4 -1.158233  0.877737  1.548718  0.403034 -0.407193  0.095921  0.592941   \n",
              "\n",
              "         V8        V9       V10  ...       V21       V22       V23       V24  \\\n",
              "0  0.098698  0.363787  0.090794  ... -0.018307  0.277838 -0.110474  0.066928   \n",
              "1  0.085102 -0.255425 -0.166974  ... -0.225775 -0.638672  0.101288 -0.339846   \n",
              "2  0.247676 -1.514654  0.207643  ...  0.247998  0.771679  0.909412 -0.689281   \n",
              "3  0.377436 -1.387024 -0.054952  ... -0.108300  0.005274 -0.190321 -1.175575   \n",
              "4 -0.270533  0.817739  0.753074  ... -0.009431  0.798278 -0.137458  0.141267   \n",
              "\n",
              "        V25       V26       V27       V28  Amount  Class  \n",
              "0  0.128539 -0.189115  0.133558 -0.021053  149.62      0  \n",
              "1  0.167170  0.125895 -0.008983  0.014724    2.69      0  \n",
              "2 -0.327642 -0.139097 -0.055353 -0.059752  378.66      0  \n",
              "3  0.647376 -0.221929  0.062723  0.061458  123.50      0  \n",
              "4 -0.206010  0.502292  0.219422  0.215153   69.99      0  \n",
              "\n",
              "[5 rows x 30 columns]"
            ],
            "text/html": [
              "\n",
              "  <div id=\"df-6e32e535-4497-4542-826c-742e93ac0c28\" class=\"colab-df-container\">\n",
              "    <div>\n",
              "<style scoped>\n",
              "    .dataframe tbody tr th:only-of-type {\n",
              "        vertical-align: middle;\n",
              "    }\n",
              "\n",
              "    .dataframe tbody tr th {\n",
              "        vertical-align: top;\n",
              "    }\n",
              "\n",
              "    .dataframe thead th {\n",
              "        text-align: right;\n",
              "    }\n",
              "</style>\n",
              "<table border=\"1\" class=\"dataframe\">\n",
              "  <thead>\n",
              "    <tr style=\"text-align: right;\">\n",
              "      <th></th>\n",
              "      <th>V1</th>\n",
              "      <th>V2</th>\n",
              "      <th>V3</th>\n",
              "      <th>V4</th>\n",
              "      <th>V5</th>\n",
              "      <th>V6</th>\n",
              "      <th>V7</th>\n",
              "      <th>V8</th>\n",
              "      <th>V9</th>\n",
              "      <th>V10</th>\n",
              "      <th>...</th>\n",
              "      <th>V21</th>\n",
              "      <th>V22</th>\n",
              "      <th>V23</th>\n",
              "      <th>V24</th>\n",
              "      <th>V25</th>\n",
              "      <th>V26</th>\n",
              "      <th>V27</th>\n",
              "      <th>V28</th>\n",
              "      <th>Amount</th>\n",
              "      <th>Class</th>\n",
              "    </tr>\n",
              "  </thead>\n",
              "  <tbody>\n",
              "    <tr>\n",
              "      <th>0</th>\n",
              "      <td>-1.359807</td>\n",
              "      <td>-0.072781</td>\n",
              "      <td>2.536347</td>\n",
              "      <td>1.378155</td>\n",
              "      <td>-0.338321</td>\n",
              "      <td>0.462388</td>\n",
              "      <td>0.239599</td>\n",
              "      <td>0.098698</td>\n",
              "      <td>0.363787</td>\n",
              "      <td>0.090794</td>\n",
              "      <td>...</td>\n",
              "      <td>-0.018307</td>\n",
              "      <td>0.277838</td>\n",
              "      <td>-0.110474</td>\n",
              "      <td>0.066928</td>\n",
              "      <td>0.128539</td>\n",
              "      <td>-0.189115</td>\n",
              "      <td>0.133558</td>\n",
              "      <td>-0.021053</td>\n",
              "      <td>149.62</td>\n",
              "      <td>0</td>\n",
              "    </tr>\n",
              "    <tr>\n",
              "      <th>1</th>\n",
              "      <td>1.191857</td>\n",
              "      <td>0.266151</td>\n",
              "      <td>0.166480</td>\n",
              "      <td>0.448154</td>\n",
              "      <td>0.060018</td>\n",
              "      <td>-0.082361</td>\n",
              "      <td>-0.078803</td>\n",
              "      <td>0.085102</td>\n",
              "      <td>-0.255425</td>\n",
              "      <td>-0.166974</td>\n",
              "      <td>...</td>\n",
              "      <td>-0.225775</td>\n",
              "      <td>-0.638672</td>\n",
              "      <td>0.101288</td>\n",
              "      <td>-0.339846</td>\n",
              "      <td>0.167170</td>\n",
              "      <td>0.125895</td>\n",
              "      <td>-0.008983</td>\n",
              "      <td>0.014724</td>\n",
              "      <td>2.69</td>\n",
              "      <td>0</td>\n",
              "    </tr>\n",
              "    <tr>\n",
              "      <th>2</th>\n",
              "      <td>-1.358354</td>\n",
              "      <td>-1.340163</td>\n",
              "      <td>1.773209</td>\n",
              "      <td>0.379780</td>\n",
              "      <td>-0.503198</td>\n",
              "      <td>1.800499</td>\n",
              "      <td>0.791461</td>\n",
              "      <td>0.247676</td>\n",
              "      <td>-1.514654</td>\n",
              "      <td>0.207643</td>\n",
              "      <td>...</td>\n",
              "      <td>0.247998</td>\n",
              "      <td>0.771679</td>\n",
              "      <td>0.909412</td>\n",
              "      <td>-0.689281</td>\n",
              "      <td>-0.327642</td>\n",
              "      <td>-0.139097</td>\n",
              "      <td>-0.055353</td>\n",
              "      <td>-0.059752</td>\n",
              "      <td>378.66</td>\n",
              "      <td>0</td>\n",
              "    </tr>\n",
              "    <tr>\n",
              "      <th>3</th>\n",
              "      <td>-0.966272</td>\n",
              "      <td>-0.185226</td>\n",
              "      <td>1.792993</td>\n",
              "      <td>-0.863291</td>\n",
              "      <td>-0.010309</td>\n",
              "      <td>1.247203</td>\n",
              "      <td>0.237609</td>\n",
              "      <td>0.377436</td>\n",
              "      <td>-1.387024</td>\n",
              "      <td>-0.054952</td>\n",
              "      <td>...</td>\n",
              "      <td>-0.108300</td>\n",
              "      <td>0.005274</td>\n",
              "      <td>-0.190321</td>\n",
              "      <td>-1.175575</td>\n",
              "      <td>0.647376</td>\n",
              "      <td>-0.221929</td>\n",
              "      <td>0.062723</td>\n",
              "      <td>0.061458</td>\n",
              "      <td>123.50</td>\n",
              "      <td>0</td>\n",
              "    </tr>\n",
              "    <tr>\n",
              "      <th>4</th>\n",
              "      <td>-1.158233</td>\n",
              "      <td>0.877737</td>\n",
              "      <td>1.548718</td>\n",
              "      <td>0.403034</td>\n",
              "      <td>-0.407193</td>\n",
              "      <td>0.095921</td>\n",
              "      <td>0.592941</td>\n",
              "      <td>-0.270533</td>\n",
              "      <td>0.817739</td>\n",
              "      <td>0.753074</td>\n",
              "      <td>...</td>\n",
              "      <td>-0.009431</td>\n",
              "      <td>0.798278</td>\n",
              "      <td>-0.137458</td>\n",
              "      <td>0.141267</td>\n",
              "      <td>-0.206010</td>\n",
              "      <td>0.502292</td>\n",
              "      <td>0.219422</td>\n",
              "      <td>0.215153</td>\n",
              "      <td>69.99</td>\n",
              "      <td>0</td>\n",
              "    </tr>\n",
              "  </tbody>\n",
              "</table>\n",
              "<p>5 rows × 30 columns</p>\n",
              "</div>\n",
              "    <div class=\"colab-df-buttons\">\n",
              "\n",
              "  <div class=\"colab-df-container\">\n",
              "    <button class=\"colab-df-convert\" onclick=\"convertToInteractive('df-6e32e535-4497-4542-826c-742e93ac0c28')\"\n",
              "            title=\"Convert this dataframe to an interactive table.\"\n",
              "            style=\"display:none;\">\n",
              "\n",
              "  <svg xmlns=\"http://www.w3.org/2000/svg\" height=\"24px\" viewBox=\"0 -960 960 960\">\n",
              "    <path d=\"M120-120v-720h720v720H120Zm60-500h600v-160H180v160Zm220 220h160v-160H400v160Zm0 220h160v-160H400v160ZM180-400h160v-160H180v160Zm440 0h160v-160H620v160ZM180-180h160v-160H180v160Zm440 0h160v-160H620v160Z\"/>\n",
              "  </svg>\n",
              "    </button>\n",
              "\n",
              "  <style>\n",
              "    .colab-df-container {\n",
              "      display:flex;\n",
              "      gap: 12px;\n",
              "    }\n",
              "\n",
              "    .colab-df-convert {\n",
              "      background-color: #E8F0FE;\n",
              "      border: none;\n",
              "      border-radius: 50%;\n",
              "      cursor: pointer;\n",
              "      display: none;\n",
              "      fill: #1967D2;\n",
              "      height: 32px;\n",
              "      padding: 0 0 0 0;\n",
              "      width: 32px;\n",
              "    }\n",
              "\n",
              "    .colab-df-convert:hover {\n",
              "      background-color: #E2EBFA;\n",
              "      box-shadow: 0px 1px 2px rgba(60, 64, 67, 0.3), 0px 1px 3px 1px rgba(60, 64, 67, 0.15);\n",
              "      fill: #174EA6;\n",
              "    }\n",
              "\n",
              "    .colab-df-buttons div {\n",
              "      margin-bottom: 4px;\n",
              "    }\n",
              "\n",
              "    [theme=dark] .colab-df-convert {\n",
              "      background-color: #3B4455;\n",
              "      fill: #D2E3FC;\n",
              "    }\n",
              "\n",
              "    [theme=dark] .colab-df-convert:hover {\n",
              "      background-color: #434B5C;\n",
              "      box-shadow: 0px 1px 3px 1px rgba(0, 0, 0, 0.15);\n",
              "      filter: drop-shadow(0px 1px 2px rgba(0, 0, 0, 0.3));\n",
              "      fill: #FFFFFF;\n",
              "    }\n",
              "  </style>\n",
              "\n",
              "    <script>\n",
              "      const buttonEl =\n",
              "        document.querySelector('#df-6e32e535-4497-4542-826c-742e93ac0c28 button.colab-df-convert');\n",
              "      buttonEl.style.display =\n",
              "        google.colab.kernel.accessAllowed ? 'block' : 'none';\n",
              "\n",
              "      async function convertToInteractive(key) {\n",
              "        const element = document.querySelector('#df-6e32e535-4497-4542-826c-742e93ac0c28');\n",
              "        const dataTable =\n",
              "          await google.colab.kernel.invokeFunction('convertToInteractive',\n",
              "                                                    [key], {});\n",
              "        if (!dataTable) return;\n",
              "\n",
              "        const docLinkHtml = 'Like what you see? Visit the ' +\n",
              "          '<a target=\"_blank\" href=https://colab.research.google.com/notebooks/data_table.ipynb>data table notebook</a>'\n",
              "          + ' to learn more about interactive tables.';\n",
              "        element.innerHTML = '';\n",
              "        dataTable['output_type'] = 'display_data';\n",
              "        await google.colab.output.renderOutput(dataTable, element);\n",
              "        const docLink = document.createElement('div');\n",
              "        docLink.innerHTML = docLinkHtml;\n",
              "        element.appendChild(docLink);\n",
              "      }\n",
              "    </script>\n",
              "  </div>\n",
              "\n",
              "\n",
              "<div id=\"df-96edd43c-07af-4f44-ac69-b813a5ca48d4\">\n",
              "  <button class=\"colab-df-quickchart\" onclick=\"quickchart('df-96edd43c-07af-4f44-ac69-b813a5ca48d4')\"\n",
              "            title=\"Suggest charts.\"\n",
              "            style=\"display:none;\">\n",
              "\n",
              "<svg xmlns=\"http://www.w3.org/2000/svg\" height=\"24px\"viewBox=\"0 0 24 24\"\n",
              "     width=\"24px\">\n",
              "    <g>\n",
              "        <path d=\"M19 3H5c-1.1 0-2 .9-2 2v14c0 1.1.9 2 2 2h14c1.1 0 2-.9 2-2V5c0-1.1-.9-2-2-2zM9 17H7v-7h2v7zm4 0h-2V7h2v10zm4 0h-2v-4h2v4z\"/>\n",
              "    </g>\n",
              "</svg>\n",
              "  </button>\n",
              "\n",
              "<style>\n",
              "  .colab-df-quickchart {\n",
              "      --bg-color: #E8F0FE;\n",
              "      --fill-color: #1967D2;\n",
              "      --hover-bg-color: #E2EBFA;\n",
              "      --hover-fill-color: #174EA6;\n",
              "      --disabled-fill-color: #AAA;\n",
              "      --disabled-bg-color: #DDD;\n",
              "  }\n",
              "\n",
              "  [theme=dark] .colab-df-quickchart {\n",
              "      --bg-color: #3B4455;\n",
              "      --fill-color: #D2E3FC;\n",
              "      --hover-bg-color: #434B5C;\n",
              "      --hover-fill-color: #FFFFFF;\n",
              "      --disabled-bg-color: #3B4455;\n",
              "      --disabled-fill-color: #666;\n",
              "  }\n",
              "\n",
              "  .colab-df-quickchart {\n",
              "    background-color: var(--bg-color);\n",
              "    border: none;\n",
              "    border-radius: 50%;\n",
              "    cursor: pointer;\n",
              "    display: none;\n",
              "    fill: var(--fill-color);\n",
              "    height: 32px;\n",
              "    padding: 0;\n",
              "    width: 32px;\n",
              "  }\n",
              "\n",
              "  .colab-df-quickchart:hover {\n",
              "    background-color: var(--hover-bg-color);\n",
              "    box-shadow: 0 1px 2px rgba(60, 64, 67, 0.3), 0 1px 3px 1px rgba(60, 64, 67, 0.15);\n",
              "    fill: var(--button-hover-fill-color);\n",
              "  }\n",
              "\n",
              "  .colab-df-quickchart-complete:disabled,\n",
              "  .colab-df-quickchart-complete:disabled:hover {\n",
              "    background-color: var(--disabled-bg-color);\n",
              "    fill: var(--disabled-fill-color);\n",
              "    box-shadow: none;\n",
              "  }\n",
              "\n",
              "  .colab-df-spinner {\n",
              "    border: 2px solid var(--fill-color);\n",
              "    border-color: transparent;\n",
              "    border-bottom-color: var(--fill-color);\n",
              "    animation:\n",
              "      spin 1s steps(1) infinite;\n",
              "  }\n",
              "\n",
              "  @keyframes spin {\n",
              "    0% {\n",
              "      border-color: transparent;\n",
              "      border-bottom-color: var(--fill-color);\n",
              "      border-left-color: var(--fill-color);\n",
              "    }\n",
              "    20% {\n",
              "      border-color: transparent;\n",
              "      border-left-color: var(--fill-color);\n",
              "      border-top-color: var(--fill-color);\n",
              "    }\n",
              "    30% {\n",
              "      border-color: transparent;\n",
              "      border-left-color: var(--fill-color);\n",
              "      border-top-color: var(--fill-color);\n",
              "      border-right-color: var(--fill-color);\n",
              "    }\n",
              "    40% {\n",
              "      border-color: transparent;\n",
              "      border-right-color: var(--fill-color);\n",
              "      border-top-color: var(--fill-color);\n",
              "    }\n",
              "    60% {\n",
              "      border-color: transparent;\n",
              "      border-right-color: var(--fill-color);\n",
              "    }\n",
              "    80% {\n",
              "      border-color: transparent;\n",
              "      border-right-color: var(--fill-color);\n",
              "      border-bottom-color: var(--fill-color);\n",
              "    }\n",
              "    90% {\n",
              "      border-color: transparent;\n",
              "      border-bottom-color: var(--fill-color);\n",
              "    }\n",
              "  }\n",
              "</style>\n",
              "\n",
              "  <script>\n",
              "    async function quickchart(key) {\n",
              "      const quickchartButtonEl =\n",
              "        document.querySelector('#' + key + ' button');\n",
              "      quickchartButtonEl.disabled = true;  // To prevent multiple clicks.\n",
              "      quickchartButtonEl.classList.add('colab-df-spinner');\n",
              "      try {\n",
              "        const charts = await google.colab.kernel.invokeFunction(\n",
              "            'suggestCharts', [key], {});\n",
              "      } catch (error) {\n",
              "        console.error('Error during call to suggestCharts:', error);\n",
              "      }\n",
              "      quickchartButtonEl.classList.remove('colab-df-spinner');\n",
              "      quickchartButtonEl.classList.add('colab-df-quickchart-complete');\n",
              "    }\n",
              "    (() => {\n",
              "      let quickchartButtonEl =\n",
              "        document.querySelector('#df-96edd43c-07af-4f44-ac69-b813a5ca48d4 button');\n",
              "      quickchartButtonEl.style.display =\n",
              "        google.colab.kernel.accessAllowed ? 'block' : 'none';\n",
              "    })();\n",
              "  </script>\n",
              "</div>\n",
              "    </div>\n",
              "  </div>\n"
            ]
          },
          "metadata": {},
          "execution_count": 4
        }
      ],
      "source": [
        "# reading data\n",
        "df = pd.read_csv(pathToFolder + datafile)\n",
        "df.drop(\"Time\", 1, inplace=True)\n",
        "print(df.shape)\n",
        "df.head()"
      ]
    },
    {
      "cell_type": "code",
      "execution_count": 5,
      "metadata": {
        "id": "z9R30XNxdPL-",
        "outputId": "0a27f391-1e67-4809-c874-b5bdeddf2eb7",
        "colab": {
          "base_uri": "https://localhost:8080/"
        }
      },
      "outputs": [
        {
          "output_type": "execute_result",
          "data": {
            "text/plain": [
              "0    99.827251\n",
              "1     0.172749\n",
              "Name: Class, dtype: float64"
            ]
          },
          "metadata": {},
          "execution_count": 5
        }
      ],
      "source": [
        "# High class imbalance\n",
        "df['Class'].value_counts(normalize=True)*100"
      ]
    },
    {
      "cell_type": "code",
      "execution_count": 6,
      "metadata": {
        "id": "erB-Uj1gdPL-",
        "outputId": "3973d195-479c-475f-b15d-53cad5a99f14",
        "colab": {
          "base_uri": "https://localhost:8080/"
        }
      },
      "outputs": [
        {
          "output_type": "stream",
          "name": "stdout",
          "text": [
            "Number of Null values: 0\n"
          ]
        }
      ],
      "source": [
        "# Checking for Null values\n",
        "print(f\"Number of Null values: {df.isnull().any().sum()}\")"
      ]
    },
    {
      "cell_type": "code",
      "execution_count": 7,
      "metadata": {
        "id": "uPi6AskUdPL_",
        "outputId": "bdb4106b-345b-4df8-f6d1-9460a86132c3",
        "colab": {
          "base_uri": "https://localhost:8080/"
        }
      },
      "outputs": [
        {
          "output_type": "stream",
          "name": "stdout",
          "text": [
            "Dataset has 9144 duplicate rows\n"
          ]
        }
      ],
      "source": [
        "# checking for duplicate values\n",
        "print(f\"Dataset has {df.duplicated().sum()} duplicate rows\")\n",
        "# dropping duplicate rows\n",
        "df.drop_duplicates(inplace=True)"
      ]
    },
    {
      "cell_type": "code",
      "execution_count": 8,
      "metadata": {
        "id": "qG1qFcqLdPL_",
        "outputId": "8a06a79a-b1f7-4279-9f13-de7ebc24e83c",
        "colab": {
          "base_uri": "https://localhost:8080/",
          "height": 384
        }
      },
      "outputs": [
        {
          "output_type": "display_data",
          "data": {
            "text/plain": [
              "<Figure size 1400x400 with 1 Axes>"
            ],
            "image/png": "[encoded data removed]"
          },
          "metadata": {}
        }
      ],
      "source": [
        "# high skweness in Amount feature\n",
        "plt.figure(figsize=(14,4))\n",
        "df['Amount'].value_counts().head(50).plot(kind='bar')\n",
        "plt.show()"
      ]
    },
    {
      "cell_type": "code",
      "execution_count": 9,
      "metadata": {
        "id": "uHFOhfR5dPMA",
        "outputId": "72134c8e-0d4e-4576-ad73-ae1a5e34e5fe",
        "colab": {
          "base_uri": "https://localhost:8080/"
        }
      },
      "outputs": [
        {
          "output_type": "stream",
          "name": "stderr",
          "text": [
            "<ipython-input-9-7c946d2c6350>:2: FutureWarning: In a future version of pandas all arguments of DataFrame.drop except for the argument 'labels' will be keyword-only.\n",
            "  df.drop('Class',1).skew()\n"
          ]
        },
        {
          "output_type": "execute_result",
          "data": {
            "text/plain": [
              "V1        -3.273070\n",
              "V2        -4.653486\n",
              "V3        -2.216730\n",
              "V4         0.681387\n",
              "V5        -2.458790\n",
              "V6         1.867576\n",
              "V7         2.877722\n",
              "V8        -8.292631\n",
              "V9         0.550965\n",
              "V10        1.242165\n",
              "V11        0.347772\n",
              "V12       -2.208171\n",
              "V13        0.061058\n",
              "V14       -1.953613\n",
              "V15       -0.295836\n",
              "V16       -1.048371\n",
              "V17       -3.802987\n",
              "V18       -0.255710\n",
              "V19        0.115957\n",
              "V20       -2.045060\n",
              "V21        2.784302\n",
              "V22       -0.200868\n",
              "V23       -5.805236\n",
              "V24       -0.545636\n",
              "V25       -0.408260\n",
              "V26        0.587603\n",
              "V27       -0.745732\n",
              "V28       11.400938\n",
              "Amount    16.841622\n",
              "dtype: float64"
            ]
          },
          "metadata": {},
          "execution_count": 9
        }
      ],
      "source": [
        "# checking skewness of other columns\n",
        "df.drop('Class',1).skew()"
      ]
    },
    {
      "cell_type": "code",
      "execution_count": 10,
      "metadata": {
        "id": "Qm2WJtKTdPMB",
        "outputId": "c25977d8-c982-4300-95e5-5a507a395f9b",
        "colab": {
          "base_uri": "https://localhost:8080/"
        }
      },
      "outputs": [
        {
          "output_type": "stream",
          "name": "stderr",
          "text": [
            "<ipython-input-10-5ab3fe925c19>:2: FutureWarning: In a future version of pandas all arguments of DataFrame.drop except for the argument 'labels' will be keyword-only.\n",
            "  skew_cols = df.drop('Class', 1).skew().loc[lambda x: x>2].index\n"
          ]
        },
        {
          "output_type": "stream",
          "name": "stdout",
          "text": [
            "Skew value of V7 after log transform: -14.073605361284569\n",
            "Skew value of V21 after log transform: -19.018195679862643\n",
            "Skew value of V28 after log transform: -11.293087825590737\n",
            "Skew value of Amount after log transform: 0.1393219585866376\n"
          ]
        }
      ],
      "source": [
        "# taking log transform of high positively skewed features\n",
        "skew_cols = df.drop('Class', 1).skew().loc[lambda x: x>2].index\n",
        "for col in skew_cols:\n",
        "    lower_lim = abs(df[col].min())\n",
        "    normal_col = df[col].apply(lambda x: np.log10(x+lower_lim+1))\n",
        "    print(f\"Skew value of {col} after log transform: {normal_col.skew()}\")"
      ]
    },
    {
      "cell_type": "code",
      "execution_count": 11,
      "metadata": {
        "id": "ZkoB1uZ7dPMC"
      },
      "outputs": [],
      "source": [
        "# Only applying log transform to Amount feature\n",
        "df['Amount'] = df['Amount'].apply(lambda x: np.log10(x+1))"
      ]
    },
    {
      "cell_type": "code",
      "execution_count": 12,
      "metadata": {
        "id": "5a6NSDsydPMC",
        "outputId": "4ff05da4-86e1-4a9f-fdc7-0dc889957f55",
        "colab": {
          "base_uri": "https://localhost:8080/"
        }
      },
      "outputs": [
        {
          "output_type": "stream",
          "name": "stderr",
          "text": [
            "<ipython-input-12-2d7fbdd8711a>:3: FutureWarning: In a future version of pandas all arguments of DataFrame.drop except for the argument 'labels' will be keyword-only.\n",
            "  X = scaler.fit_transform(df.drop('Class', 1))\n"
          ]
        },
        {
          "output_type": "stream",
          "name": "stdout",
          "text": [
            "(275663, 29) (275663,)\n"
          ]
        }
      ],
      "source": [
        "scaler = StandardScaler()\n",
        "#scaler = MinMaxScaler()\n",
        "X = scaler.fit_transform(df.drop('Class', 1))\n",
        "y = df['Class'].values\n",
        "print(X.shape, y.shape)"
      ]
    },
    {
      "cell_type": "code",
      "execution_count": 13,
      "metadata": {
        "id": "6eQVThw5dPMD"
      },
      "outputs": [],
      "source": [
        "X_train, X_test, y_train, y_test = train_test_split(X, y, test_size=0.1, stratify=y)"
      ]
    },
    {
      "cell_type": "markdown",
      "metadata": {
        "id": "dwr0IZSGdPMD"
      },
      "source": [
        "# Training a Baseline Model"
      ]
    },
    {
      "cell_type": "code",
      "execution_count": null,
      "metadata": {
        "id": "pW9GcrogdPME",
        "outputId": "a410667f-cfd0-4910-b08d-8d1c475c6178",
        "colab": {
          "base_uri": "https://localhost:8080/"
        }
      },
      "outputs": [
        {
          "output_type": "stream",
          "name": "stdout",
          "text": [
            "              precision    recall  f1-score   support\n",
            "\n",
            "           0       1.00      1.00      1.00     27520\n",
            "           1       0.81      0.64      0.71        47\n",
            "\n",
            "    accuracy                           1.00     27567\n",
            "   macro avg       0.91      0.82      0.86     27567\n",
            "weighted avg       1.00      1.00      1.00     27567\n",
            "\n"
          ]
        }
      ],
      "source": [
        "# simple linear regression\n",
        "linear_model = LogisticRegression()\n",
        "linear_model.fit(X_train, y_train)\n",
        "\n",
        "y_pred = linear_model.predict(X_test)\n",
        "\n",
        "# evaluation\n",
        "print(classification_report(y_test, y_pred))\n"
      ]
    },
    {
      "cell_type": "code",
      "source": [
        "linear_model.classes_"
      ],
      "metadata": {
        "id": "m1ASl45a1u76",
        "outputId": "44de4bd7-48c1-496b-e9df-df2a3937f87d",
        "colab": {
          "base_uri": "https://localhost:8080/"
        }
      },
      "execution_count": null,
      "outputs": [
        {
          "output_type": "execute_result",
          "data": {
            "text/plain": [
              "array([0, 1])"
            ]
          },
          "metadata": {},
          "execution_count": 25
        }
      ]
    },
    {
      "cell_type": "markdown",
      "metadata": {
        "id": "e9WUQLGMdPME"
      },
      "source": [
        "# Using weighted regression to improve accuracy"
      ]
    },
    {
      "cell_type": "code",
      "execution_count": null,
      "metadata": {
        "id": "FIevHk-9dPME",
        "outputId": "81ad96b1-c661-428d-f891-def0f92b5e52",
        "colab": {
          "base_uri": "https://localhost:8080/"
        }
      },
      "outputs": [
        {
          "output_type": "stream",
          "name": "stdout",
          "text": [
            "Best parameters : {'class_weight': {0: 0.11428571428571428, 1: 0.8857142857142857}}\n"
          ]
        }
      ],
      "source": [
        "weights = np.linspace(0.05, 0.95, 15)\n",
        "\n",
        "gscv = GridSearchCV(\n",
        "    estimator=LogisticRegression(),\n",
        "    param_grid={\n",
        "        'class_weight': [{0: x, 1: 1.0-x} for x in weights]\n",
        "    },\n",
        "    scoring='f1',\n",
        "    cv=3\n",
        ")\n",
        "grid_res = gscv.fit(X, y)\n",
        "\n",
        "print(\"Best parameters : %s\" % grid_res.best_params_)"
      ]
    },
    {
      "cell_type": "code",
      "execution_count": null,
      "metadata": {
        "id": "-63gE9oadPME",
        "outputId": "3a9291bd-330b-4bb0-a77e-d316ee6943ab",
        "colab": {
          "base_uri": "https://localhost:8080/",
          "height": 430
        }
      },
      "outputs": [
        {
          "output_type": "display_data",
          "data": {
            "text/plain": [
              "<Figure size 640x480 with 1 Axes>"
            ],
            "image/png": "[encoded data removed]"
          },
          "metadata": {}
        }
      ],
      "source": [
        "# plotting F1 scores\n",
        "plt.plot(weights, grid_res.cv_results_['mean_test_score'], marker='o')\n",
        "plt.grid()\n",
        "plt.show()"
      ]
    },
    {
      "cell_type": "code",
      "execution_count": null,
      "metadata": {
        "id": "CYuG5t7DdPMF",
        "outputId": "7b26536a-db79-4702-89c3-afe9b1bf0f02",
        "colab": {
          "base_uri": "https://localhost:8080/"
        }
      },
      "outputs": [
        {
          "output_type": "stream",
          "name": "stdout",
          "text": [
            "              precision    recall  f1-score   support\n",
            "\n",
            "           0       1.00      1.00      1.00     27520\n",
            "           1       0.73      0.85      0.78        47\n",
            "\n",
            "    accuracy                           1.00     27567\n",
            "   macro avg       0.86      0.93      0.89     27567\n",
            "weighted avg       1.00      1.00      1.00     27567\n",
            "\n"
          ]
        }
      ],
      "source": [
        "# training with best weights\n",
        "wlr = LogisticRegression(**grid_res.best_params_)\n",
        "wlr.fit(X_train, y_train)\n",
        "\n",
        "y_pred = wlr.predict(X_test)\n",
        "\n",
        "# evaluation\n",
        "print(classification_report(y_test, y_pred))\n",
        "#plot_confusion_matrix(wlr, X_test, y_test)\n",
        "#plt.show()"
      ]
    },
    {
      "cell_type": "markdown",
      "metadata": {
        "id": "hrcF7nbDdPMF"
      },
      "source": [
        "**Slight improvement when using weighted regression**"
      ]
    },
    {
      "cell_type": "markdown",
      "metadata": {
        "id": "cbZIiF_wdPMF"
      },
      "source": [
        "# Using SMOTE for upsampling"
      ]
    },
    {
      "cell_type": "code",
      "execution_count": null,
      "metadata": {
        "id": "7gzw0D-PdPMF",
        "outputId": "c5dd89cf-2caa-450c-e409-f0ea33dbd378",
        "colab": {
          "base_uri": "https://localhost:8080/",
          "height": 586
        }
      },
      "outputs": [
        {
          "output_type": "stream",
          "name": "stdout",
          "text": [
            "              precision    recall  f1-score   support\n",
            "\n",
            "           0       1.00      0.97      0.99     27520\n",
            "           1       0.06      0.96      0.11        47\n",
            "\n",
            "    accuracy                           0.97     27567\n",
            "   macro avg       0.53      0.97      0.55     27567\n",
            "weighted avg       1.00      0.97      0.99     27567\n",
            "\n"
          ]
        },
        {
          "output_type": "display_data",
          "data": {
            "text/plain": [
              "<Figure size 640x480 with 2 Axes>"
            ],
            "image/png": "[encoded data removed]"
          },
          "metadata": {}
        }
      ],
      "source": [
        "# constructing pipeline\n",
        "pipe = Pipeline([\n",
        "        ('smote', SMOTE()),\n",
        "        ('lr', LogisticRegression())\n",
        "])\n",
        "# training model with smote samples\n",
        "pipe.fit(X_train, y_train)\n",
        "\n",
        "y_pred = pipe.predict(X_test)\n",
        "\n",
        "# evaluation\n",
        "print(classification_report(y_test, y_pred))\n",
        "sns.heatmap(confusion_matrix(y_test, y_pred),annot=True)\n",
        "plt.show()"
      ]
    },
    {
      "cell_type": "markdown",
      "metadata": {
        "id": "bwIDsA6qdPMG"
      },
      "source": [
        "**Poor F1 score even when using SMOTE**"
      ]
    },
    {
      "cell_type": "markdown",
      "metadata": {
        "id": "s2GydQjGdPMG"
      },
      "source": [
        "# Grid Search on SMOTE and Regression"
      ]
    },
    {
      "cell_type": "code",
      "execution_count": null,
      "metadata": {
        "id": "WMqR0zCsdPMG",
        "outputId": "ce4f8165-65d2-4f35-b158-58f8c35205f2",
        "colab": {
          "base_uri": "https://localhost:8080/"
        }
      },
      "outputs": [
        {
          "output_type": "stream",
          "name": "stdout",
          "text": [
            "Best parameters : {'lr__class_weight': {0: 0.95, 1: 0.050000000000000044}, 'smote__sampling_strategy': 0.2666666666666667}\n"
          ]
        }
      ],
      "source": [
        "pipe = Pipeline([\n",
        "        ('smote', SMOTE()),\n",
        "        ('lr', LogisticRegression())\n",
        "])\n",
        "sm_ratio = np.linspace(0.2, 0.8, 10)\n",
        "lr_weights = np.linspace(0.05, 0.95, 10)\n",
        "\n",
        "gscv = GridSearchCV(\n",
        "    estimator=pipe,\n",
        "    param_grid={\n",
        "        'smote__sampling_strategy': sm_ratio,\n",
        "        'lr__class_weight': [{0: x, 1: 1.0-x} for x in lr_weights]\n",
        "    },\n",
        "    scoring='f1',\n",
        "    cv=3\n",
        ")\n",
        "grid_result = gscv.fit(X, y)\n",
        "\n",
        "print(\"Best parameters : %s\" % grid_result.best_params_)"
      ]
    },
    {
      "cell_type": "code",
      "execution_count": null,
      "metadata": {
        "id": "Gf-T5AbldPMG",
        "outputId": "e2244342-b4a1-40a6-8585-05cc33903db0",
        "colab": {
          "base_uri": "https://localhost:8080/",
          "height": 676
        }
      },
      "outputs": [
        {
          "output_type": "display_data",
          "data": {
            "text/plain": [
              "<Figure size 800x800 with 2 Axes>"
            ],
            "image/png": "[encoded data removed]"
          },
          "metadata": {}
        }
      ],
      "source": [
        "df_gs = pd.DataFrame(data=grid_result.cv_results_['mean_test_score'].reshape(10,10),\n",
        "                     index=np.around(sm_ratio[::-1], 2),\n",
        "                     columns=np.around(lr_weights[::-1], 2))\n",
        "plt.figure(figsize=(8,8))\n",
        "sns.heatmap(df_gs,\n",
        "            annot=True,\n",
        "            linewidths=.5)\n",
        "plt.show()"
      ]
    },
    {
      "cell_type": "code",
      "execution_count": null,
      "metadata": {
        "id": "yRZrYiNCdPMH",
        "outputId": "2a1a83f4-5d32-4dce-9bb1-d3852ba369f1",
        "colab": {
          "base_uri": "https://localhost:8080/",
          "height": 586
        }
      },
      "outputs": [
        {
          "output_type": "stream",
          "name": "stdout",
          "text": [
            "              precision    recall  f1-score   support\n",
            "\n",
            "           0       1.00      1.00      1.00     27520\n",
            "           1       0.75      0.85      0.80        47\n",
            "\n",
            "    accuracy                           1.00     27567\n",
            "   macro avg       0.88      0.93      0.90     27567\n",
            "weighted avg       1.00      1.00      1.00     27567\n",
            "\n"
          ]
        },
        {
          "output_type": "display_data",
          "data": {
            "text/plain": [
              "<Figure size 640x480 with 2 Axes>"
            ],
            "image/png": "[encoded data removed]"
          },
          "metadata": {}
        }
      ],
      "source": [
        "# training with best weights\n",
        "pipe = Pipeline([\n",
        "        ('smote', SMOTE(sampling_strategy= 0.2)),\n",
        "        ('lr', LogisticRegression(class_weight={0: 0.95, 1: 0.05}))\n",
        "])\n",
        "pipe.fit(X_train, y_train)\n",
        "\n",
        "y_pred = pipe.predict(X_test)\n",
        "\n",
        "# evaluation\n",
        "print(classification_report(y_test, y_pred))\n",
        "sns.heatmap(confusion_matrix(y_test, y_pred),annot=True)\n",
        "plt.show()"
      ]
    },
    {
      "cell_type": "markdown",
      "metadata": {
        "id": "BtidEsehdPMH"
      },
      "source": [
        "**Using SMOTE with weighted regression improves results**"
      ]
    },
    {
      "cell_type": "markdown",
      "metadata": {
        "id": "1rMAlJ3gdPMH"
      },
      "source": [
        "# Using GANs to generate new data"
      ]
    },
    {
      "cell_type": "code",
      "execution_count": 16,
      "metadata": {
        "id": "yZKD4UVIdPMH"
      },
      "outputs": [],
      "source": [
        "import tensorflow as tf\n",
        "from tensorflow.keras.layers import Input, Dense, Reshape, Flatten, Dropout, multiply, Concatenate\n",
        "from tensorflow.keras.layers import BatchNormalization, Activation, Embedding, ZeroPadding2D, LeakyReLU\n",
        "from tensorflow.keras.models import Sequential, Model\n",
        "from tensorflow.keras.optimizers import Adam, RMSprop\n",
        "from tensorflow.keras.initializers import RandomNormal\n",
        "from tensorflow.keras.utils import plot_model\n",
        "import tensorflow.keras.backend as K\n",
        "from sklearn.utils import shuffle"
      ]
    },
    {
      "cell_type": "code",
      "source": [
        "class cGAN():\n",
        "    def __init__(self):\n",
        "        self.latent_dim = 32\n",
        "        self.out_shape = 29\n",
        "        self.num_classes = 2\n",
        "        self.clip_value = 0.01\n",
        "        optimizer = tf.keras.optimizers.legacy.Adam(0.0002, 0.5)\n",
        "        #optimizer = RMSprop(lr=0.00005)\n",
        "\n",
        "        # build discriminator\n",
        "        self.discriminator = self.build_discriminator()\n",
        "        self.discriminator.compile(loss=['binary_crossentropy'],\n",
        "                                   optimizer=optimizer,\n",
        "                                   metrics=['accuracy'])\n",
        "\n",
        "        # build generator\n",
        "        self.generator = self.build_generator()\n",
        "\n",
        "        # generating new data samples\n",
        "        noise = Input(shape=(self.latent_dim,))\n",
        "        label = Input(shape=(1,))\n",
        "        gen_samples = self.generator([noise, label])\n",
        "\n",
        "        self.discriminator.trainable = False\n",
        "\n",
        "        # passing gen samples through disc.\n",
        "        valid = self.discriminator([gen_samples, label])\n",
        "\n",
        "        # combining both models\n",
        "        self.combined = Model([noise, label], valid)\n",
        "        self.combined.compile(loss=['binary_crossentropy'],\n",
        "                              optimizer=optimizer,\n",
        "                             metrics=['accuracy'])\n",
        "        self.combined.summary()\n",
        "\n",
        "    def wasserstein_loss(self, y_true, y_pred):\n",
        "        return K.mean(y_true * y_pred)\n",
        "\n",
        "    def build_generator(self):\n",
        "        init = RandomNormal(mean=0.0, stddev=0.02)\n",
        "        model = Sequential()\n",
        "\n",
        "        model.add(Dense(128, input_dim=self.latent_dim))\n",
        "        #model.add(Dropout(0.2))\n",
        "        model.add(LeakyReLU(alpha=0.2))\n",
        "        model.add(BatchNormalization(momentum=0.8))\n",
        "\n",
        "        model.add(Dense(256))\n",
        "        #model.add(Dropout(0.2))\n",
        "        model.add(LeakyReLU(alpha=0.2))\n",
        "        model.add(BatchNormalization(momentum=0.8))\n",
        "\n",
        "        model.add(Dense(512))\n",
        "        #model.add(Dropout(0.2))\n",
        "        model.add(LeakyReLU(alpha=0.2))\n",
        "        model.add(BatchNormalization(momentum=0.8))\n",
        "\n",
        "        model.add(Dense(self.out_shape, activation='tanh'))\n",
        "        model.summary()\n",
        "\n",
        "        noise = Input(shape=(self.latent_dim,))\n",
        "        label = Input(shape=(1,), dtype='int32')\n",
        "        label_embedding = Flatten()(Embedding(self.num_classes, self.latent_dim)(label))\n",
        "\n",
        "        model_input = multiply([noise, label_embedding])\n",
        "        gen_sample = model(model_input)\n",
        "\n",
        "        return Model([noise, label], gen_sample, name=\"Generator\")\n",
        "\n",
        "\n",
        "    def build_discriminator(self):\n",
        "        init = RandomNormal(mean=0.0, stddev=0.02)\n",
        "        model = Sequential()\n",
        "\n",
        "        model.add(Dense(512, input_dim=self.out_shape, kernel_initializer=init))\n",
        "        model.add(LeakyReLU(alpha=0.2))\n",
        "\n",
        "        model.add(Dense(256, kernel_initializer=init))\n",
        "        model.add(LeakyReLU(alpha=0.2))\n",
        "        model.add(Dropout(0.4))\n",
        "\n",
        "        model.add(Dense(128, kernel_initializer=init))\n",
        "        model.add(LeakyReLU(alpha=0.2))\n",
        "        model.add(Dropout(0.4))\n",
        "\n",
        "        model.add(Dense(1, activation='sigmoid'))\n",
        "        model.summary()\n",
        "\n",
        "        gen_sample = Input(shape=(self.out_shape,))\n",
        "        label = Input(shape=(1,), dtype='int32')\n",
        "        label_embedding = Flatten()(Embedding(self.num_classes, self.out_shape)(label))\n",
        "\n",
        "        model_input = multiply([gen_sample, label_embedding])\n",
        "        validity = model(model_input)\n",
        "\n",
        "        return Model(inputs=[gen_sample, label], outputs=validity, name=\"Discriminator\")\n",
        "\n",
        "\n",
        "    def train(self, X_train, y_train, pos_index, neg_index, epochs, batch_size=32, sample_interval=50):\n",
        "\n",
        "        # Adversarial ground truths\n",
        "        valid = np.ones((batch_size, 1))\n",
        "        fake = np.zeros((batch_size, 1))\n",
        "\n",
        "        for epoch in range(epochs):\n",
        "\n",
        "            #  Train Discriminator with 8 sample from postivite class and rest with negative class\n",
        "            idx1 = np.random.choice(pos_index, 8)\n",
        "            idx0 = np.random.choice(neg_index, batch_size-8)\n",
        "            idx = np.concatenate((idx1, idx0))\n",
        "            samples, labels = X_train[idx], y_train[idx]\n",
        "            samples, labels = shuffle(samples, labels)\n",
        "            # Sample noise as generator input\n",
        "            noise = np.random.normal(0, 1, (batch_size, self.latent_dim))\n",
        "\n",
        "            # Generate a half batch of new images\n",
        "            gen_samples = self.generator.predict([noise, labels])\n",
        "\n",
        "            # label smoothing\n",
        "            if epoch < epochs//1.5:\n",
        "                valid_smooth = (valid+0.1)-(np.random.random(valid.shape)*0.1)\n",
        "                fake_smooth = (fake-0.1)+(np.random.random(fake.shape)*0.1)\n",
        "            else:\n",
        "                valid_smooth = valid\n",
        "                fake_smooth = fake\n",
        "\n",
        "            # Train the discriminator\n",
        "            self.discriminator.trainable = True\n",
        "            d_loss_real = self.discriminator.train_on_batch([samples, labels], valid_smooth)\n",
        "            d_loss_fake = self.discriminator.train_on_batch([gen_samples, labels], fake_smooth)\n",
        "            d_loss = 0.5 * np.add(d_loss_real, d_loss_fake)\n",
        "\n",
        "            # Train Generator\n",
        "            # Condition on labels\n",
        "            self.discriminator.trainable = False\n",
        "            sampled_labels = np.random.randint(0, 2, batch_size).reshape(-1, 1)\n",
        "            # Train the generator\n",
        "            g_loss = self.combined.train_on_batch([noise, sampled_labels], valid)\n",
        "\n",
        "            # Plot the progress\n",
        "            if (epoch+1)%sample_interval==0:\n",
        "                print (f\"{epoch} [D loss: {d_loss[0]}, acc.: {100*d_loss[1]}] [G loss: {g_loss}]\")"
      ],
      "metadata": {
        "id": "Gcq78Z7aMx9Y"
      },
      "execution_count": 27,
      "outputs": []
    },
    {
      "cell_type": "code",
      "execution_count": 17,
      "metadata": {
        "id": "sZ5AE_lMdPMH"
      },
      "outputs": [],
      "source": [
        "class cGAN():\n",
        "    def __init__(self):\n",
        "        self.latent_dim = 32\n",
        "        self.out_shape = 29\n",
        "        self.num_classes = 2\n",
        "        self.clip_value = 0.01\n",
        "        optimizer = tf.keras.optimizers.legacy.Adam(0.0002, 0.5)\n",
        "        #optimizer = RMSprop(lr=0.00005)\n",
        "\n",
        "        # build discriminator\n",
        "        self.discriminator = self.build_discriminator()\n",
        "        self.discriminator.compile(loss=['binary_crossentropy'],\n",
        "                                   optimizer=optimizer,\n",
        "                                   metrics=['accuracy'])\n",
        "\n",
        "        # build generator\n",
        "        self.generator = self.build_generator()\n",
        "\n",
        "        # generating new data samples\n",
        "        noise = Input(shape=(self.latent_dim,))\n",
        "        label = Input(shape=(1,))\n",
        "        gen_samples = self.generator([noise, label])\n",
        "\n",
        "        self.discriminator.trainable = False\n",
        "\n",
        "        # passing gen samples through disc.\n",
        "        valid = self.discriminator([gen_samples, label])\n",
        "\n",
        "        # combining both models\n",
        "        self.combined = Model([noise, label], valid)\n",
        "        self.combined.compile(loss=['binary_crossentropy'],\n",
        "                              optimizer=optimizer,\n",
        "                             metrics=['accuracy'])\n",
        "        self.combined.summary()\n",
        "\n",
        "    def wasserstein_loss(self, y_true, y_pred):\n",
        "        return K.mean(y_true * y_pred)\n",
        "\n",
        "    def build_generator(self):\n",
        "        init = RandomNormal(mean=0.0, stddev=0.02)\n",
        "        model = Sequential()\n",
        "\n",
        "        model.add(Dense(128, input_dim=self.latent_dim))\n",
        "        #model.add(Dropout(0.2))\n",
        "        model.add(LeakyReLU(alpha=0.2))\n",
        "        model.add(BatchNormalization(momentum=0.8))\n",
        "\n",
        "        model.add(Dense(256))\n",
        "        #model.add(Dropout(0.2))\n",
        "        model.add(LeakyReLU(alpha=0.2))\n",
        "        model.add(BatchNormalization(momentum=0.8))\n",
        "\n",
        "        model.add(Dense(512))\n",
        "        #model.add(Dropout(0.2))\n",
        "        model.add(LeakyReLU(alpha=0.2))\n",
        "        model.add(BatchNormalization(momentum=0.8))\n",
        "\n",
        "        model.add(Dense(self.out_shape, activation='tanh'))\n",
        "        model.summary()\n",
        "\n",
        "        noise = Input(shape=(self.latent_dim,))\n",
        "        label = Input(shape=(1,), dtype='int32')\n",
        "        label_embedding = Flatten()(Embedding(self.num_classes, self.latent_dim)(label))\n",
        "\n",
        "        model_input = multiply([noise, label_embedding])\n",
        "        gen_sample = model(model_input)\n",
        "        mm = Model(\n",
        "                    [noise, label],\n",
        "                    gen_sample,\n",
        "                    name=\"Generator\"\n",
        "                    )\n",
        "\n",
        "        return mm\n",
        "\n",
        "\n",
        "    def build_discriminator(self):\n",
        "        init = RandomNormal(mean=0.0, stddev=0.02)\n",
        "        model = Sequential()\n",
        "\n",
        "        model.add(Dense(512, input_dim=self.out_shape, kernel_initializer=init))\n",
        "        model.add(LeakyReLU(alpha=0.2))\n",
        "\n",
        "        model.add(Dense(256, kernel_initializer=init))\n",
        "        model.add(LeakyReLU(alpha=0.2))\n",
        "        model.add(Dropout(0.4))\n",
        "\n",
        "        model.add(Dense(128, kernel_initializer=init))\n",
        "        model.add(LeakyReLU(alpha=0.2))\n",
        "        model.add(Dropout(0.4))\n",
        "\n",
        "        model.add(Dense(1, activation='sigmoid'))\n",
        "        model.summary()\n",
        "\n",
        "        gen_sample = Input(shape=(self.out_shape,))\n",
        "        label = Input(shape=(1,), dtype='int32')\n",
        "        emd = Embedding(self.num_classes, self.out_shape)(label)\n",
        "        label_embedding = Flatten()(emd)\n",
        "\n",
        "        model_input = multiply([gen_sample, label_embedding])\n",
        "        validity = model(model_input)\n",
        "\n",
        "        return Model(\n",
        "                      inputs=[gen_sample, label],  # Two inputs\n",
        "                      outputs=validity,\n",
        "                      name=\"Discriminator\"\n",
        "                      )\n",
        "\n",
        "\n",
        "    def train(self, X_train, y_train, pos_index, neg_index, epochs, batch_size=32, sample_interval=50):\n",
        "\n",
        "        # Adversarial ground truths\n",
        "        valid = np.ones((batch_size, 1))\n",
        "        fake = np.zeros((batch_size, 1))\n",
        "\n",
        "        for epoch in range(epochs):\n",
        "\n",
        "            #  Train Discriminator with 8 sample from postivite class\n",
        "            #    and rest with negative class\n",
        "            # np.random.choice(ax,8)\n",
        "            # ax if an ndarray, a random sample is generated from its elements.\n",
        "            #   If ax is an int, the random sample is generated as if it were\n",
        "            #    np.arange(ax)\n",
        "            idx1 = np.random.choice(pos_index, 8)  # Get 8 indicies: A 1D array\n",
        "\n",
        "            idx0 = np.random.choice(neg_index, batch_size-8)\n",
        "\n",
        "            # r = np.array([2,3,4,5])\n",
        "            # s = np.array([34,33,12])\n",
        "            #     np.concatenate([r,s])\n",
        "            #     array([ 2,  3,  4,  5, 34, 33, 12])\n",
        "            idx = np.concatenate((idx1, idx0))\n",
        "\n",
        "            samples, labels = X_train[idx], y_train[idx]\n",
        "            \"\"\"\n",
        "            data = np.round(np.random.normal(size = [4,5]),2)\n",
        "            label = np.array([1,2,3,4])\n",
        "            shuffle(data,label)  # shuffle is sklearn.utils function\n",
        "            Returns shuffled rows of data and corresponding\n",
        "            shuffled labels\n",
        "            \"\"\"\n",
        "\n",
        "            samples, labels = shuffle(samples, labels)\n",
        "\n",
        "            # Generate noise as generator input\n",
        "            # noise dimension: batch_size X self.latent_dim\n",
        "            noise = np.random.normal(0, 1, (batch_size, self.latent_dim))\n",
        "            # Generate a batch of new data from noise and labels\n",
        "            #  Note that generator has multiple inputs\n",
        "            gen_samples = self.generator.predict([noise, labels])\n",
        "\n",
        "            # label smoothing\n",
        "            if epoch < epochs//1.5:\n",
        "                valid_smooth = (valid+0.1)-(np.random.random(valid.shape)*0.1)\n",
        "                fake_smooth =  (fake-0.1)+(np.random.random(fake.shape)*0.1)\n",
        "            else:\n",
        "                valid_smooth = valid\n",
        "                fake_smooth = fake\n",
        "\n",
        "            # Train Discriminator\n",
        "            self.discriminator.trainable = True\n",
        "            # train_on_batch:\n",
        "            #    Runs a single gradient update on a single batch of data.\n",
        "            d_loss_real = self.discriminator.train_on_batch([samples, labels], valid_smooth)\n",
        "            d_loss_fake = self.discriminator.train_on_batch([gen_samples, labels], fake_smooth)\n",
        "            d_loss = 0.5 * np.add(d_loss_real, d_loss_fake)\n",
        "\n",
        "            # Train Generator.\n",
        "            # Discriminator is not to be trained\n",
        "            self.discriminator.trainable = False\n",
        "            \"\"\"\n",
        "            np.random.randint(0, 2, 5)\n",
        "            array([0, 1, 0, 0, 1])\n",
        "            np.array([0, 1, 0, 0, 1]).reshape(-1,1)\n",
        "            array([[0],\n",
        "                   [1],\n",
        "                   [0],\n",
        "                   [0],\n",
        "                   [1]])\n",
        "            \"\"\"\n",
        "            sampled_labels = np.random.randint(0, 2, batch_size).reshape(-1, 1)\n",
        "            # Train the generator\n",
        "            g_loss = self.combined.train_on_batch(\n",
        "                                                    [noise, sampled_labels],\n",
        "                                                    valid\n",
        "                                                    )\n",
        "\n",
        "            # Plot the progress\n",
        "            if (epoch+1)%sample_interval==0:\n",
        "                print (f\"{epoch} [D loss: {d_loss[0]}, acc.: {100*d_loss[1]}] [G loss: {g_loss}]\")"
      ]
    },
    {
      "cell_type": "code",
      "execution_count": 28,
      "metadata": {
        "id": "UkMV7qYDdPMI",
        "outputId": "79011206-8492-4509-bfb8-b0c241345d51",
        "colab": {
          "base_uri": "https://localhost:8080/"
        }
      },
      "outputs": [
        {
          "output_type": "stream",
          "name": "stdout",
          "text": [
            "Model: \"sequential_6\"\n",
            "_________________________________________________________________\n",
            " Layer (type)                Output Shape              Param #   \n",
            "=================================================================\n",
            " dense_24 (Dense)            (None, 512)               15360     \n",
            "                                                                 \n",
            " leaky_re_lu_18 (LeakyReLU)  (None, 512)               0         \n",
            "                                                                 \n",
            " dense_25 (Dense)            (None, 256)               131328    \n",
            "                                                                 \n",
            " leaky_re_lu_19 (LeakyReLU)  (None, 256)               0         \n",
            "                                                                 \n",
            " dropout_4 (Dropout)         (None, 256)               0         \n",
            "                                                                 \n",
            " dense_26 (Dense)            (None, 128)               32896     \n",
            "                                                                 \n",
            " leaky_re_lu_20 (LeakyReLU)  (None, 128)               0         \n",
            "                                                                 \n",
            " dropout_5 (Dropout)         (None, 128)               0         \n",
            "                                                                 \n",
            " dense_27 (Dense)            (None, 1)                 129       \n",
            "                                                                 \n",
            "=================================================================\n",
            "Total params: 179713 (702.00 KB)\n",
            "Trainable params: 179713 (702.00 KB)\n",
            "Non-trainable params: 0 (0.00 Byte)\n",
            "_________________________________________________________________\n",
            "Model: \"sequential_7\"\n",
            "_________________________________________________________________\n",
            " Layer (type)                Output Shape              Param #   \n",
            "=================================================================\n",
            " dense_28 (Dense)            (None, 128)               4224      \n",
            "                                                                 \n",
            " leaky_re_lu_21 (LeakyReLU)  (None, 128)               0         \n",
            "                                                                 \n",
            " batch_normalization_12 (Ba  (None, 128)               512       \n",
            " tchNormalization)                                               \n",
            "                                                                 \n",
            " dense_29 (Dense)            (None, 256)               33024     \n",
            "                                                                 \n",
            " leaky_re_lu_22 (LeakyReLU)  (None, 256)               0         \n",
            "                                                                 \n",
            " batch_normalization_13 (Ba  (None, 256)               1024      \n",
            " tchNormalization)                                               \n",
            "                                                                 \n",
            " dense_30 (Dense)            (None, 512)               131584    \n",
            "                                                                 \n",
            " leaky_re_lu_23 (LeakyReLU)  (None, 512)               0         \n",
            "                                                                 \n",
            " batch_normalization_14 (Ba  (None, 512)               2048      \n",
            " tchNormalization)                                               \n",
            "                                                                 \n",
            " dense_31 (Dense)            (None, 29)                14877     \n",
            "                                                                 \n",
            "=================================================================\n",
            "Total params: 187293 (731.61 KB)\n",
            "Trainable params: 185501 (724.61 KB)\n",
            "Non-trainable params: 1792 (7.00 KB)\n",
            "_________________________________________________________________\n",
            "Model: \"model_2\"\n",
            "__________________________________________________________________________________________________\n",
            " Layer (type)                Output Shape                 Param #   Connected to                  \n",
            "==================================================================================================\n",
            " input_21 (InputLayer)       [(None, 32)]                 0         []                            \n",
            "                                                                                                  \n",
            " input_22 (InputLayer)       [(None, 1)]                  0         []                            \n",
            "                                                                                                  \n",
            " Generator (Functional)      (None, 29)                   187357    ['input_21[0][0]',            \n",
            "                                                                     'input_22[0][0]']            \n",
            "                                                                                                  \n",
            " Discriminator (Functional)  (None, 1)                    179771    ['Generator[0][0]',           \n",
            "                                                                     'input_22[0][0]']            \n",
            "                                                                                                  \n",
            "==================================================================================================\n",
            "Total params: 367128 (1.40 MB)\n",
            "Trainable params: 185565 (724.86 KB)\n",
            "Non-trainable params: 181563 (709.23 KB)\n",
            "__________________________________________________________________________________________________\n"
          ]
        }
      ],
      "source": [
        "cgan = cGAN()"
      ]
    },
    {
      "cell_type": "code",
      "source": [
        "bg = cgan.build_generator()\n"
      ],
      "metadata": {
        "id": "voXWANY_5jMW",
        "outputId": "90e4ae00-45e9-437d-f18c-e1ba6627d12d",
        "colab": {
          "base_uri": "https://localhost:8080/"
        }
      },
      "execution_count": 29,
      "outputs": [
        {
          "output_type": "stream",
          "name": "stdout",
          "text": [
            "Model: \"sequential_8\"\n",
            "_________________________________________________________________\n",
            " Layer (type)                Output Shape              Param #   \n",
            "=================================================================\n",
            " dense_32 (Dense)            (None, 128)               4224      \n",
            "                                                                 \n",
            " leaky_re_lu_24 (LeakyReLU)  (None, 128)               0         \n",
            "                                                                 \n",
            " batch_normalization_15 (Ba  (None, 128)               512       \n",
            " tchNormalization)                                               \n",
            "                                                                 \n",
            " dense_33 (Dense)            (None, 256)               33024     \n",
            "                                                                 \n",
            " leaky_re_lu_25 (LeakyReLU)  (None, 256)               0         \n",
            "                                                                 \n",
            " batch_normalization_16 (Ba  (None, 256)               1024      \n",
            " tchNormalization)                                               \n",
            "                                                                 \n",
            " dense_34 (Dense)            (None, 512)               131584    \n",
            "                                                                 \n",
            " leaky_re_lu_26 (LeakyReLU)  (None, 512)               0         \n",
            "                                                                 \n",
            " batch_normalization_17 (Ba  (None, 512)               2048      \n",
            " tchNormalization)                                               \n",
            "                                                                 \n",
            " dense_35 (Dense)            (None, 29)                14877     \n",
            "                                                                 \n",
            "=================================================================\n",
            "Total params: 187293 (731.61 KB)\n",
            "Trainable params: 185501 (724.61 KB)\n",
            "Non-trainable params: 1792 (7.00 KB)\n",
            "_________________________________________________________________\n"
          ]
        }
      ]
    },
    {
      "cell_type": "code",
      "source": [
        "plot_model(bg,\n",
        "           show_shapes = True,\n",
        "           show_layer_activations= True,\n",
        "           show_trainable=True\n",
        "          )"
      ],
      "metadata": {
        "id": "gSzLVR7M6VEl",
        "outputId": "f167a2c8-dd5b-43c7-d20f-000fb02f29a7",
        "colab": {
          "base_uri": "https://localhost:8080/",
          "height": 533
        }
      },
      "execution_count": 30,
      "outputs": [
        {
          "output_type": "execute_result",
          "data": {
            "image/png": "[encoded data removed]",
            "text/plain": [
              "<IPython.core.display.Image object>"
            ]
          },
          "metadata": {},
          "execution_count": 30
        }
      ]
    },
    {
      "cell_type": "code",
      "execution_count": 31,
      "metadata": {
        "id": "OqhrEwpfdPMI",
        "outputId": "7523a221-198e-4a44-987d-d52f3c23b6ce",
        "colab": {
          "base_uri": "https://localhost:8080/",
          "height": 1000
        }
      },
      "outputs": [
        {
          "output_type": "stream",
          "name": "stdout",
          "text": [
            "1/1 [==============================] - 0s 163ms/step\n",
            "1/1 [==============================] - 0s 32ms/step\n",
            "1/1 [==============================] - 0s 33ms/step\n",
            "1/1 [==============================] - 0s 32ms/step\n",
            "1/1 [==============================] - 0s 34ms/step\n",
            "1/1 [==============================] - 0s 35ms/step\n",
            "1/1 [==============================] - 0s 35ms/step\n",
            "1/1 [==============================] - 0s 37ms/step\n",
            "1/1 [==============================] - 0s 33ms/step\n",
            "1/1 [==============================] - 0s 38ms/step\n",
            "1/1 [==============================] - 0s 46ms/step\n",
            "1/1 [==============================] - 0s 34ms/step\n",
            "1/1 [==============================] - 0s 33ms/step\n",
            "1/1 [==============================] - 0s 38ms/step\n",
            "1/1 [==============================] - 0s 35ms/step\n",
            "1/1 [==============================] - 0s 36ms/step\n",
            "1/1 [==============================] - 0s 45ms/step\n",
            "1/1 [==============================] - 0s 33ms/step\n",
            "1/1 [==============================] - 0s 38ms/step\n",
            "1/1 [==============================] - 0s 49ms/step\n",
            "1/1 [==============================] - 0s 34ms/step\n",
            "1/1 [==============================] - 0s 36ms/step\n",
            "1/1 [==============================] - 0s 25ms/step\n",
            "1/1 [==============================] - 0s 25ms/step\n",
            "1/1 [==============================] - 0s 26ms/step\n",
            "1/1 [==============================] - 0s 34ms/step\n",
            "1/1 [==============================] - 0s 24ms/step\n",
            "1/1 [==============================] - 0s 24ms/step\n",
            "1/1 [==============================] - 0s 22ms/step\n",
            "1/1 [==============================] - 0s 27ms/step\n",
            "1/1 [==============================] - 0s 23ms/step\n",
            "1/1 [==============================] - 0s 24ms/step\n",
            "1/1 [==============================] - 0s 28ms/step\n",
            "1/1 [==============================] - 0s 23ms/step\n",
            "1/1 [==============================] - 0s 22ms/step\n",
            "1/1 [==============================] - 0s 23ms/step\n",
            "1/1 [==============================] - 0s 23ms/step\n",
            "1/1 [==============================] - 0s 23ms/step\n",
            "1/1 [==============================] - 0s 30ms/step\n",
            "1/1 [==============================] - 0s 29ms/step\n",
            "1/1 [==============================] - 0s 24ms/step\n",
            "1/1 [==============================] - 0s 23ms/step\n",
            "1/1 [==============================] - 0s 22ms/step\n",
            "1/1 [==============================] - 0s 22ms/step\n",
            "1/1 [==============================] - 0s 22ms/step\n",
            "1/1 [==============================] - 0s 27ms/step\n",
            "1/1 [==============================] - 0s 24ms/step\n",
            "1/1 [==============================] - 0s 23ms/step\n",
            "1/1 [==============================] - 0s 24ms/step\n",
            "1/1 [==============================] - 0s 23ms/step\n",
            "49 [D loss: 0.6025480031967163, acc.: 0.0] [G loss: [0.6818764805793762, 0.375]]\n",
            "1/1 [==============================] - 0s 24ms/step\n",
            "1/1 [==============================] - 0s 35ms/step\n",
            "1/1 [==============================] - 0s 22ms/step\n",
            "1/1 [==============================] - 0s 23ms/step\n",
            "1/1 [==============================] - 0s 29ms/step\n",
            "1/1 [==============================] - 0s 23ms/step\n",
            "1/1 [==============================] - 0s 27ms/step\n",
            "1/1 [==============================] - 0s 24ms/step\n",
            "1/1 [==============================] - 0s 22ms/step\n",
            "1/1 [==============================] - 0s 28ms/step\n",
            "1/1 [==============================] - 0s 25ms/step\n",
            "1/1 [==============================] - 0s 22ms/step\n",
            "1/1 [==============================] - 0s 25ms/step\n",
            "1/1 [==============================] - 0s 22ms/step\n",
            "1/1 [==============================] - 0s 28ms/step\n",
            "1/1 [==============================] - 0s 23ms/step\n",
            "1/1 [==============================] - 0s 22ms/step\n",
            "1/1 [==============================] - 0s 22ms/step\n",
            "1/1 [==============================] - 0s 26ms/step\n",
            "1/1 [==============================] - 0s 21ms/step\n",
            "1/1 [==============================] - 0s 24ms/step\n",
            "1/1 [==============================] - 0s 22ms/step\n",
            "1/1 [==============================] - 0s 25ms/step\n",
            "1/1 [==============================] - 0s 23ms/step\n",
            "1/1 [==============================] - 0s 23ms/step\n",
            "1/1 [==============================] - 0s 22ms/step\n",
            "1/1 [==============================] - 0s 22ms/step\n",
            "1/1 [==============================] - 0s 24ms/step\n",
            "1/1 [==============================] - 0s 23ms/step\n",
            "1/1 [==============================] - 0s 22ms/step\n",
            "1/1 [==============================] - 0s 24ms/step\n",
            "1/1 [==============================] - 0s 25ms/step\n",
            "1/1 [==============================] - 0s 27ms/step\n",
            "1/1 [==============================] - 0s 22ms/step\n",
            "1/1 [==============================] - 0s 23ms/step\n",
            "1/1 [==============================] - 0s 24ms/step\n",
            "1/1 [==============================] - 0s 27ms/step\n",
            "1/1 [==============================] - 0s 22ms/step\n",
            "1/1 [==============================] - 0s 21ms/step\n",
            "1/1 [==============================] - 0s 23ms/step\n",
            "1/1 [==============================] - 0s 22ms/step\n",
            "1/1 [==============================] - 0s 22ms/step\n",
            "1/1 [==============================] - 0s 23ms/step\n",
            "1/1 [==============================] - 0s 21ms/step\n",
            "1/1 [==============================] - 0s 28ms/step\n",
            "1/1 [==============================] - 0s 23ms/step\n",
            "1/1 [==============================] - 0s 25ms/step\n",
            "1/1 [==============================] - 0s 22ms/step\n",
            "1/1 [==============================] - 0s 21ms/step\n",
            "1/1 [==============================] - 0s 25ms/step\n",
            "99 [D loss: 0.5279869437217712, acc.: 0.0] [G loss: [0.7108049392700195, 0.4375]]\n",
            "1/1 [==============================] - 0s 26ms/step\n",
            "1/1 [==============================] - 0s 22ms/step\n",
            "1/1 [==============================] - 0s 24ms/step\n",
            "1/1 [==============================] - 0s 22ms/step\n",
            "1/1 [==============================] - 0s 28ms/step\n",
            "1/1 [==============================] - 0s 22ms/step\n",
            "1/1 [==============================] - 0s 21ms/step\n",
            "1/1 [==============================] - 0s 23ms/step\n",
            "1/1 [==============================] - 0s 44ms/step\n",
            "1/1 [==============================] - 0s 36ms/step\n",
            "1/1 [==============================] - 0s 32ms/step\n",
            "1/1 [==============================] - 0s 33ms/step\n",
            "1/1 [==============================] - 0s 33ms/step\n",
            "1/1 [==============================] - 0s 35ms/step\n",
            "1/1 [==============================] - 0s 31ms/step\n",
            "1/1 [==============================] - 0s 33ms/step\n",
            "1/1 [==============================] - 0s 35ms/step\n",
            "1/1 [==============================] - 0s 37ms/step\n",
            "1/1 [==============================] - 0s 41ms/step\n",
            "1/1 [==============================] - 0s 35ms/step\n",
            "1/1 [==============================] - 0s 43ms/step\n",
            "1/1 [==============================] - 0s 34ms/step\n",
            "1/1 [==============================] - 0s 32ms/step\n",
            "1/1 [==============================] - 0s 35ms/step\n",
            "1/1 [==============================] - 0s 32ms/step\n",
            "1/1 [==============================] - 0s 32ms/step\n",
            "1/1 [==============================] - 0s 33ms/step\n",
            "1/1 [==============================] - 0s 37ms/step\n",
            "1/1 [==============================] - 0s 50ms/step\n",
            "1/1 [==============================] - 0s 47ms/step\n",
            "1/1 [==============================] - 0s 52ms/step\n",
            "1/1 [==============================] - 0s 48ms/step\n",
            "1/1 [==============================] - 0s 47ms/step\n",
            "1/1 [==============================] - 0s 36ms/step\n",
            "1/1 [==============================] - 0s 45ms/step\n",
            "1/1 [==============================] - 0s 47ms/step\n",
            "1/1 [==============================] - 0s 87ms/step\n",
            "1/1 [==============================] - 0s 41ms/step\n",
            "1/1 [==============================] - 0s 37ms/step\n",
            "1/1 [==============================] - 0s 108ms/step\n",
            "1/1 [==============================] - 0s 62ms/step\n",
            "1/1 [==============================] - 0s 79ms/step\n",
            "1/1 [==============================] - 0s 35ms/step\n",
            "1/1 [==============================] - 0s 36ms/step\n",
            "1/1 [==============================] - 0s 55ms/step\n",
            "1/1 [==============================] - 0s 35ms/step\n",
            "1/1 [==============================] - 0s 42ms/step\n",
            "1/1 [==============================] - 0s 81ms/step\n",
            "1/1 [==============================] - 0s 42ms/step\n",
            "1/1 [==============================] - 0s 112ms/step\n",
            "149 [D loss: -0.7095004618167877, acc.: 0.0] [G loss: [0.8922570943832397, 0.15625]]\n",
            "1/1 [==============================] - 0s 40ms/step\n",
            "1/1 [==============================] - 0s 67ms/step\n",
            "1/1 [==============================] - 0s 35ms/step\n",
            "1/1 [==============================] - 0s 50ms/step\n",
            "1/1 [==============================] - 0s 38ms/step\n",
            "1/1 [==============================] - 0s 68ms/step\n",
            "1/1 [==============================] - 0s 71ms/step\n",
            "1/1 [==============================] - 0s 36ms/step\n",
            "1/1 [==============================] - 0s 56ms/step\n",
            "1/1 [==============================] - 0s 47ms/step\n",
            "1/1 [==============================] - 0s 47ms/step\n",
            "1/1 [==============================] - 0s 34ms/step\n",
            "1/1 [==============================] - 0s 112ms/step\n",
            "1/1 [==============================] - 0s 53ms/step\n",
            "1/1 [==============================] - 0s 34ms/step\n",
            "1/1 [==============================] - 0s 90ms/step\n",
            "1/1 [==============================] - 0s 43ms/step\n",
            "1/1 [==============================] - 0s 44ms/step\n",
            "1/1 [==============================] - 0s 52ms/step\n",
            "1/1 [==============================] - 0s 137ms/step\n",
            "1/1 [==============================] - 0s 80ms/step\n",
            "1/1 [==============================] - 0s 119ms/step\n",
            "1/1 [==============================] - 0s 117ms/step\n",
            "1/1 [==============================] - 0s 120ms/step\n",
            "1/1 [==============================] - 0s 132ms/step\n",
            "1/1 [==============================] - 0s 84ms/step\n",
            "1/1 [==============================] - 0s 143ms/step\n",
            "1/1 [==============================] - 0s 85ms/step\n",
            "1/1 [==============================] - 0s 138ms/step\n",
            "1/1 [==============================] - 0s 45ms/step\n",
            "1/1 [==============================] - 0s 112ms/step\n",
            "1/1 [==============================] - 0s 101ms/step\n",
            "1/1 [==============================] - 0s 71ms/step\n",
            "1/1 [==============================] - 0s 47ms/step\n",
            "1/1 [==============================] - 0s 64ms/step\n",
            "1/1 [==============================] - 0s 77ms/step\n",
            "1/1 [==============================] - 0s 53ms/step\n",
            "1/1 [==============================] - 0s 76ms/step\n",
            "1/1 [==============================] - 0s 42ms/step\n",
            "1/1 [==============================] - 0s 40ms/step\n",
            "1/1 [==============================] - 0s 116ms/step\n",
            "1/1 [==============================] - 0s 51ms/step\n",
            "1/1 [==============================] - 0s 101ms/step\n",
            "1/1 [==============================] - 0s 25ms/step\n",
            "1/1 [==============================] - 0s 25ms/step\n",
            "1/1 [==============================] - 0s 27ms/step\n",
            "1/1 [==============================] - 0s 27ms/step\n",
            "1/1 [==============================] - 0s 25ms/step\n",
            "1/1 [==============================] - 0s 22ms/step\n",
            "1/1 [==============================] - 0s 23ms/step\n",
            "199 [D loss: -4.540955424308777, acc.: 0.0] [G loss: [1.5201982259750366, 0.0]]\n",
            "1/1 [==============================] - 0s 23ms/step\n",
            "1/1 [==============================] - 0s 24ms/step\n",
            "1/1 [==============================] - 0s 22ms/step\n",
            "1/1 [==============================] - 0s 32ms/step\n",
            "1/1 [==============================] - 0s 22ms/step\n",
            "1/1 [==============================] - 0s 24ms/step\n",
            "1/1 [==============================] - 0s 22ms/step\n",
            "1/1 [==============================] - 0s 23ms/step\n",
            "1/1 [==============================] - 0s 25ms/step\n",
            "1/1 [==============================] - 0s 25ms/step\n",
            "1/1 [==============================] - 0s 23ms/step\n",
            "1/1 [==============================] - 0s 26ms/step\n",
            "1/1 [==============================] - 0s 23ms/step\n",
            "1/1 [==============================] - 0s 26ms/step\n",
            "1/1 [==============================] - 0s 22ms/step\n",
            "1/1 [==============================] - 0s 22ms/step\n",
            "1/1 [==============================] - 0s 27ms/step\n",
            "1/1 [==============================] - 0s 22ms/step\n"
          ]
        },
        {
          "output_type": "error",
          "ename": "KeyboardInterrupt",
          "evalue": "ignored",
          "traceback": [
            "\u001b[0;31m---------------------------------------------------------------------------\u001b[0m",
            "\u001b[0;31mKeyboardInterrupt\u001b[0m                         Traceback (most recent call last)",
            "\u001b[0;32m<ipython-input-31-113597c496c8>\u001b[0m in \u001b[0;36m<cell line: 4>\u001b[0;34m()\u001b[0m\n\u001b[1;32m      2\u001b[0m \u001b[0mpos_index\u001b[0m \u001b[0;34m=\u001b[0m \u001b[0mnp\u001b[0m\u001b[0;34m.\u001b[0m\u001b[0mwhere\u001b[0m\u001b[0;34m(\u001b[0m\u001b[0my_train\u001b[0m\u001b[0;34m==\u001b[0m\u001b[0;36m1\u001b[0m\u001b[0;34m)\u001b[0m\u001b[0;34m[\u001b[0m\u001b[0;36m0\u001b[0m\u001b[0;34m]\u001b[0m\u001b[0;34m\u001b[0m\u001b[0;34m\u001b[0m\u001b[0m\n\u001b[1;32m      3\u001b[0m \u001b[0mneg_index\u001b[0m \u001b[0;34m=\u001b[0m \u001b[0mnp\u001b[0m\u001b[0;34m.\u001b[0m\u001b[0mwhere\u001b[0m\u001b[0;34m(\u001b[0m\u001b[0my_train\u001b[0m\u001b[0;34m==\u001b[0m\u001b[0;36m0\u001b[0m\u001b[0;34m)\u001b[0m\u001b[0;34m[\u001b[0m\u001b[0;36m0\u001b[0m\u001b[0;34m]\u001b[0m\u001b[0;34m\u001b[0m\u001b[0;34m\u001b[0m\u001b[0m\n\u001b[0;32m----> 4\u001b[0;31m \u001b[0mcgan\u001b[0m\u001b[0;34m.\u001b[0m\u001b[0mtrain\u001b[0m\u001b[0;34m(\u001b[0m\u001b[0mX_train\u001b[0m\u001b[0;34m,\u001b[0m \u001b[0my_train\u001b[0m\u001b[0;34m,\u001b[0m \u001b[0mpos_index\u001b[0m\u001b[0;34m,\u001b[0m \u001b[0mneg_index\u001b[0m\u001b[0;34m,\u001b[0m \u001b[0mepochs\u001b[0m\u001b[0;34m=\u001b[0m\u001b[0;36m2000\u001b[0m\u001b[0;34m)\u001b[0m\u001b[0;34m\u001b[0m\u001b[0;34m\u001b[0m\u001b[0m\n\u001b[0m",
            "\u001b[0;32m<ipython-input-27-f9338ec516ef>\u001b[0m in \u001b[0;36mtrain\u001b[0;34m(self, X_train, y_train, pos_index, neg_index, epochs, batch_size, sample_interval)\u001b[0m\n\u001b[1;32m    127\u001b[0m             \u001b[0;31m# Train the discriminator\u001b[0m\u001b[0;34m\u001b[0m\u001b[0;34m\u001b[0m\u001b[0m\n\u001b[1;32m    128\u001b[0m             \u001b[0mself\u001b[0m\u001b[0;34m.\u001b[0m\u001b[0mdiscriminator\u001b[0m\u001b[0;34m.\u001b[0m\u001b[0mtrainable\u001b[0m \u001b[0;34m=\u001b[0m \u001b[0;32mTrue\u001b[0m\u001b[0;34m\u001b[0m\u001b[0;34m\u001b[0m\u001b[0m\n\u001b[0;32m--> 129\u001b[0;31m             \u001b[0md_loss_real\u001b[0m \u001b[0;34m=\u001b[0m \u001b[0mself\u001b[0m\u001b[0;34m.\u001b[0m\u001b[0mdiscriminator\u001b[0m\u001b[0;34m.\u001b[0m\u001b[0mtrain_on_batch\u001b[0m\u001b[0;34m(\u001b[0m\u001b[0;34m[\u001b[0m\u001b[0msamples\u001b[0m\u001b[0;34m,\u001b[0m \u001b[0mlabels\u001b[0m\u001b[0;34m]\u001b[0m\u001b[0;34m,\u001b[0m \u001b[0mvalid_smooth\u001b[0m\u001b[0;34m)\u001b[0m\u001b[0;34m\u001b[0m\u001b[0;34m\u001b[0m\u001b[0m\n\u001b[0m\u001b[1;32m    130\u001b[0m             \u001b[0md_loss_fake\u001b[0m \u001b[0;34m=\u001b[0m \u001b[0mself\u001b[0m\u001b[0;34m.\u001b[0m\u001b[0mdiscriminator\u001b[0m\u001b[0;34m.\u001b[0m\u001b[0mtrain_on_batch\u001b[0m\u001b[0;34m(\u001b[0m\u001b[0;34m[\u001b[0m\u001b[0mgen_samples\u001b[0m\u001b[0;34m,\u001b[0m \u001b[0mlabels\u001b[0m\u001b[0;34m]\u001b[0m\u001b[0;34m,\u001b[0m \u001b[0mfake_smooth\u001b[0m\u001b[0;34m)\u001b[0m\u001b[0;34m\u001b[0m\u001b[0;34m\u001b[0m\u001b[0m\n\u001b[1;32m    131\u001b[0m             \u001b[0md_loss\u001b[0m \u001b[0;34m=\u001b[0m \u001b[0;36m0.5\u001b[0m \u001b[0;34m*\u001b[0m \u001b[0mnp\u001b[0m\u001b[0;34m.\u001b[0m\u001b[0madd\u001b[0m\u001b[0;34m(\u001b[0m\u001b[0md_loss_real\u001b[0m\u001b[0;34m,\u001b[0m \u001b[0md_loss_fake\u001b[0m\u001b[0;34m)\u001b[0m\u001b[0;34m\u001b[0m\u001b[0;34m\u001b[0m\u001b[0m\n",
            "\u001b[0;31mKeyboardInterrupt\u001b[0m: "
          ]
        }
      ],
      "source": [
        "y_train = y_train.reshape(-1,1)\n",
        "pos_index = np.where(y_train==1)[0]\n",
        "neg_index = np.where(y_train==0)[0]\n",
        "cgan.train(X_train, y_train, pos_index, neg_index, epochs=2000)"
      ]
    },
    {
      "cell_type": "code",
      "execution_count": null,
      "metadata": {
        "id": "t0fT31t3dPMI",
        "outputId": "930b493d-084e-4f89-cfa3-9a7db3188311"
      },
      "outputs": [
        {
          "name": "stdout",
          "output_type": "stream",
          "text": [
            "(400, 29)\n"
          ]
        }
      ],
      "source": [
        "# generating new samples\n",
        "noise = np.random.normal(0, 1, (400, 32))\n",
        "sampled_labels = np.ones(400).reshape(-1, 1)\n",
        "\n",
        "gen_samples = cgan.generator.predict([noise, sampled_labels])\n",
        "gen_samples = scaler.inverse_transform(gen_samples)\n",
        "print(gen_samples.shape)"
      ]
    },
    {
      "cell_type": "code",
      "execution_count": null,
      "metadata": {
        "id": "cQIEZmemdPMJ",
        "outputId": "d472a478-76aa-4289-8617-9a0e6095300a"
      },
      "outputs": [
        {
          "data": {
            "text/html": [
              "<div>\n",
              "<style scoped>\n",
              "    .dataframe tbody tr th:only-of-type {\n",
              "        vertical-align: middle;\n",
              "    }\n",
              "\n",
              "    .dataframe tbody tr th {\n",
              "        vertical-align: top;\n",
              "    }\n",
              "\n",
              "    .dataframe thead th {\n",
              "        text-align: right;\n",
              "    }\n",
              "</style>\n",
              "<table border=\"1\" class=\"dataframe\">\n",
              "  <thead>\n",
              "    <tr style=\"text-align: right;\">\n",
              "      <th></th>\n",
              "      <th>V1</th>\n",
              "      <th>V2</th>\n",
              "      <th>V3</th>\n",
              "      <th>V4</th>\n",
              "      <th>V5</th>\n",
              "      <th>V6</th>\n",
              "      <th>V7</th>\n",
              "      <th>V8</th>\n",
              "      <th>V9</th>\n",
              "      <th>V10</th>\n",
              "      <th>...</th>\n",
              "      <th>V20</th>\n",
              "      <th>V21</th>\n",
              "      <th>V22</th>\n",
              "      <th>V23</th>\n",
              "      <th>V24</th>\n",
              "      <th>V25</th>\n",
              "      <th>V26</th>\n",
              "      <th>V27</th>\n",
              "      <th>V28</th>\n",
              "      <th>Amount</th>\n",
              "    </tr>\n",
              "  </thead>\n",
              "  <tbody>\n",
              "    <tr>\n",
              "      <th>0</th>\n",
              "      <td>0.510209</td>\n",
              "      <td>-0.037711</td>\n",
              "      <td>1.533052</td>\n",
              "      <td>1.364386</td>\n",
              "      <td>1.365863</td>\n",
              "      <td>1.265051</td>\n",
              "      <td>1.248922</td>\n",
              "      <td>1.184554</td>\n",
              "      <td>1.087182</td>\n",
              "      <td>1.090120</td>\n",
              "      <td>...</td>\n",
              "      <td>0.479415</td>\n",
              "      <td>-0.244902</td>\n",
              "      <td>0.450082</td>\n",
              "      <td>-0.607824</td>\n",
              "      <td>-0.500487</td>\n",
              "      <td>0.516938</td>\n",
              "      <td>0.401964</td>\n",
              "      <td>-0.370998</td>\n",
              "      <td>0.039912</td>\n",
              "      <td>0.698692</td>\n",
              "    </tr>\n",
              "    <tr>\n",
              "      <th>1</th>\n",
              "      <td>1.118784</td>\n",
              "      <td>-1.300913</td>\n",
              "      <td>1.533056</td>\n",
              "      <td>1.060768</td>\n",
              "      <td>1.367084</td>\n",
              "      <td>1.284664</td>\n",
              "      <td>1.248932</td>\n",
              "      <td>1.184929</td>\n",
              "      <td>1.087107</td>\n",
              "      <td>1.090136</td>\n",
              "      <td>...</td>\n",
              "      <td>-0.142709</td>\n",
              "      <td>-0.514281</td>\n",
              "      <td>0.636352</td>\n",
              "      <td>-0.624563</td>\n",
              "      <td>-0.551677</td>\n",
              "      <td>0.517290</td>\n",
              "      <td>0.335861</td>\n",
              "      <td>-0.382681</td>\n",
              "      <td>0.091589</td>\n",
              "      <td>0.681268</td>\n",
              "    </tr>\n",
              "    <tr>\n",
              "      <th>2</th>\n",
              "      <td>0.098955</td>\n",
              "      <td>0.368017</td>\n",
              "      <td>1.533012</td>\n",
              "      <td>1.404303</td>\n",
              "      <td>1.363878</td>\n",
              "      <td>1.252277</td>\n",
              "      <td>1.248885</td>\n",
              "      <td>1.183168</td>\n",
              "      <td>1.087127</td>\n",
              "      <td>1.090003</td>\n",
              "      <td>...</td>\n",
              "      <td>0.621713</td>\n",
              "      <td>0.000368</td>\n",
              "      <td>0.364308</td>\n",
              "      <td>-0.508717</td>\n",
              "      <td>-0.370661</td>\n",
              "      <td>0.512385</td>\n",
              "      <td>0.419620</td>\n",
              "      <td>-0.363696</td>\n",
              "      <td>-0.006207</td>\n",
              "      <td>0.723382</td>\n",
              "    </tr>\n",
              "    <tr>\n",
              "      <th>3</th>\n",
              "      <td>-0.062411</td>\n",
              "      <td>-1.010356</td>\n",
              "      <td>1.533054</td>\n",
              "      <td>1.221316</td>\n",
              "      <td>1.366795</td>\n",
              "      <td>1.282603</td>\n",
              "      <td>1.248931</td>\n",
              "      <td>1.180428</td>\n",
              "      <td>1.087393</td>\n",
              "      <td>1.090135</td>\n",
              "      <td>...</td>\n",
              "      <td>0.487579</td>\n",
              "      <td>-0.644373</td>\n",
              "      <td>0.721080</td>\n",
              "      <td>-0.630989</td>\n",
              "      <td>-0.585784</td>\n",
              "      <td>0.516954</td>\n",
              "      <td>0.368747</td>\n",
              "      <td>-0.364869</td>\n",
              "      <td>0.300230</td>\n",
              "      <td>0.698569</td>\n",
              "    </tr>\n",
              "    <tr>\n",
              "      <th>4</th>\n",
              "      <td>0.404423</td>\n",
              "      <td>-0.401513</td>\n",
              "      <td>1.533054</td>\n",
              "      <td>1.366125</td>\n",
              "      <td>1.366835</td>\n",
              "      <td>1.285610</td>\n",
              "      <td>1.248923</td>\n",
              "      <td>1.184297</td>\n",
              "      <td>1.087033</td>\n",
              "      <td>1.090115</td>\n",
              "      <td>...</td>\n",
              "      <td>0.324343</td>\n",
              "      <td>-0.412248</td>\n",
              "      <td>0.454969</td>\n",
              "      <td>-0.606590</td>\n",
              "      <td>-0.459835</td>\n",
              "      <td>0.516152</td>\n",
              "      <td>0.386588</td>\n",
              "      <td>-0.362557</td>\n",
              "      <td>0.010032</td>\n",
              "      <td>0.685057</td>\n",
              "    </tr>\n",
              "  </tbody>\n",
              "</table>\n",
              "<p>5 rows × 29 columns</p>\n",
              "</div>"
            ],
            "text/plain": [
              "         V1        V2        V3        V4        V5        V6        V7  \\\n",
              "0  0.510209 -0.037711  1.533052  1.364386  1.365863  1.265051  1.248922   \n",
              "1  1.118784 -1.300913  1.533056  1.060768  1.367084  1.284664  1.248932   \n",
              "2  0.098955  0.368017  1.533012  1.404303  1.363878  1.252277  1.248885   \n",
              "3 -0.062411 -1.010356  1.533054  1.221316  1.366795  1.282603  1.248931   \n",
              "4  0.404423 -0.401513  1.533054  1.366125  1.366835  1.285610  1.248923   \n",
              "\n",
              "         V8        V9       V10  ...       V20       V21       V22       V23  \\\n",
              "0  1.184554  1.087182  1.090120  ...  0.479415 -0.244902  0.450082 -0.607824   \n",
              "1  1.184929  1.087107  1.090136  ... -0.142709 -0.514281  0.636352 -0.624563   \n",
              "2  1.183168  1.087127  1.090003  ...  0.621713  0.000368  0.364308 -0.508717   \n",
              "3  1.180428  1.087393  1.090135  ...  0.487579 -0.644373  0.721080 -0.630989   \n",
              "4  1.184297  1.087033  1.090115  ...  0.324343 -0.412248  0.454969 -0.606590   \n",
              "\n",
              "        V24       V25       V26       V27       V28    Amount  \n",
              "0 -0.500487  0.516938  0.401964 -0.370998  0.039912  0.698692  \n",
              "1 -0.551677  0.517290  0.335861 -0.382681  0.091589  0.681268  \n",
              "2 -0.370661  0.512385  0.419620 -0.363696 -0.006207  0.723382  \n",
              "3 -0.585784  0.516954  0.368747 -0.364869  0.300230  0.698569  \n",
              "4 -0.459835  0.516152  0.386588 -0.362557  0.010032  0.685057  \n",
              "\n",
              "[5 rows x 29 columns]"
            ]
          },
          "execution_count": 26,
          "metadata": {},
          "output_type": "execute_result"
        }
      ],
      "source": [
        "gen_df = pd.DataFrame(data = gen_samples,\n",
        "                      columns = df.drop('Class',1).columns)\n",
        "gen_df.head()"
      ]
    },
    {
      "cell_type": "code",
      "execution_count": null,
      "metadata": {
        "id": "NBnAP_ofdPMJ",
        "outputId": "2335024f-0b37-4e6b-f4f9-2c8845a8a2f5"
      },
      "outputs": [
        {
          "data": {
            "image/png": "[encoded data removed]",
            "text/plain": [
              "<Figure size 864x288 with 2 Axes>"
            ]
          },
          "metadata": {
            "needs_background": "light"
          },
          "output_type": "display_data"
        }
      ],
      "source": [
        "fig, ax = plt.subplots(nrows=1, ncols=2, figsize=(12,4))\n",
        "ax[0].scatter(df[df['Class']==1]['Amount'], df[df['Class']==1]['V1'])\n",
        "ax[1].scatter(gen_df['Amount'], gen_df['V1'])\n",
        "plt.show()"
      ]
    },
    {
      "cell_type": "code",
      "execution_count": null,
      "metadata": {
        "id": "Z899ISWRdPMJ"
      },
      "outputs": [],
      "source": []
    }
  ],
  "metadata": {
    "kernelspec": {
      "display_name": "Python 3",
      "language": "python",
      "name": "python3"
    },
    "language_info": {
      "codemirror_mode": {
        "name": "ipython",
        "version": 3
      },
      "file_extension": ".py",
      "mimetype": "text/x-python",
      "name": "python",
      "nbconvert_exporter": "python",
      "pygments_lexer": "ipython3",
      "version": "3.6.6"
    },
    "colab": {
      "provenance": [],
      "include_colab_link": true
    }
  },
  "nbformat": 4,
  "nbformat_minor": 0
}