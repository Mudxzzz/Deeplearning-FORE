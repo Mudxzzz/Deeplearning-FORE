{
  "cells": [
    {
      "cell_type": "markdown",
      "metadata": {
        "id": "view-in-github",
        "colab_type": "text"
      },
      "source": [
        "<a href=\"https://colab.research.google.com/github/harnalashok/deeplearning/blob/main/tabular_data_generation_using_gans.ipynb\" target=\"_parent\"><img src=\"https://colab.research.google.com/assets/colab-badge.svg\" alt=\"Open In Colab\"/></a>"
      ]
    },
    {
      "cell_type": "code",
      "execution_count": null,
      "metadata": {
        "id": "3vC69SfvdPL5",
        "outputId": "ab97ca71-049b-4a7c-c685-5f67312ab1a2"
      },
      "outputs": [
        {
          "name": "stdout",
          "output_type": "stream",
          "text": [
            "\u001b[31mERROR: allennlp 0.9.0 requires flaky, which is not installed.\u001b[0m\r\n",
            "\u001b[31mERROR: allennlp 0.9.0 requires responses>=0.7, which is not installed.\u001b[0m\r\n",
            "\u001b[31mERROR: kmeans-smote 0.1.2 has requirement imbalanced-learn<0.5,>=0.4.0, but you'll have imbalanced-learn 0.6.1 which is incompatible.\u001b[0m\r\n",
            "\u001b[31mERROR: kmeans-smote 0.1.2 has requirement numpy<1.16,>=1.13, but you'll have numpy 1.18.1 which is incompatible.\u001b[0m\r\n",
            "\u001b[31mERROR: kmeans-smote 0.1.2 has requirement scikit-learn<0.21,>=0.19.0, but you'll have scikit-learn 0.22.1 which is incompatible.\u001b[0m\r\n",
            "\u001b[31mERROR: hypertools 0.6.2 has requirement scikit-learn<0.22,>=0.19.1, but you'll have scikit-learn 0.22.1 which is incompatible.\u001b[0m\r\n",
            "\u001b[31mERROR: allennlp 0.9.0 has requirement spacy<2.2,>=2.1.0, but you'll have spacy 2.2.3 which is incompatible.\u001b[0m\r\n"
          ]
        }
      ],
      "source": [
        "! pip install -qU scikit-learn"
      ]
    },
    {
      "cell_type": "code",
      "execution_count": null,
      "metadata": {
        "_cell_guid": "b1076dfc-b9ad-4769-8c92-a6c4dae69d19",
        "_uuid": "8f2839f25d086af736a60e9eeb907d3b93b6e0e5",
        "id": "IyBQ4QzNdPL7",
        "outputId": "7bad9bc3-bc9a-4e42-f6aa-5688a99eda43"
      },
      "outputs": [
        {
          "name": "stderr",
          "output_type": "stream",
          "text": [
            "Using TensorFlow backend.\n"
          ]
        }
      ],
      "source": [
        "import numpy as np\n",
        "import pandas as pd\n",
        "import matplotlib.pyplot as plt\n",
        "import seaborn as sns\n",
        "\n",
        "from sklearn.preprocessing import StandardScaler, MinMaxScaler\n",
        "from sklearn.metrics import precision_score, recall_score, f1_score,\\\n",
        "                            accuracy_score, classification_report,\\\n",
        "                            plot_confusion_matrix, confusion_matrix\n",
        "from sklearn.model_selection import KFold, GridSearchCV\n",
        "from sklearn.model_selection import train_test_split\n",
        "from sklearn.linear_model import LogisticRegression\n",
        "from imblearn.over_sampling import SMOTE\n",
        "from imblearn.pipeline import Pipeline\n",
        "\n",
        "import os\n",
        "from collections import Counter\n",
        "\n",
        "np.random.seed(34)\n",
        "path = '/kaggle/input/creditcardfraud/'"
      ]
    },
    {
      "cell_type": "markdown",
      "metadata": {
        "id": "ILISllHbdPL8"
      },
      "source": [
        "# Data Exploration and Cleaning"
      ]
    },
    {
      "cell_type": "code",
      "execution_count": null,
      "metadata": {
        "_cell_guid": "79c7e3d0-c299-4dcb-8224-4455121ee9b0",
        "_uuid": "d629ff2d2480ee46fbb7e2d37f6b5fab8052498a",
        "id": "499e5-H-dPL9",
        "outputId": "53b356f7-bc79-4959-9724-5c2516afeb9f"
      },
      "outputs": [
        {
          "name": "stdout",
          "output_type": "stream",
          "text": [
            "(284807, 30)\n"
          ]
        },
        {
          "data": {
            "text/html": [
              "<div>\n",
              "<style scoped>\n",
              "    .dataframe tbody tr th:only-of-type {\n",
              "        vertical-align: middle;\n",
              "    }\n",
              "\n",
              "    .dataframe tbody tr th {\n",
              "        vertical-align: top;\n",
              "    }\n",
              "\n",
              "    .dataframe thead th {\n",
              "        text-align: right;\n",
              "    }\n",
              "</style>\n",
              "<table border=\"1\" class=\"dataframe\">\n",
              "  <thead>\n",
              "    <tr style=\"text-align: right;\">\n",
              "      <th></th>\n",
              "      <th>V1</th>\n",
              "      <th>V2</th>\n",
              "      <th>V3</th>\n",
              "      <th>V4</th>\n",
              "      <th>V5</th>\n",
              "      <th>V6</th>\n",
              "      <th>V7</th>\n",
              "      <th>V8</th>\n",
              "      <th>V9</th>\n",
              "      <th>V10</th>\n",
              "      <th>...</th>\n",
              "      <th>V21</th>\n",
              "      <th>V22</th>\n",
              "      <th>V23</th>\n",
              "      <th>V24</th>\n",
              "      <th>V25</th>\n",
              "      <th>V26</th>\n",
              "      <th>V27</th>\n",
              "      <th>V28</th>\n",
              "      <th>Amount</th>\n",
              "      <th>Class</th>\n",
              "    </tr>\n",
              "  </thead>\n",
              "  <tbody>\n",
              "    <tr>\n",
              "      <th>0</th>\n",
              "      <td>-1.359807</td>\n",
              "      <td>-0.072781</td>\n",
              "      <td>2.536347</td>\n",
              "      <td>1.378155</td>\n",
              "      <td>-0.338321</td>\n",
              "      <td>0.462388</td>\n",
              "      <td>0.239599</td>\n",
              "      <td>0.098698</td>\n",
              "      <td>0.363787</td>\n",
              "      <td>0.090794</td>\n",
              "      <td>...</td>\n",
              "      <td>-0.018307</td>\n",
              "      <td>0.277838</td>\n",
              "      <td>-0.110474</td>\n",
              "      <td>0.066928</td>\n",
              "      <td>0.128539</td>\n",
              "      <td>-0.189115</td>\n",
              "      <td>0.133558</td>\n",
              "      <td>-0.021053</td>\n",
              "      <td>149.62</td>\n",
              "      <td>0</td>\n",
              "    </tr>\n",
              "    <tr>\n",
              "      <th>1</th>\n",
              "      <td>1.191857</td>\n",
              "      <td>0.266151</td>\n",
              "      <td>0.166480</td>\n",
              "      <td>0.448154</td>\n",
              "      <td>0.060018</td>\n",
              "      <td>-0.082361</td>\n",
              "      <td>-0.078803</td>\n",
              "      <td>0.085102</td>\n",
              "      <td>-0.255425</td>\n",
              "      <td>-0.166974</td>\n",
              "      <td>...</td>\n",
              "      <td>-0.225775</td>\n",
              "      <td>-0.638672</td>\n",
              "      <td>0.101288</td>\n",
              "      <td>-0.339846</td>\n",
              "      <td>0.167170</td>\n",
              "      <td>0.125895</td>\n",
              "      <td>-0.008983</td>\n",
              "      <td>0.014724</td>\n",
              "      <td>2.69</td>\n",
              "      <td>0</td>\n",
              "    </tr>\n",
              "    <tr>\n",
              "      <th>2</th>\n",
              "      <td>-1.358354</td>\n",
              "      <td>-1.340163</td>\n",
              "      <td>1.773209</td>\n",
              "      <td>0.379780</td>\n",
              "      <td>-0.503198</td>\n",
              "      <td>1.800499</td>\n",
              "      <td>0.791461</td>\n",
              "      <td>0.247676</td>\n",
              "      <td>-1.514654</td>\n",
              "      <td>0.207643</td>\n",
              "      <td>...</td>\n",
              "      <td>0.247998</td>\n",
              "      <td>0.771679</td>\n",
              "      <td>0.909412</td>\n",
              "      <td>-0.689281</td>\n",
              "      <td>-0.327642</td>\n",
              "      <td>-0.139097</td>\n",
              "      <td>-0.055353</td>\n",
              "      <td>-0.059752</td>\n",
              "      <td>378.66</td>\n",
              "      <td>0</td>\n",
              "    </tr>\n",
              "    <tr>\n",
              "      <th>3</th>\n",
              "      <td>-0.966272</td>\n",
              "      <td>-0.185226</td>\n",
              "      <td>1.792993</td>\n",
              "      <td>-0.863291</td>\n",
              "      <td>-0.010309</td>\n",
              "      <td>1.247203</td>\n",
              "      <td>0.237609</td>\n",
              "      <td>0.377436</td>\n",
              "      <td>-1.387024</td>\n",
              "      <td>-0.054952</td>\n",
              "      <td>...</td>\n",
              "      <td>-0.108300</td>\n",
              "      <td>0.005274</td>\n",
              "      <td>-0.190321</td>\n",
              "      <td>-1.175575</td>\n",
              "      <td>0.647376</td>\n",
              "      <td>-0.221929</td>\n",
              "      <td>0.062723</td>\n",
              "      <td>0.061458</td>\n",
              "      <td>123.50</td>\n",
              "      <td>0</td>\n",
              "    </tr>\n",
              "    <tr>\n",
              "      <th>4</th>\n",
              "      <td>-1.158233</td>\n",
              "      <td>0.877737</td>\n",
              "      <td>1.548718</td>\n",
              "      <td>0.403034</td>\n",
              "      <td>-0.407193</td>\n",
              "      <td>0.095921</td>\n",
              "      <td>0.592941</td>\n",
              "      <td>-0.270533</td>\n",
              "      <td>0.817739</td>\n",
              "      <td>0.753074</td>\n",
              "      <td>...</td>\n",
              "      <td>-0.009431</td>\n",
              "      <td>0.798278</td>\n",
              "      <td>-0.137458</td>\n",
              "      <td>0.141267</td>\n",
              "      <td>-0.206010</td>\n",
              "      <td>0.502292</td>\n",
              "      <td>0.219422</td>\n",
              "      <td>0.215153</td>\n",
              "      <td>69.99</td>\n",
              "      <td>0</td>\n",
              "    </tr>\n",
              "  </tbody>\n",
              "</table>\n",
              "<p>5 rows × 30 columns</p>\n",
              "</div>"
            ],
            "text/plain": [
              "         V1        V2        V3        V4        V5        V6        V7  \\\n",
              "0 -1.359807 -0.072781  2.536347  1.378155 -0.338321  0.462388  0.239599   \n",
              "1  1.191857  0.266151  0.166480  0.448154  0.060018 -0.082361 -0.078803   \n",
              "2 -1.358354 -1.340163  1.773209  0.379780 -0.503198  1.800499  0.791461   \n",
              "3 -0.966272 -0.185226  1.792993 -0.863291 -0.010309  1.247203  0.237609   \n",
              "4 -1.158233  0.877737  1.548718  0.403034 -0.407193  0.095921  0.592941   \n",
              "\n",
              "         V8        V9       V10  ...       V21       V22       V23       V24  \\\n",
              "0  0.098698  0.363787  0.090794  ... -0.018307  0.277838 -0.110474  0.066928   \n",
              "1  0.085102 -0.255425 -0.166974  ... -0.225775 -0.638672  0.101288 -0.339846   \n",
              "2  0.247676 -1.514654  0.207643  ...  0.247998  0.771679  0.909412 -0.689281   \n",
              "3  0.377436 -1.387024 -0.054952  ... -0.108300  0.005274 -0.190321 -1.175575   \n",
              "4 -0.270533  0.817739  0.753074  ... -0.009431  0.798278 -0.137458  0.141267   \n",
              "\n",
              "        V25       V26       V27       V28  Amount  Class  \n",
              "0  0.128539 -0.189115  0.133558 -0.021053  149.62      0  \n",
              "1  0.167170  0.125895 -0.008983  0.014724    2.69      0  \n",
              "2 -0.327642 -0.139097 -0.055353 -0.059752  378.66      0  \n",
              "3  0.647376 -0.221929  0.062723  0.061458  123.50      0  \n",
              "4 -0.206010  0.502292  0.219422  0.215153   69.99      0  \n",
              "\n",
              "[5 rows x 30 columns]"
            ]
          },
          "execution_count": 3,
          "metadata": {},
          "output_type": "execute_result"
        }
      ],
      "source": [
        "# reading data\n",
        "df = pd.read_csv(f'{path}creditcard.csv')\n",
        "df.drop(\"Time\", 1, inplace=True)\n",
        "print(df.shape)\n",
        "df.head()"
      ]
    },
    {
      "cell_type": "code",
      "execution_count": null,
      "metadata": {
        "id": "z9R30XNxdPL-",
        "outputId": "26749228-e60c-4d9e-802b-e16a1df0a145"
      },
      "outputs": [
        {
          "data": {
            "text/plain": [
              "0    99.827251\n",
              "1     0.172749\n",
              "Name: Class, dtype: float64"
            ]
          },
          "execution_count": 4,
          "metadata": {},
          "output_type": "execute_result"
        }
      ],
      "source": [
        "# High class imbalance\n",
        "df['Class'].value_counts(normalize=True)*100"
      ]
    },
    {
      "cell_type": "code",
      "execution_count": null,
      "metadata": {
        "id": "erB-Uj1gdPL-",
        "outputId": "844bdaf3-042c-4dec-d16e-ac312cc1b77a"
      },
      "outputs": [
        {
          "name": "stdout",
          "output_type": "stream",
          "text": [
            "Number of Null values: 0\n"
          ]
        }
      ],
      "source": [
        "# Checking for Null values\n",
        "print(f\"Number of Null values: {df.isnull().any().sum()}\")"
      ]
    },
    {
      "cell_type": "code",
      "execution_count": null,
      "metadata": {
        "id": "uPi6AskUdPL_",
        "outputId": "781b0ca6-16d7-4c6c-c12e-3344a601c4c2"
      },
      "outputs": [
        {
          "name": "stdout",
          "output_type": "stream",
          "text": [
            "Dataset has 9144 duplicate rows\n"
          ]
        }
      ],
      "source": [
        "# checking for duplicate values\n",
        "print(f\"Dataset has {df.duplicated().sum()} duplicate rows\")\n",
        "# dropping duplicate rows\n",
        "df.drop_duplicates(inplace=True)"
      ]
    },
    {
      "cell_type": "code",
      "execution_count": null,
      "metadata": {
        "id": "qG1qFcqLdPL_",
        "outputId": "a1421156-d125-4630-fec1-66b1500fe34e"
      },
      "outputs": [
        {
          "data": {
            "image/png": "[encoded data removed]",
            "text/plain": [
              "<Figure size 1008x288 with 1 Axes>"
            ]
          },
          "metadata": {
            "needs_background": "light"
          },
          "output_type": "display_data"
        }
      ],
      "source": [
        "# high skweness in Amount feature\n",
        "plt.figure(figsize=(14,4))\n",
        "df['Amount'].value_counts().head(50).plot(kind='bar')\n",
        "plt.show()"
      ]
    },
    {
      "cell_type": "code",
      "execution_count": null,
      "metadata": {
        "id": "uHFOhfR5dPMA",
        "outputId": "ee33f9c2-a79b-45bd-e1fd-98564cca96c4"
      },
      "outputs": [
        {
          "data": {
            "text/plain": [
              "V1        -3.273070\n",
              "V2        -4.653486\n",
              "V3        -2.216730\n",
              "V4         0.681387\n",
              "V5        -2.458790\n",
              "V6         1.867576\n",
              "V7         2.877722\n",
              "V8        -8.292631\n",
              "V9         0.550965\n",
              "V10        1.242165\n",
              "V11        0.347772\n",
              "V12       -2.208171\n",
              "V13        0.061058\n",
              "V14       -1.953613\n",
              "V15       -0.295836\n",
              "V16       -1.048371\n",
              "V17       -3.802987\n",
              "V18       -0.255710\n",
              "V19        0.115957\n",
              "V20       -2.045060\n",
              "V21        2.784302\n",
              "V22       -0.200868\n",
              "V23       -5.805236\n",
              "V24       -0.545636\n",
              "V25       -0.408260\n",
              "V26        0.587603\n",
              "V27       -0.745732\n",
              "V28       11.400938\n",
              "Amount    16.841622\n",
              "dtype: float64"
            ]
          },
          "execution_count": 8,
          "metadata": {},
          "output_type": "execute_result"
        }
      ],
      "source": [
        "# checking skewness of other columns\n",
        "df.drop('Class',1).skew()"
      ]
    },
    {
      "cell_type": "code",
      "execution_count": null,
      "metadata": {
        "id": "Qm2WJtKTdPMB",
        "outputId": "d59b54d1-6f91-47ec-cb74-bf82bc305b9c"
      },
      "outputs": [
        {
          "name": "stdout",
          "output_type": "stream",
          "text": [
            "Skew value of V7 after log transform: -14.073605361284569\n",
            "Skew value of V21 after log transform: -19.018195679862643\n",
            "Skew value of V28 after log transform: -11.293087825590753\n",
            "Skew value of Amount after log transform: 0.1393219585866376\n"
          ]
        }
      ],
      "source": [
        "# taking log transform of high positively skewed features\n",
        "skew_cols = df.drop('Class', 1).skew().loc[lambda x: x>2].index\n",
        "for col in skew_cols:\n",
        "    lower_lim = abs(df[col].min())\n",
        "    normal_col = df[col].apply(lambda x: np.log10(x+lower_lim+1))\n",
        "    print(f\"Skew value of {col} after log transform: {normal_col.skew()}\")"
      ]
    },
    {
      "cell_type": "code",
      "execution_count": null,
      "metadata": {
        "id": "ZkoB1uZ7dPMC"
      },
      "outputs": [],
      "source": [
        "# Only applying log transform to Amount feature\n",
        "df['Amount'] = df['Amount'].apply(lambda x: np.log10(x+1))"
      ]
    },
    {
      "cell_type": "code",
      "execution_count": null,
      "metadata": {
        "id": "5a6NSDsydPMC",
        "outputId": "e0fa24d6-f991-43e7-c821-1a81e7db3b7a"
      },
      "outputs": [
        {
          "name": "stdout",
          "output_type": "stream",
          "text": [
            "(275663, 29) (275663,)\n"
          ]
        }
      ],
      "source": [
        "scaler = StandardScaler()\n",
        "#scaler = MinMaxScaler()\n",
        "X = scaler.fit_transform(df.drop('Class', 1))\n",
        "y = df['Class'].values\n",
        "print(X.shape, y.shape)"
      ]
    },
    {
      "cell_type": "code",
      "execution_count": null,
      "metadata": {
        "id": "6eQVThw5dPMD"
      },
      "outputs": [],
      "source": [
        "X_train, X_test, y_train, y_test = train_test_split(X, y, test_size=0.1, stratify=y)"
      ]
    },
    {
      "cell_type": "markdown",
      "metadata": {
        "id": "dwr0IZSGdPMD"
      },
      "source": [
        "# Training a Baseline Model"
      ]
    },
    {
      "cell_type": "code",
      "execution_count": null,
      "metadata": {
        "id": "pW9GcrogdPME",
        "outputId": "b46244c2-65b7-407e-c6eb-cb1713fa768d"
      },
      "outputs": [
        {
          "name": "stdout",
          "output_type": "stream",
          "text": [
            "              precision    recall  f1-score   support\n",
            "\n",
            "           0       1.00      1.00      1.00     27520\n",
            "           1       0.81      0.64      0.71        47\n",
            "\n",
            "    accuracy                           1.00     27567\n",
            "   macro avg       0.91      0.82      0.86     27567\n",
            "weighted avg       1.00      1.00      1.00     27567\n",
            "\n"
          ]
        },
        {
          "data": {
            "image/png": "[encoded data removed]",
            "text/plain": [
              "<Figure size 432x288 with 2 Axes>"
            ]
          },
          "metadata": {
            "needs_background": "light"
          },
          "output_type": "display_data"
        }
      ],
      "source": [
        "# simple linear regression\n",
        "linear_model = LogisticRegression()\n",
        "linear_model.fit(X_train, y_train)\n",
        "\n",
        "y_pred = linear_model.predict(X_test)\n",
        "\n",
        "# evaluation\n",
        "print(classification_report(y_test, y_pred))\n",
        "plot_confusion_matrix(linear_model, X_test, y_test)\n",
        "plt.show()"
      ]
    },
    {
      "cell_type": "markdown",
      "metadata": {
        "id": "e9WUQLGMdPME"
      },
      "source": [
        "# Using weighted regression to improve accuracy"
      ]
    },
    {
      "cell_type": "code",
      "execution_count": null,
      "metadata": {
        "id": "FIevHk-9dPME",
        "outputId": "9c682bf1-bc9c-4f52-aeba-fc62fd3d94d1"
      },
      "outputs": [
        {
          "name": "stdout",
          "output_type": "stream",
          "text": [
            "Best parameters : {'class_weight': {0: 0.11428571428571428, 1: 0.8857142857142857}}\n"
          ]
        }
      ],
      "source": [
        "weights = np.linspace(0.05, 0.95, 15)\n",
        "\n",
        "gscv = GridSearchCV(\n",
        "    estimator=LogisticRegression(),\n",
        "    param_grid={\n",
        "        'class_weight': [{0: x, 1: 1.0-x} for x in weights]\n",
        "    },\n",
        "    scoring='f1',\n",
        "    cv=3\n",
        ")\n",
        "grid_res = gscv.fit(X, y)\n",
        "\n",
        "print(\"Best parameters : %s\" % grid_res.best_params_)"
      ]
    },
    {
      "cell_type": "code",
      "execution_count": null,
      "metadata": {
        "id": "-63gE9oadPME",
        "outputId": "e26cb06d-dcb8-48a9-e8a2-2c49c5856d43"
      },
      "outputs": [
        {
          "data": {
            "image/png": "[encoded data removed]",
            "text/plain": [
              "<Figure size 432x288 with 1 Axes>"
            ]
          },
          "metadata": {
            "needs_background": "light"
          },
          "output_type": "display_data"
        }
      ],
      "source": [
        "# plotting F1 scores\n",
        "plt.plot(weights, grid_res.cv_results_['mean_test_score'], marker='o')\n",
        "plt.grid()\n",
        "plt.show()"
      ]
    },
    {
      "cell_type": "code",
      "execution_count": null,
      "metadata": {
        "id": "CYuG5t7DdPMF",
        "outputId": "f0cfc095-26c1-48f6-efe0-c25f19459274"
      },
      "outputs": [
        {
          "name": "stdout",
          "output_type": "stream",
          "text": [
            "              precision    recall  f1-score   support\n",
            "\n",
            "           0       1.00      1.00      1.00     27520\n",
            "           1       0.73      0.85      0.78        47\n",
            "\n",
            "    accuracy                           1.00     27567\n",
            "   macro avg       0.86      0.93      0.89     27567\n",
            "weighted avg       1.00      1.00      1.00     27567\n",
            "\n"
          ]
        },
        {
          "data": {
            "image/png": "[encoded data removed]",
            "text/plain": [
              "<Figure size 432x288 with 2 Axes>"
            ]
          },
          "metadata": {
            "needs_background": "light"
          },
          "output_type": "display_data"
        }
      ],
      "source": [
        "# training with best weights\n",
        "wlr = LogisticRegression(**grid_res.best_params_)\n",
        "wlr.fit(X_train, y_train)\n",
        "\n",
        "y_pred = wlr.predict(X_test)\n",
        "\n",
        "# evaluation\n",
        "print(classification_report(y_test, y_pred))\n",
        "plot_confusion_matrix(wlr, X_test, y_test)\n",
        "plt.show()"
      ]
    },
    {
      "cell_type": "markdown",
      "metadata": {
        "id": "hrcF7nbDdPMF"
      },
      "source": [
        "**Slight improvement when using weighted regression**"
      ]
    },
    {
      "cell_type": "markdown",
      "metadata": {
        "id": "cbZIiF_wdPMF"
      },
      "source": [
        "# Using SMOTE for upsampling"
      ]
    },
    {
      "cell_type": "code",
      "execution_count": null,
      "metadata": {
        "id": "7gzw0D-PdPMF",
        "outputId": "f1f7a394-7494-49b5-c5a3-e1e35a31367d"
      },
      "outputs": [
        {
          "name": "stdout",
          "output_type": "stream",
          "text": [
            "              precision    recall  f1-score   support\n",
            "\n",
            "           0       1.00      0.97      0.99     27520\n",
            "           1       0.06      0.96      0.11        47\n",
            "\n",
            "    accuracy                           0.97     27567\n",
            "   macro avg       0.53      0.97      0.55     27567\n",
            "weighted avg       1.00      0.97      0.98     27567\n",
            "\n"
          ]
        },
        {
          "data": {
            "image/png": "[encoded data removed]",
            "text/plain": [
              "<Figure size 432x288 with 2 Axes>"
            ]
          },
          "metadata": {
            "needs_background": "light"
          },
          "output_type": "display_data"
        }
      ],
      "source": [
        "# constructing pipeline\n",
        "pipe = Pipeline([\n",
        "        ('smote', SMOTE()),\n",
        "        ('lr', LogisticRegression())\n",
        "])\n",
        "# training model with smote samples\n",
        "pipe.fit(X_train, y_train)\n",
        "\n",
        "y_pred = pipe.predict(X_test)\n",
        "\n",
        "# evaluation\n",
        "print(classification_report(y_test, y_pred))\n",
        "sns.heatmap(confusion_matrix(y_test, y_pred),annot=True)\n",
        "plt.show()"
      ]
    },
    {
      "cell_type": "markdown",
      "metadata": {
        "id": "bwIDsA6qdPMG"
      },
      "source": [
        "**Poor F1 score even when using SMOTE**"
      ]
    },
    {
      "cell_type": "markdown",
      "metadata": {
        "id": "s2GydQjGdPMG"
      },
      "source": [
        "# Grid Search on SMOTE and Regression"
      ]
    },
    {
      "cell_type": "code",
      "execution_count": null,
      "metadata": {
        "id": "WMqR0zCsdPMG",
        "outputId": "1c88c53b-de8c-4f27-db56-5e67fba497f1"
      },
      "outputs": [
        {
          "name": "stdout",
          "output_type": "stream",
          "text": [
            "Best parameters : {'lr__class_weight': {0: 0.95, 1: 0.050000000000000044}, 'smote__sampling_strategy': 0.2666666666666667}\n"
          ]
        }
      ],
      "source": [
        "pipe = Pipeline([\n",
        "        ('smote', SMOTE()),\n",
        "        ('lr', LogisticRegression())\n",
        "])\n",
        "sm_ratio = np.linspace(0.2, 0.8, 10)\n",
        "lr_weights = np.linspace(0.05, 0.95, 10)\n",
        "\n",
        "gscv = GridSearchCV(\n",
        "    estimator=pipe,\n",
        "    param_grid={\n",
        "        'smote__sampling_strategy': sm_ratio,\n",
        "        'lr__class_weight': [{0: x, 1: 1.0-x} for x in lr_weights]\n",
        "    },\n",
        "    scoring='f1',\n",
        "    cv=3\n",
        ")\n",
        "grid_result = gscv.fit(X, y)\n",
        "\n",
        "print(\"Best parameters : %s\" % grid_result.best_params_)"
      ]
    },
    {
      "cell_type": "code",
      "execution_count": null,
      "metadata": {
        "id": "Gf-T5AbldPMG",
        "outputId": "cb023d31-8dca-4711-86d8-502416c76fa2"
      },
      "outputs": [
        {
          "data": {
            "image/png": "[encoded data removed]",
            "text/plain": [
              "<Figure size 576x576 with 2 Axes>"
            ]
          },
          "metadata": {
            "needs_background": "light"
          },
          "output_type": "display_data"
        }
      ],
      "source": [
        "df_gs = pd.DataFrame(data=grid_result.cv_results_['mean_test_score'].reshape(10,10),\n",
        "                     index=np.around(sm_ratio[::-1], 2),\n",
        "                     columns=np.around(lr_weights[::-1], 2))\n",
        "plt.figure(figsize=(8,8))\n",
        "sns.heatmap(df_gs,\n",
        "            annot=True,\n",
        "            linewidths=.5)\n",
        "plt.show()"
      ]
    },
    {
      "cell_type": "code",
      "execution_count": null,
      "metadata": {
        "id": "yRZrYiNCdPMH",
        "outputId": "a2257b51-b7ab-413a-9cdf-bc0802f07a8e"
      },
      "outputs": [
        {
          "name": "stdout",
          "output_type": "stream",
          "text": [
            "              precision    recall  f1-score   support\n",
            "\n",
            "           0       1.00      1.00      1.00     27520\n",
            "           1       0.75      0.85      0.80        47\n",
            "\n",
            "    accuracy                           1.00     27567\n",
            "   macro avg       0.88      0.93      0.90     27567\n",
            "weighted avg       1.00      1.00      1.00     27567\n",
            "\n"
          ]
        },
        {
          "data": {
            "image/png": "[encoded data removed]",
            "text/plain": [
              "<Figure size 432x288 with 2 Axes>"
            ]
          },
          "metadata": {
            "needs_background": "light"
          },
          "output_type": "display_data"
        }
      ],
      "source": [
        "# training with best weights\n",
        "pipe = Pipeline([\n",
        "        ('smote', SMOTE(sampling_strategy= 0.2)),\n",
        "        ('lr', LogisticRegression(class_weight={0: 0.95, 1: 0.05}))\n",
        "])\n",
        "pipe.fit(X_train, y_train)\n",
        "\n",
        "y_pred = pipe.predict(X_test)\n",
        "\n",
        "# evaluation\n",
        "print(classification_report(y_test, y_pred))\n",
        "sns.heatmap(confusion_matrix(y_test, y_pred),annot=True)\n",
        "plt.show()"
      ]
    },
    {
      "cell_type": "markdown",
      "metadata": {
        "id": "BtidEsehdPMH"
      },
      "source": [
        "**Using SMOTE with weighted regression improves results**"
      ]
    },
    {
      "cell_type": "markdown",
      "metadata": {
        "id": "1rMAlJ3gdPMH"
      },
      "source": [
        "# Using GANs to generate new data"
      ]
    },
    {
      "cell_type": "code",
      "execution_count": null,
      "metadata": {
        "id": "yZKD4UVIdPMH"
      },
      "outputs": [],
      "source": [
        "from tensorflow.keras.layers import Input, Dense, Reshape, Flatten, Dropout, multiply, Concatenate\n",
        "from tensorflow.keras.layers import BatchNormalization, Activation, Embedding, ZeroPadding2D, LeakyReLU\n",
        "from tensorflow.keras.models import Sequential, Model\n",
        "from tensorflow.keras.optimizers import Adam, RMSprop\n",
        "from tensorflow.keras.initializers import RandomNormal\n",
        "import tensorflow.keras.backend as K\n",
        "from sklearn.utils import shuffle"
      ]
    },
    {
      "cell_type": "code",
      "execution_count": null,
      "metadata": {
        "id": "sZ5AE_lMdPMH"
      },
      "outputs": [],
      "source": [
        "class cGAN():\n",
        "    def __init__(self):\n",
        "        self.latent_dim = 32\n",
        "        self.out_shape = 29\n",
        "        self.num_classes = 2\n",
        "        self.clip_value = 0.01\n",
        "        optimizer = Adam(0.0002, 0.5)\n",
        "        #optimizer = RMSprop(lr=0.00005)\n",
        "\n",
        "        # build discriminator\n",
        "        self.discriminator = self.build_discriminator()\n",
        "        self.discriminator.compile(loss=['binary_crossentropy'],\n",
        "                                   optimizer=optimizer,\n",
        "                                   metrics=['accuracy'])\n",
        "\n",
        "        # build generator\n",
        "        self.generator = self.build_generator()\n",
        "\n",
        "        # generating new data samples\n",
        "        noise = Input(shape=(self.latent_dim,))\n",
        "        label = Input(shape=(1,))\n",
        "        gen_samples = self.generator([noise, label])\n",
        "\n",
        "        self.discriminator.trainable = False\n",
        "\n",
        "        # passing gen samples through disc.\n",
        "        valid = self.discriminator([gen_samples, label])\n",
        "\n",
        "        # combining both models\n",
        "        self.combined = Model([noise, label], valid)\n",
        "        self.combined.compile(loss=['binary_crossentropy'],\n",
        "                              optimizer=optimizer,\n",
        "                             metrics=['accuracy'])\n",
        "        self.combined.summary()\n",
        "\n",
        "    def wasserstein_loss(self, y_true, y_pred):\n",
        "        return K.mean(y_true * y_pred)\n",
        "\n",
        "    def build_generator(self):\n",
        "        init = RandomNormal(mean=0.0, stddev=0.02)\n",
        "        model = Sequential()\n",
        "\n",
        "        model.add(Dense(128, input_dim=self.latent_dim))\n",
        "        #model.add(Dropout(0.2))\n",
        "        model.add(LeakyReLU(alpha=0.2))\n",
        "        model.add(BatchNormalization(momentum=0.8))\n",
        "\n",
        "        model.add(Dense(256))\n",
        "        #model.add(Dropout(0.2))\n",
        "        model.add(LeakyReLU(alpha=0.2))\n",
        "        model.add(BatchNormalization(momentum=0.8))\n",
        "\n",
        "        model.add(Dense(512))\n",
        "        #model.add(Dropout(0.2))\n",
        "        model.add(LeakyReLU(alpha=0.2))\n",
        "        model.add(BatchNormalization(momentum=0.8))\n",
        "\n",
        "        model.add(Dense(self.out_shape, activation='tanh'))\n",
        "        model.summary()\n",
        "\n",
        "        noise = Input(shape=(self.latent_dim,))\n",
        "        label = Input(shape=(1,), dtype='int32')\n",
        "        label_embedding = Flatten()(Embedding(self.num_classes, self.latent_dim)(label))\n",
        "\n",
        "        model_input = multiply([noise, label_embedding])\n",
        "        gen_sample = model(model_input)\n",
        "\n",
        "        return Model([noise, label], gen_sample, name=\"Generator\")\n",
        "\n",
        "\n",
        "    def build_discriminator(self):\n",
        "        init = RandomNormal(mean=0.0, stddev=0.02)\n",
        "        model = Sequential()\n",
        "\n",
        "        model.add(Dense(512, input_dim=self.out_shape, kernel_initializer=init))\n",
        "        model.add(LeakyReLU(alpha=0.2))\n",
        "\n",
        "        model.add(Dense(256, kernel_initializer=init))\n",
        "        model.add(LeakyReLU(alpha=0.2))\n",
        "        model.add(Dropout(0.4))\n",
        "\n",
        "        model.add(Dense(128, kernel_initializer=init))\n",
        "        model.add(LeakyReLU(alpha=0.2))\n",
        "        model.add(Dropout(0.4))\n",
        "\n",
        "        model.add(Dense(1, activation='sigmoid'))\n",
        "        model.summary()\n",
        "\n",
        "        gen_sample = Input(shape=(self.out_shape,))\n",
        "        label = Input(shape=(1,), dtype='int32')\n",
        "        label_embedding = Flatten()(Embedding(self.num_classes, self.out_shape)(label))\n",
        "\n",
        "        model_input = multiply([gen_sample, label_embedding])\n",
        "        validity = model(model_input)\n",
        "\n",
        "        return Model(inputs=[gen_sample, label], outputs=validity, name=\"Discriminator\")\n",
        "\n",
        "\n",
        "    def train(self, X_train, y_train, pos_index, neg_index, epochs, batch_size=32, sample_interval=50):\n",
        "\n",
        "        # Adversarial ground truths\n",
        "        valid = np.ones((batch_size, 1))\n",
        "        fake = np.zeros((batch_size, 1))\n",
        "\n",
        "        for epoch in range(epochs):\n",
        "\n",
        "            #  Train Discriminator with 8 sample from postivite class and rest with negative class\n",
        "            idx1 = np.random.choice(pos_index, 8)\n",
        "            idx0 = np.random.choice(neg_index, batch_size-8)\n",
        "            idx = np.concatenate((idx1, idx0))\n",
        "            samples, labels = X_train[idx], y_train[idx]\n",
        "            samples, labels = shuffle(samples, labels)\n",
        "            # Sample noise as generator input\n",
        "            noise = np.random.normal(0, 1, (batch_size, self.latent_dim))\n",
        "\n",
        "            # Generate a half batch of new images\n",
        "            gen_samples = self.generator.predict([noise, labels])\n",
        "\n",
        "            # label smoothing\n",
        "            if epoch < epochs//1.5:\n",
        "                valid_smooth = (valid+0.1)-(np.random.random(valid.shape)*0.1)\n",
        "                fake_smooth = (fake-0.1)+(np.random.random(fake.shape)*0.1)\n",
        "            else:\n",
        "                valid_smooth = valid\n",
        "                fake_smooth = fake\n",
        "\n",
        "            # Train the discriminator\n",
        "            self.discriminator.trainable = True\n",
        "            d_loss_real = self.discriminator.train_on_batch([samples, labels], valid_smooth)\n",
        "            d_loss_fake = self.discriminator.train_on_batch([gen_samples, labels], fake_smooth)\n",
        "            d_loss = 0.5 * np.add(d_loss_real, d_loss_fake)\n",
        "\n",
        "            # Train Generator\n",
        "            # Condition on labels\n",
        "            self.discriminator.trainable = False\n",
        "            sampled_labels = np.random.randint(0, 2, batch_size).reshape(-1, 1)\n",
        "            # Train the generator\n",
        "            g_loss = self.combined.train_on_batch([noise, sampled_labels], valid)\n",
        "\n",
        "            # Plot the progress\n",
        "            if (epoch+1)%sample_interval==0:\n",
        "                print (f\"{epoch} [D loss: {d_loss[0]}, acc.: {100*d_loss[1]}] [G loss: {g_loss}]\")"
      ]
    },
    {
      "cell_type": "code",
      "execution_count": null,
      "metadata": {
        "id": "UkMV7qYDdPMI",
        "outputId": "743c9994-edf5-4195-ec35-c6cbe550c663"
      },
      "outputs": [
        {
          "name": "stdout",
          "output_type": "stream",
          "text": [
            "Model: \"sequential\"\n",
            "_________________________________________________________________\n",
            "Layer (type)                 Output Shape              Param #   \n",
            "=================================================================\n",
            "dense (Dense)                (None, 512)               15360     \n",
            "_________________________________________________________________\n",
            "leaky_re_lu (LeakyReLU)      (None, 512)               0         \n",
            "_________________________________________________________________\n",
            "dense_1 (Dense)              (None, 256)               131328    \n",
            "_________________________________________________________________\n",
            "leaky_re_lu_1 (LeakyReLU)    (None, 256)               0         \n",
            "_________________________________________________________________\n",
            "dropout (Dropout)            (None, 256)               0         \n",
            "_________________________________________________________________\n",
            "dense_2 (Dense)              (None, 128)               32896     \n",
            "_________________________________________________________________\n",
            "leaky_re_lu_2 (LeakyReLU)    (None, 128)               0         \n",
            "_________________________________________________________________\n",
            "dropout_1 (Dropout)          (None, 128)               0         \n",
            "_________________________________________________________________\n",
            "dense_3 (Dense)              (None, 1)                 129       \n",
            "=================================================================\n",
            "Total params: 179,713\n",
            "Trainable params: 179,713\n",
            "Non-trainable params: 0\n",
            "_________________________________________________________________\n",
            "Model: \"sequential_1\"\n",
            "_________________________________________________________________\n",
            "Layer (type)                 Output Shape              Param #   \n",
            "=================================================================\n",
            "dense_4 (Dense)              (None, 128)               4224      \n",
            "_________________________________________________________________\n",
            "leaky_re_lu_3 (LeakyReLU)    (None, 128)               0         \n",
            "_________________________________________________________________\n",
            "batch_normalization (BatchNo (None, 128)               512       \n",
            "_________________________________________________________________\n",
            "dense_5 (Dense)              (None, 256)               33024     \n",
            "_________________________________________________________________\n",
            "leaky_re_lu_4 (LeakyReLU)    (None, 256)               0         \n",
            "_________________________________________________________________\n",
            "batch_normalization_1 (Batch (None, 256)               1024      \n",
            "_________________________________________________________________\n",
            "dense_6 (Dense)              (None, 512)               131584    \n",
            "_________________________________________________________________\n",
            "leaky_re_lu_5 (LeakyReLU)    (None, 512)               0         \n",
            "_________________________________________________________________\n",
            "batch_normalization_2 (Batch (None, 512)               2048      \n",
            "_________________________________________________________________\n",
            "dense_7 (Dense)              (None, 29)                14877     \n",
            "=================================================================\n",
            "Total params: 187,293\n",
            "Trainable params: 185,501\n",
            "Non-trainable params: 1,792\n",
            "_________________________________________________________________\n",
            "Model: \"model\"\n",
            "__________________________________________________________________________________________________\n",
            "Layer (type)                    Output Shape         Param #     Connected to                     \n",
            "==================================================================================================\n",
            "input_5 (InputLayer)            [(None, 32)]         0                                            \n",
            "__________________________________________________________________________________________________\n",
            "input_6 (InputLayer)            [(None, 1)]          0                                            \n",
            "__________________________________________________________________________________________________\n",
            "Generator (Model)               (None, 29)           187357      input_5[0][0]                    \n",
            "                                                                 input_6[0][0]                    \n",
            "__________________________________________________________________________________________________\n",
            "Discriminator (Model)           (None, 1)            179771      Generator[1][0]                  \n",
            "                                                                 input_6[0][0]                    \n",
            "==================================================================================================\n",
            "Total params: 367,128\n",
            "Trainable params: 185,565\n",
            "Non-trainable params: 181,563\n",
            "__________________________________________________________________________________________________\n"
          ]
        }
      ],
      "source": [
        "cgan = cGAN()"
      ]
    },
    {
      "cell_type": "code",
      "execution_count": null,
      "metadata": {
        "id": "OqhrEwpfdPMI",
        "outputId": "71ced29b-865d-434e-d9c6-59074c7cc9e1"
      },
      "outputs": [
        {
          "name": "stdout",
          "output_type": "stream",
          "text": [
            "49 [D loss: 0.6227707266807556, acc.: 0.0] [G loss: [0.6709709, 0.375]]\n",
            "99 [D loss: 0.30984824895858765, acc.: 0.0] [G loss: [0.76652825, 0.21875]]\n",
            "149 [D loss: -0.6380395889282227, acc.: 0.0] [G loss: [0.9364205, 0.375]]\n",
            "199 [D loss: -7.843636989593506, acc.: 0.0] [G loss: [1.0216454, 0.65625]]\n",
            "249 [D loss: -40.365413665771484, acc.: 0.0] [G loss: [2.550838, 0.375]]\n",
            "299 [D loss: -68.17256927490234, acc.: 0.0] [G loss: [2.883738, 0.5]]\n",
            "349 [D loss: -148.5515594482422, acc.: 0.0] [G loss: [3.126454, 0.5625]]\n",
            "399 [D loss: -202.9923553466797, acc.: 0.0] [G loss: [6.4288263, 0.59375]]\n",
            "449 [D loss: -251.66151428222656, acc.: 0.0] [G loss: [12.650965, 0.4375]]\n",
            "499 [D loss: -248.10122680664062, acc.: 0.0] [G loss: [20.565842, 0.5]]\n",
            "549 [D loss: -772.1979370117188, acc.: 0.0] [G loss: [19.35202, 0.5625]]\n",
            "599 [D loss: -996.6320190429688, acc.: 0.0] [G loss: [18.185678, 0.59375]]\n",
            "649 [D loss: -1487.7041015625, acc.: 0.0] [G loss: [33.569443, 0.46875]]\n",
            "699 [D loss: -3655.150634765625, acc.: 0.0] [G loss: [43.42094, 0.53125]]\n",
            "749 [D loss: -748.1687622070312, acc.: 0.0] [G loss: [68.68025, 0.375]]\n",
            "799 [D loss: -6153.07421875, acc.: 0.0] [G loss: [132.89244, 0.53125]]\n",
            "849 [D loss: -6614.15966796875, acc.: 0.0] [G loss: [88.88538, 0.75]]\n",
            "899 [D loss: -5837.95068359375, acc.: 0.0] [G loss: [194.65764, 0.375]]\n",
            "949 [D loss: -12314.443359375, acc.: 0.0] [G loss: [67.95329, 0.6875]]\n",
            "999 [D loss: -8958.30859375, acc.: 0.0] [G loss: [204.13477, 0.59375]]\n",
            "1049 [D loss: -19477.025390625, acc.: 0.0] [G loss: [284.66333, 0.46875]]\n",
            "1099 [D loss: -8123.66064453125, acc.: 0.0] [G loss: [248.2506, 0.3125]]\n",
            "1149 [D loss: -4380.44921875, acc.: 0.0] [G loss: [144.26764, 0.5]]\n",
            "1199 [D loss: -20652.931640625, acc.: 0.0] [G loss: [244.909, 0.3125]]\n",
            "1249 [D loss: -11023.1669921875, acc.: 0.0] [G loss: [236.89194, 0.5]]\n",
            "1299 [D loss: -16450.640625, acc.: 0.0] [G loss: [245.52948, 0.3125]]\n",
            "1349 [D loss: 393.5737609863281, acc.: 51.5625] [G loss: [357.8791, 0.25]]\n",
            "1399 [D loss: 211.56240844726562, acc.: 67.1875] [G loss: [442.1303, 0.25]]\n",
            "1449 [D loss: 233.32025146484375, acc.: 60.9375] [G loss: [390.9899, 0.34375]]\n",
            "1499 [D loss: 381.5631103515625, acc.: 53.125] [G loss: [436.96613, 0.4375]]\n",
            "1549 [D loss: 297.3331298828125, acc.: 51.5625] [G loss: [647.6487, 0.46875]]\n",
            "1599 [D loss: 356.942626953125, acc.: 60.9375] [G loss: [281.69177, 0.4375]]\n",
            "1649 [D loss: 276.65234375, acc.: 59.375] [G loss: [344.92548, 0.40625]]\n",
            "1699 [D loss: 292.8262634277344, acc.: 57.8125] [G loss: [391.41528, 0.4375]]\n",
            "1749 [D loss: 227.5700225830078, acc.: 57.8125] [G loss: [475.22253, 0.3125]]\n",
            "1799 [D loss: 185.28543090820312, acc.: 70.3125] [G loss: [384.73904, 0.3125]]\n",
            "1849 [D loss: 244.0868682861328, acc.: 57.8125] [G loss: [626.6316, 0.15625]]\n",
            "1899 [D loss: 266.4151611328125, acc.: 64.0625] [G loss: [331.27798, 0.4375]]\n",
            "1949 [D loss: 379.518310546875, acc.: 54.6875] [G loss: [208.88452, 0.6875]]\n",
            "1999 [D loss: 323.9017333984375, acc.: 50.0] [G loss: [325.6612, 0.375]]\n"
          ]
        }
      ],
      "source": [
        "y_train = y_train.reshape(-1,1)\n",
        "pos_index = np.where(y_train==1)[0]\n",
        "neg_index = np.where(y_train==0)[0]\n",
        "cgan.train(X_train, y_train, pos_index, neg_index, epochs=2000)"
      ]
    },
    {
      "cell_type": "code",
      "execution_count": null,
      "metadata": {
        "id": "t0fT31t3dPMI",
        "outputId": "930b493d-084e-4f89-cfa3-9a7db3188311"
      },
      "outputs": [
        {
          "name": "stdout",
          "output_type": "stream",
          "text": [
            "(400, 29)\n"
          ]
        }
      ],
      "source": [
        "# generating new samples\n",
        "noise = np.random.normal(0, 1, (400, 32))\n",
        "sampled_labels = np.ones(400).reshape(-1, 1)\n",
        "\n",
        "gen_samples = cgan.generator.predict([noise, sampled_labels])\n",
        "gen_samples = scaler.inverse_transform(gen_samples)\n",
        "print(gen_samples.shape)"
      ]
    },
    {
      "cell_type": "code",
      "execution_count": null,
      "metadata": {
        "id": "cQIEZmemdPMJ",
        "outputId": "d472a478-76aa-4289-8617-9a0e6095300a"
      },
      "outputs": [
        {
          "data": {
            "text/html": [
              "<div>\n",
              "<style scoped>\n",
              "    .dataframe tbody tr th:only-of-type {\n",
              "        vertical-align: middle;\n",
              "    }\n",
              "\n",
              "    .dataframe tbody tr th {\n",
              "        vertical-align: top;\n",
              "    }\n",
              "\n",
              "    .dataframe thead th {\n",
              "        text-align: right;\n",
              "    }\n",
              "</style>\n",
              "<table border=\"1\" class=\"dataframe\">\n",
              "  <thead>\n",
              "    <tr style=\"text-align: right;\">\n",
              "      <th></th>\n",
              "      <th>V1</th>\n",
              "      <th>V2</th>\n",
              "      <th>V3</th>\n",
              "      <th>V4</th>\n",
              "      <th>V5</th>\n",
              "      <th>V6</th>\n",
              "      <th>V7</th>\n",
              "      <th>V8</th>\n",
              "      <th>V9</th>\n",
              "      <th>V10</th>\n",
              "      <th>...</th>\n",
              "      <th>V20</th>\n",
              "      <th>V21</th>\n",
              "      <th>V22</th>\n",
              "      <th>V23</th>\n",
              "      <th>V24</th>\n",
              "      <th>V25</th>\n",
              "      <th>V26</th>\n",
              "      <th>V27</th>\n",
              "      <th>V28</th>\n",
              "      <th>Amount</th>\n",
              "    </tr>\n",
              "  </thead>\n",
              "  <tbody>\n",
              "    <tr>\n",
              "      <th>0</th>\n",
              "      <td>0.510209</td>\n",
              "      <td>-0.037711</td>\n",
              "      <td>1.533052</td>\n",
              "      <td>1.364386</td>\n",
              "      <td>1.365863</td>\n",
              "      <td>1.265051</td>\n",
              "      <td>1.248922</td>\n",
              "      <td>1.184554</td>\n",
              "      <td>1.087182</td>\n",
              "      <td>1.090120</td>\n",
              "      <td>...</td>\n",
              "      <td>0.479415</td>\n",
              "      <td>-0.244902</td>\n",
              "      <td>0.450082</td>\n",
              "      <td>-0.607824</td>\n",
              "      <td>-0.500487</td>\n",
              "      <td>0.516938</td>\n",
              "      <td>0.401964</td>\n",
              "      <td>-0.370998</td>\n",
              "      <td>0.039912</td>\n",
              "      <td>0.698692</td>\n",
              "    </tr>\n",
              "    <tr>\n",
              "      <th>1</th>\n",
              "      <td>1.118784</td>\n",
              "      <td>-1.300913</td>\n",
              "      <td>1.533056</td>\n",
              "      <td>1.060768</td>\n",
              "      <td>1.367084</td>\n",
              "      <td>1.284664</td>\n",
              "      <td>1.248932</td>\n",
              "      <td>1.184929</td>\n",
              "      <td>1.087107</td>\n",
              "      <td>1.090136</td>\n",
              "      <td>...</td>\n",
              "      <td>-0.142709</td>\n",
              "      <td>-0.514281</td>\n",
              "      <td>0.636352</td>\n",
              "      <td>-0.624563</td>\n",
              "      <td>-0.551677</td>\n",
              "      <td>0.517290</td>\n",
              "      <td>0.335861</td>\n",
              "      <td>-0.382681</td>\n",
              "      <td>0.091589</td>\n",
              "      <td>0.681268</td>\n",
              "    </tr>\n",
              "    <tr>\n",
              "      <th>2</th>\n",
              "      <td>0.098955</td>\n",
              "      <td>0.368017</td>\n",
              "      <td>1.533012</td>\n",
              "      <td>1.404303</td>\n",
              "      <td>1.363878</td>\n",
              "      <td>1.252277</td>\n",
              "      <td>1.248885</td>\n",
              "      <td>1.183168</td>\n",
              "      <td>1.087127</td>\n",
              "      <td>1.090003</td>\n",
              "      <td>...</td>\n",
              "      <td>0.621713</td>\n",
              "      <td>0.000368</td>\n",
              "      <td>0.364308</td>\n",
              "      <td>-0.508717</td>\n",
              "      <td>-0.370661</td>\n",
              "      <td>0.512385</td>\n",
              "      <td>0.419620</td>\n",
              "      <td>-0.363696</td>\n",
              "      <td>-0.006207</td>\n",
              "      <td>0.723382</td>\n",
              "    </tr>\n",
              "    <tr>\n",
              "      <th>3</th>\n",
              "      <td>-0.062411</td>\n",
              "      <td>-1.010356</td>\n",
              "      <td>1.533054</td>\n",
              "      <td>1.221316</td>\n",
              "      <td>1.366795</td>\n",
              "      <td>1.282603</td>\n",
              "      <td>1.248931</td>\n",
              "      <td>1.180428</td>\n",
              "      <td>1.087393</td>\n",
              "      <td>1.090135</td>\n",
              "      <td>...</td>\n",
              "      <td>0.487579</td>\n",
              "      <td>-0.644373</td>\n",
              "      <td>0.721080</td>\n",
              "      <td>-0.630989</td>\n",
              "      <td>-0.585784</td>\n",
              "      <td>0.516954</td>\n",
              "      <td>0.368747</td>\n",
              "      <td>-0.364869</td>\n",
              "      <td>0.300230</td>\n",
              "      <td>0.698569</td>\n",
              "    </tr>\n",
              "    <tr>\n",
              "      <th>4</th>\n",
              "      <td>0.404423</td>\n",
              "      <td>-0.401513</td>\n",
              "      <td>1.533054</td>\n",
              "      <td>1.366125</td>\n",
              "      <td>1.366835</td>\n",
              "      <td>1.285610</td>\n",
              "      <td>1.248923</td>\n",
              "      <td>1.184297</td>\n",
              "      <td>1.087033</td>\n",
              "      <td>1.090115</td>\n",
              "      <td>...</td>\n",
              "      <td>0.324343</td>\n",
              "      <td>-0.412248</td>\n",
              "      <td>0.454969</td>\n",
              "      <td>-0.606590</td>\n",
              "      <td>-0.459835</td>\n",
              "      <td>0.516152</td>\n",
              "      <td>0.386588</td>\n",
              "      <td>-0.362557</td>\n",
              "      <td>0.010032</td>\n",
              "      <td>0.685057</td>\n",
              "    </tr>\n",
              "  </tbody>\n",
              "</table>\n",
              "<p>5 rows × 29 columns</p>\n",
              "</div>"
            ],
            "text/plain": [
              "         V1        V2        V3        V4        V5        V6        V7  \\\n",
              "0  0.510209 -0.037711  1.533052  1.364386  1.365863  1.265051  1.248922   \n",
              "1  1.118784 -1.300913  1.533056  1.060768  1.367084  1.284664  1.248932   \n",
              "2  0.098955  0.368017  1.533012  1.404303  1.363878  1.252277  1.248885   \n",
              "3 -0.062411 -1.010356  1.533054  1.221316  1.366795  1.282603  1.248931   \n",
              "4  0.404423 -0.401513  1.533054  1.366125  1.366835  1.285610  1.248923   \n",
              "\n",
              "         V8        V9       V10  ...       V20       V21       V22       V23  \\\n",
              "0  1.184554  1.087182  1.090120  ...  0.479415 -0.244902  0.450082 -0.607824   \n",
              "1  1.184929  1.087107  1.090136  ... -0.142709 -0.514281  0.636352 -0.624563   \n",
              "2  1.183168  1.087127  1.090003  ...  0.621713  0.000368  0.364308 -0.508717   \n",
              "3  1.180428  1.087393  1.090135  ...  0.487579 -0.644373  0.721080 -0.630989   \n",
              "4  1.184297  1.087033  1.090115  ...  0.324343 -0.412248  0.454969 -0.606590   \n",
              "\n",
              "        V24       V25       V26       V27       V28    Amount  \n",
              "0 -0.500487  0.516938  0.401964 -0.370998  0.039912  0.698692  \n",
              "1 -0.551677  0.517290  0.335861 -0.382681  0.091589  0.681268  \n",
              "2 -0.370661  0.512385  0.419620 -0.363696 -0.006207  0.723382  \n",
              "3 -0.585784  0.516954  0.368747 -0.364869  0.300230  0.698569  \n",
              "4 -0.459835  0.516152  0.386588 -0.362557  0.010032  0.685057  \n",
              "\n",
              "[5 rows x 29 columns]"
            ]
          },
          "execution_count": 26,
          "metadata": {},
          "output_type": "execute_result"
        }
      ],
      "source": [
        "gen_df = pd.DataFrame(data = gen_samples,\n",
        "                      columns = df.drop('Class',1).columns)\n",
        "gen_df.head()"
      ]
    },
    {
      "cell_type": "code",
      "execution_count": null,
      "metadata": {
        "id": "NBnAP_ofdPMJ",
        "outputId": "2335024f-0b37-4e6b-f4f9-2c8845a8a2f5"
      },
      "outputs": [
        {
          "data": {
            "image/png": "[encoded data removed]",
            "text/plain": [
              "<Figure size 864x288 with 2 Axes>"
            ]
          },
          "metadata": {
            "needs_background": "light"
          },
          "output_type": "display_data"
        }
      ],
      "source": [
        "fig, ax = plt.subplots(nrows=1, ncols=2, figsize=(12,4))\n",
        "ax[0].scatter(df[df['Class']==1]['Amount'], df[df['Class']==1]['V1'])\n",
        "ax[1].scatter(gen_df['Amount'], gen_df['V1'])\n",
        "plt.show()"
      ]
    },
    {
      "cell_type": "code",
      "execution_count": null,
      "metadata": {
        "id": "Z899ISWRdPMJ"
      },
      "outputs": [],
      "source": []
    }
  ],
  "metadata": {
    "kernelspec": {
      "display_name": "Python 3",
      "language": "python",
      "name": "python3"
    },
    "language_info": {
      "codemirror_mode": {
        "name": "ipython",
        "version": 3
      },
      "file_extension": ".py",
      "mimetype": "text/x-python",
      "name": "python",
      "nbconvert_exporter": "python",
      "pygments_lexer": "ipython3",
      "version": "3.6.6"
    },
    "colab": {
      "provenance": [],
      "include_colab_link": true
    }
  },
  "nbformat": 4,
  "nbformat_minor": 0
}