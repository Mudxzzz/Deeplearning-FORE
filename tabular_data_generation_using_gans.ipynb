{
  "cells": [
    {
      "cell_type": "markdown",
      "metadata": {
        "id": "view-in-github",
        "colab_type": "text"
      },
      "source": [
        "<a href=\"https://colab.research.google.com/github/harnalashok/deeplearning/blob/main/tabular_data_generation_using_gans.ipynb\" target=\"_parent\"><img src=\"https://colab.research.google.com/assets/colab-badge.svg\" alt=\"Open In Colab\"/></a>"
      ]
    },
    {
      "cell_type": "code",
      "source": [
        "# LAst amended: 7th Oct, 2023\n",
        "# Kaggle ref: https://www.kaggle.com/code/techytushar/tabular-data-generation-using-gans\n"
      ],
      "metadata": {
        "id": "W7clVq780L8m"
      },
      "execution_count": null,
      "outputs": []
    },
    {
      "cell_type": "markdown",
      "source": [
        "## What is label smoothing"
      ],
      "metadata": {
        "id": "1ngqW9SQx3Nc"
      }
    },
    {
      "cell_type": "markdown",
      "source": [
        "Label smoothing:  \n",
        ">\tTurns “hard” class label assignments to “soft” label assignments.  \n",
        ">\tOperates directly on the labels themselves.  \n",
        ">\tIs dead simple to implement.  \n",
        ">\tCan lead to a model that generalizes better.  \n",
        "\n",
        "For example, let’s consider the following image from the MNIST dataset:"
      ],
      "metadata": {
        "id": "oGymUR44yLEz"
      }
    },
    {
      "cell_type": "markdown",
      "source": [
        "![image.png](data:image/png;base64,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)"
      ],
      "metadata": {
        "id": "k1ZR7wHnzGUS"
      }
    },
    {
      "cell_type": "markdown",
      "source": [
        "This digit is clearly a “7”, and if we were to write out the one-hot encoded label vector for this data point it would look like the following:  \n",
        "[0.0, 0.0, 0.0, 0.0, 0.0, 0.0, 0.0, **1.0**, 0.0, 0.0]  \n",
        "This is hard label assignment. Every entry is 0 except for the 8th index. If we were to apply soft label assignment to our one-hot encoded vector above it would now look like this:  \n",
        "[0.01 0.01 0.01 0.01 0.01 0.01 0.01 0.91 0.01 0.01]\n"
      ],
      "metadata": {
        "id": "O8r8-4VtzJAx"
      }
    },
    {
      "cell_type": "markdown",
      "source": [
        "You can perform label smoothing using this formula:\n",
        "\n",
        "> <i>new_labels = original_labels * (1 – label_smoothing) + label_smoothing /  num_classes </i>\n",
        "\n",
        "Example: Imagine you have three classes with label_smoothing factor as 0.3.\n",
        "Then, new_labels according to the above formula will be:  \n",
        "= [0 1 2] * (1– 0.3) + ( 0.3 / 3 )  \n",
        "= [0 1 2] * (0.7 )+ 0.1 = [ 0.1 0.8 1.5 ]    \n",
        "\n",
        "Now, the new labels will be [0.1 0.8 1.5] instead of [0 1 2]"
      ],
      "metadata": {
        "id": "us3iMWGszTpB"
      }
    },
    {
      "cell_type": "code",
      "source": [
        "from google.colab import drive\n",
        "drive.mount('/gdrive')"
      ],
      "metadata": {
        "id": "QWotDA18yMdg",
        "outputId": "27e91a54-582b-45ae-c356-3fbc3943a143",
        "colab": {
          "base_uri": "https://localhost:8080/"
        }
      },
      "execution_count": 1,
      "outputs": [
        {
          "output_type": "stream",
          "name": "stdout",
          "text": [
            "Mounted at /gdrive\n"
          ]
        }
      ]
    },
    {
      "cell_type": "code",
      "execution_count": 2,
      "metadata": {
        "_cell_guid": "b1076dfc-b9ad-4769-8c92-a6c4dae69d19",
        "_uuid": "8f2839f25d086af736a60e9eeb907d3b93b6e0e5",
        "id": "IyBQ4QzNdPL7"
      },
      "outputs": [],
      "source": [
        "import numpy as np\n",
        "import pandas as pd\n",
        "import matplotlib.pyplot as plt\n",
        "import seaborn as sns\n",
        "\n",
        "from sklearn.preprocessing import StandardScaler, MinMaxScaler\n",
        "from sklearn.metrics import precision_score, recall_score, f1_score,\\\n",
        "                            accuracy_score, classification_report,\\\n",
        "                            confusion_matrix\n",
        "\n",
        "from sklearn.model_selection import KFold, GridSearchCV\n",
        "from sklearn.metrics import ConfusionMatrixDisplay\n",
        "from sklearn.model_selection import train_test_split\n",
        "from sklearn.linear_model import LogisticRegression\n",
        "from imblearn.over_sampling import SMOTE\n",
        "from imblearn.pipeline import Pipeline\n",
        "\n",
        "import os\n",
        "from collections import Counter\n",
        "\n",
        "np.random.seed(34)\n"
      ]
    },
    {
      "cell_type": "code",
      "source": [
        "pathToFolder = '/gdrive/MyDrive/Colab_data_files/creditcard/'\n",
        "datafile = 'creditcardfraud.zip'"
      ],
      "metadata": {
        "id": "fNJNWHOYyh7B"
      },
      "execution_count": 3,
      "outputs": []
    },
    {
      "cell_type": "code",
      "source": [
        "from IPython.core.interactiveshell import InteractiveShell\n",
        "InteractiveShell.ast_node_interactivity = \"all\""
      ],
      "metadata": {
        "id": "5ZRJpxgAJkuJ"
      },
      "execution_count": 4,
      "outputs": []
    },
    {
      "cell_type": "markdown",
      "source": [
        "## Transform a sequential model to functional model"
      ],
      "metadata": {
        "id": "xHSfEzjRDjR8"
      }
    },
    {
      "cell_type": "code",
      "source": [
        "## AA\n",
        "# Transform a Sequential model to Functional Model\n",
        "# A sequential model\n",
        "m1 = Sequential()\n",
        "m1.add(Dense(4, activation = 'relu', input_dim = 4))\n",
        "m1.add(Dense(4, activation = 'relu'))\n",
        "\n",
        "# Specify the inputs now:\n",
        "inputs = Input(shape = (4,))\n",
        "# Get the output\n",
        "# The output of our model:\n",
        "s = m1(inputs)\n",
        "\n",
        "# Our final model\n",
        "mx = Model(inputs = inputs, outputs = s)\n",
        "mx.summary()"
      ],
      "metadata": {
        "colab": {
          "base_uri": "https://localhost:8080/"
        },
        "id": "ODyHIU5VDnDE",
        "outputId": "b7f712fa-408a-4be9-ac40-5eee7a9abf34"
      },
      "execution_count": 53,
      "outputs": [
        {
          "output_type": "stream",
          "name": "stdout",
          "text": [
            "Model: \"model_5\"\n",
            "_________________________________________________________________\n",
            " Layer (type)                Output Shape              Param #   \n",
            "=================================================================\n",
            " input_10 (InputLayer)       [(None, 4)]               0         \n",
            "                                                                 \n",
            " sequential_9 (Sequential)   (None, 4)                 40        \n",
            "                                                                 \n",
            "=================================================================\n",
            "Total params: 40 (160.00 Byte)\n",
            "Trainable params: 40 (160.00 Byte)\n",
            "Non-trainable params: 0 (0.00 Byte)\n",
            "_________________________________________________________________\n"
          ]
        }
      ]
    },
    {
      "cell_type": "code",
      "source": [
        "## BB.\n",
        "#  A pure sequential model\n",
        "\n",
        "m = Sequential()\n",
        "m.add(Input(shape = (4)))\n",
        "m.add(Input(shape = (4)))\n",
        "m.add(Dense(4, activation = 'relu'))\n",
        "m.add(Dense(4, activation = 'relu'))\n",
        "m.summary()"
      ],
      "metadata": {
        "colab": {
          "base_uri": "https://localhost:8080/"
        },
        "id": "HD35RWqgEo3-",
        "outputId": "f9a096de-acec-452d-930d-55cb80ad6bb7"
      },
      "execution_count": 59,
      "outputs": [
        {
          "output_type": "stream",
          "name": "stdout",
          "text": [
            "Model: \"sequential_12\"\n",
            "_________________________________________________________________\n",
            " Layer (type)                Output Shape              Param #   \n",
            "=================================================================\n",
            " input_14 (InputLayer)       multiple                  0         \n",
            "                                                                 \n",
            " dense_25 (Dense)            (None, 4)                 20        \n",
            "                                                                 \n",
            " dense_26 (Dense)            (None, 4)                 20        \n",
            "                                                                 \n",
            "=================================================================\n",
            "Total params: 40 (160.00 Byte)\n",
            "Trainable params: 40 (160.00 Byte)\n",
            "Non-trainable params: 0 (0.00 Byte)\n",
            "_________________________________________________________________\n"
          ]
        }
      ]
    },
    {
      "cell_type": "code",
      "source": [
        "plot_model(mx)\n",
        "print(\"=========\")\n",
        "plot_model(m1)\n",
        "print(\"=========\")\n",
        "plot_model(m)\n"
      ],
      "metadata": {
        "colab": {
          "base_uri": "https://localhost:8080/",
          "height": 817
        },
        "id": "glr326i7GRkR",
        "outputId": "852d2583-88ac-41f8-91d6-25d119e7cd68"
      },
      "execution_count": 60,
      "outputs": [
        {
          "output_type": "execute_result",
          "data": {
            "image/png": "[encoded data removed]",
            "text/plain": [
              "<IPython.core.display.Image object>"
            ]
          },
          "metadata": {},
          "execution_count": 60
        },
        {
          "output_type": "stream",
          "name": "stdout",
          "text": [
            "=========\n"
          ]
        },
        {
          "output_type": "execute_result",
          "data": {
            "image/png": "[encoded data removed]",
            "text/plain": [
              "<IPython.core.display.Image object>"
            ]
          },
          "metadata": {},
          "execution_count": 60
        },
        {
          "output_type": "stream",
          "name": "stdout",
          "text": [
            "=========\n"
          ]
        },
        {
          "output_type": "execute_result",
          "data": {
            "image/png": "[encoded data removed]",
            "text/plain": [
              "<IPython.core.display.Image object>"
            ]
          },
          "metadata": {},
          "execution_count": 60
        }
      ]
    },
    {
      "cell_type": "markdown",
      "metadata": {
        "id": "ILISllHbdPL8"
      },
      "source": [
        "# Data Exploration and Cleaning"
      ]
    },
    {
      "cell_type": "code",
      "execution_count": 5,
      "metadata": {
        "_cell_guid": "79c7e3d0-c299-4dcb-8224-4455121ee9b0",
        "_uuid": "d629ff2d2480ee46fbb7e2d37f6b5fab8052498a",
        "id": "499e5-H-dPL9",
        "outputId": "c3f4f2e9-fba4-40a8-c2c3-46634eddb975",
        "colab": {
          "base_uri": "https://localhost:8080/",
          "height": 309
        }
      },
      "outputs": [
        {
          "output_type": "stream",
          "name": "stdout",
          "text": [
            "(284807, 30)\n"
          ]
        },
        {
          "output_type": "stream",
          "name": "stderr",
          "text": [
            "<ipython-input-5-5ce8c602f516>:3: FutureWarning: In a future version of pandas all arguments of DataFrame.drop except for the argument 'labels' will be keyword-only.\n",
            "  df.drop(\"Time\", 1, inplace=True)\n"
          ]
        },
        {
          "output_type": "execute_result",
          "data": {
            "text/plain": [
              "         V1        V2        V3        V4        V5        V6        V7  \\\n",
              "0 -1.359807 -0.072781  2.536347  1.378155 -0.338321  0.462388  0.239599   \n",
              "1  1.191857  0.266151  0.166480  0.448154  0.060018 -0.082361 -0.078803   \n",
              "2 -1.358354 -1.340163  1.773209  0.379780 -0.503198  1.800499  0.791461   \n",
              "3 -0.966272 -0.185226  1.792993 -0.863291 -0.010309  1.247203  0.237609   \n",
              "4 -1.158233  0.877737  1.548718  0.403034 -0.407193  0.095921  0.592941   \n",
              "\n",
              "         V8        V9       V10  ...       V21       V22       V23       V24  \\\n",
              "0  0.098698  0.363787  0.090794  ... -0.018307  0.277838 -0.110474  0.066928   \n",
              "1  0.085102 -0.255425 -0.166974  ... -0.225775 -0.638672  0.101288 -0.339846   \n",
              "2  0.247676 -1.514654  0.207643  ...  0.247998  0.771679  0.909412 -0.689281   \n",
              "3  0.377436 -1.387024 -0.054952  ... -0.108300  0.005274 -0.190321 -1.175575   \n",
              "4 -0.270533  0.817739  0.753074  ... -0.009431  0.798278 -0.137458  0.141267   \n",
              "\n",
              "        V25       V26       V27       V28  Amount  Class  \n",
              "0  0.128539 -0.189115  0.133558 -0.021053  149.62      0  \n",
              "1  0.167170  0.125895 -0.008983  0.014724    2.69      0  \n",
              "2 -0.327642 -0.139097 -0.055353 -0.059752  378.66      0  \n",
              "3  0.647376 -0.221929  0.062723  0.061458  123.50      0  \n",
              "4 -0.206010  0.502292  0.219422  0.215153   69.99      0  \n",
              "\n",
              "[5 rows x 30 columns]"
            ],
            "text/html": [
              "\n",
              "  <div id=\"df-4e84c3a7-b858-4213-a468-faa8007a7864\" class=\"colab-df-container\">\n",
              "    <div>\n",
              "<style scoped>\n",
              "    .dataframe tbody tr th:only-of-type {\n",
              "        vertical-align: middle;\n",
              "    }\n",
              "\n",
              "    .dataframe tbody tr th {\n",
              "        vertical-align: top;\n",
              "    }\n",
              "\n",
              "    .dataframe thead th {\n",
              "        text-align: right;\n",
              "    }\n",
              "</style>\n",
              "<table border=\"1\" class=\"dataframe\">\n",
              "  <thead>\n",
              "    <tr style=\"text-align: right;\">\n",
              "      <th></th>\n",
              "      <th>V1</th>\n",
              "      <th>V2</th>\n",
              "      <th>V3</th>\n",
              "      <th>V4</th>\n",
              "      <th>V5</th>\n",
              "      <th>V6</th>\n",
              "      <th>V7</th>\n",
              "      <th>V8</th>\n",
              "      <th>V9</th>\n",
              "      <th>V10</th>\n",
              "      <th>...</th>\n",
              "      <th>V21</th>\n",
              "      <th>V22</th>\n",
              "      <th>V23</th>\n",
              "      <th>V24</th>\n",
              "      <th>V25</th>\n",
              "      <th>V26</th>\n",
              "      <th>V27</th>\n",
              "      <th>V28</th>\n",
              "      <th>Amount</th>\n",
              "      <th>Class</th>\n",
              "    </tr>\n",
              "  </thead>\n",
              "  <tbody>\n",
              "    <tr>\n",
              "      <th>0</th>\n",
              "      <td>-1.359807</td>\n",
              "      <td>-0.072781</td>\n",
              "      <td>2.536347</td>\n",
              "      <td>1.378155</td>\n",
              "      <td>-0.338321</td>\n",
              "      <td>0.462388</td>\n",
              "      <td>0.239599</td>\n",
              "      <td>0.098698</td>\n",
              "      <td>0.363787</td>\n",
              "      <td>0.090794</td>\n",
              "      <td>...</td>\n",
              "      <td>-0.018307</td>\n",
              "      <td>0.277838</td>\n",
              "      <td>-0.110474</td>\n",
              "      <td>0.066928</td>\n",
              "      <td>0.128539</td>\n",
              "      <td>-0.189115</td>\n",
              "      <td>0.133558</td>\n",
              "      <td>-0.021053</td>\n",
              "      <td>149.62</td>\n",
              "      <td>0</td>\n",
              "    </tr>\n",
              "    <tr>\n",
              "      <th>1</th>\n",
              "      <td>1.191857</td>\n",
              "      <td>0.266151</td>\n",
              "      <td>0.166480</td>\n",
              "      <td>0.448154</td>\n",
              "      <td>0.060018</td>\n",
              "      <td>-0.082361</td>\n",
              "      <td>-0.078803</td>\n",
              "      <td>0.085102</td>\n",
              "      <td>-0.255425</td>\n",
              "      <td>-0.166974</td>\n",
              "      <td>...</td>\n",
              "      <td>-0.225775</td>\n",
              "      <td>-0.638672</td>\n",
              "      <td>0.101288</td>\n",
              "      <td>-0.339846</td>\n",
              "      <td>0.167170</td>\n",
              "      <td>0.125895</td>\n",
              "      <td>-0.008983</td>\n",
              "      <td>0.014724</td>\n",
              "      <td>2.69</td>\n",
              "      <td>0</td>\n",
              "    </tr>\n",
              "    <tr>\n",
              "      <th>2</th>\n",
              "      <td>-1.358354</td>\n",
              "      <td>-1.340163</td>\n",
              "      <td>1.773209</td>\n",
              "      <td>0.379780</td>\n",
              "      <td>-0.503198</td>\n",
              "      <td>1.800499</td>\n",
              "      <td>0.791461</td>\n",
              "      <td>0.247676</td>\n",
              "      <td>-1.514654</td>\n",
              "      <td>0.207643</td>\n",
              "      <td>...</td>\n",
              "      <td>0.247998</td>\n",
              "      <td>0.771679</td>\n",
              "      <td>0.909412</td>\n",
              "      <td>-0.689281</td>\n",
              "      <td>-0.327642</td>\n",
              "      <td>-0.139097</td>\n",
              "      <td>-0.055353</td>\n",
              "      <td>-0.059752</td>\n",
              "      <td>378.66</td>\n",
              "      <td>0</td>\n",
              "    </tr>\n",
              "    <tr>\n",
              "      <th>3</th>\n",
              "      <td>-0.966272</td>\n",
              "      <td>-0.185226</td>\n",
              "      <td>1.792993</td>\n",
              "      <td>-0.863291</td>\n",
              "      <td>-0.010309</td>\n",
              "      <td>1.247203</td>\n",
              "      <td>0.237609</td>\n",
              "      <td>0.377436</td>\n",
              "      <td>-1.387024</td>\n",
              "      <td>-0.054952</td>\n",
              "      <td>...</td>\n",
              "      <td>-0.108300</td>\n",
              "      <td>0.005274</td>\n",
              "      <td>-0.190321</td>\n",
              "      <td>-1.175575</td>\n",
              "      <td>0.647376</td>\n",
              "      <td>-0.221929</td>\n",
              "      <td>0.062723</td>\n",
              "      <td>0.061458</td>\n",
              "      <td>123.50</td>\n",
              "      <td>0</td>\n",
              "    </tr>\n",
              "    <tr>\n",
              "      <th>4</th>\n",
              "      <td>-1.158233</td>\n",
              "      <td>0.877737</td>\n",
              "      <td>1.548718</td>\n",
              "      <td>0.403034</td>\n",
              "      <td>-0.407193</td>\n",
              "      <td>0.095921</td>\n",
              "      <td>0.592941</td>\n",
              "      <td>-0.270533</td>\n",
              "      <td>0.817739</td>\n",
              "      <td>0.753074</td>\n",
              "      <td>...</td>\n",
              "      <td>-0.009431</td>\n",
              "      <td>0.798278</td>\n",
              "      <td>-0.137458</td>\n",
              "      <td>0.141267</td>\n",
              "      <td>-0.206010</td>\n",
              "      <td>0.502292</td>\n",
              "      <td>0.219422</td>\n",
              "      <td>0.215153</td>\n",
              "      <td>69.99</td>\n",
              "      <td>0</td>\n",
              "    </tr>\n",
              "  </tbody>\n",
              "</table>\n",
              "<p>5 rows × 30 columns</p>\n",
              "</div>\n",
              "    <div class=\"colab-df-buttons\">\n",
              "\n",
              "  <div class=\"colab-df-container\">\n",
              "    <button class=\"colab-df-convert\" onclick=\"convertToInteractive('df-4e84c3a7-b858-4213-a468-faa8007a7864')\"\n",
              "            title=\"Convert this dataframe to an interactive table.\"\n",
              "            style=\"display:none;\">\n",
              "\n",
              "  <svg xmlns=\"http://www.w3.org/2000/svg\" height=\"24px\" viewBox=\"0 -960 960 960\">\n",
              "    <path d=\"M120-120v-720h720v720H120Zm60-500h600v-160H180v160Zm220 220h160v-160H400v160Zm0 220h160v-160H400v160ZM180-400h160v-160H180v160Zm440 0h160v-160H620v160ZM180-180h160v-160H180v160Zm440 0h160v-160H620v160Z\"/>\n",
              "  </svg>\n",
              "    </button>\n",
              "\n",
              "  <style>\n",
              "    .colab-df-container {\n",
              "      display:flex;\n",
              "      gap: 12px;\n",
              "    }\n",
              "\n",
              "    .colab-df-convert {\n",
              "      background-color: #E8F0FE;\n",
              "      border: none;\n",
              "      border-radius: 50%;\n",
              "      cursor: pointer;\n",
              "      display: none;\n",
              "      fill: #1967D2;\n",
              "      height: 32px;\n",
              "      padding: 0 0 0 0;\n",
              "      width: 32px;\n",
              "    }\n",
              "\n",
              "    .colab-df-convert:hover {\n",
              "      background-color: #E2EBFA;\n",
              "      box-shadow: 0px 1px 2px rgba(60, 64, 67, 0.3), 0px 1px 3px 1px rgba(60, 64, 67, 0.15);\n",
              "      fill: #174EA6;\n",
              "    }\n",
              "\n",
              "    .colab-df-buttons div {\n",
              "      margin-bottom: 4px;\n",
              "    }\n",
              "\n",
              "    [theme=dark] .colab-df-convert {\n",
              "      background-color: #3B4455;\n",
              "      fill: #D2E3FC;\n",
              "    }\n",
              "\n",
              "    [theme=dark] .colab-df-convert:hover {\n",
              "      background-color: #434B5C;\n",
              "      box-shadow: 0px 1px 3px 1px rgba(0, 0, 0, 0.15);\n",
              "      filter: drop-shadow(0px 1px 2px rgba(0, 0, 0, 0.3));\n",
              "      fill: #FFFFFF;\n",
              "    }\n",
              "  </style>\n",
              "\n",
              "    <script>\n",
              "      const buttonEl =\n",
              "        document.querySelector('#df-4e84c3a7-b858-4213-a468-faa8007a7864 button.colab-df-convert');\n",
              "      buttonEl.style.display =\n",
              "        google.colab.kernel.accessAllowed ? 'block' : 'none';\n",
              "\n",
              "      async function convertToInteractive(key) {\n",
              "        const element = document.querySelector('#df-4e84c3a7-b858-4213-a468-faa8007a7864');\n",
              "        const dataTable =\n",
              "          await google.colab.kernel.invokeFunction('convertToInteractive',\n",
              "                                                    [key], {});\n",
              "        if (!dataTable) return;\n",
              "\n",
              "        const docLinkHtml = 'Like what you see? Visit the ' +\n",
              "          '<a target=\"_blank\" href=https://colab.research.google.com/notebooks/data_table.ipynb>data table notebook</a>'\n",
              "          + ' to learn more about interactive tables.';\n",
              "        element.innerHTML = '';\n",
              "        dataTable['output_type'] = 'display_data';\n",
              "        await google.colab.output.renderOutput(dataTable, element);\n",
              "        const docLink = document.createElement('div');\n",
              "        docLink.innerHTML = docLinkHtml;\n",
              "        element.appendChild(docLink);\n",
              "      }\n",
              "    </script>\n",
              "  </div>\n",
              "\n",
              "\n",
              "<div id=\"df-7cc2b08f-56c4-4555-824c-167b72895f24\">\n",
              "  <button class=\"colab-df-quickchart\" onclick=\"quickchart('df-7cc2b08f-56c4-4555-824c-167b72895f24')\"\n",
              "            title=\"Suggest charts.\"\n",
              "            style=\"display:none;\">\n",
              "\n",
              "<svg xmlns=\"http://www.w3.org/2000/svg\" height=\"24px\"viewBox=\"0 0 24 24\"\n",
              "     width=\"24px\">\n",
              "    <g>\n",
              "        <path d=\"M19 3H5c-1.1 0-2 .9-2 2v14c0 1.1.9 2 2 2h14c1.1 0 2-.9 2-2V5c0-1.1-.9-2-2-2zM9 17H7v-7h2v7zm4 0h-2V7h2v10zm4 0h-2v-4h2v4z\"/>\n",
              "    </g>\n",
              "</svg>\n",
              "  </button>\n",
              "\n",
              "<style>\n",
              "  .colab-df-quickchart {\n",
              "      --bg-color: #E8F0FE;\n",
              "      --fill-color: #1967D2;\n",
              "      --hover-bg-color: #E2EBFA;\n",
              "      --hover-fill-color: #174EA6;\n",
              "      --disabled-fill-color: #AAA;\n",
              "      --disabled-bg-color: #DDD;\n",
              "  }\n",
              "\n",
              "  [theme=dark] .colab-df-quickchart {\n",
              "      --bg-color: #3B4455;\n",
              "      --fill-color: #D2E3FC;\n",
              "      --hover-bg-color: #434B5C;\n",
              "      --hover-fill-color: #FFFFFF;\n",
              "      --disabled-bg-color: #3B4455;\n",
              "      --disabled-fill-color: #666;\n",
              "  }\n",
              "\n",
              "  .colab-df-quickchart {\n",
              "    background-color: var(--bg-color);\n",
              "    border: none;\n",
              "    border-radius: 50%;\n",
              "    cursor: pointer;\n",
              "    display: none;\n",
              "    fill: var(--fill-color);\n",
              "    height: 32px;\n",
              "    padding: 0;\n",
              "    width: 32px;\n",
              "  }\n",
              "\n",
              "  .colab-df-quickchart:hover {\n",
              "    background-color: var(--hover-bg-color);\n",
              "    box-shadow: 0 1px 2px rgba(60, 64, 67, 0.3), 0 1px 3px 1px rgba(60, 64, 67, 0.15);\n",
              "    fill: var(--button-hover-fill-color);\n",
              "  }\n",
              "\n",
              "  .colab-df-quickchart-complete:disabled,\n",
              "  .colab-df-quickchart-complete:disabled:hover {\n",
              "    background-color: var(--disabled-bg-color);\n",
              "    fill: var(--disabled-fill-color);\n",
              "    box-shadow: none;\n",
              "  }\n",
              "\n",
              "  .colab-df-spinner {\n",
              "    border: 2px solid var(--fill-color);\n",
              "    border-color: transparent;\n",
              "    border-bottom-color: var(--fill-color);\n",
              "    animation:\n",
              "      spin 1s steps(1) infinite;\n",
              "  }\n",
              "\n",
              "  @keyframes spin {\n",
              "    0% {\n",
              "      border-color: transparent;\n",
              "      border-bottom-color: var(--fill-color);\n",
              "      border-left-color: var(--fill-color);\n",
              "    }\n",
              "    20% {\n",
              "      border-color: transparent;\n",
              "      border-left-color: var(--fill-color);\n",
              "      border-top-color: var(--fill-color);\n",
              "    }\n",
              "    30% {\n",
              "      border-color: transparent;\n",
              "      border-left-color: var(--fill-color);\n",
              "      border-top-color: var(--fill-color);\n",
              "      border-right-color: var(--fill-color);\n",
              "    }\n",
              "    40% {\n",
              "      border-color: transparent;\n",
              "      border-right-color: var(--fill-color);\n",
              "      border-top-color: var(--fill-color);\n",
              "    }\n",
              "    60% {\n",
              "      border-color: transparent;\n",
              "      border-right-color: var(--fill-color);\n",
              "    }\n",
              "    80% {\n",
              "      border-color: transparent;\n",
              "      border-right-color: var(--fill-color);\n",
              "      border-bottom-color: var(--fill-color);\n",
              "    }\n",
              "    90% {\n",
              "      border-color: transparent;\n",
              "      border-bottom-color: var(--fill-color);\n",
              "    }\n",
              "  }\n",
              "</style>\n",
              "\n",
              "  <script>\n",
              "    async function quickchart(key) {\n",
              "      const quickchartButtonEl =\n",
              "        document.querySelector('#' + key + ' button');\n",
              "      quickchartButtonEl.disabled = true;  // To prevent multiple clicks.\n",
              "      quickchartButtonEl.classList.add('colab-df-spinner');\n",
              "      try {\n",
              "        const charts = await google.colab.kernel.invokeFunction(\n",
              "            'suggestCharts', [key], {});\n",
              "      } catch (error) {\n",
              "        console.error('Error during call to suggestCharts:', error);\n",
              "      }\n",
              "      quickchartButtonEl.classList.remove('colab-df-spinner');\n",
              "      quickchartButtonEl.classList.add('colab-df-quickchart-complete');\n",
              "    }\n",
              "    (() => {\n",
              "      let quickchartButtonEl =\n",
              "        document.querySelector('#df-7cc2b08f-56c4-4555-824c-167b72895f24 button');\n",
              "      quickchartButtonEl.style.display =\n",
              "        google.colab.kernel.accessAllowed ? 'block' : 'none';\n",
              "    })();\n",
              "  </script>\n",
              "</div>\n",
              "    </div>\n",
              "  </div>\n"
            ]
          },
          "metadata": {},
          "execution_count": 5
        }
      ],
      "source": [
        "# reading data\n",
        "df = pd.read_csv(pathToFolder + datafile)\n",
        "df.drop(\"Time\", 1, inplace=True)\n",
        "print(df.shape)\n",
        "df.head()"
      ]
    },
    {
      "cell_type": "code",
      "execution_count": 6,
      "metadata": {
        "id": "z9R30XNxdPL-",
        "outputId": "37aa1497-db2f-44fc-87a1-35edc71c49e1",
        "colab": {
          "base_uri": "https://localhost:8080/"
        }
      },
      "outputs": [
        {
          "output_type": "execute_result",
          "data": {
            "text/plain": [
              "0    99.827251\n",
              "1     0.172749\n",
              "Name: Class, dtype: float64"
            ]
          },
          "metadata": {},
          "execution_count": 6
        }
      ],
      "source": [
        "# High class imbalance\n",
        "df['Class'].value_counts(normalize=True)*100"
      ]
    },
    {
      "cell_type": "code",
      "execution_count": 7,
      "metadata": {
        "id": "erB-Uj1gdPL-",
        "outputId": "fe6971f4-0438-4dce-8b82-ee5550384b02",
        "colab": {
          "base_uri": "https://localhost:8080/"
        }
      },
      "outputs": [
        {
          "output_type": "stream",
          "name": "stdout",
          "text": [
            "Number of Null values: 0\n"
          ]
        }
      ],
      "source": [
        "# Checking for Null values\n",
        "print(f\"Number of Null values: {df.isnull().any().sum()}\")"
      ]
    },
    {
      "cell_type": "code",
      "execution_count": 8,
      "metadata": {
        "id": "uPi6AskUdPL_",
        "outputId": "0fcafbce-c846-47d7-e081-b0d059afba78",
        "colab": {
          "base_uri": "https://localhost:8080/"
        }
      },
      "outputs": [
        {
          "output_type": "stream",
          "name": "stdout",
          "text": [
            "Dataset has 9144 duplicate rows\n"
          ]
        }
      ],
      "source": [
        "# checking for duplicate values\n",
        "print(f\"Dataset has {df.duplicated().sum()} duplicate rows\")\n",
        "# dropping duplicate rows\n",
        "df.drop_duplicates(inplace=True)"
      ]
    },
    {
      "cell_type": "code",
      "execution_count": 9,
      "metadata": {
        "id": "qG1qFcqLdPL_",
        "outputId": "2a5cbd10-a4c9-4f8d-b0b9-bf37bb94bc1d",
        "colab": {
          "base_uri": "https://localhost:8080/",
          "height": 412
        }
      },
      "outputs": [
        {
          "output_type": "execute_result",
          "data": {
            "text/plain": [
              "<Figure size 1400x400 with 0 Axes>"
            ]
          },
          "metadata": {},
          "execution_count": 9
        },
        {
          "output_type": "execute_result",
          "data": {
            "text/plain": [
              "<Axes: >"
            ]
          },
          "metadata": {},
          "execution_count": 9
        },
        {
          "output_type": "display_data",
          "data": {
            "text/plain": [
              "<Figure size 1400x400 with 1 Axes>"
            ],
            "image/png": "[encoded data removed]"
          },
          "metadata": {}
        }
      ],
      "source": [
        "# high skweness in Amount feature\n",
        "plt.figure(figsize=(14,4))\n",
        "df['Amount'].value_counts().head(50).plot(kind='bar')\n",
        "plt.show()"
      ]
    },
    {
      "cell_type": "code",
      "execution_count": 10,
      "metadata": {
        "id": "uHFOhfR5dPMA",
        "colab": {
          "base_uri": "https://localhost:8080/"
        },
        "outputId": "ebc79be6-f23f-4f6a-d677-1dd5c1deb1ff"
      },
      "outputs": [
        {
          "output_type": "stream",
          "name": "stderr",
          "text": [
            "<ipython-input-10-7c946d2c6350>:2: FutureWarning: In a future version of pandas all arguments of DataFrame.drop except for the argument 'labels' will be keyword-only.\n",
            "  df.drop('Class',1).skew()\n"
          ]
        },
        {
          "output_type": "execute_result",
          "data": {
            "text/plain": [
              "V1        -3.273070\n",
              "V2        -4.653486\n",
              "V3        -2.216730\n",
              "V4         0.681387\n",
              "V5        -2.458790\n",
              "V6         1.867576\n",
              "V7         2.877722\n",
              "V8        -8.292631\n",
              "V9         0.550965\n",
              "V10        1.242165\n",
              "V11        0.347772\n",
              "V12       -2.208171\n",
              "V13        0.061058\n",
              "V14       -1.953613\n",
              "V15       -0.295836\n",
              "V16       -1.048371\n",
              "V17       -3.802987\n",
              "V18       -0.255710\n",
              "V19        0.115957\n",
              "V20       -2.045060\n",
              "V21        2.784302\n",
              "V22       -0.200868\n",
              "V23       -5.805236\n",
              "V24       -0.545636\n",
              "V25       -0.408260\n",
              "V26        0.587603\n",
              "V27       -0.745732\n",
              "V28       11.400938\n",
              "Amount    16.841622\n",
              "dtype: float64"
            ]
          },
          "metadata": {},
          "execution_count": 10
        }
      ],
      "source": [
        "# checking skewness of other columns\n",
        "df.drop('Class',1).skew()"
      ]
    },
    {
      "cell_type": "code",
      "execution_count": 11,
      "metadata": {
        "id": "Qm2WJtKTdPMB",
        "outputId": "fb705f6c-f504-472f-b537-6a587dc7b6d8",
        "colab": {
          "base_uri": "https://localhost:8080/"
        }
      },
      "outputs": [
        {
          "output_type": "stream",
          "name": "stderr",
          "text": [
            "<ipython-input-11-5ab3fe925c19>:2: FutureWarning: In a future version of pandas all arguments of DataFrame.drop except for the argument 'labels' will be keyword-only.\n",
            "  skew_cols = df.drop('Class', 1).skew().loc[lambda x: x>2].index\n"
          ]
        },
        {
          "output_type": "stream",
          "name": "stdout",
          "text": [
            "Skew value of V7 after log transform: -14.073605361284569\n",
            "Skew value of V21 after log transform: -19.018195679862643\n",
            "Skew value of V28 after log transform: -11.293087825590737\n",
            "Skew value of Amount after log transform: 0.1393219585866376\n"
          ]
        }
      ],
      "source": [
        "# taking log transform of high positively skewed features\n",
        "skew_cols = df.drop('Class', 1).skew().loc[lambda x: x>2].index\n",
        "for col in skew_cols:\n",
        "    lower_lim = abs(df[col].min())\n",
        "    normal_col = df[col].apply(lambda x: np.log10(x+lower_lim+1))\n",
        "    print(f\"Skew value of {col} after log transform: {normal_col.skew()}\")"
      ]
    },
    {
      "cell_type": "code",
      "execution_count": 12,
      "metadata": {
        "id": "ZkoB1uZ7dPMC"
      },
      "outputs": [],
      "source": [
        "# Only applying log transform to Amount feature\n",
        "df['Amount'] = df['Amount'].apply(lambda x: np.log10(x+1))"
      ]
    },
    {
      "cell_type": "code",
      "execution_count": 13,
      "metadata": {
        "id": "5a6NSDsydPMC",
        "outputId": "79bb2326-dfd1-4c92-860c-cbdd083d856d",
        "colab": {
          "base_uri": "https://localhost:8080/"
        }
      },
      "outputs": [
        {
          "output_type": "stream",
          "name": "stdout",
          "text": [
            "(275663, 29) (275663,)\n"
          ]
        },
        {
          "output_type": "stream",
          "name": "stderr",
          "text": [
            "<ipython-input-13-2d7fbdd8711a>:3: FutureWarning: In a future version of pandas all arguments of DataFrame.drop except for the argument 'labels' will be keyword-only.\n",
            "  X = scaler.fit_transform(df.drop('Class', 1))\n"
          ]
        }
      ],
      "source": [
        "scaler = StandardScaler()\n",
        "#scaler = MinMaxScaler()\n",
        "X = scaler.fit_transform(df.drop('Class', 1))\n",
        "y = df['Class'].values\n",
        "print(X.shape, y.shape)"
      ]
    },
    {
      "cell_type": "code",
      "execution_count": 14,
      "metadata": {
        "id": "6eQVThw5dPMD"
      },
      "outputs": [],
      "source": [
        "X_train, X_test, y_train, y_test = train_test_split(X, y, test_size=0.1, stratify=y)"
      ]
    },
    {
      "cell_type": "markdown",
      "metadata": {
        "id": "dwr0IZSGdPMD"
      },
      "source": [
        "# Training a Baseline Model"
      ]
    },
    {
      "cell_type": "code",
      "execution_count": null,
      "metadata": {
        "id": "pW9GcrogdPME",
        "outputId": "d0f5f906-5a15-4e3c-9221-58fa4b8f2ea4",
        "colab": {
          "base_uri": "https://localhost:8080/"
        }
      },
      "outputs": [
        {
          "output_type": "stream",
          "name": "stdout",
          "text": [
            "              precision    recall  f1-score   support\n",
            "\n",
            "           0       1.00      1.00      1.00     27520\n",
            "           1       0.81      0.64      0.71        47\n",
            "\n",
            "    accuracy                           1.00     27567\n",
            "   macro avg       0.91      0.82      0.86     27567\n",
            "weighted avg       1.00      1.00      1.00     27567\n",
            "\n"
          ]
        }
      ],
      "source": [
        "# simple linear regression\n",
        "linear_model = LogisticRegression()\n",
        "linear_model.fit(X_train, y_train)\n",
        "\n",
        "y_pred = linear_model.predict(X_test)\n",
        "\n",
        "# evaluation\n",
        "print(classification_report(y_test, y_pred))\n"
      ]
    },
    {
      "cell_type": "code",
      "source": [
        "linear_model.classes_"
      ],
      "metadata": {
        "id": "m1ASl45a1u76",
        "outputId": "1c4cf6cf-1a1b-457f-a603-444f312c202d",
        "colab": {
          "base_uri": "https://localhost:8080/"
        }
      },
      "execution_count": null,
      "outputs": [
        {
          "output_type": "execute_result",
          "data": {
            "text/plain": [
              "array([0, 1])"
            ]
          },
          "metadata": {},
          "execution_count": 15
        }
      ]
    },
    {
      "cell_type": "markdown",
      "metadata": {
        "id": "e9WUQLGMdPME"
      },
      "source": [
        "# Using weighted regression to improve accuracy"
      ]
    },
    {
      "cell_type": "code",
      "execution_count": null,
      "metadata": {
        "id": "FIevHk-9dPME",
        "outputId": "684dee2c-c399-4ef0-826b-2907dfa49127",
        "colab": {
          "base_uri": "https://localhost:8080/"
        }
      },
      "outputs": [
        {
          "output_type": "stream",
          "name": "stdout",
          "text": [
            "Best parameters : {'class_weight': {0: 0.11428571428571428, 1: 0.8857142857142857}}\n"
          ]
        }
      ],
      "source": [
        "weights = np.linspace(0.05, 0.95, 15)\n",
        "\n",
        "gscv = GridSearchCV(\n",
        "    estimator=LogisticRegression(),\n",
        "    param_grid={\n",
        "        'class_weight': [{0: x, 1: 1.0-x} for x in weights]\n",
        "    },\n",
        "    scoring='f1',\n",
        "    cv=3\n",
        ")\n",
        "grid_res = gscv.fit(X, y)\n",
        "\n",
        "print(\"Best parameters : %s\" % grid_res.best_params_)"
      ]
    },
    {
      "cell_type": "code",
      "execution_count": null,
      "metadata": {
        "id": "-63gE9oadPME",
        "outputId": "3a9291bd-330b-4bb0-a77e-d316ee6943ab",
        "colab": {
          "base_uri": "https://localhost:8080/",
          "height": 430
        }
      },
      "outputs": [
        {
          "output_type": "display_data",
          "data": {
            "text/plain": [
              "<Figure size 640x480 with 1 Axes>"
            ],
            "image/png": "[encoded data removed]"
          },
          "metadata": {}
        }
      ],
      "source": [
        "# plotting F1 scores\n",
        "plt.plot(weights, grid_res.cv_results_['mean_test_score'], marker='o')\n",
        "plt.grid()\n",
        "plt.show()"
      ]
    },
    {
      "cell_type": "code",
      "execution_count": null,
      "metadata": {
        "id": "CYuG5t7DdPMF",
        "outputId": "7b26536a-db79-4702-89c3-afe9b1bf0f02",
        "colab": {
          "base_uri": "https://localhost:8080/"
        }
      },
      "outputs": [
        {
          "output_type": "stream",
          "name": "stdout",
          "text": [
            "              precision    recall  f1-score   support\n",
            "\n",
            "           0       1.00      1.00      1.00     27520\n",
            "           1       0.73      0.85      0.78        47\n",
            "\n",
            "    accuracy                           1.00     27567\n",
            "   macro avg       0.86      0.93      0.89     27567\n",
            "weighted avg       1.00      1.00      1.00     27567\n",
            "\n"
          ]
        }
      ],
      "source": [
        "# training with best weights\n",
        "wlr = LogisticRegression(**grid_res.best_params_)\n",
        "wlr.fit(X_train, y_train)\n",
        "\n",
        "y_pred = wlr.predict(X_test)\n",
        "\n",
        "# evaluation\n",
        "print(classification_report(y_test, y_pred))\n",
        "#plot_confusion_matrix(wlr, X_test, y_test)\n",
        "#plt.show()"
      ]
    },
    {
      "cell_type": "markdown",
      "metadata": {
        "id": "hrcF7nbDdPMF"
      },
      "source": [
        "**Slight improvement when using weighted regression**"
      ]
    },
    {
      "cell_type": "markdown",
      "metadata": {
        "id": "cbZIiF_wdPMF"
      },
      "source": [
        "# Using SMOTE for upsampling"
      ]
    },
    {
      "cell_type": "code",
      "execution_count": null,
      "metadata": {
        "id": "7gzw0D-PdPMF",
        "outputId": "c5dd89cf-2caa-450c-e409-f0ea33dbd378",
        "colab": {
          "base_uri": "https://localhost:8080/",
          "height": 586
        }
      },
      "outputs": [
        {
          "output_type": "stream",
          "name": "stdout",
          "text": [
            "              precision    recall  f1-score   support\n",
            "\n",
            "           0       1.00      0.97      0.99     27520\n",
            "           1       0.06      0.96      0.11        47\n",
            "\n",
            "    accuracy                           0.97     27567\n",
            "   macro avg       0.53      0.97      0.55     27567\n",
            "weighted avg       1.00      0.97      0.99     27567\n",
            "\n"
          ]
        },
        {
          "output_type": "display_data",
          "data": {
            "text/plain": [
              "<Figure size 640x480 with 2 Axes>"
            ],
            "image/png": "[encoded data removed]"
          },
          "metadata": {}
        }
      ],
      "source": [
        "# constructing pipeline\n",
        "pipe = Pipeline([\n",
        "        ('smote', SMOTE()),\n",
        "        ('lr', LogisticRegression())\n",
        "])\n",
        "# training model with smote samples\n",
        "pipe.fit(X_train, y_train)\n",
        "\n",
        "y_pred = pipe.predict(X_test)\n",
        "\n",
        "# evaluation\n",
        "print(classification_report(y_test, y_pred))\n",
        "sns.heatmap(confusion_matrix(y_test, y_pred),annot=True)\n",
        "plt.show()"
      ]
    },
    {
      "cell_type": "markdown",
      "metadata": {
        "id": "bwIDsA6qdPMG"
      },
      "source": [
        "**Poor F1 score even when using SMOTE**"
      ]
    },
    {
      "cell_type": "markdown",
      "metadata": {
        "id": "s2GydQjGdPMG"
      },
      "source": [
        "# Grid Search on SMOTE and Regression"
      ]
    },
    {
      "cell_type": "code",
      "execution_count": null,
      "metadata": {
        "id": "WMqR0zCsdPMG",
        "outputId": "ce4f8165-65d2-4f35-b158-58f8c35205f2",
        "colab": {
          "base_uri": "https://localhost:8080/"
        }
      },
      "outputs": [
        {
          "output_type": "stream",
          "name": "stdout",
          "text": [
            "Best parameters : {'lr__class_weight': {0: 0.95, 1: 0.050000000000000044}, 'smote__sampling_strategy': 0.2666666666666667}\n"
          ]
        }
      ],
      "source": [
        "pipe = Pipeline([\n",
        "        ('smote', SMOTE()),\n",
        "        ('lr', LogisticRegression())\n",
        "])\n",
        "sm_ratio = np.linspace(0.2, 0.8, 10)\n",
        "lr_weights = np.linspace(0.05, 0.95, 10)\n",
        "\n",
        "gscv = GridSearchCV(\n",
        "    estimator=pipe,\n",
        "    param_grid={\n",
        "        'smote__sampling_strategy': sm_ratio,\n",
        "        'lr__class_weight': [{0: x, 1: 1.0-x} for x in lr_weights]\n",
        "    },\n",
        "    scoring='f1',\n",
        "    cv=3\n",
        ")\n",
        "grid_result = gscv.fit(X, y)\n",
        "\n",
        "print(\"Best parameters : %s\" % grid_result.best_params_)"
      ]
    },
    {
      "cell_type": "code",
      "execution_count": null,
      "metadata": {
        "id": "Gf-T5AbldPMG",
        "outputId": "e2244342-b4a1-40a6-8585-05cc33903db0",
        "colab": {
          "base_uri": "https://localhost:8080/",
          "height": 676
        }
      },
      "outputs": [
        {
          "output_type": "display_data",
          "data": {
            "text/plain": [
              "<Figure size 800x800 with 2 Axes>"
            ],
            "image/png": "[encoded data removed]"
          },
          "metadata": {}
        }
      ],
      "source": [
        "df_gs = pd.DataFrame(data=grid_result.cv_results_['mean_test_score'].reshape(10,10),\n",
        "                     index=np.around(sm_ratio[::-1], 2),\n",
        "                     columns=np.around(lr_weights[::-1], 2))\n",
        "plt.figure(figsize=(8,8))\n",
        "sns.heatmap(df_gs,\n",
        "            annot=True,\n",
        "            linewidths=.5)\n",
        "plt.show()"
      ]
    },
    {
      "cell_type": "code",
      "execution_count": null,
      "metadata": {
        "id": "yRZrYiNCdPMH",
        "outputId": "2a1a83f4-5d32-4dce-9bb1-d3852ba369f1",
        "colab": {
          "base_uri": "https://localhost:8080/",
          "height": 586
        }
      },
      "outputs": [
        {
          "output_type": "stream",
          "name": "stdout",
          "text": [
            "              precision    recall  f1-score   support\n",
            "\n",
            "           0       1.00      1.00      1.00     27520\n",
            "           1       0.75      0.85      0.80        47\n",
            "\n",
            "    accuracy                           1.00     27567\n",
            "   macro avg       0.88      0.93      0.90     27567\n",
            "weighted avg       1.00      1.00      1.00     27567\n",
            "\n"
          ]
        },
        {
          "output_type": "display_data",
          "data": {
            "text/plain": [
              "<Figure size 640x480 with 2 Axes>"
            ],
            "image/png": "[encoded data removed]"
          },
          "metadata": {}
        }
      ],
      "source": [
        "# training with best weights\n",
        "pipe = Pipeline([\n",
        "        ('smote', SMOTE(sampling_strategy= 0.2)),\n",
        "        ('lr', LogisticRegression(class_weight={0: 0.95, 1: 0.05}))\n",
        "])\n",
        "pipe.fit(X_train, y_train)\n",
        "\n",
        "y_pred = pipe.predict(X_test)\n",
        "\n",
        "# evaluation\n",
        "print(classification_report(y_test, y_pred))\n",
        "sns.heatmap(confusion_matrix(y_test, y_pred),annot=True)\n",
        "plt.show()"
      ]
    },
    {
      "cell_type": "markdown",
      "metadata": {
        "id": "BtidEsehdPMH"
      },
      "source": [
        "**Using SMOTE with weighted regression improves results**"
      ]
    },
    {
      "cell_type": "markdown",
      "metadata": {
        "id": "1rMAlJ3gdPMH"
      },
      "source": [
        "# Using GANs to generate new data"
      ]
    },
    {
      "cell_type": "code",
      "execution_count": 15,
      "metadata": {
        "id": "yZKD4UVIdPMH"
      },
      "outputs": [],
      "source": [
        "import tensorflow as tf\n",
        "from tensorflow.keras.layers import Input, Dense, Reshape, Flatten, Dropout, multiply, Concatenate\n",
        "from tensorflow.keras.layers import BatchNormalization, Activation, Embedding, ZeroPadding2D, LeakyReLU\n",
        "from tensorflow.keras.models import Sequential, Model\n",
        "from tensorflow.keras.optimizers import Adam, RMSprop\n",
        "from tensorflow.keras.initializers import RandomNormal\n",
        "from tensorflow.keras.utils import plot_model\n",
        "import tensorflow.keras.backend as K\n",
        "from sklearn.utils import shuffle"
      ]
    },
    {
      "cell_type": "code",
      "execution_count": 16,
      "metadata": {
        "id": "sZ5AE_lMdPMH"
      },
      "outputs": [],
      "source": [
        "class cGAN():\n",
        "    def __init__(self):\n",
        "        self.latent_dim = 32\n",
        "        self.out_shape = 29\n",
        "        self.num_classes = 2\n",
        "        self.clip_value = 0.01\n",
        "        optimizer = tf.keras.optimizers.legacy.Adam(0.0002, 0.5)\n",
        "\n",
        "        # build discriminator\n",
        "        self.discriminator = self.build_discriminator()\n",
        "        # Next compile it\n",
        "        self.discriminator.compile(loss=['binary_crossentropy'],\n",
        "                                   optimizer=optimizer,\n",
        "                                   metrics=['accuracy']\n",
        "                                   )\n",
        "\n",
        "        # build generator\n",
        "        self.generator = self.build_generator()\n",
        "\n",
        "        # Generator is fed noise + labels\n",
        "        noise = Input(shape=(self.latent_dim,))\n",
        "        label = Input(shape=(1,))\n",
        "        gen_samples = self.generator([noise, label])\n",
        "\n",
        "        # When generated noise is fed, discriminator is not trained\n",
        "        self.discriminator.trainable = False\n",
        "        # passing gen samples through discriminator\n",
        "        # Note that 'label' is being fed again. It is also\n",
        "        # a part of gen_samples:\n",
        "        valid = self.discriminator([gen_samples, label])\n",
        "\n",
        "        # combining both generator and discriminator:\n",
        "        self.combined = Model(\n",
        "                              inputs = [noise, label],  # Feed to generator\n",
        "                              outputs = valid           # Output of discriminator\n",
        "                              )\n",
        "\n",
        "        self.combined.compile(\n",
        "                              loss=['binary_crossentropy'],\n",
        "                              optimizer=optimizer,\n",
        "                              metrics=['accuracy']\n",
        "                              )\n",
        "\n",
        "        self.combined.summary()\n",
        "\n",
        "    def wasserstein_loss(self, y_true, y_pred):\n",
        "        return K.mean(y_true * y_pred)\n",
        "\n",
        "    def build_generator(self):\n",
        "        init = RandomNormal(mean=0.0, stddev=0.02)\n",
        "        model = Sequential()\n",
        "\n",
        "        model.add(Dense(128, input_dim=self.latent_dim))\n",
        "        #model.add(Dropout(0.2))\n",
        "        model.add(LeakyReLU(alpha=0.2))\n",
        "        model.add(BatchNormalization(momentum=0.8))\n",
        "\n",
        "        model.add(Dense(256))\n",
        "        #model.add(Dropout(0.2))\n",
        "        model.add(LeakyReLU(alpha=0.2))\n",
        "        model.add(BatchNormalization(momentum=0.8))\n",
        "\n",
        "        model.add(Dense(512))\n",
        "        #model.add(Dropout(0.2))\n",
        "        model.add(LeakyReLU(alpha=0.2))\n",
        "        model.add(BatchNormalization(momentum=0.8))\n",
        "\n",
        "        model.add(Dense(self.out_shape, activation='tanh'))\n",
        "        model.summary()\n",
        "\n",
        "        noise = Input(shape=(self.latent_dim,))   # First input to generator\n",
        "        label = Input(shape=(1,), dtype='int32')  # IInd input to generator\n",
        "        emb = Embedding(self.num_classes, self.latent_dim)(label)\n",
        "        label_embedding = Flatten()(emb)\n",
        "\n",
        "        model_input = multiply([noise, label_embedding])\n",
        "        gen_sample = model(model_input)\n",
        "        mm = Model(\n",
        "                    [noise, label],\n",
        "                    gen_sample,\n",
        "                    name=\"Generator\"\n",
        "                    )\n",
        "\n",
        "        return mm\n",
        "\n",
        "\n",
        "    def build_discriminator(self):\n",
        "        init = RandomNormal(mean=0.0, stddev=0.02)\n",
        "\n",
        "        model = Sequential()\n",
        "\n",
        "        model.add(Dense(512,                        # Ist Dense; Input layer\n",
        "                        input_dim=self.out_shape,   # 29\n",
        "                        kernel_initializer=init\n",
        "                        )\n",
        "                   )\n",
        "\n",
        "        model.add(LeakyReLU(alpha=0.2))\n",
        "\n",
        "        model.add(Dense(256,                        # IInd Dense\n",
        "                        kernel_initializer=init\n",
        "                        )\n",
        "                  )\n",
        "        model.add(LeakyReLU(alpha=0.2))\n",
        "        model.add(Dropout(0.4))\n",
        "\n",
        "        model.add(Dense(128,                        # IIIrd Dense\n",
        "                        kernel_initializer=init\n",
        "                        )\n",
        "                  )\n",
        "        model.add(LeakyReLU(alpha=0.2))\n",
        "        model.add(Dropout(0.4))\n",
        "\n",
        "        model.add(Dense(1,                          # Output layer\n",
        "                        activation='sigmoid'\n",
        "                        )\n",
        "                  )\n",
        "        model.summary()\n",
        "\n",
        "        gen_sample = Input(shape=(self.out_shape,))   # input1\n",
        "        label      = Input(shape=(1,), dtype='int32')      # input2\n",
        "        emd = Embedding(self.num_classes, self.out_shape)(label) # input2\n",
        "        label_embedding = Flatten()(emd)              # input2\n",
        "        model_input = multiply([gen_sample, label_embedding]) # input1 X input2\n",
        "\n",
        "        validity = model(model_input)\n",
        "\n",
        "        return Model(\n",
        "                      inputs=[gen_sample, label],  # Two inputs\n",
        "                      outputs=validity,\n",
        "                      name=\"Discriminator\"\n",
        "                      )\n",
        "\n",
        "\n",
        "    def train(self, X_train, y_train, pos_index, neg_index, epochs, batch_size=32, sample_interval=50):\n",
        "      \"\"\"\n",
        "      pos_index: A list of indices of positive class np.where(y_train==1)\n",
        "      neg_index: A list of indices of negative class np.where(y_train==0)\n",
        "      \"\"\"\n",
        "\n",
        "        # Adversarial ground truths\n",
        "        # A batch of valid data\n",
        "        valid = np.ones((batch_size, 1))\n",
        "        # A batch of fake data\n",
        "        fake = np.zeros((batch_size, 1))\n",
        "\n",
        "        for epoch in range(epochs):\n",
        "\n",
        "            #  Train Discriminator with 8 sample from postivite class\n",
        "            #    and rest with negative class\n",
        "            # np.random.choice(ax,8)\n",
        "            # ax if an ndarray, a random sample is generated from its elements.\n",
        "            #   If ax is an int, the random sample is generated as if it were\n",
        "            #    np.arange(ax)\n",
        "            idx1 = np.random.choice(pos_index, 8)  # Get 8 indicies: A 1D array\n",
        "\n",
        "            idx0 = np.random.choice(neg_index,\n",
        "                                    batch_size-8    # And the rest\n",
        "                                    )\n",
        "\n",
        "            # r = np.array([2,3,4,5])\n",
        "            # s = np.array([34,33,12])\n",
        "            #     np.concatenate([r,s])\n",
        "            #     array([ 2,  3,  4,  5, 34, 33, 12])\n",
        "            idx = np.concatenate((idx1, idx0))  # Positive followed by negative\n",
        "\n",
        "            samples, labels = X_train[idx], y_train[idx]\n",
        "\n",
        "            \"\"\"\n",
        "            data = np.round(np.random.normal(size = [4,5]),2)\n",
        "            label = np.array([1,2,3,4])\n",
        "            shuffle(data,label)  # shuffle is sklearn.utils function\n",
        "            Returns shuffled rows of data and corresponding\n",
        "            shuffled labels\n",
        "            \"\"\"\n",
        "\n",
        "            samples, labels = shuffle(samples, labels)\n",
        "\n",
        "            # Generate noise for generator input\n",
        "            # noise dimension: batch_size X self.latent_dim\n",
        "            #\n",
        "            noise = np.random.normal(0,\n",
        "                                     1,\n",
        "                                      (batch_size, self.latent_dim)   # (rows X cols)\n",
        "                                     )\n",
        "\n",
        "            # Generate a batch of new data from noise and labels\n",
        "            #  Note that generator has multiple inputs:\n",
        "\n",
        "            gen_samples = self.generator.predict([noise, labels])\n",
        "\n",
        "            # label smoothing\n",
        "            if epoch < epochs//1.5:\n",
        "                valid_smooth = (valid+0.1)-(np.random.random(valid.shape)*0.1)\n",
        "                fake_smooth =  (fake-0.1)+(np.random.random(fake.shape)*0.1)\n",
        "            else:\n",
        "                valid_smooth = valid\n",
        "                fake_smooth = fake\n",
        "\n",
        "            # Train Discriminator\n",
        "            self.discriminator.trainable = True\n",
        "            # train_on_batch:\n",
        "            #    Runs a single gradient update on a single batch of data.\n",
        "            d_loss_real = self.discriminator.train_on_batch([samples, labels], valid_smooth)\n",
        "            d_loss_fake = self.discriminator.train_on_batch([gen_samples, labels], fake_smooth)\n",
        "            d_loss = 0.5 * np.add(d_loss_real, d_loss_fake)\n",
        "\n",
        "            # Train Generator.\n",
        "            # Discriminator is not to be trained\n",
        "            self.discriminator.trainable = False\n",
        "            \"\"\"\n",
        "            np.random.randint(0, 2, 5)\n",
        "            array([0, 1, 0, 0, 1])\n",
        "            np.array([0, 1, 0, 0, 1]).reshape(-1,1)\n",
        "            array([[0],\n",
        "                   [1],\n",
        "                   [0],\n",
        "                   [0],\n",
        "                   [1]])\n",
        "            \"\"\"\n",
        "            sampled_labels = np.random.randint(0, 2, batch_size).reshape(-1, 1)\n",
        "\n",
        "            # Train the combined but only generator\n",
        "            #  weights are amended:\n",
        "            g_loss = self.combined.train_on_batch(\n",
        "                                                    [noise, sampled_labels],\n",
        "                                                    valid\n",
        "                                                    )\n",
        "\n",
        "            # Plot the progress\n",
        "            if (epoch+1)%sample_interval==0:\n",
        "                print (f\"{epoch} [D loss: {d_loss[0]}, acc.: {100*d_loss[1]}] [G loss: {g_loss}]\")"
      ]
    },
    {
      "cell_type": "code",
      "execution_count": null,
      "metadata": {
        "id": "UkMV7qYDdPMI"
      },
      "outputs": [],
      "source": [
        "cgan = cGAN()"
      ]
    },
    {
      "cell_type": "code",
      "source": [
        "bg = cgan.build_generator()\n"
      ],
      "metadata": {
        "id": "voXWANY_5jMW"
      },
      "execution_count": null,
      "outputs": []
    },
    {
      "cell_type": "code",
      "source": [
        "plot_model(bg,\n",
        "           show_shapes = True,\n",
        "           show_layer_activations= True,\n",
        "           show_trainable=True\n",
        "          )"
      ],
      "metadata": {
        "id": "gSzLVR7M6VEl"
      },
      "execution_count": null,
      "outputs": []
    },
    {
      "cell_type": "code",
      "execution_count": null,
      "metadata": {
        "id": "OqhrEwpfdPMI"
      },
      "outputs": [],
      "source": [
        "y_train = y_train.reshape(-1,1)\n",
        "pos_index = np.where(y_train==1)[0]\n",
        "neg_index = np.where(y_train==0)[0]\n",
        "cgan.train(X_train, y_train, pos_index, neg_index, epochs=2000)"
      ]
    },
    {
      "cell_type": "code",
      "execution_count": 21,
      "metadata": {
        "id": "t0fT31t3dPMI",
        "outputId": "cda0f8c9-5241-4cad-ad8e-c8ec5cb1ce83",
        "colab": {
          "base_uri": "https://localhost:8080/"
        }
      },
      "outputs": [
        {
          "output_type": "stream",
          "name": "stdout",
          "text": [
            "13/13 [==============================] - 0s 3ms/step\n",
            "(400, 29)\n"
          ]
        }
      ],
      "source": [
        "# generating new samples\n",
        "noise = np.random.normal(0, 1, (400, 32))\n",
        "sampled_labels = np.ones(400).reshape(-1, 1)\n",
        "\n",
        "gen_samples = cgan.generator.predict([noise, sampled_labels])\n",
        "gen_samples = scaler.inverse_transform(gen_samples)\n",
        "print(gen_samples.shape)"
      ]
    },
    {
      "cell_type": "code",
      "execution_count": 22,
      "metadata": {
        "id": "cQIEZmemdPMJ",
        "outputId": "095b647b-ae06-4a23-a987-db4aa55100b9",
        "colab": {
          "base_uri": "https://localhost:8080/",
          "height": 291
        }
      },
      "outputs": [
        {
          "output_type": "stream",
          "name": "stderr",
          "text": [
            "<ipython-input-22-312fc4dc7fc0>:2: FutureWarning: In a future version of pandas all arguments of DataFrame.drop except for the argument 'labels' will be keyword-only.\n",
            "  columns = df.drop('Class',1).columns)\n"
          ]
        },
        {
          "output_type": "execute_result",
          "data": {
            "text/plain": [
              "         V1        V2        V3        V4        V5        V6        V7  \\\n",
              "0  1.707661  1.577391 -1.482015  1.405900  1.367177 -1.306782 -1.231760   \n",
              "1  1.860185  0.190648 -1.482012  1.386414  1.366191 -1.252315 -1.231758   \n",
              "2  1.798604  1.212123 -1.482015  1.397752  1.366598 -1.292992 -1.231760   \n",
              "3  1.893779 -0.398685 -1.481813  1.361137  1.360031 -1.266839 -1.231740   \n",
              "4  1.703730  1.356677 -1.482015  1.413042  1.367371 -1.295698 -1.231760   \n",
              "\n",
              "         V8        V9       V10  ...       V20       V21       V22       V23  \\\n",
              "0 -0.471787  1.061876 -1.083909  ...  0.737280 -0.697372  0.594570 -0.628692   \n",
              "1 -1.093282  1.028417 -1.083885  ...  0.781526 -0.709281  0.707243 -0.630052   \n",
              "2 -1.023590  1.021035 -1.083909  ...  0.778433 -0.702769  0.674938 -0.625855   \n",
              "3 -0.973174  1.032477 -1.081711  ...  0.782414 -0.703298  0.689367 -0.631899   \n",
              "4 -0.325333  0.998582 -1.083909  ...  0.736211 -0.708535  0.714070 -0.632144   \n",
              "\n",
              "        V24       V25       V26       V27       V28    Amount  \n",
              "0  0.598533  0.517187  0.043058  0.237836  0.321016  2.102749  \n",
              "1  0.596364  0.114660  0.352483  0.357831  0.252292  2.017584  \n",
              "2  0.597508  0.471156  0.167095  0.347962  0.289873  2.096982  \n",
              "3  0.593775 -0.432894  0.281465  0.396012  0.227760  0.747109  \n",
              "4  0.597125  0.445366  0.029826  0.208529  0.262734  2.104269  \n",
              "\n",
              "[5 rows x 29 columns]"
            ],
            "text/html": [
              "\n",
              "  <div id=\"df-f0734d9e-c27d-4aca-af69-b8693b0289b7\" class=\"colab-df-container\">\n",
              "    <div>\n",
              "<style scoped>\n",
              "    .dataframe tbody tr th:only-of-type {\n",
              "        vertical-align: middle;\n",
              "    }\n",
              "\n",
              "    .dataframe tbody tr th {\n",
              "        vertical-align: top;\n",
              "    }\n",
              "\n",
              "    .dataframe thead th {\n",
              "        text-align: right;\n",
              "    }\n",
              "</style>\n",
              "<table border=\"1\" class=\"dataframe\">\n",
              "  <thead>\n",
              "    <tr style=\"text-align: right;\">\n",
              "      <th></th>\n",
              "      <th>V1</th>\n",
              "      <th>V2</th>\n",
              "      <th>V3</th>\n",
              "      <th>V4</th>\n",
              "      <th>V5</th>\n",
              "      <th>V6</th>\n",
              "      <th>V7</th>\n",
              "      <th>V8</th>\n",
              "      <th>V9</th>\n",
              "      <th>V10</th>\n",
              "      <th>...</th>\n",
              "      <th>V20</th>\n",
              "      <th>V21</th>\n",
              "      <th>V22</th>\n",
              "      <th>V23</th>\n",
              "      <th>V24</th>\n",
              "      <th>V25</th>\n",
              "      <th>V26</th>\n",
              "      <th>V27</th>\n",
              "      <th>V28</th>\n",
              "      <th>Amount</th>\n",
              "    </tr>\n",
              "  </thead>\n",
              "  <tbody>\n",
              "    <tr>\n",
              "      <th>0</th>\n",
              "      <td>1.707661</td>\n",
              "      <td>1.577391</td>\n",
              "      <td>-1.482015</td>\n",
              "      <td>1.405900</td>\n",
              "      <td>1.367177</td>\n",
              "      <td>-1.306782</td>\n",
              "      <td>-1.231760</td>\n",
              "      <td>-0.471787</td>\n",
              "      <td>1.061876</td>\n",
              "      <td>-1.083909</td>\n",
              "      <td>...</td>\n",
              "      <td>0.737280</td>\n",
              "      <td>-0.697372</td>\n",
              "      <td>0.594570</td>\n",
              "      <td>-0.628692</td>\n",
              "      <td>0.598533</td>\n",
              "      <td>0.517187</td>\n",
              "      <td>0.043058</td>\n",
              "      <td>0.237836</td>\n",
              "      <td>0.321016</td>\n",
              "      <td>2.102749</td>\n",
              "    </tr>\n",
              "    <tr>\n",
              "      <th>1</th>\n",
              "      <td>1.860185</td>\n",
              "      <td>0.190648</td>\n",
              "      <td>-1.482012</td>\n",
              "      <td>1.386414</td>\n",
              "      <td>1.366191</td>\n",
              "      <td>-1.252315</td>\n",
              "      <td>-1.231758</td>\n",
              "      <td>-1.093282</td>\n",
              "      <td>1.028417</td>\n",
              "      <td>-1.083885</td>\n",
              "      <td>...</td>\n",
              "      <td>0.781526</td>\n",
              "      <td>-0.709281</td>\n",
              "      <td>0.707243</td>\n",
              "      <td>-0.630052</td>\n",
              "      <td>0.596364</td>\n",
              "      <td>0.114660</td>\n",
              "      <td>0.352483</td>\n",
              "      <td>0.357831</td>\n",
              "      <td>0.252292</td>\n",
              "      <td>2.017584</td>\n",
              "    </tr>\n",
              "    <tr>\n",
              "      <th>2</th>\n",
              "      <td>1.798604</td>\n",
              "      <td>1.212123</td>\n",
              "      <td>-1.482015</td>\n",
              "      <td>1.397752</td>\n",
              "      <td>1.366598</td>\n",
              "      <td>-1.292992</td>\n",
              "      <td>-1.231760</td>\n",
              "      <td>-1.023590</td>\n",
              "      <td>1.021035</td>\n",
              "      <td>-1.083909</td>\n",
              "      <td>...</td>\n",
              "      <td>0.778433</td>\n",
              "      <td>-0.702769</td>\n",
              "      <td>0.674938</td>\n",
              "      <td>-0.625855</td>\n",
              "      <td>0.597508</td>\n",
              "      <td>0.471156</td>\n",
              "      <td>0.167095</td>\n",
              "      <td>0.347962</td>\n",
              "      <td>0.289873</td>\n",
              "      <td>2.096982</td>\n",
              "    </tr>\n",
              "    <tr>\n",
              "      <th>3</th>\n",
              "      <td>1.893779</td>\n",
              "      <td>-0.398685</td>\n",
              "      <td>-1.481813</td>\n",
              "      <td>1.361137</td>\n",
              "      <td>1.360031</td>\n",
              "      <td>-1.266839</td>\n",
              "      <td>-1.231740</td>\n",
              "      <td>-0.973174</td>\n",
              "      <td>1.032477</td>\n",
              "      <td>-1.081711</td>\n",
              "      <td>...</td>\n",
              "      <td>0.782414</td>\n",
              "      <td>-0.703298</td>\n",
              "      <td>0.689367</td>\n",
              "      <td>-0.631899</td>\n",
              "      <td>0.593775</td>\n",
              "      <td>-0.432894</td>\n",
              "      <td>0.281465</td>\n",
              "      <td>0.396012</td>\n",
              "      <td>0.227760</td>\n",
              "      <td>0.747109</td>\n",
              "    </tr>\n",
              "    <tr>\n",
              "      <th>4</th>\n",
              "      <td>1.703730</td>\n",
              "      <td>1.356677</td>\n",
              "      <td>-1.482015</td>\n",
              "      <td>1.413042</td>\n",
              "      <td>1.367371</td>\n",
              "      <td>-1.295698</td>\n",
              "      <td>-1.231760</td>\n",
              "      <td>-0.325333</td>\n",
              "      <td>0.998582</td>\n",
              "      <td>-1.083909</td>\n",
              "      <td>...</td>\n",
              "      <td>0.736211</td>\n",
              "      <td>-0.708535</td>\n",
              "      <td>0.714070</td>\n",
              "      <td>-0.632144</td>\n",
              "      <td>0.597125</td>\n",
              "      <td>0.445366</td>\n",
              "      <td>0.029826</td>\n",
              "      <td>0.208529</td>\n",
              "      <td>0.262734</td>\n",
              "      <td>2.104269</td>\n",
              "    </tr>\n",
              "  </tbody>\n",
              "</table>\n",
              "<p>5 rows × 29 columns</p>\n",
              "</div>\n",
              "    <div class=\"colab-df-buttons\">\n",
              "\n",
              "  <div class=\"colab-df-container\">\n",
              "    <button class=\"colab-df-convert\" onclick=\"convertToInteractive('df-f0734d9e-c27d-4aca-af69-b8693b0289b7')\"\n",
              "            title=\"Convert this dataframe to an interactive table.\"\n",
              "            style=\"display:none;\">\n",
              "\n",
              "  <svg xmlns=\"http://www.w3.org/2000/svg\" height=\"24px\" viewBox=\"0 -960 960 960\">\n",
              "    <path d=\"M120-120v-720h720v720H120Zm60-500h600v-160H180v160Zm220 220h160v-160H400v160Zm0 220h160v-160H400v160ZM180-400h160v-160H180v160Zm440 0h160v-160H620v160ZM180-180h160v-160H180v160Zm440 0h160v-160H620v160Z\"/>\n",
              "  </svg>\n",
              "    </button>\n",
              "\n",
              "  <style>\n",
              "    .colab-df-container {\n",
              "      display:flex;\n",
              "      gap: 12px;\n",
              "    }\n",
              "\n",
              "    .colab-df-convert {\n",
              "      background-color: #E8F0FE;\n",
              "      border: none;\n",
              "      border-radius: 50%;\n",
              "      cursor: pointer;\n",
              "      display: none;\n",
              "      fill: #1967D2;\n",
              "      height: 32px;\n",
              "      padding: 0 0 0 0;\n",
              "      width: 32px;\n",
              "    }\n",
              "\n",
              "    .colab-df-convert:hover {\n",
              "      background-color: #E2EBFA;\n",
              "      box-shadow: 0px 1px 2px rgba(60, 64, 67, 0.3), 0px 1px 3px 1px rgba(60, 64, 67, 0.15);\n",
              "      fill: #174EA6;\n",
              "    }\n",
              "\n",
              "    .colab-df-buttons div {\n",
              "      margin-bottom: 4px;\n",
              "    }\n",
              "\n",
              "    [theme=dark] .colab-df-convert {\n",
              "      background-color: #3B4455;\n",
              "      fill: #D2E3FC;\n",
              "    }\n",
              "\n",
              "    [theme=dark] .colab-df-convert:hover {\n",
              "      background-color: #434B5C;\n",
              "      box-shadow: 0px 1px 3px 1px rgba(0, 0, 0, 0.15);\n",
              "      filter: drop-shadow(0px 1px 2px rgba(0, 0, 0, 0.3));\n",
              "      fill: #FFFFFF;\n",
              "    }\n",
              "  </style>\n",
              "\n",
              "    <script>\n",
              "      const buttonEl =\n",
              "        document.querySelector('#df-f0734d9e-c27d-4aca-af69-b8693b0289b7 button.colab-df-convert');\n",
              "      buttonEl.style.display =\n",
              "        google.colab.kernel.accessAllowed ? 'block' : 'none';\n",
              "\n",
              "      async function convertToInteractive(key) {\n",
              "        const element = document.querySelector('#df-f0734d9e-c27d-4aca-af69-b8693b0289b7');\n",
              "        const dataTable =\n",
              "          await google.colab.kernel.invokeFunction('convertToInteractive',\n",
              "                                                    [key], {});\n",
              "        if (!dataTable) return;\n",
              "\n",
              "        const docLinkHtml = 'Like what you see? Visit the ' +\n",
              "          '<a target=\"_blank\" href=https://colab.research.google.com/notebooks/data_table.ipynb>data table notebook</a>'\n",
              "          + ' to learn more about interactive tables.';\n",
              "        element.innerHTML = '';\n",
              "        dataTable['output_type'] = 'display_data';\n",
              "        await google.colab.output.renderOutput(dataTable, element);\n",
              "        const docLink = document.createElement('div');\n",
              "        docLink.innerHTML = docLinkHtml;\n",
              "        element.appendChild(docLink);\n",
              "      }\n",
              "    </script>\n",
              "  </div>\n",
              "\n",
              "\n",
              "<div id=\"df-72e0443e-02e8-4c38-9884-0a91ad30b4f0\">\n",
              "  <button class=\"colab-df-quickchart\" onclick=\"quickchart('df-72e0443e-02e8-4c38-9884-0a91ad30b4f0')\"\n",
              "            title=\"Suggest charts.\"\n",
              "            style=\"display:none;\">\n",
              "\n",
              "<svg xmlns=\"http://www.w3.org/2000/svg\" height=\"24px\"viewBox=\"0 0 24 24\"\n",
              "     width=\"24px\">\n",
              "    <g>\n",
              "        <path d=\"M19 3H5c-1.1 0-2 .9-2 2v14c0 1.1.9 2 2 2h14c1.1 0 2-.9 2-2V5c0-1.1-.9-2-2-2zM9 17H7v-7h2v7zm4 0h-2V7h2v10zm4 0h-2v-4h2v4z\"/>\n",
              "    </g>\n",
              "</svg>\n",
              "  </button>\n",
              "\n",
              "<style>\n",
              "  .colab-df-quickchart {\n",
              "      --bg-color: #E8F0FE;\n",
              "      --fill-color: #1967D2;\n",
              "      --hover-bg-color: #E2EBFA;\n",
              "      --hover-fill-color: #174EA6;\n",
              "      --disabled-fill-color: #AAA;\n",
              "      --disabled-bg-color: #DDD;\n",
              "  }\n",
              "\n",
              "  [theme=dark] .colab-df-quickchart {\n",
              "      --bg-color: #3B4455;\n",
              "      --fill-color: #D2E3FC;\n",
              "      --hover-bg-color: #434B5C;\n",
              "      --hover-fill-color: #FFFFFF;\n",
              "      --disabled-bg-color: #3B4455;\n",
              "      --disabled-fill-color: #666;\n",
              "  }\n",
              "\n",
              "  .colab-df-quickchart {\n",
              "    background-color: var(--bg-color);\n",
              "    border: none;\n",
              "    border-radius: 50%;\n",
              "    cursor: pointer;\n",
              "    display: none;\n",
              "    fill: var(--fill-color);\n",
              "    height: 32px;\n",
              "    padding: 0;\n",
              "    width: 32px;\n",
              "  }\n",
              "\n",
              "  .colab-df-quickchart:hover {\n",
              "    background-color: var(--hover-bg-color);\n",
              "    box-shadow: 0 1px 2px rgba(60, 64, 67, 0.3), 0 1px 3px 1px rgba(60, 64, 67, 0.15);\n",
              "    fill: var(--button-hover-fill-color);\n",
              "  }\n",
              "\n",
              "  .colab-df-quickchart-complete:disabled,\n",
              "  .colab-df-quickchart-complete:disabled:hover {\n",
              "    background-color: var(--disabled-bg-color);\n",
              "    fill: var(--disabled-fill-color);\n",
              "    box-shadow: none;\n",
              "  }\n",
              "\n",
              "  .colab-df-spinner {\n",
              "    border: 2px solid var(--fill-color);\n",
              "    border-color: transparent;\n",
              "    border-bottom-color: var(--fill-color);\n",
              "    animation:\n",
              "      spin 1s steps(1) infinite;\n",
              "  }\n",
              "\n",
              "  @keyframes spin {\n",
              "    0% {\n",
              "      border-color: transparent;\n",
              "      border-bottom-color: var(--fill-color);\n",
              "      border-left-color: var(--fill-color);\n",
              "    }\n",
              "    20% {\n",
              "      border-color: transparent;\n",
              "      border-left-color: var(--fill-color);\n",
              "      border-top-color: var(--fill-color);\n",
              "    }\n",
              "    30% {\n",
              "      border-color: transparent;\n",
              "      border-left-color: var(--fill-color);\n",
              "      border-top-color: var(--fill-color);\n",
              "      border-right-color: var(--fill-color);\n",
              "    }\n",
              "    40% {\n",
              "      border-color: transparent;\n",
              "      border-right-color: var(--fill-color);\n",
              "      border-top-color: var(--fill-color);\n",
              "    }\n",
              "    60% {\n",
              "      border-color: transparent;\n",
              "      border-right-color: var(--fill-color);\n",
              "    }\n",
              "    80% {\n",
              "      border-color: transparent;\n",
              "      border-right-color: var(--fill-color);\n",
              "      border-bottom-color: var(--fill-color);\n",
              "    }\n",
              "    90% {\n",
              "      border-color: transparent;\n",
              "      border-bottom-color: var(--fill-color);\n",
              "    }\n",
              "  }\n",
              "</style>\n",
              "\n",
              "  <script>\n",
              "    async function quickchart(key) {\n",
              "      const quickchartButtonEl =\n",
              "        document.querySelector('#' + key + ' button');\n",
              "      quickchartButtonEl.disabled = true;  // To prevent multiple clicks.\n",
              "      quickchartButtonEl.classList.add('colab-df-spinner');\n",
              "      try {\n",
              "        const charts = await google.colab.kernel.invokeFunction(\n",
              "            'suggestCharts', [key], {});\n",
              "      } catch (error) {\n",
              "        console.error('Error during call to suggestCharts:', error);\n",
              "      }\n",
              "      quickchartButtonEl.classList.remove('colab-df-spinner');\n",
              "      quickchartButtonEl.classList.add('colab-df-quickchart-complete');\n",
              "    }\n",
              "    (() => {\n",
              "      let quickchartButtonEl =\n",
              "        document.querySelector('#df-72e0443e-02e8-4c38-9884-0a91ad30b4f0 button');\n",
              "      quickchartButtonEl.style.display =\n",
              "        google.colab.kernel.accessAllowed ? 'block' : 'none';\n",
              "    })();\n",
              "  </script>\n",
              "</div>\n",
              "    </div>\n",
              "  </div>\n"
            ]
          },
          "metadata": {},
          "execution_count": 22
        }
      ],
      "source": [
        "gen_df = pd.DataFrame(data = gen_samples,\n",
        "                      columns = df.drop('Class',1).columns)\n",
        "gen_df.head()"
      ]
    },
    {
      "cell_type": "code",
      "execution_count": 25,
      "metadata": {
        "id": "NBnAP_ofdPMJ",
        "outputId": "eb21d4a1-0518-49b9-aa5d-39686618d8b8",
        "colab": {
          "base_uri": "https://localhost:8080/",
          "height": 386
        }
      },
      "outputs": [
        {
          "output_type": "execute_result",
          "data": {
            "text/plain": [
              "<matplotlib.collections.PathCollection at 0x79db33055fc0>"
            ]
          },
          "metadata": {},
          "execution_count": 25
        },
        {
          "output_type": "execute_result",
          "data": {
            "text/plain": [
              "<matplotlib.collections.PathCollection at 0x79db33055de0>"
            ]
          },
          "metadata": {},
          "execution_count": 25
        },
        {
          "output_type": "display_data",
          "data": {
            "text/plain": [
              "<Figure size 1200x400 with 2 Axes>"
            ],
            "image/png": "[encoded data removed]"
          },
          "metadata": {}
        }
      ],
      "source": [
        "fig, ax = plt.subplots(nrows=1, ncols=2, figsize=(12,4))\n",
        "ax[0].scatter(df[df['Class']==1]['Amount'], df[df['Class']==1]['V1'])\n",
        "ax[1].scatter(gen_df['Amount'], gen_df['V1'])\n",
        "plt.show()"
      ]
    },
    {
      "cell_type": "code",
      "execution_count": 24,
      "metadata": {
        "id": "Z899ISWRdPMJ"
      },
      "outputs": [],
      "source": [
        "import tensorflow as tf\n",
        "\n",
        "inputs = tf.keras.Input(shape=(3,))\n",
        "x = tf.keras.layers.Dense(4, activation=tf.nn.relu)(inputs)\n",
        "outputs = tf.keras.layers.Dense(5, activation=tf.nn.softmax)(x)\n",
        "model = tf.keras.Model(inputs=inputs, outputs=outputs)"
      ]
    },
    {
      "cell_type": "code",
      "source": [],
      "metadata": {
        "id": "twX8_NdbBFyy"
      },
      "execution_count": null,
      "outputs": []
    }
  ],
  "metadata": {
    "kernelspec": {
      "display_name": "Python 3",
      "name": "python3"
    },
    "language_info": {
      "codemirror_mode": {
        "name": "ipython",
        "version": 3
      },
      "file_extension": ".py",
      "mimetype": "text/x-python",
      "name": "python",
      "nbconvert_exporter": "python",
      "pygments_lexer": "ipython3",
      "version": "3.6.6"
    },
    "colab": {
      "provenance": [],
      "include_colab_link": true
    }
  },
  "nbformat": 4,
  "nbformat_minor": 0
}