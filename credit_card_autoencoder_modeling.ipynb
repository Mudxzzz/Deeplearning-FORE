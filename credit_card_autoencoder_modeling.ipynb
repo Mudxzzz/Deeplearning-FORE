{
  "nbformat": 4,
  "nbformat_minor": 0,
  "metadata": {
    "colab": {
      "provenance": [],
      "include_colab_link": true
    },
    "kernelspec": {
      "name": "python3",
      "display_name": "Python 3"
    },
    "language_info": {
      "name": "python"
    }
  },
  "cells": [
    {
      "cell_type": "markdown",
      "metadata": {
        "id": "view-in-github",
        "colab_type": "text"
      },
      "source": [
        "<a href=\"https://colab.research.google.com/github/harnalashok/deeplearning/blob/main/credit_card_autoencoder_modeling.ipynb\" target=\"_parent\"><img src=\"https://colab.research.google.com/assets/colab-badge.svg\" alt=\"Open In Colab\"/></a>"
      ]
    },
    {
      "cell_type": "code",
      "source": [
        "# Last amended: 10th Nov, 2023\n",
        "# Mumbai\n",
        "# Created by Piyush Kumar  , UBI"
      ],
      "metadata": {
        "id": "x8AnDJeg5Kxu"
      },
      "execution_count": null,
      "outputs": []
    },
    {
      "cell_type": "code",
      "execution_count": 1,
      "metadata": {
        "id": "dP7_4QKKSkX1"
      },
      "outputs": [],
      "source": [
        "# 1.0\n",
        "import numpy as np\n",
        "import pandas as pd\n",
        "import tensorflow as tf\n",
        "import matplotlib.pyplot as plt\n",
        "\n",
        "\n",
        "from sklearn.model_selection import train_test_split\n",
        "from sklearn.preprocessing import StandardScaler"
      ]
    },
    {
      "cell_type": "code",
      "source": [
        "# 1.0.1\n",
        "from IPython.core.interactiveshell import InteractiveShell\n",
        "InteractiveShell.ast_node_interactivity = \"all\""
      ],
      "metadata": {
        "id": "1J7o4BvNTyOr"
      },
      "execution_count": 2,
      "outputs": []
    },
    {
      "cell_type": "code",
      "source": [
        "# 1.1\n",
        "from google.colab import drive\n",
        "drive.mount('/gdrive')"
      ],
      "metadata": {
        "colab": {
          "base_uri": "https://localhost:8080/"
        },
        "id": "oHHxnnTK09kf",
        "outputId": "2ddc7587-e30b-41bf-e8b2-3067e6d38814"
      },
      "execution_count": 3,
      "outputs": [
        {
          "output_type": "stream",
          "name": "stdout",
          "text": [
            "Mounted at /gdrive\n"
          ]
        }
      ]
    },
    {
      "cell_type": "markdown",
      "source": [
        "# Read data and process"
      ],
      "metadata": {
        "id": "5lX2q9JM5_BV"
      }
    },
    {
      "cell_type": "code",
      "source": [
        "# 2.0\n",
        "pathToFolder= \"/gdrive/MyDrive/Colab_data_files/creditcard/\"\n",
        "file = \"creditcardfraud.zip\""
      ],
      "metadata": {
        "id": "bW7tGUWj5i90"
      },
      "execution_count": 4,
      "outputs": []
    },
    {
      "cell_type": "code",
      "source": [
        "# 2.0\n",
        "df = pd.read_csv(pathToFolder + file)\n",
        "df.head()"
      ],
      "metadata": {
        "colab": {
          "base_uri": "https://localhost:8080/",
          "height": 235
        },
        "id": "ZiflsmW20828",
        "outputId": "f0b0bd50-b46e-45d7-eef7-fdfd34b21a71"
      },
      "execution_count": 5,
      "outputs": [
        {
          "output_type": "execute_result",
          "data": {
            "text/plain": [
              "   Time        V1        V2        V3        V4        V5        V6        V7  \\\n",
              "0   0.0 -1.359807 -0.072781  2.536347  1.378155 -0.338321  0.462388  0.239599   \n",
              "1   0.0  1.191857  0.266151  0.166480  0.448154  0.060018 -0.082361 -0.078803   \n",
              "2   1.0 -1.358354 -1.340163  1.773209  0.379780 -0.503198  1.800499  0.791461   \n",
              "3   1.0 -0.966272 -0.185226  1.792993 -0.863291 -0.010309  1.247203  0.237609   \n",
              "4   2.0 -1.158233  0.877737  1.548718  0.403034 -0.407193  0.095921  0.592941   \n",
              "\n",
              "         V8        V9  ...       V21       V22       V23       V24       V25  \\\n",
              "0  0.098698  0.363787  ... -0.018307  0.277838 -0.110474  0.066928  0.128539   \n",
              "1  0.085102 -0.255425  ... -0.225775 -0.638672  0.101288 -0.339846  0.167170   \n",
              "2  0.247676 -1.514654  ...  0.247998  0.771679  0.909412 -0.689281 -0.327642   \n",
              "3  0.377436 -1.387024  ... -0.108300  0.005274 -0.190321 -1.175575  0.647376   \n",
              "4 -0.270533  0.817739  ... -0.009431  0.798278 -0.137458  0.141267 -0.206010   \n",
              "\n",
              "        V26       V27       V28  Amount  Class  \n",
              "0 -0.189115  0.133558 -0.021053  149.62      0  \n",
              "1  0.125895 -0.008983  0.014724    2.69      0  \n",
              "2 -0.139097 -0.055353 -0.059752  378.66      0  \n",
              "3 -0.221929  0.062723  0.061458  123.50      0  \n",
              "4  0.502292  0.219422  0.215153   69.99      0  \n",
              "\n",
              "[5 rows x 31 columns]"
            ],
            "text/html": [
              "\n",
              "  <div id=\"df-26f38b45-f115-461b-a311-730a0db70d7f\" class=\"colab-df-container\">\n",
              "    <div>\n",
              "<style scoped>\n",
              "    .dataframe tbody tr th:only-of-type {\n",
              "        vertical-align: middle;\n",
              "    }\n",
              "\n",
              "    .dataframe tbody tr th {\n",
              "        vertical-align: top;\n",
              "    }\n",
              "\n",
              "    .dataframe thead th {\n",
              "        text-align: right;\n",
              "    }\n",
              "</style>\n",
              "<table border=\"1\" class=\"dataframe\">\n",
              "  <thead>\n",
              "    <tr style=\"text-align: right;\">\n",
              "      <th></th>\n",
              "      <th>Time</th>\n",
              "      <th>V1</th>\n",
              "      <th>V2</th>\n",
              "      <th>V3</th>\n",
              "      <th>V4</th>\n",
              "      <th>V5</th>\n",
              "      <th>V6</th>\n",
              "      <th>V7</th>\n",
              "      <th>V8</th>\n",
              "      <th>V9</th>\n",
              "      <th>...</th>\n",
              "      <th>V21</th>\n",
              "      <th>V22</th>\n",
              "      <th>V23</th>\n",
              "      <th>V24</th>\n",
              "      <th>V25</th>\n",
              "      <th>V26</th>\n",
              "      <th>V27</th>\n",
              "      <th>V28</th>\n",
              "      <th>Amount</th>\n",
              "      <th>Class</th>\n",
              "    </tr>\n",
              "  </thead>\n",
              "  <tbody>\n",
              "    <tr>\n",
              "      <th>0</th>\n",
              "      <td>0.0</td>\n",
              "      <td>-1.359807</td>\n",
              "      <td>-0.072781</td>\n",
              "      <td>2.536347</td>\n",
              "      <td>1.378155</td>\n",
              "      <td>-0.338321</td>\n",
              "      <td>0.462388</td>\n",
              "      <td>0.239599</td>\n",
              "      <td>0.098698</td>\n",
              "      <td>0.363787</td>\n",
              "      <td>...</td>\n",
              "      <td>-0.018307</td>\n",
              "      <td>0.277838</td>\n",
              "      <td>-0.110474</td>\n",
              "      <td>0.066928</td>\n",
              "      <td>0.128539</td>\n",
              "      <td>-0.189115</td>\n",
              "      <td>0.133558</td>\n",
              "      <td>-0.021053</td>\n",
              "      <td>149.62</td>\n",
              "      <td>0</td>\n",
              "    </tr>\n",
              "    <tr>\n",
              "      <th>1</th>\n",
              "      <td>0.0</td>\n",
              "      <td>1.191857</td>\n",
              "      <td>0.266151</td>\n",
              "      <td>0.166480</td>\n",
              "      <td>0.448154</td>\n",
              "      <td>0.060018</td>\n",
              "      <td>-0.082361</td>\n",
              "      <td>-0.078803</td>\n",
              "      <td>0.085102</td>\n",
              "      <td>-0.255425</td>\n",
              "      <td>...</td>\n",
              "      <td>-0.225775</td>\n",
              "      <td>-0.638672</td>\n",
              "      <td>0.101288</td>\n",
              "      <td>-0.339846</td>\n",
              "      <td>0.167170</td>\n",
              "      <td>0.125895</td>\n",
              "      <td>-0.008983</td>\n",
              "      <td>0.014724</td>\n",
              "      <td>2.69</td>\n",
              "      <td>0</td>\n",
              "    </tr>\n",
              "    <tr>\n",
              "      <th>2</th>\n",
              "      <td>1.0</td>\n",
              "      <td>-1.358354</td>\n",
              "      <td>-1.340163</td>\n",
              "      <td>1.773209</td>\n",
              "      <td>0.379780</td>\n",
              "      <td>-0.503198</td>\n",
              "      <td>1.800499</td>\n",
              "      <td>0.791461</td>\n",
              "      <td>0.247676</td>\n",
              "      <td>-1.514654</td>\n",
              "      <td>...</td>\n",
              "      <td>0.247998</td>\n",
              "      <td>0.771679</td>\n",
              "      <td>0.909412</td>\n",
              "      <td>-0.689281</td>\n",
              "      <td>-0.327642</td>\n",
              "      <td>-0.139097</td>\n",
              "      <td>-0.055353</td>\n",
              "      <td>-0.059752</td>\n",
              "      <td>378.66</td>\n",
              "      <td>0</td>\n",
              "    </tr>\n",
              "    <tr>\n",
              "      <th>3</th>\n",
              "      <td>1.0</td>\n",
              "      <td>-0.966272</td>\n",
              "      <td>-0.185226</td>\n",
              "      <td>1.792993</td>\n",
              "      <td>-0.863291</td>\n",
              "      <td>-0.010309</td>\n",
              "      <td>1.247203</td>\n",
              "      <td>0.237609</td>\n",
              "      <td>0.377436</td>\n",
              "      <td>-1.387024</td>\n",
              "      <td>...</td>\n",
              "      <td>-0.108300</td>\n",
              "      <td>0.005274</td>\n",
              "      <td>-0.190321</td>\n",
              "      <td>-1.175575</td>\n",
              "      <td>0.647376</td>\n",
              "      <td>-0.221929</td>\n",
              "      <td>0.062723</td>\n",
              "      <td>0.061458</td>\n",
              "      <td>123.50</td>\n",
              "      <td>0</td>\n",
              "    </tr>\n",
              "    <tr>\n",
              "      <th>4</th>\n",
              "      <td>2.0</td>\n",
              "      <td>-1.158233</td>\n",
              "      <td>0.877737</td>\n",
              "      <td>1.548718</td>\n",
              "      <td>0.403034</td>\n",
              "      <td>-0.407193</td>\n",
              "      <td>0.095921</td>\n",
              "      <td>0.592941</td>\n",
              "      <td>-0.270533</td>\n",
              "      <td>0.817739</td>\n",
              "      <td>...</td>\n",
              "      <td>-0.009431</td>\n",
              "      <td>0.798278</td>\n",
              "      <td>-0.137458</td>\n",
              "      <td>0.141267</td>\n",
              "      <td>-0.206010</td>\n",
              "      <td>0.502292</td>\n",
              "      <td>0.219422</td>\n",
              "      <td>0.215153</td>\n",
              "      <td>69.99</td>\n",
              "      <td>0</td>\n",
              "    </tr>\n",
              "  </tbody>\n",
              "</table>\n",
              "<p>5 rows × 31 columns</p>\n",
              "</div>\n",
              "    <div class=\"colab-df-buttons\">\n",
              "\n",
              "  <div class=\"colab-df-container\">\n",
              "    <button class=\"colab-df-convert\" onclick=\"convertToInteractive('df-26f38b45-f115-461b-a311-730a0db70d7f')\"\n",
              "            title=\"Convert this dataframe to an interactive table.\"\n",
              "            style=\"display:none;\">\n",
              "\n",
              "  <svg xmlns=\"http://www.w3.org/2000/svg\" height=\"24px\" viewBox=\"0 -960 960 960\">\n",
              "    <path d=\"M120-120v-720h720v720H120Zm60-500h600v-160H180v160Zm220 220h160v-160H400v160Zm0 220h160v-160H400v160ZM180-400h160v-160H180v160Zm440 0h160v-160H620v160ZM180-180h160v-160H180v160Zm440 0h160v-160H620v160Z\"/>\n",
              "  </svg>\n",
              "    </button>\n",
              "\n",
              "  <style>\n",
              "    .colab-df-container {\n",
              "      display:flex;\n",
              "      gap: 12px;\n",
              "    }\n",
              "\n",
              "    .colab-df-convert {\n",
              "      background-color: #E8F0FE;\n",
              "      border: none;\n",
              "      border-radius: 50%;\n",
              "      cursor: pointer;\n",
              "      display: none;\n",
              "      fill: #1967D2;\n",
              "      height: 32px;\n",
              "      padding: 0 0 0 0;\n",
              "      width: 32px;\n",
              "    }\n",
              "\n",
              "    .colab-df-convert:hover {\n",
              "      background-color: #E2EBFA;\n",
              "      box-shadow: 0px 1px 2px rgba(60, 64, 67, 0.3), 0px 1px 3px 1px rgba(60, 64, 67, 0.15);\n",
              "      fill: #174EA6;\n",
              "    }\n",
              "\n",
              "    .colab-df-buttons div {\n",
              "      margin-bottom: 4px;\n",
              "    }\n",
              "\n",
              "    [theme=dark] .colab-df-convert {\n",
              "      background-color: #3B4455;\n",
              "      fill: #D2E3FC;\n",
              "    }\n",
              "\n",
              "    [theme=dark] .colab-df-convert:hover {\n",
              "      background-color: #434B5C;\n",
              "      box-shadow: 0px 1px 3px 1px rgba(0, 0, 0, 0.15);\n",
              "      filter: drop-shadow(0px 1px 2px rgba(0, 0, 0, 0.3));\n",
              "      fill: #FFFFFF;\n",
              "    }\n",
              "  </style>\n",
              "\n",
              "    <script>\n",
              "      const buttonEl =\n",
              "        document.querySelector('#df-26f38b45-f115-461b-a311-730a0db70d7f button.colab-df-convert');\n",
              "      buttonEl.style.display =\n",
              "        google.colab.kernel.accessAllowed ? 'block' : 'none';\n",
              "\n",
              "      async function convertToInteractive(key) {\n",
              "        const element = document.querySelector('#df-26f38b45-f115-461b-a311-730a0db70d7f');\n",
              "        const dataTable =\n",
              "          await google.colab.kernel.invokeFunction('convertToInteractive',\n",
              "                                                    [key], {});\n",
              "        if (!dataTable) return;\n",
              "\n",
              "        const docLinkHtml = 'Like what you see? Visit the ' +\n",
              "          '<a target=\"_blank\" href=https://colab.research.google.com/notebooks/data_table.ipynb>data table notebook</a>'\n",
              "          + ' to learn more about interactive tables.';\n",
              "        element.innerHTML = '';\n",
              "        dataTable['output_type'] = 'display_data';\n",
              "        await google.colab.output.renderOutput(dataTable, element);\n",
              "        const docLink = document.createElement('div');\n",
              "        docLink.innerHTML = docLinkHtml;\n",
              "        element.appendChild(docLink);\n",
              "      }\n",
              "    </script>\n",
              "  </div>\n",
              "\n",
              "\n",
              "<div id=\"df-657115db-70c6-45d1-ab60-c8eb1aca1bc4\">\n",
              "  <button class=\"colab-df-quickchart\" onclick=\"quickchart('df-657115db-70c6-45d1-ab60-c8eb1aca1bc4')\"\n",
              "            title=\"Suggest charts\"\n",
              "            style=\"display:none;\">\n",
              "\n",
              "<svg xmlns=\"http://www.w3.org/2000/svg\" height=\"24px\"viewBox=\"0 0 24 24\"\n",
              "     width=\"24px\">\n",
              "    <g>\n",
              "        <path d=\"M19 3H5c-1.1 0-2 .9-2 2v14c0 1.1.9 2 2 2h14c1.1 0 2-.9 2-2V5c0-1.1-.9-2-2-2zM9 17H7v-7h2v7zm4 0h-2V7h2v10zm4 0h-2v-4h2v4z\"/>\n",
              "    </g>\n",
              "</svg>\n",
              "  </button>\n",
              "\n",
              "<style>\n",
              "  .colab-df-quickchart {\n",
              "      --bg-color: #E8F0FE;\n",
              "      --fill-color: #1967D2;\n",
              "      --hover-bg-color: #E2EBFA;\n",
              "      --hover-fill-color: #174EA6;\n",
              "      --disabled-fill-color: #AAA;\n",
              "      --disabled-bg-color: #DDD;\n",
              "  }\n",
              "\n",
              "  [theme=dark] .colab-df-quickchart {\n",
              "      --bg-color: #3B4455;\n",
              "      --fill-color: #D2E3FC;\n",
              "      --hover-bg-color: #434B5C;\n",
              "      --hover-fill-color: #FFFFFF;\n",
              "      --disabled-bg-color: #3B4455;\n",
              "      --disabled-fill-color: #666;\n",
              "  }\n",
              "\n",
              "  .colab-df-quickchart {\n",
              "    background-color: var(--bg-color);\n",
              "    border: none;\n",
              "    border-radius: 50%;\n",
              "    cursor: pointer;\n",
              "    display: none;\n",
              "    fill: var(--fill-color);\n",
              "    height: 32px;\n",
              "    padding: 0;\n",
              "    width: 32px;\n",
              "  }\n",
              "\n",
              "  .colab-df-quickchart:hover {\n",
              "    background-color: var(--hover-bg-color);\n",
              "    box-shadow: 0 1px 2px rgba(60, 64, 67, 0.3), 0 1px 3px 1px rgba(60, 64, 67, 0.15);\n",
              "    fill: var(--button-hover-fill-color);\n",
              "  }\n",
              "\n",
              "  .colab-df-quickchart-complete:disabled,\n",
              "  .colab-df-quickchart-complete:disabled:hover {\n",
              "    background-color: var(--disabled-bg-color);\n",
              "    fill: var(--disabled-fill-color);\n",
              "    box-shadow: none;\n",
              "  }\n",
              "\n",
              "  .colab-df-spinner {\n",
              "    border: 2px solid var(--fill-color);\n",
              "    border-color: transparent;\n",
              "    border-bottom-color: var(--fill-color);\n",
              "    animation:\n",
              "      spin 1s steps(1) infinite;\n",
              "  }\n",
              "\n",
              "  @keyframes spin {\n",
              "    0% {\n",
              "      border-color: transparent;\n",
              "      border-bottom-color: var(--fill-color);\n",
              "      border-left-color: var(--fill-color);\n",
              "    }\n",
              "    20% {\n",
              "      border-color: transparent;\n",
              "      border-left-color: var(--fill-color);\n",
              "      border-top-color: var(--fill-color);\n",
              "    }\n",
              "    30% {\n",
              "      border-color: transparent;\n",
              "      border-left-color: var(--fill-color);\n",
              "      border-top-color: var(--fill-color);\n",
              "      border-right-color: var(--fill-color);\n",
              "    }\n",
              "    40% {\n",
              "      border-color: transparent;\n",
              "      border-right-color: var(--fill-color);\n",
              "      border-top-color: var(--fill-color);\n",
              "    }\n",
              "    60% {\n",
              "      border-color: transparent;\n",
              "      border-right-color: var(--fill-color);\n",
              "    }\n",
              "    80% {\n",
              "      border-color: transparent;\n",
              "      border-right-color: var(--fill-color);\n",
              "      border-bottom-color: var(--fill-color);\n",
              "    }\n",
              "    90% {\n",
              "      border-color: transparent;\n",
              "      border-bottom-color: var(--fill-color);\n",
              "    }\n",
              "  }\n",
              "</style>\n",
              "\n",
              "  <script>\n",
              "    async function quickchart(key) {\n",
              "      const quickchartButtonEl =\n",
              "        document.querySelector('#' + key + ' button');\n",
              "      quickchartButtonEl.disabled = true;  // To prevent multiple clicks.\n",
              "      quickchartButtonEl.classList.add('colab-df-spinner');\n",
              "      try {\n",
              "        const charts = await google.colab.kernel.invokeFunction(\n",
              "            'suggestCharts', [key], {});\n",
              "      } catch (error) {\n",
              "        console.error('Error during call to suggestCharts:', error);\n",
              "      }\n",
              "      quickchartButtonEl.classList.remove('colab-df-spinner');\n",
              "      quickchartButtonEl.classList.add('colab-df-quickchart-complete');\n",
              "    }\n",
              "    (() => {\n",
              "      let quickchartButtonEl =\n",
              "        document.querySelector('#df-657115db-70c6-45d1-ab60-c8eb1aca1bc4 button');\n",
              "      quickchartButtonEl.style.display =\n",
              "        google.colab.kernel.accessAllowed ? 'block' : 'none';\n",
              "    })();\n",
              "  </script>\n",
              "</div>\n",
              "    </div>\n",
              "  </div>\n"
            ]
          },
          "metadata": {},
          "execution_count": 5
        }
      ]
    },
    {
      "cell_type": "code",
      "source": [
        "# 2.0.1\n",
        "df.Class.value_counts()"
      ],
      "metadata": {
        "colab": {
          "base_uri": "https://localhost:8080/"
        },
        "id": "FErH2yNkGsEq",
        "outputId": "9145d109-827f-4f1c-cc8a-4f22388fe315"
      },
      "execution_count": null,
      "outputs": [
        {
          "output_type": "execute_result",
          "data": {
            "text/plain": [
              "0    284315\n",
              "1       492\n",
              "Name: Class, dtype: int64"
            ]
          },
          "metadata": {},
          "execution_count": 59
        }
      ]
    },
    {
      "cell_type": "code",
      "source": [
        "# 2.0.2\n",
        "df.head()"
      ],
      "metadata": {
        "colab": {
          "base_uri": "https://localhost:8080/",
          "height": 255
        },
        "id": "tDqbyiNSKokK",
        "outputId": "e326160b-2a35-4dc1-c075-d7bffce1a8e9"
      },
      "execution_count": null,
      "outputs": [
        {
          "output_type": "execute_result",
          "data": {
            "text/plain": [
              "   Time        V1        V2        V3        V4        V5        V6        V7  \\\n",
              "0   0.0 -1.359807 -0.072781  2.536347  1.378155 -0.338321  0.462388  0.239599   \n",
              "1   0.0  1.191857  0.266151  0.166480  0.448154  0.060018 -0.082361 -0.078803   \n",
              "2   1.0 -1.358354 -1.340163  1.773209  0.379780 -0.503198  1.800499  0.791461   \n",
              "3   1.0 -0.966272 -0.185226  1.792993 -0.863291 -0.010309  1.247203  0.237609   \n",
              "4   2.0 -1.158233  0.877737  1.548718  0.403034 -0.407193  0.095921  0.592941   \n",
              "\n",
              "         V8        V9  ...       V21       V22       V23       V24       V25  \\\n",
              "0  0.098698  0.363787  ... -0.018307  0.277838 -0.110474  0.066928  0.128539   \n",
              "1  0.085102 -0.255425  ... -0.225775 -0.638672  0.101288 -0.339846  0.167170   \n",
              "2  0.247676 -1.514654  ...  0.247998  0.771679  0.909412 -0.689281 -0.327642   \n",
              "3  0.377436 -1.387024  ... -0.108300  0.005274 -0.190321 -1.175575  0.647376   \n",
              "4 -0.270533  0.817739  ... -0.009431  0.798278 -0.137458  0.141267 -0.206010   \n",
              "\n",
              "        V26       V27       V28  Amount  Class  \n",
              "0 -0.189115  0.133558 -0.021053  149.62      0  \n",
              "1  0.125895 -0.008983  0.014724    2.69      0  \n",
              "2 -0.139097 -0.055353 -0.059752  378.66      0  \n",
              "3 -0.221929  0.062723  0.061458  123.50      0  \n",
              "4  0.502292  0.219422  0.215153   69.99      0  \n",
              "\n",
              "[5 rows x 31 columns]"
            ],
            "text/html": [
              "\n",
              "  <div id=\"df-87011fb5-b9fd-4001-80c7-9dea7897ace3\" class=\"colab-df-container\">\n",
              "    <div>\n",
              "<style scoped>\n",
              "    .dataframe tbody tr th:only-of-type {\n",
              "        vertical-align: middle;\n",
              "    }\n",
              "\n",
              "    .dataframe tbody tr th {\n",
              "        vertical-align: top;\n",
              "    }\n",
              "\n",
              "    .dataframe thead th {\n",
              "        text-align: right;\n",
              "    }\n",
              "</style>\n",
              "<table border=\"1\" class=\"dataframe\">\n",
              "  <thead>\n",
              "    <tr style=\"text-align: right;\">\n",
              "      <th></th>\n",
              "      <th>Time</th>\n",
              "      <th>V1</th>\n",
              "      <th>V2</th>\n",
              "      <th>V3</th>\n",
              "      <th>V4</th>\n",
              "      <th>V5</th>\n",
              "      <th>V6</th>\n",
              "      <th>V7</th>\n",
              "      <th>V8</th>\n",
              "      <th>V9</th>\n",
              "      <th>...</th>\n",
              "      <th>V21</th>\n",
              "      <th>V22</th>\n",
              "      <th>V23</th>\n",
              "      <th>V24</th>\n",
              "      <th>V25</th>\n",
              "      <th>V26</th>\n",
              "      <th>V27</th>\n",
              "      <th>V28</th>\n",
              "      <th>Amount</th>\n",
              "      <th>Class</th>\n",
              "    </tr>\n",
              "  </thead>\n",
              "  <tbody>\n",
              "    <tr>\n",
              "      <th>0</th>\n",
              "      <td>0.0</td>\n",
              "      <td>-1.359807</td>\n",
              "      <td>-0.072781</td>\n",
              "      <td>2.536347</td>\n",
              "      <td>1.378155</td>\n",
              "      <td>-0.338321</td>\n",
              "      <td>0.462388</td>\n",
              "      <td>0.239599</td>\n",
              "      <td>0.098698</td>\n",
              "      <td>0.363787</td>\n",
              "      <td>...</td>\n",
              "      <td>-0.018307</td>\n",
              "      <td>0.277838</td>\n",
              "      <td>-0.110474</td>\n",
              "      <td>0.066928</td>\n",
              "      <td>0.128539</td>\n",
              "      <td>-0.189115</td>\n",
              "      <td>0.133558</td>\n",
              "      <td>-0.021053</td>\n",
              "      <td>149.62</td>\n",
              "      <td>0</td>\n",
              "    </tr>\n",
              "    <tr>\n",
              "      <th>1</th>\n",
              "      <td>0.0</td>\n",
              "      <td>1.191857</td>\n",
              "      <td>0.266151</td>\n",
              "      <td>0.166480</td>\n",
              "      <td>0.448154</td>\n",
              "      <td>0.060018</td>\n",
              "      <td>-0.082361</td>\n",
              "      <td>-0.078803</td>\n",
              "      <td>0.085102</td>\n",
              "      <td>-0.255425</td>\n",
              "      <td>...</td>\n",
              "      <td>-0.225775</td>\n",
              "      <td>-0.638672</td>\n",
              "      <td>0.101288</td>\n",
              "      <td>-0.339846</td>\n",
              "      <td>0.167170</td>\n",
              "      <td>0.125895</td>\n",
              "      <td>-0.008983</td>\n",
              "      <td>0.014724</td>\n",
              "      <td>2.69</td>\n",
              "      <td>0</td>\n",
              "    </tr>\n",
              "    <tr>\n",
              "      <th>2</th>\n",
              "      <td>1.0</td>\n",
              "      <td>-1.358354</td>\n",
              "      <td>-1.340163</td>\n",
              "      <td>1.773209</td>\n",
              "      <td>0.379780</td>\n",
              "      <td>-0.503198</td>\n",
              "      <td>1.800499</td>\n",
              "      <td>0.791461</td>\n",
              "      <td>0.247676</td>\n",
              "      <td>-1.514654</td>\n",
              "      <td>...</td>\n",
              "      <td>0.247998</td>\n",
              "      <td>0.771679</td>\n",
              "      <td>0.909412</td>\n",
              "      <td>-0.689281</td>\n",
              "      <td>-0.327642</td>\n",
              "      <td>-0.139097</td>\n",
              "      <td>-0.055353</td>\n",
              "      <td>-0.059752</td>\n",
              "      <td>378.66</td>\n",
              "      <td>0</td>\n",
              "    </tr>\n",
              "    <tr>\n",
              "      <th>3</th>\n",
              "      <td>1.0</td>\n",
              "      <td>-0.966272</td>\n",
              "      <td>-0.185226</td>\n",
              "      <td>1.792993</td>\n",
              "      <td>-0.863291</td>\n",
              "      <td>-0.010309</td>\n",
              "      <td>1.247203</td>\n",
              "      <td>0.237609</td>\n",
              "      <td>0.377436</td>\n",
              "      <td>-1.387024</td>\n",
              "      <td>...</td>\n",
              "      <td>-0.108300</td>\n",
              "      <td>0.005274</td>\n",
              "      <td>-0.190321</td>\n",
              "      <td>-1.175575</td>\n",
              "      <td>0.647376</td>\n",
              "      <td>-0.221929</td>\n",
              "      <td>0.062723</td>\n",
              "      <td>0.061458</td>\n",
              "      <td>123.50</td>\n",
              "      <td>0</td>\n",
              "    </tr>\n",
              "    <tr>\n",
              "      <th>4</th>\n",
              "      <td>2.0</td>\n",
              "      <td>-1.158233</td>\n",
              "      <td>0.877737</td>\n",
              "      <td>1.548718</td>\n",
              "      <td>0.403034</td>\n",
              "      <td>-0.407193</td>\n",
              "      <td>0.095921</td>\n",
              "      <td>0.592941</td>\n",
              "      <td>-0.270533</td>\n",
              "      <td>0.817739</td>\n",
              "      <td>...</td>\n",
              "      <td>-0.009431</td>\n",
              "      <td>0.798278</td>\n",
              "      <td>-0.137458</td>\n",
              "      <td>0.141267</td>\n",
              "      <td>-0.206010</td>\n",
              "      <td>0.502292</td>\n",
              "      <td>0.219422</td>\n",
              "      <td>0.215153</td>\n",
              "      <td>69.99</td>\n",
              "      <td>0</td>\n",
              "    </tr>\n",
              "  </tbody>\n",
              "</table>\n",
              "<p>5 rows × 31 columns</p>\n",
              "</div>\n",
              "    <div class=\"colab-df-buttons\">\n",
              "\n",
              "  <div class=\"colab-df-container\">\n",
              "    <button class=\"colab-df-convert\" onclick=\"convertToInteractive('df-87011fb5-b9fd-4001-80c7-9dea7897ace3')\"\n",
              "            title=\"Convert this dataframe to an interactive table.\"\n",
              "            style=\"display:none;\">\n",
              "\n",
              "  <svg xmlns=\"http://www.w3.org/2000/svg\" height=\"24px\" viewBox=\"0 -960 960 960\">\n",
              "    <path d=\"M120-120v-720h720v720H120Zm60-500h600v-160H180v160Zm220 220h160v-160H400v160Zm0 220h160v-160H400v160ZM180-400h160v-160H180v160Zm440 0h160v-160H620v160ZM180-180h160v-160H180v160Zm440 0h160v-160H620v160Z\"/>\n",
              "  </svg>\n",
              "    </button>\n",
              "\n",
              "  <style>\n",
              "    .colab-df-container {\n",
              "      display:flex;\n",
              "      gap: 12px;\n",
              "    }\n",
              "\n",
              "    .colab-df-convert {\n",
              "      background-color: #E8F0FE;\n",
              "      border: none;\n",
              "      border-radius: 50%;\n",
              "      cursor: pointer;\n",
              "      display: none;\n",
              "      fill: #1967D2;\n",
              "      height: 32px;\n",
              "      padding: 0 0 0 0;\n",
              "      width: 32px;\n",
              "    }\n",
              "\n",
              "    .colab-df-convert:hover {\n",
              "      background-color: #E2EBFA;\n",
              "      box-shadow: 0px 1px 2px rgba(60, 64, 67, 0.3), 0px 1px 3px 1px rgba(60, 64, 67, 0.15);\n",
              "      fill: #174EA6;\n",
              "    }\n",
              "\n",
              "    .colab-df-buttons div {\n",
              "      margin-bottom: 4px;\n",
              "    }\n",
              "\n",
              "    [theme=dark] .colab-df-convert {\n",
              "      background-color: #3B4455;\n",
              "      fill: #D2E3FC;\n",
              "    }\n",
              "\n",
              "    [theme=dark] .colab-df-convert:hover {\n",
              "      background-color: #434B5C;\n",
              "      box-shadow: 0px 1px 3px 1px rgba(0, 0, 0, 0.15);\n",
              "      filter: drop-shadow(0px 1px 2px rgba(0, 0, 0, 0.3));\n",
              "      fill: #FFFFFF;\n",
              "    }\n",
              "  </style>\n",
              "\n",
              "    <script>\n",
              "      const buttonEl =\n",
              "        document.querySelector('#df-87011fb5-b9fd-4001-80c7-9dea7897ace3 button.colab-df-convert');\n",
              "      buttonEl.style.display =\n",
              "        google.colab.kernel.accessAllowed ? 'block' : 'none';\n",
              "\n",
              "      async function convertToInteractive(key) {\n",
              "        const element = document.querySelector('#df-87011fb5-b9fd-4001-80c7-9dea7897ace3');\n",
              "        const dataTable =\n",
              "          await google.colab.kernel.invokeFunction('convertToInteractive',\n",
              "                                                    [key], {});\n",
              "        if (!dataTable) return;\n",
              "\n",
              "        const docLinkHtml = 'Like what you see? Visit the ' +\n",
              "          '<a target=\"_blank\" href=https://colab.research.google.com/notebooks/data_table.ipynb>data table notebook</a>'\n",
              "          + ' to learn more about interactive tables.';\n",
              "        element.innerHTML = '';\n",
              "        dataTable['output_type'] = 'display_data';\n",
              "        await google.colab.output.renderOutput(dataTable, element);\n",
              "        const docLink = document.createElement('div');\n",
              "        docLink.innerHTML = docLinkHtml;\n",
              "        element.appendChild(docLink);\n",
              "      }\n",
              "    </script>\n",
              "  </div>\n",
              "\n",
              "\n",
              "<div id=\"df-8ea2f0e6-5114-4bd7-a827-ce0680e362c4\">\n",
              "  <button class=\"colab-df-quickchart\" onclick=\"quickchart('df-8ea2f0e6-5114-4bd7-a827-ce0680e362c4')\"\n",
              "            title=\"Suggest charts\"\n",
              "            style=\"display:none;\">\n",
              "\n",
              "<svg xmlns=\"http://www.w3.org/2000/svg\" height=\"24px\"viewBox=\"0 0 24 24\"\n",
              "     width=\"24px\">\n",
              "    <g>\n",
              "        <path d=\"M19 3H5c-1.1 0-2 .9-2 2v14c0 1.1.9 2 2 2h14c1.1 0 2-.9 2-2V5c0-1.1-.9-2-2-2zM9 17H7v-7h2v7zm4 0h-2V7h2v10zm4 0h-2v-4h2v4z\"/>\n",
              "    </g>\n",
              "</svg>\n",
              "  </button>\n",
              "\n",
              "<style>\n",
              "  .colab-df-quickchart {\n",
              "      --bg-color: #E8F0FE;\n",
              "      --fill-color: #1967D2;\n",
              "      --hover-bg-color: #E2EBFA;\n",
              "      --hover-fill-color: #174EA6;\n",
              "      --disabled-fill-color: #AAA;\n",
              "      --disabled-bg-color: #DDD;\n",
              "  }\n",
              "\n",
              "  [theme=dark] .colab-df-quickchart {\n",
              "      --bg-color: #3B4455;\n",
              "      --fill-color: #D2E3FC;\n",
              "      --hover-bg-color: #434B5C;\n",
              "      --hover-fill-color: #FFFFFF;\n",
              "      --disabled-bg-color: #3B4455;\n",
              "      --disabled-fill-color: #666;\n",
              "  }\n",
              "\n",
              "  .colab-df-quickchart {\n",
              "    background-color: var(--bg-color);\n",
              "    border: none;\n",
              "    border-radius: 50%;\n",
              "    cursor: pointer;\n",
              "    display: none;\n",
              "    fill: var(--fill-color);\n",
              "    height: 32px;\n",
              "    padding: 0;\n",
              "    width: 32px;\n",
              "  }\n",
              "\n",
              "  .colab-df-quickchart:hover {\n",
              "    background-color: var(--hover-bg-color);\n",
              "    box-shadow: 0 1px 2px rgba(60, 64, 67, 0.3), 0 1px 3px 1px rgba(60, 64, 67, 0.15);\n",
              "    fill: var(--button-hover-fill-color);\n",
              "  }\n",
              "\n",
              "  .colab-df-quickchart-complete:disabled,\n",
              "  .colab-df-quickchart-complete:disabled:hover {\n",
              "    background-color: var(--disabled-bg-color);\n",
              "    fill: var(--disabled-fill-color);\n",
              "    box-shadow: none;\n",
              "  }\n",
              "\n",
              "  .colab-df-spinner {\n",
              "    border: 2px solid var(--fill-color);\n",
              "    border-color: transparent;\n",
              "    border-bottom-color: var(--fill-color);\n",
              "    animation:\n",
              "      spin 1s steps(1) infinite;\n",
              "  }\n",
              "\n",
              "  @keyframes spin {\n",
              "    0% {\n",
              "      border-color: transparent;\n",
              "      border-bottom-color: var(--fill-color);\n",
              "      border-left-color: var(--fill-color);\n",
              "    }\n",
              "    20% {\n",
              "      border-color: transparent;\n",
              "      border-left-color: var(--fill-color);\n",
              "      border-top-color: var(--fill-color);\n",
              "    }\n",
              "    30% {\n",
              "      border-color: transparent;\n",
              "      border-left-color: var(--fill-color);\n",
              "      border-top-color: var(--fill-color);\n",
              "      border-right-color: var(--fill-color);\n",
              "    }\n",
              "    40% {\n",
              "      border-color: transparent;\n",
              "      border-right-color: var(--fill-color);\n",
              "      border-top-color: var(--fill-color);\n",
              "    }\n",
              "    60% {\n",
              "      border-color: transparent;\n",
              "      border-right-color: var(--fill-color);\n",
              "    }\n",
              "    80% {\n",
              "      border-color: transparent;\n",
              "      border-right-color: var(--fill-color);\n",
              "      border-bottom-color: var(--fill-color);\n",
              "    }\n",
              "    90% {\n",
              "      border-color: transparent;\n",
              "      border-bottom-color: var(--fill-color);\n",
              "    }\n",
              "  }\n",
              "</style>\n",
              "\n",
              "  <script>\n",
              "    async function quickchart(key) {\n",
              "      const quickchartButtonEl =\n",
              "        document.querySelector('#' + key + ' button');\n",
              "      quickchartButtonEl.disabled = true;  // To prevent multiple clicks.\n",
              "      quickchartButtonEl.classList.add('colab-df-spinner');\n",
              "      try {\n",
              "        const charts = await google.colab.kernel.invokeFunction(\n",
              "            'suggestCharts', [key], {});\n",
              "      } catch (error) {\n",
              "        console.error('Error during call to suggestCharts:', error);\n",
              "      }\n",
              "      quickchartButtonEl.classList.remove('colab-df-spinner');\n",
              "      quickchartButtonEl.classList.add('colab-df-quickchart-complete');\n",
              "    }\n",
              "    (() => {\n",
              "      let quickchartButtonEl =\n",
              "        document.querySelector('#df-8ea2f0e6-5114-4bd7-a827-ce0680e362c4 button');\n",
              "      quickchartButtonEl.style.display =\n",
              "        google.colab.kernel.accessAllowed ? 'block' : 'none';\n",
              "    })();\n",
              "  </script>\n",
              "</div>\n",
              "    </div>\n",
              "  </div>\n"
            ]
          },
          "metadata": {},
          "execution_count": 60
        }
      ]
    },
    {
      "cell_type": "code",
      "source": [
        "# 3.0 Splitting genuine and fraudulent transactions:\n",
        "\n",
        "df_g = df.loc[df.Class==0].reset_index(drop=True)\n",
        "df_f = df.loc[df.Class==1].reset_index(drop=True)"
      ],
      "metadata": {
        "id": "76Fe3Zdq2tZy"
      },
      "execution_count": null,
      "outputs": []
    },
    {
      "cell_type": "code",
      "source": [
        "# 3.1\n",
        "c0 = df_g.pop('Class')\n",
        "c1 = df_f.pop('Class')"
      ],
      "metadata": {
        "id": "dcdbWmD_J8k1"
      },
      "execution_count": null,
      "outputs": []
    },
    {
      "cell_type": "code",
      "source": [
        "# 3.2 Scaling both datasets:\n",
        "\n",
        "ss = StandardScaler()\n",
        "ss.fit(df_g)\n",
        "df_g = ss.transform(df_g)\n",
        "df_f = ss.transform(df_f)"
      ],
      "metadata": {
        "colab": {
          "base_uri": "https://localhost:8080/",
          "height": 74
        },
        "id": "-vrIisleLtGP",
        "outputId": "02f6a7d6-ae2e-46b5-95a8-57836962842c"
      },
      "execution_count": null,
      "outputs": [
        {
          "output_type": "execute_result",
          "data": {
            "text/plain": [
              "StandardScaler()"
            ],
            "text/html": [
              "<style>#sk-container-id-1 {color: black;background-color: white;}#sk-container-id-1 pre{padding: 0;}#sk-container-id-1 div.sk-toggleable {background-color: white;}#sk-container-id-1 label.sk-toggleable__label {cursor: pointer;display: block;width: 100%;margin-bottom: 0;padding: 0.3em;box-sizing: border-box;text-align: center;}#sk-container-id-1 label.sk-toggleable__label-arrow:before {content: \"▸\";float: left;margin-right: 0.25em;color: #696969;}#sk-container-id-1 label.sk-toggleable__label-arrow:hover:before {color: black;}#sk-container-id-1 div.sk-estimator:hover label.sk-toggleable__label-arrow:before {color: black;}#sk-container-id-1 div.sk-toggleable__content {max-height: 0;max-width: 0;overflow: hidden;text-align: left;background-color: #f0f8ff;}#sk-container-id-1 div.sk-toggleable__content pre {margin: 0.2em;color: black;border-radius: 0.25em;background-color: #f0f8ff;}#sk-container-id-1 input.sk-toggleable__control:checked~div.sk-toggleable__content {max-height: 200px;max-width: 100%;overflow: auto;}#sk-container-id-1 input.sk-toggleable__control:checked~label.sk-toggleable__label-arrow:before {content: \"▾\";}#sk-container-id-1 div.sk-estimator input.sk-toggleable__control:checked~label.sk-toggleable__label {background-color: #d4ebff;}#sk-container-id-1 div.sk-label input.sk-toggleable__control:checked~label.sk-toggleable__label {background-color: #d4ebff;}#sk-container-id-1 input.sk-hidden--visually {border: 0;clip: rect(1px 1px 1px 1px);clip: rect(1px, 1px, 1px, 1px);height: 1px;margin: -1px;overflow: hidden;padding: 0;position: absolute;width: 1px;}#sk-container-id-1 div.sk-estimator {font-family: monospace;background-color: #f0f8ff;border: 1px dotted black;border-radius: 0.25em;box-sizing: border-box;margin-bottom: 0.5em;}#sk-container-id-1 div.sk-estimator:hover {background-color: #d4ebff;}#sk-container-id-1 div.sk-parallel-item::after {content: \"\";width: 100%;border-bottom: 1px solid gray;flex-grow: 1;}#sk-container-id-1 div.sk-label:hover label.sk-toggleable__label {background-color: #d4ebff;}#sk-container-id-1 div.sk-serial::before {content: \"\";position: absolute;border-left: 1px solid gray;box-sizing: border-box;top: 0;bottom: 0;left: 50%;z-index: 0;}#sk-container-id-1 div.sk-serial {display: flex;flex-direction: column;align-items: center;background-color: white;padding-right: 0.2em;padding-left: 0.2em;position: relative;}#sk-container-id-1 div.sk-item {position: relative;z-index: 1;}#sk-container-id-1 div.sk-parallel {display: flex;align-items: stretch;justify-content: center;background-color: white;position: relative;}#sk-container-id-1 div.sk-item::before, #sk-container-id-1 div.sk-parallel-item::before {content: \"\";position: absolute;border-left: 1px solid gray;box-sizing: border-box;top: 0;bottom: 0;left: 50%;z-index: -1;}#sk-container-id-1 div.sk-parallel-item {display: flex;flex-direction: column;z-index: 1;position: relative;background-color: white;}#sk-container-id-1 div.sk-parallel-item:first-child::after {align-self: flex-end;width: 50%;}#sk-container-id-1 div.sk-parallel-item:last-child::after {align-self: flex-start;width: 50%;}#sk-container-id-1 div.sk-parallel-item:only-child::after {width: 0;}#sk-container-id-1 div.sk-dashed-wrapped {border: 1px dashed gray;margin: 0 0.4em 0.5em 0.4em;box-sizing: border-box;padding-bottom: 0.4em;background-color: white;}#sk-container-id-1 div.sk-label label {font-family: monospace;font-weight: bold;display: inline-block;line-height: 1.2em;}#sk-container-id-1 div.sk-label-container {text-align: center;}#sk-container-id-1 div.sk-container {/* jupyter's `normalize.less` sets `[hidden] { display: none; }` but bootstrap.min.css set `[hidden] { display: none !important; }` so we also need the `!important` here to be able to override the default hidden behavior on the sphinx rendered scikit-learn.org. See: https://github.com/scikit-learn/scikit-learn/issues/21755 */display: inline-block !important;position: relative;}#sk-container-id-1 div.sk-text-repr-fallback {display: none;}</style><div id=\"sk-container-id-1\" class=\"sk-top-container\"><div class=\"sk-text-repr-fallback\"><pre>StandardScaler()</pre><b>In a Jupyter environment, please rerun this cell to show the HTML representation or trust the notebook. <br />On GitHub, the HTML representation is unable to render, please try loading this page with nbviewer.org.</b></div><div class=\"sk-container\" hidden><div class=\"sk-item\"><div class=\"sk-estimator sk-toggleable\"><input class=\"sk-toggleable__control sk-hidden--visually\" id=\"sk-estimator-id-1\" type=\"checkbox\" checked><label for=\"sk-estimator-id-1\" class=\"sk-toggleable__label sk-toggleable__label-arrow\">StandardScaler</label><div class=\"sk-toggleable__content\"><pre>StandardScaler()</pre></div></div></div></div></div>"
            ]
          },
          "metadata": {},
          "execution_count": 63
        }
      ]
    },
    {
      "cell_type": "code",
      "source": [
        "# 3.2.1\n",
        "df_g.shape\n",
        "print(\"\\n----------------\")\n",
        "df_f.shape"
      ],
      "metadata": {
        "colab": {
          "base_uri": "https://localhost:8080/"
        },
        "id": "dJ2wptEA3H8g",
        "outputId": "37e20116-ec37-4a4e-d79d-66597388ca92"
      },
      "execution_count": null,
      "outputs": [
        {
          "output_type": "execute_result",
          "data": {
            "text/plain": [
              "(284315, 30)"
            ]
          },
          "metadata": {},
          "execution_count": 66
        },
        {
          "output_type": "stream",
          "name": "stdout",
          "text": [
            "\n",
            "----------------\n"
          ]
        },
        {
          "output_type": "execute_result",
          "data": {
            "text/plain": [
              "(492, 30)"
            ]
          },
          "metadata": {},
          "execution_count": 66
        }
      ]
    },
    {
      "cell_type": "markdown",
      "source": [
        "## Autoencoder model"
      ],
      "metadata": {
        "id": "Dp-iBFGc7HxV"
      }
    },
    {
      "cell_type": "code",
      "source": [
        "# 4.1\n",
        "encoder = tf.keras.models.Sequential([\n",
        "              tf.keras.layers.Input(shape=df_g.shape[-1:]),\n",
        "              tf.keras.layers.Dense(100, activation='elu'),\n",
        "              tf.keras.layers.Dense(50, activation = 'relu'),\n",
        "              tf.keras.layers.Dense(10, activation = 'selu')\n",
        "            ])"
      ],
      "metadata": {
        "id": "cBi6UAWgnecc"
      },
      "execution_count": null,
      "outputs": []
    },
    {
      "cell_type": "code",
      "source": [
        "# 4.2\n",
        "decoder = tf.keras.models.Sequential([\n",
        "            tf.keras.layers.Input(shape=(10,)),\n",
        "            tf.keras.layers.Dense(50, activation = 'relu'),\n",
        "            tf.keras.layers.Dense(100, activation = 'elu'),\n",
        "            tf.keras.layers.Dense(df_g.shape[-1], activation='linear')\n",
        "          ])"
      ],
      "metadata": {
        "id": "HdlvYbmAqcyK"
      },
      "execution_count": null,
      "outputs": []
    },
    {
      "cell_type": "code",
      "source": [
        "# 4.3\n",
        "stack_autoencoder  = tf.keras.models.Sequential([\n",
        "                                                  encoder , decoder\n",
        "                                                ])"
      ],
      "metadata": {
        "id": "eXHZXHQorI8g"
      },
      "execution_count": null,
      "outputs": []
    },
    {
      "cell_type": "code",
      "source": [
        "# 4.4\n",
        "stack_autoencoder.compile(\n",
        "                   loss=\"mse\",\n",
        "                   optimizer = 'adam'\n",
        "                   )"
      ],
      "metadata": {
        "id": "NcsfK3-mNqLG"
      },
      "execution_count": null,
      "outputs": []
    },
    {
      "cell_type": "code",
      "source": [
        "# 4.5\n",
        "stack_autoencoder.fit(df_g, df_g, epochs=5)"
      ],
      "metadata": {
        "colab": {
          "base_uri": "https://localhost:8080/"
        },
        "id": "E07u5WURrZT2",
        "outputId": "862d9cde-2cf9-40d0-d9f3-912027fc95e7"
      },
      "execution_count": null,
      "outputs": [
        {
          "output_type": "stream",
          "name": "stdout",
          "text": [
            "Epoch 1/5\n",
            "8885/8885 [==============================] - 27s 3ms/step - loss: 0.0661\n",
            "Epoch 2/5\n",
            "8885/8885 [==============================] - 28s 3ms/step - loss: 0.0643\n",
            "Epoch 3/5\n",
            "8885/8885 [==============================] - 26s 3ms/step - loss: 0.0630\n",
            "Epoch 4/5\n",
            "8885/8885 [==============================] - 26s 3ms/step - loss: 0.0617\n",
            "Epoch 5/5\n",
            "8885/8885 [==============================] - 26s 3ms/step - loss: 0.0590\n"
          ]
        },
        {
          "output_type": "execute_result",
          "data": {
            "text/plain": [
              "<keras.src.callbacks.History at 0x7ca9ee492020>"
            ]
          },
          "metadata": {},
          "execution_count": 78
        }
      ]
    },
    {
      "cell_type": "code",
      "source": [
        "# 5.0\n",
        "gen   =   stack_autoencoder.predict(df_g)\n",
        "fraud = stack_autoencoder.predict(df_f)"
      ],
      "metadata": {
        "id": "IKEfUqpDypNr",
        "colab": {
          "base_uri": "https://localhost:8080/"
        },
        "outputId": "0dddb5e9-1802-40d4-bb11-88bc7e6b7b2d"
      },
      "execution_count": null,
      "outputs": [
        {
          "output_type": "stream",
          "name": "stdout",
          "text": [
            "8885/8885 [==============================] - 18s 2ms/step\n",
            "16/16 [==============================] - 0s 2ms/step\n"
          ]
        }
      ]
    },
    {
      "cell_type": "code",
      "source": [
        "# 5.1\n",
        "dx = (np.square(fraud - df_f)).mean(axis=1)\n"
      ],
      "metadata": {
        "colab": {
          "base_uri": "https://localhost:8080/"
        },
        "id": "hSQFnxIoQSMM",
        "outputId": "49b69db4-c967-471c-e0ae-1298582df6c9"
      },
      "execution_count": null,
      "outputs": [
        {
          "output_type": "execute_result",
          "data": {
            "text/plain": [
              "array([[ 1.3435118e+00, -1.2564934e+00,  3.8822001e-01, ...,\n",
              "         8.2683975e-01, -6.3095808e-01, -1.6543491e-01],\n",
              "       [-1.0831451e+00, -1.3113203e+00, -1.5980717e+00, ...,\n",
              "        -2.1630706e-01, -1.8612146e-03,  1.8189747e+00],\n",
              "       [ 6.2830758e-01, -9.0429169e-01,  2.6764464e-01, ...,\n",
              "        -7.1315303e-02, -2.1743023e+00, -3.5090530e-01],\n",
              "       ...,\n",
              "       [ 1.6824871e+00, -1.1643646e+00,  7.2442967e-01, ...,\n",
              "         1.2630844e+00,  5.2276421e-01, -1.7726736e-01],\n",
              "       [ 1.5524608e+00, -1.3039762e+00,  1.1187868e+00, ...,\n",
              "         2.0904384e+00,  3.1397715e-01, -2.5973934e-01],\n",
              "       [ 1.4365312e+00,  1.0006382e+00, -7.5705007e-02, ...,\n",
              "        -9.1588065e-02, -1.0635367e-01, -9.6206084e-02]], dtype=float32)"
            ]
          },
          "metadata": {},
          "execution_count": 80
        }
      ]
    },
    {
      "cell_type": "code",
      "source": [
        "# 5.2\n",
        "dx = np.vstack([df_g,df_f])"
      ],
      "metadata": {
        "id": "UyabQsnqQT0n"
      },
      "execution_count": null,
      "outputs": []
    },
    {
      "cell_type": "code",
      "source": [
        "dx.shape"
      ],
      "metadata": {
        "colab": {
          "base_uri": "https://localhost:8080/"
        },
        "id": "CY6lDSuCSxfZ",
        "outputId": "bf9bbb3d-5299-4faa-f730-8a368419d4fc"
      },
      "execution_count": null,
      "outputs": [
        {
          "output_type": "execute_result",
          "data": {
            "text/plain": [
              "(284807, 30)"
            ]
          },
          "metadata": {},
          "execution_count": 83
        }
      ]
    },
    {
      "cell_type": "code",
      "source": [
        "# 5.3\n",
        "out = stack_autoencoder.predict(dx)"
      ],
      "metadata": {
        "colab": {
          "base_uri": "https://localhost:8080/"
        },
        "id": "bQduIAxgSzkq",
        "outputId": "98f2dd60-ab78-4788-838f-b35b778c3b5a"
      },
      "execution_count": null,
      "outputs": [
        {
          "output_type": "stream",
          "name": "stdout",
          "text": [
            "8901/8901 [==============================] - 18s 2ms/step\n"
          ]
        }
      ]
    },
    {
      "cell_type": "code",
      "source": [
        "# 5.4\n",
        "error_dx = (np.square(out - dx)).mean(axis=1)"
      ],
      "metadata": {
        "id": "gCibbEjWS7-_"
      },
      "execution_count": null,
      "outputs": []
    },
    {
      "cell_type": "code",
      "source": [
        "# 5.5\n",
        "plt.boxplot(error_dx)"
      ],
      "metadata": {
        "colab": {
          "base_uri": "https://localhost:8080/",
          "height": 569
        },
        "id": "7Qh3AXdYTIYV",
        "outputId": "b2d4657e-8870-4b9e-cfd1-5536b5132074"
      },
      "execution_count": null,
      "outputs": [
        {
          "output_type": "execute_result",
          "data": {
            "text/plain": [
              "{'whiskers': [<matplotlib.lines.Line2D at 0x7ca9f38aa080>,\n",
              "  <matplotlib.lines.Line2D at 0x7ca9e93e13f0>],\n",
              " 'caps': [<matplotlib.lines.Line2D at 0x7ca9e93e11b0>,\n",
              "  <matplotlib.lines.Line2D at 0x7ca9e93e1f30>],\n",
              " 'boxes': [<matplotlib.lines.Line2D at 0x7ca9e6540130>],\n",
              " 'medians': [<matplotlib.lines.Line2D at 0x7ca9e93e1e70>],\n",
              " 'fliers': [<matplotlib.lines.Line2D at 0x7ca9f01a5480>],\n",
              " 'means': []}"
            ]
          },
          "metadata": {},
          "execution_count": 166
        },
        {
          "output_type": "display_data",
          "data": {
            "text/plain": [
              "<Figure size 640x480 with 1 Axes>"
            ],
            "image/png": "[encoded data removed]"
          },
          "metadata": {}
        }
      ]
    },
    {
      "cell_type": "code",
      "source": [
        "# 6.0\n",
        "Q1 = np.percentile(error_dx, 0.5)\n",
        "Q3 = np.percentile(error_dx, 99.5)\n",
        "IQR = Q3 - Q1\n",
        "\n",
        "# 6.1 Define Lower and Upper Bounds\n",
        "lower_bound = Q1 - 1.5 * IQR\n",
        "upper_bound = Q3 + 1.5 * IQR\n",
        "print(lower_bound)\n",
        "print(upper_bound)\n",
        "\n",
        "# 6.2 Identify outliers\n",
        "outliers = (error_dx < lower_bound) | (error_dx > upper_bound)\n",
        "\n",
        "# 6.3 Count outliers\n",
        "num_outliers = np.sum(outliers)\n",
        "print(\"Total Outliers : \", num_outliers)"
      ],
      "metadata": {
        "colab": {
          "base_uri": "https://localhost:8080/"
        },
        "id": "p4SvCy1pTMAW",
        "outputId": "282f3306-7ad9-46ee-b8f6-4e38c9258750"
      },
      "execution_count": null,
      "outputs": [
        {
          "output_type": "stream",
          "name": "stdout",
          "text": [
            "-1.9003987610982884\n",
            "3.1736004581912045\n",
            "Total Outliers :  503\n"
          ]
        }
      ]
    },
    {
      "cell_type": "code",
      "source": [
        "# 7.0\n",
        "outlier_indices = np.where(outliers)[0]"
      ],
      "metadata": {
        "id": "MXfOyoGUT6Ai"
      },
      "execution_count": null,
      "outputs": []
    },
    {
      "cell_type": "code",
      "source": [
        "# 7.1\n",
        "outlier_indices"
      ],
      "metadata": {
        "colab": {
          "base_uri": "https://localhost:8080/"
        },
        "id": "IN2H8nOhZ3I9",
        "outputId": "6b07f4cd-4730-439f-9798-9456398c0385"
      },
      "execution_count": null,
      "outputs": [
        {
          "output_type": "execute_result",
          "data": {
            "text/plain": [
              "array([  1630,   5422,   6793,  10417,  10577,  10637,  10738,  10858,\n",
              "        11978,  12102,  12175,  12270,  12412,  12866,  12882,  13338,\n",
              "        13349,  13443,  13561,  13568,  13669,  13777,  13886,  13970,\n",
              "        14859,  15106,  15300,  16037,  16776,  17245,  17511,  17835,\n",
              "        18044,  18069,  18566,  19060,  19098,  22550,  23042,  24545,\n",
              "        29714,  39665,  42130,  42183,  42206,  43149,  43286,  43299,\n",
              "        44115,  44806,  46698,  47597,  47864,  48381,  48807,  50138,\n",
              "        53863,  58304,  61170,  61802,  63386,  68283,  68687,  69199,\n",
              "        69861,  72036,  72061,  72249,  72784,  74005,  74223,  74517,\n",
              "        76067,  76089,  76519,  77050,  77623,  79105,  79915,  82132,\n",
              "        85790,  90735,  91684,  98247,  98453, 104735, 105778, 108186,\n",
              "       110010, 110228, 110369, 117139, 117395, 117417, 117730, 118519,\n",
              "       118675, 119385, 119838, 121538, 130879, 131218, 140509, 144741,\n",
              "       144809, 150268, 150790, 150973, 153288, 153494, 153519, 154946,\n",
              "       154953, 156024, 157666, 158601, 164661, 165224, 168042, 168109,\n",
              "       169097, 169647, 171903, 172693, 172992, 173034, 175349, 175973,\n",
              "       176053, 176769, 176806, 178219, 179225, 179482, 182333, 182906,\n",
              "       184065, 184134, 184476, 184715, 184851, 185368, 185877, 186323,\n",
              "       186346, 186908, 188108, 188192, 188608, 188656, 188941, 189687,\n",
              "       189717, 189766, 191158, 191379, 192264, 192687, 193506, 194837,\n",
              "       197352, 199326, 199463, 200905, 201251, 201388, 201482, 201982,\n",
              "       205835, 205845, 205862, 206077, 206390, 208898, 209583, 211531,\n",
              "       211681, 212426, 212554, 212762, 212790, 212863, 213614, 215662,\n",
              "       215749, 216769, 217006, 217130, 218581, 218852, 218858, 219141,\n",
              "       219235, 219371, 219684, 219806, 220432, 220810, 221742, 221894,\n",
              "       221941, 222010, 222511, 224154, 226268, 226275, 226303, 226565,\n",
              "       227504, 227741, 228306, 228619, 229440, 229654, 229750, 229856,\n",
              "       229984, 230094, 230179, 230417, 230523, 230541, 230608, 230745,\n",
              "       231033, 231592, 233481, 234096, 235999, 236589, 236761, 239038,\n",
              "       239738, 240338, 240366, 244227, 244241, 244246, 244826, 247516,\n",
              "       260810, 261370, 261904, 262363, 262367, 271281, 271376, 271463,\n",
              "       274287, 278697, 279123, 279771, 282161, 282647, 283757, 284318,\n",
              "       284320, 284325, 284326, 284330, 284331, 284332, 284333, 284336,\n",
              "       284339, 284340, 284342, 284343, 284345, 284346, 284347, 284348,\n",
              "       284349, 284350, 284351, 284352, 284353, 284357, 284358, 284359,\n",
              "       284360, 284361, 284362, 284363, 284364, 284365, 284366, 284367,\n",
              "       284368, 284369, 284370, 284372, 284373, 284374, 284376, 284377,\n",
              "       284378, 284379, 284380, 284381, 284382, 284383, 284384, 284385,\n",
              "       284386, 284387, 284389, 284390, 284391, 284392, 284393, 284394,\n",
              "       284395, 284402, 284406, 284407, 284409, 284410, 284411, 284412,\n",
              "       284413, 284414, 284415, 284416, 284417, 284423, 284424, 284425,\n",
              "       284426, 284427, 284428, 284429, 284430, 284431, 284432, 284433,\n",
              "       284434, 284435, 284436, 284437, 284438, 284439, 284440, 284441,\n",
              "       284442, 284443, 284444, 284445, 284446, 284447, 284449, 284450,\n",
              "       284452, 284453, 284454, 284455, 284457, 284458, 284459, 284461,\n",
              "       284463, 284479, 284480, 284481, 284482, 284483, 284491, 284493,\n",
              "       284494, 284495, 284496, 284499, 284500, 284505, 284506, 284511,\n",
              "       284512, 284513, 284514, 284516, 284517, 284518, 284524, 284525,\n",
              "       284527, 284531, 284533, 284540, 284541, 284542, 284543, 284544,\n",
              "       284545, 284551, 284558, 284561, 284562, 284563, 284564, 284565,\n",
              "       284574, 284575, 284579, 284580, 284581, 284582, 284583, 284584,\n",
              "       284586, 284587, 284588, 284589, 284590, 284598, 284602, 284605,\n",
              "       284607, 284608, 284609, 284610, 284611, 284612, 284613, 284614,\n",
              "       284615, 284616, 284617, 284618, 284619, 284620, 284621, 284622,\n",
              "       284623, 284624, 284625, 284626, 284627, 284628, 284629, 284630,\n",
              "       284631, 284632, 284633, 284634, 284635, 284638, 284639, 284640,\n",
              "       284641, 284642, 284643, 284644, 284645, 284646, 284647, 284648,\n",
              "       284650, 284652, 284654, 284655, 284656, 284657, 284658, 284659,\n",
              "       284660, 284661, 284662, 284663, 284673, 284674, 284678, 284684,\n",
              "       284685, 284699, 284702, 284703, 284708, 284709, 284710, 284712,\n",
              "       284713, 284715, 284717, 284718, 284723, 284728, 284737, 284743,\n",
              "       284747, 284755, 284756, 284757, 284758, 284759, 284760, 284761,\n",
              "       284764, 284768, 284770, 284785, 284789, 284795, 284801])"
            ]
          },
          "metadata": {},
          "execution_count": 169
        }
      ]
    },
    {
      "cell_type": "code",
      "source": [
        "# 7.2\n",
        "np.sum(outlier_indices>284300)"
      ],
      "metadata": {
        "colab": {
          "base_uri": "https://localhost:8080/"
        },
        "id": "5TZiv8KyYJxG",
        "outputId": "4855fd02-3824-4c0b-d3ab-78e4b8c17c94"
      },
      "execution_count": null,
      "outputs": [
        {
          "output_type": "execute_result",
          "data": {
            "text/plain": [
              "248"
            ]
          },
          "metadata": {},
          "execution_count": 170
        }
      ]
    },
    {
      "cell_type": "code",
      "source": [
        "# 7.3\n",
        "df.shape[0] - df_f.shape[0]"
      ],
      "metadata": {
        "colab": {
          "base_uri": "https://localhost:8080/"
        },
        "id": "rVSCe8I3Y5Et",
        "outputId": "6c575cdf-e3bf-48c4-afa2-fda795fcffa2"
      },
      "execution_count": null,
      "outputs": [
        {
          "output_type": "execute_result",
          "data": {
            "text/plain": [
              "284315"
            ]
          },
          "metadata": {},
          "execution_count": 171
        }
      ]
    },
    {
      "cell_type": "code",
      "source": [
        "# 7.4\n",
        "error_g = error_dx[0:df_g.shape[0]]"
      ],
      "metadata": {
        "id": "lxr90-MYT75b"
      },
      "execution_count": null,
      "outputs": []
    },
    {
      "cell_type": "code",
      "source": [
        "# 7.5\n",
        "mean_g = error_g.mean()"
      ],
      "metadata": {
        "id": "XlX3bA8HWOG-"
      },
      "execution_count": null,
      "outputs": []
    },
    {
      "cell_type": "code",
      "source": [
        "# 7.6\n",
        "stnd = error_g.std()"
      ],
      "metadata": {
        "id": "1LebombvWQUM"
      },
      "execution_count": null,
      "outputs": []
    },
    {
      "cell_type": "code",
      "source": [
        "# 7.7\n",
        "error_g = np.abs(error_dx[0:df_g.shape[0]] / stnd)\n",
        "error_f = np.abs(error_dx[-492:] / stnd)"
      ],
      "metadata": {
        "id": "1MdQnuSOWTHo"
      },
      "execution_count": null,
      "outputs": []
    },
    {
      "cell_type": "code",
      "source": [
        "# 7.8\n",
        "np.sum(error_g > 3)\n",
        "print('\\n----------------')\n",
        "np.sum(error_f > 3)"
      ],
      "metadata": {
        "colab": {
          "base_uri": "https://localhost:8080/"
        },
        "id": "uISUXb88Wf0d",
        "outputId": "4184699f-c0a9-49a9-9ddf-9aeee970efdd"
      },
      "execution_count": null,
      "outputs": [
        {
          "output_type": "execute_result",
          "data": {
            "text/plain": [
              "1270"
            ]
          },
          "metadata": {},
          "execution_count": 163
        },
        {
          "output_type": "stream",
          "name": "stdout",
          "text": [
            "\n",
            "----------------\n"
          ]
        },
        {
          "output_type": "execute_result",
          "data": {
            "text/plain": [
              "385"
            ]
          },
          "metadata": {},
          "execution_count": 163
        }
      ]
    },
    {
      "cell_type": "code",
      "source": [
        "# 8.0\n",
        "minus_error[0:492]"
      ],
      "metadata": {
        "colab": {
          "base_uri": "https://localhost:8080/"
        },
        "id": "Zomsj2b0W39S",
        "outputId": "30677738-1a83-49ba-d0a8-d0e1bbf04120"
      },
      "execution_count": null,
      "outputs": [
        {
          "output_type": "execute_result",
          "data": {
            "text/plain": [
              "array([-6.73312555e-03, -6.13862977e-02,  3.23302939e-02, -2.89488831e-02,\n",
              "        3.47809725e-02, -6.06055899e-02, -5.42359696e-02,  3.11852659e-01,\n",
              "       -2.88547838e-02, -2.56356874e-02, -5.70514567e-02, -1.76183484e-02,\n",
              "       -5.08798319e-02, -5.92504090e-02,  2.36195778e-01,  2.22780724e-02,\n",
              "       -5.54382887e-02,  5.00110794e-03,  7.24336167e-01, -5.95837131e-02,\n",
              "       -3.97626197e-02, -3.98598509e-02, -5.43959395e-02,  3.19102639e-01,\n",
              "        4.23616055e-02,  8.74148624e-02, -5.29722933e-02, -5.00679483e-02,\n",
              "       -4.88485470e-02, -5.97929714e-02, -6.12343334e-02, -6.22515397e-02,\n",
              "       -3.06839322e-02, -3.06839322e-02, -3.05042132e-02, -3.05042132e-02,\n",
              "        2.14645463e-02, -4.13869311e-02, -4.40312749e-02, -6.28877834e-02,\n",
              "       -4.65301773e-02, -3.87204925e-02, -4.19703663e-02, -2.79904831e-02,\n",
              "       -9.31750346e-03, -5.67057031e-02, -3.28992551e-02,  1.26637634e-01,\n",
              "       -3.53041202e-02, -3.63147373e-02, -5.75499745e-02,  4.37682578e-01,\n",
              "        5.37457719e-02, -5.62079488e-02, -6.12621480e-02, -1.52939510e-02,\n",
              "       -2.57722171e-02,  6.93057992e-03, -6.23549428e-02, -6.08328417e-02,\n",
              "       -5.35926703e-02, -4.63394901e-02, -5.14710433e-02,  6.25942298e-03,\n",
              "        1.00323855e-02,  4.76121306e-02,  5.09713196e-02,  7.21797390e-02,\n",
              "       -5.11110033e-02,  1.17100632e+00, -6.26083008e-02, -1.61669126e-02,\n",
              "       -5.79039448e-02,  2.73822567e-02, -3.96432527e-02, -5.47146118e-02,\n",
              "       -4.47243683e-02, -5.26212559e-02,  2.79314676e-02, -1.06092891e-02,\n",
              "       -6.04964809e-02, -5.99732594e-02,  1.98872021e-02,  1.36965264e-02,\n",
              "       -5.73319988e-02,  3.06539589e-01, -8.83543251e-03, -4.04487462e-02,\n",
              "        5.10549266e-02, -2.04311661e-02, -5.25083256e-02, -5.61312370e-02,\n",
              "       -5.51482569e-02, -5.46607209e-02, -4.88567167e-02, -4.13779793e-02,\n",
              "       -4.42215360e-02, -2.53186336e-02,  7.77732221e-02, -6.03165631e-02,\n",
              "       -6.05529125e-02, -3.52349367e-03,  4.89121213e-02,  3.11789177e-02,\n",
              "        3.16773423e-01,  1.77329139e-01, -3.40882196e-02, -6.39086029e-02,\n",
              "       -4.76260989e-02, -4.99022763e-02, -5.41677725e-02, -5.72674911e-02,\n",
              "       -4.45891719e-02, -4.45891719e-02, -4.45891719e-02, -4.45891719e-02,\n",
              "       -9.85302555e-03,  2.93659013e-02, -7.68460984e-03,  1.00941658e-02,\n",
              "        8.88839836e-02, -4.60648252e-02,  8.56340112e-02, -1.47118525e-03,\n",
              "        2.17597197e-02,  2.26388973e-02,  7.28820254e-03,  5.01506661e-03,\n",
              "       -8.95910145e-03, -5.93318276e-02,  5.86371682e-03,  2.79378678e-02,\n",
              "        1.07801983e-01, -4.13802989e-02,  8.92208650e-02, -5.62289525e-02,\n",
              "        6.13909316e-02, -5.36849974e-02, -5.42032685e-02,  2.73329172e-02,\n",
              "        2.80302364e-01, -4.38469610e-02, -4.69476105e-02, -9.66650856e-03,\n",
              "       -5.58186964e-02,  2.37337975e-01,  8.84307829e-02, -4.70981923e-02,\n",
              "       -4.22213879e-02,  1.41827918e-01,  1.55789058e-01, -5.49161782e-02,\n",
              "       -2.33487522e-02, -3.43318325e-02, -5.23227666e-02, -4.60919471e-02,\n",
              "       -2.57768135e-02, -6.11791172e-02,  1.32708464e-02, -5.71453401e-02,\n",
              "        4.08878337e-01,  8.55573229e-02,  3.36772649e-01, -5.86690621e-02,\n",
              "        5.82888377e-01, -6.11313356e-02, -5.02893875e-02,  5.18168242e-03,\n",
              "       -5.72609162e-02,  1.08502049e-03, -5.38505593e-02,  2.91173240e-02,\n",
              "        1.22500731e-02, -4.18716858e-02,  5.41649736e-01, -5.62611003e-02,\n",
              "       -5.59937345e-02, -5.91752643e-02, -1.95881760e-02, -1.21535589e-02,\n",
              "       -3.89233754e-02,  1.03738320e-01, -6.08462197e-02, -5.57682110e-02,\n",
              "        2.79284175e-02, -1.43313842e-03, -4.80969710e-02,  4.68772939e-03,\n",
              "       -5.21230276e-02,  4.00468134e-02,  6.23340384e-01, -5.77161132e-02,\n",
              "       -1.11345754e-02, -4.63653259e-02, -3.65678203e-03, -4.13970593e-02,\n",
              "       -4.09373241e-02, -5.69831789e-02,  9.11941371e-02, -5.95614782e-02,\n",
              "       -3.73947479e-03,  4.24330907e-02, -5.44299547e-02, -5.54177710e-02,\n",
              "        4.69175319e-02, -7.00546768e-03, -5.67103713e-02,  6.36643488e-02,\n",
              "       -5.48254429e-02, -5.80936974e-02,  1.67218512e-01,  2.13916642e-01,\n",
              "       -3.18924856e-02, -6.11608399e-02, -5.77554642e-02, -5.81348094e-02,\n",
              "       -4.62671063e-02, -2.90976184e-03,  7.45319770e-02, -6.21918424e-02,\n",
              "        3.91811179e-01,  3.91811179e-01,  3.91645567e-01,  3.91645567e-01,\n",
              "       -5.06236839e-02,  3.75906040e-02, -5.67446457e-02, -3.87591076e-02,\n",
              "        1.85198817e-02, -4.15110898e-02, -5.24295972e-02, -6.09720556e-02,\n",
              "       -2.70926945e-02, -5.59559949e-02, -5.68071673e-02,  1.80406126e-01,\n",
              "       -4.20526506e-02, -2.40381531e-02,  3.42662361e-02, -5.70525593e-02,\n",
              "        9.64714187e-02, -4.10477363e-02, -5.59444158e-02,  2.57402863e-02,\n",
              "       -3.02823528e-02,  4.13790828e-02,  6.25340317e-02,  4.27444162e-01,\n",
              "       -5.01896505e-02,  8.68472227e-02, -2.02057440e-02,  4.74731239e-02,\n",
              "        1.28639480e-01, -5.55361769e-02,  4.66575888e-03,  3.55440269e-02,\n",
              "       -4.94444423e-02,  7.10623807e-02, -5.98143171e-02, -5.86317980e-02,\n",
              "       -7.13697697e-03, -5.37211093e-02,  1.82284278e-02, -1.92103357e-02,\n",
              "        1.33147552e-02, -5.07892259e-02,  6.48320711e-02,  1.30242344e-02,\n",
              "        1.01981330e-01, -5.01147434e-02,  3.26878536e-02,  7.03209818e-02,\n",
              "       -5.22541827e-02,  5.21924560e-02,  3.37515924e-02,  1.74528361e-01,\n",
              "       -3.07400085e-02, -5.32012255e-02, -2.33423938e-02, -5.71119193e-02,\n",
              "       -4.14409762e-02,  5.33665035e-02, -1.48541650e-04, -5.35920147e-02,\n",
              "        1.63167043e-02,  2.50135087e-02, -4.02069222e-02,  9.08928172e-02,\n",
              "        5.81983915e-03, -2.16427709e-04,  8.94102474e-02, -3.73644296e-02,\n",
              "       -3.68245193e-02,  1.38699285e-02, -4.29377736e-02, -6.14543629e-02,\n",
              "       -4.28573811e-02, -3.67055631e-02, -8.28623961e-03, -4.95377388e-02,\n",
              "        1.07194966e-01, -2.96073876e-02,  7.99046639e-02, -4.58351721e-02,\n",
              "       -5.77527783e-03, -4.17102283e-02,  6.28662078e-02,  5.86101025e-02,\n",
              "       -1.05962725e-02, -6.27926759e-02, -2.26915536e-02, -5.11223467e-02,\n",
              "       -5.61815383e-02,  8.25896732e-03,  4.46234167e-02, -5.77828615e-02,\n",
              "       -5.42263886e-02, -3.40022832e-02,  1.26475883e-01,  9.21286497e-02,\n",
              "       -3.95733162e-04,  1.21210588e-02, -3.67394146e-02, -2.61513747e-02,\n",
              "       -4.85063963e-02, -8.61230662e-03, -1.85842695e-02, -5.93743495e-02,\n",
              "        3.87030424e-02, -2.26884145e-02,  1.94763797e-02, -3.80977915e-02,\n",
              "       -7.09505285e-03,  1.18845581e-02,  1.89851683e-01, -5.02972265e-02,\n",
              "        3.82457365e-02,  4.61940337e-02, -5.20471835e-02, -3.16279618e-02,\n",
              "        9.64407462e-02, -5.68652661e-02, -5.80955158e-02,  8.62753819e-02,\n",
              "        3.88465171e-02, -5.81819341e-03,  4.39084955e-03, -5.37635054e-02,\n",
              "       -5.91297009e-02,  3.17690898e-02, -4.39659955e-02,  6.68898955e-02,\n",
              "       -2.53321134e-02, -5.41155258e-02, -5.22012927e-02, -5.32803253e-02,\n",
              "       -6.04307772e-02, -5.75007226e-02, -4.99583279e-02, -4.05010968e-02,\n",
              "       -1.95625614e-02,  9.27407915e-02,  1.95510692e-01, -5.58095420e-02,\n",
              "       -3.38974475e-02, -5.82191566e-02,  6.35837180e-02, -5.35793501e-02,\n",
              "       -4.89830261e-02, -1.22000833e-02,  6.07523225e-01, -5.46350179e-02,\n",
              "        1.89653694e-02, -5.61655784e-02, -5.52684586e-02, -9.62264778e-03,\n",
              "        3.82124374e-02, -3.42356281e-02, -3.26290786e-02,  2.58836633e-02,\n",
              "       -4.40140919e-03, -2.55236688e-02, -5.61272742e-02, -2.35479987e-02,\n",
              "        1.06921072e-01,  1.41272936e-01,  6.66844706e-02, -5.86984057e-02,\n",
              "        1.48551869e-02, -5.76345451e-02, -2.75925307e-02, -2.23479930e-02,\n",
              "        1.24488704e-01,  1.28929573e-01, -1.86643483e-02, -5.74471515e-02,\n",
              "        1.65391568e-01, -2.66595100e-02, -4.33531952e-02,  4.19960285e-01,\n",
              "        5.00508592e-02,  6.00541392e-01,  1.29582132e-02, -5.55255831e-02,\n",
              "       -2.49585701e-02, -5.87486669e-02, -5.59532354e-02,  3.68631960e-02,\n",
              "        1.46471179e-02, -5.30471891e-02, -5.59765066e-02, -5.06391943e-02,\n",
              "       -5.76933108e-02, -6.09184797e-02, -5.96294226e-02,  6.44097722e-02,\n",
              "       -5.42548243e-02,  1.29732247e-01, -4.15097908e-02, -5.38059931e-02,\n",
              "       -4.24194813e-02, -4.94060521e-02,  8.57530896e-02, -5.70083157e-02,\n",
              "       -5.53239041e-02, -5.54997119e-02, -3.40782936e-02,  1.54232068e-01,\n",
              "        1.70671793e-02, -1.34386113e-02, -5.99408562e-02, -5.88296391e-02,\n",
              "       -3.54911451e-02, -5.11452857e-02, -6.90440786e-03, -3.24444551e-02,\n",
              "       -3.52577462e-02, -2.29429015e-02,  2.09939215e-02, -5.77660625e-02,\n",
              "        1.35384442e-03, -5.90846270e-02, -5.70079873e-02, -5.82238972e-02,\n",
              "       -5.01138911e-02,  5.75430328e-03, -3.34901900e-02, -1.89724226e-02,\n",
              "       -5.61009832e-02, -4.40291876e-02,  1.68546852e-01,  7.61099596e-02,\n",
              "       -6.08669936e-02, -5.75839566e-02, -4.97845600e-02,  8.88725253e-01,\n",
              "        2.88083902e-02,  1.01894145e-01, -4.23671661e-02,  1.46181818e-01,\n",
              "        2.04495585e+00, -4.62835269e-02, -3.37174269e-02, -5.63356444e-02,\n",
              "       -2.24436518e-02, -5.80147005e-02, -5.54803869e-02, -5.25356090e-02,\n",
              "        3.69086093e-02, -4.70723602e-02, -3.86021119e-02, -5.58486116e-02,\n",
              "        1.80768161e+00, -2.13744672e-02, -5.78545456e-02, -3.22710598e-02,\n",
              "        8.73017560e-03, -6.08265567e-02, -2.86165058e-02,  2.71701724e-02,\n",
              "       -5.75472617e-02, -5.47083053e-02, -2.92789654e-02, -6.32468114e-02,\n",
              "        3.76555007e-02, -4.55145890e-02, -4.77138254e-02,  4.76596699e-02,\n",
              "       -5.37627295e-02,  8.87201382e-03, -6.05841080e-02, -6.03545789e-02])"
            ]
          },
          "metadata": {},
          "execution_count": 107
        }
      ]
    },
    {
      "cell_type": "code",
      "source": [
        "# 8.1 Count elements greater than 0\n",
        "count_greater_than_0 = np.sum(minus_error > 0)\n",
        "\n",
        "# 8.2 Count elements less than 0\n",
        "count_less_than_0 = np.sum(minus_error < 0)\n",
        "\n",
        "print(f'Number of elements greater than 0: {count_greater_than_0}')\n",
        "print(f'Number of elements less than 0: {count_less_than_0}')"
      ],
      "metadata": {
        "colab": {
          "base_uri": "https://localhost:8080/"
        },
        "id": "TCV5uzGOXTuy",
        "outputId": "5f213394-0768-43c9-c9ed-5bfa20038f58"
      },
      "execution_count": null,
      "outputs": [
        {
          "output_type": "stream",
          "name": "stdout",
          "text": [
            "Number of elements greater than 0: 61067\n",
            "Number of elements less than 0: 223740\n"
          ]
        }
      ]
    },
    {
      "cell_type": "code",
      "source": [
        "##########################3"
      ],
      "metadata": {
        "id": "utqP4gIJXXX-"
      },
      "execution_count": null,
      "outputs": []
    }
  ]
}