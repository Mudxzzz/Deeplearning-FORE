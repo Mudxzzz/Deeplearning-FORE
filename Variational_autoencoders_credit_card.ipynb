{
  "nbformat": 4,
  "nbformat_minor": 0,
  "metadata": {
    "colab": {
      "provenance": [],
      "authorship_tag": "ABX9TyN0kEWHJZhfB2xOa6dGhxtf",
      "include_colab_link": true
    },
    "kernelspec": {
      "name": "python3",
      "display_name": "Python 3"
    },
    "language_info": {
      "name": "python"
    }
  },
  "cells": [
    {
      "cell_type": "markdown",
      "metadata": {
        "id": "view-in-github",
        "colab_type": "text"
      },
      "source": [
        "<a href=\"https://colab.research.google.com/github/harnalashok/deeplearning/blob/main/Variational_autoencoders_credit_card.ipynb\" target=\"_parent\"><img src=\"https://colab.research.google.com/assets/colab-badge.svg\" alt=\"Open In Colab\"/></a>"
      ]
    },
    {
      "cell_type": "code",
      "execution_count": null,
      "metadata": {
        "id": "lobgAaBwgT_K"
      },
      "outputs": [],
      "source": [
        "# Last amended: 09th Nov, 2023\n",
        "#               Orig: VijayDashmi\n",
        "# Ref: https://www.kaggle.com/code/hone5com/fraud-detection-with-variational-autoencoder"
      ]
    },
    {
      "cell_type": "markdown",
      "metadata": {
        "id": "OV-WK5M3r7iq"
      },
      "source": [
        "# Variational Autoencoder"
      ]
    },
    {
      "cell_type": "code",
      "source": [
        "# 0.0\n",
        "%reset -f"
      ],
      "metadata": {
        "id": "1uxK7Xb5gvym"
      },
      "execution_count": null,
      "outputs": []
    },
    {
      "cell_type": "code",
      "source": [
        "# 1.0 Python ≥3.5 is required\n",
        "\n",
        "from sklearn.preprocessing import StandardScaler\n",
        "from sklearn.model_selection import train_test_split\n",
        "from sklearn.metrics import classification_report, accuracy_score, roc_auc_score, roc_curve\n",
        "from sklearn.preprocessing import MinMaxScaler\n",
        "\n",
        "\n",
        "# 1.0.2 TensorFlow ≥2.0 is required\n",
        "import tensorflow as tf\n",
        "import tensorflow.keras.backend as K\n",
        "from tensorflow.keras.callbacks import EarlyStopping, ModelCheckpoint\n",
        "\n",
        "# 1.0.3 Common imports\n",
        "import numpy as np\n",
        "import pandas as pd\n",
        "import os,time\n",
        "\n",
        "\n",
        "# 1.0.4 To plot pretty figures\n",
        "import matplotlib.pyplot as plt"
      ],
      "metadata": {
        "id": "XpP5NaGMrqLk"
      },
      "execution_count": 1,
      "outputs": []
    },
    {
      "cell_type": "code",
      "source": [
        "# 1.0.5\n",
        "from IPython.core.interactiveshell import InteractiveShell\n",
        "InteractiveShell.ast_node_interactivity = \"all\"\n"
      ],
      "metadata": {
        "id": "psT8qF7ymhPJ"
      },
      "execution_count": 2,
      "outputs": []
    },
    {
      "cell_type": "code",
      "source": [
        "# 2.0\n",
        "from google.colab import drive\n",
        "drive.mount('/gdrive')"
      ],
      "metadata": {
        "colab": {
          "base_uri": "https://localhost:8080/"
        },
        "id": "oV6StzrTfZnh",
        "outputId": "798549bf-52cf-45bb-ca41-0e31ad0718f4"
      },
      "execution_count": 3,
      "outputs": [
        {
          "output_type": "stream",
          "name": "stdout",
          "text": [
            "Mounted at /gdrive\n"
          ]
        }
      ]
    },
    {
      "cell_type": "code",
      "source": [
        "# 2.1\n",
        "pathToFolder= \"/gdrive/MyDrive/Colab_data_files/creditcard/\"\n",
        "file = \"creditcardfraud.zip\""
      ],
      "metadata": {
        "id": "Wyeu4jyVgBSw"
      },
      "execution_count": 4,
      "outputs": []
    },
    {
      "cell_type": "code",
      "source": [
        "# 2.2 Read file:\n",
        "raw_data = pd.read_csv(pathToFolder + file)\n",
        "raw_data.shape  # (284807, 31)"
      ],
      "metadata": {
        "colab": {
          "base_uri": "https://localhost:8080/"
        },
        "id": "5dSXJbKKgLAR",
        "outputId": "02ce6222-c091-41c8-af4c-e3ca3fba2d78"
      },
      "execution_count": 5,
      "outputs": [
        {
          "output_type": "execute_result",
          "data": {
            "text/plain": [
              "(284807, 31)"
            ]
          },
          "metadata": {},
          "execution_count": 5
        }
      ]
    },
    {
      "cell_type": "code",
      "source": [
        "# 2.3\n",
        "raw_data.head()"
      ],
      "metadata": {
        "colab": {
          "base_uri": "https://localhost:8080/",
          "height": 235
        },
        "id": "V-8HAtWBiMUr",
        "outputId": "e8867e3f-ae68-4dd8-a5a5-4a26fa696f5f"
      },
      "execution_count": 6,
      "outputs": [
        {
          "output_type": "execute_result",
          "data": {
            "text/plain": [
              "   Time        V1        V2        V3        V4        V5        V6        V7  \\\n",
              "0   0.0 -1.359807 -0.072781  2.536347  1.378155 -0.338321  0.462388  0.239599   \n",
              "1   0.0  1.191857  0.266151  0.166480  0.448154  0.060018 -0.082361 -0.078803   \n",
              "2   1.0 -1.358354 -1.340163  1.773209  0.379780 -0.503198  1.800499  0.791461   \n",
              "3   1.0 -0.966272 -0.185226  1.792993 -0.863291 -0.010309  1.247203  0.237609   \n",
              "4   2.0 -1.158233  0.877737  1.548718  0.403034 -0.407193  0.095921  0.592941   \n",
              "\n",
              "         V8        V9  ...       V21       V22       V23       V24       V25  \\\n",
              "0  0.098698  0.363787  ... -0.018307  0.277838 -0.110474  0.066928  0.128539   \n",
              "1  0.085102 -0.255425  ... -0.225775 -0.638672  0.101288 -0.339846  0.167170   \n",
              "2  0.247676 -1.514654  ...  0.247998  0.771679  0.909412 -0.689281 -0.327642   \n",
              "3  0.377436 -1.387024  ... -0.108300  0.005274 -0.190321 -1.175575  0.647376   \n",
              "4 -0.270533  0.817739  ... -0.009431  0.798278 -0.137458  0.141267 -0.206010   \n",
              "\n",
              "        V26       V27       V28  Amount  Class  \n",
              "0 -0.189115  0.133558 -0.021053  149.62      0  \n",
              "1  0.125895 -0.008983  0.014724    2.69      0  \n",
              "2 -0.139097 -0.055353 -0.059752  378.66      0  \n",
              "3 -0.221929  0.062723  0.061458  123.50      0  \n",
              "4  0.502292  0.219422  0.215153   69.99      0  \n",
              "\n",
              "[5 rows x 31 columns]"
            ],
            "text/html": [
              "\n",
              "  <div id=\"df-e8596fee-f0d0-4d90-a297-7881708a967f\" class=\"colab-df-container\">\n",
              "    <div>\n",
              "<style scoped>\n",
              "    .dataframe tbody tr th:only-of-type {\n",
              "        vertical-align: middle;\n",
              "    }\n",
              "\n",
              "    .dataframe tbody tr th {\n",
              "        vertical-align: top;\n",
              "    }\n",
              "\n",
              "    .dataframe thead th {\n",
              "        text-align: right;\n",
              "    }\n",
              "</style>\n",
              "<table border=\"1\" class=\"dataframe\">\n",
              "  <thead>\n",
              "    <tr style=\"text-align: right;\">\n",
              "      <th></th>\n",
              "      <th>Time</th>\n",
              "      <th>V1</th>\n",
              "      <th>V2</th>\n",
              "      <th>V3</th>\n",
              "      <th>V4</th>\n",
              "      <th>V5</th>\n",
              "      <th>V6</th>\n",
              "      <th>V7</th>\n",
              "      <th>V8</th>\n",
              "      <th>V9</th>\n",
              "      <th>...</th>\n",
              "      <th>V21</th>\n",
              "      <th>V22</th>\n",
              "      <th>V23</th>\n",
              "      <th>V24</th>\n",
              "      <th>V25</th>\n",
              "      <th>V26</th>\n",
              "      <th>V27</th>\n",
              "      <th>V28</th>\n",
              "      <th>Amount</th>\n",
              "      <th>Class</th>\n",
              "    </tr>\n",
              "  </thead>\n",
              "  <tbody>\n",
              "    <tr>\n",
              "      <th>0</th>\n",
              "      <td>0.0</td>\n",
              "      <td>-1.359807</td>\n",
              "      <td>-0.072781</td>\n",
              "      <td>2.536347</td>\n",
              "      <td>1.378155</td>\n",
              "      <td>-0.338321</td>\n",
              "      <td>0.462388</td>\n",
              "      <td>0.239599</td>\n",
              "      <td>0.098698</td>\n",
              "      <td>0.363787</td>\n",
              "      <td>...</td>\n",
              "      <td>-0.018307</td>\n",
              "      <td>0.277838</td>\n",
              "      <td>-0.110474</td>\n",
              "      <td>0.066928</td>\n",
              "      <td>0.128539</td>\n",
              "      <td>-0.189115</td>\n",
              "      <td>0.133558</td>\n",
              "      <td>-0.021053</td>\n",
              "      <td>149.62</td>\n",
              "      <td>0</td>\n",
              "    </tr>\n",
              "    <tr>\n",
              "      <th>1</th>\n",
              "      <td>0.0</td>\n",
              "      <td>1.191857</td>\n",
              "      <td>0.266151</td>\n",
              "      <td>0.166480</td>\n",
              "      <td>0.448154</td>\n",
              "      <td>0.060018</td>\n",
              "      <td>-0.082361</td>\n",
              "      <td>-0.078803</td>\n",
              "      <td>0.085102</td>\n",
              "      <td>-0.255425</td>\n",
              "      <td>...</td>\n",
              "      <td>-0.225775</td>\n",
              "      <td>-0.638672</td>\n",
              "      <td>0.101288</td>\n",
              "      <td>-0.339846</td>\n",
              "      <td>0.167170</td>\n",
              "      <td>0.125895</td>\n",
              "      <td>-0.008983</td>\n",
              "      <td>0.014724</td>\n",
              "      <td>2.69</td>\n",
              "      <td>0</td>\n",
              "    </tr>\n",
              "    <tr>\n",
              "      <th>2</th>\n",
              "      <td>1.0</td>\n",
              "      <td>-1.358354</td>\n",
              "      <td>-1.340163</td>\n",
              "      <td>1.773209</td>\n",
              "      <td>0.379780</td>\n",
              "      <td>-0.503198</td>\n",
              "      <td>1.800499</td>\n",
              "      <td>0.791461</td>\n",
              "      <td>0.247676</td>\n",
              "      <td>-1.514654</td>\n",
              "      <td>...</td>\n",
              "      <td>0.247998</td>\n",
              "      <td>0.771679</td>\n",
              "      <td>0.909412</td>\n",
              "      <td>-0.689281</td>\n",
              "      <td>-0.327642</td>\n",
              "      <td>-0.139097</td>\n",
              "      <td>-0.055353</td>\n",
              "      <td>-0.059752</td>\n",
              "      <td>378.66</td>\n",
              "      <td>0</td>\n",
              "    </tr>\n",
              "    <tr>\n",
              "      <th>3</th>\n",
              "      <td>1.0</td>\n",
              "      <td>-0.966272</td>\n",
              "      <td>-0.185226</td>\n",
              "      <td>1.792993</td>\n",
              "      <td>-0.863291</td>\n",
              "      <td>-0.010309</td>\n",
              "      <td>1.247203</td>\n",
              "      <td>0.237609</td>\n",
              "      <td>0.377436</td>\n",
              "      <td>-1.387024</td>\n",
              "      <td>...</td>\n",
              "      <td>-0.108300</td>\n",
              "      <td>0.005274</td>\n",
              "      <td>-0.190321</td>\n",
              "      <td>-1.175575</td>\n",
              "      <td>0.647376</td>\n",
              "      <td>-0.221929</td>\n",
              "      <td>0.062723</td>\n",
              "      <td>0.061458</td>\n",
              "      <td>123.50</td>\n",
              "      <td>0</td>\n",
              "    </tr>\n",
              "    <tr>\n",
              "      <th>4</th>\n",
              "      <td>2.0</td>\n",
              "      <td>-1.158233</td>\n",
              "      <td>0.877737</td>\n",
              "      <td>1.548718</td>\n",
              "      <td>0.403034</td>\n",
              "      <td>-0.407193</td>\n",
              "      <td>0.095921</td>\n",
              "      <td>0.592941</td>\n",
              "      <td>-0.270533</td>\n",
              "      <td>0.817739</td>\n",
              "      <td>...</td>\n",
              "      <td>-0.009431</td>\n",
              "      <td>0.798278</td>\n",
              "      <td>-0.137458</td>\n",
              "      <td>0.141267</td>\n",
              "      <td>-0.206010</td>\n",
              "      <td>0.502292</td>\n",
              "      <td>0.219422</td>\n",
              "      <td>0.215153</td>\n",
              "      <td>69.99</td>\n",
              "      <td>0</td>\n",
              "    </tr>\n",
              "  </tbody>\n",
              "</table>\n",
              "<p>5 rows × 31 columns</p>\n",
              "</div>\n",
              "    <div class=\"colab-df-buttons\">\n",
              "\n",
              "  <div class=\"colab-df-container\">\n",
              "    <button class=\"colab-df-convert\" onclick=\"convertToInteractive('df-e8596fee-f0d0-4d90-a297-7881708a967f')\"\n",
              "            title=\"Convert this dataframe to an interactive table.\"\n",
              "            style=\"display:none;\">\n",
              "\n",
              "  <svg xmlns=\"http://www.w3.org/2000/svg\" height=\"24px\" viewBox=\"0 -960 960 960\">\n",
              "    <path d=\"M120-120v-720h720v720H120Zm60-500h600v-160H180v160Zm220 220h160v-160H400v160Zm0 220h160v-160H400v160ZM180-400h160v-160H180v160Zm440 0h160v-160H620v160ZM180-180h160v-160H180v160Zm440 0h160v-160H620v160Z\"/>\n",
              "  </svg>\n",
              "    </button>\n",
              "\n",
              "  <style>\n",
              "    .colab-df-container {\n",
              "      display:flex;\n",
              "      gap: 12px;\n",
              "    }\n",
              "\n",
              "    .colab-df-convert {\n",
              "      background-color: #E8F0FE;\n",
              "      border: none;\n",
              "      border-radius: 50%;\n",
              "      cursor: pointer;\n",
              "      display: none;\n",
              "      fill: #1967D2;\n",
              "      height: 32px;\n",
              "      padding: 0 0 0 0;\n",
              "      width: 32px;\n",
              "    }\n",
              "\n",
              "    .colab-df-convert:hover {\n",
              "      background-color: #E2EBFA;\n",
              "      box-shadow: 0px 1px 2px rgba(60, 64, 67, 0.3), 0px 1px 3px 1px rgba(60, 64, 67, 0.15);\n",
              "      fill: #174EA6;\n",
              "    }\n",
              "\n",
              "    .colab-df-buttons div {\n",
              "      margin-bottom: 4px;\n",
              "    }\n",
              "\n",
              "    [theme=dark] .colab-df-convert {\n",
              "      background-color: #3B4455;\n",
              "      fill: #D2E3FC;\n",
              "    }\n",
              "\n",
              "    [theme=dark] .colab-df-convert:hover {\n",
              "      background-color: #434B5C;\n",
              "      box-shadow: 0px 1px 3px 1px rgba(0, 0, 0, 0.15);\n",
              "      filter: drop-shadow(0px 1px 2px rgba(0, 0, 0, 0.3));\n",
              "      fill: #FFFFFF;\n",
              "    }\n",
              "  </style>\n",
              "\n",
              "    <script>\n",
              "      const buttonEl =\n",
              "        document.querySelector('#df-e8596fee-f0d0-4d90-a297-7881708a967f button.colab-df-convert');\n",
              "      buttonEl.style.display =\n",
              "        google.colab.kernel.accessAllowed ? 'block' : 'none';\n",
              "\n",
              "      async function convertToInteractive(key) {\n",
              "        const element = document.querySelector('#df-e8596fee-f0d0-4d90-a297-7881708a967f');\n",
              "        const dataTable =\n",
              "          await google.colab.kernel.invokeFunction('convertToInteractive',\n",
              "                                                    [key], {});\n",
              "        if (!dataTable) return;\n",
              "\n",
              "        const docLinkHtml = 'Like what you see? Visit the ' +\n",
              "          '<a target=\"_blank\" href=https://colab.research.google.com/notebooks/data_table.ipynb>data table notebook</a>'\n",
              "          + ' to learn more about interactive tables.';\n",
              "        element.innerHTML = '';\n",
              "        dataTable['output_type'] = 'display_data';\n",
              "        await google.colab.output.renderOutput(dataTable, element);\n",
              "        const docLink = document.createElement('div');\n",
              "        docLink.innerHTML = docLinkHtml;\n",
              "        element.appendChild(docLink);\n",
              "      }\n",
              "    </script>\n",
              "  </div>\n",
              "\n",
              "\n",
              "<div id=\"df-000768b0-05c6-42e3-967c-9cf93c9ca4e6\">\n",
              "  <button class=\"colab-df-quickchart\" onclick=\"quickchart('df-000768b0-05c6-42e3-967c-9cf93c9ca4e6')\"\n",
              "            title=\"Suggest charts\"\n",
              "            style=\"display:none;\">\n",
              "\n",
              "<svg xmlns=\"http://www.w3.org/2000/svg\" height=\"24px\"viewBox=\"0 0 24 24\"\n",
              "     width=\"24px\">\n",
              "    <g>\n",
              "        <path d=\"M19 3H5c-1.1 0-2 .9-2 2v14c0 1.1.9 2 2 2h14c1.1 0 2-.9 2-2V5c0-1.1-.9-2-2-2zM9 17H7v-7h2v7zm4 0h-2V7h2v10zm4 0h-2v-4h2v4z\"/>\n",
              "    </g>\n",
              "</svg>\n",
              "  </button>\n",
              "\n",
              "<style>\n",
              "  .colab-df-quickchart {\n",
              "      --bg-color: #E8F0FE;\n",
              "      --fill-color: #1967D2;\n",
              "      --hover-bg-color: #E2EBFA;\n",
              "      --hover-fill-color: #174EA6;\n",
              "      --disabled-fill-color: #AAA;\n",
              "      --disabled-bg-color: #DDD;\n",
              "  }\n",
              "\n",
              "  [theme=dark] .colab-df-quickchart {\n",
              "      --bg-color: #3B4455;\n",
              "      --fill-color: #D2E3FC;\n",
              "      --hover-bg-color: #434B5C;\n",
              "      --hover-fill-color: #FFFFFF;\n",
              "      --disabled-bg-color: #3B4455;\n",
              "      --disabled-fill-color: #666;\n",
              "  }\n",
              "\n",
              "  .colab-df-quickchart {\n",
              "    background-color: var(--bg-color);\n",
              "    border: none;\n",
              "    border-radius: 50%;\n",
              "    cursor: pointer;\n",
              "    display: none;\n",
              "    fill: var(--fill-color);\n",
              "    height: 32px;\n",
              "    padding: 0;\n",
              "    width: 32px;\n",
              "  }\n",
              "\n",
              "  .colab-df-quickchart:hover {\n",
              "    background-color: var(--hover-bg-color);\n",
              "    box-shadow: 0 1px 2px rgba(60, 64, 67, 0.3), 0 1px 3px 1px rgba(60, 64, 67, 0.15);\n",
              "    fill: var(--button-hover-fill-color);\n",
              "  }\n",
              "\n",
              "  .colab-df-quickchart-complete:disabled,\n",
              "  .colab-df-quickchart-complete:disabled:hover {\n",
              "    background-color: var(--disabled-bg-color);\n",
              "    fill: var(--disabled-fill-color);\n",
              "    box-shadow: none;\n",
              "  }\n",
              "\n",
              "  .colab-df-spinner {\n",
              "    border: 2px solid var(--fill-color);\n",
              "    border-color: transparent;\n",
              "    border-bottom-color: var(--fill-color);\n",
              "    animation:\n",
              "      spin 1s steps(1) infinite;\n",
              "  }\n",
              "\n",
              "  @keyframes spin {\n",
              "    0% {\n",
              "      border-color: transparent;\n",
              "      border-bottom-color: var(--fill-color);\n",
              "      border-left-color: var(--fill-color);\n",
              "    }\n",
              "    20% {\n",
              "      border-color: transparent;\n",
              "      border-left-color: var(--fill-color);\n",
              "      border-top-color: var(--fill-color);\n",
              "    }\n",
              "    30% {\n",
              "      border-color: transparent;\n",
              "      border-left-color: var(--fill-color);\n",
              "      border-top-color: var(--fill-color);\n",
              "      border-right-color: var(--fill-color);\n",
              "    }\n",
              "    40% {\n",
              "      border-color: transparent;\n",
              "      border-right-color: var(--fill-color);\n",
              "      border-top-color: var(--fill-color);\n",
              "    }\n",
              "    60% {\n",
              "      border-color: transparent;\n",
              "      border-right-color: var(--fill-color);\n",
              "    }\n",
              "    80% {\n",
              "      border-color: transparent;\n",
              "      border-right-color: var(--fill-color);\n",
              "      border-bottom-color: var(--fill-color);\n",
              "    }\n",
              "    90% {\n",
              "      border-color: transparent;\n",
              "      border-bottom-color: var(--fill-color);\n",
              "    }\n",
              "  }\n",
              "</style>\n",
              "\n",
              "  <script>\n",
              "    async function quickchart(key) {\n",
              "      const quickchartButtonEl =\n",
              "        document.querySelector('#' + key + ' button');\n",
              "      quickchartButtonEl.disabled = true;  // To prevent multiple clicks.\n",
              "      quickchartButtonEl.classList.add('colab-df-spinner');\n",
              "      try {\n",
              "        const charts = await google.colab.kernel.invokeFunction(\n",
              "            'suggestCharts', [key], {});\n",
              "      } catch (error) {\n",
              "        console.error('Error during call to suggestCharts:', error);\n",
              "      }\n",
              "      quickchartButtonEl.classList.remove('colab-df-spinner');\n",
              "      quickchartButtonEl.classList.add('colab-df-quickchart-complete');\n",
              "    }\n",
              "    (() => {\n",
              "      let quickchartButtonEl =\n",
              "        document.querySelector('#df-000768b0-05c6-42e3-967c-9cf93c9ca4e6 button');\n",
              "      quickchartButtonEl.style.display =\n",
              "        google.colab.kernel.accessAllowed ? 'block' : 'none';\n",
              "    })();\n",
              "  </script>\n",
              "</div>\n",
              "    </div>\n",
              "  </div>\n"
            ]
          },
          "metadata": {},
          "execution_count": 6
        }
      ]
    },
    {
      "cell_type": "markdown",
      "source": [
        "### Some rough work"
      ],
      "metadata": {
        "id": "MJqWRdPCxlY3"
      }
    },
    {
      "cell_type": "code",
      "source": [
        "# Time appears to be in seconds:\n",
        "\n",
        "raw_data['Time'].max()  # 172792.0"
      ],
      "metadata": {
        "id": "_bo-J6tdxrCl"
      },
      "execution_count": null,
      "outputs": []
    },
    {
      "cell_type": "code",
      "source": [
        "x = 3700/3600 % 24\n",
        "x   # Converts to hours scale 1.0277777777777777"
      ],
      "metadata": {
        "colab": {
          "base_uri": "https://localhost:8080/"
        },
        "id": "YCXXOyzcwSRO",
        "outputId": "47559027-9d5e-4ab6-8a6a-7227e19ac205"
      },
      "execution_count": 14,
      "outputs": [
        {
          "output_type": "execute_result",
          "data": {
            "text/plain": [
              "1.0277777777777777"
            ]
          },
          "metadata": {},
          "execution_count": 14
        }
      ]
    },
    {
      "cell_type": "code",
      "source": [
        "x = ((12 * 3600) + 100)\n",
        "x"
      ],
      "metadata": {
        "colab": {
          "base_uri": "https://localhost:8080/"
        },
        "id": "se08KnF_w3t2",
        "outputId": "1ec74edb-4421-4676-d606-0053d0f6aaf2"
      },
      "execution_count": 17,
      "outputs": [
        {
          "output_type": "execute_result",
          "data": {
            "text/plain": [
              "43300"
            ]
          },
          "metadata": {},
          "execution_count": 17
        }
      ]
    },
    {
      "cell_type": "code",
      "source": [
        "x/3600 %24   # 12.027777777777779"
      ],
      "metadata": {
        "colab": {
          "base_uri": "https://localhost:8080/"
        },
        "id": "nSyIaZ3FxRhd",
        "outputId": "45b482c2-1552-4c9b-dc6a-cb6549f8d1f5"
      },
      "execution_count": 19,
      "outputs": [
        {
          "output_type": "execute_result",
          "data": {
            "text/plain": [
              "12.027777777777779"
            ]
          },
          "metadata": {},
          "execution_count": 19
        }
      ]
    },
    {
      "cell_type": "markdown",
      "source": [
        "## Split data"
      ],
      "metadata": {
        "id": "jiZFASngxtal"
      }
    },
    {
      "cell_type": "code",
      "source": [
        "# 3.0\n",
        "data, data_test = train_test_split(raw_data,\n",
        "                                   test_size=0.25\n",
        "                                   )"
      ],
      "metadata": {
        "id": "M8UMgUm_hL14"
      },
      "execution_count": 12,
      "outputs": []
    },
    {
      "cell_type": "markdown",
      "source": [
        "We transform the Time field to time-of-day to account for intraday seasonality. The Amount field is transformed to log scale, with the intuition that the scale of magnitute of a transaction could be a more relevant feature for fraud than linear amounts."
      ],
      "metadata": {
        "id": "7CWCzZOihhpQ"
      }
    },
    {
      "cell_type": "markdown",
      "source": [
        "### What is lambda"
      ],
      "metadata": {
        "id": "ACvKqcxrEPuc"
      }
    },
    {
      "cell_type": "code",
      "source": [
        "# 3.0.1\n",
        "str = \"abc d\"\n",
        "upper = lambda string: string.upper()\n",
        "upper(str)"
      ],
      "metadata": {
        "id": "6RQDL6ytENr1"
      },
      "execution_count": null,
      "outputs": []
    },
    {
      "cell_type": "code",
      "source": [
        "# 3.0.2\n",
        "mul = lambda a,b: a * b\n",
        "mul(4,5)"
      ],
      "metadata": {
        "id": "ba4otVtyEFbu"
      },
      "execution_count": null,
      "outputs": []
    },
    {
      "cell_type": "code",
      "source": [
        "# 3.1\n",
        "data.loc[:,\"Time\"] = data[\"Time\"].apply(lambda x : x / 3600 % 24)\n",
        "data.loc[:,'Amount'] = np.log(data['Amount']+1)\n",
        "\n",
        "# 3.1.1\n",
        "data_test.loc[:,\"Time\"] = data_test[\"Time\"].apply(lambda x : x / 3600 % 24)\n",
        "data_test.loc[:,'Amount'] = np.log(data_test['Amount']+1)\n",
        "# data = data.drop(['Amount'], axis = 1)\n",
        "print(data.shape)\n",
        "data.head()"
      ],
      "metadata": {
        "colab": {
          "base_uri": "https://localhost:8080/",
          "height": 273
        },
        "id": "ST4TwWtWhDsN",
        "outputId": "d4f2443e-3bfc-4ce4-c921-6f5ef8038f22"
      },
      "execution_count": 20,
      "outputs": [
        {
          "output_type": "stream",
          "name": "stdout",
          "text": [
            "(213605, 31)\n"
          ]
        },
        {
          "output_type": "execute_result",
          "data": {
            "text/plain": [
              "             Time        V1        V2        V3        V4        V5        V6  \\\n",
              "33989   10.406667  1.048966 -0.096660  1.461295  1.839049 -0.916210  0.307238   \n",
              "49236   12.213611  1.116449 -0.211269  0.754197  0.517043 -0.552102  0.145750   \n",
              "106609  19.453889 -0.830733  1.356850  0.923871 -0.370863  0.343035 -0.320716   \n",
              "18319    8.161944  1.277616  0.008527 -1.154306  0.258949  2.193753  3.604186   \n",
              "246394  18.543611 -0.961426  1.484112 -0.687170 -0.282980  1.126348  0.242898   \n",
              "\n",
              "              V7        V8        V9  ...       V21       V22       V23  \\\n",
              "33989  -0.491148  0.221729  1.136095  ... -0.376538 -0.577020  0.146884   \n",
              "49236  -0.494253  0.133863  0.512614  ...  0.022080  0.009849 -0.022585   \n",
              "106609  0.755692 -0.024482 -0.035177  ... -0.355895 -0.769711 -0.085675   \n",
              "18319  -0.448926  0.851078  0.173330  ... -0.187916 -0.476908 -0.120082   \n",
              "246394  0.469845  0.318000 -0.719651  ... -0.159002 -0.664890 -0.001695   \n",
              "\n",
              "             V24       V25       V26       V27       V28    Amount  Class  \n",
              "33989   0.628095  0.373787 -0.544092  0.096037  0.034710  2.128232      0  \n",
              "49236  -0.444430  0.154436  0.344100  0.007993  0.027677  4.020698      0  \n",
              "106609 -0.633937  0.075293  0.143074  0.490865  0.231209  2.781920      0  \n",
              "18319   1.009497  0.895922 -0.325840  0.026738  0.011169  0.693147      0  \n",
              "246394 -0.273869 -0.479963  0.291629 -0.541864  0.122786  0.636577      0  \n",
              "\n",
              "[5 rows x 31 columns]"
            ],
            "text/html": [
              "\n",
              "  <div id=\"df-650b6b88-85d3-49de-b9f8-8e932de9ce71\" class=\"colab-df-container\">\n",
              "    <div>\n",
              "<style scoped>\n",
              "    .dataframe tbody tr th:only-of-type {\n",
              "        vertical-align: middle;\n",
              "    }\n",
              "\n",
              "    .dataframe tbody tr th {\n",
              "        vertical-align: top;\n",
              "    }\n",
              "\n",
              "    .dataframe thead th {\n",
              "        text-align: right;\n",
              "    }\n",
              "</style>\n",
              "<table border=\"1\" class=\"dataframe\">\n",
              "  <thead>\n",
              "    <tr style=\"text-align: right;\">\n",
              "      <th></th>\n",
              "      <th>Time</th>\n",
              "      <th>V1</th>\n",
              "      <th>V2</th>\n",
              "      <th>V3</th>\n",
              "      <th>V4</th>\n",
              "      <th>V5</th>\n",
              "      <th>V6</th>\n",
              "      <th>V7</th>\n",
              "      <th>V8</th>\n",
              "      <th>V9</th>\n",
              "      <th>...</th>\n",
              "      <th>V21</th>\n",
              "      <th>V22</th>\n",
              "      <th>V23</th>\n",
              "      <th>V24</th>\n",
              "      <th>V25</th>\n",
              "      <th>V26</th>\n",
              "      <th>V27</th>\n",
              "      <th>V28</th>\n",
              "      <th>Amount</th>\n",
              "      <th>Class</th>\n",
              "    </tr>\n",
              "  </thead>\n",
              "  <tbody>\n",
              "    <tr>\n",
              "      <th>33989</th>\n",
              "      <td>10.406667</td>\n",
              "      <td>1.048966</td>\n",
              "      <td>-0.096660</td>\n",
              "      <td>1.461295</td>\n",
              "      <td>1.839049</td>\n",
              "      <td>-0.916210</td>\n",
              "      <td>0.307238</td>\n",
              "      <td>-0.491148</td>\n",
              "      <td>0.221729</td>\n",
              "      <td>1.136095</td>\n",
              "      <td>...</td>\n",
              "      <td>-0.376538</td>\n",
              "      <td>-0.577020</td>\n",
              "      <td>0.146884</td>\n",
              "      <td>0.628095</td>\n",
              "      <td>0.373787</td>\n",
              "      <td>-0.544092</td>\n",
              "      <td>0.096037</td>\n",
              "      <td>0.034710</td>\n",
              "      <td>2.128232</td>\n",
              "      <td>0</td>\n",
              "    </tr>\n",
              "    <tr>\n",
              "      <th>49236</th>\n",
              "      <td>12.213611</td>\n",
              "      <td>1.116449</td>\n",
              "      <td>-0.211269</td>\n",
              "      <td>0.754197</td>\n",
              "      <td>0.517043</td>\n",
              "      <td>-0.552102</td>\n",
              "      <td>0.145750</td>\n",
              "      <td>-0.494253</td>\n",
              "      <td>0.133863</td>\n",
              "      <td>0.512614</td>\n",
              "      <td>...</td>\n",
              "      <td>0.022080</td>\n",
              "      <td>0.009849</td>\n",
              "      <td>-0.022585</td>\n",
              "      <td>-0.444430</td>\n",
              "      <td>0.154436</td>\n",
              "      <td>0.344100</td>\n",
              "      <td>0.007993</td>\n",
              "      <td>0.027677</td>\n",
              "      <td>4.020698</td>\n",
              "      <td>0</td>\n",
              "    </tr>\n",
              "    <tr>\n",
              "      <th>106609</th>\n",
              "      <td>19.453889</td>\n",
              "      <td>-0.830733</td>\n",
              "      <td>1.356850</td>\n",
              "      <td>0.923871</td>\n",
              "      <td>-0.370863</td>\n",
              "      <td>0.343035</td>\n",
              "      <td>-0.320716</td>\n",
              "      <td>0.755692</td>\n",
              "      <td>-0.024482</td>\n",
              "      <td>-0.035177</td>\n",
              "      <td>...</td>\n",
              "      <td>-0.355895</td>\n",
              "      <td>-0.769711</td>\n",
              "      <td>-0.085675</td>\n",
              "      <td>-0.633937</td>\n",
              "      <td>0.075293</td>\n",
              "      <td>0.143074</td>\n",
              "      <td>0.490865</td>\n",
              "      <td>0.231209</td>\n",
              "      <td>2.781920</td>\n",
              "      <td>0</td>\n",
              "    </tr>\n",
              "    <tr>\n",
              "      <th>18319</th>\n",
              "      <td>8.161944</td>\n",
              "      <td>1.277616</td>\n",
              "      <td>0.008527</td>\n",
              "      <td>-1.154306</td>\n",
              "      <td>0.258949</td>\n",
              "      <td>2.193753</td>\n",
              "      <td>3.604186</td>\n",
              "      <td>-0.448926</td>\n",
              "      <td>0.851078</td>\n",
              "      <td>0.173330</td>\n",
              "      <td>...</td>\n",
              "      <td>-0.187916</td>\n",
              "      <td>-0.476908</td>\n",
              "      <td>-0.120082</td>\n",
              "      <td>1.009497</td>\n",
              "      <td>0.895922</td>\n",
              "      <td>-0.325840</td>\n",
              "      <td>0.026738</td>\n",
              "      <td>0.011169</td>\n",
              "      <td>0.693147</td>\n",
              "      <td>0</td>\n",
              "    </tr>\n",
              "    <tr>\n",
              "      <th>246394</th>\n",
              "      <td>18.543611</td>\n",
              "      <td>-0.961426</td>\n",
              "      <td>1.484112</td>\n",
              "      <td>-0.687170</td>\n",
              "      <td>-0.282980</td>\n",
              "      <td>1.126348</td>\n",
              "      <td>0.242898</td>\n",
              "      <td>0.469845</td>\n",
              "      <td>0.318000</td>\n",
              "      <td>-0.719651</td>\n",
              "      <td>...</td>\n",
              "      <td>-0.159002</td>\n",
              "      <td>-0.664890</td>\n",
              "      <td>-0.001695</td>\n",
              "      <td>-0.273869</td>\n",
              "      <td>-0.479963</td>\n",
              "      <td>0.291629</td>\n",
              "      <td>-0.541864</td>\n",
              "      <td>0.122786</td>\n",
              "      <td>0.636577</td>\n",
              "      <td>0</td>\n",
              "    </tr>\n",
              "  </tbody>\n",
              "</table>\n",
              "<p>5 rows × 31 columns</p>\n",
              "</div>\n",
              "    <div class=\"colab-df-buttons\">\n",
              "\n",
              "  <div class=\"colab-df-container\">\n",
              "    <button class=\"colab-df-convert\" onclick=\"convertToInteractive('df-650b6b88-85d3-49de-b9f8-8e932de9ce71')\"\n",
              "            title=\"Convert this dataframe to an interactive table.\"\n",
              "            style=\"display:none;\">\n",
              "\n",
              "  <svg xmlns=\"http://www.w3.org/2000/svg\" height=\"24px\" viewBox=\"0 -960 960 960\">\n",
              "    <path d=\"M120-120v-720h720v720H120Zm60-500h600v-160H180v160Zm220 220h160v-160H400v160Zm0 220h160v-160H400v160ZM180-400h160v-160H180v160Zm440 0h160v-160H620v160ZM180-180h160v-160H180v160Zm440 0h160v-160H620v160Z\"/>\n",
              "  </svg>\n",
              "    </button>\n",
              "\n",
              "  <style>\n",
              "    .colab-df-container {\n",
              "      display:flex;\n",
              "      gap: 12px;\n",
              "    }\n",
              "\n",
              "    .colab-df-convert {\n",
              "      background-color: #E8F0FE;\n",
              "      border: none;\n",
              "      border-radius: 50%;\n",
              "      cursor: pointer;\n",
              "      display: none;\n",
              "      fill: #1967D2;\n",
              "      height: 32px;\n",
              "      padding: 0 0 0 0;\n",
              "      width: 32px;\n",
              "    }\n",
              "\n",
              "    .colab-df-convert:hover {\n",
              "      background-color: #E2EBFA;\n",
              "      box-shadow: 0px 1px 2px rgba(60, 64, 67, 0.3), 0px 1px 3px 1px rgba(60, 64, 67, 0.15);\n",
              "      fill: #174EA6;\n",
              "    }\n",
              "\n",
              "    .colab-df-buttons div {\n",
              "      margin-bottom: 4px;\n",
              "    }\n",
              "\n",
              "    [theme=dark] .colab-df-convert {\n",
              "      background-color: #3B4455;\n",
              "      fill: #D2E3FC;\n",
              "    }\n",
              "\n",
              "    [theme=dark] .colab-df-convert:hover {\n",
              "      background-color: #434B5C;\n",
              "      box-shadow: 0px 1px 3px 1px rgba(0, 0, 0, 0.15);\n",
              "      filter: drop-shadow(0px 1px 2px rgba(0, 0, 0, 0.3));\n",
              "      fill: #FFFFFF;\n",
              "    }\n",
              "  </style>\n",
              "\n",
              "    <script>\n",
              "      const buttonEl =\n",
              "        document.querySelector('#df-650b6b88-85d3-49de-b9f8-8e932de9ce71 button.colab-df-convert');\n",
              "      buttonEl.style.display =\n",
              "        google.colab.kernel.accessAllowed ? 'block' : 'none';\n",
              "\n",
              "      async function convertToInteractive(key) {\n",
              "        const element = document.querySelector('#df-650b6b88-85d3-49de-b9f8-8e932de9ce71');\n",
              "        const dataTable =\n",
              "          await google.colab.kernel.invokeFunction('convertToInteractive',\n",
              "                                                    [key], {});\n",
              "        if (!dataTable) return;\n",
              "\n",
              "        const docLinkHtml = 'Like what you see? Visit the ' +\n",
              "          '<a target=\"_blank\" href=https://colab.research.google.com/notebooks/data_table.ipynb>data table notebook</a>'\n",
              "          + ' to learn more about interactive tables.';\n",
              "        element.innerHTML = '';\n",
              "        dataTable['output_type'] = 'display_data';\n",
              "        await google.colab.output.renderOutput(dataTable, element);\n",
              "        const docLink = document.createElement('div');\n",
              "        docLink.innerHTML = docLinkHtml;\n",
              "        element.appendChild(docLink);\n",
              "      }\n",
              "    </script>\n",
              "  </div>\n",
              "\n",
              "\n",
              "<div id=\"df-8c39acdc-b75a-40e4-8e21-64e233bbd7b8\">\n",
              "  <button class=\"colab-df-quickchart\" onclick=\"quickchart('df-8c39acdc-b75a-40e4-8e21-64e233bbd7b8')\"\n",
              "            title=\"Suggest charts\"\n",
              "            style=\"display:none;\">\n",
              "\n",
              "<svg xmlns=\"http://www.w3.org/2000/svg\" height=\"24px\"viewBox=\"0 0 24 24\"\n",
              "     width=\"24px\">\n",
              "    <g>\n",
              "        <path d=\"M19 3H5c-1.1 0-2 .9-2 2v14c0 1.1.9 2 2 2h14c1.1 0 2-.9 2-2V5c0-1.1-.9-2-2-2zM9 17H7v-7h2v7zm4 0h-2V7h2v10zm4 0h-2v-4h2v4z\"/>\n",
              "    </g>\n",
              "</svg>\n",
              "  </button>\n",
              "\n",
              "<style>\n",
              "  .colab-df-quickchart {\n",
              "      --bg-color: #E8F0FE;\n",
              "      --fill-color: #1967D2;\n",
              "      --hover-bg-color: #E2EBFA;\n",
              "      --hover-fill-color: #174EA6;\n",
              "      --disabled-fill-color: #AAA;\n",
              "      --disabled-bg-color: #DDD;\n",
              "  }\n",
              "\n",
              "  [theme=dark] .colab-df-quickchart {\n",
              "      --bg-color: #3B4455;\n",
              "      --fill-color: #D2E3FC;\n",
              "      --hover-bg-color: #434B5C;\n",
              "      --hover-fill-color: #FFFFFF;\n",
              "      --disabled-bg-color: #3B4455;\n",
              "      --disabled-fill-color: #666;\n",
              "  }\n",
              "\n",
              "  .colab-df-quickchart {\n",
              "    background-color: var(--bg-color);\n",
              "    border: none;\n",
              "    border-radius: 50%;\n",
              "    cursor: pointer;\n",
              "    display: none;\n",
              "    fill: var(--fill-color);\n",
              "    height: 32px;\n",
              "    padding: 0;\n",
              "    width: 32px;\n",
              "  }\n",
              "\n",
              "  .colab-df-quickchart:hover {\n",
              "    background-color: var(--hover-bg-color);\n",
              "    box-shadow: 0 1px 2px rgba(60, 64, 67, 0.3), 0 1px 3px 1px rgba(60, 64, 67, 0.15);\n",
              "    fill: var(--button-hover-fill-color);\n",
              "  }\n",
              "\n",
              "  .colab-df-quickchart-complete:disabled,\n",
              "  .colab-df-quickchart-complete:disabled:hover {\n",
              "    background-color: var(--disabled-bg-color);\n",
              "    fill: var(--disabled-fill-color);\n",
              "    box-shadow: none;\n",
              "  }\n",
              "\n",
              "  .colab-df-spinner {\n",
              "    border: 2px solid var(--fill-color);\n",
              "    border-color: transparent;\n",
              "    border-bottom-color: var(--fill-color);\n",
              "    animation:\n",
              "      spin 1s steps(1) infinite;\n",
              "  }\n",
              "\n",
              "  @keyframes spin {\n",
              "    0% {\n",
              "      border-color: transparent;\n",
              "      border-bottom-color: var(--fill-color);\n",
              "      border-left-color: var(--fill-color);\n",
              "    }\n",
              "    20% {\n",
              "      border-color: transparent;\n",
              "      border-left-color: var(--fill-color);\n",
              "      border-top-color: var(--fill-color);\n",
              "    }\n",
              "    30% {\n",
              "      border-color: transparent;\n",
              "      border-left-color: var(--fill-color);\n",
              "      border-top-color: var(--fill-color);\n",
              "      border-right-color: var(--fill-color);\n",
              "    }\n",
              "    40% {\n",
              "      border-color: transparent;\n",
              "      border-right-color: var(--fill-color);\n",
              "      border-top-color: var(--fill-color);\n",
              "    }\n",
              "    60% {\n",
              "      border-color: transparent;\n",
              "      border-right-color: var(--fill-color);\n",
              "    }\n",
              "    80% {\n",
              "      border-color: transparent;\n",
              "      border-right-color: var(--fill-color);\n",
              "      border-bottom-color: var(--fill-color);\n",
              "    }\n",
              "    90% {\n",
              "      border-color: transparent;\n",
              "      border-bottom-color: var(--fill-color);\n",
              "    }\n",
              "  }\n",
              "</style>\n",
              "\n",
              "  <script>\n",
              "    async function quickchart(key) {\n",
              "      const quickchartButtonEl =\n",
              "        document.querySelector('#' + key + ' button');\n",
              "      quickchartButtonEl.disabled = true;  // To prevent multiple clicks.\n",
              "      quickchartButtonEl.classList.add('colab-df-spinner');\n",
              "      try {\n",
              "        const charts = await google.colab.kernel.invokeFunction(\n",
              "            'suggestCharts', [key], {});\n",
              "      } catch (error) {\n",
              "        console.error('Error during call to suggestCharts:', error);\n",
              "      }\n",
              "      quickchartButtonEl.classList.remove('colab-df-spinner');\n",
              "      quickchartButtonEl.classList.add('colab-df-quickchart-complete');\n",
              "    }\n",
              "    (() => {\n",
              "      let quickchartButtonEl =\n",
              "        document.querySelector('#df-8c39acdc-b75a-40e4-8e21-64e233bbd7b8 button');\n",
              "      quickchartButtonEl.style.display =\n",
              "        google.colab.kernel.accessAllowed ? 'block' : 'none';\n",
              "    })();\n",
              "  </script>\n",
              "</div>\n",
              "    </div>\n",
              "  </div>\n"
            ]
          },
          "metadata": {},
          "execution_count": 20
        }
      ]
    },
    {
      "cell_type": "code",
      "source": [
        "# 3.2\n",
        "x = data.drop([\"Class\"], axis=1)\n",
        "y = data[\"Class\"].values\n"
      ],
      "metadata": {
        "id": "trQHUW0gPZ7h"
      },
      "execution_count": 21,
      "outputs": []
    },
    {
      "cell_type": "code",
      "source": [
        "# 3.3 Transform x to numpy and then\n",
        "#     separate normal vs fraud data:\n",
        "\n",
        "x_norm, x_fraud = x.values[y == 0], x.values[y == 1]\n",
        "\n"
      ],
      "metadata": {
        "id": "C021-l3wPfI9"
      },
      "execution_count": 22,
      "outputs": []
    },
    {
      "cell_type": "code",
      "source": [
        "x_norm.shape"
      ],
      "metadata": {
        "id": "EK70uCP3QeT3",
        "outputId": "6ed4f69c-677c-43a1-c361-64cf292434af",
        "colab": {
          "base_uri": "https://localhost:8080/"
        }
      },
      "execution_count": 23,
      "outputs": [
        {
          "output_type": "execute_result",
          "data": {
            "text/plain": [
              "(213230, 30)"
            ]
          },
          "metadata": {},
          "execution_count": 23
        }
      ]
    },
    {
      "cell_type": "code",
      "source": [
        "# 3.4 Sample normal data to size 100000:\n",
        "\n",
        "x_norm_sample = x_norm[np.random.randint(x_norm.shape[0], size=100000), :]\n"
      ],
      "metadata": {
        "id": "HcSk_2G1PmCx"
      },
      "execution_count": 24,
      "outputs": []
    },
    {
      "cell_type": "code",
      "source": [
        "# 3.5 Split sample into train/validation:\n",
        "\n",
        "x_norm_train_sample, x_norm_val_sample = train_test_split(x_norm_sample,\n",
        "                                                          test_size=0.2\n",
        "                                                          )"
      ],
      "metadata": {
        "id": "E4lzrqkqQLss"
      },
      "execution_count": 25,
      "outputs": []
    },
    {
      "cell_type": "code",
      "source": [
        "# 5.2 Calculate accuracy:\n",
        "\n",
        "def rounded_accuracy(y_true, y_pred):\n",
        "    # tf.round(x) rounds the values of x to integer values.\n",
        "    return tf.keras.metrics.binary_accuracy(tf.round(y_true), tf.round(y_pred))"
      ],
      "metadata": {
        "id": "_b60pdmBaGxc"
      },
      "execution_count": 26,
      "outputs": []
    },
    {
      "cell_type": "markdown",
      "source": [
        "Given y, I can take a log of it as: log$_{10}$y. Let us say this log is z. Then,  \n",
        "z = log$_{10}$y  \n",
        "To get y back from z, I have to raise 10 to the power of z, ie:  \n",
        "10$^{z}$  ie y = 10$^{z}$  OR log$_{10}$y = z\n",
        "\n",
        "Therefore, exp(log_var / 2) will give (exp(log σ$^{2}))$$^{0.5}$ or just (σ$^{2}$)$^{0.5}$ or just σ."
      ],
      "metadata": {
        "id": "X0uSioSImDDa"
      }
    },
    {
      "cell_type": "markdown",
      "source": [
        "## Sampling layer"
      ],
      "metadata": {
        "id": "Ny8BK-RZMIGd"
      }
    },
    {
      "cell_type": "markdown",
      "source": [
        "(log_var / 2) is same as (2* log(sigma) / 2 ) or log(sigma)   \n",
        "Therefore, exp(log(sigma)) is sigma\n",
        "\n"
      ],
      "metadata": {
        "id": "Ago04R7YzMiW"
      }
    },
    {
      "cell_type": "code",
      "source": [
        "# 4.0 Sampling layer\n",
        "# tf.random_normal: https://www.tensorflow.org/api_docs/python/tf/random/normal\n",
        "\n",
        "class Sampling(tf.keras.layers.Layer):\n",
        "    def call(self, inputs):\n",
        "        mean, log_var = inputs\n",
        "        out = tf.keras.backend.random_normal(\n",
        "                                              shape = tf.shape(log_var)   # Output random values of given shape\n",
        "                                                                          #  with mean 0 and stdev 1\n",
        "                                             )\n",
        "        out = out * tf.keras.backend.exp(log_var / 2) + mean    # Z * σ + mean\n",
        "        return out"
      ],
      "metadata": {
        "id": "RaceCCT7kDsL"
      },
      "execution_count": 27,
      "outputs": []
    },
    {
      "cell_type": "code",
      "source": [
        "# 4.1 latent space size:\n",
        "codings_size = 2"
      ],
      "metadata": {
        "id": "hiPpPLvH61cD"
      },
      "execution_count": 28,
      "outputs": []
    },
    {
      "cell_type": "markdown",
      "source": [
        "## Encoder"
      ],
      "metadata": {
        "id": "e0u5lZiiMCyK"
      }
    },
    {
      "cell_type": "code",
      "source": [
        "# 4.2 encoder\n",
        "\n",
        "inputs = tf.keras.layers.Input(shape=[x.shape[1]])\n",
        "z = tf.keras.layers.Flatten()(inputs)\n",
        "z = tf.keras.layers.Dense(20,\n",
        "                       activation=\"selu\")(z)\n",
        "\n",
        "z = tf.keras.layers.Dense(10,\n",
        "                       activation=\"selu\")(z)\n",
        "\n",
        "z = tf.keras.layers.Dense(8,\n",
        "                       activation=\"selu\")(z)"
      ],
      "metadata": {
        "id": "l9R90XRl9Red"
      },
      "execution_count": 29,
      "outputs": []
    },
    {
      "cell_type": "code",
      "source": [
        "# 4.2.1 Encoder has two outputs:\n",
        "\n",
        "codings_mean = tf.keras.layers.Dense(codings_size)(z)\n",
        "codings_log_var = tf.keras.layers.Dense(codings_size)(z)"
      ],
      "metadata": {
        "id": "IvdSnJ_C9V5m"
      },
      "execution_count": 30,
      "outputs": []
    },
    {
      "cell_type": "code",
      "source": [
        "# 4.2.2 And also a IIIRd one derived from above two:\n",
        "\n",
        "codings = Sampling()([codings_mean, codings_log_var])"
      ],
      "metadata": {
        "id": "xtlQAJwY9drz"
      },
      "execution_count": 31,
      "outputs": []
    },
    {
      "cell_type": "code",
      "source": [
        "# 4.3 Create encoder. But it outputs three tensors\n",
        "#     'codings_mean', 'codings_log_var', 'codings'\n",
        "#     though in the deocder only 'codings' tensor\n",
        "#     is used.\n",
        "\n",
        "variational_encoder = tf.keras.models.Model(\n",
        "                                          inputs=[inputs],\n",
        "                                          outputs=[codings_mean, codings_log_var, codings]\n",
        "                                          )"
      ],
      "metadata": {
        "id": "NytYTCyY67P3"
      },
      "execution_count": 32,
      "outputs": []
    },
    {
      "cell_type": "code",
      "source": [
        "# 4.4 Plot the encoder model:\n",
        "\n",
        "tf.keras.utils.plot_model(variational_encoder,\n",
        "                          show_shapes=True,\n",
        "                          show_layer_activations=True\n",
        "                          )"
      ],
      "metadata": {
        "colab": {
          "base_uri": "https://localhost:8080/",
          "height": 754
        },
        "id": "vARwZtOB--CV",
        "outputId": "fdaf3f69-78e7-4087-ae60-080037018c3c"
      },
      "execution_count": 33,
      "outputs": [
        {
          "output_type": "execute_result",
          "data": {
            "image/png": "[encoded data removed]",
            "text/plain": [
              "<IPython.core.display.Image object>"
            ]
          },
          "metadata": {},
          "execution_count": 33
        }
      ]
    },
    {
      "cell_type": "markdown",
      "source": [
        "## Decoder model"
      ],
      "metadata": {
        "id": "YfK3V2cbMfcJ"
      }
    },
    {
      "cell_type": "code",
      "source": [
        "# 5.0 For decoder the only input is codings:\n",
        "\n",
        "decoder_inputs = tf.keras.layers.Input(shape=[codings_size])\n",
        "x = tf.keras.layers.Dense(10, activation=\"selu\")(decoder_inputs)\n",
        "x = tf.keras.layers.Dense(20, activation=\"selu\")(x)\n",
        "x = tf.keras.layers.Dense(30, activation=\"selu\")(x)\n",
        "outputs = x\n"
      ],
      "metadata": {
        "id": "qBSzoZ5J-R3i"
      },
      "execution_count": 34,
      "outputs": []
    },
    {
      "cell_type": "code",
      "source": [
        "# 5.1 Our decoder:\n",
        "variational_decoder = tf.keras.models.Model(\n",
        "                                          inputs=[decoder_inputs],\n",
        "                                          outputs=[outputs]\n",
        "                                          )\n"
      ],
      "metadata": {
        "id": "hccaXUBIGPxD"
      },
      "execution_count": 35,
      "outputs": []
    },
    {
      "cell_type": "code",
      "source": [
        "# 5.2 Decoder plot\n",
        "tf.keras.utils.plot_model(variational_decoder,\n",
        "                          show_shapes = True,\n",
        "                          show_layer_activations=True\n",
        "                          )"
      ],
      "metadata": {
        "colab": {
          "base_uri": "https://localhost:8080/",
          "height": 422
        },
        "id": "CSgZgAMU-zZ9",
        "outputId": "5faa1b4d-2492-42e8-8d26-4e4efa54e747"
      },
      "execution_count": 36,
      "outputs": [
        {
          "output_type": "execute_result",
          "data": {
            "image/png": "[encoded data removed]",
            "text/plain": [
              "<IPython.core.display.Image object>"
            ]
          },
          "metadata": {},
          "execution_count": 36
        }
      ]
    },
    {
      "cell_type": "markdown",
      "source": [
        "## Variational encoder"
      ],
      "metadata": {
        "id": "qoEVrd8qNFr6"
      }
    },
    {
      "cell_type": "code",
      "source": [
        "# 6.0 Get decoder output:\n",
        "\n",
        "_, _, codings = variational_encoder(inputs)\n",
        "reconstructions = variational_decoder(codings)\n"
      ],
      "metadata": {
        "id": "klBQ5fwLGvR0"
      },
      "execution_count": 37,
      "outputs": []
    },
    {
      "cell_type": "code",
      "source": [
        "# 6.1\n",
        "variational_ae = tf.keras.models.Model(\n",
        "                                    inputs=[inputs],\n",
        "                                    outputs=[reconstructions]\n",
        "                                    )"
      ],
      "metadata": {
        "id": "4ydHJFtJGxm0"
      },
      "execution_count": 38,
      "outputs": []
    },
    {
      "cell_type": "code",
      "source": [
        "# 6.2\n",
        "tf.keras.utils.plot_model(\n",
        "                          variational_ae,\n",
        "                          show_shapes= True,\n",
        "                          show_layer_activations= True\n",
        "                          )"
      ],
      "metadata": {
        "colab": {
          "base_uri": "https://localhost:8080/",
          "height": 312
        },
        "id": "TNywrU5yHA8O",
        "outputId": "49c32d67-464b-4e33-c8c8-d1a2b68c9710"
      },
      "execution_count": 39,
      "outputs": [
        {
          "output_type": "execute_result",
          "data": {
            "image/png": "[encoded data removed]",
            "text/plain": [
              "<IPython.core.display.Image object>"
            ]
          },
          "metadata": {},
          "execution_count": 39
        }
      ]
    },
    {
      "cell_type": "markdown",
      "source": [
        "## Latent loss"
      ],
      "metadata": {
        "id": "jKFWjoyBNQUy"
      }
    },
    {
      "cell_type": "code",
      "source": [
        "# 7.0 Latent loss is the sum of cross-entropy loss and KL divergence:\n",
        "\n",
        "latent_loss = -0.5 * tf.keras.backend.sum(\n",
        "                           1 + codings_log_var - K.exp(codings_log_var) - K.square(codings_mean),\n",
        "                           axis=-1\n",
        "                           )"
      ],
      "metadata": {
        "id": "GgQ2UXytHUhG"
      },
      "execution_count": 40,
      "outputs": []
    },
    {
      "cell_type": "code",
      "source": [
        "# 7.1 Add latent loss during compile time:\n",
        "variational_ae.add_loss(\n",
        "                         tf.keras.backend.mean(latent_loss) / 30.\n",
        "                        )"
      ],
      "metadata": {
        "id": "tVvfzn4nHp74"
      },
      "execution_count": 41,
      "outputs": []
    },
    {
      "cell_type": "code",
      "source": [
        "# 7.2\n",
        "variational_ae.compile(loss=\"binary_crossentropy\",\n",
        "                       optimizer=\"rmsprop\",\n",
        "                       metrics=[rounded_accuracy]\n",
        "                       )"
      ],
      "metadata": {
        "id": "9BNk90F5Hyiu"
      },
      "execution_count": 42,
      "outputs": []
    },
    {
      "cell_type": "code",
      "source": [
        "# Repeat 7.2.1\n",
        "x = data.drop([\"Class\"], axis=1)\n",
        "y = data[\"Class\"].values\n",
        "\n",
        "x_norm, x_fraud = x.values[y == 0], x.values[y == 1]\n",
        "\n",
        "x_norm_sample = x_norm[np.random.randint(x_norm.shape[0], size=100000), :]\n",
        "x_norm_train_sample, x_norm_val_sample = train_test_split(x_norm_sample, test_size=0.2)"
      ],
      "metadata": {
        "id": "gL_IqhKmxR6k"
      },
      "execution_count": 48,
      "outputs": []
    },
    {
      "cell_type": "code",
      "source": [
        "x_norm_train_sample.shape\n",
        "x_norm_val_sample.shape"
      ],
      "metadata": {
        "colab": {
          "base_uri": "https://localhost:8080/"
        },
        "id": "VNWBGBAmx5kj",
        "outputId": "75f62774-2bda-4468-b50f-be5bb4cf587f"
      },
      "execution_count": 45,
      "outputs": [
        {
          "output_type": "execute_result",
          "data": {
            "text/plain": [
              "(80000, 30)"
            ]
          },
          "metadata": {},
          "execution_count": 45
        },
        {
          "output_type": "execute_result",
          "data": {
            "text/plain": [
              "(20000, 30)"
            ]
          },
          "metadata": {},
          "execution_count": 45
        }
      ]
    },
    {
      "cell_type": "code",
      "source": [
        "checkpointer = tf.keras.callbacks.ModelCheckpoint(\n",
        "                                                  filepath='bestmodel.h5',\n",
        "                                                  verbose=0,\n",
        "                                                  save_best_only=True\n",
        "                                                 )\n",
        "\n",
        "earlystopper = tf.keras.callbacks.EarlyStopping(monitor='val_loss',\n",
        "                                                mode='min',\n",
        "                                                min_delta=0.005,\n",
        "                                                patience=20, verbose=0,\n",
        "                                                restore_best_weights=True\n",
        "                                                )"
      ],
      "metadata": {
        "id": "s1xo_CF73Zc0"
      },
      "execution_count": 46,
      "outputs": []
    },
    {
      "cell_type": "code",
      "execution_count": 49,
      "metadata": {
        "id": "pa_oQ1kmr7iq",
        "colab": {
          "base_uri": "https://localhost:8080/"
        },
        "outputId": "70a6dad4-8743-4f15-b4cd-08a3b3494c1b"
      },
      "outputs": [
        {
          "output_type": "stream",
          "name": "stdout",
          "text": [
            "Epoch 1/100\n",
            "605/625 [============================>.] - ETA: 0s - loss: -3.4130 - rounded_accuracy: 0.5106"
          ]
        },
        {
          "output_type": "stream",
          "name": "stderr",
          "text": [
            "/usr/local/lib/python3.10/dist-packages/keras/src/engine/training.py:3079: UserWarning: You are saving your model as an HDF5 file via `model.save()`. This file format is considered legacy. We recommend using instead the native Keras format, e.g. `model.save('my_model.keras')`.\n",
            "  saving_api.save_model(\n",
            "WARNING:tensorflow:Found duplicated `Variable`s in Model's `weights`. This is usually caused by `Variable`s being shared by Layers in the Model. These `Variable`s will be treated as separate `Variable`s when the Model is restored. To avoid this, please save with `save_format=\"tf\"`.\n"
          ]
        },
        {
          "output_type": "stream",
          "name": "stdout",
          "text": [
            "\b\b\b\b\b\b\b\b\b\b\b\b\b\b\b\b\b\b\b\b\b\b\b\b\b\b\b\b\b\b\b\b\b\b\b\b\b\b\b\b\b\b\b\b\b\b\b\b\b\b\b\b\b\b\b\b\b\b\b\b\b\b\b\b\b\b\b\b\b\b\b\b\b\b\b\b\b\b\b\b\b\b\b\b\b\b\b\b\b\b\b\b\b\r625/625 [==============================] - 4s 5ms/step - loss: -3.5712 - rounded_accuracy: 0.5109 - val_loss: -8.3125 - val_rounded_accuracy: 0.5210\n",
            "Epoch 2/100\n",
            "625/625 [==============================] - ETA: 0s - loss: -8.5335 - rounded_accuracy: 0.5214"
          ]
        },
        {
          "output_type": "stream",
          "name": "stderr",
          "text": [
            "WARNING:tensorflow:Found duplicated `Variable`s in Model's `weights`. This is usually caused by `Variable`s being shared by Layers in the Model. These `Variable`s will be treated as separate `Variable`s when the Model is restored. To avoid this, please save with `save_format=\"tf\"`.\n"
          ]
        },
        {
          "output_type": "stream",
          "name": "stdout",
          "text": [
            "\b\b\b\b\b\b\b\b\b\b\b\b\b\b\b\b\b\b\b\b\b\b\b\b\b\b\b\b\b\b\b\b\b\b\b\b\b\b\b\b\b\b\b\b\b\b\b\b\b\b\b\b\b\b\b\b\b\b\b\b\b\b\b\b\b\b\b\b\b\b\b\b\b\b\b\b\b\b\b\b\b\b\b\b\b\b\b\b\b\b\b\b\b\r625/625 [==============================] - 6s 10ms/step - loss: -8.5335 - rounded_accuracy: 0.5214 - val_loss: -8.6466 - val_rounded_accuracy: 0.5257\n",
            "Epoch 3/100\n",
            "625/625 [==============================] - ETA: 0s - loss: -8.8453 - rounded_accuracy: 0.5247"
          ]
        },
        {
          "output_type": "stream",
          "name": "stderr",
          "text": [
            "WARNING:tensorflow:Found duplicated `Variable`s in Model's `weights`. This is usually caused by `Variable`s being shared by Layers in the Model. These `Variable`s will be treated as separate `Variable`s when the Model is restored. To avoid this, please save with `save_format=\"tf\"`.\n"
          ]
        },
        {
          "output_type": "stream",
          "name": "stdout",
          "text": [
            "\b\b\b\b\b\b\b\b\b\b\b\b\b\b\b\b\b\b\b\b\b\b\b\b\b\b\b\b\b\b\b\b\b\b\b\b\b\b\b\b\b\b\b\b\b\b\b\b\b\b\b\b\b\b\b\b\b\b\b\b\b\b\b\b\b\b\b\b\b\b\b\b\b\b\b\b\b\b\b\b\b\b\b\b\b\b\b\b\b\b\b\b\b\r625/625 [==============================] - 2s 4ms/step - loss: -8.8453 - rounded_accuracy: 0.5247 - val_loss: -9.0716 - val_rounded_accuracy: 0.5287\n",
            "Epoch 4/100\n",
            "622/625 [============================>.] - ETA: 0s - loss: -9.1610 - rounded_accuracy: 0.5272"
          ]
        },
        {
          "output_type": "stream",
          "name": "stderr",
          "text": [
            "WARNING:tensorflow:Found duplicated `Variable`s in Model's `weights`. This is usually caused by `Variable`s being shared by Layers in the Model. These `Variable`s will be treated as separate `Variable`s when the Model is restored. To avoid this, please save with `save_format=\"tf\"`.\n"
          ]
        },
        {
          "output_type": "stream",
          "name": "stdout",
          "text": [
            "\b\b\b\b\b\b\b\b\b\b\b\b\b\b\b\b\b\b\b\b\b\b\b\b\b\b\b\b\b\b\b\b\b\b\b\b\b\b\b\b\b\b\b\b\b\b\b\b\b\b\b\b\b\b\b\b\b\b\b\b\b\b\b\b\b\b\b\b\b\b\b\b\b\b\b\b\b\b\b\b\b\b\b\b\b\b\b\b\b\b\b\b\b\r625/625 [==============================] - 2s 4ms/step - loss: -9.1595 - rounded_accuracy: 0.5272 - val_loss: -9.2751 - val_rounded_accuracy: 0.5298\n",
            "Epoch 5/100\n",
            "619/625 [============================>.] - ETA: 0s - loss: -9.3061 - rounded_accuracy: 0.5286"
          ]
        },
        {
          "output_type": "stream",
          "name": "stderr",
          "text": [
            "WARNING:tensorflow:Found duplicated `Variable`s in Model's `weights`. This is usually caused by `Variable`s being shared by Layers in the Model. These `Variable`s will be treated as separate `Variable`s when the Model is restored. To avoid this, please save with `save_format=\"tf\"`.\n"
          ]
        },
        {
          "output_type": "stream",
          "name": "stdout",
          "text": [
            "\b\b\b\b\b\b\b\b\b\b\b\b\b\b\b\b\b\b\b\b\b\b\b\b\b\b\b\b\b\b\b\b\b\b\b\b\b\b\b\b\b\b\b\b\b\b\b\b\b\b\b\b\b\b\b\b\b\b\b\b\b\b\b\b\b\b\b\b\b\b\b\b\b\b\b\b\b\b\b\b\b\b\b\b\b\b\b\b\b\b\b\b\b\r625/625 [==============================] - 2s 3ms/step - loss: -9.3050 - rounded_accuracy: 0.5286 - val_loss: -9.3864 - val_rounded_accuracy: 0.5310\n",
            "Epoch 6/100\n",
            "625/625 [==============================] - 2s 3ms/step - loss: -9.4400 - rounded_accuracy: 0.5297 - val_loss: -9.3855 - val_rounded_accuracy: 0.5301\n",
            "Epoch 7/100\n",
            "625/625 [==============================] - ETA: 0s - loss: -9.4834 - rounded_accuracy: 0.5297"
          ]
        },
        {
          "output_type": "stream",
          "name": "stderr",
          "text": [
            "WARNING:tensorflow:Found duplicated `Variable`s in Model's `weights`. This is usually caused by `Variable`s being shared by Layers in the Model. These `Variable`s will be treated as separate `Variable`s when the Model is restored. To avoid this, please save with `save_format=\"tf\"`.\n"
          ]
        },
        {
          "output_type": "stream",
          "name": "stdout",
          "text": [
            "\b\b\b\b\b\b\b\b\b\b\b\b\b\b\b\b\b\b\b\b\b\b\b\b\b\b\b\b\b\b\b\b\b\b\b\b\b\b\b\b\b\b\b\b\b\b\b\b\b\b\b\b\b\b\b\b\b\b\b\b\b\b\b\b\b\b\b\b\b\b\b\b\b\b\b\b\b\b\b\b\b\b\b\b\b\b\b\b\b\b\b\b\b\r625/625 [==============================] - 2s 3ms/step - loss: -9.4834 - rounded_accuracy: 0.5297 - val_loss: -9.5598 - val_rounded_accuracy: 0.5314\n",
            "Epoch 8/100\n",
            "625/625 [==============================] - 3s 5ms/step - loss: -9.5667 - rounded_accuracy: 0.5290 - val_loss: -9.4840 - val_rounded_accuracy: 0.5269\n",
            "Epoch 9/100\n",
            "625/625 [==============================] - 3s 4ms/step - loss: -9.6056 - rounded_accuracy: 0.5294 - val_loss: -9.4789 - val_rounded_accuracy: 0.5276\n",
            "Epoch 10/100\n",
            "620/625 [============================>.] - ETA: 0s - loss: -9.6473 - rounded_accuracy: 0.5294"
          ]
        },
        {
          "output_type": "stream",
          "name": "stderr",
          "text": [
            "WARNING:tensorflow:Found duplicated `Variable`s in Model's `weights`. This is usually caused by `Variable`s being shared by Layers in the Model. These `Variable`s will be treated as separate `Variable`s when the Model is restored. To avoid this, please save with `save_format=\"tf\"`.\n"
          ]
        },
        {
          "output_type": "stream",
          "name": "stdout",
          "text": [
            "\b\b\b\b\b\b\b\b\b\b\b\b\b\b\b\b\b\b\b\b\b\b\b\b\b\b\b\b\b\b\b\b\b\b\b\b\b\b\b\b\b\b\b\b\b\b\b\b\b\b\b\b\b\b\b\b\b\b\b\b\b\b\b\b\b\b\b\b\b\b\b\b\b\b\b\b\b\b\b\b\b\b\b\b\b\b\b\b\b\b\b\b\b\r625/625 [==============================] - 2s 4ms/step - loss: -9.6480 - rounded_accuracy: 0.5294 - val_loss: -9.6064 - val_rounded_accuracy: 0.5312\n",
            "Epoch 11/100\n",
            "614/625 [============================>.] - ETA: 0s - loss: -9.6638 - rounded_accuracy: 0.5301"
          ]
        },
        {
          "output_type": "stream",
          "name": "stderr",
          "text": [
            "WARNING:tensorflow:Found duplicated `Variable`s in Model's `weights`. This is usually caused by `Variable`s being shared by Layers in the Model. These `Variable`s will be treated as separate `Variable`s when the Model is restored. To avoid this, please save with `save_format=\"tf\"`.\n"
          ]
        },
        {
          "output_type": "stream",
          "name": "stdout",
          "text": [
            "\b\b\b\b\b\b\b\b\b\b\b\b\b\b\b\b\b\b\b\b\b\b\b\b\b\b\b\b\b\b\b\b\b\b\b\b\b\b\b\b\b\b\b\b\b\b\b\b\b\b\b\b\b\b\b\b\b\b\b\b\b\b\b\b\b\b\b\b\b\b\b\b\b\b\b\b\b\b\b\b\b\b\b\b\b\b\b\b\b\b\b\b\b\r625/625 [==============================] - 2s 3ms/step - loss: -9.6674 - rounded_accuracy: 0.5300 - val_loss: -9.7123 - val_rounded_accuracy: 0.5314\n",
            "Epoch 12/100\n",
            "625/625 [==============================] - 2s 3ms/step - loss: -9.6934 - rounded_accuracy: 0.5294 - val_loss: -9.5482 - val_rounded_accuracy: 0.5285\n",
            "Epoch 13/100\n",
            "618/625 [============================>.] - ETA: 0s - loss: -9.7571 - rounded_accuracy: 0.5312"
          ]
        },
        {
          "output_type": "stream",
          "name": "stderr",
          "text": [
            "WARNING:tensorflow:Found duplicated `Variable`s in Model's `weights`. This is usually caused by `Variable`s being shared by Layers in the Model. These `Variable`s will be treated as separate `Variable`s when the Model is restored. To avoid this, please save with `save_format=\"tf\"`.\n"
          ]
        },
        {
          "output_type": "stream",
          "name": "stdout",
          "text": [
            "\b\b\b\b\b\b\b\b\b\b\b\b\b\b\b\b\b\b\b\b\b\b\b\b\b\b\b\b\b\b\b\b\b\b\b\b\b\b\b\b\b\b\b\b\b\b\b\b\b\b\b\b\b\b\b\b\b\b\b\b\b\b\b\b\b\b\b\b\b\b\b\b\b\b\b\b\b\b\b\b\b\b\b\b\b\b\b\b\b\b\b\b\b\r625/625 [==============================] - 2s 3ms/step - loss: -9.7580 - rounded_accuracy: 0.5312 - val_loss: -9.7494 - val_rounded_accuracy: 0.5315\n",
            "Epoch 14/100\n",
            "620/625 [============================>.] - ETA: 0s - loss: -9.7530 - rounded_accuracy: 0.5310"
          ]
        },
        {
          "output_type": "stream",
          "name": "stderr",
          "text": [
            "WARNING:tensorflow:Found duplicated `Variable`s in Model's `weights`. This is usually caused by `Variable`s being shared by Layers in the Model. These `Variable`s will be treated as separate `Variable`s when the Model is restored. To avoid this, please save with `save_format=\"tf\"`.\n"
          ]
        },
        {
          "output_type": "stream",
          "name": "stdout",
          "text": [
            "\b\b\b\b\b\b\b\b\b\b\b\b\b\b\b\b\b\b\b\b\b\b\b\b\b\b\b\b\b\b\b\b\b\b\b\b\b\b\b\b\b\b\b\b\b\b\b\b\b\b\b\b\b\b\b\b\b\b\b\b\b\b\b\b\b\b\b\b\b\b\b\b\b\b\b\b\b\b\b\b\b\b\b\b\b\b\b\b\b\b\b\b\b\r625/625 [==============================] - 3s 5ms/step - loss: -9.7551 - rounded_accuracy: 0.5310 - val_loss: -9.7779 - val_rounded_accuracy: 0.5338\n",
            "Epoch 15/100\n",
            "620/625 [============================>.] - ETA: 0s - loss: -9.7965 - rounded_accuracy: 0.5311"
          ]
        },
        {
          "output_type": "stream",
          "name": "stderr",
          "text": [
            "WARNING:tensorflow:Found duplicated `Variable`s in Model's `weights`. This is usually caused by `Variable`s being shared by Layers in the Model. These `Variable`s will be treated as separate `Variable`s when the Model is restored. To avoid this, please save with `save_format=\"tf\"`.\n"
          ]
        },
        {
          "output_type": "stream",
          "name": "stdout",
          "text": [
            "\b\b\b\b\b\b\b\b\b\b\b\b\b\b\b\b\b\b\b\b\b\b\b\b\b\b\b\b\b\b\b\b\b\b\b\b\b\b\b\b\b\b\b\b\b\b\b\b\b\b\b\b\b\b\b\b\b\b\b\b\b\b\b\b\b\b\b\b\b\b\b\b\b\b\b\b\b\b\b\b\b\b\b\b\b\b\b\b\b\b\b\b\b\r625/625 [==============================] - 3s 4ms/step - loss: -9.7959 - rounded_accuracy: 0.5311 - val_loss: -9.7912 - val_rounded_accuracy: 0.5331\n",
            "Epoch 16/100\n",
            "625/625 [==============================] - 3s 6ms/step - loss: -9.8245 - rounded_accuracy: 0.5320 - val_loss: -9.6483 - val_rounded_accuracy: 0.5320\n",
            "Epoch 17/100\n",
            "621/625 [============================>.] - ETA: 0s - loss: -9.8391 - rounded_accuracy: 0.5318"
          ]
        },
        {
          "output_type": "stream",
          "name": "stderr",
          "text": [
            "WARNING:tensorflow:Found duplicated `Variable`s in Model's `weights`. This is usually caused by `Variable`s being shared by Layers in the Model. These `Variable`s will be treated as separate `Variable`s when the Model is restored. To avoid this, please save with `save_format=\"tf\"`.\n"
          ]
        },
        {
          "output_type": "stream",
          "name": "stdout",
          "text": [
            "\b\b\b\b\b\b\b\b\b\b\b\b\b\b\b\b\b\b\b\b\b\b\b\b\b\b\b\b\b\b\b\b\b\b\b\b\b\b\b\b\b\b\b\b\b\b\b\b\b\b\b\b\b\b\b\b\b\b\b\b\b\b\b\b\b\b\b\b\b\b\b\b\b\b\b\b\b\b\b\b\b\b\b\b\b\b\b\b\b\b\b\b\b\r625/625 [==============================] - 2s 3ms/step - loss: -9.8395 - rounded_accuracy: 0.5318 - val_loss: -9.8405 - val_rounded_accuracy: 0.5345\n",
            "Epoch 18/100\n",
            "621/625 [============================>.] - ETA: 0s - loss: -9.8463 - rounded_accuracy: 0.5314"
          ]
        },
        {
          "output_type": "stream",
          "name": "stderr",
          "text": [
            "WARNING:tensorflow:Found duplicated `Variable`s in Model's `weights`. This is usually caused by `Variable`s being shared by Layers in the Model. These `Variable`s will be treated as separate `Variable`s when the Model is restored. To avoid this, please save with `save_format=\"tf\"`.\n"
          ]
        },
        {
          "output_type": "stream",
          "name": "stdout",
          "text": [
            "\b\b\b\b\b\b\b\b\b\b\b\b\b\b\b\b\b\b\b\b\b\b\b\b\b\b\b\b\b\b\b\b\b\b\b\b\b\b\b\b\b\b\b\b\b\b\b\b\b\b\b\b\b\b\b\b\b\b\b\b\b\b\b\b\b\b\b\b\b\b\b\b\b\b\b\b\b\b\b\b\b\b\b\b\b\b\b\b\b\b\b\b\b\r625/625 [==============================] - 2s 4ms/step - loss: -9.8481 - rounded_accuracy: 0.5314 - val_loss: -9.8868 - val_rounded_accuracy: 0.5337\n",
            "Epoch 19/100\n",
            "625/625 [==============================] - 3s 5ms/step - loss: -9.8756 - rounded_accuracy: 0.5327 - val_loss: -9.8309 - val_rounded_accuracy: 0.5352\n",
            "Epoch 20/100\n",
            "625/625 [==============================] - 3s 5ms/step - loss: -9.9059 - rounded_accuracy: 0.5327 - val_loss: -9.8796 - val_rounded_accuracy: 0.5348\n",
            "Epoch 21/100\n",
            "625/625 [==============================] - 2s 3ms/step - loss: -9.9329 - rounded_accuracy: 0.5325 - val_loss: -9.8857 - val_rounded_accuracy: 0.5335\n",
            "Epoch 22/100\n",
            "618/625 [============================>.] - ETA: 0s - loss: -9.9240 - rounded_accuracy: 0.5329"
          ]
        },
        {
          "output_type": "stream",
          "name": "stderr",
          "text": [
            "WARNING:tensorflow:Found duplicated `Variable`s in Model's `weights`. This is usually caused by `Variable`s being shared by Layers in the Model. These `Variable`s will be treated as separate `Variable`s when the Model is restored. To avoid this, please save with `save_format=\"tf\"`.\n"
          ]
        },
        {
          "output_type": "stream",
          "name": "stdout",
          "text": [
            "\b\b\b\b\b\b\b\b\b\b\b\b\b\b\b\b\b\b\b\b\b\b\b\b\b\b\b\b\b\b\b\b\b\b\b\b\b\b\b\b\b\b\b\b\b\b\b\b\b\b\b\b\b\b\b\b\b\b\b\b\b\b\b\b\b\b\b\b\b\b\b\b\b\b\b\b\b\b\b\b\b\b\b\b\b\b\b\b\b\b\b\b\b\r625/625 [==============================] - 2s 3ms/step - loss: -9.9268 - rounded_accuracy: 0.5329 - val_loss: -9.9364 - val_rounded_accuracy: 0.5346\n",
            "Epoch 23/100\n",
            "622/625 [============================>.] - ETA: 0s - loss: -9.9672 - rounded_accuracy: 0.5330"
          ]
        },
        {
          "output_type": "stream",
          "name": "stderr",
          "text": [
            "WARNING:tensorflow:Found duplicated `Variable`s in Model's `weights`. This is usually caused by `Variable`s being shared by Layers in the Model. These `Variable`s will be treated as separate `Variable`s when the Model is restored. To avoid this, please save with `save_format=\"tf\"`.\n"
          ]
        },
        {
          "output_type": "stream",
          "name": "stdout",
          "text": [
            "\b\b\b\b\b\b\b\b\b\b\b\b\b\b\b\b\b\b\b\b\b\b\b\b\b\b\b\b\b\b\b\b\b\b\b\b\b\b\b\b\b\b\b\b\b\b\b\b\b\b\b\b\b\b\b\b\b\b\b\b\b\b\b\b\b\b\b\b\b\b\b\b\b\b\b\b\b\b\b\b\b\b\b\b\b\b\b\b\b\b\b\b\b\r625/625 [==============================] - 2s 3ms/step - loss: -9.9683 - rounded_accuracy: 0.5330 - val_loss: -9.9660 - val_rounded_accuracy: 0.5338\n",
            "Epoch 24/100\n",
            "625/625 [==============================] - 2s 3ms/step - loss: -9.9746 - rounded_accuracy: 0.5329 - val_loss: -9.9240 - val_rounded_accuracy: 0.5328\n",
            "Epoch 25/100\n",
            "625/625 [==============================] - 3s 4ms/step - loss: -9.9897 - rounded_accuracy: 0.5327 - val_loss: -9.9424 - val_rounded_accuracy: 0.5339\n",
            "Epoch 26/100\n",
            "625/625 [==============================] - 3s 5ms/step - loss: -10.0157 - rounded_accuracy: 0.5333 - val_loss: -9.9503 - val_rounded_accuracy: 0.5345\n",
            "Epoch 27/100\n",
            "612/625 [============================>.] - ETA: 0s - loss: -10.0066 - rounded_accuracy: 0.5325"
          ]
        },
        {
          "output_type": "stream",
          "name": "stderr",
          "text": [
            "WARNING:tensorflow:Found duplicated `Variable`s in Model's `weights`. This is usually caused by `Variable`s being shared by Layers in the Model. These `Variable`s will be treated as separate `Variable`s when the Model is restored. To avoid this, please save with `save_format=\"tf\"`.\n"
          ]
        },
        {
          "output_type": "stream",
          "name": "stdout",
          "text": [
            "\b\b\b\b\b\b\b\b\b\b\b\b\b\b\b\b\b\b\b\b\b\b\b\b\b\b\b\b\b\b\b\b\b\b\b\b\b\b\b\b\b\b\b\b\b\b\b\b\b\b\b\b\b\b\b\b\b\b\b\b\b\b\b\b\b\b\b\b\b\b\b\b\b\b\b\b\b\b\b\b\b\b\b\b\b\b\b\b\b\b\b\b\b\b\r625/625 [==============================] - 2s 3ms/step - loss: -10.0064 - rounded_accuracy: 0.5325 - val_loss: -9.9986 - val_rounded_accuracy: 0.5335\n",
            "Epoch 28/100\n",
            "625/625 [==============================] - 2s 3ms/step - loss: -10.0175 - rounded_accuracy: 0.5331 - val_loss: -9.8371 - val_rounded_accuracy: 0.5333\n",
            "Epoch 29/100\n",
            "625/625 [==============================] - 2s 3ms/step - loss: -10.0360 - rounded_accuracy: 0.5327 - val_loss: -9.9895 - val_rounded_accuracy: 0.5342\n",
            "Epoch 30/100\n",
            "625/625 [==============================] - 2s 3ms/step - loss: -10.0331 - rounded_accuracy: 0.5330 - val_loss: -9.8575 - val_rounded_accuracy: 0.5327\n",
            "Epoch 31/100\n",
            "620/625 [============================>.] - ETA: 0s - loss: -10.0426 - rounded_accuracy: 0.5327"
          ]
        },
        {
          "output_type": "stream",
          "name": "stderr",
          "text": [
            "WARNING:tensorflow:Found duplicated `Variable`s in Model's `weights`. This is usually caused by `Variable`s being shared by Layers in the Model. These `Variable`s will be treated as separate `Variable`s when the Model is restored. To avoid this, please save with `save_format=\"tf\"`.\n"
          ]
        },
        {
          "output_type": "stream",
          "name": "stdout",
          "text": [
            "\b\b\b\b\b\b\b\b\b\b\b\b\b\b\b\b\b\b\b\b\b\b\b\b\b\b\b\b\b\b\b\b\b\b\b\b\b\b\b\b\b\b\b\b\b\b\b\b\b\b\b\b\b\b\b\b\b\b\b\b\b\b\b\b\b\b\b\b\b\b\b\b\b\b\b\b\b\b\b\b\b\b\b\b\b\b\b\b\b\b\b\b\b\b\r625/625 [==============================] - 3s 4ms/step - loss: -10.0417 - rounded_accuracy: 0.5328 - val_loss: -10.0560 - val_rounded_accuracy: 0.5330\n",
            "Epoch 32/100\n",
            "620/625 [============================>.] - ETA: 0s - loss: -10.0764 - rounded_accuracy: 0.5327"
          ]
        },
        {
          "output_type": "stream",
          "name": "stderr",
          "text": [
            "WARNING:tensorflow:Found duplicated `Variable`s in Model's `weights`. This is usually caused by `Variable`s being shared by Layers in the Model. These `Variable`s will be treated as separate `Variable`s when the Model is restored. To avoid this, please save with `save_format=\"tf\"`.\n"
          ]
        },
        {
          "output_type": "stream",
          "name": "stdout",
          "text": [
            "\b\b\b\b\b\b\b\b\b\b\b\b\b\b\b\b\b\b\b\b\b\b\b\b\b\b\b\b\b\b\b\b\b\b\b\b\b\b\b\b\b\b\b\b\b\b\b\b\b\b\b\b\b\b\b\b\b\b\b\b\b\b\b\b\b\b\b\b\b\b\b\b\b\b\b\b\b\b\b\b\b\b\b\b\b\b\b\b\b\b\b\b\b\b\r625/625 [==============================] - 3s 5ms/step - loss: -10.0776 - rounded_accuracy: 0.5328 - val_loss: -10.1208 - val_rounded_accuracy: 0.5346\n",
            "Epoch 33/100\n",
            "625/625 [==============================] - 2s 3ms/step - loss: -10.0746 - rounded_accuracy: 0.5336 - val_loss: -10.0053 - val_rounded_accuracy: 0.5332\n",
            "Epoch 34/100\n",
            "625/625 [==============================] - 2s 3ms/step - loss: -10.0871 - rounded_accuracy: 0.5333 - val_loss: -10.0957 - val_rounded_accuracy: 0.5347\n",
            "Epoch 35/100\n",
            "608/625 [============================>.] - ETA: 0s - loss: -10.1133 - rounded_accuracy: 0.5324"
          ]
        },
        {
          "output_type": "stream",
          "name": "stderr",
          "text": [
            "WARNING:tensorflow:Found duplicated `Variable`s in Model's `weights`. This is usually caused by `Variable`s being shared by Layers in the Model. These `Variable`s will be treated as separate `Variable`s when the Model is restored. To avoid this, please save with `save_format=\"tf\"`.\n"
          ]
        },
        {
          "output_type": "stream",
          "name": "stdout",
          "text": [
            "\b\b\b\b\b\b\b\b\b\b\b\b\b\b\b\b\b\b\b\b\b\b\b\b\b\b\b\b\b\b\b\b\b\b\b\b\b\b\b\b\b\b\b\b\b\b\b\b\b\b\b\b\b\b\b\b\b\b\b\b\b\b\b\b\b\b\b\b\b\b\b\b\b\b\b\b\b\b\b\b\b\b\b\b\b\b\b\b\b\b\b\b\b\b\r625/625 [==============================] - 2s 3ms/step - loss: -10.1120 - rounded_accuracy: 0.5326 - val_loss: -10.1456 - val_rounded_accuracy: 0.5342\n",
            "Epoch 36/100\n",
            "625/625 [==============================] - 2s 3ms/step - loss: -10.1190 - rounded_accuracy: 0.5327 - val_loss: -10.1122 - val_rounded_accuracy: 0.5344\n",
            "Epoch 37/100\n",
            "625/625 [==============================] - 2s 3ms/step - loss: -10.1250 - rounded_accuracy: 0.5338 - val_loss: -10.0516 - val_rounded_accuracy: 0.5327\n",
            "Epoch 38/100\n",
            "625/625 [==============================] - 3s 5ms/step - loss: -10.0986 - rounded_accuracy: 0.5332 - val_loss: -10.0699 - val_rounded_accuracy: 0.5344\n",
            "Epoch 39/100\n",
            "625/625 [==============================] - 2s 3ms/step - loss: -10.1329 - rounded_accuracy: 0.5339 - val_loss: -10.0863 - val_rounded_accuracy: 0.5344\n",
            "Epoch 40/100\n",
            "625/625 [==============================] - 2s 3ms/step - loss: -10.1403 - rounded_accuracy: 0.5344 - val_loss: -10.1310 - val_rounded_accuracy: 0.5358\n",
            "Epoch 41/100\n",
            "625/625 [==============================] - 2s 3ms/step - loss: -10.1249 - rounded_accuracy: 0.5336 - val_loss: -10.0862 - val_rounded_accuracy: 0.5334\n",
            "Epoch 42/100\n",
            "625/625 [==============================] - 2s 3ms/step - loss: -10.1322 - rounded_accuracy: 0.5339 - val_loss: -10.1113 - val_rounded_accuracy: 0.5364\n",
            "Epoch 43/100\n",
            "610/625 [============================>.] - ETA: 0s - loss: -10.1320 - rounded_accuracy: 0.5348"
          ]
        },
        {
          "output_type": "stream",
          "name": "stderr",
          "text": [
            "WARNING:tensorflow:Found duplicated `Variable`s in Model's `weights`. This is usually caused by `Variable`s being shared by Layers in the Model. These `Variable`s will be treated as separate `Variable`s when the Model is restored. To avoid this, please save with `save_format=\"tf\"`.\n"
          ]
        },
        {
          "output_type": "stream",
          "name": "stdout",
          "text": [
            "\b\b\b\b\b\b\b\b\b\b\b\b\b\b\b\b\b\b\b\b\b\b\b\b\b\b\b\b\b\b\b\b\b\b\b\b\b\b\b\b\b\b\b\b\b\b\b\b\b\b\b\b\b\b\b\b\b\b\b\b\b\b\b\b\b\b\b\b\b\b\b\b\b\b\b\b\b\b\b\b\b\b\b\b\b\b\b\b\b\b\b\b\b\b\r625/625 [==============================] - 2s 4ms/step - loss: -10.1290 - rounded_accuracy: 0.5348 - val_loss: -10.1602 - val_rounded_accuracy: 0.5366\n",
            "Epoch 44/100\n",
            "616/625 [============================>.] - ETA: 0s - loss: -10.1606 - rounded_accuracy: 0.5349"
          ]
        },
        {
          "output_type": "stream",
          "name": "stderr",
          "text": [
            "WARNING:tensorflow:Found duplicated `Variable`s in Model's `weights`. This is usually caused by `Variable`s being shared by Layers in the Model. These `Variable`s will be treated as separate `Variable`s when the Model is restored. To avoid this, please save with `save_format=\"tf\"`.\n"
          ]
        },
        {
          "output_type": "stream",
          "name": "stdout",
          "text": [
            "\b\b\b\b\b\b\b\b\b\b\b\b\b\b\b\b\b\b\b\b\b\b\b\b\b\b\b\b\b\b\b\b\b\b\b\b\b\b\b\b\b\b\b\b\b\b\b\b\b\b\b\b\b\b\b\b\b\b\b\b\b\b\b\b\b\b\b\b\b\b\b\b\b\b\b\b\b\b\b\b\b\b\b\b\b\b\b\b\b\b\b\b\b\b\r625/625 [==============================] - 4s 6ms/step - loss: -10.1629 - rounded_accuracy: 0.5349 - val_loss: -10.1766 - val_rounded_accuracy: 0.5351\n",
            "Epoch 45/100\n",
            "625/625 [==============================] - 2s 3ms/step - loss: -10.1629 - rounded_accuracy: 0.5339 - val_loss: -10.0985 - val_rounded_accuracy: 0.5330\n",
            "Epoch 46/100\n",
            "625/625 [==============================] - 2s 3ms/step - loss: -10.1677 - rounded_accuracy: 0.5348 - val_loss: -10.1486 - val_rounded_accuracy: 0.5352\n",
            "Epoch 47/100\n",
            "625/625 [==============================] - 2s 3ms/step - loss: -10.1877 - rounded_accuracy: 0.5354 - val_loss: -10.1641 - val_rounded_accuracy: 0.5369\n",
            "Epoch 48/100\n",
            "625/625 [==============================] - 2s 3ms/step - loss: -10.1806 - rounded_accuracy: 0.5354 - val_loss: -10.1376 - val_rounded_accuracy: 0.5367\n",
            "Epoch 49/100\n",
            "621/625 [============================>.] - ETA: 0s - loss: -10.1926 - rounded_accuracy: 0.5355"
          ]
        },
        {
          "output_type": "stream",
          "name": "stderr",
          "text": [
            "WARNING:tensorflow:Found duplicated `Variable`s in Model's `weights`. This is usually caused by `Variable`s being shared by Layers in the Model. These `Variable`s will be treated as separate `Variable`s when the Model is restored. To avoid this, please save with `save_format=\"tf\"`.\n"
          ]
        },
        {
          "output_type": "stream",
          "name": "stdout",
          "text": [
            "\b\b\b\b\b\b\b\b\b\b\b\b\b\b\b\b\b\b\b\b\b\b\b\b\b\b\b\b\b\b\b\b\b\b\b\b\b\b\b\b\b\b\b\b\b\b\b\b\b\b\b\b\b\b\b\b\b\b\b\b\b\b\b\b\b\b\b\b\b\b\b\b\b\b\b\b\b\b\b\b\b\b\b\b\b\b\b\b\b\b\b\b\b\b\r625/625 [==============================] - 3s 4ms/step - loss: -10.1906 - rounded_accuracy: 0.5355 - val_loss: -10.2159 - val_rounded_accuracy: 0.5379\n",
            "Epoch 50/100\n",
            "625/625 [==============================] - 3s 5ms/step - loss: -10.2147 - rounded_accuracy: 0.5362 - val_loss: -10.1805 - val_rounded_accuracy: 0.5375\n",
            "Epoch 51/100\n",
            "625/625 [==============================] - 2s 3ms/step - loss: -10.2009 - rounded_accuracy: 0.5354 - val_loss: -10.1288 - val_rounded_accuracy: 0.5385\n",
            "Epoch 52/100\n",
            "613/625 [============================>.] - ETA: 0s - loss: -10.2059 - rounded_accuracy: 0.5369"
          ]
        },
        {
          "output_type": "stream",
          "name": "stderr",
          "text": [
            "WARNING:tensorflow:Found duplicated `Variable`s in Model's `weights`. This is usually caused by `Variable`s being shared by Layers in the Model. These `Variable`s will be treated as separate `Variable`s when the Model is restored. To avoid this, please save with `save_format=\"tf\"`.\n"
          ]
        },
        {
          "output_type": "stream",
          "name": "stdout",
          "text": [
            "\b\b\b\b\b\b\b\b\b\b\b\b\b\b\b\b\b\b\b\b\b\b\b\b\b\b\b\b\b\b\b\b\b\b\b\b\b\b\b\b\b\b\b\b\b\b\b\b\b\b\b\b\b\b\b\b\b\b\b\b\b\b\b\b\b\b\b\b\b\b\b\b\b\b\b\b\b\b\b\b\b\b\b\b\b\b\b\b\b\b\b\b\b\b\r625/625 [==============================] - 2s 3ms/step - loss: -10.2096 - rounded_accuracy: 0.5369 - val_loss: -10.2173 - val_rounded_accuracy: 0.5374\n",
            "Epoch 53/100\n",
            "625/625 [==============================] - 2s 3ms/step - loss: -10.2151 - rounded_accuracy: 0.5368 - val_loss: -10.2089 - val_rounded_accuracy: 0.5382\n",
            "Epoch 54/100\n",
            "624/625 [============================>.] - ETA: 0s - loss: -10.2312 - rounded_accuracy: 0.5377"
          ]
        },
        {
          "output_type": "stream",
          "name": "stderr",
          "text": [
            "WARNING:tensorflow:Found duplicated `Variable`s in Model's `weights`. This is usually caused by `Variable`s being shared by Layers in the Model. These `Variable`s will be treated as separate `Variable`s when the Model is restored. To avoid this, please save with `save_format=\"tf\"`.\n"
          ]
        },
        {
          "output_type": "stream",
          "name": "stdout",
          "text": [
            "\b\b\b\b\b\b\b\b\b\b\b\b\b\b\b\b\b\b\b\b\b\b\b\b\b\b\b\b\b\b\b\b\b\b\b\b\b\b\b\b\b\b\b\b\b\b\b\b\b\b\b\b\b\b\b\b\b\b\b\b\b\b\b\b\b\b\b\b\b\b\b\b\b\b\b\b\b\b\b\b\b\b\b\b\b\b\b\b\b\b\b\b\b\b\r625/625 [==============================] - 2s 3ms/step - loss: -10.2320 - rounded_accuracy: 0.5377 - val_loss: -10.2422 - val_rounded_accuracy: 0.5394\n",
            "Epoch 55/100\n",
            "625/625 [==============================] - 2s 3ms/step - loss: -10.2318 - rounded_accuracy: 0.5375 - val_loss: -10.2154 - val_rounded_accuracy: 0.5384\n",
            "Epoch 56/100\n",
            "625/625 [==============================] - 3s 5ms/step - loss: -10.2136 - rounded_accuracy: 0.5368 - val_loss: -10.2277 - val_rounded_accuracy: 0.5371\n",
            "Epoch 57/100\n",
            "612/625 [============================>.] - ETA: 0s - loss: -10.2608 - rounded_accuracy: 0.5376"
          ]
        },
        {
          "output_type": "stream",
          "name": "stderr",
          "text": [
            "WARNING:tensorflow:Found duplicated `Variable`s in Model's `weights`. This is usually caused by `Variable`s being shared by Layers in the Model. These `Variable`s will be treated as separate `Variable`s when the Model is restored. To avoid this, please save with `save_format=\"tf\"`.\n"
          ]
        },
        {
          "output_type": "stream",
          "name": "stdout",
          "text": [
            "\b\b\b\b\b\b\b\b\b\b\b\b\b\b\b\b\b\b\b\b\b\b\b\b\b\b\b\b\b\b\b\b\b\b\b\b\b\b\b\b\b\b\b\b\b\b\b\b\b\b\b\b\b\b\b\b\b\b\b\b\b\b\b\b\b\b\b\b\b\b\b\b\b\b\b\b\b\b\b\b\b\b\b\b\b\b\b\b\b\b\b\b\b\b\r625/625 [==============================] - 2s 4ms/step - loss: -10.2635 - rounded_accuracy: 0.5376 - val_loss: -10.2852 - val_rounded_accuracy: 0.5389\n",
            "Epoch 58/100\n",
            "615/625 [============================>.] - ETA: 0s - loss: -10.2556 - rounded_accuracy: 0.5378"
          ]
        },
        {
          "output_type": "stream",
          "name": "stderr",
          "text": [
            "WARNING:tensorflow:Found duplicated `Variable`s in Model's `weights`. This is usually caused by `Variable`s being shared by Layers in the Model. These `Variable`s will be treated as separate `Variable`s when the Model is restored. To avoid this, please save with `save_format=\"tf\"`.\n"
          ]
        },
        {
          "output_type": "stream",
          "name": "stdout",
          "text": [
            "\b\b\b\b\b\b\b\b\b\b\b\b\b\b\b\b\b\b\b\b\b\b\b\b\b\b\b\b\b\b\b\b\b\b\b\b\b\b\b\b\b\b\b\b\b\b\b\b\b\b\b\b\b\b\b\b\b\b\b\b\b\b\b\b\b\b\b\b\b\b\b\b\b\b\b\b\b\b\b\b\b\b\b\b\b\b\b\b\b\b\b\b\b\b\r625/625 [==============================] - 4s 6ms/step - loss: -10.2561 - rounded_accuracy: 0.5378 - val_loss: -10.2902 - val_rounded_accuracy: 0.5374\n",
            "Epoch 59/100\n",
            "625/625 [==============================] - 2s 3ms/step - loss: -10.2537 - rounded_accuracy: 0.5371 - val_loss: -10.2292 - val_rounded_accuracy: 0.5378\n",
            "Epoch 60/100\n",
            "625/625 [==============================] - 2s 3ms/step - loss: -10.2666 - rounded_accuracy: 0.5374 - val_loss: -10.2502 - val_rounded_accuracy: 0.5389\n",
            "Epoch 61/100\n",
            "625/625 [==============================] - 3s 5ms/step - loss: -10.2735 - rounded_accuracy: 0.5366 - val_loss: -10.2795 - val_rounded_accuracy: 0.5374\n",
            "Epoch 62/100\n",
            "625/625 [==============================] - 3s 4ms/step - loss: -10.2680 - rounded_accuracy: 0.5381 - val_loss: -10.2222 - val_rounded_accuracy: 0.5403\n",
            "Epoch 63/100\n",
            "625/625 [==============================] - 2s 3ms/step - loss: -10.2767 - rounded_accuracy: 0.5379 - val_loss: -10.2871 - val_rounded_accuracy: 0.5386\n",
            "Epoch 64/100\n",
            "625/625 [==============================] - 2s 3ms/step - loss: -10.2671 - rounded_accuracy: 0.5381 - val_loss: -10.2815 - val_rounded_accuracy: 0.5402\n",
            "Epoch 65/100\n",
            "618/625 [============================>.] - ETA: 0s - loss: -10.2976 - rounded_accuracy: 0.5396"
          ]
        },
        {
          "output_type": "stream",
          "name": "stderr",
          "text": [
            "WARNING:tensorflow:Found duplicated `Variable`s in Model's `weights`. This is usually caused by `Variable`s being shared by Layers in the Model. These `Variable`s will be treated as separate `Variable`s when the Model is restored. To avoid this, please save with `save_format=\"tf\"`.\n"
          ]
        },
        {
          "output_type": "stream",
          "name": "stdout",
          "text": [
            "\b\b\b\b\b\b\b\b\b\b\b\b\b\b\b\b\b\b\b\b\b\b\b\b\b\b\b\b\b\b\b\b\b\b\b\b\b\b\b\b\b\b\b\b\b\b\b\b\b\b\b\b\b\b\b\b\b\b\b\b\b\b\b\b\b\b\b\b\b\b\b\b\b\b\b\b\b\b\b\b\b\b\b\b\b\b\b\b\b\b\b\b\b\b\r625/625 [==============================] - 2s 4ms/step - loss: -10.2978 - rounded_accuracy: 0.5396 - val_loss: -10.3273 - val_rounded_accuracy: 0.5404\n",
            "Epoch 66/100\n",
            "625/625 [==============================] - 2s 4ms/step - loss: -10.3044 - rounded_accuracy: 0.5382 - val_loss: -10.3066 - val_rounded_accuracy: 0.5395\n",
            "Epoch 67/100\n",
            "625/625 [==============================] - 3s 5ms/step - loss: -10.2884 - rounded_accuracy: 0.5381 - val_loss: -10.2703 - val_rounded_accuracy: 0.5393\n",
            "Epoch 68/100\n",
            "625/625 [==============================] - 3s 4ms/step - loss: -10.2772 - rounded_accuracy: 0.5378 - val_loss: -10.2707 - val_rounded_accuracy: 0.5399\n",
            "Epoch 69/100\n",
            "625/625 [==============================] - 2s 3ms/step - loss: -10.3072 - rounded_accuracy: 0.5383 - val_loss: -10.2662 - val_rounded_accuracy: 0.5391\n",
            "Epoch 70/100\n",
            "625/625 [==============================] - 2s 3ms/step - loss: -10.3051 - rounded_accuracy: 0.5381 - val_loss: -10.2936 - val_rounded_accuracy: 0.5396\n",
            "Epoch 71/100\n",
            "618/625 [============================>.] - ETA: 0s - loss: -10.3340 - rounded_accuracy: 0.5390"
          ]
        },
        {
          "output_type": "stream",
          "name": "stderr",
          "text": [
            "WARNING:tensorflow:Found duplicated `Variable`s in Model's `weights`. This is usually caused by `Variable`s being shared by Layers in the Model. These `Variable`s will be treated as separate `Variable`s when the Model is restored. To avoid this, please save with `save_format=\"tf\"`.\n"
          ]
        },
        {
          "output_type": "stream",
          "name": "stdout",
          "text": [
            "\b\b\b\b\b\b\b\b\b\b\b\b\b\b\b\b\b\b\b\b\b\b\b\b\b\b\b\b\b\b\b\b\b\b\b\b\b\b\b\b\b\b\b\b\b\b\b\b\b\b\b\b\b\b\b\b\b\b\b\b\b\b\b\b\b\b\b\b\b\b\b\b\b\b\b\b\b\b\b\b\b\b\b\b\b\b\b\b\b\b\b\b\b\b\r625/625 [==============================] - 2s 3ms/step - loss: -10.3357 - rounded_accuracy: 0.5390 - val_loss: -10.3373 - val_rounded_accuracy: 0.5409\n",
            "Epoch 72/100\n",
            "625/625 [==============================] - 2s 3ms/step - loss: -10.3398 - rounded_accuracy: 0.5389 - val_loss: -10.3239 - val_rounded_accuracy: 0.5393\n",
            "Epoch 73/100\n",
            "625/625 [==============================] - 3s 5ms/step - loss: -10.3332 - rounded_accuracy: 0.5403 - val_loss: -10.3193 - val_rounded_accuracy: 0.5406\n",
            "Epoch 74/100\n",
            "625/625 [==============================] - 3s 4ms/step - loss: -10.3407 - rounded_accuracy: 0.5399 - val_loss: -10.3323 - val_rounded_accuracy: 0.5424\n",
            "Epoch 75/100\n",
            "625/625 [==============================] - 2s 3ms/step - loss: -10.3363 - rounded_accuracy: 0.5398 - val_loss: -10.2286 - val_rounded_accuracy: 0.5396\n",
            "Epoch 76/100\n",
            "616/625 [============================>.] - ETA: 0s - loss: -10.3424 - rounded_accuracy: 0.5403"
          ]
        },
        {
          "output_type": "stream",
          "name": "stderr",
          "text": [
            "WARNING:tensorflow:Found duplicated `Variable`s in Model's `weights`. This is usually caused by `Variable`s being shared by Layers in the Model. These `Variable`s will be treated as separate `Variable`s when the Model is restored. To avoid this, please save with `save_format=\"tf\"`.\n"
          ]
        },
        {
          "output_type": "stream",
          "name": "stdout",
          "text": [
            "\b\b\b\b\b\b\b\b\b\b\b\b\b\b\b\b\b\b\b\b\b\b\b\b\b\b\b\b\b\b\b\b\b\b\b\b\b\b\b\b\b\b\b\b\b\b\b\b\b\b\b\b\b\b\b\b\b\b\b\b\b\b\b\b\b\b\b\b\b\b\b\b\b\b\b\b\b\b\b\b\b\b\b\b\b\b\b\b\b\b\b\b\b\b\r625/625 [==============================] - 2s 3ms/step - loss: -10.3425 - rounded_accuracy: 0.5403 - val_loss: -10.3553 - val_rounded_accuracy: 0.5411\n",
            "Epoch 77/100\n",
            "625/625 [==============================] - 2s 3ms/step - loss: -10.3226 - rounded_accuracy: 0.5397 - val_loss: -10.3265 - val_rounded_accuracy: 0.5417\n",
            "Epoch 78/100\n",
            "616/625 [============================>.] - ETA: 0s - loss: -10.3535 - rounded_accuracy: 0.5397"
          ]
        },
        {
          "output_type": "stream",
          "name": "stderr",
          "text": [
            "WARNING:tensorflow:Found duplicated `Variable`s in Model's `weights`. This is usually caused by `Variable`s being shared by Layers in the Model. These `Variable`s will be treated as separate `Variable`s when the Model is restored. To avoid this, please save with `save_format=\"tf\"`.\n"
          ]
        },
        {
          "output_type": "stream",
          "name": "stdout",
          "text": [
            "\b\b\b\b\b\b\b\b\b\b\b\b\b\b\b\b\b\b\b\b\b\b\b\b\b\b\b\b\b\b\b\b\b\b\b\b\b\b\b\b\b\b\b\b\b\b\b\b\b\b\b\b\b\b\b\b\b\b\b\b\b\b\b\b\b\b\b\b\b\b\b\b\b\b\b\b\b\b\b\b\b\b\b\b\b\b\b\b\b\b\b\b\b\b\r625/625 [==============================] - 2s 4ms/step - loss: -10.3498 - rounded_accuracy: 0.5397 - val_loss: -10.3708 - val_rounded_accuracy: 0.5404\n",
            "Epoch 79/100\n",
            "615/625 [============================>.] - ETA: 0s - loss: -10.3480 - rounded_accuracy: 0.5399"
          ]
        },
        {
          "output_type": "stream",
          "name": "stderr",
          "text": [
            "WARNING:tensorflow:Found duplicated `Variable`s in Model's `weights`. This is usually caused by `Variable`s being shared by Layers in the Model. These `Variable`s will be treated as separate `Variable`s when the Model is restored. To avoid this, please save with `save_format=\"tf\"`.\n"
          ]
        },
        {
          "output_type": "stream",
          "name": "stdout",
          "text": [
            "\b\b\b\b\b\b\b\b\b\b\b\b\b\b\b\b\b\b\b\b\b\b\b\b\b\b\b\b\b\b\b\b\b\b\b\b\b\b\b\b\b\b\b\b\b\b\b\b\b\b\b\b\b\b\b\b\b\b\b\b\b\b\b\b\b\b\b\b\b\b\b\b\b\b\b\b\b\b\b\b\b\b\b\b\b\b\b\b\b\b\b\b\b\b\r625/625 [==============================] - 3s 4ms/step - loss: -10.3500 - rounded_accuracy: 0.5398 - val_loss: -10.3910 - val_rounded_accuracy: 0.5410\n",
            "Epoch 80/100\n",
            "625/625 [==============================] - 3s 5ms/step - loss: -10.3625 - rounded_accuracy: 0.5398 - val_loss: -10.3492 - val_rounded_accuracy: 0.5415\n",
            "Epoch 81/100\n",
            "625/625 [==============================] - 3s 6ms/step - loss: -10.3697 - rounded_accuracy: 0.5403 - val_loss: -10.3769 - val_rounded_accuracy: 0.5411\n",
            "Epoch 82/100\n",
            "625/625 [==============================] - 2s 4ms/step - loss: -10.3743 - rounded_accuracy: 0.5402 - val_loss: -10.3601 - val_rounded_accuracy: 0.5401\n",
            "Epoch 83/100\n",
            "625/625 [==============================] - 3s 4ms/step - loss: -10.3533 - rounded_accuracy: 0.5404 - val_loss: -10.3288 - val_rounded_accuracy: 0.5406\n",
            "Epoch 84/100\n",
            "625/625 [==============================] - 5s 9ms/step - loss: -10.3664 - rounded_accuracy: 0.5410 - val_loss: -10.3659 - val_rounded_accuracy: 0.5428\n",
            "Epoch 85/100\n",
            "625/625 [==============================] - 4s 6ms/step - loss: -10.3692 - rounded_accuracy: 0.5405 - val_loss: -10.3650 - val_rounded_accuracy: 0.5423\n",
            "Epoch 86/100\n",
            "625/625 [==============================] - 2s 4ms/step - loss: -10.3841 - rounded_accuracy: 0.5405 - val_loss: -10.3442 - val_rounded_accuracy: 0.5412\n",
            "Epoch 87/100\n",
            "625/625 [==============================] - 2s 3ms/step - loss: -10.3669 - rounded_accuracy: 0.5403 - val_loss: -10.3626 - val_rounded_accuracy: 0.5413\n",
            "Epoch 88/100\n",
            "625/625 [==============================] - 2s 3ms/step - loss: -10.3794 - rounded_accuracy: 0.5398 - val_loss: -10.3424 - val_rounded_accuracy: 0.5410\n",
            "Epoch 89/100\n",
            "623/625 [============================>.] - ETA: 0s - loss: -10.3936 - rounded_accuracy: 0.5407"
          ]
        },
        {
          "output_type": "stream",
          "name": "stderr",
          "text": [
            "WARNING:tensorflow:Found duplicated `Variable`s in Model's `weights`. This is usually caused by `Variable`s being shared by Layers in the Model. These `Variable`s will be treated as separate `Variable`s when the Model is restored. To avoid this, please save with `save_format=\"tf\"`.\n"
          ]
        },
        {
          "output_type": "stream",
          "name": "stdout",
          "text": [
            "\b\b\b\b\b\b\b\b\b\b\b\b\b\b\b\b\b\b\b\b\b\b\b\b\b\b\b\b\b\b\b\b\b\b\b\b\b\b\b\b\b\b\b\b\b\b\b\b\b\b\b\b\b\b\b\b\b\b\b\b\b\b\b\b\b\b\b\b\b\b\b\b\b\b\b\b\b\b\b\b\b\b\b\b\b\b\b\b\b\b\b\b\b\b\r625/625 [==============================] - 4s 6ms/step - loss: -10.3931 - rounded_accuracy: 0.5407 - val_loss: -10.3953 - val_rounded_accuracy: 0.5422\n",
            "Epoch 90/100\n",
            "625/625 [==============================] - 2s 4ms/step - loss: -10.3843 - rounded_accuracy: 0.5406 - val_loss: -10.3938 - val_rounded_accuracy: 0.5430\n",
            "Epoch 91/100\n",
            "625/625 [==============================] - 2s 3ms/step - loss: -10.3614 - rounded_accuracy: 0.5407 - val_loss: -10.3624 - val_rounded_accuracy: 0.5418\n",
            "Epoch 92/100\n",
            "625/625 [==============================] - 2s 4ms/step - loss: -10.3884 - rounded_accuracy: 0.5408 - val_loss: -10.3845 - val_rounded_accuracy: 0.5421\n",
            "Epoch 93/100\n",
            "614/625 [============================>.] - ETA: 0s - loss: -10.3764 - rounded_accuracy: 0.5400"
          ]
        },
        {
          "output_type": "stream",
          "name": "stderr",
          "text": [
            "WARNING:tensorflow:Found duplicated `Variable`s in Model's `weights`. This is usually caused by `Variable`s being shared by Layers in the Model. These `Variable`s will be treated as separate `Variable`s when the Model is restored. To avoid this, please save with `save_format=\"tf\"`.\n"
          ]
        },
        {
          "output_type": "stream",
          "name": "stdout",
          "text": [
            "\b\b\b\b\b\b\b\b\b\b\b\b\b\b\b\b\b\b\b\b\b\b\b\b\b\b\b\b\b\b\b\b\b\b\b\b\b\b\b\b\b\b\b\b\b\b\b\b\b\b\b\b\b\b\b\b\b\b\b\b\b\b\b\b\b\b\b\b\b\b\b\b\b\b\b\b\b\b\b\b\b\b\b\b\b\b\b\b\b\b\b\b\b\b\r625/625 [==============================] - 2s 3ms/step - loss: -10.3758 - rounded_accuracy: 0.5400 - val_loss: -10.4041 - val_rounded_accuracy: 0.5423\n",
            "Epoch 94/100\n",
            "608/625 [============================>.] - ETA: 0s - loss: -10.3890 - rounded_accuracy: 0.5403"
          ]
        },
        {
          "output_type": "stream",
          "name": "stderr",
          "text": [
            "WARNING:tensorflow:Found duplicated `Variable`s in Model's `weights`. This is usually caused by `Variable`s being shared by Layers in the Model. These `Variable`s will be treated as separate `Variable`s when the Model is restored. To avoid this, please save with `save_format=\"tf\"`.\n"
          ]
        },
        {
          "output_type": "stream",
          "name": "stdout",
          "text": [
            "\b\b\b\b\b\b\b\b\b\b\b\b\b\b\b\b\b\b\b\b\b\b\b\b\b\b\b\b\b\b\b\b\b\b\b\b\b\b\b\b\b\b\b\b\b\b\b\b\b\b\b\b\b\b\b\b\b\b\b\b\b\b\b\b\b\b\b\b\b\b\b\b\b\b\b\b\b\b\b\b\b\b\b\b\b\b\b\b\b\b\b\b\b\b\r625/625 [==============================] - 2s 3ms/step - loss: -10.3908 - rounded_accuracy: 0.5403 - val_loss: -10.4054 - val_rounded_accuracy: 0.5424\n",
            "Epoch 95/100\n",
            "625/625 [==============================] - 4s 6ms/step - loss: -10.3797 - rounded_accuracy: 0.5406 - val_loss: -10.3404 - val_rounded_accuracy: 0.5413\n",
            "Epoch 96/100\n",
            "611/625 [============================>.] - ETA: 0s - loss: -10.4022 - rounded_accuracy: 0.5418"
          ]
        },
        {
          "output_type": "stream",
          "name": "stderr",
          "text": [
            "WARNING:tensorflow:Found duplicated `Variable`s in Model's `weights`. This is usually caused by `Variable`s being shared by Layers in the Model. These `Variable`s will be treated as separate `Variable`s when the Model is restored. To avoid this, please save with `save_format=\"tf\"`.\n"
          ]
        },
        {
          "output_type": "stream",
          "name": "stdout",
          "text": [
            "\b\b\b\b\b\b\b\b\b\b\b\b\b\b\b\b\b\b\b\b\b\b\b\b\b\b\b\b\b\b\b\b\b\b\b\b\b\b\b\b\b\b\b\b\b\b\b\b\b\b\b\b\b\b\b\b\b\b\b\b\b\b\b\b\b\b\b\b\b\b\b\b\b\b\b\b\b\b\b\b\b\b\b\b\b\b\b\b\b\b\b\b\b\b\r625/625 [==============================] - 2s 3ms/step - loss: -10.4032 - rounded_accuracy: 0.5416 - val_loss: -10.4304 - val_rounded_accuracy: 0.5433\n",
            "Epoch 97/100\n",
            "625/625 [==============================] - 2s 3ms/step - loss: -10.4061 - rounded_accuracy: 0.5413 - val_loss: -10.3949 - val_rounded_accuracy: 0.5430\n",
            "Epoch 98/100\n",
            "625/625 [==============================] - 2s 3ms/step - loss: -10.4242 - rounded_accuracy: 0.5417 - val_loss: -10.4082 - val_rounded_accuracy: 0.5419\n",
            "Epoch 99/100\n",
            "625/625 [==============================] - 2s 3ms/step - loss: -10.4100 - rounded_accuracy: 0.5411 - val_loss: -10.4170 - val_rounded_accuracy: 0.5438\n",
            "Epoch 100/100\n",
            "625/625 [==============================] - 2s 3ms/step - loss: -10.4241 - rounded_accuracy: 0.5415 - val_loss: -10.4187 - val_rounded_accuracy: 0.5425\n",
            "4.389206703503927\n"
          ]
        }
      ],
      "source": [
        "start = time.time()\n",
        "history = variational_ae.fit(x_norm_train_sample,\n",
        "                             x_norm_train_sample,\n",
        "                             epochs= 100, #  1000,\n",
        "                             batch_size=128,\n",
        "                             callbacks=[checkpointer, earlystopper],\n",
        "                             validation_data=(x_norm_val_sample, x_norm_val_sample)\n",
        "                             )\n",
        "\n",
        "end = time.time()\n",
        "print((end-start)/60)"
      ]
    },
    {
      "cell_type": "code",
      "source": [
        "# Results after 100\n",
        "# See para 3.2 for x and y\n",
        "# 3.2\n",
        "\"\"\"\n",
        "x = data.drop([\"Class\"], axis=1)\n",
        "y = data[\"Class\"].values\n",
        "\"\"\"\n",
        "\n",
        "latent_x_mean = variational_encoder(x.values)[0].numpy()\n",
        "plt.scatter(latent_x_mean[:, 0], latent_x_mean[:, 1], c=y, cmap='RdYlGn_r', s=2)\n",
        "plt.title('latent means')\n",
        "plt.ylabel('mean[1]')\n",
        "plt.xlabel('mean[0]')\n",
        "plt.show()"
      ],
      "metadata": {
        "colab": {
          "base_uri": "https://localhost:8080/",
          "height": 489
        },
        "id": "idrChMh3yjIz",
        "outputId": "9c7213fb-139b-4301-cb9e-4db2d1c16ab9"
      },
      "execution_count": 56,
      "outputs": [
        {
          "output_type": "execute_result",
          "data": {
            "text/plain": [
              "<matplotlib.collections.PathCollection at 0x7dd30604e980>"
            ]
          },
          "metadata": {},
          "execution_count": 56
        },
        {
          "output_type": "execute_result",
          "data": {
            "text/plain": [
              "Text(0.5, 1.0, 'latent means')"
            ]
          },
          "metadata": {},
          "execution_count": 56
        },
        {
          "output_type": "execute_result",
          "data": {
            "text/plain": [
              "Text(0, 0.5, 'mean[1]')"
            ]
          },
          "metadata": {},
          "execution_count": 56
        },
        {
          "output_type": "execute_result",
          "data": {
            "text/plain": [
              "Text(0.5, 0, 'mean[0]')"
            ]
          },
          "metadata": {},
          "execution_count": 56
        },
        {
          "output_type": "display_data",
          "data": {
            "text/plain": [
              "<Figure size 640x480 with 1 Axes>"
            ],
            "image/png": "[encoded data removed]"
          },
          "metadata": {}
        }
      ]
    },
    {
      "cell_type": "code",
      "source": [
        "################"
      ],
      "metadata": {
        "id": "Y5QaVnwZ-vma"
      },
      "execution_count": null,
      "outputs": []
    }
  ]
}