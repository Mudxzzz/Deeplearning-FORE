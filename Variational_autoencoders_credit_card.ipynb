{
  "nbformat": 4,
  "nbformat_minor": 0,
  "metadata": {
    "colab": {
      "provenance": [],
      "authorship_tag": "ABX9TyPW2c8gTwdCzT1ozSJf11kJ",
      "include_colab_link": true
    },
    "kernelspec": {
      "name": "python3",
      "display_name": "Python 3"
    },
    "language_info": {
      "name": "python"
    }
  },
  "cells": [
    {
      "cell_type": "markdown",
      "metadata": {
        "id": "view-in-github",
        "colab_type": "text"
      },
      "source": [
        "<a href=\"https://colab.research.google.com/github/harnalashok/deeplearning/blob/main/Variational_autoencoders_credit_card.ipynb\" target=\"_parent\"><img src=\"https://colab.research.google.com/assets/colab-badge.svg\" alt=\"Open In Colab\"/></a>"
      ]
    },
    {
      "cell_type": "code",
      "execution_count": null,
      "metadata": {
        "id": "lobgAaBwgT_K"
      },
      "outputs": [],
      "source": [
        "# Last amended: 26th October, 2023\n",
        "#               VijayDashmi"
      ]
    },
    {
      "cell_type": "markdown",
      "metadata": {
        "id": "OV-WK5M3r7iq"
      },
      "source": [
        "# Variational Autoencoder"
      ]
    },
    {
      "cell_type": "code",
      "source": [
        "# 0.0\n",
        "%reset -f"
      ],
      "metadata": {
        "id": "1uxK7Xb5gvym"
      },
      "execution_count": null,
      "outputs": []
    },
    {
      "cell_type": "code",
      "source": [
        "# 1.0 Python ≥3.5 is required\n",
        "\n",
        "from sklearn.preprocessing import StandardScaler\n",
        "from sklearn.model_selection import train_test_split\n",
        "from sklearn.metrics import classification_report, accuracy_score, roc_auc_score, roc_curve\n",
        "from sklearn.preprocessing import MinMaxScaler\n",
        "\n",
        "\n",
        "# 1.0.2 TensorFlow ≥2.0 is required\n",
        "import tensorflow as tf\n",
        "import tensorflow.keras.backend as K\n",
        "from tensorflow.keras.callbacks import EarlyStopping, ModelCheckpoint\n",
        "\n",
        "# 1.0.3 Common imports\n",
        "import numpy as np\n",
        "import pandas as pd\n",
        "import os,time\n",
        "\n",
        "\n",
        "# 1.0.4 To plot pretty figures\n",
        "import matplotlib.pyplot as plt"
      ],
      "metadata": {
        "id": "XpP5NaGMrqLk"
      },
      "execution_count": 1,
      "outputs": []
    },
    {
      "cell_type": "code",
      "source": [
        "# 1.0.5\n",
        "from IPython.core.interactiveshell import InteractiveShell\n",
        "InteractiveShell.ast_node_interactivity = \"all\"\n"
      ],
      "metadata": {
        "id": "psT8qF7ymhPJ"
      },
      "execution_count": 2,
      "outputs": []
    },
    {
      "cell_type": "code",
      "source": [
        "# 2.0\n",
        "from google.colab import drive\n",
        "drive.mount('/gdrive')"
      ],
      "metadata": {
        "colab": {
          "base_uri": "https://localhost:8080/"
        },
        "id": "oV6StzrTfZnh",
        "outputId": "798549bf-52cf-45bb-ca41-0e31ad0718f4"
      },
      "execution_count": 3,
      "outputs": [
        {
          "output_type": "stream",
          "name": "stdout",
          "text": [
            "Mounted at /gdrive\n"
          ]
        }
      ]
    },
    {
      "cell_type": "code",
      "source": [
        "# 2.1\n",
        "pathToFolder= \"/gdrive/MyDrive/Colab_data_files/creditcard/\"\n",
        "file = \"creditcardfraud.zip\""
      ],
      "metadata": {
        "id": "Wyeu4jyVgBSw"
      },
      "execution_count": 4,
      "outputs": []
    },
    {
      "cell_type": "code",
      "source": [
        "# 2.2 Read file:\n",
        "raw_data = pd.read_csv(pathToFolder + file)\n",
        "raw_data.shape  # (284807, 31)"
      ],
      "metadata": {
        "colab": {
          "base_uri": "https://localhost:8080/"
        },
        "id": "5dSXJbKKgLAR",
        "outputId": "02ce6222-c091-41c8-af4c-e3ca3fba2d78"
      },
      "execution_count": 5,
      "outputs": [
        {
          "output_type": "execute_result",
          "data": {
            "text/plain": [
              "(284807, 31)"
            ]
          },
          "metadata": {},
          "execution_count": 5
        }
      ]
    },
    {
      "cell_type": "code",
      "source": [
        "# 2.3\n",
        "raw_data.head()"
      ],
      "metadata": {
        "colab": {
          "base_uri": "https://localhost:8080/",
          "height": 235
        },
        "id": "V-8HAtWBiMUr",
        "outputId": "e8867e3f-ae68-4dd8-a5a5-4a26fa696f5f"
      },
      "execution_count": 6,
      "outputs": [
        {
          "output_type": "execute_result",
          "data": {
            "text/plain": [
              "   Time        V1        V2        V3        V4        V5        V6        V7  \\\n",
              "0   0.0 -1.359807 -0.072781  2.536347  1.378155 -0.338321  0.462388  0.239599   \n",
              "1   0.0  1.191857  0.266151  0.166480  0.448154  0.060018 -0.082361 -0.078803   \n",
              "2   1.0 -1.358354 -1.340163  1.773209  0.379780 -0.503198  1.800499  0.791461   \n",
              "3   1.0 -0.966272 -0.185226  1.792993 -0.863291 -0.010309  1.247203  0.237609   \n",
              "4   2.0 -1.158233  0.877737  1.548718  0.403034 -0.407193  0.095921  0.592941   \n",
              "\n",
              "         V8        V9  ...       V21       V22       V23       V24       V25  \\\n",
              "0  0.098698  0.363787  ... -0.018307  0.277838 -0.110474  0.066928  0.128539   \n",
              "1  0.085102 -0.255425  ... -0.225775 -0.638672  0.101288 -0.339846  0.167170   \n",
              "2  0.247676 -1.514654  ...  0.247998  0.771679  0.909412 -0.689281 -0.327642   \n",
              "3  0.377436 -1.387024  ... -0.108300  0.005274 -0.190321 -1.175575  0.647376   \n",
              "4 -0.270533  0.817739  ... -0.009431  0.798278 -0.137458  0.141267 -0.206010   \n",
              "\n",
              "        V26       V27       V28  Amount  Class  \n",
              "0 -0.189115  0.133558 -0.021053  149.62      0  \n",
              "1  0.125895 -0.008983  0.014724    2.69      0  \n",
              "2 -0.139097 -0.055353 -0.059752  378.66      0  \n",
              "3 -0.221929  0.062723  0.061458  123.50      0  \n",
              "4  0.502292  0.219422  0.215153   69.99      0  \n",
              "\n",
              "[5 rows x 31 columns]"
            ],
            "text/html": [
              "\n",
              "  <div id=\"df-e8596fee-f0d0-4d90-a297-7881708a967f\" class=\"colab-df-container\">\n",
              "    <div>\n",
              "<style scoped>\n",
              "    .dataframe tbody tr th:only-of-type {\n",
              "        vertical-align: middle;\n",
              "    }\n",
              "\n",
              "    .dataframe tbody tr th {\n",
              "        vertical-align: top;\n",
              "    }\n",
              "\n",
              "    .dataframe thead th {\n",
              "        text-align: right;\n",
              "    }\n",
              "</style>\n",
              "<table border=\"1\" class=\"dataframe\">\n",
              "  <thead>\n",
              "    <tr style=\"text-align: right;\">\n",
              "      <th></th>\n",
              "      <th>Time</th>\n",
              "      <th>V1</th>\n",
              "      <th>V2</th>\n",
              "      <th>V3</th>\n",
              "      <th>V4</th>\n",
              "      <th>V5</th>\n",
              "      <th>V6</th>\n",
              "      <th>V7</th>\n",
              "      <th>V8</th>\n",
              "      <th>V9</th>\n",
              "      <th>...</th>\n",
              "      <th>V21</th>\n",
              "      <th>V22</th>\n",
              "      <th>V23</th>\n",
              "      <th>V24</th>\n",
              "      <th>V25</th>\n",
              "      <th>V26</th>\n",
              "      <th>V27</th>\n",
              "      <th>V28</th>\n",
              "      <th>Amount</th>\n",
              "      <th>Class</th>\n",
              "    </tr>\n",
              "  </thead>\n",
              "  <tbody>\n",
              "    <tr>\n",
              "      <th>0</th>\n",
              "      <td>0.0</td>\n",
              "      <td>-1.359807</td>\n",
              "      <td>-0.072781</td>\n",
              "      <td>2.536347</td>\n",
              "      <td>1.378155</td>\n",
              "      <td>-0.338321</td>\n",
              "      <td>0.462388</td>\n",
              "      <td>0.239599</td>\n",
              "      <td>0.098698</td>\n",
              "      <td>0.363787</td>\n",
              "      <td>...</td>\n",
              "      <td>-0.018307</td>\n",
              "      <td>0.277838</td>\n",
              "      <td>-0.110474</td>\n",
              "      <td>0.066928</td>\n",
              "      <td>0.128539</td>\n",
              "      <td>-0.189115</td>\n",
              "      <td>0.133558</td>\n",
              "      <td>-0.021053</td>\n",
              "      <td>149.62</td>\n",
              "      <td>0</td>\n",
              "    </tr>\n",
              "    <tr>\n",
              "      <th>1</th>\n",
              "      <td>0.0</td>\n",
              "      <td>1.191857</td>\n",
              "      <td>0.266151</td>\n",
              "      <td>0.166480</td>\n",
              "      <td>0.448154</td>\n",
              "      <td>0.060018</td>\n",
              "      <td>-0.082361</td>\n",
              "      <td>-0.078803</td>\n",
              "      <td>0.085102</td>\n",
              "      <td>-0.255425</td>\n",
              "      <td>...</td>\n",
              "      <td>-0.225775</td>\n",
              "      <td>-0.638672</td>\n",
              "      <td>0.101288</td>\n",
              "      <td>-0.339846</td>\n",
              "      <td>0.167170</td>\n",
              "      <td>0.125895</td>\n",
              "      <td>-0.008983</td>\n",
              "      <td>0.014724</td>\n",
              "      <td>2.69</td>\n",
              "      <td>0</td>\n",
              "    </tr>\n",
              "    <tr>\n",
              "      <th>2</th>\n",
              "      <td>1.0</td>\n",
              "      <td>-1.358354</td>\n",
              "      <td>-1.340163</td>\n",
              "      <td>1.773209</td>\n",
              "      <td>0.379780</td>\n",
              "      <td>-0.503198</td>\n",
              "      <td>1.800499</td>\n",
              "      <td>0.791461</td>\n",
              "      <td>0.247676</td>\n",
              "      <td>-1.514654</td>\n",
              "      <td>...</td>\n",
              "      <td>0.247998</td>\n",
              "      <td>0.771679</td>\n",
              "      <td>0.909412</td>\n",
              "      <td>-0.689281</td>\n",
              "      <td>-0.327642</td>\n",
              "      <td>-0.139097</td>\n",
              "      <td>-0.055353</td>\n",
              "      <td>-0.059752</td>\n",
              "      <td>378.66</td>\n",
              "      <td>0</td>\n",
              "    </tr>\n",
              "    <tr>\n",
              "      <th>3</th>\n",
              "      <td>1.0</td>\n",
              "      <td>-0.966272</td>\n",
              "      <td>-0.185226</td>\n",
              "      <td>1.792993</td>\n",
              "      <td>-0.863291</td>\n",
              "      <td>-0.010309</td>\n",
              "      <td>1.247203</td>\n",
              "      <td>0.237609</td>\n",
              "      <td>0.377436</td>\n",
              "      <td>-1.387024</td>\n",
              "      <td>...</td>\n",
              "      <td>-0.108300</td>\n",
              "      <td>0.005274</td>\n",
              "      <td>-0.190321</td>\n",
              "      <td>-1.175575</td>\n",
              "      <td>0.647376</td>\n",
              "      <td>-0.221929</td>\n",
              "      <td>0.062723</td>\n",
              "      <td>0.061458</td>\n",
              "      <td>123.50</td>\n",
              "      <td>0</td>\n",
              "    </tr>\n",
              "    <tr>\n",
              "      <th>4</th>\n",
              "      <td>2.0</td>\n",
              "      <td>-1.158233</td>\n",
              "      <td>0.877737</td>\n",
              "      <td>1.548718</td>\n",
              "      <td>0.403034</td>\n",
              "      <td>-0.407193</td>\n",
              "      <td>0.095921</td>\n",
              "      <td>0.592941</td>\n",
              "      <td>-0.270533</td>\n",
              "      <td>0.817739</td>\n",
              "      <td>...</td>\n",
              "      <td>-0.009431</td>\n",
              "      <td>0.798278</td>\n",
              "      <td>-0.137458</td>\n",
              "      <td>0.141267</td>\n",
              "      <td>-0.206010</td>\n",
              "      <td>0.502292</td>\n",
              "      <td>0.219422</td>\n",
              "      <td>0.215153</td>\n",
              "      <td>69.99</td>\n",
              "      <td>0</td>\n",
              "    </tr>\n",
              "  </tbody>\n",
              "</table>\n",
              "<p>5 rows × 31 columns</p>\n",
              "</div>\n",
              "    <div class=\"colab-df-buttons\">\n",
              "\n",
              "  <div class=\"colab-df-container\">\n",
              "    <button class=\"colab-df-convert\" onclick=\"convertToInteractive('df-e8596fee-f0d0-4d90-a297-7881708a967f')\"\n",
              "            title=\"Convert this dataframe to an interactive table.\"\n",
              "            style=\"display:none;\">\n",
              "\n",
              "  <svg xmlns=\"http://www.w3.org/2000/svg\" height=\"24px\" viewBox=\"0 -960 960 960\">\n",
              "    <path d=\"M120-120v-720h720v720H120Zm60-500h600v-160H180v160Zm220 220h160v-160H400v160Zm0 220h160v-160H400v160ZM180-400h160v-160H180v160Zm440 0h160v-160H620v160ZM180-180h160v-160H180v160Zm440 0h160v-160H620v160Z\"/>\n",
              "  </svg>\n",
              "    </button>\n",
              "\n",
              "  <style>\n",
              "    .colab-df-container {\n",
              "      display:flex;\n",
              "      gap: 12px;\n",
              "    }\n",
              "\n",
              "    .colab-df-convert {\n",
              "      background-color: #E8F0FE;\n",
              "      border: none;\n",
              "      border-radius: 50%;\n",
              "      cursor: pointer;\n",
              "      display: none;\n",
              "      fill: #1967D2;\n",
              "      height: 32px;\n",
              "      padding: 0 0 0 0;\n",
              "      width: 32px;\n",
              "    }\n",
              "\n",
              "    .colab-df-convert:hover {\n",
              "      background-color: #E2EBFA;\n",
              "      box-shadow: 0px 1px 2px rgba(60, 64, 67, 0.3), 0px 1px 3px 1px rgba(60, 64, 67, 0.15);\n",
              "      fill: #174EA6;\n",
              "    }\n",
              "\n",
              "    .colab-df-buttons div {\n",
              "      margin-bottom: 4px;\n",
              "    }\n",
              "\n",
              "    [theme=dark] .colab-df-convert {\n",
              "      background-color: #3B4455;\n",
              "      fill: #D2E3FC;\n",
              "    }\n",
              "\n",
              "    [theme=dark] .colab-df-convert:hover {\n",
              "      background-color: #434B5C;\n",
              "      box-shadow: 0px 1px 3px 1px rgba(0, 0, 0, 0.15);\n",
              "      filter: drop-shadow(0px 1px 2px rgba(0, 0, 0, 0.3));\n",
              "      fill: #FFFFFF;\n",
              "    }\n",
              "  </style>\n",
              "\n",
              "    <script>\n",
              "      const buttonEl =\n",
              "        document.querySelector('#df-e8596fee-f0d0-4d90-a297-7881708a967f button.colab-df-convert');\n",
              "      buttonEl.style.display =\n",
              "        google.colab.kernel.accessAllowed ? 'block' : 'none';\n",
              "\n",
              "      async function convertToInteractive(key) {\n",
              "        const element = document.querySelector('#df-e8596fee-f0d0-4d90-a297-7881708a967f');\n",
              "        const dataTable =\n",
              "          await google.colab.kernel.invokeFunction('convertToInteractive',\n",
              "                                                    [key], {});\n",
              "        if (!dataTable) return;\n",
              "\n",
              "        const docLinkHtml = 'Like what you see? Visit the ' +\n",
              "          '<a target=\"_blank\" href=https://colab.research.google.com/notebooks/data_table.ipynb>data table notebook</a>'\n",
              "          + ' to learn more about interactive tables.';\n",
              "        element.innerHTML = '';\n",
              "        dataTable['output_type'] = 'display_data';\n",
              "        await google.colab.output.renderOutput(dataTable, element);\n",
              "        const docLink = document.createElement('div');\n",
              "        docLink.innerHTML = docLinkHtml;\n",
              "        element.appendChild(docLink);\n",
              "      }\n",
              "    </script>\n",
              "  </div>\n",
              "\n",
              "\n",
              "<div id=\"df-000768b0-05c6-42e3-967c-9cf93c9ca4e6\">\n",
              "  <button class=\"colab-df-quickchart\" onclick=\"quickchart('df-000768b0-05c6-42e3-967c-9cf93c9ca4e6')\"\n",
              "            title=\"Suggest charts\"\n",
              "            style=\"display:none;\">\n",
              "\n",
              "<svg xmlns=\"http://www.w3.org/2000/svg\" height=\"24px\"viewBox=\"0 0 24 24\"\n",
              "     width=\"24px\">\n",
              "    <g>\n",
              "        <path d=\"M19 3H5c-1.1 0-2 .9-2 2v14c0 1.1.9 2 2 2h14c1.1 0 2-.9 2-2V5c0-1.1-.9-2-2-2zM9 17H7v-7h2v7zm4 0h-2V7h2v10zm4 0h-2v-4h2v4z\"/>\n",
              "    </g>\n",
              "</svg>\n",
              "  </button>\n",
              "\n",
              "<style>\n",
              "  .colab-df-quickchart {\n",
              "      --bg-color: #E8F0FE;\n",
              "      --fill-color: #1967D2;\n",
              "      --hover-bg-color: #E2EBFA;\n",
              "      --hover-fill-color: #174EA6;\n",
              "      --disabled-fill-color: #AAA;\n",
              "      --disabled-bg-color: #DDD;\n",
              "  }\n",
              "\n",
              "  [theme=dark] .colab-df-quickchart {\n",
              "      --bg-color: #3B4455;\n",
              "      --fill-color: #D2E3FC;\n",
              "      --hover-bg-color: #434B5C;\n",
              "      --hover-fill-color: #FFFFFF;\n",
              "      --disabled-bg-color: #3B4455;\n",
              "      --disabled-fill-color: #666;\n",
              "  }\n",
              "\n",
              "  .colab-df-quickchart {\n",
              "    background-color: var(--bg-color);\n",
              "    border: none;\n",
              "    border-radius: 50%;\n",
              "    cursor: pointer;\n",
              "    display: none;\n",
              "    fill: var(--fill-color);\n",
              "    height: 32px;\n",
              "    padding: 0;\n",
              "    width: 32px;\n",
              "  }\n",
              "\n",
              "  .colab-df-quickchart:hover {\n",
              "    background-color: var(--hover-bg-color);\n",
              "    box-shadow: 0 1px 2px rgba(60, 64, 67, 0.3), 0 1px 3px 1px rgba(60, 64, 67, 0.15);\n",
              "    fill: var(--button-hover-fill-color);\n",
              "  }\n",
              "\n",
              "  .colab-df-quickchart-complete:disabled,\n",
              "  .colab-df-quickchart-complete:disabled:hover {\n",
              "    background-color: var(--disabled-bg-color);\n",
              "    fill: var(--disabled-fill-color);\n",
              "    box-shadow: none;\n",
              "  }\n",
              "\n",
              "  .colab-df-spinner {\n",
              "    border: 2px solid var(--fill-color);\n",
              "    border-color: transparent;\n",
              "    border-bottom-color: var(--fill-color);\n",
              "    animation:\n",
              "      spin 1s steps(1) infinite;\n",
              "  }\n",
              "\n",
              "  @keyframes spin {\n",
              "    0% {\n",
              "      border-color: transparent;\n",
              "      border-bottom-color: var(--fill-color);\n",
              "      border-left-color: var(--fill-color);\n",
              "    }\n",
              "    20% {\n",
              "      border-color: transparent;\n",
              "      border-left-color: var(--fill-color);\n",
              "      border-top-color: var(--fill-color);\n",
              "    }\n",
              "    30% {\n",
              "      border-color: transparent;\n",
              "      border-left-color: var(--fill-color);\n",
              "      border-top-color: var(--fill-color);\n",
              "      border-right-color: var(--fill-color);\n",
              "    }\n",
              "    40% {\n",
              "      border-color: transparent;\n",
              "      border-right-color: var(--fill-color);\n",
              "      border-top-color: var(--fill-color);\n",
              "    }\n",
              "    60% {\n",
              "      border-color: transparent;\n",
              "      border-right-color: var(--fill-color);\n",
              "    }\n",
              "    80% {\n",
              "      border-color: transparent;\n",
              "      border-right-color: var(--fill-color);\n",
              "      border-bottom-color: var(--fill-color);\n",
              "    }\n",
              "    90% {\n",
              "      border-color: transparent;\n",
              "      border-bottom-color: var(--fill-color);\n",
              "    }\n",
              "  }\n",
              "</style>\n",
              "\n",
              "  <script>\n",
              "    async function quickchart(key) {\n",
              "      const quickchartButtonEl =\n",
              "        document.querySelector('#' + key + ' button');\n",
              "      quickchartButtonEl.disabled = true;  // To prevent multiple clicks.\n",
              "      quickchartButtonEl.classList.add('colab-df-spinner');\n",
              "      try {\n",
              "        const charts = await google.colab.kernel.invokeFunction(\n",
              "            'suggestCharts', [key], {});\n",
              "      } catch (error) {\n",
              "        console.error('Error during call to suggestCharts:', error);\n",
              "      }\n",
              "      quickchartButtonEl.classList.remove('colab-df-spinner');\n",
              "      quickchartButtonEl.classList.add('colab-df-quickchart-complete');\n",
              "    }\n",
              "    (() => {\n",
              "      let quickchartButtonEl =\n",
              "        document.querySelector('#df-000768b0-05c6-42e3-967c-9cf93c9ca4e6 button');\n",
              "      quickchartButtonEl.style.display =\n",
              "        google.colab.kernel.accessAllowed ? 'block' : 'none';\n",
              "    })();\n",
              "  </script>\n",
              "</div>\n",
              "    </div>\n",
              "  </div>\n"
            ]
          },
          "metadata": {},
          "execution_count": 6
        }
      ]
    },
    {
      "cell_type": "markdown",
      "source": [
        "### Some rough work"
      ],
      "metadata": {
        "id": "MJqWRdPCxlY3"
      }
    },
    {
      "cell_type": "code",
      "source": [
        "# Time appears to be in seconds:\n",
        "\n",
        "raw_data['Time'].max()  # 172792.0"
      ],
      "metadata": {
        "id": "_bo-J6tdxrCl"
      },
      "execution_count": null,
      "outputs": []
    },
    {
      "cell_type": "code",
      "source": [
        "x = 3700/3600 % 24\n",
        "x   # Converts to hours scale 1.0277777777777777"
      ],
      "metadata": {
        "colab": {
          "base_uri": "https://localhost:8080/"
        },
        "id": "YCXXOyzcwSRO",
        "outputId": "47559027-9d5e-4ab6-8a6a-7227e19ac205"
      },
      "execution_count": 14,
      "outputs": [
        {
          "output_type": "execute_result",
          "data": {
            "text/plain": [
              "1.0277777777777777"
            ]
          },
          "metadata": {},
          "execution_count": 14
        }
      ]
    },
    {
      "cell_type": "code",
      "source": [
        "x = ((12 * 3600) + 100)\n",
        "x"
      ],
      "metadata": {
        "colab": {
          "base_uri": "https://localhost:8080/"
        },
        "id": "se08KnF_w3t2",
        "outputId": "1ec74edb-4421-4676-d606-0053d0f6aaf2"
      },
      "execution_count": 17,
      "outputs": [
        {
          "output_type": "execute_result",
          "data": {
            "text/plain": [
              "43300"
            ]
          },
          "metadata": {},
          "execution_count": 17
        }
      ]
    },
    {
      "cell_type": "code",
      "source": [
        "x/3600 %24   # 12.027777777777779"
      ],
      "metadata": {
        "colab": {
          "base_uri": "https://localhost:8080/"
        },
        "id": "nSyIaZ3FxRhd",
        "outputId": "45b482c2-1552-4c9b-dc6a-cb6549f8d1f5"
      },
      "execution_count": 19,
      "outputs": [
        {
          "output_type": "execute_result",
          "data": {
            "text/plain": [
              "12.027777777777779"
            ]
          },
          "metadata": {},
          "execution_count": 19
        }
      ]
    },
    {
      "cell_type": "markdown",
      "source": [
        "## Split data"
      ],
      "metadata": {
        "id": "jiZFASngxtal"
      }
    },
    {
      "cell_type": "code",
      "source": [
        "# 3.0\n",
        "data, data_test = train_test_split(raw_data,\n",
        "                                   test_size=0.25\n",
        "                                   )"
      ],
      "metadata": {
        "id": "M8UMgUm_hL14"
      },
      "execution_count": 12,
      "outputs": []
    },
    {
      "cell_type": "markdown",
      "source": [
        "We transform the Time field to time-of-day to account for intraday seasonality. The Amount field is transformed to log scale, with the intuition that the scale of magnitute of a transaction could be a more relevant feature for fraud than linear amounts."
      ],
      "metadata": {
        "id": "7CWCzZOihhpQ"
      }
    },
    {
      "cell_type": "code",
      "source": [
        "# 3.1\n",
        "data.loc[:,\"Time\"] = data[\"Time\"].apply(lambda x : x / 3600 % 24)\n",
        "data.loc[:,'Amount'] = np.log(data['Amount']+1)\n",
        "\n",
        "# 3.1.1\n",
        "data_test.loc[:,\"Time\"] = data_test[\"Time\"].apply(lambda x : x / 3600 % 24)\n",
        "data_test.loc[:,'Amount'] = np.log(data_test['Amount']+1)\n",
        "# data = data.drop(['Amount'], axis = 1)\n",
        "print(data.shape)\n",
        "data.head()"
      ],
      "metadata": {
        "colab": {
          "base_uri": "https://localhost:8080/",
          "height": 273
        },
        "id": "ST4TwWtWhDsN",
        "outputId": "bc174873-d82b-4ba7-80a1-07173707bb91"
      },
      "execution_count": null,
      "outputs": [
        {
          "output_type": "stream",
          "name": "stdout",
          "text": [
            "(213605, 31)\n"
          ]
        },
        {
          "output_type": "execute_result",
          "data": {
            "text/plain": [
              "             Time        V1        V2        V3        V4        V5        V6  \\\n",
              "36117   10.667778 -0.438698  0.551577  1.361523  0.854082 -0.005587  0.041740   \n",
              "222815  15.758056  1.972680 -0.592214 -1.732472 -0.681417  1.819375  3.777885   \n",
              "273530  22.003056  2.007864 -0.362649 -0.377411  0.322888 -0.778397 -0.796545   \n",
              "6109     1.940833 -2.176673 -1.639549  1.648077  0.541888  2.820718 -2.847391   \n",
              "72759   15.235278  1.216618  0.206324  0.241546  0.447413 -0.522660 -1.531184   \n",
              "\n",
              "              V7        V8        V9  ...       V21       V22       V23  \\\n",
              "36117   0.459717 -0.081897  0.828238  ...  0.029011  0.333867 -0.008788   \n",
              "222815 -1.104536  1.027809  1.120985  ... -0.182669 -0.488718  0.412727   \n",
              "273530 -0.549278 -0.009011  1.567407  ... -0.145990 -0.353120  0.353957   \n",
              "6109   -0.820157 -0.827410  1.755300  ... -0.570479 -0.387458 -0.602038   \n",
              "72759   0.378456 -0.396944 -0.134747  ... -0.010740 -0.020836 -0.012549   \n",
              "\n",
              "             V24       V25       V26       V27       V28    Amount  Class  \n",
              "36117   0.033044 -0.531050 -0.473284 -0.403109 -0.132423  2.772589      0  \n",
              "222815  0.657187 -0.390302 -0.601361  0.054708 -0.037361  1.972691      0  \n",
              "273530 -0.211667 -0.399354 -0.911824  0.049215 -0.031706  0.693147      0  \n",
              "6109    0.769497 -1.553510 -0.352912  0.157872 -0.412086  2.399712      0  \n",
              "72759   0.999326  0.463289  0.562654 -0.069220  0.012822  3.361417      0  \n",
              "\n",
              "[5 rows x 31 columns]"
            ],
            "text/html": [
              "\n",
              "  <div id=\"df-a5ef1d3e-b428-401e-bbfa-7919d05915cf\" class=\"colab-df-container\">\n",
              "    <div>\n",
              "<style scoped>\n",
              "    .dataframe tbody tr th:only-of-type {\n",
              "        vertical-align: middle;\n",
              "    }\n",
              "\n",
              "    .dataframe tbody tr th {\n",
              "        vertical-align: top;\n",
              "    }\n",
              "\n",
              "    .dataframe thead th {\n",
              "        text-align: right;\n",
              "    }\n",
              "</style>\n",
              "<table border=\"1\" class=\"dataframe\">\n",
              "  <thead>\n",
              "    <tr style=\"text-align: right;\">\n",
              "      <th></th>\n",
              "      <th>Time</th>\n",
              "      <th>V1</th>\n",
              "      <th>V2</th>\n",
              "      <th>V3</th>\n",
              "      <th>V4</th>\n",
              "      <th>V5</th>\n",
              "      <th>V6</th>\n",
              "      <th>V7</th>\n",
              "      <th>V8</th>\n",
              "      <th>V9</th>\n",
              "      <th>...</th>\n",
              "      <th>V21</th>\n",
              "      <th>V22</th>\n",
              "      <th>V23</th>\n",
              "      <th>V24</th>\n",
              "      <th>V25</th>\n",
              "      <th>V26</th>\n",
              "      <th>V27</th>\n",
              "      <th>V28</th>\n",
              "      <th>Amount</th>\n",
              "      <th>Class</th>\n",
              "    </tr>\n",
              "  </thead>\n",
              "  <tbody>\n",
              "    <tr>\n",
              "      <th>36117</th>\n",
              "      <td>10.667778</td>\n",
              "      <td>-0.438698</td>\n",
              "      <td>0.551577</td>\n",
              "      <td>1.361523</td>\n",
              "      <td>0.854082</td>\n",
              "      <td>-0.005587</td>\n",
              "      <td>0.041740</td>\n",
              "      <td>0.459717</td>\n",
              "      <td>-0.081897</td>\n",
              "      <td>0.828238</td>\n",
              "      <td>...</td>\n",
              "      <td>0.029011</td>\n",
              "      <td>0.333867</td>\n",
              "      <td>-0.008788</td>\n",
              "      <td>0.033044</td>\n",
              "      <td>-0.531050</td>\n",
              "      <td>-0.473284</td>\n",
              "      <td>-0.403109</td>\n",
              "      <td>-0.132423</td>\n",
              "      <td>2.772589</td>\n",
              "      <td>0</td>\n",
              "    </tr>\n",
              "    <tr>\n",
              "      <th>222815</th>\n",
              "      <td>15.758056</td>\n",
              "      <td>1.972680</td>\n",
              "      <td>-0.592214</td>\n",
              "      <td>-1.732472</td>\n",
              "      <td>-0.681417</td>\n",
              "      <td>1.819375</td>\n",
              "      <td>3.777885</td>\n",
              "      <td>-1.104536</td>\n",
              "      <td>1.027809</td>\n",
              "      <td>1.120985</td>\n",
              "      <td>...</td>\n",
              "      <td>-0.182669</td>\n",
              "      <td>-0.488718</td>\n",
              "      <td>0.412727</td>\n",
              "      <td>0.657187</td>\n",
              "      <td>-0.390302</td>\n",
              "      <td>-0.601361</td>\n",
              "      <td>0.054708</td>\n",
              "      <td>-0.037361</td>\n",
              "      <td>1.972691</td>\n",
              "      <td>0</td>\n",
              "    </tr>\n",
              "    <tr>\n",
              "      <th>273530</th>\n",
              "      <td>22.003056</td>\n",
              "      <td>2.007864</td>\n",
              "      <td>-0.362649</td>\n",
              "      <td>-0.377411</td>\n",
              "      <td>0.322888</td>\n",
              "      <td>-0.778397</td>\n",
              "      <td>-0.796545</td>\n",
              "      <td>-0.549278</td>\n",
              "      <td>-0.009011</td>\n",
              "      <td>1.567407</td>\n",
              "      <td>...</td>\n",
              "      <td>-0.145990</td>\n",
              "      <td>-0.353120</td>\n",
              "      <td>0.353957</td>\n",
              "      <td>-0.211667</td>\n",
              "      <td>-0.399354</td>\n",
              "      <td>-0.911824</td>\n",
              "      <td>0.049215</td>\n",
              "      <td>-0.031706</td>\n",
              "      <td>0.693147</td>\n",
              "      <td>0</td>\n",
              "    </tr>\n",
              "    <tr>\n",
              "      <th>6109</th>\n",
              "      <td>1.940833</td>\n",
              "      <td>-2.176673</td>\n",
              "      <td>-1.639549</td>\n",
              "      <td>1.648077</td>\n",
              "      <td>0.541888</td>\n",
              "      <td>2.820718</td>\n",
              "      <td>-2.847391</td>\n",
              "      <td>-0.820157</td>\n",
              "      <td>-0.827410</td>\n",
              "      <td>1.755300</td>\n",
              "      <td>...</td>\n",
              "      <td>-0.570479</td>\n",
              "      <td>-0.387458</td>\n",
              "      <td>-0.602038</td>\n",
              "      <td>0.769497</td>\n",
              "      <td>-1.553510</td>\n",
              "      <td>-0.352912</td>\n",
              "      <td>0.157872</td>\n",
              "      <td>-0.412086</td>\n",
              "      <td>2.399712</td>\n",
              "      <td>0</td>\n",
              "    </tr>\n",
              "    <tr>\n",
              "      <th>72759</th>\n",
              "      <td>15.235278</td>\n",
              "      <td>1.216618</td>\n",
              "      <td>0.206324</td>\n",
              "      <td>0.241546</td>\n",
              "      <td>0.447413</td>\n",
              "      <td>-0.522660</td>\n",
              "      <td>-1.531184</td>\n",
              "      <td>0.378456</td>\n",
              "      <td>-0.396944</td>\n",
              "      <td>-0.134747</td>\n",
              "      <td>...</td>\n",
              "      <td>-0.010740</td>\n",
              "      <td>-0.020836</td>\n",
              "      <td>-0.012549</td>\n",
              "      <td>0.999326</td>\n",
              "      <td>0.463289</td>\n",
              "      <td>0.562654</td>\n",
              "      <td>-0.069220</td>\n",
              "      <td>0.012822</td>\n",
              "      <td>3.361417</td>\n",
              "      <td>0</td>\n",
              "    </tr>\n",
              "  </tbody>\n",
              "</table>\n",
              "<p>5 rows × 31 columns</p>\n",
              "</div>\n",
              "    <div class=\"colab-df-buttons\">\n",
              "\n",
              "  <div class=\"colab-df-container\">\n",
              "    <button class=\"colab-df-convert\" onclick=\"convertToInteractive('df-a5ef1d3e-b428-401e-bbfa-7919d05915cf')\"\n",
              "            title=\"Convert this dataframe to an interactive table.\"\n",
              "            style=\"display:none;\">\n",
              "\n",
              "  <svg xmlns=\"http://www.w3.org/2000/svg\" height=\"24px\" viewBox=\"0 -960 960 960\">\n",
              "    <path d=\"M120-120v-720h720v720H120Zm60-500h600v-160H180v160Zm220 220h160v-160H400v160Zm0 220h160v-160H400v160ZM180-400h160v-160H180v160Zm440 0h160v-160H620v160ZM180-180h160v-160H180v160Zm440 0h160v-160H620v160Z\"/>\n",
              "  </svg>\n",
              "    </button>\n",
              "\n",
              "  <style>\n",
              "    .colab-df-container {\n",
              "      display:flex;\n",
              "      gap: 12px;\n",
              "    }\n",
              "\n",
              "    .colab-df-convert {\n",
              "      background-color: #E8F0FE;\n",
              "      border: none;\n",
              "      border-radius: 50%;\n",
              "      cursor: pointer;\n",
              "      display: none;\n",
              "      fill: #1967D2;\n",
              "      height: 32px;\n",
              "      padding: 0 0 0 0;\n",
              "      width: 32px;\n",
              "    }\n",
              "\n",
              "    .colab-df-convert:hover {\n",
              "      background-color: #E2EBFA;\n",
              "      box-shadow: 0px 1px 2px rgba(60, 64, 67, 0.3), 0px 1px 3px 1px rgba(60, 64, 67, 0.15);\n",
              "      fill: #174EA6;\n",
              "    }\n",
              "\n",
              "    .colab-df-buttons div {\n",
              "      margin-bottom: 4px;\n",
              "    }\n",
              "\n",
              "    [theme=dark] .colab-df-convert {\n",
              "      background-color: #3B4455;\n",
              "      fill: #D2E3FC;\n",
              "    }\n",
              "\n",
              "    [theme=dark] .colab-df-convert:hover {\n",
              "      background-color: #434B5C;\n",
              "      box-shadow: 0px 1px 3px 1px rgba(0, 0, 0, 0.15);\n",
              "      filter: drop-shadow(0px 1px 2px rgba(0, 0, 0, 0.3));\n",
              "      fill: #FFFFFF;\n",
              "    }\n",
              "  </style>\n",
              "\n",
              "    <script>\n",
              "      const buttonEl =\n",
              "        document.querySelector('#df-a5ef1d3e-b428-401e-bbfa-7919d05915cf button.colab-df-convert');\n",
              "      buttonEl.style.display =\n",
              "        google.colab.kernel.accessAllowed ? 'block' : 'none';\n",
              "\n",
              "      async function convertToInteractive(key) {\n",
              "        const element = document.querySelector('#df-a5ef1d3e-b428-401e-bbfa-7919d05915cf');\n",
              "        const dataTable =\n",
              "          await google.colab.kernel.invokeFunction('convertToInteractive',\n",
              "                                                    [key], {});\n",
              "        if (!dataTable) return;\n",
              "\n",
              "        const docLinkHtml = 'Like what you see? Visit the ' +\n",
              "          '<a target=\"_blank\" href=https://colab.research.google.com/notebooks/data_table.ipynb>data table notebook</a>'\n",
              "          + ' to learn more about interactive tables.';\n",
              "        element.innerHTML = '';\n",
              "        dataTable['output_type'] = 'display_data';\n",
              "        await google.colab.output.renderOutput(dataTable, element);\n",
              "        const docLink = document.createElement('div');\n",
              "        docLink.innerHTML = docLinkHtml;\n",
              "        element.appendChild(docLink);\n",
              "      }\n",
              "    </script>\n",
              "  </div>\n",
              "\n",
              "\n",
              "<div id=\"df-f09f7120-9fa1-45c7-8bc3-deaa03ff7b37\">\n",
              "  <button class=\"colab-df-quickchart\" onclick=\"quickchart('df-f09f7120-9fa1-45c7-8bc3-deaa03ff7b37')\"\n",
              "            title=\"Suggest charts\"\n",
              "            style=\"display:none;\">\n",
              "\n",
              "<svg xmlns=\"http://www.w3.org/2000/svg\" height=\"24px\"viewBox=\"0 0 24 24\"\n",
              "     width=\"24px\">\n",
              "    <g>\n",
              "        <path d=\"M19 3H5c-1.1 0-2 .9-2 2v14c0 1.1.9 2 2 2h14c1.1 0 2-.9 2-2V5c0-1.1-.9-2-2-2zM9 17H7v-7h2v7zm4 0h-2V7h2v10zm4 0h-2v-4h2v4z\"/>\n",
              "    </g>\n",
              "</svg>\n",
              "  </button>\n",
              "\n",
              "<style>\n",
              "  .colab-df-quickchart {\n",
              "      --bg-color: #E8F0FE;\n",
              "      --fill-color: #1967D2;\n",
              "      --hover-bg-color: #E2EBFA;\n",
              "      --hover-fill-color: #174EA6;\n",
              "      --disabled-fill-color: #AAA;\n",
              "      --disabled-bg-color: #DDD;\n",
              "  }\n",
              "\n",
              "  [theme=dark] .colab-df-quickchart {\n",
              "      --bg-color: #3B4455;\n",
              "      --fill-color: #D2E3FC;\n",
              "      --hover-bg-color: #434B5C;\n",
              "      --hover-fill-color: #FFFFFF;\n",
              "      --disabled-bg-color: #3B4455;\n",
              "      --disabled-fill-color: #666;\n",
              "  }\n",
              "\n",
              "  .colab-df-quickchart {\n",
              "    background-color: var(--bg-color);\n",
              "    border: none;\n",
              "    border-radius: 50%;\n",
              "    cursor: pointer;\n",
              "    display: none;\n",
              "    fill: var(--fill-color);\n",
              "    height: 32px;\n",
              "    padding: 0;\n",
              "    width: 32px;\n",
              "  }\n",
              "\n",
              "  .colab-df-quickchart:hover {\n",
              "    background-color: var(--hover-bg-color);\n",
              "    box-shadow: 0 1px 2px rgba(60, 64, 67, 0.3), 0 1px 3px 1px rgba(60, 64, 67, 0.15);\n",
              "    fill: var(--button-hover-fill-color);\n",
              "  }\n",
              "\n",
              "  .colab-df-quickchart-complete:disabled,\n",
              "  .colab-df-quickchart-complete:disabled:hover {\n",
              "    background-color: var(--disabled-bg-color);\n",
              "    fill: var(--disabled-fill-color);\n",
              "    box-shadow: none;\n",
              "  }\n",
              "\n",
              "  .colab-df-spinner {\n",
              "    border: 2px solid var(--fill-color);\n",
              "    border-color: transparent;\n",
              "    border-bottom-color: var(--fill-color);\n",
              "    animation:\n",
              "      spin 1s steps(1) infinite;\n",
              "  }\n",
              "\n",
              "  @keyframes spin {\n",
              "    0% {\n",
              "      border-color: transparent;\n",
              "      border-bottom-color: var(--fill-color);\n",
              "      border-left-color: var(--fill-color);\n",
              "    }\n",
              "    20% {\n",
              "      border-color: transparent;\n",
              "      border-left-color: var(--fill-color);\n",
              "      border-top-color: var(--fill-color);\n",
              "    }\n",
              "    30% {\n",
              "      border-color: transparent;\n",
              "      border-left-color: var(--fill-color);\n",
              "      border-top-color: var(--fill-color);\n",
              "      border-right-color: var(--fill-color);\n",
              "    }\n",
              "    40% {\n",
              "      border-color: transparent;\n",
              "      border-right-color: var(--fill-color);\n",
              "      border-top-color: var(--fill-color);\n",
              "    }\n",
              "    60% {\n",
              "      border-color: transparent;\n",
              "      border-right-color: var(--fill-color);\n",
              "    }\n",
              "    80% {\n",
              "      border-color: transparent;\n",
              "      border-right-color: var(--fill-color);\n",
              "      border-bottom-color: var(--fill-color);\n",
              "    }\n",
              "    90% {\n",
              "      border-color: transparent;\n",
              "      border-bottom-color: var(--fill-color);\n",
              "    }\n",
              "  }\n",
              "</style>\n",
              "\n",
              "  <script>\n",
              "    async function quickchart(key) {\n",
              "      const quickchartButtonEl =\n",
              "        document.querySelector('#' + key + ' button');\n",
              "      quickchartButtonEl.disabled = true;  // To prevent multiple clicks.\n",
              "      quickchartButtonEl.classList.add('colab-df-spinner');\n",
              "      try {\n",
              "        const charts = await google.colab.kernel.invokeFunction(\n",
              "            'suggestCharts', [key], {});\n",
              "      } catch (error) {\n",
              "        console.error('Error during call to suggestCharts:', error);\n",
              "      }\n",
              "      quickchartButtonEl.classList.remove('colab-df-spinner');\n",
              "      quickchartButtonEl.classList.add('colab-df-quickchart-complete');\n",
              "    }\n",
              "    (() => {\n",
              "      let quickchartButtonEl =\n",
              "        document.querySelector('#df-f09f7120-9fa1-45c7-8bc3-deaa03ff7b37 button');\n",
              "      quickchartButtonEl.style.display =\n",
              "        google.colab.kernel.accessAllowed ? 'block' : 'none';\n",
              "    })();\n",
              "  </script>\n",
              "</div>\n",
              "    </div>\n",
              "  </div>\n"
            ]
          },
          "metadata": {},
          "execution_count": 10
        }
      ]
    },
    {
      "cell_type": "code",
      "source": [
        "# 3.2\n",
        "x = data.drop([\"Class\"], axis=1)\n",
        "y = data[\"Class\"].values\n"
      ],
      "metadata": {
        "id": "trQHUW0gPZ7h"
      },
      "execution_count": null,
      "outputs": []
    },
    {
      "cell_type": "code",
      "source": [
        "# 3.3 Transform x to numpy and then\n",
        "#     separate normal vs fraud data:\n",
        "\n",
        "x_norm, x_fraud = x.values[y == 0], x.values[y == 1]\n",
        "\n"
      ],
      "metadata": {
        "id": "C021-l3wPfI9"
      },
      "execution_count": null,
      "outputs": []
    },
    {
      "cell_type": "code",
      "source": [
        "x_norm.shape"
      ],
      "metadata": {
        "id": "EK70uCP3QeT3",
        "outputId": "df37fdfe-504a-4767-aef9-fadc96892a83",
        "colab": {
          "base_uri": "https://localhost:8080/"
        }
      },
      "execution_count": null,
      "outputs": [
        {
          "output_type": "execute_result",
          "data": {
            "text/plain": [
              "(213234, 30)"
            ]
          },
          "metadata": {},
          "execution_count": 16
        }
      ]
    },
    {
      "cell_type": "code",
      "source": [
        "# 3.4 Sample normal data to size 100000:\n",
        "\n",
        "x_norm_sample = x_norm[np.random.randint(x_norm.shape[0], size=100000), :]\n"
      ],
      "metadata": {
        "id": "HcSk_2G1PmCx"
      },
      "execution_count": null,
      "outputs": []
    },
    {
      "cell_type": "code",
      "source": [],
      "metadata": {
        "id": "lL9TpFCiQdgG"
      },
      "execution_count": null,
      "outputs": []
    },
    {
      "cell_type": "code",
      "source": [
        "# 3.5 Split sample into train/validation:\n",
        "\n",
        "x_norm_train_sample, x_norm_val_sample = train_test_split(x_norm_sample,\n",
        "                                                          test_size=0.2\n",
        "                                                          )"
      ],
      "metadata": {
        "id": "E4lzrqkqQLss"
      },
      "execution_count": null,
      "outputs": []
    },
    {
      "cell_type": "code",
      "source": [
        "# 5.2 Calculate accuracy:\n",
        "\n",
        "def rounded_accuracy(y_true, y_pred):\n",
        "    # tf.round(x) rounds the values of x to integer values.\n",
        "    return tf.keras.metrics.binary_accuracy(tf.round(y_true), tf.round(y_pred))"
      ],
      "metadata": {
        "id": "_b60pdmBaGxc"
      },
      "execution_count": null,
      "outputs": []
    },
    {
      "cell_type": "markdown",
      "source": [
        "Given y, I can take a log of it as: log$_{10}$y. Let us say this log is z. Then,  \n",
        "z = log$_{10}$y  \n",
        "To get y back from z, I have to raise 10 to the power of z, ie:  \n",
        "10$^{z}$  ie y = 10$^{z}$  OR log$_{10}$y = z\n",
        "\n",
        "Therefore, exp(log_var / 2) will give (exp(log σ$^{2}))$$^{0.5}$ or just (σ$^{2}$)$^{0.5}$ or just σ."
      ],
      "metadata": {
        "id": "X0uSioSImDDa"
      }
    },
    {
      "cell_type": "markdown",
      "source": [
        "## Sampling layer"
      ],
      "metadata": {
        "id": "Ny8BK-RZMIGd"
      }
    },
    {
      "cell_type": "code",
      "source": [
        "# 4.0 Sampling layer\n",
        "# tf.random_normal: https://www.tensorflow.org/api_docs/python/tf/random/normal\n",
        "\n",
        "class Sampling(tf.keras.layers.Layer):\n",
        "    def call(self, inputs):\n",
        "        mean, log_var = inputs\n",
        "        out = tf.keras.backend.random_normal(\n",
        "                            shape = tf.shape(log_var)   # Output random values of given shape\n",
        "                                                        #  with mean 0 and stdev 1\n",
        "                            )\n",
        "        out = out * K.exp(log_var / 2) + mean    # Z * σ + mean\n",
        "        return out"
      ],
      "metadata": {
        "id": "RaceCCT7kDsL"
      },
      "execution_count": null,
      "outputs": []
    },
    {
      "cell_type": "code",
      "source": [
        "# 4.1 latent space size:\n",
        "codings_size = 2"
      ],
      "metadata": {
        "id": "hiPpPLvH61cD"
      },
      "execution_count": null,
      "outputs": []
    },
    {
      "cell_type": "markdown",
      "source": [
        "## Encoder"
      ],
      "metadata": {
        "id": "e0u5lZiiMCyK"
      }
    },
    {
      "cell_type": "code",
      "source": [
        "# 4.2 encoder\n",
        "\n",
        "inputs = tf.keras.layers.Input(shape=[x.shape[1]])\n",
        "z = tf.keras.layers.Flatten()(inputs)\n",
        "z = tf.keras.layers.Dense(20,\n",
        "                       activation=\"selu\")(z)\n",
        "\n",
        "z = tf.keras.layers.Dense(10,\n",
        "                       activation=\"selu\")(z)\n",
        "\n",
        "z = tf.keras.layers.Dense(8,\n",
        "                       activation=\"selu\")(z)"
      ],
      "metadata": {
        "id": "l9R90XRl9Red"
      },
      "execution_count": null,
      "outputs": []
    },
    {
      "cell_type": "code",
      "source": [
        "# 4.2.1 Encoder has two outputs:\n",
        "\n",
        "codings_mean = tf.keras.layers.Dense(codings_size)(z)\n",
        "codings_log_var = tf.keras.layers.Dense(codings_size)(z)"
      ],
      "metadata": {
        "id": "IvdSnJ_C9V5m"
      },
      "execution_count": null,
      "outputs": []
    },
    {
      "cell_type": "code",
      "source": [
        "# 4.2.2 And also a IIIRd one derived from above two:\n",
        "\n",
        "codings = Sampling()([codings_mean, codings_log_var])"
      ],
      "metadata": {
        "id": "xtlQAJwY9drz"
      },
      "execution_count": null,
      "outputs": []
    },
    {
      "cell_type": "code",
      "source": [
        "# 4.3 Create encoder. But it outputs three tensors\n",
        "#     'codings_mean', 'codings_log_var', 'codings'\n",
        "#     though in the deocder only 'codings' tensor\n",
        "#     is used.\n",
        "\n",
        "variational_encoder = tf.keras.models.Model(\n",
        "                                          inputs=[inputs],\n",
        "                                          outputs=[codings_mean, codings_log_var, codings]\n",
        "                                          )"
      ],
      "metadata": {
        "id": "NytYTCyY67P3"
      },
      "execution_count": null,
      "outputs": []
    },
    {
      "cell_type": "code",
      "source": [
        "# 4.4 Plot the encoder model:\n",
        "\n",
        "tf.keras.utils.plot_model(variational_encoder,\n",
        "                          show_shapes=True,\n",
        "                          show_layer_activations=True\n",
        "                          )"
      ],
      "metadata": {
        "colab": {
          "base_uri": "https://localhost:8080/",
          "height": 754
        },
        "id": "vARwZtOB--CV",
        "outputId": "76201635-8bc8-4433-a6cf-32d1f238a0b4"
      },
      "execution_count": null,
      "outputs": [
        {
          "output_type": "execute_result",
          "data": {
            "image/png": "[encoded data removed]",
            "text/plain": [
              "<IPython.core.display.Image object>"
            ]
          },
          "metadata": {},
          "execution_count": 48
        }
      ]
    },
    {
      "cell_type": "markdown",
      "source": [
        "## Decoder model"
      ],
      "metadata": {
        "id": "YfK3V2cbMfcJ"
      }
    },
    {
      "cell_type": "code",
      "source": [
        "# 5.0 For decoder the only input is codings:\n",
        "\n",
        "decoder_inputs = tf.keras.layers.Input(shape=[codings_size])\n",
        "x = tf.keras.layers.Dense(10, activation=\"selu\")(decoder_inputs)\n",
        "x = tf.keras.layers.Dense(20, activation=\"selu\")(x)\n",
        "x = tf.keras.layers.Dense(30, activation=\"selu\")(x)\n",
        "outputs = x\n"
      ],
      "metadata": {
        "id": "qBSzoZ5J-R3i"
      },
      "execution_count": null,
      "outputs": []
    },
    {
      "cell_type": "code",
      "source": [
        "# 5.1 Our decoder:\n",
        "variational_decoder = tf.keras.models.Model(\n",
        "                                          inputs=[decoder_inputs],\n",
        "                                          outputs=[outputs]\n",
        "                                          )\n"
      ],
      "metadata": {
        "id": "hccaXUBIGPxD"
      },
      "execution_count": null,
      "outputs": []
    },
    {
      "cell_type": "code",
      "source": [
        "# 5.2 Decoder plot\n",
        "tf.keras.utils.plot_model(variational_decoder,\n",
        "                          show_shapes = True,\n",
        "                          show_layer_activations=True\n",
        "                          )"
      ],
      "metadata": {
        "colab": {
          "base_uri": "https://localhost:8080/",
          "height": 422
        },
        "id": "CSgZgAMU-zZ9",
        "outputId": "08f16641-2c13-447a-f122-1af3ae72f6be"
      },
      "execution_count": null,
      "outputs": [
        {
          "output_type": "execute_result",
          "data": {
            "image/png": "[encoded data removed]",
            "text/plain": [
              "<IPython.core.display.Image object>"
            ]
          },
          "metadata": {},
          "execution_count": 51
        }
      ]
    },
    {
      "cell_type": "markdown",
      "source": [
        "## Variational encoder"
      ],
      "metadata": {
        "id": "qoEVrd8qNFr6"
      }
    },
    {
      "cell_type": "code",
      "source": [
        "# 6.0 Get decoder output:\n",
        "\n",
        "_, _, codings = variational_encoder(inputs)\n",
        "reconstructions = variational_decoder(codings)\n"
      ],
      "metadata": {
        "id": "klBQ5fwLGvR0"
      },
      "execution_count": null,
      "outputs": []
    },
    {
      "cell_type": "code",
      "source": [
        "# 6.1\n",
        "variational_ae = tf.keras.models.Model(\n",
        "                                    inputs=[inputs],\n",
        "                                    outputs=[reconstructions]\n",
        "                                    )"
      ],
      "metadata": {
        "id": "4ydHJFtJGxm0"
      },
      "execution_count": null,
      "outputs": []
    },
    {
      "cell_type": "code",
      "source": [
        "# 6.2\n",
        "tf.keras.utils.plot_model(\n",
        "                          variational_ae,\n",
        "                          show_shapes= True,\n",
        "                          show_layer_activations= True\n",
        "                          )"
      ],
      "metadata": {
        "colab": {
          "base_uri": "https://localhost:8080/",
          "height": 312
        },
        "id": "TNywrU5yHA8O",
        "outputId": "7b60ba21-0f8f-4bc0-90af-49b6cc0fc30a"
      },
      "execution_count": null,
      "outputs": [
        {
          "output_type": "execute_result",
          "data": {
            "image/png": "[encoded data removed]",
            "text/plain": [
              "<IPython.core.display.Image object>"
            ]
          },
          "metadata": {},
          "execution_count": 54
        }
      ]
    },
    {
      "cell_type": "markdown",
      "source": [
        "## Latent loss"
      ],
      "metadata": {
        "id": "jKFWjoyBNQUy"
      }
    },
    {
      "cell_type": "code",
      "source": [
        "# 7.0 Latent loss is the sum of cross-entropy loss and KL divergence:\n",
        "\n",
        "latent_loss = -0.5 * tf.keras.backend.sum(\n",
        "                           1 + codings_log_var - K.exp(codings_log_var) - K.square(codings_mean),\n",
        "                           axis=-1\n",
        "                           )"
      ],
      "metadata": {
        "id": "GgQ2UXytHUhG"
      },
      "execution_count": null,
      "outputs": []
    },
    {
      "cell_type": "code",
      "source": [
        "# 7.1 Add latent loss during compile time:\n",
        "variational_ae.add_loss(\n",
        "                         K.mean(latent_loss) / 30.\n",
        "                        )"
      ],
      "metadata": {
        "id": "tVvfzn4nHp74"
      },
      "execution_count": null,
      "outputs": []
    },
    {
      "cell_type": "code",
      "source": [
        "# 7.2\n",
        "variational_ae.compile(loss=\"binary_crossentropy\",\n",
        "                       optimizer=\"rmsprop\",\n",
        "                       metrics=[rounded_accuracy]\n",
        "                       )"
      ],
      "metadata": {
        "id": "9BNk90F5Hyiu"
      },
      "execution_count": null,
      "outputs": []
    },
    {
      "cell_type": "code",
      "source": [
        "\n",
        "x = data.drop([\"Class\"], axis=1)\n",
        "y = data[\"Class\"].values\n",
        "\n",
        "x_norm, x_fraud = x.values[y == 0], x.values[y == 1]\n",
        "\n",
        "x_norm_sample = x_norm[np.random.randint(x_norm.shape[0], size=100000), :]\n",
        "x_norm_train_sample, x_norm_val_sample = train_test_split(x_norm_sample, test_size=0.2)"
      ],
      "metadata": {
        "id": "gL_IqhKmxR6k"
      },
      "execution_count": null,
      "outputs": []
    },
    {
      "cell_type": "code",
      "source": [
        "x_norm_train_sample.shape\n",
        "x_norm_val_sample.shape"
      ],
      "metadata": {
        "colab": {
          "base_uri": "https://localhost:8080/"
        },
        "id": "VNWBGBAmx5kj",
        "outputId": "0c2baeef-e2e9-4ece-8b7a-26b4cf3be65d"
      },
      "execution_count": null,
      "outputs": [
        {
          "output_type": "execute_result",
          "data": {
            "text/plain": [
              "(80000, 30)"
            ]
          },
          "metadata": {},
          "execution_count": 37
        },
        {
          "output_type": "execute_result",
          "data": {
            "text/plain": [
              "(20000, 30)"
            ]
          },
          "metadata": {},
          "execution_count": 37
        }
      ]
    },
    {
      "cell_type": "code",
      "source": [
        "checkpointer = tf.keras.callbacks.ModelCheckpoint(\n",
        "                               filepath='bestmodel.h5',\n",
        "                               verbose=0,\n",
        "                               save_best_only=True\n",
        "                               )\n",
        "\n",
        "earlystopper = tf.keras.callbacks.EarlyStopping(monitor='val_loss',\n",
        "                             mode='min',\n",
        "                             min_delta=0.005,\n",
        "                             patience=20, verbose=0,\n",
        "                             restore_best_weights=True\n",
        "                             )"
      ],
      "metadata": {
        "id": "s1xo_CF73Zc0"
      },
      "execution_count": null,
      "outputs": []
    },
    {
      "cell_type": "code",
      "execution_count": null,
      "metadata": {
        "id": "pa_oQ1kmr7iq"
      },
      "outputs": [],
      "source": [
        "start = time.time()\n",
        "history = variational_ae.fit(x_norm_train_sample,\n",
        "                             x_norm_train_sample,\n",
        "                             epochs=1000,\n",
        "                             batch_size=128,\n",
        "                             callbacks=[checkpointer, earlystopper],\n",
        "                             validation_data=(x_norm_val_sample, x_norm_val_sample)\n",
        "                             )\n",
        "\n",
        "end = time.time()\n",
        "print((end-start)/60)"
      ]
    },
    {
      "cell_type": "code",
      "source": [
        "latent_x_mean = variational_encoder(X)[0].numpy()\n",
        "plt.scatter(latent_x_mean[:, 0], latent_x_mean[:, 1], c=Y, cmap='RdYlGn_r', s=2)\n",
        "plt.title('latent means')\n",
        "plt.ylabel('mean[1]')\n",
        "plt.xlabel('mean[0]')\n",
        "plt.show()"
      ],
      "metadata": {
        "colab": {
          "base_uri": "https://localhost:8080/",
          "height": 498
        },
        "id": "idrChMh3yjIz",
        "outputId": "6f81d67a-748f-4323-c222-1ea3c08fda83"
      },
      "execution_count": null,
      "outputs": [
        {
          "output_type": "execute_result",
          "data": {
            "text/plain": [
              "<matplotlib.collections.PathCollection at 0x7d68fc740850>"
            ]
          },
          "metadata": {},
          "execution_count": 112
        },
        {
          "output_type": "execute_result",
          "data": {
            "text/plain": [
              "Text(0.5, 1.0, 'latent means')"
            ]
          },
          "metadata": {},
          "execution_count": 112
        },
        {
          "output_type": "execute_result",
          "data": {
            "text/plain": [
              "Text(0, 0.5, 'mean[1]')"
            ]
          },
          "metadata": {},
          "execution_count": 112
        },
        {
          "output_type": "execute_result",
          "data": {
            "text/plain": [
              "Text(0.5, 0, 'mean[0]')"
            ]
          },
          "metadata": {},
          "execution_count": 112
        },
        {
          "output_type": "display_data",
          "data": {
            "text/plain": [
              "<Figure size 640x480 with 1 Axes>"
            ],
            "image/png": "[encoded data removed]"
          },
          "metadata": {}
        }
      ]
    },
    {
      "cell_type": "code",
      "source": [
        "################"
      ],
      "metadata": {
        "id": "Y5QaVnwZ-vma"
      },
      "execution_count": null,
      "outputs": []
    }
  ]
}