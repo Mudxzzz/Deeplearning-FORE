{
  "nbformat": 4,
  "nbformat_minor": 0,
  "metadata": {
    "colab": {
      "provenance": [],
      "include_colab_link": true
    },
    "kernelspec": {
      "name": "python3",
      "display_name": "Python 3"
    }
  },
  "cells": [
    {
      "cell_type": "markdown",
      "metadata": {
        "id": "view-in-github",
        "colab_type": "text"
      },
      "source": [
        "<a href=\"https://colab.research.google.com/github/harnalashok/deeplearning/blob/main/Enginerring_using_keras_Functional_API_II.ipynb\" target=\"_parent\"><img src=\"https://colab.research.google.com/assets/colab-badge.svg\" alt=\"Open In Colab\"/></a>"
      ]
    },
    {
      "cell_type": "markdown",
      "metadata": {
        "id": "qhHxdIbdcR6p"
      },
      "source": [
        "<table align=\"left\">\n",
        "  <td>\n",
        "    <a target=\"_blank\" href=\"https://colab.research.google.com/github/harnalashok/deeplearning/blob/main/keras_functional.ipynb\"><img src=\"https://www.tensorflow.org/images/colab_logo_32px.png\" />Run in Google Colab</a>\n",
        "  </td>\n",
        "</table>"
      ]
    },
    {
      "cell_type": "code",
      "metadata": {
        "id": "VzHM-gho6Z4X"
      },
      "source": [
        "# Last amended: 17th Nov, 2022\n",
        "# Ref: Hands-On Machine Learningwith Scikit-Learn, Keras, and TensorFlow by Aurelien Geron\n",
        "#      Page: 308-312\n",
        "#\n",
        "#####################################\n",
        "# Engineering with NN architecture\n",
        "# Using keras functional API \n",
        "#####################################"
      ],
      "execution_count": null,
      "outputs": []
    },
    {
      "cell_type": "markdown",
      "metadata": {
        "id": "xn0n1a1ly2qd"
      },
      "source": [
        "# Functional Models\n",
        "See this [an excellent article](https://keras.io/guides/functional_api/) on Functional Modeling<br><br>\n",
        "The Keras functional API is a way to create models that are more flexible than the Sequential API. The functional API can handle models with non-linear sequence, shared layers, and even multiple inputs or outputs.\n",
        "\n",
        "The main idea is that a deep learning model is usually a graph  of layers. So the functional API is a way to build graphs of layers."
      ]
    },
    {
      "cell_type": "markdown",
      "metadata": {
        "id": "uUAr6R-qu2-O"
      },
      "source": [
        "## Call libraries\n"
      ]
    },
    {
      "cell_type": "code",
      "metadata": {
        "id": "AYl2nTZg7MRe"
      },
      "source": [
        "# 1.0 Import libraries\n",
        "import pandas as pd\n",
        "import numpy as np\n",
        "import os\n",
        "\n",
        "# 1.0.1 sklearn related\n",
        "from sklearn.preprocessing import StandardScaler\n",
        "from sklearn.preprocessing import LabelEncoder\n",
        "\n",
        "# 1.1 Import tensorflow/keras \n",
        "import tensorflow as tf\n",
        "from tensorflow.keras import layers\n",
        "#from tensorflow.keras.layers import Dense\n",
        "from tensorflow.keras.models import Model\n",
        "from tensorflow.keras.utils import plot_model"
      ],
      "execution_count": 4,
      "outputs": []
    },
    {
      "cell_type": "code",
      "metadata": {
        "id": "RtYhfSLVGVC_"
      },
      "source": [
        "# 1.2 Display multiple outputs from a Cell\n",
        "\n",
        "from IPython.core.interactiveshell import InteractiveShell\n",
        "InteractiveShell.ast_node_interactivity = \"all\"\n"
      ],
      "execution_count": 5,
      "outputs": []
    },
    {
      "cell_type": "markdown",
      "source": [
        "## Mount gdrive"
      ],
      "metadata": {
        "id": "2xGrrDGbzCan"
      }
    },
    {
      "cell_type": "code",
      "metadata": {
        "id": "xhrLTL9vZuF4",
        "colab": {
          "base_uri": "https://localhost:8080/"
        },
        "outputId": "ad240651-99bf-496c-d44b-2a317e61eda6"
      },
      "source": [
        "# 1.3 Mount google drive as /gdrive\n",
        "#     directly under root:\n",
        "\n",
        "from google.colab import drive\n",
        "drive.mount('/gdrive')"
      ],
      "execution_count": 7,
      "outputs": [
        {
          "output_type": "stream",
          "name": "stdout",
          "text": [
            "Mounted at /gdrive\n"
          ]
        }
      ]
    },
    {
      "cell_type": "markdown",
      "source": [
        "## Read Data"
      ],
      "metadata": {
        "id": "AGnjTc_YzFFv"
      }
    },
    {
      "cell_type": "code",
      "source": [
        "# 2.0 Path to folder having the data file:\n",
        "pathToFolder = \"/gdrive/MyDrive/Colab_data_files/big_data_mart/\"\n"
      ],
      "metadata": {
        "id": "ZAP838Fi3NfY"
      },
      "execution_count": 8,
      "outputs": []
    },
    {
      "cell_type": "code",
      "source": [
        "# 2.1 Read Data now:\n",
        "datafile = \"bigdatamart_train_corrected.csv\"\n",
        "data = pd.read_csv(pathToFolder + datafile)"
      ],
      "metadata": {
        "id": "SPqEFpWJ3-6x"
      },
      "execution_count": 9,
      "outputs": []
    },
    {
      "cell_type": "code",
      "source": [
        "# 2.2\n",
        "data.head()"
      ],
      "metadata": {
        "colab": {
          "base_uri": "https://localhost:8080/",
          "height": 357
        },
        "id": "BcGmfAi24HZD",
        "outputId": "8bcdbc2f-267c-41a6-9d8a-8c105c3ba2cd"
      },
      "execution_count": 10,
      "outputs": [
        {
          "output_type": "execute_result",
          "data": {
            "text/plain": [
              "  item_identifier  item_weight item_fat_content  item_visibility  \\\n",
              "0           FDA15         9.30          Low Fat         0.016047   \n",
              "1           DRC01         5.92          Regular         0.019278   \n",
              "2           FDN15        17.50          Low Fat         0.016760   \n",
              "3           FDX07        19.20          Regular         0.000000   \n",
              "4           NCD19         8.93          Low Fat         0.000000   \n",
              "\n",
              "               item_type  item_mrp outlet_identifier  \\\n",
              "0                  Dairy  249.8092            OUT049   \n",
              "1            Soft Drinks   48.2692            OUT018   \n",
              "2                   Meat  141.6180            OUT049   \n",
              "3  Fruits and Vegetables  182.0950            OUT010   \n",
              "4              Household   53.8614            OUT013   \n",
              "\n",
              "   outlet_establishment_year outlet_size outlet_location_type  \\\n",
              "0                       1999      Medium               Tier 1   \n",
              "1                       2009      Medium               Tier 3   \n",
              "2                       1999      Medium               Tier 1   \n",
              "3                       1998         NaN               Tier 3   \n",
              "4                       1987        High               Tier 3   \n",
              "\n",
              "         outlet_type  item_outlet_sales  \n",
              "0  Supermarket Type1          3735.1380  \n",
              "1  Supermarket Type2           443.4228  \n",
              "2  Supermarket Type1          2097.2700  \n",
              "3      Grocery Store           732.3800  \n",
              "4  Supermarket Type1           994.7052  "
            ],
            "text/html": [
              "\n",
              "  <div id=\"df-c73cb71c-14c9-4e10-8ecc-77708c2a8ad1\">\n",
              "    <div class=\"colab-df-container\">\n",
              "      <div>\n",
              "<style scoped>\n",
              "    .dataframe tbody tr th:only-of-type {\n",
              "        vertical-align: middle;\n",
              "    }\n",
              "\n",
              "    .dataframe tbody tr th {\n",
              "        vertical-align: top;\n",
              "    }\n",
              "\n",
              "    .dataframe thead th {\n",
              "        text-align: right;\n",
              "    }\n",
              "</style>\n",
              "<table border=\"1\" class=\"dataframe\">\n",
              "  <thead>\n",
              "    <tr style=\"text-align: right;\">\n",
              "      <th></th>\n",
              "      <th>item_identifier</th>\n",
              "      <th>item_weight</th>\n",
              "      <th>item_fat_content</th>\n",
              "      <th>item_visibility</th>\n",
              "      <th>item_type</th>\n",
              "      <th>item_mrp</th>\n",
              "      <th>outlet_identifier</th>\n",
              "      <th>outlet_establishment_year</th>\n",
              "      <th>outlet_size</th>\n",
              "      <th>outlet_location_type</th>\n",
              "      <th>outlet_type</th>\n",
              "      <th>item_outlet_sales</th>\n",
              "    </tr>\n",
              "  </thead>\n",
              "  <tbody>\n",
              "    <tr>\n",
              "      <th>0</th>\n",
              "      <td>FDA15</td>\n",
              "      <td>9.30</td>\n",
              "      <td>Low Fat</td>\n",
              "      <td>0.016047</td>\n",
              "      <td>Dairy</td>\n",
              "      <td>249.8092</td>\n",
              "      <td>OUT049</td>\n",
              "      <td>1999</td>\n",
              "      <td>Medium</td>\n",
              "      <td>Tier 1</td>\n",
              "      <td>Supermarket Type1</td>\n",
              "      <td>3735.1380</td>\n",
              "    </tr>\n",
              "    <tr>\n",
              "      <th>1</th>\n",
              "      <td>DRC01</td>\n",
              "      <td>5.92</td>\n",
              "      <td>Regular</td>\n",
              "      <td>0.019278</td>\n",
              "      <td>Soft Drinks</td>\n",
              "      <td>48.2692</td>\n",
              "      <td>OUT018</td>\n",
              "      <td>2009</td>\n",
              "      <td>Medium</td>\n",
              "      <td>Tier 3</td>\n",
              "      <td>Supermarket Type2</td>\n",
              "      <td>443.4228</td>\n",
              "    </tr>\n",
              "    <tr>\n",
              "      <th>2</th>\n",
              "      <td>FDN15</td>\n",
              "      <td>17.50</td>\n",
              "      <td>Low Fat</td>\n",
              "      <td>0.016760</td>\n",
              "      <td>Meat</td>\n",
              "      <td>141.6180</td>\n",
              "      <td>OUT049</td>\n",
              "      <td>1999</td>\n",
              "      <td>Medium</td>\n",
              "      <td>Tier 1</td>\n",
              "      <td>Supermarket Type1</td>\n",
              "      <td>2097.2700</td>\n",
              "    </tr>\n",
              "    <tr>\n",
              "      <th>3</th>\n",
              "      <td>FDX07</td>\n",
              "      <td>19.20</td>\n",
              "      <td>Regular</td>\n",
              "      <td>0.000000</td>\n",
              "      <td>Fruits and Vegetables</td>\n",
              "      <td>182.0950</td>\n",
              "      <td>OUT010</td>\n",
              "      <td>1998</td>\n",
              "      <td>NaN</td>\n",
              "      <td>Tier 3</td>\n",
              "      <td>Grocery Store</td>\n",
              "      <td>732.3800</td>\n",
              "    </tr>\n",
              "    <tr>\n",
              "      <th>4</th>\n",
              "      <td>NCD19</td>\n",
              "      <td>8.93</td>\n",
              "      <td>Low Fat</td>\n",
              "      <td>0.000000</td>\n",
              "      <td>Household</td>\n",
              "      <td>53.8614</td>\n",
              "      <td>OUT013</td>\n",
              "      <td>1987</td>\n",
              "      <td>High</td>\n",
              "      <td>Tier 3</td>\n",
              "      <td>Supermarket Type1</td>\n",
              "      <td>994.7052</td>\n",
              "    </tr>\n",
              "  </tbody>\n",
              "</table>\n",
              "</div>\n",
              "      <button class=\"colab-df-convert\" onclick=\"convertToInteractive('df-c73cb71c-14c9-4e10-8ecc-77708c2a8ad1')\"\n",
              "              title=\"Convert this dataframe to an interactive table.\"\n",
              "              style=\"display:none;\">\n",
              "        \n",
              "  <svg xmlns=\"http://www.w3.org/2000/svg\" height=\"24px\"viewBox=\"0 0 24 24\"\n",
              "       width=\"24px\">\n",
              "    <path d=\"M0 0h24v24H0V0z\" fill=\"none\"/>\n",
              "    <path d=\"M18.56 5.44l.94 2.06.94-2.06 2.06-.94-2.06-.94-.94-2.06-.94 2.06-2.06.94zm-11 1L8.5 8.5l.94-2.06 2.06-.94-2.06-.94L8.5 2.5l-.94 2.06-2.06.94zm10 10l.94 2.06.94-2.06 2.06-.94-2.06-.94-.94-2.06-.94 2.06-2.06.94z\"/><path d=\"M17.41 7.96l-1.37-1.37c-.4-.4-.92-.59-1.43-.59-.52 0-1.04.2-1.43.59L10.3 9.45l-7.72 7.72c-.78.78-.78 2.05 0 2.83L4 21.41c.39.39.9.59 1.41.59.51 0 1.02-.2 1.41-.59l7.78-7.78 2.81-2.81c.8-.78.8-2.07 0-2.86zM5.41 20L4 18.59l7.72-7.72 1.47 1.35L5.41 20z\"/>\n",
              "  </svg>\n",
              "      </button>\n",
              "      \n",
              "  <style>\n",
              "    .colab-df-container {\n",
              "      display:flex;\n",
              "      flex-wrap:wrap;\n",
              "      gap: 12px;\n",
              "    }\n",
              "\n",
              "    .colab-df-convert {\n",
              "      background-color: #E8F0FE;\n",
              "      border: none;\n",
              "      border-radius: 50%;\n",
              "      cursor: pointer;\n",
              "      display: none;\n",
              "      fill: #1967D2;\n",
              "      height: 32px;\n",
              "      padding: 0 0 0 0;\n",
              "      width: 32px;\n",
              "    }\n",
              "\n",
              "    .colab-df-convert:hover {\n",
              "      background-color: #E2EBFA;\n",
              "      box-shadow: 0px 1px 2px rgba(60, 64, 67, 0.3), 0px 1px 3px 1px rgba(60, 64, 67, 0.15);\n",
              "      fill: #174EA6;\n",
              "    }\n",
              "\n",
              "    [theme=dark] .colab-df-convert {\n",
              "      background-color: #3B4455;\n",
              "      fill: #D2E3FC;\n",
              "    }\n",
              "\n",
              "    [theme=dark] .colab-df-convert:hover {\n",
              "      background-color: #434B5C;\n",
              "      box-shadow: 0px 1px 3px 1px rgba(0, 0, 0, 0.15);\n",
              "      filter: drop-shadow(0px 1px 2px rgba(0, 0, 0, 0.3));\n",
              "      fill: #FFFFFF;\n",
              "    }\n",
              "  </style>\n",
              "\n",
              "      <script>\n",
              "        const buttonEl =\n",
              "          document.querySelector('#df-c73cb71c-14c9-4e10-8ecc-77708c2a8ad1 button.colab-df-convert');\n",
              "        buttonEl.style.display =\n",
              "          google.colab.kernel.accessAllowed ? 'block' : 'none';\n",
              "\n",
              "        async function convertToInteractive(key) {\n",
              "          const element = document.querySelector('#df-c73cb71c-14c9-4e10-8ecc-77708c2a8ad1');\n",
              "          const dataTable =\n",
              "            await google.colab.kernel.invokeFunction('convertToInteractive',\n",
              "                                                     [key], {});\n",
              "          if (!dataTable) return;\n",
              "\n",
              "          const docLinkHtml = 'Like what you see? Visit the ' +\n",
              "            '<a target=\"_blank\" href=https://colab.research.google.com/notebooks/data_table.ipynb>data table notebook</a>'\n",
              "            + ' to learn more about interactive tables.';\n",
              "          element.innerHTML = '';\n",
              "          dataTable['output_type'] = 'display_data';\n",
              "          await google.colab.output.renderOutput(dataTable, element);\n",
              "          const docLink = document.createElement('div');\n",
              "          docLink.innerHTML = docLinkHtml;\n",
              "          element.appendChild(docLink);\n",
              "        }\n",
              "      </script>\n",
              "    </div>\n",
              "  </div>\n",
              "  "
            ]
          },
          "metadata": {},
          "execution_count": 10
        }
      ]
    },
    {
      "cell_type": "markdown",
      "source": [
        "## Preprocess data"
      ],
      "metadata": {
        "id": "Q2I032VUzTeW"
      }
    },
    {
      "cell_type": "code",
      "source": [
        "# 3.0 Fill in missing values:\n",
        "\n",
        "data.isnull().sum()"
      ],
      "metadata": {
        "colab": {
          "base_uri": "https://localhost:8080/"
        },
        "id": "tiphAJRTzX0W",
        "outputId": "506440c2-9f68-4c5c-bb0d-da0bde40d28b"
      },
      "execution_count": 11,
      "outputs": [
        {
          "output_type": "execute_result",
          "data": {
            "text/plain": [
              "item_identifier                 0\n",
              "item_weight                  1463\n",
              "item_fat_content                0\n",
              "item_visibility                 0\n",
              "item_type                       0\n",
              "item_mrp                        0\n",
              "outlet_identifier               0\n",
              "outlet_establishment_year       0\n",
              "outlet_size                  2410\n",
              "outlet_location_type            0\n",
              "outlet_type                     0\n",
              "item_outlet_sales               0\n",
              "dtype: int64"
            ]
          },
          "metadata": {},
          "execution_count": 11
        }
      ]
    },
    {
      "cell_type": "code",
      "source": [
        "# 3.1 By median and by mode:\n",
        "\n",
        "data['item_weight'] = data['item_weight'].fillna(value = data['item_weight'].median())\n",
        "data['outlet_size'] = data['outlet_size'].fillna(value = 'Small')"
      ],
      "metadata": {
        "id": "Cx0xWieZzdo_"
      },
      "execution_count": 12,
      "outputs": []
    },
    {
      "cell_type": "code",
      "source": [
        "# 3.2 Check again:\n",
        "\n",
        "data.isnull().sum()"
      ],
      "metadata": {
        "colab": {
          "base_uri": "https://localhost:8080/"
        },
        "id": "ljxuIhwmzlZm",
        "outputId": "a2688320-9e3d-4bf4-ab77-26393f265f29"
      },
      "execution_count": 13,
      "outputs": [
        {
          "output_type": "execute_result",
          "data": {
            "text/plain": [
              "item_identifier              0\n",
              "item_weight                  0\n",
              "item_fat_content             0\n",
              "item_visibility              0\n",
              "item_type                    0\n",
              "item_mrp                     0\n",
              "outlet_identifier            0\n",
              "outlet_establishment_year    0\n",
              "outlet_size                  0\n",
              "outlet_location_type         0\n",
              "outlet_type                  0\n",
              "item_outlet_sales            0\n",
              "dtype: int64"
            ]
          },
          "metadata": {},
          "execution_count": 13
        }
      ]
    },
    {
      "cell_type": "code",
      "source": [
        "# 4.0 Transform cat to integers:\n",
        "#     First get value counts and unique values:\n",
        "\n",
        "data['item_fat_content'].value_counts()\n",
        "print(\"\\n=====\")\n",
        "data['outlet_size'].value_counts()\n",
        "print(\"\\n====\")\n",
        "data['outlet_type'].value_counts()\n",
        "print(\"\\n=====\")\n",
        "data['outlet_location_type'].value_counts()"
      ],
      "metadata": {
        "colab": {
          "base_uri": "https://localhost:8080/"
        },
        "id": "7kg1kxCX6Jef",
        "outputId": "2a41b696-dd09-4b7f-99f1-2156b523f8bf"
      },
      "execution_count": 14,
      "outputs": [
        {
          "output_type": "execute_result",
          "data": {
            "text/plain": [
              "Low Fat    5405\n",
              "Regular    3006\n",
              "low fat     112\n",
              "Name: item_fat_content, dtype: int64"
            ]
          },
          "metadata": {},
          "execution_count": 14
        },
        {
          "output_type": "stream",
          "name": "stdout",
          "text": [
            "\n",
            "=====\n"
          ]
        },
        {
          "output_type": "execute_result",
          "data": {
            "text/plain": [
              "Small     4798\n",
              "Medium    2793\n",
              "High       932\n",
              "Name: outlet_size, dtype: int64"
            ]
          },
          "metadata": {},
          "execution_count": 14
        },
        {
          "output_type": "stream",
          "name": "stdout",
          "text": [
            "\n",
            "====\n"
          ]
        },
        {
          "output_type": "execute_result",
          "data": {
            "text/plain": [
              "Supermarket Type1    5577\n",
              "Grocery Store        1083\n",
              "Supermarket Type3     935\n",
              "Supermarket Type2     928\n",
              "Name: outlet_type, dtype: int64"
            ]
          },
          "metadata": {},
          "execution_count": 14
        },
        {
          "output_type": "stream",
          "name": "stdout",
          "text": [
            "\n",
            "=====\n"
          ]
        },
        {
          "output_type": "execute_result",
          "data": {
            "text/plain": [
              "Tier 3    3350\n",
              "Tier 2    2785\n",
              "Tier 1    2388\n",
              "Name: outlet_location_type, dtype: int64"
            ]
          },
          "metadata": {},
          "execution_count": 14
        }
      ]
    },
    {
      "cell_type": "code",
      "source": [
        "# 4.1 Now map text to integers in various columns:\n",
        "\n",
        "data['item_fat_content'] = data['item_fat_content'].map(\n",
        "                                                         {\"Low Fat\" : 0, \"low fat\" : 0, \"Regular\": 1}\n",
        "                                                        )\n",
        "\n",
        "# 4.2\n",
        "data['outlet_size'] = data['outlet_size'].map(\n",
        "                                               {\"Medium\" : 1, \"Small\" : 0, \"High\" : 2}\n",
        "                                              )\n",
        "\n",
        "# 4.3\n",
        "data['outlet_type'] = data['outlet_type'].map(\n",
        "                                              {'Supermarket Type1': 0, 'Supermarket Type2' : 1, 'Supermarket Type3' : 2, 'Grocery Store' : 3}\n",
        "                                              )\n",
        "\n",
        "# 4.4\n",
        "data['outlet_location_type'] = data['outlet_location_type'].map(\n",
        "                                                                 {'Tier 1' : 0, 'Tier 2': 1, \"Tier 3\": 2}\n",
        "                                                                )"
      ],
      "metadata": {
        "id": "KIzCrcrW8sTx"
      },
      "execution_count": 15,
      "outputs": []
    },
    {
      "cell_type": "code",
      "source": [
        "# 4.5 Check?\n",
        "data.head()"
      ],
      "metadata": {
        "colab": {
          "base_uri": "https://localhost:8080/",
          "height": 287
        },
        "id": "ie4jYfdy-BE_",
        "outputId": "ac2daf15-6cf4-4b03-9847-3099c191fc88"
      },
      "execution_count": 16,
      "outputs": [
        {
          "output_type": "execute_result",
          "data": {
            "text/plain": [
              "  item_identifier  item_weight  item_fat_content  item_visibility  \\\n",
              "0           FDA15         9.30                 0         0.016047   \n",
              "1           DRC01         5.92                 1         0.019278   \n",
              "2           FDN15        17.50                 0         0.016760   \n",
              "3           FDX07        19.20                 1         0.000000   \n",
              "4           NCD19         8.93                 0         0.000000   \n",
              "\n",
              "               item_type  item_mrp outlet_identifier  \\\n",
              "0                  Dairy  249.8092            OUT049   \n",
              "1            Soft Drinks   48.2692            OUT018   \n",
              "2                   Meat  141.6180            OUT049   \n",
              "3  Fruits and Vegetables  182.0950            OUT010   \n",
              "4              Household   53.8614            OUT013   \n",
              "\n",
              "   outlet_establishment_year  outlet_size  outlet_location_type  outlet_type  \\\n",
              "0                       1999            1                     0            0   \n",
              "1                       2009            1                     2            1   \n",
              "2                       1999            1                     0            0   \n",
              "3                       1998            0                     2            3   \n",
              "4                       1987            2                     2            0   \n",
              "\n",
              "   item_outlet_sales  \n",
              "0          3735.1380  \n",
              "1           443.4228  \n",
              "2          2097.2700  \n",
              "3           732.3800  \n",
              "4           994.7052  "
            ],
            "text/html": [
              "\n",
              "  <div id=\"df-a9d1b099-18b4-44a4-8c28-95dbe6f99adf\">\n",
              "    <div class=\"colab-df-container\">\n",
              "      <div>\n",
              "<style scoped>\n",
              "    .dataframe tbody tr th:only-of-type {\n",
              "        vertical-align: middle;\n",
              "    }\n",
              "\n",
              "    .dataframe tbody tr th {\n",
              "        vertical-align: top;\n",
              "    }\n",
              "\n",
              "    .dataframe thead th {\n",
              "        text-align: right;\n",
              "    }\n",
              "</style>\n",
              "<table border=\"1\" class=\"dataframe\">\n",
              "  <thead>\n",
              "    <tr style=\"text-align: right;\">\n",
              "      <th></th>\n",
              "      <th>item_identifier</th>\n",
              "      <th>item_weight</th>\n",
              "      <th>item_fat_content</th>\n",
              "      <th>item_visibility</th>\n",
              "      <th>item_type</th>\n",
              "      <th>item_mrp</th>\n",
              "      <th>outlet_identifier</th>\n",
              "      <th>outlet_establishment_year</th>\n",
              "      <th>outlet_size</th>\n",
              "      <th>outlet_location_type</th>\n",
              "      <th>outlet_type</th>\n",
              "      <th>item_outlet_sales</th>\n",
              "    </tr>\n",
              "  </thead>\n",
              "  <tbody>\n",
              "    <tr>\n",
              "      <th>0</th>\n",
              "      <td>FDA15</td>\n",
              "      <td>9.30</td>\n",
              "      <td>0</td>\n",
              "      <td>0.016047</td>\n",
              "      <td>Dairy</td>\n",
              "      <td>249.8092</td>\n",
              "      <td>OUT049</td>\n",
              "      <td>1999</td>\n",
              "      <td>1</td>\n",
              "      <td>0</td>\n",
              "      <td>0</td>\n",
              "      <td>3735.1380</td>\n",
              "    </tr>\n",
              "    <tr>\n",
              "      <th>1</th>\n",
              "      <td>DRC01</td>\n",
              "      <td>5.92</td>\n",
              "      <td>1</td>\n",
              "      <td>0.019278</td>\n",
              "      <td>Soft Drinks</td>\n",
              "      <td>48.2692</td>\n",
              "      <td>OUT018</td>\n",
              "      <td>2009</td>\n",
              "      <td>1</td>\n",
              "      <td>2</td>\n",
              "      <td>1</td>\n",
              "      <td>443.4228</td>\n",
              "    </tr>\n",
              "    <tr>\n",
              "      <th>2</th>\n",
              "      <td>FDN15</td>\n",
              "      <td>17.50</td>\n",
              "      <td>0</td>\n",
              "      <td>0.016760</td>\n",
              "      <td>Meat</td>\n",
              "      <td>141.6180</td>\n",
              "      <td>OUT049</td>\n",
              "      <td>1999</td>\n",
              "      <td>1</td>\n",
              "      <td>0</td>\n",
              "      <td>0</td>\n",
              "      <td>2097.2700</td>\n",
              "    </tr>\n",
              "    <tr>\n",
              "      <th>3</th>\n",
              "      <td>FDX07</td>\n",
              "      <td>19.20</td>\n",
              "      <td>1</td>\n",
              "      <td>0.000000</td>\n",
              "      <td>Fruits and Vegetables</td>\n",
              "      <td>182.0950</td>\n",
              "      <td>OUT010</td>\n",
              "      <td>1998</td>\n",
              "      <td>0</td>\n",
              "      <td>2</td>\n",
              "      <td>3</td>\n",
              "      <td>732.3800</td>\n",
              "    </tr>\n",
              "    <tr>\n",
              "      <th>4</th>\n",
              "      <td>NCD19</td>\n",
              "      <td>8.93</td>\n",
              "      <td>0</td>\n",
              "      <td>0.000000</td>\n",
              "      <td>Household</td>\n",
              "      <td>53.8614</td>\n",
              "      <td>OUT013</td>\n",
              "      <td>1987</td>\n",
              "      <td>2</td>\n",
              "      <td>2</td>\n",
              "      <td>0</td>\n",
              "      <td>994.7052</td>\n",
              "    </tr>\n",
              "  </tbody>\n",
              "</table>\n",
              "</div>\n",
              "      <button class=\"colab-df-convert\" onclick=\"convertToInteractive('df-a9d1b099-18b4-44a4-8c28-95dbe6f99adf')\"\n",
              "              title=\"Convert this dataframe to an interactive table.\"\n",
              "              style=\"display:none;\">\n",
              "        \n",
              "  <svg xmlns=\"http://www.w3.org/2000/svg\" height=\"24px\"viewBox=\"0 0 24 24\"\n",
              "       width=\"24px\">\n",
              "    <path d=\"M0 0h24v24H0V0z\" fill=\"none\"/>\n",
              "    <path d=\"M18.56 5.44l.94 2.06.94-2.06 2.06-.94-2.06-.94-.94-2.06-.94 2.06-2.06.94zm-11 1L8.5 8.5l.94-2.06 2.06-.94-2.06-.94L8.5 2.5l-.94 2.06-2.06.94zm10 10l.94 2.06.94-2.06 2.06-.94-2.06-.94-.94-2.06-.94 2.06-2.06.94z\"/><path d=\"M17.41 7.96l-1.37-1.37c-.4-.4-.92-.59-1.43-.59-.52 0-1.04.2-1.43.59L10.3 9.45l-7.72 7.72c-.78.78-.78 2.05 0 2.83L4 21.41c.39.39.9.59 1.41.59.51 0 1.02-.2 1.41-.59l7.78-7.78 2.81-2.81c.8-.78.8-2.07 0-2.86zM5.41 20L4 18.59l7.72-7.72 1.47 1.35L5.41 20z\"/>\n",
              "  </svg>\n",
              "      </button>\n",
              "      \n",
              "  <style>\n",
              "    .colab-df-container {\n",
              "      display:flex;\n",
              "      flex-wrap:wrap;\n",
              "      gap: 12px;\n",
              "    }\n",
              "\n",
              "    .colab-df-convert {\n",
              "      background-color: #E8F0FE;\n",
              "      border: none;\n",
              "      border-radius: 50%;\n",
              "      cursor: pointer;\n",
              "      display: none;\n",
              "      fill: #1967D2;\n",
              "      height: 32px;\n",
              "      padding: 0 0 0 0;\n",
              "      width: 32px;\n",
              "    }\n",
              "\n",
              "    .colab-df-convert:hover {\n",
              "      background-color: #E2EBFA;\n",
              "      box-shadow: 0px 1px 2px rgba(60, 64, 67, 0.3), 0px 1px 3px 1px rgba(60, 64, 67, 0.15);\n",
              "      fill: #174EA6;\n",
              "    }\n",
              "\n",
              "    [theme=dark] .colab-df-convert {\n",
              "      background-color: #3B4455;\n",
              "      fill: #D2E3FC;\n",
              "    }\n",
              "\n",
              "    [theme=dark] .colab-df-convert:hover {\n",
              "      background-color: #434B5C;\n",
              "      box-shadow: 0px 1px 3px 1px rgba(0, 0, 0, 0.15);\n",
              "      filter: drop-shadow(0px 1px 2px rgba(0, 0, 0, 0.3));\n",
              "      fill: #FFFFFF;\n",
              "    }\n",
              "  </style>\n",
              "\n",
              "      <script>\n",
              "        const buttonEl =\n",
              "          document.querySelector('#df-a9d1b099-18b4-44a4-8c28-95dbe6f99adf button.colab-df-convert');\n",
              "        buttonEl.style.display =\n",
              "          google.colab.kernel.accessAllowed ? 'block' : 'none';\n",
              "\n",
              "        async function convertToInteractive(key) {\n",
              "          const element = document.querySelector('#df-a9d1b099-18b4-44a4-8c28-95dbe6f99adf');\n",
              "          const dataTable =\n",
              "            await google.colab.kernel.invokeFunction('convertToInteractive',\n",
              "                                                     [key], {});\n",
              "          if (!dataTable) return;\n",
              "\n",
              "          const docLinkHtml = 'Like what you see? Visit the ' +\n",
              "            '<a target=\"_blank\" href=https://colab.research.google.com/notebooks/data_table.ipynb>data table notebook</a>'\n",
              "            + ' to learn more about interactive tables.';\n",
              "          element.innerHTML = '';\n",
              "          dataTable['output_type'] = 'display_data';\n",
              "          await google.colab.output.renderOutput(dataTable, element);\n",
              "          const docLink = document.createElement('div');\n",
              "          docLink.innerHTML = docLinkHtml;\n",
              "          element.appendChild(docLink);\n",
              "        }\n",
              "      </script>\n",
              "    </div>\n",
              "  </div>\n",
              "  "
            ]
          },
          "metadata": {},
          "execution_count": 16
        }
      ]
    },
    {
      "cell_type": "code",
      "source": [
        "# 5.0 Drop two columns:\n",
        "\n",
        "data.drop(columns = ['item_type', 'outlet_identifier'], inplace = True)"
      ],
      "metadata": {
        "id": "D_G1goXMBseg"
      },
      "execution_count": 17,
      "outputs": []
    },
    {
      "cell_type": "code",
      "source": [
        "# 6.0 Label encode 'item_identifier':\n",
        "#     It has very large number of unique levels/text values:\n",
        "\n",
        "le = LabelEncoder()\n",
        "data['item_identifier'] = le.fit_transform(data['item_identifier'])"
      ],
      "metadata": {
        "id": "bTkKtMvVRTfG"
      },
      "execution_count": 18,
      "outputs": []
    },
    {
      "cell_type": "code",
      "source": [
        "# 6.1 Seperate target (y), 'item_identifier', and rest (X):\n",
        "\n",
        "y = data.pop('item_outlet_sales')   # Target\n",
        "X1 = data.pop('item_identifier')    # cat feature\n",
        "X = data                            # Rest of data (numeric data)"
      ],
      "metadata": {
        "id": "cqTrOSL3B6d_"
      },
      "execution_count": 19,
      "outputs": []
    },
    {
      "cell_type": "code",
      "source": [
        "# 6.2\n",
        "X.shape\n",
        "X1.shape\n",
        "y.shape"
      ],
      "metadata": {
        "id": "K2ImVrVICRHp",
        "colab": {
          "base_uri": "https://localhost:8080/"
        },
        "outputId": "2fa5fdcd-2dbc-4e38-e9f3-6ed8308a2a40"
      },
      "execution_count": 20,
      "outputs": [
        {
          "output_type": "execute_result",
          "data": {
            "text/plain": [
              "(8523, 8)"
            ]
          },
          "metadata": {},
          "execution_count": 20
        },
        {
          "output_type": "execute_result",
          "data": {
            "text/plain": [
              "(8523,)"
            ]
          },
          "metadata": {},
          "execution_count": 20
        },
        {
          "output_type": "execute_result",
          "data": {
            "text/plain": [
              "(8523,)"
            ]
          },
          "metadata": {},
          "execution_count": 20
        }
      ]
    },
    {
      "cell_type": "code",
      "source": [
        "# 6.3:\n",
        "\n",
        "X.head(2)\n",
        "print(\"\\n====\")\n",
        "X1.head(2)\n",
        "print(\"\\n====\")\n",
        "y.head(2)"
      ],
      "metadata": {
        "colab": {
          "base_uri": "https://localhost:8080/",
          "height": 513
        },
        "id": "6qd5WmkUDBmJ",
        "outputId": "978243fc-9f9c-4c5a-d3b3-1ffd4892f23e"
      },
      "execution_count": 21,
      "outputs": [
        {
          "output_type": "execute_result",
          "data": {
            "text/plain": [
              "   item_weight  item_fat_content  item_visibility  item_mrp  \\\n",
              "0         9.30                 0         0.016047  249.8092   \n",
              "1         5.92                 1         0.019278   48.2692   \n",
              "\n",
              "   outlet_establishment_year  outlet_size  outlet_location_type  outlet_type  \n",
              "0                       1999            1                     0            0  \n",
              "1                       2009            1                     2            1  "
            ],
            "text/html": [
              "\n",
              "  <div id=\"df-4421f0ca-3fd5-4ad1-ad1b-34fd2f79da18\">\n",
              "    <div class=\"colab-df-container\">\n",
              "      <div>\n",
              "<style scoped>\n",
              "    .dataframe tbody tr th:only-of-type {\n",
              "        vertical-align: middle;\n",
              "    }\n",
              "\n",
              "    .dataframe tbody tr th {\n",
              "        vertical-align: top;\n",
              "    }\n",
              "\n",
              "    .dataframe thead th {\n",
              "        text-align: right;\n",
              "    }\n",
              "</style>\n",
              "<table border=\"1\" class=\"dataframe\">\n",
              "  <thead>\n",
              "    <tr style=\"text-align: right;\">\n",
              "      <th></th>\n",
              "      <th>item_weight</th>\n",
              "      <th>item_fat_content</th>\n",
              "      <th>item_visibility</th>\n",
              "      <th>item_mrp</th>\n",
              "      <th>outlet_establishment_year</th>\n",
              "      <th>outlet_size</th>\n",
              "      <th>outlet_location_type</th>\n",
              "      <th>outlet_type</th>\n",
              "    </tr>\n",
              "  </thead>\n",
              "  <tbody>\n",
              "    <tr>\n",
              "      <th>0</th>\n",
              "      <td>9.30</td>\n",
              "      <td>0</td>\n",
              "      <td>0.016047</td>\n",
              "      <td>249.8092</td>\n",
              "      <td>1999</td>\n",
              "      <td>1</td>\n",
              "      <td>0</td>\n",
              "      <td>0</td>\n",
              "    </tr>\n",
              "    <tr>\n",
              "      <th>1</th>\n",
              "      <td>5.92</td>\n",
              "      <td>1</td>\n",
              "      <td>0.019278</td>\n",
              "      <td>48.2692</td>\n",
              "      <td>2009</td>\n",
              "      <td>1</td>\n",
              "      <td>2</td>\n",
              "      <td>1</td>\n",
              "    </tr>\n",
              "  </tbody>\n",
              "</table>\n",
              "</div>\n",
              "      <button class=\"colab-df-convert\" onclick=\"convertToInteractive('df-4421f0ca-3fd5-4ad1-ad1b-34fd2f79da18')\"\n",
              "              title=\"Convert this dataframe to an interactive table.\"\n",
              "              style=\"display:none;\">\n",
              "        \n",
              "  <svg xmlns=\"http://www.w3.org/2000/svg\" height=\"24px\"viewBox=\"0 0 24 24\"\n",
              "       width=\"24px\">\n",
              "    <path d=\"M0 0h24v24H0V0z\" fill=\"none\"/>\n",
              "    <path d=\"M18.56 5.44l.94 2.06.94-2.06 2.06-.94-2.06-.94-.94-2.06-.94 2.06-2.06.94zm-11 1L8.5 8.5l.94-2.06 2.06-.94-2.06-.94L8.5 2.5l-.94 2.06-2.06.94zm10 10l.94 2.06.94-2.06 2.06-.94-2.06-.94-.94-2.06-.94 2.06-2.06.94z\"/><path d=\"M17.41 7.96l-1.37-1.37c-.4-.4-.92-.59-1.43-.59-.52 0-1.04.2-1.43.59L10.3 9.45l-7.72 7.72c-.78.78-.78 2.05 0 2.83L4 21.41c.39.39.9.59 1.41.59.51 0 1.02-.2 1.41-.59l7.78-7.78 2.81-2.81c.8-.78.8-2.07 0-2.86zM5.41 20L4 18.59l7.72-7.72 1.47 1.35L5.41 20z\"/>\n",
              "  </svg>\n",
              "      </button>\n",
              "      \n",
              "  <style>\n",
              "    .colab-df-container {\n",
              "      display:flex;\n",
              "      flex-wrap:wrap;\n",
              "      gap: 12px;\n",
              "    }\n",
              "\n",
              "    .colab-df-convert {\n",
              "      background-color: #E8F0FE;\n",
              "      border: none;\n",
              "      border-radius: 50%;\n",
              "      cursor: pointer;\n",
              "      display: none;\n",
              "      fill: #1967D2;\n",
              "      height: 32px;\n",
              "      padding: 0 0 0 0;\n",
              "      width: 32px;\n",
              "    }\n",
              "\n",
              "    .colab-df-convert:hover {\n",
              "      background-color: #E2EBFA;\n",
              "      box-shadow: 0px 1px 2px rgba(60, 64, 67, 0.3), 0px 1px 3px 1px rgba(60, 64, 67, 0.15);\n",
              "      fill: #174EA6;\n",
              "    }\n",
              "\n",
              "    [theme=dark] .colab-df-convert {\n",
              "      background-color: #3B4455;\n",
              "      fill: #D2E3FC;\n",
              "    }\n",
              "\n",
              "    [theme=dark] .colab-df-convert:hover {\n",
              "      background-color: #434B5C;\n",
              "      box-shadow: 0px 1px 3px 1px rgba(0, 0, 0, 0.15);\n",
              "      filter: drop-shadow(0px 1px 2px rgba(0, 0, 0, 0.3));\n",
              "      fill: #FFFFFF;\n",
              "    }\n",
              "  </style>\n",
              "\n",
              "      <script>\n",
              "        const buttonEl =\n",
              "          document.querySelector('#df-4421f0ca-3fd5-4ad1-ad1b-34fd2f79da18 button.colab-df-convert');\n",
              "        buttonEl.style.display =\n",
              "          google.colab.kernel.accessAllowed ? 'block' : 'none';\n",
              "\n",
              "        async function convertToInteractive(key) {\n",
              "          const element = document.querySelector('#df-4421f0ca-3fd5-4ad1-ad1b-34fd2f79da18');\n",
              "          const dataTable =\n",
              "            await google.colab.kernel.invokeFunction('convertToInteractive',\n",
              "                                                     [key], {});\n",
              "          if (!dataTable) return;\n",
              "\n",
              "          const docLinkHtml = 'Like what you see? Visit the ' +\n",
              "            '<a target=\"_blank\" href=https://colab.research.google.com/notebooks/data_table.ipynb>data table notebook</a>'\n",
              "            + ' to learn more about interactive tables.';\n",
              "          element.innerHTML = '';\n",
              "          dataTable['output_type'] = 'display_data';\n",
              "          await google.colab.output.renderOutput(dataTable, element);\n",
              "          const docLink = document.createElement('div');\n",
              "          docLink.innerHTML = docLinkHtml;\n",
              "          element.appendChild(docLink);\n",
              "        }\n",
              "      </script>\n",
              "    </div>\n",
              "  </div>\n",
              "  "
            ]
          },
          "metadata": {},
          "execution_count": 21
        },
        {
          "output_type": "stream",
          "name": "stdout",
          "text": [
            "\n",
            "====\n"
          ]
        },
        {
          "output_type": "execute_result",
          "data": {
            "text/plain": [
              "0    156\n",
              "1      8\n",
              "Name: item_identifier, dtype: int64"
            ]
          },
          "metadata": {},
          "execution_count": 21
        },
        {
          "output_type": "stream",
          "name": "stdout",
          "text": [
            "\n",
            "====\n"
          ]
        },
        {
          "output_type": "execute_result",
          "data": {
            "text/plain": [
              "0    3735.1380\n",
              "1     443.4228\n",
              "Name: item_outlet_sales, dtype: float64"
            ]
          },
          "metadata": {},
          "execution_count": 21
        }
      ]
    },
    {
      "cell_type": "markdown",
      "source": [
        "## Some contants:"
      ],
      "metadata": {
        "id": "UYH1U4ns2dI-"
      }
    },
    {
      "cell_type": "code",
      "source": [
        "# 7.0\n",
        "vocab_size = X1.nunique()\n",
        "max_seq_length = 1"
      ],
      "metadata": {
        "id": "Cd2Suvc8NuvH"
      },
      "execution_count": 22,
      "outputs": []
    },
    {
      "cell_type": "markdown",
      "source": [
        "## Normalize X"
      ],
      "metadata": {
        "id": "0uEl_Bge2jpI"
      }
    },
    {
      "cell_type": "code",
      "source": [
        "# 8.0 Normalize X\n",
        "ss = StandardScaler()\n",
        "X = ss.fit_transform(X)"
      ],
      "metadata": {
        "id": "kNHI1CvtCQ9f"
      },
      "execution_count": 23,
      "outputs": []
    },
    {
      "cell_type": "markdown",
      "source": [
        "## Design model"
      ],
      "metadata": {
        "id": "8wRiWaJk2zfl"
      }
    },
    {
      "cell_type": "markdown",
      "source": [
        "![image.png](data:image/png;base64,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)"
      ],
      "metadata": {
        "id": "l4vkm0Ba57xW"
      }
    },
    {
      "cell_type": "markdown",
      "source": [
        "## Model"
      ],
      "metadata": {
        "id": "Uki6YLySDC0w"
      }
    },
    {
      "cell_type": "code",
      "source": [
        "# 9.0 Two inputs:\n",
        "input1 = tf.keras.Input(shape = (8,1))\n",
        "input2 = tf.keras.Input(shape = (1,))"
      ],
      "metadata": {
        "id": "PMbu8oj3CQtf"
      },
      "execution_count": 24,
      "outputs": []
    },
    {
      "cell_type": "code",
      "source": [
        "# 9.1\n",
        "left = tf.keras.layers.Conv1D(32,3, activation = 'relu')(input1)\n",
        "right =tf.keras.layers.Embedding(\n",
        "                                input_dim = vocab_size,\n",
        "                                 output_dim = 16\n",
        "                                 )(input2)"
      ],
      "metadata": {
        "id": "bGTNiDVwNLNf"
      },
      "execution_count": 25,
      "outputs": []
    },
    {
      "cell_type": "code",
      "source": [
        "# 9.2 Flatten and concatenate:\n",
        "out = tf.keras.layers.concatenate([\n",
        "                                    tf.keras.layers.Flatten()(left),\n",
        "                                    tf.keras.layers.Flatten()(right)\n",
        "                                   ])"
      ],
      "metadata": {
        "id": "qcDyQQgvN8Sv"
      },
      "execution_count": 26,
      "outputs": []
    },
    {
      "cell_type": "code",
      "source": [
        "# 10.0 Regression layer:\n",
        "out = tf.keras.layers.Dense(32,activation = 'relu')(out)\n",
        "out = tf.keras.layers.Dense(1, activation = 'sigmoid')(out)\n"
      ],
      "metadata": {
        "id": "LRy8mq98PS1-"
      },
      "execution_count": 27,
      "outputs": []
    },
    {
      "cell_type": "code",
      "source": [
        "# 10.1 Our model:\n",
        "model = Model(inputs = [input1,input2], outputs = [out])"
      ],
      "metadata": {
        "id": "Ro77EUYUP9og"
      },
      "execution_count": 28,
      "outputs": []
    },
    {
      "cell_type": "code",
      "source": [
        "# 10.2 Plot model now:\n",
        "plot_model(model, show_shapes= True)"
      ],
      "metadata": {
        "colab": {
          "base_uri": "https://localhost:8080/",
          "height": 644
        },
        "id": "RiwrgECIQNKf",
        "outputId": "d9d0c951-6bcd-4525-b586-f8db8fa00471"
      },
      "execution_count": 29,
      "outputs": [
        {
          "output_type": "execute_result",
          "data": {
            "image/png": "[encoded data removed]",
            "text/plain": [
              "<IPython.core.display.Image object>"
            ]
          },
          "metadata": {},
          "execution_count": 29
        }
      ]
    },
    {
      "cell_type": "code",
      "source": [
        "# 11.0 Compile model\n",
        "model.compile(\n",
        "                 loss = \"mean_squared_error\",\n",
        "                 optimizer='adam'\n",
        "              )  \n",
        "\n",
        "# 11.1 And fit:\n",
        "history = model.fit(\n",
        "                    [X,X1],\n",
        "                    y,\n",
        "                    epochs = 50,\n",
        "                    validation_split = 0.2,\n",
        "                    verbose = 1\n",
        "                    )"
      ],
      "metadata": {
        "colab": {
          "base_uri": "https://localhost:8080/"
        },
        "id": "38sQfNUFQcgZ",
        "outputId": "ef6f226f-3c7e-4258-f4e3-df928d2323c7"
      },
      "execution_count": 31,
      "outputs": [
        {
          "output_type": "stream",
          "name": "stdout",
          "text": [
            "Epoch 1/50\n",
            "214/214 [==============================] - 1s 2ms/step - loss: 7659680.5000 - val_loss: 7689555.5000\n",
            "Epoch 2/50\n",
            "214/214 [==============================] - 0s 2ms/step - loss: 7659436.5000 - val_loss: 7689553.5000\n",
            "Epoch 3/50\n",
            "214/214 [==============================] - 0s 2ms/step - loss: 7659435.5000 - val_loss: 7689553.0000\n",
            "Epoch 4/50\n",
            "214/214 [==============================] - 0s 2ms/step - loss: 7659434.0000 - val_loss: 7689553.0000\n",
            "Epoch 5/50\n",
            "214/214 [==============================] - 0s 2ms/step - loss: 7659430.5000 - val_loss: 7689553.0000\n",
            "Epoch 6/50\n",
            "214/214 [==============================] - 0s 2ms/step - loss: 7659434.0000 - val_loss: 7689553.0000\n",
            "Epoch 7/50\n",
            "214/214 [==============================] - 0s 2ms/step - loss: 7659433.0000 - val_loss: 7689553.0000\n",
            "Epoch 8/50\n",
            "214/214 [==============================] - 0s 2ms/step - loss: 7659433.5000 - val_loss: 7689553.0000\n",
            "Epoch 9/50\n",
            "214/214 [==============================] - 0s 2ms/step - loss: 7659433.0000 - val_loss: 7689553.0000\n",
            "Epoch 10/50\n",
            "214/214 [==============================] - 0s 2ms/step - loss: 7659430.5000 - val_loss: 7689553.0000\n",
            "Epoch 11/50\n",
            "214/214 [==============================] - 0s 2ms/step - loss: 7659435.5000 - val_loss: 7689553.0000\n",
            "Epoch 12/50\n",
            "214/214 [==============================] - 0s 2ms/step - loss: 7659433.0000 - val_loss: 7689553.0000\n",
            "Epoch 13/50\n",
            "214/214 [==============================] - 0s 2ms/step - loss: 7659434.5000 - val_loss: 7689553.0000\n",
            "Epoch 14/50\n",
            "214/214 [==============================] - 0s 2ms/step - loss: 7659431.0000 - val_loss: 7689553.0000\n",
            "Epoch 15/50\n",
            "214/214 [==============================] - 0s 2ms/step - loss: 7659436.0000 - val_loss: 7689553.0000\n",
            "Epoch 16/50\n",
            "214/214 [==============================] - 0s 2ms/step - loss: 7659434.0000 - val_loss: 7689553.0000\n",
            "Epoch 17/50\n",
            "214/214 [==============================] - 0s 2ms/step - loss: 7659432.5000 - val_loss: 7689553.0000\n",
            "Epoch 18/50\n",
            "214/214 [==============================] - 0s 2ms/step - loss: 7659434.0000 - val_loss: 7689553.0000\n",
            "Epoch 19/50\n",
            "214/214 [==============================] - 0s 2ms/step - loss: 7659436.0000 - val_loss: 7689553.0000\n",
            "Epoch 20/50\n",
            "214/214 [==============================] - 0s 2ms/step - loss: 7659436.0000 - val_loss: 7689553.0000\n",
            "Epoch 21/50\n",
            "214/214 [==============================] - 0s 2ms/step - loss: 7659433.0000 - val_loss: 7689553.0000\n",
            "Epoch 22/50\n",
            "214/214 [==============================] - 0s 2ms/step - loss: 7659434.5000 - val_loss: 7689553.0000\n",
            "Epoch 23/50\n",
            "214/214 [==============================] - 0s 2ms/step - loss: 7659430.5000 - val_loss: 7689553.0000\n",
            "Epoch 24/50\n",
            "214/214 [==============================] - 0s 2ms/step - loss: 7659433.5000 - val_loss: 7689553.0000\n",
            "Epoch 25/50\n",
            "214/214 [==============================] - 0s 2ms/step - loss: 7659434.5000 - val_loss: 7689553.0000\n",
            "Epoch 26/50\n",
            "214/214 [==============================] - 0s 2ms/step - loss: 7659432.5000 - val_loss: 7689553.0000\n",
            "Epoch 27/50\n",
            "214/214 [==============================] - 0s 2ms/step - loss: 7659431.5000 - val_loss: 7689553.0000\n",
            "Epoch 28/50\n",
            "214/214 [==============================] - 0s 2ms/step - loss: 7659433.0000 - val_loss: 7689553.0000\n",
            "Epoch 29/50\n",
            "214/214 [==============================] - 0s 2ms/step - loss: 7659435.5000 - val_loss: 7689553.0000\n",
            "Epoch 30/50\n",
            "214/214 [==============================] - 0s 2ms/step - loss: 7659436.0000 - val_loss: 7689553.0000\n",
            "Epoch 31/50\n",
            "214/214 [==============================] - 0s 2ms/step - loss: 7659434.5000 - val_loss: 7689553.0000\n",
            "Epoch 32/50\n",
            "214/214 [==============================] - 0s 2ms/step - loss: 7659431.0000 - val_loss: 7689553.0000\n",
            "Epoch 33/50\n",
            "214/214 [==============================] - 0s 2ms/step - loss: 7659436.5000 - val_loss: 7689553.0000\n",
            "Epoch 34/50\n",
            "214/214 [==============================] - 0s 2ms/step - loss: 7659435.5000 - val_loss: 7689553.0000\n",
            "Epoch 35/50\n",
            "214/214 [==============================] - 0s 2ms/step - loss: 7659433.5000 - val_loss: 7689553.0000\n",
            "Epoch 36/50\n",
            "214/214 [==============================] - 0s 2ms/step - loss: 7659434.5000 - val_loss: 7689553.0000\n",
            "Epoch 37/50\n",
            "214/214 [==============================] - 0s 2ms/step - loss: 7659431.5000 - val_loss: 7689553.0000\n",
            "Epoch 38/50\n",
            "214/214 [==============================] - 0s 2ms/step - loss: 7659434.5000 - val_loss: 7689553.0000\n",
            "Epoch 39/50\n",
            "214/214 [==============================] - 1s 2ms/step - loss: 7659433.0000 - val_loss: 7689553.0000\n",
            "Epoch 40/50\n",
            "214/214 [==============================] - 0s 2ms/step - loss: 7659432.5000 - val_loss: 7689553.0000\n",
            "Epoch 41/50\n",
            "214/214 [==============================] - 1s 2ms/step - loss: 7659433.0000 - val_loss: 7689553.0000\n",
            "Epoch 42/50\n",
            "214/214 [==============================] - 1s 3ms/step - loss: 7659434.0000 - val_loss: 7689553.0000\n",
            "Epoch 43/50\n",
            "214/214 [==============================] - 1s 3ms/step - loss: 7659434.0000 - val_loss: 7689553.0000\n",
            "Epoch 44/50\n",
            "214/214 [==============================] - 0s 2ms/step - loss: 7659433.0000 - val_loss: 7689553.0000\n",
            "Epoch 45/50\n",
            "214/214 [==============================] - 0s 2ms/step - loss: 7659435.5000 - val_loss: 7689553.0000\n",
            "Epoch 46/50\n",
            "214/214 [==============================] - 0s 2ms/step - loss: 7659431.5000 - val_loss: 7689553.0000\n",
            "Epoch 47/50\n",
            "214/214 [==============================] - 0s 2ms/step - loss: 7659432.5000 - val_loss: 7689553.0000\n",
            "Epoch 48/50\n",
            "214/214 [==============================] - 0s 2ms/step - loss: 7659431.5000 - val_loss: 7689553.0000\n",
            "Epoch 49/50\n",
            "214/214 [==============================] - 0s 2ms/step - loss: 7659432.5000 - val_loss: 7689553.0000\n",
            "Epoch 50/50\n",
            "214/214 [==============================] - 0s 2ms/step - loss: 7659434.0000 - val_loss: 7689553.0000\n"
          ]
        }
      ]
    },
    {
      "cell_type": "code",
      "source": [
        "############## I am done ####################"
      ],
      "metadata": {
        "id": "D6V2FX62Dk-t"
      },
      "execution_count": null,
      "outputs": []
    }
  ]
}