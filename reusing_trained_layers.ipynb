{
  "nbformat": 4,
  "nbformat_minor": 0,
  "metadata": {
    "colab": {
      "name": "reusing_trained_layers.ipynb",
      "provenance": [],
      "collapsed_sections": [],
      "include_colab_link": true
    },
    "kernelspec": {
      "name": "python3",
      "display_name": "Python 3"
    }
  },
  "cells": [
    {
      "cell_type": "markdown",
      "metadata": {
        "id": "view-in-github",
        "colab_type": "text"
      },
      "source": [
        "<a href=\"https://colab.research.google.com/github/harnalashok/deeplearning/blob/main/reusing_trained_layers.ipynb\" target=\"_parent\"><img src=\"https://colab.research.google.com/assets/colab-badge.svg\" alt=\"Open In Colab\"/></a>"
      ]
    },
    {
      "cell_type": "code",
      "metadata": {
        "id": "VvpB84DaKX4u"
      },
      "source": [
        "# Last amended: 26th January, 2021\r\n",
        "# My folder: https://github.com/harnalashok/deeplearning\r\n",
        "# Objective: \r\n",
        "#             i) Reuse layers from one neural network in another.\r\n",
        "#             ii)Ist model was trained using a different set of \r\n",
        "#                class labels than present in the IInd case\r\n",
        "#\r\n",
        "# Ref:\r\n",
        "#      Aurelien Book: Page 347 \r\n",
        "#      Save and Laod models: https://www.tensorflow.org/guide/keras/save_and_serialize"
      ],
      "execution_count": null,
      "outputs": []
    },
    {
      "cell_type": "markdown",
      "metadata": {
        "id": "qxapacOVT7Ha"
      },
      "source": [
        "**Problem**<br>\r\n",
        "We will take fashion-mnist data. This data contains ten items. We will filter out data for two of the items--shirts and sandals. Prepare a predictive model with remaining eight items.<br>\r\n",
        "After predictive model is made, we will use the trained layers of this model in another NN model to make predictions for the remaining two items. That is, we will reuse trained layers from the first model in the IInd model."
      ]
    },
    {
      "cell_type": "markdown",
      "metadata": {
        "id": "gJ9mmKIODM4u"
      },
      "source": [
        "The following paragraph from Aurelien's book (page 349) is worth noting:<br>\r\n",
        "> Transfer learning does not work very well with small dense networks: it works best with deep convolutional neural networks. Presumably becuase small netwirks learn few patterns and dense networks learn specific patterns. These specific patterns are unlikely to be useful im many other situations.Transfer learning works best with deep convolutional networks.\r\n",
        "\r\n",
        "\r\n"
      ]
    },
    {
      "cell_type": "code",
      "metadata": {
        "id": "7_s135n0GDcC"
      },
      "source": [
        "# 1.0 Call libraries\r\n",
        "import tensorflow as tf\r\n",
        "from tensorflow import keras\r\n",
        "from keras.models import Model\r\n",
        "from tensorflow.keras.datasets import fashion_mnist\r\n",
        "from tensorflow.keras.utils import plot_model\r\n",
        "import numpy as np"
      ],
      "execution_count": 3,
      "outputs": []
    },
    {
      "cell_type": "code",
      "metadata": {
        "id": "Gp-WDNu5QFh0"
      },
      "source": [
        "# 1.1 Display multiple commands outputs from a cell\r\n",
        "from IPython.core.interactiveshell import InteractiveShell\r\n",
        "InteractiveShell.ast_node_interactivity = \"all\""
      ],
      "execution_count": 4,
      "outputs": []
    },
    {
      "cell_type": "code",
      "metadata": {
        "id": "MQuyjharJt7q",
        "colab": {
          "base_uri": "https://localhost:8080/"
        },
        "outputId": "ad4d192a-c75d-4127-a935-91bf80e9a590"
      },
      "source": [
        "# 2.0 Get split data\r\n",
        "(X_train, y_train), (X_test,y_test) = fashion_mnist.load_data()"
      ],
      "execution_count": 5,
      "outputs": [
        {
          "output_type": "stream",
          "text": [
            "Downloading data from https://storage.googleapis.com/tensorflow/tf-keras-datasets/train-labels-idx1-ubyte.gz\n",
            "32768/29515 [=================================] - 0s 0us/step\n",
            "Downloading data from https://storage.googleapis.com/tensorflow/tf-keras-datasets/train-images-idx3-ubyte.gz\n",
            "26427392/26421880 [==============================] - 0s 0us/step\n",
            "Downloading data from https://storage.googleapis.com/tensorflow/tf-keras-datasets/t10k-labels-idx1-ubyte.gz\n",
            "8192/5148 [===============================================] - 0s 0us/step\n",
            "Downloading data from https://storage.googleapis.com/tensorflow/tf-keras-datasets/t10k-images-idx3-ubyte.gz\n",
            "4423680/4422102 [==============================] - 0s 0us/step\n"
          ],
          "name": "stdout"
        }
      ]
    },
    {
      "cell_type": "code",
      "metadata": {
        "id": "1MFwLf5LNeOl",
        "colab": {
          "base_uri": "https://localhost:8080/"
        },
        "outputId": "13660ec0-5c86-488c-8a3d-2f1ca2ee6283"
      },
      "source": [
        "# 2.1 Shape of train data\r\n",
        "X_train.shape    # (60000, 28, 28)\r\n",
        "y_train.shape    # (60000,)"
      ],
      "execution_count": 6,
      "outputs": [
        {
          "output_type": "execute_result",
          "data": {
            "text/plain": [
              "(60000, 28, 28)"
            ]
          },
          "metadata": {
            "tags": []
          },
          "execution_count": 6
        },
        {
          "output_type": "execute_result",
          "data": {
            "text/plain": [
              "(60000,)"
            ]
          },
          "metadata": {
            "tags": []
          },
          "execution_count": 6
        }
      ]
    },
    {
      "cell_type": "code",
      "metadata": {
        "id": "nMwOvAVgKcYW"
      },
      "source": [
        "# 2.2 Fashion items\r\n",
        "items = [\"T-shirt/top\", \"Trouser\", \"Pullover\", \"Dress\", \"Coat\", \"Sandal\", \"Shirt\", \"Sneaker\", \"Bag\", \"Ankle boot\"]"
      ],
      "execution_count": 7,
      "outputs": []
    },
    {
      "cell_type": "code",
      "metadata": {
        "id": "zH2WT77QLBMB"
      },
      "source": [
        "# 2.3 Normalise train/test data\r\n",
        "X_train = X_train/255.0\r\n",
        "X_test = X_test/255.0"
      ],
      "execution_count": 8,
      "outputs": []
    },
    {
      "cell_type": "code",
      "metadata": {
        "id": "rFRzSmZdMwji",
        "colab": {
          "base_uri": "https://localhost:8080/"
        },
        "outputId": "275ef1a9-cce8-425d-91c1-46ea49619c1a"
      },
      "source": [
        "# 2.4 We filter our data further\r\n",
        "#     Put Shirts and Sandals in one dataset\r\n",
        "#     And remaining 8 items in another dataset.\r\n",
        "#     Shirts and Sandals are labelled as '5' & '6'\r\n",
        "\r\n",
        "## Get train/test data with shirts and sandals:\r\n",
        "# 2.4.1\r\n",
        "ss_train = X_train[np.logical_or (y_train == 5,y_train == 6), :, :]\r\n",
        "ss_train.shape   # (12000, 28, 28)\r\n",
        "# 2.4.2\r\n",
        "ss_y_train = y_train[np.logical_or (y_train == 5,y_train == 6)]\r\n",
        "ss_y_train.shape  # (12000,)\r\n",
        "\r\n",
        "# 2.4.3\r\n",
        "ss_test = X_test[np.logical_or (y_test == 5,y_test == 6), :, :]\r\n",
        "ss_test.shape    # (2000, 28, 28)\r\n",
        "# 2.4.4\r\n",
        "ss_y_test = y_test[np.logical_or (y_test == 5,y_test == 6)]\r\n",
        "ss_y_test.shape   # (2000,)"
      ],
      "execution_count": 9,
      "outputs": [
        {
          "output_type": "execute_result",
          "data": {
            "text/plain": [
              "(12000, 28, 28)"
            ]
          },
          "metadata": {
            "tags": []
          },
          "execution_count": 9
        },
        {
          "output_type": "execute_result",
          "data": {
            "text/plain": [
              "(12000,)"
            ]
          },
          "metadata": {
            "tags": []
          },
          "execution_count": 9
        },
        {
          "output_type": "execute_result",
          "data": {
            "text/plain": [
              "(2000, 28, 28)"
            ]
          },
          "metadata": {
            "tags": []
          },
          "execution_count": 9
        },
        {
          "output_type": "execute_result",
          "data": {
            "text/plain": [
              "(2000,)"
            ]
          },
          "metadata": {
            "tags": []
          },
          "execution_count": 9
        }
      ]
    },
    {
      "cell_type": "code",
      "metadata": {
        "id": "KniTvKJqw8X0",
        "colab": {
          "base_uri": "https://localhost:8080/"
        },
        "outputId": "6380cbfc-384a-4a6b-ab3c-6b7acc8a7750"
      },
      "source": [
        "# 3.0 Change labels of shirts and sandals\r\n",
        "#     in ss_y_train/ss_y_test to 1 and 0\r\n",
        "#     from present 6 and 5\r\n",
        "\r\n",
        "ss_y_train[ss_y_train == 6] = 1\r\n",
        "ss_y_train[ss_y_train == 5] = 0\r\n",
        "\r\n",
        "# 3.1 Recheck \r\n",
        "ss_y_train"
      ],
      "execution_count": 10,
      "outputs": [
        {
          "output_type": "execute_result",
          "data": {
            "text/plain": [
              "array([0, 0, 0, ..., 1, 0, 0], dtype=uint8)"
            ]
          },
          "metadata": {
            "tags": []
          },
          "execution_count": 10
        }
      ]
    },
    {
      "cell_type": "code",
      "metadata": {
        "id": "hoI9BCewNJR7",
        "colab": {
          "base_uri": "https://localhost:8080/"
        },
        "outputId": "3d6ff24f-9da7-405a-b405-358601222321"
      },
      "source": [
        "# 4.0 Filter train/test data for remaining 8 items\r\n",
        "# 4.1 train data\r\n",
        "data_train = X_train[ np.logical_and (y_train != 5 , y_train !=6), :,:]\r\n",
        "data_train.shape  # (48000, 28, 28)\r\n",
        "\r\n",
        "# 4.2 'train' labels\r\n",
        "data_y_train = y_train[ np.logical_and (y_train != 5 , y_train !=6)]\r\n",
        "data_y_train.shape  # (48000,)\r\n",
        "\r\n",
        "# 4.3 Filter 'test' data\r\n",
        "data_test = X_test[ np.logical_and (y_test != 5 , y_test !=6), :,:]\r\n",
        "data_test.shape   # (8000, 28, 28)\r\n",
        "# 4.4 Filter data with 'test' labels\r\n",
        "data_y_test = y_test[ np.logical_and (y_test != 5 , y_test !=6)]\r\n",
        "data_y_test.shape  # (8000,)"
      ],
      "execution_count": 11,
      "outputs": [
        {
          "output_type": "execute_result",
          "data": {
            "text/plain": [
              "(48000, 28, 28)"
            ]
          },
          "metadata": {
            "tags": []
          },
          "execution_count": 11
        },
        {
          "output_type": "execute_result",
          "data": {
            "text/plain": [
              "(48000,)"
            ]
          },
          "metadata": {
            "tags": []
          },
          "execution_count": 11
        },
        {
          "output_type": "execute_result",
          "data": {
            "text/plain": [
              "(8000, 28, 28)"
            ]
          },
          "metadata": {
            "tags": []
          },
          "execution_count": 11
        },
        {
          "output_type": "execute_result",
          "data": {
            "text/plain": [
              "(8000,)"
            ]
          },
          "metadata": {
            "tags": []
          },
          "execution_count": 11
        }
      ]
    },
    {
      "cell_type": "code",
      "metadata": {
        "id": "zDowphN9srE5"
      },
      "source": [
        "# 4.5 Reshape train/test data\r\n",
        "\r\n",
        "#     8-items data\r\n",
        "data_train = data_train.reshape(-1,784)\r\n",
        "data_test = data_test.reshape(-1,784)\r\n",
        "\r\n",
        "# 4.6 2-items data\r\n",
        "ss_train = ss_train.reshape(-1,784)\r\n",
        "ss_test = ss_test.reshape(-1,784)"
      ],
      "execution_count": 12,
      "outputs": []
    },
    {
      "cell_type": "code",
      "metadata": {
        "id": "Ctfg_TdEeivY",
        "colab": {
          "base_uri": "https://localhost:8080/"
        },
        "outputId": "f7ea0512-569a-461a-ee6d-40c351b85848"
      },
      "source": [
        "# 5.0 Our Ist model. No frills\r\n",
        "\r\n",
        "units =100\r\n",
        "\r\n",
        "# 5.1 Input layer\r\n",
        "input_one = keras.layers.Input(shape = (784,))\r\n",
        "\r\n",
        "# 5.2 Hidden layers\r\n",
        "x = keras.layers.Dense(units = units, activation = \"selu\", name = \"Layer_a\")(input_one)\r\n",
        "x = keras.layers.Dense(units = units, activation = \"selu\", name = \"Layer_b\")(x)\r\n",
        "x = keras.layers.Dense(units = units, activation = \"selu\", name = \"Layer_c\")(x)\r\n",
        "\r\n",
        "# 5.3 Output layer\r\n",
        "out_one = keras.layers.Dense(units = 10, activation = 'softmax', name = \"output_layer\")(x)\r\n",
        "\r\n",
        "# 5.4 Design model\r\n",
        "model_one = Model(inputs = [input_one], outputs = [out_one])\r\n",
        "\r\n",
        "# 5.5 Compile model\r\n",
        "model_one.compile(loss = \"sparse_categorical_crossentropy\", metrics = \"accuracy\")\r\n",
        "\r\n",
        "# 5.6 Fit the model\r\n",
        "model_one.fit(data_train,data_y_train, epochs = 20)"
      ],
      "execution_count": 13,
      "outputs": [
        {
          "output_type": "stream",
          "text": [
            "Epoch 1/20\n",
            "1500/1500 [==============================] - 5s 3ms/step - loss: 0.4742 - accuracy: 0.8354\n",
            "Epoch 2/20\n",
            "1500/1500 [==============================] - 4s 3ms/step - loss: 0.2629 - accuracy: 0.9060\n",
            "Epoch 3/20\n",
            "1500/1500 [==============================] - 4s 3ms/step - loss: 0.2357 - accuracy: 0.9154\n",
            "Epoch 4/20\n",
            "1500/1500 [==============================] - 4s 3ms/step - loss: 0.2137 - accuracy: 0.9232\n",
            "Epoch 5/20\n",
            "1500/1500 [==============================] - 4s 3ms/step - loss: 0.2042 - accuracy: 0.9278\n",
            "Epoch 6/20\n",
            "1500/1500 [==============================] - 4s 3ms/step - loss: 0.1908 - accuracy: 0.9307\n",
            "Epoch 7/20\n",
            "1500/1500 [==============================] - 4s 3ms/step - loss: 0.1790 - accuracy: 0.9357\n",
            "Epoch 8/20\n",
            "1500/1500 [==============================] - 4s 3ms/step - loss: 0.1772 - accuracy: 0.9382\n",
            "Epoch 9/20\n",
            "1500/1500 [==============================] - 4s 3ms/step - loss: 0.1712 - accuracy: 0.9378\n",
            "Epoch 10/20\n",
            "1500/1500 [==============================] - 4s 3ms/step - loss: 0.1628 - accuracy: 0.9418\n",
            "Epoch 11/20\n",
            "1500/1500 [==============================] - 4s 3ms/step - loss: 0.1619 - accuracy: 0.9404\n",
            "Epoch 12/20\n",
            "1500/1500 [==============================] - 4s 3ms/step - loss: 0.1562 - accuracy: 0.9441\n",
            "Epoch 13/20\n",
            "1500/1500 [==============================] - 4s 3ms/step - loss: 0.1479 - accuracy: 0.9454\n",
            "Epoch 14/20\n",
            "1500/1500 [==============================] - 4s 3ms/step - loss: 0.1467 - accuracy: 0.9466\n",
            "Epoch 15/20\n",
            "1500/1500 [==============================] - 4s 3ms/step - loss: 0.1434 - accuracy: 0.9469\n",
            "Epoch 16/20\n",
            "1500/1500 [==============================] - 4s 3ms/step - loss: 0.1413 - accuracy: 0.9485\n",
            "Epoch 17/20\n",
            "1500/1500 [==============================] - 4s 3ms/step - loss: 0.1394 - accuracy: 0.9498\n",
            "Epoch 18/20\n",
            "1500/1500 [==============================] - 4s 3ms/step - loss: 0.1355 - accuracy: 0.9521\n",
            "Epoch 19/20\n",
            "1500/1500 [==============================] - 4s 3ms/step - loss: 0.1357 - accuracy: 0.9518\n",
            "Epoch 20/20\n",
            "1500/1500 [==============================] - 4s 3ms/step - loss: 0.1323 - accuracy: 0.9527\n"
          ],
          "name": "stdout"
        },
        {
          "output_type": "execute_result",
          "data": {
            "text/plain": [
              "<tensorflow.python.keras.callbacks.History at 0x7f622d85f128>"
            ]
          },
          "metadata": {
            "tags": []
          },
          "execution_count": 13
        }
      ]
    },
    {
      "cell_type": "code",
      "metadata": {
        "id": "iY59Iia5jdyW",
        "colab": {
          "base_uri": "https://localhost:8080/"
        },
        "outputId": "5edce35c-ecdc-437b-d7d3-b473b8f7e6c4"
      },
      "source": [
        "# 5.7 Model summary\r\n",
        "model_one.summary()"
      ],
      "execution_count": 14,
      "outputs": [
        {
          "output_type": "stream",
          "text": [
            "Model: \"model\"\n",
            "_________________________________________________________________\n",
            "Layer (type)                 Output Shape              Param #   \n",
            "=================================================================\n",
            "input_1 (InputLayer)         [(None, 784)]             0         \n",
            "_________________________________________________________________\n",
            "Layer_a (Dense)              (None, 100)               78500     \n",
            "_________________________________________________________________\n",
            "Layer_b (Dense)              (None, 100)               10100     \n",
            "_________________________________________________________________\n",
            "Layer_c (Dense)              (None, 100)               10100     \n",
            "_________________________________________________________________\n",
            "output_layer (Dense)         (None, 10)                1010      \n",
            "=================================================================\n",
            "Total params: 99,710\n",
            "Trainable params: 99,710\n",
            "Non-trainable params: 0\n",
            "_________________________________________________________________\n"
          ],
          "name": "stdout"
        }
      ]
    },
    {
      "cell_type": "code",
      "metadata": {
        "id": "ket6MjaWJci-",
        "colab": {
          "base_uri": "https://localhost:8080/",
          "height": 466
        },
        "outputId": "fb6df1a1-92f6-41a2-8060-640ed74a3531"
      },
      "source": [
        "# 5.8 Plot the model\r\n",
        "plot_model(model_one)"
      ],
      "execution_count": 15,
      "outputs": [
        {
          "output_type": "execute_result",
          "data": {
            "image/png": "[encoded data removed]",
            "text/plain": [
              "<IPython.core.display.Image object>"
            ]
          },
          "metadata": {
            "tags": []
          },
          "execution_count": 15
        }
      ]
    },
    {
      "cell_type": "code",
      "metadata": {
        "id": "SDk4OCVqKdKu"
      },
      "source": [
        "# 6.1 Check folders under /home\r\n",
        "! ls /home\r\n"
      ],
      "execution_count": 16,
      "outputs": []
    },
    {
      "cell_type": "code",
      "metadata": {
        "id": "z_LLUh52wMga",
        "colab": {
          "base_uri": "https://localhost:8080/"
        },
        "outputId": "e45d68ec-319f-4956-ed3e-1bfa1e32000c"
      },
      "source": [
        "# 6.0 Save this model in a folder. \r\n",
        "#     Folder() will be created if \r\n",
        "#     they do not exist:\r\n",
        "#  Ref: https://www.tensorflow.org/api_docs/python/tf/keras/models/save_model\r\n",
        "\r\n",
        "path = \"/home/ashok/mymodel\"\r\n",
        "\r\n",
        "tf.keras.models.save_model(\r\n",
        "                           model_one,\r\n",
        "                           path,\r\n",
        "                           include_optimizer=True,  # Default\r\n",
        "                           overwrite = True         # Default\r\n",
        "                           )\r\n"
      ],
      "execution_count": 17,
      "outputs": [
        {
          "output_type": "stream",
          "text": [
            "INFO:tensorflow:Assets written to: /home/ashok/mymodel/assets\n"
          ],
          "name": "stdout"
        }
      ]
    },
    {
      "cell_type": "code",
      "metadata": {
        "colab": {
          "base_uri": "https://localhost:8080/"
        },
        "id": "duFho7DSNNWn",
        "outputId": "a19c4f26-50e9-44e1-cf87-bad7f51d03e0"
      },
      "source": [
        "# 6.1 Let us have a look at what was saved:\r\n",
        "\r\n",
        "! ls /home/ashok/mymodel\r\n"
      ],
      "execution_count": 18,
      "outputs": [
        {
          "output_type": "stream",
          "text": [
            "assets\tsaved_model.pb\tvariables\n"
          ],
          "name": "stdout"
        }
      ]
    },
    {
      "cell_type": "code",
      "metadata": {
        "id": "bmMCqC7qwRPI"
      },
      "source": [
        "# 6.2 Now that model is saved, \r\n",
        "#     we can delete it from RAM\r\n",
        "del(model_one)"
      ],
      "execution_count": 19,
      "outputs": []
    },
    {
      "cell_type": "code",
      "metadata": {
        "id": "LO4LDucMqCcZ",
        "colab": {
          "base_uri": "https://localhost:8080/",
          "height": 191
        },
        "outputId": "25bf0298-1bcf-4293-d500-879053cfc1cc"
      },
      "source": [
        "# 6.3 Check if 'model' is deleted\r\n",
        "model_one.layers"
      ],
      "execution_count": 20,
      "outputs": [
        {
          "output_type": "error",
          "ename": "NameError",
          "evalue": "ignored",
          "traceback": [
            "\u001b[0;31m---------------------------------------------------------------------------\u001b[0m",
            "\u001b[0;31mNameError\u001b[0m                                 Traceback (most recent call last)",
            "\u001b[0;32m<ipython-input-20-12b2cf4ab5ee>\u001b[0m in \u001b[0;36m<module>\u001b[0;34m()\u001b[0m\n\u001b[1;32m      1\u001b[0m \u001b[0;31m# 6.3 Check if 'model' is deleted\u001b[0m\u001b[0;34m\u001b[0m\u001b[0;34m\u001b[0m\u001b[0;34m\u001b[0m\u001b[0m\n\u001b[0;32m----> 2\u001b[0;31m \u001b[0mmodel_one\u001b[0m\u001b[0;34m.\u001b[0m\u001b[0mlayers\u001b[0m\u001b[0;34m\u001b[0m\u001b[0;34m\u001b[0m\u001b[0m\n\u001b[0m",
            "\u001b[0;31mNameError\u001b[0m: name 'model_one' is not defined"
          ]
        }
      ]
    },
    {
      "cell_type": "code",
      "metadata": {
        "id": "qvr6ez_Itxel"
      },
      "source": [
        "# 6.4 Let us load back the saved model \r\n",
        "model = keras.models.load_model(path)"
      ],
      "execution_count": 21,
      "outputs": []
    },
    {
      "cell_type": "code",
      "metadata": {
        "id": "a-MBHMKIt5zC",
        "colab": {
          "base_uri": "https://localhost:8080/"
        },
        "outputId": "7af108c1-9959-478d-f458-e79ff0c6189c"
      },
      "source": [
        "# 6.5 Check model summary\r\n",
        "model.summary()"
      ],
      "execution_count": 22,
      "outputs": [
        {
          "output_type": "stream",
          "text": [
            "Model: \"model\"\n",
            "_________________________________________________________________\n",
            "Layer (type)                 Output Shape              Param #   \n",
            "=================================================================\n",
            "input_1 (InputLayer)         [(None, 784)]             0         \n",
            "_________________________________________________________________\n",
            "Layer_a (Dense)              (None, 100)               78500     \n",
            "_________________________________________________________________\n",
            "Layer_b (Dense)              (None, 100)               10100     \n",
            "_________________________________________________________________\n",
            "Layer_c (Dense)              (None, 100)               10100     \n",
            "_________________________________________________________________\n",
            "output_layer (Dense)         (None, 10)                1010      \n",
            "=================================================================\n",
            "Total params: 99,710\n",
            "Trainable params: 99,710\n",
            "Non-trainable params: 0\n",
            "_________________________________________________________________\n"
          ],
          "name": "stdout"
        }
      ]
    },
    {
      "cell_type": "markdown",
      "metadata": {
        "id": "UCW4U-ZNUE3u"
      },
      "source": [
        "There are two ways of creating our new model that will reuse the trained layers of our old model."
      ]
    },
    {
      "cell_type": "code",
      "metadata": {
        "id": "aDlI-GvsvWzV"
      },
      "source": [
        "## 7.0\r\n",
        "# Method 1: Build a fresh model having\r\n",
        "#           first three layers with \r\n",
        "#           the same configuration \r\n",
        "#           as in the earlier model\r\n",
        "#           Our intention is to REUSE \r\n",
        "#           learnt weights in the Ist three \r\n",
        "#           layers in the new model\r\n",
        "\r\n",
        "\r\n",
        "units =100\r\n",
        "input_l = keras.layers.Input(shape = (784,))\r\n",
        "y = keras.layers.Dense(units = units, activation = \"selu\", name = \"a\")(input_l)\r\n",
        "y = keras.layers.Dense(units = units, activation = \"selu\", name = \"b\")(y)\r\n",
        "y = keras.layers.Dense(units = units, activation = \"selu\", name = \"c\")(y)\r\n"
      ],
      "execution_count": 23,
      "outputs": []
    },
    {
      "cell_type": "code",
      "metadata": {
        "id": "eLoXnc-_VB-A"
      },
      "source": [
        "# 7.1 Now add to it our own layers\r\n",
        "\r\n",
        "y = keras.layers.Dense(units = 20, activation = 'selu', name = \"x1\")(y)\r\n",
        "y = keras.layers.Dense(units = 8, activation = 'relu', name = \"x2\")(y)\r\n",
        "out_l = keras.layers.Dense(units = 1, activation = 'sigmoid', name = \"out_layer\")(y)"
      ],
      "execution_count": 24,
      "outputs": []
    },
    {
      "cell_type": "code",
      "metadata": {
        "id": "cMECAUjZvGyN",
        "colab": {
          "base_uri": "https://localhost:8080/"
        },
        "outputId": "d59f0f5e-af99-4bf5-9c2f-e88ba7cb5cbd"
      },
      "source": [
        "# 7.2 Create model\r\n",
        "model_l = Model(inputs = [input_l], outputs = [out_l])\r\n",
        "model_l.compile(loss = \"binary_crossentropy\", metrics = [\"accuracy\"])\r\n",
        "model_l.summary()"
      ],
      "execution_count": 25,
      "outputs": [
        {
          "output_type": "stream",
          "text": [
            "Model: \"model_1\"\n",
            "_________________________________________________________________\n",
            "Layer (type)                 Output Shape              Param #   \n",
            "=================================================================\n",
            "input_2 (InputLayer)         [(None, 784)]             0         \n",
            "_________________________________________________________________\n",
            "a (Dense)                    (None, 100)               78500     \n",
            "_________________________________________________________________\n",
            "b (Dense)                    (None, 100)               10100     \n",
            "_________________________________________________________________\n",
            "c (Dense)                    (None, 100)               10100     \n",
            "_________________________________________________________________\n",
            "x1 (Dense)                   (None, 20)                2020      \n",
            "_________________________________________________________________\n",
            "x2 (Dense)                   (None, 8)                 168       \n",
            "_________________________________________________________________\n",
            "out_layer (Dense)            (None, 1)                 9         \n",
            "=================================================================\n",
            "Total params: 100,897\n",
            "Trainable params: 100,897\n",
            "Non-trainable params: 0\n",
            "_________________________________________________________________\n"
          ],
          "name": "stdout"
        }
      ]
    },
    {
      "cell_type": "code",
      "metadata": {
        "id": "UHL2EnQafwi_"
      },
      "source": [
        "# 8.0 Let us transfer weights in this model\r\n",
        "#     from weights from our earlier learned-model\r\n",
        "#     After transferring weights, let us also freeze\r\n",
        "#     the layer-weights\r\n",
        "\r\n",
        "for i in range(4):\r\n",
        "  model_l.layers[i].set_weights(model.layers[i].get_weights())\r\n",
        "  model_l.layers[i].trainable = False"
      ],
      "execution_count": 26,
      "outputs": []
    },
    {
      "cell_type": "code",
      "metadata": {
        "id": "diIZkFUS_svA"
      },
      "source": [
        "# 8.1 Model MUST be recompiled after freezing layers\r\n",
        "model_l.compile(loss = \"binary_crossentropy\", metrics = [\"accuracy\"])"
      ],
      "execution_count": 27,
      "outputs": []
    },
    {
      "cell_type": "code",
      "metadata": {
        "colab": {
          "base_uri": "https://localhost:8080/"
        },
        "id": "6dpNM8xyWtEC",
        "outputId": "ca2adfa2-9651-4d4a-c559-962d552d4805"
      },
      "source": [
        "# 8.2 As our last layer is Dense(1) with sigmoid activation\r\n",
        "#     therefore, target data has to have shape of (None,1), rather\r\n",
        "#     than (None,) as at present\r\n",
        "\r\n",
        "ss_y_train = ss_y_train.reshape(-1,1)\r\n",
        "ss_y_train.shape"
      ],
      "execution_count": 28,
      "outputs": [
        {
          "output_type": "execute_result",
          "data": {
            "text/plain": [
              "(12000, 1)"
            ]
          },
          "metadata": {
            "tags": []
          },
          "execution_count": 28
        }
      ]
    },
    {
      "cell_type": "code",
      "metadata": {
        "id": "SMs-hkIPhnzE",
        "colab": {
          "base_uri": "https://localhost:8080/"
        },
        "outputId": "6ad3de13-3e95-4fbb-f5cd-b9cb0dae58e1"
      },
      "source": [
        "# 8.3 Before we proceed for training\r\n",
        "#     let us see which layers are trainable,\r\n",
        "#     and which not\r\n",
        "\r\n",
        "for layer in model_l.layers:\r\n",
        "  print(layer.name,\":\",layer.trainable)"
      ],
      "execution_count": 29,
      "outputs": [
        {
          "output_type": "stream",
          "text": [
            "input_2 : False\n",
            "a : False\n",
            "b : False\n",
            "c : False\n",
            "x1 : True\n",
            "x2 : True\n",
            "out_layer : True\n"
          ],
          "name": "stdout"
        }
      ]
    },
    {
      "cell_type": "code",
      "metadata": {
        "id": "WeXureBlWtre",
        "colab": {
          "base_uri": "https://localhost:8080/"
        },
        "outputId": "8585b622-4ea8-429d-8f76-ccf930463e92"
      },
      "source": [
        "# 8.4 Begin training\r\n",
        "model_l.fit(ss_train ,ss_y_train, epochs = 20)"
      ],
      "execution_count": 30,
      "outputs": [
        {
          "output_type": "stream",
          "text": [
            "Epoch 1/20\n",
            "375/375 [==============================] - 1s 1ms/step - loss: 0.2035 - accuracy: 0.9331\n",
            "Epoch 2/20\n",
            "375/375 [==============================] - 1s 1ms/step - loss: 0.0053 - accuracy: 0.9986\n",
            "Epoch 3/20\n",
            "375/375 [==============================] - 1s 1ms/step - loss: 0.0039 - accuracy: 0.9984\n",
            "Epoch 4/20\n",
            "375/375 [==============================] - 1s 1ms/step - loss: 0.0060 - accuracy: 0.9984\n",
            "Epoch 5/20\n",
            "375/375 [==============================] - 1s 1ms/step - loss: 0.0016 - accuracy: 0.9995\n",
            "Epoch 6/20\n",
            "375/375 [==============================] - 1s 1ms/step - loss: 0.0036 - accuracy: 0.9987\n",
            "Epoch 7/20\n",
            "375/375 [==============================] - 1s 1ms/step - loss: 0.0015 - accuracy: 0.9996\n",
            "Epoch 8/20\n",
            "375/375 [==============================] - 1s 1ms/step - loss: 0.0024 - accuracy: 0.9990\n",
            "Epoch 9/20\n",
            "375/375 [==============================] - 1s 1ms/step - loss: 0.0021 - accuracy: 0.9991\n",
            "Epoch 10/20\n",
            "375/375 [==============================] - 1s 1ms/step - loss: 2.4734e-04 - accuracy: 0.9999\n",
            "Epoch 11/20\n",
            "375/375 [==============================] - 1s 1ms/step - loss: 2.2543e-04 - accuracy: 0.9999\n",
            "Epoch 12/20\n",
            "375/375 [==============================] - 1s 1ms/step - loss: 2.2810e-04 - accuracy: 0.9999\n",
            "Epoch 13/20\n",
            "375/375 [==============================] - 1s 1ms/step - loss: 2.5526e-04 - accuracy: 1.0000\n",
            "Epoch 14/20\n",
            "375/375 [==============================] - 1s 1ms/step - loss: 4.9444e-04 - accuracy: 0.9997\n",
            "Epoch 15/20\n",
            "375/375 [==============================] - 1s 1ms/step - loss: 8.6194e-04 - accuracy: 0.9998\n",
            "Epoch 16/20\n",
            "375/375 [==============================] - 1s 1ms/step - loss: 1.2195e-04 - accuracy: 1.0000\n",
            "Epoch 17/20\n",
            "375/375 [==============================] - 1s 1ms/step - loss: 1.3101e-04 - accuracy: 1.0000\n",
            "Epoch 18/20\n",
            "375/375 [==============================] - 1s 1ms/step - loss: 6.1244e-05 - accuracy: 1.0000\n",
            "Epoch 19/20\n",
            "375/375 [==============================] - 1s 1ms/step - loss: 5.8424e-05 - accuracy: 1.0000\n",
            "Epoch 20/20\n",
            "375/375 [==============================] - 1s 1ms/step - loss: 2.1908e-06 - accuracy: 1.0000\n"
          ],
          "name": "stdout"
        },
        {
          "output_type": "execute_result",
          "data": {
            "text/plain": [
              "<tensorflow.python.keras.callbacks.History at 0x7f622a6e7780>"
            ]
          },
          "metadata": {
            "tags": []
          },
          "execution_count": 30
        }
      ]
    },
    {
      "cell_type": "code",
      "metadata": {
        "id": "z7k7v92YqKv-"
      },
      "source": [
        "## 9.0\r\n",
        "# Method 2:\r\n",
        "#          Using the last but one layer\r\n",
        "#          create a Sequential model\r\n",
        "\r\n",
        "model_IInd = keras.models.Sequential(model.layers[:-1])\r\n",
        "\r\n",
        "# 9.1 And add to it our own layers\r\n",
        "model_IInd.add(keras.layers.Dense(units = 20, activation = 'selu', name = \"x1\"))\r\n",
        "model_IInd.add(keras.layers.Dense(units = 8, activation = 'relu', name = \"x2\"))\r\n",
        "model_IInd.add(keras.layers.Dense(units = 1, activation = 'sigmoid', name = \"out_layer\"))\r\n"
      ],
      "execution_count": 31,
      "outputs": []
    },
    {
      "cell_type": "code",
      "metadata": {
        "id": "th41t8fesseq"
      },
      "source": [
        "# 9.2 Compile the model\r\n",
        "model_IInd.compile(loss = \"binary_crossentropy\", metrics = ['accuracy'])\r\n"
      ],
      "execution_count": 32,
      "outputs": []
    },
    {
      "cell_type": "code",
      "metadata": {
        "id": "zdXoEV_QtljK"
      },
      "source": [
        "# 9.3 Let us freeze weights in some layers \r\n",
        "\r\n",
        "for i in range(4):\r\n",
        "  model_IInd.layers[i].trainable = False"
      ],
      "execution_count": 33,
      "outputs": []
    },
    {
      "cell_type": "code",
      "metadata": {
        "id": "8OcLJionASyq"
      },
      "source": [
        "# 9.4 Model must be recompiled after freezing of layers:\r\n",
        "\r\n",
        "model_IInd.compile(loss = \"binary_crossentropy\", metrics = ['accuracy'])"
      ],
      "execution_count": 35,
      "outputs": []
    },
    {
      "cell_type": "code",
      "metadata": {
        "id": "Qn8CnFpgu8HV",
        "colab": {
          "base_uri": "https://localhost:8080/"
        },
        "outputId": "420dc56b-d42a-4970-c777-64cf338cb46c"
      },
      "source": [
        "# 9.5 Before we proceed for training\r\n",
        "#     let us see which layers are trainable,\r\n",
        "#     and which not\r\n",
        "\r\n",
        "for layer in model_IInd.layers:\r\n",
        "  print(layer.name,\":\",layer.trainable)"
      ],
      "execution_count": 36,
      "outputs": [
        {
          "output_type": "stream",
          "text": [
            "Layer_a : False\n",
            "Layer_b : False\n",
            "Layer_c : False\n",
            "x1 : False\n",
            "x2 : True\n",
            "out_layer : True\n"
          ],
          "name": "stdout"
        }
      ]
    },
    {
      "cell_type": "code",
      "metadata": {
        "id": "FSt7YSSqtfnQ",
        "colab": {
          "base_uri": "https://localhost:8080/"
        },
        "outputId": "1d282953-b35c-4592-ce9e-9f9f1db6554f"
      },
      "source": [
        "# 9.6 Begin training now:\r\n",
        "model_IInd.fit(ss_train,ss_y_train, epochs = 20)"
      ],
      "execution_count": 37,
      "outputs": [
        {
          "output_type": "stream",
          "text": [
            "Epoch 1/20\n",
            "375/375 [==============================] - 1s 1ms/step - loss: 0.8695 - accuracy: 0.6984\n",
            "Epoch 2/20\n",
            "375/375 [==============================] - 1s 1ms/step - loss: 0.0623 - accuracy: 0.9790\n",
            "Epoch 3/20\n",
            "375/375 [==============================] - 1s 1ms/step - loss: 0.0468 - accuracy: 0.9835\n",
            "Epoch 4/20\n",
            "375/375 [==============================] - 1s 1ms/step - loss: 0.0381 - accuracy: 0.9876\n",
            "Epoch 5/20\n",
            "375/375 [==============================] - 1s 1ms/step - loss: 0.0366 - accuracy: 0.9884\n",
            "Epoch 6/20\n",
            "375/375 [==============================] - 1s 1ms/step - loss: 0.0307 - accuracy: 0.9890\n",
            "Epoch 7/20\n",
            "375/375 [==============================] - 1s 1ms/step - loss: 0.0287 - accuracy: 0.9900\n",
            "Epoch 8/20\n",
            "375/375 [==============================] - 1s 1ms/step - loss: 0.0322 - accuracy: 0.9896\n",
            "Epoch 9/20\n",
            "375/375 [==============================] - 1s 1ms/step - loss: 0.0295 - accuracy: 0.9903\n",
            "Epoch 10/20\n",
            "375/375 [==============================] - 1s 1ms/step - loss: 0.0252 - accuracy: 0.9926\n",
            "Epoch 11/20\n",
            "375/375 [==============================] - 1s 1ms/step - loss: 0.0279 - accuracy: 0.9917\n",
            "Epoch 12/20\n",
            "375/375 [==============================] - 1s 1ms/step - loss: 0.0281 - accuracy: 0.9909\n",
            "Epoch 13/20\n",
            "375/375 [==============================] - 1s 1ms/step - loss: 0.0299 - accuracy: 0.9904\n",
            "Epoch 14/20\n",
            "375/375 [==============================] - 1s 1ms/step - loss: 0.0238 - accuracy: 0.9935\n",
            "Epoch 15/20\n",
            "375/375 [==============================] - 1s 1ms/step - loss: 0.0256 - accuracy: 0.9928\n",
            "Epoch 16/20\n",
            "375/375 [==============================] - 1s 1ms/step - loss: 0.0261 - accuracy: 0.9916\n",
            "Epoch 17/20\n",
            "375/375 [==============================] - 1s 1ms/step - loss: 0.0227 - accuracy: 0.9926\n",
            "Epoch 18/20\n",
            "375/375 [==============================] - 1s 1ms/step - loss: 0.0263 - accuracy: 0.9922\n",
            "Epoch 19/20\n",
            "375/375 [==============================] - 1s 1ms/step - loss: 0.0260 - accuracy: 0.9931\n",
            "Epoch 20/20\n",
            "375/375 [==============================] - 1s 1ms/step - loss: 0.0251 - accuracy: 0.9917\n"
          ],
          "name": "stdout"
        },
        {
          "output_type": "execute_result",
          "data": {
            "text/plain": [
              "<tensorflow.python.keras.callbacks.History at 0x7f622a5108d0>"
            ]
          },
          "metadata": {
            "tags": []
          },
          "execution_count": 37
        }
      ]
    },
    {
      "cell_type": "code",
      "metadata": {
        "id": "qan2ImrxrY3t"
      },
      "source": [
        "######## I am done ##########"
      ],
      "execution_count": null,
      "outputs": []
    }
  ]
}