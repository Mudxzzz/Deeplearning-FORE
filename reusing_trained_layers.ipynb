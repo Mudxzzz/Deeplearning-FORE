{
  "nbformat": 4,
  "nbformat_minor": 0,
  "metadata": {
    "colab": {
      "name": "reusing_trained_layers.ipynb",
      "provenance": [],
      "collapsed_sections": [],
      "mount_file_id": "1BtfeRDP6opT9NTrAD8W-3kMcLoMOpEJs",
      "authorship_tag": "ABX9TyMffSQrND5u7yta6r6tqsA0",
      "include_colab_link": true
    },
    "kernelspec": {
      "name": "python3",
      "display_name": "Python 3"
    }
  },
  "cells": [
    {
      "cell_type": "markdown",
      "metadata": {
        "id": "view-in-github",
        "colab_type": "text"
      },
      "source": [
        "<a href=\"https://colab.research.google.com/github/harnalashok/deeplearning/blob/main/reusing_trained_layers.ipynb\" target=\"_parent\"><img src=\"https://colab.research.google.com/assets/colab-badge.svg\" alt=\"Open In Colab\"/></a>"
      ]
    },
    {
      "cell_type": "code",
      "metadata": {
        "id": "VvpB84DaKX4u"
      },
      "source": [
        "# Last amended: 26th January, 2021\r\n",
        "# My folder: https://github.com/harnalashok/deeplearning\r\n",
        "# Objective: \r\n",
        "#             i) Reuse layers from one neural network in another.\r\n",
        "#             ii)Ist model was trained using a different set of \r\n",
        "#                class labels than present in the IInd case\r\n",
        "#\r\n",
        "# Ref:\r\n",
        "#      Aurelien Book: Page 347 \r\n",
        "#      Save and Laod models: https://www.tensorflow.org/guide/keras/save_and_serialize"
      ],
      "execution_count": 12,
      "outputs": []
    },
    {
      "cell_type": "markdown",
      "metadata": {
        "id": "qxapacOVT7Ha"
      },
      "source": [
        "**Problem**<br>\r\n",
        "We will take fashion-mnist data. This data contains ten items. We will filter out data for two of the items--shirts and sandals. Prepare a predictive model with remaining eight items.<br>\r\n",
        "After predictive model is made, we will use the trained layers of this model in another NN model to make predictions for the remaining two items. That is, we will reuse trained layers from the first model in the IInd model."
      ]
    },
    {
      "cell_type": "code",
      "metadata": {
        "id": "7_s135n0GDcC"
      },
      "source": [
        "# 1.0 Call libraries\r\n",
        "import tensorflow as tf\r\n",
        "from tensorflow import keras\r\n",
        "from keras.models import Model\r\n",
        "from tensorflow.keras.datasets import fashion_mnist\r\n",
        "from tensorflow.keras.utils import plot_model\r\n",
        "import numpy as np"
      ],
      "execution_count": 13,
      "outputs": []
    },
    {
      "cell_type": "code",
      "metadata": {
        "id": "Gp-WDNu5QFh0"
      },
      "source": [
        "# 1.1 Display multiple commands outputs from a cell\r\n",
        "from IPython.core.interactiveshell import InteractiveShell\r\n",
        "InteractiveShell.ast_node_interactivity = \"all\""
      ],
      "execution_count": 14,
      "outputs": []
    },
    {
      "cell_type": "code",
      "metadata": {
        "id": "MQuyjharJt7q"
      },
      "source": [
        "# 2.0 Get split data\r\n",
        "(X_train, y_train), (X_test,y_test) = fashion_mnist.load_data()"
      ],
      "execution_count": 15,
      "outputs": []
    },
    {
      "cell_type": "code",
      "metadata": {
        "id": "1MFwLf5LNeOl"
      },
      "source": [
        "# 2.1 Shape of train data\r\n",
        "X_train.shape    # (60000, 28, 28)\r\n",
        "y_train.shape    # (60000,)"
      ],
      "execution_count": null,
      "outputs": []
    },
    {
      "cell_type": "code",
      "metadata": {
        "id": "nMwOvAVgKcYW"
      },
      "source": [
        "# 2.2 Fashion items\r\n",
        "items = [\"T-shirt/top\", \"Trouser\", \"Pullover\", \"Dress\", \"Coat\", \"Sandal\", \"Shirt\", \"Sneaker\", \"Bag\", \"Ankle boot\"]"
      ],
      "execution_count": 17,
      "outputs": []
    },
    {
      "cell_type": "code",
      "metadata": {
        "id": "zH2WT77QLBMB"
      },
      "source": [
        "# 2.3 Normalise train/test data\r\n",
        "X_train = X_train/255.0\r\n",
        "X_test = X_test/255.0"
      ],
      "execution_count": 18,
      "outputs": []
    },
    {
      "cell_type": "code",
      "metadata": {
        "id": "rFRzSmZdMwji"
      },
      "source": [
        "# 2.4 We filter our data further\r\n",
        "#     Put Shirts and Sandals in one dataset\r\n",
        "#     And remaining 8 items in another dataset.\r\n",
        "#     Shirts and Sandals are labelled as '5' & '6'\r\n",
        "\r\n",
        "## Get train/test data with shirts and sandals:\r\n",
        "# 2.4.1\r\n",
        "ss_train = X_train[np.logical_or (y_train == 5,y_train == 6), :, :]\r\n",
        "ss_train.shape   # (12000, 28, 28)\r\n",
        "# 2.4.2\r\n",
        "ss_y_train = y_train[np.logical_or (y_train == 5,y_train == 6)]\r\n",
        "ss_y_train.shape  # (12000,)\r\n",
        "\r\n",
        "# 2.4.3\r\n",
        "ss_test = X_test[np.logical_or (y_test == 5,y_test == 6), :, :]\r\n",
        "ss_test.shape    # (2000, 28, 28)\r\n",
        "# 2.4.4\r\n",
        "ss_y_test = y_test[np.logical_or (y_test == 5,y_test == 6)]\r\n",
        "ss_y_test.shape   # (2000,)"
      ],
      "execution_count": null,
      "outputs": []
    },
    {
      "cell_type": "code",
      "metadata": {
        "id": "KniTvKJqw8X0"
      },
      "source": [
        "# 3.0 Change labels of shirts and sandals\r\n",
        "#     in ss_y_train/ss_y_test to 1 and 0\r\n",
        "#     from present 6 and 5\r\n",
        "\r\n",
        "ss_y_train[ss_y_train == 6] = 1\r\n",
        "ss_y_train[ss_y_train == 5] = 0\r\n",
        "\r\n",
        "# 3.1 Recheck \r\n",
        "ss_y_train"
      ],
      "execution_count": null,
      "outputs": []
    },
    {
      "cell_type": "code",
      "metadata": {
        "id": "hoI9BCewNJR7"
      },
      "source": [
        "# 4.0 Filter train/test data for remaining 8 items\r\n",
        "# 4.1 train data\r\n",
        "data_train = X_train[ np.logical_and (y_train != 5 , y_train !=6), :,:]\r\n",
        "data_train.shape  # (48000, 28, 28)\r\n",
        "\r\n",
        "# 4.2 'train' labels\r\n",
        "data_y_train = y_train[ np.logical_and (y_train != 5 , y_train !=6)]\r\n",
        "data_y_train.shape  # (48000,)\r\n",
        "\r\n",
        "# 4.3 Filter 'test' data\r\n",
        "data_test = X_test[ np.logical_and (y_test != 5 , y_test !=6), :,:]\r\n",
        "data_test.shape   # (8000, 28, 28)\r\n",
        "# 4.4 Filter data with 'test' labels\r\n",
        "data_y_test = y_test[ np.logical_and (y_test != 5 , y_test !=6)]\r\n",
        "data_y_test.shape  # (8000,)"
      ],
      "execution_count": null,
      "outputs": []
    },
    {
      "cell_type": "code",
      "metadata": {
        "id": "zDowphN9srE5"
      },
      "source": [
        "# 4.5 Reshape train/test data\r\n",
        "\r\n",
        "#     8-items data\r\n",
        "data_train = data_train.reshape(-1,784)\r\n",
        "data_test = data_test.reshape(-1,784)\r\n",
        "\r\n",
        "# 4.6 2-items data\r\n",
        "ss_train = ss_train.reshape(-1,784)\r\n",
        "ss_test = ss_test.reshape(-1,784)"
      ],
      "execution_count": 22,
      "outputs": []
    },
    {
      "cell_type": "code",
      "metadata": {
        "id": "Ctfg_TdEeivY"
      },
      "source": [
        "# 5.0 Our Ist model. No frills\r\n",
        "\r\n",
        "units =100\r\n",
        "\r\n",
        "# 5.1 Input layer\r\n",
        "input_one = keras.layers.Input(shape = (784,))\r\n",
        "\r\n",
        "# 5.2 Hidden layers\r\n",
        "x = keras.layers.Dense(units = units, activation = \"selu\", name = \"Layer_a\")(input_one)\r\n",
        "x = keras.layers.Dense(units = units, activation = \"selu\", name = \"Layer_b\")(x)\r\n",
        "x = keras.layers.Dense(units = units, activation = \"selu\", name = \"Layer_c\")(x)\r\n",
        "\r\n",
        "# 5.3 Output layer\r\n",
        "out_one = keras.layers.Dense(units = 10, activation = 'softmax', name = \"output_layer\")(x)\r\n",
        "\r\n",
        "# 5.4 Design model\r\n",
        "model_one = Model(inputs = [input_one], outputs = [out_one])\r\n",
        "\r\n",
        "# 5.5 Compile model\r\n",
        "model_one.compile(loss = \"sparse_categorical_crossentropy\", metrics = \"accuracy\")\r\n",
        "\r\n",
        "# 5.6 Fit the model\r\n",
        "model_one.fit(data_train,data_y_train, epochs = 20)"
      ],
      "execution_count": null,
      "outputs": []
    },
    {
      "cell_type": "code",
      "metadata": {
        "id": "iY59Iia5jdyW"
      },
      "source": [
        "# 5.7 Model summary\r\n",
        "model_one.summary()"
      ],
      "execution_count": null,
      "outputs": []
    },
    {
      "cell_type": "code",
      "metadata": {
        "id": "ket6MjaWJci-"
      },
      "source": [
        "# 5.8 Plot the model\r\n",
        "plot_model(model_one)"
      ],
      "execution_count": null,
      "outputs": []
    },
    {
      "cell_type": "code",
      "metadata": {
        "id": "SDk4OCVqKdKu"
      },
      "source": [
        "# 6.1 Check folders under /home\r\n",
        "! ls /home\r\n"
      ],
      "execution_count": null,
      "outputs": []
    },
    {
      "cell_type": "code",
      "metadata": {
        "id": "z_LLUh52wMga"
      },
      "source": [
        "# 6.0 Save this model in a folder. \r\n",
        "#     Folder() will be created if \r\n",
        "#     they do not exist:\r\n",
        "#  Ref: https://www.tensorflow.org/api_docs/python/tf/keras/models/save_model\r\n",
        "\r\n",
        "path = \"/home/ashok/mymodel\"\r\n",
        "\r\n",
        "tf.keras.models.save_model(\r\n",
        "                           model_one,\r\n",
        "                           path,\r\n",
        "                           include_optimizer=True,  # Default\r\n",
        "                           overwrite = True         # Default\r\n",
        "                           )\r\n"
      ],
      "execution_count": null,
      "outputs": []
    },
    {
      "cell_type": "code",
      "metadata": {
        "colab": {
          "base_uri": "https://localhost:8080/"
        },
        "id": "duFho7DSNNWn",
        "outputId": "fe451a38-023c-4b9b-8f57-4132e4a7080a"
      },
      "source": [
        "# 6.1 Let us have a look at what was saved:\r\n",
        "\r\n",
        "! ls /home/ashok/mymodel\r\n"
      ],
      "execution_count": 28,
      "outputs": [
        {
          "output_type": "stream",
          "text": [
            "assets\tsaved_model.pb\tvariables\n"
          ],
          "name": "stdout"
        }
      ]
    },
    {
      "cell_type": "code",
      "metadata": {
        "id": "bmMCqC7qwRPI"
      },
      "source": [
        "# 6.2 Now that model is saved, \r\n",
        "#     we can delete it from RAM\r\n",
        "del(model_one)"
      ],
      "execution_count": 29,
      "outputs": []
    },
    {
      "cell_type": "code",
      "metadata": {
        "id": "LO4LDucMqCcZ"
      },
      "source": [
        "# 6.3 Check if 'model' is deleted\r\n",
        "model_one.layers"
      ],
      "execution_count": null,
      "outputs": []
    },
    {
      "cell_type": "code",
      "metadata": {
        "id": "qvr6ez_Itxel"
      },
      "source": [
        "# 6.4 Let us load back the saved model \r\n",
        "model = keras.models.load_model(path)"
      ],
      "execution_count": 31,
      "outputs": []
    },
    {
      "cell_type": "code",
      "metadata": {
        "id": "a-MBHMKIt5zC"
      },
      "source": [
        "# 6.5 Check model summary\r\n",
        "model.summary()"
      ],
      "execution_count": null,
      "outputs": []
    },
    {
      "cell_type": "markdown",
      "metadata": {
        "id": "UCW4U-ZNUE3u"
      },
      "source": [
        "There are two ways of creating our new model that will reuse the trained layers of our old model."
      ]
    },
    {
      "cell_type": "code",
      "metadata": {
        "id": "aDlI-GvsvWzV"
      },
      "source": [
        "## 7.0\r\n",
        "# Method 1: Build a fresh model having\r\n",
        "#           first three layers with \r\n",
        "#           the same configuration \r\n",
        "#           as in the earlier model\r\n",
        "#           Our intention is to REUSE \r\n",
        "#           learnt weights in the Ist three \r\n",
        "#           layers in the new model\r\n",
        "\r\n",
        "\r\n",
        "units =100\r\n",
        "input_l = keras.layers.Input(shape = (784,))\r\n",
        "y = keras.layers.Dense(units = units, activation = \"selu\", name = \"a\")(input_l)\r\n",
        "y = keras.layers.Dense(units = units, activation = \"selu\", name = \"b\")(y)\r\n",
        "y = keras.layers.Dense(units = units, activation = \"selu\", name = \"c\")(y)\r\n"
      ],
      "execution_count": 33,
      "outputs": []
    },
    {
      "cell_type": "code",
      "metadata": {
        "id": "eLoXnc-_VB-A"
      },
      "source": [
        "# 7.1 Now add to it our own layers\r\n",
        "\r\n",
        "y = keras.layers.Dense(units = 20, activation = 'selu', name = \"x1\")(y)\r\n",
        "y = keras.layers.Dense(units = 8, activation = 'relu', name = \"x2\")(y)\r\n",
        "out_l = keras.layers.Dense(units = 1, activation = 'sigmoid', name = \"out_layer\")(y)"
      ],
      "execution_count": 34,
      "outputs": []
    },
    {
      "cell_type": "code",
      "metadata": {
        "id": "cMECAUjZvGyN"
      },
      "source": [
        "# 7.2 Create model\r\n",
        "model_l = Model(inputs = [input_l], outputs = [out_l])\r\n",
        "model_l.compile(loss = \"binary_crossentropy\", metrics = [\"accuracy\"])\r\n",
        "model_l.summary()"
      ],
      "execution_count": null,
      "outputs": []
    },
    {
      "cell_type": "code",
      "metadata": {
        "id": "UHL2EnQafwi_"
      },
      "source": [
        "# 8.0 Let us transfer weights in this model\r\n",
        "#     from weights from our earlier learned-model\r\n",
        "#     After transferring weights, let us also freeze\r\n",
        "#     the layer-weights\r\n",
        "\r\n",
        "for i in range(4):\r\n",
        "  model_l.layers[i].set_weights(model.layers[i].get_weights())\r\n",
        "  model_l.layers[i].trainable = False"
      ],
      "execution_count": 36,
      "outputs": []
    },
    {
      "cell_type": "code",
      "metadata": {
        "colab": {
          "base_uri": "https://localhost:8080/"
        },
        "id": "6dpNM8xyWtEC",
        "outputId": "4ed80eae-e59d-4379-8540-89ad05f5428b"
      },
      "source": [
        "# 8.1 As our last layer is Dense(1) with sigmoid activation\r\n",
        "#     therefore, target data has to have shape of (None,1), rather\r\n",
        "#     than (None,) as at present\r\n",
        "\r\n",
        "ss_y_train = ss_y_train.reshape(-1,1)\r\n",
        "ss_y_train.shape"
      ],
      "execution_count": 37,
      "outputs": [
        {
          "output_type": "execute_result",
          "data": {
            "text/plain": [
              "(12000, 1)"
            ]
          },
          "metadata": {
            "tags": []
          },
          "execution_count": 37
        }
      ]
    },
    {
      "cell_type": "code",
      "metadata": {
        "id": "SMs-hkIPhnzE"
      },
      "source": [
        "# 8.2 Before we proceed for training\r\n",
        "#     let us see which layers are trainable,\r\n",
        "#     and which not\r\n",
        "\r\n",
        "for layer in model_l.layers:\r\n",
        "  print(layer.name,\":\",layer.trainable)"
      ],
      "execution_count": null,
      "outputs": []
    },
    {
      "cell_type": "code",
      "metadata": {
        "id": "WeXureBlWtre"
      },
      "source": [
        "# 8.3 Begin training\r\n",
        "model_l.fit(ss_train ,ss_y_train, epochs = 20)"
      ],
      "execution_count": null,
      "outputs": []
    },
    {
      "cell_type": "code",
      "metadata": {
        "id": "z7k7v92YqKv-"
      },
      "source": [
        "## 9.0\r\n",
        "# Method 2:\r\n",
        "#          Using the last but one layer\r\n",
        "#          create a Sequential model\r\n",
        "\r\n",
        "model_IInd = keras.models.Sequential(model.layers[:-1])\r\n",
        "\r\n",
        "# 9.1 And add to it our own layers\r\n",
        "model_IInd.add(keras.layers.Dense(units = 20, activation = 'selu', name = \"x1\"))\r\n",
        "model_IInd.add(keras.layers.Dense(units = 8, activation = 'relu', name = \"x2\"))\r\n",
        "model_IInd.add(keras.layers.Dense(units = 1, activation = 'sigmoid', name = \"out_layer\"))\r\n"
      ],
      "execution_count": 40,
      "outputs": []
    },
    {
      "cell_type": "code",
      "metadata": {
        "id": "th41t8fesseq"
      },
      "source": [
        "# 9.2 Compile the model\r\n",
        "model_IInd.compile(loss = \"binary_crossentropy\", metrics = ['accuracy'])\r\n"
      ],
      "execution_count": 41,
      "outputs": []
    },
    {
      "cell_type": "code",
      "metadata": {
        "id": "zdXoEV_QtljK"
      },
      "source": [
        "# 9.3 Let us freeze weights in some layers \r\n",
        "\r\n",
        "for i in range(4):\r\n",
        "  model_IInd.layers[i].trainable = False"
      ],
      "execution_count": 42,
      "outputs": []
    },
    {
      "cell_type": "code",
      "metadata": {
        "id": "Qn8CnFpgu8HV"
      },
      "source": [
        "# 9.4 Before we proceed for training\r\n",
        "#     let us see which layers are trainable,\r\n",
        "#     and which not\r\n",
        "\r\n",
        "for layer in model_IInd.layers:\r\n",
        "  print(layer.name,\":\",layer.trainable)"
      ],
      "execution_count": null,
      "outputs": []
    },
    {
      "cell_type": "code",
      "metadata": {
        "id": "FSt7YSSqtfnQ"
      },
      "source": [
        "# 9.5 Begin training now:\r\n",
        "model_IInd.fit(ss_train,ss_y_train, epochs = 20)"
      ],
      "execution_count": null,
      "outputs": []
    },
    {
      "cell_type": "code",
      "metadata": {
        "id": "qan2ImrxrY3t"
      },
      "source": [
        "######## I am done ##########"
      ],
      "execution_count": null,
      "outputs": []
    }
  ]
}