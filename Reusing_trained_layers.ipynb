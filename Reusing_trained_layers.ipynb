{
  "nbformat": 4,
  "nbformat_minor": 0,
  "metadata": {
    "colab": {
      "name": "Reusing trained layers.ipynb",
      "provenance": [],
      "collapsed_sections": [],
      "mount_file_id": "1BtfeRDP6opT9NTrAD8W-3kMcLoMOpEJs",
      "authorship_tag": "ABX9TyMSeW4ROPLrbC4dzbmqSKMT",
      "include_colab_link": true
    },
    "kernelspec": {
      "name": "python3",
      "display_name": "Python 3"
    }
  },
  "cells": [
    {
      "cell_type": "markdown",
      "metadata": {
        "id": "view-in-github",
        "colab_type": "text"
      },
      "source": [
        "<a href=\"https://colab.research.google.com/github/harnalashok/deeplearning/blob/main/Reusing_trained_layers.ipynb\" target=\"_parent\"><img src=\"https://colab.research.google.com/assets/colab-badge.svg\" alt=\"Open In Colab\"/></a>"
      ]
    },
    {
      "cell_type": "code",
      "metadata": {
        "id": "VvpB84DaKX4u"
      },
      "source": [
        "# Last amended: 26th January, 2021\r\n",
        "# My folder: https://github.com/harnalashok/deeplearning\r\n",
        "# Objective: \r\n",
        "#             Reuse layers from one neural network in another.\r\n",
        "#             Layers were trained using different objects\r\n",
        "# Ref:\r\n",
        "#      Aurelien Book: Page 347 \r\n",
        "#      Save and Laod models: https://www.tensorflow.org/guide/keras/save_and_serialize"
      ],
      "execution_count": null,
      "outputs": []
    },
    {
      "cell_type": "markdown",
      "metadata": {
        "id": "qxapacOVT7Ha"
      },
      "source": [
        "**Problem**<br>\r\n",
        "We will take fashion-mnist data. This data contains ten items. We will filter out data for two of the items--shirts and sandals. Prepare a predictive model with remaining eight items.<br>\r\n",
        "After predictive model is made, we will use the trained layers of this model in another NN model to make predictions for the remaining two items. That is, we will reuse trained layers from the first model in the IInd model."
      ]
    },
    {
      "cell_type": "code",
      "metadata": {
        "id": "7_s135n0GDcC"
      },
      "source": [
        "# 1.0 Call libraries\r\n",
        "import tensorflow as tf\r\n",
        "from tensorflow import keras\r\n",
        "from keras.models import Model\r\n",
        "from tensorflow.keras.datasets import fashion_mnist\r\n",
        "import numpy as np"
      ],
      "execution_count": null,
      "outputs": []
    },
    {
      "cell_type": "code",
      "metadata": {
        "id": "Gp-WDNu5QFh0"
      },
      "source": [
        "# 1.1 Display multiple commands outputs from a cell\r\n",
        "from IPython.core.interactiveshell import InteractiveShell\r\n",
        "InteractiveShell.ast_node_interactivity = \"all\""
      ],
      "execution_count": null,
      "outputs": []
    },
    {
      "cell_type": "code",
      "metadata": {
        "colab": {
          "base_uri": "https://localhost:8080/"
        },
        "id": "MQuyjharJt7q",
        "outputId": "1177cc93-5316-48a1-9b82-882c3533a4c8"
      },
      "source": [
        "# 2.0 Get split data\r\n",
        "(X_train, y_train), (X_test,y_test) = fashion_mnist.load_data()"
      ],
      "execution_count": null,
      "outputs": [
        {
          "output_type": "stream",
          "text": [
            "Downloading data from https://storage.googleapis.com/tensorflow/tf-keras-datasets/train-labels-idx1-ubyte.gz\n",
            "32768/29515 [=================================] - 0s 0us/step\n",
            "Downloading data from https://storage.googleapis.com/tensorflow/tf-keras-datasets/train-images-idx3-ubyte.gz\n",
            "26427392/26421880 [==============================] - 0s 0us/step\n",
            "Downloading data from https://storage.googleapis.com/tensorflow/tf-keras-datasets/t10k-labels-idx1-ubyte.gz\n",
            "8192/5148 [===============================================] - 0s 0us/step\n",
            "Downloading data from https://storage.googleapis.com/tensorflow/tf-keras-datasets/t10k-images-idx3-ubyte.gz\n",
            "4423680/4422102 [==============================] - 0s 0us/step\n"
          ],
          "name": "stdout"
        }
      ]
    },
    {
      "cell_type": "code",
      "metadata": {
        "colab": {
          "base_uri": "https://localhost:8080/"
        },
        "id": "1MFwLf5LNeOl",
        "outputId": "f1b40dbb-ab95-4fe1-f909-7d3d2c555436"
      },
      "source": [
        "# 2.1 Train data shape\r\n",
        "X_train.shape    # (60000, 28, 28)\r\n",
        "y_train.shape    # (60000,)"
      ],
      "execution_count": null,
      "outputs": [
        {
          "output_type": "execute_result",
          "data": {
            "text/plain": [
              "(60000, 28, 28)"
            ]
          },
          "metadata": {
            "tags": []
          },
          "execution_count": 4
        },
        {
          "output_type": "execute_result",
          "data": {
            "text/plain": [
              "(60000,)"
            ]
          },
          "metadata": {
            "tags": []
          },
          "execution_count": 4
        }
      ]
    },
    {
      "cell_type": "code",
      "metadata": {
        "id": "nMwOvAVgKcYW"
      },
      "source": [
        "# 2.2 Fashion items\r\n",
        "items = [\"T-shirt/top\", \"Trouser\", \"Pullover\", \"Dress\", \"Coat\", \"Sandal\", \"Shirt\", \"Sneaker\", \"Bag\", \"Ankle boot\"]"
      ],
      "execution_count": null,
      "outputs": []
    },
    {
      "cell_type": "code",
      "metadata": {
        "id": "zH2WT77QLBMB"
      },
      "source": [
        "# 2.3 Normalise data\r\n",
        "X_train = X_train/255.0\r\n",
        "X_test = X_test/255.0"
      ],
      "execution_count": null,
      "outputs": []
    },
    {
      "cell_type": "code",
      "metadata": {
        "colab": {
          "base_uri": "https://localhost:8080/"
        },
        "id": "rFRzSmZdMwji",
        "outputId": "4ea1b9da-005a-4066-a818-38abfdfbeea4"
      },
      "source": [
        "# 2.4 We separate our data further\r\n",
        "#     Shirts and Sandals in one dataset and remaining 8 items\r\n",
        "#     in another dataset. Shirts and Sandals are at index 5 & 6\r\n",
        "#     Data with shirts and sandals:\r\n",
        "# 2.4.1\r\n",
        "ss_train = X_train[np.logical_or (y_train == 5,y_train == 6), :, :]\r\n",
        "ss_train.shape   # (12000, 28, 28)\r\n",
        "# 2.4.2\r\n",
        "ss_y_train = y_train[np.logical_or (y_train == 5,y_train == 6)]\r\n",
        "ss_y_train.shape  # (12000,)\r\n",
        "\r\n",
        "# 2.4.3\r\n",
        "ss_test = X_test[np.logical_or (y_test == 5,y_test == 6), :, :]\r\n",
        "ss_test.shape    # (2000, 28, 28)\r\n",
        "# 2.4.4\r\n",
        "ss_y_test = y_test[np.logical_or (y_test == 5,y_test == 6)]\r\n",
        "ss_y_test.shape   # (2000,)"
      ],
      "execution_count": null,
      "outputs": [
        {
          "output_type": "execute_result",
          "data": {
            "text/plain": [
              "(12000, 28, 28)"
            ]
          },
          "metadata": {
            "tags": []
          },
          "execution_count": 8
        },
        {
          "output_type": "execute_result",
          "data": {
            "text/plain": [
              "(12000,)"
            ]
          },
          "metadata": {
            "tags": []
          },
          "execution_count": 8
        },
        {
          "output_type": "execute_result",
          "data": {
            "text/plain": [
              "(2000, 28, 28)"
            ]
          },
          "metadata": {
            "tags": []
          },
          "execution_count": 8
        },
        {
          "output_type": "execute_result",
          "data": {
            "text/plain": [
              "(2000,)"
            ]
          },
          "metadata": {
            "tags": []
          },
          "execution_count": 8
        }
      ]
    },
    {
      "cell_type": "code",
      "metadata": {
        "id": "KniTvKJqw8X0"
      },
      "source": [
        "# 3.0 Change labels of shirts and sandals\r\n",
        "#     in ss_y_train/ss_y_test to 1 and 0\r\n",
        "\r\n",
        "ss_y_train[ss_y_train == 6] = 1\r\n",
        "ss_y_train[ss_y_train == 5] = 0\r\n",
        "\r\n",
        "# 3.1 Recheck \r\n",
        "ss_y_train"
      ],
      "execution_count": null,
      "outputs": []
    },
    {
      "cell_type": "code",
      "metadata": {
        "colab": {
          "base_uri": "https://localhost:8080/"
        },
        "id": "hoI9BCewNJR7",
        "outputId": "add0e673-7e6c-4823-a27a-f346e1bf2779"
      },
      "source": [
        "# 4.0 train/test data for remaining 8 items\r\n",
        "# 4.1 Train data\r\n",
        "data_train = X_train[ np.logical_and (y_train != 5 , y_train !=6), :,:]\r\n",
        "data_train.shape  # (48000, 28, 28)\r\n",
        "# 4.2 Train labels\r\n",
        "data_y_train = y_train[ np.logical_and (y_train != 5 , y_train !=6)]\r\n",
        "data_y_train.shape  # (48000,)\r\n",
        "\r\n",
        "# 4.3 Test data\r\n",
        "data_test = X_test[ np.logical_and (y_test != 5 , y_test !=6), :,:]\r\n",
        "data_test.shape   # (8000, 28, 28)\r\n",
        "# 4.4 Test labels\r\n",
        "data_y_test = y_test[ np.logical_and (y_test != 5 , y_test !=6)]\r\n",
        "data_y_test.shape  # (8000,)"
      ],
      "execution_count": null,
      "outputs": [
        {
          "output_type": "execute_result",
          "data": {
            "text/plain": [
              "(48000, 28, 28)"
            ]
          },
          "metadata": {
            "tags": []
          },
          "execution_count": 9
        },
        {
          "output_type": "execute_result",
          "data": {
            "text/plain": [
              "(48000,)"
            ]
          },
          "metadata": {
            "tags": []
          },
          "execution_count": 9
        },
        {
          "output_type": "execute_result",
          "data": {
            "text/plain": [
              "(8000, 28, 28)"
            ]
          },
          "metadata": {
            "tags": []
          },
          "execution_count": 9
        },
        {
          "output_type": "execute_result",
          "data": {
            "text/plain": [
              "(8000,)"
            ]
          },
          "metadata": {
            "tags": []
          },
          "execution_count": 9
        }
      ]
    },
    {
      "cell_type": "code",
      "metadata": {
        "id": "zDowphN9srE5"
      },
      "source": [
        "# 4.5 Reshape train/test data\r\n",
        "#     8-items data\r\n",
        "data_train = data_train.reshape(-1,784)\r\n",
        "data_test = data_test.reshape(-1,784)\r\n",
        "# 4.6 2-items data\r\n",
        "ss_train = ss_train.reshape(-1,784)\r\n",
        "ss_test = ss_test.reshape(-1,784)"
      ],
      "execution_count": null,
      "outputs": []
    },
    {
      "cell_type": "code",
      "metadata": {
        "colab": {
          "base_uri": "https://localhost:8080/"
        },
        "id": "Ctfg_TdEeivY",
        "outputId": "4b3392b9-760a-4304-e548-2f702120967f"
      },
      "source": [
        "# 5.0 Our Ist model. No frills\r\n",
        "\r\n",
        "units =100\r\n",
        "\r\n",
        "# 5.1 Input layer\r\n",
        "input = keras.layers.Input(shape = (784,))\r\n",
        "\r\n",
        "# 5.2 Hidden layers\r\n",
        "x = keras.layers.Dense(units = units, activation = \"selu\", name = \"Layer_a\")(input)\r\n",
        "x = keras.layers.Dense(units = units, activation = \"selu\", name = \"Layer_b\")(x)\r\n",
        "x = keras.layers.Dense(units = units, activation = \"selu\", name = \"Layer_c\")(x)\r\n",
        "\r\n",
        "# 5.3 Output layer\r\n",
        "out = keras.layers.Dense(units = 10, activation = 'softmax', name = \"Layer_d\")(x)\r\n",
        "\r\n",
        "# 5.4 Design model\r\n",
        "model = Model(inputs = [input], outputs = [out])\r\n",
        "\r\n",
        "# 5.5 Compile model\r\n",
        "model.compile(loss = \"sparse_categorical_crossentropy\", metrics = \"accuracy\")\r\n",
        "\r\n",
        "# 5.6 Fit the model\r\n",
        "model.fit(data_train,data_y_train, epochs = 20)"
      ],
      "execution_count": null,
      "outputs": [
        {
          "output_type": "stream",
          "text": [
            "Epoch 1/20\n",
            "1500/1500 [==============================] - 4s 2ms/step - loss: 0.4795 - accuracy: 0.8307\n",
            "Epoch 2/20\n",
            "1500/1500 [==============================] - 4s 2ms/step - loss: 0.2641 - accuracy: 0.9058\n",
            "Epoch 3/20\n",
            "1500/1500 [==============================] - 4s 2ms/step - loss: 0.2303 - accuracy: 0.9184\n",
            "Epoch 4/20\n",
            "1500/1500 [==============================] - 4s 2ms/step - loss: 0.2160 - accuracy: 0.9232\n",
            "Epoch 5/20\n",
            "1500/1500 [==============================] - 4s 2ms/step - loss: 0.2011 - accuracy: 0.9278\n",
            "Epoch 6/20\n",
            "1500/1500 [==============================] - 4s 2ms/step - loss: 0.1905 - accuracy: 0.9318\n",
            "Epoch 7/20\n",
            "1500/1500 [==============================] - 4s 3ms/step - loss: 0.1836 - accuracy: 0.9340\n",
            "Epoch 8/20\n",
            "1500/1500 [==============================] - 4s 3ms/step - loss: 0.1763 - accuracy: 0.9374\n",
            "Epoch 9/20\n",
            "1500/1500 [==============================] - 4s 2ms/step - loss: 0.1706 - accuracy: 0.9399\n",
            "Epoch 10/20\n",
            "1500/1500 [==============================] - 4s 3ms/step - loss: 0.1644 - accuracy: 0.9417\n",
            "Epoch 11/20\n",
            "1500/1500 [==============================] - 4s 3ms/step - loss: 0.1543 - accuracy: 0.9436\n",
            "Epoch 12/20\n",
            "1500/1500 [==============================] - 4s 3ms/step - loss: 0.1512 - accuracy: 0.9461\n",
            "Epoch 13/20\n",
            "1500/1500 [==============================] - 4s 3ms/step - loss: 0.1526 - accuracy: 0.9441\n",
            "Epoch 14/20\n",
            "1500/1500 [==============================] - 4s 2ms/step - loss: 0.1439 - accuracy: 0.9484\n",
            "Epoch 15/20\n",
            "1500/1500 [==============================] - 4s 3ms/step - loss: 0.1483 - accuracy: 0.9468\n",
            "Epoch 16/20\n",
            "1500/1500 [==============================] - 4s 3ms/step - loss: 0.1377 - accuracy: 0.9508\n",
            "Epoch 17/20\n",
            "1500/1500 [==============================] - 4s 3ms/step - loss: 0.1378 - accuracy: 0.9507\n",
            "Epoch 18/20\n",
            "1500/1500 [==============================] - 4s 3ms/step - loss: 0.1353 - accuracy: 0.9501\n",
            "Epoch 19/20\n",
            "1500/1500 [==============================] - 4s 3ms/step - loss: 0.1361 - accuracy: 0.9514\n",
            "Epoch 20/20\n",
            "1500/1500 [==============================] - 4s 3ms/step - loss: 0.1306 - accuracy: 0.9534\n"
          ],
          "name": "stdout"
        },
        {
          "output_type": "execute_result",
          "data": {
            "text/plain": [
              "<tensorflow.python.keras.callbacks.History at 0x7fcf34a83710>"
            ]
          },
          "metadata": {
            "tags": []
          },
          "execution_count": 14
        }
      ]
    },
    {
      "cell_type": "code",
      "metadata": {
        "colab": {
          "base_uri": "https://localhost:8080/"
        },
        "id": "iY59Iia5jdyW",
        "outputId": "c4f5caac-1e4c-4cdd-a60c-7d1414829041"
      },
      "source": [
        "# 5.7 Summary\r\n",
        "model.summary()"
      ],
      "execution_count": null,
      "outputs": [
        {
          "output_type": "stream",
          "text": [
            "Model: \"model\"\n",
            "_________________________________________________________________\n",
            "Layer (type)                 Output Shape              Param #   \n",
            "=================================================================\n",
            "input_1 (InputLayer)         [(None, 784)]             0         \n",
            "_________________________________________________________________\n",
            "a (Dense)                    (None, 100)               78500     \n",
            "_________________________________________________________________\n",
            "b (Dense)                    (None, 100)               10100     \n",
            "_________________________________________________________________\n",
            "c (Dense)                    (None, 100)               10100     \n",
            "_________________________________________________________________\n",
            "d (Dense)                    (None, 10)                1010      \n",
            "=================================================================\n",
            "Total params: 99,710\n",
            "Trainable params: 99,710\n",
            "Non-trainable params: 0\n",
            "_________________________________________________________________\n"
          ],
          "name": "stdout"
        }
      ]
    },
    {
      "cell_type": "code",
      "metadata": {
        "colab": {
          "base_uri": "https://localhost:8080/"
        },
        "id": "z_LLUh52wMga",
        "outputId": "192ef4c7-4e04-485e-f5ab-4d4c50f5ddbb"
      },
      "source": [
        "# 6.0 Save this model in a folder. \r\n",
        "#     Folder will be created if \r\n",
        "#     it does not exist:\r\n",
        "\r\n",
        "tf.saved_model.save(model, \"/root/model\")"
      ],
      "execution_count": null,
      "outputs": [
        {
          "output_type": "stream",
          "text": [
            "INFO:tensorflow:Assets written to: /root/model/assets\n"
          ],
          "name": "stdout"
        }
      ]
    },
    {
      "cell_type": "code",
      "metadata": {
        "id": "bmMCqC7qwRPI"
      },
      "source": [
        "# 6.1 Now that model is saved, \r\n",
        "#     we can delete it from RAM\r\n",
        "del(model)"
      ],
      "execution_count": null,
      "outputs": []
    },
    {
      "cell_type": "code",
      "metadata": {
        "colab": {
          "base_uri": "https://localhost:8080/",
          "height": 191
        },
        "id": "LO4LDucMqCcZ",
        "outputId": "585e4b73-aa2c-461b-cc74-cccfeacbb4d9"
      },
      "source": [
        "# 6.2 Check if deleted\r\n",
        "model.layers\r\n",
        "model.layers[3]"
      ],
      "execution_count": null,
      "outputs": [
        {
          "output_type": "error",
          "ename": "NameError",
          "evalue": "ignored",
          "traceback": [
            "\u001b[0;31m---------------------------------------------------------------------------\u001b[0m",
            "\u001b[0;31mNameError\u001b[0m                                 Traceback (most recent call last)",
            "\u001b[0;32m<ipython-input-17-62306c5c8b8c>\u001b[0m in \u001b[0;36m<module>\u001b[0;34m()\u001b[0m\n\u001b[0;32m----> 1\u001b[0;31m \u001b[0mmodel\u001b[0m\u001b[0;34m.\u001b[0m\u001b[0mlayers\u001b[0m\u001b[0;34m\u001b[0m\u001b[0;34m\u001b[0m\u001b[0m\n\u001b[0m\u001b[1;32m      2\u001b[0m \u001b[0mmodel\u001b[0m\u001b[0;34m.\u001b[0m\u001b[0mlayers\u001b[0m\u001b[0;34m[\u001b[0m\u001b[0;36m3\u001b[0m\u001b[0;34m]\u001b[0m\u001b[0;34m\u001b[0m\u001b[0;34m\u001b[0m\u001b[0m\n",
            "\u001b[0;31mNameError\u001b[0m: name 'model' is not defined"
          ]
        }
      ]
    },
    {
      "cell_type": "code",
      "metadata": {
        "id": "GtHSjCr1pGBt"
      },
      "source": [
        "for layer in model.layers[:4]:\r\n",
        "  layer.trainable = False"
      ],
      "execution_count": null,
      "outputs": []
    },
    {
      "cell_type": "code",
      "metadata": {
        "id": "qvr6ez_Itxel"
      },
      "source": [
        "# Let us load thesaved model now\r\n",
        "model_l = keras.models.load_model(\"/root/model\")"
      ],
      "execution_count": null,
      "outputs": []
    },
    {
      "cell_type": "code",
      "metadata": {
        "colab": {
          "base_uri": "https://localhost:8080/"
        },
        "id": "a-MBHMKIt5zC",
        "outputId": "47c04a20-ff10-4680-dc4d-fdd47743d8ae"
      },
      "source": [
        "# Check summary\r\n",
        "model_l.summary()"
      ],
      "execution_count": null,
      "outputs": [
        {
          "output_type": "stream",
          "text": [
            "Model: \"model_1\"\n",
            "_________________________________________________________________\n",
            "Layer (type)                 Output Shape              Param #   \n",
            "=================================================================\n",
            "input_2 (InputLayer)         [(None, 784)]             0         \n",
            "_________________________________________________________________\n",
            "Layer_a (Dense)              (None, 100)               78500     \n",
            "_________________________________________________________________\n",
            "Layer_b (Dense)              (None, 100)               10100     \n",
            "_________________________________________________________________\n",
            "Layer_c (Dense)              (None, 100)               10100     \n",
            "_________________________________________________________________\n",
            "Layer_d (Dense)              (None, 10)                1010      \n",
            "=================================================================\n",
            "Total params: 99,710\n",
            "Trainable params: 99,710\n",
            "Non-trainable params: 0\n",
            "_________________________________________________________________\n"
          ],
          "name": "stdout"
        }
      ]
    },
    {
      "cell_type": "code",
      "metadata": {
        "colab": {
          "base_uri": "https://localhost:8080/",
          "height": 209
        },
        "id": "5PnVGsDhzA24",
        "outputId": "0c424b18-449a-4aa1-c4c1-4883dea87bfa"
      },
      "source": [
        "xy = keras.models.Model(model_l.layers[:-1])\r\n",
        "out = keras.layers.Dense(units = 2, activation = 'softmax', name = \"d\")\r\n"
      ],
      "execution_count": null,
      "outputs": [
        {
          "output_type": "error",
          "ename": "AttributeError",
          "evalue": "ignored",
          "traceback": [
            "\u001b[0;31m---------------------------------------------------------------------------\u001b[0m",
            "\u001b[0;31mAttributeError\u001b[0m                            Traceback (most recent call last)",
            "\u001b[0;32m<ipython-input-29-8d02f7765a56>\u001b[0m in \u001b[0;36m<module>\u001b[0;34m()\u001b[0m\n\u001b[1;32m      1\u001b[0m \u001b[0mxy\u001b[0m \u001b[0;34m=\u001b[0m \u001b[0mkeras\u001b[0m\u001b[0;34m.\u001b[0m\u001b[0mmodels\u001b[0m\u001b[0;34m.\u001b[0m\u001b[0mModel\u001b[0m\u001b[0;34m(\u001b[0m\u001b[0mmodel_l\u001b[0m\u001b[0;34m.\u001b[0m\u001b[0mlayers\u001b[0m\u001b[0;34m[\u001b[0m\u001b[0;34m:\u001b[0m\u001b[0;34m-\u001b[0m\u001b[0;36m1\u001b[0m\u001b[0;34m]\u001b[0m\u001b[0;34m)\u001b[0m\u001b[0;34m\u001b[0m\u001b[0;34m\u001b[0m\u001b[0m\n\u001b[0;32m----> 2\u001b[0;31m \u001b[0mxy\u001b[0m\u001b[0;34m.\u001b[0m\u001b[0madd\u001b[0m\u001b[0;34m(\u001b[0m\u001b[0mkeras\u001b[0m\u001b[0;34m.\u001b[0m\u001b[0mlayers\u001b[0m\u001b[0;34m.\u001b[0m\u001b[0mDense\u001b[0m\u001b[0;34m(\u001b[0m\u001b[0munits\u001b[0m \u001b[0;34m=\u001b[0m \u001b[0;36m2\u001b[0m\u001b[0;34m,\u001b[0m \u001b[0mactivation\u001b[0m \u001b[0;34m=\u001b[0m \u001b[0;34m'softmax'\u001b[0m\u001b[0;34m,\u001b[0m \u001b[0mname\u001b[0m \u001b[0;34m=\u001b[0m \u001b[0;34m\"d\"\u001b[0m\u001b[0;34m)\u001b[0m\u001b[0;34m)\u001b[0m\u001b[0;34m\u001b[0m\u001b[0;34m\u001b[0m\u001b[0m\n\u001b[0m\u001b[1;32m      3\u001b[0m \u001b[0mtype\u001b[0m\u001b[0;34m(\u001b[0m\u001b[0mxy\u001b[0m\u001b[0;34m)\u001b[0m\u001b[0;34m\u001b[0m\u001b[0;34m\u001b[0m\u001b[0m\n",
            "\u001b[0;31mAttributeError\u001b[0m: 'Model' object has no attribute 'add'"
          ]
        }
      ]
    },
    {
      "cell_type": "code",
      "metadata": {
        "id": "CRGoJYz9yCiO"
      },
      "source": [
        "for layer in model_l.layers[:4]:\r\n",
        "  layer.trainable = False"
      ],
      "execution_count": null,
      "outputs": []
    },
    {
      "cell_type": "code",
      "metadata": {
        "id": "aDlI-GvsvWzV"
      },
      "source": [
        "units =100\r\n",
        "input = keras.layers.Input(shape = (784,))\r\n",
        "x = keras.layers.Dense(units = units, activation = \"selu\", name = \"a\")(input)\r\n",
        "x = keras.layers.Dense(units = units, activation = \"selu\", name = \"b\")(x)\r\n",
        "x = keras.layers.Dense(units = units, activation = \"selu\", name = \"c\")(x)\r\n",
        "out = keras.layers.Dense(units = 2, activation = 'softmax', name = \"d\")(x)"
      ],
      "execution_count": null,
      "outputs": []
    },
    {
      "cell_type": "code",
      "metadata": {
        "id": "cMECAUjZvGyN"
      },
      "source": [
        "model_1 = Model(inputs = [input], outputs = [out])\r\n"
      ],
      "execution_count": null,
      "outputs": []
    },
    {
      "cell_type": "code",
      "metadata": {
        "colab": {
          "base_uri": "https://localhost:8080/"
        },
        "id": "mQHij-49wCsq",
        "outputId": "d619a12c-eeaa-446d-d54a-a5850420154d"
      },
      "source": [
        "model.layers[1].get_weights()"
      ],
      "execution_count": null,
      "outputs": [
        {
          "output_type": "execute_result",
          "data": {
            "text/plain": [
              "[array([[ 0.0200765 ,  0.03928816,  0.02216594, ...,  0.08818798,\n",
              "          0.0273401 , -0.01568698],\n",
              "        [ 0.06713179,  0.03235041, -0.04764441, ..., -0.01043751,\n",
              "          0.02157476,  0.10488354],\n",
              "        [-0.33216465,  0.251126  , -0.18246882, ...,  0.3922871 ,\n",
              "          0.297408  ,  0.25099432],\n",
              "        ...,\n",
              "        [ 0.0466023 , -0.1216006 , -0.01429964, ...,  0.26163495,\n",
              "         -0.16638726,  0.5435451 ],\n",
              "        [ 0.30099398, -0.329225  ,  0.16592345, ...,  0.07812608,\n",
              "          0.11534598,  0.227801  ],\n",
              "        [ 0.00073423, -0.07167973, -0.2865736 , ...,  0.09619594,\n",
              "          0.24174218,  0.23470792]], dtype=float32),\n",
              " array([-2.36573309e-01, -2.35280357e-02,  1.04582310e-02, -2.32576556e-03,\n",
              "        -8.40267241e-02,  2.33466566e-01, -1.06402397e-01, -1.96787328e-01,\n",
              "         3.09968114e-01, -4.44545858e-02, -4.51167047e-01,  3.58818546e-02,\n",
              "        -1.44800574e-01, -4.93491516e-02,  9.34602171e-02,  5.79757988e-02,\n",
              "         5.08762226e-02, -2.65835792e-01, -3.08039069e-01,  4.79532667e-02,\n",
              "         1.36974707e-01, -3.87548715e-01, -2.54849275e-03, -4.80393954e-02,\n",
              "        -1.62798569e-01, -8.27219486e-02, -3.23460847e-01, -1.46340683e-01,\n",
              "        -2.45617539e-01,  1.41919721e-02, -2.51842905e-02,  5.81778176e-02,\n",
              "        -1.58366084e-01, -3.04391742e-01, -3.56642157e-02,  1.05345346e-01,\n",
              "         1.18271299e-01,  3.10012721e-04,  5.57139479e-02,  3.10160276e-02,\n",
              "        -6.60514906e-02, -1.16191305e-01,  1.89165622e-01, -5.68736866e-02,\n",
              "        -1.89293727e-01, -1.55061677e-01,  6.49806857e-02, -3.43962833e-02,\n",
              "        -2.26915665e-02, -4.00014371e-02, -2.79851228e-01,  1.09776869e-01,\n",
              "        -1.33164495e-01, -1.86551198e-01,  1.17492512e-01, -1.33705989e-01,\n",
              "         2.36784965e-01, -1.52310461e-01, -3.89957577e-02, -9.90757495e-02,\n",
              "        -8.72297809e-02,  1.20454192e-01, -7.12011661e-03, -2.84063250e-01,\n",
              "         1.70176066e-02, -7.66312256e-02, -2.06487611e-01, -9.64970440e-02,\n",
              "         1.23267680e-01,  1.02087945e-01, -1.82087887e-02,  1.55812979e-01,\n",
              "        -9.46553797e-02,  1.59641877e-01, -1.54173642e-01, -1.66741639e-01,\n",
              "         4.94437926e-02,  6.00458197e-02,  1.59994185e-01, -2.07490966e-01,\n",
              "        -5.82503267e-02, -4.26150769e-01,  7.87257589e-03, -1.08489349e-01,\n",
              "        -8.37747827e-02, -3.72040898e-01, -7.47925043e-02,  1.15004189e-01,\n",
              "        -2.64083058e-01, -2.02152833e-01, -2.20725819e-01, -1.76568568e-01,\n",
              "         1.53684646e-01,  4.53351885e-02, -8.63949284e-02,  1.10477298e-01,\n",
              "        -3.79032902e-02, -3.22115906e-02,  6.06131144e-02, -9.94134247e-02],\n",
              "       dtype=float32)]"
            ]
          },
          "metadata": {
            "tags": []
          },
          "execution_count": 124
        }
      ]
    },
    {
      "cell_type": "code",
      "metadata": {
        "id": "q3qaXCMzvllI"
      },
      "source": [
        "for r in range(4):\r\n",
        "  model_1.layers[r].set_weights(model.layers[r].get_weights())"
      ],
      "execution_count": null,
      "outputs": []
    },
    {
      "cell_type": "code",
      "metadata": {
        "id": "f41bq_QWwh5b"
      },
      "source": [
        "model_1.compile(loss = \"sparse_categorical_crossentropy\", metrics = \"accuracy\")"
      ],
      "execution_count": null,
      "outputs": []
    },
    {
      "cell_type": "code",
      "metadata": {
        "colab": {
          "base_uri": "https://localhost:8080/"
        },
        "id": "Z3Pg6zMZp8Xf",
        "outputId": "76d71228-9fb6-41a8-b9f0-4c70cbbf105d"
      },
      "source": [
        "model_1.fit(ss_train,ss_y_train,epochs = 10)\r\n"
      ],
      "execution_count": null,
      "outputs": [
        {
          "output_type": "stream",
          "text": [
            "Epoch 1/10\n",
            "375/375 [==============================] - 1s 2ms/step - loss: 0.0316 - accuracy: 0.9933\n",
            "Epoch 2/10\n",
            "375/375 [==============================] - 1s 3ms/step - loss: 0.0032 - accuracy: 0.9995\n",
            "Epoch 3/10\n",
            "375/375 [==============================] - 1s 2ms/step - loss: 0.0031 - accuracy: 0.9996\n",
            "Epoch 4/10\n",
            "375/375 [==============================] - 1s 2ms/step - loss: 0.0013 - accuracy: 0.9998\n",
            "Epoch 5/10\n",
            "375/375 [==============================] - 1s 2ms/step - loss: 8.0996e-04 - accuracy: 0.9998\n",
            "Epoch 6/10\n",
            "375/375 [==============================] - 1s 2ms/step - loss: 2.0326e-04 - accuracy: 0.9999\n",
            "Epoch 7/10\n",
            "375/375 [==============================] - 1s 3ms/step - loss: 1.9579e-05 - accuracy: 1.0000\n",
            "Epoch 8/10\n",
            "375/375 [==============================] - 1s 2ms/step - loss: 7.9210e-04 - accuracy: 0.9999\n",
            "Epoch 9/10\n",
            "375/375 [==============================] - 1s 2ms/step - loss: 4.5399e-09 - accuracy: 1.0000\n",
            "Epoch 10/10\n",
            "375/375 [==============================] - 1s 2ms/step - loss: 1.9868e-10 - accuracy: 1.0000\n"
          ],
          "name": "stdout"
        },
        {
          "output_type": "execute_result",
          "data": {
            "text/plain": [
              "<tensorflow.python.keras.callbacks.History at 0x7fd1b319a5c0>"
            ]
          },
          "metadata": {
            "tags": []
          },
          "execution_count": 134
        }
      ]
    },
    {
      "cell_type": "code",
      "metadata": {
        "id": "qan2ImrxrY3t"
      },
      "source": [
        ""
      ],
      "execution_count": null,
      "outputs": []
    }
  ]
}