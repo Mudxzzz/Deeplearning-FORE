{
  "nbformat": 4,
  "nbformat_minor": 0,
  "metadata": {
    "colab": {
      "name": "Reusing trained layers.ipynb",
      "provenance": [],
      "collapsed_sections": [],
      "mount_file_id": "1BtfeRDP6opT9NTrAD8W-3kMcLoMOpEJs",
      "authorship_tag": "ABX9TyMffSQrND5u7yta6r6tqsA0",
      "include_colab_link": true
    },
    "kernelspec": {
      "name": "python3",
      "display_name": "Python 3"
    }
  },
  "cells": [
    {
      "cell_type": "markdown",
      "metadata": {
        "id": "view-in-github",
        "colab_type": "text"
      },
      "source": [
        "<a href=\"https://colab.research.google.com/github/harnalashok/deeplearning/blob/main/Reusing_trained_layers.ipynb\" target=\"_parent\"><img src=\"https://colab.research.google.com/assets/colab-badge.svg\" alt=\"Open In Colab\"/></a>"
      ]
    },
    {
      "cell_type": "code",
      "metadata": {
        "id": "VvpB84DaKX4u"
      },
      "source": [
        "# Last amended: 26th January, 2021\r\n",
        "# My folder: https://github.com/harnalashok/deeplearning\r\n",
        "# Objective: \r\n",
        "#             i) Reuse layers from one neural network in another.\r\n",
        "#             ii)Ist model was trained using a different set of \r\n",
        "#                class labels than present in the IInd case\r\n",
        "#\r\n",
        "# Ref:\r\n",
        "#      Aurelien Book: Page 347 \r\n",
        "#      Save and Laod models: https://www.tensorflow.org/guide/keras/save_and_serialize"
      ],
      "execution_count": 12,
      "outputs": []
    },
    {
      "cell_type": "markdown",
      "metadata": {
        "id": "qxapacOVT7Ha"
      },
      "source": [
        "**Problem**<br>\r\n",
        "We will take fashion-mnist data. This data contains ten items. We will filter out data for two of the items--shirts and sandals. Prepare a predictive model with remaining eight items.<br>\r\n",
        "After predictive model is made, we will use the trained layers of this model in another NN model to make predictions for the remaining two items. That is, we will reuse trained layers from the first model in the IInd model."
      ]
    },
    {
      "cell_type": "code",
      "metadata": {
        "id": "7_s135n0GDcC"
      },
      "source": [
        "# 1.0 Call libraries\r\n",
        "import tensorflow as tf\r\n",
        "from tensorflow import keras\r\n",
        "from keras.models import Model\r\n",
        "from tensorflow.keras.datasets import fashion_mnist\r\n",
        "from tensorflow.keras.utils import plot_model\r\n",
        "import numpy as np"
      ],
      "execution_count": 13,
      "outputs": []
    },
    {
      "cell_type": "code",
      "metadata": {
        "id": "Gp-WDNu5QFh0"
      },
      "source": [
        "# 1.1 Display multiple commands outputs from a cell\r\n",
        "from IPython.core.interactiveshell import InteractiveShell\r\n",
        "InteractiveShell.ast_node_interactivity = \"all\""
      ],
      "execution_count": 14,
      "outputs": []
    },
    {
      "cell_type": "code",
      "metadata": {
        "id": "MQuyjharJt7q"
      },
      "source": [
        "# 2.0 Get split data\r\n",
        "(X_train, y_train), (X_test,y_test) = fashion_mnist.load_data()"
      ],
      "execution_count": 15,
      "outputs": []
    },
    {
      "cell_type": "code",
      "metadata": {
        "colab": {
          "base_uri": "https://localhost:8080/"
        },
        "id": "1MFwLf5LNeOl",
        "outputId": "fcb34634-c8d8-487d-9b72-faa33d90477d"
      },
      "source": [
        "# 2.1 Shape of train data\r\n",
        "X_train.shape    # (60000, 28, 28)\r\n",
        "y_train.shape    # (60000,)"
      ],
      "execution_count": 16,
      "outputs": [
        {
          "output_type": "execute_result",
          "data": {
            "text/plain": [
              "(60000, 28, 28)"
            ]
          },
          "metadata": {
            "tags": []
          },
          "execution_count": 16
        },
        {
          "output_type": "execute_result",
          "data": {
            "text/plain": [
              "(60000,)"
            ]
          },
          "metadata": {
            "tags": []
          },
          "execution_count": 16
        }
      ]
    },
    {
      "cell_type": "code",
      "metadata": {
        "id": "nMwOvAVgKcYW"
      },
      "source": [
        "# 2.2 Fashion items\r\n",
        "items = [\"T-shirt/top\", \"Trouser\", \"Pullover\", \"Dress\", \"Coat\", \"Sandal\", \"Shirt\", \"Sneaker\", \"Bag\", \"Ankle boot\"]"
      ],
      "execution_count": 17,
      "outputs": []
    },
    {
      "cell_type": "code",
      "metadata": {
        "id": "zH2WT77QLBMB"
      },
      "source": [
        "# 2.3 Normalise train/test data\r\n",
        "X_train = X_train/255.0\r\n",
        "X_test = X_test/255.0"
      ],
      "execution_count": 18,
      "outputs": []
    },
    {
      "cell_type": "code",
      "metadata": {
        "colab": {
          "base_uri": "https://localhost:8080/"
        },
        "id": "rFRzSmZdMwji",
        "outputId": "6d3b2fa4-fc60-41f4-a6fb-d2b0499a13f5"
      },
      "source": [
        "# 2.4 We filter our data further\r\n",
        "#     Put Shirts and Sandals in one dataset\r\n",
        "#     And remaining 8 items in another dataset.\r\n",
        "#     Shirts and Sandals are labelled as '5' & '6'\r\n",
        "\r\n",
        "## Get train/test data with shirts and sandals:\r\n",
        "# 2.4.1\r\n",
        "ss_train = X_train[np.logical_or (y_train == 5,y_train == 6), :, :]\r\n",
        "ss_train.shape   # (12000, 28, 28)\r\n",
        "# 2.4.2\r\n",
        "ss_y_train = y_train[np.logical_or (y_train == 5,y_train == 6)]\r\n",
        "ss_y_train.shape  # (12000,)\r\n",
        "\r\n",
        "# 2.4.3\r\n",
        "ss_test = X_test[np.logical_or (y_test == 5,y_test == 6), :, :]\r\n",
        "ss_test.shape    # (2000, 28, 28)\r\n",
        "# 2.4.4\r\n",
        "ss_y_test = y_test[np.logical_or (y_test == 5,y_test == 6)]\r\n",
        "ss_y_test.shape   # (2000,)"
      ],
      "execution_count": 19,
      "outputs": [
        {
          "output_type": "execute_result",
          "data": {
            "text/plain": [
              "(12000, 28, 28)"
            ]
          },
          "metadata": {
            "tags": []
          },
          "execution_count": 19
        },
        {
          "output_type": "execute_result",
          "data": {
            "text/plain": [
              "(12000,)"
            ]
          },
          "metadata": {
            "tags": []
          },
          "execution_count": 19
        },
        {
          "output_type": "execute_result",
          "data": {
            "text/plain": [
              "(2000, 28, 28)"
            ]
          },
          "metadata": {
            "tags": []
          },
          "execution_count": 19
        },
        {
          "output_type": "execute_result",
          "data": {
            "text/plain": [
              "(2000,)"
            ]
          },
          "metadata": {
            "tags": []
          },
          "execution_count": 19
        }
      ]
    },
    {
      "cell_type": "code",
      "metadata": {
        "id": "KniTvKJqw8X0",
        "colab": {
          "base_uri": "https://localhost:8080/"
        },
        "outputId": "cb7d9d5e-b9ba-41c6-a346-f76a27eb8aab"
      },
      "source": [
        "# 3.0 Change labels of shirts and sandals\r\n",
        "#     in ss_y_train/ss_y_test to 1 and 0\r\n",
        "#     from present 6 and 5\r\n",
        "\r\n",
        "ss_y_train[ss_y_train == 6] = 1\r\n",
        "ss_y_train[ss_y_train == 5] = 0\r\n",
        "\r\n",
        "# 3.1 Recheck \r\n",
        "ss_y_train"
      ],
      "execution_count": 20,
      "outputs": [
        {
          "output_type": "execute_result",
          "data": {
            "text/plain": [
              "array([0, 0, 0, ..., 1, 0, 0], dtype=uint8)"
            ]
          },
          "metadata": {
            "tags": []
          },
          "execution_count": 20
        }
      ]
    },
    {
      "cell_type": "code",
      "metadata": {
        "colab": {
          "base_uri": "https://localhost:8080/"
        },
        "id": "hoI9BCewNJR7",
        "outputId": "a91f12e9-5718-400d-8864-76ef0a8e73f9"
      },
      "source": [
        "# 4.0 Filter train/test data for remaining 8 items\r\n",
        "# 4.1 train data\r\n",
        "data_train = X_train[ np.logical_and (y_train != 5 , y_train !=6), :,:]\r\n",
        "data_train.shape  # (48000, 28, 28)\r\n",
        "\r\n",
        "# 4.2 'train' labels\r\n",
        "data_y_train = y_train[ np.logical_and (y_train != 5 , y_train !=6)]\r\n",
        "data_y_train.shape  # (48000,)\r\n",
        "\r\n",
        "# 4.3 Filter 'test' data\r\n",
        "data_test = X_test[ np.logical_and (y_test != 5 , y_test !=6), :,:]\r\n",
        "data_test.shape   # (8000, 28, 28)\r\n",
        "# 4.4 Filter data with 'test' labels\r\n",
        "data_y_test = y_test[ np.logical_and (y_test != 5 , y_test !=6)]\r\n",
        "data_y_test.shape  # (8000,)"
      ],
      "execution_count": 21,
      "outputs": [
        {
          "output_type": "execute_result",
          "data": {
            "text/plain": [
              "(48000, 28, 28)"
            ]
          },
          "metadata": {
            "tags": []
          },
          "execution_count": 21
        },
        {
          "output_type": "execute_result",
          "data": {
            "text/plain": [
              "(48000,)"
            ]
          },
          "metadata": {
            "tags": []
          },
          "execution_count": 21
        },
        {
          "output_type": "execute_result",
          "data": {
            "text/plain": [
              "(8000, 28, 28)"
            ]
          },
          "metadata": {
            "tags": []
          },
          "execution_count": 21
        },
        {
          "output_type": "execute_result",
          "data": {
            "text/plain": [
              "(8000,)"
            ]
          },
          "metadata": {
            "tags": []
          },
          "execution_count": 21
        }
      ]
    },
    {
      "cell_type": "code",
      "metadata": {
        "id": "zDowphN9srE5"
      },
      "source": [
        "# 4.5 Reshape train/test data\r\n",
        "\r\n",
        "#     8-items data\r\n",
        "data_train = data_train.reshape(-1,784)\r\n",
        "data_test = data_test.reshape(-1,784)\r\n",
        "\r\n",
        "# 4.6 2-items data\r\n",
        "ss_train = ss_train.reshape(-1,784)\r\n",
        "ss_test = ss_test.reshape(-1,784)"
      ],
      "execution_count": 22,
      "outputs": []
    },
    {
      "cell_type": "code",
      "metadata": {
        "colab": {
          "base_uri": "https://localhost:8080/"
        },
        "id": "Ctfg_TdEeivY",
        "outputId": "6540dc36-6f65-4a32-ab0c-f12d4694bf03"
      },
      "source": [
        "# 5.0 Our Ist model. No frills\r\n",
        "\r\n",
        "units =100\r\n",
        "\r\n",
        "# 5.1 Input layer\r\n",
        "input_one = keras.layers.Input(shape = (784,))\r\n",
        "\r\n",
        "# 5.2 Hidden layers\r\n",
        "x = keras.layers.Dense(units = units, activation = \"selu\", name = \"Layer_a\")(input_one)\r\n",
        "x = keras.layers.Dense(units = units, activation = \"selu\", name = \"Layer_b\")(x)\r\n",
        "x = keras.layers.Dense(units = units, activation = \"selu\", name = \"Layer_c\")(x)\r\n",
        "\r\n",
        "# 5.3 Output layer\r\n",
        "out_one = keras.layers.Dense(units = 10, activation = 'softmax', name = \"output_layer\")(x)\r\n",
        "\r\n",
        "# 5.4 Design model\r\n",
        "model_one = Model(inputs = [input_one], outputs = [out_one])\r\n",
        "\r\n",
        "# 5.5 Compile model\r\n",
        "model_one.compile(loss = \"sparse_categorical_crossentropy\", metrics = \"accuracy\")\r\n",
        "\r\n",
        "# 5.6 Fit the model\r\n",
        "model_one.fit(data_train,data_y_train, epochs = 20)"
      ],
      "execution_count": 23,
      "outputs": [
        {
          "output_type": "stream",
          "text": [
            "Epoch 1/20\n",
            "1500/1500 [==============================] - 4s 2ms/step - loss: 0.4879 - accuracy: 0.8311\n",
            "Epoch 2/20\n",
            "1500/1500 [==============================] - 3s 2ms/step - loss: 0.2652 - accuracy: 0.9076\n",
            "Epoch 3/20\n",
            "1500/1500 [==============================] - 3s 2ms/step - loss: 0.2343 - accuracy: 0.9160\n",
            "Epoch 4/20\n",
            "1500/1500 [==============================] - 3s 2ms/step - loss: 0.2144 - accuracy: 0.9230\n",
            "Epoch 5/20\n",
            "1500/1500 [==============================] - 3s 2ms/step - loss: 0.2025 - accuracy: 0.9267\n",
            "Epoch 6/20\n",
            "1500/1500 [==============================] - 3s 2ms/step - loss: 0.1948 - accuracy: 0.9285\n",
            "Epoch 7/20\n",
            "1500/1500 [==============================] - 3s 2ms/step - loss: 0.1858 - accuracy: 0.9339\n",
            "Epoch 8/20\n",
            "1500/1500 [==============================] - 3s 2ms/step - loss: 0.1748 - accuracy: 0.9365\n",
            "Epoch 9/20\n",
            "1500/1500 [==============================] - 3s 2ms/step - loss: 0.1682 - accuracy: 0.9404\n",
            "Epoch 10/20\n",
            "1500/1500 [==============================] - 3s 2ms/step - loss: 0.1623 - accuracy: 0.9411\n",
            "Epoch 11/20\n",
            "1500/1500 [==============================] - 3s 2ms/step - loss: 0.1611 - accuracy: 0.9435\n",
            "Epoch 12/20\n",
            "1500/1500 [==============================] - 3s 2ms/step - loss: 0.1549 - accuracy: 0.9443\n",
            "Epoch 13/20\n",
            "1500/1500 [==============================] - 3s 2ms/step - loss: 0.1476 - accuracy: 0.9480\n",
            "Epoch 14/20\n",
            "1500/1500 [==============================] - 3s 2ms/step - loss: 0.1446 - accuracy: 0.9483\n",
            "Epoch 15/20\n",
            "1500/1500 [==============================] - 3s 2ms/step - loss: 0.1448 - accuracy: 0.9498\n",
            "Epoch 16/20\n",
            "1500/1500 [==============================] - 3s 2ms/step - loss: 0.1371 - accuracy: 0.9506\n",
            "Epoch 17/20\n",
            "1500/1500 [==============================] - 3s 2ms/step - loss: 0.1385 - accuracy: 0.9492\n",
            "Epoch 18/20\n",
            "1500/1500 [==============================] - 3s 2ms/step - loss: 0.1309 - accuracy: 0.9532\n",
            "Epoch 19/20\n",
            "1500/1500 [==============================] - 3s 2ms/step - loss: 0.1297 - accuracy: 0.9525\n",
            "Epoch 20/20\n",
            "1500/1500 [==============================] - 3s 2ms/step - loss: 0.1293 - accuracy: 0.9537\n"
          ],
          "name": "stdout"
        },
        {
          "output_type": "execute_result",
          "data": {
            "text/plain": [
              "<tensorflow.python.keras.callbacks.History at 0x7f7be313ba20>"
            ]
          },
          "metadata": {
            "tags": []
          },
          "execution_count": 23
        }
      ]
    },
    {
      "cell_type": "code",
      "metadata": {
        "colab": {
          "base_uri": "https://localhost:8080/"
        },
        "id": "iY59Iia5jdyW",
        "outputId": "4c93bf96-837f-45e7-c4d7-fb323562e1c2"
      },
      "source": [
        "# 5.7 Model summary\r\n",
        "model_one.summary()"
      ],
      "execution_count": 24,
      "outputs": [
        {
          "output_type": "stream",
          "text": [
            "Model: \"model_1\"\n",
            "_________________________________________________________________\n",
            "Layer (type)                 Output Shape              Param #   \n",
            "=================================================================\n",
            "input_2 (InputLayer)         [(None, 784)]             0         \n",
            "_________________________________________________________________\n",
            "Layer_a (Dense)              (None, 100)               78500     \n",
            "_________________________________________________________________\n",
            "Layer_b (Dense)              (None, 100)               10100     \n",
            "_________________________________________________________________\n",
            "Layer_c (Dense)              (None, 100)               10100     \n",
            "_________________________________________________________________\n",
            "output_layer (Dense)         (None, 10)                1010      \n",
            "=================================================================\n",
            "Total params: 99,710\n",
            "Trainable params: 99,710\n",
            "Non-trainable params: 0\n",
            "_________________________________________________________________\n"
          ],
          "name": "stdout"
        }
      ]
    },
    {
      "cell_type": "code",
      "metadata": {
        "colab": {
          "base_uri": "https://localhost:8080/",
          "height": 466
        },
        "id": "ket6MjaWJci-",
        "outputId": "ac27290a-90f8-4968-ecd4-8e6352322bab"
      },
      "source": [
        "# 5.8 Plot the model\r\n",
        "plot_model(model_one)"
      ],
      "execution_count": 25,
      "outputs": [
        {
          "output_type": "execute_result",
          "data": {
            "image/png": "[encoded data removed]",
            "text/plain": [
              "<IPython.core.display.Image object>"
            ]
          },
          "metadata": {
            "tags": []
          },
          "execution_count": 25
        }
      ]
    },
    {
      "cell_type": "code",
      "metadata": {
        "colab": {
          "base_uri": "https://localhost:8080/"
        },
        "id": "SDk4OCVqKdKu",
        "outputId": "dae19ee5-889b-4098-aca4-e50b7b412257"
      },
      "source": [
        "# 6.1 Check folders under /home\r\n",
        "! ls /home\r\n"
      ],
      "execution_count": 26,
      "outputs": [
        {
          "output_type": "stream",
          "text": [
            "ashok\n"
          ],
          "name": "stdout"
        }
      ]
    },
    {
      "cell_type": "code",
      "metadata": {
        "colab": {
          "base_uri": "https://localhost:8080/"
        },
        "id": "z_LLUh52wMga",
        "outputId": "e4de1e57-70c3-4640-e7c3-62288792d904"
      },
      "source": [
        "# 6.0 Save this model in a folder. \r\n",
        "#     Folder() will be created if \r\n",
        "#     they do not exist:\r\n",
        "#  Ref: https://www.tensorflow.org/api_docs/python/tf/keras/models/save_model\r\n",
        "\r\n",
        "path = \"/home/ashok/mymodel\"\r\n",
        "\r\n",
        "tf.keras.models.save_model(\r\n",
        "                           model_one,\r\n",
        "                           path,\r\n",
        "                           include_optimizer=True,  # Default\r\n",
        "                           overwrite = True         # Default\r\n",
        "                           )\r\n"
      ],
      "execution_count": 27,
      "outputs": [
        {
          "output_type": "stream",
          "text": [
            "INFO:tensorflow:Assets written to: /home/ashok/mymodel/assets\n"
          ],
          "name": "stdout"
        }
      ]
    },
    {
      "cell_type": "code",
      "metadata": {
        "colab": {
          "base_uri": "https://localhost:8080/"
        },
        "id": "duFho7DSNNWn",
        "outputId": "fe451a38-023c-4b9b-8f57-4132e4a7080a"
      },
      "source": [
        "# 6.1 Let us have a look at what was saved:\r\n",
        "\r\n",
        "! ls /home/ashok/mymodel\r\n"
      ],
      "execution_count": 28,
      "outputs": [
        {
          "output_type": "stream",
          "text": [
            "assets\tsaved_model.pb\tvariables\n"
          ],
          "name": "stdout"
        }
      ]
    },
    {
      "cell_type": "code",
      "metadata": {
        "id": "bmMCqC7qwRPI"
      },
      "source": [
        "# 6.2 Now that model is saved, \r\n",
        "#     we can delete it from RAM\r\n",
        "del(model_one)"
      ],
      "execution_count": 29,
      "outputs": []
    },
    {
      "cell_type": "code",
      "metadata": {
        "id": "LO4LDucMqCcZ"
      },
      "source": [
        "# 6.3 Check if 'model' is deleted\r\n",
        "model_one.layers"
      ],
      "execution_count": null,
      "outputs": []
    },
    {
      "cell_type": "code",
      "metadata": {
        "id": "qvr6ez_Itxel"
      },
      "source": [
        "# 6.4 Let us load back the saved model \r\n",
        "model = keras.models.load_model(path)"
      ],
      "execution_count": 31,
      "outputs": []
    },
    {
      "cell_type": "code",
      "metadata": {
        "colab": {
          "base_uri": "https://localhost:8080/"
        },
        "id": "a-MBHMKIt5zC",
        "outputId": "c9c8494c-0705-4c3c-c801-54a1aac0bce3"
      },
      "source": [
        "# 6.5 Check model summary\r\n",
        "model.summary()"
      ],
      "execution_count": 32,
      "outputs": [
        {
          "output_type": "stream",
          "text": [
            "Model: \"model_1\"\n",
            "_________________________________________________________________\n",
            "Layer (type)                 Output Shape              Param #   \n",
            "=================================================================\n",
            "input_2 (InputLayer)         [(None, 784)]             0         \n",
            "_________________________________________________________________\n",
            "Layer_a (Dense)              (None, 100)               78500     \n",
            "_________________________________________________________________\n",
            "Layer_b (Dense)              (None, 100)               10100     \n",
            "_________________________________________________________________\n",
            "Layer_c (Dense)              (None, 100)               10100     \n",
            "_________________________________________________________________\n",
            "output_layer (Dense)         (None, 10)                1010      \n",
            "=================================================================\n",
            "Total params: 99,710\n",
            "Trainable params: 99,710\n",
            "Non-trainable params: 0\n",
            "_________________________________________________________________\n"
          ],
          "name": "stdout"
        }
      ]
    },
    {
      "cell_type": "markdown",
      "metadata": {
        "id": "UCW4U-ZNUE3u"
      },
      "source": [
        "There are two ways of creating our new model that will reuse the trained layers of our old model."
      ]
    },
    {
      "cell_type": "code",
      "metadata": {
        "id": "aDlI-GvsvWzV"
      },
      "source": [
        "## 7.0\r\n",
        "# Method 1: Build a fresh model having\r\n",
        "#           first three layers with \r\n",
        "#           the same configuration \r\n",
        "#           as in the earlier model\r\n",
        "#           Our intention is to REUSE \r\n",
        "#           learnt weights in the Ist three \r\n",
        "#           layers in the new model\r\n",
        "\r\n",
        "\r\n",
        "units =100\r\n",
        "input_l = keras.layers.Input(shape = (784,))\r\n",
        "y = keras.layers.Dense(units = units, activation = \"selu\", name = \"a\")(input_l)\r\n",
        "y = keras.layers.Dense(units = units, activation = \"selu\", name = \"b\")(y)\r\n",
        "y = keras.layers.Dense(units = units, activation = \"selu\", name = \"c\")(y)\r\n"
      ],
      "execution_count": 33,
      "outputs": []
    },
    {
      "cell_type": "code",
      "metadata": {
        "id": "eLoXnc-_VB-A"
      },
      "source": [
        "# 7.1 Now add to it our own layers\r\n",
        "\r\n",
        "y = keras.layers.Dense(units = 20, activation = 'selu', name = \"x1\")(y)\r\n",
        "y = keras.layers.Dense(units = 8, activation = 'relu', name = \"x2\")(y)\r\n",
        "out_l = keras.layers.Dense(units = 1, activation = 'sigmoid', name = \"out_layer\")(y)"
      ],
      "execution_count": 34,
      "outputs": []
    },
    {
      "cell_type": "code",
      "metadata": {
        "id": "cMECAUjZvGyN",
        "colab": {
          "base_uri": "https://localhost:8080/"
        },
        "outputId": "67706481-3ae4-4a5d-9a10-c05d79d75e0b"
      },
      "source": [
        "# 7.2 Create model\r\n",
        "model_l = Model(inputs = [input_l], outputs = [out_l])\r\n",
        "model_l.compile(loss = \"binary_crossentropy\", metrics = [\"accuracy\"])\r\n",
        "model_l.summary()"
      ],
      "execution_count": 35,
      "outputs": [
        {
          "output_type": "stream",
          "text": [
            "Model: \"model_2\"\n",
            "_________________________________________________________________\n",
            "Layer (type)                 Output Shape              Param #   \n",
            "=================================================================\n",
            "input_3 (InputLayer)         [(None, 784)]             0         \n",
            "_________________________________________________________________\n",
            "a (Dense)                    (None, 100)               78500     \n",
            "_________________________________________________________________\n",
            "b (Dense)                    (None, 100)               10100     \n",
            "_________________________________________________________________\n",
            "c (Dense)                    (None, 100)               10100     \n",
            "_________________________________________________________________\n",
            "x1 (Dense)                   (None, 20)                2020      \n",
            "_________________________________________________________________\n",
            "x2 (Dense)                   (None, 8)                 168       \n",
            "_________________________________________________________________\n",
            "out_layer (Dense)            (None, 1)                 9         \n",
            "=================================================================\n",
            "Total params: 100,897\n",
            "Trainable params: 100,897\n",
            "Non-trainable params: 0\n",
            "_________________________________________________________________\n"
          ],
          "name": "stdout"
        }
      ]
    },
    {
      "cell_type": "code",
      "metadata": {
        "id": "UHL2EnQafwi_"
      },
      "source": [
        "# 8.0 Let us transfer weights in this model\r\n",
        "#     from weights from our earlier learned-model\r\n",
        "#     After transferring weights, let us also freeze\r\n",
        "#     the layer-weights\r\n",
        "\r\n",
        "for i in range(4):\r\n",
        "  model_l.layers[i].set_weights(model.layers[i].get_weights())\r\n",
        "  model_l.layers[i].trainable = False"
      ],
      "execution_count": 36,
      "outputs": []
    },
    {
      "cell_type": "code",
      "metadata": {
        "colab": {
          "base_uri": "https://localhost:8080/"
        },
        "id": "6dpNM8xyWtEC",
        "outputId": "4ed80eae-e59d-4379-8540-89ad05f5428b"
      },
      "source": [
        "# 8.1 As our last layer is Dense(1) with sigmoid activation\r\n",
        "#     therefore, target data has to have shape of (None,1), rather\r\n",
        "#     than (None,) as at present\r\n",
        "\r\n",
        "ss_y_train = ss_y_train.reshape(-1,1)\r\n",
        "ss_y_train.shape"
      ],
      "execution_count": 37,
      "outputs": [
        {
          "output_type": "execute_result",
          "data": {
            "text/plain": [
              "(12000, 1)"
            ]
          },
          "metadata": {
            "tags": []
          },
          "execution_count": 37
        }
      ]
    },
    {
      "cell_type": "code",
      "metadata": {
        "colab": {
          "base_uri": "https://localhost:8080/"
        },
        "id": "SMs-hkIPhnzE",
        "outputId": "d4b89ce7-7428-45e8-dc1c-acd9750e5ea5"
      },
      "source": [
        "# 8.2 Before we proceed for training\r\n",
        "#     let us see which layers are trainable,\r\n",
        "#     and which not\r\n",
        "\r\n",
        "for layer in model_l.layers:\r\n",
        "  print(layer.name,\":\",layer.trainable)"
      ],
      "execution_count": 38,
      "outputs": [
        {
          "output_type": "stream",
          "text": [
            "input_3 : False\n",
            "a : False\n",
            "b : False\n",
            "c : False\n",
            "x1 : True\n",
            "x2 : True\n",
            "out_layer : True\n"
          ],
          "name": "stdout"
        }
      ]
    },
    {
      "cell_type": "code",
      "metadata": {
        "colab": {
          "base_uri": "https://localhost:8080/"
        },
        "id": "WeXureBlWtre",
        "outputId": "bbfb4d0f-7f10-47c7-fd22-bd0a9010060e"
      },
      "source": [
        "# 8.3 Begin training\r\n",
        "model_l.fit(ss_train ,ss_y_train, epochs = 20)"
      ],
      "execution_count": 39,
      "outputs": [
        {
          "output_type": "stream",
          "text": [
            "Epoch 1/20\n",
            "375/375 [==============================] - 1s 2ms/step - loss: 0.0810 - accuracy: 0.9752\n",
            "Epoch 2/20\n",
            "375/375 [==============================] - 1s 2ms/step - loss: 0.0055 - accuracy: 0.9992\n",
            "Epoch 3/20\n",
            "375/375 [==============================] - 1s 2ms/step - loss: 0.0030 - accuracy: 0.9997\n",
            "Epoch 4/20\n",
            "375/375 [==============================] - 1s 2ms/step - loss: 8.7668e-04 - accuracy: 0.9997\n",
            "Epoch 5/20\n",
            "375/375 [==============================] - 1s 2ms/step - loss: 5.7869e-04 - accuracy: 0.9999\n",
            "Epoch 6/20\n",
            "375/375 [==============================] - 1s 2ms/step - loss: 0.0011 - accuracy: 0.9997\n",
            "Epoch 7/20\n",
            "375/375 [==============================] - 1s 2ms/step - loss: 9.0355e-04 - accuracy: 0.9998\n",
            "Epoch 8/20\n",
            "375/375 [==============================] - 1s 2ms/step - loss: 2.2054e-04 - accuracy: 0.9999\n",
            "Epoch 9/20\n",
            "375/375 [==============================] - 1s 2ms/step - loss: 6.8719e-05 - accuracy: 1.0000\n",
            "Epoch 10/20\n",
            "375/375 [==============================] - 1s 2ms/step - loss: 5.5665e-05 - accuracy: 1.0000\n",
            "Epoch 11/20\n",
            "375/375 [==============================] - 1s 2ms/step - loss: 0.0060 - accuracy: 0.9997\n",
            "Epoch 12/20\n",
            "375/375 [==============================] - 1s 2ms/step - loss: 4.5868e-04 - accuracy: 0.9999\n",
            "Epoch 13/20\n",
            "375/375 [==============================] - 1s 2ms/step - loss: 5.0752e-04 - accuracy: 0.9999\n",
            "Epoch 14/20\n",
            "375/375 [==============================] - 1s 2ms/step - loss: 8.8529e-04 - accuracy: 0.9999\n",
            "Epoch 15/20\n",
            "375/375 [==============================] - 1s 2ms/step - loss: 1.2774e-10 - accuracy: 1.0000\n",
            "Epoch 16/20\n",
            "375/375 [==============================] - 1s 2ms/step - loss: 1.7325e-11 - accuracy: 1.0000\n",
            "Epoch 17/20\n",
            "375/375 [==============================] - 1s 2ms/step - loss: 1.9788e-11 - accuracy: 1.0000\n",
            "Epoch 18/20\n",
            "375/375 [==============================] - 1s 2ms/step - loss: 3.1335e-11 - accuracy: 1.0000\n",
            "Epoch 19/20\n",
            "375/375 [==============================] - 1s 2ms/step - loss: 1.3396e-11 - accuracy: 1.0000\n",
            "Epoch 20/20\n",
            "375/375 [==============================] - 1s 2ms/step - loss: 1.1061e-11 - accuracy: 1.0000\n"
          ],
          "name": "stdout"
        },
        {
          "output_type": "execute_result",
          "data": {
            "text/plain": [
              "<tensorflow.python.keras.callbacks.History at 0x7f7bdc8dc978>"
            ]
          },
          "metadata": {
            "tags": []
          },
          "execution_count": 39
        }
      ]
    },
    {
      "cell_type": "code",
      "metadata": {
        "id": "z7k7v92YqKv-"
      },
      "source": [
        "## 9.0\r\n",
        "# Method 2:\r\n",
        "#          Using the last but one layer\r\n",
        "#          create a Sequential model\r\n",
        "\r\n",
        "model_IInd = keras.models.Sequential(model.layers[:-1])\r\n",
        "\r\n",
        "# 9.1 And add to it our own layers\r\n",
        "model_IInd.add(keras.layers.Dense(units = 20, activation = 'selu', name = \"x1\"))\r\n",
        "model_IInd.add(keras.layers.Dense(units = 8, activation = 'relu', name = \"x2\"))\r\n",
        "model_IInd.add(keras.layers.Dense(units = 1, activation = 'sigmoid', name = \"out_layer\"))\r\n"
      ],
      "execution_count": 40,
      "outputs": []
    },
    {
      "cell_type": "code",
      "metadata": {
        "id": "th41t8fesseq"
      },
      "source": [
        "# 9.2 Compile the model\r\n",
        "model_IInd.compile(loss = \"binary_crossentropy\", metrics = ['accuracy'])\r\n"
      ],
      "execution_count": 41,
      "outputs": []
    },
    {
      "cell_type": "code",
      "metadata": {
        "id": "zdXoEV_QtljK"
      },
      "source": [
        "# 9.3 Let us freeze weights in some layers \r\n",
        "\r\n",
        "for i in range(4):\r\n",
        "  model_IInd.layers[i].trainable = False"
      ],
      "execution_count": 42,
      "outputs": []
    },
    {
      "cell_type": "code",
      "metadata": {
        "colab": {
          "base_uri": "https://localhost:8080/"
        },
        "id": "Qn8CnFpgu8HV",
        "outputId": "320b5a95-ffa9-4c19-d5d1-6bdcd1a8b908"
      },
      "source": [
        "# 9.4 Before we proceed for training\r\n",
        "#     let us see which layers are trainable,\r\n",
        "#     and which not\r\n",
        "\r\n",
        "for layer in model_IInd.layers:\r\n",
        "  print(layer.name,\":\",layer.trainable)"
      ],
      "execution_count": 43,
      "outputs": [
        {
          "output_type": "stream",
          "text": [
            "Layer_a : False\n",
            "Layer_b : False\n",
            "Layer_c : False\n",
            "x1 : False\n",
            "x2 : True\n",
            "out_layer : True\n"
          ],
          "name": "stdout"
        }
      ]
    },
    {
      "cell_type": "code",
      "metadata": {
        "colab": {
          "base_uri": "https://localhost:8080/"
        },
        "id": "FSt7YSSqtfnQ",
        "outputId": "7b846f12-04a4-4910-dd05-261a5045a047"
      },
      "source": [
        "# 9.5 Begin training now:\r\n",
        "model_IInd.fit(ss_train,ss_y_train, epochs = 20)"
      ],
      "execution_count": 44,
      "outputs": [
        {
          "output_type": "stream",
          "text": [
            "Epoch 1/20\n",
            "375/375 [==============================] - 1s 2ms/step - loss: 0.1118 - accuracy: 0.9687\n",
            "Epoch 2/20\n",
            "375/375 [==============================] - 1s 2ms/step - loss: 0.0080 - accuracy: 0.9990\n",
            "Epoch 3/20\n",
            "375/375 [==============================] - 1s 2ms/step - loss: 0.0051 - accuracy: 0.9992\n",
            "Epoch 4/20\n",
            "375/375 [==============================] - 1s 2ms/step - loss: 0.0025 - accuracy: 0.9997\n",
            "Epoch 5/20\n",
            "375/375 [==============================] - 1s 2ms/step - loss: 0.0024 - accuracy: 0.9996\n",
            "Epoch 6/20\n",
            "375/375 [==============================] - 1s 2ms/step - loss: 1.7792e-04 - accuracy: 1.0000\n",
            "Epoch 7/20\n",
            "375/375 [==============================] - 1s 2ms/step - loss: 1.0955e-06 - accuracy: 1.0000\n",
            "Epoch 8/20\n",
            "375/375 [==============================] - 1s 2ms/step - loss: 8.7440e-04 - accuracy: 0.9999\n",
            "Epoch 9/20\n",
            "375/375 [==============================] - 1s 2ms/step - loss: 1.3666e-08 - accuracy: 1.0000\n",
            "Epoch 10/20\n",
            "375/375 [==============================] - 1s 2ms/step - loss: 3.5556e-04 - accuracy: 0.9998\n",
            "Epoch 11/20\n",
            "375/375 [==============================] - 1s 2ms/step - loss: 1.0494e-08 - accuracy: 1.0000\n",
            "Epoch 12/20\n",
            "375/375 [==============================] - 1s 2ms/step - loss: 1.7994e-11 - accuracy: 1.0000\n",
            "Epoch 13/20\n",
            "375/375 [==============================] - 1s 2ms/step - loss: 2.5545e-11 - accuracy: 1.0000\n",
            "Epoch 14/20\n",
            "375/375 [==============================] - 1s 2ms/step - loss: 6.4373e-12 - accuracy: 1.0000\n",
            "Epoch 15/20\n",
            "375/375 [==============================] - 1s 2ms/step - loss: 1.3834e-11 - accuracy: 1.0000\n",
            "Epoch 16/20\n",
            "375/375 [==============================] - 1s 2ms/step - loss: 1.3036e-11 - accuracy: 1.0000\n",
            "Epoch 17/20\n",
            "375/375 [==============================] - 1s 2ms/step - loss: 1.4914e-11 - accuracy: 1.0000\n",
            "Epoch 18/20\n",
            "375/375 [==============================] - 1s 2ms/step - loss: 1.6454e-11 - accuracy: 1.0000\n",
            "Epoch 19/20\n",
            "375/375 [==============================] - 1s 2ms/step - loss: 1.2609e-11 - accuracy: 1.0000\n",
            "Epoch 20/20\n",
            "375/375 [==============================] - 1s 2ms/step - loss: 1.6089e-11 - accuracy: 1.0000\n"
          ],
          "name": "stdout"
        },
        {
          "output_type": "execute_result",
          "data": {
            "text/plain": [
              "<tensorflow.python.keras.callbacks.History at 0x7f7bdc786588>"
            ]
          },
          "metadata": {
            "tags": []
          },
          "execution_count": 44
        }
      ]
    },
    {
      "cell_type": "code",
      "metadata": {
        "id": "qan2ImrxrY3t"
      },
      "source": [
        "######## I am done ##########"
      ],
      "execution_count": null,
      "outputs": []
    }
  ]
}