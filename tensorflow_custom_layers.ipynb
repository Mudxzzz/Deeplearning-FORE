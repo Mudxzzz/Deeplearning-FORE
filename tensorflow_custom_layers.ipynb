{
  "nbformat": 4,
  "nbformat_minor": 0,
  "metadata": {
    "colab": {
      "provenance": [],
      "authorship_tag": "ABX9TyO52U3w2p2Mn+mGVLRGEEJP",
      "include_colab_link": true
    },
    "kernelspec": {
      "name": "python3",
      "display_name": "Python 3"
    },
    "language_info": {
      "name": "python"
    }
  },
  "cells": [
    {
      "cell_type": "markdown",
      "metadata": {
        "id": "view-in-github",
        "colab_type": "text"
      },
      "source": [
        "<a href=\"https://colab.research.google.com/github/harnalashok/deeplearning/blob/main/tensorflow_custom_layers.ipynb\" target=\"_parent\"><img src=\"https://colab.research.google.com/assets/colab-badge.svg\" alt=\"Open In Colab\"/></a>"
      ]
    },
    {
      "cell_type": "code",
      "source": [
        "# LAst amended: 24th Oct, 2023\n",
        "#               VijayDashmi\n",
        "# About python classes and tensorflow layers"
      ],
      "metadata": {
        "id": "fgB2RAULYQL6"
      },
      "execution_count": null,
      "outputs": []
    },
    {
      "cell_type": "code",
      "source": [
        "# 0.0 Reset all variables\n",
        "%reset -f"
      ],
      "metadata": {
        "id": "lv8VwNBePt3U"
      },
      "execution_count": null,
      "outputs": []
    },
    {
      "cell_type": "code",
      "execution_count": null,
      "metadata": {
        "id": "1qUIpzhPPClW"
      },
      "outputs": [],
      "source": [
        "# 0.1 Import libraries\n",
        "import tensorflow as tf\n",
        "import tensorflow.keras\n",
        "import numpy as np\n",
        "import matplotlib.pyplot as plt\n",
        "\n"
      ]
    },
    {
      "cell_type": "code",
      "source": [
        "# 0.2 Display multiple outputs from a Cell\n",
        "\n",
        "from IPython.core.interactiveshell import InteractiveShell\n",
        "InteractiveShell.ast_node_interactivity = \"all\""
      ],
      "metadata": {
        "id": "-99hVv7-RWF-"
      },
      "execution_count": null,
      "outputs": []
    },
    {
      "cell_type": "markdown",
      "source": [
        "## Classes in python\n",
        "See this [link](https://docs.python.org/3/tutorial/classes.html)"
      ],
      "metadata": {
        "id": "HSXKhfeiyLoD"
      }
    },
    {
      "cell_type": "markdown",
      "source": [
        "Classes provide a means of bundling data and functionality together. Creating a new class creates a new type of object, allowing new instances of that type to be made. Each class instance can have attributes attached to it for maintaining its state. Class instances can also have methods (defined by its class) for modifying its state."
      ],
      "metadata": {
        "id": "GJgIbbZTyN6o"
      }
    },
    {
      "cell_type": "markdown",
      "source": [
        "# Template of simplest class:\n",
        "`class ClassName:`<br>\n",
        ">    `<statement-1>`  <br>\n",
        ">    `.`  <br>\n",
        ">    `.`  <br>\n",
        ">    `.`  <br>\n",
        ">    `<statement-N>`<br>"
      ],
      "metadata": {
        "id": "MtviRBL6zfG9"
      }
    },
    {
      "cell_type": "code",
      "source": [
        "# 1.0 A very simple class:\n",
        "\n",
        "class MyClass:\n",
        "    \"\"\"A simple example class\"\"\"\n",
        "    i = 12345\n",
        "\n",
        "    def f(self):\n",
        "        return 'hello world'"
      ],
      "metadata": {
        "id": "6GhuqW5ozXUp"
      },
      "execution_count": null,
      "outputs": []
    },
    {
      "cell_type": "markdown",
      "source": [
        " MyClass.i and MyClass.f are valid attribute references, returning an integer and a function object, respectively. Instantiate a class, as:"
      ],
      "metadata": {
        "id": "bAqQXyeM0Gc6"
      }
    },
    {
      "cell_type": "code",
      "source": [
        "# 1.1\n",
        "x = MyClass()\n",
        "\n",
        "# 1.1.0\n",
        "type(x)"
      ],
      "metadata": {
        "colab": {
          "base_uri": "https://localhost:8080/"
        },
        "id": "CChz66QB1TsB",
        "outputId": "d7bcde5a-1f3f-452b-809b-8097da50941d"
      },
      "execution_count": null,
      "outputs": [
        {
          "output_type": "execute_result",
          "data": {
            "text/plain": [
              "__main__.MyClass"
            ]
          },
          "metadata": {},
          "execution_count": 60
        }
      ]
    },
    {
      "cell_type": "markdown",
      "source": [
        "The above instantiation operation (“calling” a class object) creates an empty object. If you want the object to contain some data, then use \\_\\_init\\_\\_() method, as:"
      ],
      "metadata": {
        "id": "BU268Tr-1b0p"
      }
    },
    {
      "cell_type": "code",
      "source": [
        "# 1.2 Another very simple class:\n",
        "\n",
        "class MyClass:\n",
        "    \"\"\"A simple example class\"\"\"\n",
        "    def __init__(self):\n",
        "      self.data = []\n",
        "\n",
        "    i = 12345\n",
        "\n",
        "    def f(self):\n",
        "        return 'hello world'"
      ],
      "metadata": {
        "id": "P3ImWyTV1tVz"
      },
      "execution_count": null,
      "outputs": []
    },
    {
      "cell_type": "markdown",
      "source": [
        "Of course, the \\_\\_init\\_\\_() method may have arguments for greater flexibility. In that case, arguments given to the class instantiation operator are passed on to \\_\\_init\\_\\_(). For example,"
      ],
      "metadata": {
        "id": "0rtWn5kV2txD"
      }
    },
    {
      "cell_type": "code",
      "source": [
        "# 2.0\n",
        "class Complex:\n",
        "    def __init__(self, realpart, imagpart):\n",
        "        self.r = realpart\n",
        "        self.i = imagpart\n",
        "\n",
        "x = Complex(3.0, -4.5)\n",
        "x.r, x.i"
      ],
      "metadata": {
        "colab": {
          "base_uri": "https://localhost:8080/"
        },
        "id": "9dfg7MOG23Cw",
        "outputId": "99daa5b4-6557-4abd-927c-392be8c44169"
      },
      "execution_count": null,
      "outputs": [
        {
          "output_type": "execute_result",
          "data": {
            "text/plain": [
              "(3.0, -4.5)"
            ]
          },
          "metadata": {},
          "execution_count": 61
        }
      ]
    },
    {
      "cell_type": "markdown",
      "source": [
        "Data attributes need not be declared; like local variables, they spring into existence when they are first assigned to. For example, if x is the instance of MyClass created above, the following piece of code will print the value 16, without leaving a trace:"
      ],
      "metadata": {
        "id": "eR9vzrpQ3j8u"
      }
    },
    {
      "cell_type": "code",
      "source": [
        "# 2.1\n",
        "x.counter = 1    # This attribute created outside the class\n",
        "while x.counter < 10:\n",
        "    x.counter = x.counter * 2\n",
        "print(x.counter)\n",
        "del x.counter"
      ],
      "metadata": {
        "colab": {
          "base_uri": "https://localhost:8080/"
        },
        "id": "YI9h5_Dh3jaN",
        "outputId": "04bcc831-b61f-45bb-9667-674375b4ae21"
      },
      "execution_count": null,
      "outputs": [
        {
          "output_type": "stream",
          "name": "stdout",
          "text": [
            "16\n"
          ]
        }
      ]
    },
    {
      "cell_type": "markdown",
      "source": [
        "Valid method names of an *instance object* depend on its class. By definition, all attributes of a class that are *function objects* define corresponding methods of its instances. So in our example, `x.f` is a `valid method` object, but `MyClass.f` is a function object.  But `x.f` is not the same thing as`MyClass.f` — the former is a *method* object, while the latter is a *function* object."
      ],
      "metadata": {
        "id": "980b_Ot84L2X"
      }
    },
    {
      "cell_type": "markdown",
      "source": [
        "Class variable vs instance variable  \n",
        "Generally speaking, instance variables are for data unique to each instance and class variables are for attributes and methods shared by all instances of the class:"
      ],
      "metadata": {
        "id": "Bny3nq7264_x"
      }
    },
    {
      "cell_type": "code",
      "source": [
        "# 2.2\n",
        "class Dog:\n",
        "\n",
        "    kind = 'canine'         # class variable shared by all instances\n",
        "\n",
        "    def __init__(self, name):\n",
        "        self.name = name    # instance variable unique to each instance"
      ],
      "metadata": {
        "id": "usNJiVEF7HDf"
      },
      "execution_count": null,
      "outputs": []
    },
    {
      "cell_type": "code",
      "source": [
        "# 2.3\n",
        "d = Dog('Fido')\n",
        "e = Dog('Buddy')\n",
        "d.kind                  # shared by all dogs\n",
        "e.kind                  # shared by all dogs\n",
        "d.name                  # unique to d\n",
        "e.name"
      ],
      "metadata": {
        "id": "CcDkvYJF7M9v"
      },
      "execution_count": null,
      "outputs": []
    },
    {
      "cell_type": "markdown",
      "source": [
        "Shared data can have possibly surprising effects with involving mutable objects such as lists and dictionaries. For example, the `tricks` list in the following code should not be used as a class variable because just a single list would be shared by all Dog instances:"
      ],
      "metadata": {
        "id": "QB9vd19q8cSw"
      }
    },
    {
      "cell_type": "code",
      "source": [
        "# 2.4\n",
        "class Dog:\n",
        "    tricks = []             # mistaken use of a class variable\n",
        "\n",
        "    def __init__(self, name):\n",
        "        self.name = name\n",
        "\n",
        "    def add_trick(self, trick):\n",
        "        self.tricks.append(trick)"
      ],
      "metadata": {
        "id": "BzboYjql8kh_"
      },
      "execution_count": null,
      "outputs": []
    },
    {
      "cell_type": "code",
      "source": [
        "# 2.4.1\n",
        "\n",
        "d = Dog('Fido')\n",
        "e = Dog('Buddy')\n",
        "d.add_trick('roll over')\n",
        "e.add_trick('play dead')\n",
        "d.tricks                # unexpectedly shared by all dogs"
      ],
      "metadata": {
        "id": "K5Zq5lUQ8oO7"
      },
      "execution_count": null,
      "outputs": []
    },
    {
      "cell_type": "markdown",
      "source": [
        "Correct design of the class should use an instance variable instead:"
      ],
      "metadata": {
        "id": "D3k758LF8xAe"
      }
    },
    {
      "cell_type": "code",
      "source": [
        "# 3.0\n",
        "class Dog:\n",
        "\n",
        "    def __init__(self, name):\n",
        "        self.name = name\n",
        "        self.tricks = []    # creates a new empty list for each dog\n",
        "\n",
        "    def add_trick(self, trick):\n",
        "        self.tricks.append(trick)"
      ],
      "metadata": {
        "id": "9_44E6zL80LP"
      },
      "execution_count": null,
      "outputs": []
    },
    {
      "cell_type": "markdown",
      "source": [
        "Data attributes may be referenced by methods as well as by ordinary users (“clients”) of an object. In other words, classes are not usable to implement pure abstract data types. In fact, nothing in Python makes it possible to enforce data hiding — it is all based upon convention. Often, the first argument of a method is called self. This is nothing more than a convention: the name self has absolutely no special meaning to Python. Methods may call other methods by using method attributes of the self argument."
      ],
      "metadata": {
        "id": "61X8-DyI-lbI"
      }
    },
    {
      "cell_type": "code",
      "source": [
        "# 3.1\n",
        "class Bag:\n",
        "    def __init__(self):\n",
        "        self.data = []\n",
        "\n",
        "    def add(self, x):\n",
        "        self.data.append(x)\n",
        "\n",
        "    def addtwice(self, x):\n",
        "        self.add(x)\n",
        "        self.add(x)"
      ],
      "metadata": {
        "id": "rHCvh050_JmI"
      },
      "execution_count": null,
      "outputs": []
    },
    {
      "cell_type": "markdown",
      "source": [
        "### Class inheritance"
      ],
      "metadata": {
        "id": "d8OXslhZDK78"
      }
    },
    {
      "cell_type": "markdown",
      "source": [
        "Of course, a language feature would not be worthy of the name “class” without supporting inheritance. The syntax for a derived class definition looks like this:"
      ],
      "metadata": {
        "id": "1OoHgS_uDNrY"
      }
    },
    {
      "cell_type": "markdown",
      "source": [
        "class DerivedClassName(BaseClassName):  \n",
        ">    `<statement-1>` <br>\n",
        ">    `.` <br>\n",
        ">    `.`<br>\n",
        ">    `.`<br>\n",
        ">    `<statement-N>`<br>"
      ],
      "metadata": {
        "id": "zJWyqzWNDS0B"
      }
    },
    {
      "cell_type": "markdown",
      "source": [
        "When the base class is defined in another module:"
      ],
      "metadata": {
        "id": "psXRXv0lDrF5"
      }
    },
    {
      "cell_type": "code",
      "source": [
        "# 3.2\n",
        "class DerivedClassName(modname.BaseClassName):"
      ],
      "metadata": {
        "id": "QPRRIjT5DSLr"
      },
      "execution_count": null,
      "outputs": []
    },
    {
      "cell_type": "markdown",
      "source": [
        "Execution of a derived class definition proceeds the same as for a base class. When the class object is constructed, the base class is remembered. This is used for resolving attribute references: if a requested attribute is not found in the class, the search proceeds to look in the base class. This rule is applied recursively if the base class itself is derived from some other class.\n",
        "\n",
        "There’s nothing special about instantiation of derived classes: DerivedClassName() creates a new instance of the class. Method references are resolved as follows: the corresponding class attribute is searched, descending down the chain of base classes if necessary, and the method reference is valid if this yields a function object.\n",
        "\n",
        "Derived classes may override methods of their base classes. Because methods have no special privileges when calling other methods of the same object, a method of a base class that calls another method defined in the same base class may end up calling a method of a derived class that overrides it.   \n",
        "\n",
        "There is a simple way to call the base class method directly: just call BaseClassName.methodname(self, arguments). This is occasionally useful to clients as well. (Note that this only works if the base class is accessible as BaseClassName in the global scope.)"
      ],
      "metadata": {
        "id": "iNFVGl22D-Xp"
      }
    },
    {
      "cell_type": "markdown",
      "source": [
        "### Private variables"
      ],
      "metadata": {
        "id": "p1VobAhrEgm_"
      }
    },
    {
      "cell_type": "markdown",
      "source": [
        "“Private” instance variables that cannot be accessed except from inside an object don’t exist in Python. However, there is a convention that is followed by most Python code: a name prefixed with an underscore (e.g. \\_spam) should be treated as a non-public part of the API (whether it is a function, a method or a data member). It should be considered an implementation detail and subject to change without notice.   \n",
        "\n",
        "Since there is a valid use-case for class-private members (namely to avoid name clashes of names with names defined by subclasses), there is limited support for such a mechanism, called name mangling. Any identifier of the form <i>\\_\\_spam</i> (at least two leading underscores, at most one trailing underscore) is textually replaced with <i>\\_classname\\_\\_spam</i>, where classname is the current class name with leading underscore(s) stripped. This mangling is done as long as it occurs within the definition of a class."
      ],
      "metadata": {
        "id": "7HlalvJuEmSJ"
      }
    },
    {
      "cell_type": "markdown",
      "source": [
        "### What if \\_\\_init\\_\\_() method is absent?\n",
        "\n"
      ],
      "metadata": {
        "id": "WetyR0WBGGOa"
      }
    },
    {
      "cell_type": "markdown",
      "source": [
        "Methods are inherited from parent classes. Unless you override a method in a child class (by redefining it there), the parent's method implementation is used. This goes for all all methods, including <i>\\_\\_init\\_\\_</i>."
      ],
      "metadata": {
        "id": "y4X1bkWNGOPp"
      }
    },
    {
      "cell_type": "code",
      "source": [
        "# 4.0\n",
        "class Foo:\n",
        "    def __init__(self):\n",
        "        print('foo')\n",
        "\n",
        "# 4.1\n",
        "class Bar(Foo):\n",
        "    pass\n"
      ],
      "metadata": {
        "id": "sqY4SlxWGcEO"
      },
      "execution_count": null,
      "outputs": []
    },
    {
      "cell_type": "code",
      "source": [
        "# 4.1.1\n",
        "Bar()  # outputs 'foo'\n"
      ],
      "metadata": {
        "colab": {
          "base_uri": "https://localhost:8080/"
        },
        "id": "lo3a7IF1GfRI",
        "outputId": "17e02ffe-a3d0-4f71-91d0-a49349c2071d"
      },
      "execution_count": null,
      "outputs": [
        {
          "output_type": "stream",
          "name": "stdout",
          "text": [
            "foo\n"
          ]
        },
        {
          "output_type": "execute_result",
          "data": {
            "text/plain": [
              "<__main__.Bar at 0x7a663572b790>"
            ]
          },
          "metadata": {},
          "execution_count": 68
        }
      ]
    },
    {
      "cell_type": "markdown",
      "source": [
        "### What is the difference between *\\_\\_init\\_\\_* and *\\_\\_call\\_\\_*?\n",
        "\n",
        "See [here](https://stackoverflow.com/a/9663601/3282777)"
      ],
      "metadata": {
        "id": "QkaHPAo_Qz5c"
      }
    },
    {
      "cell_type": "code",
      "source": [
        "# 5.0\n",
        "class test:\n",
        "\n",
        "  def __init__(self,n):\n",
        "    self.a = 10\n",
        "    self.y = n\n",
        "\n",
        "  def __call__(self):\n",
        "    print(\"b = 20\")\n"
      ],
      "metadata": {
        "id": "JzocJwFGRlnW"
      },
      "execution_count": null,
      "outputs": []
    },
    {
      "cell_type": "code",
      "source": [
        "# 5.1 First instantiate the class\n",
        "c = test(20)\n",
        "c.a\n",
        "print(\"\\n=========\\n\")\n",
        "c.y"
      ],
      "metadata": {
        "colab": {
          "base_uri": "https://localhost:8080/"
        },
        "id": "Mi4Sdug7RnOS",
        "outputId": "c908361f-dfdf-4be6-9d78-2e521ceb0476"
      },
      "execution_count": null,
      "outputs": [
        {
          "output_type": "execute_result",
          "data": {
            "text/plain": [
              "10"
            ]
          },
          "metadata": {},
          "execution_count": 96
        },
        {
          "output_type": "stream",
          "name": "stdout",
          "text": [
            "\n",
            "=========\n",
            "\n"
          ]
        },
        {
          "output_type": "execute_result",
          "data": {
            "text/plain": [
              "20"
            ]
          },
          "metadata": {},
          "execution_count": 96
        }
      ]
    },
    {
      "cell_type": "code",
      "source": [
        "# 5.2 You can class instance as a function\n",
        "#  __call__() is invoked:\n",
        "n = c()"
      ],
      "metadata": {
        "colab": {
          "base_uri": "https://localhost:8080/"
        },
        "id": "1o9TFrkSRuln",
        "outputId": "c8eed5ee-7d34-44d3-987e-68a760012911"
      },
      "execution_count": null,
      "outputs": [
        {
          "output_type": "stream",
          "name": "stdout",
          "text": [
            "b = 20\n"
          ]
        }
      ]
    },
    {
      "cell_type": "markdown",
      "source": [
        "*\\_\\_init\\_\\_()* is used to initialise newly created object, and receives arguments used to do that:"
      ],
      "metadata": {
        "id": "XeCTxcY5SsrS"
      }
    },
    {
      "cell_type": "code",
      "source": [
        "# 5.3\n",
        "class Foo:\n",
        "    def __init__(self, a, b, c):\n",
        "        pass\n",
        "\n",
        "\n"
      ],
      "metadata": {
        "id": "j__2VGEfS32L"
      },
      "execution_count": null,
      "outputs": []
    },
    {
      "cell_type": "code",
      "source": [
        "# 5.4\n",
        "x = Foo(1, 2, 3) # __init__"
      ],
      "metadata": {
        "id": "_glfe3IWS9c3"
      },
      "execution_count": null,
      "outputs": []
    },
    {
      "cell_type": "markdown",
      "source": [
        "The second implements function call operator. Defining a custom \\_\\_call\\_\\_() method allows the class's instance to be called as a function, not always modifying the instance itself."
      ],
      "metadata": {
        "id": "zfs-U4PuTE_m"
      }
    },
    {
      "cell_type": "code",
      "source": [
        "# 5.5\n",
        "class Foo:\n",
        "    def __call__(self, a, b, c):\n",
        "        pass\n",
        "\n",
        "x = Foo()\n",
        "x(1, 2, 3) # __call__\n"
      ],
      "metadata": {
        "id": "3zpctjwUTHkq"
      },
      "execution_count": null,
      "outputs": []
    },
    {
      "cell_type": "markdown",
      "source": [
        "## Matrix multiplication  \n",
        "And type checking"
      ],
      "metadata": {
        "id": "MBDSLSvuaMLN"
      }
    },
    {
      "cell_type": "code",
      "source": [
        "# 6.0 Define two tensors of different shape:\n",
        "\n",
        "a = tf.constant([1, 2, 3, 4, 5, 6],\n",
        "                shape=[2, 3])\n",
        "\n",
        "b = tf.constant([7, 8, 9, 10, 11, 12],\n",
        "                shape=[3, 2])\n",
        "a\n",
        "b"
      ],
      "metadata": {
        "colab": {
          "base_uri": "https://localhost:8080/"
        },
        "id": "NMUNaXsHRRxk",
        "outputId": "fe5298bd-e96c-4644-f1c3-7dbf595d3b79"
      },
      "execution_count": null,
      "outputs": [
        {
          "output_type": "execute_result",
          "data": {
            "text/plain": [
              "<tf.Tensor: shape=(2, 3), dtype=int32, numpy=\n",
              "array([[1, 2, 3],\n",
              "       [4, 5, 6]], dtype=int32)>"
            ]
          },
          "metadata": {},
          "execution_count": 42
        },
        {
          "output_type": "execute_result",
          "data": {
            "text/plain": [
              "<tf.Tensor: shape=(3, 2), dtype=int32, numpy=\n",
              "array([[ 7,  8],\n",
              "       [ 9, 10],\n",
              "       [11, 12]], dtype=int32)>"
            ]
          },
          "metadata": {},
          "execution_count": 42
        }
      ]
    },
    {
      "cell_type": "code",
      "source": [
        "# 6.1 Matrix multiplication:\n",
        "#     2 X 3 multiply with 3 X 2\n",
        "#     to get 2 X 2:\n",
        "\n",
        "tf.matmul(a,b)"
      ],
      "metadata": {
        "colab": {
          "base_uri": "https://localhost:8080/"
        },
        "id": "lDfekw0SRUdr",
        "outputId": "8aef7e75-28ce-4eb3-ec39-49ec04869f29"
      },
      "execution_count": null,
      "outputs": [
        {
          "output_type": "execute_result",
          "data": {
            "text/plain": [
              "<tf.Tensor: shape=(2, 2), dtype=float32, numpy=\n",
              "array([[ 58.,  64.],\n",
              "       [139., 154.]], dtype=float32)>"
            ]
          },
          "metadata": {},
          "execution_count": 56
        }
      ]
    },
    {
      "cell_type": "code",
      "source": [
        "# 6.2 Tensors with different data types:\n",
        "\n",
        "a = tf.constant([1, 2, 3, 4, 5, 6],\n",
        "                shape=[2, 3],\n",
        "                dtype = 'float32'\n",
        "                )\n",
        "b = tf.constant([7, 8, 9, 10, 11, 12],\n",
        "                shape=[3, 2]\n",
        "                )\n",
        "a\n",
        "b"
      ],
      "metadata": {
        "colab": {
          "base_uri": "https://localhost:8080/"
        },
        "id": "K5jenIyNSZF5",
        "outputId": "0919a80f-d670-46bf-b681-0307bb778c5d"
      },
      "execution_count": null,
      "outputs": [
        {
          "output_type": "execute_result",
          "data": {
            "text/plain": [
              "<tf.Tensor: shape=(2, 3), dtype=float32, numpy=\n",
              "array([[1., 2., 3.],\n",
              "       [4., 5., 6.]], dtype=float32)>"
            ]
          },
          "metadata": {},
          "execution_count": 50
        },
        {
          "output_type": "execute_result",
          "data": {
            "text/plain": [
              "<tf.Tensor: shape=(3, 2), dtype=int32, numpy=\n",
              "array([[ 7,  8],\n",
              "       [ 9, 10],\n",
              "       [11, 12]], dtype=int32)>"
            ]
          },
          "metadata": {},
          "execution_count": 50
        }
      ]
    },
    {
      "cell_type": "code",
      "source": [
        "# 6.3 This multiplication fails because\n",
        "#     of strict dtype checking in tensorflow:\n",
        "\n",
        "tf.matmul(a,b)"
      ],
      "metadata": {
        "id": "3qPc0VDOY2w2"
      },
      "execution_count": null,
      "outputs": []
    },
    {
      "cell_type": "code",
      "source": [
        "# 6.4 Cast b to float:\n",
        "b = tf.cast(b, dtype = tf.float32)"
      ],
      "metadata": {
        "id": "G7tZBRJkZdGp"
      },
      "execution_count": null,
      "outputs": []
    },
    {
      "cell_type": "code",
      "source": [
        "# 6.5 This succeeds\n",
        "\n",
        "tf.matmul(a,b)"
      ],
      "metadata": {
        "colab": {
          "base_uri": "https://localhost:8080/"
        },
        "id": "8WA7DpK9Zios",
        "outputId": "832fff62-7f20-4ff5-a67b-35df532f8539"
      },
      "execution_count": null,
      "outputs": [
        {
          "output_type": "execute_result",
          "data": {
            "text/plain": [
              "<tf.Tensor: shape=(2, 2), dtype=float32, numpy=\n",
              "array([[ 58.,  64.],\n",
              "       [139., 154.]], dtype=float32)>"
            ]
          },
          "metadata": {},
          "execution_count": 55
        }
      ]
    },
    {
      "cell_type": "markdown",
      "source": [
        "About weights initializer:  \n",
        "(see [here](https://stackoverflow.com/a/37350251/3282777))\n",
        "\n",
        "If weights initializer is None (the default), the default initializer passed is  glorot_uniform_initializer.  \n",
        "> The Glorot uniform initializer, also called Xavier uniform initializer. It draws samples from a uniform distribution within `[-limit, limit]`, where limit is `sqrt(6 / (fan_in + fan_out))`\n",
        "where `fan_in` is the number of input units in the weight tensor\n",
        "and `fan_out` is the number of output units in the weight tensor."
      ],
      "metadata": {
        "id": "HOlXsl3vbj3d"
      }
    },
    {
      "cell_type": "markdown",
      "source": [
        "## Custom layer\n",
        "See [here](https://www.tensorflow.org/guide/keras/making_new_layers_and_models_via_subclassing)   \n",
        "Other references [here](https://www.tensorflow.org/guide/intro_to_modules) and [here](https://www.tensorflow.org/api_docs/python/tf/keras/layers/Layer#add_weight) and [here](https://www.tensorflow.org/tutorials/customization/custom_layers)"
      ],
      "metadata": {
        "id": "2kShTG5Ec2p2"
      }
    },
    {
      "cell_type": "markdown",
      "source": [
        "One of the central abstractions in Keras is the Layer class. A layer encapsulates two things:\n",
        "\n",
        ">A state (the layer's \"weights\"), and, <br>\n",
        "\n",
        ">A transformation from inputs to outputs (a \"call\", the layer's forward pass)."
      ],
      "metadata": {
        "id": "8vqFFLymNxX0"
      }
    },
    {
      "cell_type": "markdown",
      "source": [
        "Here's a densely-connected layer. It has a state: the variables w and b."
      ],
      "metadata": {
        "id": "6tFroejBOYAp"
      }
    },
    {
      "cell_type": "code",
      "source": [
        "# 7.0 Define a layer\n",
        "# https://www.tensorflow.org/guide/keras/making_new_layers_and_models_via_subclassing\n",
        "\n",
        "class Linear(tf.keras.layers.Layer):\n",
        "    def __init__(self, units=32, input_dim=32):\n",
        "        super().__init__()\n",
        "\n",
        "        self.w = self.add_weight(\n",
        "                                  shape=(input_dim, units),\n",
        "                                  initializer=\"random_normal\",\n",
        "                                  trainable=True\n",
        "                                )\n",
        "\n",
        "        self.b = self.add_weight(\n",
        "                                 shape=(units,),\n",
        "                                 initializer=\"zeros\",\n",
        "                                 trainable=True\n",
        "                                 )\n",
        "\n",
        "    def call(self, inputs):\n",
        "        return tf.matmul(inputs, self.w) + self.b"
      ],
      "metadata": {
        "id": "HnxU8mnaOZME"
      },
      "execution_count": null,
      "outputs": []
    },
    {
      "cell_type": "markdown",
      "source": [
        "You could use this layer, as:"
      ],
      "metadata": {
        "id": "tlMbvQ7kPo9i"
      }
    },
    {
      "cell_type": "code",
      "source": [
        "# 7.1 Our input\n",
        "x = tf.ones((2, 2))\n",
        "x"
      ],
      "metadata": {
        "colab": {
          "base_uri": "https://localhost:8080/"
        },
        "id": "YLB_foVrP3Uc",
        "outputId": "5b04e8ca-02a5-4a46-8d43-7b47c9d5fa79"
      },
      "execution_count": null,
      "outputs": [
        {
          "output_type": "execute_result",
          "data": {
            "text/plain": [
              "<tf.Tensor: shape=(2, 2), dtype=float32, numpy=\n",
              "array([[1., 1.],\n",
              "       [1., 1.]], dtype=float32)>"
            ]
          },
          "metadata": {},
          "execution_count": 107
        }
      ]
    },
    {
      "cell_type": "code",
      "source": [
        "# 7.2 Instantiate the layer:\n",
        "linear_layer = Linear(4, 2)\n",
        "\n",
        "# 7.3 Use the instance as a function:\n",
        "y = linear_layer(x)  # Same as: Linear(4, 2)(x)\n",
        "print(y)\n"
      ],
      "metadata": {
        "colab": {
          "base_uri": "https://localhost:8080/"
        },
        "id": "4Tv4IOA2PyBS",
        "outputId": "bfc50a7c-a122-4a98-d844-e94365c5d9cb"
      },
      "execution_count": null,
      "outputs": [
        {
          "output_type": "stream",
          "name": "stdout",
          "text": [
            "tf.Tensor(\n",
            "[[ 0.1159199   0.02221491  0.00828999 -0.02238546]\n",
            " [ 0.1159199   0.02221491  0.00828999 -0.02238546]], shape=(2, 4), dtype=float32)\n"
          ]
        }
      ]
    },
    {
      "cell_type": "markdown",
      "source": [
        "In many cases, you may not know in advance the size of your inputs, and you would like to lazily create weights when that value becomes known, some time after instantiating the layer.\n",
        "\n",
        "In the Keras API, we recommend creating layer weights in the build(self, inputs_shape) method of your layer. Like this:"
      ],
      "metadata": {
        "id": "bHQpAmGZV4ZN"
      }
    },
    {
      "cell_type": "code",
      "source": [
        "# 8.0\n",
        "class Linear(tf.keras.layers.Layer):\n",
        "    def __init__(self, units=32):\n",
        "        super().__init__()\n",
        "        self.units = units\n",
        "\n",
        "    def build(self, input_shape):\n",
        "        self.w = self.add_weight(\n",
        "                                  shape=(input_shape[-1], self.units),\n",
        "                                  initializer=\"random_normal\",\n",
        "                                  trainable=True,\n",
        "                                )\n",
        "\n",
        "        self.b = self.add_weight(\n",
        "                                  shape=(self.units,),\n",
        "                                  initializer=\"random_normal\",\n",
        "                                  trainable=True\n",
        "                                )\n",
        "\n",
        "    def call(self, inputs):\n",
        "        return tf.matmul(inputs, self.w) + self.b"
      ],
      "metadata": {
        "id": "yb4DJhiAWBeL"
      },
      "execution_count": null,
      "outputs": []
    },
    {
      "cell_type": "markdown",
      "source": [
        "The <i>\\_\\_call\\_\\_()<i> method of your layer will automatically run `build()` the first time it is called. You now have a layer that's lazy and thus easier to use:"
      ],
      "metadata": {
        "id": "tVZ4Sn1EWd0V"
      }
    },
    {
      "cell_type": "code",
      "source": [
        "# 8.1 At instantiation, we don't know on what inputs this is going to get called\n",
        "linear_layer = Linear(32)\n",
        "\n",
        "# 8.2 The layer's weights are created dynamically the first time the layer is called\n",
        "y = linear_layer(x)    # Same as: Linear(32)(x)\n"
      ],
      "metadata": {
        "id": "pdNXcSU8XaBO"
      },
      "execution_count": null,
      "outputs": []
    },
    {
      "cell_type": "markdown",
      "source": [
        "A custom layer can be created by passing the base layer `tf.keras.layers.Layer`. This base layer has certain properties and methods but they can be expressely (if required) overridden in the subclass.\n",
        "\n",
        "\n"
      ],
      "metadata": {
        "id": "BiJVfEkMcYVd"
      }
    },
    {
      "cell_type": "markdown",
      "source": [
        "The best way to implement your own layer is extending the `tf.keras.Layer` class and implementing three methods:\n",
        "> <i>\\_\\_init\\_\\_()</i> , where you can do all <b>input-independent initialization</b>  \n",
        "\n",
        "> `build()`, where you know the shapes of the input tensors and can do the rest of the initialization  \n",
        "\n",
        ">`call()`, where you do the forward computation\n"
      ],
      "metadata": {
        "id": "5Ms6Nw9JdCaW"
      }
    },
    {
      "cell_type": "markdown",
      "source": [
        "More [explanation](https://stackoverflow.com/a/63386626/3282777):\n",
        "\n",
        "The `Layer.build()` method is typically used to instantiate the weights of the layer. See the source code for `tf.keras.layers.Dense` for an example, and note that the weight and bias tensors are created in that function. The `Layer.build()` method takes an `input_shape` argument, and the shape of the weights and biases often depend on the shape of the input.\n",
        "\n",
        "The `Layer.call()` method, on the other hand, implements the forward-pass of the layer. You do not want to overwrite <i>\\_\\_call\\_\\_</i> because that is implemented in the base class `tf.keras.layers.Layer`. In a custom layer, you should implement `call()`.\n",
        "\n",
        "`Layer.call()` does not call `Layer.build()`. However, `Layer().__call__()` does call it if the layer has not been built yet (source), and that will set an attribute `self.built = True` to prevent `Layer.build()` from being called again. In other words, `Layer.__call__()` only calls `Layer.build()` the first time it is called.\n"
      ],
      "metadata": {
        "id": "qMIIOVJMd4Je"
      }
    },
    {
      "cell_type": "code",
      "source": [
        "# 9.0\n",
        "# https://www.tensorflow.org/tutorials/customization/custom_layers\n",
        "\n",
        "class MyDenseLayer(tf.keras.layers.Layer):\n",
        "  def __init__(self, num_outputs):\n",
        "    #\n",
        "    super(MyDenseLayer, self).__init__()\n",
        "    self.num_outputs = num_outputs  # No of output neurons\n",
        "\n",
        "  # Generally used for weights initialization\n",
        "  def build(self, input_shape):\n",
        "    self.kernel = self.add_weight(name = \"kernel\",\n",
        "                                  initializer = None,    # default\n",
        "                                  shape=[int(input_shape[-1]), # Input layer\n",
        "                                         self.num_outputs])\n",
        "  # Forward pass\n",
        "  def call(self, inputs):\n",
        "    return tf.matmul(inputs, self.kernel)\n",
        "\n"
      ],
      "metadata": {
        "id": "UCyDJ9D4PRNk"
      },
      "execution_count": null,
      "outputs": []
    },
    {
      "cell_type": "code",
      "source": [
        "# 9.1 Initialize the class object:\n",
        "\n",
        "layer = MyDenseLayer(10)\n"
      ],
      "metadata": {
        "id": "N5yOk-n4R-uH"
      },
      "execution_count": null,
      "outputs": []
    },
    {
      "cell_type": "code",
      "source": [
        "# 9.2 Input matrix a\n",
        "a\n",
        "print(\"\\n===========\\n\")\n",
        "a.numpy().shape\n",
        "print(\"\\n===========\\n\")\n",
        "layer(a)\n",
        "print(\"\\n===========\\n\")\n",
        "np.round(layer.kernel.numpy(),2)\n",
        "print(\"\\n===========\\n\")\n",
        "np.round(layer.kernel.numpy(),2).shape\n",
        "print(\"\\n===========\\n\")\n",
        "layer(a).shape"
      ],
      "metadata": {
        "colab": {
          "base_uri": "https://localhost:8080/"
        },
        "id": "kIQRvt5GQDiz",
        "outputId": "48ddee32-0d6d-4971-f006-dd118001aef2"
      },
      "execution_count": null,
      "outputs": [
        {
          "output_type": "execute_result",
          "data": {
            "text/plain": [
              "<tf.Tensor: shape=(2, 3), dtype=float32, numpy=\n",
              "array([[1., 2., 3.],\n",
              "       [4., 5., 6.]], dtype=float32)>"
            ]
          },
          "metadata": {},
          "execution_count": 83
        },
        {
          "output_type": "stream",
          "name": "stdout",
          "text": [
            "\n",
            "===========\n",
            "\n"
          ]
        },
        {
          "output_type": "execute_result",
          "data": {
            "text/plain": [
              "(2, 3)"
            ]
          },
          "metadata": {},
          "execution_count": 83
        },
        {
          "output_type": "stream",
          "name": "stdout",
          "text": [
            "\n",
            "===========\n",
            "\n"
          ]
        },
        {
          "output_type": "execute_result",
          "data": {
            "text/plain": [
              "<tf.Tensor: shape=(2, 10), dtype=float32, numpy=\n",
              "array([[ 1.2649858 , -2.2285457 ,  0.18772945, -1.7334996 ,  1.3389293 ,\n",
              "        -2.1516857 , -1.2864588 , -0.41845858, -0.2842124 ,  0.10736054],\n",
              "       [ 1.8323687 , -5.6919317 , -0.2275815 , -2.7392569 ,  1.8457786 ,\n",
              "        -4.8639874 , -1.4462526 , -0.5675663 , -0.3992206 ,  0.94588125]],\n",
              "      dtype=float32)>"
            ]
          },
          "metadata": {},
          "execution_count": 83
        },
        {
          "output_type": "stream",
          "name": "stdout",
          "text": [
            "\n",
            "===========\n",
            "\n"
          ]
        },
        {
          "output_type": "execute_result",
          "data": {
            "text/plain": [
              "array([[-0.61, -0.52, -0.28,  0.4 , -0.4 , -0.32,  0.61,  0.36,  0.34,\n",
              "         0.61],\n",
              "       [ 0.52, -0.19, -0.05, -0.08, -0.03,  0.08, -0.1 , -0.45, -0.52,\n",
              "        -0.5 ],\n",
              "       [ 0.28, -0.44,  0.19, -0.66,  0.6 , -0.66, -0.57,  0.04,  0.14,\n",
              "         0.16]], dtype=float32)"
            ]
          },
          "metadata": {},
          "execution_count": 83
        },
        {
          "output_type": "stream",
          "name": "stdout",
          "text": [
            "\n",
            "===========\n",
            "\n"
          ]
        },
        {
          "output_type": "execute_result",
          "data": {
            "text/plain": [
              "(3, 10)"
            ]
          },
          "metadata": {},
          "execution_count": 83
        },
        {
          "output_type": "stream",
          "name": "stdout",
          "text": [
            "\n",
            "===========\n",
            "\n"
          ]
        },
        {
          "output_type": "execute_result",
          "data": {
            "text/plain": [
              "TensorShape([2, 10])"
            ]
          },
          "metadata": {},
          "execution_count": 83
        }
      ]
    },
    {
      "cell_type": "code",
      "source": [
        "# 9.3\n",
        "layer.kernel\n",
        "# 9.3.1\n",
        "s = layer.kernel"
      ],
      "metadata": {
        "colab": {
          "base_uri": "https://localhost:8080/"
        },
        "id": "6aA2xmzzSli6",
        "outputId": "2dcdb061-9b54-4722-ac57-d1fef426f5cd"
      },
      "execution_count": null,
      "outputs": [
        {
          "output_type": "execute_result",
          "data": {
            "text/plain": [
              "<tf.Variable 'my_dense_layer_3/kernel:0' shape=(3, 10) dtype=float32, numpy=\n",
              "array([[-0.61042124, -0.5230473 , -0.27518252,  0.40325987, -0.3993114 ,\n",
              "        -0.32045314,  0.61470735,  0.35913384,  0.34457064,  0.6137085 ],\n",
              "       [ 0.52323973, -0.18874598, -0.05267543, -0.07877743, -0.03345728,\n",
              "         0.08029026, -0.10274953, -0.44891676, -0.51993716, -0.49625695],\n",
              "       [ 0.2763092 , -0.4426688 ,  0.18942094, -0.6597349 ,  0.6017184 ,\n",
              "        -0.66393775, -0.5652224 ,  0.04008037,  0.13703042,  0.16205531]],\n",
              "      dtype=float32)>"
            ]
          },
          "metadata": {},
          "execution_count": 28
        }
      ]
    },
    {
      "cell_type": "code",
      "source": [
        "# 9.3.2\n",
        "_ = plt.hist(s.numpy(),bins = 3);"
      ],
      "metadata": {
        "colab": {
          "base_uri": "https://localhost:8080/",
          "height": 430
        },
        "id": "nZDxHYPRRg5z",
        "outputId": "2213af74-4f49-4cfe-f7fe-8b11eb89fe0c"
      },
      "execution_count": null,
      "outputs": [
        {
          "output_type": "display_data",
          "data": {
            "text/plain": [
              "<Figure size 640x480 with 1 Axes>"
            ],
            "image/png": "[encoded data removed]"
          },
          "metadata": {}
        }
      ]
    },
    {
      "cell_type": "code",
      "source": [
        "#######################"
      ],
      "metadata": {
        "id": "E3h0F86DRmZ2"
      },
      "execution_count": null,
      "outputs": []
    }
  ]
}