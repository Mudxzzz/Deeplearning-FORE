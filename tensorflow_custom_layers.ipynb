{
  "nbformat": 4,
  "nbformat_minor": 0,
  "metadata": {
    "colab": {
      "provenance": [],
      "authorship_tag": "ABX9TyMASxOeDLzg+Lk7DTRQDJ9F",
      "include_colab_link": true
    },
    "kernelspec": {
      "name": "python3",
      "display_name": "Python 3"
    },
    "language_info": {
      "name": "python"
    }
  },
  "cells": [
    {
      "cell_type": "markdown",
      "metadata": {
        "id": "view-in-github",
        "colab_type": "text"
      },
      "source": [
        "<a href=\"https://colab.research.google.com/github/harnalashok/deeplearning/blob/main/tensorflow_custom_layers.ipynb\" target=\"_parent\"><img src=\"https://colab.research.google.com/assets/colab-badge.svg\" alt=\"Open In Colab\"/></a>"
      ]
    },
    {
      "cell_type": "code",
      "source": [
        "# LAst amended: 09th Nov, 2023\n",
        "# About python classes and tensorflow layers"
      ],
      "metadata": {
        "id": "fgB2RAULYQL6"
      },
      "execution_count": null,
      "outputs": []
    },
    {
      "cell_type": "code",
      "source": [
        "# 0.0 Reset all variables\n",
        "%reset -f"
      ],
      "metadata": {
        "id": "lv8VwNBePt3U"
      },
      "execution_count": null,
      "outputs": []
    },
    {
      "cell_type": "code",
      "execution_count": 1,
      "metadata": {
        "id": "1qUIpzhPPClW"
      },
      "outputs": [],
      "source": [
        "# 0.1 Import libraries\n",
        "import tensorflow as tf\n",
        "#import tensorflow.keras\n",
        "import numpy as np\n",
        "import matplotlib.pyplot as plt\n",
        "\n"
      ]
    },
    {
      "cell_type": "code",
      "source": [
        "# 0.2 Display multiple outputs from a Cell\n",
        "\n",
        "from IPython.core.interactiveshell import InteractiveShell\n",
        "InteractiveShell.ast_node_interactivity = \"all\""
      ],
      "metadata": {
        "id": "-99hVv7-RWF-"
      },
      "execution_count": 2,
      "outputs": []
    },
    {
      "cell_type": "markdown",
      "source": [
        "## Classes in python\n",
        "See this [link](https://docs.python.org/3/tutorial/classes.html)"
      ],
      "metadata": {
        "id": "HSXKhfeiyLoD"
      }
    },
    {
      "cell_type": "markdown",
      "source": [
        "Classes provide a means of bundling data and functionality together. Creating a new class creates a new type of object, allowing new instances of that type to be made. Each class instance can have attributes attached to it for maintaining its state. Class instances can also have methods (defined by its class) for modifying its state."
      ],
      "metadata": {
        "id": "GJgIbbZTyN6o"
      }
    },
    {
      "cell_type": "markdown",
      "source": [
        "# Template of simplest class:\n",
        "`class ClassName:`<br>\n",
        ">    `<statement-1>`  <br>\n",
        ">    `.`  <br>\n",
        ">    `.`  <br>\n",
        ">    `.`  <br>\n",
        ">    `<statement-N>`<br>"
      ],
      "metadata": {
        "id": "MtviRBL6zfG9"
      }
    },
    {
      "cell_type": "code",
      "source": [
        "# 1.0 A very simple class:\n",
        "\n",
        "class MyClass:\n",
        "    \"\"\"A simple example class\"\"\"\n",
        "    i = 12345\n",
        "\n",
        "    def f(self):\n",
        "        return 'hello world'"
      ],
      "metadata": {
        "id": "6GhuqW5ozXUp"
      },
      "execution_count": 3,
      "outputs": []
    },
    {
      "cell_type": "markdown",
      "source": [
        " MyClass.i and MyClass.f are valid attribute references, returning an integer and a function object, respectively. Instantiate a class, as:"
      ],
      "metadata": {
        "id": "bAqQXyeM0Gc6"
      }
    },
    {
      "cell_type": "code",
      "source": [
        "# 1.1\n",
        "x = MyClass()\n",
        "\n",
        "# 1.1.0\n",
        "type(x)"
      ],
      "metadata": {
        "colab": {
          "base_uri": "https://localhost:8080/"
        },
        "id": "CChz66QB1TsB",
        "outputId": "f3898292-efaa-4b78-e732-4472feeccf19"
      },
      "execution_count": 4,
      "outputs": [
        {
          "output_type": "execute_result",
          "data": {
            "text/plain": [
              "__main__.MyClass"
            ]
          },
          "metadata": {},
          "execution_count": 4
        }
      ]
    },
    {
      "cell_type": "markdown",
      "source": [
        "The above instantiation operation (“calling” a class object) creates an empty object. If you want the object to contain some data, then use \\_\\_init\\_\\_() method, as:"
      ],
      "metadata": {
        "id": "BU268Tr-1b0p"
      }
    },
    {
      "cell_type": "code",
      "source": [
        "# 1.2 Another very simple class:\n",
        "\n",
        "class MyClass:\n",
        "    \"\"\"A simple example class\"\"\"\n",
        "    def __init__(self):\n",
        "      self.data = []\n",
        "\n",
        "    i = 12345\n",
        "\n",
        "    def f(self):\n",
        "        return 'hello world'"
      ],
      "metadata": {
        "id": "P3ImWyTV1tVz"
      },
      "execution_count": 5,
      "outputs": []
    },
    {
      "cell_type": "markdown",
      "source": [
        "Of course, the \\_\\_init\\_\\_() method may have arguments for greater flexibility. In that case, arguments given to the class instantiation operator are passed on to \\_\\_init\\_\\_(). For example,"
      ],
      "metadata": {
        "id": "0rtWn5kV2txD"
      }
    },
    {
      "cell_type": "code",
      "source": [
        "# 2.0\n",
        "class Complex:\n",
        "    def __init__(self, realpart, imagpart):\n",
        "        self.r = realpart\n",
        "        self.i = imagpart\n",
        "\n",
        "x = Complex(3.0, -4.5)\n",
        "x.r, x.i"
      ],
      "metadata": {
        "colab": {
          "base_uri": "https://localhost:8080/"
        },
        "id": "9dfg7MOG23Cw",
        "outputId": "99daa5b4-6557-4abd-927c-392be8c44169"
      },
      "execution_count": null,
      "outputs": [
        {
          "output_type": "execute_result",
          "data": {
            "text/plain": [
              "(3.0, -4.5)"
            ]
          },
          "metadata": {},
          "execution_count": 61
        }
      ]
    },
    {
      "cell_type": "markdown",
      "source": [
        "Data attributes need not be declared; like local variables, they spring into existence when they are first assigned to. For example, if x is the instance of MyClass created above, the following piece of code will print the value 16, without leaving a trace:"
      ],
      "metadata": {
        "id": "eR9vzrpQ3j8u"
      }
    },
    {
      "cell_type": "code",
      "source": [
        "# 2.1\n",
        "x.counter = 1    # This attribute created outside the class\n",
        "while x.counter < 10:\n",
        "    x.counter *=  2\n",
        "print(x.counter)\n",
        "del x.counter"
      ],
      "metadata": {
        "colab": {
          "base_uri": "https://localhost:8080/"
        },
        "id": "YI9h5_Dh3jaN",
        "outputId": "2000a685-1aba-454c-ffd9-35dfc4a7ebf6"
      },
      "execution_count": 8,
      "outputs": [
        {
          "output_type": "stream",
          "name": "stdout",
          "text": [
            "16\n"
          ]
        }
      ]
    },
    {
      "cell_type": "markdown",
      "source": [
        "Methods vs Function objects  \n",
        "===========================\n",
        "\n",
        "Valid method names of an *instance object* depend on its class. By definition, all attributes of a class that are *function objects* define corresponding methods of its instances. So in our example, `x.f` is a `valid method` object, but `MyClass.f` is a function object.  But `x.f` is not the same thing as`MyClass.f` — the former is a *method* object, while the latter is a *function* object."
      ],
      "metadata": {
        "id": "980b_Ot84L2X"
      }
    },
    {
      "cell_type": "markdown",
      "source": [
        "Class variable vs instance variable  \n",
        "Generally speaking, instance variables are for data unique to each instance and class variables are for attributes and methods shared by all instances of the class:"
      ],
      "metadata": {
        "id": "Bny3nq7264_x"
      }
    },
    {
      "cell_type": "code",
      "source": [
        "# 2.2\n",
        "class Dog:\n",
        "\n",
        "    kind = 'canine'         # class variable shared by all instances\n",
        "\n",
        "    def __init__(self, name):\n",
        "        self.name = name    # instance variable unique to each instance"
      ],
      "metadata": {
        "id": "usNJiVEF7HDf"
      },
      "execution_count": 10,
      "outputs": []
    },
    {
      "cell_type": "code",
      "source": [
        "# 2.3\n",
        "d = Dog('Fido')\n",
        "e = Dog('Buddy')\n",
        "d.kind                  # shared by all dogs\n",
        "e.kind                  # shared by all dogs\n",
        "d.name                  # unique to d\n",
        "e.name"
      ],
      "metadata": {
        "id": "CcDkvYJF7M9v",
        "colab": {
          "base_uri": "https://localhost:8080/",
          "height": 35
        },
        "outputId": "4cd019b7-79f5-419d-92fb-562c36291734"
      },
      "execution_count": 11,
      "outputs": [
        {
          "output_type": "execute_result",
          "data": {
            "text/plain": [
              "'canine'"
            ],
            "application/vnd.google.colaboratory.intrinsic+json": {
              "type": "string"
            }
          },
          "metadata": {},
          "execution_count": 11
        },
        {
          "output_type": "execute_result",
          "data": {
            "text/plain": [
              "'canine'"
            ],
            "application/vnd.google.colaboratory.intrinsic+json": {
              "type": "string"
            }
          },
          "metadata": {},
          "execution_count": 11
        },
        {
          "output_type": "execute_result",
          "data": {
            "text/plain": [
              "'Fido'"
            ],
            "application/vnd.google.colaboratory.intrinsic+json": {
              "type": "string"
            }
          },
          "metadata": {},
          "execution_count": 11
        },
        {
          "output_type": "execute_result",
          "data": {
            "text/plain": [
              "'Buddy'"
            ],
            "application/vnd.google.colaboratory.intrinsic+json": {
              "type": "string"
            }
          },
          "metadata": {},
          "execution_count": 11
        }
      ]
    },
    {
      "cell_type": "markdown",
      "source": [
        "Shared data can have possibly surprising effects with involving mutable objects such as lists and dictionaries. For example, the `tricks` list in the following code should not be used as a class variable because just a single list would be shared by all Dog instances:"
      ],
      "metadata": {
        "id": "QB9vd19q8cSw"
      }
    },
    {
      "cell_type": "code",
      "source": [
        "# 2.4\n",
        "class Dog:\n",
        "    tricks = []             # mistaken use of a class variable\n",
        "\n",
        "    def __init__(self, name):\n",
        "        self.name = name\n",
        "\n",
        "    def add_trick(self, trick):\n",
        "        self.tricks.append(trick)"
      ],
      "metadata": {
        "id": "BzboYjql8kh_"
      },
      "execution_count": 13,
      "outputs": []
    },
    {
      "cell_type": "code",
      "source": [
        "# 2.4.1\n",
        "\n",
        "d = Dog('Fido')\n",
        "e = Dog('Buddy')\n",
        "d.add_trick('roll over')\n",
        "e.add_trick('play dead')\n",
        "d.tricks                # unexpectedly shared by all dogs"
      ],
      "metadata": {
        "id": "K5Zq5lUQ8oO7",
        "colab": {
          "base_uri": "https://localhost:8080/"
        },
        "outputId": "e029d729-d579-44a1-92e7-dfee88872699"
      },
      "execution_count": 14,
      "outputs": [
        {
          "output_type": "execute_result",
          "data": {
            "text/plain": [
              "['roll over', 'play dead']"
            ]
          },
          "metadata": {},
          "execution_count": 14
        }
      ]
    },
    {
      "cell_type": "markdown",
      "source": [
        "Correct design of the class should use an instance variable instead:"
      ],
      "metadata": {
        "id": "D3k758LF8xAe"
      }
    },
    {
      "cell_type": "code",
      "source": [
        "# 3.0\n",
        "class Dog:\n",
        "\n",
        "    def __init__(self, name):\n",
        "        self.name = name\n",
        "        self.tricks = []    # creates a new empty list for each dog\n",
        "\n",
        "    def add_trick(self, trick):\n",
        "        self.tricks.append(trick)"
      ],
      "metadata": {
        "id": "9_44E6zL80LP"
      },
      "execution_count": null,
      "outputs": []
    },
    {
      "cell_type": "markdown",
      "source": [
        "Data attributes may be referenced by methods as well as by ordinary users (“clients”) of an object. In other words, classes are not usable to implement pure abstract data types. In fact, nothing in Python makes it possible to enforce data hiding — it is all based upon convention. Often, the first argument of a method is called self. This is nothing more than a convention: the name self has absolutely no special meaning to Python. Methods may call other methods by using method attributes of the self argument."
      ],
      "metadata": {
        "id": "61X8-DyI-lbI"
      }
    },
    {
      "cell_type": "code",
      "source": [
        "# 3.1\n",
        "class Bag:\n",
        "    def __init__(self):\n",
        "        self.data = []\n",
        "\n",
        "    def add(self, x):\n",
        "        self.data.append(x)\n",
        "\n",
        "    def addtwice(self, x):\n",
        "        self.add(x)\n",
        "        self.add(x)"
      ],
      "metadata": {
        "id": "rHCvh050_JmI"
      },
      "execution_count": 15,
      "outputs": []
    },
    {
      "cell_type": "markdown",
      "source": [
        "### Class inheritance"
      ],
      "metadata": {
        "id": "d8OXslhZDK78"
      }
    },
    {
      "cell_type": "markdown",
      "source": [
        "Of course, a language feature would not be worthy of the name “class” without supporting inheritance. The syntax for a derived class definition looks like this:"
      ],
      "metadata": {
        "id": "1OoHgS_uDNrY"
      }
    },
    {
      "cell_type": "markdown",
      "source": [
        "class DerivedClassName(BaseClassName):  \n",
        ">    `<statement-1>` <br>\n",
        ">    `.` <br>\n",
        ">    `.`<br>\n",
        ">    `.`<br>\n",
        ">    `<statement-N>`<br>"
      ],
      "metadata": {
        "id": "zJWyqzWNDS0B"
      }
    },
    {
      "cell_type": "markdown",
      "source": [
        "When the base class is defined in another module:"
      ],
      "metadata": {
        "id": "psXRXv0lDrF5"
      }
    },
    {
      "cell_type": "code",
      "source": [
        "# 3.2\n",
        "class DerivedClassName(modname.BaseClassName):"
      ],
      "metadata": {
        "id": "QPRRIjT5DSLr"
      },
      "execution_count": null,
      "outputs": []
    },
    {
      "cell_type": "markdown",
      "source": [
        "Execution of a derived class definition proceeds the same as for a base class. When the class object is constructed, the base class is remembered. This is used for resolving attribute references: if a requested attribute is not found in the class, the search proceeds to look in the base class. This rule is applied recursively if the base class itself is derived from some other class.\n",
        "\n",
        "There’s nothing special about instantiation of derived classes: DerivedClassName() creates a new instance of the class. Method references are resolved as follows: the corresponding class attribute is searched, descending down the chain of base classes if necessary, and the method reference is valid if this yields a function object.\n",
        "\n",
        "Derived classes may override methods of their base classes. Because methods have no special privileges when calling other methods of the same object, a method of a base class that calls another method defined in the same base class may end up calling a method of a derived class that overrides it.   \n",
        "\n",
        "There is a simple way to call the base class method directly: just call BaseClassName.methodname(self, arguments). This is occasionally useful to clients as well. (Note that this only works if the base class is accessible as BaseClassName in the global scope.)"
      ],
      "metadata": {
        "id": "iNFVGl22D-Xp"
      }
    },
    {
      "cell_type": "markdown",
      "source": [
        "### Private variables"
      ],
      "metadata": {
        "id": "p1VobAhrEgm_"
      }
    },
    {
      "cell_type": "markdown",
      "source": [
        "“Private” instance variables that cannot be accessed except from inside an object don’t exist in Python. However, there is a convention that is followed by most Python code: a name prefixed with an underscore (e.g. \\_spam) should be treated as a non-public part of the API (whether it is a function, a method or a data member). It should be considered an implementation detail and subject to change without notice.   \n",
        "\n",
        "Since there is a valid use-case for class-private members (namely to avoid name clashes of names with names defined by subclasses), there is limited support for such a mechanism, called name mangling. Any identifier of the form <i>\\_\\_spam</i> (at least two leading underscores, at most one trailing underscore) is textually replaced with <i>\\_classname\\_\\_spam</i>, where classname is the current class name with leading underscore(s) stripped. This mangling is done as long as it occurs within the definition of a class."
      ],
      "metadata": {
        "id": "7HlalvJuEmSJ"
      }
    },
    {
      "cell_type": "markdown",
      "source": [
        "### What if \\_\\_init\\_\\_() method is absent?\n",
        "\n"
      ],
      "metadata": {
        "id": "WetyR0WBGGOa"
      }
    },
    {
      "cell_type": "markdown",
      "source": [
        "Methods are inherited from parent classes. Unless you override a method in a child class (by redefining it there), the parent's method implementation is used. This goes for all all methods, including <i>\\_\\_init\\_\\_</i>."
      ],
      "metadata": {
        "id": "y4X1bkWNGOPp"
      }
    },
    {
      "cell_type": "code",
      "source": [
        "# 4.0\n",
        "class Foo:\n",
        "    def __init__(self):\n",
        "        print('foo')\n",
        "\n",
        "# 4.1\n",
        "class Bar(Foo):\n",
        "    pass\n"
      ],
      "metadata": {
        "id": "sqY4SlxWGcEO"
      },
      "execution_count": 16,
      "outputs": []
    },
    {
      "cell_type": "code",
      "source": [
        "# 4.1.1\n",
        "Bar()  # outputs 'foo'\n"
      ],
      "metadata": {
        "colab": {
          "base_uri": "https://localhost:8080/"
        },
        "id": "lo3a7IF1GfRI",
        "outputId": "c91a2bc1-7f35-42b1-ac55-8e65e41a632c"
      },
      "execution_count": 17,
      "outputs": [
        {
          "output_type": "stream",
          "name": "stdout",
          "text": [
            "foo\n"
          ]
        },
        {
          "output_type": "execute_result",
          "data": {
            "text/plain": [
              "<__main__.Bar at 0x7c5cd6e4a200>"
            ]
          },
          "metadata": {},
          "execution_count": 17
        }
      ]
    },
    {
      "cell_type": "markdown",
      "source": [
        "### What is the difference between *\\_\\_init\\_\\_* and *\\_\\_call\\_\\_*?\n",
        "\n",
        "See [here](https://stackoverflow.com/a/9663601/3282777)"
      ],
      "metadata": {
        "id": "QkaHPAo_Qz5c"
      }
    },
    {
      "cell_type": "code",
      "source": [
        "# 5.0\n",
        "class test:\n",
        "\n",
        "  def __init__(self,n):\n",
        "    self.a = 10\n",
        "    self.y = n\n",
        "\n",
        "  def __call__(self):\n",
        "    print(\"b = 20\")\n"
      ],
      "metadata": {
        "id": "JzocJwFGRlnW"
      },
      "execution_count": 18,
      "outputs": []
    },
    {
      "cell_type": "code",
      "source": [
        "# 5.1 First instantiate the class\n",
        "c = test(20)\n",
        "c.a\n",
        "print(\"\\n=========\\n\")\n",
        "c.y"
      ],
      "metadata": {
        "colab": {
          "base_uri": "https://localhost:8080/"
        },
        "id": "Mi4Sdug7RnOS",
        "outputId": "e084476d-75aa-4eb5-8e2a-7db967eb6710"
      },
      "execution_count": 19,
      "outputs": [
        {
          "output_type": "execute_result",
          "data": {
            "text/plain": [
              "10"
            ]
          },
          "metadata": {},
          "execution_count": 19
        },
        {
          "output_type": "stream",
          "name": "stdout",
          "text": [
            "\n",
            "=========\n",
            "\n"
          ]
        },
        {
          "output_type": "execute_result",
          "data": {
            "text/plain": [
              "20"
            ]
          },
          "metadata": {},
          "execution_count": 19
        }
      ]
    },
    {
      "cell_type": "code",
      "source": [
        "# 5.2 You can class instance as a function\n",
        "#  __call__() is invoked:\n",
        "\n",
        "n = c()"
      ],
      "metadata": {
        "colab": {
          "base_uri": "https://localhost:8080/"
        },
        "id": "1o9TFrkSRuln",
        "outputId": "ecb99dde-ff33-4043-fc10-ae68118594fd"
      },
      "execution_count": 20,
      "outputs": [
        {
          "output_type": "stream",
          "name": "stdout",
          "text": [
            "b = 20\n"
          ]
        }
      ]
    },
    {
      "cell_type": "markdown",
      "source": [
        "*\\_\\_init\\_\\_()* is used to initialise newly created object, and receives arguments used to do that:"
      ],
      "metadata": {
        "id": "XeCTxcY5SsrS"
      }
    },
    {
      "cell_type": "code",
      "source": [
        "# 5.3\n",
        "class Foo:\n",
        "    def __init__(self, a, b, c):\n",
        "        pass\n",
        "\n",
        "\n"
      ],
      "metadata": {
        "id": "j__2VGEfS32L"
      },
      "execution_count": 21,
      "outputs": []
    },
    {
      "cell_type": "code",
      "source": [
        "# 5.4\n",
        "x = Foo(1, 2, 3) # __init__"
      ],
      "metadata": {
        "id": "_glfe3IWS9c3"
      },
      "execution_count": 22,
      "outputs": []
    },
    {
      "cell_type": "markdown",
      "source": [
        "The second implements function call operator. Defining a custom \\_\\_call\\_\\_() method allows the class's instance to be called as a function, not always modifying the instance itself."
      ],
      "metadata": {
        "id": "zfs-U4PuTE_m"
      }
    },
    {
      "cell_type": "code",
      "source": [
        "# 5.5\n",
        "class Foo:\n",
        "    def __call__(self, a, b, c):\n",
        "        pass\n",
        "\n",
        "x = Foo()\n",
        "x(1, 2, 3) # __call__\n"
      ],
      "metadata": {
        "id": "3zpctjwUTHkq"
      },
      "execution_count": 23,
      "outputs": []
    },
    {
      "cell_type": "markdown",
      "source": [
        "## Matrix multiplication  \n",
        "And type checking"
      ],
      "metadata": {
        "id": "MBDSLSvuaMLN"
      }
    },
    {
      "cell_type": "markdown",
      "source": [
        "![image.png](data:image/png;base64,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)"
      ],
      "metadata": {
        "id": "W2bC26EDtsc8"
      }
    },
    {
      "cell_type": "code",
      "source": [
        "# 6.0 Define two tensors of different shape:\n",
        "\n",
        "a = tf.constant([1, 2, 3, 4, 5, 6],\n",
        "                shape=[2, 3])\n",
        "\n",
        "b = tf.constant([7, 8, 9, 10, 11, 12],\n",
        "                shape=[3, 2])\n",
        "a\n",
        "b"
      ],
      "metadata": {
        "colab": {
          "base_uri": "https://localhost:8080/"
        },
        "id": "NMUNaXsHRRxk",
        "outputId": "6e341117-0220-499f-f999-0b35bfe6b9d0"
      },
      "execution_count": 24,
      "outputs": [
        {
          "output_type": "execute_result",
          "data": {
            "text/plain": [
              "<tf.Tensor: shape=(2, 3), dtype=int32, numpy=\n",
              "array([[1, 2, 3],\n",
              "       [4, 5, 6]], dtype=int32)>"
            ]
          },
          "metadata": {},
          "execution_count": 24
        },
        {
          "output_type": "execute_result",
          "data": {
            "text/plain": [
              "<tf.Tensor: shape=(3, 2), dtype=int32, numpy=\n",
              "array([[ 7,  8],\n",
              "       [ 9, 10],\n",
              "       [11, 12]], dtype=int32)>"
            ]
          },
          "metadata": {},
          "execution_count": 24
        }
      ]
    },
    {
      "cell_type": "code",
      "source": [
        "# 6.1 Matrix multiplication:\n",
        "#     2 X 3 multiply with 3 X 2\n",
        "#     to get 2 X 2:\n",
        "\n",
        "tf.matmul(a,b)"
      ],
      "metadata": {
        "colab": {
          "base_uri": "https://localhost:8080/"
        },
        "id": "lDfekw0SRUdr",
        "outputId": "af6a3fee-a5dd-4d21-e1b3-0ae8a15e02e9"
      },
      "execution_count": 25,
      "outputs": [
        {
          "output_type": "execute_result",
          "data": {
            "text/plain": [
              "<tf.Tensor: shape=(2, 2), dtype=int32, numpy=\n",
              "array([[ 58,  64],\n",
              "       [139, 154]], dtype=int32)>"
            ]
          },
          "metadata": {},
          "execution_count": 25
        }
      ]
    },
    {
      "cell_type": "code",
      "source": [
        "# 6.2 Tensors with different data types:\n",
        "\n",
        "a = tf.constant([1, 2, 3, 4, 5, 6],\n",
        "                shape=[2, 3],\n",
        "                dtype = 'float32'\n",
        "                )\n",
        "b = tf.constant([7, 8, 9, 10, 11, 12],\n",
        "                shape=[3, 2]\n",
        "                )\n",
        "a\n",
        "b"
      ],
      "metadata": {
        "colab": {
          "base_uri": "https://localhost:8080/"
        },
        "id": "K5jenIyNSZF5",
        "outputId": "7ac0b3c8-0914-4c5d-cb73-3934df4ac143"
      },
      "execution_count": 26,
      "outputs": [
        {
          "output_type": "execute_result",
          "data": {
            "text/plain": [
              "<tf.Tensor: shape=(2, 3), dtype=float32, numpy=\n",
              "array([[1., 2., 3.],\n",
              "       [4., 5., 6.]], dtype=float32)>"
            ]
          },
          "metadata": {},
          "execution_count": 26
        },
        {
          "output_type": "execute_result",
          "data": {
            "text/plain": [
              "<tf.Tensor: shape=(3, 2), dtype=int32, numpy=\n",
              "array([[ 7,  8],\n",
              "       [ 9, 10],\n",
              "       [11, 12]], dtype=int32)>"
            ]
          },
          "metadata": {},
          "execution_count": 26
        }
      ]
    },
    {
      "cell_type": "code",
      "source": [
        "# 6.3 This multiplication fails because\n",
        "#     of strict dtype checking in tensorflow:\n",
        "\n",
        "tf.matmul(a,b)"
      ],
      "metadata": {
        "id": "3qPc0VDOY2w2",
        "colab": {
          "base_uri": "https://localhost:8080/",
          "height": 356
        },
        "outputId": "69d740a9-f3ff-49e2-ee27-346822999859"
      },
      "execution_count": 27,
      "outputs": [
        {
          "output_type": "error",
          "ename": "InvalidArgumentError",
          "evalue": "ignored",
          "traceback": [
            "\u001b[0;31m---------------------------------------------------------------------------\u001b[0m",
            "\u001b[0;31mInvalidArgumentError\u001b[0m                      Traceback (most recent call last)",
            "\u001b[0;32m<ipython-input-27-afb71fb95379>\u001b[0m in \u001b[0;36m<cell line: 4>\u001b[0;34m()\u001b[0m\n\u001b[1;32m      2\u001b[0m \u001b[0;31m#     of strict dtype checking in tensorflow:\u001b[0m\u001b[0;34m\u001b[0m\u001b[0;34m\u001b[0m\u001b[0m\n\u001b[1;32m      3\u001b[0m \u001b[0;34m\u001b[0m\u001b[0m\n\u001b[0;32m----> 4\u001b[0;31m \u001b[0mtf\u001b[0m\u001b[0;34m.\u001b[0m\u001b[0mmatmul\u001b[0m\u001b[0;34m(\u001b[0m\u001b[0ma\u001b[0m\u001b[0;34m,\u001b[0m\u001b[0mb\u001b[0m\u001b[0;34m)\u001b[0m\u001b[0;34m\u001b[0m\u001b[0;34m\u001b[0m\u001b[0m\n\u001b[0m",
            "\u001b[0;32m/usr/local/lib/python3.10/dist-packages/tensorflow/python/util/traceback_utils.py\u001b[0m in \u001b[0;36merror_handler\u001b[0;34m(*args, **kwargs)\u001b[0m\n\u001b[1;32m    151\u001b[0m     \u001b[0;32mexcept\u001b[0m \u001b[0mException\u001b[0m \u001b[0;32mas\u001b[0m \u001b[0me\u001b[0m\u001b[0;34m:\u001b[0m\u001b[0;34m\u001b[0m\u001b[0;34m\u001b[0m\u001b[0m\n\u001b[1;32m    152\u001b[0m       \u001b[0mfiltered_tb\u001b[0m \u001b[0;34m=\u001b[0m \u001b[0m_process_traceback_frames\u001b[0m\u001b[0;34m(\u001b[0m\u001b[0me\u001b[0m\u001b[0;34m.\u001b[0m\u001b[0m__traceback__\u001b[0m\u001b[0;34m)\u001b[0m\u001b[0;34m\u001b[0m\u001b[0;34m\u001b[0m\u001b[0m\n\u001b[0;32m--> 153\u001b[0;31m       \u001b[0;32mraise\u001b[0m \u001b[0me\u001b[0m\u001b[0;34m.\u001b[0m\u001b[0mwith_traceback\u001b[0m\u001b[0;34m(\u001b[0m\u001b[0mfiltered_tb\u001b[0m\u001b[0;34m)\u001b[0m \u001b[0;32mfrom\u001b[0m \u001b[0;32mNone\u001b[0m\u001b[0;34m\u001b[0m\u001b[0;34m\u001b[0m\u001b[0m\n\u001b[0m\u001b[1;32m    154\u001b[0m     \u001b[0;32mfinally\u001b[0m\u001b[0;34m:\u001b[0m\u001b[0;34m\u001b[0m\u001b[0;34m\u001b[0m\u001b[0m\n\u001b[1;32m    155\u001b[0m       \u001b[0;32mdel\u001b[0m \u001b[0mfiltered_tb\u001b[0m\u001b[0;34m\u001b[0m\u001b[0;34m\u001b[0m\u001b[0m\n",
            "\u001b[0;32m/usr/local/lib/python3.10/dist-packages/tensorflow/python/framework/ops.py\u001b[0m in \u001b[0;36mraise_from_not_ok_status\u001b[0;34m(e, name)\u001b[0m\n\u001b[1;32m   5886\u001b[0m \u001b[0;32mdef\u001b[0m \u001b[0mraise_from_not_ok_status\u001b[0m\u001b[0;34m(\u001b[0m\u001b[0me\u001b[0m\u001b[0;34m,\u001b[0m \u001b[0mname\u001b[0m\u001b[0;34m)\u001b[0m \u001b[0;34m->\u001b[0m \u001b[0mNoReturn\u001b[0m\u001b[0;34m:\u001b[0m\u001b[0;34m\u001b[0m\u001b[0;34m\u001b[0m\u001b[0m\n\u001b[1;32m   5887\u001b[0m   \u001b[0me\u001b[0m\u001b[0;34m.\u001b[0m\u001b[0mmessage\u001b[0m \u001b[0;34m+=\u001b[0m \u001b[0;34m(\u001b[0m\u001b[0;34m\" name: \"\u001b[0m \u001b[0;34m+\u001b[0m \u001b[0mstr\u001b[0m\u001b[0;34m(\u001b[0m\u001b[0mname\u001b[0m \u001b[0;32mif\u001b[0m \u001b[0mname\u001b[0m \u001b[0;32mis\u001b[0m \u001b[0;32mnot\u001b[0m \u001b[0;32mNone\u001b[0m \u001b[0;32melse\u001b[0m \u001b[0;34m\"\"\u001b[0m\u001b[0;34m)\u001b[0m\u001b[0;34m)\u001b[0m\u001b[0;34m\u001b[0m\u001b[0;34m\u001b[0m\u001b[0m\n\u001b[0;32m-> 5888\u001b[0;31m   \u001b[0;32mraise\u001b[0m \u001b[0mcore\u001b[0m\u001b[0;34m.\u001b[0m\u001b[0m_status_to_exception\u001b[0m\u001b[0;34m(\u001b[0m\u001b[0me\u001b[0m\u001b[0;34m)\u001b[0m \u001b[0;32mfrom\u001b[0m \u001b[0;32mNone\u001b[0m  \u001b[0;31m# pylint: disable=protected-access\u001b[0m\u001b[0;34m\u001b[0m\u001b[0;34m\u001b[0m\u001b[0m\n\u001b[0m\u001b[1;32m   5889\u001b[0m \u001b[0;34m\u001b[0m\u001b[0m\n\u001b[1;32m   5890\u001b[0m \u001b[0;34m\u001b[0m\u001b[0m\n",
            "\u001b[0;31mInvalidArgumentError\u001b[0m: cannot compute MatMul as input #1(zero-based) was expected to be a float tensor but is a int32 tensor [Op:MatMul] name: "
          ]
        }
      ]
    },
    {
      "cell_type": "code",
      "source": [
        "# 6.4 Cast b to float:\n",
        "b = tf.cast(b, dtype = tf.float32)"
      ],
      "metadata": {
        "id": "G7tZBRJkZdGp"
      },
      "execution_count": 28,
      "outputs": []
    },
    {
      "cell_type": "code",
      "source": [
        "# 6.5 This succeeds\n",
        "\n",
        "tf.matmul(a,b)"
      ],
      "metadata": {
        "colab": {
          "base_uri": "https://localhost:8080/"
        },
        "id": "8WA7DpK9Zios",
        "outputId": "95d40626-9a7e-48dc-a572-9462319ffb14"
      },
      "execution_count": 29,
      "outputs": [
        {
          "output_type": "execute_result",
          "data": {
            "text/plain": [
              "<tf.Tensor: shape=(2, 2), dtype=float32, numpy=\n",
              "array([[ 58.,  64.],\n",
              "       [139., 154.]], dtype=float32)>"
            ]
          },
          "metadata": {},
          "execution_count": 29
        }
      ]
    },
    {
      "cell_type": "markdown",
      "source": [
        "About weights initializer:  \n",
        "(see [here](https://stackoverflow.com/a/37350251/3282777))\n",
        "\n",
        "If weights initializer is None (the default), the default initializer passed is  glorot_uniform_initializer.  \n",
        "> The Glorot uniform initializer, also called Xavier uniform initializer. It draws samples from a uniform distribution within `[-limit, limit]`, where limit is `sqrt(6 / (fan_in + fan_out))`\n",
        "where `fan_in` is the number of input units in the weight tensor\n",
        "and `fan_out` is the number of output units in the weight tensor."
      ],
      "metadata": {
        "id": "HOlXsl3vbj3d"
      }
    },
    {
      "cell_type": "markdown",
      "source": [
        "## Custom layer\n",
        "See [here](https://www.tensorflow.org/guide/keras/making_new_layers_and_models_via_subclassing)   \n",
        "Other references [here](https://www.tensorflow.org/guide/intro_to_modules) and [here](https://www.tensorflow.org/api_docs/python/tf/keras/layers/Layer#add_weight) and [here](https://www.tensorflow.org/tutorials/customization/custom_layers)"
      ],
      "metadata": {
        "id": "2kShTG5Ec2p2"
      }
    },
    {
      "cell_type": "markdown",
      "source": [
        "One of the central abstractions in Keras is the Layer class. A layer encapsulates two things:\n",
        "\n",
        ">A state (the layer's \"weights\"), and, <br>\n",
        "\n",
        ">A transformation from inputs to outputs (a \"call\", the layer's forward pass)."
      ],
      "metadata": {
        "id": "8vqFFLymNxX0"
      }
    },
    {
      "cell_type": "markdown",
      "source": [
        "Here's a densely-connected layer. It has a state: the variables w and b."
      ],
      "metadata": {
        "id": "6tFroejBOYAp"
      }
    },
    {
      "cell_type": "code",
      "source": [
        "# 7.0 Define a layer\n",
        "# https://www.tensorflow.org/guide/keras/making_new_layers_and_models_via_subclassing\n",
        "\n",
        "class Linear(tf.keras.layers.Layer):\n",
        "    def __init__(self, units=32, input_dim=32):\n",
        "        super().__init__()\n",
        "\n",
        "        self.w = self.add_weight(\n",
        "                                  shape=(input_dim, units),\n",
        "                                  initializer=\"random_normal\",\n",
        "                                  trainable=True\n",
        "                                )\n",
        "\n",
        "        self.b = self.add_weight(\n",
        "                                 shape=(units,),\n",
        "                                 initializer=\"zeros\",\n",
        "                                 trainable=True\n",
        "                                 )\n",
        "\n",
        "    def call(self, inputs):\n",
        "        return tf.matmul(inputs, self.w) + self.b"
      ],
      "metadata": {
        "id": "HnxU8mnaOZME"
      },
      "execution_count": null,
      "outputs": []
    },
    {
      "cell_type": "markdown",
      "source": [
        "You could use this layer, as:"
      ],
      "metadata": {
        "id": "tlMbvQ7kPo9i"
      }
    },
    {
      "cell_type": "code",
      "source": [
        "# 7.1 Our input\n",
        "x = tf.ones((2, 2))\n",
        "x"
      ],
      "metadata": {
        "colab": {
          "base_uri": "https://localhost:8080/"
        },
        "id": "YLB_foVrP3Uc",
        "outputId": "5b04e8ca-02a5-4a46-8d43-7b47c9d5fa79"
      },
      "execution_count": null,
      "outputs": [
        {
          "output_type": "execute_result",
          "data": {
            "text/plain": [
              "<tf.Tensor: shape=(2, 2), dtype=float32, numpy=\n",
              "array([[1., 1.],\n",
              "       [1., 1.]], dtype=float32)>"
            ]
          },
          "metadata": {},
          "execution_count": 107
        }
      ]
    },
    {
      "cell_type": "code",
      "source": [
        "# 7.2 Instantiate the layer:\n",
        "linear_layer = Linear(4, 2)\n",
        "\n",
        "# 7.3 Use the instance as a function:\n",
        "y = linear_layer(x)  # Same as: Linear(4, 2)(x)\n",
        "print(y)\n"
      ],
      "metadata": {
        "colab": {
          "base_uri": "https://localhost:8080/"
        },
        "id": "4Tv4IOA2PyBS",
        "outputId": "bfc50a7c-a122-4a98-d844-e94365c5d9cb"
      },
      "execution_count": null,
      "outputs": [
        {
          "output_type": "stream",
          "name": "stdout",
          "text": [
            "tf.Tensor(\n",
            "[[ 0.1159199   0.02221491  0.00828999 -0.02238546]\n",
            " [ 0.1159199   0.02221491  0.00828999 -0.02238546]], shape=(2, 4), dtype=float32)\n"
          ]
        }
      ]
    },
    {
      "cell_type": "markdown",
      "source": [
        "In many cases, you may not know in advance the size of your inputs, and you would like to lazily create weights when that value becomes known, some time after instantiating the layer.\n",
        "\n",
        "In the Keras API, we recommend creating layer weights in the build(self, inputs_shape) method of your layer. Like this:"
      ],
      "metadata": {
        "id": "bHQpAmGZV4ZN"
      }
    },
    {
      "cell_type": "code",
      "source": [
        "# 8.0\n",
        "class Linear(tf.keras.layers.Layer):\n",
        "    def __init__(self, units=32):\n",
        "        super().__init__()\n",
        "        self.units = units\n",
        "\n",
        "    def build(self, input_shape):\n",
        "        self.w = self.add_weight(\n",
        "                                  shape=(input_shape[-1], self.units),\n",
        "                                  initializer=\"random_normal\",\n",
        "                                  trainable=True,\n",
        "                                )\n",
        "\n",
        "        self.b = self.add_weight(\n",
        "                                  shape=(self.units,),\n",
        "                                  initializer=\"random_normal\",\n",
        "                                  trainable=True\n",
        "                                )\n",
        "\n",
        "    def call(self, inputs):\n",
        "        return tf.matmul(inputs, self.w) + self.b"
      ],
      "metadata": {
        "id": "yb4DJhiAWBeL"
      },
      "execution_count": null,
      "outputs": []
    },
    {
      "cell_type": "markdown",
      "source": [
        "The <i>\\_\\_call\\_\\_()<i> method of your layer will automatically run `build()` the first time it is called. You now have a layer that's lazy and thus easier to use:"
      ],
      "metadata": {
        "id": "tVZ4Sn1EWd0V"
      }
    },
    {
      "cell_type": "code",
      "source": [
        "# 8.1 At instantiation, we don't know on what inputs this is going to get called\n",
        "linear_layer = Linear(32)\n",
        "\n",
        "# 8.2 The layer's weights are created dynamically the first time the layer is called\n",
        "y = linear_layer(x)    # Same as: Linear(32)(x)\n"
      ],
      "metadata": {
        "id": "pdNXcSU8XaBO"
      },
      "execution_count": null,
      "outputs": []
    },
    {
      "cell_type": "markdown",
      "source": [
        "A custom layer can be created by passing the base layer `tf.keras.layers.Layer`. This base layer has certain properties and methods but they can be expressely (if required) overridden in the subclass.\n",
        "\n",
        "\n"
      ],
      "metadata": {
        "id": "BiJVfEkMcYVd"
      }
    },
    {
      "cell_type": "markdown",
      "source": [
        "The best way to implement your own layer is extending the `tf.keras.Layer` class and implementing three methods:\n",
        "> <i>\\_\\_init\\_\\_()</i> , where you can do all <b>input-independent initialization</b>  \n",
        "\n",
        "> `build()`, where you know the shapes of the input tensors and can do the rest of the initialization  \n",
        "\n",
        ">`call()`, where you do the forward computation\n"
      ],
      "metadata": {
        "id": "5Ms6Nw9JdCaW"
      }
    },
    {
      "cell_type": "markdown",
      "source": [
        "More [explanation](https://stackoverflow.com/a/63386626/3282777):\n",
        "\n",
        "The `Layer.build()` method is typically used to instantiate the weights of the layer. See the source code for `tf.keras.layers.Dense` for an example, and note that the weight and bias tensors are created in that function. The `Layer.build()` method takes an `input_shape` argument, and the shape of the weights and biases often depend on the shape of the input.\n",
        "\n",
        "The `Layer.call()` method, on the other hand, implements the forward-pass of the layer. You do not want to overwrite <i>\\_\\_call\\_\\_</i> because that is implemented in the base class `tf.keras.layers.Layer`. In a custom layer, you should implement `call()`.\n",
        "\n",
        "`Layer.call()` does not call `Layer.build()`. However, `Layer().__call__()` does call it if the layer has not been built yet (source), and that will set an attribute `self.built = True` to prevent `Layer.build()` from being called again. In other words, `Layer.__call__()` only calls `Layer.build()` the first time it is called.\n"
      ],
      "metadata": {
        "id": "qMIIOVJMd4Je"
      }
    },
    {
      "cell_type": "code",
      "source": [
        "# 9.0\n",
        "# https://www.tensorflow.org/tutorials/customization/custom_layers\n",
        "\n",
        "class MyDenseLayer(tf.keras.layers.Layer):\n",
        "  def __init__(self, num_outputs):\n",
        "    #\n",
        "    super(MyDenseLayer, self).__init__()\n",
        "    self.num_outputs = num_outputs  # No of output neurons\n",
        "\n",
        "  # Generally used for weights initialization\n",
        "  def build(self, input_shape):\n",
        "    self.kernel = self.add_weight(name = \"kernel\",\n",
        "                                  initializer = None,    # default\n",
        "                                  shape=[int(input_shape[-1]), # Input layer\n",
        "                                         self.num_outputs])\n",
        "  # Forward pass\n",
        "  def call(self, inputs):\n",
        "    return tf.matmul(inputs, self.kernel)\n",
        "\n"
      ],
      "metadata": {
        "id": "UCyDJ9D4PRNk"
      },
      "execution_count": null,
      "outputs": []
    },
    {
      "cell_type": "code",
      "source": [
        "# 9.1 Initialize the class object:\n",
        "\n",
        "layer = MyDenseLayer(10)\n"
      ],
      "metadata": {
        "id": "N5yOk-n4R-uH"
      },
      "execution_count": null,
      "outputs": []
    },
    {
      "cell_type": "code",
      "source": [
        "# 9.2 Input matrix a\n",
        "a\n",
        "print(\"\\n===========\\n\")\n",
        "a.numpy().shape\n",
        "print(\"\\n===========\\n\")\n",
        "layer(a)\n",
        "print(\"\\n===========\\n\")\n",
        "np.round(layer.kernel.numpy(),2)\n",
        "print(\"\\n===========\\n\")\n",
        "np.round(layer.kernel.numpy(),2).shape\n",
        "print(\"\\n===========\\n\")\n",
        "layer(a).shape"
      ],
      "metadata": {
        "colab": {
          "base_uri": "https://localhost:8080/"
        },
        "id": "kIQRvt5GQDiz",
        "outputId": "48ddee32-0d6d-4971-f006-dd118001aef2"
      },
      "execution_count": null,
      "outputs": [
        {
          "output_type": "execute_result",
          "data": {
            "text/plain": [
              "<tf.Tensor: shape=(2, 3), dtype=float32, numpy=\n",
              "array([[1., 2., 3.],\n",
              "       [4., 5., 6.]], dtype=float32)>"
            ]
          },
          "metadata": {},
          "execution_count": 83
        },
        {
          "output_type": "stream",
          "name": "stdout",
          "text": [
            "\n",
            "===========\n",
            "\n"
          ]
        },
        {
          "output_type": "execute_result",
          "data": {
            "text/plain": [
              "(2, 3)"
            ]
          },
          "metadata": {},
          "execution_count": 83
        },
        {
          "output_type": "stream",
          "name": "stdout",
          "text": [
            "\n",
            "===========\n",
            "\n"
          ]
        },
        {
          "output_type": "execute_result",
          "data": {
            "text/plain": [
              "<tf.Tensor: shape=(2, 10), dtype=float32, numpy=\n",
              "array([[ 1.2649858 , -2.2285457 ,  0.18772945, -1.7334996 ,  1.3389293 ,\n",
              "        -2.1516857 , -1.2864588 , -0.41845858, -0.2842124 ,  0.10736054],\n",
              "       [ 1.8323687 , -5.6919317 , -0.2275815 , -2.7392569 ,  1.8457786 ,\n",
              "        -4.8639874 , -1.4462526 , -0.5675663 , -0.3992206 ,  0.94588125]],\n",
              "      dtype=float32)>"
            ]
          },
          "metadata": {},
          "execution_count": 83
        },
        {
          "output_type": "stream",
          "name": "stdout",
          "text": [
            "\n",
            "===========\n",
            "\n"
          ]
        },
        {
          "output_type": "execute_result",
          "data": {
            "text/plain": [
              "array([[-0.61, -0.52, -0.28,  0.4 , -0.4 , -0.32,  0.61,  0.36,  0.34,\n",
              "         0.61],\n",
              "       [ 0.52, -0.19, -0.05, -0.08, -0.03,  0.08, -0.1 , -0.45, -0.52,\n",
              "        -0.5 ],\n",
              "       [ 0.28, -0.44,  0.19, -0.66,  0.6 , -0.66, -0.57,  0.04,  0.14,\n",
              "         0.16]], dtype=float32)"
            ]
          },
          "metadata": {},
          "execution_count": 83
        },
        {
          "output_type": "stream",
          "name": "stdout",
          "text": [
            "\n",
            "===========\n",
            "\n"
          ]
        },
        {
          "output_type": "execute_result",
          "data": {
            "text/plain": [
              "(3, 10)"
            ]
          },
          "metadata": {},
          "execution_count": 83
        },
        {
          "output_type": "stream",
          "name": "stdout",
          "text": [
            "\n",
            "===========\n",
            "\n"
          ]
        },
        {
          "output_type": "execute_result",
          "data": {
            "text/plain": [
              "TensorShape([2, 10])"
            ]
          },
          "metadata": {},
          "execution_count": 83
        }
      ]
    },
    {
      "cell_type": "code",
      "source": [
        "# 9.3\n",
        "layer.kernel\n",
        "# 9.3.1\n",
        "s = layer.kernel"
      ],
      "metadata": {
        "colab": {
          "base_uri": "https://localhost:8080/"
        },
        "id": "6aA2xmzzSli6",
        "outputId": "2dcdb061-9b54-4722-ac57-d1fef426f5cd"
      },
      "execution_count": null,
      "outputs": [
        {
          "output_type": "execute_result",
          "data": {
            "text/plain": [
              "<tf.Variable 'my_dense_layer_3/kernel:0' shape=(3, 10) dtype=float32, numpy=\n",
              "array([[-0.61042124, -0.5230473 , -0.27518252,  0.40325987, -0.3993114 ,\n",
              "        -0.32045314,  0.61470735,  0.35913384,  0.34457064,  0.6137085 ],\n",
              "       [ 0.52323973, -0.18874598, -0.05267543, -0.07877743, -0.03345728,\n",
              "         0.08029026, -0.10274953, -0.44891676, -0.51993716, -0.49625695],\n",
              "       [ 0.2763092 , -0.4426688 ,  0.18942094, -0.6597349 ,  0.6017184 ,\n",
              "        -0.66393775, -0.5652224 ,  0.04008037,  0.13703042,  0.16205531]],\n",
              "      dtype=float32)>"
            ]
          },
          "metadata": {},
          "execution_count": 28
        }
      ]
    },
    {
      "cell_type": "code",
      "source": [
        "# 9.3.2\n",
        "_ = plt.hist(s.numpy(),bins = 3);"
      ],
      "metadata": {
        "colab": {
          "base_uri": "https://localhost:8080/",
          "height": 430
        },
        "id": "nZDxHYPRRg5z",
        "outputId": "2213af74-4f49-4cfe-f7fe-8b11eb89fe0c"
      },
      "execution_count": null,
      "outputs": [
        {
          "output_type": "display_data",
          "data": {
            "text/plain": [
              "<Figure size 640x480 with 1 Axes>"
            ],
            "image/png": "[encoded data removed]"
          },
          "metadata": {}
        }
      ]
    },
    {
      "cell_type": "code",
      "source": [
        "#######################"
      ],
      "metadata": {
        "id": "E3h0F86DRmZ2"
      },
      "execution_count": null,
      "outputs": []
    }
  ]
}