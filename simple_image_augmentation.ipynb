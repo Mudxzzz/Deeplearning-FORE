{
  "nbformat": 4,
  "nbformat_minor": 0,
  "metadata": {
    "colab": {
      "provenance": [],
      "include_colab_link": true
    },
    "kernelspec": {
      "name": "python3",
      "display_name": "Python 3"
    }
  },
  "cells": [
    {
      "cell_type": "markdown",
      "metadata": {
        "id": "view-in-github",
        "colab_type": "text"
      },
      "source": [
        "<a href=\"https://colab.research.google.com/github/harnalashok/deeplearning/blob/main/simple_image_augmentation.ipynb\" target=\"_parent\"><img src=\"https://colab.research.google.com/assets/colab-badge.svg\" alt=\"Open In Colab\"/></a>"
      ]
    },
    {
      "cell_type": "code",
      "metadata": {
        "id": "8jPZlZonpAlq"
      },
      "source": [
        "# Last amended: 05th Dec, 2022\n",
        "# Ref:\n",
        "#   http://cs231n.github.io/neural-networks-2/\n",
        "#\t  https://machinelearningmastery.com/image-augmentation-deep-learning-keras/\n",
        "#\n",
        "# Objective:\n",
        "#   a) How Image augmentation is performed.\n",
        "#   b) Image augmentation basics\n",
        "#\n",
        "#\n",
        "# Data augmentation 4-steps:\n",
        "#\t\t  1. First create the ImageDataGenerator object with necessary properies\n",
        "#\t    2. If required, learn the 'train' data. Needed only for some types of\n",
        "#        augmentation/processing such as zca_whitening. see Ref below:\n",
        "#        Ref: https://stackoverflow.com/questions/46705600/keras-fit-image-augmentations-to-training-data-using-flow-from-directory\n",
        "#\t    3. Create the data-generator iterator using flow() method\n",
        "#     4. Use the iterator in modeling in a for-loop\n",
        "\n"
      ],
      "execution_count": null,
      "outputs": []
    },
    {
      "cell_type": "code",
      "metadata": {
        "id": "lL4k-xYPJPf_"
      },
      "source": [
        "#0.0 Display multiple command outputsfrom a cell\n",
        "from IPython.core.interactiveshell import InteractiveShell\n",
        "InteractiveShell.ast_node_interactivity = \"all\""
      ],
      "execution_count": 1,
      "outputs": []
    },
    {
      "cell_type": "markdown",
      "source": [
        "## Call libraries"
      ],
      "metadata": {
        "id": "75aBJOef8PuQ"
      }
    },
    {
      "cell_type": "code",
      "metadata": {
        "id": "GjtPoKFWpzYC"
      },
      "source": [
        "# 1. Call libraries\n",
        "%reset -f\n",
        "\n",
        "# 1.1\n",
        "import numpy as np\n",
        "import os\n",
        "from matplotlib import pyplot as plt\n",
        "\n",
        "# 1.2 Import tensorflow libraries\n",
        "#     This will import mnist dataset\n",
        "from tensorflow.keras.datasets import mnist\n",
        "\n",
        "# 1.3 For generating images on the fly (no need to store)\n",
        "#     from given images\n",
        "from tensorflow.keras.preprocessing.image import ImageDataGenerator\n",
        "\n"
      ],
      "execution_count": 2,
      "outputs": []
    },
    {
      "cell_type": "markdown",
      "source": [
        "## Get data"
      ],
      "metadata": {
        "id": "pQaHyEhL8lv6"
      }
    },
    {
      "cell_type": "code",
      "metadata": {
        "id": "spq1PCx7p9l4"
      },
      "source": [
        "# 2. Use mnist module to fetch data from Internet & also load data\n",
        "#    Dataset is cached locally at $HOME/.keras/datasets\n",
        "#    or at C:\\Users\\ashok\\.keras\\datasets"
      ],
      "execution_count": 3,
      "outputs": []
    },
    {
      "cell_type": "code",
      "metadata": {
        "id": "yxz-rfgAqGmF"
      },
      "source": [
        "# 2.1 Download mnist dataset.\n",
        "#     Data download to C:\\Users\\ashok\\.keras\\datasets\n",
        "#     mnist.npz. 'npz' is a file format where several\n",
        "#     numpy arrays can be stored compressed or uncompressed\n",
        "#     Downloaded file is saved at: /root/.keras/datasets\n",
        "\n",
        "(x_tr, y_tr), (x_te, y_te) = mnist.load_data()"
      ],
      "execution_count": 4,
      "outputs": []
    },
    {
      "cell_type": "code",
      "metadata": {
        "colab": {
          "base_uri": "https://localhost:8080/"
        },
        "id": "2UvMivrOmu9U",
        "outputId": "59144591-c139-402a-fb3f-ea3020aa5897"
      },
      "source": [
        "# 2.1.1 Check the downloaded file\n",
        "! ls -la /root/.keras/datasets"
      ],
      "execution_count": 5,
      "outputs": [
        {
          "output_type": "stream",
          "name": "stdout",
          "text": [
            "total 11232\n",
            "drwxr-xr-x 2 root root     4096 Sep  3 03:17 .\n",
            "drwxr-xr-x 1 root root     4096 Sep  3 03:17 ..\n",
            "-rw-r--r-- 1 root root 11490434 Sep  3 03:17 mnist.npz\n"
          ]
        }
      ]
    },
    {
      "cell_type": "code",
      "metadata": {
        "id": "thjtTQV8qLI6",
        "colab": {
          "base_uri": "https://localhost:8080/"
        },
        "outputId": "984f4314-62ce-45e6-b7c0-963bde5ca825"
      },
      "source": [
        "# 2.2 How many images and image dimensions?\n",
        "#     Depth of image is important dimension.\n",
        "#     It is missing here. So depth is 1 ie only one channel.\n",
        "\n",
        "x_tr.shape                    # [60000,28,28]\n",
        "x_te.shape                    # (10000,28,28)"
      ],
      "execution_count": 6,
      "outputs": [
        {
          "output_type": "execute_result",
          "data": {
            "text/plain": [
              "(60000, 28, 28)"
            ]
          },
          "metadata": {},
          "execution_count": 6
        },
        {
          "output_type": "execute_result",
          "data": {
            "text/plain": [
              "(10000, 28, 28)"
            ]
          },
          "metadata": {},
          "execution_count": 6
        }
      ]
    },
    {
      "cell_type": "code",
      "metadata": {
        "id": "Dby5oBLAqQvg",
        "colab": {
          "base_uri": "https://localhost:8080/"
        },
        "outputId": "9a83680d-a949-46dc-b061-b6f70fe32b8a"
      },
      "source": [
        "# 2.3 Just look at first image and get its label\n",
        "\n",
        "y_tr[0]\n",
        "print(\"\\n=========\\n\")\n",
        "x_tr[0, :, :]"
      ],
      "execution_count": 7,
      "outputs": [
        {
          "output_type": "execute_result",
          "data": {
            "text/plain": [
              "5"
            ]
          },
          "metadata": {},
          "execution_count": 7
        },
        {
          "output_type": "stream",
          "name": "stdout",
          "text": [
            "\n",
            "=========\n",
            "\n"
          ]
        },
        {
          "output_type": "execute_result",
          "data": {
            "text/plain": [
              "array([[  0,   0,   0,   0,   0,   0,   0,   0,   0,   0,   0,   0,   0,\n",
              "          0,   0,   0,   0,   0,   0,   0,   0,   0,   0,   0,   0,   0,\n",
              "          0,   0],\n",
              "       [  0,   0,   0,   0,   0,   0,   0,   0,   0,   0,   0,   0,   0,\n",
              "          0,   0,   0,   0,   0,   0,   0,   0,   0,   0,   0,   0,   0,\n",
              "          0,   0],\n",
              "       [  0,   0,   0,   0,   0,   0,   0,   0,   0,   0,   0,   0,   0,\n",
              "          0,   0,   0,   0,   0,   0,   0,   0,   0,   0,   0,   0,   0,\n",
              "          0,   0],\n",
              "       [  0,   0,   0,   0,   0,   0,   0,   0,   0,   0,   0,   0,   0,\n",
              "          0,   0,   0,   0,   0,   0,   0,   0,   0,   0,   0,   0,   0,\n",
              "          0,   0],\n",
              "       [  0,   0,   0,   0,   0,   0,   0,   0,   0,   0,   0,   0,   0,\n",
              "          0,   0,   0,   0,   0,   0,   0,   0,   0,   0,   0,   0,   0,\n",
              "          0,   0],\n",
              "       [  0,   0,   0,   0,   0,   0,   0,   0,   0,   0,   0,   0,   3,\n",
              "         18,  18,  18, 126, 136, 175,  26, 166, 255, 247, 127,   0,   0,\n",
              "          0,   0],\n",
              "       [  0,   0,   0,   0,   0,   0,   0,   0,  30,  36,  94, 154, 170,\n",
              "        253, 253, 253, 253, 253, 225, 172, 253, 242, 195,  64,   0,   0,\n",
              "          0,   0],\n",
              "       [  0,   0,   0,   0,   0,   0,   0,  49, 238, 253, 253, 253, 253,\n",
              "        253, 253, 253, 253, 251,  93,  82,  82,  56,  39,   0,   0,   0,\n",
              "          0,   0],\n",
              "       [  0,   0,   0,   0,   0,   0,   0,  18, 219, 253, 253, 253, 253,\n",
              "        253, 198, 182, 247, 241,   0,   0,   0,   0,   0,   0,   0,   0,\n",
              "          0,   0],\n",
              "       [  0,   0,   0,   0,   0,   0,   0,   0,  80, 156, 107, 253, 253,\n",
              "        205,  11,   0,  43, 154,   0,   0,   0,   0,   0,   0,   0,   0,\n",
              "          0,   0],\n",
              "       [  0,   0,   0,   0,   0,   0,   0,   0,   0,  14,   1, 154, 253,\n",
              "         90,   0,   0,   0,   0,   0,   0,   0,   0,   0,   0,   0,   0,\n",
              "          0,   0],\n",
              "       [  0,   0,   0,   0,   0,   0,   0,   0,   0,   0,   0, 139, 253,\n",
              "        190,   2,   0,   0,   0,   0,   0,   0,   0,   0,   0,   0,   0,\n",
              "          0,   0],\n",
              "       [  0,   0,   0,   0,   0,   0,   0,   0,   0,   0,   0,  11, 190,\n",
              "        253,  70,   0,   0,   0,   0,   0,   0,   0,   0,   0,   0,   0,\n",
              "          0,   0],\n",
              "       [  0,   0,   0,   0,   0,   0,   0,   0,   0,   0,   0,   0,  35,\n",
              "        241, 225, 160, 108,   1,   0,   0,   0,   0,   0,   0,   0,   0,\n",
              "          0,   0],\n",
              "       [  0,   0,   0,   0,   0,   0,   0,   0,   0,   0,   0,   0,   0,\n",
              "         81, 240, 253, 253, 119,  25,   0,   0,   0,   0,   0,   0,   0,\n",
              "          0,   0],\n",
              "       [  0,   0,   0,   0,   0,   0,   0,   0,   0,   0,   0,   0,   0,\n",
              "          0,  45, 186, 253, 253, 150,  27,   0,   0,   0,   0,   0,   0,\n",
              "          0,   0],\n",
              "       [  0,   0,   0,   0,   0,   0,   0,   0,   0,   0,   0,   0,   0,\n",
              "          0,   0,  16,  93, 252, 253, 187,   0,   0,   0,   0,   0,   0,\n",
              "          0,   0],\n",
              "       [  0,   0,   0,   0,   0,   0,   0,   0,   0,   0,   0,   0,   0,\n",
              "          0,   0,   0,   0, 249, 253, 249,  64,   0,   0,   0,   0,   0,\n",
              "          0,   0],\n",
              "       [  0,   0,   0,   0,   0,   0,   0,   0,   0,   0,   0,   0,   0,\n",
              "          0,  46, 130, 183, 253, 253, 207,   2,   0,   0,   0,   0,   0,\n",
              "          0,   0],\n",
              "       [  0,   0,   0,   0,   0,   0,   0,   0,   0,   0,   0,   0,  39,\n",
              "        148, 229, 253, 253, 253, 250, 182,   0,   0,   0,   0,   0,   0,\n",
              "          0,   0],\n",
              "       [  0,   0,   0,   0,   0,   0,   0,   0,   0,   0,  24, 114, 221,\n",
              "        253, 253, 253, 253, 201,  78,   0,   0,   0,   0,   0,   0,   0,\n",
              "          0,   0],\n",
              "       [  0,   0,   0,   0,   0,   0,   0,   0,  23,  66, 213, 253, 253,\n",
              "        253, 253, 198,  81,   2,   0,   0,   0,   0,   0,   0,   0,   0,\n",
              "          0,   0],\n",
              "       [  0,   0,   0,   0,   0,   0,  18, 171, 219, 253, 253, 253, 253,\n",
              "        195,  80,   9,   0,   0,   0,   0,   0,   0,   0,   0,   0,   0,\n",
              "          0,   0],\n",
              "       [  0,   0,   0,   0,  55, 172, 226, 253, 253, 253, 253, 244, 133,\n",
              "         11,   0,   0,   0,   0,   0,   0,   0,   0,   0,   0,   0,   0,\n",
              "          0,   0],\n",
              "       [  0,   0,   0,   0, 136, 253, 253, 253, 212, 135, 132,  16,   0,\n",
              "          0,   0,   0,   0,   0,   0,   0,   0,   0,   0,   0,   0,   0,\n",
              "          0,   0],\n",
              "       [  0,   0,   0,   0,   0,   0,   0,   0,   0,   0,   0,   0,   0,\n",
              "          0,   0,   0,   0,   0,   0,   0,   0,   0,   0,   0,   0,   0,\n",
              "          0,   0],\n",
              "       [  0,   0,   0,   0,   0,   0,   0,   0,   0,   0,   0,   0,   0,\n",
              "          0,   0,   0,   0,   0,   0,   0,   0,   0,   0,   0,   0,   0,\n",
              "          0,   0],\n",
              "       [  0,   0,   0,   0,   0,   0,   0,   0,   0,   0,   0,   0,   0,\n",
              "          0,   0,   0,   0,   0,   0,   0,   0,   0,   0,   0,   0,   0,\n",
              "          0,   0]], dtype=uint8)"
            ]
          },
          "metadata": {},
          "execution_count": 7
        }
      ]
    },
    {
      "cell_type": "code",
      "metadata": {
        "id": "yuIGMHc-qUZc"
      },
      "source": [
        "# Create a grid of 3x3 images\n",
        "# AA. Plot sample digit images"
      ],
      "execution_count": 8,
      "outputs": []
    },
    {
      "cell_type": "code",
      "metadata": {
        "id": "nmgo6uPVqaf7",
        "colab": {
          "base_uri": "https://localhost:8080/",
          "height": 433
        },
        "outputId": "308565d3-3ec1-4ab4-e4b4-c353e2b15dcb"
      },
      "source": [
        "# 3. Plot nine images\n",
        "for i in range(0, 9):        # range(0,9): Starting from 0, generate 9 numbers\n",
        "                             # 0,1,..8 (9 is excluded)\n",
        "\t_=plt.subplot(3,3, i +1) \t # Plot in a grid of 3 rows, 3 columns at position (i +1)\n",
        "\t                           # For last image, i =8, 339 => 3 rows X 3 cols at index 9\n",
        "\t_=plt.imshow(x_tr[i])\n",
        ""
      ],
      "execution_count": 9,
      "outputs": [
        {
          "output_type": "display_data",
          "data": {
            "text/plain": [
              "<Figure size 640x480 with 9 Axes>"
            ],
            "image/png": "[encoded data removed]"
          },
          "metadata": {}
        }
      ]
    },
    {
      "cell_type": "markdown",
      "source": [
        "## Data preprocessing"
      ],
      "metadata": {
        "id": "-vXa9q8O8ryn"
      }
    },
    {
      "cell_type": "code",
      "metadata": {
        "id": "-AhsRgNnqvfI"
      },
      "source": [
        "######################## BB ##################################"
      ],
      "execution_count": 17,
      "outputs": []
    },
    {
      "cell_type": "code",
      "metadata": {
        "id": "8BPOdU0oq0Ux"
      },
      "source": [
        "# 4.\n",
        "## BB.Image generation and Feature Standardization\n",
        "#     It is possible to standardize pixel values across the entire dataset.\n",
        "#     One can perform feature standardization by setting the featurewise_center\n",
        "#     and featurewise_std_normalization arguments on the ImageDataGenerator class.\n",
        "#     These are in fact set to True by default and creating an instance of\n",
        "#     ImageDataGenerator with no arguments will have the same effect.\n",
        "# Standardize images across the dataset, mean=0, stdev=1\n"
      ],
      "execution_count": 18,
      "outputs": []
    },
    {
      "cell_type": "code",
      "metadata": {
        "id": "tbFSdepOq7EI",
        "colab": {
          "base_uri": "https://localhost:8080/"
        },
        "outputId": "9daa81af-1116-4ead-99f8-58df50939b8d"
      },
      "source": [
        "# 4.1 Add no_of_channels to shape (tensorflow format: WIDTH X HEIGHT X CHANNEL):\n",
        "#     Reshape to be [NoOfSamples][width][height][channel]\n",
        "\n",
        "# 4.1.1\n",
        "X_train = x_tr.reshape(60000, 28, 28,1)         # Being gray coloured, no of channels is 1\n",
        "X_test = x_te.reshape(10000,  28, 28,1)\n",
        "\n",
        "# 4.1.2 Check\n",
        "X_train.shape\n"
      ],
      "execution_count": 19,
      "outputs": [
        {
          "output_type": "execute_result",
          "data": {
            "text/plain": [
              "(60000, 28, 28, 1)"
            ]
          },
          "metadata": {},
          "execution_count": 19
        }
      ]
    },
    {
      "cell_type": "code",
      "metadata": {
        "id": "XYh1wG4iq8gI",
        "colab": {
          "base_uri": "https://localhost:8080/"
        },
        "outputId": "2eee2750-92a5-4fb4-f205-ba1cae79f3b6"
      },
      "source": [
        "# 4.2 Convert from int to float as required by Tensorflow\n",
        "X_train.dtype                        # Unsigned integer\n",
        "\n",
        "X_train = X_train.astype('float32')\n",
        "X_test = X_test.astype('float32')\n",
        "\n",
        "X_train.dtype                         # 'float32'"
      ],
      "execution_count": 20,
      "outputs": [
        {
          "output_type": "execute_result",
          "data": {
            "text/plain": [
              "dtype('uint8')"
            ]
          },
          "metadata": {},
          "execution_count": 20
        },
        {
          "output_type": "execute_result",
          "data": {
            "text/plain": [
              "dtype('float32')"
            ]
          },
          "metadata": {},
          "execution_count": 20
        }
      ]
    },
    {
      "cell_type": "code",
      "metadata": {
        "id": "8_J3KMsorAnQ"
      },
      "source": [
        "#4.3.1 For lack of memory, we will experiment\n",
        "#      on just 400 images\n",
        "\n",
        "X_train = X_train[:400,...]\n",
        "y_train = y_tr[:400,...]"
      ],
      "execution_count": 21,
      "outputs": []
    },
    {
      "cell_type": "markdown",
      "source": [
        "## Examining Image Data generator"
      ],
      "metadata": {
        "id": "b3SeUoZ39GsK"
      }
    },
    {
      "cell_type": "code",
      "metadata": {
        "id": "Ql8CzX8mrI2h"
      },
      "source": [
        "# 4.3.2\n",
        "# See http://cs231n.github.io/neural-networks-2/\n",
        "# featurewise_center\n",
        "#     Mean subtraction is the most common form of preprocessing.\n",
        "#     It involves subtracting the mean across every individual\n",
        "#     feature in the data, and has the geometric interpretation\n",
        "#     of centering the cloud of data around the origin along\n",
        "#     every dimension. In numpy, this operation would be\n",
        "#     implemented as: X -= np.mean(X, axis = 0).\n",
        "#     With images specifically, for convenience it can be common\n",
        "#     to subtract a single value from all pixels (e.g. X -= np.mean(X)),\n",
        "#     or to do so separately across the three color channels.\n",
        "# featurewise_std_normalization\n",
        "#     Normalization refers to normalizing the data dimensions\n",
        "#     so that they are of approximately the same scale. There\n",
        "#     are two common ways of achieving this normalization.\n",
        "#     One is to divide each dimension by its standard deviation,\n",
        "#     once it has been zero-centered: (X /= np.std(X, axis = 0)).\n",
        "#     Another form of this preprocessing normalizes each dimension\n",
        "#     so that the min and max along the dimension is -1 and 1 respectively.\n",
        "#     It only makes sense to apply this preprocessing if you have a reason\n",
        "#     to believe that different input features have different scales\n",
        "#     (or units), but they should be of approximately equal importance\n",
        "#     to the learning algorithm. In case of images, the relative scales\n",
        "#     of pixels are already approximately equal (and in range from 0 to 255),\n",
        "#     so it is not strictly necessary to perform this additional preprocessing step.\n"
      ],
      "execution_count": null,
      "outputs": []
    },
    {
      "cell_type": "code",
      "metadata": {
        "id": "EHMVZ2BRrK6Z",
        "colab": {
          "base_uri": "https://localhost:8080/"
        },
        "outputId": "331a20a9-8d63-40a6-ef19-7b3682bf0521"
      },
      "source": [
        "# 4.3.3 Instantiate ImageDataGenerator:\n",
        "#       Enhance image edges:\n",
        "\n",
        "datagen = ImageDataGenerator(\n",
        "                             zca_whitening=True,  # Ref: Kaggle: https://www.kaggle.com/nicw102168/exploring-zca-and-color-image-whitening\n",
        "                             zca_epsilon=0.001,   # Sharpness of edges when data get decorrelated\n",
        "\t\t\t\t\t\t\t                      # See this link to check effect of zca_epsilon on image\n",
        "\t\t\t\t\t\t\t                      # https://stats.stackexchange.com/a/117459\n",
        "                             featurewise_center=True,\n",
        "                             featurewise_std_normalization=True\n",
        "                            )"
      ],
      "execution_count": 22,
      "outputs": [
        {
          "output_type": "stream",
          "name": "stderr",
          "text": [
            "/usr/local/lib/python3.10/dist-packages/keras/preprocessing/image.py:1451: UserWarning: This ImageDataGenerator specifies `zca_whitening` which overrides setting of`featurewise_std_normalization`.\n",
            "  warnings.warn(\n"
          ]
        }
      ]
    },
    {
      "cell_type": "code",
      "metadata": {
        "id": "obgdOWYprQ8y"
      },
      "source": [
        "# 4.4 Learn statistics of actual data, train\n",
        "#     If you JUMP this step, you get a warning while plotting:\n",
        "#     This ImageDataGenerator specifies `featurewise_center`, but it\n",
        "#       hasn't been fit on any training data. Fit it\n",
        "#        first by calling `.fit(numpy_data)`.\n",
        "\n",
        "# 4.4.1 Learn data now\n",
        "datagen.fit(X_train)"
      ],
      "execution_count": 23,
      "outputs": []
    },
    {
      "cell_type": "markdown",
      "metadata": {
        "id": "I5yy24xQsUhB"
      },
      "source": [
        "flow() method:<br>\n",
        "Returns an Iterator yielding tuples of (x, y) where x is a numpy array of image data (in the case of a single image input) or a list of numpy arrays (in the case with additional inputs) and y is a numpy array of corresponding labels."
      ]
    },
    {
      "cell_type": "code",
      "metadata": {
        "id": "lt4Dy44ErUjH"
      },
      "source": [
        "# 4.5 'datagen' itself is an iterator. One can Iterate\n",
        "#     over it to get images. But this iterator needs\n",
        "#     to be configured using flow() method to decide\n",
        "#     upon batch size to output at a time.\n",
        "#     Create first the datagen.flow() iterator\n",
        "\n",
        "# 4.5.1 Get iterator object. Iterator returns both\n",
        "#       transformed data as also its label\n",
        "\n",
        "batch_gen_iterator = datagen.flow(\n",
        "                                   X_train,\n",
        "                                   y_train,\n",
        "                                   batch_size=2      # How many images to return at a time\n",
        "                                  )"
      ],
      "execution_count": 24,
      "outputs": []
    },
    {
      "cell_type": "code",
      "source": [
        "# 4.6\n",
        "for i in batch_gen_iterator:\n",
        "  xt = i[0]      # It is a tuple ((2, 28, 28, 1))\n",
        "  xt.shape\n",
        "  break\n"
      ],
      "metadata": {
        "colab": {
          "base_uri": "https://localhost:8080/"
        },
        "id": "oscadEVwdfLG",
        "outputId": "c2448b57-73f6-4642-e22e-4ead1bef75f0"
      },
      "execution_count": 27,
      "outputs": [
        {
          "output_type": "execute_result",
          "data": {
            "text/plain": [
              "(2, 28, 28, 1)"
            ]
          },
          "metadata": {},
          "execution_count": 27
        }
      ]
    },
    {
      "cell_type": "code",
      "source": [
        "# 4.7 Each time it renders a different image:\n",
        "\n",
        "for i in batch_gen_iterator:\n",
        "  xt = i[0]\n",
        "  _=plt.imshow(xt[0, :, :]) ;\n",
        "  break\n"
      ],
      "metadata": {
        "colab": {
          "base_uri": "https://localhost:8080/",
          "height": 430
        },
        "id": "BRkp-FCye5H7",
        "outputId": "763bbd8d-acbe-4e19-bea9-760a1918cd92"
      },
      "execution_count": 35,
      "outputs": [
        {
          "output_type": "display_data",
          "data": {
            "text/plain": [
              "<Figure size 640x480 with 1 Axes>"
            ],
            "image/png": "[encoded data removed]"
          },
          "metadata": {}
        }
      ]
    },
    {
      "cell_type": "code",
      "source": [
        "# 4.8 Each time it renders a different image:\n",
        "for i in batch_gen_iterator:\n",
        "  xt = i[0]\n",
        "  _=plt.imshow(xt[0, :, :], cmap=plt.cm.gray) ;\n",
        "  break\n"
      ],
      "metadata": {
        "colab": {
          "base_uri": "https://localhost:8080/",
          "height": 430
        },
        "id": "eIPBDkY_glgy",
        "outputId": "2be34f66-6211-4162-b9a0-66bbe4c54731"
      },
      "execution_count": 36,
      "outputs": [
        {
          "output_type": "display_data",
          "data": {
            "text/plain": [
              "<Figure size 640x480 with 1 Axes>"
            ],
            "image/png": "[encoded data removed]"
          },
          "metadata": {}
        }
      ]
    },
    {
      "cell_type": "code",
      "metadata": {
        "id": "ZmcmWKYlrkZY",
        "colab": {
          "base_uri": "https://localhost:8080/",
          "height": 283
        },
        "outputId": "b26f9cd6-6ebe-4277-9c7a-4ab04c95a0a0"
      },
      "source": [
        "# 4.5.3 Same as above again\n",
        "x,y = next(img_batch)\n",
        "x = x[0].reshape(28,28)   # Get one image\n",
        "plt.imshow(x, cmap=plt.get_cmap('gray'))"
      ],
      "execution_count": null,
      "outputs": [
        {
          "output_type": "execute_result",
          "data": {
            "text/plain": [
              "<matplotlib.image.AxesImage at 0x7f496004a7c0>"
            ]
          },
          "metadata": {},
          "execution_count": 47
        },
        {
          "output_type": "display_data",
          "data": {
            "text/plain": [
              "<Figure size 432x288 with 1 Axes>"
            ],
            "image/png": "[encoded data removed]"
          },
          "metadata": {
            "needs_background": "light"
          }
        }
      ]
    },
    {
      "cell_type": "markdown",
      "source": [
        "## Plot images:"
      ],
      "metadata": {
        "id": "n3fCZwRK9no5"
      }
    },
    {
      "cell_type": "code",
      "metadata": {
        "id": "Jyh6eiFVrlPJ"
      },
      "source": [
        "# 4.6 Configure batch size and retrieve one batch of images\n",
        "def plot_images():\n",
        "\tbatch_gen_iterator= datagen.flow(X_train, y_train, batch_size=9)\n",
        "\tfor X_batch, y_batch in batch_gen_iterator:\n",
        "\t\t# create a grid of 3x3 images\n",
        "\t\tfor i in range(0, 9):\n",
        "\t\t\tplt.subplot(330 + 1 + i)\n",
        "\t\t\timg = X_batch[i].reshape(28, 28)\n",
        "\t\t\tplt.imshow(img, cmap=plt.cm.gray)\n",
        "\t\t# show the plot\n",
        "\t\tplt.show()\n",
        "\t\tbreak"
      ],
      "execution_count": 39,
      "outputs": []
    },
    {
      "cell_type": "code",
      "metadata": {
        "id": "wJoWjCxXroEJ",
        "colab": {
          "base_uri": "https://localhost:8080/",
          "height": 849
        },
        "outputId": "422f8f96-75f5-404b-a543-92479e3aeb76"
      },
      "source": [
        "# 4.7 Iterate over data-generator to get images in batches\n",
        "#     embossing is clearer in these images\n",
        "#     'Emboss means image stands out in relief'\n",
        "plot_images()       # Plot a batch of nine images\n",
        "plot_images()       # Plot another batch of nine images\n",
        "\n"
      ],
      "execution_count": 40,
      "outputs": [
        {
          "output_type": "display_data",
          "data": {
            "text/plain": [
              "<Figure size 640x480 with 9 Axes>"
            ],
            "image/png": "[encoded data removed]"
          },
          "metadata": {}
        },
        {
          "output_type": "display_data",
          "data": {
            "text/plain": [
              "<Figure size 640x480 with 9 Axes>"
            ],
            "image/png": "[encoded data removed]"
          },
          "metadata": {}
        }
      ]
    },
    {
      "cell_type": "code",
      "source": [
        "# 4.8 Running above example one can see that the effect is different,\n",
        "#     seemingly somewhat darkening and lightening different digits."
      ],
      "metadata": {
        "id": "x2UnhzxVaaDc"
      },
      "execution_count": null,
      "outputs": []
    },
    {
      "cell_type": "markdown",
      "source": [
        "## Rerieve data again"
      ],
      "metadata": {
        "id": "XpL1M0Bk9ujK"
      }
    },
    {
      "cell_type": "code",
      "metadata": {
        "id": "sQ_OxUgsryhI",
        "colab": {
          "base_uri": "https://localhost:8080/"
        },
        "outputId": "b038776d-0c84-40c2-fc14-e28272536ccb"
      },
      "source": [
        "# 5.1 Let us retrieve/reshape again X_train, y_train\n",
        "#     from original data\n",
        "x_tr.shape\n",
        "X_train = x_tr.reshape(60000, 28, 28,1)\n",
        "X_test = x_te.reshape(10000,  28, 28,1)\n",
        "X_train = X_train.astype('float32')\n",
        "X_test = X_test.astype('float32')\n",
        "X_train = X_train[:400,...]\n",
        "y_train = y_tr[:400,...]"
      ],
      "execution_count": 41,
      "outputs": [
        {
          "output_type": "execute_result",
          "data": {
            "text/plain": [
              "(60000, 28, 28)"
            ]
          },
          "metadata": {},
          "execution_count": 41
        }
      ]
    },
    {
      "cell_type": "code",
      "metadata": {
        "id": "HkeFMiQWr3Z_",
        "colab": {
          "base_uri": "https://localhost:8080/"
        },
        "outputId": "75b44111-effe-4807-e527-fcbbf7b4af36"
      },
      "source": [
        "# 5.2 Reshaped to be [NoOfSamples][width][height][channel]\n",
        "X_train.shape\n",
        "X_test.shape"
      ],
      "execution_count": 42,
      "outputs": [
        {
          "output_type": "execute_result",
          "data": {
            "text/plain": [
              "(400, 28, 28, 1)"
            ]
          },
          "metadata": {},
          "execution_count": 42
        },
        {
          "output_type": "execute_result",
          "data": {
            "text/plain": [
              "(10000, 28, 28, 1)"
            ]
          },
          "metadata": {},
          "execution_count": 42
        }
      ]
    },
    {
      "cell_type": "markdown",
      "source": [
        "## Image Data Generator--Rotation"
      ],
      "metadata": {
        "id": "vsTSM5mOaTCD"
      }
    },
    {
      "cell_type": "code",
      "source": [
        "######################## CC ##################################\n",
        "#### Rotation of images"
      ],
      "metadata": {
        "id": "BKhT8zgOaWp7"
      },
      "execution_count": null,
      "outputs": []
    },
    {
      "cell_type": "code",
      "metadata": {
        "id": "wtsroQkMr62c"
      },
      "source": [
        "# 6\n",
        "## DD. Random Rotations\n",
        "# Sometimes images in sample data may have varying and different rotations in the scene.\n",
        "#  One can train one's model to better handle rotations of images by artificially and randomly\n",
        "#   rotating images from dataset during training.\n",
        "\n",
        "# 6.1 Define data preparation\n",
        "datagen = ImageDataGenerator(\n",
        "                            rotation_range=90\n",
        "                            )\n",
        "\n",
        "# 6.2 Fit parameters on our small data only (400 images)\n",
        "datagen.fit(X_train)"
      ],
      "execution_count": 43,
      "outputs": []
    },
    {
      "cell_type": "code",
      "metadata": {
        "id": "ZHHz1RFxr7i_",
        "colab": {
          "base_uri": "https://localhost:8080/",
          "height": 433
        },
        "outputId": "339f2091-2f62-47ef-ee15-6eaecefec723"
      },
      "source": [
        "# 6.4\n",
        "plot_images()"
      ],
      "execution_count": 44,
      "outputs": [
        {
          "output_type": "display_data",
          "data": {
            "text/plain": [
              "<Figure size 640x480 with 9 Axes>"
            ],
            "image/png": "[encoded data removed]"
          },
          "metadata": {}
        }
      ]
    },
    {
      "cell_type": "markdown",
      "source": [
        "## Image Data Generator--Random shifts"
      ],
      "metadata": {
        "id": "TZDCMZz99yvw"
      }
    },
    {
      "cell_type": "code",
      "metadata": {
        "id": "U6RSa05xr9-c"
      },
      "source": [
        "# 7\n",
        "## E. Random Shifts\n",
        "#     Objects in images may not be centered in the frame. They may be off-center\n",
        "#     in a variety of different ways. One can train deep learning network to expect\n",
        "#     and currently handle off-center objects by artificially creating shifted versions\n",
        "#     of training data. Keras supports separate horizontal and vertical random shifting\n",
        "#     of training data by the width_shift_range and height_shift_range arguments.\n"
      ],
      "execution_count": null,
      "outputs": []
    },
    {
      "cell_type": "code",
      "metadata": {
        "id": "F9XJW5TBsBUs"
      },
      "source": [
        "# 7.1 Define shift values, horizontal and vertical\n",
        "shift1 = 0.2\n",
        "shift2 = 0.3\n",
        "datagen = ImageDataGenerator(\n",
        "                             width_shift_range=shift1,     # Horizontal shift\n",
        "                             height_shift_range=shift2     # Vertical shift\n",
        "                             )\n",
        "# 7.2 Learn data\n",
        "datagen.fit(X_train)"
      ],
      "execution_count": 45,
      "outputs": []
    },
    {
      "cell_type": "code",
      "metadata": {
        "id": "yK-_gRhusE5I",
        "colab": {
          "base_uri": "https://localhost:8080/",
          "height": 433
        },
        "outputId": "0ffc27c5-6cca-4621-d69f-9da400b704f7"
      },
      "source": [
        "# 7.3 Configure batch size and retrieve one batch of images\n",
        "plot_images()"
      ],
      "execution_count": 46,
      "outputs": [
        {
          "output_type": "display_data",
          "data": {
            "text/plain": [
              "<Figure size 640x480 with 9 Axes>"
            ],
            "image/png": "[encoded data removed]"
          },
          "metadata": {}
        }
      ]
    },
    {
      "cell_type": "markdown",
      "source": [
        "## Image Data Generator--Random flips"
      ],
      "metadata": {
        "id": "woEyR4_Y924J"
      }
    },
    {
      "cell_type": "code",
      "metadata": {
        "id": "Eicyv1JzsKay"
      },
      "source": [
        "# 8\n",
        "## F. Random Flips\n",
        "#       Another augmentation to image data that can improve performance on\n",
        "#       large and complex problems is to create random flips of images in\n",
        "#       training data.  Keras supports random flipping along both the vertical\n",
        "#       and horizontal axes using the vertical_flip and horizontal_flip arguments.\n",
        "\n",
        "# 8.1 Define data preparation\n",
        "datagen = ImageDataGenerator(\n",
        "                             horizontal_flip=True,\n",
        "                             vertical_flip=True,\n",
        "                            )\n",
        "\n",
        "# 8.2 Learn data\n",
        "datagen.fit(X_train)"
      ],
      "execution_count": 47,
      "outputs": []
    },
    {
      "cell_type": "code",
      "metadata": {
        "id": "g7el-vxzsLEq",
        "colab": {
          "base_uri": "https://localhost:8080/",
          "height": 433
        },
        "outputId": "fd2d0449-e170-4c90-e4d8-a1ab6d4cee29"
      },
      "source": [
        "# 8.3 Configure batch size and retrieve one batch of images\n",
        "plot_images()"
      ],
      "execution_count": 48,
      "outputs": [
        {
          "output_type": "display_data",
          "data": {
            "text/plain": [
              "<Figure size 640x480 with 9 Axes>"
            ],
            "image/png": "[encoded data removed]"
          },
          "metadata": {}
        }
      ]
    },
    {
      "cell_type": "markdown",
      "source": [
        "## Image Data Generaor--All in one"
      ],
      "metadata": {
        "id": "bM-tPmsk9_a0"
      }
    },
    {
      "cell_type": "code",
      "metadata": {
        "id": "zIzJneVesN9x"
      },
      "source": [
        "# 9\n",
        "## G. Mixed. All in one.\n",
        "#       Another augmentation to image data that can improve performance on\n",
        "#       large and complex problems is to create random flips of images in\n",
        "#       training data.  Keras supports random flipping along both the vertical\n",
        "#       and horizontal axes using the vertical_flip and horizontal_flip arguments.\n",
        "\n",
        "shift1 = 0.2\n",
        "shift2 = 0.3\n",
        "# 9.1 Define data preparation. All are applied in some measure\n",
        "datagen = ImageDataGenerator(\n",
        "                             horizontal_flip=True,\n",
        "                             vertical_flip=True,\n",
        "                             width_shift_range=shift1,     # Horizontal shift\n",
        "                             height_shift_range=shift2,     # Vertical shift\n",
        "                             rotation_range=90,\n",
        "                             zoom_range = 2.0,\n",
        "                             shear_range = 30             # Shear angle in counter-clockwise direction in degrees\n",
        "                            )\n",
        "# 9.2 Learn data\n",
        "datagen.fit(X_train)"
      ],
      "execution_count": 49,
      "outputs": []
    },
    {
      "cell_type": "code",
      "metadata": {
        "id": "kJTrraowsRJs",
        "colab": {
          "base_uri": "https://localhost:8080/",
          "height": 849
        },
        "outputId": "d31501e9-f7b4-4344-dd66-12eaadcd8a43"
      },
      "source": [
        "# 9.3 Configure batch size and retrieve one batch of images\n",
        "plot_images()\n",
        "plot_images()"
      ],
      "execution_count": 50,
      "outputs": [
        {
          "output_type": "display_data",
          "data": {
            "text/plain": [
              "<Figure size 640x480 with 9 Axes>"
            ],
            "image/png": "[encoded data removed]"
          },
          "metadata": {}
        },
        {
          "output_type": "display_data",
          "data": {
            "text/plain": [
              "<Figure size 640x480 with 9 Axes>"
            ],
            "image/png": "[encoded data removed]"
          },
          "metadata": {}
        }
      ]
    },
    {
      "cell_type": "code",
      "metadata": {
        "id": "_J8nQtxjsZcQ"
      },
      "source": [
        "############ I am done"
      ],
      "execution_count": null,
      "outputs": []
    },
    {
      "cell_type": "markdown",
      "source": [
        "## Misc"
      ],
      "metadata": {
        "id": "lNquj0dG-D1p"
      }
    },
    {
      "cell_type": "code",
      "metadata": {
        "id": "GnKlorOjscHZ"
      },
      "source": [
        "###################### DD. #############################################\n",
        "\n",
        "# 9\n",
        "## F. Saving Augmented Images to File\n",
        "#      The data preparation and augmentation is performed just in time by Keras.\n",
        "#      This is efficient in terms of memory, but one may require the exact images\n",
        "#      used during training. For example, perhaps one would like to use them with\n",
        "#      a different software package later or only generate them once and use them\n",
        "#      on multiple different deep learning models or configurations.\n",
        "#      Keras allows you to save the images generated during training. The directory,\n",
        "#      filename prefix and image file type can be specified to the flow() function\n",
        "#      before training.\n",
        "\n",
        "# 9.1 Define data preparation. All default parameter values\n",
        "datagen = ImageDataGenerator()\n",
        "\n",
        "# 9.2 Learn data statistics\n",
        "datagen.fit(X_train)\n",
        "\n",
        "# 9.3 Configure batch size and retrieve one batch of images\n",
        "#dir = \"/home/ashok/useless\"\n",
        "dir = \"C:\\\\Users\\\\ashok\\\\useless\"\n",
        "\n",
        "# 9.4 Make directory\n",
        "#os.system('rm -rf  /home/ashok/useless')\n",
        "os.mkdir(\"C:\\\\Users\\\\ashok\\\\useless\")\n",
        "\n",
        "\n",
        "# 9.5 Generator iterator.\n",
        "#     Generate images on-the-fy\n",
        "data_iterator = datagen.flow(X_train,\n",
        "                             y_train,\n",
        "                             batch_size=9,\n",
        "                             save_to_dir=dir,\n",
        "                             save_prefix='aug',\n",
        "                             save_format='png'\n",
        "                             )\n",
        "\n",
        "# 9.6 Generate and save\n",
        "for X_batch, y_batch in data_iterator:\n",
        "\t# create a grid of 3x3 images\n",
        "\tfor i in range(0, 9):\n",
        "\t\tplt.subplot(330 + 1 + i)\n",
        "\t\tplt.imshow(X_batch[i].reshape(28, 28), cmap=plt.get_cmap('gray'))\n",
        "\t# show the plot\n",
        "\tplt.show()\n",
        "    break\n",
        "\n",
        "########################\n"
      ],
      "execution_count": null,
      "outputs": []
    },
    {
      "cell_type": "code",
      "metadata": {
        "id": "QK93XfJhsc00"
      },
      "source": [
        "# Supplementary Exercises:\n",
        "# 1.\n",
        "import numpy as np\n",
        "x = np.linspace(-np.pi, +np.pi, 100)\n",
        "for i in range(0,9):\n",
        "\tplt.subplot(520+i+1)\n",
        "\tplt.plot(x+i*10, np.sin(x+i*10))\n",
        "\n",
        "plt.show()\n",
        "\n",
        "\n",
        "\n",
        "# 2.0\n",
        "x = np.random.randint(low = 0, high = 1000, size = (4,5))\n",
        "x\n",
        "x.shape\n",
        "y = x.reshape((4,5,1))\n",
        "y.shape\n",
        "y\n",
        "# 2.1\n",
        "y.dtype\n",
        "y = y.astype('float64')\n",
        "y.shape\n"
      ],
      "execution_count": null,
      "outputs": []
    },
    {
      "cell_type": "code",
      "metadata": {
        "id": "HA9AnrDbsgVh"
      },
      "source": [
        "\n",
        "######################## About ZCA whitening ###########################\n",
        "\n",
        "##    ZCA Whitening (\"Mahalanobis transformation\")\n",
        "#     What is whitening? See: 1. http://cs231n.github.io/neural-networks-2/\n",
        "#                             2. https://en.wikipedia.org/wiki/Whitening_transformation\n",
        "#     Whitening is something like PCA\n",
        "#     A whitening transformation is a linear transformation (as PCA is) that transforms\n",
        "#     a dataset with a known covariance matrix into a set of new variables whose\n",
        "#     covariance is the identity matrix, meaning that they are uncorrelated and each\n",
        "#     have variance 1.\n",
        "#     The transformation is called \"whitening\" because it changes the input vector\n",
        "#     into a white noise vector.\n",
        "#     Less redundancy in the image is intended to better highlight the structures\n",
        "#     and features in the image to the learning algorithm. See some images at this link:\n",
        "#     https://stats.stackexchange.com/a/117459\n",
        "\n",
        "## Impt Note: Before experimenting EXIT IPYTHON. Execute AA; Jump BB and then come to CC.\n",
        "#########################################################################\n"
      ],
      "execution_count": null,
      "outputs": []
    },
    {
      "cell_type": "code",
      "metadata": {
        "id": "G-1eVpMIsi9V"
      },
      "source": [
        "\n",
        "\"\"\"\n",
        "Using ImageDataGenerator without fitting\n",
        "========================================\n",
        "\n",
        "Ref: https://stackoverflow.com/questions/46705600/keras-fit-image-augmentations-to-training-data-using-flow-from-directory\n",
        "     https://github.com/keras-team/keras/issues/68\n",
        "\n",
        "Just try to use the following object with zca_whitening:\n",
        "\n",
        "train_datagen = ImageDataGenerator(\n",
        "                                    rescale=1. / 255,    # Normalize colour intensities in 0-1 range\n",
        "                                    shear_range=0.2,     # Shear varies from 0-0.2\n",
        "                                    zoom_range=0.2,\n",
        "                                    horizontal_flip=True,\n",
        "                                    preprocessing_function=preprocess,\n",
        "                                    featurewise_center=True,\n",
        "                                    zca_whitening=True\n",
        "                                  )\n",
        "\n",
        "When you do so set epochs to 1 in model.fit_generator.\n",
        "The fitting process starts with a warning:\n",
        "\n",
        "`zca_whitening`, but it hasn't been fit on any training data. Fit it first by calling `.fit(numpy_data)\n",
        "\n",
        "As data is huge, fit can be called on a sample, as:\n",
        "train_datagen .fit(X_sample)  # where X_sample is a small but random sample of your data\n",
        "\n",
        "zca is a technique to remove 'common information'\n",
        "between pixels. Consider this: We have a rectangle\n",
        "which is filled with white colour inside and outside\n",
        "colour is totally black. That is we have a black\n",
        "rectangle on which is superimposed white rectangle.\n",
        "If common information is removed, result will be\n",
        "just a 'white-boundary' of inner rectangle and\n",
        "both outside and inside of it completely black. We\n",
        "have, therefore, a sort of embossed picture.\n",
        "\n",
        "\"\"\""
      ],
      "execution_count": null,
      "outputs": []
    },
    {
      "cell_type": "code",
      "metadata": {
        "id": "GvELAhLK0osw"
      },
      "source": [
        "## My rough work"
      ],
      "execution_count": null,
      "outputs": []
    },
    {
      "cell_type": "code",
      "metadata": {
        "id": "-fU25Hna0tS2"
      },
      "source": [
        "import tensorflow as tf\n",
        "from tensorflow import keras\n",
        "from tensorflow.keras.datasets import mnist\n"
      ],
      "execution_count": null,
      "outputs": []
    },
    {
      "cell_type": "code",
      "metadata": {
        "id": "iXMZFkNDHkt_"
      },
      "source": [
        "from keras.preprocessing.image import ImageDataGenerator\n",
        "import matplotlib.pyplot as plt"
      ],
      "execution_count": null,
      "outputs": []
    },
    {
      "cell_type": "code",
      "metadata": {
        "id": "XU0uNWqGHvPx"
      },
      "source": [
        "(x_train, y_train), (x_test,y_test) = mnist.load_data()"
      ],
      "execution_count": null,
      "outputs": []
    },
    {
      "cell_type": "code",
      "metadata": {
        "colab": {
          "base_uri": "https://localhost:8080/"
        },
        "id": "tkRzKp16IJQy",
        "outputId": "0f7f874f-c1ca-4ecb-82f2-b6205701d814"
      },
      "source": [
        "x_train.shape  # (60000, 28, 28)\n",
        "x_test.shape"
      ],
      "execution_count": null,
      "outputs": [
        {
          "output_type": "execute_result",
          "data": {
            "text/plain": [
              "(60000, 28, 28)"
            ]
          },
          "metadata": {
            "tags": []
          },
          "execution_count": 43
        },
        {
          "output_type": "execute_result",
          "data": {
            "text/plain": [
              "(10000, 28, 28)"
            ]
          },
          "metadata": {
            "tags": []
          },
          "execution_count": 43
        }
      ]
    },
    {
      "cell_type": "code",
      "metadata": {
        "colab": {
          "base_uri": "https://localhost:8080/",
          "height": 283
        },
        "id": "z2-55OiqJXFh",
        "outputId": "589e2006-d084-476f-ddc6-153e0cfb8931"
      },
      "source": [
        "fig = plt.figure()\n",
        "plt.imshow(x_train[1])\n",
        "x_train[1].shape"
      ],
      "execution_count": null,
      "outputs": [
        {
          "output_type": "execute_result",
          "data": {
            "text/plain": [
              "<matplotlib.image.AxesImage at 0x7f54fb26cb00>"
            ]
          },
          "metadata": {
            "tags": []
          },
          "execution_count": 44
        },
        {
          "output_type": "execute_result",
          "data": {
            "text/plain": [
              "(28, 28)"
            ]
          },
          "metadata": {
            "tags": []
          },
          "execution_count": 44
        },
        {
          "output_type": "display_data",
          "data": {
            "image/png": "[encoded data removed]",
            "text/plain": [
              "<Figure size 432x288 with 1 Axes>"
            ]
          },
          "metadata": {
            "tags": [],
            "needs_background": "light"
          }
        }
      ]
    },
    {
      "cell_type": "code",
      "metadata": {
        "id": "Dx-zRiRRKwMy"
      },
      "source": [
        "shift1 = 0.2\n",
        "shift2 = 0.3\n",
        "datagen = ImageDataGenerator(horizontal_flip=True,\n",
        "                             vertical_flip=True,\n",
        "                             width_shift_range=shift1,     # Horizontal shift\n",
        "                             height_shift_range=shift2,     # Vertical shift\n",
        "                             rotation_range=90,\n",
        "                             zoom_range = 2.0,\n",
        "                             shear_range = 30   )"
      ],
      "execution_count": null,
      "outputs": []
    },
    {
      "cell_type": "code",
      "metadata": {
        "colab": {
          "base_uri": "https://localhost:8080/"
        },
        "id": "ycIOn1aPMx94",
        "outputId": "532a1c1f-d571-4a9a-cfa9-6176c83add5b"
      },
      "source": [
        "x_train = x_train.reshape(-1, 28,28,1)\n",
        "x_train.shape"
      ],
      "execution_count": null,
      "outputs": [
        {
          "output_type": "execute_result",
          "data": {
            "text/plain": [
              "(60000, 28, 28, 1)"
            ]
          },
          "metadata": {
            "tags": []
          },
          "execution_count": 81
        }
      ]
    },
    {
      "cell_type": "code",
      "metadata": {
        "id": "EhHoQfbbMomp"
      },
      "source": [
        "dx = datagen.fit(x_train)"
      ],
      "execution_count": null,
      "outputs": []
    },
    {
      "cell_type": "code",
      "metadata": {
        "colab": {
          "base_uri": "https://localhost:8080/"
        },
        "id": "oLUEljPyND-i",
        "outputId": "2611b14d-275a-41fd-8938-0fc35a88ddc4"
      },
      "source": [
        "type(dx)"
      ],
      "execution_count": null,
      "outputs": [
        {
          "output_type": "execute_result",
          "data": {
            "text/plain": [
              "NoneType"
            ]
          },
          "metadata": {
            "tags": []
          },
          "execution_count": 83
        }
      ]
    },
    {
      "cell_type": "code",
      "metadata": {
        "id": "yBJJN4dQM6HF"
      },
      "source": [
        "abc = datagen.flow(x_train,y_train, batch_size = 32)"
      ],
      "execution_count": null,
      "outputs": []
    },
    {
      "cell_type": "code",
      "metadata": {
        "id": "7Do-yNuWNkdQ"
      },
      "source": [
        "batch = next(abc)"
      ],
      "execution_count": null,
      "outputs": []
    },
    {
      "cell_type": "code",
      "metadata": {
        "colab": {
          "base_uri": "https://localhost:8080/"
        },
        "id": "IqwzfmK2NqV1",
        "outputId": "968462c1-4a42-4331-9d67-68cf9249ec8e"
      },
      "source": [
        "len(batch)   # 2"
      ],
      "execution_count": null,
      "outputs": [
        {
          "output_type": "execute_result",
          "data": {
            "text/plain": [
              "2"
            ]
          },
          "metadata": {
            "tags": []
          },
          "execution_count": 86
        }
      ]
    },
    {
      "cell_type": "code",
      "metadata": {
        "colab": {
          "base_uri": "https://localhost:8080/"
        },
        "id": "0tBl6j3CNy_b",
        "outputId": "f6d123c4-36f2-4f3a-8f13-3f9f565ff902"
      },
      "source": [
        "batch[0].shape"
      ],
      "execution_count": null,
      "outputs": [
        {
          "output_type": "execute_result",
          "data": {
            "text/plain": [
              "(32, 28, 28, 1)"
            ]
          },
          "metadata": {
            "tags": []
          },
          "execution_count": 87
        }
      ]
    },
    {
      "cell_type": "code",
      "metadata": {
        "id": "bkkD5rUoN3Br"
      },
      "source": [
        "for X_batch, y_batch in abc:\n",
        "\t# create a grid of 3x3 images\n",
        "\tfor i in range(0, 9):\n",
        "\t\tplt.subplot(330 + 1 + i)\n",
        "\t\tplt.imshow(X_batch[i].reshape(28, 28), cmap=plt.get_cmap('gray'))\n",
        "    # show the plot\n",
        "    plt.show()\n",
        "    break"
      ],
      "execution_count": null,
      "outputs": []
    },
    {
      "cell_type": "code",
      "metadata": {
        "id": "eCrfsM10I_PH"
      },
      "source": [
        "help(ImageDataGenerator)"
      ],
      "execution_count": null,
      "outputs": []
    },
    {
      "cell_type": "code",
      "metadata": {
        "id": "8CqwHu8-JV4B"
      },
      "source": [
        "########## Done ############"
      ],
      "execution_count": null,
      "outputs": []
    }
  ]
}