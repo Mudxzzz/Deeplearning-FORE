{
  "nbformat": 4,
  "nbformat_minor": 0,
  "metadata": {
    "colab": {
      "name": "keras_functional.ipynb",
      "provenance": [],
      "collapsed_sections": [
        "QBKy2GzK76sc",
        "dYuF2BagAAYt"
      ],
      "include_colab_link": true
    },
    "kernelspec": {
      "name": "python3",
      "display_name": "Python 3"
    }
  },
  "cells": [
    {
      "cell_type": "markdown",
      "metadata": {
        "id": "view-in-github",
        "colab_type": "text"
      },
      "source": [
        "<a href=\"https://colab.research.google.com/github/harnalashok/deeplearning/blob/main/keras_functional_revised.ipynb\" target=\"_parent\"><img src=\"https://colab.research.google.com/assets/colab-badge.svg\" alt=\"Open In Colab\"/></a>"
      ]
    },
    {
      "cell_type": "markdown",
      "metadata": {
        "id": "qhHxdIbdcR6p"
      },
      "source": [
        "<table align=\"left\">\n",
        "  <td>\n",
        "    <a target=\"_blank\" href=\"https://colab.research.google.com/github/harnalashok/deeplearning/blob/main/keras_functional.ipynb\"><img src=\"https://www.tensorflow.org/images/colab_logo_32px.png\" />Run in Google Colab</a>\n",
        "  </td>\n",
        "</table>"
      ]
    },
    {
      "cell_type": "code",
      "metadata": {
        "id": "VzHM-gho6Z4X"
      },
      "source": [
        "# Last amended: 24th Oct, 2021\n",
        "# Ref: Hands-On Machine Learningwith Scikit-Learn, Keras, and TensorFlow by Aurelien Geron\n",
        "#      Page: 308-312\n",
        "#\n",
        "#####################################\n",
        "# Using keras functional API \n",
        "# Engineering with NN architecture\n",
        "#####################################"
      ],
      "execution_count": null,
      "outputs": []
    },
    {
      "cell_type": "code",
      "metadata": {
        "id": "AYl2nTZg7MRe"
      },
      "source": [
        "# 1.0 Import libraries\n",
        "import pandas as pd\n",
        "from sklearn.datasets import fetch_california_housing\n",
        "from sklearn.model_selection import train_test_split\n",
        "from sklearn.preprocessing import StandardScaler\n",
        "\n",
        "# 1.1 Import tensorflow/keras \n",
        "import tensorflow as tf\n",
        "from tensorflow.keras import layers \n",
        "from tensorflow.keras.models import Model\n",
        "from tensorflow.keras.utils import plot_model"
      ],
      "execution_count": 41,
      "outputs": []
    },
    {
      "cell_type": "code",
      "metadata": {
        "id": "RtYhfSLVGVC_"
      },
      "source": [
        "# 1.2 Display multiple outputs from a Cell\n",
        "from IPython.core.interactiveshell import InteractiveShell\n",
        "InteractiveShell.ast_node_interactivity = \"all\"\n"
      ],
      "execution_count": 42,
      "outputs": []
    },
    {
      "cell_type": "code",
      "metadata": {
        "colab": {
          "base_uri": "https://localhost:8080/"
        },
        "id": "xhrLTL9vZuF4",
        "outputId": "4fc977be-bc56-442c-b309-32e18045db41"
      },
      "source": [
        "# 1.3 Mount google drive as /gdrive\n",
        "#     directly under root:\n",
        "\n",
        "from google.colab import drive\n",
        "drive.mount('/gdrive')"
      ],
      "execution_count": 43,
      "outputs": [
        {
          "output_type": "stream",
          "name": "stdout",
          "text": [
            "Drive already mounted at /gdrive; to attempt to forcibly remount, call drive.mount(\"/gdrive\", force_remount=True).\n"
          ]
        }
      ]
    },
    {
      "cell_type": "code",
      "metadata": {
        "colab": {
          "base_uri": "https://localhost:8080/"
        },
        "id": "XzwqXlRY6uH7",
        "outputId": "f73148b8-cd77-48f1-8fba-f1b8b70bf129"
      },
      "source": [
        "# 2.0 Get Data\n",
        "#     The data needs little processing\n",
        "housing = fetch_california_housing(return_X_y= False)\n",
        "type(housing)   # sklearn.utils.Bunch"
      ],
      "execution_count": 79,
      "outputs": [
        {
          "output_type": "execute_result",
          "data": {
            "text/plain": [
              "sklearn.utils.Bunch"
            ]
          },
          "metadata": {},
          "execution_count": 79
        }
      ]
    },
    {
      "cell_type": "code",
      "metadata": {
        "id": "3NPpR75TaVfy"
      },
      "source": [
        "# 2.0 Get Data:\n",
        "path = \"/gdrive/MyDrive/Colab_data_files/GiveMeSomeCredit/\"\n",
        "creditdata = pd.read_csv(path+\"cs-training.csv.zip\")"
      ],
      "execution_count": 46,
      "outputs": []
    },
    {
      "cell_type": "code",
      "metadata": {
        "colab": {
          "base_uri": "https://localhost:8080/",
          "height": 243
        },
        "id": "DKmBnLJrazpE",
        "outputId": "770482d8-b7ac-410d-b5ac-d49a707cc051"
      },
      "source": [
        "creditdata.head()"
      ],
      "execution_count": 47,
      "outputs": [
        {
          "output_type": "execute_result",
          "data": {
            "text/html": [
              "<div>\n",
              "<style scoped>\n",
              "    .dataframe tbody tr th:only-of-type {\n",
              "        vertical-align: middle;\n",
              "    }\n",
              "\n",
              "    .dataframe tbody tr th {\n",
              "        vertical-align: top;\n",
              "    }\n",
              "\n",
              "    .dataframe thead th {\n",
              "        text-align: right;\n",
              "    }\n",
              "</style>\n",
              "<table border=\"1\" class=\"dataframe\">\n",
              "  <thead>\n",
              "    <tr style=\"text-align: right;\">\n",
              "      <th></th>\n",
              "      <th>Unnamed: 0</th>\n",
              "      <th>SeriousDlqin2yrs</th>\n",
              "      <th>RevolvingUtilizationOfUnsecuredLines</th>\n",
              "      <th>age</th>\n",
              "      <th>NumberOfTime30-59DaysPastDueNotWorse</th>\n",
              "      <th>DebtRatio</th>\n",
              "      <th>MonthlyIncome</th>\n",
              "      <th>NumberOfOpenCreditLinesAndLoans</th>\n",
              "      <th>NumberOfTimes90DaysLate</th>\n",
              "      <th>NumberRealEstateLoansOrLines</th>\n",
              "      <th>NumberOfTime60-89DaysPastDueNotWorse</th>\n",
              "      <th>NumberOfDependents</th>\n",
              "    </tr>\n",
              "  </thead>\n",
              "  <tbody>\n",
              "    <tr>\n",
              "      <th>0</th>\n",
              "      <td>1</td>\n",
              "      <td>1</td>\n",
              "      <td>0.766127</td>\n",
              "      <td>45</td>\n",
              "      <td>2</td>\n",
              "      <td>0.802982</td>\n",
              "      <td>9120.0</td>\n",
              "      <td>13</td>\n",
              "      <td>0</td>\n",
              "      <td>6</td>\n",
              "      <td>0</td>\n",
              "      <td>2.0</td>\n",
              "    </tr>\n",
              "    <tr>\n",
              "      <th>1</th>\n",
              "      <td>2</td>\n",
              "      <td>0</td>\n",
              "      <td>0.957151</td>\n",
              "      <td>40</td>\n",
              "      <td>0</td>\n",
              "      <td>0.121876</td>\n",
              "      <td>2600.0</td>\n",
              "      <td>4</td>\n",
              "      <td>0</td>\n",
              "      <td>0</td>\n",
              "      <td>0</td>\n",
              "      <td>1.0</td>\n",
              "    </tr>\n",
              "    <tr>\n",
              "      <th>2</th>\n",
              "      <td>3</td>\n",
              "      <td>0</td>\n",
              "      <td>0.658180</td>\n",
              "      <td>38</td>\n",
              "      <td>1</td>\n",
              "      <td>0.085113</td>\n",
              "      <td>3042.0</td>\n",
              "      <td>2</td>\n",
              "      <td>1</td>\n",
              "      <td>0</td>\n",
              "      <td>0</td>\n",
              "      <td>0.0</td>\n",
              "    </tr>\n",
              "    <tr>\n",
              "      <th>3</th>\n",
              "      <td>4</td>\n",
              "      <td>0</td>\n",
              "      <td>0.233810</td>\n",
              "      <td>30</td>\n",
              "      <td>0</td>\n",
              "      <td>0.036050</td>\n",
              "      <td>3300.0</td>\n",
              "      <td>5</td>\n",
              "      <td>0</td>\n",
              "      <td>0</td>\n",
              "      <td>0</td>\n",
              "      <td>0.0</td>\n",
              "    </tr>\n",
              "    <tr>\n",
              "      <th>4</th>\n",
              "      <td>5</td>\n",
              "      <td>0</td>\n",
              "      <td>0.907239</td>\n",
              "      <td>49</td>\n",
              "      <td>1</td>\n",
              "      <td>0.024926</td>\n",
              "      <td>63588.0</td>\n",
              "      <td>7</td>\n",
              "      <td>0</td>\n",
              "      <td>1</td>\n",
              "      <td>0</td>\n",
              "      <td>0.0</td>\n",
              "    </tr>\n",
              "  </tbody>\n",
              "</table>\n",
              "</div>"
            ],
            "text/plain": [
              "   Unnamed: 0  ...  NumberOfDependents\n",
              "0           1  ...                 2.0\n",
              "1           2  ...                 1.0\n",
              "2           3  ...                 0.0\n",
              "3           4  ...                 0.0\n",
              "4           5  ...                 0.0\n",
              "\n",
              "[5 rows x 12 columns]"
            ]
          },
          "metadata": {},
          "execution_count": 47
        }
      ]
    },
    {
      "cell_type": "code",
      "metadata": {
        "colab": {
          "base_uri": "https://localhost:8080/"
        },
        "id": "kJkhTBFrcaBo",
        "outputId": "6f630e7f-7be9-4973-db80-17e269adb682"
      },
      "source": [
        "creditdata.columns"
      ],
      "execution_count": 48,
      "outputs": [
        {
          "output_type": "execute_result",
          "data": {
            "text/plain": [
              "Index(['Unnamed: 0', 'SeriousDlqin2yrs',\n",
              "       'RevolvingUtilizationOfUnsecuredLines', 'age',\n",
              "       'NumberOfTime30-59DaysPastDueNotWorse', 'DebtRatio', 'MonthlyIncome',\n",
              "       'NumberOfOpenCreditLinesAndLoans', 'NumberOfTimes90DaysLate',\n",
              "       'NumberRealEstateLoansOrLines', 'NumberOfTime60-89DaysPastDueNotWorse',\n",
              "       'NumberOfDependents'],\n",
              "      dtype='object')"
            ]
          },
          "metadata": {},
          "execution_count": 48
        }
      ]
    },
    {
      "cell_type": "code",
      "metadata": {
        "colab": {
          "base_uri": "https://localhost:8080/",
          "height": 226
        },
        "id": "iO7GfVrfcT0Z",
        "outputId": "66cf7102-9147-4473-eff9-e10fe8b18d79"
      },
      "source": [
        "creditdata.drop(columns='Unnamed: 0', inplace=True)\n",
        "creditdata = creditdata.rename(columns={'SeriousDlqin2yrs' : 'target'})\n",
        "creditdata.head()"
      ],
      "execution_count": 49,
      "outputs": [
        {
          "output_type": "execute_result",
          "data": {
            "text/html": [
              "<div>\n",
              "<style scoped>\n",
              "    .dataframe tbody tr th:only-of-type {\n",
              "        vertical-align: middle;\n",
              "    }\n",
              "\n",
              "    .dataframe tbody tr th {\n",
              "        vertical-align: top;\n",
              "    }\n",
              "\n",
              "    .dataframe thead th {\n",
              "        text-align: right;\n",
              "    }\n",
              "</style>\n",
              "<table border=\"1\" class=\"dataframe\">\n",
              "  <thead>\n",
              "    <tr style=\"text-align: right;\">\n",
              "      <th></th>\n",
              "      <th>target</th>\n",
              "      <th>RevolvingUtilizationOfUnsecuredLines</th>\n",
              "      <th>age</th>\n",
              "      <th>NumberOfTime30-59DaysPastDueNotWorse</th>\n",
              "      <th>DebtRatio</th>\n",
              "      <th>MonthlyIncome</th>\n",
              "      <th>NumberOfOpenCreditLinesAndLoans</th>\n",
              "      <th>NumberOfTimes90DaysLate</th>\n",
              "      <th>NumberRealEstateLoansOrLines</th>\n",
              "      <th>NumberOfTime60-89DaysPastDueNotWorse</th>\n",
              "      <th>NumberOfDependents</th>\n",
              "    </tr>\n",
              "  </thead>\n",
              "  <tbody>\n",
              "    <tr>\n",
              "      <th>0</th>\n",
              "      <td>1</td>\n",
              "      <td>0.766127</td>\n",
              "      <td>45</td>\n",
              "      <td>2</td>\n",
              "      <td>0.802982</td>\n",
              "      <td>9120.0</td>\n",
              "      <td>13</td>\n",
              "      <td>0</td>\n",
              "      <td>6</td>\n",
              "      <td>0</td>\n",
              "      <td>2.0</td>\n",
              "    </tr>\n",
              "    <tr>\n",
              "      <th>1</th>\n",
              "      <td>0</td>\n",
              "      <td>0.957151</td>\n",
              "      <td>40</td>\n",
              "      <td>0</td>\n",
              "      <td>0.121876</td>\n",
              "      <td>2600.0</td>\n",
              "      <td>4</td>\n",
              "      <td>0</td>\n",
              "      <td>0</td>\n",
              "      <td>0</td>\n",
              "      <td>1.0</td>\n",
              "    </tr>\n",
              "    <tr>\n",
              "      <th>2</th>\n",
              "      <td>0</td>\n",
              "      <td>0.658180</td>\n",
              "      <td>38</td>\n",
              "      <td>1</td>\n",
              "      <td>0.085113</td>\n",
              "      <td>3042.0</td>\n",
              "      <td>2</td>\n",
              "      <td>1</td>\n",
              "      <td>0</td>\n",
              "      <td>0</td>\n",
              "      <td>0.0</td>\n",
              "    </tr>\n",
              "    <tr>\n",
              "      <th>3</th>\n",
              "      <td>0</td>\n",
              "      <td>0.233810</td>\n",
              "      <td>30</td>\n",
              "      <td>0</td>\n",
              "      <td>0.036050</td>\n",
              "      <td>3300.0</td>\n",
              "      <td>5</td>\n",
              "      <td>0</td>\n",
              "      <td>0</td>\n",
              "      <td>0</td>\n",
              "      <td>0.0</td>\n",
              "    </tr>\n",
              "    <tr>\n",
              "      <th>4</th>\n",
              "      <td>0</td>\n",
              "      <td>0.907239</td>\n",
              "      <td>49</td>\n",
              "      <td>1</td>\n",
              "      <td>0.024926</td>\n",
              "      <td>63588.0</td>\n",
              "      <td>7</td>\n",
              "      <td>0</td>\n",
              "      <td>1</td>\n",
              "      <td>0</td>\n",
              "      <td>0.0</td>\n",
              "    </tr>\n",
              "  </tbody>\n",
              "</table>\n",
              "</div>"
            ],
            "text/plain": [
              "   target  ...  NumberOfDependents\n",
              "0       1  ...                 2.0\n",
              "1       0  ...                 1.0\n",
              "2       0  ...                 0.0\n",
              "3       0  ...                 0.0\n",
              "4       0  ...                 0.0\n",
              "\n",
              "[5 rows x 11 columns]"
            ]
          },
          "metadata": {},
          "execution_count": 49
        }
      ]
    },
    {
      "cell_type": "code",
      "metadata": {
        "colab": {
          "base_uri": "https://localhost:8080/"
        },
        "id": "gxD2EQQ56_Z4",
        "outputId": "f05e5639-19ea-4efd-847a-79d641c01283"
      },
      "source": [
        "# 2.1 Seperate X,y\n",
        "X = housing.data\n",
        "y = housing.target\n",
        "X.shape   # (20640, 8)"
      ],
      "execution_count": 80,
      "outputs": [
        {
          "output_type": "execute_result",
          "data": {
            "text/plain": [
              "(20640, 8)"
            ]
          },
          "metadata": {},
          "execution_count": 80
        }
      ]
    },
    {
      "cell_type": "code",
      "metadata": {
        "id": "SOFtW-MedvMu"
      },
      "source": [
        "# 2.1 Separate X, y\n",
        "X = creditdata.iloc[:,1:]\n",
        "y=creditdata.iloc[:,0]"
      ],
      "execution_count": 50,
      "outputs": []
    },
    {
      "cell_type": "code",
      "metadata": {
        "colab": {
          "base_uri": "https://localhost:8080/"
        },
        "id": "uvMIw9A1d-1R",
        "outputId": "a471e4ac-e372-485e-9bf7-8705724fa981"
      },
      "source": [
        "X.shape\n",
        "y.shape"
      ],
      "execution_count": 51,
      "outputs": [
        {
          "output_type": "execute_result",
          "data": {
            "text/plain": [
              "(150000, 10)"
            ]
          },
          "metadata": {},
          "execution_count": 51
        },
        {
          "output_type": "execute_result",
          "data": {
            "text/plain": [
              "(150000,)"
            ]
          },
          "metadata": {},
          "execution_count": 51
        }
      ]
    },
    {
      "cell_type": "code",
      "metadata": {
        "id": "ha_HncyCmS9y"
      },
      "source": [
        "# 2.2 Normalize input data\n",
        "ss = StandardScaler()\n",
        "X = ss.fit_transform(X)"
      ],
      "execution_count": 81,
      "outputs": []
    },
    {
      "cell_type": "code",
      "metadata": {
        "id": "uogWyNdXGfm3"
      },
      "source": [
        "# 2.3 Show data field names\n",
        "#print(housing.DESCR)\n",
        "#housing.feature_names"
      ],
      "execution_count": null,
      "outputs": []
    },
    {
      "cell_type": "code",
      "metadata": {
        "colab": {
          "base_uri": "https://localhost:8080/"
        },
        "id": "rzWFuUd9Mf-0",
        "outputId": "e2ed5020-e576-4a58-ee4e-a19df65ff1b2"
      },
      "source": [
        "# 3.0 Split train/test data\n",
        "X_train,X_test, y_train,y_test = train_test_split(X,y,test_size = 0.2)\n",
        "X_train.shape   # (16512, 8)\n",
        "X_test.shape    # (4128, 8)"
      ],
      "execution_count": 82,
      "outputs": [
        {
          "output_type": "execute_result",
          "data": {
            "text/plain": [
              "(16512, 8)"
            ]
          },
          "metadata": {},
          "execution_count": 82
        },
        {
          "output_type": "execute_result",
          "data": {
            "text/plain": [
              "(4128, 8)"
            ]
          },
          "metadata": {},
          "execution_count": 82
        }
      ]
    },
    {
      "cell_type": "markdown",
      "metadata": {
        "id": "KcTDN9LM2d_u"
      },
      "source": [
        "# Our models<br>\n",
        "We will construct the following three models:"
      ]
    },
    {
      "cell_type": "markdown",
      "metadata": {
        "id": "AraHX0zQ1-Uu"
      },
      "source": [
        "![image.png](data:image/png;base64,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)"
      ]
    },
    {
      "cell_type": "markdown",
      "metadata": {
        "id": "Or3cMUAH2HAp"
      },
      "source": [
        "![image.png](data:image/png;base64,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)"
      ]
    },
    {
      "cell_type": "markdown",
      "metadata": {
        "id": "C5klAj751zjZ"
      },
      "source": [
        "![image.png](data:image/png;base64,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)"
      ]
    },
    {
      "cell_type": "markdown",
      "metadata": {
        "id": "QBKy2GzK76sc"
      },
      "source": [
        "# Wide and Deep Network--Ist version"
      ]
    },
    {
      "cell_type": "markdown",
      "metadata": {
        "id": "fe9uCj7Fg3x-"
      },
      "source": [
        "### Inputs\n",
        "<i>Input()</i> is used to instantiate a Keras tensor.\n",
        "Inputs is the shape of each object. In a tabular data, each row is an object. In Image data, each image is an object. So, in the former case, it is one dimensional and in the later case two-dimensional.\n",
        "```\n",
        "tf.keras.Input(\n",
        "    shape=None, batch_size=None, name=None, dtype=None, sparse=None, tensor=None,\n",
        "    ragged=None, type_spec=None, **kwargs\n",
        ")\n",
        "```"
      ]
    },
    {
      "cell_type": "code",
      "metadata": {
        "colab": {
          "base_uri": "https://localhost:8080/"
        },
        "id": "EZDEXIViftqT",
        "outputId": "ac1bb3d8-63e9-4fc7-de0e-e7869eac9331"
      },
      "source": [
        "# 3.1 Design model\n",
        "\n",
        "# 3.1.1 Inputs to model. Note that inputs is NOT\n",
        "#       a part of layers object\n",
        "#       Input() is used to instantiate a Keras tensor.\n",
        "#       This tensor will get populated when .fit() is\n",
        "#       invoked and data starts flowing in:\n",
        "\n",
        "inputs = tf.keras.Input(shape = X.shape[1:], batch_size=None)\n",
        "type(inputs)"
      ],
      "execution_count": 83,
      "outputs": [
        {
          "output_type": "execute_result",
          "data": {
            "text/plain": [
              "keras.engine.keras_tensor.KerasTensor"
            ]
          },
          "metadata": {},
          "execution_count": 83
        }
      ]
    },
    {
      "cell_type": "code",
      "metadata": {
        "colab": {
          "base_uri": "https://localhost:8080/"
        },
        "id": "7hJmwSOOf4BV",
        "outputId": "a6d024cb-22e1-4776-aa9f-a66117dafc7e"
      },
      "source": [
        "# 3.1.2 Examine the tensor object\n",
        "print(inputs.dtype)\n",
        "print(inputs.shape)\n",
        "print(inputs.name)"
      ],
      "execution_count": 84,
      "outputs": [
        {
          "output_type": "stream",
          "name": "stdout",
          "text": [
            "<dtype: 'float32'>\n",
            "(None, 8)\n",
            "input_5\n"
          ]
        }
      ]
    },
    {
      "cell_type": "code",
      "metadata": {
        "id": "3CUFOUbujkpS"
      },
      "source": [
        "# 3.2 Add layers. Each layer outputs a tensor:\n",
        "x = layers.Dense(100, activation = 'relu')(inputs)"
      ],
      "execution_count": 85,
      "outputs": []
    },
    {
      "cell_type": "code",
      "metadata": {
        "colab": {
          "base_uri": "https://localhost:8080/"
        },
        "id": "7iBWEkbUmBRE",
        "outputId": "f0c7e340-208f-4950-a843-a7fe8cb31cbc"
      },
      "source": [
        "# 3.2.1 Get nature of 'x'\n",
        "print(type(x))\n",
        "print(x.shape )  # (None, 100)"
      ],
      "execution_count": 86,
      "outputs": [
        {
          "output_type": "stream",
          "name": "stdout",
          "text": [
            "<class 'keras.engine.keras_tensor.KerasTensor'>\n",
            "(None, 100)\n"
          ]
        }
      ]
    },
    {
      "cell_type": "code",
      "metadata": {
        "colab": {
          "base_uri": "https://localhost:8080/"
        },
        "id": "JOPzYvEcj4IA",
        "outputId": "8b594148-432f-467a-8d39-621a2fb40056"
      },
      "source": [
        "# 3.2.2 Examine x\n",
        "type(x)\n",
        "x.shape"
      ],
      "execution_count": 87,
      "outputs": [
        {
          "output_type": "execute_result",
          "data": {
            "text/plain": [
              "keras.engine.keras_tensor.KerasTensor"
            ]
          },
          "metadata": {},
          "execution_count": 87
        },
        {
          "output_type": "execute_result",
          "data": {
            "text/plain": [
              "TensorShape([None, 100])"
            ]
          },
          "metadata": {},
          "execution_count": 87
        }
      ]
    },
    {
      "cell_type": "code",
      "metadata": {
        "id": "JouACnATIIUF"
      },
      "source": [
        "# 3.3 Add ome more layer\n",
        "x = layers.Dense(100, activation = 'relu')(x)"
      ],
      "execution_count": 88,
      "outputs": []
    },
    {
      "cell_type": "code",
      "metadata": {
        "id": "_ZEHAgf6mtUk"
      },
      "source": [
        "x = tf.keras.layers.concatenate([x,inputs])\n",
        "out = layers.Dense(1,activation = 'sigmoid')(x)\n",
        "# 3.1.3 Create model now\n",
        "model = Model(inputs = [inputs], outputs = [out])"
      ],
      "execution_count": 89,
      "outputs": []
    },
    {
      "cell_type": "code",
      "metadata": {
        "id": "zZmSNOwJJ2cf"
      },
      "source": [
        "# 3.2 Print model summary\n",
        "model.summary()"
      ],
      "execution_count": null,
      "outputs": []
    },
    {
      "cell_type": "code",
      "metadata": {
        "id": "PBZwG9ht70_A"
      },
      "source": [
        "# 3.3 `Model` groups layers into an object \n",
        "#       with training and inference features.\n",
        "help(Model)"
      ],
      "execution_count": null,
      "outputs": []
    },
    {
      "cell_type": "code",
      "metadata": {
        "id": "2ex5iFJiHkDR",
        "colab": {
          "base_uri": "https://localhost:8080/",
          "height": 533
        },
        "outputId": "1833f304-6c08-4e1c-be2b-96d09fa2fb40"
      },
      "source": [
        "# 3.4 Display model now\n",
        "# Ref: https://www.tensorflow.org/api_docs/python/tf/keras/utils/plot_model\n",
        "plot_model(model, show_shapes= True)"
      ],
      "execution_count": 59,
      "outputs": [
        {
          "output_type": "execute_result",
          "data": {
            "image/png": "[encoded data removed]",
            "text/plain": [
              "<IPython.core.display.Image object>"
            ]
          },
          "metadata": {},
          "execution_count": 59
        }
      ]
    },
    {
      "cell_type": "code",
      "metadata": {
        "id": "u7X1WpoaJ8vZ"
      },
      "source": [
        "# 3.5 Compile model\n",
        "model.compile(loss = \"mean_squared_error\")  # \"binary_crossentropy\", \"mean_squared_error\"\n",
        "history = model.fit(\n",
        "                    X_train,\n",
        "                    y_train,\n",
        "                    epochs = 10,\n",
        "                    verbose = 1\n",
        "                    )"
      ],
      "execution_count": null,
      "outputs": []
    },
    {
      "cell_type": "code",
      "metadata": {
        "id": "vPp6TiJ2vgtQ"
      },
      "source": [
        "model.predict(X_test)"
      ],
      "execution_count": null,
      "outputs": []
    },
    {
      "cell_type": "code",
      "metadata": {
        "id": "6QQ8xAgGLTOo",
        "colab": {
          "base_uri": "https://localhost:8080/"
        },
        "outputId": "ba82c988-f96b-4441-891e-43cf535bc326"
      },
      "source": [
        "# 3.6 \n",
        "model.evaluate(X_test,y_test)"
      ],
      "execution_count": 111,
      "outputs": [
        {
          "output_type": "stream",
          "name": "stdout",
          "text": [
            "129/129 [==============================] - 0s 1ms/step - loss: 2.3546\n"
          ]
        },
        {
          "output_type": "execute_result",
          "data": {
            "text/plain": [
              "2.3546416759490967"
            ]
          },
          "metadata": {},
          "execution_count": 111
        }
      ]
    },
    {
      "cell_type": "code",
      "metadata": {
        "id": "-7pE03VE4DTa"
      },
      "source": [
        "#3.1 Design model\n",
        "\n",
        "# 3.1.1 Inputs to model. Note that inputs is NOT\n",
        "#       a part of layers object\n",
        "inputs = tf.keras.Input(shape = (8,1))\n",
        "# 3.1.2 Add layers\n",
        "x = layers.Conv1D(filters = 32, kernel_size=3,activation='relu')(inputs)\n",
        "x = layers.Conv1D(filters = 32, kernel_size=3,activation='relu')(x)\n",
        "x = layers.Flatten()(x)"
      ],
      "execution_count": 106,
      "outputs": []
    },
    {
      "cell_type": "code",
      "metadata": {
        "id": "2HXB3kq95vsy"
      },
      "source": [
        "\n",
        "# 3.1.2 Add layers\n",
        "y = layers.Conv1D(filters = 32, kernel_size=3,activation='relu')(inputs)\n",
        "y = layers.Conv1D(filters = 32, kernel_size=3,activation='relu')(y)\n",
        "y = layers.Flatten()(y)"
      ],
      "execution_count": 107,
      "outputs": []
    },
    {
      "cell_type": "code",
      "metadata": {
        "id": "0nwyc93y54oF"
      },
      "source": [
        "h = tf.keras.layers.concatenate([x,y])"
      ],
      "execution_count": 108,
      "outputs": []
    },
    {
      "cell_type": "code",
      "metadata": {
        "id": "cSGOF4qO2hZi"
      },
      "source": [
        "h = layers.Dense(100, activation = 'relu')(h)\n",
        "#x = layers.Dense(100, activation = 'relu')(x)\n",
        "#x = tf.keras.layers.concatenate([x,inputs])\n",
        "out = layers.Dense(1,activation = 'sigmoid')(h)\n",
        "# 3.1.3 Create model now\n",
        "model = Model(inputs = [inputs], outputs = [out])"
      ],
      "execution_count": 109,
      "outputs": []
    },
    {
      "cell_type": "code",
      "metadata": {
        "id": "JHPs6nc35h8G",
        "outputId": "ce51cbdc-a7f6-4b52-f566-c3d7d7e7eef4",
        "colab": {
          "base_uri": "https://localhost:8080/"
        }
      },
      "source": [
        "# 3.5 Compile model\n",
        "model.compile(loss = \"mean_squared_error\")  # \"binary_crossentropy\", \"mean_squared_error\"\n",
        "history = model.fit(\n",
        "                    X_train,\n",
        "                    y_train,\n",
        "                    epochs = 10,\n",
        "                    verbose = 1\n",
        "                    )"
      ],
      "execution_count": 110,
      "outputs": [
        {
          "output_type": "stream",
          "name": "stdout",
          "text": [
            "Epoch 1/10\n",
            "516/516 [==============================] - 2s 3ms/step - loss: 2.5121\n",
            "Epoch 2/10\n",
            "516/516 [==============================] - 1s 3ms/step - loss: 2.5012\n",
            "Epoch 3/10\n",
            "516/516 [==============================] - 1s 3ms/step - loss: 2.5012\n",
            "Epoch 4/10\n",
            "516/516 [==============================] - 1s 3ms/step - loss: 2.5012\n",
            "Epoch 5/10\n",
            "516/516 [==============================] - 1s 2ms/step - loss: 2.4985\n",
            "Epoch 6/10\n",
            "516/516 [==============================] - 1s 3ms/step - loss: 2.4964\n",
            "Epoch 7/10\n",
            "516/516 [==============================] - 1s 3ms/step - loss: 2.4959\n",
            "Epoch 8/10\n",
            "516/516 [==============================] - 1s 3ms/step - loss: 2.4955\n",
            "Epoch 9/10\n",
            "516/516 [==============================] - 1s 3ms/step - loss: 2.4951\n",
            "Epoch 10/10\n",
            "516/516 [==============================] - 1s 3ms/step - loss: 2.4946\n"
          ]
        }
      ]
    },
    {
      "cell_type": "markdown",
      "metadata": {
        "id": "dYuF2BagAAYt"
      },
      "source": [
        "# Wide and Deep Network--IInd version"
      ]
    },
    {
      "cell_type": "code",
      "metadata": {
        "id": "SYrB04GJNwrN"
      },
      "source": [
        "# 4.0 We have two inputs\n",
        "inputsA = tf.keras.Input(shape = X_train[:,:4].shape[1:])\n",
        "inputsB = tf.keras.Input(shape = X_train[:,1:8].shape[1:])"
      ],
      "execution_count": null,
      "outputs": []
    },
    {
      "cell_type": "code",
      "metadata": {
        "id": "i1iVJhhcRTIi"
      },
      "source": [
        "# 4.1 One arm of network\n",
        "x = layers.Dense(100, activation = 'relu')(inputsB)\n",
        "x = layers.Dense(100,activation= 'relu')(x)\n"
      ],
      "execution_count": null,
      "outputs": []
    },
    {
      "cell_type": "code",
      "metadata": {
        "id": "l6iLjl8gSa69"
      },
      "source": [
        "# 4.2 Concatenate one input with output of another arm\n",
        "concat = layers.concatenate([x,inputsA])"
      ],
      "execution_count": null,
      "outputs": []
    },
    {
      "cell_type": "code",
      "metadata": {
        "id": "lG3SQHycS1Tu"
      },
      "source": [
        "# 4.3 Output layer\n",
        "out = layers.Dense(1,activation = 'sigmoid')(concat)\n"
      ],
      "execution_count": null,
      "outputs": []
    },
    {
      "cell_type": "code",
      "metadata": {
        "id": "x90xNBumS_bd"
      },
      "source": [
        "# 4.4 Create model and show summary\n",
        "model2 = Model(inputs = [inputsA,inputsB], outputs = [out])\n",
        "model2.summary()"
      ],
      "execution_count": null,
      "outputs": []
    },
    {
      "cell_type": "code",
      "metadata": {
        "id": "YWwLnTskTPDi"
      },
      "source": [
        "# 4.5 Compile model\n",
        "model2.compile(\n",
        "               optimizer='rmsprop', \n",
        "               loss = 'mean_squared_error'\n",
        "               )\n",
        "\n",
        "# 4.6 Train the model now.\n",
        "#     Note the two train inputs\n",
        "model2.fit(\n",
        "            [X_train[:,:4], X_train[:,1:8]],\n",
        "            y_train,\n",
        "            epochs = 100\n",
        "           )"
      ],
      "execution_count": null,
      "outputs": []
    },
    {
      "cell_type": "code",
      "metadata": {
        "id": "F5MvbvlUTYd3"
      },
      "source": [
        "# 4.7 Plot our model\n",
        "plot_model(model2)"
      ],
      "execution_count": null,
      "outputs": []
    },
    {
      "cell_type": "markdown",
      "metadata": {
        "id": "eqjA96pAERaO"
      },
      "source": [
        "# Two inputs and two outputs model--IIIrd ver"
      ]
    },
    {
      "cell_type": "code",
      "metadata": {
        "id": "c2Bg8Lm2Ei0y"
      },
      "source": [
        "# 5.0 We have two inputs.\n",
        "#     To distiguish them, we give names to each\n",
        "inputsA = tf.keras.Input(\n",
        "                          shape = X_train[:,:4].shape[1:],\n",
        "                          name = \"in_a\"\n",
        "                         )\n",
        "\n",
        "# 5.1\n",
        "inputsB = tf.keras.Input(\n",
        "                          shape = X_train[:,1:8].shape[1:],\n",
        "                          name = \"in_b\"\n",
        "                        )\n",
        "\n",
        "\n",
        "# 5.2 One arm of network\n",
        "x = layers.Dense(100, activation = 'relu')(inputsB)\n",
        "x = layers.Dense(100,activation= 'relu')(x)\n",
        "\n",
        "# 5.3 Concatenate an input with output of one arm\n",
        "concat = layers.concatenate([x,inputsA])\n",
        "\n",
        "# 5.4 Output layers\n",
        "#     We have two output layers. To distiguish them, we give names to each\n",
        "out_x = layers.Dense(1,activation = 'sigmoid' , name = \"out_a\")(concat)\n",
        "out_y = layers.Dense(1,activation = 'sigmoid', name = \"out_b\")(x)\n",
        "\n",
        "# 5.5 Create model and show summary\n",
        "#     While outputs are two, model is one\n",
        "main_model = Model(inputs = [inputsA,inputsB], outputs = [out_x, out_y])\n",
        "main_model.summary()\n"
      ],
      "execution_count": null,
      "outputs": []
    },
    {
      "cell_type": "code",
      "metadata": {
        "id": "BOmnKemAlzJ6"
      },
      "source": [
        "# 5.6 Plot the model now\n",
        "plot_model(main_model, show_shapes = True)"
      ],
      "execution_count": null,
      "outputs": []
    },
    {
      "cell_type": "code",
      "metadata": {
        "id": "kvp16EsGHulp"
      },
      "source": [
        "#help(Model)"
      ],
      "execution_count": null,
      "outputs": []
    },
    {
      "cell_type": "code",
      "metadata": {
        "id": "LVEiWb3bHy_b"
      },
      "source": [
        "help(main_model.fit)"
      ],
      "execution_count": null,
      "outputs": []
    },
    {
      "cell_type": "code",
      "metadata": {
        "id": "1qGf1FQf7AkD"
      },
      "source": [
        "# 6.0 Compile model now\n",
        "# Ref: Model.compile: \n",
        "#      https://wwwa.tensorflow.org/api_docs/python/tf/keras/Model\n",
        "\n",
        "main_model.compile(\n",
        "                     loss = ['mse', 'mse'],        # Could also be in dict() format\n",
        "                     metrics = \"mse\",\n",
        "                     loss_weights= {\"out_a\": 0.9,   # More weight to error here\n",
        "                                    \"out_b\" : 0.1   # Less weight to error here\n",
        "                                    }\n",
        "                   )"
      ],
      "execution_count": null,
      "outputs": []
    },
    {
      "cell_type": "code",
      "metadata": {
        "id": "uEeYQ5aD7oJV"
      },
      "source": [
        "# 6.1\n",
        "main_model.fit(\n",
        "               {                            #[X_train[:,:4],X_train[:,1:8]]\n",
        "                   \"in_a\" : X_train[:,:4],  # One input\n",
        "                   \"in_b\" : X_train[:,1:8]  # IInd input     \n",
        "               },              \n",
        "               [y_train,y_train],\n",
        "               epochs = 100\n",
        "           )"
      ],
      "execution_count": null,
      "outputs": []
    },
    {
      "cell_type": "code",
      "metadata": {
        "id": "eaDhO7KXFy2m"
      },
      "source": [
        "# 6.2 One can also write outputs in a dictionary form, as:\n",
        "\n",
        "main_model.fit(\n",
        "               {                            #[X_train[:,:4],X_train[:,1:8]]\n",
        "                   \"in_a\" : X_train[:,:4],  # One input\n",
        "                   \"in_b\" : X_train[:,1:8]  # IInd input     \n",
        "               },              \n",
        "               {\n",
        "                   \"out_a\" : y_train,\n",
        "                   \"out_b\" : y_train\n",
        "               },\n",
        "               epochs = 100\n",
        "           )"
      ],
      "execution_count": null,
      "outputs": []
    },
    {
      "cell_type": "code",
      "metadata": {
        "id": "lqDTxCZr8fxs"
      },
      "source": [
        "# 7.0 To evaluate, we must also supply two inputs\n",
        "main_model.evaluate(\n",
        "                     [X_test[:,:4],X_test[:,1:8]],\n",
        "                      y_test\n",
        "                    )"
      ],
      "execution_count": null,
      "outputs": []
    },
    {
      "cell_type": "code",
      "metadata": {
        "id": "3MhQF056p09N"
      },
      "source": [
        "########### It is done ##############"
      ],
      "execution_count": null,
      "outputs": []
    }
  ]
}