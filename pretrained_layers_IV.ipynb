{
  "nbformat": 4,
  "nbformat_minor": 0,
  "metadata": {
    "colab": {
      "name": "pretrained_layers-IV.ipynb",
      "provenance": [],
      "collapsed_sections": [],
      "mount_file_id": "1BtfeRDP6opT9NTrAD8W-3kMcLoMOpEJs",
      "authorship_tag": "ABX9TyOyMGeMyMpkG7W4ZffKlSwX",
      "include_colab_link": true
    },
    "kernelspec": {
      "name": "python3",
      "display_name": "Python 3"
    }
  },
  "cells": [
    {
      "cell_type": "markdown",
      "metadata": {
        "id": "view-in-github",
        "colab_type": "text"
      },
      "source": [
        "<a href=\"https://colab.research.google.com/github/harnalashok/deeplearning/blob/main/pretrained_layers_IV.ipynb\" target=\"_parent\"><img src=\"https://colab.research.google.com/assets/colab-badge.svg\" alt=\"Open In Colab\"/></a>"
      ]
    },
    {
      "cell_type": "code",
      "metadata": {
        "id": "7_s135n0GDcC"
      },
      "source": [
        "import tensorflow as tf\r\n",
        "from tensorflow import keras\r\n",
        "from keras.models import Model\r\n",
        "from tensorflow.keras.datasets import fashion_mnist\r\n",
        "import numpy as np"
      ],
      "execution_count": 48,
      "outputs": []
    },
    {
      "cell_type": "code",
      "metadata": {
        "id": "Gp-WDNu5QFh0"
      },
      "source": [
        "from IPython.core.interactiveshell import InteractiveShell\r\n",
        "InteractiveShell.ast_node_interactivity = \"all\"\r\n"
      ],
      "execution_count": 32,
      "outputs": []
    },
    {
      "cell_type": "code",
      "metadata": {
        "colab": {
          "base_uri": "https://localhost:8080/"
        },
        "id": "MQuyjharJt7q",
        "outputId": "b848bda4-80d9-4737-c96f-09e0ace782b6"
      },
      "source": [
        "(X_train, y_train), (X_test,y_test) = fashion_mnist.load_data()"
      ],
      "execution_count": 2,
      "outputs": [
        {
          "output_type": "stream",
          "text": [
            "Downloading data from https://storage.googleapis.com/tensorflow/tf-keras-datasets/train-labels-idx1-ubyte.gz\n",
            "32768/29515 [=================================] - 0s 0us/step\n",
            "Downloading data from https://storage.googleapis.com/tensorflow/tf-keras-datasets/train-images-idx3-ubyte.gz\n",
            "26427392/26421880 [==============================] - 0s 0us/step\n",
            "Downloading data from https://storage.googleapis.com/tensorflow/tf-keras-datasets/t10k-labels-idx1-ubyte.gz\n",
            "8192/5148 [===============================================] - 0s 0us/step\n",
            "Downloading data from https://storage.googleapis.com/tensorflow/tf-keras-datasets/t10k-images-idx3-ubyte.gz\n",
            "4423680/4422102 [==============================] - 0s 0us/step\n"
          ],
          "name": "stdout"
        }
      ]
    },
    {
      "cell_type": "code",
      "metadata": {
        "colab": {
          "base_uri": "https://localhost:8080/"
        },
        "id": "1MFwLf5LNeOl",
        "outputId": "88396eb3-5c03-4f74-a364-400052bd3c18"
      },
      "source": [
        "X_train.shape"
      ],
      "execution_count": 18,
      "outputs": [
        {
          "output_type": "execute_result",
          "data": {
            "text/plain": [
              "(60000, 28, 28)"
            ]
          },
          "metadata": {
            "tags": []
          },
          "execution_count": 18
        }
      ]
    },
    {
      "cell_type": "code",
      "metadata": {
        "id": "nMwOvAVgKcYW"
      },
      "source": [
        "items = [\"T-shirt/top\", \"Trouser\", \"Pullover\", \"Dress\", \"Coat\", \"Sandal\", \"Shirt\", \"Sneaker\", \"Bag\", \"Ankle boot\"]"
      ],
      "execution_count": 8,
      "outputs": []
    },
    {
      "cell_type": "code",
      "metadata": {
        "id": "zH2WT77QLBMB"
      },
      "source": [
        "X_train = X_train/255.0\r\n",
        "X_test = X_test/255.0"
      ],
      "execution_count": 9,
      "outputs": []
    },
    {
      "cell_type": "code",
      "metadata": {
        "colab": {
          "base_uri": "https://localhost:8080/"
        },
        "id": "t1jRRh7VPOpZ",
        "outputId": "2354e9e7-d2f3-4633-b590-87fb1fe942fa"
      },
      "source": [
        " "
      ],
      "execution_count": 31,
      "outputs": [
        {
          "output_type": "execute_result",
          "data": {
            "text/plain": [
              "array([False, False, False, ..., False, False,  True])"
            ]
          },
          "metadata": {
            "tags": []
          },
          "execution_count": 31
        }
      ]
    },
    {
      "cell_type": "code",
      "metadata": {
        "colab": {
          "base_uri": "https://localhost:8080/"
        },
        "id": "rFRzSmZdMwji",
        "outputId": "541345b2-bc5f-4676-ca8d-7f97610215d1"
      },
      "source": [
        "ss_train = X_train[np.logical_or (y_train == 5,y_train == 6), :, :]\r\n",
        "ss_train.shape\r\n",
        "ss_test = X_test[np.logical_or (y_test == 5,y_test == 6), :, :]\r\n",
        "ss_test.shape\r\n",
        "ss_y_train = y_train[np.logical_or (y_train == 5,y_train == 6)]\r\n",
        "ss_y_train.shape\r\n",
        "ss_y_test = y_test[np.logical_or (y_test == 5,y_test == 6)]\r\n",
        "ss_y_test.shape"
      ],
      "execution_count": 44,
      "outputs": [
        {
          "output_type": "execute_result",
          "data": {
            "text/plain": [
              "(12000, 28, 28)"
            ]
          },
          "metadata": {
            "tags": []
          },
          "execution_count": 44
        },
        {
          "output_type": "execute_result",
          "data": {
            "text/plain": [
              "(2000, 28, 28)"
            ]
          },
          "metadata": {
            "tags": []
          },
          "execution_count": 44
        },
        {
          "output_type": "execute_result",
          "data": {
            "text/plain": [
              "(12000,)"
            ]
          },
          "metadata": {
            "tags": []
          },
          "execution_count": 44
        },
        {
          "output_type": "execute_result",
          "data": {
            "text/plain": [
              "(2000,)"
            ]
          },
          "metadata": {
            "tags": []
          },
          "execution_count": 44
        }
      ]
    },
    {
      "cell_type": "code",
      "metadata": {
        "id": "KniTvKJqw8X0"
      },
      "source": [
        "ss_y_train[ss_y_train == 6] = 1\r\n",
        "ss_y_train[ss_y_train == 5] = 0"
      ],
      "execution_count": 132,
      "outputs": []
    },
    {
      "cell_type": "code",
      "metadata": {
        "colab": {
          "base_uri": "https://localhost:8080/"
        },
        "id": "X3he7c_1xH8I",
        "outputId": "dfb2fe0c-02a3-4477-aa6c-6a379fae5824"
      },
      "source": [
        "ss_y_train"
      ],
      "execution_count": 133,
      "outputs": [
        {
          "output_type": "execute_result",
          "data": {
            "text/plain": [
              "array([0, 0, 0, ..., 1, 0, 0], dtype=uint8)"
            ]
          },
          "metadata": {
            "tags": []
          },
          "execution_count": 133
        }
      ]
    },
    {
      "cell_type": "code",
      "metadata": {
        "colab": {
          "base_uri": "https://localhost:8080/"
        },
        "id": "hoI9BCewNJR7",
        "outputId": "2abcfc9c-140f-4367-cdd3-78d473ade2bf"
      },
      "source": [
        "data_train = X_train[ np.logical_and (y_train != 5 , y_train !=6), :,:]\r\n",
        "data_train = data_train.reshape(-1,784)\r\n",
        "data_train.shape \r\n",
        "data_test = X_test[ np.logical_and (y_test != 5 , y_test !=6), :,:]\r\n",
        "data_test = data_test.reshape(-1,784)\r\n",
        "data_test.shape\r\n",
        "\r\n",
        "\r\n",
        "data_y_train = y_train[ np.logical_and (y_train != 5 , y_train !=6)]\r\n",
        "data_y_train.shape \r\n",
        "data_y_test = y_test[ np.logical_and (y_test != 5 , y_test !=6)]\r\n",
        "data_y_test.shape\r\n",
        "\r\n"
      ],
      "execution_count": 90,
      "outputs": [
        {
          "output_type": "execute_result",
          "data": {
            "text/plain": [
              "(48000, 784)"
            ]
          },
          "metadata": {
            "tags": []
          },
          "execution_count": 90
        },
        {
          "output_type": "execute_result",
          "data": {
            "text/plain": [
              "(8000, 784)"
            ]
          },
          "metadata": {
            "tags": []
          },
          "execution_count": 90
        },
        {
          "output_type": "execute_result",
          "data": {
            "text/plain": [
              "(48000,)"
            ]
          },
          "metadata": {
            "tags": []
          },
          "execution_count": 90
        },
        {
          "output_type": "execute_result",
          "data": {
            "text/plain": [
              "(8000,)"
            ]
          },
          "metadata": {
            "tags": []
          },
          "execution_count": 90
        }
      ]
    },
    {
      "cell_type": "code",
      "metadata": {
        "colab": {
          "base_uri": "https://localhost:8080/"
        },
        "id": "fKB4KAS4NRPf",
        "outputId": "bb67ebe7-d429-4d2a-a1e0-1d6d243ef460"
      },
      "source": [
        "ss_train = X_train[np.nonzero(np.logical_or (y_train == 5,y_train == 6)), :, :]\r\n",
        "ss_train = ss_train.reshape(-1,784)\r\n",
        "ss_test = X_train[np.nonzero(np.logical_or (y_train == 5,y_train == 6)), :, :]\r\n",
        "ss_test = ss_test.reshape(-1,784)\r\n",
        "ss_train.shape\r\n",
        "ss_test.shape"
      ],
      "execution_count": 91,
      "outputs": [
        {
          "output_type": "execute_result",
          "data": {
            "text/plain": [
              "(12000, 784)"
            ]
          },
          "metadata": {
            "tags": []
          },
          "execution_count": 91
        },
        {
          "output_type": "execute_result",
          "data": {
            "text/plain": [
              "(12000, 784)"
            ]
          },
          "metadata": {
            "tags": []
          },
          "execution_count": 91
        }
      ]
    },
    {
      "cell_type": "code",
      "metadata": {
        "id": "Ctfg_TdEeivY"
      },
      "source": [
        "units =100\r\n",
        "input = keras.layers.Input(shape = (784,))\r\n",
        "x = keras.layers.Dense(units = units, activation = \"selu\", name = \"a\")(input)\r\n",
        "x = keras.layers.Dense(units = units, activation = \"selu\", name = \"b\")(x)\r\n",
        "x = keras.layers.Dense(units = units, activation = \"selu\", name = \"c\")(x)\r\n",
        "out = keras.layers.Dense(units = 10, activation = 'softmax', name = \"d\")(x)\r\n",
        "model = Model(inputs = [input], outputs = [out])\r\n",
        "model.compile(loss = \"sparse_categorical_crossentropy\", metrics = \"accuracy\")"
      ],
      "execution_count": 96,
      "outputs": []
    },
    {
      "cell_type": "code",
      "metadata": {
        "colab": {
          "base_uri": "https://localhost:8080/"
        },
        "id": "q9CzfKe1iWAV",
        "outputId": "b4e026b3-e859-4421-82ee-fb142f07dde1"
      },
      "source": [
        "model.fit(data_train,data_y_train, epochs = 10)"
      ],
      "execution_count": 97,
      "outputs": [
        {
          "output_type": "stream",
          "text": [
            "Epoch 1/20\n",
            "1500/1500 [==============================] - 5s 3ms/step - loss: 0.4761 - accuracy: 0.8322\n",
            "Epoch 2/20\n",
            "1500/1500 [==============================] - 4s 3ms/step - loss: 0.2578 - accuracy: 0.9067\n",
            "Epoch 3/20\n",
            "1500/1500 [==============================] - 4s 3ms/step - loss: 0.2260 - accuracy: 0.9186\n",
            "Epoch 4/20\n",
            "1500/1500 [==============================] - 4s 3ms/step - loss: 0.2123 - accuracy: 0.9239\n",
            "Epoch 5/20\n",
            "1500/1500 [==============================] - 4s 3ms/step - loss: 0.2013 - accuracy: 0.9274\n",
            "Epoch 6/20\n",
            "1500/1500 [==============================] - 4s 3ms/step - loss: 0.1889 - accuracy: 0.9326\n",
            "Epoch 7/20\n",
            "1500/1500 [==============================] - 4s 3ms/step - loss: 0.1805 - accuracy: 0.9357\n",
            "Epoch 8/20\n",
            "1500/1500 [==============================] - 4s 3ms/step - loss: 0.1708 - accuracy: 0.9389\n",
            "Epoch 9/20\n",
            "1500/1500 [==============================] - 4s 3ms/step - loss: 0.1653 - accuracy: 0.9401\n",
            "Epoch 10/20\n",
            "1500/1500 [==============================] - 4s 2ms/step - loss: 0.1613 - accuracy: 0.9416\n",
            "Epoch 11/20\n",
            "1500/1500 [==============================] - 4s 3ms/step - loss: 0.1598 - accuracy: 0.9433\n",
            "Epoch 12/20\n",
            "1500/1500 [==============================] - 4s 3ms/step - loss: 0.1552 - accuracy: 0.9438\n",
            "Epoch 13/20\n",
            "1500/1500 [==============================] - 4s 3ms/step - loss: 0.1453 - accuracy: 0.9469\n",
            "Epoch 14/20\n",
            "1500/1500 [==============================] - 4s 3ms/step - loss: 0.1497 - accuracy: 0.9478\n",
            "Epoch 15/20\n",
            "1500/1500 [==============================] - 4s 3ms/step - loss: 0.1451 - accuracy: 0.9481\n",
            "Epoch 16/20\n",
            "1500/1500 [==============================] - 4s 2ms/step - loss: 0.1397 - accuracy: 0.9489\n",
            "Epoch 17/20\n",
            "1500/1500 [==============================] - 4s 3ms/step - loss: 0.1379 - accuracy: 0.9502\n",
            "Epoch 18/20\n",
            "1500/1500 [==============================] - 4s 3ms/step - loss: 0.1282 - accuracy: 0.9520\n",
            "Epoch 19/20\n",
            "1500/1500 [==============================] - 4s 3ms/step - loss: 0.1294 - accuracy: 0.9544\n",
            "Epoch 20/20\n",
            "1500/1500 [==============================] - 4s 3ms/step - loss: 0.1303 - accuracy: 0.9554\n"
          ],
          "name": "stdout"
        },
        {
          "output_type": "execute_result",
          "data": {
            "text/plain": [
              "<tensorflow.python.keras.callbacks.History at 0x7fd1b3daf780>"
            ]
          },
          "metadata": {
            "tags": []
          },
          "execution_count": 97
        }
      ]
    },
    {
      "cell_type": "code",
      "metadata": {
        "colab": {
          "base_uri": "https://localhost:8080/"
        },
        "id": "iY59Iia5jdyW",
        "outputId": "4ec03923-54a4-46e2-e25d-8997bf001fad"
      },
      "source": [
        "model.summary()"
      ],
      "execution_count": 99,
      "outputs": [
        {
          "output_type": "stream",
          "text": [
            "Model: \"model_6\"\n",
            "_________________________________________________________________\n",
            "Layer (type)                 Output Shape              Param #   \n",
            "=================================================================\n",
            "input_12 (InputLayer)        [(None, 784)]             0         \n",
            "_________________________________________________________________\n",
            "a (Dense)                    (None, 100)               78500     \n",
            "_________________________________________________________________\n",
            "b (Dense)                    (None, 100)               10100     \n",
            "_________________________________________________________________\n",
            "c (Dense)                    (None, 100)               10100     \n",
            "_________________________________________________________________\n",
            "d (Dense)                    (None, 10)                1010      \n",
            "=================================================================\n",
            "Total params: 99,710\n",
            "Trainable params: 99,710\n",
            "Non-trainable params: 0\n",
            "_________________________________________________________________\n"
          ],
          "name": "stdout"
        }
      ]
    },
    {
      "cell_type": "code",
      "metadata": {
        "colab": {
          "base_uri": "https://localhost:8080/"
        },
        "id": "LO4LDucMqCcZ",
        "outputId": "84d51072-adb1-4fd1-d117-d7ef5f872381"
      },
      "source": [
        "model.layers\r\n",
        "model.layers[3]"
      ],
      "execution_count": 104,
      "outputs": [
        {
          "output_type": "execute_result",
          "data": {
            "text/plain": [
              "[<tensorflow.python.keras.engine.input_layer.InputLayer at 0x7fd1b3d7a438>,\n",
              " <tensorflow.python.keras.layers.core.Dense at 0x7fd1b45e8320>,\n",
              " <tensorflow.python.keras.layers.core.Dense at 0x7fd1b45c5978>,\n",
              " <tensorflow.python.keras.layers.core.Dense at 0x7fd1b45ecef0>,\n",
              " <tensorflow.python.keras.layers.core.Dense at 0x7fd1b45ecdd8>]"
            ]
          },
          "metadata": {
            "tags": []
          },
          "execution_count": 104
        },
        {
          "output_type": "execute_result",
          "data": {
            "text/plain": [
              "<tensorflow.python.keras.layers.core.Dense at 0x7fd1b45ecef0>"
            ]
          },
          "metadata": {
            "tags": []
          },
          "execution_count": 104
        }
      ]
    },
    {
      "cell_type": "code",
      "metadata": {
        "id": "GtHSjCr1pGBt"
      },
      "source": [
        "for layer in model.layers[:4]:\r\n",
        "  layer.trainable = False"
      ],
      "execution_count": 102,
      "outputs": []
    },
    {
      "cell_type": "code",
      "metadata": {
        "colab": {
          "base_uri": "https://localhost:8080/"
        },
        "id": "TbkwAWnqtb3i",
        "outputId": "0463969c-7688-4f6d-e855-da9cbb1c45d2"
      },
      "source": [
        "tf.saved_model.save(model, \"/root/model\")\r\n"
      ],
      "execution_count": 109,
      "outputs": [
        {
          "output_type": "stream",
          "text": [
            "INFO:tensorflow:Assets written to: /root/model/assets\n"
          ],
          "name": "stdout"
        }
      ]
    },
    {
      "cell_type": "code",
      "metadata": {
        "id": "S--ViPu9ryDJ"
      },
      "source": [
        "del(model)"
      ],
      "execution_count": 110,
      "outputs": []
    },
    {
      "cell_type": "code",
      "metadata": {
        "id": "qvr6ez_Itxel"
      },
      "source": [
        "model = keras.models.load_model(\"/root/model\")\r\n",
        " \r\n"
      ],
      "execution_count": 118,
      "outputs": []
    },
    {
      "cell_type": "code",
      "metadata": {
        "colab": {
          "base_uri": "https://localhost:8080/"
        },
        "id": "a-MBHMKIt5zC",
        "outputId": "2bf22f94-b19c-40e0-a941-d98c43f4d559"
      },
      "source": [
        "model.summary()"
      ],
      "execution_count": 119,
      "outputs": [
        {
          "output_type": "stream",
          "text": [
            "Model: \"model_6\"\n",
            "_________________________________________________________________\n",
            "Layer (type)                 Output Shape              Param #   \n",
            "=================================================================\n",
            "input_12 (InputLayer)        [(None, 784)]             0         \n",
            "_________________________________________________________________\n",
            "a (Dense)                    (None, 100)               78500     \n",
            "_________________________________________________________________\n",
            "b (Dense)                    (None, 100)               10100     \n",
            "_________________________________________________________________\n",
            "c (Dense)                    (None, 100)               10100     \n",
            "_________________________________________________________________\n",
            "d (Dense)                    (None, 10)                1010      \n",
            "=================================================================\n",
            "Total params: 99,710\n",
            "Trainable params: 99,710\n",
            "Non-trainable params: 0\n",
            "_________________________________________________________________\n"
          ],
          "name": "stdout"
        }
      ]
    },
    {
      "cell_type": "code",
      "metadata": {
        "id": "aDlI-GvsvWzV"
      },
      "source": [
        "units =100\r\n",
        "input = keras.layers.Input(shape = (784,))\r\n",
        "x = keras.layers.Dense(units = units, activation = \"selu\", name = \"a\")(input)\r\n",
        "x = keras.layers.Dense(units = units, activation = \"selu\", name = \"b\")(x)\r\n",
        "x = keras.layers.Dense(units = units, activation = \"selu\", name = \"c\")(x)\r\n",
        "out = keras.layers.Dense(units = 2, activation = 'softmax', name = \"d\")(x)"
      ],
      "execution_count": 120,
      "outputs": []
    },
    {
      "cell_type": "code",
      "metadata": {
        "id": "cMECAUjZvGyN"
      },
      "source": [
        "model_1 = Model(inputs = [input], outputs = [out])\r\n"
      ],
      "execution_count": 122,
      "outputs": []
    },
    {
      "cell_type": "code",
      "metadata": {
        "colab": {
          "base_uri": "https://localhost:8080/"
        },
        "id": "mQHij-49wCsq",
        "outputId": "d619a12c-eeaa-446d-d54a-a5850420154d"
      },
      "source": [
        "model.layers[1].get_weights()"
      ],
      "execution_count": 124,
      "outputs": [
        {
          "output_type": "execute_result",
          "data": {
            "text/plain": [
              "[array([[ 0.0200765 ,  0.03928816,  0.02216594, ...,  0.08818798,\n",
              "          0.0273401 , -0.01568698],\n",
              "        [ 0.06713179,  0.03235041, -0.04764441, ..., -0.01043751,\n",
              "          0.02157476,  0.10488354],\n",
              "        [-0.33216465,  0.251126  , -0.18246882, ...,  0.3922871 ,\n",
              "          0.297408  ,  0.25099432],\n",
              "        ...,\n",
              "        [ 0.0466023 , -0.1216006 , -0.01429964, ...,  0.26163495,\n",
              "         -0.16638726,  0.5435451 ],\n",
              "        [ 0.30099398, -0.329225  ,  0.16592345, ...,  0.07812608,\n",
              "          0.11534598,  0.227801  ],\n",
              "        [ 0.00073423, -0.07167973, -0.2865736 , ...,  0.09619594,\n",
              "          0.24174218,  0.23470792]], dtype=float32),\n",
              " array([-2.36573309e-01, -2.35280357e-02,  1.04582310e-02, -2.32576556e-03,\n",
              "        -8.40267241e-02,  2.33466566e-01, -1.06402397e-01, -1.96787328e-01,\n",
              "         3.09968114e-01, -4.44545858e-02, -4.51167047e-01,  3.58818546e-02,\n",
              "        -1.44800574e-01, -4.93491516e-02,  9.34602171e-02,  5.79757988e-02,\n",
              "         5.08762226e-02, -2.65835792e-01, -3.08039069e-01,  4.79532667e-02,\n",
              "         1.36974707e-01, -3.87548715e-01, -2.54849275e-03, -4.80393954e-02,\n",
              "        -1.62798569e-01, -8.27219486e-02, -3.23460847e-01, -1.46340683e-01,\n",
              "        -2.45617539e-01,  1.41919721e-02, -2.51842905e-02,  5.81778176e-02,\n",
              "        -1.58366084e-01, -3.04391742e-01, -3.56642157e-02,  1.05345346e-01,\n",
              "         1.18271299e-01,  3.10012721e-04,  5.57139479e-02,  3.10160276e-02,\n",
              "        -6.60514906e-02, -1.16191305e-01,  1.89165622e-01, -5.68736866e-02,\n",
              "        -1.89293727e-01, -1.55061677e-01,  6.49806857e-02, -3.43962833e-02,\n",
              "        -2.26915665e-02, -4.00014371e-02, -2.79851228e-01,  1.09776869e-01,\n",
              "        -1.33164495e-01, -1.86551198e-01,  1.17492512e-01, -1.33705989e-01,\n",
              "         2.36784965e-01, -1.52310461e-01, -3.89957577e-02, -9.90757495e-02,\n",
              "        -8.72297809e-02,  1.20454192e-01, -7.12011661e-03, -2.84063250e-01,\n",
              "         1.70176066e-02, -7.66312256e-02, -2.06487611e-01, -9.64970440e-02,\n",
              "         1.23267680e-01,  1.02087945e-01, -1.82087887e-02,  1.55812979e-01,\n",
              "        -9.46553797e-02,  1.59641877e-01, -1.54173642e-01, -1.66741639e-01,\n",
              "         4.94437926e-02,  6.00458197e-02,  1.59994185e-01, -2.07490966e-01,\n",
              "        -5.82503267e-02, -4.26150769e-01,  7.87257589e-03, -1.08489349e-01,\n",
              "        -8.37747827e-02, -3.72040898e-01, -7.47925043e-02,  1.15004189e-01,\n",
              "        -2.64083058e-01, -2.02152833e-01, -2.20725819e-01, -1.76568568e-01,\n",
              "         1.53684646e-01,  4.53351885e-02, -8.63949284e-02,  1.10477298e-01,\n",
              "        -3.79032902e-02, -3.22115906e-02,  6.06131144e-02, -9.94134247e-02],\n",
              "       dtype=float32)]"
            ]
          },
          "metadata": {
            "tags": []
          },
          "execution_count": 124
        }
      ]
    },
    {
      "cell_type": "code",
      "metadata": {
        "id": "q3qaXCMzvllI"
      },
      "source": [
        "for r in range(4):\r\n",
        "  model_1.layers[r].set_weights(model.layers[r].get_weights())"
      ],
      "execution_count": 125,
      "outputs": []
    },
    {
      "cell_type": "code",
      "metadata": {
        "id": "f41bq_QWwh5b"
      },
      "source": [
        "model_1.compile(loss = \"sparse_categorical_crossentropy\", metrics = \"accuracy\")"
      ],
      "execution_count": 127,
      "outputs": []
    },
    {
      "cell_type": "code",
      "metadata": {
        "colab": {
          "base_uri": "https://localhost:8080/"
        },
        "id": "Z3Pg6zMZp8Xf",
        "outputId": "76d71228-9fb6-41a8-b9f0-4c70cbbf105d"
      },
      "source": [
        "model_1.fit(ss_train,ss_y_train,epochs = 10)\r\n"
      ],
      "execution_count": 134,
      "outputs": [
        {
          "output_type": "stream",
          "text": [
            "Epoch 1/10\n",
            "375/375 [==============================] - 1s 2ms/step - loss: 0.0316 - accuracy: 0.9933\n",
            "Epoch 2/10\n",
            "375/375 [==============================] - 1s 3ms/step - loss: 0.0032 - accuracy: 0.9995\n",
            "Epoch 3/10\n",
            "375/375 [==============================] - 1s 2ms/step - loss: 0.0031 - accuracy: 0.9996\n",
            "Epoch 4/10\n",
            "375/375 [==============================] - 1s 2ms/step - loss: 0.0013 - accuracy: 0.9998\n",
            "Epoch 5/10\n",
            "375/375 [==============================] - 1s 2ms/step - loss: 8.0996e-04 - accuracy: 0.9998\n",
            "Epoch 6/10\n",
            "375/375 [==============================] - 1s 2ms/step - loss: 2.0326e-04 - accuracy: 0.9999\n",
            "Epoch 7/10\n",
            "375/375 [==============================] - 1s 3ms/step - loss: 1.9579e-05 - accuracy: 1.0000\n",
            "Epoch 8/10\n",
            "375/375 [==============================] - 1s 2ms/step - loss: 7.9210e-04 - accuracy: 0.9999\n",
            "Epoch 9/10\n",
            "375/375 [==============================] - 1s 2ms/step - loss: 4.5399e-09 - accuracy: 1.0000\n",
            "Epoch 10/10\n",
            "375/375 [==============================] - 1s 2ms/step - loss: 1.9868e-10 - accuracy: 1.0000\n"
          ],
          "name": "stdout"
        },
        {
          "output_type": "execute_result",
          "data": {
            "text/plain": [
              "<tensorflow.python.keras.callbacks.History at 0x7fd1b319a5c0>"
            ]
          },
          "metadata": {
            "tags": []
          },
          "execution_count": 134
        }
      ]
    },
    {
      "cell_type": "code",
      "metadata": {
        "id": "qan2ImrxrY3t"
      },
      "source": [
        ""
      ],
      "execution_count": null,
      "outputs": []
    }
  ]
}