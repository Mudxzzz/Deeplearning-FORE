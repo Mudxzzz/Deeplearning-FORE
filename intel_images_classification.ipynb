{
  "nbformat": 4,
  "nbformat_minor": 0,
  "metadata": {
    "colab": {
      "name": "intel_images_classification.ipynb",
      "private_outputs": true,
      "provenance": [],
      "collapsed_sections": [],
      "authorship_tag": "ABX9TyN3+AIoRP2ehfYMYeVy18Rs",
      "include_colab_link": true
    },
    "kernelspec": {
      "name": "python3",
      "display_name": "Python 3"
    },
    "language_info": {
      "name": "python"
    },
    "accelerator": "GPU"
  },
  "cells": [
    {
      "cell_type": "markdown",
      "metadata": {
        "id": "view-in-github",
        "colab_type": "text"
      },
      "source": [
        "<a href=\"https://colab.research.google.com/github/harnalashok/deeplearning/blob/main/intel_images_classification.ipynb\" target=\"_parent\"><img src=\"https://colab.research.google.com/assets/colab-badge.svg\" alt=\"Open In Colab\"/></a>"
      ]
    },
    {
      "cell_type": "code",
      "metadata": {
        "id": "mTy5lB9w_wQ9"
      },
      "source": [
        "# Last amended: 16th October, 2021\n",
        "# Ref: https://www.kaggle.com/puneet6060/intel-image-classification\n",
        "#     https://www.kaggle.com/accountstatus/using-keras-cnn-on-intel-data"
      ],
      "execution_count": null,
      "outputs": []
    },
    {
      "cell_type": "code",
      "metadata": {
        "id": "MW-kCQs1_yDm"
      },
      "source": [
        "import pandas as pd\n",
        "import numpy as np\n",
        "\n",
        "import tensorflow as tf\n",
        "from tensorflow import keras\n",
        "from tensorflow.keras.models import Sequential\n",
        "from tensorflow.keras.layers import Dense,Convolution2D,MaxPooling2D,Flatten,Conv2D,Dropout\n",
        "from tensorflow.keras.preprocessing.image import ImageDataGenerator\n",
        "\n",
        "from PIL import Image\n",
        "import matplotlib.pyplot as plt\n",
        "import os\n"
      ],
      "execution_count": null,
      "outputs": []
    },
    {
      "cell_type": "code",
      "metadata": {
        "id": "EEfVBPez_2hm"
      },
      "source": [
        "# Creating the model\n",
        "\n",
        "model=Sequential()\n",
        "model.add(Convolution2D(32,(3,3),input_shape=(64,64,3),activation='relu'))\n",
        "model.add(MaxPooling2D(pool_size=(2,2)))\n",
        "model.add(Flatten())\n",
        "model.add(Dense(300,activation='relu'))\n",
        "model.add(Dense(units=6,activation='softmax'))"
      ],
      "execution_count": null,
      "outputs": []
    },
    {
      "cell_type": "code",
      "metadata": {
        "id": "zGMlUeax_-w9"
      },
      "source": [
        "model.summary()"
      ],
      "execution_count": null,
      "outputs": []
    },
    {
      "cell_type": "code",
      "metadata": {
        "id": "TewALAh4_7o2"
      },
      "source": [
        "tf.keras.utils.plot_model(\n",
        "                           model,\n",
        "                           to_file=\"model.png\",\n",
        "                           show_shapes=False,\n",
        "                           show_layer_names=True,\n",
        "                           rankdir=\"TB\",\n",
        "                           expand_nested=False\n",
        "                          )"
      ],
      "execution_count": null,
      "outputs": []
    },
    {
      "cell_type": "code",
      "metadata": {
        "id": "_3GliwOvACaV"
      },
      "source": [
        "model.compile(\n",
        "              optimizer= 'adam',\n",
        "              loss= 'categorical_crossentropy',\n",
        "              metrics= ['accuracy']\n",
        "              )"
      ],
      "execution_count": null,
      "outputs": []
    },
    {
      "cell_type": "code",
      "metadata": {
        "id": "FFLyO5frEfX2"
      },
      "source": [
        "train_datagen = ImageDataGenerator(\n",
        "                                   rescale = 1./255, \n",
        "                                   #shear_range = 0.2, \n",
        "                                   #zoom_range = 0.2, \n",
        "                                   horizontal_flip = True\n",
        "                                   )"
      ],
      "execution_count": null,
      "outputs": []
    },
    {
      "cell_type": "code",
      "metadata": {
        "id": "-v_Lp4YaJkgP"
      },
      "source": [
        "# Mount gdrive\n",
        "from google.colab import drive\n",
        "drive.mount('/gdrive')"
      ],
      "execution_count": null,
      "outputs": []
    },
    {
      "cell_type": "code",
      "metadata": {
        "id": "Eeli1fjCEkh2"
      },
      "source": [
        "train_path = '/gdrive/MyDrive/Colab_data_files/intel_images/seg_train' \n",
        "training_set = train_datagen.flow_from_directory(\n",
        "                                                  train_path,\n",
        "                                                  target_size = (64, 64), \n",
        "                                                  batch_size = 32\n",
        "                                                 )\n"
      ],
      "execution_count": null,
      "outputs": []
    },
    {
      "cell_type": "code",
      "metadata": {
        "id": "j_HnD_XJAGEd"
      },
      "source": [
        "test_path = '/gdrive/MyDrive/Colab_data_files/intel_images/seg_test'\n",
        "test_datagen = ImageDataGenerator(rescale = 1./255)\n",
        "test_set = test_datagen.flow_from_directory(\n",
        "                                            test_path,\n",
        "                                            target_size = (64, 64),\n",
        "                                            batch_size = 32\n",
        "                                            )"
      ],
      "execution_count": null,
      "outputs": []
    },
    {
      "cell_type": "code",
      "metadata": {
        "id": "Ei3aZCHuALW1"
      },
      "source": [
        "len(set(training_set.classes))"
      ],
      "execution_count": null,
      "outputs": []
    },
    {
      "cell_type": "code",
      "metadata": {
        "id": "HYxWW3JtAN11"
      },
      "source": [
        "fitted_model = model.fit_generator(\n",
        "                                    training_set,\n",
        "                                    steps_per_epoch = 50,\n",
        "                                    epochs = 5,\n",
        "                                    validation_data = test_set,\n",
        "                                    validation_steps = 10\n",
        "                                   )"
      ],
      "execution_count": null,
      "outputs": []
    },
    {
      "cell_type": "code",
      "metadata": {
        "id": "IkWCf56Xh8AS"
      },
      "source": [
        "! pip install pyyaml h5py"
      ],
      "execution_count": null,
      "outputs": []
    },
    {
      "cell_type": "code",
      "metadata": {
        "id": "phxRTDfkic0Y"
      },
      "source": [
        "from tensorflow.keras.models import save_model"
      ],
      "execution_count": null,
      "outputs": []
    },
    {
      "cell_type": "code",
      "metadata": {
        "id": "remROqySjBbx"
      },
      "source": [
        "! mkdir /gdrive/MyDrive/Colab_data_files/intelmodel"
      ],
      "execution_count": null,
      "outputs": []
    },
    {
      "cell_type": "code",
      "metadata": {
        "id": "V5YCPDtfirQX"
      },
      "source": [
        "pathToSave = '/gdrive/MyDrive/Colab_data_files/intelmodel'\n",
        "model.save(pathToSave)"
      ],
      "execution_count": null,
      "outputs": []
    },
    {
      "cell_type": "code",
      "metadata": {
        "id": "CdZULtLsjVGY"
      },
      "source": [
        "mymodel = keras.models.load_model(pathToSave)"
      ],
      "execution_count": null,
      "outputs": []
    },
    {
      "cell_type": "code",
      "metadata": {
        "id": "7icmKtjDruWP"
      },
      "source": [
        "image_path_forest = \"/gdrive/MyDrive/Colab_data_files/intel_images/seg_train/forest/10007.jpg\"\n",
        "image_path_building = \"/gdrive/MyDrive/Colab_data_files/intel_images/seg_train/buildings/10006.jpg\"\n",
        "image_path_glacier = \"/gdrive/MyDrive/Colab_data_files/intel_images/seg_train/glacier/10.jpg\"\n",
        "image_path_mountain = \"/gdrive/MyDrive/Colab_data_files/intel_images/seg_train/mountain/10008.jpg\"\n",
        "image_path_sea = \"/gdrive/MyDrive/Colab_data_files/intel_images/seg_train/sea/10016.jpg\"\n",
        "image_path_street = \"/gdrive/MyDrive/Colab_data_files/intel_images/seg_train/street/10015.jpg\""
      ],
      "execution_count": null,
      "outputs": []
    },
    {
      "cell_type": "code",
      "metadata": {
        "id": "vQFjID5ww_d5"
      },
      "source": [
        ""
      ],
      "execution_count": null,
      "outputs": []
    },
    {
      "cell_type": "code",
      "metadata": {
        "id": "5sSbasVQqg0P"
      },
      "source": [
        "from tensorflow.keras.utils import load_img\n",
        "from tensorflow.keras.preprocessing.image import img_to_array\n",
        "def predict(image_path): \n",
        "    model = keras.models.load_model(pathToSave)\n",
        "    image = load_img(image_path, target_size=(64, 64))\n",
        "    image = img_to_array(image)\n",
        "    image = image.reshape((1, image.shape[0], image.shape[1], image.shape[2]))\n",
        "    #image = preprocess_input(image)\n",
        "    yhat = model.predict(image)\n",
        "    classes_x=np.argmax(yhat,axis=1)\n",
        "    l=os.listdir(train_path)\n",
        "    l.sort()\n",
        "    return l[classes_x[0]]"
      ],
      "execution_count": null,
      "outputs": []
    },
    {
      "cell_type": "code",
      "metadata": {
        "id": "C7BUaMD4sEHf"
      },
      "source": [
        "predict(image_path_street)"
      ],
      "execution_count": null,
      "outputs": []
    },
    {
      "cell_type": "code",
      "metadata": {
        "id": "SldCh8reAQrV"
      },
      "source": [
        "plt.plot([i for i in range(20)],fitted_model.history['accuracy'])\n",
        "plt.plot([i for i in range(20)],fitted_model.history['loss'])"
      ],
      "execution_count": null,
      "outputs": []
    },
    {
      "cell_type": "code",
      "metadata": {
        "id": "vydBl93JAT4N"
      },
      "source": [
        "def image_prediction(path):\n",
        "    imm=Image.open(path)\n",
        "    imm=imm.resize((64,64))\n",
        "    x=np.array(imm)\n",
        "    x=np.expand_dims(x,axis=0)\n",
        "    classs=model.predict_classes(x)\n",
        "    l=os.listdir('../input/intel-image-classification/seg_train/seg_train')\n",
        "    l.sort()\n",
        "    return l[classs[0]]"
      ],
      "execution_count": null,
      "outputs": []
    }
  ]
}