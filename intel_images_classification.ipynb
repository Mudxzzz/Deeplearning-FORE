{
  "nbformat": 4,
  "nbformat_minor": 0,
  "metadata": {
    "colab": {
      "name": "intel_images_classification.ipynb",
      "private_outputs": true,
      "provenance": [],
      "collapsed_sections": [],
      "authorship_tag": "ABX9TyOdhwgmaysjDcqRGQTH2orC",
      "include_colab_link": true
    },
    "kernelspec": {
      "name": "python3",
      "display_name": "Python 3"
    },
    "language_info": {
      "name": "python"
    }
  },
  "cells": [
    {
      "cell_type": "markdown",
      "metadata": {
        "id": "view-in-github",
        "colab_type": "text"
      },
      "source": [
        "<a href=\"https://colab.research.google.com/github/harnalashok/deeplearning/blob/main/intel_images_classification.ipynb\" target=\"_parent\"><img src=\"https://colab.research.google.com/assets/colab-badge.svg\" alt=\"Open In Colab\"/></a>"
      ]
    },
    {
      "cell_type": "code",
      "metadata": {
        "id": "mTy5lB9w_wQ9"
      },
      "source": [
        "# Last amended: 19th October, 2021\n",
        "# Ref: https://www.kaggle.com/puneet6060/intel-image-classification\n",
        "#     https://www.kaggle.com/accountstatus/using-keras-cnn-on-intel-data\n",
        "#\n",
        "#  Objectives:\n",
        "#            a. Build a simple CNN model for image classfication\n",
        "#            b. Save the model, host it on github and use it for\n",
        "#               developing a webapp.\n",
        "#            c. webapp file is: imgclass_app.py\n",
        "#            d. Images are stored on gdrive under:\n",
        "#                 ..Colab_data_files/intel_images\n",
        "#            e. And saved model (.h5 file) under:\n",
        "#                 ..Colab_data_files/intelmodel\n"
      ],
      "execution_count": null,
      "outputs": []
    },
    {
      "cell_type": "code",
      "metadata": {
        "id": "i9xkJq-BE1xw"
      },
      "source": [
        "# 0.0 We need to install h5py to save our model:\n",
        "\n",
        "! pip install pyyaml h5py\n"
      ],
      "execution_count": null,
      "outputs": []
    },
    {
      "cell_type": "code",
      "metadata": {
        "id": "KxMVY8O6uCr9"
      },
      "source": [
        "# 0.1 Display outputs of multiple commands from a cell\n",
        "from IPython.core.interactiveshell import InteractiveShell\n",
        "InteractiveShell.ast_node_interactivity = \"all\"\n"
      ],
      "execution_count": null,
      "outputs": []
    },
    {
      "cell_type": "markdown",
      "metadata": {
        "id": "81nYqIM1FpAe"
      },
      "source": [
        "## Call libraries"
      ]
    },
    {
      "cell_type": "code",
      "metadata": {
        "id": "MW-kCQs1_yDm"
      },
      "source": [
        "# 1.0 Call libraries\n",
        "#import pandas as pd\n",
        "import numpy as np\n",
        "\n",
        "# 1.1\n",
        "import tensorflow as tf\n",
        "from tensorflow import keras\n",
        "from tensorflow.keras.models import Sequential\n",
        "from tensorflow.keras.callbacks import ModelCheckpoint\n",
        "from tensorflow.keras.models import save_model\n",
        "from tensorflow.keras.layers import Dense,Convolution2D,MaxPooling2D,Flatten,Conv2D,Dropout\n",
        "from tensorflow.keras.preprocessing.image import ImageDataGenerator\n",
        "from tensorflow.keras.utils import load_img\n",
        "from tensorflow.keras.preprocessing.image import img_to_array\n",
        "\n",
        "# 1.2\n",
        "from PIL import Image\n",
        "import matplotlib.pyplot as plt\n",
        "import os\n"
      ],
      "execution_count": null,
      "outputs": []
    },
    {
      "cell_type": "markdown",
      "metadata": {
        "id": "GGcQEt9FFr1F"
      },
      "source": [
        "## Design model"
      ]
    },
    {
      "cell_type": "code",
      "metadata": {
        "id": "EEfVBPez_2hm"
      },
      "source": [
        "# 2.0 Creating a simple sequential model\n",
        "\n",
        "model=Sequential()\n",
        "model.add(Convolution2D(\n",
        "                        32,\n",
        "                        (3,3),\n",
        "                        input_shape=(64,64,3),\n",
        "                        activation='relu'\n",
        "                        )\n",
        "           )\n",
        "\n",
        "model.add(MaxPooling2D(pool_size=(2,2)))\n",
        "\n",
        "model.add(Convolution2D( 64,\n",
        "                        (3,3),\n",
        "                        activation='relu'\n",
        "                        )\n",
        "           )\n",
        "\n",
        "model.add(MaxPooling2D(pool_size=(2,2)))\n",
        "\n",
        "model.add(Convolution2D( 128,\n",
        "                        (3,3),\n",
        "                        activation='relu'\n",
        "                        )\n",
        "           )\n",
        "\n",
        "model.add(MaxPooling2D(pool_size=(2,2)))\n",
        "model.add(Flatten())\n",
        "model.add(Dense(300,activation='relu'))\n",
        "model.add(Dropout(0.5))\n",
        "model.add(Dense(units=6,activation='softmax'))"
      ],
      "execution_count": null,
      "outputs": []
    },
    {
      "cell_type": "code",
      "metadata": {
        "id": "zGMlUeax_-w9"
      },
      "source": [
        "# 2.1 Get model summary\n",
        "model.summary()"
      ],
      "execution_count": null,
      "outputs": []
    },
    {
      "cell_type": "code",
      "metadata": {
        "id": "TewALAh4_7o2"
      },
      "source": [
        "# 2.2 Plot model:\n",
        "\n",
        "tf.keras.utils.plot_model(\n",
        "                           model,\n",
        "                           to_file=\"model.png\",\n",
        "                           show_shapes=False,\n",
        "                           show_layer_names=True,\n",
        "                           rankdir=\"TB\",\n",
        "                           expand_nested=False\n",
        "                          )"
      ],
      "execution_count": null,
      "outputs": []
    },
    {
      "cell_type": "code",
      "metadata": {
        "id": "_3GliwOvACaV"
      },
      "source": [
        "# 2.3 Compile model:\n",
        "\n",
        "model.compile(\n",
        "              optimizer= 'adam',\n",
        "              loss= 'categorical_crossentropy',\n",
        "              metrics= ['accuracy']\n",
        "              )"
      ],
      "execution_count": null,
      "outputs": []
    },
    {
      "cell_type": "markdown",
      "metadata": {
        "id": "l8bAbkwnFxyl"
      },
      "source": [
        "## Image augmentation"
      ]
    },
    {
      "cell_type": "code",
      "metadata": {
        "id": "FFLyO5frEfX2"
      },
      "source": [
        "# 3.0 Instantiate ImageDataGenerator:\n",
        "\n",
        "train_datagen = ImageDataGenerator(\n",
        "                                   rescale = 1./255, \n",
        "                                   shear_range = 0.2,    # Increases delay\n",
        "                                   zoom_range = 0.2,     # increases delay\n",
        "                                   horizontal_flip = True\n",
        "                                   )"
      ],
      "execution_count": null,
      "outputs": []
    },
    {
      "cell_type": "code",
      "metadata": {
        "id": "-v_Lp4YaJkgP"
      },
      "source": [
        "# 3.1 Mount gdrive\n",
        "from google.colab import drive\n",
        "drive.mount('/gdrive')"
      ],
      "execution_count": null,
      "outputs": []
    },
    {
      "cell_type": "code",
      "metadata": {
        "id": "O5Zq_E6lDaB0"
      },
      "source": [
        "# 3.2 Where is our train and test data:\n",
        "\n",
        "train_path_disk = '/gdrive/MyDrive/Colab_data_files/intel_images/seg_train' \n",
        "test_path_disk = '/gdrive/MyDrive/Colab_data_files/intel_images/seg_test'"
      ],
      "execution_count": null,
      "outputs": []
    },
    {
      "cell_type": "code",
      "metadata": {
        "id": "_4g-hJiNaclM"
      },
      "source": [
        "# 3.3 Transfer the train and test data to VM for\n",
        "#     speeding up analysis:\n",
        "\n",
        "! mkdir /content/train/\n",
        "! mkdir /content/test/\n"
      ],
      "execution_count": null,
      "outputs": []
    },
    {
      "cell_type": "code",
      "metadata": {
        "id": "LKy464vBvHyY"
      },
      "source": [
        "# 3.4 Now transfer zipped files\n",
        "#     After transfer, modeling is very fast\n",
        "%%time\n",
        "\n",
        "! cp -R /gdrive/MyDrive/Colab_data_files/intel_images/seg_train.zip  /content/train/\n",
        "! cp -R /gdrive/MyDrive/Colab_data_files/intel_images/seg_test.zip  /content/test/"
      ],
      "execution_count": null,
      "outputs": []
    },
    {
      "cell_type": "code",
      "metadata": {
        "id": "A5qdnSSMx0yC"
      },
      "source": [
        "# 3.4.1 Check contents:\n",
        "! ls /content/train\n",
        "! ls /content/test"
      ],
      "execution_count": null,
      "outputs": []
    },
    {
      "cell_type": "code",
      "metadata": {
        "id": "HSik0kRKREoO"
      },
      "source": [
        "# 3.4.2 Unzip files will be in the current folder \n",
        "#       Current folder is /content/\n",
        "#       Check with !pwd \n",
        "\n",
        "! unzip /content/train/seg_train.zip\n",
        "! unzip /content/test/seg_test.zip"
      ],
      "execution_count": null,
      "outputs": []
    },
    {
      "cell_type": "code",
      "metadata": {
        "id": "Y_xFkIvHbc-k"
      },
      "source": [
        "# 3.5 Train/test paths of data:\n",
        "\n",
        "train_path = '/content/seg_train' \n",
        "test_path = '/content/seg_test'"
      ],
      "execution_count": null,
      "outputs": []
    },
    {
      "cell_type": "code",
      "metadata": {
        "id": "Eeli1fjCEkh2"
      },
      "source": [
        "# 3.6 Create training data generator:\n",
        "\n",
        "training_set = train_datagen.flow_from_directory(\n",
        "                                                  train_path,\n",
        "                                                  target_size = (64, 64), \n",
        "                                                  batch_size = 32\n",
        "                                                 )\n"
      ],
      "execution_count": null,
      "outputs": []
    },
    {
      "cell_type": "code",
      "metadata": {
        "id": "j_HnD_XJAGEd"
      },
      "source": [
        "# 3.7 This is our test data generator:\n",
        "\n",
        "test_datagen = ImageDataGenerator(rescale = 1./255)\n",
        "test_set = test_datagen.flow_from_directory(\n",
        "                                            test_path,\n",
        "                                            target_size = (64, 64),\n",
        "                                            batch_size = 32\n",
        "                                            )"
      ],
      "execution_count": null,
      "outputs": []
    },
    {
      "cell_type": "code",
      "metadata": {
        "id": "Ei3aZCHuALW1"
      },
      "source": [
        "# 3.8 How many classes are there:\n",
        "\n",
        "len(set(training_set.classes))\n",
        "\n",
        "# 3.9 And which ones:\n",
        "\n",
        "l=os.listdir(train_path)\n",
        "l.sort()\n",
        "l          # ['buildings', 'forest', 'glacier', 'mountain', 'sea', 'street']"
      ],
      "execution_count": null,
      "outputs": []
    },
    {
      "cell_type": "markdown",
      "metadata": {
        "id": "Aj7eARFnGdcu"
      },
      "source": [
        "## Train model"
      ]
    },
    {
      "cell_type": "code",
      "metadata": {
        "id": "rubU_OJL5w5R"
      },
      "source": [
        "# 4.0 Delete folder(s) checkpoint\n",
        "#     from /tmp where best model-wts\n",
        "#     are stored:\n",
        "\n",
        "! rm -r -f /tmp/checkpoint\n",
        "! rm -r -f /tmp/checkpoint*"
      ],
      "execution_count": null,
      "outputs": []
    },
    {
      "cell_type": "code",
      "metadata": {
        "id": "CidmBhf0wN2D"
      },
      "source": [
        "# 4.1 Define a callback function\n",
        "#     to store best possible weights:\n",
        "\n",
        "checkpoint_filepath = '/tmp/checkpoint'\n",
        "model_checkpoint_callback = ModelCheckpoint(\n",
        "                                            filepath=checkpoint_filepath,\n",
        "                                            save_weights_only=True,\n",
        "                                            monitor='val_accuracy',\n",
        "                                            mode='max',\n",
        "                                            save_best_only=True\n",
        "                                            )"
      ],
      "execution_count": null,
      "outputs": []
    },
    {
      "cell_type": "code",
      "metadata": {
        "id": "HYxWW3JtAN11"
      },
      "source": [
        "# 4.2 Fit the model:\n",
        "fitted_model = model.fit(\n",
        "                           training_set,\n",
        "                           steps_per_epoch = 100,      # select 50, if short of time\n",
        "                           epochs = 70,                # Select 5, if short of time\n",
        "                           validation_data = test_set,\n",
        "                           callbacks=[model_checkpoint_callback],\n",
        "                           validation_steps = 20\n",
        "                         )"
      ],
      "execution_count": null,
      "outputs": []
    },
    {
      "cell_type": "markdown",
      "metadata": {
        "id": "1UcfztI6yNti"
      },
      "source": [
        "## Save best weights as h5 file\n",
        "Save best weights stored by checkpoint callbacks to disk\n"
      ]
    },
    {
      "cell_type": "code",
      "metadata": {
        "id": "GZYngx8rzEmZ"
      },
      "source": [
        "# 5.1 Folder where trained model will be saved in gdrive:\n",
        "\n",
        "! mkdir /gdrive/MyDrive/Colab_data_files/intelmodel"
      ],
      "execution_count": null,
      "outputs": []
    },
    {
      "cell_type": "code",
      "metadata": {
        "id": "KXBqaOXqzMH5"
      },
      "source": [
        "# 5.2 This will be our model path and file:\n",
        "\n",
        "pathToSave = \"/gdrive/MyDrive/Colab_data_files/intelmodel/\""
      ],
      "execution_count": null,
      "outputs": []
    },
    {
      "cell_type": "code",
      "metadata": {
        "id": "4fjUPt0CyXTh"
      },
      "source": [
        "# 5.3 The model weights (that are considered \n",
        "#      the best) are loaded into the model.\n",
        "#       (But model must exist aprior):\n",
        "\n",
        "model.load_weights(checkpoint_filepath)"
      ],
      "execution_count": null,
      "outputs": []
    },
    {
      "cell_type": "code",
      "metadata": {
        "id": "Po1BE4DJzk-J"
      },
      "source": [
        "# 5.4 Now that model is loaded with best weights, \n",
        "#     we save the complete model. It will be \n",
        "#     saved to pwd (present working directory)\n",
        "#     ie /content\n",
        "\n",
        "model.save(\"intel_images_model.h5\")"
      ],
      "execution_count": null,
      "outputs": []
    },
    {
      "cell_type": "code",
      "metadata": {
        "id": "XH5RLgz2Ve3u"
      },
      "source": [
        "# 5.5 Transfer it to gdrive:\n",
        "! rm /gdrive/MyDrive/Colab_data_files/intelmodel/intel_images_model.h5 \n",
        "! cp /content/intel_images_model.h5  /gdrive/MyDrive/Colab_data_files/intelmodel/"
      ],
      "execution_count": null,
      "outputs": []
    },
    {
      "cell_type": "code",
      "metadata": {
        "id": "oRXPlB6m-p7M"
      },
      "source": [
        "# 5.6  Load the saved model:\n",
        "\n",
        "pathToSave = \"/gdrive/MyDrive/Colab_data_files/intelmodel/\"\n",
        "mymodel = keras.models.load_model(pathToSave+\"intel_images_model.h5\")"
      ],
      "execution_count": null,
      "outputs": []
    },
    {
      "cell_type": "markdown",
      "metadata": {
        "id": "K9fQ7qDlGgNm"
      },
      "source": [
        "## Save model directly"
      ]
    },
    {
      "cell_type": "code",
      "metadata": {
        "id": "V5YCPDtfirQX"
      },
      "source": [
        "# 6.0 Else, forget checkpointing, save the 'last' complete model \n",
        "#      as it is:\n",
        "\n",
        "#model.save(pathToSave + 'intel_images_model.h5')"
      ],
      "execution_count": null,
      "outputs": []
    },
    {
      "cell_type": "code",
      "metadata": {
        "id": "nTNHQS1o-zd6"
      },
      "source": [
        "# 6.1  Load the saved model:\n",
        "\n",
        "#pathToSave = \"/gdrive/MyDrive/Colab_data_files/intelmodel/\"\n",
        "#mymodel = keras.models.load_model(pathToSave+\"intel_images_model.h5\")"
      ],
      "execution_count": null,
      "outputs": []
    },
    {
      "cell_type": "code",
      "metadata": {
        "id": "7V63kSa8HX2b"
      },
      "source": [
        "# 6.1.1:\n",
        "\n",
        "! rm -r /content/saved_model"
      ],
      "execution_count": null,
      "outputs": []
    },
    {
      "cell_type": "code",
      "metadata": {
        "id": "-zvUyjhLDXGN"
      },
      "source": [
        "# 6.3 Create a folder in pwd (/content)\n",
        "#      Save the entire model within it.\n",
        "#       Model folder is: my_model\n",
        "\n",
        "!mkdir -p /content/saved_model"
      ],
      "execution_count": null,
      "outputs": []
    },
    {
      "cell_type": "code",
      "metadata": {
        "id": "_fbtpdYbDaxM"
      },
      "source": [
        "# 6.4\n",
        "\n",
        "model.save('saved_model/my_model')"
      ],
      "execution_count": null,
      "outputs": []
    },
    {
      "cell_type": "code",
      "metadata": {
        "id": "2PRGYq-uDd0L"
      },
      "source": [
        "# 6.5 Delete any existing model from gdrive, if it exists:\n",
        "\n",
        "! rm -r /gdrive/MyDrive/Colab_data_files/intelmodel/saved_model"
      ],
      "execution_count": null,
      "outputs": []
    },
    {
      "cell_type": "code",
      "metadata": {
        "id": "CCCi-UryF7YD"
      },
      "source": [
        "# 6.6 Check:\n",
        "\n",
        "! ls -la /gdrive/MyDrive/Colab_data_files/intelmodel/"
      ],
      "execution_count": null,
      "outputs": []
    },
    {
      "cell_type": "code",
      "metadata": {
        "id": "_NxAllctDgmt"
      },
      "source": [
        "# 6.7 Next copy the saved model from VM to gdrive:\n",
        "#     First create the folder, if it does not exist:\n",
        "\n",
        "! mkdir /gdrive/MyDrive/Colab_data_files/intelmodel"
      ],
      "execution_count": null,
      "outputs": []
    },
    {
      "cell_type": "code",
      "metadata": {
        "id": "9XC-DfMODj-T"
      },
      "source": [
        "# 6.8 Now copy it. Wait for some time\n",
        "#     as copying to gdrive takes time\n",
        "\n",
        "! cp -r /content/saved_model  /gdrive/MyDrive/Colab_data_files/intelmodel/"
      ],
      "execution_count": null,
      "outputs": []
    },
    {
      "cell_type": "code",
      "metadata": {
        "id": "X0-7Iqo6GHh5"
      },
      "source": [
        "# 6.9 Check again:\n",
        "! ls -la /gdrive/MyDrive/Colab_data_files/intelmodel/"
      ],
      "execution_count": null,
      "outputs": []
    },
    {
      "cell_type": "code",
      "metadata": {
        "id": "8yLt-2p_GejW"
      },
      "source": [
        "# 6.10 Get size of saved_model folder:\n",
        "\n",
        "! du /gdrive/MyDrive/Colab_data_files/intelmodel/saved_model  "
      ],
      "execution_count": null,
      "outputs": []
    },
    {
      "cell_type": "code",
      "metadata": {
        "id": "gs8dCp6iG_Gf"
      },
      "source": [
        "# 6.11 Get summary size\n",
        "! du /gdrive/MyDrive/Colab_data_files/intelmodel/saved_model  -sh"
      ],
      "execution_count": null,
      "outputs": []
    },
    {
      "cell_type": "code",
      "metadata": {
        "id": "kDMwuazDDnwl"
      },
      "source": [
        "# 6.12 You can load this saved model as:\n",
        "\n",
        "new_model = keras.models.load_model('/content/saved_model/my_model')\n",
        "mymodel = new_model"
      ],
      "execution_count": null,
      "outputs": []
    },
    {
      "cell_type": "markdown",
      "metadata": {
        "id": "jBbvZ4aHsjH_"
      },
      "source": [
        "## Save best weights model as a folder\n",
        "Not as a h5 file. Good for Heroku "
      ]
    },
    {
      "cell_type": "code",
      "metadata": {
        "id": "x6v7k1h5A7R8"
      },
      "source": [
        "# 7.0 Delete earlier saved model, if any:\n",
        "\n",
        "! rm -r -f /content/saved_model"
      ],
      "execution_count": null,
      "outputs": []
    },
    {
      "cell_type": "code",
      "metadata": {
        "id": "Lxik3KXeBWYp"
      },
      "source": [
        "#  7.1 The model weights (that are considered \n",
        "#       the best) are loaded into the model.\n",
        "#        (But model must exist aprior):\n",
        "\n",
        "model.load_weights(checkpoint_filepath)"
      ],
      "execution_count": null,
      "outputs": []
    },
    {
      "cell_type": "code",
      "metadata": {
        "id": "MoKiKoD8-Dz_"
      },
      "source": [
        "# 7.2 Create a folder in pwd (/content)\n",
        "#      Save the entire model within it.\n",
        "#       Model folder is: my_model\n",
        "\n",
        "!mkdir -p /content/saved_model"
      ],
      "execution_count": null,
      "outputs": []
    },
    {
      "cell_type": "code",
      "metadata": {
        "id": "3OBHgc6csTQX"
      },
      "source": [
        "# 7.2.1\n",
        "\n",
        "model.save('saved_model/my_model')"
      ],
      "execution_count": null,
      "outputs": []
    },
    {
      "cell_type": "code",
      "metadata": {
        "id": "A8_UGn9hB-Z2"
      },
      "source": [
        "# 7.3 Delete existing model from gdrive, if it exists:\n",
        "\n",
        "! rm -r /gdrive/MyDrive/Colab_data_files/intelmodel/saved_model"
      ],
      "execution_count": null,
      "outputs": []
    },
    {
      "cell_type": "code",
      "metadata": {
        "id": "eyTfaGaSsaLc"
      },
      "source": [
        "# 7.4 Next copy the saved model from VM to gdrive:\n",
        "#     First create the folder, if it does not exist:\n",
        "\n",
        "! mkdir /gdrive/MyDrive/Colab_data_files/intelmodel\n"
      ],
      "execution_count": null,
      "outputs": []
    },
    {
      "cell_type": "code",
      "metadata": {
        "id": "o--kiRa1-ZVq"
      },
      "source": [
        "# 7.4.1 Now save it:\n",
        "\n",
        "! cp -r /content/saved_model  /gdrive/MyDrive/Colab_data_files/intelmodel/"
      ],
      "execution_count": null,
      "outputs": []
    },
    {
      "cell_type": "code",
      "metadata": {
        "id": "Vb_RqA3KswYN"
      },
      "source": [
        "# 7.5 You can load this saved model as:\n",
        "\n",
        "new_model = keras.models.load_model('/content/saved_model/my_model')\n",
        "mymodel = new_model"
      ],
      "execution_count": null,
      "outputs": []
    },
    {
      "cell_type": "markdown",
      "metadata": {
        "id": "amLVjr_l_I9s"
      },
      "source": [
        "## Get model size"
      ]
    },
    {
      "cell_type": "code",
      "metadata": {
        "id": "pywi9cTx_MQ2"
      },
      "source": [
        "# 7.0 Get size of h5 file:\n",
        "\n",
        "!ls -la /gdrive/MyDrive/Colab_data_files/intelmodel/intel_images_model.h5"
      ],
      "execution_count": null,
      "outputs": []
    },
    {
      "cell_type": "code",
      "metadata": {
        "id": "xe5JpLrK_oRQ"
      },
      "source": [
        "# 7.1 Get size of saved_model folder:\n",
        "\n",
        "! du /gdrive/MyDrive/Colab_data_files/intelmodel/saved_model  -sh"
      ],
      "execution_count": null,
      "outputs": []
    },
    {
      "cell_type": "markdown",
      "metadata": {
        "id": "UWrsbWpuHCxu"
      },
      "source": [
        "## Load model & experiment"
      ]
    },
    {
      "cell_type": "code",
      "metadata": {
        "id": "XzynUKgS9CNQ"
      },
      "source": [
        "# 8.0 Delete existing model:\n",
        "\n",
        "del model"
      ],
      "execution_count": null,
      "outputs": []
    },
    {
      "cell_type": "code",
      "metadata": {
        "id": "7icmKtjDruWP"
      },
      "source": [
        "# 8.1 Here are few sample images \n",
        "#     to be tested:\n",
        "\n",
        "image_path_forest = \"/content/seg_train/forest/10007.jpg\"\n",
        "image_path_building = \"/content/seg_train/buildings/10006.jpg\"\n",
        "image_path_glacier = \"/content/seg_train/glacier/10.jpg\"\n",
        "image_path_mountain = \"/content/seg_train/mountain/10008.jpg\"\n",
        "image_path_sea = \"/content/seg_train/sea/10016.jpg\"\n",
        "image_path_street = \"/content/seg_train/street/10015.jpg\""
      ],
      "execution_count": null,
      "outputs": []
    },
    {
      "cell_type": "code",
      "metadata": {
        "id": "5sSbasVQqg0P"
      },
      "source": [
        "# 8.2 Define a prediction function:\n",
        "\n",
        "def predict(image_path): \n",
        "    model = mymodel\n",
        "    image = load_img(image_path, target_size=(64, 64))\n",
        "    image = img_to_array(image)\n",
        "    image = image.reshape((1, image.shape[0], image.shape[1], image.shape[2]))\n",
        "    #image = preprocess_input(image)\n",
        "    yhat = model.predict(image)\n",
        "    classes_x=np.argmax(yhat,axis=1)\n",
        "    l=os.listdir(train_path)\n",
        "    l.sort()\n",
        "    return l[classes_x[0]]"
      ],
      "execution_count": null,
      "outputs": []
    },
    {
      "cell_type": "code",
      "metadata": {
        "id": "C7BUaMD4sEHf"
      },
      "source": [
        "# 7.3 Make predictions:\n",
        "\n",
        "print(predict(image_path_street))\n",
        "print(predict(image_path_forest))\n",
        "print(predict(image_path_sea))\n",
        "print(predict(image_path_building))\n",
        "print(predict(image_path_mountain))"
      ],
      "execution_count": null,
      "outputs": []
    },
    {
      "cell_type": "code",
      "metadata": {
        "id": "6bnCvnrsHitm"
      },
      "source": [
        "####### I am done ##############"
      ],
      "execution_count": null,
      "outputs": []
    }
  ]
}