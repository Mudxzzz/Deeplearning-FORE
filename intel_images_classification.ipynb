{
  "nbformat": 4,
  "nbformat_minor": 0,
  "metadata": {
    "colab": {
      "name": "intel_images_classification.ipynb",
      "private_outputs": true,
      "provenance": [],
      "collapsed_sections": [],
      "authorship_tag": "ABX9TyMiSBsTxQFahZCehHl9LcON",
      "include_colab_link": true
    },
    "kernelspec": {
      "name": "python3",
      "display_name": "Python 3"
    },
    "language_info": {
      "name": "python"
    },
    "accelerator": "GPU"
  },
  "cells": [
    {
      "cell_type": "markdown",
      "metadata": {
        "id": "view-in-github",
        "colab_type": "text"
      },
      "source": [
        "<a href=\"https://colab.research.google.com/github/harnalashok/deeplearning/blob/main/intel_images_classification.ipynb\" target=\"_parent\"><img src=\"https://colab.research.google.com/assets/colab-badge.svg\" alt=\"Open In Colab\"/></a>"
      ]
    },
    {
      "cell_type": "code",
      "metadata": {
        "id": "mTy5lB9w_wQ9"
      },
      "source": [
        "# Last amended: 16th October, 2021\n",
        "# Ref: https://www.kaggle.com/puneet6060/intel-image-classification\n",
        "#     https://www.kaggle.com/accountstatus/using-keras-cnn-on-intel-data"
      ],
      "execution_count": null,
      "outputs": []
    },
    {
      "cell_type": "code",
      "metadata": {
        "id": "i9xkJq-BE1xw"
      },
      "source": [
        "# 0.0 We need to install h5py to save our model:\n",
        "\n",
        "! pip install pyyaml h5py"
      ],
      "execution_count": null,
      "outputs": []
    },
    {
      "cell_type": "markdown",
      "metadata": {
        "id": "81nYqIM1FpAe"
      },
      "source": [
        "## Call libraries"
      ]
    },
    {
      "cell_type": "code",
      "metadata": {
        "id": "MW-kCQs1_yDm"
      },
      "source": [
        "# 1.0 Call libraries\n",
        "import pandas as pd\n",
        "import numpy as np\n",
        "\n",
        "# 1.1\n",
        "import tensorflow as tf\n",
        "from tensorflow import keras\n",
        "from tensorflow.keras.models import Sequential\n",
        "from tensorflow.keras.models import save_model\n",
        "from tensorflow.keras.layers import Dense,Convolution2D,MaxPooling2D,Flatten,Conv2D,Dropout\n",
        "from tensorflow.keras.preprocessing.image import ImageDataGenerator\n",
        "from tensorflow.keras.utils import load_img\n",
        "from tensorflow.keras.preprocessing.image import img_to_array\n",
        "\n",
        "# 1.2\n",
        "from PIL import Image\n",
        "import matplotlib.pyplot as plt\n",
        "import os\n"
      ],
      "execution_count": null,
      "outputs": []
    },
    {
      "cell_type": "markdown",
      "metadata": {
        "id": "GGcQEt9FFr1F"
      },
      "source": [
        "## Design model"
      ]
    },
    {
      "cell_type": "code",
      "metadata": {
        "id": "EEfVBPez_2hm"
      },
      "source": [
        "# Creating a simple sequential model\n",
        "# 2.0\n",
        "model=Sequential()\n",
        "model.add(Convolution2D(\n",
        "                        32,\n",
        "                        (3,3),\n",
        "                        input_shape=(64,64,3),\n",
        "                        activation='relu'\n",
        "                        )\n",
        "           )\n",
        "model.add(MaxPooling2D(pool_size=(2,2)))\n",
        "\n",
        "model.add(Convolution2D(\n",
        "                        64,\n",
        "                        (3,3),\n",
        "                        activation='relu'\n",
        "                        )\n",
        "           )\n",
        "\n",
        "model.add(MaxPooling2D(pool_size=(2,2)))\n",
        "model.add(Flatten())\n",
        "model.add(Dense(256,activation='relu'))\n",
        "model.add(Dense(units=6,activation='softmax'))"
      ],
      "execution_count": null,
      "outputs": []
    },
    {
      "cell_type": "code",
      "metadata": {
        "id": "zGMlUeax_-w9"
      },
      "source": [
        "# 2.1 Get model summary\n",
        "model.summary()"
      ],
      "execution_count": null,
      "outputs": []
    },
    {
      "cell_type": "code",
      "metadata": {
        "id": "TewALAh4_7o2"
      },
      "source": [
        "# 2.2 Plot model:\n",
        "\n",
        "tf.keras.utils.plot_model(\n",
        "                           model,\n",
        "                           to_file=\"model.png\",\n",
        "                           show_shapes=False,\n",
        "                           show_layer_names=True,\n",
        "                           rankdir=\"TB\",\n",
        "                           expand_nested=False\n",
        "                          )"
      ],
      "execution_count": null,
      "outputs": []
    },
    {
      "cell_type": "code",
      "metadata": {
        "id": "_3GliwOvACaV"
      },
      "source": [
        "# 2.3 Compile model:\n",
        "\n",
        "model.compile(\n",
        "              optimizer= 'adam',\n",
        "              loss= 'categorical_crossentropy',\n",
        "              metrics= ['accuracy']\n",
        "              )"
      ],
      "execution_count": null,
      "outputs": []
    },
    {
      "cell_type": "markdown",
      "metadata": {
        "id": "l8bAbkwnFxyl"
      },
      "source": [
        "## Image augmentation"
      ]
    },
    {
      "cell_type": "code",
      "metadata": {
        "id": "FFLyO5frEfX2"
      },
      "source": [
        "# 3.0 Instantiate ImageDataGenerator:\n",
        "\n",
        "train_datagen = ImageDataGenerator(\n",
        "                                   rescale = 1./255, \n",
        "                                   #shear_range = 0.2,    # Increase delay\n",
        "                                   #zoom_range = 0.2,     # increase delay\n",
        "                                   horizontal_flip = True\n",
        "                                   )"
      ],
      "execution_count": null,
      "outputs": []
    },
    {
      "cell_type": "code",
      "metadata": {
        "id": "-v_Lp4YaJkgP"
      },
      "source": [
        "# 3.1 Mount gdrive\n",
        "from google.colab import drive\n",
        "drive.mount('/gdrive')"
      ],
      "execution_count": null,
      "outputs": []
    },
    {
      "cell_type": "code",
      "metadata": {
        "id": "O5Zq_E6lDaB0"
      },
      "source": [
        "# 3.2 Where is our train and test data:\n",
        "\n",
        "train_path = '/gdrive/MyDrive/Colab_data_files/intel_images/seg_train' \n",
        "test_path = '/gdrive/MyDrive/Colab_data_files/intel_images/seg_test'"
      ],
      "execution_count": null,
      "outputs": []
    },
    {
      "cell_type": "code",
      "metadata": {
        "id": "Eeli1fjCEkh2"
      },
      "source": [
        "# 3.3 Create training data generator:\n",
        "\n",
        "training_set = train_datagen.flow_from_directory(\n",
        "                                                  train_path,\n",
        "                                                  target_size = (64, 64), \n",
        "                                                  batch_size = 32\n",
        "                                                 )\n"
      ],
      "execution_count": null,
      "outputs": []
    },
    {
      "cell_type": "code",
      "metadata": {
        "id": "j_HnD_XJAGEd"
      },
      "source": [
        "# 3.4 This is our test data generator:\n",
        "\n",
        "test_datagen = ImageDataGenerator(rescale = 1./255)\n",
        "test_set = test_datagen.flow_from_directory(\n",
        "                                            test_path,\n",
        "                                            target_size = (64, 64),\n",
        "                                            batch_size = 32\n",
        "                                            )"
      ],
      "execution_count": null,
      "outputs": []
    },
    {
      "cell_type": "code",
      "metadata": {
        "id": "Ei3aZCHuALW1"
      },
      "source": [
        "# 3.5 How many classes are there:\n",
        "len(set(training_set.classes))\n",
        "\n",
        "# 3.6 And which ones:\n",
        "\n",
        "l=os.listdir(train_path)\n",
        "l.sort()"
      ],
      "execution_count": null,
      "outputs": []
    },
    {
      "cell_type": "markdown",
      "metadata": {
        "id": "Aj7eARFnGdcu"
      },
      "source": [
        "## Train model"
      ]
    },
    {
      "cell_type": "code",
      "metadata": {
        "id": "HYxWW3JtAN11"
      },
      "source": [
        "# 4.0 Fit the model:\n",
        "fitted_model = model.fit_generator(\n",
        "                                    training_set,\n",
        "                                    steps_per_epoch = 100,      # select 50, if short of time\n",
        "                                    epochs = 10,                # Select 5, if short of time\n",
        "                                    validation_data = test_set,\n",
        "                                    validation_steps = 10\n",
        "                                   )"
      ],
      "execution_count": null,
      "outputs": []
    },
    {
      "cell_type": "markdown",
      "metadata": {
        "id": "K9fQ7qDlGgNm"
      },
      "source": [
        "## Save model"
      ]
    },
    {
      "cell_type": "code",
      "metadata": {
        "id": "remROqySjBbx"
      },
      "source": [
        "# 5.0 Folder to which trained model will be saved\n",
        "! mkdir /gdrive/MyDrive/Colab_data_files/intelmodel\n",
        "\n",
        "# 5.1 This will be our model file:\n",
        "pathToSave = \"/gdrive/MyDrive/Colab_data_files/intelmodel/intel_images_model.h5\""
      ],
      "execution_count": null,
      "outputs": []
    },
    {
      "cell_type": "code",
      "metadata": {
        "id": "V5YCPDtfirQX"
      },
      "source": [
        "# 5.2 Save now in h5format\n",
        "\n",
        "model.save(pathToSave)"
      ],
      "execution_count": null,
      "outputs": []
    },
    {
      "cell_type": "markdown",
      "metadata": {
        "id": "UWrsbWpuHCxu"
      },
      "source": [
        "## Load model & experiment"
      ]
    },
    {
      "cell_type": "code",
      "metadata": {
        "id": "CdZULtLsjVGY"
      },
      "source": [
        "# 6.0 Load saved model:\n",
        "\n",
        "del model\n",
        "mymodel = keras.models.load_model(pathToSave)"
      ],
      "execution_count": null,
      "outputs": []
    },
    {
      "cell_type": "code",
      "metadata": {
        "id": "7icmKtjDruWP"
      },
      "source": [
        "# 6.1 Here are few images to be tested:\n",
        "\n",
        "image_path_forest = \"/gdrive/MyDrive/Colab_data_files/intel_images/seg_train/forest/10007.jpg\"\n",
        "image_path_building = \"/gdrive/MyDrive/Colab_data_files/intel_images/seg_train/buildings/10006.jpg\"\n",
        "image_path_glacier = \"/gdrive/MyDrive/Colab_data_files/intel_images/seg_train/glacier/10.jpg\"\n",
        "image_path_mountain = \"/gdrive/MyDrive/Colab_data_files/intel_images/seg_train/mountain/10008.jpg\"\n",
        "image_path_sea = \"/gdrive/MyDrive/Colab_data_files/intel_images/seg_train/sea/10016.jpg\"\n",
        "image_path_street = \"/gdrive/MyDrive/Colab_data_files/intel_images/seg_train/street/10015.jpg\""
      ],
      "execution_count": null,
      "outputs": []
    },
    {
      "cell_type": "code",
      "metadata": {
        "id": "5sSbasVQqg0P"
      },
      "source": [
        "# 6.2 Define a prediction function:\n",
        "\n",
        "def predict(image_path): \n",
        "    model = keras.models.load_model(pathToSave)\n",
        "    image = load_img(image_path, target_size=(64, 64))\n",
        "    image = img_to_array(image)\n",
        "    image = image.reshape((1, image.shape[0], image.shape[1], image.shape[2]))\n",
        "    #image = preprocess_input(image)\n",
        "    yhat = model.predict(image)\n",
        "    classes_x=np.argmax(yhat,axis=1)\n",
        "    l=os.listdir(train_path)\n",
        "    l.sort()\n",
        "    return l[classes_x[0]]"
      ],
      "execution_count": null,
      "outputs": []
    },
    {
      "cell_type": "code",
      "metadata": {
        "id": "C7BUaMD4sEHf"
      },
      "source": [
        "# 6.3 Make predictions:\n",
        "\n",
        "predict(image_path_street)"
      ],
      "execution_count": null,
      "outputs": []
    },
    {
      "cell_type": "code",
      "metadata": {
        "id": "6bnCvnrsHitm"
      },
      "source": [
        "####### I am done ##############"
      ],
      "execution_count": null,
      "outputs": []
    }
  ]
}