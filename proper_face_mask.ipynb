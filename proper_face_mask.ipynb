{
  "nbformat": 4,
  "nbformat_minor": 0,
  "metadata": {
    "colab": {
      "name": "proper_face-mask.ipynb",
      "provenance": [],
      "authorship_tag": "ABX9TyMql5TpqGAmy5aTB1+arn/B",
      "include_colab_link": true
    },
    "kernelspec": {
      "name": "python3",
      "display_name": "Python 3"
    },
    "language_info": {
      "name": "python"
    }
  },
  "cells": [
    {
      "cell_type": "markdown",
      "metadata": {
        "id": "view-in-github",
        "colab_type": "text"
      },
      "source": [
        "<a href=\"https://colab.research.google.com/github/harnalashok/deeplearning/blob/main/proper_face_mask.ipynb\" target=\"_parent\"><img src=\"https://colab.research.google.com/assets/colab-badge.svg\" alt=\"Open In Colab\"/></a>"
      ]
    },
    {
      "cell_type": "code",
      "metadata": {
        "id": "Iw6NkCwVoIVA"
      },
      "source": [
        "# 1. Call libraries\n",
        "#%reset -f\n",
        "\n",
        "# 1.1 Application (ResNet50) library\n",
        "# https://keras.io/applications/#resnet50\n",
        "from tensorflow.keras.applications import ResNet50\n",
        "\n",
        "# 1.2 Keras models and layers\n",
        "from tensorflow.keras.models import Sequential\n",
        "\n",
        "from tensorflow.keras.layers import Dense,  GlobalAveragePooling2D\n",
        "\n",
        "# 1.3 Image generator and preprocessing\n",
        "from tensorflow.keras.applications.resnet50 import preprocess_input\n",
        "from tensorflow.keras.preprocessing.image import ImageDataGenerator\n",
        "\n",
        "# 1.4 To save model-weights with least val_acc\n",
        "#      Refer Page 250 Chollet\n",
        "\n",
        "from tensorflow.keras.callbacks import ModelCheckpoint, ReduceLROnPlateau\n",
        "from tensorflow.keras import callbacks\n",
        "\n",
        "# 1.5 Out optimizer\n",
        "from tensorflow.keras.optimizers import SGD\n",
        "\n",
        "# 1.4 Misc\n",
        "import matplotlib.pyplot as plt\n",
        "import time,os\n",
        "import numpy as np\n"
      ],
      "execution_count": 1,
      "outputs": []
    },
    {
      "cell_type": "code",
      "metadata": {
        "id": "X6Np63YHpOxY"
      },
      "source": [
        "path = \"/content\"\n",
        "os.chdir(path)"
      ],
      "execution_count": 2,
      "outputs": []
    },
    {
      "cell_type": "code",
      "metadata": {
        "id": "AbWpJtG7pZ7Z"
      },
      "source": [
        "!unzip mask.zip"
      ],
      "execution_count": null,
      "outputs": []
    },
    {
      "cell_type": "code",
      "metadata": {
        "id": "L6Ct0gdloLs4"
      },
      "source": [
        "######################### Define necessary constants\n",
        "\n",
        "# 2. Constants & Modeling\n",
        "num_classes = 2\n",
        "image_size = 224      # Restrict image-sizes to uniform: 224 X 224\n",
        "                      # Decreasing increases speed but reduces accuracy\n",
        "\n",
        "# 2.1 Image data folders\n",
        "train_dir= '/content/mask/train'\n",
        "val_dir = '/content/mask/val'\n",
        "\n"
      ],
      "execution_count": 4,
      "outputs": []
    },
    {
      "cell_type": "code",
      "metadata": {
        "colab": {
          "base_uri": "https://localhost:8080/"
        },
        "id": "4rueN97Mp40f",
        "outputId": "c6621f93-f601-4b99-9418-0db2f05aa267"
      },
      "source": [
        "# 2.2 Create ResNet59 model and import weights\n",
        "resnet_base_model = ResNet50(\n",
        "                          include_top=False,   # No last softmax layer\n",
        "                          pooling='avg',       # GlobalAveragePooling2D to flatten last convolution layer\n",
        "                                               # See: http://203.122.28.230/moodle/mod/resource/view.php?id=3740\n",
        "                          weights='imagenet'\n",
        "                          )\n"
      ],
      "execution_count": 5,
      "outputs": [
        {
          "output_type": "stream",
          "text": [
            "Downloading data from https://storage.googleapis.com/tensorflow/keras-applications/resnet/resnet50_weights_tf_dim_ordering_tf_kernels_notop.h5\n",
            "94773248/94765736 [==============================] - 1s 0us/step\n"
          ],
          "name": "stdout"
        }
      ]
    },
    {
      "cell_type": "code",
      "metadata": {
        "id": "ci0lRft4qAow"
      },
      "source": [
        "# 2.3 Look at the model\n",
        "resnet_base_model.summary()"
      ],
      "execution_count": null,
      "outputs": []
    },
    {
      "cell_type": "code",
      "metadata": {
        "id": "rUNsAoeUqPGn"
      },
      "source": [
        "# 2.6 Initialise: Freeze all layers from training\n",
        "for layer in resnet_base_model.layers:\n",
        "    layer.trainable = False\n"
      ],
      "execution_count": 6,
      "outputs": []
    },
    {
      "cell_type": "code",
      "metadata": {
        "id": "EZ-XRygjqQIF"
      },
      "source": [
        "# 2.7 Make layer 161 onwards available for training\n",
        "#     Re-training some ResNet layers without sufficient data\n",
        "#      may reduce speed as also accuracy\n",
        "\n",
        "for layer in resnet_base_model.layers[160:]:\n",
        "    layer.trainable = True\n"
      ],
      "execution_count": 7,
      "outputs": []
    },
    {
      "cell_type": "code",
      "metadata": {
        "colab": {
          "base_uri": "https://localhost:8080/"
        },
        "id": "Rg9VeTvSqWCU",
        "outputId": "f6e16e55-2d9b-46f9-9c53-34ce93a54c55"
      },
      "source": [
        "########### Add classification layers #############\n",
        "\n",
        "# 3 Start nested model building\n",
        "my_new_model = Sequential()\n",
        "\n",
        "\n",
        "# 3.1 Nest base model within it\n",
        "my_new_model.add(resnet_base_model)\n",
        "\n",
        "\n",
        "# 3.2\n",
        "my_new_model.summary()\n",
        "\n",
        "# 3.3 Last output softmax layer\n",
        "my_new_model.add(Dense(\n",
        "                       num_classes,\n",
        "                       activation='softmax'\n",
        "                       )\n",
        "                )\n"
      ],
      "execution_count": 8,
      "outputs": [
        {
          "output_type": "stream",
          "text": [
            "Model: \"sequential\"\n",
            "_________________________________________________________________\n",
            "Layer (type)                 Output Shape              Param #   \n",
            "=================================================================\n",
            "resnet50 (Functional)        (None, 2048)              23587712  \n",
            "=================================================================\n",
            "Total params: 23,587,712\n",
            "Trainable params: 5,520,384\n",
            "Non-trainable params: 18,067,328\n",
            "_________________________________________________________________\n"
          ],
          "name": "stdout"
        }
      ]
    },
    {
      "cell_type": "code",
      "metadata": {
        "id": "wgXY9AZYqkkT"
      },
      "source": [
        "# 4.0 Compile model\n",
        "#     Define our optimizer\n",
        "optimize = SGD(lr = 0.01, nesterov = True)     # Default nestrov = True\n",
        "my_new_model.compile(\n",
        "                     optimizer= optimize,              # 'sgd'; One record at a time. It is fast\n",
        "                     loss='categorical_crossentropy',  # Same as binary-crossentropy\n",
        "                                                       # Used when labels are one-hot-encoded\n",
        "                     metrics=['accuracy']\n",
        "                     )\n",
        "\n"
      ],
      "execution_count": 9,
      "outputs": []
    },
    {
      "cell_type": "code",
      "metadata": {
        "id": "QJ0UjYpEqss6"
      },
      "source": [
        "\n",
        "# 4.1 Image processing and image generation\n",
        "#     train data Image generator object\n",
        "data_generator_with_aug = ImageDataGenerator(\n",
        "                                             preprocessing_function=preprocess_input,      # keras image preprocessing function\n",
        "                                             horizontal_flip=True,\n",
        "                                             width_shift_range = 0.2,\n",
        "                                             height_shift_range = 0.2\n",
        "                                            )\n"
      ],
      "execution_count": 10,
      "outputs": []
    },
    {
      "cell_type": "code",
      "metadata": {
        "colab": {
          "base_uri": "https://localhost:8080/"
        },
        "id": "NRml8BXKqwTh",
        "outputId": "a23aa4ed-dea1-4f3a-9b51-84206190649b"
      },
      "source": [
        "# 4.2 No fit() needed\n",
        "#     Create image data generator interator for train data\n",
        "train_generator = data_generator_with_aug.flow_from_directory(\n",
        "                                                              train_dir,\n",
        "                                                              target_size=(image_size, image_size),\n",
        "                                                              batch_size=16 ,    # Increasing it increases\n",
        "                                                                                 # processing time & may decrease accu\n",
        "                                                              class_mode='categorical'  # labels are in OHE format\n",
        "                                                              )\n"
      ],
      "execution_count": 11,
      "outputs": [
        {
          "output_type": "stream",
          "text": [
            "Found 199 images belonging to 2 classes.\n"
          ],
          "name": "stdout"
        }
      ]
    },
    {
      "cell_type": "code",
      "metadata": {
        "id": "2ggO-Ftjq2TI"
      },
      "source": [
        "# 4.3 validation data generator object\n",
        "#     We will manipulate even Validation data also\n",
        "#     Just to see if predictions are still made correctly\n",
        "#     'data_generator_no_aug' is learner + ImageDataGenerator object\n",
        "data_generator_no_aug = ImageDataGenerator(\n",
        "                                           preprocessing_function=preprocess_input,\n",
        "                                           rotation_range=90,\n",
        "                                           horizontal_flip=True,\n",
        "                                           vertical_flip=True,\n",
        "                                           )\n",
        "\n"
      ],
      "execution_count": 12,
      "outputs": []
    },
    {
      "cell_type": "code",
      "metadata": {
        "colab": {
          "base_uri": "https://localhost:8080/"
        },
        "id": "lc3qeE1Wq6rd",
        "outputId": "ba369725-8992-4e8b-929a-b488a32c8249"
      },
      "source": [
        "# 4.4 validation data image iterator\n",
        "validation_generator = data_generator_no_aug.flow_from_directory(\n",
        "                                                                 val_dir,\n",
        "                                                                 target_size=(image_size, image_size),\n",
        "                                                                 batch_size= 16,\n",
        "                                                                 class_mode='categorical'\n",
        "                                                                 )\n",
        "\n"
      ],
      "execution_count": 13,
      "outputs": [
        {
          "output_type": "stream",
          "text": [
            "Found 27 images belonging to 2 classes.\n"
          ],
          "name": "stdout"
        }
      ]
    },
    {
      "cell_type": "code",
      "metadata": {
        "id": "OBLu6OJkq9aS"
      },
      "source": [
        "\n",
        "# 5. Prepare a list of callback functions\n",
        "#    We will only have one. It will look at the val_loss\n",
        "#    at the end of each epoch. Only if val_loss, for current\n",
        "#    epoch is less than the previous, model-weights will be\n",
        "#    saved, else not.\n",
        "#    Refer page 250 Chollet\n",
        "\n",
        "# 5.01\n",
        "checkpoint_path = '/content/'\n",
        "filepath =  checkpoint_path + \"my_model.h5\"\n"
      ],
      "execution_count": 14,
      "outputs": []
    },
    {
      "cell_type": "code",
      "metadata": {
        "id": "3S2-92P9rH1a"
      },
      "source": [
        "# 5.02 Delete any existing file. Linux command\n",
        "if os.path.exists(checkpoint_path):\n",
        "    os.system('rm ' + filepath)\n"
      ],
      "execution_count": 15,
      "outputs": []
    },
    {
      "cell_type": "code",
      "metadata": {
        "colab": {
          "base_uri": "https://localhost:8080/"
        },
        "id": "gTTYM4uRrP-4",
        "outputId": "632a63ac-fcd6-4406-af5c-d50dd01b3a74"
      },
      "source": [
        "\n",
        "# 5.04 Check if \"my_model.h5\" exists?\n",
        "os.path.exists(filepath)     # False\n"
      ],
      "execution_count": 16,
      "outputs": [
        {
          "output_type": "execute_result",
          "data": {
            "text/plain": [
              "False"
            ]
          },
          "metadata": {
            "tags": []
          },
          "execution_count": 16
        }
      ]
    },
    {
      "cell_type": "code",
      "metadata": {
        "id": "-kKjNZCRrU0T"
      },
      "source": [
        "\n",
        "# 5.1 Create now callbacks list:\n",
        "mycallbacks_list = [\n",
        "                     ModelCheckpoint(filepath= filepath,\n",
        "                                    monitor = 'val_loss',\n",
        "                                    save_best_only = True\n",
        "                                    ),\n",
        "                    # https://www.tensorflow.org/api_docs/python/tf/keras/callbacks/ReduceLROnPlateau\n",
        "                    ReduceLROnPlateau( monitor='val_loss',\n",
        "                                      factor = 0.5,          # Reduce lr by a factor of 0.5\n",
        "                                      patience = 5           # If best val loss does not improve\n",
        "                                                             #  for five consecutive epochs\n",
        "                                      )\n",
        "                    ]\n"
      ],
      "execution_count": 17,
      "outputs": []
    },
    {
      "cell_type": "code",
      "metadata": {
        "colab": {
          "base_uri": "https://localhost:8080/"
        },
        "id": "mfP3vvLirX4W",
        "outputId": "7189882b-0004-4bcd-a9c8-f8acab3b38f1"
      },
      "source": [
        "\n",
        "start = time.time()\n",
        "history = my_new_model.fit(\n",
        "                           train_generator,\n",
        "                           steps_per_epoch=4,     #  Total number of batches of samples to\n",
        "                                                  #   yield from generator before declaring one epoch\n",
        "                                                  #     finished and starting the next epoch.\n",
        "                                                  #   Increase it to train the model better\n",
        "                           epochs=15,             # All steps when finished, constitute one epoch\n",
        "\t\t\t\t\t\t                         # Increase it to get better training\n",
        "                           validation_data=validation_generator,\n",
        "                           validation_steps=2,    #  Total number of steps (batches of samples)\n",
        "                                                  #   to yield from validation_data generator per epoch\n",
        "                                                  #    Increase it to get a better idea of validation accu\n",
        "                           workers = 2,           # Maximum number of processes to spin up\n",
        "                           callbacks=mycallbacks_list, # What callbacks to act upon after each epoch\n",
        "                           verbose = 1            # Show progress\n",
        "\n",
        "                           )\n",
        "\n",
        "end = time.time()\n",
        "print(\"Time taken: \", (end - start)/60, \"minutes\")\n"
      ],
      "execution_count": 18,
      "outputs": [
        {
          "output_type": "stream",
          "text": [
            "Epoch 1/15\n",
            "4/4 [==============================] - 17s 4s/step - loss: 0.9161 - accuracy: 0.5021 - val_loss: 0.7343 - val_accuracy: 0.7407\n",
            "Epoch 2/15\n",
            "4/4 [==============================] - 13s 3s/step - loss: 1.1080 - accuracy: 0.5083 - val_loss: 0.8269 - val_accuracy: 0.7407\n",
            "Epoch 3/15\n",
            "4/4 [==============================] - 13s 3s/step - loss: 0.6460 - accuracy: 0.6792 - val_loss: 1.1973 - val_accuracy: 0.3704\n",
            "Epoch 4/15\n",
            "4/4 [==============================] - 13s 3s/step - loss: 0.6628 - accuracy: 0.6917 - val_loss: 0.7253 - val_accuracy: 0.6296\n",
            "Epoch 5/15\n",
            "4/4 [==============================] - 13s 3s/step - loss: 0.3279 - accuracy: 0.8333 - val_loss: 1.1173 - val_accuracy: 0.7407\n",
            "Epoch 6/15\n",
            "4/4 [==============================] - 14s 3s/step - loss: 0.8198 - accuracy: 0.6271 - val_loss: 0.6180 - val_accuracy: 0.7778\n",
            "Epoch 7/15\n",
            "4/4 [==============================] - 13s 3s/step - loss: 0.2737 - accuracy: 0.8729 - val_loss: 0.7110 - val_accuracy: 0.6667\n",
            "Epoch 8/15\n",
            "4/4 [==============================] - 13s 3s/step - loss: 0.2999 - accuracy: 0.8750 - val_loss: 0.5799 - val_accuracy: 0.8148\n",
            "Epoch 9/15\n",
            "4/4 [==============================] - 13s 3s/step - loss: 0.2269 - accuracy: 0.9167 - val_loss: 0.6216 - val_accuracy: 0.8148\n",
            "Epoch 10/15\n",
            "4/4 [==============================] - 12s 3s/step - loss: 0.5223 - accuracy: 0.7139 - val_loss: 1.2542 - val_accuracy: 0.7407\n",
            "Epoch 11/15\n",
            "4/4 [==============================] - 13s 3s/step - loss: 0.3952 - accuracy: 0.8125 - val_loss: 0.6112 - val_accuracy: 0.8148\n",
            "Epoch 12/15\n",
            "4/4 [==============================] - 13s 3s/step - loss: 0.2083 - accuracy: 0.8812 - val_loss: 1.0520 - val_accuracy: 0.7778\n",
            "Epoch 13/15\n",
            "4/4 [==============================] - 13s 3s/step - loss: 0.1309 - accuracy: 0.9938 - val_loss: 0.4760 - val_accuracy: 0.8889\n",
            "Epoch 14/15\n",
            "4/4 [==============================] - 12s 3s/step - loss: 0.3709 - accuracy: 0.9168 - val_loss: 0.6012 - val_accuracy: 0.8148\n",
            "Epoch 15/15\n",
            "4/4 [==============================] - 13s 3s/step - loss: 0.1041 - accuracy: 1.0000 - val_loss: 0.7877 - val_accuracy: 0.7778\n",
            "Time taken:  3.3994679768880207 minutes\n"
          ],
          "name": "stdout"
        }
      ]
    },
    {
      "cell_type": "code",
      "metadata": {
        "colab": {
          "base_uri": "https://localhost:8080/"
        },
        "id": "kkIPWqQ3rceO",
        "outputId": "a236be68-5909-4d94-af06-eb426d864712"
      },
      "source": [
        "\n",
        "# 5.3 So how to begin now?\n",
        "#     We will begin our work from saved weights\n",
        "#     Execute all lines upto para 5.01 AND also\n",
        "#     execute para 5.1. Continue next.\n",
        "\n",
        "# 5.3.1 Load model weights saved by checkpointing\n",
        "#       Have a look if model-weights have actually\n",
        "#       been saved.\n",
        "\n",
        "os.listdir(checkpoint_path)\n"
      ],
      "execution_count": 19,
      "outputs": [
        {
          "output_type": "execute_result",
          "data": {
            "text/plain": [
              "['.config', 'my_model.h5', 'mask', 'mask.zip', 'sample_data']"
            ]
          },
          "metadata": {
            "tags": []
          },
          "execution_count": 19
        }
      ]
    },
    {
      "cell_type": "code",
      "metadata": {
        "id": "IZNkPan9r3hY"
      },
      "source": [
        "\n",
        "# 5.3.2\n",
        "my_new_model.load_weights(checkpoint_path + \"my_model.h5\")\n"
      ],
      "execution_count": 20,
      "outputs": []
    },
    {
      "cell_type": "code",
      "metadata": {
        "colab": {
          "base_uri": "https://localhost:8080/"
        },
        "id": "2SJhtVJor621",
        "outputId": "02633b68-6c40-4cae-8c46-abe2945631fc"
      },
      "source": [
        "\n",
        "# 5.3.3 Start fitting again. This time validation accuracy starts\n",
        "#       higher up\n",
        "start = time.time()\n",
        "history = my_new_model.fit(\n",
        "                           train_generator,\n",
        "                           steps_per_epoch=4,     #  Total number of batches of samples to\n",
        "                                                  #   yield from generator before declaring one epoch\n",
        "                                                  #     finished and starting the next epoch.\n",
        "                                                  #   Increase it to train the model better\n",
        "                           epochs=10,             # All steps when finished, constitute one epoch\n",
        "\t\t\t\t\t\t                         # Increase it to get better training\n",
        "                           validation_data=validation_generator,\n",
        "                           validation_steps=2,    #  Total number of steps (batches of samples)\n",
        "                                                  #   to yield from validation_data generator per epoch\n",
        "                                                  #    Increase it to get a better idea of validation accu\n",
        "                           workers = 2,           # Maximum number of processes to spin up\n",
        "                           callbacks=mycallbacks_list, # What callbacks to act upon after each epoch\n",
        "                           verbose = 1            # Show progress\n",
        "\n",
        "                           )\n",
        "\n",
        "end = time.time()\n",
        "print(\"Time taken: \", (end - start)/60, \"minutes\")\n",
        "\n"
      ],
      "execution_count": 21,
      "outputs": [
        {
          "output_type": "stream",
          "text": [
            "Epoch 1/10\n",
            "4/4 [==============================] - 12s 3s/step - loss: 0.2124 - accuracy: 0.9455 - val_loss: 1.0506 - val_accuracy: 0.6667\n",
            "Epoch 2/10\n",
            "4/4 [==============================] - 13s 3s/step - loss: 0.1102 - accuracy: 0.9531 - val_loss: 0.8205 - val_accuracy: 0.7778\n",
            "Epoch 3/10\n",
            "4/4 [==============================] - 12s 3s/step - loss: 0.1672 - accuracy: 0.9455 - val_loss: 0.9772 - val_accuracy: 0.7407\n",
            "Epoch 4/10\n",
            "4/4 [==============================] - 13s 3s/step - loss: 0.0688 - accuracy: 1.0000 - val_loss: 0.9481 - val_accuracy: 0.7778\n",
            "Epoch 5/10\n",
            "4/4 [==============================] - 13s 3s/step - loss: 0.1007 - accuracy: 0.9844 - val_loss: 0.5137 - val_accuracy: 0.8519\n",
            "Epoch 6/10\n",
            "4/4 [==============================] - 13s 3s/step - loss: 0.0712 - accuracy: 0.9844 - val_loss: 0.8376 - val_accuracy: 0.7778\n",
            "Epoch 7/10\n",
            "4/4 [==============================] - 13s 3s/step - loss: 0.0608 - accuracy: 1.0000 - val_loss: 0.3919 - val_accuracy: 0.8519\n",
            "Epoch 8/10\n",
            "4/4 [==============================] - 13s 3s/step - loss: 0.0816 - accuracy: 0.9844 - val_loss: 0.3969 - val_accuracy: 0.8889\n",
            "Epoch 9/10\n",
            "4/4 [==============================] - 13s 3s/step - loss: 0.0634 - accuracy: 1.0000 - val_loss: 0.9306 - val_accuracy: 0.7407\n",
            "Epoch 10/10\n",
            "4/4 [==============================] - 13s 3s/step - loss: 0.1111 - accuracy: 0.9531 - val_loss: 0.3796 - val_accuracy: 0.8519\n",
            "Time taken:  2.210604015986125 minutes\n"
          ],
          "name": "stdout"
        }
      ]
    },
    {
      "cell_type": "code",
      "metadata": {
        "id": "2bGWtH_rr_pY"
      },
      "source": [
        "\n",
        "# 5.4\n",
        "#     How accuracy changes as epochs increase\n",
        "#     We will use this function agai and again\n",
        "#     in subsequent examples\n",
        "\n",
        "def plot_history():\n",
        "    val_acc = history.history['val_accuracy']\n",
        "    tr_acc=history.history['accuracy']\n",
        "    epochs = range(1, len(val_acc) +1)\n",
        "    plt.plot(epochs,val_acc, 'b', label = \"Validation accu\")\n",
        "    plt.plot(epochs, tr_acc, 'r', label = \"Training accu\")\n",
        "    plt.title(\"Training and validation accuracy\")\n",
        "    plt.legend()\n",
        "    plt.show()\n"
      ],
      "execution_count": 22,
      "outputs": []
    },
    {
      "cell_type": "code",
      "metadata": {
        "colab": {
          "base_uri": "https://localhost:8080/",
          "height": 281
        },
        "id": "hy92Um8OsEtC",
        "outputId": "e6310017-55ca-442a-f219-36182b132d84"
      },
      "source": [
        "\n",
        "# 5.4 Plot training accuracy and validation accuracy\n",
        "#     Next time use TensorBoard\n",
        "plot_history()\n"
      ],
      "execution_count": 23,
      "outputs": [
        {
          "output_type": "display_data",
          "data": {
            "image/png": "[encoded data removed]",
            "text/plain": [
              "<Figure size 432x288 with 1 Axes>"
            ]
          },
          "metadata": {
            "tags": [],
            "needs_background": "light"
          }
        }
      ]
    },
    {
      "cell_type": "code",
      "metadata": {
        "id": "ke2UPas6tiSk"
      },
      "source": [
        "################ I am done ##################33"
      ],
      "execution_count": null,
      "outputs": []
    }
  ]
}