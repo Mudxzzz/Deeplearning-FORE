{
  "nbformat": 4,
  "nbformat_minor": 0,
  "metadata": {
    "colab": {
      "provenance": [],
      "authorship_tag": "ABX9TyPRKwDqxDVIm0O4wtxSeT5L",
      "include_colab_link": true
    },
    "kernelspec": {
      "name": "python3",
      "display_name": "Python 3"
    },
    "language_info": {
      "name": "python"
    }
  },
  "cells": [
    {
      "cell_type": "markdown",
      "metadata": {
        "id": "view-in-github",
        "colab_type": "text"
      },
      "source": [
        "<a href=\"https://colab.research.google.com/github/harnalashok/deeplearning/blob/main/simpleNN_activationFunction.ipynb\" target=\"_parent\"><img src=\"https://colab.research.google.com/assets/colab-badge.svg\" alt=\"Open In Colab\"/></a>"
      ]
    },
    {
      "cell_type": "code",
      "source": [
        "# Last amended: 04th Nov, 2023\n",
        "# https://www.kaggle.com/code/harnalashok/exercise-deep-neural-networks/edit\n"
      ],
      "metadata": {
        "id": "QT1mMOxSsuSk"
      },
      "execution_count": null,
      "outputs": []
    },
    {
      "cell_type": "code",
      "source": [
        "# 1.0\n",
        "import tensorflow as tf\n",
        "from tensorflow.keras import layers\n",
        "import matplotlib.pyplot as plt"
      ],
      "metadata": {
        "id": "I_QxKNzSpD3O"
      },
      "execution_count": 1,
      "outputs": []
    },
    {
      "cell_type": "code",
      "source": [
        "# 1.1 Define the activation function:\n",
        "#     Try: 'sigmoid', 'tanh', 'relu' , 'elu', 'selu', 'swish'... or something else\n",
        "\n",
        "activation_layer = layers.Activation('swish')"
      ],
      "metadata": {
        "id": "BAyHYHOEpYY9"
      },
      "execution_count": 21,
      "outputs": []
    },
    {
      "cell_type": "code",
      "source": [
        "# 1.2 Generate 100 equally spaced points:\n",
        "\n",
        "x = tf.linspace(-3.0, 3.0, 100)\n",
        "x[:5]"
      ],
      "metadata": {
        "id": "sUjRdghxpeOS",
        "outputId": "889185b2-091c-4cb4-b422-1fada21db394",
        "colab": {
          "base_uri": "https://localhost:8080/"
        }
      },
      "execution_count": 22,
      "outputs": [
        {
          "output_type": "execute_result",
          "data": {
            "text/plain": [
              "<tf.Tensor: shape=(5,), dtype=float32, numpy=\n",
              "array([-3.       , -2.939394 , -2.878788 , -2.8181818, -2.7575758],\n",
              "      dtype=float32)>"
            ]
          },
          "metadata": {},
          "execution_count": 22
        }
      ]
    },
    {
      "cell_type": "code",
      "source": [
        "# 1.3 Once creates a layer is callable just as a funcyion:\n",
        "\n",
        "y = activation_layer(x)\n",
        "y[:5]"
      ],
      "metadata": {
        "id": "FFJNtz88qKFL",
        "outputId": "1bc357bb-9e0f-48fc-efd3-b995a7178504",
        "colab": {
          "base_uri": "https://localhost:8080/"
        }
      },
      "execution_count": 23,
      "outputs": [
        {
          "output_type": "execute_result",
          "data": {
            "text/plain": [
              "<tf.Tensor: shape=(5,), dtype=float32, numpy=\n",
              "array([-0.14227763, -0.1476757 , -0.15318653, -0.15880325, -0.1645176 ],\n",
              "      dtype=float32)>"
            ]
          },
          "metadata": {},
          "execution_count": 23
        }
      ]
    },
    {
      "cell_type": "code",
      "execution_count": 24,
      "metadata": {
        "colab": {
          "base_uri": "https://localhost:8080/",
          "height": 453
        },
        "id": "kSJWeAOho9fc",
        "outputId": "24ac283c-545c-4131-d3f7-6fce00e14581"
      },
      "outputs": [
        {
          "output_type": "display_data",
          "data": {
            "text/plain": [
              "<Figure size 640x480 with 1 Axes>"
            ],
            "image/png": "[encoded data removed]"
          },
          "metadata": {}
        }
      ],
      "source": [
        "# 2.0 Plot x vs y:\n",
        "\n",
        "plt.plot(x, y)\n",
        "\n",
        "# Define limits\n",
        "plt.xlim(-3, 3)\n",
        "\n",
        "# And grid\n",
        "plt.grid()\n",
        "\n",
        "# And ;abels\n",
        "plt.xlabel(\"Input\")\n",
        "plt.ylabel(\"Output\")\n",
        "\n",
        "# And is vertical/horizontal line to be drawn?\n",
        "plt.axvline(x = 0, color = 'b')\n",
        "#plt.axhline(y=0.5)\n",
        "plt.axhline(y=0)\n",
        "\n",
        "# Show the plot\n",
        "plt.show()"
      ]
    },
    {
      "cell_type": "code",
      "source": [
        "### -------------------- Done ------------------"
      ],
      "metadata": {
        "id": "ALq4bBPUqVHw"
      },
      "execution_count": null,
      "outputs": []
    }
  ]
}