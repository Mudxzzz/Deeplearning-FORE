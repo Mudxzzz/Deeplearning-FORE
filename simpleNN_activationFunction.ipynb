{
  "nbformat": 4,
  "nbformat_minor": 0,
  "metadata": {
    "colab": {
      "provenance": [],
      "authorship_tag": "ABX9TyPrrK9s2uDeYSU8gU/tdM5g",
      "include_colab_link": true
    },
    "kernelspec": {
      "name": "python3",
      "display_name": "Python 3"
    },
    "language_info": {
      "name": "python"
    }
  },
  "cells": [
    {
      "cell_type": "markdown",
      "metadata": {
        "id": "view-in-github",
        "colab_type": "text"
      },
      "source": [
        "<a href=\"https://colab.research.google.com/github/harnalashok/deeplearning/blob/main/simpleNN_activationFunction.ipynb\" target=\"_parent\"><img src=\"https://colab.research.google.com/assets/colab-badge.svg\" alt=\"Open In Colab\"/></a>"
      ]
    },
    {
      "cell_type": "code",
      "source": [
        "# Last amended: 2nd June, 2023\n",
        "# https://www.kaggle.com/code/harnalashok/exercise-deep-neural-networks/edit\n"
      ],
      "metadata": {
        "id": "QT1mMOxSsuSk"
      },
      "execution_count": null,
      "outputs": []
    },
    {
      "cell_type": "code",
      "source": [
        "# 1.0\n",
        "import tensorflow as tf\n",
        "from tensorflow.keras import layers\n",
        "import matplotlib.pyplot as plt"
      ],
      "metadata": {
        "id": "I_QxKNzSpD3O"
      },
      "execution_count": 8,
      "outputs": []
    },
    {
      "cell_type": "code",
      "source": [
        "# 1.1 Define the activation function:\n",
        "#     Change 'relu' to 'elu', 'selu', 'swish'... or something else\n",
        "\n",
        "activation_layer = layers.Activation('relu')"
      ],
      "metadata": {
        "id": "BAyHYHOEpYY9"
      },
      "execution_count": 23,
      "outputs": []
    },
    {
      "cell_type": "code",
      "source": [
        "# 1.2 Generate 100 equally spaced points:\n",
        "\n",
        "x = tf.linspace(-3.0, 3.0, 100)"
      ],
      "metadata": {
        "id": "sUjRdghxpeOS"
      },
      "execution_count": 24,
      "outputs": []
    },
    {
      "cell_type": "code",
      "source": [
        "# 1.3 Once creates a layer is callable just as a funcyion:\n",
        "\n",
        "y = activation_layer(x) "
      ],
      "metadata": {
        "id": "FFJNtz88qKFL"
      },
      "execution_count": 25,
      "outputs": []
    },
    {
      "cell_type": "code",
      "execution_count": 27,
      "metadata": {
        "colab": {
          "base_uri": "https://localhost:8080/",
          "height": 449
        },
        "id": "kSJWeAOho9fc",
        "outputId": "0c4a67e7-4486-410f-d620-2a48b3edecde"
      },
      "outputs": [
        {
          "output_type": "display_data",
          "data": {
            "text/plain": [
              "<Figure size 640x480 with 1 Axes>"
            ],
            "image/png": "[encoded data removed]"
          },
          "metadata": {}
        }
      ],
      "source": [
        "# 2.0 Plot x vs y:\n",
        "\n",
        "plt.plot(x, y)\n",
        "\n",
        "# Define limits\n",
        "plt.xlim(-3, 3)\n",
        "\n",
        "# And grid\n",
        "plt.grid()\n",
        "\n",
        "# And ;abels\n",
        "plt.xlabel(\"Input\")\n",
        "plt.ylabel(\"Output\")\n",
        "\n",
        "# And is vertical/horizontal line to be drawn?\n",
        "plt.axvline(x = 0, color = 'b')\n",
        "#plt.axhline(y=0.5)\n",
        "plt.axhline(y=0)\n",
        "\n",
        "# Show the plot\n",
        "plt.show()"
      ]
    },
    {
      "cell_type": "code",
      "source": [
        "### -------------------- Done ------------------"
      ],
      "metadata": {
        "id": "ALq4bBPUqVHw"
      },
      "execution_count": null,
      "outputs": []
    }
  ]
}