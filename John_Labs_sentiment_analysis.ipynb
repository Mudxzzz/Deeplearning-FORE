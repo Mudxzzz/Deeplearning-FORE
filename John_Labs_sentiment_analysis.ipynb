{
  "nbformat": 4,
  "nbformat_minor": 0,
  "metadata": {
    "colab": {
      "name": "John Labs sentiment analysis.ipynb",
      "provenance": [],
      "collapsed_sections": [
        "wIeCOiJNW-88"
      ],
      "include_colab_link": true
    },
    "kernelspec": {
      "display_name": "Python 3",
      "name": "python3"
    }
  },
  "cells": [
    {
      "cell_type": "markdown",
      "metadata": {
        "id": "view-in-github",
        "colab_type": "text"
      },
      "source": [
        "<a href=\"https://colab.research.google.com/github/harnalashok/deeplearning/blob/main/John_Labs_sentiment_analysis.ipynb\" target=\"_parent\"><img src=\"https://colab.research.google.com/assets/colab-badge.svg\" alt=\"Open In Colab\"/></a>"
      ]
    },
    {
      "cell_type": "markdown",
      "metadata": {
        "id": "TA21Jo5d9SVq"
      },
      "source": [
        "\n",
        "\n",
        "![JohnSnowLabs](https://nlp.johnsnowlabs.com/assets/images/logo.png)\n",
        "\n",
        "[![Open In Colab](https://colab.research.google.com/assets/colab-badge.svg)](https://githubtocolab.com/JohnSnowLabs/spark-nlp-workshop/blob/master/tutorials/streamlit_notebooks/NER_EN.ipynb)\n",
        "\n",
        "\n"
      ]
    },
    {
      "cell_type": "markdown",
      "metadata": {
        "id": "CzIdjHkAW8TB"
      },
      "source": [
        "# **Sentiment Prediction in English text**\n",
        "Refer [here](https://nlp.johnsnowlabs.com/docs/en/annotators#classifierdl) <br>\n",
        "For appropriate spark-nlp models and pipeline make a search [here](https://nlp.johnsnowlabs.com/models)"
      ]
    },
    {
      "cell_type": "markdown",
      "metadata": {
        "id": "6eobhtJxmHd9"
      },
      "source": [
        "Trains a `ClassifierDL` for generic Multi-class Text Classification. \n",
        "\n",
        "`ClassifierDL` uses the state-of-the-art `Universal Sentence Encoder` as an input for text classifications. The `ClassifierDL` annotator uses a deep learning model (DNNs) built inside TensorFlow and supports up to 100 classes.\n",
        "\n",
        "For instantiated/pretrained models, see ClassifierDLModel."
      ]
    },
    {
      "cell_type": "markdown",
      "metadata": {
        "id": "yC7zYsccm_Kz"
      },
      "source": [
        "Note: This annotator accepts a label column of a single item in either type of String, Int, Float, or Double. UniversalSentenceEncoder, BertSentenceEmbeddings, or SentenceEmbeddings can be used for the inputCol"
      ]
    },
    {
      "cell_type": "markdown",
      "metadata": {
        "id": "wIeCOiJNW-88"
      },
      "source": [
        "## 1. Colab Setup\n",
        "Install spark-nlp"
      ]
    },
    {
      "cell_type": "code",
      "metadata": {
        "id": "M9az4p8egymY",
        "colab": {
          "base_uri": "https://localhost:8080/"
        },
        "outputId": "7aa0deef-60a8-4665-ff61-6889633991a5"
      },
      "source": [
        "# Installs pyspark, spark-nlp and findspark\n",
        "\n",
        "!wget http://setup.johnsnowlabs.com/colab.sh -O - | bash\n",
        "\n",
        "# !bash colab.sh\n",
        "# -p is for pyspark\n",
        "# -s is for spark-nlp\n",
        "# !bash colab.sh -p 3.1.1 -s 3.0.1\n",
        "# by default they are set to the latest\n",
        "\n"
      ],
      "execution_count": 1,
      "outputs": [
        {
          "output_type": "stream",
          "name": "stdout",
          "text": [
            "--2021-11-11 23:45:35--  http://setup.johnsnowlabs.com/colab.sh\n",
            "Resolving setup.johnsnowlabs.com (setup.johnsnowlabs.com)... 51.158.130.125\n",
            "Connecting to setup.johnsnowlabs.com (setup.johnsnowlabs.com)|51.158.130.125|:80... connected.\n",
            "HTTP request sent, awaiting response... 302 Found\n",
            "Location: https://setup.johnsnowlabs.com/colab.sh [following]\n",
            "--2021-11-11 23:45:37--  https://setup.johnsnowlabs.com/colab.sh\n",
            "Connecting to setup.johnsnowlabs.com (setup.johnsnowlabs.com)|51.158.130.125|:443... connected.\n",
            "HTTP request sent, awaiting response... 302 Moved Temporarily\n",
            "Location: https://raw.githubusercontent.com/JohnSnowLabs/spark-nlp/master/scripts/colab_setup.sh [following]\n",
            "--2021-11-11 23:45:38--  https://raw.githubusercontent.com/JohnSnowLabs/spark-nlp/master/scripts/colab_setup.sh\n",
            "Resolving raw.githubusercontent.com (raw.githubusercontent.com)... 185.199.108.133, 185.199.109.133, 185.199.110.133, ...\n",
            "Connecting to raw.githubusercontent.com (raw.githubusercontent.com)|185.199.108.133|:443... connected.\n",
            "HTTP request sent, awaiting response... 200 OK\n",
            "Length: 1275 (1.2K) [text/plain]\n",
            "Saving to: ‘STDOUT’\n",
            "\n",
            "-                     0%[                    ]       0  --.-KB/s               setup Colab for PySpark 3.0.3 and Spark NLP 3.3.2\n",
            "Installing PySpark 3.0.3 and Spark NLP 3.3.2\n",
            "-                   100%[===================>]   1.25K  --.-KB/s    in 0s      \n",
            "\n",
            "2021-11-11 23:45:38 (23.4 MB/s) - written to stdout [1275/1275]\n",
            "\n",
            "\u001b[K     |████████████████████████████████| 209.1 MB 59 kB/s \n",
            "\u001b[K     |████████████████████████████████| 130 kB 54.1 MB/s \n",
            "\u001b[K     |████████████████████████████████| 198 kB 51.5 MB/s \n",
            "\u001b[?25h  Building wheel for pyspark (setup.py) ... \u001b[?25l\u001b[?25hdone\n"
          ]
        }
      ]
    },
    {
      "cell_type": "code",
      "metadata": {
        "id": "GKDliST0g0Bn",
        "colab": {
          "base_uri": "https://localhost:8080/"
        },
        "outputId": "c1ce547b-9b59-43ab-edf3-2874ec97993b"
      },
      "source": [
        "# To check contents of colab.sh, just download \n",
        "#  colab.sh and examine its contents:\n",
        "\n",
        "!wget http://setup.johnsnowlabs.com/colab.sh \n",
        "\n",
        "! cat /content/colab.sh\n"
      ],
      "execution_count": 2,
      "outputs": [
        {
          "output_type": "stream",
          "name": "stdout",
          "text": [
            "--2021-11-11 23:46:19--  http://setup.johnsnowlabs.com/colab.sh\n",
            "Resolving setup.johnsnowlabs.com (setup.johnsnowlabs.com)... 51.158.130.125\n",
            "Connecting to setup.johnsnowlabs.com (setup.johnsnowlabs.com)|51.158.130.125|:80... connected.\n",
            "HTTP request sent, awaiting response... 302 Found\n",
            "Location: https://setup.johnsnowlabs.com/colab.sh [following]\n",
            "--2021-11-11 23:46:20--  https://setup.johnsnowlabs.com/colab.sh\n",
            "Connecting to setup.johnsnowlabs.com (setup.johnsnowlabs.com)|51.158.130.125|:443... connected.\n",
            "HTTP request sent, awaiting response... 302 Moved Temporarily\n",
            "Location: https://raw.githubusercontent.com/JohnSnowLabs/spark-nlp/master/scripts/colab_setup.sh [following]\n",
            "--2021-11-11 23:46:21--  https://raw.githubusercontent.com/JohnSnowLabs/spark-nlp/master/scripts/colab_setup.sh\n",
            "Resolving raw.githubusercontent.com (raw.githubusercontent.com)... 185.199.110.133, 185.199.109.133, 185.199.108.133, ...\n",
            "Connecting to raw.githubusercontent.com (raw.githubusercontent.com)|185.199.110.133|:443... connected.\n",
            "HTTP request sent, awaiting response... 200 OK\n",
            "Length: 1275 (1.2K) [text/plain]\n",
            "Saving to: ‘colab.sh’\n",
            "\n",
            "colab.sh            100%[===================>]   1.25K  --.-KB/s    in 0s      \n",
            "\n",
            "2021-11-11 23:46:21 (47.2 MB/s) - ‘colab.sh’ saved [1275/1275]\n",
            "\n",
            "#!/bin/bash\n",
            "\n",
            "#default values for pyspark, spark-nlp, and SPARK_HOME\n",
            "SPARKNLP=\"3.3.2\"\n",
            "PYSPARK=\"3.0.3\"\n",
            "\n",
            "while getopts s:p: option\n",
            "do\n",
            " case \"${option}\"\n",
            " in\n",
            " s) SPARKNLP=${OPTARG};;\n",
            " p) PYSPARK=${OPTARG};;\n",
            " esac\n",
            "done\n",
            "\n",
            "echo \"setup Colab for PySpark $PYSPARK and Spark NLP $SPARKNLP\"\n",
            "export JAVA_HOME=\"/usr/lib/jvm/java-11-openjdk-amd64\"\n",
            "\n",
            "if [[ \"$PYSPARK\" == \"3.1\"* ]]; then\n",
            "  echo \"Installing PySpark $PYSPARK and Spark NLP $SPARKNLP\"\n",
            "elif [[ \"$PYSPARK\" == \"3.0\"* ]]; then\n",
            "  echo \"Installing PySpark $PYSPARK and Spark NLP $SPARKNLP\"\n",
            "elif [[ \"$PYSPARK\" == \"2\"* ]]; then\n",
            "  echo \"Installing PySpark $PYSPARK and Spark NLP $SPARKNLP\"\n",
            "  apt-get update\n",
            "  apt-get purge -y openjdk-11* -qq > /dev/null && sudo apt-get autoremove -y -qq > /dev/null\n",
            "  apt-get install -y openjdk-8-jdk-headless -qq > /dev/null\n",
            "\n",
            "  export SPARK_HOME=$SPARKHOME\n",
            "  export JAVA_HOME=\"/usr/lib/jvm/java-8-openjdk-amd64\"\n",
            "\n",
            "  wget -q \"https://downloads.apache.org/spark/spark-2.4.8/spark-2.4.8-bin-hadoop2.7.tgz\" > /dev/null\n",
            "  tar -xvf spark-2.4.8-bin-hadoop2.8.tgz > /dev/null\n",
            "  SPARKHOME=\"/content/spark-2.4.8-bin-hadoop2.7\"\n",
            "else\n",
            "  export JAVA_HOME=\"/usr/lib/jvm/java-11-openjdk-amd64\"\n",
            "  PYSPARK=\"3.0.3\"\n",
            "fi\n",
            "\n",
            "\n",
            "# Install pyspark spark-nlp\n",
            "! pip install --upgrade -q pyspark==$PYSPARK spark-nlp==$SPARKNLP findspark\n"
          ]
        }
      ]
    },
    {
      "cell_type": "code",
      "metadata": {
        "id": "CGJktFHdHL1n"
      },
      "source": [
        "# Install Spark NLP Display for visualization\n",
        "# !pip install --ignore-installed spark-nlp"
      ],
      "execution_count": 3,
      "outputs": []
    },
    {
      "cell_type": "markdown",
      "metadata": {
        "id": "eCIT5VLxS3I1"
      },
      "source": [
        "## 2. Start the Spark session"
      ]
    },
    {
      "cell_type": "markdown",
      "metadata": {
        "id": "khjM-z9ORFU3"
      },
      "source": [
        "Import dependencies and start Spark session."
      ]
    },
    {
      "cell_type": "code",
      "metadata": {
        "id": "sw-t1zxlHTB7"
      },
      "source": [
        "import pandas as pd\n",
        "import numpy as np\n",
        "import sparknlp\n",
        "from sparknlp.base import *\n",
        "from sparknlp.annotator import *\n",
        "from pyspark.ml import Pipeline\n",
        "from pyspark.sql import SparkSession\n",
        "import pyspark.sql.functions as F\n",
        "from pyspark.sql.types import DoubleType\n",
        "#Replace part of string with another string\n",
        "from pyspark.sql.functions import regexp_replace\n",
        "\n"
      ],
      "execution_count": 34,
      "outputs": []
    },
    {
      "cell_type": "code",
      "metadata": {
        "id": "NJ2UWVCllv57"
      },
      "source": [
        "# Create Spark session\n",
        "# And start sparknlp\n",
        "\n",
        "spark = sparknlp.start()"
      ],
      "execution_count": 6,
      "outputs": []
    },
    {
      "cell_type": "code",
      "metadata": {
        "id": "FDzfXA4VnX36"
      },
      "source": [
        "# Show multiple command outputs from a cell\n",
        "\n",
        "from IPython.core.interactiveshell import InteractiveShell\n",
        "InteractiveShell.ast_node_interactivity = \"all\"\n"
      ],
      "execution_count": 7,
      "outputs": []
    },
    {
      "cell_type": "code",
      "metadata": {
        "colab": {
          "base_uri": "https://localhost:8080/"
        },
        "id": "yCR4fpdTZFKK",
        "outputId": "e5c4da9d-3054-4bdf-8ef0-47265a45f499"
      },
      "source": [
        "# Mount gdrive to read data\n",
        "from google.colab import drive\n",
        "drive.mount('/gdrive')"
      ],
      "execution_count": 8,
      "outputs": [
        {
          "output_type": "stream",
          "name": "stdout",
          "text": [
            "Mounted at /gdrive\n"
          ]
        }
      ]
    },
    {
      "cell_type": "markdown",
      "metadata": {
        "id": "9RgiqfX5XDqb"
      },
      "source": [
        "## 3. Read data"
      ]
    },
    {
      "cell_type": "code",
      "metadata": {
        "id": "Jde_sSWcbqRp"
      },
      "source": [
        "path = \"/gdrive/MyDrive/Colab_data_files/corona_nlp/Corona_NLP_test.csv\""
      ],
      "execution_count": 10,
      "outputs": []
    },
    {
      "cell_type": "markdown",
      "metadata": {
        "id": "S90CG1rdlIb0"
      },
      "source": [
        "In this example, the training data `\"sentiment.csv\"` has the form of --text,label--. Examples:\n",
        "```\n",
        "This movie is the best movie I have wached ever! In my opinion this movie can win an award.,0\n",
        "This was a terrible movie! The acting was bad really bad!,1\n",
        "```"
      ]
    },
    {
      "cell_type": "code",
      "metadata": {
        "id": "WqtFJaKgbyvi"
      },
      "source": [
        "df = spark.read.csv(path=path, inferSchema=True, header=True)"
      ],
      "execution_count": 17,
      "outputs": []
    },
    {
      "cell_type": "code",
      "metadata": {
        "id": "pCG_BLlVcH8Z"
      },
      "source": [
        "df.show(40)\n",
        "df.count()   # 6792"
      ],
      "execution_count": null,
      "outputs": []
    },
    {
      "cell_type": "code",
      "metadata": {
        "id": "W4H6CCQ7cUpD"
      },
      "source": [
        "df = df.dropna()"
      ],
      "execution_count": 19,
      "outputs": []
    },
    {
      "cell_type": "code",
      "metadata": {
        "colab": {
          "base_uri": "https://localhost:8080/"
        },
        "id": "BIZpvXH4cb0C",
        "outputId": "74bfa610-0fc0-42af-b324-a25f2d8acd1f"
      },
      "source": [
        "df.count()  # 1944"
      ],
      "execution_count": 20,
      "outputs": [
        {
          "output_type": "execute_result",
          "data": {
            "text/plain": [
              "1944"
            ]
          },
          "metadata": {},
          "execution_count": 20
        }
      ]
    },
    {
      "cell_type": "code",
      "metadata": {
        "colab": {
          "base_uri": "https://localhost:8080/"
        },
        "id": "4SRqgMXrcu5d",
        "outputId": "e1ee0851-3661-4a81-c953-91b57763230c"
      },
      "source": [
        "df.columns"
      ],
      "execution_count": 21,
      "outputs": [
        {
          "output_type": "execute_result",
          "data": {
            "text/plain": [
              "['UserName', 'ScreenName', 'Location', 'TweetAt', 'OriginalTweet', 'Sentiment']"
            ]
          },
          "metadata": {},
          "execution_count": 21
        }
      ]
    },
    {
      "cell_type": "code",
      "metadata": {
        "id": "Lr9iJTA5csA6"
      },
      "source": [
        "df = df.select('OriginalTweet', 'Sentiment')"
      ],
      "execution_count": 23,
      "outputs": []
    },
    {
      "cell_type": "code",
      "metadata": {
        "colab": {
          "base_uri": "https://localhost:8080/"
        },
        "id": "jMxLtO6idJDM",
        "outputId": "acbd01f6-5bb1-4d2d-eab4-f389e8f3dccc"
      },
      "source": [
        "df.show()"
      ],
      "execution_count": 24,
      "outputs": [
        {
          "output_type": "stream",
          "name": "stdout",
          "text": [
            "+--------------------+--------------------+\n",
            "|       OriginalTweet|           Sentiment|\n",
            "+--------------------+--------------------+\n",
            "|TRENDING: New Yor...|  Extremely Negative|\n",
            "|When I couldn't f...|            Positive|\n",
            "|#toiletpaper #dun...|             Neutral|\n",
            "|Do you remember t...|             Neutral|\n",
            "|Anyone been in a ...|  Extremely Positive|\n",
            "|While we were bus...|            Positive|\n",
            "|When youre stock...|             Neutral|\n",
            "|#CoronaVirus #COV...|            Negative|\n",
            "|\"For those of you...|  Extremely Positive|\n",
            "|Control over stoc...|  Extremely Positive|\n",
            "|When your usual g...|            Negative|\n",
            "|\"#Coronavirus is ...|\"\" says NELP Gove...|\n",
            "|Two important pho...|            Negative|\n",
            "|IMHO Russia's rug...|  Extremely Negative|\n",
            "|So not due to #Br...|             Neutral|\n",
            "|Fellow Uni instru...|            Negative|\n",
            "|1/25 Part 1 - Why...|            Negative|\n",
            "|Thread: Please ST...|  Extremely Positive|\n",
            "|For those thinkin...|            Positive|\n",
            "|Global stock mark...|             Neutral|\n",
            "+--------------------+--------------------+\n",
            "only showing top 20 rows\n",
            "\n"
          ]
        }
      ]
    },
    {
      "cell_type": "code",
      "metadata": {
        "id": "4G4pXVw2WfBD",
        "colab": {
          "base_uri": "https://localhost:8080/",
          "height": 317
        },
        "outputId": "3aa418f5-65ef-43d6-90ce-ec9f2559a9d1"
      },
      "source": [
        "# Read dataset using pandas\n",
        "f = pd.read_csv(path)\n",
        "f.head()\n",
        "f['Sentiment'].value_counts()\n"
      ],
      "execution_count": 27,
      "outputs": [
        {
          "output_type": "execute_result",
          "data": {
            "text/html": [
              "<div>\n",
              "<style scoped>\n",
              "    .dataframe tbody tr th:only-of-type {\n",
              "        vertical-align: middle;\n",
              "    }\n",
              "\n",
              "    .dataframe tbody tr th {\n",
              "        vertical-align: top;\n",
              "    }\n",
              "\n",
              "    .dataframe thead th {\n",
              "        text-align: right;\n",
              "    }\n",
              "</style>\n",
              "<table border=\"1\" class=\"dataframe\">\n",
              "  <thead>\n",
              "    <tr style=\"text-align: right;\">\n",
              "      <th></th>\n",
              "      <th>UserName</th>\n",
              "      <th>ScreenName</th>\n",
              "      <th>Location</th>\n",
              "      <th>TweetAt</th>\n",
              "      <th>OriginalTweet</th>\n",
              "      <th>Sentiment</th>\n",
              "    </tr>\n",
              "  </thead>\n",
              "  <tbody>\n",
              "    <tr>\n",
              "      <th>0</th>\n",
              "      <td>1</td>\n",
              "      <td>44953</td>\n",
              "      <td>NYC</td>\n",
              "      <td>02-03-2020</td>\n",
              "      <td>TRENDING: New Yorkers encounter empty supermar...</td>\n",
              "      <td>Extremely Negative</td>\n",
              "    </tr>\n",
              "    <tr>\n",
              "      <th>1</th>\n",
              "      <td>2</td>\n",
              "      <td>44954</td>\n",
              "      <td>Seattle, WA</td>\n",
              "      <td>02-03-2020</td>\n",
              "      <td>When I couldn't find hand sanitizer at Fred Me...</td>\n",
              "      <td>Positive</td>\n",
              "    </tr>\n",
              "    <tr>\n",
              "      <th>2</th>\n",
              "      <td>3</td>\n",
              "      <td>44955</td>\n",
              "      <td>NaN</td>\n",
              "      <td>02-03-2020</td>\n",
              "      <td>Find out how you can protect yourself and love...</td>\n",
              "      <td>Extremely Positive</td>\n",
              "    </tr>\n",
              "    <tr>\n",
              "      <th>3</th>\n",
              "      <td>4</td>\n",
              "      <td>44956</td>\n",
              "      <td>Chicagoland</td>\n",
              "      <td>02-03-2020</td>\n",
              "      <td>#Panic buying hits #NewYork City as anxious sh...</td>\n",
              "      <td>Negative</td>\n",
              "    </tr>\n",
              "    <tr>\n",
              "      <th>4</th>\n",
              "      <td>5</td>\n",
              "      <td>44957</td>\n",
              "      <td>Melbourne, Victoria</td>\n",
              "      <td>03-03-2020</td>\n",
              "      <td>#toiletpaper #dunnypaper #coronavirus #coronav...</td>\n",
              "      <td>Neutral</td>\n",
              "    </tr>\n",
              "  </tbody>\n",
              "</table>\n",
              "</div>"
            ],
            "text/plain": [
              "   UserName  ...           Sentiment\n",
              "0         1  ...  Extremely Negative\n",
              "1         2  ...            Positive\n",
              "2         3  ...  Extremely Positive\n",
              "3         4  ...            Negative\n",
              "4         5  ...             Neutral\n",
              "\n",
              "[5 rows x 6 columns]"
            ]
          },
          "metadata": {},
          "execution_count": 27
        },
        {
          "output_type": "execute_result",
          "data": {
            "text/plain": [
              "Negative              1041\n",
              "Positive               947\n",
              "Neutral                619\n",
              "Extremely Positive     599\n",
              "Extremely Negative     592\n",
              "Name: Sentiment, dtype: int64"
            ]
          },
          "metadata": {},
          "execution_count": 27
        }
      ]
    },
    {
      "cell_type": "code",
      "metadata": {
        "id": "KT2ugTrBeAGt"
      },
      "source": [
        "g = f[['OriginalTweet','Sentiment']].copy()"
      ],
      "execution_count": 28,
      "outputs": []
    },
    {
      "cell_type": "code",
      "metadata": {
        "id": "gxAtSTgpeN96"
      },
      "source": [
        "smallCorpus =spark.createDataFrame(g)"
      ],
      "execution_count": 29,
      "outputs": []
    },
    {
      "cell_type": "code",
      "metadata": {
        "id": "Ed8IG0gTnrCh",
        "colab": {
          "base_uri": "https://localhost:8080/"
        },
        "outputId": "a52e9a8d-9314-4812-d62e-c53b108a04af"
      },
      "source": [
        "smallCorpus.show()"
      ],
      "execution_count": 30,
      "outputs": [
        {
          "output_type": "stream",
          "name": "stdout",
          "text": [
            "+--------------------+------------------+\n",
            "|       OriginalTweet|         Sentiment|\n",
            "+--------------------+------------------+\n",
            "|TRENDING: New Yor...|Extremely Negative|\n",
            "|When I couldn't f...|          Positive|\n",
            "|Find out how you ...|Extremely Positive|\n",
            "|#Panic buying hit...|          Negative|\n",
            "|#toiletpaper #dun...|           Neutral|\n",
            "|Do you remember t...|           Neutral|\n",
            "|Voting in the age...|          Positive|\n",
            "|@DrTedros \"We can...|           Neutral|\n",
            "|HI TWITTER! I am ...|Extremely Negative|\n",
            "|Anyone been in a ...|Extremely Positive|\n",
            "|Best quality couc...|          Positive|\n",
            "|Beware of counter...|Extremely Negative|\n",
            "|Panic food buying...|Extremely Negative|\n",
            "|#Covid_19 Went to...|Extremely Positive|\n",
            "|While we were bus...|          Positive|\n",
            "|#AirSewa \r\r\n",
            "\r\r\n",
            "@f...|Extremely Negative|\n",
            "|What Precautionar...|Extremely Positive|\n",
            "|When youre stock...|           Neutral|\n",
            "|That's about a we...|          Positive|\n",
            "|Studies show the ...|Extremely Positive|\n",
            "+--------------------+------------------+\n",
            "only showing top 20 rows\n",
            "\n"
          ]
        }
      ]
    },
    {
      "cell_type": "code",
      "metadata": {
        "colab": {
          "base_uri": "https://localhost:8080/"
        },
        "id": "ATy_l4ljefj0",
        "outputId": "c96ab241-1f35-4cc7-974d-2cbd258a1a10"
      },
      "source": [
        "smallCorpus.count()\n",
        "smallCorpus = smallCorpus.dropna()"
      ],
      "execution_count": 31,
      "outputs": [
        {
          "output_type": "execute_result",
          "data": {
            "text/plain": [
              "3798"
            ]
          },
          "metadata": {},
          "execution_count": 31
        }
      ]
    },
    {
      "cell_type": "code",
      "metadata": {
        "colab": {
          "base_uri": "https://localhost:8080/"
        },
        "id": "HScNSIwTeoHB",
        "outputId": "52dd2b8e-421e-45a6-f2bd-be0810bbe4d6"
      },
      "source": [
        "smallCorpus.count()"
      ],
      "execution_count": 32,
      "outputs": [
        {
          "output_type": "execute_result",
          "data": {
            "text/plain": [
              "3798"
            ]
          },
          "metadata": {},
          "execution_count": 32
        }
      ]
    },
    {
      "cell_type": "code",
      "metadata": {
        "id": "VCs3iPL7gjGY"
      },
      "source": [
        "smallCorpus."
      ],
      "execution_count": null,
      "outputs": []
    },
    {
      "cell_type": "code",
      "metadata": {
        "colab": {
          "base_uri": "https://localhost:8080/",
          "height": 547
        },
        "id": "OIFURAkvhGYZ",
        "outputId": "bb9fe1c3-7f8b-4cd9-a071-911da18d91c2"
      },
      "source": [
        "#Replace part of string with another string\n",
        "smallCorpus.withColumn('Sentiment', regexp_replace('Sentiment', 'Negative', ))\n",
        "smallCorpus.show()"
      ],
      "execution_count": 38,
      "outputs": [
        {
          "output_type": "error",
          "ename": "Py4JError",
          "evalue": "ignored",
          "traceback": [
            "\u001b[0;31m---------------------------------------------------------------------------\u001b[0m",
            "\u001b[0;31mPy4JError\u001b[0m                                 Traceback (most recent call last)",
            "\u001b[0;32m<ipython-input-38-e9156a829a3c>\u001b[0m in \u001b[0;36m<module>\u001b[0;34m()\u001b[0m\n\u001b[1;32m      1\u001b[0m \u001b[0;31m#Replace part of string with another string\u001b[0m\u001b[0;34m\u001b[0m\u001b[0;34m\u001b[0m\u001b[0;34m\u001b[0m\u001b[0m\n\u001b[0;32m----> 2\u001b[0;31m \u001b[0msmallCorpus\u001b[0m\u001b[0;34m.\u001b[0m\u001b[0mwithColumn\u001b[0m\u001b[0;34m(\u001b[0m\u001b[0;34m'Sentiment'\u001b[0m\u001b[0;34m,\u001b[0m \u001b[0mregexp_replace\u001b[0m\u001b[0;34m(\u001b[0m\u001b[0;34m'Sentiment'\u001b[0m\u001b[0;34m,\u001b[0m \u001b[0;34m'Negative'\u001b[0m\u001b[0;34m,\u001b[0m \u001b[0;36m0\u001b[0m\u001b[0;34m)\u001b[0m\u001b[0;34m)\u001b[0m\u001b[0;34m\u001b[0m\u001b[0;34m\u001b[0m\u001b[0m\n\u001b[0m\u001b[1;32m      3\u001b[0m \u001b[0msmallCorpus\u001b[0m\u001b[0;34m.\u001b[0m\u001b[0mshow\u001b[0m\u001b[0;34m(\u001b[0m\u001b[0;34m)\u001b[0m\u001b[0;34m\u001b[0m\u001b[0;34m\u001b[0m\u001b[0m\n",
            "\u001b[0;32m/usr/local/lib/python3.7/dist-packages/pyspark/sql/functions.py\u001b[0m in \u001b[0;36mregexp_replace\u001b[0;34m(str, pattern, replacement)\u001b[0m\n\u001b[1;32m   1825\u001b[0m     \"\"\"\n\u001b[1;32m   1826\u001b[0m     \u001b[0msc\u001b[0m \u001b[0;34m=\u001b[0m \u001b[0mSparkContext\u001b[0m\u001b[0;34m.\u001b[0m\u001b[0m_active_spark_context\u001b[0m\u001b[0;34m\u001b[0m\u001b[0;34m\u001b[0m\u001b[0m\n\u001b[0;32m-> 1827\u001b[0;31m     \u001b[0mjc\u001b[0m \u001b[0;34m=\u001b[0m \u001b[0msc\u001b[0m\u001b[0;34m.\u001b[0m\u001b[0m_jvm\u001b[0m\u001b[0;34m.\u001b[0m\u001b[0mfunctions\u001b[0m\u001b[0;34m.\u001b[0m\u001b[0mregexp_replace\u001b[0m\u001b[0;34m(\u001b[0m\u001b[0m_to_java_column\u001b[0m\u001b[0;34m(\u001b[0m\u001b[0mstr\u001b[0m\u001b[0;34m)\u001b[0m\u001b[0;34m,\u001b[0m \u001b[0mpattern\u001b[0m\u001b[0;34m,\u001b[0m \u001b[0mreplacement\u001b[0m\u001b[0;34m)\u001b[0m\u001b[0;34m\u001b[0m\u001b[0;34m\u001b[0m\u001b[0m\n\u001b[0m\u001b[1;32m   1828\u001b[0m     \u001b[0;32mreturn\u001b[0m \u001b[0mColumn\u001b[0m\u001b[0;34m(\u001b[0m\u001b[0mjc\u001b[0m\u001b[0;34m)\u001b[0m\u001b[0;34m\u001b[0m\u001b[0;34m\u001b[0m\u001b[0m\n\u001b[1;32m   1829\u001b[0m \u001b[0;34m\u001b[0m\u001b[0m\n",
            "\u001b[0;32m/usr/local/lib/python3.7/dist-packages/py4j/java_gateway.py\u001b[0m in \u001b[0;36m__call__\u001b[0;34m(self, *args)\u001b[0m\n\u001b[1;32m   1303\u001b[0m         \u001b[0manswer\u001b[0m \u001b[0;34m=\u001b[0m \u001b[0mself\u001b[0m\u001b[0;34m.\u001b[0m\u001b[0mgateway_client\u001b[0m\u001b[0;34m.\u001b[0m\u001b[0msend_command\u001b[0m\u001b[0;34m(\u001b[0m\u001b[0mcommand\u001b[0m\u001b[0;34m)\u001b[0m\u001b[0;34m\u001b[0m\u001b[0;34m\u001b[0m\u001b[0m\n\u001b[1;32m   1304\u001b[0m         return_value = get_return_value(\n\u001b[0;32m-> 1305\u001b[0;31m             answer, self.gateway_client, self.target_id, self.name)\n\u001b[0m\u001b[1;32m   1306\u001b[0m \u001b[0;34m\u001b[0m\u001b[0m\n\u001b[1;32m   1307\u001b[0m         \u001b[0;32mfor\u001b[0m \u001b[0mtemp_arg\u001b[0m \u001b[0;32min\u001b[0m \u001b[0mtemp_args\u001b[0m\u001b[0;34m:\u001b[0m\u001b[0;34m\u001b[0m\u001b[0;34m\u001b[0m\u001b[0m\n",
            "\u001b[0;32m/usr/local/lib/python3.7/dist-packages/pyspark/sql/utils.py\u001b[0m in \u001b[0;36mdeco\u001b[0;34m(*a, **kw)\u001b[0m\n\u001b[1;32m    126\u001b[0m     \u001b[0;32mdef\u001b[0m \u001b[0mdeco\u001b[0m\u001b[0;34m(\u001b[0m\u001b[0;34m*\u001b[0m\u001b[0ma\u001b[0m\u001b[0;34m,\u001b[0m \u001b[0;34m**\u001b[0m\u001b[0mkw\u001b[0m\u001b[0;34m)\u001b[0m\u001b[0;34m:\u001b[0m\u001b[0;34m\u001b[0m\u001b[0;34m\u001b[0m\u001b[0m\n\u001b[1;32m    127\u001b[0m         \u001b[0;32mtry\u001b[0m\u001b[0;34m:\u001b[0m\u001b[0;34m\u001b[0m\u001b[0;34m\u001b[0m\u001b[0m\n\u001b[0;32m--> 128\u001b[0;31m             \u001b[0;32mreturn\u001b[0m \u001b[0mf\u001b[0m\u001b[0;34m(\u001b[0m\u001b[0;34m*\u001b[0m\u001b[0ma\u001b[0m\u001b[0;34m,\u001b[0m \u001b[0;34m**\u001b[0m\u001b[0mkw\u001b[0m\u001b[0;34m)\u001b[0m\u001b[0;34m\u001b[0m\u001b[0;34m\u001b[0m\u001b[0m\n\u001b[0m\u001b[1;32m    129\u001b[0m         \u001b[0;32mexcept\u001b[0m \u001b[0mpy4j\u001b[0m\u001b[0;34m.\u001b[0m\u001b[0mprotocol\u001b[0m\u001b[0;34m.\u001b[0m\u001b[0mPy4JJavaError\u001b[0m \u001b[0;32mas\u001b[0m \u001b[0me\u001b[0m\u001b[0;34m:\u001b[0m\u001b[0;34m\u001b[0m\u001b[0;34m\u001b[0m\u001b[0m\n\u001b[1;32m    130\u001b[0m             \u001b[0mconverted\u001b[0m \u001b[0;34m=\u001b[0m \u001b[0mconvert_exception\u001b[0m\u001b[0;34m(\u001b[0m\u001b[0me\u001b[0m\u001b[0;34m.\u001b[0m\u001b[0mjava_exception\u001b[0m\u001b[0;34m)\u001b[0m\u001b[0;34m\u001b[0m\u001b[0;34m\u001b[0m\u001b[0m\n",
            "\u001b[0;32m/usr/local/lib/python3.7/dist-packages/py4j/protocol.py\u001b[0m in \u001b[0;36mget_return_value\u001b[0;34m(answer, gateway_client, target_id, name)\u001b[0m\n\u001b[1;32m    330\u001b[0m                 raise Py4JError(\n\u001b[1;32m    331\u001b[0m                     \u001b[0;34m\"An error occurred while calling {0}{1}{2}. Trace:\\n{3}\\n\"\u001b[0m\u001b[0;34m.\u001b[0m\u001b[0;34m\u001b[0m\u001b[0;34m\u001b[0m\u001b[0m\n\u001b[0;32m--> 332\u001b[0;31m                     format(target_id, \".\", name, value))\n\u001b[0m\u001b[1;32m    333\u001b[0m         \u001b[0;32melse\u001b[0m\u001b[0;34m:\u001b[0m\u001b[0;34m\u001b[0m\u001b[0;34m\u001b[0m\u001b[0m\n\u001b[1;32m    334\u001b[0m             raise Py4JError(\n",
            "\u001b[0;31mPy4JError\u001b[0m: An error occurred while calling z:org.apache.spark.sql.functions.regexp_replace. Trace:\npy4j.Py4JException: Method regexp_replace([class org.apache.spark.sql.Column, class java.lang.String, class java.lang.Integer]) does not exist\n\tat py4j.reflection.ReflectionEngine.getMethod(ReflectionEngine.java:318)\n\tat py4j.reflection.ReflectionEngine.getMethod(ReflectionEngine.java:339)\n\tat py4j.Gateway.invoke(Gateway.java:276)\n\tat py4j.commands.AbstractCommand.invokeMethod(AbstractCommand.java:132)\n\tat py4j.commands.CallCommand.execute(CallCommand.java:79)\n\tat py4j.GatewayConnection.run(GatewayConnection.java:238)\n\tat java.base/java.lang.Thread.run(Thread.java:829)\n\n"
          ]
        }
      ]
    },
    {
      "cell_type": "code",
      "metadata": {
        "colab": {
          "base_uri": "https://localhost:8080/"
        },
        "id": "ziaq0PiZiZ_J",
        "outputId": "c718c15e-e698-4a7f-d0d6-7dd2e2aed7ac"
      },
      "source": [
        "# Change data type of 'label' column\n",
        "smallCorpus = smallCorpus.withColumn(\n",
        "                                      \"label\",\n",
        "                                      smallCorpus[\"Sentiment\"]\n",
        "                                    )\n",
        "\n",
        "smallCorpus = smallCorpus.withColumn(\n",
        "                                      \"text\",\n",
        "                                      smallCorpus[\"OriginalTweet\"]\n",
        "                                    )\n",
        "\n",
        "smallCorpus.show()"
      ],
      "execution_count": 40,
      "outputs": [
        {
          "output_type": "stream",
          "name": "stdout",
          "text": [
            "+--------------------+------------------+------------------+--------------------+\n",
            "|       OriginalTweet|         Sentiment|             label|                text|\n",
            "+--------------------+------------------+------------------+--------------------+\n",
            "|TRENDING: New Yor...|Extremely Negative|Extremely Negative|TRENDING: New Yor...|\n",
            "|When I couldn't f...|          Positive|          Positive|When I couldn't f...|\n",
            "|Find out how you ...|Extremely Positive|Extremely Positive|Find out how you ...|\n",
            "|#Panic buying hit...|          Negative|          Negative|#Panic buying hit...|\n",
            "|#toiletpaper #dun...|           Neutral|           Neutral|#toiletpaper #dun...|\n",
            "|Do you remember t...|           Neutral|           Neutral|Do you remember t...|\n",
            "|Voting in the age...|          Positive|          Positive|Voting in the age...|\n",
            "|@DrTedros \"We can...|           Neutral|           Neutral|@DrTedros \"We can...|\n",
            "|HI TWITTER! I am ...|Extremely Negative|Extremely Negative|HI TWITTER! I am ...|\n",
            "|Anyone been in a ...|Extremely Positive|Extremely Positive|Anyone been in a ...|\n",
            "|Best quality couc...|          Positive|          Positive|Best quality couc...|\n",
            "|Beware of counter...|Extremely Negative|Extremely Negative|Beware of counter...|\n",
            "|Panic food buying...|Extremely Negative|Extremely Negative|Panic food buying...|\n",
            "|#Covid_19 Went to...|Extremely Positive|Extremely Positive|#Covid_19 Went to...|\n",
            "|While we were bus...|          Positive|          Positive|While we were bus...|\n",
            "|#AirSewa \r\r\n",
            "\r\r\n",
            "@f...|Extremely Negative|Extremely Negative|#AirSewa \r\r\n",
            "\r\r\n",
            "@f...|\n",
            "|What Precautionar...|Extremely Positive|Extremely Positive|What Precautionar...|\n",
            "|When youre stock...|           Neutral|           Neutral|When youre stock...|\n",
            "|That's about a we...|          Positive|          Positive|That's about a we...|\n",
            "|Studies show the ...|Extremely Positive|Extremely Positive|Studies show the ...|\n",
            "+--------------------+------------------+------------------+--------------------+\n",
            "only showing top 20 rows\n",
            "\n"
          ]
        }
      ]
    },
    {
      "cell_type": "code",
      "metadata": {
        "id": "tJRkEFNvn0qR"
      },
      "source": [
        "# Change data type of 'label' column\n",
        "smallCorpus = smallCorpus.withColumn(\n",
        "                                      \"label\",\n",
        "                                      smallCorpus[\"label\"].cast(DoubleType()\n",
        "                                    )"
      ],
      "execution_count": null,
      "outputs": []
    },
    {
      "cell_type": "code",
      "metadata": {
        "id": "zqzkHV4SLexM"
      },
      "source": [
        "#smallCorpus = spark.read.option(\"header\",\"True\").csv(\"/content/combined.csv\")\n",
        "#smallCorpus = spark.read.csv(path = \"/content/combined.csv\",\n",
        "#                             header = True,\n",
        "#                             inferSchema = True)\n",
        "\n"
      ],
      "execution_count": null,
      "outputs": []
    },
    {
      "cell_type": "code",
      "metadata": {
        "id": "IcF-JxFTdxcN"
      },
      "source": [
        "\n",
        "documentAssembler = DocumentAssembler() \\\n",
        "    .setInputCol(\"text\") \\\n",
        "    .setOutputCol(\"document\")"
      ],
      "execution_count": 41,
      "outputs": []
    },
    {
      "cell_type": "code",
      "metadata": {
        "colab": {
          "base_uri": "https://localhost:8080/"
        },
        "id": "h5zx-2_yi_kR",
        "outputId": "c6292c7f-de79-49c1-a2e2-1019e93bb2af"
      },
      "source": [
        "\n",
        "\n",
        "useEmbeddings = UniversalSentenceEncoder.pretrained() \\\n",
        "    .setInputCols(\"document\") \\\n",
        "    .setOutputCol(\"sentence_embeddings\")"
      ],
      "execution_count": 42,
      "outputs": [
        {
          "output_type": "stream",
          "name": "stdout",
          "text": [
            "tfhub_use download started this may take some time.\n",
            "Approximate size to download 923.7 MB\n",
            "[OK!]\n"
          ]
        }
      ]
    },
    {
      "cell_type": "code",
      "metadata": {
        "id": "VTc7_-m2jDdR"
      },
      "source": [
        "docClassifier = ClassifierDLApproach() \\\n",
        "    .setInputCols(\"sentence_embeddings\") \\\n",
        "    .setOutputCol(\"category\") \\\n",
        "    .setLabelColumn(\"label\") \\\n",
        "    .setBatchSize(64) \\\n",
        "    .setMaxEpochs(20) \\\n",
        "    .setLr(5e-3) \\\n",
        "    .setDropout(0.5)"
      ],
      "execution_count": 43,
      "outputs": []
    },
    {
      "cell_type": "code",
      "metadata": {
        "id": "YOMit9zRRI2b"
      },
      "source": [
        "\n",
        "pipeline = Pipeline() \\\n",
        "    .setStages(\n",
        "      [\n",
        "        documentAssembler,\n",
        "        useEmbeddings,\n",
        "        docClassifier\n",
        "      ]\n",
        "    )\n",
        "\n",
        "\n"
      ],
      "execution_count": 44,
      "outputs": []
    },
    {
      "cell_type": "code",
      "metadata": {
        "id": "x1CH_h60jH4S"
      },
      "source": [
        "pipelineModel = pipeline.fit(smallCorpus)"
      ],
      "execution_count": 45,
      "outputs": []
    },
    {
      "cell_type": "code",
      "metadata": {
        "id": "4NhhH6DCludI"
      },
      "source": [
        "st = smallCorpus.select('text')"
      ],
      "execution_count": 51,
      "outputs": []
    },
    {
      "cell_type": "code",
      "metadata": {
        "id": "IIXEmRDReNLA"
      },
      "source": [
        "pred = pipelineModel.transform(st)"
      ],
      "execution_count": 52,
      "outputs": []
    },
    {
      "cell_type": "code",
      "metadata": {
        "colab": {
          "base_uri": "https://localhost:8080/"
        },
        "id": "ot35G91JldxZ",
        "outputId": "788897a0-64b7-4dcf-af4b-728517c7cb5e"
      },
      "source": [
        "pred.columns"
      ],
      "execution_count": 53,
      "outputs": [
        {
          "output_type": "execute_result",
          "data": {
            "text/plain": [
              "['text', 'document', 'sentence_embeddings', 'category']"
            ]
          },
          "metadata": {},
          "execution_count": 53
        }
      ]
    },
    {
      "cell_type": "code",
      "metadata": {
        "colab": {
          "base_uri": "https://localhost:8080/"
        },
        "id": "j9ShNvWAlhtx",
        "outputId": "9994c449-f097-498c-a459-469a1205a669"
      },
      "source": [
        "pred.select('category').show(truncate = False)"
      ],
      "execution_count": 56,
      "outputs": [
        {
          "output_type": "stream",
          "name": "stdout",
          "text": [
            "+----------------------------------------------------------------------------------------------------------------------------------------------------------------------------------------------------------+\n",
            "|category                                                                                                                                                                                                  |\n",
            "+----------------------------------------------------------------------------------------------------------------------------------------------------------------------------------------------------------+\n",
            "|[[category, 0, 227, Negative, [Neutral -> 0.012181358, Extremely Negative -> 3.2265532E-8, Negative -> 0.9848771, Positive -> 0.0029413248, sentence -> 0, Extremely Positive -> 1.972186E-7], []]]       |\n",
            "|[[category, 0, 192, Positive, [Neutral -> 0.0022905956, Extremely Negative -> 2.5735807E-9, Negative -> 0.020018954, Positive -> 0.97753006, sentence -> 0, Extremely Positive -> 1.603942E-4], []]]      |\n",
            "|[[category, 0, 72, Extremely Positive, [Neutral -> 0.07769975, Extremely Negative -> 3.7938933E-4, Negative -> 0.003585044, Positive -> 0.12118126, sentence -> 0, Extremely Positive -> 0.79715455], []]]|\n",
            "|[[category, 0, 317, Negative, [Neutral -> 0.0014918852, Extremely Negative -> 3.5189487E-7, Negative -> 0.9964876, Positive -> 0.0020195912, sentence -> 0, Extremely Positive -> 5.535608E-7], []]]      |\n",
            "|[[category, 0, 251, Neutral, [Neutral -> 0.6616801, Extremely Negative -> 3.634279E-5, Negative -> 0.24806564, Positive -> 0.088322215, sentence -> 0, Extremely Positive -> 0.0018956529], []]]          |\n",
            "|[[category, 0, 204, Negative, [Neutral -> 2.964316E-4, Extremely Negative -> 9.515696E-9, Negative -> 0.99438757, Positive -> 0.005315892, sentence -> 0, Extremely Positive -> 1.3712949E-7], []]]       |\n",
            "|[[category, 0, 89, Positive, [Neutral -> 0.0011273583, Extremely Negative -> 2.1512724E-10, Negative -> 3.6183255E-6, Positive -> 0.8993714, sentence -> 0, Extremely Positive -> 0.09949757], []]]       |\n",
            "|[[category, 0, 213, Neutral, [Neutral -> 0.59868747, Extremely Negative -> 0.0019025902, Negative -> 0.16301341, Positive -> 0.16001472, sentence -> 0, Extremely Positive -> 0.07638186], []]]           |\n",
            "|[[category, 0, 279, Negative, [Neutral -> 0.012673576, Extremely Negative -> 5.4230522E-6, Negative -> 0.84167933, Positive -> 0.14493448, sentence -> 0, Extremely Positive -> 7.071655E-4], []]]        |\n",
            "|[[category, 0, 237, Positive, [Neutral -> 0.043660212, Extremely Negative -> 6.433554E-10, Negative -> 0.0022568759, Positive -> 0.9535426, sentence -> 0, Extremely Positive -> 5.403629E-4], []]]       |\n",
            "|[[category, 0, 232, Positive, [Neutral -> 0.20022745, Extremely Negative -> 7.829067E-6, Negative -> 0.0028125814, Positive -> 0.5916184, sentence -> 0, Extremely Positive -> 0.2053337], []]]           |\n",
            "|[[category, 0, 242, Negative, [Neutral -> 5.144321E-4, Extremely Negative -> 6.166635E-8, Negative -> 0.9986627, Positive -> 8.2265463E-4, sentence -> 0, Extremely Positive -> 7.4925055E-8], []]]       |\n",
            "|[[category, 0, 267, Positive, [Neutral -> 0.095249064, Extremely Negative -> 2.730954E-6, Negative -> 0.33233374, Positive -> 0.5716798, sentence -> 0, Extremely Positive -> 7.3463185E-4], []]]         |\n",
            "|[[category, 0, 281, Positive, [Neutral -> 0.016528184, Extremely Negative -> 2.6345958E-7, Negative -> 1.921511E-4, Positive -> 0.6371016, sentence -> 0, Extremely Positive -> 0.3461779], []]]          |\n",
            "|[[category, 0, 196, Positive, [Neutral -> 0.25749397, Extremely Negative -> 6.0828435E-5, Negative -> 0.14078404, Positive -> 0.58034384, sentence -> 0, Extremely Positive -> 0.021317275], []]]         |\n",
            "|[[category, 0, 294, Negative, [Neutral -> 0.020428747, Extremely Negative -> 3.119856E-5, Negative -> 0.9159979, Positive -> 0.06298085, sentence -> 0, Extremely Positive -> 5.612339E-4], []]]          |\n",
            "|[[category, 0, 249, Positive, [Neutral -> 0.051102027, Extremely Negative -> 4.524271E-6, Negative -> 0.06147233, Positive -> 0.8670801, sentence -> 0, Extremely Positive -> 0.020341007], []]]          |\n",
            "|[[category, 0, 186, Positive, [Neutral -> 0.14784178, Extremely Negative -> 1.6908588E-4, Negative -> 0.08667137, Positive -> 0.5941222, sentence -> 0, Extremely Positive -> 0.17119557], []]]           |\n",
            "|[[category, 0, 239, Positive, [Neutral -> 0.06996914, Extremely Negative -> 4.4534613E-7, Negative -> 0.3907323, Positive -> 0.5389178, sentence -> 0, Extremely Positive -> 3.8039603E-4], []]]          |\n",
            "|[[category, 0, 275, Extremely Positive, [Neutral -> 0.29615062, Extremely Negative -> 5.379616E-4, Negative -> 0.008211389, Positive -> 0.18045777, sentence -> 0, Extremely Positive -> 0.51464224], []]]|\n",
            "+----------------------------------------------------------------------------------------------------------------------------------------------------------------------------------------------------------+\n",
            "only showing top 20 rows\n",
            "\n"
          ]
        }
      ]
    },
    {
      "cell_type": "code",
      "metadata": {
        "id": "Pfx0C5IjmaZw"
      },
      "source": [
        "p = pred.toPandas()"
      ],
      "execution_count": 57,
      "outputs": []
    },
    {
      "cell_type": "code",
      "metadata": {
        "colab": {
          "base_uri": "https://localhost:8080/",
          "height": 293
        },
        "id": "Bk5l6qPimgJw",
        "outputId": "e8b0d564-fb6d-4f2b-d7ea-ee596b471ae6"
      },
      "source": [
        "p.head()"
      ],
      "execution_count": 58,
      "outputs": [
        {
          "output_type": "execute_result",
          "data": {
            "text/html": [
              "<div>\n",
              "<style scoped>\n",
              "    .dataframe tbody tr th:only-of-type {\n",
              "        vertical-align: middle;\n",
              "    }\n",
              "\n",
              "    .dataframe tbody tr th {\n",
              "        vertical-align: top;\n",
              "    }\n",
              "\n",
              "    .dataframe thead th {\n",
              "        text-align: right;\n",
              "    }\n",
              "</style>\n",
              "<table border=\"1\" class=\"dataframe\">\n",
              "  <thead>\n",
              "    <tr style=\"text-align: right;\">\n",
              "      <th></th>\n",
              "      <th>text</th>\n",
              "      <th>document</th>\n",
              "      <th>sentence_embeddings</th>\n",
              "      <th>category</th>\n",
              "    </tr>\n",
              "  </thead>\n",
              "  <tbody>\n",
              "    <tr>\n",
              "      <th>0</th>\n",
              "      <td>TRENDING: New Yorkers encounter empty supermar...</td>\n",
              "      <td>[(document, 0, 227, TRENDING: New Yorkers enco...</td>\n",
              "      <td>[(sentence_embeddings, 0, 227, TRENDING: New Y...</td>\n",
              "      <td>[(category, 0, 227, Negative, {'sentence': '0'...</td>\n",
              "    </tr>\n",
              "    <tr>\n",
              "      <th>1</th>\n",
              "      <td>When I couldn't find hand sanitizer at Fred Me...</td>\n",
              "      <td>[(document, 0, 192, When I couldn't find hand ...</td>\n",
              "      <td>[(sentence_embeddings, 0, 192, When I couldn't...</td>\n",
              "      <td>[(category, 0, 192, Positive, {'sentence': '0'...</td>\n",
              "    </tr>\n",
              "    <tr>\n",
              "      <th>2</th>\n",
              "      <td>Find out how you can protect yourself and love...</td>\n",
              "      <td>[(document, 0, 72, Find out how you can protec...</td>\n",
              "      <td>[(sentence_embeddings, 0, 72, Find out how you...</td>\n",
              "      <td>[(category, 0, 72, Extremely Positive, {'sente...</td>\n",
              "    </tr>\n",
              "    <tr>\n",
              "      <th>3</th>\n",
              "      <td>#Panic buying hits #NewYork City as anxious sh...</td>\n",
              "      <td>[(document, 0, 317, #Panic buying hits #NewYor...</td>\n",
              "      <td>[(sentence_embeddings, 0, 317, #Panic buying h...</td>\n",
              "      <td>[(category, 0, 317, Negative, {'sentence': '0'...</td>\n",
              "    </tr>\n",
              "    <tr>\n",
              "      <th>4</th>\n",
              "      <td>#toiletpaper #dunnypaper #coronavirus #coronav...</td>\n",
              "      <td>[(document, 0, 251, #toiletpaper #dunnypaper #...</td>\n",
              "      <td>[(sentence_embeddings, 0, 251, #toiletpaper #d...</td>\n",
              "      <td>[(category, 0, 251, Neutral, {'sentence': '0',...</td>\n",
              "    </tr>\n",
              "  </tbody>\n",
              "</table>\n",
              "</div>"
            ],
            "text/plain": [
              "                                                text  ...                                           category\n",
              "0  TRENDING: New Yorkers encounter empty supermar...  ...  [(category, 0, 227, Negative, {'sentence': '0'...\n",
              "1  When I couldn't find hand sanitizer at Fred Me...  ...  [(category, 0, 192, Positive, {'sentence': '0'...\n",
              "2  Find out how you can protect yourself and love...  ...  [(category, 0, 72, Extremely Positive, {'sente...\n",
              "3  #Panic buying hits #NewYork City as anxious sh...  ...  [(category, 0, 317, Negative, {'sentence': '0'...\n",
              "4  #toiletpaper #dunnypaper #coronavirus #coronav...  ...  [(category, 0, 251, Neutral, {'sentence': '0',...\n",
              "\n",
              "[5 rows x 4 columns]"
            ]
          },
          "metadata": {},
          "execution_count": 58
        }
      ]
    },
    {
      "cell_type": "code",
      "metadata": {
        "id": "LLuDz_t40be4"
      },
      "source": [
        "# If you change the model, re-run all the cells below\n",
        "# Other applicable models: ner_dl, ner_dl_bert\n",
        "MODEL_NAME = \"onto_100\""
      ],
      "execution_count": null,
      "outputs": []
    },
    {
      "cell_type": "markdown",
      "metadata": {
        "id": "2Y9GpdJhXIpD"
      },
      "source": [
        "## 4. Some sample examples"
      ]
    },
    {
      "cell_type": "code",
      "metadata": {
        "id": "vBOKkB2THdGI"
      },
      "source": [
        "text_list = [\n",
        "    \"\"\"William Henry Gates III (born October 28, 1955) is an American business magnate, software developer, investor, and philanthropist. He is best known as the co-founder of Microsoft Corporation. During his career at Microsoft, Gates held the positions of chairman, chief executive officer (CEO), president and chief software architect, while also being the largest individual shareholder until May 2014. He is one of the best-known entrepreneurs and pioneers of the microcomputer revolution of the 1970s and 1980s. Born and raised in Seattle, Washington, Gates co-founded Microsoft with childhood friend Paul Allen in 1975, in Albuquerque, New Mexico; it went on to become the world's largest personal computer software company. Gates led the company as chairman and CEO until stepping down as CEO in January 2000, but he remained chairman and became chief software architect. During the late 1990s, Gates had been criticized for his business tactics, which have been considered anti-competitive. This opinion has been upheld by numerous court rulings. In June 2006, Gates announced that he would be transitioning to a part-time role at Microsoft and full-time work at the Bill & Melinda Gates Foundation, the private charitable foundation that he and his wife, Melinda Gates, established in 2000.[9] He gradually transferred his duties to Ray Ozzie and Craig Mundie. He stepped down as chairman of Microsoft in February 2014 and assumed a new post as technology adviser to support the newly appointed CEO Satya Nadella.\"\"\",\n",
        "    \"\"\"The Mona Lisa is a 16th century oil painting created by Leonardo. It's held at the Louvre in Paris.\"\"\"\n",
        "]"
      ],
      "execution_count": null,
      "outputs": []
    },
    {
      "cell_type": "markdown",
      "metadata": {
        "id": "XftYgju4XOw_"
      },
      "source": [
        "## 5. Define Spark NLP pipeline"
      ]
    },
    {
      "cell_type": "code",
      "metadata": {
        "id": "lBggF5P8J1gc",
        "colab": {
          "base_uri": "https://localhost:8080/"
        },
        "outputId": "c6c9afc1-39df-4221-b40c-93d0f48b13f6"
      },
      "source": [
        "documentAssembler = DocumentAssembler() \\\n",
        "    .setInputCol('text') \\\n",
        "    .setOutputCol('document')\n",
        "\n",
        "tokenizer = Tokenizer() \\\n",
        "    .setInputCols(['document']) \\\n",
        "    .setOutputCol('token')\n",
        "\n",
        "# ner_dl and onto_100 model are trained with glove_100d, so the embeddings in\n",
        "# the pipeline should match\n",
        "if (MODEL_NAME == \"ner_dl\") or (MODEL_NAME == \"onto_100\"):\n",
        "    embeddings = WordEmbeddingsModel.pretrained('glove_100d') \\\n",
        "        .setInputCols([\"document\", 'token']) \\\n",
        "        .setOutputCol(\"embeddings\")\n",
        "\n",
        "# Bert model uses Bert embeddings\n",
        "elif MODEL_NAME == \"ner_dl_bert\":\n",
        "    embeddings = BertEmbeddings.pretrained(name='bert_base_cased', lang='en') \\\n",
        "        .setInputCols(['document', 'token']) \\\n",
        "        .setOutputCol('embeddings')\n",
        "\n",
        "ner_model = NerDLModel.pretrained(MODEL_NAME, 'en') \\\n",
        "    .setInputCols(['document', 'token', 'embeddings']) \\\n",
        "    .setOutputCol('ner')\n",
        "\n",
        "ner_converter = NerConverter() \\\n",
        "    .setInputCols(['document', 'token', 'ner']) \\\n",
        "    .setOutputCol('ner_chunk')\n",
        "\n",
        "nlp_pipeline = Pipeline(stages=[\n",
        "    documentAssembler, \n",
        "    tokenizer,\n",
        "    embeddings,\n",
        "    ner_model,\n",
        "    ner_converter\n",
        "])"
      ],
      "execution_count": null,
      "outputs": [
        {
          "output_type": "stream",
          "text": [
            "glove_100d download started this may take some time.\n",
            "Approximate size to download 145.3 MB\n",
            "[OK!]\n",
            "onto_100 download started this may take some time.\n",
            "Approximate size to download 13.5 MB\n",
            "[OK!]\n"
          ],
          "name": "stdout"
        }
      ]
    },
    {
      "cell_type": "markdown",
      "metadata": {
        "id": "mv0abcwhXWC-"
      },
      "source": [
        "## 6. Run the pipeline"
      ]
    },
    {
      "cell_type": "code",
      "metadata": {
        "id": "EYf_9sXDXR4t"
      },
      "source": [
        "empty_df = spark.createDataFrame([['']]).toDF('text')\n",
        "pipeline_model = nlp_pipeline.fit(empty_df)\n",
        "df = spark.createDataFrame(pd.DataFrame({'text': text_list}))\n",
        "result = pipeline_model.transform(df)"
      ],
      "execution_count": null,
      "outputs": []
    },
    {
      "cell_type": "markdown",
      "metadata": {
        "id": "UQY8tAP6XZJL"
      },
      "source": [
        "## 7. Visualize results"
      ]
    },
    {
      "cell_type": "code",
      "metadata": {
        "colab": {
          "base_uri": "https://localhost:8080/",
          "height": 585
        },
        "id": "B0P1hm_D3gGx",
        "outputId": "0f031ef0-ec8c-47bb-958f-0c40566cd114"
      },
      "source": [
        "from sparknlp_display import NerVisualizer\n",
        "\n",
        "NerVisualizer().display(\n",
        "    result = result.collect()[0],\n",
        "    label_col = 'ner_chunk',\n",
        "    document_col = 'document'\n",
        ")"
      ],
      "execution_count": null,
      "outputs": [
        {
          "output_type": "display_data",
          "data": {
            "text/html": [
              "\n",
              "<style>\n",
              "    @import url('https://fonts.googleapis.com/css2?family=Montserrat:wght@300;400;500;600;700&display=swap');\n",
              "    @import url('https://fonts.googleapis.com/css2?family=Vistol Regular:wght@300;400;500;600;700&display=swap');\n",
              "    \n",
              "    .spark-nlp-display-scroll-entities {\n",
              "        border: 1px solid #E7EDF0;\n",
              "        border-radius: 3px;\n",
              "        text-align: justify;\n",
              "        \n",
              "    }\n",
              "    .spark-nlp-display-scroll-entities span {  \n",
              "        font-size: 14px;\n",
              "        line-height: 24px;\n",
              "        color: #536B76;\n",
              "        font-family: 'Montserrat', sans-serif !important;\n",
              "    }\n",
              "    \n",
              "    .spark-nlp-display-entity-wrapper{\n",
              "    \n",
              "        display: inline-grid;\n",
              "        text-align: center;\n",
              "        border-radius: 4px;\n",
              "        margin: 0 2px 5px 2px;\n",
              "        padding: 1px\n",
              "    }\n",
              "    .spark-nlp-display-entity-name{\n",
              "        font-size: 14px;\n",
              "        line-height: 24px;\n",
              "        font-family: 'Montserrat', sans-serif !important;\n",
              "        \n",
              "        background: #f1f2f3;\n",
              "        border-width: medium;\n",
              "        text-align: center;\n",
              "        \n",
              "        font-weight: 400;\n",
              "        \n",
              "        border-radius: 5px;\n",
              "        padding: 2px 5px;\n",
              "        display: block;\n",
              "        margin: 3px 2px;\n",
              "    \n",
              "    }\n",
              "    .spark-nlp-display-entity-type{\n",
              "        font-size: 14px;\n",
              "        line-height: 24px;\n",
              "        color: #ffffff;\n",
              "        font-family: 'Montserrat', sans-serif !important;\n",
              "        \n",
              "        text-transform: uppercase;\n",
              "        \n",
              "        font-weight: 500;\n",
              "\n",
              "        display: block;\n",
              "        padding: 3px 5px;\n",
              "    }\n",
              "    \n",
              "    .spark-nlp-display-entity-resolution{\n",
              "        font-size: 14px;\n",
              "        line-height: 24px;\n",
              "        color: #ffffff;\n",
              "        font-family: 'Vistol Regular', sans-serif !important;\n",
              "        \n",
              "        text-transform: uppercase;\n",
              "        \n",
              "        font-weight: 500;\n",
              "\n",
              "        display: block;\n",
              "        padding: 3px 5px;\n",
              "    }\n",
              "    \n",
              "    .spark-nlp-display-others{\n",
              "        font-size: 14px;\n",
              "        line-height: 24px;\n",
              "        font-family: 'Montserrat', sans-serif !important;\n",
              "        \n",
              "        font-weight: 400;\n",
              "    }\n",
              "\n",
              "</style>\n",
              " <span class=\"spark-nlp-display-entity-wrapper\" style=\"background-color: #C09624\"><span class=\"spark-nlp-display-entity-name\">William Henry Gates III </span><span class=\"spark-nlp-display-entity-type\">PERSON</span></span><span class=\"spark-nlp-display-others\" style=\"background-color: white\"> (born </span><span class=\"spark-nlp-display-entity-wrapper\" style=\"background-color: #a6b1e1\"><span class=\"spark-nlp-display-entity-name\">October 28, 1955 </span><span class=\"spark-nlp-display-entity-type\">DATE</span></span><span class=\"spark-nlp-display-others\" style=\"background-color: white\">) is an </span><span class=\"spark-nlp-display-entity-wrapper\" style=\"background-color: #4F6B10\"><span class=\"spark-nlp-display-entity-name\">American </span><span class=\"spark-nlp-display-entity-type\">NORP</span></span><span class=\"spark-nlp-display-others\" style=\"background-color: white\"> business magnate, software developer, investor, and philanthropist. He is best known as the co-founder of </span><span class=\"spark-nlp-display-entity-wrapper\" style=\"background-color: #06493A\"><span class=\"spark-nlp-display-entity-name\">Microsoft Corporation </span><span class=\"spark-nlp-display-entity-type\">ORG</span></span><span class=\"spark-nlp-display-others\" style=\"background-color: white\">. During his career at </span><span class=\"spark-nlp-display-entity-wrapper\" style=\"background-color: #06493A\"><span class=\"spark-nlp-display-entity-name\">Microsoft </span><span class=\"spark-nlp-display-entity-type\">ORG</span></span><span class=\"spark-nlp-display-others\" style=\"background-color: white\">, </span><span class=\"spark-nlp-display-entity-wrapper\" style=\"background-color: #C09624\"><span class=\"spark-nlp-display-entity-name\">Gates </span><span class=\"spark-nlp-display-entity-type\">PERSON</span></span><span class=\"spark-nlp-display-others\" style=\"background-color: white\"> held the positions of chairman, chief executive officer (CEO), president and chief software architect, while also being the largest individual shareholder until </span><span class=\"spark-nlp-display-entity-wrapper\" style=\"background-color: #a6b1e1\"><span class=\"spark-nlp-display-entity-name\">May 2014 </span><span class=\"spark-nlp-display-entity-type\">DATE</span></span><span class=\"spark-nlp-display-others\" style=\"background-color: white\">. He is </span><span class=\"spark-nlp-display-entity-wrapper\" style=\"background-color: #BF5516\"><span class=\"spark-nlp-display-entity-name\">one </span><span class=\"spark-nlp-display-entity-type\">CARDINAL</span></span><span class=\"spark-nlp-display-others\" style=\"background-color: white\"> of the best-known entrepreneurs and pioneers of the microcomputer revolution of </span><span class=\"spark-nlp-display-entity-wrapper\" style=\"background-color: #a6b1e1\"><span class=\"spark-nlp-display-entity-name\">the 1970s and 1980s </span><span class=\"spark-nlp-display-entity-type\">DATE</span></span><span class=\"spark-nlp-display-others\" style=\"background-color: white\">. </span><span class=\"spark-nlp-display-entity-wrapper\" style=\"background-color: #C09624\"><span class=\"spark-nlp-display-entity-name\">Born </span><span class=\"spark-nlp-display-entity-type\">PERSON</span></span><span class=\"spark-nlp-display-others\" style=\"background-color: white\"> and raised in </span><span class=\"spark-nlp-display-entity-wrapper\" style=\"background-color: #43C34F\"><span class=\"spark-nlp-display-entity-name\">Seattle </span><span class=\"spark-nlp-display-entity-type\">GPE</span></span><span class=\"spark-nlp-display-others\" style=\"background-color: white\">, </span><span class=\"spark-nlp-display-entity-wrapper\" style=\"background-color: #43C34F\"><span class=\"spark-nlp-display-entity-name\">Washington </span><span class=\"spark-nlp-display-entity-type\">GPE</span></span><span class=\"spark-nlp-display-others\" style=\"background-color: white\">, </span><span class=\"spark-nlp-display-entity-wrapper\" style=\"background-color: #C09624\"><span class=\"spark-nlp-display-entity-name\">Gates </span><span class=\"spark-nlp-display-entity-type\">PERSON</span></span><span class=\"spark-nlp-display-others\" style=\"background-color: white\"> co-founded </span><span class=\"spark-nlp-display-entity-wrapper\" style=\"background-color: #06493A\"><span class=\"spark-nlp-display-entity-name\">Microsoft </span><span class=\"spark-nlp-display-entity-type\">ORG</span></span><span class=\"spark-nlp-display-others\" style=\"background-color: white\"> with childhood friend </span><span class=\"spark-nlp-display-entity-wrapper\" style=\"background-color: #C09624\"><span class=\"spark-nlp-display-entity-name\">Paul Allen </span><span class=\"spark-nlp-display-entity-type\">PERSON</span></span><span class=\"spark-nlp-display-others\" style=\"background-color: white\"> in </span><span class=\"spark-nlp-display-entity-wrapper\" style=\"background-color: #a6b1e1\"><span class=\"spark-nlp-display-entity-name\">1975 </span><span class=\"spark-nlp-display-entity-type\">DATE</span></span><span class=\"spark-nlp-display-others\" style=\"background-color: white\">, in </span><span class=\"spark-nlp-display-entity-wrapper\" style=\"background-color: #43C34F\"><span class=\"spark-nlp-display-entity-name\">Albuquerque </span><span class=\"spark-nlp-display-entity-type\">GPE</span></span><span class=\"spark-nlp-display-others\" style=\"background-color: white\">, </span><span class=\"spark-nlp-display-entity-wrapper\" style=\"background-color: #43C34F\"><span class=\"spark-nlp-display-entity-name\">New Mexico </span><span class=\"spark-nlp-display-entity-type\">GPE</span></span><span class=\"spark-nlp-display-others\" style=\"background-color: white\">; it went on to become the world's largest personal computer software company. </span><span class=\"spark-nlp-display-entity-wrapper\" style=\"background-color: #C09624\"><span class=\"spark-nlp-display-entity-name\">Gates </span><span class=\"spark-nlp-display-entity-type\">PERSON</span></span><span class=\"spark-nlp-display-others\" style=\"background-color: white\"> led the company as chairman and CEO until stepping down as CEO in </span><span class=\"spark-nlp-display-entity-wrapper\" style=\"background-color: #a6b1e1\"><span class=\"spark-nlp-display-entity-name\">January 2000 </span><span class=\"spark-nlp-display-entity-type\">DATE</span></span><span class=\"spark-nlp-display-others\" style=\"background-color: white\">, but he remained chairman and became chief software architect. During </span><span class=\"spark-nlp-display-entity-wrapper\" style=\"background-color: #a6b1e1\"><span class=\"spark-nlp-display-entity-name\">the late 1990s </span><span class=\"spark-nlp-display-entity-type\">DATE</span></span><span class=\"spark-nlp-display-others\" style=\"background-color: white\">, </span><span class=\"spark-nlp-display-entity-wrapper\" style=\"background-color: #C09624\"><span class=\"spark-nlp-display-entity-name\">Gates </span><span class=\"spark-nlp-display-entity-type\">PERSON</span></span><span class=\"spark-nlp-display-others\" style=\"background-color: white\"> had been criticized for his business tactics, which have been considered anti-competitive. This opinion has been upheld by numerous court rulings. In </span><span class=\"spark-nlp-display-entity-wrapper\" style=\"background-color: #a6b1e1\"><span class=\"spark-nlp-display-entity-name\">June 2006 </span><span class=\"spark-nlp-display-entity-type\">DATE</span></span><span class=\"spark-nlp-display-others\" style=\"background-color: white\">, </span><span class=\"spark-nlp-display-entity-wrapper\" style=\"background-color: #C09624\"><span class=\"spark-nlp-display-entity-name\">Gates </span><span class=\"spark-nlp-display-entity-type\">PERSON</span></span><span class=\"spark-nlp-display-others\" style=\"background-color: white\"> announced that he would be transitioning to a part-time role at </span><span class=\"spark-nlp-display-entity-wrapper\" style=\"background-color: #06493A\"><span class=\"spark-nlp-display-entity-name\">Microsoft </span><span class=\"spark-nlp-display-entity-type\">ORG</span></span><span class=\"spark-nlp-display-others\" style=\"background-color: white\"> and full-time work at </span><span class=\"spark-nlp-display-entity-wrapper\" style=\"background-color: #06493A\"><span class=\"spark-nlp-display-entity-name\">the Bill & Melinda Gates Foundation </span><span class=\"spark-nlp-display-entity-type\">ORG</span></span><span class=\"spark-nlp-display-others\" style=\"background-color: white\">, the private charitable foundation that he and his wife, </span><span class=\"spark-nlp-display-entity-wrapper\" style=\"background-color: #C09624\"><span class=\"spark-nlp-display-entity-name\">Melinda Gates </span><span class=\"spark-nlp-display-entity-type\">PERSON</span></span><span class=\"spark-nlp-display-others\" style=\"background-color: white\">, established in </span><span class=\"spark-nlp-display-entity-wrapper\" style=\"background-color: #06493A\"><span class=\"spark-nlp-display-entity-name\">2000.[9] He </span><span class=\"spark-nlp-display-entity-type\">ORG</span></span><span class=\"spark-nlp-display-others\" style=\"background-color: white\"> gradually transferred his duties to </span><span class=\"spark-nlp-display-entity-wrapper\" style=\"background-color: #C09624\"><span class=\"spark-nlp-display-entity-name\">Ray Ozzie </span><span class=\"spark-nlp-display-entity-type\">PERSON</span></span><span class=\"spark-nlp-display-others\" style=\"background-color: white\"> and </span><span class=\"spark-nlp-display-entity-wrapper\" style=\"background-color: #C09624\"><span class=\"spark-nlp-display-entity-name\">Craig Mundie </span><span class=\"spark-nlp-display-entity-type\">PERSON</span></span><span class=\"spark-nlp-display-others\" style=\"background-color: white\">. He stepped down as chairman of </span><span class=\"spark-nlp-display-entity-wrapper\" style=\"background-color: #06493A\"><span class=\"spark-nlp-display-entity-name\">Microsoft </span><span class=\"spark-nlp-display-entity-type\">ORG</span></span><span class=\"spark-nlp-display-others\" style=\"background-color: white\"> in </span><span class=\"spark-nlp-display-entity-wrapper\" style=\"background-color: #a6b1e1\"><span class=\"spark-nlp-display-entity-name\">February 2014 </span><span class=\"spark-nlp-display-entity-type\">DATE</span></span><span class=\"spark-nlp-display-others\" style=\"background-color: white\"> and assumed a new post as technology adviser to support the newly appointed CEO </span><span class=\"spark-nlp-display-entity-wrapper\" style=\"background-color: #C09624\"><span class=\"spark-nlp-display-entity-name\">Satya Nadella </span><span class=\"spark-nlp-display-entity-type\">PERSON</span></span><span class=\"spark-nlp-display-others\" style=\"background-color: white\">.</span></div>"
            ],
            "text/plain": [
              "<IPython.core.display.HTML object>"
            ]
          },
          "metadata": {
            "tags": []
          }
        }
      ]
    }
  ]
}