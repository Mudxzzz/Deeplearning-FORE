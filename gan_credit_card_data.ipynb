{
  "nbformat": 4,
  "nbformat_minor": 0,
  "metadata": {
    "colab": {
      "provenance": [],
      "include_colab_link": true
    },
    "kernelspec": {
      "name": "python3",
      "display_name": "Python 3"
    },
    "language_info": {
      "name": "python"
    }
  },
  "cells": [
    {
      "cell_type": "markdown",
      "metadata": {
        "id": "view-in-github",
        "colab_type": "text"
      },
      "source": [
        "<a href=\"https://colab.research.google.com/github/harnalashok/deeplearning/blob/main/gan_credit_card_data.ipynb\" target=\"_parent\"><img src=\"https://colab.research.google.com/assets/colab-badge.svg\" alt=\"Open In Colab\"/></a>"
      ]
    },
    {
      "cell_type": "code",
      "source": [
        "# Last amended: 10th Nov, 2023\n",
        "# Mumbai\n",
        "# Created by Piyush Kumar <gharonline7@gmail.com> , UBI\n"
      ],
      "metadata": {
        "id": "8m9S0FA71fRe"
      },
      "execution_count": null,
      "outputs": []
    },
    {
      "cell_type": "code",
      "execution_count": null,
      "metadata": {
        "id": "Z4zCV3JBswAb"
      },
      "outputs": [],
      "source": [
        "# 1.0\n",
        "import numpy as np\n",
        "import pandas as pd\n",
        "import tensorflow as tf\n",
        "import matplotlib.pyplot as plt\n",
        "import pandas as pd\n",
        "\n",
        "from sklearn.model_selection import train_test_split\n",
        "\n",
        "# Normalization the dataset\n",
        "from sklearn.preprocessing import StandardScaler"
      ]
    },
    {
      "cell_type": "code",
      "source": [
        "# 1.0.1\n",
        "from IPython.core.interactiveshell import InteractiveShell\n",
        "InteractiveShell.ast_node_interactivity = \"all\""
      ],
      "metadata": {
        "id": "4F9PQYz9s2R9"
      },
      "execution_count": null,
      "outputs": []
    },
    {
      "cell_type": "code",
      "source": [
        "# 1.0.2\n",
        "from google.colab import drive\n",
        "drive.mount('/gdrive')"
      ],
      "metadata": {
        "colab": {
          "base_uri": "https://localhost:8080/"
        },
        "id": "pq-Dyj0Cs-tf",
        "outputId": "ff7bdd20-6575-4529-d4c1-4eb87b6dce1a"
      },
      "execution_count": null,
      "outputs": [
        {
          "output_type": "stream",
          "name": "stdout",
          "text": [
            "Mounted at /gdrive\n"
          ]
        }
      ]
    },
    {
      "cell_type": "markdown",
      "source": [
        "## Read data and process"
      ],
      "metadata": {
        "id": "o21ehuom2f-0"
      }
    },
    {
      "cell_type": "code",
      "source": [
        "# 2.0\n",
        "pathToFolder= \"/gdrive/MyDrive/Colab_data_files/creditcard/\"\n",
        "file = \"creditcardfraud.zip\""
      ],
      "metadata": {
        "id": "qP9RzrNE2D4u"
      },
      "execution_count": null,
      "outputs": []
    },
    {
      "cell_type": "code",
      "source": [
        "# 2.1 Get the dataframe for Google Driver:\n",
        "\n",
        "df = pd.read_csv(pathToFolder + file)\n",
        "df.head()"
      ],
      "metadata": {
        "colab": {
          "base_uri": "https://localhost:8080/",
          "height": 255
        },
        "id": "dGwucyAxtB4E",
        "outputId": "cdcde063-3b79-4eff-8863-728da3dd1bd7"
      },
      "execution_count": null,
      "outputs": [
        {
          "output_type": "execute_result",
          "data": {
            "text/plain": [
              "   Time        V1        V2        V3        V4        V5        V6        V7  \\\n",
              "0   0.0 -1.359807 -0.072781  2.536347  1.378155 -0.338321  0.462388  0.239599   \n",
              "1   0.0  1.191857  0.266151  0.166480  0.448154  0.060018 -0.082361 -0.078803   \n",
              "2   1.0 -1.358354 -1.340163  1.773209  0.379780 -0.503198  1.800499  0.791461   \n",
              "3   1.0 -0.966272 -0.185226  1.792993 -0.863291 -0.010309  1.247203  0.237609   \n",
              "4   2.0 -1.158233  0.877737  1.548718  0.403034 -0.407193  0.095921  0.592941   \n",
              "\n",
              "         V8        V9  ...       V21       V22       V23       V24       V25  \\\n",
              "0  0.098698  0.363787  ... -0.018307  0.277838 -0.110474  0.066928  0.128539   \n",
              "1  0.085102 -0.255425  ... -0.225775 -0.638672  0.101288 -0.339846  0.167170   \n",
              "2  0.247676 -1.514654  ...  0.247998  0.771679  0.909412 -0.689281 -0.327642   \n",
              "3  0.377436 -1.387024  ... -0.108300  0.005274 -0.190321 -1.175575  0.647376   \n",
              "4 -0.270533  0.817739  ... -0.009431  0.798278 -0.137458  0.141267 -0.206010   \n",
              "\n",
              "        V26       V27       V28  Amount  Class  \n",
              "0 -0.189115  0.133558 -0.021053  149.62      0  \n",
              "1  0.125895 -0.008983  0.014724    2.69      0  \n",
              "2 -0.139097 -0.055353 -0.059752  378.66      0  \n",
              "3 -0.221929  0.062723  0.061458  123.50      0  \n",
              "4  0.502292  0.219422  0.215153   69.99      0  \n",
              "\n",
              "[5 rows x 31 columns]"
            ],
            "text/html": [
              "\n",
              "  <div id=\"df-34065b2f-b402-4617-af40-813eba053e10\" class=\"colab-df-container\">\n",
              "    <div>\n",
              "<style scoped>\n",
              "    .dataframe tbody tr th:only-of-type {\n",
              "        vertical-align: middle;\n",
              "    }\n",
              "\n",
              "    .dataframe tbody tr th {\n",
              "        vertical-align: top;\n",
              "    }\n",
              "\n",
              "    .dataframe thead th {\n",
              "        text-align: right;\n",
              "    }\n",
              "</style>\n",
              "<table border=\"1\" class=\"dataframe\">\n",
              "  <thead>\n",
              "    <tr style=\"text-align: right;\">\n",
              "      <th></th>\n",
              "      <th>Time</th>\n",
              "      <th>V1</th>\n",
              "      <th>V2</th>\n",
              "      <th>V3</th>\n",
              "      <th>V4</th>\n",
              "      <th>V5</th>\n",
              "      <th>V6</th>\n",
              "      <th>V7</th>\n",
              "      <th>V8</th>\n",
              "      <th>V9</th>\n",
              "      <th>...</th>\n",
              "      <th>V21</th>\n",
              "      <th>V22</th>\n",
              "      <th>V23</th>\n",
              "      <th>V24</th>\n",
              "      <th>V25</th>\n",
              "      <th>V26</th>\n",
              "      <th>V27</th>\n",
              "      <th>V28</th>\n",
              "      <th>Amount</th>\n",
              "      <th>Class</th>\n",
              "    </tr>\n",
              "  </thead>\n",
              "  <tbody>\n",
              "    <tr>\n",
              "      <th>0</th>\n",
              "      <td>0.0</td>\n",
              "      <td>-1.359807</td>\n",
              "      <td>-0.072781</td>\n",
              "      <td>2.536347</td>\n",
              "      <td>1.378155</td>\n",
              "      <td>-0.338321</td>\n",
              "      <td>0.462388</td>\n",
              "      <td>0.239599</td>\n",
              "      <td>0.098698</td>\n",
              "      <td>0.363787</td>\n",
              "      <td>...</td>\n",
              "      <td>-0.018307</td>\n",
              "      <td>0.277838</td>\n",
              "      <td>-0.110474</td>\n",
              "      <td>0.066928</td>\n",
              "      <td>0.128539</td>\n",
              "      <td>-0.189115</td>\n",
              "      <td>0.133558</td>\n",
              "      <td>-0.021053</td>\n",
              "      <td>149.62</td>\n",
              "      <td>0</td>\n",
              "    </tr>\n",
              "    <tr>\n",
              "      <th>1</th>\n",
              "      <td>0.0</td>\n",
              "      <td>1.191857</td>\n",
              "      <td>0.266151</td>\n",
              "      <td>0.166480</td>\n",
              "      <td>0.448154</td>\n",
              "      <td>0.060018</td>\n",
              "      <td>-0.082361</td>\n",
              "      <td>-0.078803</td>\n",
              "      <td>0.085102</td>\n",
              "      <td>-0.255425</td>\n",
              "      <td>...</td>\n",
              "      <td>-0.225775</td>\n",
              "      <td>-0.638672</td>\n",
              "      <td>0.101288</td>\n",
              "      <td>-0.339846</td>\n",
              "      <td>0.167170</td>\n",
              "      <td>0.125895</td>\n",
              "      <td>-0.008983</td>\n",
              "      <td>0.014724</td>\n",
              "      <td>2.69</td>\n",
              "      <td>0</td>\n",
              "    </tr>\n",
              "    <tr>\n",
              "      <th>2</th>\n",
              "      <td>1.0</td>\n",
              "      <td>-1.358354</td>\n",
              "      <td>-1.340163</td>\n",
              "      <td>1.773209</td>\n",
              "      <td>0.379780</td>\n",
              "      <td>-0.503198</td>\n",
              "      <td>1.800499</td>\n",
              "      <td>0.791461</td>\n",
              "      <td>0.247676</td>\n",
              "      <td>-1.514654</td>\n",
              "      <td>...</td>\n",
              "      <td>0.247998</td>\n",
              "      <td>0.771679</td>\n",
              "      <td>0.909412</td>\n",
              "      <td>-0.689281</td>\n",
              "      <td>-0.327642</td>\n",
              "      <td>-0.139097</td>\n",
              "      <td>-0.055353</td>\n",
              "      <td>-0.059752</td>\n",
              "      <td>378.66</td>\n",
              "      <td>0</td>\n",
              "    </tr>\n",
              "    <tr>\n",
              "      <th>3</th>\n",
              "      <td>1.0</td>\n",
              "      <td>-0.966272</td>\n",
              "      <td>-0.185226</td>\n",
              "      <td>1.792993</td>\n",
              "      <td>-0.863291</td>\n",
              "      <td>-0.010309</td>\n",
              "      <td>1.247203</td>\n",
              "      <td>0.237609</td>\n",
              "      <td>0.377436</td>\n",
              "      <td>-1.387024</td>\n",
              "      <td>...</td>\n",
              "      <td>-0.108300</td>\n",
              "      <td>0.005274</td>\n",
              "      <td>-0.190321</td>\n",
              "      <td>-1.175575</td>\n",
              "      <td>0.647376</td>\n",
              "      <td>-0.221929</td>\n",
              "      <td>0.062723</td>\n",
              "      <td>0.061458</td>\n",
              "      <td>123.50</td>\n",
              "      <td>0</td>\n",
              "    </tr>\n",
              "    <tr>\n",
              "      <th>4</th>\n",
              "      <td>2.0</td>\n",
              "      <td>-1.158233</td>\n",
              "      <td>0.877737</td>\n",
              "      <td>1.548718</td>\n",
              "      <td>0.403034</td>\n",
              "      <td>-0.407193</td>\n",
              "      <td>0.095921</td>\n",
              "      <td>0.592941</td>\n",
              "      <td>-0.270533</td>\n",
              "      <td>0.817739</td>\n",
              "      <td>...</td>\n",
              "      <td>-0.009431</td>\n",
              "      <td>0.798278</td>\n",
              "      <td>-0.137458</td>\n",
              "      <td>0.141267</td>\n",
              "      <td>-0.206010</td>\n",
              "      <td>0.502292</td>\n",
              "      <td>0.219422</td>\n",
              "      <td>0.215153</td>\n",
              "      <td>69.99</td>\n",
              "      <td>0</td>\n",
              "    </tr>\n",
              "  </tbody>\n",
              "</table>\n",
              "<p>5 rows × 31 columns</p>\n",
              "</div>\n",
              "    <div class=\"colab-df-buttons\">\n",
              "\n",
              "  <div class=\"colab-df-container\">\n",
              "    <button class=\"colab-df-convert\" onclick=\"convertToInteractive('df-34065b2f-b402-4617-af40-813eba053e10')\"\n",
              "            title=\"Convert this dataframe to an interactive table.\"\n",
              "            style=\"display:none;\">\n",
              "\n",
              "  <svg xmlns=\"http://www.w3.org/2000/svg\" height=\"24px\" viewBox=\"0 -960 960 960\">\n",
              "    <path d=\"M120-120v-720h720v720H120Zm60-500h600v-160H180v160Zm220 220h160v-160H400v160Zm0 220h160v-160H400v160ZM180-400h160v-160H180v160Zm440 0h160v-160H620v160ZM180-180h160v-160H180v160Zm440 0h160v-160H620v160Z\"/>\n",
              "  </svg>\n",
              "    </button>\n",
              "\n",
              "  <style>\n",
              "    .colab-df-container {\n",
              "      display:flex;\n",
              "      gap: 12px;\n",
              "    }\n",
              "\n",
              "    .colab-df-convert {\n",
              "      background-color: #E8F0FE;\n",
              "      border: none;\n",
              "      border-radius: 50%;\n",
              "      cursor: pointer;\n",
              "      display: none;\n",
              "      fill: #1967D2;\n",
              "      height: 32px;\n",
              "      padding: 0 0 0 0;\n",
              "      width: 32px;\n",
              "    }\n",
              "\n",
              "    .colab-df-convert:hover {\n",
              "      background-color: #E2EBFA;\n",
              "      box-shadow: 0px 1px 2px rgba(60, 64, 67, 0.3), 0px 1px 3px 1px rgba(60, 64, 67, 0.15);\n",
              "      fill: #174EA6;\n",
              "    }\n",
              "\n",
              "    .colab-df-buttons div {\n",
              "      margin-bottom: 4px;\n",
              "    }\n",
              "\n",
              "    [theme=dark] .colab-df-convert {\n",
              "      background-color: #3B4455;\n",
              "      fill: #D2E3FC;\n",
              "    }\n",
              "\n",
              "    [theme=dark] .colab-df-convert:hover {\n",
              "      background-color: #434B5C;\n",
              "      box-shadow: 0px 1px 3px 1px rgba(0, 0, 0, 0.15);\n",
              "      filter: drop-shadow(0px 1px 2px rgba(0, 0, 0, 0.3));\n",
              "      fill: #FFFFFF;\n",
              "    }\n",
              "  </style>\n",
              "\n",
              "    <script>\n",
              "      const buttonEl =\n",
              "        document.querySelector('#df-34065b2f-b402-4617-af40-813eba053e10 button.colab-df-convert');\n",
              "      buttonEl.style.display =\n",
              "        google.colab.kernel.accessAllowed ? 'block' : 'none';\n",
              "\n",
              "      async function convertToInteractive(key) {\n",
              "        const element = document.querySelector('#df-34065b2f-b402-4617-af40-813eba053e10');\n",
              "        const dataTable =\n",
              "          await google.colab.kernel.invokeFunction('convertToInteractive',\n",
              "                                                    [key], {});\n",
              "        if (!dataTable) return;\n",
              "\n",
              "        const docLinkHtml = 'Like what you see? Visit the ' +\n",
              "          '<a target=\"_blank\" href=https://colab.research.google.com/notebooks/data_table.ipynb>data table notebook</a>'\n",
              "          + ' to learn more about interactive tables.';\n",
              "        element.innerHTML = '';\n",
              "        dataTable['output_type'] = 'display_data';\n",
              "        await google.colab.output.renderOutput(dataTable, element);\n",
              "        const docLink = document.createElement('div');\n",
              "        docLink.innerHTML = docLinkHtml;\n",
              "        element.appendChild(docLink);\n",
              "      }\n",
              "    </script>\n",
              "  </div>\n",
              "\n",
              "\n",
              "<div id=\"df-4a2ff11d-36dc-4fc9-aa76-3d05d98432f7\">\n",
              "  <button class=\"colab-df-quickchart\" onclick=\"quickchart('df-4a2ff11d-36dc-4fc9-aa76-3d05d98432f7')\"\n",
              "            title=\"Suggest charts\"\n",
              "            style=\"display:none;\">\n",
              "\n",
              "<svg xmlns=\"http://www.w3.org/2000/svg\" height=\"24px\"viewBox=\"0 0 24 24\"\n",
              "     width=\"24px\">\n",
              "    <g>\n",
              "        <path d=\"M19 3H5c-1.1 0-2 .9-2 2v14c0 1.1.9 2 2 2h14c1.1 0 2-.9 2-2V5c0-1.1-.9-2-2-2zM9 17H7v-7h2v7zm4 0h-2V7h2v10zm4 0h-2v-4h2v4z\"/>\n",
              "    </g>\n",
              "</svg>\n",
              "  </button>\n",
              "\n",
              "<style>\n",
              "  .colab-df-quickchart {\n",
              "      --bg-color: #E8F0FE;\n",
              "      --fill-color: #1967D2;\n",
              "      --hover-bg-color: #E2EBFA;\n",
              "      --hover-fill-color: #174EA6;\n",
              "      --disabled-fill-color: #AAA;\n",
              "      --disabled-bg-color: #DDD;\n",
              "  }\n",
              "\n",
              "  [theme=dark] .colab-df-quickchart {\n",
              "      --bg-color: #3B4455;\n",
              "      --fill-color: #D2E3FC;\n",
              "      --hover-bg-color: #434B5C;\n",
              "      --hover-fill-color: #FFFFFF;\n",
              "      --disabled-bg-color: #3B4455;\n",
              "      --disabled-fill-color: #666;\n",
              "  }\n",
              "\n",
              "  .colab-df-quickchart {\n",
              "    background-color: var(--bg-color);\n",
              "    border: none;\n",
              "    border-radius: 50%;\n",
              "    cursor: pointer;\n",
              "    display: none;\n",
              "    fill: var(--fill-color);\n",
              "    height: 32px;\n",
              "    padding: 0;\n",
              "    width: 32px;\n",
              "  }\n",
              "\n",
              "  .colab-df-quickchart:hover {\n",
              "    background-color: var(--hover-bg-color);\n",
              "    box-shadow: 0 1px 2px rgba(60, 64, 67, 0.3), 0 1px 3px 1px rgba(60, 64, 67, 0.15);\n",
              "    fill: var(--button-hover-fill-color);\n",
              "  }\n",
              "\n",
              "  .colab-df-quickchart-complete:disabled,\n",
              "  .colab-df-quickchart-complete:disabled:hover {\n",
              "    background-color: var(--disabled-bg-color);\n",
              "    fill: var(--disabled-fill-color);\n",
              "    box-shadow: none;\n",
              "  }\n",
              "\n",
              "  .colab-df-spinner {\n",
              "    border: 2px solid var(--fill-color);\n",
              "    border-color: transparent;\n",
              "    border-bottom-color: var(--fill-color);\n",
              "    animation:\n",
              "      spin 1s steps(1) infinite;\n",
              "  }\n",
              "\n",
              "  @keyframes spin {\n",
              "    0% {\n",
              "      border-color: transparent;\n",
              "      border-bottom-color: var(--fill-color);\n",
              "      border-left-color: var(--fill-color);\n",
              "    }\n",
              "    20% {\n",
              "      border-color: transparent;\n",
              "      border-left-color: var(--fill-color);\n",
              "      border-top-color: var(--fill-color);\n",
              "    }\n",
              "    30% {\n",
              "      border-color: transparent;\n",
              "      border-left-color: var(--fill-color);\n",
              "      border-top-color: var(--fill-color);\n",
              "      border-right-color: var(--fill-color);\n",
              "    }\n",
              "    40% {\n",
              "      border-color: transparent;\n",
              "      border-right-color: var(--fill-color);\n",
              "      border-top-color: var(--fill-color);\n",
              "    }\n",
              "    60% {\n",
              "      border-color: transparent;\n",
              "      border-right-color: var(--fill-color);\n",
              "    }\n",
              "    80% {\n",
              "      border-color: transparent;\n",
              "      border-right-color: var(--fill-color);\n",
              "      border-bottom-color: var(--fill-color);\n",
              "    }\n",
              "    90% {\n",
              "      border-color: transparent;\n",
              "      border-bottom-color: var(--fill-color);\n",
              "    }\n",
              "  }\n",
              "</style>\n",
              "\n",
              "  <script>\n",
              "    async function quickchart(key) {\n",
              "      const quickchartButtonEl =\n",
              "        document.querySelector('#' + key + ' button');\n",
              "      quickchartButtonEl.disabled = true;  // To prevent multiple clicks.\n",
              "      quickchartButtonEl.classList.add('colab-df-spinner');\n",
              "      try {\n",
              "        const charts = await google.colab.kernel.invokeFunction(\n",
              "            'suggestCharts', [key], {});\n",
              "      } catch (error) {\n",
              "        console.error('Error during call to suggestCharts:', error);\n",
              "      }\n",
              "      quickchartButtonEl.classList.remove('colab-df-spinner');\n",
              "      quickchartButtonEl.classList.add('colab-df-quickchart-complete');\n",
              "    }\n",
              "    (() => {\n",
              "      let quickchartButtonEl =\n",
              "        document.querySelector('#df-4a2ff11d-36dc-4fc9-aa76-3d05d98432f7 button');\n",
              "      quickchartButtonEl.style.display =\n",
              "        google.colab.kernel.accessAllowed ? 'block' : 'none';\n",
              "    })();\n",
              "  </script>\n",
              "</div>\n",
              "    </div>\n",
              "  </div>\n"
            ]
          },
          "metadata": {},
          "execution_count": 98
        }
      ]
    },
    {
      "cell_type": "code",
      "source": [
        "# 2.2 Droping Time to simplify:\n",
        "\n",
        "df.pop('Time')\n",
        "\n",
        "# 2.3 Separating genuine and fraudulent transactions:\n",
        "\n",
        "df_g = df.loc[df.Class==0].reset_index(drop=True)\n",
        "df_f = df.loc[df.Class==1].reset_index(drop=True)\n",
        "\n",
        "# 2.4 Dropping class column\n",
        "c0 = df_g.pop('Class')\n",
        "c1 = df_f.pop('Class')"
      ],
      "metadata": {
        "colab": {
          "base_uri": "https://localhost:8080/"
        },
        "id": "M5IvXuD_vES8",
        "outputId": "d2813035-bfff-4d2e-a371-f0c3467d6039"
      },
      "execution_count": null,
      "outputs": [
        {
          "output_type": "execute_result",
          "data": {
            "text/plain": [
              "0              0.0\n",
              "1              0.0\n",
              "2              1.0\n",
              "3              1.0\n",
              "4              2.0\n",
              "            ...   \n",
              "284802    172786.0\n",
              "284803    172787.0\n",
              "284804    172788.0\n",
              "284805    172788.0\n",
              "284806    172792.0\n",
              "Name: Time, Length: 284807, dtype: float64"
            ]
          },
          "metadata": {},
          "execution_count": 99
        }
      ]
    },
    {
      "cell_type": "code",
      "source": [
        "# 2.4.1\n",
        "columns = df_g.columns[:-1]\n",
        "columns"
      ],
      "metadata": {
        "colab": {
          "base_uri": "https://localhost:8080/"
        },
        "id": "JvR3trUQzDTo",
        "outputId": "4c698b78-8338-4c9c-97cc-800c89e76c1e"
      },
      "execution_count": null,
      "outputs": [
        {
          "output_type": "execute_result",
          "data": {
            "text/plain": [
              "Index(['V1', 'V2', 'V3', 'V4', 'V5', 'V6', 'V7', 'V8', 'V9', 'V10', 'V11',\n",
              "       'V12', 'V13', 'V14', 'V15', 'V16', 'V17', 'V18', 'V19', 'V20', 'V21',\n",
              "       'V22', 'V23', 'V24', 'V25', 'V26', 'V27', 'V28', 'Amount'],\n",
              "      dtype='object')"
            ]
          },
          "metadata": {},
          "execution_count": 100
        }
      ]
    },
    {
      "cell_type": "code",
      "source": [
        "# 2.4.2 Count based on the Class Values\n",
        "\n",
        "df.Class.value_counts()"
      ],
      "metadata": {
        "colab": {
          "base_uri": "https://localhost:8080/"
        },
        "id": "2G8TENE6tP2C",
        "outputId": "2d051a05-c754-43dc-cb41-59b68545ea7c"
      },
      "execution_count": null,
      "outputs": [
        {
          "output_type": "execute_result",
          "data": {
            "text/plain": [
              "0    284315\n",
              "1       492\n",
              "Name: Class, dtype: int64"
            ]
          },
          "metadata": {},
          "execution_count": 78
        }
      ]
    },
    {
      "cell_type": "code",
      "source": [
        "# 3.0 Scaling data:\n",
        "\n",
        "s = StandardScaler()\n",
        "ss.fit(df_g)\n",
        "df_g = ss.transform(df_g)"
      ],
      "metadata": {
        "colab": {
          "base_uri": "https://localhost:8080/",
          "height": 74
        },
        "id": "k0PeMzAsvC9v",
        "outputId": "a1d08420-1be1-4515-a9db-2fbc5d649477"
      },
      "execution_count": null,
      "outputs": [
        {
          "output_type": "execute_result",
          "data": {
            "text/plain": [
              "StandardScaler()"
            ],
            "text/html": [
              "<style>#sk-container-id-2 {color: black;background-color: white;}#sk-container-id-2 pre{padding: 0;}#sk-container-id-2 div.sk-toggleable {background-color: white;}#sk-container-id-2 label.sk-toggleable__label {cursor: pointer;display: block;width: 100%;margin-bottom: 0;padding: 0.3em;box-sizing: border-box;text-align: center;}#sk-container-id-2 label.sk-toggleable__label-arrow:before {content: \"▸\";float: left;margin-right: 0.25em;color: #696969;}#sk-container-id-2 label.sk-toggleable__label-arrow:hover:before {color: black;}#sk-container-id-2 div.sk-estimator:hover label.sk-toggleable__label-arrow:before {color: black;}#sk-container-id-2 div.sk-toggleable__content {max-height: 0;max-width: 0;overflow: hidden;text-align: left;background-color: #f0f8ff;}#sk-container-id-2 div.sk-toggleable__content pre {margin: 0.2em;color: black;border-radius: 0.25em;background-color: #f0f8ff;}#sk-container-id-2 input.sk-toggleable__control:checked~div.sk-toggleable__content {max-height: 200px;max-width: 100%;overflow: auto;}#sk-container-id-2 input.sk-toggleable__control:checked~label.sk-toggleable__label-arrow:before {content: \"▾\";}#sk-container-id-2 div.sk-estimator input.sk-toggleable__control:checked~label.sk-toggleable__label {background-color: #d4ebff;}#sk-container-id-2 div.sk-label input.sk-toggleable__control:checked~label.sk-toggleable__label {background-color: #d4ebff;}#sk-container-id-2 input.sk-hidden--visually {border: 0;clip: rect(1px 1px 1px 1px);clip: rect(1px, 1px, 1px, 1px);height: 1px;margin: -1px;overflow: hidden;padding: 0;position: absolute;width: 1px;}#sk-container-id-2 div.sk-estimator {font-family: monospace;background-color: #f0f8ff;border: 1px dotted black;border-radius: 0.25em;box-sizing: border-box;margin-bottom: 0.5em;}#sk-container-id-2 div.sk-estimator:hover {background-color: #d4ebff;}#sk-container-id-2 div.sk-parallel-item::after {content: \"\";width: 100%;border-bottom: 1px solid gray;flex-grow: 1;}#sk-container-id-2 div.sk-label:hover label.sk-toggleable__label {background-color: #d4ebff;}#sk-container-id-2 div.sk-serial::before {content: \"\";position: absolute;border-left: 1px solid gray;box-sizing: border-box;top: 0;bottom: 0;left: 50%;z-index: 0;}#sk-container-id-2 div.sk-serial {display: flex;flex-direction: column;align-items: center;background-color: white;padding-right: 0.2em;padding-left: 0.2em;position: relative;}#sk-container-id-2 div.sk-item {position: relative;z-index: 1;}#sk-container-id-2 div.sk-parallel {display: flex;align-items: stretch;justify-content: center;background-color: white;position: relative;}#sk-container-id-2 div.sk-item::before, #sk-container-id-2 div.sk-parallel-item::before {content: \"\";position: absolute;border-left: 1px solid gray;box-sizing: border-box;top: 0;bottom: 0;left: 50%;z-index: -1;}#sk-container-id-2 div.sk-parallel-item {display: flex;flex-direction: column;z-index: 1;position: relative;background-color: white;}#sk-container-id-2 div.sk-parallel-item:first-child::after {align-self: flex-end;width: 50%;}#sk-container-id-2 div.sk-parallel-item:last-child::after {align-self: flex-start;width: 50%;}#sk-container-id-2 div.sk-parallel-item:only-child::after {width: 0;}#sk-container-id-2 div.sk-dashed-wrapped {border: 1px dashed gray;margin: 0 0.4em 0.5em 0.4em;box-sizing: border-box;padding-bottom: 0.4em;background-color: white;}#sk-container-id-2 div.sk-label label {font-family: monospace;font-weight: bold;display: inline-block;line-height: 1.2em;}#sk-container-id-2 div.sk-label-container {text-align: center;}#sk-container-id-2 div.sk-container {/* jupyter's `normalize.less` sets `[hidden] { display: none; }` but bootstrap.min.css set `[hidden] { display: none !important; }` so we also need the `!important` here to be able to override the default hidden behavior on the sphinx rendered scikit-learn.org. See: https://github.com/scikit-learn/scikit-learn/issues/21755 */display: inline-block !important;position: relative;}#sk-container-id-2 div.sk-text-repr-fallback {display: none;}</style><div id=\"sk-container-id-2\" class=\"sk-top-container\"><div class=\"sk-text-repr-fallback\"><pre>StandardScaler()</pre><b>In a Jupyter environment, please rerun this cell to show the HTML representation or trust the notebook. <br />On GitHub, the HTML representation is unable to render, please try loading this page with nbviewer.org.</b></div><div class=\"sk-container\" hidden><div class=\"sk-item\"><div class=\"sk-estimator sk-toggleable\"><input class=\"sk-toggleable__control sk-hidden--visually\" id=\"sk-estimator-id-2\" type=\"checkbox\" checked><label for=\"sk-estimator-id-2\" class=\"sk-toggleable__label sk-toggleable__label-arrow\">StandardScaler</label><div class=\"sk-toggleable__content\"><pre>StandardScaler()</pre></div></div></div></div></div>"
            ]
          },
          "metadata": {},
          "execution_count": 102
        }
      ]
    },
    {
      "cell_type": "code",
      "source": [
        "# 3.1 Splitting genuine transactions:\n",
        "\n",
        "X_train , X_valid = df_g[0:-100000], df_g[-100000:]\n",
        "X_train.shape"
      ],
      "metadata": {
        "id": "6GKD6Foqvx2U"
      },
      "execution_count": null,
      "outputs": []
    },
    {
      "cell_type": "code",
      "source": [
        "# 3.2 Transform to dataset:\n",
        "\n",
        "batch_size = 32\n",
        "dataset = tf.data.Dataset.from_tensor_slices(X_train).shuffle(1000)\n",
        "dataset = dataset.batch(batch_size, drop_remainder=True).prefetch(1)"
      ],
      "metadata": {
        "id": "KaTkgmR4uwYX"
      },
      "execution_count": null,
      "outputs": []
    },
    {
      "cell_type": "markdown",
      "source": [
        "## GAN model"
      ],
      "metadata": {
        "id": "kLroLfge3G5t"
      }
    },
    {
      "cell_type": "code",
      "source": [
        "# 4.0\n",
        "codings_size = 30\n",
        "\n",
        "# 4.0.1 Generator\n",
        "generator = tf.keras.models.Sequential(\n",
        "                                      [\n",
        "                                        tf.keras.Input(shape = [codings_size]),\n",
        "                                        tf.keras.layers.Dense(100, activation=\"selu\"),\n",
        "                                        tf.keras.layers.Dropout(0.5),\n",
        "                                        tf.keras.layers.Dense(50, activation=\"selu\"),\n",
        "                                        tf.keras.layers.Dropout(0.5),\n",
        "                                        tf.keras.layers.Dense(29, activation=\"linear\"),\n",
        "                                     ]\n",
        "                                    )\n",
        "\n",
        "# 4.1 Discriminator:\n",
        "discriminator = tf.keras.models.Sequential(\n",
        "                                          [\n",
        "                                            tf.keras.Input(shape = [29]),\n",
        "                                            # tf.keras.layers.Flatten(),\n",
        "                                            tf.keras.layers.Dense(100, activation=\"selu\"),\n",
        "                                            tf.keras.layers.Dropout(0.5),\n",
        "                                            tf.keras.layers.Dense(50, activation=\"selu\"),\n",
        "                                            tf.keras.layers.Dropout(0.5),\n",
        "                                            tf.keras.layers.Dense(1, activation=\"sigmoid\")\n",
        "                                          ]\n",
        "                                        )"
      ],
      "metadata": {
        "id": "hQePyAZntjHA"
      },
      "execution_count": null,
      "outputs": []
    },
    {
      "cell_type": "code",
      "source": [
        "# 4.2\n",
        "gan = tf.keras.models.Sequential([generator, discriminator])"
      ],
      "metadata": {
        "id": "EnkMkRX3uPk7"
      },
      "execution_count": null,
      "outputs": []
    },
    {
      "cell_type": "code",
      "source": [
        "# 4.3\n",
        "noise = tf.random.normal(shape=[batch_size, codings_size])\n",
        "generated_data = generator(noise)\n",
        "print(type(generated_data))"
      ],
      "metadata": {
        "colab": {
          "base_uri": "https://localhost:8080/"
        },
        "id": "bUYxVgGfz-b6",
        "outputId": "a3762832-6cef-43cb-8abb-25adad71f68c"
      },
      "execution_count": null,
      "outputs": [
        {
          "output_type": "stream",
          "name": "stdout",
          "text": [
            "<class 'tensorflow.python.framework.ops.EagerTensor'>\n"
          ]
        }
      ]
    },
    {
      "cell_type": "code",
      "source": [
        "# 4.4\n",
        "for x_batch in dataset:\n",
        "  # print(type(x_batch))\n",
        "  a= x_batch\n",
        "  break"
      ],
      "metadata": {
        "id": "9SjQFzQlznu6"
      },
      "execution_count": null,
      "outputs": []
    },
    {
      "cell_type": "code",
      "source": [
        "# 5.0 Changing the type of data:\n",
        "\n",
        "generate_data = tf.cast(generated_data, tf.float32)\n",
        "a = tf.cast(a, tf.float32)\n",
        "tf.concat([generated_data, a], axis=0)\n"
      ],
      "metadata": {
        "colab": {
          "base_uri": "https://localhost:8080/"
        },
        "id": "utiE05hD0sD6",
        "outputId": "002e9d8e-582d-431d-924b-f548cb487030"
      },
      "execution_count": null,
      "outputs": [
        {
          "output_type": "execute_result",
          "data": {
            "text/plain": [
              "<tf.Tensor: shape=(64, 29), dtype=float32, numpy=\n",
              "array([[ 2.2480245 ,  0.28280172, -0.6251417 , ..., -1.5471988 ,\n",
              "        -1.3258225 , -0.7047256 ],\n",
              "       [ 1.624276  , -1.081154  , -1.0328873 , ..., -2.1713748 ,\n",
              "        -1.1927168 ,  0.49651548],\n",
              "       [-0.0085402 , -0.34554666, -0.3663266 , ..., -0.66648227,\n",
              "        -0.8413478 ,  1.0522336 ],\n",
              "       ...,\n",
              "       [-0.313758  ,  0.5521427 ,  0.5158516 , ..., -0.11210094,\n",
              "         0.1881958 , -0.31303304],\n",
              "       [-0.49291396,  1.1116666 ,  1.439321  , ...,  0.7844685 ,\n",
              "         0.74897224, -0.34214085],\n",
              "       [ 0.60911185,  0.09150644,  0.15523025, ...,  0.08768185,\n",
              "         0.03557099, -0.30719548]], dtype=float32)>"
            ]
          },
          "metadata": {},
          "execution_count": 46
        }
      ]
    },
    {
      "cell_type": "code",
      "source": [
        "# 5.1\n",
        "discriminator.compile(loss=\"binary_crossentropy\", optimizer=\"rmsprop\")\n",
        "discriminator.trainable = False\n",
        "gan.compile(loss=\"binary_crossentropy\", optimizer=\"adam\")"
      ],
      "metadata": {
        "id": "CajI6O2CxSG4"
      },
      "execution_count": null,
      "outputs": []
    },
    {
      "cell_type": "code",
      "source": [
        "# 6.0\n",
        "def train_gan(gan, dataset, batch_size, codings_size, n_epochs=50):\n",
        "    generator, discriminator = gan.layers #Gan Consist of Two Layers will give two outputs\n",
        "    for epoch in range(n_epochs):\n",
        "        print(\"Epoch {}/{}\".format(epoch + 1, n_epochs))              # not shown in the book\n",
        "        for X_batch in dataset:\n",
        "            # phase 1 - training the discriminator\n",
        "            noise = tf.random.normal(shape=[batch_size, codings_size])\n",
        "            generated_data = generator(noise)\n",
        "\n",
        "            generated_data = tf.cast(generated_data,tf.float32)\n",
        "            X_batch = tf.cast(X_batch,tf.float32)\n",
        "\n",
        "            X_fake_and_real = tf.concat([generated_data, X_batch], axis=0)\n",
        "            y1 = tf.constant([[0.]] * batch_size + [[1.]] * batch_size)\n",
        "\n",
        "            discriminator.trainable = True\n",
        "            discriminator.train_on_batch(X_fake_and_real, y1)\n",
        "\n",
        "            # phase 2 - training the generator\n",
        "            noise = tf.random.normal(shape=[batch_size, codings_size])\n",
        "            y2 = tf.constant([[1.]] * batch_size) # label 32 images as 1\n",
        "            discriminator.trainable = False\n",
        "            gan.train_on_batch(noise, y2)\n",
        "\n",
        "        new_df = pd.DataFrame(ss.inverse_transform(generated_data), columns=columns)\n",
        "        print(new_df[-5:].head(10))\n",
        "        # plt.show()"
      ],
      "metadata": {
        "id": "x2gdkjvwxUGP"
      },
      "execution_count": null,
      "outputs": []
    },
    {
      "cell_type": "code",
      "source": [
        "# 6.1 Begin training:\n",
        "train_gan(gan, dataset, batch_size, codings_size, n_epochs=4)"
      ],
      "metadata": {
        "colab": {
          "base_uri": "https://localhost:8080/"
        },
        "id": "yEir6eY1yjMD",
        "outputId": "507a59f2-b2fc-4dc9-9acd-a00d24ec2ef7"
      },
      "execution_count": null,
      "outputs": [
        {
          "output_type": "stream",
          "name": "stdout",
          "text": [
            "Epoch 1/4\n",
            "          V1        V2        V3        V4        V5        V6        V7  \\\n",
            "27  0.369358 -0.355090  0.788392 -0.928476 -0.568768  0.073096 -0.748958   \n",
            "28 -1.467031  0.110385  2.763885 -0.661164 -0.236986  1.689788 -0.420120   \n",
            "29 -4.761889  1.588198  2.556786 -0.368618  1.122524 -0.510495  0.963894   \n",
            "30  0.734975 -1.430462  0.701834 -0.210543 -0.762275  1.464190 -1.804408   \n",
            "31 -0.917833  0.959588  1.300837 -0.199832 -0.415226 -1.710691 -0.303237   \n",
            "\n",
            "          V8        V9       V10  ...       V20       V21       V22       V23  \\\n",
            "27  0.684269  0.773031 -0.743642  ... -0.133745  0.042158 -0.286271  0.302398   \n",
            "28  0.586489  0.890528 -1.494826  ... -0.208905 -0.258754 -1.028445  0.401345   \n",
            "29  0.550899  0.582473 -1.928367  ...  0.012984 -0.382705 -0.686956 -0.073716   \n",
            "30  0.570778  1.630913 -0.329881  ... -0.797883 -0.036896 -0.657956  0.496036   \n",
            "31 -0.188121 -0.568851  0.036977  ... -0.053286  0.378353 -0.210515 -0.621441   \n",
            "\n",
            "         V24       V25       V26       V27       V28      Amount  \n",
            "27 -0.138225  0.273548 -0.684664 -0.099830  0.118166  125.232042  \n",
            "28  0.194992 -0.474629 -0.116392 -0.095590  0.215285   -7.654011  \n",
            "29  0.876925 -0.258814 -0.406837  0.576588  0.343608    0.460504  \n",
            "30  0.506250 -0.144924 -0.183325 -0.032097  0.222718   27.302528  \n",
            "31  0.052831 -0.394590 -1.061213  0.262393  0.089819  -45.636975  \n",
            "\n",
            "[5 rows x 29 columns]\n",
            "Epoch 2/4\n",
            "          V1        V2        V3        V4        V5        V6        V7  \\\n",
            "27 -0.023413  0.721361  0.333633  1.667669  0.929034  0.401713  0.743427   \n",
            "28 -3.387007 -5.883103  0.210809 -5.125621  1.822773 -2.652962 -1.551595   \n",
            "29 -0.469562 -2.467228 -1.249105 -2.491007  0.739506 -1.833399 -0.153311   \n",
            "30  1.466551  0.299502 -1.644987 -0.420826  0.193707  0.072837  0.631660   \n",
            "31  0.343553 -0.631745 -0.682024 -0.817078 -0.337479  0.317369 -0.035782   \n",
            "\n",
            "          V8        V9       V10  ...       V20       V21       V22       V23  \\\n",
            "27 -0.078293 -1.743161  0.973475  ... -0.009399 -0.051037 -0.234172 -0.133440   \n",
            "28  0.316994 -1.344369  0.425739  ...  1.125766  0.878927  1.022691 -0.714211   \n",
            "29 -0.243220 -0.022714  0.049458  ...  0.276477  0.596169  0.773915 -0.119630   \n",
            "30 -0.302363  0.347753 -0.484486  ... -0.152052  0.286089  0.486918  0.217820   \n",
            "31 -0.048448 -0.111914  0.147514  ... -0.393229 -0.013137 -0.020403  0.026235   \n",
            "\n",
            "         V24       V25       V26       V27       V28     Amount  \n",
            "27 -0.703368 -0.139426  0.087341  0.007243  0.130494  24.094955  \n",
            "28 -1.677320  0.400429 -1.028746 -0.096175 -0.203105 -62.135083  \n",
            "29 -0.451642 -0.135742 -0.275924 -0.094721 -0.143803   3.936551  \n",
            "30 -0.273344 -0.321707  0.389844  0.158901  0.068236  60.017146  \n",
            "31 -0.127494  0.130371 -0.039193  0.136223  0.086578  38.111137  \n",
            "\n",
            "[5 rows x 29 columns]\n",
            "Epoch 3/4\n",
            "          V1        V2        V3        V4        V5        V6        V7  \\\n",
            "27  1.414238 -1.030166  0.891829 -1.489965 -0.690344 -0.259247 -0.601668   \n",
            "28 -0.422862 -0.049254  0.735935  0.189335  1.007336  0.970153  0.465283   \n",
            "29  1.036978 -0.910596  0.451886 -1.200961 -0.296539 -0.060826 -0.228906   \n",
            "30  1.338138 -1.208619  1.110916 -2.661877 -1.224984  0.311165 -1.429015   \n",
            "31 -1.750353  0.744005 -0.336610 -1.323843  2.259989  1.545301  0.667286   \n",
            "\n",
            "          V8        V9       V10  ...       V20       V21       V22       V23  \\\n",
            "27 -0.219718 -1.417416  0.901137  ... -0.232556 -0.426320 -0.256244  0.324974   \n",
            "28  0.125545  0.602242 -0.277431  ...  0.098724 -0.141308  0.398328 -0.015612   \n",
            "29 -0.107102 -0.174903  0.412562  ... -0.255598 -0.296278  0.106059  0.298545   \n",
            "30  0.248518 -2.892775  1.500250  ... -0.377210 -0.592474 -0.401551  0.366444   \n",
            "31  0.487438 -0.108891 -0.868306  ...  0.311633  0.203243 -0.133228 -0.336293   \n",
            "\n",
            "         V24       V25       V26       V27       V28     Amount  \n",
            "27 -0.003940 -0.276150  0.252432  0.027420 -0.007949  40.157241  \n",
            "28 -0.697066  0.098658 -0.157727 -0.166774 -0.090157  83.027171  \n",
            "29 -0.021208 -0.241858  0.008309 -0.045161 -0.002369  59.267151  \n",
            "30  0.288882 -0.522483  0.238434  0.212941  0.112112  54.807793  \n",
            "31 -0.271870 -0.152653 -0.406585  0.063748  0.107903  97.659048  \n",
            "\n",
            "[5 rows x 29 columns]\n",
            "Epoch 4/4\n",
            "          V1        V2        V3        V4        V5        V6        V7  \\\n",
            "27  1.528039  1.414471 -1.814486 -0.042024  1.362145 -0.033852  1.691072   \n",
            "28 -6.538158 -4.159744  0.671634 -1.238798  4.834360 -3.166773 -2.067061   \n",
            "29 -0.823439  0.238651  0.158101 -0.224130  1.738983 -0.241140  0.086630   \n",
            "30  2.958999  0.599788 -2.219264  1.223157  0.143978  1.986251 -0.829173   \n",
            "31  1.222669  1.155748 -1.482290  0.519144  0.717331  0.679541  0.875317   \n",
            "\n",
            "          V8        V9       V10  ...       V20       V21       V22       V23  \\\n",
            "27 -0.942521  0.011729 -0.227674  ... -0.323462 -0.412366 -0.390360 -0.737760   \n",
            "28  2.515079 -1.640252 -0.937119  ... -0.656623  0.056457  1.171428  1.974571   \n",
            "29  0.346986 -0.463457 -0.385944  ... -0.093822  0.037892  0.322791  0.097719   \n",
            "30  0.690073  0.545441  0.774065  ...  0.171416 -0.105991 -0.279336 -0.315598   \n",
            "31 -0.250372  0.287354  0.243520  ...  0.126721 -0.057221  0.289323 -0.472787   \n",
            "\n",
            "         V24       V25       V26       V27       V28      Amount  \n",
            "27 -0.153648  0.817761 -0.609871  0.199003  0.733622  -31.745322  \n",
            "28  1.665305  0.129084 -0.081716  1.012175 -1.391258 -269.028776  \n",
            "29  0.332121 -0.350309 -0.063346  0.228021 -0.094726  -45.312933  \n",
            "30 -0.417182  0.755523  0.197587 -0.139297  0.152282   55.440631  \n",
            "31 -0.115963  0.453707 -0.343203  0.282882  0.577803   16.827486  \n",
            "\n",
            "[5 rows x 29 columns]\n"
          ]
        }
      ]
    },
    {
      "cell_type": "markdown",
      "source": [
        "## Generate fake data"
      ],
      "metadata": {
        "id": "vNSqHBkh3yaU"
      }
    },
    {
      "cell_type": "code",
      "source": [
        "# 7.0\n",
        "noise = tf.random.normal(shape=[X_train.shape[0],30])\n",
        "generate_data = generator(noise)\n",
        "gd = pd.DataFrame(generate_data, columns=columns)"
      ],
      "metadata": {
        "id": "gzSscApZ6JjB"
      },
      "execution_count": null,
      "outputs": []
    },
    {
      "cell_type": "code",
      "source": [
        "# 7.1 Comparing the Normalized Amount =====>  of Generate Data and X_train Data"
      ],
      "metadata": {
        "id": "MCKV-yRBCsV9"
      },
      "execution_count": null,
      "outputs": []
    },
    {
      "cell_type": "code",
      "source": [
        "plt.hist(gd.iloc[:,-1],bins=[-1,-0.5,0,0.5,1])"
      ],
      "metadata": {
        "colab": {
          "base_uri": "https://localhost:8080/",
          "height": 482
        },
        "id": "gbCNWW0e_UBG",
        "outputId": "338c5b2b-9710-4554-cfac-4e301f4d9c14"
      },
      "execution_count": null,
      "outputs": [
        {
          "output_type": "execute_result",
          "data": {
            "text/plain": [
              "(array([ 26646., 127580.,  15339.,   5818.]),\n",
              " array([-1. , -0.5,  0. ,  0.5,  1. ]),\n",
              " <BarContainer object of 4 artists>)"
            ]
          },
          "metadata": {},
          "execution_count": 167
        },
        {
          "output_type": "display_data",
          "data": {
            "text/plain": [
              "<Figure size 640x480 with 1 Axes>"
            ],
            "image/png": "[encoded data removed]"
          },
          "metadata": {}
        }
      ]
    },
    {
      "cell_type": "code",
      "source": [
        "# 7.2\n",
        "plt.hist(X_train[:,-1], bins=[-1,-0.5,0,0.5,1])"
      ],
      "metadata": {
        "colab": {
          "base_uri": "https://localhost:8080/",
          "height": 482
        },
        "id": "iVGAIk23_gyF",
        "outputId": "8f2052a7-0e71-4f7a-fe24-d1cc2c0c770a"
      },
      "execution_count": null,
      "outputs": [
        {
          "output_type": "execute_result",
          "data": {
            "text/plain": [
              "(array([     0., 142251.,  24547.,   7332.]),\n",
              " array([-1. , -0.5,  0. ,  0.5,  1. ]),\n",
              " <BarContainer object of 4 artists>)"
            ]
          },
          "metadata": {},
          "execution_count": 168
        },
        {
          "output_type": "display_data",
          "data": {
            "text/plain": [
              "<Figure size 640x480 with 1 Axes>"
            ],
            "image/png": "[encoded data removed]"
          },
          "metadata": {}
        }
      ]
    },
    {
      "cell_type": "code",
      "source": [
        "#########################"
      ],
      "metadata": {
        "id": "zm0g7oFN_2cO"
      },
      "execution_count": null,
      "outputs": []
    }
  ]
}