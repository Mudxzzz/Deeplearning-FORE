{
  "nbformat": 4,
  "nbformat_minor": 0,
  "metadata": {
    "colab": {
      "provenance": [],
      "collapsed_sections": [
        "7ov3ECRCXw87",
        "XfaD8EeDZ_kN",
        "Qd5BKS4YamHZ",
        "UBD2FWbWeMnR",
        "Fvwl6SEyeP5p",
        "BbD4nlYkeqgR"
      ],
      "authorship_tag": "ABX9TyOmOuhiI53OsBwAGYby+qtX",
      "include_colab_link": true
    },
    "kernelspec": {
      "name": "python3",
      "display_name": "Python 3"
    },
    "language_info": {
      "name": "python"
    },
    "accelerator": "GPU"
  },
  "cells": [
    {
      "cell_type": "markdown",
      "metadata": {
        "id": "view-in-github",
        "colab_type": "text"
      },
      "source": [
        "<a href=\"https://colab.research.google.com/github/harnalashok/deeplearning/blob/main/transfer_learning%20MobileNet.ipynb\" target=\"_parent\"><img src=\"https://colab.research.google.com/assets/colab-badge.svg\" alt=\"Open In Colab\"/></a>"
      ]
    },
    {
      "cell_type": "code",
      "source": [
        "# Last amended: 07th Jan, 2023\n",
        "# https://www.tensorflow.org/tutorials/images/transfer_learning"
      ],
      "metadata": {
        "id": "XXZuzDlzHuNk"
      },
      "execution_count": null,
      "outputs": []
    },
    {
      "cell_type": "markdown",
      "source": [
        "Objectives\n",
        "> Examine and understand the data<br>\n",
        "> Build an input pipeline, in this case using Keras ImageDataGenerator<br>\n",
        ">>Compose the model<br>\n",
        ">>Load in the pretrained base model (and pretrained weights)<br>\n",
        ">Stack the classification layers on top<br>\n",
        ">Train the model<br>\n",
        ">Evaluate model<br>\n"
      ],
      "metadata": {
        "id": "r5c3cBZ1Fu8s"
      }
    },
    {
      "cell_type": "markdown",
      "source": [
        "Note: It appears in this model, learning rate plays a very crucial role. Further, whenever you change any model-compilation parameters, start from %reset point. Deleteing model, re-initializing etc do not appear to help."
      ],
      "metadata": {
        "id": "2Qf-GIGC09zr"
      }
    },
    {
      "cell_type": "markdown",
      "source": [
        "## Install software"
      ],
      "metadata": {
        "id": "eO6XUMURXTRD"
      }
    },
    {
      "cell_type": "code",
      "source": [
        "# 1.0 Install current tensorflow\n",
        "!pip install tensorflow==2.10.0"
      ],
      "metadata": {
        "id": "L64-cuBzH8sA"
      },
      "execution_count": null,
      "outputs": []
    },
    {
      "cell_type": "markdown",
      "source": [
        "## Call libraries"
      ],
      "metadata": {
        "id": "kRiPG-roXZEj"
      }
    },
    {
      "cell_type": "code",
      "source": [
        "# 1.1\n",
        "#%reset\n",
        "import numpy as np\n",
        "import pandas as pd\n",
        "\n",
        "# 1.1.1\n",
        "import matplotlib.pyplot as plt\n",
        "\n",
        "# 1.1.2\n",
        "import tensorflow as tf\n",
        "\n",
        "# 1.1.3\n",
        "import PIL\n",
        "import pathlib,os"
      ],
      "metadata": {
        "id": "6jiQVHZLIMaS"
      },
      "execution_count": 4,
      "outputs": []
    },
    {
      "cell_type": "code",
      "source": [
        "# 1.1.4\n",
        "tf.__version__"
      ],
      "metadata": {
        "colab": {
          "base_uri": "https://localhost:8080/",
          "height": 144
        },
        "id": "Jh_eGqDBJfxg",
        "outputId": "6911e7c1-c3c5-4005-8e3f-2ab55ce8276b"
      },
      "execution_count": 5,
      "outputs": [
        {
          "output_type": "execute_result",
          "data": {
            "text/plain": [
              "'2.9.2'"
            ],
            "application/vnd.google.colaboratory.intrinsic+json": {
              "type": "string"
            }
          },
          "metadata": {},
          "execution_count": 5
        }
      ]
    },
    {
      "cell_type": "markdown",
      "source": [
        "## Download data"
      ],
      "metadata": {
        "id": "7ov3ECRCXw87"
      }
    },
    {
      "cell_type": "code",
      "source": [
        "# 2.0 Data URL:\n",
        "\n",
        "data_url = 'https://storage.googleapis.com/mledu-datasets/cats_and_dogs_filtered.zip'"
      ],
      "metadata": {
        "id": "MS_pro45Hl2z"
      },
      "execution_count": 6,
      "outputs": []
    },
    {
      "cell_type": "code",
      "source": [
        "# 2.1 Delete any existing data\n",
        "\n",
        "!rm -rf /root/.keras/datasets"
      ],
      "metadata": {
        "id": "-UshADsgK9RJ"
      },
      "execution_count": 7,
      "outputs": []
    },
    {
      "cell_type": "code",
      "source": [
        "# 2.2 Download now:\n",
        "\n",
        "data_dir = tf.keras.utils.get_file(origin = data_url, extract= True)\n",
        "data_dir"
      ],
      "metadata": {
        "colab": {
          "base_uri": "https://localhost:8080/",
          "height": 925
        },
        "id": "EEmE_kwcH2KB",
        "outputId": "51c47607-991a-48ef-9e7a-2bcc34f69757"
      },
      "execution_count": 8,
      "outputs": [
        {
          "output_type": "stream",
          "name": "stdout",
          "text": [
            "Downloading data from https://storage.googleapis.com/mledu-datasets/cats_and_dogs_filtered.zip\n",
            "68606236/68606236 [==============================] - 5s 0us/step\n"
          ]
        },
        {
          "output_type": "execute_result",
          "data": {
            "text/plain": [
              "'/root/.keras/datasets/cats_and_dogs_filtered.zip'"
            ],
            "application/vnd.google.colaboratory.intrinsic+json": {
              "type": "string"
            }
          },
          "metadata": {},
          "execution_count": 8
        }
      ]
    },
    {
      "cell_type": "code",
      "source": [
        "# 2.3 Check data files:\n",
        "\n",
        "!ls /root/.keras/datasets"
      ],
      "metadata": {
        "colab": {
          "base_uri": "https://localhost:8080/"
        },
        "id": "I2Z9lTjZKSPy",
        "outputId": "4f89a058-7baf-4394-cdff-0ff7380d7989"
      },
      "execution_count": 9,
      "outputs": [
        {
          "output_type": "stream",
          "name": "stdout",
          "text": [
            "cats_and_dogs_filtered\tcats_and_dogs_filtered.zip\n"
          ]
        }
      ]
    },
    {
      "cell_type": "code",
      "source": [
        "# 2.3.1 Check data files:\n",
        "\n",
        "!ls /root/.keras/datasets/cats_and_dogs_filtered"
      ],
      "metadata": {
        "colab": {
          "base_uri": "https://localhost:8080/"
        },
        "id": "w-9d4R71LD8o",
        "outputId": "1ea6ae63-912b-466e-a9d2-9f0ba1fb44bd"
      },
      "execution_count": 10,
      "outputs": [
        {
          "output_type": "stream",
          "name": "stdout",
          "text": [
            "train  validation  vectorize.py\n"
          ]
        }
      ]
    },
    {
      "cell_type": "markdown",
      "source": [
        "## Examine data"
      ],
      "metadata": {
        "id": "XfaD8EeDZ_kN"
      }
    },
    {
      "cell_type": "code",
      "source": [
        "# 2.3.2\n",
        "\n",
        "data_dir = pathlib.Path(\"/root/.keras/datasets/cats_and_dogs_filtered\")"
      ],
      "metadata": {
        "id": "PJAOH6JDLMOC"
      },
      "execution_count": 11,
      "outputs": []
    },
    {
      "cell_type": "code",
      "source": [
        "# 2.3.3 Iterate over data_dir: \n",
        "\n",
        "for i in data_dir.iterdir():\n",
        "  print(i)"
      ],
      "metadata": {
        "id": "p6TyegESOBMx",
        "colab": {
          "base_uri": "https://localhost:8080/"
        },
        "outputId": "d0f84d49-49b4-4e03-b193-ba5395c2ac94"
      },
      "execution_count": 12,
      "outputs": [
        {
          "output_type": "stream",
          "name": "stdout",
          "text": [
            "/root/.keras/datasets/cats_and_dogs_filtered/train\n",
            "/root/.keras/datasets/cats_and_dogs_filtered/validation\n",
            "/root/.keras/datasets/cats_and_dogs_filtered/vectorize.py\n"
          ]
        }
      ]
    },
    {
      "cell_type": "code",
      "source": [
        "# 2.3.4 Check within train:\n",
        "\n",
        "for j in (data_dir / \"train\").iterdir():\n",
        "  print(j)"
      ],
      "metadata": {
        "colab": {
          "base_uri": "https://localhost:8080/"
        },
        "id": "NiAy91uuOQZ4",
        "outputId": "f7fc6dfe-34e2-4fbc-bf8b-9053387a4771"
      },
      "execution_count": 13,
      "outputs": [
        {
          "output_type": "stream",
          "name": "stdout",
          "text": [
            "/root/.keras/datasets/cats_and_dogs_filtered/train/cats\n",
            "/root/.keras/datasets/cats_and_dogs_filtered/train/dogs\n"
          ]
        }
      ]
    },
    {
      "cell_type": "code",
      "source": [
        "# 3.0 Plot images:\n",
        "\n",
        "plt.figure(figsize = (10,10))\n",
        "for k,i in enumerate((data_dir / \"train\").iterdir()):\n",
        "  for j in i.iterdir():\n",
        "    im = PIL.Image.open(j)\n",
        "    im = np.asarray(im)\n",
        "    plt.subplot(3,3,k+1)\n",
        "    plt.imshow(im)\n",
        "    plt.axis(\"off\")\n",
        "    break;"
      ],
      "metadata": {
        "colab": {
          "base_uri": "https://localhost:8080/",
          "height": 54
        },
        "id": "4olY8wHTRXRa",
        "outputId": "911d4ed4-6a2b-47a1-8c14-9f34395b7fcb"
      },
      "execution_count": 14,
      "outputs": [
        {
          "output_type": "display_data",
          "data": {
            "text/plain": [
              "<Figure size 720x720 with 2 Axes>"
            ],
            "image/png": "[encoded data removed]"
          },
          "metadata": {
            "needs_background": "light"
          }
        }
      ]
    },
    {
      "cell_type": "markdown",
      "source": [
        "## train/test/validation generators"
      ],
      "metadata": {
        "id": "Qd5BKS4YamHZ"
      }
    },
    {
      "cell_type": "code",
      "source": [
        "# 3.1 Some constants:\n",
        "\n",
        "batch_size = 32\n",
        "image_size = (160,160)"
      ],
      "metadata": {
        "id": "MTVJunGCCZkS"
      },
      "execution_count": 15,
      "outputs": []
    },
    {
      "cell_type": "code",
      "source": [
        "# 3.2 Create train data generator\n",
        "\n",
        "train_ds = tf.keras.utils.image_dataset_from_directory(data_dir / \"train\",\n",
        "                                                       shuffle = True,\n",
        "                                                       batch_size = batch_size,\n",
        "                                                       image_size=image_size\n",
        "                                                       )"
      ],
      "metadata": {
        "id": "j1QY9kFOTEBZ",
        "colab": {
          "base_uri": "https://localhost:8080/"
        },
        "outputId": "73e44d78-5ce4-41c3-d5de-138a70f50b4c"
      },
      "execution_count": 16,
      "outputs": [
        {
          "output_type": "stream",
          "name": "stdout",
          "text": [
            "Found 2000 files belonging to 2 classes.\n"
          ]
        }
      ]
    },
    {
      "cell_type": "code",
      "source": [
        "# 3.2.1 What are the class names:\n",
        "\n",
        "train_ds.class_names"
      ],
      "metadata": {
        "colab": {
          "base_uri": "https://localhost:8080/"
        },
        "id": "FBYXwucACX0M",
        "outputId": "1e3ee7ba-d7ec-48be-ca97-b9764f16ab86"
      },
      "execution_count": 17,
      "outputs": [
        {
          "output_type": "execute_result",
          "data": {
            "text/plain": [
              "['cats', 'dogs']"
            ]
          },
          "metadata": {},
          "execution_count": 17
        }
      ]
    },
    {
      "cell_type": "code",
      "source": [
        "# 3.3 Validation generator:\n",
        "\n",
        "valid_ds = tf.keras.utils.image_dataset_from_directory(data_dir / \"validation\",\n",
        "                                                       shuffle = True,\n",
        "                                                       batch_size = batch_size,\n",
        "                                                       image_size=image_size\n",
        "                                                       )"
      ],
      "metadata": {
        "colab": {
          "base_uri": "https://localhost:8080/"
        },
        "id": "9MizjjOPCpRn",
        "outputId": "c68517f3-c9ff-40bb-f395-dd707e1f278d"
      },
      "execution_count": 18,
      "outputs": [
        {
          "output_type": "stream",
          "name": "stdout",
          "text": [
            "Found 1000 files belonging to 2 classes.\n"
          ]
        }
      ]
    },
    {
      "cell_type": "code",
      "source": [
        "# 3.4 How many batches of validation data are possible:\n",
        "\n",
        "val_batches = tf.data.experimental.cardinality(valid_ds)    # <tf.Tensor: shape=(), dtype=int64, numpy=32> \n",
        "                                                            # there are 32 batches; 32 * 32 = 1024\n",
        "val_batches                                                            "
      ],
      "metadata": {
        "id": "hXtrFREeC72s",
        "outputId": "1dae2707-9fc9-4b90-ef10-a3839fa87e77",
        "colab": {
          "base_uri": "https://localhost:8080/"
        }
      },
      "execution_count": 19,
      "outputs": [
        {
          "output_type": "execute_result",
          "data": {
            "text/plain": [
              "<tf.Tensor: shape=(), dtype=int64, numpy=32>"
            ]
          },
          "metadata": {},
          "execution_count": 19
        }
      ]
    },
    {
      "cell_type": "code",
      "source": [
        "# 3.5 These are how many batches:\n",
        "\n",
        "val_batches // 5   # 6"
      ],
      "metadata": {
        "colab": {
          "base_uri": "https://localhost:8080/"
        },
        "id": "dqeWM03oNQyG",
        "outputId": "0ac3fd24-fbc3-4f02-804a-1bb6743fb07c"
      },
      "execution_count": 20,
      "outputs": [
        {
          "output_type": "execute_result",
          "data": {
            "text/plain": [
              "<tf.Tensor: shape=(), dtype=int64, numpy=6>"
            ]
          },
          "metadata": {},
          "execution_count": 20
        }
      ]
    },
    {
      "cell_type": "code",
      "source": [
        "# 3.6 Just get one batch:\n",
        "\n",
        "for i,j in valid_ds.take(1):\n",
        "  print(i.shape)\n",
        "  print(j.shape)"
      ],
      "metadata": {
        "colab": {
          "base_uri": "https://localhost:8080/"
        },
        "id": "c5cauqCoELML",
        "outputId": "717d22c1-6ab3-44d5-9b77-c92f409106bb"
      },
      "execution_count": 21,
      "outputs": [
        {
          "output_type": "stream",
          "name": "stdout",
          "text": [
            "(32, 160, 160, 3)\n",
            "(32,)\n"
          ]
        }
      ]
    },
    {
      "cell_type": "code",
      "source": [
        "# 3.7 Take initial val_batches // 5 for test data:\n",
        "\n",
        "test_dataset = valid_ds.take(val_batches // 5)"
      ],
      "metadata": {
        "id": "ZTqxGisEFo4n"
      },
      "execution_count": 22,
      "outputs": []
    },
    {
      "cell_type": "code",
      "source": [
        "#  3.8 tf.data.Dataset.skip() method is used to create a dataset \n",
        "#        that skips count initial elements from this dataset.\n",
        "\n",
        "validation_dataset = valid_ds.skip(val_batches // 5)"
      ],
      "metadata": {
        "id": "D6PC7pIVNaJZ"
      },
      "execution_count": 23,
      "outputs": []
    },
    {
      "cell_type": "code",
      "source": [
        "# 3.9 Skip example:\n",
        "#       https://www.tensorflow.org/api_docs/python/tf/data/Dataset#skip\n",
        "\n",
        "dataset = tf.data.Dataset.range(10)\n",
        "dataset = dataset.skip(7)\n",
        "list(dataset.as_numpy_iterator())\n"
      ],
      "metadata": {
        "colab": {
          "base_uri": "https://localhost:8080/"
        },
        "id": "3c3ceIcLTfjU",
        "outputId": "1026dd14-1282-4e6a-fa70-9da5768569ca"
      },
      "execution_count": 24,
      "outputs": [
        {
          "output_type": "execute_result",
          "data": {
            "text/plain": [
              "[7, 8, 9]"
            ]
          },
          "metadata": {},
          "execution_count": 24
        }
      ]
    },
    {
      "cell_type": "markdown",
      "source": [
        "## Prefetching\n",
        "Configure pre-fetching"
      ],
      "metadata": {
        "id": "UBD2FWbWeMnR"
      }
    },
    {
      "cell_type": "markdown",
      "source": [
        "### Configure the dataset for performance"
      ],
      "metadata": {
        "id": "PfrJQXlYYppz"
      }
    },
    {
      "cell_type": "code",
      "source": [
        "# 4.0 Get appropriate buffer size:\n",
        "\n",
        "buf_size = tf.data.AUTOTUNE\n",
        "train_ds = train_ds.prefetch(buffer_size = buf_size)\n",
        "validation_dataset  = validation_dataset.prefetch(buffer_size = buf_size)\n",
        "test_dataset = test_dataset.prefetch(buffer_size = buf_size)"
      ],
      "metadata": {
        "id": "yyVzTv9_N2Ku"
      },
      "execution_count": 25,
      "outputs": []
    },
    {
      "cell_type": "markdown",
      "source": [
        "## MobileNetV2 model weights"
      ],
      "metadata": {
        "id": "Fvwl6SEyeP5p"
      }
    },
    {
      "cell_type": "code",
      "source": [
        "# 4.1 Create the base model from the pre-trained model MobileNet V2\n",
        "\n",
        "IMG_SHAPE = image_size + (3,)   # (160,160,3)\n",
        "# What about: f.keras.applications.mobilenet_v2.MobileNetV2\n",
        "base_model = tf.keras.applications.MobileNetV2(input_shape=IMG_SHAPE,\n",
        "                                               include_top=False,\n",
        "                                               weights='imagenet')\n",
        "\n",
        "type(base_model)  # keras.engine.functional.Functional"
      ],
      "metadata": {
        "id": "sgX_tko_ZNwe",
        "outputId": "2f788616-eed6-44ff-d0a9-ca851d2037a7",
        "colab": {
          "base_uri": "https://localhost:8080/"
        }
      },
      "execution_count": 26,
      "outputs": [
        {
          "output_type": "stream",
          "name": "stdout",
          "text": [
            "Downloading data from https://storage.googleapis.com/tensorflow/keras-applications/mobilenet_v2/mobilenet_v2_weights_tf_dim_ordering_tf_kernels_1.0_160_no_top.h5\n",
            "9406464/9406464 [==============================] - 0s 0us/step\n"
          ]
        },
        {
          "output_type": "execute_result",
          "data": {
            "text/plain": [
              "keras.engine.functional.Functional"
            ]
          },
          "metadata": {},
          "execution_count": 26
        }
      ]
    },
    {
      "cell_type": "markdown",
      "source": [
        "## Data augmentation function"
      ],
      "metadata": {
        "id": "BbD4nlYkeqgR"
      }
    },
    {
      "cell_type": "code",
      "source": [
        "# 5.0 Data augmentation function:\n",
        "\n",
        "data_augmentation = tf.keras.Sequential([\n",
        "                                          tf.keras.layers.RandomFlip('horizontal'),\n",
        "                                          tf.keras.layers.RandomRotation(0.2),\n",
        "                                         ]\n",
        "                                        )"
      ],
      "metadata": {
        "id": "qhXwUd8qq8Cl"
      },
      "execution_count": 27,
      "outputs": []
    },
    {
      "cell_type": "markdown",
      "source": [
        "## Our model"
      ],
      "metadata": {
        "id": "GJ6AKNKIfGVD"
      }
    },
    {
      "cell_type": "code",
      "source": [
        "# 6.0 Classification model:\n",
        "#      Each time you rerun the model, change seed\n",
        "#       to some other number\n",
        "\n",
        "# 6.1 Clear existing keras weights from model:\n",
        "tf.keras.backend.clear_session()\n",
        "seed = np.round(np.random.random() * 10000 ).astype('int')\n",
        "tf.random.set_seed(seed)\n",
        "\n",
        "\n",
        "# 6.2 The model\n",
        "inputs = tf.keras.Input(shape = IMG_SHAPE )\n",
        "x = data_augmentation(inputs)   # Note that it is a dequential model\n",
        "# Rescaling is done by scale*inputs+offset.\n",
        "# Rescaling(scale=4.0, offset=1.0) implies:\n",
        "#   [0,255] range it would give 4*[0, 255]+1 = [1, 1021]\n",
        "x = tf.keras.layers.Rescaling(1./127.5, offset=-1)(x)  # Rescale (-1,1)\n",
        "# Call the model on new inputs: (x):\n",
        "# https://www.tensorflow.org/api_docs/python/tf/keras/Model#call\n",
        "base = base_model(x, training = False)   # No training \n",
        "base = tf.keras.layers.Flatten()(base)\n",
        "base = tf.keras.layers.Dense(256, activation = 'relu')(base)\n",
        "type(base)\n",
        "#base = tf.keras.layers.GlobalAveragePooling2D()(base)\n",
        "#base = tf.keras.layers.Dropout(0.2)(base)\n",
        "outputs = tf.keras.layers.Dense(1)(base)\n",
        "md = tf.keras.Model(inputs = [inputs], outputs = [outputs])"
      ],
      "metadata": {
        "id": "W-0exxUVgbqQ"
      },
      "execution_count": 28,
      "outputs": []
    },
    {
      "cell_type": "markdown",
      "source": [
        "See [tf.keras.losses.BinaryCrossentropy](https://www.tensorflow.org/api_docs/python/tf/keras/losses/BinaryCrossentropy)<br>\n",
        "Als [see](https://stackoverflow.com/questions/41455101/what-is-the-meaning-of-the-word-logits-in-tensorflow)\n",
        "\n",
        "> <i>from_logits = True:</i><br>\n",
        ">> Whether to interpret `y_pred` as a tensor of logit values. By default, we assume that `y_pred` contains probabilities (i.e., values in [0, 1])."
      ],
      "metadata": {
        "id": "BEFiArndimnp"
      }
    },
    {
      "cell_type": "code",
      "source": [
        "# 6.3 Compile the mode:\n",
        "#     This compilation gives very good results.\n",
        "#     But see Note at the beginning.\n",
        "# Adam: https://www.tensorflow.org/api_docs/python/tf/keras/optimizers/Adam\n",
        "\n",
        "base_learning_rate = 0.0001\n",
        "md.compile(   optimizer=tf.keras.optimizers.Adam(\n",
        "                                                learning_rate=base_learning_rate   # Default: 0.01\n",
        "                                                ),\n",
        "              loss=tf.keras.losses.BinaryCrossentropy(\n",
        "                                                      from_logits=True  # Default: False\n",
        "                                                     ),\n",
        "              metrics=['accuracy']\n",
        "           )"
      ],
      "metadata": {
        "id": "g3cJfe0hBDDG"
      },
      "execution_count": 58,
      "outputs": []
    },
    {
      "cell_type": "code",
      "source": [
        "# 6.4 This compilation does not give good results: \n",
        "md.compile( \n",
        "            loss=tf.keras.losses.BinaryCrossentropy(\n",
        "                                                      from_logits=True  # Default: False\n",
        "                                                     ),\n",
        "            optimizer = tf.keras.optimizers.Adam(),\n",
        "            metrics = [\"accuracy\"]\n",
        "           )"
      ],
      "metadata": {
        "id": "tNIs13mjjNZw"
      },
      "execution_count": null,
      "outputs": []
    },
    {
      "cell_type": "markdown",
      "source": [
        "## Train model"
      ],
      "metadata": {
        "id": "-r91PjXD2HLS"
      }
    },
    {
      "cell_type": "code",
      "source": [
        "# 6.5 Train the model:\n",
        "\n",
        "md.fit(train_ds,\n",
        "       batch_size = batch_size,\n",
        "       epochs = 10,\n",
        "       validation_data = validation_dataset\n",
        "       )"
      ],
      "metadata": {
        "id": "Kh3ctMBPj_bt",
        "outputId": "eeb37765-b1ff-496f-e36e-8df92eae36db",
        "colab": {
          "base_uri": "https://localhost:8080/"
        }
      },
      "execution_count": 59,
      "outputs": [
        {
          "output_type": "stream",
          "name": "stdout",
          "text": [
            "Epoch 1/10\n",
            "63/63 [==============================] - 26s 204ms/step - loss: 0.2841 - accuracy: 0.8910 - val_loss: 0.0803 - val_accuracy: 0.9616\n",
            "Epoch 2/10\n",
            "63/63 [==============================] - 12s 180ms/step - loss: 0.1761 - accuracy: 0.9280 - val_loss: 0.0445 - val_accuracy: 0.9839\n",
            "Epoch 3/10\n",
            "63/63 [==============================] - 12s 180ms/step - loss: 0.1372 - accuracy: 0.9465 - val_loss: 0.0677 - val_accuracy: 0.9740\n",
            "Epoch 4/10\n",
            "63/63 [==============================] - 12s 179ms/step - loss: 0.1011 - accuracy: 0.9655 - val_loss: 0.0730 - val_accuracy: 0.9678\n",
            "Epoch 5/10\n",
            "63/63 [==============================] - 12s 180ms/step - loss: 0.0895 - accuracy: 0.9630 - val_loss: 0.0502 - val_accuracy: 0.9802\n",
            "Epoch 6/10\n",
            "63/63 [==============================] - 12s 183ms/step - loss: 0.0921 - accuracy: 0.9610 - val_loss: 0.0609 - val_accuracy: 0.9790\n",
            "Epoch 7/10\n",
            "63/63 [==============================] - 11s 178ms/step - loss: 0.0745 - accuracy: 0.9730 - val_loss: 0.0691 - val_accuracy: 0.9728\n",
            "Epoch 8/10\n",
            "63/63 [==============================] - 12s 179ms/step - loss: 0.1006 - accuracy: 0.9585 - val_loss: 0.0460 - val_accuracy: 0.9802\n",
            "Epoch 9/10\n",
            "63/63 [==============================] - 12s 180ms/step - loss: 0.0790 - accuracy: 0.9675 - val_loss: 0.0802 - val_accuracy: 0.9752\n",
            "Epoch 10/10\n",
            "63/63 [==============================] - 12s 181ms/step - loss: 0.0823 - accuracy: 0.9705 - val_loss: 0.0558 - val_accuracy: 0.9765\n"
          ]
        },
        {
          "output_type": "execute_result",
          "data": {
            "text/plain": [
              "<keras.callbacks.History at 0x7f401eeeb5b0>"
            ]
          },
          "metadata": {},
          "execution_count": 59
        }
      ]
    },
    {
      "cell_type": "markdown",
      "source": [
        "## Initialise model\n",
        "Does not appear to help"
      ],
      "metadata": {
        "id": "GSmhNwAj2KEZ"
      }
    },
    {
      "cell_type": "code",
      "source": [
        "# 7.0 Delete all model related variables:\n",
        "\n",
        "del x , md, base, inputs, outputs"
      ],
      "metadata": {
        "id": "c6AlbePsu40z"
      },
      "execution_count": null,
      "outputs": []
    },
    {
      "cell_type": "code",
      "source": [
        "# 7.1 Function to reinitailize model:\n",
        "\n",
        "def reinitialize(model):\n",
        "    for l in model.layers:\n",
        "        if hasattr(l,\"kernel_initializer\"):\n",
        "            l.kernel.assign(l.kernel_initializer(tf.shape(l.kernel)))\n",
        "        if hasattr(l,\"bias_initializer\"):\n",
        "            l.bias.assign(l.bias_initializer(tf.shape(l.bias)))\n",
        "        if hasattr(l,\"recurrent_initializer\"):\n",
        "            l.recurrent_kernel.assign(l.recurrent_initializer(tf.shape(l.recurrent_kernel)))"
      ],
      "metadata": {
        "id": "Jv3Mu-wjmWd_"
      },
      "execution_count": null,
      "outputs": []
    },
    {
      "cell_type": "code",
      "source": [
        "# 7.2\n",
        "reinitialize(md)"
      ],
      "metadata": {
        "id": "5eiOVaYhqnNW"
      },
      "execution_count": null,
      "outputs": []
    },
    {
      "cell_type": "code",
      "source": [
        "########################## I am done ###################"
      ],
      "metadata": {
        "id": "xvbpiPf1qsdb"
      },
      "execution_count": null,
      "outputs": []
    }
  ]
}