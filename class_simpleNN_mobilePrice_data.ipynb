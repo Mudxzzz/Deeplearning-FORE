{
  "nbformat": 4,
  "nbformat_minor": 0,
  "metadata": {
    "colab": {
      "provenance": [],
      "include_colab_link": true
    },
    "kernelspec": {
      "name": "python3",
      "display_name": "Python 3"
    },
    "language_info": {
      "name": "python"
    }
  },
  "cells": [
    {
      "cell_type": "markdown",
      "metadata": {
        "id": "view-in-github",
        "colab_type": "text"
      },
      "source": [
        "<a href=\"https://colab.research.google.com/github/harnalashok/deeplearning/blob/main/class_simpleNN_mobilePrice_data.ipynb\" target=\"_parent\"><img src=\"https://colab.research.google.com/assets/colab-badge.svg\" alt=\"Open In Colab\"/></a>"
      ]
    },
    {
      "cell_type": "code",
      "source": [
        "# Last amended: 23rd June, 2024\n",
        "# Mobile Price dataset\n",
        "# Experiments with NN\n"
      ],
      "metadata": {
        "id": "VDuKXUJ_L8S2"
      },
      "execution_count": null,
      "outputs": []
    },
    {
      "cell_type": "code",
      "execution_count": 1,
      "metadata": {
        "id": "t4NDs_JPESg_"
      },
      "outputs": [],
      "source": [
        "# 1.0\n",
        "import pandas as pd\n",
        "from sklearn.preprocessing import  MinMaxScaler\n",
        "from sklearn.model_selection import train_test_split\n",
        "\n",
        "# 1.1\n",
        "import tensorflow as tf\n",
        "\n",
        "# 1.2 Helper libraries\n",
        "import numpy as np\n",
        "import matplotlib.pyplot as plt\n"
      ]
    },
    {
      "cell_type": "code",
      "source": [
        "from IPython.core.interactiveshell import InteractiveShell\n",
        "InteractiveShell.ast_node_interactivity = \"all\"\n"
      ],
      "metadata": {
        "id": "s1Efxo5Qp62F"
      },
      "execution_count": 2,
      "outputs": []
    },
    {
      "cell_type": "code",
      "source": [
        "# 2.0 Mount google drive\n",
        "from google.colab import drive\n",
        "drive.mount('/gdrive')"
      ],
      "metadata": {
        "id": "11UKqlGTu9ka",
        "outputId": "1a486aef-c4f9-4f9c-9764-b6d6495b0350",
        "colab": {
          "base_uri": "https://localhost:8080/"
        }
      },
      "execution_count": 3,
      "outputs": [
        {
          "output_type": "stream",
          "name": "stdout",
          "text": [
            "Mounted at /gdrive\n"
          ]
        }
      ]
    },
    {
      "cell_type": "code",
      "source": [
        "# 2.1 Read Bank Customers churn data\n",
        "\n",
        "path = \"/gdrive/MyDrive/deeplearning/\"\n"
      ],
      "metadata": {
        "id": "e_KwcYMREcUy"
      },
      "execution_count": 4,
      "outputs": []
    },
    {
      "cell_type": "code",
      "source": [
        "# 2.2\n",
        "data = pd.read_csv(path + \"mobile_price.csv\")"
      ],
      "metadata": {
        "id": "lnhu8ZR5wznf"
      },
      "execution_count": 5,
      "outputs": []
    },
    {
      "cell_type": "code",
      "source": [
        "# 2.2.1\n",
        "data.head()"
      ],
      "metadata": {
        "id": "kV5KxQnLvimq",
        "outputId": "2d970803-4cc8-45fd-f11e-5546f4e6cbe0",
        "colab": {
          "base_uri": "https://localhost:8080/",
          "height": 256
        }
      },
      "execution_count": 6,
      "outputs": [
        {
          "output_type": "execute_result",
          "data": {
            "text/plain": [
              "   battery_power  blue  clock_speed  dual_sim  fc  four_g  int_memory  m_dep  \\\n",
              "0            842     0          2.2         0   1       0           7    0.6   \n",
              "1           1021     1          0.5         1   0       1          53    0.7   \n",
              "2            563     1          0.5         1   2       1          41    0.9   \n",
              "3            615     1          2.5         0   0       0          10    0.8   \n",
              "4           1821     1          1.2         0  13       1          44    0.6   \n",
              "\n",
              "   mobile_wt  n_cores  ...  px_height  px_width   ram  sc_h  sc_w  talk_time  \\\n",
              "0        188        2  ...         20       756  2549     9     7         19   \n",
              "1        136        3  ...        905      1988  2631    17     3          7   \n",
              "2        145        5  ...       1263      1716  2603    11     2          9   \n",
              "3        131        6  ...       1216      1786  2769    16     8         11   \n",
              "4        141        2  ...       1208      1212  1411     8     2         15   \n",
              "\n",
              "   three_g  touch_screen  wifi  price_range  \n",
              "0        0             0     1            1  \n",
              "1        1             1     0            2  \n",
              "2        1             1     0            2  \n",
              "3        1             0     0            2  \n",
              "4        1             1     0            1  \n",
              "\n",
              "[5 rows x 21 columns]"
            ],
            "text/html": [
              "\n",
              "  <div id=\"df-019efca6-2fe6-4aa0-94ef-ecfc570584a6\" class=\"colab-df-container\">\n",
              "    <div>\n",
              "<style scoped>\n",
              "    .dataframe tbody tr th:only-of-type {\n",
              "        vertical-align: middle;\n",
              "    }\n",
              "\n",
              "    .dataframe tbody tr th {\n",
              "        vertical-align: top;\n",
              "    }\n",
              "\n",
              "    .dataframe thead th {\n",
              "        text-align: right;\n",
              "    }\n",
              "</style>\n",
              "<table border=\"1\" class=\"dataframe\">\n",
              "  <thead>\n",
              "    <tr style=\"text-align: right;\">\n",
              "      <th></th>\n",
              "      <th>battery_power</th>\n",
              "      <th>blue</th>\n",
              "      <th>clock_speed</th>\n",
              "      <th>dual_sim</th>\n",
              "      <th>fc</th>\n",
              "      <th>four_g</th>\n",
              "      <th>int_memory</th>\n",
              "      <th>m_dep</th>\n",
              "      <th>mobile_wt</th>\n",
              "      <th>n_cores</th>\n",
              "      <th>...</th>\n",
              "      <th>px_height</th>\n",
              "      <th>px_width</th>\n",
              "      <th>ram</th>\n",
              "      <th>sc_h</th>\n",
              "      <th>sc_w</th>\n",
              "      <th>talk_time</th>\n",
              "      <th>three_g</th>\n",
              "      <th>touch_screen</th>\n",
              "      <th>wifi</th>\n",
              "      <th>price_range</th>\n",
              "    </tr>\n",
              "  </thead>\n",
              "  <tbody>\n",
              "    <tr>\n",
              "      <th>0</th>\n",
              "      <td>842</td>\n",
              "      <td>0</td>\n",
              "      <td>2.2</td>\n",
              "      <td>0</td>\n",
              "      <td>1</td>\n",
              "      <td>0</td>\n",
              "      <td>7</td>\n",
              "      <td>0.6</td>\n",
              "      <td>188</td>\n",
              "      <td>2</td>\n",
              "      <td>...</td>\n",
              "      <td>20</td>\n",
              "      <td>756</td>\n",
              "      <td>2549</td>\n",
              "      <td>9</td>\n",
              "      <td>7</td>\n",
              "      <td>19</td>\n",
              "      <td>0</td>\n",
              "      <td>0</td>\n",
              "      <td>1</td>\n",
              "      <td>1</td>\n",
              "    </tr>\n",
              "    <tr>\n",
              "      <th>1</th>\n",
              "      <td>1021</td>\n",
              "      <td>1</td>\n",
              "      <td>0.5</td>\n",
              "      <td>1</td>\n",
              "      <td>0</td>\n",
              "      <td>1</td>\n",
              "      <td>53</td>\n",
              "      <td>0.7</td>\n",
              "      <td>136</td>\n",
              "      <td>3</td>\n",
              "      <td>...</td>\n",
              "      <td>905</td>\n",
              "      <td>1988</td>\n",
              "      <td>2631</td>\n",
              "      <td>17</td>\n",
              "      <td>3</td>\n",
              "      <td>7</td>\n",
              "      <td>1</td>\n",
              "      <td>1</td>\n",
              "      <td>0</td>\n",
              "      <td>2</td>\n",
              "    </tr>\n",
              "    <tr>\n",
              "      <th>2</th>\n",
              "      <td>563</td>\n",
              "      <td>1</td>\n",
              "      <td>0.5</td>\n",
              "      <td>1</td>\n",
              "      <td>2</td>\n",
              "      <td>1</td>\n",
              "      <td>41</td>\n",
              "      <td>0.9</td>\n",
              "      <td>145</td>\n",
              "      <td>5</td>\n",
              "      <td>...</td>\n",
              "      <td>1263</td>\n",
              "      <td>1716</td>\n",
              "      <td>2603</td>\n",
              "      <td>11</td>\n",
              "      <td>2</td>\n",
              "      <td>9</td>\n",
              "      <td>1</td>\n",
              "      <td>1</td>\n",
              "      <td>0</td>\n",
              "      <td>2</td>\n",
              "    </tr>\n",
              "    <tr>\n",
              "      <th>3</th>\n",
              "      <td>615</td>\n",
              "      <td>1</td>\n",
              "      <td>2.5</td>\n",
              "      <td>0</td>\n",
              "      <td>0</td>\n",
              "      <td>0</td>\n",
              "      <td>10</td>\n",
              "      <td>0.8</td>\n",
              "      <td>131</td>\n",
              "      <td>6</td>\n",
              "      <td>...</td>\n",
              "      <td>1216</td>\n",
              "      <td>1786</td>\n",
              "      <td>2769</td>\n",
              "      <td>16</td>\n",
              "      <td>8</td>\n",
              "      <td>11</td>\n",
              "      <td>1</td>\n",
              "      <td>0</td>\n",
              "      <td>0</td>\n",
              "      <td>2</td>\n",
              "    </tr>\n",
              "    <tr>\n",
              "      <th>4</th>\n",
              "      <td>1821</td>\n",
              "      <td>1</td>\n",
              "      <td>1.2</td>\n",
              "      <td>0</td>\n",
              "      <td>13</td>\n",
              "      <td>1</td>\n",
              "      <td>44</td>\n",
              "      <td>0.6</td>\n",
              "      <td>141</td>\n",
              "      <td>2</td>\n",
              "      <td>...</td>\n",
              "      <td>1208</td>\n",
              "      <td>1212</td>\n",
              "      <td>1411</td>\n",
              "      <td>8</td>\n",
              "      <td>2</td>\n",
              "      <td>15</td>\n",
              "      <td>1</td>\n",
              "      <td>1</td>\n",
              "      <td>0</td>\n",
              "      <td>1</td>\n",
              "    </tr>\n",
              "  </tbody>\n",
              "</table>\n",
              "<p>5 rows × 21 columns</p>\n",
              "</div>\n",
              "    <div class=\"colab-df-buttons\">\n",
              "\n",
              "  <div class=\"colab-df-container\">\n",
              "    <button class=\"colab-df-convert\" onclick=\"convertToInteractive('df-019efca6-2fe6-4aa0-94ef-ecfc570584a6')\"\n",
              "            title=\"Convert this dataframe to an interactive table.\"\n",
              "            style=\"display:none;\">\n",
              "\n",
              "  <svg xmlns=\"http://www.w3.org/2000/svg\" height=\"24px\" viewBox=\"0 -960 960 960\">\n",
              "    <path d=\"M120-120v-720h720v720H120Zm60-500h600v-160H180v160Zm220 220h160v-160H400v160Zm0 220h160v-160H400v160ZM180-400h160v-160H180v160Zm440 0h160v-160H620v160ZM180-180h160v-160H180v160Zm440 0h160v-160H620v160Z\"/>\n",
              "  </svg>\n",
              "    </button>\n",
              "\n",
              "  <style>\n",
              "    .colab-df-container {\n",
              "      display:flex;\n",
              "      gap: 12px;\n",
              "    }\n",
              "\n",
              "    .colab-df-convert {\n",
              "      background-color: #E8F0FE;\n",
              "      border: none;\n",
              "      border-radius: 50%;\n",
              "      cursor: pointer;\n",
              "      display: none;\n",
              "      fill: #1967D2;\n",
              "      height: 32px;\n",
              "      padding: 0 0 0 0;\n",
              "      width: 32px;\n",
              "    }\n",
              "\n",
              "    .colab-df-convert:hover {\n",
              "      background-color: #E2EBFA;\n",
              "      box-shadow: 0px 1px 2px rgba(60, 64, 67, 0.3), 0px 1px 3px 1px rgba(60, 64, 67, 0.15);\n",
              "      fill: #174EA6;\n",
              "    }\n",
              "\n",
              "    .colab-df-buttons div {\n",
              "      margin-bottom: 4px;\n",
              "    }\n",
              "\n",
              "    [theme=dark] .colab-df-convert {\n",
              "      background-color: #3B4455;\n",
              "      fill: #D2E3FC;\n",
              "    }\n",
              "\n",
              "    [theme=dark] .colab-df-convert:hover {\n",
              "      background-color: #434B5C;\n",
              "      box-shadow: 0px 1px 3px 1px rgba(0, 0, 0, 0.15);\n",
              "      filter: drop-shadow(0px 1px 2px rgba(0, 0, 0, 0.3));\n",
              "      fill: #FFFFFF;\n",
              "    }\n",
              "  </style>\n",
              "\n",
              "    <script>\n",
              "      const buttonEl =\n",
              "        document.querySelector('#df-019efca6-2fe6-4aa0-94ef-ecfc570584a6 button.colab-df-convert');\n",
              "      buttonEl.style.display =\n",
              "        google.colab.kernel.accessAllowed ? 'block' : 'none';\n",
              "\n",
              "      async function convertToInteractive(key) {\n",
              "        const element = document.querySelector('#df-019efca6-2fe6-4aa0-94ef-ecfc570584a6');\n",
              "        const dataTable =\n",
              "          await google.colab.kernel.invokeFunction('convertToInteractive',\n",
              "                                                    [key], {});\n",
              "        if (!dataTable) return;\n",
              "\n",
              "        const docLinkHtml = 'Like what you see? Visit the ' +\n",
              "          '<a target=\"_blank\" href=https://colab.research.google.com/notebooks/data_table.ipynb>data table notebook</a>'\n",
              "          + ' to learn more about interactive tables.';\n",
              "        element.innerHTML = '';\n",
              "        dataTable['output_type'] = 'display_data';\n",
              "        await google.colab.output.renderOutput(dataTable, element);\n",
              "        const docLink = document.createElement('div');\n",
              "        docLink.innerHTML = docLinkHtml;\n",
              "        element.appendChild(docLink);\n",
              "      }\n",
              "    </script>\n",
              "  </div>\n",
              "\n",
              "\n",
              "<div id=\"df-9ece266a-79c7-434d-bb7d-ebc18fe8c868\">\n",
              "  <button class=\"colab-df-quickchart\" onclick=\"quickchart('df-9ece266a-79c7-434d-bb7d-ebc18fe8c868')\"\n",
              "            title=\"Suggest charts\"\n",
              "            style=\"display:none;\">\n",
              "\n",
              "<svg xmlns=\"http://www.w3.org/2000/svg\" height=\"24px\"viewBox=\"0 0 24 24\"\n",
              "     width=\"24px\">\n",
              "    <g>\n",
              "        <path d=\"M19 3H5c-1.1 0-2 .9-2 2v14c0 1.1.9 2 2 2h14c1.1 0 2-.9 2-2V5c0-1.1-.9-2-2-2zM9 17H7v-7h2v7zm4 0h-2V7h2v10zm4 0h-2v-4h2v4z\"/>\n",
              "    </g>\n",
              "</svg>\n",
              "  </button>\n",
              "\n",
              "<style>\n",
              "  .colab-df-quickchart {\n",
              "      --bg-color: #E8F0FE;\n",
              "      --fill-color: #1967D2;\n",
              "      --hover-bg-color: #E2EBFA;\n",
              "      --hover-fill-color: #174EA6;\n",
              "      --disabled-fill-color: #AAA;\n",
              "      --disabled-bg-color: #DDD;\n",
              "  }\n",
              "\n",
              "  [theme=dark] .colab-df-quickchart {\n",
              "      --bg-color: #3B4455;\n",
              "      --fill-color: #D2E3FC;\n",
              "      --hover-bg-color: #434B5C;\n",
              "      --hover-fill-color: #FFFFFF;\n",
              "      --disabled-bg-color: #3B4455;\n",
              "      --disabled-fill-color: #666;\n",
              "  }\n",
              "\n",
              "  .colab-df-quickchart {\n",
              "    background-color: var(--bg-color);\n",
              "    border: none;\n",
              "    border-radius: 50%;\n",
              "    cursor: pointer;\n",
              "    display: none;\n",
              "    fill: var(--fill-color);\n",
              "    height: 32px;\n",
              "    padding: 0;\n",
              "    width: 32px;\n",
              "  }\n",
              "\n",
              "  .colab-df-quickchart:hover {\n",
              "    background-color: var(--hover-bg-color);\n",
              "    box-shadow: 0 1px 2px rgba(60, 64, 67, 0.3), 0 1px 3px 1px rgba(60, 64, 67, 0.15);\n",
              "    fill: var(--button-hover-fill-color);\n",
              "  }\n",
              "\n",
              "  .colab-df-quickchart-complete:disabled,\n",
              "  .colab-df-quickchart-complete:disabled:hover {\n",
              "    background-color: var(--disabled-bg-color);\n",
              "    fill: var(--disabled-fill-color);\n",
              "    box-shadow: none;\n",
              "  }\n",
              "\n",
              "  .colab-df-spinner {\n",
              "    border: 2px solid var(--fill-color);\n",
              "    border-color: transparent;\n",
              "    border-bottom-color: var(--fill-color);\n",
              "    animation:\n",
              "      spin 1s steps(1) infinite;\n",
              "  }\n",
              "\n",
              "  @keyframes spin {\n",
              "    0% {\n",
              "      border-color: transparent;\n",
              "      border-bottom-color: var(--fill-color);\n",
              "      border-left-color: var(--fill-color);\n",
              "    }\n",
              "    20% {\n",
              "      border-color: transparent;\n",
              "      border-left-color: var(--fill-color);\n",
              "      border-top-color: var(--fill-color);\n",
              "    }\n",
              "    30% {\n",
              "      border-color: transparent;\n",
              "      border-left-color: var(--fill-color);\n",
              "      border-top-color: var(--fill-color);\n",
              "      border-right-color: var(--fill-color);\n",
              "    }\n",
              "    40% {\n",
              "      border-color: transparent;\n",
              "      border-right-color: var(--fill-color);\n",
              "      border-top-color: var(--fill-color);\n",
              "    }\n",
              "    60% {\n",
              "      border-color: transparent;\n",
              "      border-right-color: var(--fill-color);\n",
              "    }\n",
              "    80% {\n",
              "      border-color: transparent;\n",
              "      border-right-color: var(--fill-color);\n",
              "      border-bottom-color: var(--fill-color);\n",
              "    }\n",
              "    90% {\n",
              "      border-color: transparent;\n",
              "      border-bottom-color: var(--fill-color);\n",
              "    }\n",
              "  }\n",
              "</style>\n",
              "\n",
              "  <script>\n",
              "    async function quickchart(key) {\n",
              "      const quickchartButtonEl =\n",
              "        document.querySelector('#' + key + ' button');\n",
              "      quickchartButtonEl.disabled = true;  // To prevent multiple clicks.\n",
              "      quickchartButtonEl.classList.add('colab-df-spinner');\n",
              "      try {\n",
              "        const charts = await google.colab.kernel.invokeFunction(\n",
              "            'suggestCharts', [key], {});\n",
              "      } catch (error) {\n",
              "        console.error('Error during call to suggestCharts:', error);\n",
              "      }\n",
              "      quickchartButtonEl.classList.remove('colab-df-spinner');\n",
              "      quickchartButtonEl.classList.add('colab-df-quickchart-complete');\n",
              "    }\n",
              "    (() => {\n",
              "      let quickchartButtonEl =\n",
              "        document.querySelector('#df-9ece266a-79c7-434d-bb7d-ebc18fe8c868 button');\n",
              "      quickchartButtonEl.style.display =\n",
              "        google.colab.kernel.accessAllowed ? 'block' : 'none';\n",
              "    })();\n",
              "  </script>\n",
              "</div>\n",
              "\n",
              "    </div>\n",
              "  </div>\n"
            ],
            "application/vnd.google.colaboratory.intrinsic+json": {
              "type": "dataframe",
              "variable_name": "data"
            }
          },
          "metadata": {},
          "execution_count": 6
        }
      ]
    },
    {
      "cell_type": "code",
      "source": [
        "# 2.2.2\n",
        "data.shape   # (2000,21)"
      ],
      "metadata": {
        "id": "xvzzZC1_vlP9",
        "outputId": "a5b50a8e-ffce-433e-a4c5-141b7a5a0f0c",
        "colab": {
          "base_uri": "https://localhost:8080/"
        }
      },
      "execution_count": 7,
      "outputs": [
        {
          "output_type": "execute_result",
          "data": {
            "text/plain": [
              "(2000, 21)"
            ]
          },
          "metadata": {},
          "execution_count": 7
        }
      ]
    },
    {
      "cell_type": "code",
      "source": [
        "# 2.3 Pop out target\n",
        "y = data.pop('price_range')"
      ],
      "metadata": {
        "id": "N3KCovgwEtmt"
      },
      "execution_count": 8,
      "outputs": []
    },
    {
      "cell_type": "code",
      "source": [
        "# 2.3.1\n",
        "data.shape   # (2000,20)"
      ],
      "metadata": {
        "colab": {
          "base_uri": "https://localhost:8080/"
        },
        "id": "GmDd06fNJjsM",
        "outputId": "feba4bb1-f69b-47ac-ff93-8e5fa15c05ef"
      },
      "execution_count": 9,
      "outputs": [
        {
          "output_type": "execute_result",
          "data": {
            "text/plain": [
              "(2000, 20)"
            ]
          },
          "metadata": {},
          "execution_count": 9
        }
      ]
    },
    {
      "cell_type": "code",
      "source": [
        "# 3.0 Check NULL\n",
        "data.isnull().sum()"
      ],
      "metadata": {
        "id": "fG-9A9AN8MZp",
        "outputId": "ba614fd4-6d23-4b12-e6b1-af71a3d327d6",
        "colab": {
          "base_uri": "https://localhost:8080/"
        }
      },
      "execution_count": 10,
      "outputs": [
        {
          "output_type": "execute_result",
          "data": {
            "text/plain": [
              "battery_power    0\n",
              "blue             0\n",
              "clock_speed      0\n",
              "dual_sim         0\n",
              "fc               0\n",
              "four_g           0\n",
              "int_memory       0\n",
              "m_dep            0\n",
              "mobile_wt        0\n",
              "n_cores          0\n",
              "pc               0\n",
              "px_height        0\n",
              "px_width         0\n",
              "ram              0\n",
              "sc_h             0\n",
              "sc_w             0\n",
              "talk_time        0\n",
              "three_g          0\n",
              "touch_screen     0\n",
              "wifi             0\n",
              "dtype: int64"
            ]
          },
          "metadata": {},
          "execution_count": 10
        }
      ]
    },
    {
      "cell_type": "code",
      "source": [
        "# Split into train/test data\n",
        "X_train,X_test, y_train,y_test = train_test_split(data,\n",
        "                                                  y,\n",
        "                                                  test_size = 0.25)"
      ],
      "metadata": {
        "id": "x6HG0SEppo72"
      },
      "execution_count": 11,
      "outputs": []
    },
    {
      "cell_type": "code",
      "source": [
        "# Split data shapes:\n",
        "X_train.shape\n",
        "X_test.shape"
      ],
      "metadata": {
        "colab": {
          "base_uri": "https://localhost:8080/"
        },
        "id": "xUm3VKFLpxnG",
        "outputId": "02161e9c-0204-4dec-a06d-d1130911915b"
      },
      "execution_count": 12,
      "outputs": [
        {
          "output_type": "execute_result",
          "data": {
            "text/plain": [
              "(1500, 20)"
            ]
          },
          "metadata": {},
          "execution_count": 12
        },
        {
          "output_type": "execute_result",
          "data": {
            "text/plain": [
              "(500, 20)"
            ]
          },
          "metadata": {},
          "execution_count": 12
        }
      ]
    },
    {
      "cell_type": "code",
      "source": [
        "# Scale data to same scale:\n",
        "# Instatiate classes:\n",
        "\n",
        "mm = MinMaxScaler()\n",
        "mm.fit(X_train)"
      ],
      "metadata": {
        "colab": {
          "base_uri": "https://localhost:8080/",
          "height": 95
        },
        "id": "eTWGjVk8pYFO",
        "outputId": "71ad32f3-4607-4df0-bae0-2383a5412ccf"
      },
      "execution_count": 13,
      "outputs": [
        {
          "output_type": "execute_result",
          "data": {
            "text/plain": [
              "MinMaxScaler()"
            ],
            "text/html": [
              "<style>#sk-container-id-1 {color: black;background-color: white;}#sk-container-id-1 pre{padding: 0;}#sk-container-id-1 div.sk-toggleable {background-color: white;}#sk-container-id-1 label.sk-toggleable__label {cursor: pointer;display: block;width: 100%;margin-bottom: 0;padding: 0.3em;box-sizing: border-box;text-align: center;}#sk-container-id-1 label.sk-toggleable__label-arrow:before {content: \"▸\";float: left;margin-right: 0.25em;color: #696969;}#sk-container-id-1 label.sk-toggleable__label-arrow:hover:before {color: black;}#sk-container-id-1 div.sk-estimator:hover label.sk-toggleable__label-arrow:before {color: black;}#sk-container-id-1 div.sk-toggleable__content {max-height: 0;max-width: 0;overflow: hidden;text-align: left;background-color: #f0f8ff;}#sk-container-id-1 div.sk-toggleable__content pre {margin: 0.2em;color: black;border-radius: 0.25em;background-color: #f0f8ff;}#sk-container-id-1 input.sk-toggleable__control:checked~div.sk-toggleable__content {max-height: 200px;max-width: 100%;overflow: auto;}#sk-container-id-1 input.sk-toggleable__control:checked~label.sk-toggleable__label-arrow:before {content: \"▾\";}#sk-container-id-1 div.sk-estimator input.sk-toggleable__control:checked~label.sk-toggleable__label {background-color: #d4ebff;}#sk-container-id-1 div.sk-label input.sk-toggleable__control:checked~label.sk-toggleable__label {background-color: #d4ebff;}#sk-container-id-1 input.sk-hidden--visually {border: 0;clip: rect(1px 1px 1px 1px);clip: rect(1px, 1px, 1px, 1px);height: 1px;margin: -1px;overflow: hidden;padding: 0;position: absolute;width: 1px;}#sk-container-id-1 div.sk-estimator {font-family: monospace;background-color: #f0f8ff;border: 1px dotted black;border-radius: 0.25em;box-sizing: border-box;margin-bottom: 0.5em;}#sk-container-id-1 div.sk-estimator:hover {background-color: #d4ebff;}#sk-container-id-1 div.sk-parallel-item::after {content: \"\";width: 100%;border-bottom: 1px solid gray;flex-grow: 1;}#sk-container-id-1 div.sk-label:hover label.sk-toggleable__label {background-color: #d4ebff;}#sk-container-id-1 div.sk-serial::before {content: \"\";position: absolute;border-left: 1px solid gray;box-sizing: border-box;top: 0;bottom: 0;left: 50%;z-index: 0;}#sk-container-id-1 div.sk-serial {display: flex;flex-direction: column;align-items: center;background-color: white;padding-right: 0.2em;padding-left: 0.2em;position: relative;}#sk-container-id-1 div.sk-item {position: relative;z-index: 1;}#sk-container-id-1 div.sk-parallel {display: flex;align-items: stretch;justify-content: center;background-color: white;position: relative;}#sk-container-id-1 div.sk-item::before, #sk-container-id-1 div.sk-parallel-item::before {content: \"\";position: absolute;border-left: 1px solid gray;box-sizing: border-box;top: 0;bottom: 0;left: 50%;z-index: -1;}#sk-container-id-1 div.sk-parallel-item {display: flex;flex-direction: column;z-index: 1;position: relative;background-color: white;}#sk-container-id-1 div.sk-parallel-item:first-child::after {align-self: flex-end;width: 50%;}#sk-container-id-1 div.sk-parallel-item:last-child::after {align-self: flex-start;width: 50%;}#sk-container-id-1 div.sk-parallel-item:only-child::after {width: 0;}#sk-container-id-1 div.sk-dashed-wrapped {border: 1px dashed gray;margin: 0 0.4em 0.5em 0.4em;box-sizing: border-box;padding-bottom: 0.4em;background-color: white;}#sk-container-id-1 div.sk-label label {font-family: monospace;font-weight: bold;display: inline-block;line-height: 1.2em;}#sk-container-id-1 div.sk-label-container {text-align: center;}#sk-container-id-1 div.sk-container {/* jupyter's `normalize.less` sets `[hidden] { display: none; }` but bootstrap.min.css set `[hidden] { display: none !important; }` so we also need the `!important` here to be able to override the default hidden behavior on the sphinx rendered scikit-learn.org. See: https://github.com/scikit-learn/scikit-learn/issues/21755 */display: inline-block !important;position: relative;}#sk-container-id-1 div.sk-text-repr-fallback {display: none;}</style><div id=\"sk-container-id-1\" class=\"sk-top-container\"><div class=\"sk-text-repr-fallback\"><pre>MinMaxScaler()</pre><b>In a Jupyter environment, please rerun this cell to show the HTML representation or trust the notebook. <br />On GitHub, the HTML representation is unable to render, please try loading this page with nbviewer.org.</b></div><div class=\"sk-container\" hidden><div class=\"sk-item\"><div class=\"sk-estimator sk-toggleable\"><input class=\"sk-toggleable__control sk-hidden--visually\" id=\"sk-estimator-id-1\" type=\"checkbox\" checked><label for=\"sk-estimator-id-1\" class=\"sk-toggleable__label sk-toggleable__label-arrow\">MinMaxScaler</label><div class=\"sk-toggleable__content\"><pre>MinMaxScaler()</pre></div></div></div></div></div>"
            ]
          },
          "metadata": {},
          "execution_count": 13
        }
      ]
    },
    {
      "cell_type": "code",
      "source": [
        "# Transform data:\n",
        "\n",
        "X_train = mm.transform(X_train)\n",
        "X_test = mm.transform(X_test)"
      ],
      "metadata": {
        "id": "kb_YJ-w3p_7-"
      },
      "execution_count": 14,
      "outputs": []
    },
    {
      "cell_type": "markdown",
      "source": [
        "## Model"
      ],
      "metadata": {
        "id": "BKGxZacvpAUU"
      }
    },
    {
      "cell_type": "markdown",
      "source": [
        "1. Input layer  --10 neurons  \n",
        "2. Hidden layer-- 90 neurons, activation: sigmoid\n",
        "3. Hidden layer-- 500 neurons activation: relu\n",
        "4. Hidden layer-- 50 neurons activaton: relu\n",
        "5. Output layer --1 neuron sigmoid\n",
        "\n"
      ],
      "metadata": {
        "id": "tOLCSztvrPJ3"
      }
    },
    {
      "cell_type": "code",
      "source": [],
      "metadata": {
        "id": "hVSVi_tMrN6l"
      },
      "execution_count": null,
      "outputs": []
    },
    {
      "cell_type": "code",
      "source": [
        "# 6.0\n",
        "model = tf.keras.Sequential()"
      ],
      "metadata": {
        "id": "3u7a51m5Ixfm"
      },
      "execution_count": 26,
      "outputs": []
    },
    {
      "cell_type": "code",
      "source": [
        "# 6.1\n",
        "model.add( tf.keras.layers.Input(shape = (20,) ))"
      ],
      "metadata": {
        "id": "71VW2avIJEsh"
      },
      "execution_count": 27,
      "outputs": []
    },
    {
      "cell_type": "code",
      "source": [
        "# 6.2 Start\n",
        "model.add(tf.keras.layers.Dense(40, activation = 'relu'))  # MAke it 5 and then 20 (not more or less)"
      ],
      "metadata": {
        "id": "fUDftH3BJ_-L"
      },
      "execution_count": 28,
      "outputs": []
    },
    {
      "cell_type": "code",
      "source": [
        "# 6.2.1 Experiment with adding a dropout layer\n",
        "#       but then increase number of units in Dense layer from 20 to 40\n",
        "model.add(tf.keras.layers.Dropout(rate = 0.5 ))"
      ],
      "metadata": {
        "id": "NNAVQxIDwuVk"
      },
      "execution_count": 29,
      "outputs": []
    },
    {
      "cell_type": "code",
      "source": [
        "model.add(tf.keras.layers.Dense(20, activation = 'relu'))\n",
        "model.add(tf.keras.layers.Dropout(rate = 0.5 ))"
      ],
      "metadata": {
        "id": "Dj5lOyfyyDaQ"
      },
      "execution_count": 30,
      "outputs": []
    },
    {
      "cell_type": "code",
      "source": [
        "model.add(tf.keras.layers.Dense(10, activation = 'relu'))\n",
        "model.add(tf.keras.layers.Dropout(rate = 0.5 ))"
      ],
      "metadata": {
        "id": "8zHYh7XCy2cJ"
      },
      "execution_count": 31,
      "outputs": []
    },
    {
      "cell_type": "code",
      "source": [
        "# 6.3 Experiment first with activation of sigmoid\n",
        "#     and then no activation function\n",
        "model.add(tf.keras.layers.Dense(4,\n",
        "                                activation = 'softmax'\n",
        "                                ))    # Keep sigmoid; then remove sigmoid"
      ],
      "metadata": {
        "id": "glw8SP83KQBL"
      },
      "execution_count": 32,
      "outputs": []
    },
    {
      "cell_type": "code",
      "source": [
        "# 6.4 Model summary:\n",
        "model.summary()"
      ],
      "metadata": {
        "id": "HcfvweBLKWiQ",
        "outputId": "091cc3be-2ce3-4c91-f1ce-1959ea9a3793",
        "colab": {
          "base_uri": "https://localhost:8080/"
        }
      },
      "execution_count": 33,
      "outputs": [
        {
          "output_type": "stream",
          "name": "stdout",
          "text": [
            "Model: \"sequential_1\"\n",
            "_________________________________________________________________\n",
            " Layer (type)                Output Shape              Param #   \n",
            "=================================================================\n",
            " dense_4 (Dense)             (None, 40)                840       \n",
            "                                                                 \n",
            " dropout_3 (Dropout)         (None, 40)                0         \n",
            "                                                                 \n",
            " dense_5 (Dense)             (None, 20)                820       \n",
            "                                                                 \n",
            " dropout_4 (Dropout)         (None, 20)                0         \n",
            "                                                                 \n",
            " dense_6 (Dense)             (None, 10)                210       \n",
            "                                                                 \n",
            " dropout_5 (Dropout)         (None, 10)                0         \n",
            "                                                                 \n",
            " dense_7 (Dense)             (None, 4)                 44        \n",
            "                                                                 \n",
            "=================================================================\n",
            "Total params: 1914 (7.48 KB)\n",
            "Trainable params: 1914 (7.48 KB)\n",
            "Non-trainable params: 0 (0.00 Byte)\n",
            "_________________________________________________________________\n"
          ]
        }
      ]
    },
    {
      "cell_type": "code",
      "source": [
        "# 6.5 Compile model\n",
        "#     Expt with adam\n",
        "model.compile(\n",
        "                 loss =  tf.keras.losses.SparseCategoricalCrossentropy(from_logits=True),\n",
        "                 optimizer = 'adam',  # Try first with default optimizer and then with 'adam'\n",
        "                                      #  may not make much difference\n",
        "                 metrics = ['acc']\n",
        "              )"
      ],
      "metadata": {
        "id": "6LLk36OpKYIJ"
      },
      "execution_count": 35,
      "outputs": []
    },
    {
      "cell_type": "code",
      "source": [
        "# 7.0\n",
        "#\n",
        "history = model.fit(X_train,y_train,\n",
        "                    epochs = 70,\n",
        "                    validation_data = (X_test, y_test)\n",
        "                   )"
      ],
      "metadata": {
        "id": "SxH9wqFAKj6R",
        "outputId": "270533af-5bd0-48f4-e7c4-e5994829dd16",
        "colab": {
          "base_uri": "https://localhost:8080/"
        }
      },
      "execution_count": 41,
      "outputs": [
        {
          "output_type": "stream",
          "name": "stdout",
          "text": [
            "Epoch 1/70\n",
            "47/47 [==============================] - 0s 5ms/step - loss: 0.6174 - acc: 0.7227 - val_loss: 0.4035 - val_acc: 0.8600\n",
            "Epoch 2/70\n",
            "47/47 [==============================] - 0s 3ms/step - loss: 0.6254 - acc: 0.7227 - val_loss: 0.3851 - val_acc: 0.8780\n",
            "Epoch 3/70\n",
            "47/47 [==============================] - 0s 3ms/step - loss: 0.6127 - acc: 0.7273 - val_loss: 0.3759 - val_acc: 0.8820\n",
            "Epoch 4/70\n",
            "47/47 [==============================] - 0s 3ms/step - loss: 0.6120 - acc: 0.7307 - val_loss: 0.3898 - val_acc: 0.8800\n",
            "Epoch 5/70\n",
            "47/47 [==============================] - 0s 4ms/step - loss: 0.6015 - acc: 0.7420 - val_loss: 0.3791 - val_acc: 0.8820\n",
            "Epoch 6/70\n",
            "47/47 [==============================] - 0s 4ms/step - loss: 0.5895 - acc: 0.7360 - val_loss: 0.3753 - val_acc: 0.8760\n",
            "Epoch 7/70\n",
            "47/47 [==============================] - 0s 4ms/step - loss: 0.5932 - acc: 0.7413 - val_loss: 0.3685 - val_acc: 0.8840\n",
            "Epoch 8/70\n",
            "47/47 [==============================] - 0s 4ms/step - loss: 0.5854 - acc: 0.7413 - val_loss: 0.3737 - val_acc: 0.8700\n",
            "Epoch 9/70\n",
            "47/47 [==============================] - 0s 3ms/step - loss: 0.5522 - acc: 0.7667 - val_loss: 0.3614 - val_acc: 0.8700\n",
            "Epoch 10/70\n",
            "47/47 [==============================] - 0s 3ms/step - loss: 0.5692 - acc: 0.7553 - val_loss: 0.3592 - val_acc: 0.8680\n",
            "Epoch 11/70\n",
            "47/47 [==============================] - 0s 3ms/step - loss: 0.5630 - acc: 0.7460 - val_loss: 0.3629 - val_acc: 0.8740\n",
            "Epoch 12/70\n",
            "47/47 [==============================] - 0s 3ms/step - loss: 0.5655 - acc: 0.7413 - val_loss: 0.3574 - val_acc: 0.8820\n",
            "Epoch 13/70\n",
            "47/47 [==============================] - 0s 3ms/step - loss: 0.5588 - acc: 0.7673 - val_loss: 0.3373 - val_acc: 0.8820\n",
            "Epoch 14/70\n",
            "47/47 [==============================] - 0s 4ms/step - loss: 0.5684 - acc: 0.7480 - val_loss: 0.3610 - val_acc: 0.9220\n",
            "Epoch 15/70\n",
            "47/47 [==============================] - 0s 3ms/step - loss: 0.5526 - acc: 0.7613 - val_loss: 0.3392 - val_acc: 0.8940\n",
            "Epoch 16/70\n",
            "47/47 [==============================] - 0s 3ms/step - loss: 0.5646 - acc: 0.7440 - val_loss: 0.3548 - val_acc: 0.9080\n",
            "Epoch 17/70\n",
            "47/47 [==============================] - 0s 3ms/step - loss: 0.5835 - acc: 0.7527 - val_loss: 0.3424 - val_acc: 0.8940\n",
            "Epoch 18/70\n",
            "47/47 [==============================] - 0s 8ms/step - loss: 0.5533 - acc: 0.7640 - val_loss: 0.3256 - val_acc: 0.9000\n",
            "Epoch 19/70\n",
            "47/47 [==============================] - 0s 9ms/step - loss: 0.5702 - acc: 0.7560 - val_loss: 0.3337 - val_acc: 0.8880\n",
            "Epoch 20/70\n",
            "47/47 [==============================] - 0s 3ms/step - loss: 0.5222 - acc: 0.7693 - val_loss: 0.3295 - val_acc: 0.9120\n",
            "Epoch 21/70\n",
            "47/47 [==============================] - 0s 3ms/step - loss: 0.5380 - acc: 0.7673 - val_loss: 0.3419 - val_acc: 0.9020\n",
            "Epoch 22/70\n",
            "47/47 [==============================] - 0s 3ms/step - loss: 0.5504 - acc: 0.7660 - val_loss: 0.3330 - val_acc: 0.8820\n",
            "Epoch 23/70\n",
            "47/47 [==============================] - 0s 3ms/step - loss: 0.5444 - acc: 0.7687 - val_loss: 0.3280 - val_acc: 0.8900\n",
            "Epoch 24/70\n",
            "47/47 [==============================] - 0s 3ms/step - loss: 0.5494 - acc: 0.7593 - val_loss: 0.3296 - val_acc: 0.9120\n",
            "Epoch 25/70\n",
            "47/47 [==============================] - 0s 3ms/step - loss: 0.5210 - acc: 0.7827 - val_loss: 0.3461 - val_acc: 0.8760\n",
            "Epoch 26/70\n",
            "47/47 [==============================] - 0s 3ms/step - loss: 0.4966 - acc: 0.7687 - val_loss: 0.3142 - val_acc: 0.8920\n",
            "Epoch 27/70\n",
            "47/47 [==============================] - 0s 3ms/step - loss: 0.5233 - acc: 0.7500 - val_loss: 0.3135 - val_acc: 0.9200\n",
            "Epoch 28/70\n",
            "47/47 [==============================] - 0s 3ms/step - loss: 0.5246 - acc: 0.7620 - val_loss: 0.3076 - val_acc: 0.8940\n",
            "Epoch 29/70\n",
            "47/47 [==============================] - 0s 3ms/step - loss: 0.5138 - acc: 0.7807 - val_loss: 0.3237 - val_acc: 0.8780\n",
            "Epoch 30/70\n",
            "47/47 [==============================] - 0s 4ms/step - loss: 0.5046 - acc: 0.7733 - val_loss: 0.2949 - val_acc: 0.8880\n",
            "Epoch 31/70\n",
            "47/47 [==============================] - 0s 3ms/step - loss: 0.5187 - acc: 0.7653 - val_loss: 0.2981 - val_acc: 0.8940\n",
            "Epoch 32/70\n",
            "47/47 [==============================] - 0s 3ms/step - loss: 0.5148 - acc: 0.7693 - val_loss: 0.3013 - val_acc: 0.8900\n",
            "Epoch 33/70\n",
            "47/47 [==============================] - 0s 6ms/step - loss: 0.5054 - acc: 0.7840 - val_loss: 0.3077 - val_acc: 0.8920\n",
            "Epoch 34/70\n",
            "47/47 [==============================] - 0s 5ms/step - loss: 0.5313 - acc: 0.7580 - val_loss: 0.3085 - val_acc: 0.8980\n",
            "Epoch 35/70\n",
            "47/47 [==============================] - 0s 6ms/step - loss: 0.5347 - acc: 0.7713 - val_loss: 0.3061 - val_acc: 0.9060\n",
            "Epoch 36/70\n",
            "47/47 [==============================] - 0s 5ms/step - loss: 0.4931 - acc: 0.7833 - val_loss: 0.2931 - val_acc: 0.9000\n",
            "Epoch 37/70\n",
            "47/47 [==============================] - 0s 5ms/step - loss: 0.5263 - acc: 0.7807 - val_loss: 0.3019 - val_acc: 0.8920\n",
            "Epoch 38/70\n",
            "47/47 [==============================] - 0s 6ms/step - loss: 0.4905 - acc: 0.7820 - val_loss: 0.3045 - val_acc: 0.9080\n",
            "Epoch 39/70\n",
            "47/47 [==============================] - 0s 7ms/step - loss: 0.4891 - acc: 0.7760 - val_loss: 0.2902 - val_acc: 0.9000\n",
            "Epoch 40/70\n",
            "47/47 [==============================] - 0s 4ms/step - loss: 0.5033 - acc: 0.7747 - val_loss: 0.2806 - val_acc: 0.9060\n",
            "Epoch 41/70\n",
            "47/47 [==============================] - 0s 5ms/step - loss: 0.5027 - acc: 0.7800 - val_loss: 0.3006 - val_acc: 0.8880\n",
            "Epoch 42/70\n",
            "47/47 [==============================] - 0s 7ms/step - loss: 0.4849 - acc: 0.7940 - val_loss: 0.2817 - val_acc: 0.9000\n",
            "Epoch 43/70\n",
            "47/47 [==============================] - 0s 6ms/step - loss: 0.4633 - acc: 0.8033 - val_loss: 0.2854 - val_acc: 0.8960\n",
            "Epoch 44/70\n",
            "47/47 [==============================] - 0s 5ms/step - loss: 0.4931 - acc: 0.7873 - val_loss: 0.2936 - val_acc: 0.9100\n",
            "Epoch 45/70\n",
            "47/47 [==============================] - 0s 5ms/step - loss: 0.4851 - acc: 0.7853 - val_loss: 0.2817 - val_acc: 0.8980\n",
            "Epoch 46/70\n",
            "47/47 [==============================] - 0s 6ms/step - loss: 0.4850 - acc: 0.7913 - val_loss: 0.2806 - val_acc: 0.9000\n",
            "Epoch 47/70\n",
            "47/47 [==============================] - 0s 6ms/step - loss: 0.4937 - acc: 0.7920 - val_loss: 0.3374 - val_acc: 0.9020\n",
            "Epoch 48/70\n",
            "47/47 [==============================] - 0s 5ms/step - loss: 0.4838 - acc: 0.7833 - val_loss: 0.2891 - val_acc: 0.8960\n",
            "Epoch 49/70\n",
            "47/47 [==============================] - 0s 3ms/step - loss: 0.4886 - acc: 0.7860 - val_loss: 0.2922 - val_acc: 0.9060\n",
            "Epoch 50/70\n",
            "47/47 [==============================] - 0s 4ms/step - loss: 0.4911 - acc: 0.7893 - val_loss: 0.2838 - val_acc: 0.9000\n",
            "Epoch 51/70\n",
            "47/47 [==============================] - 0s 3ms/step - loss: 0.4962 - acc: 0.7860 - val_loss: 0.2779 - val_acc: 0.8860\n",
            "Epoch 52/70\n",
            "47/47 [==============================] - 0s 4ms/step - loss: 0.4687 - acc: 0.8093 - val_loss: 0.2743 - val_acc: 0.8980\n",
            "Epoch 53/70\n",
            "47/47 [==============================] - 0s 3ms/step - loss: 0.4989 - acc: 0.7793 - val_loss: 0.2834 - val_acc: 0.9360\n",
            "Epoch 54/70\n",
            "47/47 [==============================] - 0s 3ms/step - loss: 0.4991 - acc: 0.7793 - val_loss: 0.2757 - val_acc: 0.9080\n",
            "Epoch 55/70\n",
            "47/47 [==============================] - 0s 4ms/step - loss: 0.4716 - acc: 0.7953 - val_loss: 0.2769 - val_acc: 0.9060\n",
            "Epoch 56/70\n",
            "47/47 [==============================] - 0s 4ms/step - loss: 0.4597 - acc: 0.8013 - val_loss: 0.2876 - val_acc: 0.9140\n",
            "Epoch 57/70\n",
            "47/47 [==============================] - 0s 3ms/step - loss: 0.4707 - acc: 0.7973 - val_loss: 0.2899 - val_acc: 0.9100\n",
            "Epoch 58/70\n",
            "47/47 [==============================] - 0s 3ms/step - loss: 0.4852 - acc: 0.7813 - val_loss: 0.2827 - val_acc: 0.9280\n",
            "Epoch 59/70\n",
            "47/47 [==============================] - 0s 3ms/step - loss: 0.4632 - acc: 0.8060 - val_loss: 0.2803 - val_acc: 0.8960\n",
            "Epoch 60/70\n",
            "47/47 [==============================] - 0s 3ms/step - loss: 0.4376 - acc: 0.7980 - val_loss: 0.2927 - val_acc: 0.9020\n",
            "Epoch 61/70\n",
            "47/47 [==============================] - 0s 3ms/step - loss: 0.4743 - acc: 0.7893 - val_loss: 0.2859 - val_acc: 0.8920\n",
            "Epoch 62/70\n",
            "47/47 [==============================] - 0s 4ms/step - loss: 0.4459 - acc: 0.8107 - val_loss: 0.2661 - val_acc: 0.8960\n",
            "Epoch 63/70\n",
            "47/47 [==============================] - 0s 3ms/step - loss: 0.4517 - acc: 0.7987 - val_loss: 0.2755 - val_acc: 0.9200\n",
            "Epoch 64/70\n",
            "47/47 [==============================] - 0s 3ms/step - loss: 0.4633 - acc: 0.7940 - val_loss: 0.2689 - val_acc: 0.9040\n",
            "Epoch 65/70\n",
            "47/47 [==============================] - 0s 3ms/step - loss: 0.4660 - acc: 0.8080 - val_loss: 0.2732 - val_acc: 0.9420\n",
            "Epoch 66/70\n",
            "47/47 [==============================] - 0s 3ms/step - loss: 0.4792 - acc: 0.7753 - val_loss: 0.2727 - val_acc: 0.9020\n",
            "Epoch 67/70\n",
            "47/47 [==============================] - 0s 3ms/step - loss: 0.4443 - acc: 0.8067 - val_loss: 0.2645 - val_acc: 0.9060\n",
            "Epoch 68/70\n",
            "47/47 [==============================] - 0s 3ms/step - loss: 0.4560 - acc: 0.8087 - val_loss: 0.2700 - val_acc: 0.8940\n",
            "Epoch 69/70\n",
            "47/47 [==============================] - 0s 4ms/step - loss: 0.4635 - acc: 0.7967 - val_loss: 0.2579 - val_acc: 0.9200\n",
            "Epoch 70/70\n",
            "47/47 [==============================] - 0s 3ms/step - loss: 0.4772 - acc: 0.7927 - val_loss: 0.2694 - val_acc: 0.9080\n"
          ]
        }
      ]
    },
    {
      "cell_type": "code",
      "source": [
        "# 7.1\n",
        "model.evaluate(X_test,y_test)"
      ],
      "metadata": {
        "id": "E8CUmuEXKsgT",
        "outputId": "d5774dff-075e-4939-8b4f-e7611922a4b2",
        "colab": {
          "base_uri": "https://localhost:8080/"
        }
      },
      "execution_count": 42,
      "outputs": [
        {
          "output_type": "stream",
          "name": "stdout",
          "text": [
            "16/16 [==============================] - 0s 2ms/step - loss: 0.2694 - acc: 0.9080\n"
          ]
        },
        {
          "output_type": "execute_result",
          "data": {
            "text/plain": [
              "[0.269385427236557, 0.9079999923706055]"
            ]
          },
          "metadata": {},
          "execution_count": 42
        }
      ]
    },
    {
      "cell_type": "code",
      "source": [
        "type(history.history)"
      ],
      "metadata": {
        "id": "HVfYqFnhtU5G",
        "colab": {
          "base_uri": "https://localhost:8080/"
        },
        "outputId": "5a2f2273-80ee-4b26-dc58-8ddcb7eec74a"
      },
      "execution_count": 43,
      "outputs": [
        {
          "output_type": "execute_result",
          "data": {
            "text/plain": [
              "dict"
            ]
          },
          "metadata": {},
          "execution_count": 43
        }
      ]
    },
    {
      "cell_type": "code",
      "source": [
        "history.history.keys()"
      ],
      "metadata": {
        "colab": {
          "base_uri": "https://localhost:8080/"
        },
        "id": "pnlVFrNftfMd",
        "outputId": "6f42bc57-4325-44da-b873-e4fe5a62f6d7"
      },
      "execution_count": 44,
      "outputs": [
        {
          "output_type": "execute_result",
          "data": {
            "text/plain": [
              "dict_keys(['loss', 'acc', 'val_loss', 'val_acc'])"
            ]
          },
          "metadata": {},
          "execution_count": 44
        }
      ]
    },
    {
      "cell_type": "code",
      "source": [
        "# Plot without dropouts\n",
        "loss = history.history['loss']\n",
        "val_loss = history.history['val_loss']\n",
        "plt.plot(loss)\n",
        "plt.plot(val_loss)"
      ],
      "metadata": {
        "colab": {
          "base_uri": "https://localhost:8080/",
          "height": 485
        },
        "id": "J-tjG6G-s44n",
        "outputId": "f7c47328-97da-486b-f344-9b777aaa6a60"
      },
      "execution_count": 45,
      "outputs": [
        {
          "output_type": "execute_result",
          "data": {
            "text/plain": [
              "[<matplotlib.lines.Line2D at 0x7a3e9c13aad0>]"
            ]
          },
          "metadata": {},
          "execution_count": 45
        },
        {
          "output_type": "execute_result",
          "data": {
            "text/plain": [
              "[<matplotlib.lines.Line2D at 0x7a3e9c13ac80>]"
            ]
          },
          "metadata": {},
          "execution_count": 45
        },
        {
          "output_type": "display_data",
          "data": {
            "text/plain": [
              "<Figure size 640x480 with 1 Axes>"
            ],
            "image/png": "[encoded data removed]"
          },
          "metadata": {}
        }
      ]
    },
    {
      "cell_type": "code",
      "source": [
        "# plot with dropouts\n",
        "loss = history.history['loss']\n",
        "val_loss = history.history['val_loss']\n",
        "plt.plot(loss, label = \"train_loss\")\n",
        "plt.plot(val_loss, label = \"val loss\")\n",
        "plt.legend()"
      ],
      "metadata": {
        "colab": {
          "base_uri": "https://localhost:8080/",
          "height": 503
        },
        "id": "tNBE_vPZt00F",
        "outputId": "06a152b4-ab29-424a-e965-28bc64c678c0"
      },
      "execution_count": 46,
      "outputs": [
        {
          "output_type": "execute_result",
          "data": {
            "text/plain": [
              "[<matplotlib.lines.Line2D at 0x7a3e9c0bae30>]"
            ]
          },
          "metadata": {},
          "execution_count": 46
        },
        {
          "output_type": "execute_result",
          "data": {
            "text/plain": [
              "[<matplotlib.lines.Line2D at 0x7a3e9c0ba560>]"
            ]
          },
          "metadata": {},
          "execution_count": 46
        },
        {
          "output_type": "execute_result",
          "data": {
            "text/plain": [
              "<matplotlib.legend.Legend at 0x7a3e9c0ea200>"
            ]
          },
          "metadata": {},
          "execution_count": 46
        },
        {
          "output_type": "display_data",
          "data": {
            "text/plain": [
              "<Figure size 640x480 with 1 Axes>"
            ],
            "image/png": "[encoded data removed]"
          },
          "metadata": {}
        }
      ]
    },
    {
      "cell_type": "code",
      "source": [
        "######################### I am done #################"
      ],
      "metadata": {
        "id": "bzQX6UdZK-E-"
      },
      "execution_count": null,
      "outputs": []
    }
  ]
}