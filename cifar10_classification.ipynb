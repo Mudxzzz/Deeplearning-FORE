{
  "nbformat": 4,
  "nbformat_minor": 0,
  "metadata": {
    "colab": {
      "name": "cifar10_classification.ipynb",
      "provenance": [],
      "collapsed_sections": [],
      "authorship_tag": "ABX9TyOVuSR4EA3WGoN+WaNDAFc3",
      "include_colab_link": true
    },
    "kernelspec": {
      "name": "python3",
      "display_name": "Python 3"
    }
  },
  "cells": [
    {
      "cell_type": "markdown",
      "metadata": {
        "id": "view-in-github",
        "colab_type": "text"
      },
      "source": [
        "<a href=\"https://colab.research.google.com/github/harnalashok/deeplearning/blob/main/cifar10_classification.ipynb\" target=\"_parent\"><img src=\"https://colab.research.google.com/assets/colab-badge.svg\" alt=\"Open In Colab\"/></a>"
      ]
    },
    {
      "cell_type": "markdown",
      "metadata": {
        "id": "tF0yrx1lgtpU"
      },
      "source": [
        "<table align=\"left\">\r\n",
        "  <td>\r\n",
        "    <a target=\"_blank\" href=\"https://colab.research.google.com/github/harnalashok/deeplearning/blob/main/keras_functional.ipynb\"><img src=\"https://www.tensorflow.org/images/colab_logo_32px.png\" />Run in Google Colab</a>\r\n",
        "  </td>\r\n",
        "</table>"
      ]
    },
    {
      "cell_type": "code",
      "metadata": {
        "id": "jKufD3TWgxg0"
      },
      "source": [
        "# Last amended: 5th Feb, 2021\r\n",
        "# Myfolder: C:\\Users\\ashokharnal\\OneDrive\\Documents\\deep_learning\\cifar10 image classification\r\n",
        "#           lubuntu_deeplearning-I\r\n",
        "#\tObjective:\r\n",
        "#\t\t CIFAR10 image classification with deep-learning CNN\r\n"
      ],
      "execution_count": null,
      "outputs": []
    },
    {
      "cell_type": "code",
      "metadata": {
        "id": "D1qweqEJGod8"
      },
      "source": [
        "# 1.1 Import array-manipulation library\r\n",
        "import numpy as np\r\n",
        "\r\n",
        "# 1.2 Import tensorflow\r\n",
        "import tensorflow as tf\r\n",
        "from tensorflow import keras"
      ],
      "execution_count": 2,
      "outputs": []
    },
    {
      "cell_type": "code",
      "metadata": {
        "id": "0tbE5NQEG0Ld"
      },
      "source": [
        "\r\n",
        "# 1.3 Import keras subroutines for fetching the CIFAR-10 dataset\r\n",
        "#     The CIFAR-10 dataset consists of 60000 32x32 colour images in 10 classes,\r\n",
        "#      with 6000 images per class. There are 50000 training images and 10000\r\n",
        "#       test images.  They were collected by Alex Krizhevsky, Vinod Nair, and\r\n",
        "#         Geoffrey Hinton. Classes are: airplane, automobile, bird, cat, deer,\r\n",
        "#          dog, frog, horse, ship, truck\r\n",
        "#            (CIFAR: Canadian Institute For Advanced Research) \r\n",
        "\r\n",
        "from keras.datasets import cifar10\r\n"
      ],
      "execution_count": 3,
      "outputs": []
    },
    {
      "cell_type": "code",
      "metadata": {
        "id": "qK8UHBAhIHey"
      },
      "source": [
        "# 1.4 Basic classes for specifying and training a neural network\r\n",
        "#     Keras has two types of models Sequential and Model Class for complex models\r\n",
        "#     Sequential models are essentially layer-by-layer. Model Class models may\r\n",
        "#     also have branching.\r\n",
        "\r\n",
        "from keras.models import Sequential\r\n",
        "from keras.utils import plot_model"
      ],
      "execution_count": 115,
      "outputs": []
    },
    {
      "cell_type": "code",
      "metadata": {
        "id": "XUqAY8ASG_ce"
      },
      "source": [
        "# 1.5 Import layers that will be used in modeling\r\n",
        "from keras.layers import Input,Convolution2D, MaxPooling2D, Dropout, Flatten, Dense\r\n"
      ],
      "execution_count": 55,
      "outputs": []
    },
    {
      "cell_type": "code",
      "metadata": {
        "id": "2YhGwuKOI4WC"
      },
      "source": [
        "# 1.6 Keras utilities for one-hot encoding of ground truth values\r\n",
        "from keras.utils import np_utils"
      ],
      "execution_count": 6,
      "outputs": []
    },
    {
      "cell_type": "code",
      "metadata": {
        "id": "U8lIQHroJFLK"
      },
      "source": [
        "# 1.7 Import keras optimizers unless you want default parameters\r\n",
        "# from keras.optimizers import Adam\r\n",
        "\r\n",
        "# 1.8\r\n",
        "import os, time\r\n",
        "import matplotlib.pyplot as plt\r\n",
        "# %matplotlib inline\r\n"
      ],
      "execution_count": 7,
      "outputs": []
    },
    {
      "cell_type": "code",
      "metadata": {
        "id": "acZbyi2iacPl"
      },
      "source": [
        "# 1.9 Display outputs from multiple commands in a cell\r\n",
        "from IPython.core.interactiveshell import InteractiveShell\r\n",
        "InteractiveShell.ast_node_interactivity = \"all\""
      ],
      "execution_count": 8,
      "outputs": []
    },
    {
      "cell_type": "code",
      "metadata": {
        "id": "58Jew-jMJY2I"
      },
      "source": [
        "\r\n",
        "#%%                                 B. Define needed constants\r\n",
        "\r\n",
        "# 2.0 Set some hyperparameters\r\n",
        "\r\n",
        "# 2.1\r\n",
        "batch_size = 16   # A batch of 'batch_size' training examples is fed before \r\n",
        "                  #  every error correction  \r\n",
        "# 2.2\r\n",
        "num_epochs = 5    # Over the entire training set, we iterate 5 times \r\n",
        "                  # Thus per epoch, there will be (X_train.shape[0]/batch_size) batches\r\n",
        "# 2.3\r\n",
        "kernel_size = 3   # we will use 3x3 kernels throughout\r\n",
        "# 2.4\r\n",
        "pool_size = 2     # we will use 2x2 pooling throughout\r\n",
        "# 2.5\r\n",
        "conv_depth_1 = 32 # we will initially have 32 filters per conv. layer...\r\n",
        "                  # Remember each filter extracts some structure from image data\r\n",
        "# 2.6\r\n",
        "conv_depth_2 = 64 # ...switching to 64 filters  the first pooling layer\r\n",
        "# 2.7\r\n",
        "drop_prob_1 = 0.25 # dropout after pooling with probability 0.25\r\n",
        "# 2.8\r\n",
        "drop_prob_2 = 0.5  # dropout in the FC layer with probability 0.5\r\n",
        "# 2.9\r\n",
        "hidden_size = 512  # the FC layer will have 512 neurons\r\n"
      ],
      "execution_count": 9,
      "outputs": []
    },
    {
      "cell_type": "code",
      "metadata": {
        "colab": {
          "base_uri": "https://localhost:8080/",
          "height": 91
        },
        "id": "Wq7On7taJnoo",
        "outputId": "f9794a03-137b-487b-f7de-153f231ed345"
      },
      "source": [
        "#%%                     C. Fetch cifar10 images & transform\r\n",
        "\"\"\"\r\n",
        "About CIFAR-10 images\r\n",
        "Ref: https://en.wikipedia.org/wiki/CIFAR-10\r\n",
        "The CIFAR-10 dataset (Canadian Institute For Advanced Research) is a\r\n",
        "collection of images that are commonly used to train machine learning\r\n",
        "and computer vision algorithms. It is one of the most widely used datasets\r\n",
        "for machine learning research. The CIFAR-10 dataset contains 60,000 32x32\r\n",
        "color images in 10 different classes. The 10 different classes represent\r\n",
        "airplanes, cars, birds, cats, deer, dogs, frogs, horses, ships, and trucks.\r\n",
        "There are 6,000 images of each class. (Alex Krizhevsky)\r\n",
        "\"\"\"\r\n"
      ],
      "execution_count": 10,
      "outputs": [
        {
          "output_type": "execute_result",
          "data": {
            "application/vnd.google.colaboratory.intrinsic+json": {
              "type": "string"
            },
            "text/plain": [
              "'\\nAbout CIFAR-10 images\\nRef: https://en.wikipedia.org/wiki/CIFAR-10\\nThe CIFAR-10 dataset (Canadian Institute For Advanced Research) is a\\ncollection of images that are commonly used to train machine learning\\nand computer vision algorithms. It is one of the most widely used datasets\\nfor machine learning research. The CIFAR-10 dataset contains 60,000 32x32\\ncolor images in 10 different classes. The 10 different classes represent\\nairplanes, cars, birds, cats, deer, dogs, frogs, horses, ships, and trucks.\\nThere are 6,000 images of each class. (Alex Krizhevsky)\\n'"
            ]
          },
          "metadata": {
            "tags": []
          },
          "execution_count": 10
        }
      ]
    },
    {
      "cell_type": "code",
      "metadata": {
        "colab": {
          "base_uri": "https://localhost:8080/"
        },
        "id": "4ml0KVAQJ_OV",
        "outputId": "71397d19-a36c-4d06-9e9c-c01e5e1957b2"
      },
      "source": [
        "#  3. Download, unzip and divide into training/test data cifar10 images\r\n",
        "#      By default download occurs at C:\\Users\\ashokharnal\\.keras\\datasets\\\r\n",
        "#      Or at /home/ashok/.keras/datasets ;  Downloaded file: cifar-10-batches-py.tar.gz.\r\n",
        "#       Expanded in folder: cifar-10-batches-py\r\n",
        "(X_train, y_train), (X_test, y_test) = cifar10.load_data()\r\n",
        "X_train.shape              # (50000, 32, 32, 3):50000 images, 32 X 32 pixels, 3-channels\r\n",
        "y_train.shape              # (50000, 1)"
      ],
      "execution_count": 11,
      "outputs": [
        {
          "output_type": "stream",
          "text": [
            "Downloading data from https://www.cs.toronto.edu/~kriz/cifar-10-python.tar.gz\n",
            "170500096/170498071 [==============================] - 11s 0us/step\n"
          ],
          "name": "stdout"
        },
        {
          "output_type": "execute_result",
          "data": {
            "text/plain": [
              "(50000, 32, 32, 3)"
            ]
          },
          "metadata": {
            "tags": []
          },
          "execution_count": 11
        },
        {
          "output_type": "execute_result",
          "data": {
            "text/plain": [
              "(50000, 1)"
            ]
          },
          "metadata": {
            "tags": []
          },
          "execution_count": 11
        }
      ]
    },
    {
      "cell_type": "code",
      "metadata": {
        "colab": {
          "base_uri": "https://localhost:8080/"
        },
        "id": "eZRNI69dKF3t",
        "outputId": "9288f6fc-6a49-4b56-b38b-91b84b558657"
      },
      "source": [
        "# 3.1 Have a look at the data\r\n",
        "X_train[0,:3, :3,0]  # Pixel intensity values in the  \r\n",
        "                     #  slice of 3X3 from Ist image\r\n",
        "                     #   and Ist channel         \r\n",
        "y_train[:10,:]\r\n"
      ],
      "execution_count": 12,
      "outputs": [
        {
          "output_type": "execute_result",
          "data": {
            "text/plain": [
              "array([[59, 43, 50],\n",
              "       [16,  0, 18],\n",
              "       [25, 16, 49]], dtype=uint8)"
            ]
          },
          "metadata": {
            "tags": []
          },
          "execution_count": 12
        },
        {
          "output_type": "execute_result",
          "data": {
            "text/plain": [
              "array([[6],\n",
              "       [9],\n",
              "       [9],\n",
              "       [4],\n",
              "       [1],\n",
              "       [1],\n",
              "       [2],\n",
              "       [7],\n",
              "       [8],\n",
              "       [3]], dtype=uint8)"
            ]
          },
          "metadata": {
            "tags": []
          },
          "execution_count": 12
        }
      ]
    },
    {
      "cell_type": "code",
      "metadata": {
        "colab": {
          "base_uri": "https://localhost:8080/"
        },
        "id": "iznx8EXRawtQ",
        "outputId": "95876fe3-85bd-4698-d859-dc4d8214be8f"
      },
      "source": [
        "# 3.2 Let us check min and max values\r\n",
        "#     of pixel intensities\r\n",
        "print(X_train.min())      # 0\r\n",
        "print(X_train.max())      # 255"
      ],
      "execution_count": 16,
      "outputs": [
        {
          "output_type": "stream",
          "text": [
            "0\n",
            "255\n"
          ],
          "name": "stdout"
        }
      ]
    },
    {
      "cell_type": "code",
      "metadata": {
        "id": "0zqmkT8bKSMY"
      },
      "source": [
        "# 4. There are 50000 training examples in CIFAR-10\r\n",
        "num_train, height, width, depth = X_train.shape"
      ],
      "execution_count": 17,
      "outputs": []
    },
    {
      "cell_type": "code",
      "metadata": {
        "colab": {
          "base_uri": "https://localhost:8080/"
        },
        "id": "VR_bj5QcKXV7",
        "outputId": "d79e0d55-0272-4b3e-d7f2-ed5095a8bf57"
      },
      "source": [
        "# 4.1 There are 10000 test examples in CIFAR-10\r\n",
        "num_test = X_test.shape\r\n",
        "print(num_test)"
      ],
      "execution_count": 25,
      "outputs": [
        {
          "output_type": "stream",
          "text": [
            "(10000, 32, 32, 3)\n"
          ],
          "name": "stdout"
        },
        {
          "output_type": "execute_result",
          "data": {
            "text/plain": [
              "array([0, 1, 2, 3, 4, 5, 6, 7, 8, 9], dtype=uint8)"
            ]
          },
          "metadata": {
            "tags": []
          },
          "execution_count": 25
        }
      ]
    },
    {
      "cell_type": "code",
      "metadata": {
        "id": "MJYt5RVWKuw2"
      },
      "source": [
        "# 4.2.1 Class names are in alphabetical sequence\r\n",
        "\r\n",
        "class_names = [\"airplane\",\"automobile\",\"bird\",\"cat\",\"deer\",\"dog\",\"frog\",\"horse\",\"ship\",\"truck\"]\r\n"
      ],
      "execution_count": 29,
      "outputs": []
    },
    {
      "cell_type": "code",
      "metadata": {
        "colab": {
          "base_uri": "https://localhost:8080/"
        },
        "id": "nui6UWuzK6aG",
        "outputId": "3a62214b-6f70-4af5-db8a-81f40a3bc379"
      },
      "source": [
        "\r\n",
        "# 4.2.2 There are 10 image classes\r\n",
        "num_classes = np.unique(y_train).shape[0]\r\n",
        "num_classes\r\n",
        "class_names = [\"airplane\",\"automobile\",\"bird\",\r\n",
        "               \"cat\",\"deer\",\"dog\",\"frog\",\"horse\",\r\n",
        "               \"ship\",\"truck\"]\r\n",
        "\r\n"
      ],
      "execution_count": 31,
      "outputs": [
        {
          "output_type": "execute_result",
          "data": {
            "text/plain": [
              "10"
            ]
          },
          "metadata": {
            "tags": []
          },
          "execution_count": 31
        }
      ]
    },
    {
      "cell_type": "code",
      "metadata": {
        "colab": {
          "base_uri": "https://localhost:8080/"
        },
        "id": "Ot69WJIfLA7U",
        "outputId": "2d5e6900-1740-48cb-c13d-8a0abc425df3"
      },
      "source": [
        "# 5. See one image\r\n",
        "i = 1\r\n",
        "im1 = X_train[i]    # Get the ith image array\r\n",
        "\r\n",
        "# 5.1 To which class does it belong\r\n",
        "y_train[i]\r\n",
        "k = class_names[y_train[i][0]]           # Get 0th element of y_train[1]\r\n",
        "print(k)"
      ],
      "execution_count": 38,
      "outputs": [
        {
          "output_type": "execute_result",
          "data": {
            "text/plain": [
              "array([9], dtype=uint8)"
            ]
          },
          "metadata": {
            "tags": []
          },
          "execution_count": 38
        },
        {
          "output_type": "stream",
          "text": [
            "truck\n"
          ],
          "name": "stdout"
        }
      ]
    },
    {
      "cell_type": "code",
      "metadata": {
        "colab": {
          "base_uri": "https://localhost:8080/",
          "height": 177
        },
        "id": "tOVtmh1gLiO9",
        "outputId": "ad45eb0b-cdab-48b9-86e3-4106b1a7578b"
      },
      "source": [
        "# 5.2 Plot the image\r\n",
        "fig = plt.figure(figsize=(4,2))\r\n",
        "plt.imshow(im1)                         # imshow() is a matplotlib method\r\n",
        "plt.show()\r\n"
      ],
      "execution_count": 39,
      "outputs": [
        {
          "output_type": "execute_result",
          "data": {
            "text/plain": [
              "<matplotlib.image.AxesImage at 0x7fb1c58af550>"
            ]
          },
          "metadata": {
            "tags": []
          },
          "execution_count": 39
        },
        {
          "output_type": "display_data",
          "data": {
            "image/png": "[encoded data removed]",
            "text/plain": [
              "<Figure size 288x144 with 1 Axes>"
            ]
          },
          "metadata": {
            "tags": [],
            "needs_background": "light"
          }
        }
      ]
    },
    {
      "cell_type": "code",
      "metadata": {
        "id": "xLQIvgWwLla_"
      },
      "source": [
        "# 5.3 Change array types and normalise\r\n",
        "X_train = X_train.astype('float32')\r\n",
        "X_test = X_test.astype('float32')\r\n",
        "X_train /= np.max(X_train)              # Normalise data to [0, 1] range\r\n",
        "X_test /= np.max(X_test)                # It is a global rather than column-wise (axis =0)\r\n",
        "                                        # normalization\r\n"
      ],
      "execution_count": 40,
      "outputs": []
    },
    {
      "cell_type": "code",
      "metadata": {
        "colab": {
          "base_uri": "https://localhost:8080/"
        },
        "id": "RXSCUiusLqkl",
        "outputId": "9a2a1f5e-a6da-4afb-ac0d-baea8fc3772f"
      },
      "source": [
        "# 5.4 This is columnwise normalization\r\n",
        "a = np.array([[2,3,4], [50,100,200]])\r\n",
        "a = a/np.max(a, axis = 0)\r\n",
        "a"
      ],
      "execution_count": 42,
      "outputs": [
        {
          "output_type": "execute_result",
          "data": {
            "text/plain": [
              "array([[0.04, 0.03, 0.02],\n",
              "       [1.  , 1.  , 1.  ]])"
            ]
          },
          "metadata": {
            "tags": []
          },
          "execution_count": 42
        }
      ]
    },
    {
      "cell_type": "code",
      "metadata": {
        "colab": {
          "base_uri": "https://localhost:8080/"
        },
        "id": "eZItQiYWLvcM",
        "outputId": "04bc22a8-a920-46cf-aed4-bee700b4a066"
      },
      "source": [
        "# 6. One-hot encode the labels\r\n",
        "#     Using tf.keras.utils.to_categorical()\r\n",
        "\r\n",
        "a = tf.keras.utils.to_categorical([0, 1, 2, 3], num_classes=4)\r\n",
        "print(a)\r\n",
        "print(type(a))\r\n",
        "\r\n",
        "# 6.1 Convert a to a constant tensor\r\n",
        "a = tf.constant(a, shape=[4, 4])\r\n",
        "print(a)\r\n",
        "a[0,0]\r\n",
        "# a[0,0] = 2   # Error"
      ],
      "execution_count": 49,
      "outputs": [
        {
          "output_type": "stream",
          "text": [
            "[[1. 0. 0. 0.]\n",
            " [0. 1. 0. 0.]\n",
            " [0. 0. 1. 0.]\n",
            " [0. 0. 0. 1.]]\n",
            "<class 'numpy.ndarray'>\n",
            "tf.Tensor(\n",
            "[[1. 0. 0. 0.]\n",
            " [0. 1. 0. 0.]\n",
            " [0. 0. 1. 0.]\n",
            " [0. 0. 0. 1.]], shape=(4, 4), dtype=float32)\n"
          ],
          "name": "stdout"
        },
        {
          "output_type": "execute_result",
          "data": {
            "text/plain": [
              "<tf.Tensor: shape=(), dtype=float32, numpy=1.0>"
            ]
          },
          "metadata": {
            "tags": []
          },
          "execution_count": 49
        }
      ]
    },
    {
      "cell_type": "code",
      "metadata": {
        "colab": {
          "base_uri": "https://localhost:8080/"
        },
        "id": "RcGZ1x7iiijZ",
        "outputId": "f3deb478-ed2d-4e6e-9d03-10df919bb90e"
      },
      "source": [
        "# 6.2 Create another constant\r\n",
        "b = tf.constant([.9, .04, .03, .03,\r\n",
        "                 .3, .45, .15, .13,\r\n",
        "                 .04, .01, .94, .05,\r\n",
        "                 .12, .21, .5, .17],\r\n",
        "                shape=[4, 4])\r\n",
        "# 6.3 Measure extent of categorical_crossentropy loss\r\n",
        "loss = tf.keras.backend.categorical_crossentropy(a, b)\r\n",
        "print(loss)                # It is a tensor\r\n",
        "print(np.around(loss, 5))"
      ],
      "execution_count": 50,
      "outputs": [
        {
          "output_type": "stream",
          "text": [
            "tf.Tensor([0.10536048 0.8280665  0.10109606 1.7719568 ], shape=(4,), dtype=float32)\n",
            "[0.10536 0.82807 0.1011  1.77196]\n"
          ],
          "name": "stdout"
        }
      ]
    },
    {
      "cell_type": "code",
      "metadata": {
        "colab": {
          "base_uri": "https://localhost:8080/"
        },
        "id": "WcCDxSQEiTpQ",
        "outputId": "782d2d9c-6c19-4429-cc90-3b3f9a9fae64"
      },
      "source": [
        "# 6.4\r\n",
        "Y_train = np_utils.to_categorical(y_train, num_classes)\r\n",
        "Y_train[2:5, :]\r\n",
        "y_train[2:5]\r\n",
        "Y_test = np_utils.to_categorical(y_test, num_classes)"
      ],
      "execution_count": 53,
      "outputs": [
        {
          "output_type": "execute_result",
          "data": {
            "text/plain": [
              "array([[0., 0., 0., 0., 0., 0., 0., 0., 0., 1.],\n",
              "       [0., 0., 0., 0., 1., 0., 0., 0., 0., 0.],\n",
              "       [0., 1., 0., 0., 0., 0., 0., 0., 0., 0.]], dtype=float32)"
            ]
          },
          "metadata": {
            "tags": []
          },
          "execution_count": 53
        },
        {
          "output_type": "execute_result",
          "data": {
            "text/plain": [
              "array([[9],\n",
              "       [4],\n",
              "       [1]], dtype=uint8)"
            ]
          },
          "metadata": {
            "tags": []
          },
          "execution_count": 53
        }
      ]
    },
    {
      "cell_type": "code",
      "metadata": {
        "id": "TLhxGSNxL7fN"
      },
      "source": [
        "#%%                               D. Model building\r\n",
        "\r\n",
        "# 7. Conv [32] -> Conv [32] -> Pool (with dropout on the pooling layer)\r\n",
        "#    Same padding means the size of output feature-maps are the same as\r\n",
        "#    the input feature-maps (under the assumption of stride=1)\r\n",
        "#    padding= \"SAME\" tries to pad evenly left and right, but if the amount\r\n",
        "#    of columns to be added is odd, it will add the extra column to the right\r\n",
        "# 7.1\r\n",
        "# See keras layers: https://keras.io/layers/about-keras-layers/\r\n",
        "model = Sequential()\r\n",
        "model.add(Input(shape = (height,width,depth)))\r\n",
        "model.add(\r\n",
        "          Convolution2D(conv_depth_2,                            # 32 filters\r\n",
        "                        kernel_size,               # 3 X 3\r\n",
        "                        padding='same',                           # Do zero padding\r\n",
        "                        activation='relu'\r\n",
        "                       )\r\n",
        "           )\r\n"
      ],
      "execution_count": 56,
      "outputs": []
    },
    {
      "cell_type": "code",
      "metadata": {
        "id": "1gCeq0irMVfT"
      },
      "source": [
        "#7.1.1\r\n",
        "model.add(Convolution2D(conv_depth_1,\r\n",
        "                       (kernel_size, kernel_size),\r\n",
        "                        padding='valid',\r\n",
        "                        activation='relu')\r\n",
        "                        )\r\n"
      ],
      "execution_count": 57,
      "outputs": []
    },
    {
      "cell_type": "code",
      "metadata": {
        "id": "GTtGSqCdMaGo"
      },
      "source": [
        "# 7.1.2\r\n",
        "model.add(MaxPooling2D(\r\n",
        "\t                   pool_size=(pool_size, pool_size))         # 2 X 2\r\n",
        "                      )\r\n"
      ],
      "execution_count": 58,
      "outputs": []
    },
    {
      "cell_type": "code",
      "metadata": {
        "id": "Tw-Rwy7WMd5O"
      },
      "source": [
        "# 7.1.3\r\n",
        "# https://keras.io/layers/core/#dropout\r\n",
        "model.add(Dropout(\r\n",
        "\t                 drop_prob_1                                    # 0.25\r\n",
        "\t               )\r\n",
        "          )"
      ],
      "execution_count": 59,
      "outputs": []
    },
    {
      "cell_type": "code",
      "metadata": {
        "id": "yagTYsnIMj7L"
      },
      "source": [
        "# 7.2 Now flatten to 1D, apply FC -> ReLU (with dropout) -> softmax\r\n",
        "#     Fully connected layer\r\n",
        "#    https://keras.io/layers/core/#flatten\r\n",
        "model.add(Flatten())\r\n"
      ],
      "execution_count": 60,
      "outputs": []
    },
    {
      "cell_type": "code",
      "metadata": {
        "colab": {
          "base_uri": "https://localhost:8080/",
          "height": 72
        },
        "id": "Axat7vDKMnmT",
        "outputId": "17bbb4f7-4cca-4c3c-e176-f2ff0e7cfb85"
      },
      "source": [
        "# 7.2.1 Output of this dense layer: Ist hidden layer\r\n",
        "#       https://keras.io/layers/core/#dense\r\n",
        "\"\"\"\r\n",
        "Dense implements the operation:\r\n",
        "   output = activation(dot(input, kernel) + bias)\r\n",
        "   where activation is the element-wise activation function\r\n",
        "   passed as the activation argument, kernel is a weights matrix\r\n",
        "   created by the layer, and bias is a bias vector created by the\r\n",
        "   layer (only applicable if use_bias is True).\r\n",
        "   Size of output has to be specified\r\n",
        "\"\"\"\r\n"
      ],
      "execution_count": 39,
      "outputs": [
        {
          "output_type": "execute_result",
          "data": {
            "application/vnd.google.colaboratory.intrinsic+json": {
              "type": "string"
            },
            "text/plain": [
              "'\\nDense implements the operation:\\n   output = activation(dot(input, kernel) + bias)\\n   where activation is the element-wise activation function\\n   passed as the activation argument, kernel is a weights matrix\\n   created by the layer, and bias is a bias vector created by the\\n   layer (only applicable if use_bias is True).\\n   Size of output has to be specified\\n'"
            ]
          },
          "metadata": {
            "tags": []
          },
          "execution_count": 39
        }
      ]
    },
    {
      "cell_type": "code",
      "metadata": {
        "id": "mV3PA7ibM04k"
      },
      "source": [
        "# 7.2.2\r\n",
        "model.add(Dense(hidden_size, activation='relu'))   # output size = hidden_size\r\n",
        "\r\n",
        "model.add(\r\n",
        "           Dropout\r\n",
        "\t             (\r\n",
        "\t             drop_prob_2                                      # 0.5\r\n",
        "\t             )\r\n",
        "\t       )\r\n"
      ],
      "execution_count": 61,
      "outputs": []
    },
    {
      "cell_type": "code",
      "metadata": {
        "colab": {
          "base_uri": "https://localhost:8080/",
          "height": 72
        },
        "id": "o2AfGWOaNN0_",
        "outputId": "c848e83f-bc21-4a11-d232-50eed7a85ecd"
      },
      "source": [
        "# 7.2.3 Final output layer; softmax\r\n",
        "#       About softmax: https://en.wikipedia.org/wiki/Softmax_function\r\n",
        "#       exp(xi)/Sigma(exp(xk))\r\n",
        "\"\"\"\r\n",
        "Softmax\r\n",
        "    If we take an input of [1, 2, 3, 4, 1, 2, 3], the softmax of that\r\n",
        "    is [0.024, 0.064, 0.175, 0.475, 0.024, 0.064, 0.175]. The output\r\n",
        "    has most of its weight where the '4' was in the original input.\r\n",
        "    This is what the function is normally used for: to highlight the\r\n",
        "    largest values and suppress values which are significantly below\r\n",
        "    the maximum value.\r\n",
        "    See calculations at the end of his code.\r\n",
        "\"\"\"\r\n"
      ],
      "execution_count": 41,
      "outputs": [
        {
          "output_type": "execute_result",
          "data": {
            "application/vnd.google.colaboratory.intrinsic+json": {
              "type": "string"
            },
            "text/plain": [
              "\"\\nSoftmax\\n    If we take an input of [1, 2, 3, 4, 1, 2, 3], the softmax of that\\n    is [0.024, 0.064, 0.175, 0.475, 0.024, 0.064, 0.175]. The output\\n    has most of its weight where the '4' was in the original input.\\n    This is what the function is normally used for: to highlight the\\n    largest values and suppress values which are significantly below\\n    the maximum value.\\n    See calculations at the end of his code.\\n\""
            ]
          },
          "metadata": {
            "tags": []
          },
          "execution_count": 41
        }
      ]
    },
    {
      "cell_type": "code",
      "metadata": {
        "id": "tFaUalsONW2o"
      },
      "source": [
        "# 7.2.4\r\n",
        "model.add(\r\n",
        "             Dense(num_classes,activation='softmax')\r\n",
        "         )\r\n"
      ],
      "execution_count": 62,
      "outputs": []
    },
    {
      "cell_type": "code",
      "metadata": {
        "id": "ZWrBVbwSNaQq"
      },
      "source": [
        "# 7.3 Compile model and add necesary parameters\r\n",
        "#     Cross entropy: http://203.122.28.230/moodle/mod/url/view.php?id=1409\r\n",
        "#\r\n",
        "model.compile(\r\n",
        "              loss='categorical_crossentropy',            # using the cross-entropy loss function\r\n",
        "              optimizer='adam',                           # using the Adam optimiser\r\n",
        "                                                          # Ref: https://keras.io/optimizers/\r\n",
        "                                                          # keras.optimizers.Adam(lr=0.001, beta_1=0.9, beta_2=0.999, epsilon=None, decay=0.0, amsgrad=False)\r\n",
        "              metrics=['accuracy'])                       # reporting the accuracy\r\n"
      ],
      "execution_count": 63,
      "outputs": []
    },
    {
      "cell_type": "code",
      "metadata": {
        "colab": {
          "base_uri": "https://localhost:8080/"
        },
        "id": "56xxdp9sNfX8",
        "outputId": "1afed961-6c7a-42be-fde3-f02fcfcb7e90"
      },
      "source": [
        "\r\n",
        "#%%                              E. Model training and evaluation\r\n",
        "# 8. ...holding out 10% of the data for validation. 26 minutes\r\n",
        "#       To save time consider just 20000 samples for training\r\n",
        "#       10% of these, ie 2000 are for validation\r\n",
        "\r\n",
        "# 8.1\r\n",
        "X_train.shape\r\n",
        "Y_train.shape\r\n"
      ],
      "execution_count": 64,
      "outputs": [
        {
          "output_type": "execute_result",
          "data": {
            "text/plain": [
              "(50000, 32, 32, 3)"
            ]
          },
          "metadata": {
            "tags": []
          },
          "execution_count": 64
        },
        {
          "output_type": "execute_result",
          "data": {
            "text/plain": [
              "(50000, 10)"
            ]
          },
          "metadata": {
            "tags": []
          },
          "execution_count": 64
        }
      ]
    },
    {
      "cell_type": "code",
      "metadata": {
        "colab": {
          "base_uri": "https://localhost:8080/"
        },
        "id": "B2Foh8ZtNloJ",
        "outputId": "f8a17679-abd7-4421-fbbd-8695cd768bed"
      },
      "source": [
        "# 8.2  Takes 20 minutes\r\n",
        "#      Specify fit/train hyperparameters\r\n",
        "# Validation_split: Fraction of the training data to be used\r\n",
        "#                   as validation data. The model will set apart\r\n",
        "#                   this fraction of the training data, will not\r\n",
        "#                   train on it, and will evaluate the loss and\r\n",
        "#                   any model metrics on this data at the end of \r\n",
        "#                   each epoch.\r\n",
        "\r\n",
        "start = time.time()\r\n",
        "history = model.fit(X_train[:25000],       # Train model using limited training data\r\n",
        "                    Y_train[:25000],\r\n",
        "                    batch_size=batch_size, # Total batches: (25000 - 2500)/16 = 1407\r\n",
        "                    epochs=num_epochs,\r\n",
        "                    verbose=1,\r\n",
        "                    validation_split=0.1   # 2500\r\n",
        "                    )\r\n",
        "end = time.time()\r\n",
        "print ((end - start)/60)\r\n"
      ],
      "execution_count": 65,
      "outputs": [
        {
          "output_type": "stream",
          "text": [
            "Epoch 1/5\n",
            "1407/1407 [==============================] - 145s 102ms/step - loss: 1.8054 - accuracy: 0.3382 - val_loss: 1.2531 - val_accuracy: 0.5536\n",
            "Epoch 2/5\n",
            "1407/1407 [==============================] - 144s 102ms/step - loss: 1.2930 - accuracy: 0.5411 - val_loss: 1.1246 - val_accuracy: 0.5976\n",
            "Epoch 3/5\n",
            "1407/1407 [==============================] - 144s 102ms/step - loss: 1.1118 - accuracy: 0.6081 - val_loss: 1.0625 - val_accuracy: 0.6284\n",
            "Epoch 4/5\n",
            "1407/1407 [==============================] - 145s 103ms/step - loss: 0.9642 - accuracy: 0.6567 - val_loss: 1.0678 - val_accuracy: 0.6256\n",
            "Epoch 5/5\n",
            "1407/1407 [==============================] - 144s 102ms/step - loss: 0.8418 - accuracy: 0.7018 - val_loss: 0.9797 - val_accuracy: 0.6588\n",
            "12.047547864913941\n"
          ],
          "name": "stdout"
        }
      ]
    },
    {
      "cell_type": "code",
      "metadata": {
        "colab": {
          "base_uri": "https://localhost:8080/"
        },
        "id": "fryhojjmUfLt",
        "outputId": "4ac2f372-4285-4f5a-b807-ce87b40db2bb"
      },
      "source": [
        "# 8.3 Certain parameters are associated\r\n",
        "#     with 'history' object\r\n",
        "history.epoch\r\n",
        "history.params"
      ],
      "execution_count": 66,
      "outputs": [
        {
          "output_type": "execute_result",
          "data": {
            "text/plain": [
              "[0, 1, 2, 3, 4]"
            ]
          },
          "metadata": {
            "tags": []
          },
          "execution_count": 66
        },
        {
          "output_type": "execute_result",
          "data": {
            "text/plain": [
              "{'epochs': 5, 'steps': 1407, 'verbose': 1}"
            ]
          },
          "metadata": {
            "tags": []
          },
          "execution_count": 66
        }
      ]
    },
    {
      "cell_type": "code",
      "metadata": {
        "colab": {
          "base_uri": "https://localhost:8080/",
          "height": 281
        },
        "id": "Z3RbAYyGU7DN",
        "outputId": "c477f106-16ee-4250-82cf-d31e6f1285b0"
      },
      "source": [
        "\r\n",
        "# 8.4 How accuracy changes as epochs increase\r\n",
        "#     We will use this function again and again\r\n",
        "#     in subsequent examples\r\n",
        "\r\n",
        "def plot_history():\r\n",
        "    val_acc = history.history['val_accuracy']\r\n",
        "    tr_acc=history.history['accuracy']\r\n",
        "    epochs = range(1, len(val_acc) +1)\r\n",
        "    plt.plot(epochs,val_acc, 'b', label = \"Validation accu\")\r\n",
        "    plt.plot(epochs, tr_acc, 'r', label = \"Training accu\")\r\n",
        "    plt.title(\"Training and validation accuracy\")\r\n",
        "    plt.legend()\r\n",
        "    plt.show()\r\n",
        "\r\n",
        "plot_history()"
      ],
      "execution_count": 121,
      "outputs": [
        {
          "output_type": "display_data",
          "data": {
            "image/png": "[encoded data removed]",
            "text/plain": [
              "<Figure size 432x288 with 1 Axes>"
            ]
          },
          "metadata": {
            "tags": [],
            "needs_background": "light"
          }
        }
      ]
    },
    {
      "cell_type": "code",
      "metadata": {
        "colab": {
          "base_uri": "https://localhost:8080/"
        },
        "id": "uwPg0ZHQf0cR",
        "outputId": "d432d697-61fb-4f51-a146-500819296bee"
      },
      "source": [
        "\"\"\r\n",
        "# 9. Evaluate the trained model on the test set!\r\n",
        "#    Returns the loss value & metrics values for\r\n",
        "#    the model in test mode.\r\n",
        "model.evaluate(X_test, Y_test, verbose=1)      # Accuracy is just 10%\r\n"
      ],
      "execution_count": 68,
      "outputs": [
        {
          "output_type": "stream",
          "text": [
            "313/313 [==============================] - 12s 38ms/step - loss: 1.0125 - accuracy: 0.6445\n"
          ],
          "name": "stdout"
        },
        {
          "output_type": "execute_result",
          "data": {
            "text/plain": [
              "[1.0125203132629395, 0.6445000171661377]"
            ]
          },
          "metadata": {
            "tags": []
          },
          "execution_count": 68
        }
      ]
    },
    {
      "cell_type": "code",
      "metadata": {
        "colab": {
          "base_uri": "https://localhost:8080/"
        },
        "id": "TbbkV6Usf5qk",
        "outputId": "4f094a6a-442e-4f79-d86b-60fdabd1ce01"
      },
      "source": [
        "\r\n",
        "# 10.0 Make predictions\r\n",
        "#      Generates output predictions for the input samples.\r\n",
        "y_pred = model.predict(X_test)\r\n",
        "y_pred[0]"
      ],
      "execution_count": 76,
      "outputs": [
        {
          "output_type": "execute_result",
          "data": {
            "text/plain": [
              "(10000, 10)"
            ]
          },
          "metadata": {
            "tags": []
          },
          "execution_count": 76
        }
      ]
    },
    {
      "cell_type": "code",
      "metadata": {
        "colab": {
          "base_uri": "https://localhost:8080/"
        },
        "id": "TMtX-VCe2LBU",
        "outputId": "1f216405-db0f-42d4-fe3d-566aa61169dc"
      },
      "source": [
        "# 10.1 Prob to integer\r\n",
        "ypred = np.argmax(y_pred, axis = 1)\r\n",
        "print(ypred)\r\n",
        "print(\"---\")\r\n",
        "y_test[:4]"
      ],
      "execution_count": 107,
      "outputs": [
        {
          "output_type": "stream",
          "text": [
            "[6 8 8 ... 2 4 7]\n",
            "---\n"
          ],
          "name": "stdout"
        },
        {
          "output_type": "execute_result",
          "data": {
            "text/plain": [
              "array([[3],\n",
              "       [8],\n",
              "       [8],\n",
              "       [0]], dtype=uint8)"
            ]
          },
          "metadata": {
            "tags": []
          },
          "execution_count": 107
        }
      ]
    },
    {
      "cell_type": "code",
      "metadata": {
        "colab": {
          "base_uri": "https://localhost:8080/"
        },
        "id": "pXSks9A001jS",
        "outputId": "7a37e42a-fd1b-40a5-d8ac-1c93c415528b"
      },
      "source": [
        "# 10.2 Accuracy\r\n",
        "np.sum(ypred == y_test.flatten())/10000"
      ],
      "execution_count": 104,
      "outputs": [
        {
          "output_type": "execute_result",
          "data": {
            "text/plain": [
              "0.6445"
            ]
          },
          "metadata": {
            "tags": []
          },
          "execution_count": 104
        }
      ]
    },
    {
      "cell_type": "code",
      "metadata": {
        "colab": {
          "base_uri": "https://localhost:8080/"
        },
        "id": "C7AofI5ygEdk",
        "outputId": "e5ea5ad7-bde2-446b-f2c5-8520364f1541"
      },
      "source": [
        "\r\n",
        "# 10.3 How does the model look like?\r\n",
        "model.summary()"
      ],
      "execution_count": 108,
      "outputs": [
        {
          "output_type": "stream",
          "text": [
            "Model: \"sequential_1\"\n",
            "_________________________________________________________________\n",
            "Layer (type)                 Output Shape              Param #   \n",
            "=================================================================\n",
            "conv2d (Conv2D)              (None, 32, 32, 64)        1792      \n",
            "_________________________________________________________________\n",
            "conv2d_1 (Conv2D)            (None, 30, 30, 32)        18464     \n",
            "_________________________________________________________________\n",
            "max_pooling2d (MaxPooling2D) (None, 15, 15, 32)        0         \n",
            "_________________________________________________________________\n",
            "dropout (Dropout)            (None, 15, 15, 32)        0         \n",
            "_________________________________________________________________\n",
            "flatten (Flatten)            (None, 7200)              0         \n",
            "_________________________________________________________________\n",
            "dense (Dense)                (None, 512)               3686912   \n",
            "_________________________________________________________________\n",
            "dropout_1 (Dropout)          (None, 512)               0         \n",
            "_________________________________________________________________\n",
            "dense_1 (Dense)              (None, 10)                5130      \n",
            "=================================================================\n",
            "Total params: 3,712,298\n",
            "Trainable params: 3,712,298\n",
            "Non-trainable params: 0\n",
            "_________________________________________________________________\n"
          ],
          "name": "stdout"
        }
      ]
    },
    {
      "cell_type": "code",
      "metadata": {
        "colab": {
          "base_uri": "https://localhost:8080/",
          "height": 856
        },
        "id": "v0qPRzO7-wu1",
        "outputId": "88a719ce-4f9d-4457-f08f-0bc5f1768514"
      },
      "source": [
        "# 10.4 Here is a plot of the model\r\n",
        "plot_model(model)"
      ],
      "execution_count": 116,
      "outputs": [
        {
          "output_type": "execute_result",
          "data": {
            "image/png": "[encoded data removed]",
            "text/plain": [
              "<IPython.core.display.Image object>"
            ]
          },
          "metadata": {
            "tags": []
          },
          "execution_count": 116
        }
      ]
    },
    {
      "cell_type": "code",
      "metadata": {
        "colab": {
          "base_uri": "https://localhost:8080/",
          "height": 504
        },
        "id": "N5zYvlZLgIOy",
        "outputId": "73c11ae2-e6e2-498d-a894-a47a18b6b882"
      },
      "source": [
        "###################### END##\r\n",
        "# 11. Softmax calulations\r\n",
        "import math\r\n",
        "z = [1.0, 2.0, 3.0, 4.0, 1.0, 2.0, 3.0]\r\n",
        "z_exp = [math.exp(i) for i in z]\r\n",
        "sum_z_exp = sum(z_exp)\r\n",
        "sum_z_exp\r\n",
        "softmax = [i / sum_z_exp for i in z_exp]\r\n",
        "softmax\r\n",
        "sum(softmax)\r\n",
        "\r\n",
        "# 11.1 Plot histogram\r\n",
        "fig,ax = plt.subplots(nrows=2,ncols =1)\r\n",
        "ax[0].hist(z)\r\n",
        "ax[1].hist(softmax)\r\n",
        "plt.show()\r\n",
        "############################"
      ],
      "execution_count": 114,
      "outputs": [
        {
          "output_type": "execute_result",
          "data": {
            "text/plain": [
              "114.98389973429897"
            ]
          },
          "metadata": {
            "tags": []
          },
          "execution_count": 114
        },
        {
          "output_type": "execute_result",
          "data": {
            "text/plain": [
              "[0.023640543021591385,\n",
              " 0.06426165851049616,\n",
              " 0.17468129859572226,\n",
              " 0.4748329997443803,\n",
              " 0.023640543021591385,\n",
              " 0.06426165851049616,\n",
              " 0.17468129859572226]"
            ]
          },
          "metadata": {
            "tags": []
          },
          "execution_count": 114
        },
        {
          "output_type": "execute_result",
          "data": {
            "text/plain": [
              "0.9999999999999999"
            ]
          },
          "metadata": {
            "tags": []
          },
          "execution_count": 114
        },
        {
          "output_type": "execute_result",
          "data": {
            "text/plain": [
              "(array([2., 0., 0., 2., 0., 0., 2., 0., 0., 1.]),\n",
              " array([1. , 1.3, 1.6, 1.9, 2.2, 2.5, 2.8, 3.1, 3.4, 3.7, 4. ]),\n",
              " <a list of 10 Patch objects>)"
            ]
          },
          "metadata": {
            "tags": []
          },
          "execution_count": 114
        },
        {
          "output_type": "execute_result",
          "data": {
            "text/plain": [
              "(array([4., 0., 0., 2., 0., 0., 0., 0., 0., 1.]),\n",
              " array([0.02364054, 0.06875979, 0.11387903, 0.15899828, 0.20411753,\n",
              "        0.24923677, 0.29435602, 0.33947526, 0.38459451, 0.42971375,\n",
              "        0.474833  ]),\n",
              " <a list of 10 Patch objects>)"
            ]
          },
          "metadata": {
            "tags": []
          },
          "execution_count": 114
        },
        {
          "output_type": "display_data",
          "data": {
            "image/png": "[encoded data removed]",
            "text/plain": [
              "<Figure size 432x288 with 2 Axes>"
            ]
          },
          "metadata": {
            "tags": [],
            "needs_background": "light"
          }
        }
      ]
    },
    {
      "cell_type": "code",
      "metadata": {
        "id": "cn_0QAMogL38"
      },
      "source": [
        ""
      ],
      "execution_count": null,
      "outputs": []
    }
  ]
}